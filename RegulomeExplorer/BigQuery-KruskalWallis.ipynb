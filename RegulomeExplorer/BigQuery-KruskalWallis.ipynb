{
 "cells": [
  {
   "cell_type": "markdown",
   "metadata": {},
   "source": [
    "# Regulome Explorer  Kruskal-Wallis test for numerical and categorical data\n",
    "CCheck out more notebooks at our ['Regulome Explorer Repository'](https://github.com/isb-cgc/Community-Notebooks/tree/master/RegulomeExplorer)!\n",
    "\n",
    "In this notebook we describe how Regulome Explorer uses Kruskal-Wallis test to compute the significance of associations between a numerical feature (Gene expression, Somatic copy number, etc.) and a categorical feature. Details of the Kruskal-Wallist test can be found in the following link: https://en.wikipedia.org/wiki/Kruskal%E2%80%93Wallis_one-way_analysis_of_variance \n",
    "\n",
    "To describe the implementation of the test using BigQuery, we will use Gene expresion data of a user defined gene and a user defined clinical feature. This data is read from a BigQuery table in the pancancer-atlas dataset."
   ]
  },
  {
   "cell_type": "markdown",
   "metadata": {},
   "source": [
    "## Authenticate with Google  (IMPORTANT)\n",
    "The first step is to authorize access to BigQuery and the Google Cloud. For more information see ['Quick Start Guide to ISB-CGC'](https://isb-cancer-genomics-cloud.readthedocs.io/en/latest/sections/HowToGetStartedonISB-CGC.html) and alternative authentication methods can be found [here](https://googleapis.github.io/google-cloud-python/latest/core/auth.html)."
   ]
  },
  {
   "cell_type": "markdown",
   "metadata": {},
   "source": [
    "#### Import Python libraries"
   ]
  },
  {
   "cell_type": "code",
   "execution_count": 1,
   "metadata": {
    "collapsed": true
   },
   "outputs": [],
   "source": [
    "%matplotlib inline\n",
    "from google.cloud import bigquery\n",
    "import numpy as np\n",
    "import pandas as pd\n",
    "from scipy import stats\n",
    "from scipy.stats import mstats\n",
    "import seaborn as sns\n",
    "import re_module.bq_functions as regulome"
   ]
  },
  {
   "cell_type": "markdown",
   "metadata": {},
   "source": [
    "## User defined Parameters\n",
    "The parameters for this experiment are the cancer type, the name of gene for which gene expression data will be obtained, and the clinical feature name. Categorical groups with number of samples smaller than 'MinSampleSize' will be ignored in the test.   "
   ]
  },
  {
   "cell_type": "code",
   "execution_count": 2,
   "metadata": {
    "collapsed": true
   },
   "outputs": [],
   "source": [
    "cancer_type = 'LGG'\n",
    "gene_name = 'IGF2'\n",
    "clinical_feature = 'icd_o_3_histology'\n",
    "MinSampleSize = 26\n",
    "\n",
    "bqclient = bigquery.Client()"
   ]
  },
  {
   "cell_type": "markdown",
   "metadata": {},
   "source": [
    "## Data from BigQuery tables"
   ]
  },
  {
   "cell_type": "markdown",
   "metadata": {},
   "source": [
    "**Gene expression data from the BigQuery:** The following query string retrieves the gene expression data of the user specified gene ('gene_name') from the 'Filtered.EBpp_AdjustPANCAN_IlluminaHiSeq_RNASeqV2_genExp_filtered' table available in pancancer-atlas dataset."
   ]
  },
  {
   "cell_type": "code",
   "execution_count": 3,
   "metadata": {
    "collapsed": true
   },
   "outputs": [],
   "source": [
    "query_table1 = \"\"\"table1 AS (\n",
    "SELECT  symbol, data, ParticipantBarcode\n",
    "FROM ( \n",
    "   SELECT \n",
    "         Symbol AS symbol, AVG( LOG10( normalized_count + 1 )) AS data, ParticipantBarcode\n",
    "   FROM  `pancancer-atlas.Filtered.EBpp_AdjustPANCAN_IlluminaHiSeq_RNASeqV2_genExp_filtered` \n",
    "   WHERE Study = '{0}' AND Symbol ='{1}' AND normalized_count IS NOT NULL\n",
    "   GROUP BY \n",
    "         ParticipantBarcode, symbol\n",
    "   )\n",
    ")\n",
    "\"\"\".format(cancer_type, gene_name )"
   ]
  },
  {
   "cell_type": "markdown",
   "metadata": {},
   "source": [
    "**Clinical data from the BigQuery:** The following string query will retrieve clinical data fromthe 'pancancer-atlas.Filtered.clinical_PANCAN_patient_with_followup_filtered' table available in pancancer-atlas dataset. It is worth noting that some of the values of the clinical feature may be 'indetermined' or 'not-evaluated'; typically these values are inside square brackets. The 'REGEXP_CONTAINS' command is used to avoid using those values in the test."
   ]
  },
  {
   "cell_type": "code",
   "execution_count": 4,
   "metadata": {
    "collapsed": true
   },
   "outputs": [],
   "source": [
    "query_table2 = \"\"\"table2 AS (\n",
    "SELECT\n",
    "   symbol,\n",
    "   avgdata AS data,\n",
    "   ParticipantBarcode\n",
    "FROM (\n",
    "   SELECT\n",
    "      '{0}' AS symbol, \n",
    "      {0} AS avgdata,\n",
    "      bcr_patient_barcode AS ParticipantBarcode\n",
    "   FROM `pancancer-atlas.Filtered.clinical_PANCAN_patient_with_followup_filtered`\n",
    "   WHERE acronym = '{1}' AND {0} IS NOT NULL  \n",
    "         AND NOT REGEXP_CONTAINS({0},r\"^(\\[.*\\]$)\")     \n",
    "   )\n",
    ")\n",
    "\"\"\".format(clinical_feature, cancer_type)"
   ]
  },
  {
   "cell_type": "markdown",
   "metadata": {},
   "source": [
    "The following query combines the two tables based on Participant barcodes. T"
   ]
  },
  {
   "cell_type": "code",
   "execution_count": 5,
   "metadata": {
    "collapsed": true
   },
   "outputs": [],
   "source": [
    "table_data = \"\"\"table_data AS (\n",
    "SELECT \n",
    "   n1.data as data1,\n",
    "   n2.data as data2,\n",
    "   n1.ParticipantBarcode\n",
    "FROM\n",
    "   table1 AS n1\n",
    "INNER JOIN\n",
    "   table2 AS n2\n",
    "ON\n",
    "   n1.ParticipantBarcode = n2.ParticipantBarcode\n",
    ") \n",
    "\"\"\""
   ]
  },
  {
   "cell_type": "markdown",
   "metadata": {},
   "source": [
    "At this point we can take a look at output table"
   ]
  },
  {
   "cell_type": "code",
   "execution_count": 6,
   "metadata": {},
   "outputs": [
    {
     "name": "stdout",
     "output_type": "stream",
     "text": [
      "\n",
      " in runQuery ... \n",
      "    the results for this query were previously cached \n"
     ]
    },
    {
     "data": {
      "text/html": [
       "<div>\n",
       "<table border=\"1\" class=\"dataframe\">\n",
       "  <thead>\n",
       "    <tr style=\"text-align: right;\">\n",
       "      <th></th>\n",
       "      <th>data1</th>\n",
       "      <th>data2</th>\n",
       "      <th>ParticipantBarcode</th>\n",
       "    </tr>\n",
       "  </thead>\n",
       "  <tbody>\n",
       "    <tr>\n",
       "      <th>1</th>\n",
       "      <td>2.359532</td>\n",
       "      <td>9382/3</td>\n",
       "      <td>TCGA-E1-A7YW</td>\n",
       "    </tr>\n",
       "    <tr>\n",
       "      <th>2</th>\n",
       "      <td>2.868692</td>\n",
       "      <td>9382/3</td>\n",
       "      <td>TCGA-FG-7637</td>\n",
       "    </tr>\n",
       "    <tr>\n",
       "      <th>3</th>\n",
       "      <td>2.713119</td>\n",
       "      <td>9382/3</td>\n",
       "      <td>TCGA-TQ-A7RG</td>\n",
       "    </tr>\n",
       "    <tr>\n",
       "      <th>4</th>\n",
       "      <td>3.064997</td>\n",
       "      <td>9382/3</td>\n",
       "      <td>TCGA-DB-5280</td>\n",
       "    </tr>\n",
       "    <tr>\n",
       "      <th>5</th>\n",
       "      <td>2.554518</td>\n",
       "      <td>9382/3</td>\n",
       "      <td>TCGA-IK-8125</td>\n",
       "    </tr>\n",
       "    <tr>\n",
       "      <th>6</th>\n",
       "      <td>2.799724</td>\n",
       "      <td>9382/3</td>\n",
       "      <td>TCGA-DU-8163</td>\n",
       "    </tr>\n",
       "    <tr>\n",
       "      <th>7</th>\n",
       "      <td>2.800062</td>\n",
       "      <td>9382/3</td>\n",
       "      <td>TCGA-HT-8018</td>\n",
       "    </tr>\n",
       "    <tr>\n",
       "      <th>8</th>\n",
       "      <td>2.558207</td>\n",
       "      <td>9382/3</td>\n",
       "      <td>TCGA-DU-7019</td>\n",
       "    </tr>\n",
       "    <tr>\n",
       "      <th>9</th>\n",
       "      <td>2.793514</td>\n",
       "      <td>9382/3</td>\n",
       "      <td>TCGA-DU-5852</td>\n",
       "    </tr>\n",
       "  </tbody>\n",
       "</table>\n",
       "</div>"
      ],
      "text/plain": [
       "      data1   data2 ParticipantBarcode\n",
       "1  2.359532  9382/3       TCGA-E1-A7YW\n",
       "2  2.868692  9382/3       TCGA-FG-7637\n",
       "3  2.713119  9382/3       TCGA-TQ-A7RG\n",
       "4  3.064997  9382/3       TCGA-DB-5280\n",
       "5  2.554518  9382/3       TCGA-IK-8125\n",
       "6  2.799724  9382/3       TCGA-DU-8163\n",
       "7  2.800062  9382/3       TCGA-HT-8018\n",
       "8  2.558207  9382/3       TCGA-DU-7019\n",
       "9  2.793514  9382/3       TCGA-DU-5852"
      ]
     },
     "execution_count": 6,
     "metadata": {},
     "output_type": "execute_result"
    }
   ],
   "source": [
    "sql_data = 'WITH\\n' +query_table1+','+query_table2+','+table_data \n",
    "\n",
    "sql = (sql_data + '\\n' +\n",
    "\"\"\"SELECT * FROM table_data \n",
    "   ORDER BY  data2\n",
    "\"\"\")\n",
    "\n",
    "\n",
    "df_data = regulome.runQuery ( bqclient, sql, [] , dryRun=False )\n",
    "df_data[1:10]"
   ]
  },
  {
   "cell_type": "markdown",
   "metadata": {},
   "source": [
    "We can use a 'violinplot' to visualize the populations in each category. "
   ]
  },
  {
   "cell_type": "code",
   "execution_count": 7,
   "metadata": {},
   "outputs": [
    {
     "data": {
      "text/plain": [
       "<matplotlib.axes._subplots.AxesSubplot at 0x7f3e4421a5f8>"
      ]
     },
     "execution_count": 7,
     "metadata": {},
     "output_type": "execute_result"
    },
    {
     "data": {
      "image/png": "[encoded data removed]",
      "text/plain": [
       "<matplotlib.figure.Figure at 0x7f3e448bbda0>"
      ]
     },
     "metadata": {},
     "output_type": "display_data"
    }
   ],
   "source": [
    "new_data = df_data[ df_data.data2.str.contains('^\\[.*\\]$',na=True,regex=True) == False ]\n",
    "new_data.rename(columns={ \"data1\": gene_name , \"data2\": clinical_feature }, inplace=True)\n",
    "        \n",
    "sns.violinplot( x=new_data[clinical_feature], y=new_data[gene_name], palette=\"Pastel1\")"
   ]
  },
  {
   "cell_type": "markdown",
   "metadata": {},
   "source": [
    "##  BigQuery to Compute statistical association \n",
    "\n",
    "The Kruskal-Wallis score (H) is computed by using the following equation: \n",
    "\n",
    "$$H = \\frac{(N-1)\\sum_{i=1}^{g} n_i (\\bar{r_{i}} -\\bar{r} )^2 }{ \\sum_{i=1}^{g} \\sum_{j=1}^{n_i} (r_{ij}-\\bar{r})^2   }$$\n",
    "where\n",
    "\n",
    "- $n_i$ is the number of observations in category $i$\n",
    "- $r_{ij}$ is the rank (among all participants) of the gene expression of participant $j$ that belongs to category $i$\n",
    "- $N$ is the total number of participants considered in the test\n",
    "- $\\bar{r_i}$ is the averange rank of gene expression values for particpants in category $i$\n",
    "- $\\bar{r}$ is the average of all $r_{ij}$\n",
    "\n",
    "To avoid reading that table multiple times, we rearranged the equations above as :\n",
    "\n",
    "$$H = (N-1)\\frac{ \\sum_{i=1}^{g}S_i^2/n_i - (\\sum_{i=1}^{g}S_i)^2 / N }{ \\sum_{i=1}^{g}Q_i - (\\sum_{i=1}^{g}S_i)^2 / N }$$\n",
    "\n",
    "Where $S_i = \\sum_{j=1}^{n_i}r_{ij}$ and  $Q_i = \\sum_{j=1}^{n_i}r_{ij}^2$\n",
    "\n",
    "The following query string computes $S_i$ and $Q_i$:"
   ]
  },
  {
   "cell_type": "code",
   "execution_count": 8,
   "metadata": {
    "collapsed": true
   },
   "outputs": [],
   "source": [
    "summ_table = \"\"\"\n",
    "summ_table  AS (\n",
    "SELECT \n",
    "   COUNT( ParticipantBarcode) AS ni,\n",
    "   SUM( rnkdata ) AS Si,\n",
    "   SUM( rnkdata * rnkdata ) AS Qi,\n",
    "   data2\n",
    "FROM (    \n",
    "   SELECT \n",
    "      (RANK() OVER (ORDER BY data1 ASC)) + (COUNT(*) OVER ( PARTITION BY CAST(data1 as STRING)) - 1)/2.0 AS rnkdata,\n",
    "      data2, ParticipantBarcode\n",
    "   FROM\n",
    "      table_data \n",
    "   WHERE data2 IN ( SELECT data2 from table_data GROUP BY data2 HAVING count(data2)>{0} )   \n",
    ")\n",
    "GROUP BY\n",
    "   data2\n",
    ")\n",
    "\"\"\".format( str(MinSampleSize) )"
   ]
  },
  {
   "cell_type": "markdown",
   "metadata": {},
   "source": [
    "The query above ingnores the categories that have a number of participants smaller or equal than 'MinSampleSize'. Moreover, the gene expression is ranked, assigning **average** of ranks to the similar values( https://docs.scipy.org/doc/scipy-0.16.0/reference/generated/scipy.stats.rankdata.html). Finally, The Kruskall-Wallis score ($H$) is computed by the following BigQuery string. "
   ]
  },
  {
   "cell_type": "code",
   "execution_count": 9,
   "metadata": {},
   "outputs": [
    {
     "name": "stdout",
     "output_type": "stream",
     "text": [
      "\n",
      " in runQuery ... \n",
      "    the results for this query were previously cached \n"
     ]
    },
    {
     "data": {
      "text/html": [
       "<div>\n",
       "<table border=\"1\" class=\"dataframe\">\n",
       "  <thead>\n",
       "    <tr style=\"text-align: right;\">\n",
       "      <th></th>\n",
       "      <th>Ngroups</th>\n",
       "      <th>Nsamples</th>\n",
       "      <th>Hscore</th>\n",
       "    </tr>\n",
       "  </thead>\n",
       "  <tbody>\n",
       "    <tr>\n",
       "      <th>0</th>\n",
       "      <td>5</td>\n",
       "      <td>513</td>\n",
       "      <td>7.857342</td>\n",
       "    </tr>\n",
       "  </tbody>\n",
       "</table>\n",
       "</div>"
      ],
      "text/plain": [
       "   Ngroups  Nsamples    Hscore\n",
       "0        5       513  7.857342"
      ]
     },
     "execution_count": 9,
     "metadata": {},
     "output_type": "execute_result"
    }
   ],
   "source": [
    "query_hscore = \"\"\"\n",
    "SELECT \n",
    "    Ngroups,\n",
    "    N as Nsamples,        \n",
    "    (N-1)*( sumSi2overni - (sumSi *sumSi)/N ) / (  sumQi  - (sumSi *sumSi)/N )    AS  Hscore \n",
    "FROM (\n",
    "  SELECT \n",
    "      SUM( ni ) As N, \n",
    "      SUM( Si ) AS sumSi,\n",
    "      SUM( Qi ) AS sumQi,\n",
    "      SUM( Si * Si  / ni ) AS sumSi2overni,\n",
    "      COUNT ( data2 ) AS Ngroups    \n",
    "  FROM  summ_table\n",
    "  )\n",
    "WHERE \n",
    "   Ngroups > 1\n",
    "ORDER BY Hscore DESC\n",
    "\"\"\"\n",
    "\n",
    "sql = ( sql_data + ',\\n' + summ_table + query_hscore )\n",
    "df_hscore = regulome.runQuery ( bqclient, sql, [] , dryRun=False )\n",
    "df_hscore"
   ]
  },
  {
   "cell_type": "markdown",
   "metadata": {},
   "source": [
    "To test our implementation we can use the 'kruskalwallis' function available in python:"
   ]
  },
  {
   "cell_type": "code",
   "execution_count": 10,
   "metadata": {},
   "outputs": [
    {
     "name": "stdout",
     "output_type": "stream",
     "text": [
      "KruskalResult(statistic=7.8573421918435997, pvalue=0.096945947430261636)\n"
     ]
    }
   ],
   "source": [
    "CategoryData = []\n",
    "CategoryNames = [] \n",
    "\n",
    "for name, group in new_data.groupby( clinical_feature ) :\n",
    "    data =  group[ gene_name ].values \n",
    "       \n",
    "    if ( len( data ) > MinSampleSize ) :\n",
    "   \n",
    "         CategoryData.append( data )\n",
    "         CategoryNames.append( name )\n",
    "                \n",
    "if len( CategoryData ) > 1 :\n",
    "    print( mstats.kruskalwallis( *[ mydata for mydata in CategoryData   ] ) )\n",
    "            \n",
    "\n"
   ]
  },
  {
   "cell_type": "code",
   "execution_count": null,
   "metadata": {
    "collapsed": true
   },
   "outputs": [],
   "source": []
  }
 ],
 "metadata": {
  "kernelspec": {
   "display_name": "Python 3",
   "language": "python",
   "name": "python3"
  },
  "language_info": {
   "codemirror_mode": {
    "name": "ipython",
    "version": 3
   },
   "file_extension": ".py",
   "mimetype": "text/x-python",
   "name": "python",
   "nbconvert_exporter": "python",
   "pygments_lexer": "ipython3",
   "version": "3.5.4"
  }
 },
 "nbformat": 4,
 "nbformat_minor": 2
}
