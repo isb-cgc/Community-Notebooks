{
  "cells": [
    {
      "cell_type": "markdown",
      "metadata": {
        "id": "08c3e7f4"
      },
      "source": [
        "<a href=\"https://colab.research.google.com/github/isb-cgc/Community-Notebooks/blob/boris-dev/RegulomeExplorer/RegulomeExplorer_notebook.ipynb\" target=\"_parent\"><img src=\"https://colab.research.google.com/assets/colab-badge.svg\" alt=\"Open In Colab\"/></a>"
      ]
    },
    {
      "cell_type": "markdown",
      "metadata": {
        "id": "DVseVII1hOiL"
      },
      "source": [
        "# Regulome Explorer Notebook\n",
        "\n",
        "This notebook computes significant association scores between pairwise data types available in the PanCancer Atlas dataset of ISB-CGC. The specific statistical tests implmeneted are described ['here'](https://isb-cancer-genomics-cloud.readthedocs.io/en/latest/sections/RegulomeExplorerNotebooks.html#standard-pairwise-statistics),  and a description of the original Regulomen Explorer is avaiable ['here'](https://isb-cancer-genomics-cloud.readthedocs.io/en/latest/sections/RegulomeExplorerNotebooks.html#id5).\n",
        "\n",
        "The output of the notebook is a table of significacnt associations specified by correltions and p-values. This notebook also performs a more detailed analysis from a user specified pair of features names generating figures and additional statistics."
      ]
    },
    {
      "cell_type": "markdown",
      "metadata": {
        "id": "75NniPBkhOiM"
      },
      "source": [
        "### Import Python libraries"
      ]
    },
    {
      "cell_type": "code",
      "execution_count": null,
      "metadata": {
        "scrolled": true,
        "id": "SuWwvoe_hOiM"
      },
      "outputs": [],
      "source": [
        "%load_ext autoreload\n",
        "%autoreload 2\n",
        "%matplotlib inline\n",
        "from google.cloud import bigquery\n",
        "import pandas as pd\n",
        "#import re_module.bq_functions as regulome"
      ]
    },
    {
      "cell_type": "markdown",
      "metadata": {
        "id": "WhpNHv_2hOiM"
      },
      "source": [
        "### Authentication\n",
        "The first step is to authorize access to BigQuery and the Google Cloud. For more information see ['Quick Start Guide to ISB-CGC'](https://isb-cancer-genomics-cloud.readthedocs.io/en/latest/sections/HowToGetStartedonISB-CGC.html) and alternative authentication methods can be found [here](https://googleapis.github.io/google-cloud-python/latest/core/auth.html)."
      ]
    },
    {
      "cell_type": "code",
      "source": [
        "# if you're using Google Colab, authenticate to gcloud with the following\n",
        "from google.colab import auth\n",
        "auth.authenticate_user()\n",
        "\n",
        "# alternatively, use the gcloud SDK\n",
        "#!gcloud auth application-default login"
      ],
      "metadata": {
        "id": "qgvWFMtthfc7"
      },
      "execution_count": null,
      "outputs": []
    },
    {
      "cell_type": "code",
      "source": [
        "# set the google project that will be billed for this notebook's computations\n",
        "google_project = 'your_project_id'  ## change this\n",
        "\n",
        "# Initialize a client to access the data within BigQuery\n",
        "if google_project == 'your_project_id':\n",
        "    print('Please update the project ID with your Google Cloud Project')\n",
        "else:\n",
        "    bqclient = bigquery.Client(google_project)"
      ],
      "metadata": {
        "id": "TAJP7TRhhqhx"
      },
      "execution_count": null,
      "outputs": []
    },
    {
      "cell_type": "markdown",
      "source": [
        "###If using Colab, download the bq_functions.py file\n"
      ],
      "metadata": {
        "id": "iRe6BqpYhRLr"
      }
    },
    {
      "cell_type": "code",
      "source": [
        "%pip install wget\n",
        "import wget\n",
        "wget.download('https://raw.githubusercontent.com/isb-cgc/Community-Notebooks/boris-dev/RegulomeExplorer/re_module/bq_functions.py', 'bq_functions.py')\n",
        "import bq_functions as regulome"
      ],
      "metadata": {
        "id": "Xl9czpCjhbMz"
      },
      "execution_count": null,
      "outputs": []
    },
    {
      "cell_type": "markdown",
      "metadata": {
        "id": "XI-7ZK0rhOiN"
      },
      "source": [
        "### Specify Parameters\n",
        "The parameters for this experiment are the cancer type (study), a list of genes, a couple of molecular features (), the significance level, and the minimum number of samples required for the statistical analysis."
      ]
    },
    {
      "cell_type": "code",
      "execution_count": null,
      "metadata": {
        "id": "4_hN1TCyhOiN",
        "outputId": "2399bf97-7475-4edd-e07e-ce0e141a36d8",
        "colab": {
          "referenced_widgets": [
            "97fd8825bc0a4daba8bc9b0b125a52f6"
          ]
        }
      },
      "outputs": [
        {
          "data": {
            "application/vnd.jupyter.widget-view+json": {
              "model_id": "97fd8825bc0a4daba8bc9b0b125a52f6",
              "version_major": 2,
              "version_minor": 0
            },
            "text/plain": [
              "HBox(children=(HTML(value='<em>Select a project </em>'), Dropdown(options=('TCGA', 'CPTAC'), value='TCGA')))"
            ]
          },
          "metadata": {},
          "output_type": "display_data"
        }
      ],
      "source": [
        "[project]  = regulome.WidgetsSelectProject()"
      ]
    },
    {
      "cell_type": "code",
      "execution_count": null,
      "metadata": {
        "scrolled": true,
        "id": "gDSUwdHyhOiO",
        "outputId": "975647cc-3c5d-4a3a-ebdf-a40d6a277820",
        "colab": {
          "referenced_widgets": [
            "f23f212a499d46e4ae3c58e6636e01e2",
            "96c2edd85a1444f48cacf0b1e2d321a5",
            "7b70b20d35fa4004a23985a5d7fc516a",
            "6e878015f45441979c5531ab964c274d",
            "2a353fca294c434bb10c88e6bc461faa",
            "f15434535af848469ff157218a66cbf0"
          ]
        }
      },
      "outputs": [
        {
          "data": {
            "application/vnd.jupyter.widget-view+json": {
              "model_id": "f23f212a499d46e4ae3c58e6636e01e2",
              "version_major": 2,
              "version_minor": 0
            },
            "text/plain": [
              "HBox(children=(HTML(value='<em>Select Feature1 </em>'), Dropdown(options=('Gene Expression', 'Protein Expressi…"
            ]
          },
          "metadata": {},
          "output_type": "display_data"
        },
        {
          "data": {
            "application/vnd.jupyter.widget-view+json": {
              "model_id": "96c2edd85a1444f48cacf0b1e2d321a5",
              "version_major": 2,
              "version_minor": 0
            },
            "text/plain": [
              "HBox(children=(HTML(value='<em>Feature1 labels </em>'), Text(value='IGF2, ADAM6', placeholder='Type gene names…"
            ]
          },
          "metadata": {},
          "output_type": "display_data"
        },
        {
          "data": {
            "application/vnd.jupyter.widget-view+json": {
              "model_id": "7b70b20d35fa4004a23985a5d7fc516a",
              "version_major": 2,
              "version_minor": 0
            },
            "text/plain": [
              "HBox(children=(HTML(value='<em>Select Feature2 </em>'), Dropdown(index=1, options=('Gene Expression', 'Protein…"
            ]
          },
          "metadata": {},
          "output_type": "display_data"
        },
        {
          "data": {
            "application/vnd.jupyter.widget-view+json": {
              "model_id": "6e878015f45441979c5531ab964c274d",
              "version_major": 2,
              "version_minor": 0
            },
            "text/plain": [
              "HBox(children=(HTML(value='<em>Select a study </em>'), Dropdown(options=('CCRCC', 'GBM', 'HNSCC', 'LSCC', 'LUA…"
            ]
          },
          "metadata": {},
          "output_type": "display_data"
        },
        {
          "data": {
            "application/vnd.jupyter.widget-view+json": {
              "model_id": "2a353fca294c434bb10c88e6bc461faa",
              "version_major": 2,
              "version_minor": 0
            },
            "text/plain": [
              "HBox(children=(HTML(value='<em>Significance level </em>'), SelectionSlider(continuous_update=False, index=1, o…"
            ]
          },
          "metadata": {},
          "output_type": "display_data"
        },
        {
          "data": {
            "application/vnd.jupyter.widget-view+json": {
              "model_id": "f15434535af848469ff157218a66cbf0",
              "version_major": 2,
              "version_minor": 0
            },
            "text/plain": [
              "HBox(children=(HTML(value='<em>Minimum number of samples</em>'), IntSlider(value=25, max=50, min=5)))"
            ]
          },
          "metadata": {},
          "output_type": "display_data"
        }
      ],
      "source": [
        "[study, feature1, feature2, gene_names, size, significance] = regulome.makeWidgets( project.value )"
      ]
    },
    {
      "cell_type": "markdown",
      "metadata": {
        "id": "3U3kpUTHhOiO"
      },
      "source": [
        "### Build the query\n",
        "The Bigquery query to compute associations between feature 1 and 2 are created using functions in the 'regulome' module. Please refer to our github repository to access the notebooks with description of the methods used for each possible combination of features available in TCGA: https://github.com/isb-cgc/Community-Notebooks/tree/master/RegulomeExplorer."
      ]
    },
    {
      "cell_type": "code",
      "execution_count": null,
      "metadata": {
        "scrolled": true,
        "id": "Z09aWZZUhOiP"
      },
      "outputs": [],
      "source": [
        "LabelList = [ x.strip() for x in gene_names.value.split(',') ]\n",
        "\n",
        "table1, table2 = regulome.get_feature_tables( project.value, study.value,feature1.value,feature2.value,[],[],[])\n",
        "str_summarized = regulome.get_summarized_table( project.value, feature1.value, feature2.value, study.value)\n",
        "str_stats = regulome.get_stat_table(project.value, study.value, feature1.value, feature2.value, size.value, significance.value  )\n",
        "\n",
        "sql = ( 'WITH' + table1 + ',' + table2 + ',' + str_summarized + str_stats)\n",
        "#print(sql)"
      ]
    },
    {
      "cell_type": "markdown",
      "metadata": {
        "id": "T32iOfkAhOiP"
      },
      "source": [
        "### Run the Bigquery"
      ]
    },
    {
      "cell_type": "code",
      "execution_count": null,
      "metadata": {
        "id": "hsi-N9d9hOiP",
        "outputId": "d7a3d561-00b1-4cea-cc28-b495075ec28d"
      },
      "outputs": [
        {
          "name": "stdout",
          "output_type": "stream",
          "text": [
            "\n",
            " in runQuery ... \n",
            "    this query processed 2173101729 bytes \n",
            "    Approx. elpased time : 4258 miliseconds \n"
          ]
        },
        {
          "data": {
            "text/html": [
              "<div>\n",
              "<style scoped>\n",
              "    .dataframe tbody tr th:only-of-type {\n",
              "        vertical-align: middle;\n",
              "    }\n",
              "\n",
              "    .dataframe tbody tr th {\n",
              "        vertical-align: top;\n",
              "    }\n",
              "\n",
              "    .dataframe thead th {\n",
              "        text-align: right;\n",
              "    }\n",
              "</style>\n",
              "<table border=\"1\" class=\"dataframe\">\n",
              "  <thead>\n",
              "    <tr style=\"text-align: right;\">\n",
              "      <th></th>\n",
              "      <th>symbol1</th>\n",
              "      <th>symbol2</th>\n",
              "      <th>n</th>\n",
              "      <th>correlation</th>\n",
              "      <th>p_value</th>\n",
              "    </tr>\n",
              "  </thead>\n",
              "  <tbody>\n",
              "    <tr>\n",
              "      <th>0</th>\n",
              "      <td>RAB5A</td>\n",
              "      <td>LCN2</td>\n",
              "      <td>102</td>\n",
              "      <td>0.537066</td>\n",
              "      <td>6.073490e-09</td>\n",
              "    </tr>\n",
              "    <tr>\n",
              "      <th>1</th>\n",
              "      <td>RAB5A</td>\n",
              "      <td>AC188616.1</td>\n",
              "      <td>102</td>\n",
              "      <td>-0.510738</td>\n",
              "      <td>4.241111e-08</td>\n",
              "    </tr>\n",
              "    <tr>\n",
              "      <th>2</th>\n",
              "      <td>RAB5A</td>\n",
              "      <td>AC022509.1</td>\n",
              "      <td>102</td>\n",
              "      <td>-0.498891</td>\n",
              "      <td>9.652255e-08</td>\n",
              "    </tr>\n",
              "    <tr>\n",
              "      <th>3</th>\n",
              "      <td>RAB5A</td>\n",
              "      <td>EMC3</td>\n",
              "      <td>102</td>\n",
              "      <td>0.493246</td>\n",
              "      <td>1.413004e-07</td>\n",
              "    </tr>\n",
              "    <tr>\n",
              "      <th>4</th>\n",
              "      <td>RAB5A</td>\n",
              "      <td>ADORA2A-AS1</td>\n",
              "      <td>102</td>\n",
              "      <td>-0.488062</td>\n",
              "      <td>1.993032e-07</td>\n",
              "    </tr>\n",
              "    <tr>\n",
              "      <th>...</th>\n",
              "      <td>...</td>\n",
              "      <td>...</td>\n",
              "      <td>...</td>\n",
              "      <td>...</td>\n",
              "      <td>...</td>\n",
              "    </tr>\n",
              "    <tr>\n",
              "      <th>2970</th>\n",
              "      <td>RAB5A</td>\n",
              "      <td>Z74021.1</td>\n",
              "      <td>102</td>\n",
              "      <td>-0.254062</td>\n",
              "      <td>9.988763e-03</td>\n",
              "    </tr>\n",
              "    <tr>\n",
              "      <th>2971</th>\n",
              "      <td>RAB5A</td>\n",
              "      <td>SLC25A6P5</td>\n",
              "      <td>102</td>\n",
              "      <td>-0.254059</td>\n",
              "      <td>9.989842e-03</td>\n",
              "    </tr>\n",
              "    <tr>\n",
              "      <th>2972</th>\n",
              "      <td>RAB5A</td>\n",
              "      <td>LRIG2</td>\n",
              "      <td>102</td>\n",
              "      <td>-0.254045</td>\n",
              "      <td>9.993905e-03</td>\n",
              "    </tr>\n",
              "    <tr>\n",
              "      <th>2973</th>\n",
              "      <td>RAB5A</td>\n",
              "      <td>AC013486.1</td>\n",
              "      <td>102</td>\n",
              "      <td>-0.254034</td>\n",
              "      <td>9.997462e-03</td>\n",
              "    </tr>\n",
              "    <tr>\n",
              "      <th>2974</th>\n",
              "      <td>RAB5A</td>\n",
              "      <td>ERICH2</td>\n",
              "      <td>102</td>\n",
              "      <td>-0.254029</td>\n",
              "      <td>9.998877e-03</td>\n",
              "    </tr>\n",
              "  </tbody>\n",
              "</table>\n",
              "<p>2975 rows × 5 columns</p>\n",
              "</div>"
            ],
            "text/plain": [
              "     symbol1      symbol2    n  correlation       p_value\n",
              "0      RAB5A         LCN2  102     0.537066  6.073490e-09\n",
              "1      RAB5A   AC188616.1  102    -0.510738  4.241111e-08\n",
              "2      RAB5A   AC022509.1  102    -0.498891  9.652255e-08\n",
              "3      RAB5A         EMC3  102     0.493246  1.413004e-07\n",
              "4      RAB5A  ADORA2A-AS1  102    -0.488062  1.993032e-07\n",
              "...      ...          ...  ...          ...           ...\n",
              "2970   RAB5A     Z74021.1  102    -0.254062  9.988763e-03\n",
              "2971   RAB5A    SLC25A6P5  102    -0.254059  9.989842e-03\n",
              "2972   RAB5A        LRIG2  102    -0.254045  9.993905e-03\n",
              "2973   RAB5A   AC013486.1  102    -0.254034  9.997462e-03\n",
              "2974   RAB5A       ERICH2  102    -0.254029  9.998877e-03\n",
              "\n",
              "[2975 rows x 5 columns]"
            ]
          },
          "execution_count": 46,
          "metadata": {},
          "output_type": "execute_result"
        }
      ],
      "source": [
        "bqclient = bigquery.Client(google_project)\n",
        "df_results = regulome.runQuery ( bqclient, sql, LabelList, [], [], dryRun=False )\n",
        "df_results"
      ]
    },
    {
      "cell_type": "markdown",
      "metadata": {
        "id": "Ebyhmsc8hOiP"
      },
      "source": [
        "## Analyze a pair of labels\n",
        "From the table above please select a pair of features names to perform a statistical analysis and display the data. You can print the variable 'pair_query' to obtain the query used to retrieve the data.\n",
        "**pair_query** is the query used to retreive the necessary data for the statistical test."
      ]
    },
    {
      "cell_type": "code",
      "execution_count": null,
      "metadata": {
        "id": "TItfLSrNhOiP",
        "outputId": "d4f02ea1-1632-4619-f3e6-feac33eec94c",
        "colab": {
          "referenced_widgets": [
            "fc849df1aa224a83888dc8cff8296718",
            "e62040af857a49f4b7081a301e7652f4"
          ]
        }
      },
      "outputs": [
        {
          "data": {
            "application/vnd.jupyter.widget-view+json": {
              "model_id": "fc849df1aa224a83888dc8cff8296718",
              "version_major": 2,
              "version_minor": 0
            },
            "text/plain": [
              "HBox(children=(HTML(value='<em>Type label 1 </em>'), Text(value='', placeholder='label name')))"
            ]
          },
          "metadata": {},
          "output_type": "display_data"
        },
        {
          "data": {
            "application/vnd.jupyter.widget-view+json": {
              "model_id": "e62040af857a49f4b7081a301e7652f4",
              "version_major": 2,
              "version_minor": 0
            },
            "text/plain": [
              "HBox(children=(HTML(value='<em>Type label 2 </em>'), Text(value='', placeholder='label name')))"
            ]
          },
          "metadata": {},
          "output_type": "display_data"
        }
      ],
      "source": [
        "[name1 , name2 ] = regulome.makeWidgetsPair(sorted(df_results['symbol1'].unique()), sorted(df_results['symbol2'].unique()))"
      ]
    },
    {
      "cell_type": "code",
      "execution_count": null,
      "metadata": {
        "id": "J1Tf_xoWhOiP",
        "outputId": "7ecbf897-11ef-4f9c-e184-adc9bd31e6ba"
      },
      "outputs": [
        {
          "name": "stdout",
          "output_type": "stream",
          "text": [
            "\n",
            " in runQuery ... \n",
            "    this query processed 2173101729 bytes \n",
            "    Approx. elpased time : 823 miliseconds \n",
            "SpearmanrResult(correlation=0.4350341107336846, pvalue=4.896564834343943e-06)\n"
          ]
        },
        {
          "data": {
            "image/png": "[encoded data removed]",
            "text/plain": [
              "<Figure size 640x480 with 1 Axes>"
            ]
          },
          "metadata": {},
          "output_type": "display_data"
        }
      ],
      "source": [
        "pair_query = regulome.get_query_pair(project.value, name1.value,name2.value,study.value,[],feature1.value,feature2.value)\n",
        "df_pair = regulome.runQuery( bqclient, pair_query, LabelList, [], [], dryRun=False )\n",
        "regulome.plot_statistics_pair(df_pair, project.value, study.value, feature1.value, feature2.value, name1.value, name2.value, size.value)"
      ]
    },
    {
      "cell_type": "code",
      "execution_count": null,
      "metadata": {
        "id": "ERnx07WnhOiP",
        "outputId": "c07d30d8-ebb3-4040-b8f9-d6dd451a2944"
      },
      "outputs": [
        {
          "data": {
            "text/html": [
              "<div>\n",
              "<style scoped>\n",
              "    .dataframe tbody tr th:only-of-type {\n",
              "        vertical-align: middle;\n",
              "    }\n",
              "\n",
              "    .dataframe tbody tr th {\n",
              "        vertical-align: top;\n",
              "    }\n",
              "\n",
              "    .dataframe thead th {\n",
              "        text-align: right;\n",
              "    }\n",
              "</style>\n",
              "<table border=\"1\" class=\"dataframe\">\n",
              "  <thead>\n",
              "    <tr style=\"text-align: right;\">\n",
              "      <th></th>\n",
              "      <th>data1</th>\n",
              "      <th>data2</th>\n",
              "      <th>ParticipantBarcode</th>\n",
              "    </tr>\n",
              "  </thead>\n",
              "  <tbody>\n",
              "    <tr>\n",
              "      <th>0</th>\n",
              "      <td>-0.3365</td>\n",
              "      <td>1.083320</td>\n",
              "      <td>C3N-00320</td>\n",
              "    </tr>\n",
              "    <tr>\n",
              "      <th>1</th>\n",
              "      <td>-0.3010</td>\n",
              "      <td>1.088483</td>\n",
              "      <td>C3N-01178</td>\n",
              "    </tr>\n",
              "    <tr>\n",
              "      <th>2</th>\n",
              "      <td>-0.1015</td>\n",
              "      <td>1.076028</td>\n",
              "      <td>C3N-00953</td>\n",
              "    </tr>\n",
              "    <tr>\n",
              "      <th>3</th>\n",
              "      <td>-0.2669</td>\n",
              "      <td>1.146875</td>\n",
              "      <td>C3L-00360</td>\n",
              "    </tr>\n",
              "    <tr>\n",
              "      <th>4</th>\n",
              "      <td>-0.0956</td>\n",
              "      <td>1.169692</td>\n",
              "      <td>C3L-00011</td>\n",
              "    </tr>\n",
              "    <tr>\n",
              "      <th>...</th>\n",
              "      <td>...</td>\n",
              "      <td>...</td>\n",
              "      <td>...</td>\n",
              "    </tr>\n",
              "    <tr>\n",
              "      <th>105</th>\n",
              "      <td>-0.3503</td>\n",
              "      <td>1.088597</td>\n",
              "      <td>C3L-00097</td>\n",
              "    </tr>\n",
              "    <tr>\n",
              "      <th>106</th>\n",
              "      <td>-0.3413</td>\n",
              "      <td>1.180109</td>\n",
              "      <td>C3L-00817</td>\n",
              "    </tr>\n",
              "    <tr>\n",
              "      <th>107</th>\n",
              "      <td>-0.1258</td>\n",
              "      <td>1.174789</td>\n",
              "      <td>C3L-01882</td>\n",
              "    </tr>\n",
              "    <tr>\n",
              "      <th>108</th>\n",
              "      <td>-0.3552</td>\n",
              "      <td>1.025687</td>\n",
              "      <td>C3N-01179</td>\n",
              "    </tr>\n",
              "    <tr>\n",
              "      <th>109</th>\n",
              "      <td>-0.2381</td>\n",
              "      <td>1.115188</td>\n",
              "      <td>C3L-01885</td>\n",
              "    </tr>\n",
              "  </tbody>\n",
              "</table>\n",
              "<p>110 rows × 3 columns</p>\n",
              "</div>"
            ],
            "text/plain": [
              "      data1     data2 ParticipantBarcode\n",
              "0   -0.3365  1.083320          C3N-00320\n",
              "1   -0.3010  1.088483          C3N-01178\n",
              "2   -0.1015  1.076028          C3N-00953\n",
              "3   -0.2669  1.146875          C3L-00360\n",
              "4   -0.0956  1.169692          C3L-00011\n",
              "..      ...       ...                ...\n",
              "105 -0.3503  1.088597          C3L-00097\n",
              "106 -0.3413  1.180109          C3L-00817\n",
              "107 -0.1258  1.174789          C3L-01882\n",
              "108 -0.3552  1.025687          C3N-01179\n",
              "109 -0.2381  1.115188          C3L-01885\n",
              "\n",
              "[110 rows x 3 columns]"
            ]
          },
          "execution_count": 48,
          "metadata": {},
          "output_type": "execute_result"
        }
      ],
      "source": [
        "df_pair"
      ]
    },
    {
      "cell_type": "code",
      "execution_count": null,
      "metadata": {
        "id": "6ArqedFRhOiP"
      },
      "outputs": [],
      "source": []
    }
  ],
  "metadata": {
    "environment": {
      "kernel": "python3",
      "name": "common-cpu.m109",
      "type": "gcloud",
      "uri": "gcr.io/deeplearning-platform-release/base-cpu:m109"
    },
    "kernelspec": {
      "display_name": "Python 3",
      "language": "python",
      "name": "python3"
    },
    "language_info": {
      "codemirror_mode": {
        "name": "ipython",
        "version": 3
      },
      "file_extension": ".py",
      "mimetype": "text/x-python",
      "name": "python",
      "nbconvert_exporter": "python",
      "pygments_lexer": "ipython3",
      "version": "3.7.12"
    },
    "colab": {
      "provenance": []
    }
  },
  "nbformat": 4,
  "nbformat_minor": 0
}