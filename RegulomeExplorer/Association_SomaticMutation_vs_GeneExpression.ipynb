{
 "cells": [
  {
   "cell_type": "markdown",
   "metadata": {},
   "source": [
    "# Regulome Explorer Notebook 2.X\n"
   ]
  },
  {
   "cell_type": "code",
   "execution_count": 1,
   "metadata": {},
   "outputs": [],
   "source": [
    "from google.cloud import bigquery"
   ]
  },
  {
   "cell_type": "markdown",
   "metadata": {},
   "source": [
    "#### Import Python libraries"
   ]
  },
  {
   "cell_type": "code",
   "execution_count": 2,
   "metadata": {},
   "outputs": [],
   "source": [
    "import numpy as np\n",
    "import pandas as pd\n",
    "import seaborn as sns\n",
    "from scipy.stats import ttest_ind"
   ]
  },
  {
   "cell_type": "markdown",
   "metadata": {},
   "source": [
    "#### Python convenience functions\n",
    "\n",
    "We define two convenience functions here:\n",
    "\n",
    "- **`runQuery`**: a relatively generic BigQuery query-execution wrapper function which can be used to run a query in \"dry-run\"  mode or not:  the call to the `query()` function itself is inside a `try/except` block and if it fails we return `None`;  otherwise a \"dry\" will return an empty dataframe, and a \"live\" run will return the query results as a dataframe\n",
    "\n",
    "- **`checkQueryResults`**: a generic function that makes sure that what was returned is a dataframe, and checks how many rows are in the returned dataframe"
   ]
  },
  {
   "cell_type": "code",
   "execution_count": 3,
   "metadata": {},
   "outputs": [],
   "source": [
    "def runQuery ( client, qString, ParameterList,  dryRun=False ):\n",
    "  \n",
    "  print ( \"\\n in runQuery ... \" )\n",
    "  if ( dryRun ):\n",
    "    print ( \"    dry-run only \" )\n",
    "    \n",
    "  ## set up QueryJobConfig object\n",
    "  job_config = bigquery.QueryJobConfig()\n",
    "    \n",
    "  query_params = [\n",
    "        bigquery.ArrayQueryParameter('GENENAMES', 'STRING', ParameterList )                             \n",
    "  ]\n",
    "  job_config.query_parameters = query_params  \n",
    "    \n",
    "  job_config.dry_run = dryRun\n",
    "  job_config.use_query_cache = True\n",
    "  job_config.use_legacy_sql = False\n",
    "  \n",
    "  ## run the query\n",
    "  try:\n",
    "    query_job = client.query ( qString, job_config=job_config )\n",
    "    ## print ( \"    query job state: \", query_job.state )\n",
    "  except:\n",
    "    print ( \"  FATAL ERROR: query execution failed \" )\n",
    "    return ( None )\n",
    "  \n",
    "  ## return results as a dataframe (or an empty dataframe for a dry-run) \n",
    "  if ( not dryRun ):\n",
    "    try:\n",
    "      df = query_job.to_dataframe()\n",
    "      if ( query_job.total_bytes_processed==0 ):\n",
    "        print ( \"    the results for this query were previously cached \" )\n",
    "      else:\n",
    "        print ( \"    this query processed {} bytes \".format(query_job.total_bytes_processed) )\n",
    "      if ( len(df) < 1 ):\n",
    "        print ( \"  WARNING: this query returned NO results \")\n",
    "      return ( df )\n",
    "    except:\n",
    "      print ( \"  FATAL ERROR: query execution failed \" )\n",
    "      return ( None )\n",
    "    \n",
    "  else:\n",
    "    print ( \"    if not cached, this query will process {} bytes \".format(query_job.total_bytes_processed) )\n",
    "    ## return an empty dataframe\n",
    "    return ( pd.DataFrame() )"
   ]
  },
  {
   "cell_type": "markdown",
   "metadata": {},
   "source": [
    "### SQL Building Functions\n",
    "- **`build_cohort`**: create a table of SampleBarcodes from user defined Study \n",
    "\n",
    "- **`group1_cohort`**: create a set of samples with mutations in a user defined Gene "
   ]
  },
  {
   "cell_type": "code",
   "execution_count": 4,
   "metadata": {},
   "outputs": [],
   "source": [
    "def build_cohort ( study ):\n",
    "  qString = \"\"\"\n",
    "      WITH\n",
    "        --\n",
    "        -- samples with at least one mutation and gene expression in __study__\n",
    "        --\n",
    "        cohort AS (\n",
    "        SELECT\n",
    "          Tumor_SampleBarcode as sample_barcode\n",
    "        FROM\n",
    "          `pancancer-atlas.Filtered.MC3_MAF_V5_one_per_tumor_sample` \n",
    "        WHERE\n",
    "          ( study = '__study__' )\n",
    "        GROUP BY\n",
    "        1\n",
    "        ),\n",
    "        sampleGroup AS (\n",
    "        SELECT\n",
    "            SampleBarcode as sample_barcode\n",
    "        FROM\n",
    "            `pancancer-atlas.Filtered.EBpp_AdjustPANCAN_IlluminaHiSeq_RNASeqV2_genExp_filtered`\n",
    "        WHERE\n",
    "            study = '__study__'\n",
    "            AND SampleBarcode IN\n",
    "                (select sample_barcode from cohort)\n",
    "        GROUP BY\n",
    "          1 \n",
    "        )\n",
    "          \"\"\".replace('__study__',study)\n",
    "  return(qString)"
   ]
  },
  {
   "cell_type": "code",
   "execution_count": 5,
   "metadata": {},
   "outputs": [],
   "source": [
    "def group1_cohort( GeneName ):\n",
    "  qString = \"\"\"\n",
    "    --\n",
    "    -- The first group has mutations in __Symbol__\n",
    "    --\n",
    "    grp1 AS (\n",
    "    SELECT\n",
    "        Tumor_SampleBarcode AS sample_barcode\n",
    "    FROM\n",
    "        `pancancer-atlas.Filtered.MC3_MAF_V5_one_per_tumor_sample`\n",
    "    WHERE\n",
    "        Hugo_Symbol = '__Symbol__'\n",
    "        AND Tumor_SampleBarcode IN (\n",
    "            SELECT\n",
    "                sample_barcode\n",
    "            FROM\n",
    "                sampleGroup )\n",
    "    GROUP BY sample_barcode\n",
    "    )\n",
    "    \"\"\".replace('__Symbol__',GeneName)\n",
    "  return(qString)"
   ]
  },
  {
   "cell_type": "markdown",
   "metadata": {},
   "source": [
    "##  Start the analysis"
   ]
  },
  {
   "cell_type": "code",
   "execution_count": 6,
   "metadata": {},
   "outputs": [],
   "source": [
    "# Start by getting authorized.\n",
    "bqclient = bigquery.Client()"
   ]
  },
  {
   "cell_type": "markdown",
   "metadata": {},
   "source": [
    "###  Select variables to analyze"
   ]
  },
  {
   "cell_type": "code",
   "execution_count": 7,
   "metadata": {},
   "outputs": [],
   "source": [
    "study = 'UCEC'           # Select Tumor type \n",
    "gene_mutation = 'PARP1'  # Name of gene with potential mutation \n",
    "gene_expresion = 'IGF2'  # Name of gene for differential gene expression analysis"
   ]
  },
  {
   "cell_type": "markdown",
   "metadata": {},
   "source": [
    "### Obtain data from biquery\n",
    "We first will retrieve the gene expression data of a user defined gene (gene_expresion) for each sample in the cohort "
   ]
  },
  {
   "cell_type": "code",
   "execution_count": 8,
   "metadata": {},
   "outputs": [
    {
     "name": "stdout",
     "output_type": "stream",
     "text": [
      "\n",
      " in runQuery ... \n",
      "    the results for this query were previously cached \n"
     ]
    }
   ],
   "source": [
    "# Build the sql code\n",
    "sql = (\n",
    "    build_cohort( study ) + '\\n' +\n",
    "    \"\"\"\n",
    "    SELECT \n",
    "        SampleBarcode as sample_barcode,\n",
    "        LOG10( normalized_count + 1 ) as genexp\n",
    "    FROM \n",
    "        `pancancer-atlas.Filtered.EBpp_AdjustPANCAN_IlluminaHiSeq_RNASeqV2_genExp_filtered`\n",
    "    WHERE\n",
    "        Symbol = '__Symbol__' \n",
    "        AND SampleBarcode IN (SELECT sample_barcode FROM sampleGroup )\n",
    "    \"\"\".replace('__Symbol__', gene_expresion )\n",
    ")\n",
    "# bigquery \n",
    "res0 = runQuery ( bqclient, sql, [], dryRun=False )"
   ]
  },
  {
   "cell_type": "markdown",
   "metadata": {},
   "source": [
    "We then select the sample codes with mutation in the used defined gene (gene_mutation)"
   ]
  },
  {
   "cell_type": "code",
   "execution_count": 9,
   "metadata": {},
   "outputs": [
    {
     "name": "stdout",
     "output_type": "stream",
     "text": [
      "\n",
      " in runQuery ... \n",
      "    the results for this query were previously cached \n"
     ]
    }
   ],
   "source": [
    "# Build the sql code\n",
    "sql = (\n",
    "    build_cohort( study ) + ',\\n' +\n",
    "    group1_cohort( gene_mutation ) + '\\n' +\n",
    "    \"\"\"\n",
    "    SELECT * FROM grp1 \n",
    "    \"\"\"\n",
    ")\n",
    "res1 = runQuery ( bqclient, sql, [], dryRun=False )"
   ]
  },
  {
   "cell_type": "markdown",
   "metadata": {},
   "source": [
    "###  Analyze the results\n",
    "We then merge the two dataframes (res0 and res1 ) created from bigquey data. \n",
    "res1 contain a list of samples with mutation in gene_mutation. We will create a new column (named 'Mutation') on res1 to mark these samples by the letter 'T' which indicate that the sample contains a mutation in gene_mutation.\n",
    "After merging the tables, the samples with no mutation will be labeled by 'F' in the colum 'Mutation'."
   ]
  },
  {
   "cell_type": "code",
   "execution_count": 11,
   "metadata": {},
   "outputs": [
    {
     "data": {
      "text/plain": [
       "<matplotlib.axes._subplots.AxesSubplot at 0x1a1985aba8>"
      ]
     },
     "execution_count": 11,
     "metadata": {},
     "output_type": "execute_result"
    },
    {
     "data": {
      "image/png": "[encoded data removed]",
      "text/plain": [
       "<Figure size 432x288 with 1 Axes>"
      ]
     },
     "metadata": {
      "needs_background": "light"
     },
     "output_type": "display_data"
    }
   ],
   "source": [
    "# Merge the two query results  \n",
    "res1['Mutation'] = 'T'\n",
    "mydf = pd.merge(res0,res1,on=\"sample_barcode\", how='outer')\n",
    "# samples with no mutation will be labeled F\n",
    "mydf.fillna('F',inplace=True)\n",
    "\n",
    "# violin plot of gene expression cobsidering the two groups (mutated and no mutated) in 'Mutation' column \n",
    "sns.violinplot( x=mydf[\"Mutation\"], y=mydf[\"genexp\"], palette=\"Blues\")"
   ]
  },
  {
   "cell_type": "markdown",
   "metadata": {},
   "source": [
    "We can compute the average of gene expression for the two groups."
   ]
  },
  {
   "cell_type": "code",
   "execution_count": 12,
   "metadata": {},
   "outputs": [
    {
     "data": {
      "text/html": [
       "<div>\n",
       "<style scoped>\n",
       "    .dataframe tbody tr th:only-of-type {\n",
       "        vertical-align: middle;\n",
       "    }\n",
       "\n",
       "    .dataframe tbody tr th {\n",
       "        vertical-align: top;\n",
       "    }\n",
       "\n",
       "    .dataframe thead th {\n",
       "        text-align: right;\n",
       "    }\n",
       "</style>\n",
       "<table border=\"1\" class=\"dataframe\">\n",
       "  <thead>\n",
       "    <tr style=\"text-align: right;\">\n",
       "      <th></th>\n",
       "      <th>genexp</th>\n",
       "    </tr>\n",
       "    <tr>\n",
       "      <th>Mutation</th>\n",
       "      <th></th>\n",
       "    </tr>\n",
       "  </thead>\n",
       "  <tbody>\n",
       "    <tr>\n",
       "      <th>F</th>\n",
       "      <td>3.172452</td>\n",
       "    </tr>\n",
       "    <tr>\n",
       "      <th>T</th>\n",
       "      <td>2.747706</td>\n",
       "    </tr>\n",
       "  </tbody>\n",
       "</table>\n",
       "</div>"
      ],
      "text/plain": [
       "            genexp\n",
       "Mutation          \n",
       "F         3.172452\n",
       "T         2.747706"
      ]
     },
     "execution_count": 12,
     "metadata": {},
     "output_type": "execute_result"
    }
   ],
   "source": [
    "mydf.groupby('Mutation').mean()"
   ]
  },
  {
   "cell_type": "markdown",
   "metadata": {},
   "source": [
    "Finally, we can also perform a t-test to determine if the difference between the mean of the two groups is statistically significant"
   ]
  },
  {
   "cell_type": "code",
   "execution_count": 13,
   "metadata": {},
   "outputs": [
    {
     "data": {
      "text/plain": [
       "Ttest_indResult(statistic=3.892136471894355, pvalue=0.0003816227439487523)"
      ]
     },
     "execution_count": 13,
     "metadata": {},
     "output_type": "execute_result"
    }
   ],
   "source": [
    "Set1 = mydf[mydf['Mutation']=='F']\n",
    "Set2 = mydf[mydf['Mutation']=='T']\n",
    "ttest_ind(Set1['genexp'], Set2['genexp'], equal_var=False )"
   ]
  },
  {
   "cell_type": "code",
   "execution_count": null,
   "metadata": {},
   "outputs": [],
   "source": []
  }
 ],
 "metadata": {
  "kernelspec": {
   "display_name": "Python 3",
   "language": "python",
   "name": "python3"
  },
  "language_info": {
   "codemirror_mode": {
    "name": "ipython",
    "version": 3
   },
   "file_extension": ".py",
   "mimetype": "text/x-python",
   "name": "python",
   "nbconvert_exporter": "python",
   "pygments_lexer": "ipython3",
   "version": "3.7.1"
  }
 },
 "nbformat": 4,
 "nbformat_minor": 2
}
