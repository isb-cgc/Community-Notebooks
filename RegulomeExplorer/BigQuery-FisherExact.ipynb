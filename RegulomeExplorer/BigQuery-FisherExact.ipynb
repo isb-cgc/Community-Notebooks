{
  "cells": [
    {
      "cell_type": "markdown",
      "metadata": {
        "id": "view-in-github",
        "colab_type": "text"
      },
      "source": [
        "<a href=\"https://colab.research.google.com/github/isb-cgc/Community-Notebooks/blob/master/RegulomeExplorer/BigQuery-FisherExact.ipynb\" target=\"_parent\"><img src=\"https://colab.research.google.com/assets/colab-badge.svg\" alt=\"Open In Colab\"/></a>"
      ]
    },
    {
      "cell_type": "markdown",
      "metadata": {
        "id": "qc-5kltoLFvK"
      },
      "source": [
        "# ISB-CGC Community Notebooks\n",
        "\n",
        "Check out more notebooks at our [Community Notebooks Repository](https://github.com/isb-cgc/Community-Notebooks)!\n",
        "\n",
        "```\n",
        "Title:   Regulome Explorer  Fisher's exact test to identify significant co-mutations\n",
        "Author:  Boris Aguilar\n",
        "Created: 2020-06-20\n",
        "Last Updated: 2023-07-26\n",
        "Purpose: To provide an example of how to use Fisher's exact test in Bigquery\n",
        "URL:     https://github.com/isb-cgc/Community-Notebooks/blob/master/RegulomeExplorer/BigQuery-FisherExact.ipynb\n",
        "Notes:   This notebook uses the BigQuery User-defined function p_fisherexact_current. The source code and examples of how to use this function can be found in https://github.com/isb-cgc/Community-Notebooks/tree/master/BQUserFunctions .\n",
        "```\n",
        "\n",
        "Check out more notebooks with statistical analysis at our ['Regulome Explorer Repository'](https://github.com/isb-cgc/Community-Notebooks/tree/master/RegulomeExplorer)!\n",
        "\n",
        "In this notebook we describe how Regulome Explorer uses the Fisher's exact test to compute the significance of associations between two categorical features. This test is used by Regulome Explorer when both features have only two categories, such as the presence or absence of Somatic mutations or the gender of the participants.\n",
        "\n",
        "To describe the implementation, we will use Somatic mutation data for two user defined genes. This data is read from a BigQuery table in the pancancer-atlas dataset. For reference, a description of the Fisher's exact can be found in the following link: http://mathworld.wolfram.com/FishersExactTest.html"
      ]
    },
    {
      "cell_type": "markdown",
      "metadata": {
        "id": "_aIjZZ_SLFvQ"
      },
      "source": [
        "## Authenticate with Google  (IMPORTANT)\n",
        "The first step is to authorize access to BigQuery and the Google Cloud. For more information see ['Quick Start Guide to ISB-CGC'](https://isb-cancer-genomics-cloud.readthedocs.io/en/latest/sections/HowToGetStartedonISB-CGC.html) and alternative authentication methods can be found [here](https://googleapis.github.io/google-cloud-python/latest/core/auth.html)."
      ]
    },
    {
      "cell_type": "code",
      "source": [
        "from google.colab import auth\n",
        "import google.auth\n",
        "\n",
        "auth.authenticate_user()"
      ],
      "metadata": {
        "id": "LuhOL3FUfWqd"
      },
      "execution_count": 39,
      "outputs": []
    },
    {
      "cell_type": "markdown",
      "metadata": {
        "id": "E6ajm8o8LFvR"
      },
      "source": [
        "### Import Python libraries"
      ]
    },
    {
      "cell_type": "code",
      "execution_count": 40,
      "metadata": {
        "collapsed": true,
        "id": "_6NtstrFLFvS"
      },
      "outputs": [],
      "source": [
        "from google.cloud import bigquery\n",
        "import numpy as np\n",
        "import pandas as pd\n",
        "from scipy import stats\n",
        "import seaborn as sns\n",
        "import pandas_gbq\n"
      ]
    },
    {
      "cell_type": "markdown",
      "source": [
        "### Setting up your Google project"
      ],
      "metadata": {
        "id": "glOPS6dQLouE"
      }
    },
    {
      "cell_type": "code",
      "source": [
        "my_project_id = \"\" # write your project id here"
      ],
      "metadata": {
        "id": "6fbGQnYrLn8I"
      },
      "execution_count": 41,
      "outputs": []
    },
    {
      "cell_type": "markdown",
      "metadata": {
        "id": "CCEFRMOsLFvU"
      },
      "source": [
        "## Userdefined Parameters\n",
        "The parameters for this experiment are the cancer type, the name of gene1 and the name of gene2 for which mutation information will be extracted.  "
      ]
    },
    {
      "cell_type": "code",
      "execution_count": 42,
      "metadata": {
        "collapsed": true,
        "id": "uPHFUfiqLFvU"
      },
      "outputs": [],
      "source": [
        "cancer_type = 'PAAD'\n",
        "mutation_name1 = 'KRAS'\n",
        "mutation_name2 = 'TP53'\n",
        "MinSampleSize = 10"
      ]
    },
    {
      "cell_type": "markdown",
      "metadata": {
        "id": "JbFXWNDkLFvV"
      },
      "source": [
        "## Data from BigQuery tables"
      ]
    },
    {
      "cell_type": "markdown",
      "metadata": {
        "id": "aecPTXFQLFvV"
      },
      "source": [
        "The first step is to select all participants in the selected study with a least one mutation."
      ]
    },
    {
      "cell_type": "code",
      "execution_count": 43,
      "metadata": {
        "collapsed": true,
        "id": "4v-4JxVsLFvW"
      },
      "outputs": [],
      "source": [
        "barcode_set = \"\"\"barcodes AS (\n",
        "   SELECT bcr_patient_barcode AS ParticipantBarcode\n",
        "   FROM `isb-cgc-bq.pancancer_atlas.Filtered_clinical_PANCAN_patient_with_followup`\n",
        "   WHERE acronym = '{0}'\n",
        ")\n",
        "\"\"\".format(cancer_type)"
      ]
    },
    {
      "cell_type": "markdown",
      "metadata": {
        "id": "svuXqW7jLFvW"
      },
      "source": [
        "Somatic mutation data for gene 1. The following string query will retrieve a table with patients with at least one Somatic mutation in the user defined gene ('mutation_name'). This information is extracted from the 'pancancer-atlas.Filtered.MC3_MAF_V5_one_per_tumor_sample' table, available in pancancer-atlas dataset. Notice that we only use samples in which FILTER = 'PASS'."
      ]
    },
    {
      "cell_type": "code",
      "execution_count": 44,
      "metadata": {
        "collapsed": true,
        "id": "33hRqpGmLFvX"
      },
      "outputs": [],
      "source": [
        "query_table1 = \"\"\"table1 AS (\n",
        "SELECT\n",
        "   t1.ParticipantBarcode,\n",
        "   IF( t2.ParticipantBarcode is null, 'NO', 'YES') as data\n",
        "FROM\n",
        "   barcodes AS t1\n",
        "LEFT JOIN\n",
        "   (\n",
        "   SELECT\n",
        "      ParticipantBarcode AS ParticipantBarcode\n",
        "   FROM `isb-cgc-bq.pancancer_atlas.Filtered_MC3_MAF_V5_one_per_tumor_sample`\n",
        "   WHERE Study = '{0}' AND Hugo_Symbol = '{1}'\n",
        "         AND FILTER = 'PASS'\n",
        "   GROUP BY ParticipantBarcode\n",
        "   ) AS t2\n",
        "ON t1.ParticipantBarcode = t2.ParticipantBarcode\n",
        ")\n",
        "\"\"\".format(cancer_type, mutation_name1)"
      ]
    },
    {
      "cell_type": "markdown",
      "metadata": {
        "id": "fQDfb0q-LFvX"
      },
      "source": [
        "The Somatic mutation data for gene 2 is retrieved using a similar query:"
      ]
    },
    {
      "cell_type": "code",
      "execution_count": 45,
      "metadata": {
        "collapsed": true,
        "id": "gTJc15lSLFvX"
      },
      "outputs": [],
      "source": [
        "query_table2 = \"\"\"table2 AS (\n",
        "SELECT\n",
        "   t1.ParticipantBarcode,\n",
        "   IF( t2.ParticipantBarcode is null, 'NO', 'YES') as data\n",
        "FROM\n",
        "   barcodes AS t1\n",
        "LEFT JOIN\n",
        "   (\n",
        "   SELECT\n",
        "      ParticipantBarcode AS ParticipantBarcode\n",
        "   FROM `isb-cgc-bq.pancancer_atlas.Filtered_MC3_MAF_V5_one_per_tumor_sample`\n",
        "   WHERE Study = '{0}' AND Hugo_Symbol = '{1}'\n",
        "         AND FILTER = 'PASS'\n",
        "   GROUP BY ParticipantBarcode\n",
        "   ) AS t2\n",
        "ON t1.ParticipantBarcode = t2.ParticipantBarcode\n",
        ")\n",
        "\"\"\".format(cancer_type, mutation_name2)"
      ]
    },
    {
      "cell_type": "markdown",
      "metadata": {
        "id": "7Tyt4xZFLFvX"
      },
      "source": [
        "The following query combines the two tables based on Participant barcodes. Nij is the number of participants for each pair of categories. data1 (data2) column is the Somatic Mutations for gene1 (gene2). 'YES' for pariticpants with mutation and 'NO' otherwise.   "
      ]
    },
    {
      "cell_type": "code",
      "execution_count": 46,
      "metadata": {
        "collapsed": true,
        "id": "Qc45Yx4gLFvY"
      },
      "outputs": [],
      "source": [
        "query_summarize = \"\"\"summ_table AS (\n",
        "SELECT\n",
        "   n1.data as data1,\n",
        "   n2.data as data2,\n",
        "   COUNT(*) as Nij\n",
        "FROM\n",
        "   table1 AS n1\n",
        "INNER JOIN\n",
        "   table2 AS n2\n",
        "ON\n",
        "   n1.ParticipantBarcode = n2.ParticipantBarcode\n",
        "GROUP BY\n",
        "  data1, data2\n",
        ")\n",
        "\"\"\".format(str(MinSampleSize) )"
      ]
    },
    {
      "cell_type": "markdown",
      "metadata": {
        "id": "_uRh9CFVLFvY"
      },
      "source": [
        "At this point we can take a look at output table, where the column **Nij** is the number of participants for each pair of categorical values."
      ]
    },
    {
      "cell_type": "code",
      "execution_count": 47,
      "metadata": {
        "colab": {
          "base_uri": "https://localhost:8080/",
          "height": 192
        },
        "id": "X93k95KDLFvY",
        "outputId": "d360c719-3b4b-4333-c92d-6abcfff8f37e"
      },
      "outputs": [
        {
          "output_type": "stream",
          "name": "stdout",
          "text": [
            "Downloading: 100%|\u001b[32m██████████\u001b[0m|\n"
          ]
        },
        {
          "output_type": "execute_result",
          "data": {
            "text/plain": [
              "  data1 data2  Nij\n",
              "0    NO    NO   50\n",
              "1    NO   YES   17\n",
              "2   YES   YES   90\n",
              "3   YES    NO   27"
            ],
            "text/html": [
              "\n",
              "\n",
              "  <div id=\"df-5bc9f256-2fc0-4ef2-86e4-867e095e7c18\">\n",
              "    <div class=\"colab-df-container\">\n",
              "      <div>\n",
              "<style scoped>\n",
              "    .dataframe tbody tr th:only-of-type {\n",
              "        vertical-align: middle;\n",
              "    }\n",
              "\n",
              "    .dataframe tbody tr th {\n",
              "        vertical-align: top;\n",
              "    }\n",
              "\n",
              "    .dataframe thead th {\n",
              "        text-align: right;\n",
              "    }\n",
              "</style>\n",
              "<table border=\"1\" class=\"dataframe\">\n",
              "  <thead>\n",
              "    <tr style=\"text-align: right;\">\n",
              "      <th></th>\n",
              "      <th>data1</th>\n",
              "      <th>data2</th>\n",
              "      <th>Nij</th>\n",
              "    </tr>\n",
              "  </thead>\n",
              "  <tbody>\n",
              "    <tr>\n",
              "      <th>0</th>\n",
              "      <td>NO</td>\n",
              "      <td>NO</td>\n",
              "      <td>50</td>\n",
              "    </tr>\n",
              "    <tr>\n",
              "      <th>1</th>\n",
              "      <td>NO</td>\n",
              "      <td>YES</td>\n",
              "      <td>17</td>\n",
              "    </tr>\n",
              "    <tr>\n",
              "      <th>2</th>\n",
              "      <td>YES</td>\n",
              "      <td>YES</td>\n",
              "      <td>90</td>\n",
              "    </tr>\n",
              "    <tr>\n",
              "      <th>3</th>\n",
              "      <td>YES</td>\n",
              "      <td>NO</td>\n",
              "      <td>27</td>\n",
              "    </tr>\n",
              "  </tbody>\n",
              "</table>\n",
              "</div>\n",
              "      <button class=\"colab-df-convert\" onclick=\"convertToInteractive('df-5bc9f256-2fc0-4ef2-86e4-867e095e7c18')\"\n",
              "              title=\"Convert this dataframe to an interactive table.\"\n",
              "              style=\"display:none;\">\n",
              "\n",
              "  <svg xmlns=\"http://www.w3.org/2000/svg\" height=\"24px\"viewBox=\"0 0 24 24\"\n",
              "       width=\"24px\">\n",
              "    <path d=\"M0 0h24v24H0V0z\" fill=\"none\"/>\n",
              "    <path d=\"M18.56 5.44l.94 2.06.94-2.06 2.06-.94-2.06-.94-.94-2.06-.94 2.06-2.06.94zm-11 1L8.5 8.5l.94-2.06 2.06-.94-2.06-.94L8.5 2.5l-.94 2.06-2.06.94zm10 10l.94 2.06.94-2.06 2.06-.94-2.06-.94-.94-2.06-.94 2.06-2.06.94z\"/><path d=\"M17.41 7.96l-1.37-1.37c-.4-.4-.92-.59-1.43-.59-.52 0-1.04.2-1.43.59L10.3 9.45l-7.72 7.72c-.78.78-.78 2.05 0 2.83L4 21.41c.39.39.9.59 1.41.59.51 0 1.02-.2 1.41-.59l7.78-7.78 2.81-2.81c.8-.78.8-2.07 0-2.86zM5.41 20L4 18.59l7.72-7.72 1.47 1.35L5.41 20z\"/>\n",
              "  </svg>\n",
              "      </button>\n",
              "\n",
              "\n",
              "\n",
              "    <div id=\"df-b266052b-b4b9-492f-8cdc-fce7072a031a\">\n",
              "      <button class=\"colab-df-quickchart\" onclick=\"quickchart('df-b266052b-b4b9-492f-8cdc-fce7072a031a')\"\n",
              "              title=\"Suggest charts.\"\n",
              "              style=\"display:none;\">\n",
              "\n",
              "<svg xmlns=\"http://www.w3.org/2000/svg\" height=\"24px\"viewBox=\"0 0 24 24\"\n",
              "     width=\"24px\">\n",
              "    <g>\n",
              "        <path d=\"M19 3H5c-1.1 0-2 .9-2 2v14c0 1.1.9 2 2 2h14c1.1 0 2-.9 2-2V5c0-1.1-.9-2-2-2zM9 17H7v-7h2v7zm4 0h-2V7h2v10zm4 0h-2v-4h2v4z\"/>\n",
              "    </g>\n",
              "</svg>\n",
              "      </button>\n",
              "    </div>\n",
              "\n",
              "<style>\n",
              "  .colab-df-quickchart {\n",
              "    background-color: #E8F0FE;\n",
              "    border: none;\n",
              "    border-radius: 50%;\n",
              "    cursor: pointer;\n",
              "    display: none;\n",
              "    fill: #1967D2;\n",
              "    height: 32px;\n",
              "    padding: 0 0 0 0;\n",
              "    width: 32px;\n",
              "  }\n",
              "\n",
              "  .colab-df-quickchart:hover {\n",
              "    background-color: #E2EBFA;\n",
              "    box-shadow: 0px 1px 2px rgba(60, 64, 67, 0.3), 0px 1px 3px 1px rgba(60, 64, 67, 0.15);\n",
              "    fill: #174EA6;\n",
              "  }\n",
              "\n",
              "  [theme=dark] .colab-df-quickchart {\n",
              "    background-color: #3B4455;\n",
              "    fill: #D2E3FC;\n",
              "  }\n",
              "\n",
              "  [theme=dark] .colab-df-quickchart:hover {\n",
              "    background-color: #434B5C;\n",
              "    box-shadow: 0px 1px 3px 1px rgba(0, 0, 0, 0.15);\n",
              "    filter: drop-shadow(0px 1px 2px rgba(0, 0, 0, 0.3));\n",
              "    fill: #FFFFFF;\n",
              "  }\n",
              "</style>\n",
              "\n",
              "    <script>\n",
              "      async function quickchart(key) {\n",
              "        const containerElement = document.querySelector('#' + key);\n",
              "        const charts = await google.colab.kernel.invokeFunction(\n",
              "            'suggestCharts', [key], {});\n",
              "      }\n",
              "    </script>\n",
              "\n",
              "      <script>\n",
              "\n",
              "function displayQuickchartButton(domScope) {\n",
              "  let quickchartButtonEl =\n",
              "    domScope.querySelector('#df-b266052b-b4b9-492f-8cdc-fce7072a031a button.colab-df-quickchart');\n",
              "  quickchartButtonEl.style.display =\n",
              "    google.colab.kernel.accessAllowed ? 'block' : 'none';\n",
              "}\n",
              "\n",
              "        displayQuickchartButton(document);\n",
              "      </script>\n",
              "      <style>\n",
              "    .colab-df-container {\n",
              "      display:flex;\n",
              "      flex-wrap:wrap;\n",
              "      gap: 12px;\n",
              "    }\n",
              "\n",
              "    .colab-df-convert {\n",
              "      background-color: #E8F0FE;\n",
              "      border: none;\n",
              "      border-radius: 50%;\n",
              "      cursor: pointer;\n",
              "      display: none;\n",
              "      fill: #1967D2;\n",
              "      height: 32px;\n",
              "      padding: 0 0 0 0;\n",
              "      width: 32px;\n",
              "    }\n",
              "\n",
              "    .colab-df-convert:hover {\n",
              "      background-color: #E2EBFA;\n",
              "      box-shadow: 0px 1px 2px rgba(60, 64, 67, 0.3), 0px 1px 3px 1px rgba(60, 64, 67, 0.15);\n",
              "      fill: #174EA6;\n",
              "    }\n",
              "\n",
              "    [theme=dark] .colab-df-convert {\n",
              "      background-color: #3B4455;\n",
              "      fill: #D2E3FC;\n",
              "    }\n",
              "\n",
              "    [theme=dark] .colab-df-convert:hover {\n",
              "      background-color: #434B5C;\n",
              "      box-shadow: 0px 1px 3px 1px rgba(0, 0, 0, 0.15);\n",
              "      filter: drop-shadow(0px 1px 2px rgba(0, 0, 0, 0.3));\n",
              "      fill: #FFFFFF;\n",
              "    }\n",
              "  </style>\n",
              "\n",
              "      <script>\n",
              "        const buttonEl =\n",
              "          document.querySelector('#df-5bc9f256-2fc0-4ef2-86e4-867e095e7c18 button.colab-df-convert');\n",
              "        buttonEl.style.display =\n",
              "          google.colab.kernel.accessAllowed ? 'block' : 'none';\n",
              "\n",
              "        async function convertToInteractive(key) {\n",
              "          const element = document.querySelector('#df-5bc9f256-2fc0-4ef2-86e4-867e095e7c18');\n",
              "          const dataTable =\n",
              "            await google.colab.kernel.invokeFunction('convertToInteractive',\n",
              "                                                     [key], {});\n",
              "          if (!dataTable) return;\n",
              "\n",
              "          const docLinkHtml = 'Like what you see? Visit the ' +\n",
              "            '<a target=\"_blank\" href=https://colab.research.google.com/notebooks/data_table.ipynb>data table notebook</a>'\n",
              "            + ' to learn more about interactive tables.';\n",
              "          element.innerHTML = '';\n",
              "          dataTable['output_type'] = 'display_data';\n",
              "          await google.colab.output.renderOutput(dataTable, element);\n",
              "          const docLink = document.createElement('div');\n",
              "          docLink.innerHTML = docLinkHtml;\n",
              "          element.appendChild(docLink);\n",
              "        }\n",
              "      </script>\n",
              "    </div>\n",
              "  </div>\n"
            ]
          },
          "metadata": {},
          "execution_count": 47
        }
      ],
      "source": [
        "sql_data = 'WITH\\n' + barcode_set+','+query_table1+','+query_table2+','+query_summarize\n",
        "\n",
        "sql = (sql_data + '\\n' +\n",
        "\"\"\"SELECT * FROM summ_table\n",
        "   ORDER BY  data1\n",
        "\"\"\")\n",
        "\n",
        "df_data = pandas_gbq.read_gbq(sql,project_id=my_project_id )\n",
        "\n",
        "df_data"
      ]
    },
    {
      "cell_type": "markdown",
      "metadata": {
        "id": "sLdAkZ7ZLFvZ"
      },
      "source": [
        "We can use a 'catplot' to visualize the populations in each category."
      ]
    },
    {
      "cell_type": "code",
      "execution_count": 48,
      "metadata": {
        "colab": {
          "base_uri": "https://localhost:8080/",
          "height": 424
        },
        "id": "zHC721wPLFvZ",
        "outputId": "39d08faa-bcd7-4386-9654-faed3d8efb42"
      },
      "outputs": [
        {
          "output_type": "execute_result",
          "data": {
            "text/plain": [
              "<seaborn.axisgrid.FacetGrid at 0x7cff80463190>"
            ]
          },
          "metadata": {},
          "execution_count": 48
        },
        {
          "output_type": "display_data",
          "data": {
            "text/plain": [
              "<Figure size 355.875x400 with 1 Axes>"
            ],
            "image/png": "[encoded data removed]"
          },
          "metadata": {}
        }
      ],
      "source": [
        "df_data.rename(columns={ \"data1\": mutation_name1, \"data2\": mutation_name2 }, inplace=True)\n",
        "sns.catplot(y=mutation_name1, x=\"Nij\",hue=mutation_name2,data=df_data, kind=\"bar\",height=4, aspect=.7)"
      ]
    },
    {
      "cell_type": "markdown",
      "metadata": {
        "id": "NI2PRO4GLFva"
      },
      "source": [
        "##  Compute the statistics\n",
        "After sumarizing the data in the table above, we are in the position to perform the 2-sided Fisher's Exact test for the null hypothesis that no nonrandom associations exist between the two categorical variables (Somatic mutations). For clarity we consider the following 2x2 contingency table.\n",
        "\n",
        "|-         |-     |Gene2|    |\n",
        "|:--       |:-- |:--- |:---|\n",
        "|-         |-    |YES  |NO  |\n",
        "|**Gene1** |YES |$a$    |$b$   |\n",
        "|-          |NO  |$c$    |$d$   |\n",
        "\n",
        "To compute the p-Value of the Fisher's test, we need to compute the Hypergeometric distribution:\n",
        "\n",
        "$$Pr(x) = \\frac{(a+b)!(c+d)!(a+c)!(b+d)! }{x!(a+b-x)!(a+c-x)!(d-a+x)!n!} $$\n",
        "\n",
        "Where $n=a+b+c+d$. The p-Value is then computed by:\n",
        "\n",
        "$$p_{FET}(a,b,c,d) = \\sum_{x} Pr(x) \\ I\\left[ Pr(x) \\leq Pr(a) \\right]  $$\n",
        "\n",
        "Efficient computation of  $p_{FET}$ using BigQuery commands would be very difficult due to the factorials. Instead we take advantage of the possibility of implementing User-Defined Functions using JavaScript. We implemented a public User-defined function called pFisherExact that computes $p_{FET}$. The source code and an example of how to use this function in  Bigquery can be found in: https://github.com/isb-cgc/Community-Notebooks/tree/master/BQUserFunctions#p_fisherexact\n",
        ""
      ]
    },
    {
      "cell_type": "markdown",
      "metadata": {
        "id": "cKTCfdyKLFva"
      },
      "source": [
        "The following BigQuery string has the steps to compute $a$, $b$, $c$, and $d$ as indicated above and then uses the BigQuery function `p_fisherexact_current` to compute the p-Value of the Fisher exact test.  "
      ]
    },
    {
      "cell_type": "code",
      "execution_count": 49,
      "metadata": {
        "colab": {
          "base_uri": "https://localhost:8080/",
          "height": 98
        },
        "id": "CKc8kSz1LFvb",
        "outputId": "7adf6ac5-5aa6-4d03-e614-ef91193f798d"
      },
      "outputs": [
        {
          "output_type": "stream",
          "name": "stdout",
          "text": [
            "Downloading: 100%|\u001b[32m██████████\u001b[0m|\n"
          ]
        },
        {
          "output_type": "execute_result",
          "data": {
            "text/plain": [
              "    a   b   c   d        pValue\n",
              "0  90  27  17  50  8.046829e-12"
            ],
            "text/html": [
              "\n",
              "\n",
              "  <div id=\"df-295f2d28-426e-461c-9ef9-3a2f5d2c33eb\">\n",
              "    <div class=\"colab-df-container\">\n",
              "      <div>\n",
              "<style scoped>\n",
              "    .dataframe tbody tr th:only-of-type {\n",
              "        vertical-align: middle;\n",
              "    }\n",
              "\n",
              "    .dataframe tbody tr th {\n",
              "        vertical-align: top;\n",
              "    }\n",
              "\n",
              "    .dataframe thead th {\n",
              "        text-align: right;\n",
              "    }\n",
              "</style>\n",
              "<table border=\"1\" class=\"dataframe\">\n",
              "  <thead>\n",
              "    <tr style=\"text-align: right;\">\n",
              "      <th></th>\n",
              "      <th>a</th>\n",
              "      <th>b</th>\n",
              "      <th>c</th>\n",
              "      <th>d</th>\n",
              "      <th>pValue</th>\n",
              "    </tr>\n",
              "  </thead>\n",
              "  <tbody>\n",
              "    <tr>\n",
              "      <th>0</th>\n",
              "      <td>90</td>\n",
              "      <td>27</td>\n",
              "      <td>17</td>\n",
              "      <td>50</td>\n",
              "      <td>8.046829e-12</td>\n",
              "    </tr>\n",
              "  </tbody>\n",
              "</table>\n",
              "</div>\n",
              "      <button class=\"colab-df-convert\" onclick=\"convertToInteractive('df-295f2d28-426e-461c-9ef9-3a2f5d2c33eb')\"\n",
              "              title=\"Convert this dataframe to an interactive table.\"\n",
              "              style=\"display:none;\">\n",
              "\n",
              "  <svg xmlns=\"http://www.w3.org/2000/svg\" height=\"24px\"viewBox=\"0 0 24 24\"\n",
              "       width=\"24px\">\n",
              "    <path d=\"M0 0h24v24H0V0z\" fill=\"none\"/>\n",
              "    <path d=\"M18.56 5.44l.94 2.06.94-2.06 2.06-.94-2.06-.94-.94-2.06-.94 2.06-2.06.94zm-11 1L8.5 8.5l.94-2.06 2.06-.94-2.06-.94L8.5 2.5l-.94 2.06-2.06.94zm10 10l.94 2.06.94-2.06 2.06-.94-2.06-.94-.94-2.06-.94 2.06-2.06.94z\"/><path d=\"M17.41 7.96l-1.37-1.37c-.4-.4-.92-.59-1.43-.59-.52 0-1.04.2-1.43.59L10.3 9.45l-7.72 7.72c-.78.78-.78 2.05 0 2.83L4 21.41c.39.39.9.59 1.41.59.51 0 1.02-.2 1.41-.59l7.78-7.78 2.81-2.81c.8-.78.8-2.07 0-2.86zM5.41 20L4 18.59l7.72-7.72 1.47 1.35L5.41 20z\"/>\n",
              "  </svg>\n",
              "      </button>\n",
              "\n",
              "\n",
              "\n",
              "    <div id=\"df-05cd43a6-88e2-44fe-8e49-b5c1c3f68625\">\n",
              "      <button class=\"colab-df-quickchart\" onclick=\"quickchart('df-05cd43a6-88e2-44fe-8e49-b5c1c3f68625')\"\n",
              "              title=\"Suggest charts.\"\n",
              "              style=\"display:none;\">\n",
              "\n",
              "<svg xmlns=\"http://www.w3.org/2000/svg\" height=\"24px\"viewBox=\"0 0 24 24\"\n",
              "     width=\"24px\">\n",
              "    <g>\n",
              "        <path d=\"M19 3H5c-1.1 0-2 .9-2 2v14c0 1.1.9 2 2 2h14c1.1 0 2-.9 2-2V5c0-1.1-.9-2-2-2zM9 17H7v-7h2v7zm4 0h-2V7h2v10zm4 0h-2v-4h2v4z\"/>\n",
              "    </g>\n",
              "</svg>\n",
              "      </button>\n",
              "    </div>\n",
              "\n",
              "<style>\n",
              "  .colab-df-quickchart {\n",
              "    background-color: #E8F0FE;\n",
              "    border: none;\n",
              "    border-radius: 50%;\n",
              "    cursor: pointer;\n",
              "    display: none;\n",
              "    fill: #1967D2;\n",
              "    height: 32px;\n",
              "    padding: 0 0 0 0;\n",
              "    width: 32px;\n",
              "  }\n",
              "\n",
              "  .colab-df-quickchart:hover {\n",
              "    background-color: #E2EBFA;\n",
              "    box-shadow: 0px 1px 2px rgba(60, 64, 67, 0.3), 0px 1px 3px 1px rgba(60, 64, 67, 0.15);\n",
              "    fill: #174EA6;\n",
              "  }\n",
              "\n",
              "  [theme=dark] .colab-df-quickchart {\n",
              "    background-color: #3B4455;\n",
              "    fill: #D2E3FC;\n",
              "  }\n",
              "\n",
              "  [theme=dark] .colab-df-quickchart:hover {\n",
              "    background-color: #434B5C;\n",
              "    box-shadow: 0px 1px 3px 1px rgba(0, 0, 0, 0.15);\n",
              "    filter: drop-shadow(0px 1px 2px rgba(0, 0, 0, 0.3));\n",
              "    fill: #FFFFFF;\n",
              "  }\n",
              "</style>\n",
              "\n",
              "    <script>\n",
              "      async function quickchart(key) {\n",
              "        const containerElement = document.querySelector('#' + key);\n",
              "        const charts = await google.colab.kernel.invokeFunction(\n",
              "            'suggestCharts', [key], {});\n",
              "      }\n",
              "    </script>\n",
              "\n",
              "      <script>\n",
              "\n",
              "function displayQuickchartButton(domScope) {\n",
              "  let quickchartButtonEl =\n",
              "    domScope.querySelector('#df-05cd43a6-88e2-44fe-8e49-b5c1c3f68625 button.colab-df-quickchart');\n",
              "  quickchartButtonEl.style.display =\n",
              "    google.colab.kernel.accessAllowed ? 'block' : 'none';\n",
              "}\n",
              "\n",
              "        displayQuickchartButton(document);\n",
              "      </script>\n",
              "      <style>\n",
              "    .colab-df-container {\n",
              "      display:flex;\n",
              "      flex-wrap:wrap;\n",
              "      gap: 12px;\n",
              "    }\n",
              "\n",
              "    .colab-df-convert {\n",
              "      background-color: #E8F0FE;\n",
              "      border: none;\n",
              "      border-radius: 50%;\n",
              "      cursor: pointer;\n",
              "      display: none;\n",
              "      fill: #1967D2;\n",
              "      height: 32px;\n",
              "      padding: 0 0 0 0;\n",
              "      width: 32px;\n",
              "    }\n",
              "\n",
              "    .colab-df-convert:hover {\n",
              "      background-color: #E2EBFA;\n",
              "      box-shadow: 0px 1px 2px rgba(60, 64, 67, 0.3), 0px 1px 3px 1px rgba(60, 64, 67, 0.15);\n",
              "      fill: #174EA6;\n",
              "    }\n",
              "\n",
              "    [theme=dark] .colab-df-convert {\n",
              "      background-color: #3B4455;\n",
              "      fill: #D2E3FC;\n",
              "    }\n",
              "\n",
              "    [theme=dark] .colab-df-convert:hover {\n",
              "      background-color: #434B5C;\n",
              "      box-shadow: 0px 1px 3px 1px rgba(0, 0, 0, 0.15);\n",
              "      filter: drop-shadow(0px 1px 2px rgba(0, 0, 0, 0.3));\n",
              "      fill: #FFFFFF;\n",
              "    }\n",
              "  </style>\n",
              "\n",
              "      <script>\n",
              "        const buttonEl =\n",
              "          document.querySelector('#df-295f2d28-426e-461c-9ef9-3a2f5d2c33eb button.colab-df-convert');\n",
              "        buttonEl.style.display =\n",
              "          google.colab.kernel.accessAllowed ? 'block' : 'none';\n",
              "\n",
              "        async function convertToInteractive(key) {\n",
              "          const element = document.querySelector('#df-295f2d28-426e-461c-9ef9-3a2f5d2c33eb');\n",
              "          const dataTable =\n",
              "            await google.colab.kernel.invokeFunction('convertToInteractive',\n",
              "                                                     [key], {});\n",
              "          if (!dataTable) return;\n",
              "\n",
              "          const docLinkHtml = 'Like what you see? Visit the ' +\n",
              "            '<a target=\"_blank\" href=https://colab.research.google.com/notebooks/data_table.ipynb>data table notebook</a>'\n",
              "            + ' to learn more about interactive tables.';\n",
              "          element.innerHTML = '';\n",
              "          dataTable['output_type'] = 'display_data';\n",
              "          await google.colab.output.renderOutput(dataTable, element);\n",
              "          const docLink = document.createElement('div');\n",
              "          docLink.innerHTML = docLinkHtml;\n",
              "          element.appendChild(docLink);\n",
              "        }\n",
              "      </script>\n",
              "    </div>\n",
              "  </div>\n"
            ]
          },
          "metadata": {},
          "execution_count": 49
        }
      ],
      "source": [
        "query_fishertest = \"\"\"\n",
        "SELECT a,b,c,d,\n",
        "      `isb-cgc-bq.functions.p_fisherexact_current`(a,b,c,d) as pValue\n",
        "FROM (\n",
        "SELECT\n",
        "  MAX( IF( (data1='YES') AND (data2='YES'), Nij, NULL ) ) as a ,\n",
        "  MAX( IF( (data1='YES') AND (data2='NO') , Nij, NULL ) ) as b ,\n",
        "  MAX( IF( (data1='NO') AND (data2='YES') , Nij, NULL ) ) as c ,\n",
        "  MAX( IF( (data1='NO') AND (data2='NO')  , Nij, NULL ) )  as d\n",
        "FROM summ_table\n",
        ")\n",
        "WHERE a IS NOT NULL AND b IS NOT NULL AND c IS NOT NULL AND d IS NOT NULL\n",
        "\"\"\"\n",
        "\n",
        "sql = (  sql_data +  query_fishertest )\n",
        "\n",
        "df_results = pandas_gbq.read_gbq(sql,project_id=my_project_id )\n",
        "\n",
        "df_results"
      ]
    },
    {
      "cell_type": "markdown",
      "metadata": {
        "id": "DZJuwGGCLFvb"
      },
      "source": [
        "To test our implementation we can use the 'fisher_exact' function available in python"
      ]
    },
    {
      "cell_type": "code",
      "execution_count": 50,
      "metadata": {
        "colab": {
          "base_uri": "https://localhost:8080/"
        },
        "id": "DdWefWTcLFvb",
        "outputId": "0ad8e370-ce12-4595-9805-2ef736c60617"
      },
      "outputs": [
        {
          "output_type": "execute_result",
          "data": {
            "text/plain": [
              "8.046828829096647e-12"
            ]
          },
          "metadata": {},
          "execution_count": 50
        }
      ],
      "source": [
        "a = df_results['a'][0]\n",
        "b = df_results['b'][0]\n",
        "c = df_results['c'][0]\n",
        "d = df_results['d'][0]\n",
        "\n",
        "oddsratio, pvalue = stats.fisher_exact([[a, b], [c, d]])\n",
        "pvalue"
      ]
    }
  ],
  "metadata": {
    "kernelspec": {
      "display_name": "Python 3",
      "language": "python",
      "name": "python3"
    },
    "language_info": {
      "codemirror_mode": {
        "name": "ipython",
        "version": 3
      },
      "file_extension": ".py",
      "mimetype": "text/x-python",
      "name": "python",
      "nbconvert_exporter": "python",
      "pygments_lexer": "ipython3",
      "version": "3.5.4"
    },
    "colab": {
      "provenance": [],
      "include_colab_link": true
    }
  },
  "nbformat": 4,
  "nbformat_minor": 0
}