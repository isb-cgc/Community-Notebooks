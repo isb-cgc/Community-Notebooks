{
 "cells": [
  {
   "cell_type": "markdown",
   "metadata": {},
   "source": [
    "# Regulome Explorer 2.X\n",
    "Comparison of the average gene expression of two groups based on clinical data (catageorical)\n"
   ]
  },
  {
   "cell_type": "markdown",
   "metadata": {},
   "source": [
    "### Authenticate with Google  (IMPORTANT)\n",
    "Our first step is to authenticate with Google -- you will need to be a member of a Google Cloud Platform (GCP) project, with authorization to run BigQuery jobs in order to run this notebook.  If you don't have access to a GCP project, please contact the ISB-CGC team for help (www.isb-cgc.org)"
   ]
  },
  {
   "cell_type": "markdown",
   "metadata": {},
   "source": [
    "#### Import Python libraries"
   ]
  },
  {
   "cell_type": "code",
   "execution_count": 160,
   "metadata": {},
   "outputs": [],
   "source": [
    "from google.cloud import bigquery\n",
    "import numpy as np\n",
    "import pandas as pd\n",
    "from scipy import stats"
   ]
  },
  {
   "cell_type": "markdown",
   "metadata": {},
   "source": [
    "#### Python convenience functions\n",
    "\n",
    "- **`runQuery`**: a relatively generic BigQuery query-execution wrapper function which can be used to run a query in \"dry-run\"  mode or not:  the call to the `query()` function itself is inside a `try/except` block and if it fails we return `None`;  otherwise a \"dry\" will return an empty dataframe, and a \"live\" run will return the query results as a dataframe.  This function was modify from previous notebooks to handle user-defined parameteres necessary for the purpose of this notbeook.\n",
    "\n"
   ]
  },
  {
   "cell_type": "code",
   "execution_count": 161,
   "metadata": {},
   "outputs": [],
   "source": [
    "def runQuery ( client, qString, ParameterList1, ParameterList2, ParameterList3, dryRun=False ):\n",
    "  \n",
    "  print ( \"\\n in runQuery ... \" )\n",
    "  if ( dryRun ):\n",
    "    print ( \"    dry-run only \" )\n",
    "    \n",
    "  ## set up QueryJobConfig object\n",
    "  job_config = bigquery.QueryJobConfig()\n",
    "    \n",
    "  query_params = [\n",
    "        bigquery.ArrayQueryParameter('PARAMETERLIST1', 'STRING', ParameterList1 ),\n",
    "        bigquery.ArrayQueryParameter('PARAMETERLIST2', 'STRING', ParameterList2 ),\n",
    "        bigquery.ArrayQueryParameter('PARAMETERLIST3', 'STRING', ParameterList3 )\n",
    "  ]\n",
    "  job_config.query_parameters = query_params  \n",
    "    \n",
    "  job_config.dry_run = dryRun\n",
    "  job_config.use_query_cache = True\n",
    "  job_config.use_legacy_sql = False\n",
    "  \n",
    "  ## run the query\n",
    "  try:\n",
    "    query_job = client.query ( qString, job_config=job_config )\n",
    "    ## print ( \"    query job state: \", query_job.state )\n",
    "  except:\n",
    "    print ( \"  FATAL ERROR: query execution failed \" )\n",
    "    return ( None )\n",
    "  \n",
    "  ## return results as a dataframe (or an empty dataframe for a dry-run) \n",
    "  if ( not dryRun ):\n",
    "    try:\n",
    "      df = query_job.to_dataframe()\n",
    "      if ( query_job.total_bytes_processed==0 ):\n",
    "        print ( \"    the results for this query were previously cached \" )\n",
    "      else:\n",
    "        print ( \"    this query processed {} bytes \".format(query_job.total_bytes_processed) )\n",
    "      if ( len(df) < 1 ):\n",
    "        print ( \"  WARNING: this query returned NO results \")\n",
    "      return ( df )\n",
    "    except:\n",
    "      print ( \"  FATAL ERROR: query execution failed \" )\n",
    "      return ( None )\n",
    "    \n",
    "  else:\n",
    "    print ( \"    if not cached, this query will process {} bytes \".format(query_job.total_bytes_processed) )\n",
    "    ## return an empty dataframe\n",
    "    return ( pd.DataFrame() )"
   ]
  },
  {
   "cell_type": "markdown",
   "metadata": {},
   "source": [
    "### SQL Building Functions\n",
    "\n",
    "\n",
    "**`build_expdata`**. This function outputs a query string to create a table with three columns: patient ID, gene expresion, and gene name, for a user defined list of genes (PARAMETERLIST1) or all genes with gene expression data. Since a patient can have multiple samples, the gene expression value for each patient is averaged over the respective samples. "
   ]
  },
  {
   "cell_type": "code",
   "execution_count": 162,
   "metadata": {},
   "outputs": [],
   "source": [
    "def build_expdata ( study ):\n",
    "  qString = \"\"\"\n",
    "  expdata AS (\n",
    "       SELECT      \n",
    "           participantBarcode as patientid,\n",
    "           Symbol,\n",
    "           AVG( LOG10( normalized_count +1 )  ) as gene_exp\n",
    "       FROM\n",
    "          `pancancer-atlas.Filtered.EBpp_AdjustPANCAN_IlluminaHiSeq_RNASeqV2_genExp_filtered` \n",
    "       WHERE\n",
    "           #study = '__study__' AND Symbol IN UNNEST(@PARAMETERLIST1)\n",
    "           study = '__study__' AND Symbol IS NOT NULL\n",
    "       GROUP BY ParticipantBarcode, Symbol\n",
    "  )\"\"\".replace('__study__',study)\n",
    "  return qString\n",
    "    "
   ]
  },
  {
   "cell_type": "markdown",
   "metadata": {},
   "source": [
    "**`build_statdata`**. This function outputs a query string to create a table with four columns: gene_name, category, n, sumx, and sumx2. n is the number of patients with the same clinical category, sumx (sumx2) is the sum of the gene expression (squared) data over all patients with the same category. "
   ]
  },
  {
   "cell_type": "code",
   "execution_count": 163,
   "metadata": {},
   "outputs": [],
   "source": [
    "def build_statdata( category ):\n",
    "  qString =\"\"\"\n",
    "  statdata AS (\n",
    "       SELECT\n",
    "           A.Symbol,\n",
    "           B.__category__ as category,\n",
    "           COUNT( A.patientid ) as n,\n",
    "           SUM( A.gene_exp ) as sumx,\n",
    "           SUM( A.gene_exp * A.gene_exp ) as sumx2\n",
    "       FROM\n",
    "           expdata A\n",
    "       INNER JOIN `pancancer-atlas.Filtered.clinical_PANCAN_patient_with_followup_filtered`  B\n",
    "           ON A.patientid = B.bcr_patient_barcode\n",
    "       GROUP BY\n",
    "           B.__category__, A.Symbol     \n",
    "  )\"\"\".replace('__category__', category)    \n",
    "  return qString  "
   ]
  },
  {
   "cell_type": "markdown",
   "metadata": {},
   "source": [
    "**`build_groupdate`**. Outputs a query string that summarize the statistical data for the desired catageory values  that are specified for group1 and group 2.  This catagory values are defined by a couple parameter lists, PARAMETERLIST2 and PARAMETERLIST3 for group 1 and group 2 respectively."
   ]
  },
  {
   "cell_type": "code",
   "execution_count": 164,
   "metadata": {},
   "outputs": [],
   "source": [
    "def build_groupdate():\n",
    "  qString =\"\"\"\n",
    "  group1 AS (\n",
    "       SELECT Symbol, SUM( n ) as n, SUM( sumx ) as sumx, SUM( sumx2 ) as sumx2\n",
    "       FROM statdata \n",
    "       WHERE category IN UNNEST(@PARAMETERLIST2)\n",
    "       GROUP BY Symbol           \n",
    "  ),\n",
    "  group2 AS (\n",
    "       SELECT Symbol, SUM( n ) as n, SUM( sumx ) as sumx, SUM( sumx2 ) as sumx2\n",
    "       FROM statdata \n",
    "       WHERE category IN UNNEST(@PARAMETERLIST3)\n",
    "       GROUP BY Symbol           \n",
    "  )\n",
    "  \"\"\"  \n",
    "  return qString"
   ]
  },
  {
   "cell_type": "markdown",
   "metadata": {},
   "source": [
    "##  Start the analysis"
   ]
  },
  {
   "cell_type": "code",
   "execution_count": 165,
   "metadata": {},
   "outputs": [],
   "source": [
    "# Start by getting authorized.\n",
    "bqclient = bigquery.Client()"
   ]
  },
  {
   "cell_type": "markdown",
   "metadata": {},
   "source": [
    "###  Specify Parameters"
   ]
  },
  {
   "cell_type": "code",
   "execution_count": 166,
   "metadata": {},
   "outputs": [],
   "source": [
    "study = 'ACC' # Select Tumor type \n",
    "ClinicFeature1 = 'pathologic_stage'  # Clinical feature \n",
    "#gene_list =['IGF2','ADAM6','GRWD1','PATE3','CASP8'] #gene nems, irrelevant if all genes are evaluated\n",
    "group1 = [ 'Stage I', 'Stage II']   # Category values to define group 1\n",
    "group2 = ['Stage III', 'Stage IV']  # Category values to define group 1\n"
   ]
  },
  {
   "cell_type": "markdown",
   "metadata": {},
   "source": [
    "### Obtain data from Bigquery\n",
    "We retreive data for t test evaluation. The ouput of the code is a dataframe with 7 columns corresponding to gene name (Symbol), the number of samples, average expression and variance of the two groups.\n",
    "This computation can take several seconds."
   ]
  },
  {
   "cell_type": "code",
   "execution_count": 167,
   "metadata": {},
   "outputs": [
    {
     "name": "stdout",
     "output_type": "stream",
     "text": [
      "\n",
      " in runQuery ... \n",
      "    the results for this query were previously cached \n"
     ]
    }
   ],
   "source": [
    "# Build the sql code\n",
    "sql = (\n",
    "\"\"\"WITH\n",
    "\"\"\"+\n",
    "build_expdata( study ) + ',\\n' + \n",
    "build_statdata( ClinicFeature1 ) + ',\\n' +\n",
    "build_groupdate() + '\\n' +    \n",
    "\"\"\"\n",
    "SELECT \n",
    "  A.Symbol,\n",
    "  A.n as n1, (A.sumx/A.n) as avg1 , (A.sumx2 - A.sumx*A.sumx/A.n)/(A.n - 1) as var1 ,\n",
    "  B.n as n2, (B.sumx/B.n) as avg2 , (B.sumx2 - B.sumx*B.sumx/B.n)/(B.n - 1) as var2\n",
    "FROM \n",
    "  group1 A\n",
    "INNER JOIN\n",
    "  group2 B\n",
    "ON   \n",
    "  A.Symbol  = B.Symbol \n",
    "\"\"\"\n",
    ")\n",
    "\n",
    "# bigquery \n",
    "res0 = runQuery ( bqclient, sql, gene_list, group1, group2, dryRun=False )"
   ]
  },
  {
   "cell_type": "markdown",
   "metadata": {},
   "source": [
    "We can now take a look the computed statistics. We have to make sure that there is not NUL values which may indicate that a group has no elements."
   ]
  },
  {
   "cell_type": "code",
   "execution_count": 168,
   "metadata": {},
   "outputs": [
    {
     "data": {
      "text/html": [
       "<div>\n",
       "<style scoped>\n",
       "    .dataframe tbody tr th:only-of-type {\n",
       "        vertical-align: middle;\n",
       "    }\n",
       "\n",
       "    .dataframe tbody tr th {\n",
       "        vertical-align: top;\n",
       "    }\n",
       "\n",
       "    .dataframe thead th {\n",
       "        text-align: right;\n",
       "    }\n",
       "</style>\n",
       "<table border=\"1\" class=\"dataframe\">\n",
       "  <thead>\n",
       "    <tr style=\"text-align: right;\">\n",
       "      <th></th>\n",
       "      <th>Symbol</th>\n",
       "      <th>n1</th>\n",
       "      <th>avg1</th>\n",
       "      <th>var1</th>\n",
       "      <th>n2</th>\n",
       "      <th>avg2</th>\n",
       "      <th>var2</th>\n",
       "    </tr>\n",
       "  </thead>\n",
       "  <tbody>\n",
       "    <tr>\n",
       "      <th>0</th>\n",
       "      <td>TNIP2</td>\n",
       "      <td>46</td>\n",
       "      <td>2.721017</td>\n",
       "      <td>0.032786</td>\n",
       "      <td>30</td>\n",
       "      <td>2.724020</td>\n",
       "      <td>0.023377</td>\n",
       "    </tr>\n",
       "    <tr>\n",
       "      <th>1</th>\n",
       "      <td>AP1G1</td>\n",
       "      <td>46</td>\n",
       "      <td>3.370978</td>\n",
       "      <td>0.014340</td>\n",
       "      <td>30</td>\n",
       "      <td>3.346823</td>\n",
       "      <td>0.029890</td>\n",
       "    </tr>\n",
       "    <tr>\n",
       "      <th>2</th>\n",
       "      <td>C14orf178</td>\n",
       "      <td>46</td>\n",
       "      <td>0.162027</td>\n",
       "      <td>0.030331</td>\n",
       "      <td>30</td>\n",
       "      <td>0.176604</td>\n",
       "      <td>0.034447</td>\n",
       "    </tr>\n",
       "    <tr>\n",
       "      <th>3</th>\n",
       "      <td>UBASH3B</td>\n",
       "      <td>46</td>\n",
       "      <td>1.566646</td>\n",
       "      <td>0.122094</td>\n",
       "      <td>30</td>\n",
       "      <td>1.533723</td>\n",
       "      <td>0.125481</td>\n",
       "    </tr>\n",
       "    <tr>\n",
       "      <th>4</th>\n",
       "      <td>PFKFB4</td>\n",
       "      <td>46</td>\n",
       "      <td>2.533325</td>\n",
       "      <td>0.232271</td>\n",
       "      <td>30</td>\n",
       "      <td>2.699664</td>\n",
       "      <td>0.241280</td>\n",
       "    </tr>\n",
       "    <tr>\n",
       "      <th>5</th>\n",
       "      <td>POU3F2</td>\n",
       "      <td>46</td>\n",
       "      <td>0.649067</td>\n",
       "      <td>0.366423</td>\n",
       "      <td>30</td>\n",
       "      <td>0.808881</td>\n",
       "      <td>0.471779</td>\n",
       "    </tr>\n",
       "    <tr>\n",
       "      <th>6</th>\n",
       "      <td>LOC100132831</td>\n",
       "      <td>46</td>\n",
       "      <td>0.101804</td>\n",
       "      <td>0.019569</td>\n",
       "      <td>30</td>\n",
       "      <td>0.121566</td>\n",
       "      <td>0.025672</td>\n",
       "    </tr>\n",
       "    <tr>\n",
       "      <th>7</th>\n",
       "      <td>NKAP</td>\n",
       "      <td>46</td>\n",
       "      <td>2.806441</td>\n",
       "      <td>0.020916</td>\n",
       "      <td>30</td>\n",
       "      <td>2.789437</td>\n",
       "      <td>0.032605</td>\n",
       "    </tr>\n",
       "    <tr>\n",
       "      <th>8</th>\n",
       "      <td>C6orf162</td>\n",
       "      <td>46</td>\n",
       "      <td>2.164080</td>\n",
       "      <td>0.031893</td>\n",
       "      <td>30</td>\n",
       "      <td>2.145919</td>\n",
       "      <td>0.029427</td>\n",
       "    </tr>\n",
       "    <tr>\n",
       "      <th>9</th>\n",
       "      <td>CXCL10</td>\n",
       "      <td>46</td>\n",
       "      <td>1.336228</td>\n",
       "      <td>0.318461</td>\n",
       "      <td>30</td>\n",
       "      <td>1.342521</td>\n",
       "      <td>0.510212</td>\n",
       "    </tr>\n",
       "  </tbody>\n",
       "</table>\n",
       "</div>"
      ],
      "text/plain": [
       "         Symbol  n1      avg1      var1  n2      avg2      var2\n",
       "0         TNIP2  46  2.721017  0.032786  30  2.724020  0.023377\n",
       "1         AP1G1  46  3.370978  0.014340  30  3.346823  0.029890\n",
       "2     C14orf178  46  0.162027  0.030331  30  0.176604  0.034447\n",
       "3       UBASH3B  46  1.566646  0.122094  30  1.533723  0.125481\n",
       "4        PFKFB4  46  2.533325  0.232271  30  2.699664  0.241280\n",
       "5        POU3F2  46  0.649067  0.366423  30  0.808881  0.471779\n",
       "6  LOC100132831  46  0.101804  0.019569  30  0.121566  0.025672\n",
       "7          NKAP  46  2.806441  0.020916  30  2.789437  0.032605\n",
       "8      C6orf162  46  2.164080  0.031893  30  2.145919  0.029427\n",
       "9        CXCL10  46  1.336228  0.318461  30  1.342521  0.510212"
      ]
     },
     "execution_count": 168,
     "metadata": {},
     "output_type": "execute_result"
    }
   ],
   "source": [
    "res0[0:10]"
   ]
  },
  {
   "cell_type": "markdown",
   "metadata": {},
   "source": [
    "###  Analyze the results\n",
    "We can now use python function to the data in the resulting dataframe (res0). For example we can compute t-scores and p-values to determine if the difference between the mean of the two groups is statistically significant"
   ]
  },
  {
   "cell_type": "code",
   "execution_count": 169,
   "metadata": {},
   "outputs": [
    {
     "name": "stderr",
     "output_type": "stream",
     "text": [
      "/Users/borisaguilar/anaconda3/lib/python3.7/site-packages/ipykernel_launcher.py:2: RuntimeWarning: invalid value encountered in double_scalars\n",
      "  \n"
     ]
    },
    {
     "data": {
      "text/html": [
       "<div>\n",
       "<style scoped>\n",
       "    .dataframe tbody tr th:only-of-type {\n",
       "        vertical-align: middle;\n",
       "    }\n",
       "\n",
       "    .dataframe tbody tr th {\n",
       "        vertical-align: top;\n",
       "    }\n",
       "\n",
       "    .dataframe thead th {\n",
       "        text-align: right;\n",
       "    }\n",
       "</style>\n",
       "<table border=\"1\" class=\"dataframe\">\n",
       "  <thead>\n",
       "    <tr style=\"text-align: right;\">\n",
       "      <th></th>\n",
       "      <th>Symbol</th>\n",
       "      <th>n1</th>\n",
       "      <th>avg1</th>\n",
       "      <th>var1</th>\n",
       "      <th>n2</th>\n",
       "      <th>avg2</th>\n",
       "      <th>var2</th>\n",
       "      <th>tscore</th>\n",
       "      <th>pvalue</th>\n",
       "    </tr>\n",
       "  </thead>\n",
       "  <tbody>\n",
       "    <tr>\n",
       "      <th>6740</th>\n",
       "      <td>DCAF15</td>\n",
       "      <td>46</td>\n",
       "      <td>2.791652</td>\n",
       "      <td>0.021481</td>\n",
       "      <td>30</td>\n",
       "      <td>3.001801</td>\n",
       "      <td>0.021450</td>\n",
       "      <td>-6.112562</td>\n",
       "      <td>4.211413e-08</td>\n",
       "    </tr>\n",
       "    <tr>\n",
       "      <th>2810</th>\n",
       "      <td>C14orf80</td>\n",
       "      <td>46</td>\n",
       "      <td>1.972242</td>\n",
       "      <td>0.065065</td>\n",
       "      <td>30</td>\n",
       "      <td>2.327349</td>\n",
       "      <td>0.060538</td>\n",
       "      <td>-6.061233</td>\n",
       "      <td>5.213308e-08</td>\n",
       "    </tr>\n",
       "    <tr>\n",
       "      <th>5810</th>\n",
       "      <td>HAUS8</td>\n",
       "      <td>46</td>\n",
       "      <td>2.022837</td>\n",
       "      <td>0.103465</td>\n",
       "      <td>30</td>\n",
       "      <td>2.398931</td>\n",
       "      <td>0.062825</td>\n",
       "      <td>-5.706652</td>\n",
       "      <td>2.243011e-07</td>\n",
       "    </tr>\n",
       "    <tr>\n",
       "      <th>11548</th>\n",
       "      <td>CENPJ</td>\n",
       "      <td>46</td>\n",
       "      <td>1.993653</td>\n",
       "      <td>0.035947</td>\n",
       "      <td>30</td>\n",
       "      <td>2.218451</td>\n",
       "      <td>0.026015</td>\n",
       "      <td>-5.536444</td>\n",
       "      <td>4.472172e-07</td>\n",
       "    </tr>\n",
       "    <tr>\n",
       "      <th>9086</th>\n",
       "      <td>DPF1</td>\n",
       "      <td>46</td>\n",
       "      <td>0.717971</td>\n",
       "      <td>0.338007</td>\n",
       "      <td>30</td>\n",
       "      <td>1.341653</td>\n",
       "      <td>0.161269</td>\n",
       "      <td>-5.529146</td>\n",
       "      <td>4.605700e-07</td>\n",
       "    </tr>\n",
       "    <tr>\n",
       "      <th>17069</th>\n",
       "      <td>MCM10</td>\n",
       "      <td>46</td>\n",
       "      <td>1.390464</td>\n",
       "      <td>0.201234</td>\n",
       "      <td>30</td>\n",
       "      <td>1.940207</td>\n",
       "      <td>0.175986</td>\n",
       "      <td>-5.432395</td>\n",
       "      <td>6.793837e-07</td>\n",
       "    </tr>\n",
       "    <tr>\n",
       "      <th>13006</th>\n",
       "      <td>PTCH2</td>\n",
       "      <td>46</td>\n",
       "      <td>1.237971</td>\n",
       "      <td>0.119995</td>\n",
       "      <td>30</td>\n",
       "      <td>1.734555</td>\n",
       "      <td>0.181423</td>\n",
       "      <td>-5.337440</td>\n",
       "      <td>9.924677e-07</td>\n",
       "    </tr>\n",
       "    <tr>\n",
       "      <th>17115</th>\n",
       "      <td>POLD1</td>\n",
       "      <td>46</td>\n",
       "      <td>2.596990</td>\n",
       "      <td>0.053311</td>\n",
       "      <td>30</td>\n",
       "      <td>2.857353</td>\n",
       "      <td>0.037465</td>\n",
       "      <td>-5.306079</td>\n",
       "      <td>1.124178e-06</td>\n",
       "    </tr>\n",
       "    <tr>\n",
       "      <th>11638</th>\n",
       "      <td>TRIP13</td>\n",
       "      <td>46</td>\n",
       "      <td>1.905145</td>\n",
       "      <td>0.174519</td>\n",
       "      <td>30</td>\n",
       "      <td>2.404135</td>\n",
       "      <td>0.152228</td>\n",
       "      <td>-5.298768</td>\n",
       "      <td>1.157266e-06</td>\n",
       "    </tr>\n",
       "    <tr>\n",
       "      <th>1901</th>\n",
       "      <td>UBE2S</td>\n",
       "      <td>46</td>\n",
       "      <td>2.703592</td>\n",
       "      <td>0.117995</td>\n",
       "      <td>30</td>\n",
       "      <td>3.069638</td>\n",
       "      <td>0.069413</td>\n",
       "      <td>-5.240540</td>\n",
       "      <td>1.457236e-06</td>\n",
       "    </tr>\n",
       "  </tbody>\n",
       "</table>\n",
       "</div>"
      ],
      "text/plain": [
       "         Symbol  n1      avg1      var1  n2      avg2      var2    tscore  \\\n",
       "6740     DCAF15  46  2.791652  0.021481  30  3.001801  0.021450 -6.112562   \n",
       "2810   C14orf80  46  1.972242  0.065065  30  2.327349  0.060538 -6.061233   \n",
       "5810      HAUS8  46  2.022837  0.103465  30  2.398931  0.062825 -5.706652   \n",
       "11548     CENPJ  46  1.993653  0.035947  30  2.218451  0.026015 -5.536444   \n",
       "9086       DPF1  46  0.717971  0.338007  30  1.341653  0.161269 -5.529146   \n",
       "17069     MCM10  46  1.390464  0.201234  30  1.940207  0.175986 -5.432395   \n",
       "13006     PTCH2  46  1.237971  0.119995  30  1.734555  0.181423 -5.337440   \n",
       "17115     POLD1  46  2.596990  0.053311  30  2.857353  0.037465 -5.306079   \n",
       "11638    TRIP13  46  1.905145  0.174519  30  2.404135  0.152228 -5.298768   \n",
       "1901      UBE2S  46  2.703592  0.117995  30  3.069638  0.069413 -5.240540   \n",
       "\n",
       "             pvalue  \n",
       "6740   4.211413e-08  \n",
       "2810   5.213308e-08  \n",
       "5810   2.243011e-07  \n",
       "11548  4.472172e-07  \n",
       "9086   4.605700e-07  \n",
       "17069  6.793837e-07  \n",
       "13006  9.924677e-07  \n",
       "17115  1.124178e-06  \n",
       "11638  1.157266e-06  \n",
       "1901   1.457236e-06  "
      ]
     },
     "execution_count": 169,
     "metadata": {},
     "output_type": "execute_result"
    }
   ],
   "source": [
    "# t statistics\n",
    "f = lambda n1,n2,avg1,avg2,var1,var2  : (avg1 - avg2) / np.sqrt(var1/float(n1) + var2/float(n2) ) \n",
    "res0['tscore'] = res0.apply(lambda x: f(x.n1,x.n2,x.avg1,x.avg2,x.var1,x.var2), axis=1)\n",
    "\n",
    "# p value \n",
    "f = lambda  n1,n2,tscore :  (1.0 -  stats.t.cdf(abs(tscore), n1 + n2 - 2 )) * 2.0 \n",
    "res0['pvalue'] = res0.apply(lambda x: f(x.n1,x.n2,x.tscore), axis=1)\n",
    "\n",
    "res0.sort_values( by= 'pvalue')[0:10]"
   ]
  },
  {
   "cell_type": "markdown",
   "metadata": {},
   "source": [
    "We can plot the data"
   ]
  },
  {
   "cell_type": "code",
   "execution_count": 170,
   "metadata": {},
   "outputs": [
    {
     "data": {
      "text/plain": [
       "<matplotlib.axes._subplots.AxesSubplot at 0x1a256c1908>"
      ]
     },
     "execution_count": 170,
     "metadata": {},
     "output_type": "execute_result"
    },
    {
     "data": {
      "image/png": "[encoded data removed]",
      "text/plain": [
       "<Figure size 432x288 with 1 Axes>"
      ]
     },
     "metadata": {
      "needs_background": "light"
     },
     "output_type": "display_data"
    }
   ],
   "source": [
    "res0['tscore'].plot.kde()"
   ]
  },
  {
   "cell_type": "code",
   "execution_count": null,
   "metadata": {},
   "outputs": [],
   "source": []
  }
 ],
 "metadata": {
  "kernelspec": {
   "display_name": "Python 3",
   "language": "python",
   "name": "python3"
  },
  "language_info": {
   "codemirror_mode": {
    "name": "ipython",
    "version": 3
   },
   "file_extension": ".py",
   "mimetype": "text/x-python",
   "name": "python",
   "nbconvert_exporter": "python",
   "pygments_lexer": "ipython3",
   "version": "3.7.1"
  }
 },
 "nbformat": 4,
 "nbformat_minor": 2
}
