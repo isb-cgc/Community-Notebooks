{
  "nbformat": 4,
  "nbformat_minor": 0,
  "metadata": {
    "colab": {
      "name": "Correlations_Protein_and_Gene_expression-CPTAC.ipynb",
      "provenance": [],
      "include_colab_link": true
    },
    "kernelspec": {
      "name": "python3",
      "display_name": "Python 3"
    }
  },
  "cells": [
    {
      "cell_type": "markdown",
      "metadata": {
        "id": "view-in-github",
        "colab_type": "text"
      },
      "source": [
        "<a href=\"https://colab.research.google.com/github/isb-cgc/Community-Notebooks/blob/Staging-Notebooks/RegulomeExplorer/Correlations_Protein_and_Gene_expression_CPTAC.ipynb\" target=\"_parent\"><img src=\"https://colab.research.google.com/assets/colab-badge.svg\" alt=\"Open In Colab\"/></a>"
      ]
    },
    {
      "cell_type": "markdown",
      "metadata": {
        "id": "9h1bEFTSoGyu"
      },
      "source": [
        "# Compute correlations of protein and gene expression in CPTAC\n",
        "\n",
        "\n",
        "```\n",
        "Title:   Correlations of protein and gene expression in CPTAC \n",
        "Author:  Boris Aguilar\n",
        "Created: 05-23-2021\n",
        "Purpose: Compute correlations between proteomic and gene expression available in the PDC \n",
        "Notes: Runs in Google Colab   \n",
        "```\n",
        "This notebook uses BigQuery to compute Pearson correlation between protein and gene expression for all the genes in the BigQuery tables of the PDC dataset. We used CCRCC as example; but this can be changed easily for other cancer types."
      ]
    },
    {
      "cell_type": "markdown",
      "metadata": {
        "id": "BCpeagmasFFs"
      },
      "source": [
        "## Modules"
      ]
    },
    {
      "cell_type": "code",
      "metadata": {
        "id": "losf8GRlZvcM"
      },
      "source": [
        "from google.cloud import bigquery\n",
        "from google.colab import auth\n",
        "import numpy as np\n",
        "import pandas as pd\n",
        "import seaborn as sns\n",
        "import pandas_gbq"
      ],
      "execution_count": 1,
      "outputs": []
    },
    {
      "cell_type": "markdown",
      "metadata": {
        "id": "CnzNWzE3zS0H"
      },
      "source": [
        "## Google Authentication\n",
        "The first step is to authorize access to BigQuery and the Google Cloud. For more information see ['Quick Start Guide to ISB-CGC'](https://isb-cancer-genomics-cloud.readthedocs.io/en/latest/sections/HowToGetStartedonISB-CGC.html) and alternative authentication methods can be found [here](https://googleapis.dev/python/google-api-core/latest/auth.html).\n",
        "\n",
        "Moreover you need to [create a google cloud](https://cloud.google.com/resource-manager/docs/creating-managing-projects#console) project to be able to run BigQuery queries."
      ]
    },
    {
      "cell_type": "code",
      "metadata": {
        "id": "2ySNqCskzONP"
      },
      "source": [
        "auth.authenticate_user()\n",
        "my_project_id = \"\" # write your project id here\n",
        "bqclient = bigquery.Client( my_project_id )"
      ],
      "execution_count": 2,
      "outputs": []
    },
    {
      "cell_type": "markdown",
      "metadata": {
        "id": "v0y0FkrvBn4L"
      },
      "source": [
        "## Retrieve protein expression of CCRCC\n",
        "The following query will retrieve protein expression and case IDs from CPTAC table `quant_proteome_CPTAC_CCRCC_discovery_study_pdc_current`. Moreover, to label samples as Tumor or Normal samples we join the table with metadata available in the table `aliquot_to_case_mapping_pdc_current` "
      ]
    },
    {
      "cell_type": "code",
      "metadata": {
        "id": "E2b6HN_cu-cn"
      },
      "source": [
        "prot = '''quant AS (\n",
        "    SELECT meta.sample_submitter_id, meta.sample_type, quant.case_id, quant.aliquot_id, quant.gene_symbol, \n",
        "           CAST(quant.protein_abundance_log2ratio AS FLOAT64) AS protein_abundance_log2ratio \n",
        "    FROM `isb-cgc-bq.CPTAC.quant_proteome_CPTAC_CCRCC_discovery_study_pdc_current` as quant\n",
        "    JOIN `isb-cgc-bq.PDC_metadata.aliquot_to_case_mapping_current` as meta\n",
        "        ON quant.case_id = meta.case_id\n",
        "        AND quant.aliquot_id = meta.aliquot_id\n",
        "        AND meta.sample_type IN ('Primary Tumor','Solid Tissue Normal')\n",
        ")'''"
      ],
      "execution_count": 3,
      "outputs": []
    },
    {
      "cell_type": "markdown",
      "metadata": {
        "id": "G_TjJAtgvtA2"
      },
      "source": [
        "## Retrieve gene expression of CCRCC\n",
        "Next we retrieve gene expression data from the table `CPTAC.RNAseq_hg38_gdc_current` which contains RNA-seq data from all tumor types of CPTAC. Moreover we join the data with the metadata table `aliquot_to_case_mapping_pdc_current` to label samples to cancer or normal tissue"
      ]
    },
    {
      "cell_type": "code",
      "metadata": {
        "id": "eAaHSre1v2cV"
      },
      "source": [
        "gexp = '''gexp AS (\n",
        "    SELECT DISTINCT meta.sample_submitter_id, meta.sample_type, rnaseq.gene_name , LOG(rnaseq.HTSeq__FPKM + 1) as HTSeq__FPKM   \n",
        "    FROM `isb-cgc-bq.CPTAC.RNAseq_hg38_gdc_current` as rnaseq\n",
        "    JOIN `isb-cgc-bq.PDC_metadata.aliquot_to_case_mapping_current` as meta\n",
        "        ON meta.sample_submitter_id = rnaseq.sample_barcode\n",
        ")'''"
      ],
      "execution_count": 4,
      "outputs": []
    },
    {
      "cell_type": "markdown",
      "metadata": {
        "id": "4IW69UHBwu2s"
      },
      "source": [
        "## Compute Pearson correlation\n",
        "The following query join the protein and gene expression data and compute correlation for each gene and semple type (normal or tumor)."
      ]
    },
    {
      "cell_type": "code",
      "metadata": {
        "id": "kDSJ47hbw28a"
      },
      "source": [
        "corr = '''correlation AS (\n",
        "    SELECT quant.gene_symbol, gexp.sample_type, COUNT(*) as n, CORR(protein_abundance_log2ratio,HTSeq__FPKM)  as corr \n",
        "    FROM quant JOIN gexp \n",
        "        ON quant.sample_submitter_id = gexp.sample_submitter_id\n",
        "        AND gexp.gene_name = quant.gene_symbol\n",
        "        AND gexp.sample_type = quant.sample_type\n",
        "    GROUP BY quant.gene_symbol, gexp.sample_type\n",
        ")'''"
      ],
      "execution_count": 5,
      "outputs": []
    },
    {
      "cell_type": "markdown",
      "metadata": {
        "id": "TKStdGWhxsYQ"
      },
      "source": [
        "## Compute p-values "
      ]
    },
    {
      "cell_type": "code",
      "metadata": {
        "id": "g3QdUOQqxz3X"
      },
      "source": [
        "pval = '''SELECT  gene_symbol, sample_type, n, corr,\n",
        "   `cgc-05-0042.functions.corr_pvalue`(corr, n) as p\n",
        "FROM correlation\n",
        "WHERE ABS(corr) <= 1.0'''"
      ],
      "execution_count": 6,
      "outputs": []
    },
    {
      "cell_type": "markdown",
      "metadata": {
        "id": "wGjeJAGuyqbA"
      },
      "source": [
        "## Adjust p-values\n",
        "The following commands generate the final query which will be sent to Google to retrieve the final data that include the correlation for each gene. The query also includes a function (BHmultipletests) that adjusts the computed p values with the Benjamini-Hochberg method for multipletest correction."
      ]
    },
    {
      "cell_type": "code",
      "metadata": {
        "id": "woduO0K9ywOM"
      },
      "source": [
        "mysql = '''DECLARE Nrows INT64;\n",
        "CREATE TEMP TABLE PearsonCorrelation AS\n",
        "WITH {0}, \n",
        "{1}, \n",
        "{2} \n",
        "{3}\n",
        ";\n",
        "# Adjust pvalues for multiple tests\n",
        "SET Nrows = ( SELECT COUNT(*) FROM PearsonCorrelation );\n",
        "CALL `cgc-05-0042.functions.BHmultipletests`( 'PearsonCorrelation', 'p', Nrows )\n",
        "'''.format(prot, gexp, corr, pval)"
      ],
      "execution_count": 7,
      "outputs": []
    },
    {
      "cell_type": "markdown",
      "metadata": {
        "id": "BcNc2B_hMmfn"
      },
      "source": [
        "## Run the query to retrieve the analysis "
      ]
    },
    {
      "cell_type": "code",
      "metadata": {
        "id": "0RzNRC16Mv11"
      },
      "source": [
        "job_config = bigquery.QueryJobConfig()\n",
        "job_config.use_legacy_sql = False\n",
        "try:\n",
        "    query_job = bqclient.query ( mysql, job_config=job_config )\n",
        "except:\n",
        "    print ( \"  FATAL ERROR: query execution failed \" )\n",
        "mydf = query_job.to_dataframe()"
      ],
      "execution_count": 8,
      "outputs": []
    },
    {
      "cell_type": "markdown",
      "metadata": {
        "id": "WUIdZMflFgTX"
      },
      "source": [
        "The following command displays the results."
      ]
    },
    {
      "cell_type": "code",
      "metadata": {
        "colab": {
          "base_uri": "https://localhost:8080/",
          "height": 419
        },
        "id": "9840zbeiFMhG",
        "outputId": "805f0bb8-4f05-4968-a190-b1f724c5d130"
      },
      "source": [
        "mydf"
      ],
      "execution_count": 9,
      "outputs": [
        {
          "output_type": "execute_result",
          "data": {
            "text/html": [
              "<div>\n",
              "<style scoped>\n",
              "    .dataframe tbody tr th:only-of-type {\n",
              "        vertical-align: middle;\n",
              "    }\n",
              "\n",
              "    .dataframe tbody tr th {\n",
              "        vertical-align: top;\n",
              "    }\n",
              "\n",
              "    .dataframe thead th {\n",
              "        text-align: right;\n",
              "    }\n",
              "</style>\n",
              "<table border=\"1\" class=\"dataframe\">\n",
              "  <thead>\n",
              "    <tr style=\"text-align: right;\">\n",
              "      <th></th>\n",
              "      <th>gene_symbol</th>\n",
              "      <th>sample_type</th>\n",
              "      <th>n</th>\n",
              "      <th>corr</th>\n",
              "      <th>p</th>\n",
              "      <th>p_adj</th>\n",
              "    </tr>\n",
              "  </thead>\n",
              "  <tbody>\n",
              "    <tr>\n",
              "      <th>0</th>\n",
              "      <td>ANXA13</td>\n",
              "      <td>Primary Tumor</td>\n",
              "      <td>100</td>\n",
              "      <td>0.955971</td>\n",
              "      <td>1.205495e-53</td>\n",
              "      <td>1.767496e-49</td>\n",
              "    </tr>\n",
              "    <tr>\n",
              "      <th>1</th>\n",
              "      <td>MYO1B</td>\n",
              "      <td>Primary Tumor</td>\n",
              "      <td>100</td>\n",
              "      <td>0.952969</td>\n",
              "      <td>2.759249e-52</td>\n",
              "      <td>2.022806e-48</td>\n",
              "    </tr>\n",
              "    <tr>\n",
              "      <th>2</th>\n",
              "      <td>CES1</td>\n",
              "      <td>Primary Tumor</td>\n",
              "      <td>100</td>\n",
              "      <td>0.949441</td>\n",
              "      <td>8.494844e-51</td>\n",
              "      <td>4.151714e-47</td>\n",
              "    </tr>\n",
              "    <tr>\n",
              "      <th>3</th>\n",
              "      <td>PHYHIPL</td>\n",
              "      <td>Primary Tumor</td>\n",
              "      <td>100</td>\n",
              "      <td>0.942866</td>\n",
              "      <td>2.748145e-48</td>\n",
              "      <td>1.007332e-44</td>\n",
              "    </tr>\n",
              "    <tr>\n",
              "      <th>4</th>\n",
              "      <td>LGALS3</td>\n",
              "      <td>Primary Tumor</td>\n",
              "      <td>100</td>\n",
              "      <td>0.941492</td>\n",
              "      <td>8.429648e-48</td>\n",
              "      <td>2.471910e-44</td>\n",
              "    </tr>\n",
              "    <tr>\n",
              "      <th>...</th>\n",
              "      <td>...</td>\n",
              "      <td>...</td>\n",
              "      <td>...</td>\n",
              "      <td>...</td>\n",
              "      <td>...</td>\n",
              "      <td>...</td>\n",
              "    </tr>\n",
              "    <tr>\n",
              "      <th>14657</th>\n",
              "      <td>AHSA1</td>\n",
              "      <td>Solid Tissue Normal</td>\n",
              "      <td>75</td>\n",
              "      <td>0.000278</td>\n",
              "      <td>9.981109e-01</td>\n",
              "      <td>9.983833e-01</td>\n",
              "    </tr>\n",
              "    <tr>\n",
              "      <th>14658</th>\n",
              "      <td>CIC</td>\n",
              "      <td>Primary Tumor</td>\n",
              "      <td>100</td>\n",
              "      <td>-0.000204</td>\n",
              "      <td>9.983915e-01</td>\n",
              "      <td>9.985958e-01</td>\n",
              "    </tr>\n",
              "    <tr>\n",
              "      <th>14659</th>\n",
              "      <td>SARM1</td>\n",
              "      <td>Solid Tissue Normal</td>\n",
              "      <td>75</td>\n",
              "      <td>0.000200</td>\n",
              "      <td>9.986388e-01</td>\n",
              "      <td>9.987750e-01</td>\n",
              "    </tr>\n",
              "    <tr>\n",
              "      <th>14660</th>\n",
              "      <td>C7orf26</td>\n",
              "      <td>Solid Tissue Normal</td>\n",
              "      <td>75</td>\n",
              "      <td>0.000131</td>\n",
              "      <td>9.991117e-01</td>\n",
              "      <td>9.991798e-01</td>\n",
              "    </tr>\n",
              "    <tr>\n",
              "      <th>14661</th>\n",
              "      <td>TFB1M</td>\n",
              "      <td>Solid Tissue Normal</td>\n",
              "      <td>75</td>\n",
              "      <td>-0.000006</td>\n",
              "      <td>9.999588e-01</td>\n",
              "      <td>9.999588e-01</td>\n",
              "    </tr>\n",
              "  </tbody>\n",
              "</table>\n",
              "<p>14662 rows × 6 columns</p>\n",
              "</div>"
            ],
            "text/plain": [
              "      gene_symbol          sample_type  ...             p         p_adj\n",
              "0          ANXA13        Primary Tumor  ...  1.205495e-53  1.767496e-49\n",
              "1           MYO1B        Primary Tumor  ...  2.759249e-52  2.022806e-48\n",
              "2            CES1        Primary Tumor  ...  8.494844e-51  4.151714e-47\n",
              "3         PHYHIPL        Primary Tumor  ...  2.748145e-48  1.007332e-44\n",
              "4          LGALS3        Primary Tumor  ...  8.429648e-48  2.471910e-44\n",
              "...           ...                  ...  ...           ...           ...\n",
              "14657       AHSA1  Solid Tissue Normal  ...  9.981109e-01  9.983833e-01\n",
              "14658         CIC        Primary Tumor  ...  9.983915e-01  9.985958e-01\n",
              "14659       SARM1  Solid Tissue Normal  ...  9.986388e-01  9.987750e-01\n",
              "14660     C7orf26  Solid Tissue Normal  ...  9.991117e-01  9.991798e-01\n",
              "14661       TFB1M  Solid Tissue Normal  ...  9.999588e-01  9.999588e-01\n",
              "\n",
              "[14662 rows x 6 columns]"
            ]
          },
          "metadata": {
            "tags": []
          },
          "execution_count": 9
        }
      ]
    },
    {
      "cell_type": "markdown",
      "metadata": {
        "id": "Gz12y0AexsoO"
      },
      "source": [
        "## Histogram of correlations\n",
        "The results above show the correlation between protein and gene expression for tumors and normal samples. Next we show two histograms of these correlations, one for tumor and the other for normal samples. Moreover we colored the bars by genes that have significant correlations (significant level = 0.01). "
      ]
    },
    {
      "cell_type": "code",
      "metadata": {
        "id": "ImOZyU1RnPvr",
        "colab": {
          "base_uri": "https://localhost:8080/",
          "height": 386
        },
        "outputId": "f1fad544-6ba9-454e-95a0-03aed770736a"
      },
      "source": [
        "s_level = 0.01 \n",
        "mydf['significant'] = np.where( mydf['p_adj'] <= s_level, True, False)\n",
        "sns.displot(data=mydf, x=\"corr\", hue=\"significant\", multiple=\"stack\", binwidth=0.1, col='sample_type')"
      ],
      "execution_count": 10,
      "outputs": [
        {
          "output_type": "execute_result",
          "data": {
            "text/plain": [
              "<seaborn.axisgrid.FacetGrid at 0x7f1f91049ed0>"
            ]
          },
          "metadata": {
            "tags": []
          },
          "execution_count": 10
        },
        {
          "output_type": "display_data",
          "data": {
            "image/png": "[encoded data removed]",
            "text/plain": [
              "<Figure size 781.25x360 with 2 Axes>"
            ]
          },
          "metadata": {
            "tags": [],
            "needs_background": "light"
          }
        }
      ]
    }
  ]
}