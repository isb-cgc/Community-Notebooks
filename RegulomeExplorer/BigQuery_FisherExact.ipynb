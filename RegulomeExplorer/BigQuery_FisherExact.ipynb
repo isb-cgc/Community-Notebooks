{
  "nbformat": 4,
  "nbformat_minor": 0,
  "metadata": {
    "colab": {
      "provenance": [],
      "include_colab_link": true
    },
    "kernelspec": {
      "name": "python3",
      "display_name": "Python 3"
    },
    "language_info": {
      "name": "python"
    }
  },
  "cells": [
    {
      "cell_type": "markdown",
      "metadata": {
        "id": "view-in-github",
        "colab_type": "text"
      },
      "source": [
        "<a href=\"https://colab.research.google.com/github/isb-cgc/Community-Notebooks/blob/lkh-staging/RegulomeExplorer/BigQuery_FisherExact.ipynb\" target=\"_parent\"><img src=\"https://colab.research.google.com/assets/colab-badge.svg\" alt=\"Open In Colab\"/></a>"
      ]
    },
    {
      "cell_type": "markdown",
      "source": [
        "# ISB-CGC Community Notebooks\n",
        "\n",
        "Check out more notebooks at our [Community Notebooks Repository](https://github.com/isb-cgc/Community-Notebooks)!\n",
        "\n",
        "```\n",
        "Title:      Regulome Explorer  Fisher's exact test to identify significant co-mutations\n",
        "Author:     Boris Aguilar\n",
        "Updated by: Lauren Hagen\n",
        "Created:    2020-06-20\n",
        "Updated:    2024-04\n",
        "Purpose:    To provide an example of how to use Fisher's exact test in Bigquery\n",
        "URL:        https://github.com/isb-cgc/Community-Notebooks/blob/master/RegulomeExplorer/BigQuery-FisherExact.ipynb\n",
        "Notes:      This notebook uses the BigQuery User-defined function p_fisherexact_current. The source code and examples of how to use this function can be found in https://github.com/isb-cgc/Community-Notebooks/tree/master/BQUserFunctions.\n",
        "```\n",
        "\n",
        "Check out more notebooks with statistical analysis at our ['Regulome Explorer Repository'](https://github.com/isb-cgc/Community-Notebooks/tree/master/RegulomeExplorer)!"
      ],
      "metadata": {
        "id": "aUBi88Stwg6D"
      }
    },
    {
      "cell_type": "markdown",
      "source": [
        "In this notebook we describe how Regulome Explorer uses Fisher's exact test to compute the significance of associations between two categorical features. This test is used by Regulome Explorer when both features have only two categories, such as the presence or absence of Somatic mutations or the gender of the participants.\n",
        "\n",
        "To describe the implementation, we will use Somatic mutation data for two user defined genes. This data is read from BigQuery tables in the ISB-CGC Google Project `isb-cgc-bq`. For reference, a description of the Fisher's exact can be found in the following link: http://mathworld.wolfram.com/FishersExactTest.html"
      ],
      "metadata": {
        "id": "W4Cc0_NDwwYK"
      }
    },
    {
      "cell_type": "code",
      "source": [
        "# Import, Authenticate, and Parameters"
      ],
      "metadata": {
        "id": "hAsg12ihYPUC"
      },
      "execution_count": null,
      "outputs": []
    },
    {
      "cell_type": "markdown",
      "source": [
        "## Import Python Libraries"
      ],
      "metadata": {
        "id": "APMIFvRQyYx-"
      }
    },
    {
      "cell_type": "code",
      "source": [
        "from google.colab import auth\n",
        "import google.auth\n",
        "from google.cloud import bigquery\n",
        "import numpy as np\n",
        "import pandas as pd\n",
        "from scipy import stats\n",
        "import seaborn as sns\n",
        "import pandas_gbq"
      ],
      "metadata": {
        "id": "uJZa3Dd220Iy"
      },
      "execution_count": null,
      "outputs": []
    },
    {
      "cell_type": "markdown",
      "source": [
        "## Authenticate with Google  (IMPORTANT)\n",
        "The first step is to authorize access to BigQuery and the Google Cloud. For more information see ['Quick Start Guide to ISB-CGC'](https://isb-cancer-genomics-cloud.readthedocs.io/en/latest/sections/HowToGetStartedonISB-CGC.html) and alternative authentication methods can be found [here](https://googleapis.github.io/google-cloud-python/latest/core/auth.html)."
      ],
      "metadata": {
        "id": "XXWz06FayPDv"
      }
    },
    {
      "cell_type": "code",
      "execution_count": null,
      "metadata": {
        "id": "ev3F-aKh15yB"
      },
      "outputs": [],
      "source": [
        "# if you're using Google Colab, authenticate to gcloud with the following\n",
        "auth.authenticate_user()\n",
        "\n",
        "# alternatively, use the gcloud SDK\n",
        "#!gcloud auth application-default login"
      ]
    },
    {
      "cell_type": "markdown",
      "source": [
        "## Setting up your Google project"
      ],
      "metadata": {
        "id": "5Um_AUMPyVw0"
      }
    },
    {
      "cell_type": "code",
      "source": [
        "# Create a variable for which client to use with BigQuery\n",
        "my_project_id = 'YOUR_PROJECT_ID_CHANGE_ME' # Update with your Google Project Id"
      ],
      "metadata": {
        "id": "YeHCS7wM22CK"
      },
      "execution_count": null,
      "outputs": []
    },
    {
      "cell_type": "markdown",
      "source": [
        "## Userdefined Parameters\n",
        "The parameters for this experiment are the program, primary site, the name of gene1 and the name of gene2 for which mutation information will be extracted, and which GDC release to use for each table."
      ],
      "metadata": {
        "id": "bJL_eQL3YosO"
      }
    },
    {
      "cell_type": "code",
      "source": [
        "primary_site = 'Uterus, NOS'\n",
        "program = 'CPTAC'\n",
        "gdc_release_clinical = 'r37'\n",
        "gdc_release_mutation = 'r37'\n",
        "mutation_name1 = 'KRAS'\n",
        "mutation_name2 = 'TP53'"
      ],
      "metadata": {
        "id": "fBNY_k9urJHe"
      },
      "execution_count": null,
      "outputs": []
    },
    {
      "cell_type": "markdown",
      "source": [
        "# Data from BigQuery tables"
      ],
      "metadata": {
        "id": "hf4IsjV-b2Gf"
      }
    },
    {
      "cell_type": "markdown",
      "source": [
        "The first step is to select all participants in the selected program with the selected primary site."
      ],
      "metadata": {
        "id": "nm2PSB-ob-fa"
      }
    },
    {
      "cell_type": "code",
      "source": [
        "barcode_set = f\"\"\"barcodes AS (\n",
        "   SELECT submitter_id as case_barcode\n",
        "   FROM `isb-cgc-bq.{program}_versioned.clinical_gdc_{gdc_release_clinical}`\n",
        "   WHERE primary_site = '{primary_site}'\n",
        ")\n",
        "\"\"\""
      ],
      "metadata": {
        "id": "-bnZ_EgD5ilV"
      },
      "execution_count": null,
      "outputs": []
    },
    {
      "cell_type": "markdown",
      "source": [
        "## Somatic mutation data for gene 1\n",
        "The following string query will retrieve a table with patients with at least one Somatic mutation in the user defined gene ('mutation_name'). This information is extracted from the user defined program table for somatic mutations."
      ],
      "metadata": {
        "id": "N71MKHYHcJW9"
      }
    },
    {
      "cell_type": "code",
      "source": [
        "query1 = f\"\"\"table1 AS (\n",
        "SELECT\n",
        "   t1.case_barcode,\n",
        "   IF( t2.case_barcode is null, 'NO', 'YES') as data\n",
        "FROM\n",
        "   barcodes AS t1\n",
        "LEFT JOIN\n",
        "   (\n",
        "   SELECT\n",
        "      case_barcode\n",
        "   FROM `isb-cgc-bq.{program}_versioned.masked_somatic_mutation_hg38_gdc_{gdc_release_mutation}`\n",
        "   WHERE Hugo_Symbol = '{mutation_name1}'\n",
        "   GROUP BY case_barcode\n",
        "   ) AS t2\n",
        "ON t1.case_barcode = t2.case_barcode\n",
        ")\n",
        "\"\"\""
      ],
      "metadata": {
        "id": "S5s-23K823xx"
      },
      "execution_count": null,
      "outputs": []
    },
    {
      "cell_type": "markdown",
      "source": [
        "The somatic mutation data for gene 2 is retrieved using a similar query:"
      ],
      "metadata": {
        "id": "SWZe9vHuf9PL"
      }
    },
    {
      "cell_type": "code",
      "source": [
        "query2 = f\"\"\"table2 AS (\n",
        "SELECT\n",
        "   t1.case_barcode,\n",
        "   IF( t2.case_barcode is null, 'NO', 'YES') as data\n",
        "FROM\n",
        "   barcodes AS t1\n",
        "LEFT JOIN\n",
        "   (\n",
        "   SELECT\n",
        "      case_barcode\n",
        "   FROM `isb-cgc-bq.{program}_versioned.masked_somatic_mutation_hg38_gdc_{gdc_release_mutation}`\n",
        "   WHERE Hugo_Symbol = '{mutation_name2}'\n",
        "   GROUP BY case_barcode\n",
        "   ) AS t2\n",
        "ON t1.case_barcode = t2.case_barcode\n",
        ")\n",
        "\"\"\""
      ],
      "metadata": {
        "id": "wJIyRfui2-Y5"
      },
      "execution_count": null,
      "outputs": []
    },
    {
      "cell_type": "markdown",
      "source": [
        "The following query combines the two tables based on case barcodes. Nij is the number of participants for each pair of categories. data1 (data2) column is the Somatic Mutations for gene1 (gene2). 'YES' for pariticpants with mutation and 'NO' otherwise.   "
      ],
      "metadata": {
        "id": "T2uW_EpcoxM3"
      }
    },
    {
      "cell_type": "code",
      "source": [
        "query_summarize = \"\"\"summ_table AS (\n",
        "SELECT\n",
        "   n1.data as data1,\n",
        "   n2.data as data2,\n",
        "   COUNT(*) as Nij\n",
        "FROM\n",
        "   table1 AS n1\n",
        "INNER JOIN\n",
        "   table2 AS n2\n",
        "ON\n",
        "   n1.case_barcode = n2.case_barcode\n",
        "GROUP BY\n",
        "  data1, data2\n",
        ")\n",
        "\"\"\""
      ],
      "metadata": {
        "id": "v0sD4giN3HUg"
      },
      "execution_count": null,
      "outputs": []
    },
    {
      "cell_type": "markdown",
      "source": [
        "At this point we can take a look at output table, where the column **Nij** is the number of participants for each pair of categorical values."
      ],
      "metadata": {
        "id": "9Xd5i-3-o8pm"
      }
    },
    {
      "cell_type": "code",
      "source": [
        "sql_data = 'WITH\\n'+ barcode_set+','+query1+','+query2+','+query_summarize\n",
        "\n",
        "sql = (sql_data + '\\n' +\n",
        "\"\"\"SELECT * FROM summ_table\n",
        "   ORDER BY  data1\n",
        "\"\"\")\n",
        "\n",
        "df_data = pandas_gbq.read_gbq(sql,project_id=my_project_id )\n",
        "\n",
        "df_data"
      ],
      "metadata": {
        "id": "PCI_XHf23hE7"
      },
      "execution_count": null,
      "outputs": []
    },
    {
      "cell_type": "markdown",
      "source": [
        "We can use a 'catplot' to visualize the populations in each category."
      ],
      "metadata": {
        "id": "-1lC03X2pKbX"
      }
    },
    {
      "cell_type": "code",
      "source": [
        "df_data.rename(columns={ \"data1\": \"KRAS\", \"data2\": \"TP53\" }, inplace=True)\n",
        "sns.catplot(y=\"KRAS\", x=\"Nij\",hue=\"TP53\",data=df_data, kind=\"bar\",height=4, aspect=.7)"
      ],
      "metadata": {
        "id": "GqUyVPbS8Rz4"
      },
      "execution_count": null,
      "outputs": []
    },
    {
      "cell_type": "markdown",
      "source": [
        "# Compute Statistics"
      ],
      "metadata": {
        "id": "cCQe8emgpWCp"
      }
    },
    {
      "cell_type": "markdown",
      "source": [
        "After sumarizing the data in the table above, we are in the position to perform the 2-sided Fisher's Exact test for the null hypothesis that no nonrandom associations exist between the two categorical variables (Somatic mutations). For clarity we consider the following 2x2 contingency table.\n",
        "\n",
        "|-         |-     |Gene2|    |\n",
        "|:--       |:-- |:--- |:---|\n",
        "|-         |-    |YES  |NO  |\n",
        "|**Gene1** |YES |$a$    |$b$   |\n",
        "|-          |NO  |$c$    |$d$   |\n",
        "\n",
        "To compute the p-Value of the Fisher's test, we need to compute the Hypergeometric distribution:\n",
        "\n",
        "$$Pr(x) = \\frac{(a+b)!(c+d)!(a+c)!(b+d)! }{x!(a+b-x)!(a+c-x)!(d-a+x)!n!} $$\n",
        "\n",
        "Where $n=a+b+c+d$. The p-Value is then computed by:\n",
        "\n",
        "$$p_{FET}(a,b,c,d) = \\sum_{x} Pr(x) \\ I\\left[ Pr(x) \\leq Pr(a) \\right]  $$\n",
        "\n",
        "Efficient computation of  $p_{FET}$ using BigQuery commands would be very difficult due to the factorials. Instead we take advantage of the possibility of implementing User-Defined Functions using JavaScript. We implemented a public User-defined function called pFisherExact that computes $p_{FET}$. The source code and an example of how to use this function in  Bigquery can be found in: https://github.com/isb-cgc/Community-Notebooks/tree/master/BQUserFunctions#p_fisherexact"
      ],
      "metadata": {
        "id": "F2gF4wS1pVVa"
      }
    },
    {
      "cell_type": "markdown",
      "source": [
        "The following BigQuery string has the steps to compute $a$, $b$, $c$, and $d$ as indicated above and then uses the BigQuery function `p_fisherexact_current` to compute the p-Value of the Fisher exact test.  "
      ],
      "metadata": {
        "id": "rpvVTo-iscEK"
      }
    },
    {
      "cell_type": "code",
      "source": [
        "query_fishertest = \"\"\"\n",
        "SELECT a,b,c,d,\n",
        "      bqutil.fn.p_fisherexact(a,b,c,d) as pValue\n",
        "FROM (\n",
        "SELECT\n",
        "  MAX( IF( (data1='YES') AND (data2='YES'), Nij, NULL ) ) as a ,\n",
        "  MAX( IF( (data1='YES') AND (data2='NO') , Nij, NULL ) ) as b ,\n",
        "  MAX( IF( (data1='NO') AND (data2='YES') , Nij, NULL ) ) as c ,\n",
        "  MAX( IF( (data1='NO') AND (data2='NO')  , Nij, NULL ) )  as d\n",
        "FROM summ_table\n",
        ")\n",
        "WHERE a IS NOT NULL AND b IS NOT NULL AND c IS NOT NULL AND d IS NOT NULL\n",
        "\"\"\"\n",
        "\n",
        "sql = (  sql_data +  query_fishertest )\n",
        "\n",
        "df_results = pandas_gbq.read_gbq(sql,project_id=my_project_id )\n",
        "\n",
        "df_results"
      ],
      "metadata": {
        "id": "WCVx4BBZ8jiG"
      },
      "execution_count": null,
      "outputs": []
    },
    {
      "cell_type": "markdown",
      "source": [
        "To test our implementation we can use the 'fisher_exact' function available in python"
      ],
      "metadata": {
        "id": "OSgfOv_Asd9D"
      }
    },
    {
      "cell_type": "code",
      "source": [
        "a = df_results['a'][0]\n",
        "b = df_results['b'][0]\n",
        "c = df_results['c'][0]\n",
        "d = df_results['d'][0]\n",
        "\n",
        "oddsratio, pvalue = stats.fisher_exact([[a, b], [c, d]])\n",
        "pvalue"
      ],
      "metadata": {
        "id": "FlfPaQ1W8mRW"
      },
      "execution_count": null,
      "outputs": []
    }
  ]
}