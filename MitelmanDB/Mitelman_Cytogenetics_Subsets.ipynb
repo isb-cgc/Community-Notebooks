{
 "cells": [
  {
   "cell_type": "markdown",
   "id": "08c3e7f4",
   "metadata": {
    "id": "08c3e7f4"
   },
   "source": [
    "<a href=\"https://colab.research.google.com/github/isb-cgc/Community-Notebooks/tree/master/MitelmanDB/Mitelman_Cytogenetics_Subsets.ipynb\" target=\"_parent\"><img src=\"https://colab.research.google.com/assets/colab-badge.svg\" alt=\"Open In Colab\"/></a>"
   ]
  },
  {
   "cell_type": "markdown",
   "id": "8abfde41",
   "metadata": {
    "id": "8abfde41"
   },
   "source": [
    "# Cytogenetics and Data Subsets in the Mitelman Database\n",
    "\n",
    "Check out other notebooks as our [Community Notebooks Repository](https://github.com/isb-cgc/Community-Notebooks)!\n",
    "\n",
    "```\n",
    "Title:    Cytogenetics and Data Subsets in the Mitelman Database\n",
    "Author:   Jacob Wilson\n",
    "Created:  2023-08-21\n",
    "URL:      https://github.com/isb-cgc/Community-Notebooks/tree/master/MitelmanDB/Mitelman_Cytogenetics_Subsets.ipynb\n",
    "Purpose:  Demonstrate examples of unique subsets of the Mitelman Database that may be useful in Cytogenetics research.\n",
    "```"
   ]
  },
  {
   "cell_type": "markdown",
   "id": "2c0b5f92",
   "metadata": {},
   "source": [
    "In this notebook, we will explore multiple methods for subsetting the Mitelman dataset into groupings that are relevant to Cytogenetics research. The goal of this exercise is to show how the Mitelman Database can be used in BigQuery to perform research on various groupings of cytogenetic abnormalities. In the following examples, we will:\n",
    "\n",
    "utilize CytoConverter coordinates to:\n",
    "- target specific gene loci and groups of genes\n",
    "- compare to microarray copy number data\n",
    "- compare large regions of the chromosome\n",
    "\n",
    "determine complexity of the cytogenetic nomenclature to:\n",
    "- compare complex vs. non-complex cases"
   ]
  },
  {
   "cell_type": "markdown",
   "id": "UpvufWbZeovQ",
   "metadata": {
    "id": "UpvufWbZeovQ"
   },
   "source": [
    "## Cytogenetics Background\n",
    "\n",
    "The field of Cytogenetics is based on a chromosome-level understanding of the genome. The method most commonly associated with Cytogenetics is the use of banded metaphase chromosomes to generate a karyogram. Analysis of the karyogram results in standardized nomenclature that follows guidelines detailed in the International System for Human Cytogenomic Nomenclature (ISCN) [1].\n",
    "\n",
    "Karyotype nomenclature is a comma-separated list that follows a standardized convention:  \n",
    "\n",
    "\"number of chromosomes,sex chromosomes,abnormalities\"\n",
    "\n",
    "Examples:\n",
    "\n",
    ">46,XX\n",
    "\n",
    ">46,XY,t(9;22)(q34;q11.2)\n",
    "\n",
    ">47,XY,+8[3]/46,idem,del(5)(q13q33),+21[7]\n",
    "\n",
    "When more than one clone is present, the cell lines are separated by a forward slash and the number of cells present in each clone is included in brackets (third example above). Abnormalities are identified by an abbreviated term along with the chromosome number and breakpoints.\n",
    "\n",
    "Examples:\n",
    "\n",
    ">t(9;22)(q34;q11.2) -> translocation between chromosomes 9 and 22 at breakpoints 9q34 and 22q11.2 (BCR::ABL1 fusion)\n",
    "\n",
    ">del(5)(q13q33) -> deletion of chromosome 5 from breakpoint 5q13 to 5q33\n",
    "\n",
    "</br>\n",
    "\n",
    "As a clinical test in oncology, Cytogenetics is often used in the diagnosis and staging of disease. Based on the abnormalities identified in the nomenclature string, specific markers may identify and clarify the type of cancer present. One common use case is the International Prognostic Scoring System - Revised (IPSS-R) for staging patients with MDS [2,3] . The table below details the cytogenetic abnormalities and the associated cytogenetic prognosis.\n",
    "\n",
    "</br>\n",
    "\n",
    "|Cytogenetic prognostic subgroup|Cytogenetic Abnormalities|\n",
    "|:-                             |                       :-|\n",
    "|Very good                      |-Y, del(11q)             |\n",
    "|Good                           |normal, del(5q), del(12p), del(20q), double including del(5q)|\n",
    "|Intermediate                   |del(7q), +8, +19, i(17q), and other single or independent double clones|\n",
    "|Poor                           |-7, inv(3)/t(3q)/del(3q), double including -7/del(7q), Complex: 3 abns|\n",
    "|Very poor                      |Complex: >3 abns|\n"
   ]
  },
  {
   "cell_type": "markdown",
   "id": "9e64559c",
   "metadata": {
    "id": "9e64559c"
   },
   "source": [
    "## Initialize Notebook Environment\n",
    "\n",
    "Before beginning, we first need to load dependencies and authenticate to BigQuery."
   ]
  },
  {
   "cell_type": "markdown",
   "id": "4a073c7c",
   "metadata": {
    "id": "4a073c7c"
   },
   "source": [
    "## Install Dependencies"
   ]
  },
  {
   "cell_type": "code",
   "execution_count": null,
   "id": "478a0ce9",
   "metadata": {
    "id": "478a0ce9"
   },
   "outputs": [],
   "source": [
    "# GCP libraries\n",
    "from google.cloud import bigquery\n",
    "from google.colab import auth\n",
    "\n",
    "# data analysis libraries\n",
    "import numpy as np\n",
    "import seaborn as sns\n",
    "import pandas as pd\n",
    "import matplotlib.pyplot as plt"
   ]
  },
  {
   "cell_type": "markdown",
   "id": "43816bcc",
   "metadata": {
    "id": "43816bcc"
   },
   "source": [
    "## Authenticate\n",
    "\n",
    "In order to utilize BigQuery, we must obtain authorization to BigQuery and Google Cloud."
   ]
  },
  {
   "cell_type": "code",
   "execution_count": null,
   "id": "6aa17ca5",
   "metadata": {
    "id": "6aa17ca5"
   },
   "outputs": [],
   "source": [
    "# if you're using Google Colab, authenticate to gcloud with the following\n",
    "auth.authenticate_user()\n",
    "\n",
    "# alternatively, use the gcloud SDK\n",
    "#!gcloud auth application-default login"
   ]
  },
  {
   "cell_type": "markdown",
   "id": "6529ac99",
   "metadata": {
    "id": "6529ac99"
   },
   "source": [
    "## Google project ID\n",
    "\n",
    "Set your own Google project ID for use with this notebook."
   ]
  },
  {
   "cell_type": "code",
   "execution_count": null,
   "id": "cabd29da",
   "metadata": {
    "id": "cabd29da"
   },
   "outputs": [],
   "source": [
    "# set the google project that will be billed for this notebook's computations\n",
    "google_project = 'your_project_id'  ## change this"
   ]
  },
  {
   "cell_type": "markdown",
   "id": "9a4fdbc6",
   "metadata": {
    "id": "9a4fdbc6"
   },
   "source": [
    "## BigQuery Client"
   ]
  },
  {
   "cell_type": "code",
   "execution_count": null,
   "id": "a3235756",
   "metadata": {
    "id": "a3235756"
   },
   "outputs": [],
   "source": [
    "# Initialize a client to access the data within BigQuery\n",
    "if google_project == 'your_project_id':\n",
    "    print('Please update the project ID with your Google Cloud Project')\n",
    "else:\n",
    "    client = bigquery.Client(google_project)\n",
    "\n",
    "# set the Mitelman Database project\n",
    "bq_project = 'mitelman-db'\n",
    "bq_dataset = 'prod'"
   ]
  },
  {
   "cell_type": "markdown",
   "id": "9cdbb0f1",
   "metadata": {
    "id": "9cdbb0f1"
   },
   "source": [
    "# Creating Unique Data Subsets"
   ]
  },
  {
   "cell_type": "markdown",
   "id": "3050025c",
   "metadata": {
    "id": "3050025c"
   },
   "source": [
    "## Utilizing CytoConverter Genomic Coordinates\n",
    "\n",
    "The CytoConverter component of the Mitelman Database converts the chromosomal bands present in the cytogenetic nomenclature into corresponding genomic coordinates. Using the **CytoConverted** BigQuery table with these converted genomic coordinates, we can query for specific gene coverage or genomic regions based on our interests. This method may be useful if you have existing sequencing data or microarray copy number data and would like to find Mitelman cases that may correspond based on their cytogenetic nomenclature.\n",
    "\n",
    "Gene regions can be targeted using individual genes or combinations of genes.\n",
    "\n",
    "|Gene      |Chromosome|Coordinates            |\n",
    "|:-        |:-        |:-                     |\n",
    "|*CDKN2A*  |9         |21,967,752-21,995,324  |\n",
    "|*ATM*     |11        |108,223,067-108,369,102|\n",
    "|*RB1*     |13        |48,303,751-48,481,890  |\n",
    "|*TP53*    |17        |7,668,421-7,687,490    |\n",
    "\n",
    "Example of microarray copy number nomenclature:  \n",
    ">arr[GRCh38] (X,Y) 13q13.3q31.1(34901394_83018282)x1,20q11.23q13.2(35892594_43210401)x1"
   ]
  },
  {
   "cell_type": "markdown",
   "id": "66895909",
   "metadata": {},
   "source": [
    "### Single locus query"
   ]
  },
  {
   "cell_type": "code",
   "execution_count": null,
   "id": "4d22e915",
   "metadata": {
    "id": "4d22e915"
   },
   "outputs": [],
   "source": [
    "# values required for an individual gene: chromosome number, start and end coordinate\n",
    "target_chr = 9\n",
    "target_start = 21967752\n",
    "target_end = 21995324\n",
    "\n",
    "# including the 9p11.2 coordinate for limiting to p-arm example\n",
    "target_p_prox_band = 42200000\n",
    "\n",
    "# selecting a single locus, CDKN2A\n",
    "single_locus = f'''\n",
    "SELECT c.RefNo,\n",
    "      c.CaseNo,\n",
    "      c.InvNo,\n",
    "      c.Clone,\n",
    "      c.ChrOrd,\n",
    "      c.Start,\n",
    "      c.End,\n",
    "      c.Type\n",
    "FROM `{bq_project}.{bq_dataset}.CytoConverted` c\n",
    "    WHERE c.ChrOrd = {target_chr}\n",
    "        AND c.Start < {target_start}\n",
    "        AND c.End > {target_end}\n",
    "'''\n",
    "#print(single_locus)\n",
    "\n",
    "# selecting a single locus, but limit to just the p-arm of chromosome 9\n",
    "single_locus_arm = f'''\n",
    "SELECT c.RefNo,\n",
    "      c.CaseNo,\n",
    "      c.InvNo,\n",
    "      c.Clone,\n",
    "      c.ChrOrd,\n",
    "      c.Start,\n",
    "      c.End,\n",
    "      c.Type\n",
    "FROM `{bq_project}.{bq_dataset}.CytoConverted` c\n",
    "    WHERE c.ChrOrd = {target_chr}\n",
    "        AND c.Start < {target_start}\n",
    "        AND c.End BETWEEN {target_end} AND {target_p_prox_band}\n",
    "'''\n",
    "#print(single_locus_arm)\n",
    "\n",
    "# selecting a single locus, limit to a smaller region\n",
    "# The coordiates used in this example represent bands near the target locus. Chromosome band-level coordinates are\n",
    "# available in the UCSC genome browser.\n",
    "single_locus_focused = f'''\n",
    "SELECT c.RefNo,\n",
    "      c.CaseNo,\n",
    "      c.InvNo,\n",
    "      c.Clone,\n",
    "      c.ChrOrd,\n",
    "      c.Start,\n",
    "      c.End,\n",
    "      c.Type\n",
    "FROM `{bq_project}.{bq_dataset}.CytoConverted` c\n",
    "    WHERE c.ChrOrd = {target_chr}\n",
    "        AND c.Start BETWEEN 18500000 AND 21967752\n",
    "        AND c.End BETWEEN 21995324 AND 33200000\n",
    "'''\n",
    "#print(single_locus_focused)"
   ]
  },
  {
   "cell_type": "code",
   "execution_count": null,
   "id": "f9086c6d",
   "metadata": {
    "id": "f9086c6d"
   },
   "outputs": [],
   "source": [
    "# run the queries and store results in dataframes\n",
    "cdkn2a_whole_chrom = client.query(single_locus).result().to_dataframe()\n",
    "cdkn2a_p_arm = client.query(single_locus_arm).result().to_dataframe()\n",
    "cdkn2a_focused = client.query(single_locus_focused).result().to_dataframe()"
   ]
  },
  {
   "cell_type": "code",
   "execution_count": null,
   "id": "HMaVAn-krwES",
   "metadata": {
    "colab": {
     "base_uri": "https://localhost:8080/"
    },
    "id": "HMaVAn-krwES",
    "outputId": "59be1dc2-cce6-450b-f28f-99e64549aa9d"
   },
   "outputs": [],
   "source": [
    "# view the subsets\n",
    "print(f'Count of CDKN2A aberrations: {len(cdkn2a_whole_chrom.index)}')\n",
    "print(cdkn2a_whole_chrom.head())\n",
    "\n",
    "print(f'Count of CDKN2A aberrations limited to p-arm: {len(cdkn2a_p_arm.index)}')\n",
    "print(cdkn2a_p_arm.head())\n",
    "\n",
    "print(f'Count of CDKN2A aberrations limited to neighboring bands: {len(cdkn2a_focused.index)}')\n",
    "print(cdkn2a_focused.head())"
   ]
  },
  {
   "cell_type": "code",
   "execution_count": null,
   "id": "3WRN4yl5dSzj",
   "metadata": {
    "colab": {
     "base_uri": "https://localhost:8080/",
     "height": 728
    },
    "id": "3WRN4yl5dSzj",
    "outputId": "043f9252-150f-4d45-cce3-76210601f507"
   },
   "outputs": [],
   "source": [
    "# plot the frequency of CDKN2A aberrations identified in the two subsets\n",
    "sns.set(rc={\"figure.figsize\":(8, 8)})\n",
    "\n",
    "cdkn2a_whole_chrom['ds'] = \"whole_chrom\"\n",
    "cdkn2a_p_arm['ds'] = \"p_arm\"\n",
    "cdkn2a_focused['ds'] = \"focused\"\n",
    "merged = pd.concat([cdkn2a_whole_chrom, cdkn2a_p_arm, cdkn2a_focused])\n",
    "\n",
    "hue_order = ['Gain', 'Loss']\n",
    "combined_cases_plot = sns.countplot(x='ds', hue='Type', hue_order=hue_order, data=merged)\n",
    "\n",
    "combined_cases_plot.set(xlabel=\"Type of Abnormality\",\n",
    "              ylabel=\"Occurences\",\n",
    "              title=\"CDKN2A Loss vs. Gain Occurences\")\n",
    "plt.show()"
   ]
  },
  {
   "cell_type": "markdown",
   "id": "dcbe6fba",
   "metadata": {},
   "source": [
    "#### Results\n",
    "\n",
    "The graph shows that when looking at abnormal segments across the entire chromosome 9, the majority of the abnormality types are gains. But when we look at just the p-arm or the focused segments, we see far more deletions. And as expected, as we reduce the size of the window that we are using for our query, we minimize the total number of cases returned. Karyotypes in cancer cases are typically low resolution, so even though the CytoConverter coordinates allows us to investigate very small regions of the genome, there may be no case results when looking at too small of a region."
   ]
  },
  {
   "cell_type": "markdown",
   "id": "f0339d79",
   "metadata": {},
   "source": [
    "### Multiple loci query"
   ]
  },
  {
   "cell_type": "code",
   "execution_count": null,
   "id": "h6BI6Zyz2B7O",
   "metadata": {
    "id": "h6BI6Zyz2B7O"
   },
   "outputs": [],
   "source": [
    "# values for a collection of genes of interest\n",
    "gene_coords = {\n",
    "    \"atm\": {\"chr\": 11,\n",
    "             \"start\": 108223067,\n",
    "             \"end\": 108369102},\n",
    "    \"rb1\": {\"chr\": 13,\n",
    "             \"start\": 48303751,\n",
    "             \"end\": 48481890},\n",
    "    \"tp53\": {\"chr\": 17,\n",
    "             \"start\": 7668421,\n",
    "             \"end\": 7687490},\n",
    "}\n",
    "\n",
    "# selecting multiple loci: in this example, cases containing a loss of RB1 and TP53 along with gain of ATM\n",
    "multi_loci = f'''\n",
    "WITH\n",
    "    rb1 AS (SELECT c.* FROM `{bq_project}.{bq_dataset}.CytoConverted` c\n",
    "        WHERE c.ChrOrd = {gene_coords[\"rb1\"][\"chr\"]}\n",
    "            AND c.Start < {gene_coords[\"rb1\"][\"start\"]}\n",
    "            AND c.End > {gene_coords[\"rb1\"][\"end\"]}\n",
    "            AND c.Type = 'Loss'),\n",
    "    tp53 AS (SELECT c.* FROM `{bq_project}.{bq_dataset}.CytoConverted` c\n",
    "        WHERE c.ChrOrd = {gene_coords[\"tp53\"][\"chr\"]}\n",
    "            AND c.Start < {gene_coords[\"tp53\"][\"start\"]}\n",
    "            AND c.End > {gene_coords[\"tp53\"][\"end\"]}\n",
    "            AND c.Type = 'Loss'),\n",
    "    atm AS (SELECT c.* FROM `{bq_project}.{bq_dataset}.CytoConverted` c\n",
    "        WHERE c.ChrOrd = {gene_coords[\"atm\"][\"chr\"]}\n",
    "            AND c.Start < {gene_coords[\"atm\"][\"start\"]}\n",
    "            AND c.End > {gene_coords[\"atm\"][\"end\"]}\n",
    "            AND c.Type = 'Gain')\n",
    "SELECT DISTINCT a.RefNo,\n",
    "                a.CaseNo,\n",
    "                a.InvNo,\n",
    "                r.ChrOrd,\n",
    "                r.Start,\n",
    "                r.End,\n",
    "                t.ChrOrd,\n",
    "                t.Start,\n",
    "                t.End,\n",
    "                m.ChrOrd,\n",
    "                m.Start,\n",
    "                m.End,\n",
    "                n.KaryShort\n",
    "FROM (\n",
    "        (SELECT RefNo, CaseNo, InvNo FROM rb1)\n",
    "        INTERSECT DISTINCT\n",
    "        (SELECT RefNo, CaseNo, InvNo FROM tp53)\n",
    "        INTERSECT DISTINCT\n",
    "        (SELECT RefNo, CaseNo, InvNo FROM atm)\n",
    "     ) a\n",
    "JOIN rb1 r\n",
    "  ON r.RefNo = a.RefNo\n",
    "  AND r.CaseNo = a.CaseNo\n",
    "  AND r.InvNo = a.InvNo\n",
    "JOIN tp53 t\n",
    "  ON t.RefNo = a.RefNo\n",
    "  AND t.CaseNo = a.CaseNo\n",
    "  AND t.InvNo = a.InvNo\n",
    "JOIN atm m\n",
    "  ON m.RefNo = a.RefNo\n",
    "  AND m.CaseNo = a.CaseNo\n",
    "  AND m.InvNo = a.InvNo\n",
    "JOIN `{bq_project}.{bq_dataset}.CytogenInv` n\n",
    "  ON a.RefNo = n.RefNo\n",
    "  AND a.CaseNo = n.CaseNo\n",
    "  AND a.InvNo = n.InvNo\n",
    "ORDER BY a.RefNo,\n",
    "        a.CaseNo,\n",
    "        a.InvNo\n",
    "'''\n",
    "#print(multi_loci)"
   ]
  },
  {
   "cell_type": "code",
   "execution_count": null,
   "id": "O3w4MLJZ2FxU",
   "metadata": {
    "colab": {
     "base_uri": "https://localhost:8080/"
    },
    "id": "O3w4MLJZ2FxU",
    "outputId": "9c69d84f-3d53-4a02-c8d7-fba774c59994"
   },
   "outputs": [],
   "source": [
    "# run the query and store results in a dataframe\n",
    "rb1_tp53_atm_matches = client.query(multi_loci).result().to_dataframe()\n",
    "\n",
    "# view the results\n",
    "print(f'RB1/TP53/ATM aberration occurences: {len(rb1_tp53_atm_matches)}')\n",
    "print(rb1_tp53_atm_matches.head())\n",
    "\n",
    "# view a specific example\n",
    "print(f'Example nomenclature from one of these cases: {rb1_tp53_atm_matches.loc[6,\"KaryShort\"]}')"
   ]
  },
  {
   "cell_type": "markdown",
   "id": "70b2f36c",
   "metadata": {},
   "source": [
    "[View the example case in the Mitelman web app](https://mitelmandatabase.isb-cgc.org/kary_details?refno=7768&caseno=337&invno=1)"
   ]
  },
  {
   "cell_type": "markdown",
   "id": "Adw9cYjZT4FY",
   "metadata": {
    "id": "Adw9cYjZT4FY"
   },
   "source": [
    "#### Results\n",
    "\n",
    "By combining multiple subqueries, we can create a dataset that includes only cases containing our regions of interest. This technique can be useful if you are interested in exploring cases that may show associations between different genes or regions of the genome."
   ]
  },
  {
   "cell_type": "markdown",
   "id": "fd8ec541",
   "metadata": {},
   "source": [
    "### Microarray nomenclature query\n",
    "\n",
    "We can adapt the method used above to query for regions that are similar to a given microarray copy number nomenclature string. The query below will return any Mitelman cases that encompass the microarray regions given in the following nomenclature. Due to the low resolution of cytogenetics and the use of band-based coordinates in CytoConverter, it is unlikely that you would find an exact match for microarray coordinates.\n",
    "\n",
    ">arr[GRCh38] (X,Y) 13q13.3q31.1(34901394_83018282)x1,20q11.23q13.2(35892594_43210401)x1"
   ]
  },
  {
   "cell_type": "code",
   "execution_count": null,
   "id": "bd548ba3",
   "metadata": {},
   "outputs": [],
   "source": [
    "array_query = f'''\n",
    "WITH\n",
    "    seg1 AS (SELECT c.* FROM `{bq_project}.{bq_dataset}.CytoConverted` c\n",
    "        WHERE c.ChrOrd = 13\n",
    "            AND c.Start < 34901394\n",
    "            AND c.End > 83018282\n",
    "            AND c.Type = 'Loss'),\n",
    "    seg2 AS (SELECT c.* FROM `{bq_project}.{bq_dataset}.CytoConverted` c\n",
    "        WHERE c.ChrOrd = 20\n",
    "            AND c.Start < 35892594\n",
    "            AND c.End > 43210401\n",
    "            AND c.Type = 'Loss')\n",
    "SELECT DISTINCT a.RefNo,\n",
    "                a.CaseNo,\n",
    "                a.InvNo,\n",
    "                s1.ChrOrd,\n",
    "                s1.Start,\n",
    "                s1.End,\n",
    "                s2.ChrOrd,\n",
    "                s2.Start,\n",
    "                s2.End,\n",
    "                n.KaryShort\n",
    "FROM (\n",
    "        (SELECT RefNo, CaseNo, InvNo FROM seg1)\n",
    "        INTERSECT DISTINCT\n",
    "        (SELECT RefNo, CaseNo, InvNo FROM seg2)\n",
    "     ) a\n",
    "JOIN seg1 s1\n",
    "  ON s1.RefNo = a.RefNo\n",
    "  AND s1.CaseNo = a.CaseNo\n",
    "  AND s1.InvNo = a.InvNo\n",
    "JOIN seg2 s2\n",
    "  ON s2.RefNo = a.RefNo\n",
    "  AND s2.CaseNo = a.CaseNo\n",
    "  AND s2.InvNo = a.InvNo\n",
    "JOIN `{bq_project}.{bq_dataset}.CytogenInv` n\n",
    "  ON a.RefNo = n.RefNo\n",
    "  AND a.CaseNo = n.CaseNo\n",
    "  AND a.InvNo = n.InvNo\n",
    "ORDER BY a.RefNo,\n",
    "        a.CaseNo,\n",
    "        a.InvNo\n",
    "'''\n",
    "#print(array_query)"
   ]
  },
  {
   "cell_type": "code",
   "execution_count": null,
   "id": "f972e81e",
   "metadata": {},
   "outputs": [],
   "source": [
    "# run the query and store results in a dataframe\n",
    "array_matches = client.query(array_query).result().to_dataframe()\n",
    "\n",
    "# view the results\n",
    "print(f'Count of array matches: {len(array_matches)}')\n",
    "print(array_matches.head())"
   ]
  },
  {
   "cell_type": "markdown",
   "id": "ffc37d3c",
   "metadata": {
    "id": "ffc37d3c"
   },
   "source": [
    "## *TP53* deletion vs. *TP53* deletion with complex karyotype\n",
    "\n",
    "In the IPSS-R table above, you can see that some prognostic groups were identified by a complex karyotype. The presence of a complex karyopte can indicate a specific prognosis in other scenarios as well [4]. Similar to the single locus subsets created in the first section, we can further separate cases with *TP53* deletion from those with *TP53* deletion in addition to complex karyotype. We can utilize the **KaryAbnorm** BigQuery table to count the number of abnormalities present in each clone for a specific Mitelman case. Any karyotype nomenclature containing >=3 abnormalities in a single clone will be assigned to the complex karyotype group, and all others with <=2 abnormalities will be considered non-complex.\n",
    "\n",
    "Example of deleted 17p in non-complex karyotype:  \n",
    ">45,XX,-5,del(17)(p11.2)\n",
    "\n",
    "Example of deleted 17p in complex karyotype:  \n",
    ">50,XX,-3,del(5)(q13q33),+8,+11,der(12)t(1;12)(p36.1;p12),del(13)(q13q34),+15,del(17)(p11.2)+19,+21,t(9;22)(q34;q11.2)"
   ]
  },
  {
   "cell_type": "markdown",
   "id": "61f2c0a5",
   "metadata": {},
   "source": [
    "### Complex and simple karyotype query"
   ]
  },
  {
   "cell_type": "code",
   "execution_count": null,
   "id": "b2f0d20b",
   "metadata": {
    "id": "b2f0d20b"
   },
   "outputs": [],
   "source": [
    "# queries to select all TP53 deletions and separate them based on the number of total abnormalities\n",
    "simple_karyo = f'''\n",
    "WITH\n",
    "    tp53 AS (SELECT c.* FROM `{bq_project}.{bq_dataset}.CytoConverted` c\n",
    "        WHERE c.ChrOrd = 17\n",
    "            AND c.Start < 7668421\n",
    "            AND c.End > 768749\n",
    "            AND c.Type = 'Loss'),\n",
    "    simple AS (SELECT * FROM (\n",
    "                SELECT RefNo, CaseNo, InvNo, CloneNo, COUNT(Abnormality) AS NUM_ABN\n",
    "                FROM `{bq_project}.{bq_dataset}.KaryAbnorm`\n",
    "                WHERE NOT REGEXP_CONTAINS(Abnormality, r'^(\\d|X|Y|idem|\\?|inc)')\n",
    "                GROUP BY RefNo, CaseNo, InvNo, CloneNo\n",
    "              ) WHERE NUM_ABN <= 2)\n",
    "SELECT DISTINCT a.RefNo,\n",
    "                a.CaseNo,\n",
    "                a.InvNo,\n",
    "                s.NUM_ABN,\n",
    "                n.KaryShort\n",
    "FROM (\n",
    "        (SELECT RefNo, CaseNo, InvNo FROM tp53)\n",
    "        INTERSECT DISTINCT\n",
    "        (SELECT RefNo, CaseNo, InvNo FROM simple)\n",
    "     ) a\n",
    "JOIN simple s\n",
    "  ON a.RefNo = s.RefNo\n",
    "  AND a.CaseNo = s.CaseNo\n",
    "  AND a.InvNo = s.InvNo\n",
    "JOIN `{bq_project}.{bq_dataset}.CytogenInv` n\n",
    "  ON a.RefNo = n.RefNo\n",
    "  AND a.CaseNo = n.CaseNo\n",
    "  AND a.InvNo = n.InvNo\n",
    "ORDER BY a.RefNo,\n",
    "        a.CaseNo,\n",
    "        a.InvNo\n",
    "'''\n",
    "#print(simple_karyo)\n",
    "\n",
    "complex_karyo = f'''\n",
    "WITH\n",
    "    tp53 AS (SELECT c.* FROM `{bq_project}.{bq_dataset}.CytoConverted` c\n",
    "                WHERE c.ChrOrd = 17\n",
    "                    AND c.Start < 7668421\n",
    "                    AND c.End > 768749\n",
    "                    AND c.Type = 'Loss'),\n",
    "    complex AS (SELECT * FROM (\n",
    "                SELECT RefNo, CaseNo, InvNo, CloneNo, COUNT(Abnormality) AS NUM_ABN\n",
    "                    FROM `{bq_project}.{bq_dataset}.KaryAbnorm`\n",
    "                    WHERE NOT REGEXP_CONTAINS(Abnormality, r'^(\\d|X|Y|idem|\\?|inc)')\n",
    "                    GROUP BY RefNo, CaseNo, InvNo, CloneNo\n",
    "              ) WHERE NUM_ABN >= 3)\n",
    "SELECT DISTINCT a.RefNo,\n",
    "                a.CaseNo,\n",
    "                a.InvNo,\n",
    "                s.NUM_ABN,\n",
    "                n.KaryShort\n",
    "FROM (\n",
    "        (SELECT RefNo, CaseNo, InvNo FROM tp53)\n",
    "        INTERSECT DISTINCT\n",
    "        (SELECT RefNo, CaseNo, InvNo FROM complex)\n",
    "     ) a\n",
    "JOIN complex s\n",
    "    ON a.RefNo = s.RefNo\n",
    "    AND a.CaseNo = s.CaseNo\n",
    "    AND a.InvNo = s.InvNo\n",
    "JOIN `{bq_project}.{bq_dataset}.CytogenInv` n\n",
    "    ON a.RefNo = n.RefNo\n",
    "    AND a.CaseNo = n.CaseNo\n",
    "    AND a.InvNo = n.InvNo\n",
    "ORDER BY a.RefNo,\n",
    "        a.CaseNo,\n",
    "        a.InvNo\n",
    "'''\n",
    "#print(complex_karyo)"
   ]
  },
  {
   "cell_type": "code",
   "execution_count": null,
   "id": "pKqMiaqluI_u",
   "metadata": {
    "id": "pKqMiaqluI_u"
   },
   "outputs": [],
   "source": [
    "# run the queries and store the results in dataframes\n",
    "tp53_simple_df = client.query(simple_karyo).result().to_dataframe()\n",
    "tp53_complex_df = client.query(complex_karyo).result().to_dataframe()"
   ]
  },
  {
   "cell_type": "code",
   "execution_count": null,
   "id": "4CrswAGfv4G6",
   "metadata": {
    "colab": {
     "base_uri": "https://localhost:8080/"
    },
    "id": "4CrswAGfv4G6",
    "outputId": "a81ebb12-be4d-418a-d9c7-3034f6f0f384"
   },
   "outputs": [],
   "source": [
    "# view the results\n",
    "print(f'Count of simple deletion occurences: {len(tp53_simple_df.index)}')\n",
    "print(tp53_simple_df.head())\n",
    "\n",
    "print(f'Count of complex deletion occurences: {len(tp53_complex_df.index)}')\n",
    "print(tp53_complex_df.head())"
   ]
  },
  {
   "cell_type": "code",
   "execution_count": null,
   "id": "HCvJk2q1Q1rG",
   "metadata": {
    "colab": {
     "base_uri": "https://localhost:8080/",
     "height": 342
    },
    "id": "HCvJk2q1Q1rG",
    "outputId": "5cb33134-94a0-4291-cef9-381af5681473"
   },
   "outputs": [],
   "source": [
    "# plot the number of occurences to compare distribution of abnormality counts between simple and complex\n",
    "sns.set(rc={\"figure.figsize\":(20, 5)})\n",
    "\n",
    "tp53_simple_df['ds'] = \"simple\"\n",
    "tp53_complex_df['ds'] = \"complex\"\n",
    "merged_tp53 = pd.concat([tp53_simple_df, tp53_complex_df])\n",
    "\n",
    "merged_plot = sns.countplot(x='NUM_ABN', hue='ds', data=merged_tp53, dodge=False)\n",
    "merged_plot.set(xlabel=\"Number of Abnormalities in Karyotype\",\n",
    "                 ylabel=\"Number of Mitelman Karyotypes\",\n",
    "                 title=\"Distribution of Abnormality Counts\")\n",
    "plt.show()"
   ]
  },
  {
   "cell_type": "markdown",
   "id": "80130ee5",
   "metadata": {},
   "source": [
    "#### Results\n",
    "\n",
    "The graph above shows how simple cases only contain one or two abnormalities, as expected, and that the number of occurences between these two groups is similar. For complex cases however, there is a much larger range of abnormality counts; from 3 all the way up to 81. The distribution of these occurences lies heavily at the lower end and decreases dramatically as the number of abnormalities goes higher."
   ]
  },
  {
   "cell_type": "markdown",
   "id": "7d738ea0",
   "metadata": {
    "id": "f7f40975"
   },
   "source": [
    "## Conclusion\n",
    "\n",
    "In this notebook we have explored new ways of looking at the Mitelman Database. The Mitelman webapp contains a number of variables that can be used to subset the data. This notebook has provided examples showing how the dataset can be further explored by interacting directly with the BigQuery tables. The examples provided here can be modified or adapted to additional use cases. By creating new and unique subsets of the Mitelman database, you might discover even more insights in your data."
   ]
  },
  {
   "cell_type": "markdown",
   "id": "0f9ddce3",
   "metadata": {},
   "source": [
    "## References:\n",
    "1. McGowan-Jordan J, and Schmidt M. ISCN 2016 An International System for Human Cytogenomic Nomenclature. Reprint of: Cytogenetic and Genome Research 2016;148;1. Karger, S  \n",
    "\n",
    "2. [Revised International Prognostic Scoring System for Myelodysplastic Syndromes](https://doi.org/10.1182/blood-2012-03-420489)  \n",
    "\n",
    "3. [New Comprehensive Cytogenetic Scoring System for Primary Myelodysplastic Syndromes (MDS) and Oligoblastic Acute Myeloid Leukemia After MDS Derived From an International Database Merge](https://doi.org/10.1200/JCO.2011.35.6394)  \n",
    "\n",
    "4. [TP53 mutation status divides myelodysplastic syndromes with complex karyotypes into distinct prognostic subgroups](https://www.ncbi.nlm.nih.gov/pmc/articles/PMC6609480/)"
   ]
  }
 ],
 "metadata": {
  "colab": {
   "provenance": []
  },
  "kernelspec": {
   "display_name": "Python 3 (ipykernel)",
   "language": "python",
   "name": "python3"
  },
  "language_info": {
   "codemirror_mode": {
    "name": "ipython",
    "version": 3
   },
   "file_extension": ".py",
   "mimetype": "text/x-python",
   "name": "python",
   "nbconvert_exporter": "python",
   "pygments_lexer": "ipython3",
   "version": "3.9.6"
  }
 },
 "nbformat": 4,
 "nbformat_minor": 5
}
