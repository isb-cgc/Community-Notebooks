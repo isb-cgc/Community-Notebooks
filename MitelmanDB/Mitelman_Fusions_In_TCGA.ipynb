{
<<<<<<< HEAD
 "cells": [
  {
   "cell_type": "markdown",
   "id": "08c3e7f4",
   "metadata": {
    "id": "08c3e7f4"
   },
   "source": [
    "<a href=\"https://colab.research.google.com/github/isb-cgc/Community-Notebooks/blob/jacob-dev/MitelmanDB/Mitelman_Fusions_In_TCGA.ipynb\" target=\"_parent\"><img src=\"https://colab.research.google.com/assets/colab-badge.svg\" alt=\"Open In Colab\"/></a>"
   ]
  },
  {
   "cell_type": "markdown",
   "id": "8abfde41",
   "metadata": {
    "id": "8abfde41"
   },
   "source": [
    "# Mitelman Gene Fusions in TCGA\n",
    "\n",
    "Check out other notebooks at our [Community Notebooks Repository](https://github.com/isb-cgc/Community-Notebooks)!\n",
    "\n",
    "```\n",
    "Title: Mitelman Gene Fusions in TCGA  \n",
    "Author: Jacob Wilson  \n",
    "Created: 2023-11-01  \n",
    "URL: https://github.com/isb-cgc/Community-Notebooks/blob/jacob-dev/MitelmanDB/Mitelman_Fusions_In_TCGA.ipynb  \n",
    "Purpose: We will explore gene fusions in the Mitelman database using BigQuery. With a few basic queries we can select the most common gene fusions specific to any disease type present in the Mitelman database. For demonstration in this notebook, we will be looking at gene fusions associated with Prostate adenocarcinomas. After creating a list of relevant genes, we will obtain gene expression data from TCGA and build a machine learning model to predict the Primary Gleason Grade.\n",
    "```"
   ]
  },
  {
   "cell_type": "markdown",
   "id": "9e64559c",
   "metadata": {
    "id": "9e64559c"
   },
   "source": [
    "## Initialize Notebook Environment\n",
    "\n",
    "Before beginning, we first need to load dependencies and authenticate to BigQuery."
   ]
  },
  {
   "cell_type": "markdown",
   "id": "4a073c7c",
   "metadata": {
    "id": "4a073c7c"
   },
   "source": [
    "## Install Dependencies"
   ]
  },
  {
   "cell_type": "code",
   "execution_count": 1,
   "id": "478a0ce9",
   "metadata": {
    "id": "478a0ce9"
   },
   "outputs": [],
   "source": [
    "# GCP Libraries\n",
    "from google.cloud import bigquery\n",
    "from google.colab import auth\n",
    "\n",
    "from itertools import chain"
   ]
  },
  {
   "cell_type": "markdown",
   "id": "43816bcc",
   "metadata": {
    "id": "43816bcc"
   },
   "source": [
    "## Authenticate\n",
    "\n",
    "In order to utilize BigQuery, we must obtain authorization to BigQuery and Google Cloud."
   ]
  },
  {
   "cell_type": "code",
   "execution_count": 2,
   "id": "6aa17ca5",
   "metadata": {
    "id": "6aa17ca5"
   },
   "outputs": [],
   "source": [
    "# if you're using Google Colab, authenticate to gcloud with the following\n",
    "auth.authenticate_user()\n",
    "\n",
    "# alternatively, use the gcloud SDK\n",
    "#!gcloud auth application-default login"
   ]
  },
  {
   "cell_type": "markdown",
   "id": "6529ac99",
   "metadata": {
    "id": "6529ac99"
   },
   "source": [
    "## Google project ID\n",
    "\n",
    "Set your own Google project ID for use with this notebook."
   ]
  },
  {
   "cell_type": "code",
   "execution_count": 5,
   "id": "cabd29da",
   "metadata": {
    "id": "cabd29da"
   },
   "outputs": [],
   "source": [
    "# set the google project that will be billed for this notebook's computations\n",
    "google_project = 'your_project_id'  ## change this\n",
    "\n",
    "# set the google project that will be used to store the model and temp table\n",
    "ML_project = 'your_model_project'  ## change this\n",
    "\n",
    "# set the dataset for the temporary data table and machine learning model\n",
    "ML_data = 'your_temp_table'  ## change this"
   ]
  },
  {
   "cell_type": "markdown",
   "id": "9a4fdbc6",
   "metadata": {
    "id": "9a4fdbc6"
   },
   "source": [
    "## BigQuery Client"
   ]
  },
  {
   "cell_type": "code",
   "execution_count": 7,
   "id": "a3235756",
   "metadata": {
    "id": "a3235756"
   },
   "outputs": [],
   "source": [
    "# Initialize a client to access the data within BigQuery\n",
    "if google_project == 'your_project_id':\n",
    "    print('Please update the project ID with your Google Cloud Project')\n",
    "else:\n",
    "    client = bigquery.Client(google_project)\n",
    "\n",
    "if ML_project == 'your_model_project':\n",
    "    print('Please update the project ID with your Google Cloud Project')\n",
    "else:\n",
    "    model_client = bigquery.Client(ML_project)\n",
    "\n",
    "# set the Mitelman Database project\n",
    "mitel_proj = 'mitelman-db'\n",
    "mitel_data = 'prod'\n",
    "\n",
    "# set the TCGA project\n",
    "TCGA_proj = 'isb-cgc-bq'\n",
    "TCGA_data = 'TCGA'"
   ]
  },
  {
   "cell_type": "markdown",
   "id": "46a2cf1e",
   "metadata": {
    "id": "46a2cf1e"
   },
   "source": [
    "## Exploring Fusions in the Mitelman DB"
   ]
  },
  {
   "cell_type": "markdown",
   "id": "a780356b",
   "metadata": {
    "id": "a780356b"
   },
   "source": [
    "We will begin by exploring the disease types and gene fusions that are present in the Mitelman database. The database utilizes a coding system where specific disease morphologies and topographics are represented by a unique value stored in the **Koder** BigQuery table. Other BigQuery tables that will be used include **MolBiolClinAssoc**, which contains the morphlogy and topography in addition to gene fusion and karyotype data, and **MolClinGene** which details the gene fusions. Using the following queries, we can obtain the codes relevant to our disease of interest."
   ]
  },
  {
   "cell_type": "code",
   "execution_count": 8,
   "id": "859a3cd4",
   "metadata": {
    "id": "859a3cd4"
   },
   "outputs": [],
   "source": [
    "# query to see all disease types by morphology\n",
    "query_morph = f'''\n",
    "SELECT m.Morph, k.Benamning\n",
    "FROM `{mitel_proj}.{mitel_data}.MolBiolClinAssoc` m\n",
    "JOIN `{mitel_proj}.{mitel_data}.Koder` k\n",
    "  ON k.Kod = m.Morph AND k.kodTyp = \"MORPH\"\n",
    "GROUP BY m.Morph, k.Benamning\n",
    "ORDER BY k.Benamning ASC\n",
    "'''\n",
    "\n",
    "#print(query_morph)"
   ]
  },
  {
   "cell_type": "code",
   "execution_count": 9,
   "id": "FPmBz8NwTNMZ",
   "metadata": {
    "id": "FPmBz8NwTNMZ"
   },
   "outputs": [],
   "source": [
    "# query to see all disease types by topography\n",
    "query_topo = f'''\n",
    "SELECT m.Topo, k.Benamning\n",
    "FROM `{mitel_proj}.{mitel_data}.MolBiolClinAssoc` m\n",
    "JOIN `{mitel_proj}.{mitel_data}.Koder` k\n",
    "  ON k.Kod = m.Topo AND k.kodTyp = \"TOP\"\n",
    "GROUP BY m.Topo, k.Benamning\n",
    "ORDER BY k.Benamning ASC\n",
    "'''\n",
    "\n",
    "#print(query_topo)"
   ]
  },
  {
   "cell_type": "code",
   "execution_count": 10,
   "id": "5fc105ae",
   "metadata": {
    "id": "5fc105ae"
   },
   "outputs": [],
   "source": [
    "# query for gene fusions of all disease types\n",
    "# gene names that are separated with a double colon \"::\" represent gene-pair fusions (e.g. gene1::gene2)\n",
    "query_fusions = f'''\n",
    "SELECT g.Gene, count(g.Gene) AS Count\n",
    "FROM `{mitel_proj}.{mitel_data}.MolClinGene` g\n",
    "-- gene name for fusions is double-colon separated gene pair\n",
    "WHERE g.Gene LIKE \"%::%\"\n",
    "GROUP BY g.Gene\n",
    "ORDER BY Count DESC\n",
    "'''\n",
    "\n",
    "#print(query_fusions)"
   ]
  },
  {
   "cell_type": "code",
   "execution_count": 11,
   "id": "fcb384db",
   "metadata": {
    "id": "fcb384db"
   },
   "outputs": [],
   "source": [
    "# run the queries and store results in dataframes\n",
    "morphology_df = client.query(query_morph).result().to_dataframe()\n",
    "topography_df = client.query(query_topo).result().to_dataframe()\n",
    "fusions_df = client.query(query_fusions).result().to_dataframe()"
   ]
  },
  {
   "cell_type": "code",
   "execution_count": 12,
   "id": "fk_EP-N-T370",
   "metadata": {
    "colab": {
     "base_uri": "https://localhost:8080/"
    },
    "id": "fk_EP-N-T370",
    "outputId": "75f376cf-d93b-4823-eb32-6c54ac86efa4"
   },
   "outputs": [
    {
     "name": "stdout",
     "output_type": "stream",
     "text": [
      "  Morph                                          Benamning\n",
      "0  3117                              Acinic cell carcinoma\n",
      "1  1115                          Acute basophilic leukemia\n",
      "2  1117                        Acute eosinophilic leukemia\n",
      "3  1112                Acute erythroleukemia (FAB type M6)\n",
      "4  1602  Acute lymphoblastic leukemia/lymphoblastic lym...\n",
      "224\n",
      "   Topo   Benamning\n",
      "0  0703     Adrenal\n",
      "1  0305     Bladder\n",
      "2  0801       Brain\n",
      "3  0806  Brain stem\n",
      "4  0401      Breast\n",
      "50\n",
      "             Gene  Count\n",
      "0       BCR::ABL1    419\n",
      "1  RUNX1::RUNX1T1    130\n",
      "2       PML::RARA     95\n",
      "3     ETV6::RUNX1     83\n",
      "4     ETV6::NTRK3     71\n",
      "33826\n",
      "   Morph       Benamning\n",
      "17  3111  Adenocarcinoma\n",
      "    Topo Benamning\n",
      "30  0602  Prostate\n"
     ]
    }
   ],
   "source": [
    "print(morphology_df.head())\n",
    "print(len(morphology_df))\n",
    "\n",
    "print(topography_df.head())\n",
    "print(len(topography_df))\n",
    "\n",
    "print(fusions_df.head())\n",
    "print(len(fusions_df))\n",
    "\n",
    "# obtain the morphology and topography codes specific to Prostate Adenocarcinoma\n",
    "print(morphology_df.loc[morphology_df['Benamning'] == 'Adenocarcinoma'])\n",
    "print(topography_df.loc[topography_df['Benamning'] == 'Prostate'])"
   ]
  },
  {
   "cell_type": "markdown",
   "id": "cd7a4fc8",
   "metadata": {
    "id": "cd7a4fc8"
   },
   "source": [
    "These results show that there are a total of 224 morphologies and 50 topographies in the Mitelman database. We will look at fusions involving adenocarcinomas in the prostate. The morphology code for adenocarcinoma is 3111, and the topography code for prostate is 0602. Using these two values, we can construct a list of the ten most common gene fusions for Prostate adenocarcinomas present in the Mitelman database."
   ]
  },
  {
   "cell_type": "code",
   "execution_count": 13,
   "id": "2364e086",
   "metadata": {
    "id": "2364e086"
   },
   "outputs": [],
   "source": [
    "# query for the ten most common gene fusions for Mitelman Prostate adenocarcinoma cases\n",
    "fusions_prostate = f'''\n",
    "SELECT g.Gene, count(g.Gene) AS Count, m.Morph, k.Benamning, m.Topo\n",
    "FROM `{mitel_proj}.{mitel_data}.MolClinGene` g\n",
    "JOIN `{mitel_proj}.{mitel_data}.MolBiolClinAssoc` m\n",
    "  ON m.RefNo = g.RefNo AND m.InvNo = g.InvNo\n",
    "JOIN `{mitel_proj}.{mitel_data}.Koder` k\n",
    "  ON k.Kod = m.Topo AND k.kodTyp = \"TOP\"\n",
    "-- we are only considering gene fusions for Prostate adenocarcinoma\n",
    "WHERE g.Gene LIKE \"%::%\" AND m.Morph LIKE \"3111\" AND m.Topo LIKE \"0602\"\n",
    "GROUP BY g.Gene, m.Morph, k.Benamning, m.Topo\n",
    "ORDER BY Count DESC\n",
    "LIMIT 10\n",
    "'''\n",
    "\n",
    "#print(fusions_prostate)"
   ]
  },
  {
   "cell_type": "code",
   "execution_count": 1,
   "id": "05bc79b4",
   "metadata": {
    "colab": {
     "base_uri": "https://localhost:8080/"
    },
    "id": "05bc79b4",
    "outputId": "eef633f2-ce22-40d4-dd27-1fe3e6030d12"
   },
   "outputs": [
    {
     "ename": "NameError",
     "evalue": "name 'client' is not defined",
     "output_type": "error",
     "traceback": [
      "\u001b[0;31m---------------------------------------------------------------------------\u001b[0m",
      "\u001b[0;31mNameError\u001b[0m                                 Traceback (most recent call last)",
      "Cell \u001b[0;32mIn[1], line 2\u001b[0m\n\u001b[1;32m      1\u001b[0m \u001b[38;5;66;03m# run the query and view the gene fusions\u001b[39;00m\n\u001b[0;32m----> 2\u001b[0m top10_prostate \u001b[38;5;241m=\u001b[39m \u001b[43mclient\u001b[49m\u001b[38;5;241m.\u001b[39mquery(fusions_prostate)\u001b[38;5;241m.\u001b[39mresult()\u001b[38;5;241m.\u001b[39mto_dataframe()\n\u001b[1;32m      3\u001b[0m \u001b[38;5;28mprint\u001b[39m(top10_prostate)\n",
      "\u001b[0;31mNameError\u001b[0m: name 'client' is not defined"
     ]
    }
   ],
   "source": [
    "# run the query and view the gene fusions\n",
    "top10_prostate = client.query(fusions_prostate).result().to_dataframe()\n",
    "print(top10_prostate)"
   ]
  },
  {
   "cell_type": "code",
   "execution_count": 15,
   "id": "12b927be",
   "metadata": {
    "colab": {
     "base_uri": "https://localhost:8080/"
    },
    "id": "12b927be",
    "outputId": "2497a580-74c8-4f8a-f91d-b468b88208f2"
   },
   "outputs": [
    {
     "name": "stdout",
     "output_type": "stream",
     "text": [
      "'SERINC5','EIF4G3','AK5','ETV1','ADGRL2','KLK2','ERG','METTL13','NDRG1','TMPRSS2','ELK4','ETV4','SLC45A3','OSBPL9'\n"
     ]
    }
   ],
   "source": [
    "# convert the list of gene fusion pairs into a string containing individual unique gene names\n",
    "genes_list = [x.split(\"::\") for x in top10_prostate['Gene']]\n",
    "genes_set = set(chain.from_iterable(genes_list))\n",
    "genes_str = ','.join(f\"'{gene}'\" for gene in genes_set)\n",
    "\n",
    "print(genes_str)"
   ]
  },
  {
   "cell_type": "markdown",
   "id": "QqWq240Anujw",
   "metadata": {
    "id": "QqWq240Anujw"
   },
   "source": [
    "Using the ten most common gene fusions for Prostate Adenocarcinoma in the Mitelman database, we have created a list of 14 individual genes (duplicates removed) to explore in TCGA."
   ]
  },
  {
   "cell_type": "markdown",
   "id": "xfF2tPLjxLcM",
   "metadata": {
    "id": "xfF2tPLjxLcM"
   },
   "source": [
    "## Finding the Genes in TCGA"
   ]
  },
  {
   "cell_type": "markdown",
   "id": "TEVL2KFVxc8E",
   "metadata": {
    "id": "TEVL2KFVxc8E"
   },
   "source": [
    "Now we will find our list of Prostate adenocarcinoma genes in TCGA. We will first find cases matching our target disease type, then we will create a temporary table containing the gene expression data for these cases. The TCGA database is made up of various focused studies as described by this table: https://gdc.cancer.gov/resources-tcga-users/tcga-code-tables/tcga-study-abbreviations. We can use the PRAD project to retrieve cases for Prostate adenocarcinoma."
   ]
  },
  {
   "cell_type": "code",
   "execution_count": 19,
   "id": "Ks7Puh0xnpC6",
   "metadata": {
    "id": "Ks7Puh0xnpC6"
   },
   "outputs": [],
   "source": [
    "# query to select all Prostate adenocarcinomas in TCGA\n",
    "query_TCGA = f'''\n",
    "SELECT r.project_short_name,\n",
    "      r.primary_site,\n",
    "      r.gene_name,\n",
    "      p.proj__name,\n",
    "      p.disease_type,\n",
    "      p.diag__primary_gleason_grade\n",
    "FROM `{TCGA_proj}.{TCGA_data}.RNAseq_hg38_gdc_current` r\n",
    "JOIN `{TCGA_proj}.{TCGA_data}.clinical_gdc_current` p\n",
    "  ON r.case_gdc_id = p.case_id\n",
    "-- select cases from the Prostate adenocarcinoma project\n",
    "WHERE r.project_short_name = \"TCGA-PRAD\"\n",
    "'''"
   ]
  },
  {
   "cell_type": "code",
   "execution_count": 20,
   "id": "CATsd4JnvbnR",
   "metadata": {
    "colab": {
     "base_uri": "https://localhost:8080/"
    },
    "id": "CATsd4JnvbnR",
    "outputId": "fdbd54ed-528e-4f03-a3c7-ce5af0a16fb9"
   },
   "outputs": [
    {
     "name": "stdout",
     "output_type": "stream",
     "text": [
      "         project_short_name    primary_site   gene_name  \\\n",
      "0                 TCGA-PRAD  Prostate gland     MED13P1   \n",
      "1                 TCGA-PRAD  Prostate gland       Y_RNA   \n",
      "2                 TCGA-PRAD  Prostate gland    MIR129-1   \n",
      "3                 TCGA-PRAD  Prostate gland     RPL7P13   \n",
      "4                 TCGA-PRAD  Prostate gland  AL451000.1   \n",
      "...                     ...             ...         ...   \n",
      "32879883          TCGA-PRAD  Prostate gland  AL355377.4   \n",
      "32879884          TCGA-PRAD  Prostate gland  AL606834.1   \n",
      "32879885          TCGA-PRAD  Prostate gland  AC127164.1   \n",
      "32879886          TCGA-PRAD  Prostate gland     SLC44A5   \n",
      "32879887          TCGA-PRAD  Prostate gland      EIF2B4   \n",
      "\n",
      "                       proj__name                  disease_type  \\\n",
      "0         Prostate Adenocarcinoma  Adenomas and Adenocarcinomas   \n",
      "1         Prostate Adenocarcinoma  Adenomas and Adenocarcinomas   \n",
      "2         Prostate Adenocarcinoma  Adenomas and Adenocarcinomas   \n",
      "3         Prostate Adenocarcinoma  Adenomas and Adenocarcinomas   \n",
      "4         Prostate Adenocarcinoma  Adenomas and Adenocarcinomas   \n",
      "...                           ...                           ...   \n",
      "32879883  Prostate Adenocarcinoma  Adenomas and Adenocarcinomas   \n",
      "32879884  Prostate Adenocarcinoma  Adenomas and Adenocarcinomas   \n",
      "32879885  Prostate Adenocarcinoma  Adenomas and Adenocarcinomas   \n",
      "32879886  Prostate Adenocarcinoma  Adenomas and Adenocarcinomas   \n",
      "32879887  Prostate Adenocarcinoma  Adenomas and Adenocarcinomas   \n",
      "\n",
      "         diag__primary_gleason_grade  \n",
      "0                          Pattern 4  \n",
      "1                          Pattern 4  \n",
      "2                          Pattern 4  \n",
      "3                          Pattern 4  \n",
      "4                          Pattern 4  \n",
      "...                              ...  \n",
      "32879883                   Pattern 4  \n",
      "32879884                   Pattern 4  \n",
      "32879885                   Pattern 4  \n",
      "32879886                   Pattern 4  \n",
      "32879887                   Pattern 4  \n",
      "\n",
      "[32879888 rows x 6 columns]\n"
     ]
    }
   ],
   "source": [
    "# run the query and view results\n",
    "TCGA_prostate = client.query(query_TCGA).result().to_dataframe()\n",
    "print(TCGA_prostate)"
   ]
  },
  {
   "cell_type": "markdown",
   "id": "_E0IjOy3bsyW",
   "metadata": {
    "id": "_E0IjOy3bsyW"
   },
   "source": [
    "## Create a Dataset to Use With the ML Model"
   ]
  },
  {
   "cell_type": "markdown",
   "id": "raHvxYQbCfCE",
   "metadata": {
    "id": "raHvxYQbCfCE"
   },
   "source": [
    "A temporary table will be used to store the following data: case identifier, gene name, gene expression values, and Primary Gleason Grade. In the final step of this query, we will pivot the table data creating a column for each gene in our target list. The temp table and ML model queries will replace any table or model using the same name within your provided project and dataset."
   ]
  },
  {
   "cell_type": "code",
   "execution_count": 21,
   "id": "xwni_6LCnFNR",
   "metadata": {
    "colab": {
     "base_uri": "https://localhost:8080/"
    },
    "id": "xwni_6LCnFNR",
    "outputId": "c82fe56c-438f-4d8a-d8a8-2d19ea8d2023"
   },
   "outputs": [
    {
     "name": "stdout",
     "output_type": "stream",
     "text": [
      "\n",
      "CREATE OR REPLACE TABLE `isb-project-zero.jaw_scratch.tmp_data` AS\n",
      "  SELECT * FROM(\n",
      "    SELECT\n",
      "      seq.case_barcode,\n",
      "      seq.gene_name,\n",
      "      seq.fpkm_uq_unstranded,\n",
      "      --assign Primary Gleason Grade to an appropriate integer\n",
      "      CASE clin.diag__primary_gleason_grade\n",
      "        WHEN \"Pattern 1\" THEN 1\n",
      "        WHEN \"Pattern 2\" THEN 2\n",
      "        WHEN \"Pattern 3\" THEN 3\n",
      "        WHEN \"Pattern 4\" THEN 4\n",
      "        WHEN \"Pattern 5\" THEN 5\n",
      "      END AS primary_gleason_grade\n",
      "    FROM `isb-cgc-bq.TCGA.RNAseq_hg38_gdc_current` seq\n",
      "    JOIN `isb-cgc-bq.TCGA.clinical_gdc_current` clin\n",
      "      ON seq.case_gdc_id = clin.case_id\n",
      "    WHERE clin.disease_type = \"Adenomas and Adenocarcinomas\"\n",
      "    AND clin.primary_site LIKE \"%Prostate gland%\")\n",
      "  --transform genes from rows to columns using pivot\n",
      "  PIVOT(MAX(fpkm_uq_unstranded) for gene_name IN ('SERINC5','EIF4G3','AK5','ETV1','ADGRL2','KLK2','ERG','METTL13','NDRG1','TMPRSS2','ELK4','ETV4','SLC45A3','OSBPL9'))\n",
      "\n"
     ]
    }
   ],
   "source": [
    "# query to create a temporary table for use with the ML model\n",
    "create_tmp_table = f'''\n",
    "CREATE OR REPLACE TABLE `{ML_project}.{ML_data}.tmp_data` AS\n",
    "  SELECT * FROM(\n",
    "    SELECT\n",
    "      seq.case_barcode,\n",
    "      seq.gene_name,\n",
    "      seq.fpkm_uq_unstranded,\n",
    "      --assign Primary Gleason Grade to an appropriate integer\n",
    "      CASE clin.diag__primary_gleason_grade\n",
    "        WHEN \"Pattern 1\" THEN 1\n",
    "        WHEN \"Pattern 2\" THEN 2\n",
    "        WHEN \"Pattern 3\" THEN 3\n",
    "        WHEN \"Pattern 4\" THEN 4\n",
    "        WHEN \"Pattern 5\" THEN 5\n",
    "      END AS primary_gleason_grade\n",
    "    FROM `{TCGA_proj}.{TCGA_data}.RNAseq_hg38_gdc_current` seq\n",
    "    JOIN `{TCGA_proj}.{TCGA_data}.clinical_gdc_current` clin\n",
    "      ON seq.case_gdc_id = clin.case_id\n",
    "    WHERE clin.disease_type = \"Adenomas and Adenocarcinomas\"\n",
    "    AND clin.primary_site LIKE \"%Prostate gland%\")\n",
    "  --transform genes from rows to columns using pivot\n",
    "  PIVOT(MAX(fpkm_uq_unstranded) for gene_name IN ({genes_str}))\n",
    "'''\n",
    "print(create_tmp_table)"
   ]
  },
  {
   "cell_type": "code",
   "execution_count": 22,
   "id": "X6-Hbtj2oLn8",
   "metadata": {
    "id": "X6-Hbtj2oLn8"
   },
   "outputs": [],
   "source": [
    "# Run the query. This will create a table in the assigned Google project.\n",
    "tmp_data = model_client.query(create_tmp_table).result().to_dataframe()"
   ]
  },
  {
   "cell_type": "code",
   "execution_count": 23,
   "id": "-IWdv9KwzIlA",
   "metadata": {
    "colab": {
     "base_uri": "https://localhost:8080/"
    },
    "id": "-IWdv9KwzIlA",
    "outputId": "9af0d035-0b8c-42f3-9290-838f59e3ac0e"
   },
   "outputs": [
    {
     "name": "stdout",
     "output_type": "stream",
     "text": [
      "   case_barcode  primary_gleason_grade  SERINC5   EIF4G3     AK5      ETV1  \\\n",
      "0  TCGA-CH-5768                      2  50.5366  11.4251  0.7413    1.1543   \n",
      "1  TCGA-HC-7078                      3  32.8305   7.7551  8.4328    0.8230   \n",
      "2  TCGA-HI-7169                      3   3.7229   7.6725  0.6712    0.7555   \n",
      "3  TCGA-EJ-AB27                      3  33.7769   7.7147  0.9826    0.5986   \n",
      "4  TCGA-G9-6385                      3  27.1639   7.5350  0.3178    1.6562   \n",
      "5  TCGA-EJ-7125                      3  61.6764  14.9099  3.7182    0.9449   \n",
      "6  TCGA-EJ-7788                      3  94.4356  11.5841  0.6600  369.2456   \n",
      "7  TCGA-J4-AAU2                      3  17.3162   8.8825  1.9315    0.3339   \n",
      "8  TCGA-G9-6364                      3  45.9048   9.5692  1.5858    1.3407   \n",
      "9  TCGA-HC-8258                      3  48.7664  29.6491  1.7965    2.5233   \n",
      "\n",
      "    ADGRL2       KLK2      ERG  METTL13     NDRG1   TMPRSS2      ELK4    ETV4  \\\n",
      "0   5.2915  1072.6219  67.8280      NaN  153.2677  246.7231   19.8230  0.6193   \n",
      "1   2.5207  1341.2227   2.3200      NaN   61.0022  336.9265   15.0584  0.5331   \n",
      "2   2.8310   513.6970  23.6674      NaN   74.4615   72.6653    3.1484  0.7781   \n",
      "3   3.1608  1806.5724   0.7148      NaN  140.6711  428.9780   21.0076  0.9570   \n",
      "4   4.4127  1289.4506  12.8951      NaN  154.1736  252.6067   14.3670  2.2185   \n",
      "5   6.9273  1721.8015   1.2958      NaN  126.4450  612.9255   39.6571  1.2257   \n",
      "6   3.0850   852.4662   2.2073      NaN  177.8389  143.3961   11.8502  0.5333   \n",
      "7   2.1287  2435.6503   1.1877      NaN   80.0825  372.3035   16.8970  0.4139   \n",
      "8   3.3976   827.9569  37.9142      NaN  185.3193  128.2588   15.2127  0.2884   \n",
      "9  10.1995  1748.6556   4.4751      NaN  114.1547  353.6179  104.6097  1.1337   \n",
      "\n",
      "     SLC45A3   OSBPL9  \n",
      "0   672.1192  12.3321  \n",
      "1  1215.9392   9.3855  \n",
      "2   353.5497  11.2218  \n",
      "3  1417.0365  13.3114  \n",
      "4   754.1476  12.5183  \n",
      "5  1772.3037  14.7621  \n",
      "6   343.9466   9.0156  \n",
      "7  1091.1420  13.6519  \n",
      "8   509.0990   7.5786  \n",
      "9   955.0266  15.7957  \n"
     ]
    }
   ],
   "source": [
    "# query to retrieve data from the new table\n",
    "query_tmp = f'''\n",
    "  SELECT *\n",
    "  FROM `{ML_project}.{ML_data}.tmp_data`\n",
    "  LIMIT 10\n",
    "'''\n",
    "\n",
    "# run the query and view results\n",
    "tmp_table = client.query(query_tmp).result().to_dataframe()\n",
    "print(tmp_table)"
   ]
  },
  {
   "cell_type": "markdown",
   "id": "xvzLdi_HDSUO",
   "metadata": {
    "id": "xvzLdi_HDSUO"
   },
   "source": [
    "## Create a Machine Learning Model"
   ]
  },
  {
   "cell_type": "markdown",
   "id": "H_azSN_wDmGt",
   "metadata": {
    "id": "H_azSN_wDmGt"
   },
   "source": [
    "Using our list of relevant Prostate adenocarcinoma genes, we will create a random forest classifier to predict the Primary Gleason Grade from the gene expression data of our target genes."
   ]
  },
  {
   "cell_type": "code",
   "execution_count": 24,
   "id": "xiV_YdCjuSdS",
   "metadata": {
    "id": "xiV_YdCjuSdS"
   },
   "outputs": [],
   "source": [
    "# query to build a random forest classifier model\n",
    "tree_model_query = f'''\n",
    "CREATE OR REPLACE MODEL\n",
    "  `{ML_project}.{ML_data}.treemodel`\n",
    "OPTIONS\n",
    "  ( MODEL_TYPE='RANDOM_FOREST_CLASSIFIER',\n",
    "    NUM_PARALLEL_TREE=HPARAM_RANGE(50,100),\n",
    "    TREE_METHOD='HIST',\n",
    "    --split the data randomly into 10% eval, 10% test, and 80% train\n",
    "    DATA_SPLIT_METHOD='RANDOM',\n",
    "    DATA_SPLIT_EVAL_FRACTION=0.1,\n",
    "    DATA_SPLIT_TEST_FRACTION=0.1,\n",
    "    NUM_TRIALS=3,\n",
    "    INPUT_LABEL_COLS=['primary_gleason_grade'])\n",
    "--ignore case identifier and NULL column\n",
    "AS SELECT * EXCEPT(case_barcode, METTL13)\n",
    "FROM\n",
    "  `{ML_project}.{ML_data}.tmp_data`\n",
    "'''\n",
    "\n",
    "#print(tree_model)"
   ]
  },
  {
   "cell_type": "code",
   "execution_count": 25,
   "id": "OJH8MmXjva3L",
   "metadata": {
    "id": "OJH8MmXjva3L"
   },
   "outputs": [],
   "source": [
    "# Run the query. This will store the new model in the Google project.\n",
    "# NOTE this query may take several minutes to complete.\n",
    "tree_model = model_client.query(tree_model_query).result()"
   ]
  },
  {
   "cell_type": "markdown",
   "id": "wXnDa222W-ss",
   "metadata": {
    "id": "wXnDa222W-ss"
   },
   "source": [
    "## Evaluate Model Results"
   ]
  },
  {
   "cell_type": "code",
   "execution_count": 26,
   "id": "3JILfBIKWsOb",
   "metadata": {
    "colab": {
     "base_uri": "https://localhost:8080/"
    },
    "id": "3JILfBIKWsOb",
    "outputId": "ea6700c7-b048-4207-eb07-4ac3f34a1cd5"
   },
   "outputs": [
    {
     "name": "stdout",
     "output_type": "stream",
     "text": [
      "   trial_id  precision    recall  accuracy  f1_score  log_loss   roc_auc\n",
      "0         1   0.541667  0.401442  0.659574  0.425150  1.133818  0.521259\n",
      "1         2   0.579861  0.430288  0.702128  0.457024  1.131761  0.528553\n",
      "2         3   0.557331  0.379808  0.659574  0.395313  1.148486  0.517170\n",
      "\n",
      "   trial_id expected_label  _2  _3  _4  _5\n",
      "0         1              3   0   4   9   0\n",
      "1         1              4   0   2  24   0\n",
      "2         1              5   0   2   3   3\n",
      "3         2              3   0   5   8   0\n",
      "4         2              4   0   1  25   0\n",
      "5         2              5   0   2   3   3\n",
      "6         3              3   0   4   9   0\n",
      "7         3              4   0   1  25   0\n",
      "8         3              5   0   2   4   2\n"
     ]
    }
   ],
   "source": [
    "# query to evaluate model performance\n",
    "eval_query = f'''\n",
    "SELECT * FROM\n",
    "  ML.EVALUATE(MODEL `{ML_project}.{ML_data}.treemodel`)\n",
    "'''\n",
    "\n",
    "# query for creating a confusion matrix\n",
    "matrix_query = f'''\n",
    "SELECT * FROM\n",
    "  ML.CONFUSION_MATRIX(MODEL `{ML_project}.{ML_data}.treemodel`)\n",
    "'''\n",
    "\n",
    "# query for feature importance in the model\n",
    "feature_importance_query = f'''\n",
    "SELECT * FROM\n",
    "  ML.FEATURE_IMPORTANCE(MODEL `{ML_project}.{ML_data}.treemodel`)\n",
    "'''\n",
    "\n",
    "# Run the queries and view results\n",
    "model_eval = model_client.query(eval_query).result().to_dataframe()\n",
    "model_matrix = model_client.query(matrix_query).result().to_dataframe()\n",
    "model_features = model_client.query(feature_importance_query).result().to_dataframe()\n",
    "\n",
    "print(model_eval)\n",
    "print()\n",
    "print(model_matrix)\n",
    "print()\n",
    "print(model_features)"
   ]
  },
  {
   "cell_type": "markdown",
   "id": "7d5c1aa5",
   "metadata": {},
   "source": [
    "Three trials were run for hyperparameter tuning. The second trial generated the hightest accuracy and precision at 70% and 58% respectively. The confusion matrix shows that grade 4 predictions were most accurate with 25 correct predictions and one incorrectly predicted as group 3. Group 5 had the worst results with only 2 predicted corectly. The feature importance function orders the model features based on how useful the feature was when training the model. In our case, the *SERINC5* gene was assigned the highest importance weight."
   ]
  },
  {
   "cell_type": "markdown",
   "id": "vYz9efR8D27Q",
   "metadata": {
    "id": "vYz9efR8D27Q"
   },
   "source": [
    "## Conclusion"
   ]
  },
  {
   "cell_type": "markdown",
   "id": "o3wQEWd6g3Ju",
   "metadata": {
    "id": "o3wQEWd6g3Ju"
   },
   "source": [
    "The extensive number of gene fusions in the Mitelman database has allowed us to curate a list of common fusions specific to Prostate adenocarcinoma. Using these genes, we were able to easily create a random forest classifier in BigQuery that achieved an accuracy of 70% in predicting the Primary Gleason Grade using gene expression data from TCGA. Further experiments can be used to improve this accuracy by incorporating more genes or other features. In this notebook we have demonstrated the usability of the Mitelman and TCGA databases, as well as the ease of creating machine learning models in BigQuery."
   ]
  }
 ],
 "metadata": {
  "colab": {
   "provenance": []
  },
  "kernelspec": {
   "display_name": "Python 3 (ipykernel)",
   "language": "python",
   "name": "python3"
  },
  "language_info": {
   "codemirror_mode": {
    "name": "ipython",
    "version": 3
   },
   "file_extension": ".py",
   "mimetype": "text/x-python",
   "name": "python",
   "nbconvert_exporter": "python",
   "pygments_lexer": "ipython3",
   "version": "3.9.6"
  }
 },
 "nbformat": 4,
 "nbformat_minor": 5
=======
  "cells": [
    {
      "cell_type": "markdown",
      "id": "08c3e7f4",
      "metadata": {
        "id": "08c3e7f4"
      },
      "source": [
        "<a href=\"https://colab.research.google.com/github/isb-cgc/Community-Notebooks/blob/jacob-dev/MitelmanDB/Mitelman_Fusions_In_TCGA.ipynb\" target=\"_parent\"><img src=\"https://colab.research.google.com/assets/colab-badge.svg\" alt=\"Open In Colab\"/></a>"
      ]
    },
    {
      "cell_type": "markdown",
      "id": "8abfde41",
      "metadata": {
        "id": "8abfde41"
      },
      "source": [
        "# Mitelman Gene Fusions in TCGA\n",
        "\n",
        "Check out other notebooks at our [Community Notebooks Repository](https://github.com/isb-cgc/Community-Notebooks)!\n",
        "\n",
        "```\n",
        "Title: Mitelman Gene Fusions in TCGA  \n",
        "Author: Jacob Wilson  \n",
        "Created: 2023-11-01  \n",
        "URL: https://github.com/isb-cgc/Community-Notebooks/blob/jacob-dev/MitelmanDB/Mitelman_Fusions_In_TCGA.ipynb  \n",
        "Purpose: We will explore gene fusions in the Mitelman database using BigQuery. With a few basic queries we can select the most common gene fusions specific to any disease type present in the Mitelman database. For demonstration in this notebook, we will be looking at gene fusions associated with Prostate Adenocarcinomas. After creating a list of relevant genes, we will obtain gene expression data from TCGA and build a machine learning model to predict the Primary Gleason Grade.\n",
        "```"
      ]
    },
    {
      "cell_type": "markdown",
      "id": "9e64559c",
      "metadata": {
        "id": "9e64559c"
      },
      "source": [
        "## Initialize Notebook Environment\n",
        "\n",
        "Before beginning, we first need to load dependencies and authenticate to BigQuery."
      ]
    },
    {
      "cell_type": "markdown",
      "id": "4a073c7c",
      "metadata": {
        "id": "4a073c7c"
      },
      "source": [
        "## Install Dependencies"
      ]
    },
    {
      "cell_type": "code",
      "execution_count": 1,
      "id": "478a0ce9",
      "metadata": {
        "id": "478a0ce9"
      },
      "outputs": [],
      "source": [
        "# GCP Libraries\n",
        "from google.cloud import bigquery\n",
        "from google.colab import auth\n",
        "\n",
        "from itertools import chain"
      ]
    },
    {
      "cell_type": "markdown",
      "id": "43816bcc",
      "metadata": {
        "id": "43816bcc"
      },
      "source": [
        "## Authenticate\n",
        "\n",
        "In order to utilize BigQuery, we must obtain authorization to BigQuery and Google Cloud."
      ]
    },
    {
      "cell_type": "code",
      "execution_count": 2,
      "id": "6aa17ca5",
      "metadata": {
        "id": "6aa17ca5"
      },
      "outputs": [],
      "source": [
        "# if you're using Google Colab, authenticate to gcloud with the following\n",
        "auth.authenticate_user()\n",
        "\n",
        "# alternatively, use the gcloud SDK\n",
        "#!gcloud auth application-default login"
      ]
    },
    {
      "cell_type": "markdown",
      "id": "6529ac99",
      "metadata": {
        "id": "6529ac99"
      },
      "source": [
        "## Google project ID\n",
        "\n",
        "Set your own Google project ID for use with this notebook."
      ]
    },
    {
      "cell_type": "code",
      "execution_count": 5,
      "id": "cabd29da",
      "metadata": {
        "id": "cabd29da"
      },
      "outputs": [],
      "source": [
        "# set the google project that will be billed for this notebook's computations\n",
        "google_project = 'your_project_id'  ## change this\n",
        "\n",
        "# set the google project that will be used to store the model and temp table\n",
        "ML_project = 'your_model_project'  ## change this\n",
        "\n",
        "# set the dataset for the temporary data table and machine learning model\n",
        "ML_data = 'your_data_table'  ## change this"
      ]
    },
    {
      "cell_type": "markdown",
      "id": "9a4fdbc6",
      "metadata": {
        "id": "9a4fdbc6"
      },
      "source": [
        "## BigQuery Client"
      ]
    },
    {
      "cell_type": "code",
      "execution_count": 7,
      "id": "a3235756",
      "metadata": {
        "id": "a3235756"
      },
      "outputs": [],
      "source": [
        "# Initialize a client to access the data within BigQuery\n",
        "if google_project == 'your_project_id':\n",
        "    print('Please update the project ID with your Google Cloud Project')\n",
        "else:\n",
        "    client = bigquery.Client(google_project)\n",
        "\n",
        "if ML_project == 'your_model_project':\n",
        "    print('Please update the project ID with your Google Cloud Project')\n",
        "else:\n",
        "    model_client = bigquery.Client(ML_project)\n",
        "\n",
        "# set the Mitelman Database project\n",
        "mitel_proj = 'mitelman-db'\n",
        "mitel_data = 'prod'\n",
        "\n",
        "# set the TCGA project\n",
        "TCGA_proj = 'isb-cgc-bq'\n",
        "TCGA_data = 'TCGA'"
      ]
    },
    {
      "cell_type": "markdown",
      "id": "46a2cf1e",
      "metadata": {
        "id": "46a2cf1e"
      },
      "source": [
        "## Exploring Fusions in the Mitelman DB"
      ]
    },
    {
      "cell_type": "markdown",
      "id": "a780356b",
      "metadata": {
        "id": "a780356b"
      },
      "source": [
        "We will begin by exploring the disease types and gene fusions that are present in the Mitelman database. The database utilizes a coding system where specific disease morphologies and topographics are represented by a unique value stored in the **Koder** table. Using the following queries, we can obtain the codes relevant to our disease of interest."
      ]
    },
    {
      "cell_type": "code",
      "execution_count": 8,
      "id": "859a3cd4",
      "metadata": {
        "id": "859a3cd4"
      },
      "outputs": [],
      "source": [
        "# query to see all disease types by morphology\n",
        "query_morph = f'''\n",
        "SELECT m.Morph, k.Benamning\n",
        "FROM `{mitel_proj}.{mitel_data}.MolBiolClinAssoc` m\n",
        "JOIN `{mitel_proj}.{mitel_data}.Koder` k\n",
        "  ON k.Kod = m.Morph AND k.kodTyp = \"MORPH\"\n",
        "GROUP BY m.Morph, k.Benamning\n",
        "ORDER BY k.Benamning ASC\n",
        "'''\n",
        "\n",
        "#print(query_morph)"
      ]
    },
    {
      "cell_type": "code",
      "execution_count": 9,
      "id": "FPmBz8NwTNMZ",
      "metadata": {
        "id": "FPmBz8NwTNMZ"
      },
      "outputs": [],
      "source": [
        "# query to see all disease types by topography\n",
        "query_topo = f'''\n",
        "SELECT m.Topo, k.Benamning\n",
        "FROM `{mitel_proj}.{mitel_data}.MolBiolClinAssoc` m\n",
        "JOIN `{mitel_proj}.{mitel_data}.Koder` k\n",
        "  ON k.Kod = m.Topo AND k.kodTyp = \"TOP\"\n",
        "GROUP BY m.Topo, k.Benamning\n",
        "ORDER BY k.Benamning ASC\n",
        "'''\n",
        "\n",
        "#print(query_topo)"
      ]
    },
    {
      "cell_type": "code",
      "execution_count": 10,
      "id": "5fc105ae",
      "metadata": {
        "id": "5fc105ae"
      },
      "outputs": [],
      "source": [
        "# query for gene fusions of all disease types\n",
        "# gene names that are separated with a double colon \"::\" represent gene-pair fusions\n",
        "query_fusions = f'''\n",
        "SELECT g.Gene, count(g.Gene) AS Count\n",
        "FROM `{mitel_proj}.{mitel_data}.MolClinGene` g\n",
        "WHERE g.Gene LIKE \"%::%\"\n",
        "GROUP BY g.Gene\n",
        "ORDER BY Count DESC\n",
        "'''\n",
        "\n",
        "#print(query_fusions)"
      ]
    },
    {
      "cell_type": "code",
      "execution_count": 11,
      "id": "fcb384db",
      "metadata": {
        "id": "fcb384db"
      },
      "outputs": [],
      "source": [
        "# run the queries and store results in dataframes\n",
        "morphology_df = client.query(query_morph).result().to_dataframe()\n",
        "topography_df = client.query(query_topo).result().to_dataframe()\n",
        "fusions_df = client.query(query_fusions).result().to_dataframe()"
      ]
    },
    {
      "cell_type": "code",
      "execution_count": 12,
      "id": "fk_EP-N-T370",
      "metadata": {
        "colab": {
          "base_uri": "https://localhost:8080/"
        },
        "id": "fk_EP-N-T370",
        "outputId": "75f376cf-d93b-4823-eb32-6c54ac86efa4"
      },
      "outputs": [
        {
          "output_type": "stream",
          "name": "stdout",
          "text": [
            "  Morph                                          Benamning\n",
            "0  3117                              Acinic cell carcinoma\n",
            "1  1115                          Acute basophilic leukemia\n",
            "2  1117                        Acute eosinophilic leukemia\n",
            "3  1112                Acute erythroleukemia (FAB type M6)\n",
            "4  1602  Acute lymphoblastic leukemia/lymphoblastic lym...\n",
            "224\n",
            "   Topo   Benamning\n",
            "0  0703     Adrenal\n",
            "1  0305     Bladder\n",
            "2  0801       Brain\n",
            "3  0806  Brain stem\n",
            "4  0401      Breast\n",
            "50\n",
            "             Gene  Count\n",
            "0       BCR::ABL1    419\n",
            "1  RUNX1::RUNX1T1    130\n",
            "2       PML::RARA     95\n",
            "3     ETV6::RUNX1     83\n",
            "4     ETV6::NTRK3     71\n",
            "33826\n",
            "   Morph       Benamning\n",
            "17  3111  Adenocarcinoma\n",
            "    Topo Benamning\n",
            "30  0602  Prostate\n"
          ]
        }
      ],
      "source": [
        "print(morphology_df.head())\n",
        "print(len(morphology_df))\n",
        "\n",
        "print(topography_df.head())\n",
        "print(len(topography_df))\n",
        "\n",
        "print(fusions_df.head())\n",
        "print(len(fusions_df))\n",
        "\n",
        "# obtain the morphology and topography codes specific to Prostate Adenocarcinoma\n",
        "print(morphology_df.loc[morphology_df['Benamning'] == 'Adenocarcinoma'])\n",
        "print(topography_df.loc[topography_df['Benamning'] == 'Prostate'])"
      ]
    },
    {
      "cell_type": "markdown",
      "id": "cd7a4fc8",
      "metadata": {
        "id": "cd7a4fc8"
      },
      "source": [
        "These results show that there are a total of 224 morphologies and 50 topographies in the Mitelman database. We will look at fusions involving Adenocarcinomas in the Prostate. The morphology code for Adenocarcinoma is 3111, and the topography code for prostate is 0602. Using these two values, we can construct a list of the top 10 fusions for our target disease."
      ]
    },
    {
      "cell_type": "code",
      "execution_count": 13,
      "id": "2364e086",
      "metadata": {
        "id": "2364e086"
      },
      "outputs": [],
      "source": [
        "# query for top ten gene fusions in Prostate Adenocarcinoma\n",
        "fusions_prostate = f'''\n",
        "SELECT g.Gene, count(g.Gene) AS Count, m.Morph, k.Benamning, m.Topo\n",
        "FROM `{mitel_proj}.{mitel_data}.MolClinGene` g\n",
        "JOIN `{mitel_proj}.{mitel_data}.MolBiolClinAssoc` m\n",
        "  ON m.RefNo = g.RefNo AND m.InvNo = g.InvNo\n",
        "JOIN `{mitel_proj}.{mitel_data}.Koder` k\n",
        "  ON k.Kod = m.Topo AND k.kodTyp = \"TOP\"\n",
        "-- we are only considering gene fusions for Prostate Adenocarcinoma\n",
        "WHERE g.Gene LIKE \"%::%\" AND m.Morph LIKE \"3111\" AND m.Topo LIKE \"0602\"\n",
        "GROUP BY g.Gene, m.Morph, k.Benamning, m.Topo\n",
        "ORDER BY Count DESC\n",
        "LIMIT 10\n",
        "'''\n",
        "\n",
        "#print(fusions_prostate)"
      ]
    },
    {
      "cell_type": "code",
      "execution_count": 14,
      "id": "05bc79b4",
      "metadata": {
        "colab": {
          "base_uri": "https://localhost:8080/"
        },
        "id": "05bc79b4",
        "outputId": "eef633f2-ce22-40d4-dd27-1fe3e6030d12"
      },
      "outputs": [
        {
          "output_type": "stream",
          "name": "stdout",
          "text": [
            "              Gene  Count Morph Benamning  Topo\n",
            "0     TMPRSS2::ERG     52  3111  Prostate  0602\n",
            "1    TMPRSS2::ETV4      5  3111  Prostate  0602\n",
            "2    TMPRSS2::ETV1      5  3111  Prostate  0602\n",
            "3     SLC45A3::ERG      5  3111  Prostate  0602\n",
            "4       NDRG1::ERG      4  3111  Prostate  0602\n",
            "5  OSBPL9::SERINC5      3  3111  Prostate  0602\n",
            "6    SLC45A3::ELK4      3  3111  Prostate  0602\n",
            "7       KLK2::ETV1      3  3111  Prostate  0602\n",
            "8  METTL13::EIF4G3      3  3111  Prostate  0602\n",
            "9      ADGRL2::AK5      3  3111  Prostate  0602\n"
          ]
        }
      ],
      "source": [
        "# run the query and view the top 10 gene fusions\n",
        "top10_prostate = client.query(fusions_prostate).result().to_dataframe()\n",
        "print(top10_prostate)"
      ]
    },
    {
      "cell_type": "code",
      "execution_count": 15,
      "id": "12b927be",
      "metadata": {
        "colab": {
          "base_uri": "https://localhost:8080/"
        },
        "id": "12b927be",
        "outputId": "2497a580-74c8-4f8a-f91d-b468b88208f2"
      },
      "outputs": [
        {
          "output_type": "stream",
          "name": "stdout",
          "text": [
            "'SERINC5','EIF4G3','AK5','ETV1','ADGRL2','KLK2','ERG','METTL13','NDRG1','TMPRSS2','ELK4','ETV4','SLC45A3','OSBPL9'\n"
          ]
        }
      ],
      "source": [
        "# convert the list of gene fusion pairs into a string containing individual unique gene names\n",
        "genes_list = [x.split(\"::\") for x in top10_prostate['Gene']]\n",
        "genes_set = set(chain.from_iterable(genes_list))\n",
        "genes_str = ','.join(f\"'{gene}'\" for gene in genes_set)\n",
        "\n",
        "print(genes_str)"
      ]
    },
    {
      "cell_type": "markdown",
      "id": "QqWq240Anujw",
      "metadata": {
        "id": "QqWq240Anujw"
      },
      "source": [
        "Using the top 10 fusions for Prostate Adenocarcinoma, we have created a list of 14 individual genes (duplicates removed) to explore in TCGA."
      ]
    },
    {
      "cell_type": "markdown",
      "id": "xfF2tPLjxLcM",
      "metadata": {
        "id": "xfF2tPLjxLcM"
      },
      "source": [
        "## Finding the Genes in TCGA"
      ]
    },
    {
      "cell_type": "markdown",
      "id": "TEVL2KFVxc8E",
      "metadata": {
        "id": "TEVL2KFVxc8E"
      },
      "source": [
        "Now we will explore TCGA to find our list of genes in Prostate Adenocarcinomas. We will first find cases matching our target disease type, then we will create a temporary table containing the gene expression data for these cases."
      ]
    },
    {
      "cell_type": "code",
      "execution_count": 16,
      "id": "P-51FJ2noBc5",
      "metadata": {
        "id": "P-51FJ2noBc5"
      },
      "outputs": [],
      "source": [
        "# query for diseases present in TCGA\n",
        "query_disease = f'''\n",
        "SELECT DISTINCT disease_type\n",
        "FROM `{TCGA_proj}.{TCGA_data}.clinical_gdc_current`\n",
        "'''\n",
        "\n",
        "#print(query_disease)"
      ]
    },
    {
      "cell_type": "code",
      "execution_count": 17,
      "id": "t2sCkxtvoDqS",
      "metadata": {
        "id": "t2sCkxtvoDqS"
      },
      "outputs": [],
      "source": [
        "# query for disease sites in TCGA\n",
        "query_site = f'''\n",
        "SELECT DISTINCT primary_site\n",
        "FROM `{TCGA_proj}.{TCGA_data}.clinical_gdc_current`\n",
        "'''\n",
        "\n",
        "#print(query_site)"
      ]
    },
    {
      "cell_type": "code",
      "execution_count": 18,
      "id": "AiVjAdogokg6",
      "metadata": {
        "colab": {
          "base_uri": "https://localhost:8080/"
        },
        "id": "AiVjAdogokg6",
        "outputId": "461b0f46-0b7c-4036-e35e-0354362254ac"
      },
      "outputs": [
        {
          "output_type": "stream",
          "name": "stdout",
          "text": [
            "                                  disease_type\n",
            "0                    Epithelial Neoplasms, NOS\n",
            "1                      Squamous Cell Neoplasms\n",
            "2  Transitional Cell Papillomas and Carcinomas\n",
            "3                 Adenomas and Adenocarcinomas\n",
            "4        Cystic, Mucinous and Serous Neoplasms\n",
            "27\n",
            "                            primary_site\n",
            "0                                Bladder\n",
            "1                                 Breast\n",
            "2                      Bronchus and lung\n",
            "3  Other and unspecified parts of tongue\n",
            "4                                 Larynx\n",
            "53\n"
          ]
        }
      ],
      "source": [
        "# run the queries and view reults\n",
        "TCGA_diseases = client.query(query_disease).result().to_dataframe()\n",
        "print(TCGA_diseases.head())\n",
        "print(len(TCGA_diseases))\n",
        "\n",
        "TCGA_site = client.query(query_site).result().to_dataframe()\n",
        "print(TCGA_site.head())\n",
        "print(len(TCGA_site))"
      ]
    },
    {
      "cell_type": "markdown",
      "id": "Rsonsh3gXSlP",
      "metadata": {
        "id": "Rsonsh3gXSlP"
      },
      "source": [
        "There are 27 disease types and 53 primary sites in TCGA. The following query will select the TCGA entries for Prostate Adenocarcinomas."
      ]
    },
    {
      "cell_type": "code",
      "execution_count": 19,
      "id": "Ks7Puh0xnpC6",
      "metadata": {
        "id": "Ks7Puh0xnpC6"
      },
      "outputs": [],
      "source": [
        "# query to select all Prostate Adenocarcinomas in TCGA\n",
        "query_TCGA = f'''\n",
        "SELECT r.project_short_name,\n",
        "      r.primary_site,\n",
        "      r.gene_name,\n",
        "      p.proj__name,\n",
        "      p.disease_type,\n",
        "      p.diag__primary_gleason_grade\n",
        "FROM `{TCGA_proj}.{TCGA_data}.RNAseq_hg38_gdc_current` r\n",
        "JOIN `{TCGA_proj}.{TCGA_data}.clinical_gdc_current` p\n",
        "  ON r.case_gdc_id = p.case_id\n",
        "--use two critera to find Prostate Adenocarcinomas\n",
        "WHERE p.disease_type = \"Adenomas and Adenocarcinomas\"\n",
        "AND p.primary_site LIKE \"%Prostate gland%\"\n",
        "'''"
      ]
    },
    {
      "cell_type": "code",
      "execution_count": 20,
      "id": "CATsd4JnvbnR",
      "metadata": {
        "colab": {
          "base_uri": "https://localhost:8080/"
        },
        "id": "CATsd4JnvbnR",
        "outputId": "fdbd54ed-528e-4f03-a3c7-ce5af0a16fb9"
      },
      "outputs": [
        {
          "output_type": "stream",
          "name": "stdout",
          "text": [
            "         project_short_name    primary_site   gene_name  \\\n",
            "0                 TCGA-PRAD  Prostate gland     MED13P1   \n",
            "1                 TCGA-PRAD  Prostate gland       Y_RNA   \n",
            "2                 TCGA-PRAD  Prostate gland    MIR129-1   \n",
            "3                 TCGA-PRAD  Prostate gland     RPL7P13   \n",
            "4                 TCGA-PRAD  Prostate gland  AL451000.1   \n",
            "...                     ...             ...         ...   \n",
            "32879883          TCGA-PRAD  Prostate gland  AL355377.4   \n",
            "32879884          TCGA-PRAD  Prostate gland  AL606834.1   \n",
            "32879885          TCGA-PRAD  Prostate gland  AC127164.1   \n",
            "32879886          TCGA-PRAD  Prostate gland     SLC44A5   \n",
            "32879887          TCGA-PRAD  Prostate gland      EIF2B4   \n",
            "\n",
            "                       proj__name                  disease_type  \\\n",
            "0         Prostate Adenocarcinoma  Adenomas and Adenocarcinomas   \n",
            "1         Prostate Adenocarcinoma  Adenomas and Adenocarcinomas   \n",
            "2         Prostate Adenocarcinoma  Adenomas and Adenocarcinomas   \n",
            "3         Prostate Adenocarcinoma  Adenomas and Adenocarcinomas   \n",
            "4         Prostate Adenocarcinoma  Adenomas and Adenocarcinomas   \n",
            "...                           ...                           ...   \n",
            "32879883  Prostate Adenocarcinoma  Adenomas and Adenocarcinomas   \n",
            "32879884  Prostate Adenocarcinoma  Adenomas and Adenocarcinomas   \n",
            "32879885  Prostate Adenocarcinoma  Adenomas and Adenocarcinomas   \n",
            "32879886  Prostate Adenocarcinoma  Adenomas and Adenocarcinomas   \n",
            "32879887  Prostate Adenocarcinoma  Adenomas and Adenocarcinomas   \n",
            "\n",
            "         diag__primary_gleason_grade  \n",
            "0                          Pattern 4  \n",
            "1                          Pattern 4  \n",
            "2                          Pattern 4  \n",
            "3                          Pattern 4  \n",
            "4                          Pattern 4  \n",
            "...                              ...  \n",
            "32879883                   Pattern 4  \n",
            "32879884                   Pattern 4  \n",
            "32879885                   Pattern 4  \n",
            "32879886                   Pattern 4  \n",
            "32879887                   Pattern 4  \n",
            "\n",
            "[32879888 rows x 6 columns]\n"
          ]
        }
      ],
      "source": [
        "# run the query and view results\n",
        "TCGA_prostate = client.query(query_TCGA).result().to_dataframe()\n",
        "print(TCGA_prostate)"
      ]
    },
    {
      "cell_type": "markdown",
      "id": "_E0IjOy3bsyW",
      "metadata": {
        "id": "_E0IjOy3bsyW"
      },
      "source": [
        "## Create a Dataset to Use With the ML Model"
      ]
    },
    {
      "cell_type": "markdown",
      "id": "raHvxYQbCfCE",
      "metadata": {
        "id": "raHvxYQbCfCE"
      },
      "source": [
        "A temporary table will be used to store the following data: case identifier, gene name, gene expression values, and Primary Gleason Grade. In the final step of this query, we will pivot the table data creating a column for each gene in our target list."
      ]
    },
    {
      "cell_type": "code",
      "execution_count": 21,
      "id": "xwni_6LCnFNR",
      "metadata": {
        "colab": {
          "base_uri": "https://localhost:8080/"
        },
        "id": "xwni_6LCnFNR",
        "outputId": "c82fe56c-438f-4d8a-d8a8-2d19ea8d2023"
      },
      "outputs": [
        {
          "output_type": "stream",
          "name": "stdout",
          "text": [
            "\n",
            "CREATE OR REPLACE TABLE `isb-project-zero.jaw_scratch.tmp_data` AS\n",
            "  SELECT * FROM(\n",
            "    SELECT\n",
            "      seq.case_barcode,\n",
            "      seq.gene_name,\n",
            "      seq.fpkm_uq_unstranded,\n",
            "      --assign Primary Gleason Grade to an appropriate integer\n",
            "      CASE clin.diag__primary_gleason_grade\n",
            "        WHEN \"Pattern 1\" THEN 1\n",
            "        WHEN \"Pattern 2\" THEN 2\n",
            "        WHEN \"Pattern 3\" THEN 3\n",
            "        WHEN \"Pattern 4\" THEN 4\n",
            "        WHEN \"Pattern 5\" THEN 5\n",
            "      END AS primary_gleason_grade\n",
            "    FROM `isb-cgc-bq.TCGA.RNAseq_hg38_gdc_current` seq\n",
            "    JOIN `isb-cgc-bq.TCGA.clinical_gdc_current` clin\n",
            "      ON seq.case_gdc_id = clin.case_id\n",
            "    WHERE clin.disease_type = \"Adenomas and Adenocarcinomas\"\n",
            "    AND clin.primary_site LIKE \"%Prostate gland%\")\n",
            "  --transform genes from rows to columns using pivot\n",
            "  PIVOT(MAX(fpkm_uq_unstranded) for gene_name IN ('SERINC5','EIF4G3','AK5','ETV1','ADGRL2','KLK2','ERG','METTL13','NDRG1','TMPRSS2','ELK4','ETV4','SLC45A3','OSBPL9'))\n",
            "\n"
          ]
        }
      ],
      "source": [
        "# query to create a temporary table for use with the ML model\n",
        "create_tmp_table = f'''\n",
        "CREATE OR REPLACE TABLE `{ML_project}.{ML_data}.tmp_data` AS\n",
        "  SELECT * FROM(\n",
        "    SELECT\n",
        "      seq.case_barcode,\n",
        "      seq.gene_name,\n",
        "      seq.fpkm_uq_unstranded,\n",
        "      --assign Primary Gleason Grade to an appropriate integer\n",
        "      CASE clin.diag__primary_gleason_grade\n",
        "        WHEN \"Pattern 1\" THEN 1\n",
        "        WHEN \"Pattern 2\" THEN 2\n",
        "        WHEN \"Pattern 3\" THEN 3\n",
        "        WHEN \"Pattern 4\" THEN 4\n",
        "        WHEN \"Pattern 5\" THEN 5\n",
        "      END AS primary_gleason_grade\n",
        "    FROM `{TCGA_proj}.{TCGA_data}.RNAseq_hg38_gdc_current` seq\n",
        "    JOIN `{TCGA_proj}.{TCGA_data}.clinical_gdc_current` clin\n",
        "      ON seq.case_gdc_id = clin.case_id\n",
        "    WHERE clin.disease_type = \"Adenomas and Adenocarcinomas\"\n",
        "    AND clin.primary_site LIKE \"%Prostate gland%\")\n",
        "  --transform genes from rows to columns using pivot\n",
        "  PIVOT(MAX(fpkm_uq_unstranded) for gene_name IN ({genes_str}))\n",
        "'''\n",
        "print(create_tmp_table)"
      ]
    },
    {
      "cell_type": "code",
      "execution_count": 22,
      "id": "X6-Hbtj2oLn8",
      "metadata": {
        "id": "X6-Hbtj2oLn8"
      },
      "outputs": [],
      "source": [
        "# Run the query. This will create a table in the assigned Google project.\n",
        "tmp_data = model_client.query(create_tmp_table).result().to_dataframe()"
      ]
    },
    {
      "cell_type": "code",
      "execution_count": 23,
      "id": "-IWdv9KwzIlA",
      "metadata": {
        "colab": {
          "base_uri": "https://localhost:8080/"
        },
        "id": "-IWdv9KwzIlA",
        "outputId": "9af0d035-0b8c-42f3-9290-838f59e3ac0e"
      },
      "outputs": [
        {
          "output_type": "stream",
          "name": "stdout",
          "text": [
            "   case_barcode  primary_gleason_grade  SERINC5   EIF4G3     AK5      ETV1  \\\n",
            "0  TCGA-CH-5768                      2  50.5366  11.4251  0.7413    1.1543   \n",
            "1  TCGA-HC-7078                      3  32.8305   7.7551  8.4328    0.8230   \n",
            "2  TCGA-HI-7169                      3   3.7229   7.6725  0.6712    0.7555   \n",
            "3  TCGA-EJ-AB27                      3  33.7769   7.7147  0.9826    0.5986   \n",
            "4  TCGA-G9-6385                      3  27.1639   7.5350  0.3178    1.6562   \n",
            "5  TCGA-EJ-7125                      3  61.6764  14.9099  3.7182    0.9449   \n",
            "6  TCGA-EJ-7788                      3  94.4356  11.5841  0.6600  369.2456   \n",
            "7  TCGA-J4-AAU2                      3  17.3162   8.8825  1.9315    0.3339   \n",
            "8  TCGA-G9-6364                      3  45.9048   9.5692  1.5858    1.3407   \n",
            "9  TCGA-HC-8258                      3  48.7664  29.6491  1.7965    2.5233   \n",
            "\n",
            "    ADGRL2       KLK2      ERG  METTL13     NDRG1   TMPRSS2      ELK4    ETV4  \\\n",
            "0   5.2915  1072.6219  67.8280      NaN  153.2677  246.7231   19.8230  0.6193   \n",
            "1   2.5207  1341.2227   2.3200      NaN   61.0022  336.9265   15.0584  0.5331   \n",
            "2   2.8310   513.6970  23.6674      NaN   74.4615   72.6653    3.1484  0.7781   \n",
            "3   3.1608  1806.5724   0.7148      NaN  140.6711  428.9780   21.0076  0.9570   \n",
            "4   4.4127  1289.4506  12.8951      NaN  154.1736  252.6067   14.3670  2.2185   \n",
            "5   6.9273  1721.8015   1.2958      NaN  126.4450  612.9255   39.6571  1.2257   \n",
            "6   3.0850   852.4662   2.2073      NaN  177.8389  143.3961   11.8502  0.5333   \n",
            "7   2.1287  2435.6503   1.1877      NaN   80.0825  372.3035   16.8970  0.4139   \n",
            "8   3.3976   827.9569  37.9142      NaN  185.3193  128.2588   15.2127  0.2884   \n",
            "9  10.1995  1748.6556   4.4751      NaN  114.1547  353.6179  104.6097  1.1337   \n",
            "\n",
            "     SLC45A3   OSBPL9  \n",
            "0   672.1192  12.3321  \n",
            "1  1215.9392   9.3855  \n",
            "2   353.5497  11.2218  \n",
            "3  1417.0365  13.3114  \n",
            "4   754.1476  12.5183  \n",
            "5  1772.3037  14.7621  \n",
            "6   343.9466   9.0156  \n",
            "7  1091.1420  13.6519  \n",
            "8   509.0990   7.5786  \n",
            "9   955.0266  15.7957  \n"
          ]
        }
      ],
      "source": [
        "# query to retrieve data from the new table\n",
        "query_tmp = f'''\n",
        "  SELECT *\n",
        "  FROM `{ML_project}.{ML_data}.tmp_data`\n",
        "  LIMIT 10\n",
        "'''\n",
        "\n",
        "# run the query and view results\n",
        "tmp_table = client.query(query_tmp).result().to_dataframe()\n",
        "print(tmp_table)"
      ]
    },
    {
      "cell_type": "markdown",
      "id": "xvzLdi_HDSUO",
      "metadata": {
        "id": "xvzLdi_HDSUO"
      },
      "source": [
        "## Create a Machine Learning Model"
      ]
    },
    {
      "cell_type": "markdown",
      "id": "H_azSN_wDmGt",
      "metadata": {
        "id": "H_azSN_wDmGt"
      },
      "source": [
        "Using our list of relevant Prostate Adenocarcinoma genes, we will create a random forest classifier to predict the Primary Gleason Grade from the gene expression data of our target genes."
      ]
    },
    {
      "cell_type": "code",
      "execution_count": 24,
      "id": "xiV_YdCjuSdS",
      "metadata": {
        "id": "xiV_YdCjuSdS"
      },
      "outputs": [],
      "source": [
        "# query to build a random forest classifier model\n",
        "tree_model_query = f'''\n",
        "CREATE OR REPLACE MODEL\n",
        "  `{ML_project}.{ML_data}.treemodel`\n",
        "OPTIONS\n",
        "  ( MODEL_TYPE='RANDOM_FOREST_CLASSIFIER',\n",
        "    NUM_PARALLEL_TREE=HPARAM_RANGE(50,100),\n",
        "    TREE_METHOD='HIST',\n",
        "    --split the data randomly into 10% eval, 10% test, and 80% train\n",
        "    DATA_SPLIT_METHOD='RANDOM',\n",
        "    DATA_SPLIT_EVAL_FRACTION=0.1,\n",
        "    DATA_SPLIT_TEST_FRACTION=0.1,\n",
        "    NUM_TRIALS=3,\n",
        "    INPUT_LABEL_COLS=['primary_gleason_grade'])\n",
        "--ignore case identifier and NULL column\n",
        "AS SELECT * EXCEPT(case_barcode, METTL13)\n",
        "FROM\n",
        "  `isb-project-zero.jaw_scratch.tmp_data`\n",
        "'''\n",
        "\n",
        "#print(tree_model)"
      ]
    },
    {
      "cell_type": "code",
      "execution_count": 25,
      "id": "OJH8MmXjva3L",
      "metadata": {
        "id": "OJH8MmXjva3L"
      },
      "outputs": [],
      "source": [
        "# Run the query. This will store the new model in the Google project.\n",
        "# NOTE this query may take several minutes to complete.\n",
        "tree_model = model_client.query(tree_model_query).result()"
      ]
    },
    {
      "cell_type": "markdown",
      "id": "wXnDa222W-ss",
      "metadata": {
        "id": "wXnDa222W-ss"
      },
      "source": [
        "## Evaluate Model Results"
      ]
    },
    {
      "cell_type": "code",
      "execution_count": 26,
      "id": "3JILfBIKWsOb",
      "metadata": {
        "colab": {
          "base_uri": "https://localhost:8080/"
        },
        "id": "3JILfBIKWsOb",
        "outputId": "ea6700c7-b048-4207-eb07-4ac3f34a1cd5"
      },
      "outputs": [
        {
          "output_type": "stream",
          "name": "stdout",
          "text": [
            "   trial_id  precision    recall  accuracy  f1_score  log_loss   roc_auc\n",
            "0         1   0.541667  0.401442  0.659574  0.425150  1.133818  0.521259\n",
            "1         2   0.579861  0.430288  0.702128  0.457024  1.131761  0.528553\n",
            "2         3   0.557331  0.379808  0.659574  0.395313  1.148486  0.517170\n",
            "\n",
            "   trial_id expected_label  _2  _3  _4  _5\n",
            "0         1              3   0   4   9   0\n",
            "1         1              4   0   2  24   0\n",
            "2         1              5   0   2   3   3\n",
            "3         2              3   0   5   8   0\n",
            "4         2              4   0   1  25   0\n",
            "5         2              5   0   2   3   3\n",
            "6         3              3   0   4   9   0\n",
            "7         3              4   0   1  25   0\n",
            "8         3              5   0   2   4   2\n"
          ]
        }
      ],
      "source": [
        "# query to evaluate model performance\n",
        "eval_query = f'''\n",
        "SELECT * FROM\n",
        "  ML.EVALUATE(MODEL `{ML_project}.{ML_data}.treemodel`)\n",
        "'''\n",
        "\n",
        "# query for creating a confusion matrix\n",
        "matrix_query = f'''\n",
        "SELECT * FROM\n",
        "  ML.CONFUSION_MATRIX(MODEL `{ML_project}.{ML_data}.treemodel`)\n",
        "'''\n",
        "\n",
        "# Run the queries and view results\n",
        "model_eval = model_client.query(eval_query).result().to_dataframe()\n",
        "model_matrix = model_client.query(matrix_query).result().to_dataframe()\n",
        "\n",
        "print(model_eval)\n",
        "print()\n",
        "print(model_matrix)"
      ]
    },
    {
      "cell_type": "code",
      "execution_count": 27,
      "id": "jatfZsvCV9Tr",
      "metadata": {
        "colab": {
          "base_uri": "https://localhost:8080/"
        },
        "id": "jatfZsvCV9Tr",
        "outputId": "0d64dcf0-a94a-4742-fc2d-2562ec99560d"
      },
      "outputs": [
        {
          "output_type": "stream",
          "name": "stdout",
          "text": [
            "    trial_id  feature  importance_weight  importance_gain  importance_cover\n",
            "0          1  SERINC5               1503         1.274785         13.584581\n",
            "1          1   EIF4G3               1051         1.998184         14.298882\n",
            "2          1      AK5               1082         2.940273         28.280961\n",
            "3          1     ETV1                775         2.009307         13.783548\n",
            "4          1   ADGRL2                741         2.064022         15.494939\n",
            "5          1     KLK2                830         3.090109         31.359488\n",
            "6          1      ERG                677         2.435573         13.414697\n",
            "7          1    NDRG1                656         2.371968         22.104992\n",
            "8          1  TMPRSS2                608         2.224613         22.719572\n",
            "9          1     ELK4                507         2.241700         15.025888\n",
            "10         1     ETV4                677         2.759802         35.285451\n",
            "11         1  SLC45A3                707         3.239532         39.250884\n",
            "12         1   OSBPL9                689         3.437340         26.904209\n"
          ]
        }
      ],
      "source": [
        "# query for feature importance in the model\n",
        "feature_importance_query = f'''\n",
        "SELECT * FROM\n",
        "  ML.FEATURE_IMPORTANCE(MODEL `{ML_project}.{ML_data}.treemodel`)\n",
        "'''\n",
        "\n",
        "# run the query and view results\n",
        "model_features = model_client.query(feature_importance_query).result().to_dataframe()\n",
        "print(model_features)"
      ]
    },
    {
      "cell_type": "markdown",
      "id": "vYz9efR8D27Q",
      "metadata": {
        "id": "vYz9efR8D27Q"
      },
      "source": [
        "## Conclusion"
      ]
    },
    {
      "cell_type": "markdown",
      "id": "o3wQEWd6g3Ju",
      "metadata": {
        "id": "o3wQEWd6g3Ju"
      },
      "source": [
        "The extensive number of gene fusions in the Mitelman database has allowed us to curate a list of common fusions specific to Prostate Adenocarcinoma. Using these genes, we were able to easily create a random forest classifier in BigQuery that achieved an accuracy of 70% in predicting the Primary Gleason Grade using gene expression data from TCGA. Further experiments can be used to improve this accuracy by incorporating more genes or other features. In this notebook we have demonstrated the usability of the Mitelman and TCGA databases, as well as the ease of creating machine learning models in BigQuery."
      ]
    }
  ],
  "metadata": {
    "colab": {
      "provenance": []
    },
    "kernelspec": {
      "display_name": "Python 3 (ipykernel)",
      "language": "python",
      "name": "python3"
    },
    "language_info": {
      "codemirror_mode": {
        "name": "ipython",
        "version": 3
      },
      "file_extension": ".py",
      "mimetype": "text/x-python",
      "name": "python",
      "nbconvert_exporter": "python",
      "pygments_lexer": "ipython3",
      "version": "3.9.6"
    }
  },
  "nbformat": 4,
  "nbformat_minor": 5
>>>>>>> 876ef1aef969236bf47353452eddf4a92f067b32
}
