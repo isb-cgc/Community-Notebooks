{
 "cells": [
  {
   "cell_type": "markdown",
   "id": "08c3e7f4",
   "metadata": {
    "id": "08c3e7f4"
   },
   "source": [
    "<a href=\"https://colab.research.google.com/github/isb-cgc/Community-Notebooks/blob/master/MitelmanDB/Mitelman_Fusions_In_TCGA.ipynb\" target=\"_parent\"><img src=\"https://colab.research.google.com/assets/colab-badge.svg\" alt=\"Open In Colab\"/></a>"
   ]
  },
  {
   "cell_type": "markdown",
   "id": "8abfde41",
   "metadata": {
    "id": "8abfde41"
   },
   "source": [
    "# Mitelman Gene Fusions in TCGA\n",
    "\n",
    "Check out other notebooks at our [Community Notebooks Repository](https://github.com/isb-cgc/Community-Notebooks)!\n",
    "\n",
    "```\n",
    "Title: Mitelman Gene Fusions in TCGA  \n",
    "Author: Jacob Wilson  \n",
    "Created: 2023-11-14  \n",
    "URL: https://github.com/isb-cgc/Community-Notebooks/blob/master/MitelmanDB/Mitelman_Fusions_In_TCGA.ipynb  \n",
    "Purpose: We will explore gene fusions in the Mitelman database using BigQuery. With a few basic queries we can select the most common gene fusions specific to any disease type present in the Mitelman database. For demonstration in this notebook, we will be looking at gene fusions associated with Prostate adenocarcinomas. After creating a list of relevant genes, we will obtain gene expression data from TCGA and build a machine learning model to predict the Primary Gleason Grade.\n",
    "```"
   ]
  },
  {
   "cell_type": "markdown",
   "id": "9e64559c",
   "metadata": {
    "id": "9e64559c"
   },
   "source": [
    "## Initialize Notebook Environment\n",
    "\n",
    "Before beginning, we first need to load dependencies and authenticate to BigQuery."
   ]
  },
  {
   "cell_type": "markdown",
   "id": "4a073c7c",
   "metadata": {
    "id": "4a073c7c"
   },
   "source": [
    "## Install Dependencies"
   ]
  },
  {
   "cell_type": "code",
   "execution_count": 30,
   "id": "478a0ce9",
   "metadata": {
    "id": "478a0ce9"
   },
   "outputs": [],
   "source": [
    "# GCP Libraries\n",
    "from google.cloud import bigquery\n",
    "from google.colab import auth\n",
    "\n",
    "from itertools import chain"
   ]
  },
  {
   "cell_type": "markdown",
   "id": "43816bcc",
   "metadata": {
    "id": "43816bcc"
   },
   "source": [
    "## Authenticate\n",
    "\n",
    "In order to utilize BigQuery, we must obtain authorization to BigQuery and Google Cloud."
   ]
  },
  {
   "cell_type": "code",
   "execution_count": 31,
   "id": "6aa17ca5",
   "metadata": {
    "id": "6aa17ca5"
   },
   "outputs": [],
   "source": [
    "# if you're using Google Colab, authenticate to gcloud with the following\n",
    "auth.authenticate_user()\n",
    "\n",
    "# alternatively, use the gcloud SDK\n",
    "#!gcloud auth application-default login"
   ]
  },
  {
   "cell_type": "markdown",
   "id": "6529ac99",
   "metadata": {
    "id": "6529ac99"
   },
   "source": [
    "## Google project ID\n",
    "\n",
    "Set your own Google project ID for use with this notebook."
   ]
  },
  {
   "cell_type": "code",
   "execution_count": 52,
   "id": "cabd29da",
   "metadata": {
    "id": "cabd29da"
   },
   "outputs": [],
   "source": [
    "# set the google project that will be billed for this notebook's computations\n",
    "google_project = 'your_project_id'  ## change this\n",
    "\n",
    "# set the google project that will be used to store the model and temp table\n",
    "ML_project = 'your_model_project'  ## change this\n",
    "\n",
    "# set the dataset for the temporary data table and machine learning model\n",
    "ML_data = 'your_data_table'  ## change this"
   ]
  },
  {
   "cell_type": "markdown",
   "id": "9a4fdbc6",
   "metadata": {
    "id": "9a4fdbc6"
   },
   "source": [
    "## BigQuery Client"
   ]
  },
  {
   "cell_type": "code",
   "execution_count": 42,
   "id": "a3235756",
   "metadata": {
    "colab": {
     "base_uri": "https://localhost:8080/"
    },
    "id": "a3235756",
    "outputId": "43b43e64-2d4f-407e-c7cf-e13c18a857af"
   },
   "outputs": [],
   "source": [
    "# Initialize a client to access the data within BigQuery\n",
    "if google_project == 'your_project_id':\n",
    "    print('Please update the project ID with your Google Cloud Project')\n",
    "else:\n",
    "    client = bigquery.Client(google_project)\n",
    "\n",
    "if ML_project == 'your_model_project':\n",
    "    print('Please update the project ID with your Google Cloud Project')\n",
    "else:\n",
    "    model_client = bigquery.Client(ML_project)\n",
    "\n",
    "# set the Mitelman Database project\n",
    "mitel_proj = 'mitelman-db'\n",
    "mitel_data = 'prod'\n",
    "\n",
    "# set the TCGA project\n",
    "TCGA_proj = 'isb-cgc-bq'\n",
    "TCGA_data = 'TCGA'"
   ]
  },
  {
   "cell_type": "markdown",
   "id": "46a2cf1e",
   "metadata": {
    "id": "46a2cf1e"
   },
   "source": [
    "## Exploring Fusions in the Mitelman DB"
   ]
  },
  {
   "cell_type": "markdown",
   "id": "a780356b",
   "metadata": {
    "id": "a780356b"
   },
   "source": [
    "We will begin by exploring the disease types and gene fusions that are present in the Mitelman database. The database utilizes a coding system where specific disease morphologies and topographics are represented by a unique value stored in the **Koder** BigQuery table. Other BigQuery tables that will be used include **MolBiolClinAssoc**, which contains the morphlogy and topography in addition to gene fusion and karyotype data, and **MolClinGene** which details the gene fusions. Using the following queries, we can obtain the codes relevant to our disease of interest."
   ]
  },
  {
   "cell_type": "code",
   "execution_count": 43,
   "id": "859a3cd4",
   "metadata": {
    "id": "859a3cd4"
   },
   "outputs": [],
   "source": [
    "# query to see all disease types by morphology\n",
    "query_morph = f'''\n",
    "SELECT m.Morph, k.Benamning\n",
    "FROM `{mitel_proj}.{mitel_data}.MolBiolClinAssoc` m\n",
    "JOIN `{mitel_proj}.{mitel_data}.Koder` k\n",
    "  ON k.Kod = m.Morph AND k.kodTyp = \"MORPH\"\n",
    "GROUP BY m.Morph, k.Benamning\n",
    "ORDER BY k.Benamning ASC\n",
    "'''\n",
    "\n",
    "#print(query_morph)"
   ]
  },
  {
   "cell_type": "code",
   "execution_count": 44,
   "id": "FPmBz8NwTNMZ",
   "metadata": {
    "id": "FPmBz8NwTNMZ"
   },
   "outputs": [],
   "source": [
    "# query to see all disease types by topography\n",
    "query_topo = f'''\n",
    "SELECT m.Topo, k.Benamning\n",
    "FROM `{mitel_proj}.{mitel_data}.MolBiolClinAssoc` m\n",
    "JOIN `{mitel_proj}.{mitel_data}.Koder` k\n",
    "  ON k.Kod = m.Topo AND k.kodTyp = \"TOP\"\n",
    "GROUP BY m.Topo, k.Benamning\n",
    "ORDER BY k.Benamning ASC\n",
    "'''\n",
    "\n",
    "#print(query_topo)"
   ]
  },
  {
   "cell_type": "code",
   "execution_count": 45,
   "id": "5fc105ae",
   "metadata": {
    "id": "5fc105ae"
   },
   "outputs": [],
   "source": [
    "# query for gene fusions of all disease types\n",
    "# gene names that are separated with a double colon \"::\" represent gene-pair fusions (e.g. gene1::gene2)\n",
    "query_fusions = f'''\n",
    "SELECT g.Gene, count(g.Gene) AS Count\n",
    "FROM `{mitel_proj}.{mitel_data}.MolClinGene` g\n",
    "-- gene name for fusions is double-colon separated gene pair\n",
    "WHERE g.Gene LIKE \"%::%\"\n",
    "GROUP BY g.Gene\n",
    "ORDER BY Count DESC\n",
    "'''\n",
    "\n",
    "#print(query_fusions)"
   ]
  },
  {
   "cell_type": "code",
   "execution_count": 46,
   "id": "fcb384db",
   "metadata": {
    "id": "fcb384db"
   },
   "outputs": [],
   "source": [
    "# run the queries and store results in dataframes\n",
    "morphology_df = client.query(query_morph).result().to_dataframe()\n",
    "topography_df = client.query(query_topo).result().to_dataframe()\n",
    "fusions_df = client.query(query_fusions).result().to_dataframe()"
   ]
  },
  {
   "cell_type": "code",
   "execution_count": 47,
   "id": "fk_EP-N-T370",
   "metadata": {
    "colab": {
     "base_uri": "https://localhost:8080/"
    },
    "id": "fk_EP-N-T370",
    "outputId": "b5636db7-e77d-43ae-cdbd-83a9a9613756"
   },
   "outputs": [
    {
     "name": "stdout",
     "output_type": "stream",
     "text": [
      "  Morph                                          Benamning\n",
      "0  3117                              Acinic cell carcinoma\n",
      "1  1115                          Acute basophilic leukemia\n",
      "2  1117                        Acute eosinophilic leukemia\n",
      "3  1112                Acute erythroleukemia (FAB type M6)\n",
      "4  1602  Acute lymphoblastic leukemia/lymphoblastic lym...\n",
      "224\n",
      "   Topo   Benamning\n",
      "0  0703     Adrenal\n",
      "1  0305     Bladder\n",
      "2  0801       Brain\n",
      "3  0806  Brain stem\n",
      "4  0401      Breast\n",
      "50\n",
      "             Gene  Count\n",
      "0       BCR::ABL1    419\n",
      "1  RUNX1::RUNX1T1    130\n",
      "2       PML::RARA     95\n",
      "3     ETV6::RUNX1     83\n",
      "4     ETV6::NTRK3     71\n",
      "33826\n",
      "   Morph       Benamning\n",
      "17  3111  Adenocarcinoma\n",
      "    Topo Benamning\n",
      "30  0602  Prostate\n"
     ]
    }
   ],
   "source": [
    "print(morphology_df.head())\n",
    "print(len(morphology_df))\n",
    "\n",
    "print(topography_df.head())\n",
    "print(len(topography_df))\n",
    "\n",
    "print(fusions_df.head())\n",
    "print(len(fusions_df))\n",
    "\n",
    "# obtain the morphology and topography codes specific to Prostate Adenocarcinoma\n",
    "print(morphology_df.loc[morphology_df['Benamning'] == 'Adenocarcinoma'])\n",
    "print(topography_df.loc[topography_df['Benamning'] == 'Prostate'])"
   ]
  },
  {
   "cell_type": "markdown",
   "id": "cd7a4fc8",
   "metadata": {
    "id": "cd7a4fc8"
   },
   "source": [
    "These results show that there are a total of 224 morphologies and 50 topographies in the Mitelman database. We will look at fusions involving adenocarcinomas in the prostate. The morphology code for adenocarcinoma is 3111, and the topography code for prostate is 0602. Using these two values, we can construct a list of the ten most common gene fusions for Prostate adenocarcinomas present in the Mitelman database."
   ]
  },
  {
   "cell_type": "code",
   "execution_count": 48,
   "id": "2364e086",
   "metadata": {
    "id": "2364e086"
   },
   "outputs": [],
   "source": [
    "# query for the ten most common gene fusions for Mitelman Prostate adenocarcinoma cases\n",
    "fusions_prostate = f'''\n",
    "SELECT g.Gene, count(g.Gene) AS Count, m.Morph, k.Benamning, m.Topo\n",
    "FROM `{mitel_proj}.{mitel_data}.MolClinGene` g\n",
    "JOIN `{mitel_proj}.{mitel_data}.MolBiolClinAssoc` m\n",
    "  ON m.RefNo = g.RefNo AND m.InvNo = g.InvNo\n",
    "JOIN `{mitel_proj}.{mitel_data}.Koder` k\n",
    "  ON k.Kod = m.Topo AND k.kodTyp = \"TOP\"\n",
    "-- we are only considering gene fusions for Prostate adenocarcinoma\n",
    "WHERE g.Gene LIKE \"%::%\" AND m.Morph LIKE \"3111\" AND m.Topo LIKE \"0602\"\n",
    "GROUP BY g.Gene, m.Morph, k.Benamning, m.Topo\n",
    "ORDER BY Count DESC\n",
    "LIMIT 10\n",
    "'''\n",
    "\n",
    "#print(fusions_prostate)"
   ]
  },
  {
   "cell_type": "code",
   "execution_count": 49,
   "id": "05bc79b4",
   "metadata": {
    "colab": {
     "base_uri": "https://localhost:8080/"
    },
    "id": "05bc79b4",
    "outputId": "72b7f963-c2ff-4900-db48-0fac551d177f"
   },
   "outputs": [
    {
     "name": "stdout",
     "output_type": "stream",
     "text": [
      "              Gene  Count Morph Benamning  Topo\n",
      "0     TMPRSS2::ERG     52  3111  Prostate  0602\n",
      "1    TMPRSS2::ETV4      5  3111  Prostate  0602\n",
      "2    TMPRSS2::ETV1      5  3111  Prostate  0602\n",
      "3     SLC45A3::ERG      5  3111  Prostate  0602\n",
      "4       NDRG1::ERG      4  3111  Prostate  0602\n",
      "5  OSBPL9::SERINC5      3  3111  Prostate  0602\n",
      "6    SLC45A3::ELK4      3  3111  Prostate  0602\n",
      "7       KLK2::ETV1      3  3111  Prostate  0602\n",
      "8  METTL13::EIF4G3      3  3111  Prostate  0602\n",
      "9      ADGRL2::AK5      3  3111  Prostate  0602\n"
     ]
    }
   ],
   "source": [
    "# run the query and view the gene fusions\n",
    "top10_prostate = client.query(fusions_prostate).result().to_dataframe()\n",
    "print(top10_prostate)"
   ]
  },
  {
   "cell_type": "code",
   "execution_count": 50,
   "id": "12b927be",
   "metadata": {
    "colab": {
     "base_uri": "https://localhost:8080/"
    },
    "id": "12b927be",
    "outputId": "af03d132-68ef-4d1d-bac2-128a3182cc48"
   },
   "outputs": [
    {
     "name": "stdout",
     "output_type": "stream",
     "text": [
      "'KLK2','AK5','ETV1','TMPRSS2','EIF4G3','OSBPL9','METTL13','ADGRL2','ERG','NDRG1','ETV4','SERINC5','ELK4','SLC45A3'\n"
     ]
    }
   ],
   "source": [
    "# convert the list of gene fusion pairs into a string containing individual unique gene names\n",
    "genes_list = [x.split(\"::\") for x in top10_prostate['Gene']]\n",
    "genes_set = set(chain.from_iterable(genes_list))\n",
    "genes_str = ','.join(f\"'{gene}'\" for gene in genes_set)\n",
    "\n",
    "print(genes_str)"
   ]
  },
  {
   "cell_type": "markdown",
   "id": "QqWq240Anujw",
   "metadata": {
    "id": "QqWq240Anujw"
   },
   "source": [
    "Using the ten most common gene fusions for Prostate Adenocarcinoma in the Mitelman database, we have created a list of 14 individual genes (duplicates removed) to explore in TCGA."
   ]
  },
  {
   "cell_type": "markdown",
   "id": "xfF2tPLjxLcM",
   "metadata": {
    "id": "xfF2tPLjxLcM"
   },
   "source": [
    "## Finding the Genes in TCGA"
   ]
  },
  {
   "cell_type": "markdown",
   "id": "TEVL2KFVxc8E",
   "metadata": {
    "id": "TEVL2KFVxc8E"
   },
   "source": [
    "Now we will find our list of Prostate adenocarcinoma genes in TCGA. We will first find cases matching our target disease type, then we will create a temporary table containing the gene expression data for these cases. The TCGA database is made up of various focused studies as described by this table: https://gdc.cancer.gov/resources-tcga-users/tcga-code-tables/tcga-study-abbreviations. We can use the PRAD project to retrieve cases for Prostate adenocarcinoma."
   ]
  },
  {
   "cell_type": "code",
   "execution_count": 13,
   "id": "Ks7Puh0xnpC6",
   "metadata": {
    "id": "Ks7Puh0xnpC6"
   },
   "outputs": [],
   "source": [
    "# query to select all Prostate adenocarcinomas in TCGA\n",
    "query_TCGA = f'''\n",
    "SELECT r.project_short_name,\n",
    "      r.primary_site,\n",
    "      r.gene_name,\n",
    "      p.proj__name,\n",
    "      p.disease_type,\n",
    "      p.diag__primary_gleason_grade\n",
    "FROM `{TCGA_proj}.{TCGA_data}.RNAseq_hg38_gdc_current` r\n",
    "JOIN `{TCGA_proj}.{TCGA_data}.clinical_gdc_current` p\n",
    "  ON r.case_gdc_id = p.case_id\n",
    "-- select cases from the Prostate adenocarcinoma project\n",
    "WHERE r.project_short_name = \"TCGA-PRAD\"\n",
    "  AND p.disease_type = \"Adenomas and Adenocarcinomas\"\n",
    "'''"
   ]
  },
  {
   "cell_type": "code",
   "execution_count": 14,
   "id": "CATsd4JnvbnR",
   "metadata": {
    "colab": {
     "base_uri": "https://localhost:8080/"
    },
    "id": "CATsd4JnvbnR",
    "outputId": "885c95b6-48a0-4937-d070-26e49d72c6fb"
   },
   "outputs": [
    {
     "name": "stdout",
     "output_type": "stream",
     "text": [
      "         project_short_name    primary_site   gene_name  \\\n",
      "0                 TCGA-PRAD  Prostate gland   LINC00538   \n",
      "1                 TCGA-PRAD  Prostate gland   RNU6-153P   \n",
      "2                 TCGA-PRAD  Prostate gland    OR7E136P   \n",
      "3                 TCGA-PRAD  Prostate gland    PRAMEF15   \n",
      "4                 TCGA-PRAD  Prostate gland  AC008759.1   \n",
      "...                     ...             ...         ...   \n",
      "32879883          TCGA-PRAD  Prostate gland  ZNF451-AS1   \n",
      "32879884          TCGA-PRAD  Prostate gland  AP003352.1   \n",
      "32879885          TCGA-PRAD  Prostate gland     TMEM138   \n",
      "32879886          TCGA-PRAD  Prostate gland    NIPBL-DT   \n",
      "32879887          TCGA-PRAD  Prostate gland     MARCHF9   \n",
      "\n",
      "                       proj__name                  disease_type  \\\n",
      "0         Prostate Adenocarcinoma  Adenomas and Adenocarcinomas   \n",
      "1         Prostate Adenocarcinoma  Adenomas and Adenocarcinomas   \n",
      "2         Prostate Adenocarcinoma  Adenomas and Adenocarcinomas   \n",
      "3         Prostate Adenocarcinoma  Adenomas and Adenocarcinomas   \n",
      "4         Prostate Adenocarcinoma  Adenomas and Adenocarcinomas   \n",
      "...                           ...                           ...   \n",
      "32879883  Prostate Adenocarcinoma  Adenomas and Adenocarcinomas   \n",
      "32879884  Prostate Adenocarcinoma  Adenomas and Adenocarcinomas   \n",
      "32879885  Prostate Adenocarcinoma  Adenomas and Adenocarcinomas   \n",
      "32879886  Prostate Adenocarcinoma  Adenomas and Adenocarcinomas   \n",
      "32879887  Prostate Adenocarcinoma  Adenomas and Adenocarcinomas   \n",
      "\n",
      "         diag__primary_gleason_grade  \n",
      "0                          Pattern 3  \n",
      "1                          Pattern 3  \n",
      "2                          Pattern 3  \n",
      "3                          Pattern 3  \n",
      "4                          Pattern 3  \n",
      "...                              ...  \n",
      "32879883                   Pattern 5  \n",
      "32879884                   Pattern 5  \n",
      "32879885                   Pattern 5  \n",
      "32879886                   Pattern 5  \n",
      "32879887                   Pattern 5  \n",
      "\n",
      "[32879888 rows x 6 columns]\n"
     ]
    }
   ],
   "source": [
    "# run the query and view results\n",
    "TCGA_prostate = client.query(query_TCGA).result().to_dataframe()\n",
    "print(TCGA_prostate)"
   ]
  },
  {
   "cell_type": "markdown",
   "id": "_E0IjOy3bsyW",
   "metadata": {
    "id": "_E0IjOy3bsyW"
   },
   "source": [
    "## Create a Dataset to Use With the ML Model"
   ]
  },
  {
   "cell_type": "markdown",
   "id": "raHvxYQbCfCE",
   "metadata": {
    "id": "raHvxYQbCfCE"
   },
   "source": [
    "A temporary table will be used to store the following data: case identifier, gene name, gene expression values, and Primary Gleason Grade. In the final step of this query, we will pivot the table data creating a column for each gene in our target list. The temp table and ML model queries will replace any table or model using the same name within your provided project and dataset."
   ]
  },
  {
   "cell_type": "code",
   "execution_count": 51,
   "id": "xwni_6LCnFNR",
   "metadata": {
    "colab": {
     "base_uri": "https://localhost:8080/"
    },
    "id": "xwni_6LCnFNR",
    "outputId": "4ebc8f50-7b62-4243-ebc3-959779d253d1"
   },
   "outputs": [
    {
     "name": "stdout",
     "output_type": "stream",
     "text": [
      "\n",
      "CREATE OR REPLACE TABLE `your_model_project.your_data_table.tmp_data` AS\n",
      "  SELECT * FROM(\n",
      "    SELECT\n",
      "      seq.case_barcode,\n",
      "      seq.gene_name,\n",
      "      seq.fpkm_uq_unstranded,\n",
      "      --assign Primary Gleason Grade to an appropriate integer\n",
      "      CASE clin.diag__primary_gleason_grade\n",
      "        WHEN \"Pattern 1\" THEN 1\n",
      "        WHEN \"Pattern 2\" THEN 2\n",
      "        WHEN \"Pattern 3\" THEN 3\n",
      "        WHEN \"Pattern 4\" THEN 4\n",
      "        WHEN \"Pattern 5\" THEN 5\n",
      "      END AS primary_gleason_grade\n",
      "    FROM `isb-cgc-bq.TCGA.RNAseq_hg38_gdc_current` seq\n",
      "    JOIN `isb-cgc-bq.TCGA.clinical_gdc_current` clin\n",
      "      ON seq.case_gdc_id = clin.case_id\n",
      "    WHERE seq.project_short_name = \"TCGA-PRAD\"\n",
      "      AND clin.disease_type = \"Adenomas and Adenocarcinomas\")\n",
      "  --transform genes from rows to columns using pivot\n",
      "  PIVOT(MAX(fpkm_uq_unstranded) for gene_name IN ('KLK2','AK5','ETV1','TMPRSS2','EIF4G3','OSBPL9','METTL13','ADGRL2','ERG','NDRG1','ETV4','SERINC5','ELK4','SLC45A3'))\n",
      "\n"
     ]
    }
   ],
   "source": [
    "# query to create a temporary table for use with the ML model\n",
    "create_tmp_table = f'''\n",
    "CREATE OR REPLACE TABLE `{ML_project}.{ML_data}.tmp_data` AS\n",
    "  SELECT * FROM(\n",
    "    SELECT\n",
    "      seq.case_barcode,\n",
    "      seq.gene_name,\n",
    "      seq.fpkm_uq_unstranded,\n",
    "      --assign Primary Gleason Grade to an appropriate integer\n",
    "      CASE clin.diag__primary_gleason_grade\n",
    "        WHEN \"Pattern 1\" THEN 1\n",
    "        WHEN \"Pattern 2\" THEN 2\n",
    "        WHEN \"Pattern 3\" THEN 3\n",
    "        WHEN \"Pattern 4\" THEN 4\n",
    "        WHEN \"Pattern 5\" THEN 5\n",
    "      END AS primary_gleason_grade\n",
    "    FROM `{TCGA_proj}.{TCGA_data}.RNAseq_hg38_gdc_current` seq\n",
    "    JOIN `{TCGA_proj}.{TCGA_data}.clinical_gdc_current` clin\n",
    "      ON seq.case_gdc_id = clin.case_id\n",
    "    WHERE seq.project_short_name = \"TCGA-PRAD\"\n",
    "      AND clin.disease_type = \"Adenomas and Adenocarcinomas\")\n",
    "  --transform genes from rows to columns using pivot\n",
    "  PIVOT(MAX(fpkm_uq_unstranded) for gene_name IN ({genes_str}))\n",
    "'''\n",
    "print(create_tmp_table)"
   ]
  },
  {
   "cell_type": "code",
   "execution_count": 16,
   "id": "X6-Hbtj2oLn8",
   "metadata": {
    "id": "X6-Hbtj2oLn8"
   },
   "outputs": [],
   "source": [
    "# Run the query. This will create a table in the assigned Google project.\n",
    "tmp_data = model_client.query(create_tmp_table).result().to_dataframe()"
   ]
  },
  {
   "cell_type": "code",
   "execution_count": 17,
   "id": "-IWdv9KwzIlA",
   "metadata": {
    "colab": {
     "base_uri": "https://localhost:8080/"
    },
    "id": "-IWdv9KwzIlA",
    "outputId": "db23956b-8cc6-4e33-c356-b65ae39b57f7"
   },
   "outputs": [
    {
     "name": "stdout",
     "output_type": "stream",
     "text": [
      "   case_barcode  primary_gleason_grade       KLK2     AK5     ETV1   TMPRSS2  \\\n",
      "0  TCGA-CH-5768                      2  1072.6219  0.7413   1.1543  246.7231   \n",
      "1  TCGA-HC-7209                      3  1036.7989  6.2232   0.7732  249.5574   \n",
      "2  TCGA-HC-7078                      3  1341.2227  8.4328   0.8230  336.9265   \n",
      "3  TCGA-G9-6339                      3   911.5085  1.2798  14.4465  358.8988   \n",
      "4  TCGA-G9-6347                      3   860.3153  1.1806   0.7879  121.1990   \n",
      "5  TCGA-2A-AAYO                      3  1088.0336  0.2035   0.8879  219.7866   \n",
      "6  TCGA-EJ-5497                      3  1112.3672  0.2399   1.4062  394.1048   \n",
      "7  TCGA-EJ-7794                      3   949.5938  1.7362   1.5181  291.1958   \n",
      "8  TCGA-EJ-7793                      3  1390.5860  0.5867   0.8311  441.6666   \n",
      "9  TCGA-J4-AATV                      3  1024.8606  0.9401   0.8350  212.0895   \n",
      "\n",
      "    EIF4G3   OSBPL9  METTL13  ADGRL2      ERG     NDRG1    ETV4  SERINC5  \\\n",
      "0  11.4251  12.3321      NaN  5.2915  67.8280  153.2677  0.6193  50.5366   \n",
      "1  13.5686  13.6419      NaN  1.3243  51.9056  173.2462  0.4008  72.0655   \n",
      "2   7.7551   9.3855      NaN  2.5207   2.3200   61.0022  0.5331  32.8305   \n",
      "3   7.5426   9.2310      NaN  1.2132   1.6281   70.9450  0.9742  43.1291   \n",
      "4   3.6649   3.9434      NaN  2.5816   1.2175   32.4953  1.0919   6.0692   \n",
      "5   6.5642  13.7045      NaN  4.2971   1.7488   52.4115  0.8425  34.2783   \n",
      "6   9.6508  11.5738      NaN  3.4138  42.5477  278.4249  0.4627  60.5357   \n",
      "7   9.6402  11.1579      NaN  7.0149   3.3415  100.8500  1.0973  58.0418   \n",
      "8   9.9554  14.6693      NaN  5.1570  38.9568  244.5753  0.7895  40.3455   \n",
      "9   6.9081  10.0464      NaN  3.9195   7.4480   74.5354  1.4507  29.2553   \n",
      "\n",
      "      ELK4    SLC45A3  \n",
      "0  19.8230   672.1192  \n",
      "1  12.2050   441.6811  \n",
      "2  15.0584  1215.9392  \n",
      "3   8.4288   310.5659  \n",
      "4   3.6831   160.5334  \n",
      "5  11.2332   720.0471  \n",
      "6  20.9267   723.7558  \n",
      "7  11.9336   833.9827  \n",
      "8   9.7377   640.3241  \n",
      "9  10.2789   431.0762  \n"
     ]
    }
   ],
   "source": [
    "# query to retrieve data from the new table\n",
    "query_tmp = f'''\n",
    "  SELECT *\n",
    "  FROM `{ML_project}.{ML_data}.tmp_data`\n",
    "  LIMIT 10\n",
    "'''\n",
    "\n",
    "# run the query and view results\n",
    "tmp_table = client.query(query_tmp).result().to_dataframe()\n",
    "print(tmp_table)"
   ]
  },
  {
   "cell_type": "markdown",
   "id": "xvzLdi_HDSUO",
   "metadata": {
    "id": "xvzLdi_HDSUO"
   },
   "source": [
    "## Create a Machine Learning Model"
   ]
  },
  {
   "cell_type": "markdown",
   "id": "H_azSN_wDmGt",
   "metadata": {
    "id": "H_azSN_wDmGt"
   },
   "source": [
    "Using our list of relevant Prostate adenocarcinoma genes, we will create a random forest classifier to predict the Primary Gleason Grade from the gene expression data of our target genes."
   ]
  },
  {
   "cell_type": "code",
   "execution_count": 35,
   "id": "xiV_YdCjuSdS",
   "metadata": {
    "id": "xiV_YdCjuSdS"
   },
   "outputs": [],
   "source": [
    "# query to build a random forest classifier model\n",
    "rf_model_query = f'''\n",
    "CREATE OR REPLACE MODEL\n",
    "  `{ML_project}.{ML_data}.rf_model`\n",
    "OPTIONS\n",
    "  ( MODEL_TYPE='RANDOM_FOREST_CLASSIFIER',\n",
    "    NUM_PARALLEL_TREE=HPARAM_RANGE(50,100),\n",
    "    TREE_METHOD='HIST',\n",
    "    --split the data randomly into 10% eval, 20% test, and 70% train\n",
    "    DATA_SPLIT_METHOD='RANDOM',\n",
    "    DATA_SPLIT_EVAL_FRACTION=0.1,\n",
    "    DATA_SPLIT_TEST_FRACTION=0.2,\n",
    "    NUM_TRIALS=3,\n",
    "    INPUT_LABEL_COLS=['primary_gleason_grade'])\n",
    "--ignore case identifier and NULL column\n",
    "AS SELECT * EXCEPT(case_barcode, METTL13)\n",
    "FROM\n",
    "  `{ML_project}.{ML_data}.tmp_data`\n",
    "'''\n",
    "\n",
    "#print(rf_model_query)"
   ]
  },
  {
   "cell_type": "code",
   "execution_count": 36,
   "id": "OJH8MmXjva3L",
   "metadata": {
    "id": "OJH8MmXjva3L"
   },
   "outputs": [],
   "source": [
    "# Run the query. This will store the new model in the Google project.\n",
    "# NOTE this query may take several minutes to complete.\n",
    "rf_model = model_client.query(rf_model_query).result()"
   ]
  },
  {
   "cell_type": "markdown",
   "id": "wXnDa222W-ss",
   "metadata": {
    "id": "wXnDa222W-ss"
   },
   "source": [
    "## Evaluate Model Results"
   ]
  },
  {
   "cell_type": "code",
   "execution_count": 38,
   "id": "3JILfBIKWsOb",
   "metadata": {
    "colab": {
     "base_uri": "https://localhost:8080/"
    },
    "id": "3JILfBIKWsOb",
    "outputId": "3405b35a-4ad4-48ca-9629-d583a75d8257"
   },
   "outputs": [
    {
     "name": "stdout",
     "output_type": "stream",
     "text": [
      "   trial_id  precision    recall  accuracy  f1_score  log_loss   roc_auc\n",
      "0         1   0.426894  0.380239  0.612245  0.381794  1.187049  0.543772\n",
      "1         2   0.381410  0.331800  0.551020  0.324618  1.192002  0.541744\n",
      "2         3   0.396507  0.362520  0.581633  0.363992  1.194137  0.533144\n",
      "\n",
      "   trial_id expected_label  _2  _3  _4  _5\n",
      "0         1              3   0  25  16   2\n",
      "1         1              4   0   8  33   1\n",
      "2         1              5   0   0  11   2\n",
      "3         2              3   0  21  21   1\n",
      "4         2              4   0   9  32   1\n",
      "5         2              5   0   0  12   1\n",
      "6         3              3   0  24  17   2\n",
      "7         3              4   0   9  31   2\n",
      "8         3              5   0   0  11   2\n",
      "\n",
      "    trial_id  feature  importance_weight  importance_gain  importance_cover\n",
      "0          3     KLK2               1450         2.015511         20.702845\n",
      "1          3      AK5               1194         2.990116         28.048367\n",
      "2          3     ETV1                711         1.673468         12.646097\n",
      "3          3  TMPRSS2                675         1.769284         14.410556\n",
      "4          3   EIF4G3                747         2.386354         17.594880\n",
      "5          3   OSBPL9                704         2.304890         22.277344\n",
      "6          3   ADGRL2                561         2.321368         15.099599\n",
      "7          3      ERG                475         2.145437         20.677895\n",
      "8          3    NDRG1                579         2.357558         25.125648\n",
      "9          3     ETV4                638         2.693268         34.345415\n",
      "10         3  SERINC5                603         2.388324         23.795398\n",
      "11         3     ELK4                438         2.334103         19.010274\n",
      "12         3  SLC45A3                628         2.732187         27.344546\n"
     ]
    }
   ],
   "source": [
    "# query to evaluate model performance\n",
    "eval_query = f'''\n",
    "SELECT * FROM\n",
    "  ML.EVALUATE(MODEL `{ML_project}.{ML_data}.rf_model`)\n",
    "'''\n",
    "\n",
    "# query for creating a confusion matrix\n",
    "matrix_query = f'''\n",
    "SELECT * FROM\n",
    "  ML.CONFUSION_MATRIX(MODEL `{ML_project}.{ML_data}.rf_model`)\n",
    "'''\n",
    "\n",
    "# query for feature importance in the model\n",
    "feature_importance_query = f'''\n",
    "SELECT * FROM\n",
    "  ML.FEATURE_IMPORTANCE(MODEL `{ML_project}.{ML_data}.rf_model`)\n",
    "'''\n",
    "\n",
    "# Run the queries and view results\n",
    "rf_model_eval = model_client.query(eval_query).result().to_dataframe()\n",
    "rf_model_matrix = model_client.query(matrix_query).result().to_dataframe()\n",
    "rf_model_features = model_client.query(feature_importance_query).result().to_dataframe()\n",
    "\n",
    "print(rf_model_eval)\n",
    "print()\n",
    "print(rf_model_matrix)\n",
    "print()\n",
    "print(rf_model_features)"
   ]
  },
  {
   "cell_type": "markdown",
   "id": "7d5c1aa5",
   "metadata": {
    "id": "7d5c1aa5"
   },
   "source": [
    "Three trials were run for hyperparameter tuning. The first trial generated the highest accuracy and precision at 61% and 43% respectively. The confusion matrix for trial 3 shows that grade 4 predictions were most accurate with 31 correct predictions and group 5 had the worst results with only 2 predicted corectly. The feature importance function orders the model features based on how useful the feature was when training the model. In our case, the *KLK2* gene was assigned the highest importance weight."
   ]
  },
  {
   "cell_type": "markdown",
   "id": "vYz9efR8D27Q",
   "metadata": {
    "id": "vYz9efR8D27Q"
   },
   "source": [
    "## Conclusion"
   ]
  },
  {
   "cell_type": "markdown",
   "id": "o3wQEWd6g3Ju",
   "metadata": {
    "id": "o3wQEWd6g3Ju"
   },
   "source": [
    "The extensive number of gene fusions in the Mitelman database has allowed us to curate a list of common fusions specific to Prostate adenocarcinoma. Using these genes, we were able to easily create a random forest classifier in BigQuery that achieved an accuracy >60% in predicting the Primary Gleason Grade using gene expression data from TCGA. Further experiments can be used to improve this accuracy by incorporating more genes or additional features. In this notebook we have demonstrated the usability of the Mitelman and TCGA databases, as well as the ease of creating machine learning models in BigQuery."
   ]
  }
 ],
 "metadata": {
  "colab": {
   "provenance": []
  },
  "kernelspec": {
   "display_name": "Python 3 (ipykernel)",
   "language": "python",
   "name": "python3"
  },
  "language_info": {
   "codemirror_mode": {
    "name": "ipython",
    "version": 3
   },
   "file_extension": ".py",
   "mimetype": "text/x-python",
   "name": "python",
   "nbconvert_exporter": "python",
   "pygments_lexer": "ipython3",
   "version": "3.9.6"
  }
 },
 "nbformat": 4,
 "nbformat_minor": 5
}
