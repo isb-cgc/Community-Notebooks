{
 "cells": [
  {
   "cell_type": "markdown",
   "id": "08c3e7f4",
   "metadata": {
    "id": "08c3e7f4"
   },
   "source": [
    "<a href=\"https://colab.research.google.com/github/isb-cgc/Community-Notebooks/blob/jacob-dev/MitelmanDB/Mitelman_Fusions_In_TCGA.ipynb\" target=\"_parent\"><img src=\"https://colab.research.google.com/assets/colab-badge.svg\" alt=\"Open In Colab\"/></a>"
   ]
  },
  {
   "cell_type": "markdown",
   "id": "8abfde41",
   "metadata": {
    "id": "8abfde41"
   },
   "source": [
    "# Mitelman Gene Fusions in TCGA\n",
    "\n",
    "Check out other notebooks at our [Community Notebooks Repository](https://github.com/isb-cgc/Community-Notebooks)!\n",
    "\n",
    "```\n",
    "Title: Mitelman Gene Fusions in TCGA  \n",
    "Author: Jacob Wilson  \n",
    "Created: 2023-11-01  \n",
    "URL: https://github.com/isb-cgc/Community-Notebooks/blob/jacob-dev/MitelmanDB/Mitelman_Fusions_In_TCGA.ipynb  \n",
    "Purpose: We will explore gene fusions in the Mitelman database using BigQuery. With a few basic queries we can select the most common gene fusions specific to any disease type present in the Mitelman database. For demonstration in this notebook, we will be looking at gene fusions associated with Prostate Adenocarcinomas. After creating a list of relevant genes, we will obtain gene expression data from TCGA and build a machine learning model to predict the Primary Gleason Grade.\n",
    "```"
   ]
  },
  {
   "cell_type": "markdown",
   "id": "9e64559c",
   "metadata": {
    "id": "9e64559c"
   },
   "source": [
    "## Initialize Notebook Environment\n",
    "\n",
    "Before beginning, we first need to load dependencies and authenticate to BigQuery."
   ]
  },
  {
   "cell_type": "markdown",
   "id": "4a073c7c",
   "metadata": {
    "id": "4a073c7c"
   },
   "source": [
    "## Install Dependencies"
   ]
  },
  {
   "cell_type": "code",
   "execution_count": 2,
   "id": "478a0ce9",
   "metadata": {
    "id": "478a0ce9"
   },
   "outputs": [],
   "source": [
    "# GCP Libraries\n",
    "from google.cloud import bigquery\n",
    "from google.colab import auth\n",
    "\n",
    "from itertools import chain"
   ]
  },
  {
   "cell_type": "markdown",
   "id": "43816bcc",
   "metadata": {
    "id": "43816bcc"
   },
   "source": [
    "## Authenticate\n",
    "\n",
    "In order to utilize BigQuery, we must obtain authorization to BigQuery and Google Cloud."
   ]
  },
  {
   "cell_type": "code",
   "execution_count": 3,
   "id": "6aa17ca5",
   "metadata": {
    "id": "6aa17ca5"
   },
   "outputs": [],
   "source": [
    "# if you're using Google Colab, authenticate to gcloud with the following\n",
    "auth.authenticate_user()\n",
    "\n",
    "# alternatively, use the gcloud SDK\n",
    "#!gcloud auth application-default login"
   ]
  },
  {
   "cell_type": "markdown",
   "id": "6529ac99",
   "metadata": {
    "id": "6529ac99"
   },
   "source": [
    "## Google project ID\n",
    "\n",
    "Set your own Google project ID for use with this notebook."
   ]
  },
  {
   "cell_type": "code",
   "execution_count": 4,
   "id": "cabd29da",
   "metadata": {
    "id": "cabd29da"
   },
   "outputs": [],
   "source": [
    "# set the google project that will be billed for this notebook's computations\n",
    "google_project = 'your_project_id'  ## change this\n",
    "\n",
    "# set the google project that will be used to store the model and temp table\n",
    "ML_project = 'your_model_project'  ## change this\n",
    "\n",
    "# set the dataset for the temporary data table and machine learning model\n",
    "ML_data = 'your_temp_data_table'  ## change this"
   ]
  },
  {
   "cell_type": "markdown",
   "id": "9a4fdbc6",
   "metadata": {
    "id": "9a4fdbc6"
   },
   "source": [
    "## BigQuery Client"
   ]
  },
  {
   "cell_type": "code",
   "execution_count": 5,
   "id": "a3235756",
   "metadata": {
    "id": "a3235756"
   },
   "outputs": [],
   "source": [
    "# Initialize a client to access the data within BigQuery\n",
    "if google_project == 'your_project_id':\n",
    "    print('Please update the project ID with your Google Cloud Project')\n",
    "else:\n",
    "    client = bigquery.Client(google_project)\n",
    "\n",
    "if ML_project == 'your_model_project':\n",
    "    print('Please update the project ID with your Google Cloud Project')\n",
    "else:\n",
    "    model_client = bigquery.Client(model_project)\n",
    "\n",
    "# set the Mitelman Database project\n",
    "mitel_proj = 'mitelman-db'\n",
    "mitel_data = 'prod'\n",
    "\n",
    "# set the TCGA project\n",
    "TCGA_proj = 'isb-cgc-bq'\n",
    "TCGA_data = 'TCGA'"
   ]
  },
  {
   "cell_type": "markdown",
   "id": "46a2cf1e",
   "metadata": {
    "id": "46a2cf1e"
   },
   "source": [
    "## Exploring Fusions in the Mitelman DB"
   ]
  },
  {
   "cell_type": "markdown",
   "id": "a780356b",
   "metadata": {
    "id": "a780356b"
   },
   "source": [
    "We will begin by exploring the disease types and gene fusions that are present in the Mitelman database. The database utilizes a coding system where specific disease morphologies and topographics are represented by a unique value stored in the **Koder** table. Using the following queries, we can obtain the codes relevant to our disease of interest."
   ]
  },
  {
   "cell_type": "code",
   "execution_count": 6,
   "id": "859a3cd4",
   "metadata": {
    "id": "859a3cd4"
   },
   "outputs": [],
   "source": [
    "# query to see all disease types by morphology\n",
    "query_morph = f'''\n",
    "SELECT m.Morph, k.Benamning\n",
    "FROM `{mitel_proj}.{mitel_data}.MolBiolClinAssoc` m\n",
    "JOIN `{mitel_proj}.{mitel_data}.Koder` k\n",
    "  ON k.Kod = m.Morph AND k.kodTyp = \"MORPH\"\n",
    "GROUP BY m.Morph, k.Benamning\n",
    "ORDER BY k.Benamning ASC\n",
    "'''\n",
    "\n",
    "#print(query_morph)"
   ]
  },
  {
   "cell_type": "code",
   "execution_count": 7,
   "id": "FPmBz8NwTNMZ",
   "metadata": {
    "id": "FPmBz8NwTNMZ"
   },
   "outputs": [],
   "source": [
    "# query to see all disease types by topography\n",
    "query_topo = f'''\n",
    "SELECT m.Topo, k.Benamning\n",
    "FROM `{mitel_proj}.{mitel_data}.MolBiolClinAssoc` m\n",
    "JOIN `{mitel_proj}.{mitel_data}.Koder` k\n",
    "  ON k.Kod = m.Topo AND k.kodTyp = \"TOP\"\n",
    "GROUP BY m.Topo, k.Benamning\n",
    "ORDER BY k.Benamning ASC\n",
    "'''\n",
    "\n",
    "#print(query_topo)"
   ]
  },
  {
   "cell_type": "code",
   "execution_count": 8,
   "id": "5fc105ae",
   "metadata": {
    "id": "5fc105ae"
   },
   "outputs": [],
   "source": [
    "# query for gene fusions of all disease types\n",
    "# gene names that are separated with a double colon \"::\" represent gene-pair fusions\n",
    "query_fusions = f'''\n",
    "SELECT g.Gene, count(g.Gene) AS Count\n",
    "FROM `{mitel_proj}.{mitel_data}.MolClinGene` g\n",
    "WHERE g.Gene LIKE \"%::%\"\n",
    "GROUP BY g.Gene\n",
    "ORDER BY Count DESC\n",
    "'''\n",
    "\n",
    "#print(query_fusions)"
   ]
  },
  {
   "cell_type": "code",
   "execution_count": 9,
   "id": "fcb384db",
   "metadata": {
    "id": "fcb384db"
   },
   "outputs": [],
   "source": [
    "# run the queries and store results in dataframes\n",
    "morphology_df = client.query(query_morph).result().to_dataframe()\n",
    "topography_df = client.query(query_topo).result().to_dataframe()\n",
    "fusions_df = client.query(query_fusions).result().to_dataframe()"
   ]
  },
  {
   "cell_type": "code",
   "execution_count": 14,
   "id": "fk_EP-N-T370",
   "metadata": {
    "colab": {
     "base_uri": "https://localhost:8080/"
    },
    "id": "fk_EP-N-T370",
    "outputId": "f16377a3-20c3-4cf2-c61c-eaf6c516e81e"
   },
   "outputs": [
    {
     "name": "stdout",
     "output_type": "stream",
     "text": [
      "    Morph                                          Benamning\n",
      "0    3117                              Acinic cell carcinoma\n",
      "1    1115                          Acute basophilic leukemia\n",
      "2    1117                        Acute eosinophilic leukemia\n",
      "3    1112                Acute erythroleukemia (FAB type M6)\n",
      "4    1602  Acute lymphoblastic leukemia/lymphoblastic lym...\n",
      "..    ...                                                ...\n",
      "219  8401               Vascular and perivascular tumor, NOS\n",
      "220  8499      Vascular and perivascular tumor, special type\n",
      "221  1710                      Waldenström macroglobulinemia\n",
      "222  3041                                      Warthin tumor\n",
      "223  3135                                        Wilms tumor\n",
      "\n",
      "[224 rows x 2 columns]\n",
      "    Topo                       Benamning\n",
      "0   0703                         Adrenal\n",
      "1   0305                         Bladder\n",
      "2   0801                           Brain\n",
      "3   0806                      Brain stem\n",
      "4   0401                          Breast\n",
      "5   0804                      Cerebellum\n",
      "6   0810                             Eye\n",
      "7   0503                  Fallopian tube\n",
      "8   0222      Gallbladder/Biliary system\n",
      "9   1202                           Heart\n",
      "10  0240                  Intraabdominal\n",
      "11  0140                   Intrathoracal\n",
      "12  0301                          Kidney\n",
      "13  0227                 Large intestine\n",
      "14  0105                          Larynx\n",
      "15  0220                           Liver\n",
      "16  0107                            Lung\n",
      "17  1303                      Lymph node\n",
      "18  0101  Nasal cavity/Paranasal sinuses\n",
      "19  0103                     Nasopharynx\n",
      "20  0214                      Oesophagus\n",
      "21  0203                     Oral cavity\n",
      "22  0212            Oro- and hypopharynx\n",
      "23  0501                           Ovary\n",
      "24  0218                        Pancreas\n",
      "25  0708                     Parathyroid\n",
      "26  0603                           Penis\n",
      "27  0233                      Peritoneum\n",
      "28  0803                     Pineal body\n",
      "29  0109                          Pleura\n",
      "30  0602                        Prostate\n",
      "31  0210                  Salivary gland\n",
      "32  0901                        Skeleton\n",
      "33  1101                            Skin\n",
      "34  0225                 Small intestine\n",
      "35  0902                     Soft tissue\n",
      "36  0808                     Spinal cord\n",
      "37  1302                          Spleen\n",
      "38  0216                         Stomach\n",
      "39  0205                           Teeth\n",
      "40  0601                          Testis\n",
      "41  1301                          Thymus\n",
      "42  0704                         Thyroid\n",
      "43  0208                          Tongue\n",
      "44  1410                    Unknown site\n",
      "45  0303                          Ureter\n",
      "46  0307                         Urethra\n",
      "47  0507                  Uterus, cervix\n",
      "48  0505                  Uterus, corpus\n",
      "49  0509                          Vagina\n",
      "   Morph       Benamning\n",
      "17  3111  Adenocarcinoma\n",
      "    Topo Benamning\n",
      "30  0602  Prostate\n"
     ]
    }
   ],
   "source": [
    "print(morphology_df.head())\n",
    "print(len(morphology_df))\n",
    "\n",
    "print(topography_df.head())\n",
    "print(len(topography_df))\n",
    "\n",
    "print(fusions_df.head())\n",
    "print(len(fusions_df))\n",
    "\n",
    "# obtain the morphology and topography codes specific to Prostate Adenocarcinoma\n",
    "print(morphology_df.loc[morphology_df['Benamning'] == 'Adenocarcinoma'])\n",
    "print(topography_df.loc[topography_df['Benamning'] == 'Prostate'])"
   ]
  },
  {
   "cell_type": "markdown",
   "id": "cd7a4fc8",
   "metadata": {
    "id": "cd7a4fc8"
   },
   "source": [
    "These results show that there are a total of 224 morphologies and 50 topographies in the Mitelman database. We will look at fusions involving Adenocarcinomas in the Prostate. The morphology code for Adenocarcinoma is 3111, and the topography code for prostate is 0602. Using these two values, we can construct a list of the top 10 fusions for our target disease."
   ]
  },
  {
   "cell_type": "code",
   "execution_count": 15,
   "id": "2364e086",
   "metadata": {
    "id": "2364e086"
   },
   "outputs": [],
   "source": [
    "# query for top ten gene fusions in Prostate Adenocarcinoma\n",
    "fusions_prostate = f'''\n",
    "SELECT g.Gene, count(g.Gene) AS Count, m.Morph, k.Benamning, m.Topo\n",
    "FROM `{mitel_proj}.{mitel_data}.MolClinGene` g\n",
    "JOIN `{mitel_proj}.{mitel_data}.MolBiolClinAssoc` m\n",
    "  ON m.RefNo = g.RefNo AND m.InvNo = g.InvNo\n",
    "JOIN `{mitel_proj}.{mitel_data}.Koder` k\n",
    "  ON k.Kod = m.Topo AND k.kodTyp = \"TOP\"\n",
    "-- we are only considering gene fusions for Prostate Adenocarcinoma\n",
    "WHERE g.Gene LIKE \"%::%\" AND m.Morph LIKE \"3111\" AND m.Topo LIKE \"0602\"\n",
    "GROUP BY g.Gene, m.Morph, k.Benamning, m.Topo\n",
    "ORDER BY Count DESC\n",
    "LIMIT 10\n",
    "'''\n",
    "\n",
    "#print(fusions_prostate)"
   ]
  },
  {
   "cell_type": "code",
   "execution_count": 17,
   "id": "05bc79b4",
   "metadata": {
    "colab": {
     "base_uri": "https://localhost:8080/"
    },
    "id": "05bc79b4",
    "outputId": "c8c08324-86ba-4472-fef4-cb21836c313c"
   },
   "outputs": [
    {
     "name": "stdout",
     "output_type": "stream",
     "text": [
      "              Gene  Count Morph Benamning  Topo\n",
      "0     TMPRSS2::ERG     52  3111  Prostate  0602\n",
      "1    TMPRSS2::ETV4      5  3111  Prostate  0602\n",
      "2    TMPRSS2::ETV1      5  3111  Prostate  0602\n",
      "3     SLC45A3::ERG      5  3111  Prostate  0602\n",
      "4       NDRG1::ERG      4  3111  Prostate  0602\n",
      "5  OSBPL9::SERINC5      3  3111  Prostate  0602\n",
      "6    SLC45A3::ELK4      3  3111  Prostate  0602\n",
      "7       KLK2::ETV1      3  3111  Prostate  0602\n",
      "8  METTL13::EIF4G3      3  3111  Prostate  0602\n",
      "9      ADGRL2::AK5      3  3111  Prostate  0602\n"
     ]
    }
   ],
   "source": [
    "# run the query and view the top 10 gene fusions\n",
    "top10_prostate = client.query(fusions_prostate).result().to_dataframe()\n",
    "print(top10_prostate)"
   ]
  },
  {
   "cell_type": "code",
   "execution_count": 18,
   "id": "12b927be",
   "metadata": {
    "colab": {
     "base_uri": "https://localhost:8080/"
    },
    "id": "12b927be",
    "outputId": "0c2c7a63-0193-4dee-ec45-9b6ab938b0ad"
   },
   "outputs": [
    {
     "name": "stdout",
     "output_type": "stream",
     "text": [
      "'ADGRL2','KLK2','METTL13','EIF4G3','AK5','OSBPL9','SERINC5','SLC45A3','ELK4','ERG','ETV4','TMPRSS2','ETV1','NDRG1'\n"
     ]
    }
   ],
   "source": [
    "# convert the list of gene fusion pairs into a string containing individual unique gene names\n",
    "genes_list = [x.split(\"::\") for x in top10_prostate['Gene']]\n",
    "genes_set = set(chain.from_iterable(genes_list))\n",
    "genes_str = ','.join(f\"'{gene}'\" for gene in genes_set)\n",
    "\n",
    "print(genes_str)"
   ]
  },
  {
   "cell_type": "markdown",
   "id": "QqWq240Anujw",
   "metadata": {
    "id": "QqWq240Anujw"
   },
   "source": [
    "Using the top 10 fusions for Prostate Adenocarcinoma, we have created a list of 14 individual genes (duplicates removed) to explore in TCGA."
   ]
  },
  {
   "cell_type": "markdown",
   "id": "xfF2tPLjxLcM",
   "metadata": {
    "id": "xfF2tPLjxLcM"
   },
   "source": [
    "## Finding the Genes in TCGA"
   ]
  },
  {
   "cell_type": "markdown",
   "id": "TEVL2KFVxc8E",
   "metadata": {
    "id": "TEVL2KFVxc8E"
   },
   "source": [
    "Now we will explore TCGA to find our list of genes in Prostate Adenocarcinomas. We will first find cases matching our target disease type, then we will create a temporary table containing the gene expression data for these cases."
   ]
  },
  {
   "cell_type": "code",
   "execution_count": 19,
   "id": "P-51FJ2noBc5",
   "metadata": {
    "id": "P-51FJ2noBc5"
   },
   "outputs": [],
   "source": [
    "# query for diseases present in TCGA\n",
    "query_disease = f'''\n",
    "SELECT DISTINCT disease_type\n",
    "FROM `{TCGA_proj}.{TCGA_data}.clinical_gdc_current`\n",
    "'''\n",
    "\n",
    "#print(query_disease)"
   ]
  },
  {
   "cell_type": "code",
   "execution_count": 20,
   "id": "t2sCkxtvoDqS",
   "metadata": {
    "id": "t2sCkxtvoDqS"
   },
   "outputs": [],
   "source": [
    "# query for disease sites in TCGA\n",
    "query_site = f'''\n",
    "SELECT DISTINCT primary_site\n",
    "FROM `{TCGA_proj}.{TCGA_data}.clinical_gdc_current`\n",
    "'''\n",
    "\n",
    "#print(query_site)"
   ]
  },
  {
   "cell_type": "code",
   "execution_count": 21,
   "id": "AiVjAdogokg6",
   "metadata": {
    "colab": {
     "base_uri": "https://localhost:8080/"
    },
    "id": "AiVjAdogokg6",
    "outputId": "98dab529-0677-4de2-cb50-84061427cd7c"
   },
   "outputs": [
    {
     "name": "stdout",
     "output_type": "stream",
     "text": [
      "                                  disease_type\n",
      "0                    Epithelial Neoplasms, NOS\n",
      "1                      Squamous Cell Neoplasms\n",
      "2  Transitional Cell Papillomas and Carcinomas\n",
      "3                 Adenomas and Adenocarcinomas\n",
      "4        Cystic, Mucinous and Serous Neoplasms\n",
      "27\n",
      "                            primary_site\n",
      "0                                Bladder\n",
      "1                                 Breast\n",
      "2                      Bronchus and lung\n",
      "3  Other and unspecified parts of tongue\n",
      "4                                 Larynx\n",
      "53\n"
     ]
    }
   ],
   "source": [
    "# run the queries and view reults\n",
    "TCGA_diseases = client.query(query_disease).result().to_dataframe()\n",
    "print(TCGA_diseases.head())\n",
    "print(len(TCGA_diseases))\n",
    "\n",
    "TCGA_site = client.query(query_site).result().to_dataframe()\n",
    "print(TCGA_site.head())\n",
    "print(len(TCGA_site))"
   ]
  },
  {
   "cell_type": "markdown",
   "id": "Rsonsh3gXSlP",
   "metadata": {
    "id": "Rsonsh3gXSlP"
   },
   "source": [
    "There are 27 disease types and 53 primary sites in TCGA. The following query will select the TCGA entries for Prostate Adenocarcinomas."
   ]
  },
  {
   "cell_type": "code",
   "execution_count": 22,
   "id": "Ks7Puh0xnpC6",
   "metadata": {
    "id": "Ks7Puh0xnpC6"
   },
   "outputs": [],
   "source": [
    "# query to select all Prostate Adenocarcinomas in TCGA\n",
    "query_TCGA = f'''\n",
    "SELECT r.project_short_name,\n",
    "      r.primary_site,\n",
    "      r.gene_name,\n",
    "      p.proj__name,\n",
    "      p.disease_type,\n",
    "      p.diag__primary_gleason_grade\n",
    "FROM `{TCGA_proj}.{TCGA_data}.RNAseq_hg38_gdc_current` r\n",
    "JOIN `{TCGA_proj}.{TCGA_data}.clinical_gdc_current` p\n",
    "  ON r.case_gdc_id = p.case_id\n",
    "--use two critera to find Prostate Adenocarcinomas\n",
    "WHERE p.disease_type = \"Adenomas and Adenocarcinomas\"\n",
    "AND p.primary_site LIKE \"%Prostate gland%\"\n",
    "'''"
   ]
  },
  {
   "cell_type": "code",
   "execution_count": 23,
   "id": "CATsd4JnvbnR",
   "metadata": {
    "colab": {
     "base_uri": "https://localhost:8080/"
    },
    "id": "CATsd4JnvbnR",
    "outputId": "9cd35d89-20fe-4c99-ce03-f317eff0c11b"
   },
   "outputs": [
    {
     "name": "stdout",
     "output_type": "stream",
     "text": [
      "         project_short_name    primary_site   gene_name  \\\n",
      "0                 TCGA-PRAD  Prostate gland   SPATA31D1   \n",
      "1                 TCGA-PRAD  Prostate gland    MIR513A2   \n",
      "2                 TCGA-PRAD  Prostate gland  AL353651.1   \n",
      "3                 TCGA-PRAD  Prostate gland   RNU6-555P   \n",
      "4                 TCGA-PRAD  Prostate gland     MIR548N   \n",
      "...                     ...             ...         ...   \n",
      "32879883          TCGA-PRAD  Prostate gland       PELI2   \n",
      "32879884          TCGA-PRAD  Prostate gland      ZNF503   \n",
      "32879885          TCGA-PRAD  Prostate gland      B4GAT1   \n",
      "32879886          TCGA-PRAD  Prostate gland  AC093849.2   \n",
      "32879887          TCGA-PRAD  Prostate gland       NR2C2   \n",
      "\n",
      "                       proj__name                  disease_type  \\\n",
      "0         Prostate Adenocarcinoma  Adenomas and Adenocarcinomas   \n",
      "1         Prostate Adenocarcinoma  Adenomas and Adenocarcinomas   \n",
      "2         Prostate Adenocarcinoma  Adenomas and Adenocarcinomas   \n",
      "3         Prostate Adenocarcinoma  Adenomas and Adenocarcinomas   \n",
      "4         Prostate Adenocarcinoma  Adenomas and Adenocarcinomas   \n",
      "...                           ...                           ...   \n",
      "32879883  Prostate Adenocarcinoma  Adenomas and Adenocarcinomas   \n",
      "32879884  Prostate Adenocarcinoma  Adenomas and Adenocarcinomas   \n",
      "32879885  Prostate Adenocarcinoma  Adenomas and Adenocarcinomas   \n",
      "32879886  Prostate Adenocarcinoma  Adenomas and Adenocarcinomas   \n",
      "32879887  Prostate Adenocarcinoma  Adenomas and Adenocarcinomas   \n",
      "\n",
      "         diag__primary_gleason_grade  \n",
      "0                          Pattern 5  \n",
      "1                          Pattern 5  \n",
      "2                          Pattern 5  \n",
      "3                          Pattern 5  \n",
      "4                          Pattern 5  \n",
      "...                              ...  \n",
      "32879883                   Pattern 3  \n",
      "32879884                   Pattern 3  \n",
      "32879885                   Pattern 3  \n",
      "32879886                   Pattern 3  \n",
      "32879887                   Pattern 3  \n",
      "\n",
      "[32879888 rows x 6 columns]\n"
     ]
    }
   ],
   "source": [
    "# run the query and view results\n",
    "TCGA_prostate = client.query(query_TCGA).result().to_dataframe()\n",
    "print(TCGA_prostate)"
   ]
  },
  {
   "cell_type": "markdown",
   "id": "_E0IjOy3bsyW",
   "metadata": {
    "id": "_E0IjOy3bsyW"
   },
   "source": [
    "## Create a Dataset to Use With the ML Model"
   ]
  },
  {
   "cell_type": "markdown",
   "id": "raHvxYQbCfCE",
   "metadata": {
    "id": "raHvxYQbCfCE"
   },
   "source": [
    "A temporary table will be used to store the following data: case identifier, gene name, gene expression values, and Primary Gleason Grade. In the final step of this query, we will pivot the table data creating a column for each gene in our target list."
   ]
  },
  {
   "cell_type": "code",
   "execution_count": 25,
   "id": "xwni_6LCnFNR",
   "metadata": {
    "colab": {
     "base_uri": "https://localhost:8080/"
    },
    "id": "xwni_6LCnFNR",
    "outputId": "1b4532bd-9859-46d6-c934-558b297d7d70"
   },
   "outputs": [
    {
     "name": "stdout",
     "output_type": "stream",
     "text": [
      "\n",
      "CREATE OR REPLACE TABLE `isb-project-zero.jaw_scratch.tmp_data` AS\n",
      "  SELECT * FROM(\n",
      "    SELECT\n",
      "      seq.case_barcode,\n",
      "      seq.gene_name,\n",
      "      seq.fpkm_uq_unstranded,\n",
      "      --assign Primary Gleason Grade to an appropriate integer\n",
      "      CASE clin.diag__primary_gleason_grade\n",
      "        WHEN \"Pattern 1\" THEN 1\n",
      "        WHEN \"Pattern 2\" THEN 2\n",
      "        WHEN \"Pattern 3\" THEN 3\n",
      "        WHEN \"Pattern 4\" THEN 4\n",
      "        WHEN \"Pattern 5\" THEN 5\n",
      "      END AS primary_gleason_grade\n",
      "    FROM `isb-cgc-bq.TCGA.RNAseq_hg38_gdc_current` seq\n",
      "    JOIN `isb-cgc-bq.TCGA.clinical_gdc_current` clin\n",
      "      ON seq.case_gdc_id = clin.case_id\n",
      "    WHERE clin.disease_type = \"Adenomas and Adenocarcinomas\"\n",
      "    AND clin.primary_site LIKE \"%Prostate gland%\")\n",
      "  --transform genes from rows to columns using pivot\n",
      "  PIVOT(MAX(fpkm_uq_unstranded) for gene_name IN ('ADGRL2','KLK2','METTL13','EIF4G3','AK5','OSBPL9','SERINC5','SLC45A3','ELK4','ERG','ETV4','TMPRSS2','ETV1','NDRG1'))\n",
      "\n"
     ]
    }
   ],
   "source": [
    "# query to create a temporary table for use with the ML model\n",
    "create_tmp_table = f'''\n",
    "CREATE OR REPLACE TABLE `{ML_project}.{ML_data}.tmp_data` AS\n",
    "  SELECT * FROM(\n",
    "    SELECT\n",
    "      seq.case_barcode,\n",
    "      seq.gene_name,\n",
    "      seq.fpkm_uq_unstranded,\n",
    "      --assign Primary Gleason Grade to an appropriate integer\n",
    "      CASE clin.diag__primary_gleason_grade\n",
    "        WHEN \"Pattern 1\" THEN 1\n",
    "        WHEN \"Pattern 2\" THEN 2\n",
    "        WHEN \"Pattern 3\" THEN 3\n",
    "        WHEN \"Pattern 4\" THEN 4\n",
    "        WHEN \"Pattern 5\" THEN 5\n",
    "      END AS primary_gleason_grade\n",
    "    FROM `{TCGA_proj}.{TCGA_data}.RNAseq_hg38_gdc_current` seq\n",
    "    JOIN `{TCGA_proj}.{TCGA_data}.clinical_gdc_current` clin\n",
    "      ON seq.case_gdc_id = clin.case_id\n",
    "    WHERE clin.disease_type = \"Adenomas and Adenocarcinomas\"\n",
    "    AND clin.primary_site LIKE \"%Prostate gland%\")\n",
    "  --transform genes from rows to columns using pivot\n",
    "  PIVOT(MAX(fpkm_uq_unstranded) for gene_name IN ({genes_str}))\n",
    "'''\n",
    "print(create_tmp_table)"
   ]
  },
  {
   "cell_type": "code",
   "execution_count": 26,
   "id": "X6-Hbtj2oLn8",
   "metadata": {
    "id": "X6-Hbtj2oLn8"
   },
   "outputs": [],
   "source": [
    "# Run the query. This will create a table in the assigned Google project.\n",
    "tmp_data = model_client.query(create_tmp_table).result().to_dataframe()"
   ]
  },
  {
   "cell_type": "code",
   "execution_count": 27,
   "id": "-IWdv9KwzIlA",
   "metadata": {
    "colab": {
     "base_uri": "https://localhost:8080/"
    },
    "id": "-IWdv9KwzIlA",
    "outputId": "9f9b9308-4466-4e86-a455-60f2626e9a30"
   },
   "outputs": [
    {
     "name": "stdout",
     "output_type": "stream",
     "text": [
      "   case_barcode  primary_gleason_grade  ADGRL2       KLK2  METTL13   EIF4G3  \\\n",
      "0  TCGA-CH-5768                      2  5.2915  1072.6219      NaN  11.4251   \n",
      "1  TCGA-EJ-A8FS                      3  9.3794  1668.2887      NaN   6.1459   \n",
      "2  TCGA-EJ-5530                      3  2.2175   993.2580      NaN  13.8915   \n",
      "3  TCGA-G9-7522                      3  3.3433  1326.8446      NaN  10.5922   \n",
      "4  TCGA-EJ-5521                      3  1.1209   658.5750      NaN   6.9813   \n",
      "5  TCGA-EJ-A65G                      3  3.6313  2231.2988      NaN   6.6757   \n",
      "6  TCGA-CH-5750                      3  1.4553   892.1933      NaN  13.1353   \n",
      "7  TCGA-EJ-7218                      3  5.1444  1788.2251      NaN   7.0529   \n",
      "8  TCGA-HC-7078                      3  2.5207  1341.2227      NaN   7.7551   \n",
      "9  TCGA-G9-6342                      3  4.1380  1210.9527      NaN   9.5337   \n",
      "\n",
      "       AK5   OSBPL9   SERINC5    SLC45A3     ELK4      ERG    ETV4   TMPRSS2  \\\n",
      "0   0.7413  12.3321   50.5366   672.1192  19.8230  67.8280  0.6193  246.7231   \n",
      "1   0.2428  11.6196   63.9021  1030.9050   9.6087   0.4642  0.3555  190.7544   \n",
      "2   1.3284  14.0654   87.9473   623.5690  11.2745  74.8231  0.4796   99.8656   \n",
      "3   1.0828  14.5263   47.9409   516.7458  11.2568  23.3474  0.4174  349.6109   \n",
      "4   3.5642  11.9013  100.9162   257.0890   7.8710  43.0140  0.4643  190.6110   \n",
      "5   0.3228  10.4701   22.1932  1024.0062  22.6332   0.6199  0.3267  485.1877   \n",
      "6   3.0381   9.2789   29.1009   508.0903  10.9648   1.1515  0.2201  278.5387   \n",
      "7  12.1284  12.6079   31.2061   970.3955  16.8971   0.7942  0.2737  479.3177   \n",
      "8   8.4328   9.3855   32.8305  1215.9392  15.0584   2.3200  0.5331  336.9265   \n",
      "9   2.2227  12.7606   73.0069   874.7243  10.8982  71.2345  0.8364  286.3089   \n",
      "\n",
      "      ETV1     NDRG1  \n",
      "0   1.1543  153.2677  \n",
      "1   0.2556   56.3703  \n",
      "2   0.5906  248.4533  \n",
      "3   0.5760  317.0031  \n",
      "4   0.6450  155.5262  \n",
      "5   0.5749   43.5408  \n",
      "6  52.2705   91.9657  \n",
      "7   0.3123   46.8828  \n",
      "8   0.8230   61.0022  \n",
      "9   0.9985  206.8660  \n"
     ]
    }
   ],
   "source": [
    "# query to retrieve data from the new table\n",
    "query_tmp = f'''\n",
    "  SELECT *\n",
    "  FROM `{ML_project}.{ML_data}.tmp_data`\n",
    "  LIMIT 10\n",
    "'''\n",
    "\n",
    "# run the query and view results\n",
    "tmp_table = client.query(query_tmp).result().to_dataframe()\n",
    "print(tmp_table)"
   ]
  },
  {
   "cell_type": "markdown",
   "id": "xvzLdi_HDSUO",
   "metadata": {
    "id": "xvzLdi_HDSUO"
   },
   "source": [
    "## Create a Machine Learning Model"
   ]
  },
  {
   "cell_type": "markdown",
   "id": "H_azSN_wDmGt",
   "metadata": {
    "id": "H_azSN_wDmGt"
   },
   "source": [
    "Using our list of relevant Prostate Adenocarcinoma genes, we will create a random forest classifier to predict the Primary Gleason Grade from the gene expression data of our target genes."
   ]
  },
  {
   "cell_type": "code",
   "execution_count": 28,
   "id": "xiV_YdCjuSdS",
   "metadata": {
    "id": "xiV_YdCjuSdS"
   },
   "outputs": [],
   "source": [
    "# query to build a random forest classifier model\n",
    "tree_model_query = f'''\n",
    "CREATE OR REPLACE MODEL\n",
    "  `{ML_project}.{ML_data}.treemodel`\n",
    "OPTIONS\n",
    "  ( MODEL_TYPE='RANDOM_FOREST_CLASSIFIER',\n",
    "    NUM_PARALLEL_TREE=HPARAM_RANGE(50,100),\n",
    "    TREE_METHOD='HIST',\n",
    "    --split the data randomly into 10% eval, 10% test, and 80% train\n",
    "    DATA_SPLIT_METHOD='RANDOM',\n",
    "    DATA_SPLIT_EVAL_FRACTION=0.1,\n",
    "    DATA_SPLIT_TEST_FRACTION=0.1,\n",
    "    NUM_TRIALS=3,\n",
    "    INPUT_LABEL_COLS=['primary_gleason_grade'])\n",
    "--ignore case identifier and NULL column\n",
    "AS SELECT * EXCEPT(case_barcode, METTL13)\n",
    "FROM\n",
    "  `isb-project-zero.jaw_scratch.tmp_data`\n",
    "'''\n",
    "\n",
    "#print(tree_model)"
   ]
  },
  {
   "cell_type": "code",
   "execution_count": 29,
   "id": "OJH8MmXjva3L",
   "metadata": {
    "id": "OJH8MmXjva3L"
   },
   "outputs": [],
   "source": [
    "# Run the query. This will store the new model in the Google project.\n",
    "# NOTE this query may take several minutes to complete.\n",
    "tree_model = model_client.query(tree_model_query).result()"
   ]
  },
  {
   "cell_type": "markdown",
   "id": "wXnDa222W-ss",
   "metadata": {
    "id": "wXnDa222W-ss"
   },
   "source": [
    "## Evaluate Model Results"
   ]
  },
  {
   "cell_type": "code",
   "execution_count": 30,
   "id": "3JILfBIKWsOb",
   "metadata": {
    "colab": {
     "base_uri": "https://localhost:8080/"
    },
    "id": "3JILfBIKWsOb",
    "outputId": "d86584d6-5631-4f54-8b60-04b346827a29"
   },
   "outputs": [
    {
     "name": "stdout",
     "output_type": "stream",
     "text": [
      "   trial_id  precision    recall  accuracy  f1_score  log_loss   roc_auc\n",
      "0         1   0.563299  0.570513  0.658537  0.563333  0.857873  0.585271\n",
      "1         2   0.572917  0.579772  0.682927  0.574206  0.878688  0.579178\n",
      "2         3   0.563299  0.570513  0.658537  0.563333  0.874047  0.573914\n",
      "\n",
      "   trial_id expected_label  _2  _3  _4  _5\n",
      "0         1              3   0   8   5   0\n",
      "1         1              4   0   9  18   0\n",
      "2         1              5   0   0   0   1\n",
      "3         2              3   0   8   5   0\n",
      "4         2              4   0   8  19   0\n",
      "5         2              5   0   0   0   1\n",
      "6         3              3   0   8   5   0\n",
      "7         3              4   0   9  18   0\n",
      "8         3              5   0   0   0   1\n"
     ]
    }
   ],
   "source": [
    "# query to evaluate model performance\n",
    "eval_query = f'''\n",
    "SELECT * FROM\n",
    "  ML.EVALUATE(MODEL `{ML_project}.{ML_data}.treemodel`)\n",
    "'''\n",
    "\n",
    "# query for creating a confusion matrix\n",
    "matrix_query = f'''\n",
    "SELECT * FROM\n",
    "  ML.CONFUSION_MATRIX(MODEL `{ML_project}.{ML_data}.treemodel`)\n",
    "'''\n",
    "\n",
    "# Run the queries and view results\n",
    "model_eval = model_client.query(eval_query).result().to_dataframe()\n",
    "model_matrix = model_client.query(matrix_query).result().to_dataframe()\n",
    "\n",
    "print(model_eval)\n",
    "print()\n",
    "print(model_matrix)"
   ]
  },
  {
   "cell_type": "code",
   "execution_count": 33,
   "id": "jatfZsvCV9Tr",
   "metadata": {
    "colab": {
     "base_uri": "https://localhost:8080/"
    },
    "id": "jatfZsvCV9Tr",
    "outputId": "346ca376-eaca-4120-885d-4a3a315af253"
   },
   "outputs": [
    {
     "name": "stdout",
     "output_type": "stream",
     "text": [
      "    trial_id  feature  importance_weight  importance_gain  importance_cover\n",
      "0          2   ADGRL2               1215         1.343176          8.023765\n",
      "1          2     KLK2               1211         2.718324         28.955822\n",
      "2          2   EIF4G3                917         2.185574         14.605371\n",
      "3          2      AK5                813         3.643522         31.522601\n",
      "4          2   OSBPL9                759         3.141703         23.775692\n",
      "5          2  SERINC5                720         2.093802         17.324479\n",
      "6          2  SLC45A3                847         3.015137         28.898465\n",
      "7          2     ELK4                493         2.194588         13.797414\n",
      "8          2      ERG                487         2.270508         15.591376\n",
      "9          2     ETV4                614         2.762124         25.954397\n",
      "10         2  TMPRSS2                448         2.195464         20.612444\n",
      "11         2     ETV1                440         2.103295         21.581250\n",
      "12         2    NDRG1                538         2.446976         23.072258\n"
     ]
    }
   ],
   "source": [
    "# query for feature importance in the model\n",
    "feature_importance_query = f'''\n",
    "SELECT * FROM\n",
    "  ML.FEATURE_IMPORTANCE(MODEL `{ML_project}.{ML_data}.treemodel`)\n",
    "'''\n",
    "\n",
    "# run the query and view results\n",
    "model_features = model_client.query(feature_importance_query).result().to_dataframe()\n",
    "print(model_features)"
   ]
  },
  {
   "cell_type": "markdown",
   "id": "vYz9efR8D27Q",
   "metadata": {
    "id": "vYz9efR8D27Q"
   },
   "source": [
    "## Conclusion"
   ]
  },
  {
   "cell_type": "markdown",
   "id": "o3wQEWd6g3Ju",
   "metadata": {
    "id": "o3wQEWd6g3Ju"
   },
   "source": [
    "The extensive number of gene fusions in the Mitelman database has allowed us to curate a list of common fusions specific to Prostate Adenocarcinoma. Using these genes, we were easily able to create a random forest classifier in BigQuery that achieved an accuracy of 68% in predicting the Primary Gleason Grade using gene expression data from TCGA. Further experiments can be used to improve this accuracy by incorporating more genes or other features. In this notebook we have demonstrated the usability of the Mitelman and TCGA databases, as well as the ease of creating machine learning models in BigQuery."
   ]
  }
 ],
 "metadata": {
  "colab": {
   "provenance": []
  },
  "kernelspec": {
   "display_name": "Python 3 (ipykernel)",
   "language": "python",
   "name": "python3"
  },
  "language_info": {
   "codemirror_mode": {
    "name": "ipython",
    "version": 3
   },
   "file_extension": ".py",
   "mimetype": "text/x-python",
   "name": "python",
   "nbconvert_exporter": "python",
   "pygments_lexer": "ipython3",
   "version": "3.9.6"
  }
 },
 "nbformat": 4,
 "nbformat_minor": 5
}
