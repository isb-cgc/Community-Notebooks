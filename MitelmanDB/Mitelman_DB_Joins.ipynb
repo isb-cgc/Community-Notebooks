{
  "nbformat": 4,
  "nbformat_minor": 0,
  "metadata": {
    "colab": {
      "provenance": []
    },
    "kernelspec": {
      "name": "python3",
      "display_name": "Python 3"
    },
    "language_info": {
      "name": "python"
    }
  },
  "cells": [
    {
      "cell_type": "markdown",
      "source": [
        "<a href=\"https://colab.research.google.com/github/isb-cgc/Community-Notebooks/blob/jacob-dev/MitelmanDB/Mitelman_DB_Joins.ipynb\" target=\"_parent\"><img src=\"https://colab.research.google.com/assets/colab-badge.svg\" alt=\"Open In Colab\"/></a>"
      ],
      "metadata": {
        "id": "BwibyG38AbZb"
      }
    },
    {
      "cell_type": "markdown",
      "source": [
        "# Performing Complex Queries in the Mitelman Database Using Joins\n",
        "\n",
        "Check out other notebooks at our [Community Notebooks Repository](https://github.com/isb-cgc/Community-Notebooks)!\n",
        "\n",
        "- Title: Performing Complex Queries in the Mitelman Database Using Joins\n",
        "- Author: Jacob Wilson\n",
        "- Created: 2025-01-01\n",
        "- URL: https://github.com/isb-cgc/Community-Notebooks/blob/jacob-dev/MitelmanDB/Mitelman_DB_Joins.ipynb\n",
        "- Purpose: Extend our capabilities in obtaining data in the Mitelman Datbase BigQuery tables by performing table joins.\n",
        "<br/>\n",
        "\n",
        "In this notebook, we will use SQL joins to combine BigQuery tables in the Mitelman Database. This will allow for us to perform more complex operations for obtaining and aggregating our data."
      ],
      "metadata": {
        "id": "ktfR1PXLAn0g"
      }
    },
    {
      "cell_type": "markdown",
      "source": [
        "## Background on SQL Joins\n",
        "In a previous notebook we demonstrated how to find basic information in the Mitelman Database BigQuery tables by using SQL. Those examples were limited to finding data in a single table. We will now demonstrate the SQL join clause, which can be used to join data across multiple tables based on a related column. There are various types of joins and their use also depends on your system, but they mostly follow the same principles.\n",
        "\n",
        "The general syntax of a join is:\n",
        "\n",
        "    SELECT a.column1, b.column2\n",
        "    FROM table a\n",
        "    JOIN table b\n",
        "    ON a.id = b.id\n",
        "\n",
        "Multilpe types of joins are available which return differing combined tables:\n",
        "\n",
        "- INNER JOIN: all rows that meet the conditions of the join\n",
        "- RIGHT OUTER JOIN: all rows from the right side of the join with matched rows from the left\n",
        "- LEFT OUTER JOIN: all rows from the left side of the join with matched rows from the right\n",
        "- FULL OUTER JOIN: all rows from both tables, rows are combined when the join criteria matches\n",
        "- CROSS JOIN: all rows from both tables as a Cartesian product (all possible row combinations)\n",
        "\n",
        "See more about using joins:\n",
        "\n",
        "https://cloud.google.com/bigquery/docs/reference/standard-sql/query-syntax\n",
        "https://cloud.google.com/blog/topics/developers-practitioners/bigquery-explained-working-joins-nested-repeated-data\n"
      ],
      "metadata": {
        "id": "tnMbF1uyBK1Z"
      }
    },
    {
      "cell_type": "markdown",
      "source": [
        "## Initialize Notebook Environment\n",
        "\n",
        "Before beginning, we first need to load dependencies and authenticate to BigQuery."
      ],
      "metadata": {
        "id": "A8BTTrm_Bbct"
      }
    },
    {
      "cell_type": "markdown",
      "source": [
        "## Install Dependencies"
      ],
      "metadata": {
        "id": "UjPvGzFXBe0T"
      }
    },
    {
      "cell_type": "code",
      "source": [
        "# GCP libraries\n",
        "from google.cloud import bigquery\n",
        "from google.colab import auth"
      ],
      "metadata": {
        "id": "8HHJQbZOBfnG"
      },
      "execution_count": 1,
      "outputs": []
    },
    {
      "cell_type": "markdown",
      "source": [
        "## Authenticate\n",
        "\n",
        "In order to utilize BigQuery, we must obtain authorization to BigQuery and Google Cloud."
      ],
      "metadata": {
        "id": "00Z7SjnQBjUj"
      }
    },
    {
      "cell_type": "code",
      "source": [
        "# if you're using Google Colab, authenticate to gcloud with the following\n",
        "auth.authenticate_user()\n",
        "\n",
        "# alternatively, use the gcloud SDK\n",
        "#!gcloud auth application-default login"
      ],
      "metadata": {
        "id": "skq467l8AgK5"
      },
      "execution_count": 2,
      "outputs": []
    },
    {
      "cell_type": "markdown",
      "source": [
        "## Google project ID\n",
        "\n",
        "Set your own Google project ID for use with this notebook."
      ],
      "metadata": {
        "id": "x6CR3xQ7Bn66"
      }
    },
    {
      "cell_type": "code",
      "source": [
        "# set the google project that will be billed for this notebook's computations\n",
        "google_project = 'your_project_id'  ## change this"
      ],
      "metadata": {
        "id": "ptO4UggUBoc7"
      },
      "execution_count": 3,
      "outputs": []
    },
    {
      "cell_type": "markdown",
      "source": [
        "## BigQuery Client"
      ],
      "metadata": {
        "id": "VPxQdJIXBrLv"
      }
    },
    {
      "cell_type": "code",
      "source": [
        "# Initialize a client to access the data within BigQuery\n",
        "if google_project == 'your_project_id':\n",
        "    print('Please update the project ID with your Google Cloud Project')\n",
        "else:\n",
        "    client = bigquery.Client(google_project)\n",
        "\n",
        "# set the Mitelman Database project\n",
        "bq_project = 'mitelman-db'\n",
        "bq_dataset = 'prod'"
      ],
      "metadata": {
        "id": "SeyDrjadBtsM"
      },
      "execution_count": 4,
      "outputs": []
    },
    {
      "cell_type": "markdown",
      "source": [
        "## Simple Join Examples\n",
        "\n",
        "Using joins requires having entries in the individual tables that can be matched by a unique identifier. In the Mitelman database, that identifier is often the RefNo (Reference Number), CaseNo (Case Number), and InvNo (Investigation Number). The examples below will use the RefNo to return matching data from two tables."
      ],
      "metadata": {
        "id": "vdNu-fsELPya"
      }
    },
    {
      "cell_type": "code",
      "source": [
        "# Performing a left join will include all rows from the left-side table\n",
        "# (Reference table in this example). The result of the query below will be a\n",
        "# table containing a matching PubMed ID or Name for every title. If a PubMed\n",
        "# ID or name is missing, NULL will be entered into the field\n",
        "left_join_example = f'''SELECT r.titleShort, r.Pubmed, a.Name\n",
        "FROM `{bq_project}.{bq_dataset}.Reference` r\n",
        "LEFT JOIN `{bq_project}.{bq_dataset}.AuthorReference` a\n",
        "ON r.RefNo = a.RefNo'''\n",
        "\n",
        "# If we use this same example as a right join, all rows from the right-side\n",
        "# table (AuthorReference in this example) will be included. In this case, every\n",
        "# name will be included and missing titles or PubMed ID's will be indicated\n",
        "# with NULL.\n",
        "right_join_example = f'''SELECT a. Name, r.titleShort, r.Pubmed\n",
        "FROM `{bq_project}.{bq_dataset}.Reference` r\n",
        "RIGHT JOIN `{bq_project}.{bq_dataset}.AuthorReference` a\n",
        "ON r.RefNo = a.RefNo'''"
      ],
      "metadata": {
        "id": "0bOdiclyLQJz"
      },
      "execution_count": 5,
      "outputs": []
    },
    {
      "cell_type": "code",
      "source": [
        "df_left_join = client.query(left_join_example).result().to_dataframe()\n",
        "df_right_join = client.query(right_join_example).result().to_dataframe()"
      ],
      "metadata": {
        "id": "0Gmuf0w55pZH"
      },
      "execution_count": 6,
      "outputs": []
    },
    {
      "cell_type": "code",
      "source": [
        "print(df_left_join.head())\n",
        "print(df_right_join.head())"
      ],
      "metadata": {
        "colab": {
          "base_uri": "https://localhost:8080/"
        },
        "collapsed": true,
        "id": "EEXA4HXq8pDv",
        "outputId": "6a94f6e3-7f6c-4623-cae5-1dd474fde1f8"
      },
      "execution_count": 12,
      "outputs": [
        {
          "output_type": "stream",
          "name": "stdout",
          "text": [
            "           name                                         titleShort   Pubmed\n",
            "0   Hellstrom K  An extra C chromosome and various metabolic ab...  5134476\n",
            "1  Hagenfeldt L  An extra C chromosome and various metabolic ab...  5134476\n",
            "2     Larsson A  An extra C chromosome and various metabolic ab...  5134476\n",
            "3    Lindsten J  An extra C chromosome and various metabolic ab...  5134476\n",
            "4    Sundelin P  An extra C chromosome and various metabolic ab...  5134476\n",
            "           name                                         titleShort   Pubmed\n",
            "0      Hayata I  Another translocation related to the Ph1 chrom...    48930\n",
            "1      Muldal S  A new translocation associated with the Ph1 ch...  1057443\n",
            "2      Hayata I  A new translocation related to the Philadelphi...  4128072\n",
            "3    Mitelman F  Heterogeneity of Ph1 in chronic myeloid leukae...  4135826\n",
            "4  Shah-Reddy I  Sézary syndrome with a 14:14(q12:q31) transloc...  7053821\n"
          ]
        }
      ]
    },
    {
      "cell_type": "markdown",
      "source": [
        "## More Complex Joins"
      ],
      "metadata": {
        "id": "jOrTaSn55oKP"
      }
    },
    {
      "cell_type": "code",
      "source": [
        "# Fields such as morphology, topography, and country are identified in the\n",
        "# Mitelman database using unique codes. To obtain the full names of these\n",
        "# features, you can join to the Koder table as demonstrated in these\n",
        "# examples. The following examples use JOIN, which is the same as INNER JOIN.\n",
        "morph = f'''SELECT m.Morph AS Morph_Code, k.Benamning AS Morph_Name\n",
        "FROM `{bq_project}.{bq_dataset}.MolBiolClinAssoc` m\n",
        "JOIN `{bq_project}.{bq_dataset}.Koder` k\n",
        "  ON k.Kod = m.Morph AND k.kodTyp = \"MORPH\"\n",
        "GROUP BY m.Morph, k.Benamning\n",
        "ORDER BY k.Benamning ASC'''\n",
        "\n",
        "topo = f'''SELECT m.Topo AS Topo_Code, k.Benamning AS Topo_Name\n",
        "FROM `{bq_project}.{bq_dataset}.MolBiolClinAssoc` m\n",
        "JOIN `{bq_project}.{bq_dataset}.Koder` k\n",
        "  ON k.Kod = m.Topo AND k.kodTyp = \"TOP\"\n",
        "GROUP BY m.Topo, k.Benamning\n",
        "ORDER BY k.Benamning ASC'''\n",
        "\n",
        "country = f'''SELECT c.Country AS Country_Code, k.Benamning AS Country_Name\n",
        "FROM `{bq_project}.{bq_dataset}.Cytogen` c\n",
        "JOIN `{bq_project}.{bq_dataset}.Koder` k\n",
        "  ON k.Kod = c.Country AND k.kodTyp = \"GEO\"\n",
        "GROUP BY c.Country, k.Benamning\n",
        "ORDER BY k.Benamning ASC'''\n",
        "\n",
        "# By joining tables and using other SQL features, you can perform more\n",
        "# complex queries such as finding the ten most common gene fusions for\n",
        "# prostate adenocarcinoma as demonstrated here.\n",
        "fusions_prostate = f'''\n",
        "SELECT g.Gene, count(g.Gene) AS Count, m.Morph, k.Benamning, m.Topo\n",
        "FROM `{bq_project}.{bq_dataset}.MolClinGene` g\n",
        "JOIN `{bq_project}.{bq_dataset}.MolBiolClinAssoc` m\n",
        "  ON m.RefNo = g.RefNo AND m.InvNo = g.InvNo\n",
        "JOIN `{bq_project}.{bq_dataset}.Koder` k\n",
        "  ON k.Kod = m.Topo AND k.kodTyp = \"TOP\"\n",
        "-- we are only considering gene fusions for Prostate adenocarcinoma\n",
        "WHERE g.Gene LIKE \"%::%\" AND m.Morph LIKE \"3111\" AND m.Topo LIKE \"0602\"\n",
        "GROUP BY g.Gene, m.Morph, k.Benamning, m.Topo\n",
        "ORDER BY Count DESC\n",
        "LIMIT 10\n",
        "'''"
      ],
      "metadata": {
        "id": "CxOoyXzxB6Fq"
      },
      "execution_count": 8,
      "outputs": []
    },
    {
      "cell_type": "code",
      "source": [
        "df_morph = client.query(morph).result().to_dataframe()\n",
        "df_topo = client.query(topo).result().to_dataframe()\n",
        "df_country = client.query(country).result().to_dataframe()\n",
        "df_fusions_prostate = client.query(fusions_prostate).result().to_dataframe()"
      ],
      "metadata": {
        "id": "7cJ_KaINjkfM"
      },
      "execution_count": 9,
      "outputs": []
    },
    {
      "cell_type": "code",
      "source": [
        "print(df_morph.head())\n",
        "print(df_topo.head())\n",
        "print(df_country.head())\n",
        "print(df_fusions_prostate.head())"
      ],
      "metadata": {
        "colab": {
          "base_uri": "https://localhost:8080/"
        },
        "id": "-h9qQz6agyzF",
        "outputId": "9b8e2059-3bc1-46a9-eaf2-52cdbdba9651",
        "collapsed": true
      },
      "execution_count": 11,
      "outputs": [
        {
          "output_type": "stream",
          "name": "stdout",
          "text": [
            "  Morph_Code                                         Morph_Name\n",
            "0       3117                              Acinic cell carcinoma\n",
            "1       1115                          Acute basophilic leukemia\n",
            "2       1117                        Acute eosinophilic leukemia\n",
            "3       1112                Acute erythroleukemia (FAB type M6)\n",
            "4       1602  Acute lymphoblastic leukemia/lymphoblastic lym...\n",
            "  Topo_Code   Topo_Name\n",
            "0      0703     Adrenal\n",
            "1      0230        Anus\n",
            "2      0305     Bladder\n",
            "3      0801       Brain\n",
            "4      0806  Brain stem\n",
            "  Country_Code   Country_Name\n",
            "0         4003    Afghanistan\n",
            "1         1000  Africa unspec\n",
            "2         1010        Algeria\n",
            "3         2010      Argentina\n",
            "4         4005        Armenia\n",
            "            Gene  Count Morph Benamning  Topo\n",
            "0   TMPRSS2::ERG     52  3111  Prostate  0602\n",
            "1  TMPRSS2::ETV1      5  3111  Prostate  0602\n",
            "2   SLC45A3::ERG      5  3111  Prostate  0602\n",
            "3  TMPRSS2::ETV4      5  3111  Prostate  0602\n",
            "4     NDRG1::ERG      4  3111  Prostate  0602\n"
          ]
        }
      ]
    },
    {
      "cell_type": "markdown",
      "source": [
        "## Conclusion\n",
        "\n",
        "Modern databases are often complex, so joins are likely to be one of the most common SQL functions that you will be using. As you create more complex SQL queries, you may find it useful to store the results as a table. See the BigQuery Views notebook to learn more about that."
      ],
      "metadata": {
        "id": "ApN0SMKbB8wM"
      }
    }
  ]
}
