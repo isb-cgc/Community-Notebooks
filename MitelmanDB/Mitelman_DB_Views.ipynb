{
  "nbformat": 4,
  "nbformat_minor": 0,
  "metadata": {
    "colab": {
      "provenance": []
    },
    "kernelspec": {
      "name": "python3",
      "display_name": "Python 3"
    },
    "language_info": {
      "name": "python"
    }
  },
  "cells": [
    {
      "cell_type": "markdown",
      "source": [
        "<a href=\"https://colab.research.google.com/github/isb-cgc/Community-Notebooks/blob/master/MitelmanDB/Mitelman_DB_Views.ipynb\" target=\"_parent\"><img src=\"https://colab.research.google.com/assets/colab-badge.svg\" alt=\"Open In Colab\"/></a>"
      ],
      "metadata": {
        "id": "BwibyG38AbZb"
      }
    },
    {
      "cell_type": "markdown",
      "source": [
        "# Using BigQuery Views in the Mitelman Database BigQuery Tables\n",
        "\n",
        "Check out other notebooks at our [Community Notebooks Repository](https://github.com/isb-cgc/Community-Notebooks)!\n",
        "\n",
        "- Title: Using BigQuery Views in the Mitelman Database BigQuery Tables\n",
        "- Author: Jacob Wilson\n",
        "- Created: 2025-02-26\n",
        "- URL: https://github.com/isb-cgc/Community-Notebooks/blob/master/MitelmanDB/Mitelman_DB_Views.ipynb\n",
        "- Purpose: Extend our capabilities in obtaining data in the Mitelman Datbase BigQuery tables by performing table joins.\n",
        "<br/>\n",
        "\n",
        "In this notebook, we will take what we learned in previous notebooks about finding information in the database and put them to use in storable queries called Views."
      ],
      "metadata": {
        "id": "ktfR1PXLAn0g"
      }
    },
    {
      "cell_type": "markdown",
      "source": [
        "## Background on BigQuery Views\n",
        "In previous notebooks we demonstrated how to find information in the Mitelman Database BigQuery tables by using SQL and joins. These queries give us the power to gather information from complex databases. One extension of this abilty is to utilize views in BigQuery. A view is a virtual table of data that is generated from a user-defined SQL query. This gives you the option to store a complex query and access the result of that query as if it were its own unique data table.\n",
        "\n",
        "See more about BigQuery views from Google: https://cloud.google.com/bigquery/docs/views-intro"
      ],
      "metadata": {
        "id": "tnMbF1uyBK1Z"
      }
    },
    {
      "cell_type": "markdown",
      "source": [
        "## Initialize Notebook Environment\n",
        "\n",
        "Before beginning, we first need to load dependencies and authenticate to BigQuery."
      ],
      "metadata": {
        "id": "A8BTTrm_Bbct"
      }
    },
    {
      "cell_type": "markdown",
      "source": [
        "## Install Dependencies"
      ],
      "metadata": {
        "id": "UjPvGzFXBe0T"
      }
    },
    {
      "cell_type": "code",
      "source": [
        "# GCP libraries\n",
        "from google.cloud import bigquery\n",
        "from google.colab import auth"
      ],
      "metadata": {
        "id": "8HHJQbZOBfnG"
      },
      "execution_count": 1,
      "outputs": []
    },
    {
      "cell_type": "markdown",
      "source": [
        "## Authenticate\n",
        "\n",
        "In order to utilize BigQuery, we must obtain authorization to BigQuery and Google Cloud."
      ],
      "metadata": {
        "id": "00Z7SjnQBjUj"
      }
    },
    {
      "cell_type": "code",
      "source": [
        "# if you're using Google Colab, authenticate to gcloud with the following\n",
        "auth.authenticate_user()\n",
        "\n",
        "# alternatively, use the gcloud SDK\n",
        "#!gcloud auth application-default login"
      ],
      "metadata": {
        "id": "skq467l8AgK5"
      },
      "execution_count": 2,
      "outputs": []
    },
    {
      "cell_type": "markdown",
      "source": [
        "## Google project ID\n",
        "\n",
        "Set your own Google project ID for use with this notebook."
      ],
      "metadata": {
        "id": "x6CR3xQ7Bn66"
      }
    },
    {
      "cell_type": "code",
      "source": [
        "# set the google project that will be billed for this notebook's computations\n",
        "google_project = 'your_project_id'  ## change this"
      ],
      "metadata": {
        "id": "ptO4UggUBoc7"
      },
      "execution_count": 3,
      "outputs": []
    },
    {
      "cell_type": "markdown",
      "source": [
        "## BigQuery Client"
      ],
      "metadata": {
        "id": "VPxQdJIXBrLv"
      }
    },
    {
      "cell_type": "code",
      "source": [
        "# Initialize a client to access the data within BigQuery\n",
        "if google_project == 'your_project_id':\n",
        "    print('Please update the project ID with your Google Cloud Project')\n",
        "else:\n",
        "    client = bigquery.Client(google_project)\n",
        "\n",
        "# set the project and dataset that will contain the newly created view\n",
        "bq_project = ''\n",
        "bq_dataset = ''\n",
        "\n",
        "# set the Mitelman Database project\n",
        "mitelman_project = 'mitelman-db'\n",
        "mitelman_dataset = 'prod'"
      ],
      "metadata": {
        "id": "SeyDrjadBtsM"
      },
      "execution_count": 7,
      "outputs": []
    },
    {
      "cell_type": "markdown",
      "source": [
        "# Creating a BigQuery View"
      ],
      "metadata": {
        "id": "AgJCwID4B5kR"
      }
    },
    {
      "cell_type": "code",
      "source": [
        "# give a named location for the view\n",
        "view_name = f'''{bq_project}.{bq_dataset}.ALL_BCR_cases'''\n",
        "view = bigquery.Table(view_name)\n",
        "\n",
        "# The following query will return a table that includes the PubMed ID and\n",
        "# publication title for all cases having BCR gene fusions and ALL morphology.\n",
        "view.view_query = f'''\n",
        "WITH TargetCases AS (\n",
        "  SELECT g.RefNo\n",
        "  FROM `{mitelman_project}.{mitelman_dataset}.MolClinGene` g\n",
        "  WHERE g.Gene LIKE \"BCR\"\n",
        ")\n",
        "SELECT DISTINCT\n",
        "  r.Pubmed,\n",
        "  r.titleShort,\n",
        "  g.Gene,\n",
        "  k.Benamning AS Morphology\n",
        "FROM\n",
        "  TargetCases tc\n",
        "JOIN `{mitelman_project}.{mitelman_dataset}.Reference` r ON r.RefNo = tc.RefNo\n",
        "JOIN `{mitelman_project}.{mitelman_dataset}.MolClinGene` g ON g.RefNo = tc.RefNo\n",
        "JOIN `{mitelman_project}.{mitelman_dataset}.MolBiolClinAssoc` m ON m.RefNo = tc.RefNo\n",
        "JOIN `{mitelman_project}.{mitelman_dataset}.Koder` k ON k.Kod = m.Morph\n",
        "WHERE m.Morph LIKE \"1602\"'''\n",
        "\n",
        "# Make an API request to create the view.\n",
        "view = client.create_table(view)\n",
        "print(f\"Created {view.table_type}: {str(view.reference)}\")"
      ],
      "metadata": {
        "id": "CxOoyXzxB6Fq",
        "colab": {
          "base_uri": "https://localhost:8080/"
        },
        "collapsed": true,
        "outputId": "c8f0bcf3-ddb8-42a4-e111-88a752da756c"
      },
      "execution_count": 8,
      "outputs": [
        {
          "output_type": "stream",
          "name": "stdout",
          "text": [
            "Created VIEW: isb-project-zero.jaw_scratch.ALL_BCR_cases\n"
          ]
        }
      ]
    },
    {
      "cell_type": "markdown",
      "source": [
        "## Conclusion\n",
        "BigQuery Views can be an extremely useful tool if you're performing the same queries often, such as if you are keeping track of specific data over time. The resulting table from your view can be used in downstream projects or exported as an Excel spreadsheet.\n",
        "\n",
        "With this series of notebooks covering queries, join, and views, you should able to find the Mitelman data that is needed for your data analysis. See our other Mitleman notebooks that cover more in-depth data analysis: https://github.com/isb-cgc/Community-Notebooks/tree/master/MitelmanDB"
      ],
      "metadata": {
        "id": "ApN0SMKbB8wM"
      }
    }
  ]
}
