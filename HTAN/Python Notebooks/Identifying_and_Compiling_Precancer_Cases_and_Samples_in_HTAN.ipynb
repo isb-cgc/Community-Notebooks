{
 "cells": [
  {
   "cell_type": "markdown",
   "metadata": {
    "colab_type": "text",
    "id": "view-in-github"
   },
   "source": [
    "<a href=\"https://colab.research.google.com/github/isb-cgc/Community-Notebooks/blob/master/HTAN/Python%20Notebooks/Identifying_and_Compiling_Precancer_Cases_and_Samples_in_HTAN.ipynb\" target=\"_parent\"><img src=\"https://colab.research.google.com/assets/colab-badge.svg\" alt=\"Open In Colab\"/></a>"
   ]
  },
  {
   "cell_type": "markdown",
   "metadata": {
    "id": "xjamKPUaZhIJ"
   },
   "source": [
    "# Identifying and Compiling Precancer Cases and Samples in HTAN"
   ]
  },
  {
   "cell_type": "markdown",
   "metadata": {
    "id": "zMcj6UfWZhIN"
   },
   "source": [
    "        Title:   Identifying and Compiling Precancer Cases and Samples in HTAN\n",
    "        Author:  Clarisse Lau, Vesteinn Thorsson & Kristen Anton\n",
    "        Created: 2024-02-29\n",
    "        Updated: 2025-06-12\n",
    "        Purpose: Identify precancer cases and samples in HTAN using Google BigQuery metadata tables\n"
   ]
  },
  {
   "cell_type": "markdown",
   "metadata": {
    "id": "uGfVon9jZhIO"
   },
   "source": [
    "# 1. Introduction & Overview\n",
    "The Human Tumor Atlas Network ([HTAN](https://humantumoratlas.org/)) is a National Cancer Institute (NCI)-funded Cancer Moonshot<sup>SM</sup> initiative to construct 3-dimensional atlases of the dynamic cellular, morphological, and molecular features of human cancers as they evolve from precancerous lesions to advanced disease [[Cell April 2020](https://www.sciencedirect.com/science/article/pii/S0092867420303469)]\n",
    "\n",
    "\n",
    "HTAN is comprised of 15 research centers and trans-network projects (TNPs), 5 of which are designated precancer atlases [[Cancer Prevention Research, July 2023](https://aacrjournals.org/cancerpreventionresearch/article-abstract/16/7/379/727480/PreCancer-Atlas-Present-and-FuturePreCancer)], with additional atlases generating precancer data.\n",
    "\n",
    "HTAN atlases have supplied a rich set of clinical and biospecimen metadata. These annotations are made according to the HTAN Data model, a set of standards defined by the HTAN consortium. The supplied values of these attributes have been collected into comprehensive data tables on the cloud, using the Google BigQuery structure that is part of the Google Cloud Project.\n",
    "\n",
    "This notebook shows how clinical and biospecimen tables can be queried to identify precancer cases and samples in HTAN by querying on relevant metadata attributes. For the purpose of this notebook, data provided by the HTAN precancer atlases, designated as precancer, are included in the query output. The queries run from this notebook provide a snapshot of the HTAN data.\n",
    "\n",
    "### 1.1 Goal\n",
    "This example notebook illustrates how to make use of HTAN Google BigQuery clinical and biospecimen tables to identify precancer cases and specimens in HTAN.\n",
    "\n",
    "### 1.2 Approach\n",
    "Elements of the HTAN data model may be used to identify patients diagnosed with precancerous lesions and biospecimens collected at the precancer stage of disease. There are several approaches to creating precancer subsets. Because of the structure of the data elements pertaining to precancer and the requirement for these data, currently, the identification of precancer cases and biospecimens is not comprehensive.\n",
    "\n",
    "To identify precancer cases, the data elements `Precancer Condition Type` from Clinical Tier 1 and `Age at Diagnosis` from Clinical Tier 1 may be queried. `Precancer Condition Type` is not a required element, so not all cases will be annotated. Because `Age at Diagnosis` is a required element, many precancer cases use the value `0` to indicate no cancer diagnosis, providing a known value for the query.\n",
    "\n",
    "To identify biospecimens collected at the precancer stage of disease, the data element `Tumor Tissue Type` from Clinical Tier 1 may be queried for permissible values `Premalignant,` `Premalignant - in situ,` and `Atypia - hyperplasia.` These data are required for all biospecimens. The permissible values `Not Otherwise Specified` and `None` create ambiguity in the query result.\n",
    "\n",
    "The HTAN DCC is refining the data model to facilitate direct query of the data that will provide comprehensive subsetting of precancer cases and specimens.\n",
    "\n",
    "\n",
    "### 1.3 Inputs, Outputs, & Data\n",
    "The originating data can be found on the [HTAN Data Portal](https://humantumoratlas.org/), and the compiled tables are on the [ISB-Cancer Gateway in the Cloud](https://isb-cgc.appspot.com/bq_meta_search/).\n",
    "\n",
    "Query outputs load to DataFrames, which display columns and rows.  Beside each output table, you see two icons.  The top icon converts the DataFrame to an interactive table.  You are able to select the link below the table to review the [Data Table Notebook](https://colab.research.google.com/notebooks/data_table.ipynb) that gives tips on filtering and further customizing the table. The lower icon converts that output to a graphical format, which, depending on the output, is more or less informative.\n",
    "\n",
    "### 1.4 Notes\n",
    "The queries and results in this notebook correspond to ISB-CGC's most current HTAN Release.\n",
    "\n",
    "To choose a specific release, edit the BigQuery table names in this notebook by replacing the relevant string endings:\n",
    "- `current` with a selected numbered release, e.g., `r2`\n",
    "- `HTAN` with `HTAN_versioned`\n",
    "- `gc` with `cds` (if applicable)\n",
    "\n",
    "#\n",
    "### ⚠️PAUSE\n",
    "Notebooks associated with ISB-CGC HTAN Releases 6.0 or earlier are based on the **HTAN Phase 1 Data Model**. Please be aware that the structure, terminology, and available data elements may differ from those in Phase 2. "
   ]
  },
  {
   "cell_type": "markdown",
   "metadata": {
    "id": "WtXCdZkHZhIP"
   },
   "source": [
    "# 2. Environment & Module Setup"
   ]
  },
  {
   "cell_type": "code",
   "execution_count": 2,
   "metadata": {
    "id": "23HqZ7JHerJb"
   },
   "outputs": [],
   "source": [
    "# import libraries\n",
    "import pandas as pd"
   ]
  },
  {
   "cell_type": "markdown",
   "metadata": {
    "id": "cYXyqXrWZhIQ"
   },
   "source": [
    "# 3. Google Authentication\n",
    "\n",
    "Running the BigQuery cells in this notebook requires a Google Cloud Project. Instructions for creating a project can be found in [Google Cloud Documentation](https://cloud.google.com/resource-manager/docs/creating-managing-projects#console). The instance needs to be authorized to bill the project for queries. For more information on getting started with ISB-CGC see [Quick Start Guide to ISB-CGC](https://isb-cancer-genomics-cloud.readthedocs.io/en/latest/sections/HowToGetStartedonISB-CGC.html) and alternative authentication methods can be found in [Google Cloud Documentation](https://cloud.google.com/resource-manager/docs/creating-managing-projects#console)."
   ]
  },
  {
   "cell_type": "markdown",
   "metadata": {
    "id": "Um6iidSQO9Xe"
   },
   "source": [
    "## 3.1 Authenticating with Google Credentials\n",
    "\n"
   ]
  },
  {
   "cell_type": "markdown",
   "metadata": {
    "id": "hydziC4bOGdJ"
   },
   "source": [
    "#### Option 1. Running in Google Colab\n",
    "\n",
    "If you are using Google Colab, run the code block below to authenticate"
   ]
  },
  {
   "cell_type": "code",
   "execution_count": null,
   "metadata": {
    "id": "4dnpfFKbOFyt"
   },
   "outputs": [],
   "source": [
    "from google.colab import auth\n",
    "auth.authenticate_user()"
   ]
  },
  {
   "cell_type": "markdown",
   "metadata": {
    "id": "OpWFw71KOKF1"
   },
   "source": [
    "#### Option 2. Running on local machine\n",
    "\n",
    "Alternatively, if you're running the notebook locally, take the following steps to authenticate.\n",
    "\n",
    "1.   Run `gcloud auth application-default login` on your local machine\n",
    "2.   Run the command below replacing `<path to key>` with the path to your credentials file"
   ]
  },
  {
   "cell_type": "code",
   "execution_count": null,
   "metadata": {
    "id": "ZTp9c55YZhIQ"
   },
   "outputs": [],
   "source": [
    "# env GOOGLE_APPLICATION_CREDENTIALS='<path to key>'"
   ]
  },
  {
   "cell_type": "markdown",
   "metadata": {
    "id": "4Q8BUEkKOViy"
   },
   "source": [
    "## 3.2 Initializing the Google BigQuery client\n"
   ]
  },
  {
   "cell_type": "code",
   "execution_count": 1,
   "metadata": {
    "id": "XC28LG7XZhIR"
   },
   "outputs": [],
   "source": [
    "# Import the Google BigQuery client\n",
    "from google.cloud import bigquery\n",
    "\n",
    "# Set the Google project that will be billed for this notebook's computations\n",
    "# Replace <my-project> with your BigQuery Project ID\n",
    "google_project = '<my-project>'\n",
    "\n",
    "# Create a client to access the data within BigQuery\n",
    "client = bigquery.Client(google_project)"
   ]
  },
  {
   "cell_type": "markdown",
   "metadata": {
    "id": "6nmdWr96ZhIR"
   },
   "source": [
    "# 4. Identifying Precancerous Cases using the Clinical Data BigQuery Tables"
   ]
  },
  {
   "cell_type": "markdown",
   "metadata": {
    "id": "eCFflh8tZhIS"
   },
   "source": [
    "### 4.1 Using 'Age at Diagnosis' in the Clinical Tier 1 Diagnosis Table"
   ]
  },
  {
   "cell_type": "markdown",
   "metadata": {
    "id": "J7Mjw6cBKzlY"
   },
   "source": [
    "`Age at Diagnosis` is a required data element defined as the age of the particicpant at the time of diagnosis expressed in number of days since birth. Atlases contributing data on precancers populate `Age at Diagnosis` with `0` since participant's do not receive a cancer diagnosis."
   ]
  },
  {
   "cell_type": "code",
   "execution_count": 3,
   "metadata": {
    "colab": {
     "base_uri": "https://localhost:8080/",
     "height": 687
    },
    "id": "0u1lrfPsZhIS",
    "outputId": "e6884e30-0627-4b32-a92a-4d7712085542"
   },
   "outputs": [
    {
     "data": {
      "text/html": [
       "<div>\n",
       "<style scoped>\n",
       "    .dataframe tbody tr th:only-of-type {\n",
       "        vertical-align: middle;\n",
       "    }\n",
       "\n",
       "    .dataframe tbody tr th {\n",
       "        vertical-align: top;\n",
       "    }\n",
       "\n",
       "    .dataframe thead th {\n",
       "        text-align: right;\n",
       "    }\n",
       "</style>\n",
       "<table border=\"1\" class=\"dataframe\">\n",
       "  <thead>\n",
       "    <tr style=\"text-align: right;\">\n",
       "      <th></th>\n",
       "      <th>HTAN_Center</th>\n",
       "      <th>Age_at_Diagnosis</th>\n",
       "      <th>Primary_Diagnosis</th>\n",
       "      <th>HTAN_Participant_ID</th>\n",
       "    </tr>\n",
       "  </thead>\n",
       "  <tbody>\n",
       "    <tr>\n",
       "      <th>0</th>\n",
       "      <td>HTAN Vanderbilt</td>\n",
       "      <td>0</td>\n",
       "      <td>Not Reported</td>\n",
       "      <td>HTA11_10034</td>\n",
       "    </tr>\n",
       "    <tr>\n",
       "      <th>1</th>\n",
       "      <td>HTAN Vanderbilt</td>\n",
       "      <td>0</td>\n",
       "      <td>Not Reported</td>\n",
       "      <td>HTA11_10167</td>\n",
       "    </tr>\n",
       "    <tr>\n",
       "      <th>2</th>\n",
       "      <td>HTAN Vanderbilt</td>\n",
       "      <td>0</td>\n",
       "      <td>Not Reported</td>\n",
       "      <td>HTA11_104</td>\n",
       "    </tr>\n",
       "    <tr>\n",
       "      <th>3</th>\n",
       "      <td>HTAN Vanderbilt</td>\n",
       "      <td>0</td>\n",
       "      <td>Not Reported</td>\n",
       "      <td>HTA11_10466</td>\n",
       "    </tr>\n",
       "    <tr>\n",
       "      <th>4</th>\n",
       "      <td>HTAN Vanderbilt</td>\n",
       "      <td>0</td>\n",
       "      <td>Not Reported</td>\n",
       "      <td>HTA11_10557</td>\n",
       "    </tr>\n",
       "    <tr>\n",
       "      <th>...</th>\n",
       "      <td>...</td>\n",
       "      <td>...</td>\n",
       "      <td>...</td>\n",
       "      <td>...</td>\n",
       "    </tr>\n",
       "    <tr>\n",
       "      <th>251</th>\n",
       "      <td>HTAN BU</td>\n",
       "      <td>0</td>\n",
       "      <td>Not Reported</td>\n",
       "      <td>HTA3_70137</td>\n",
       "    </tr>\n",
       "    <tr>\n",
       "      <th>252</th>\n",
       "      <td>HTAN BU</td>\n",
       "      <td>0</td>\n",
       "      <td>Not Reported</td>\n",
       "      <td>HTA3_70151</td>\n",
       "    </tr>\n",
       "    <tr>\n",
       "      <th>253</th>\n",
       "      <td>HTAN BU</td>\n",
       "      <td>0</td>\n",
       "      <td>Not Reported</td>\n",
       "      <td>HTA3_70154</td>\n",
       "    </tr>\n",
       "    <tr>\n",
       "      <th>254</th>\n",
       "      <td>HTAN BU</td>\n",
       "      <td>0</td>\n",
       "      <td>Not Reported</td>\n",
       "      <td>HTA3_70160</td>\n",
       "    </tr>\n",
       "    <tr>\n",
       "      <th>255</th>\n",
       "      <td>HTAN BU</td>\n",
       "      <td>0</td>\n",
       "      <td>Not Reported</td>\n",
       "      <td>HTA3_70161</td>\n",
       "    </tr>\n",
       "  </tbody>\n",
       "</table>\n",
       "<p>256 rows × 4 columns</p>\n",
       "</div>"
      ],
      "text/plain": [
       "         HTAN_Center Age_at_Diagnosis Primary_Diagnosis HTAN_Participant_ID\n",
       "0    HTAN Vanderbilt                0      Not Reported         HTA11_10034\n",
       "1    HTAN Vanderbilt                0      Not Reported         HTA11_10167\n",
       "2    HTAN Vanderbilt                0      Not Reported           HTA11_104\n",
       "3    HTAN Vanderbilt                0      Not Reported         HTA11_10466\n",
       "4    HTAN Vanderbilt                0      Not Reported         HTA11_10557\n",
       "..               ...              ...               ...                 ...\n",
       "251          HTAN BU                0      Not Reported          HTA3_70137\n",
       "252          HTAN BU                0      Not Reported          HTA3_70151\n",
       "253          HTAN BU                0      Not Reported          HTA3_70154\n",
       "254          HTAN BU                0      Not Reported          HTA3_70160\n",
       "255          HTAN BU                0      Not Reported          HTA3_70161\n",
       "\n",
       "[256 rows x 4 columns]"
      ]
     },
     "execution_count": 3,
     "metadata": {},
     "output_type": "execute_result"
    }
   ],
   "source": [
    "aad = client.query(\"\"\"\n",
    "  SELECT HTAN_Center, Age_at_Diagnosis, Primary_Diagnosis, HTAN_Participant_ID\n",
    "  FROM `isb-cgc-bq.HTAN.clinical_tier1_diagnosis_current`\n",
    "  WHERE HTAN_Center in (\n",
    "    \"HTAN Duke\",\n",
    "    \"HTAN Stanford\",\n",
    "    \"HTAN Vanderbilt\",\n",
    "    \"HTAN BU\",\n",
    "    \"HTAN HMS\")\n",
    "  AND Age_at_Diagnosis = '0'\n",
    "  GROUP BY HTAN_Center, Age_at_Diagnosis, Primary_Diagnosis, HTAN_Participant_ID\n",
    "\"\"\").result().to_dataframe()\n",
    "\n",
    "aad"
   ]
  },
  {
   "cell_type": "markdown",
   "metadata": {
    "id": "IkwyvBCkgHQh"
   },
   "source": [
    "Using this criterion, and narrowing the search to precancer centers, we find 147 precancer cases from the Vanderbilt HTAN center, all designating primary diagnosis as `Not Reported`. There are no additional records containing `Age at Diagnosis` value of `0` at this time.\n"
   ]
  },
  {
   "cell_type": "markdown",
   "metadata": {
    "id": "bhTwA4MgZhIS"
   },
   "source": [
    "## 4.2 Using 'Precancerous Condition Type' in the Clinical Tier 1 Diagnosis Table"
   ]
  },
  {
   "cell_type": "markdown",
   "metadata": {
    "id": "2N6FDi9-5iM-"
   },
   "source": [
    "`Precancerous Condition Type` is an optional data element that uses standardized terms to classify the precancerous cells observed in the participant's tissue. Because the data is not required, we have captured a small amount of data, giving us some (but limited) information about precancers using this method. Only records with values for `Precancerous Condition Type` are reported in the table below.\n"
   ]
  },
  {
   "cell_type": "code",
   "execution_count": 4,
   "metadata": {
    "colab": {
     "base_uri": "https://localhost:8080/",
     "height": 112
    },
    "id": "RZqP6i_qZhIS",
    "outputId": "daab5ce8-1073-4440-aa64-ec001b9ebe4f"
   },
   "outputs": [
    {
     "data": {
      "text/html": [
       "<div>\n",
       "<style scoped>\n",
       "    .dataframe tbody tr th:only-of-type {\n",
       "        vertical-align: middle;\n",
       "    }\n",
       "\n",
       "    .dataframe tbody tr th {\n",
       "        vertical-align: top;\n",
       "    }\n",
       "\n",
       "    .dataframe thead th {\n",
       "        text-align: right;\n",
       "    }\n",
       "</style>\n",
       "<table border=\"1\" class=\"dataframe\">\n",
       "  <thead>\n",
       "    <tr style=\"text-align: right;\">\n",
       "      <th></th>\n",
       "      <th>Precancerous_Condition_Type</th>\n",
       "      <th>HTAN_Center</th>\n",
       "      <th>HTAN_Participant_ID</th>\n",
       "    </tr>\n",
       "  </thead>\n",
       "  <tbody>\n",
       "    <tr>\n",
       "      <th>0</th>\n",
       "      <td>Ductal Carcinoma In Situ</td>\n",
       "      <td>HTAN HTAPP</td>\n",
       "      <td>HTA2_225</td>\n",
       "    </tr>\n",
       "    <tr>\n",
       "      <th>1</th>\n",
       "      <td>Ductal Carcinoma In Situ</td>\n",
       "      <td>HTAN HTAPP</td>\n",
       "      <td>HTA2_229</td>\n",
       "    </tr>\n",
       "  </tbody>\n",
       "</table>\n",
       "</div>"
      ],
      "text/plain": [
       "  Precancerous_Condition_Type HTAN_Center HTAN_Participant_ID\n",
       "0    Ductal Carcinoma In Situ  HTAN HTAPP            HTA2_225\n",
       "1    Ductal Carcinoma In Situ  HTAN HTAPP            HTA2_229"
      ]
     },
     "execution_count": 4,
     "metadata": {},
     "output_type": "execute_result"
    }
   ],
   "source": [
    "pct = client.query(\"\"\"\n",
    "  SELECT Precancerous_Condition_Type, HTAN_Center, HTAN_Participant_ID\n",
    "  FROM `isb-cgc-bq.HTAN.clinical_tier1_diagnosis_current`\n",
    "  WHERE Precancerous_Condition_Type IS NOT NULL AND Precancerous_Condition_Type != \"Not Applicable\"\n",
    "\"\"\").result().to_dataframe()\n",
    "\n",
    "pct"
   ]
  },
  {
   "cell_type": "markdown",
   "metadata": {
    "id": "zoLHaiVmleVT"
   },
   "source": [
    "This query identifies two additional cases."
   ]
  },
  {
   "cell_type": "markdown",
   "metadata": {
    "id": "pWMIvHnZk4Sg"
   },
   "source": [
    "## 4.3 Using 'Primary Diagnosis' in the Clinical Tier 1 Diagnosis Table"
   ]
  },
  {
   "cell_type": "markdown",
   "metadata": {
    "id": "M7hsyF21lriF"
   },
   "source": [
    "`Primary Diagnosis` is a required data element that uses World Health Organization's (WHO) International Classification of Diseases for Oncology (ICD-O) to describe the patient's histologic diagnosis.  The data element permissible value list contains a limited number of values that describe precancers.  `Ductal Carcinoma in situ` is one value that is included, and we can use it to identify a set of breast precancer cases."
   ]
  },
  {
   "cell_type": "code",
   "execution_count": 5,
   "metadata": {
    "colab": {
     "base_uri": "https://localhost:8080/",
     "height": 424
    },
    "id": "ZrEXloosnV5e",
    "outputId": "3218ad5d-c1ef-412b-ebae-9051f9e5df8f"
   },
   "outputs": [
    {
     "data": {
      "text/html": [
       "<div>\n",
       "<style scoped>\n",
       "    .dataframe tbody tr th:only-of-type {\n",
       "        vertical-align: middle;\n",
       "    }\n",
       "\n",
       "    .dataframe tbody tr th {\n",
       "        vertical-align: top;\n",
       "    }\n",
       "\n",
       "    .dataframe thead th {\n",
       "        text-align: right;\n",
       "    }\n",
       "</style>\n",
       "<table border=\"1\" class=\"dataframe\">\n",
       "  <thead>\n",
       "    <tr style=\"text-align: right;\">\n",
       "      <th></th>\n",
       "      <th>HTAN_Center</th>\n",
       "      <th>Primary_Diagnosis</th>\n",
       "      <th>HTAN_Participant_ID</th>\n",
       "    </tr>\n",
       "  </thead>\n",
       "  <tbody>\n",
       "    <tr>\n",
       "      <th>0</th>\n",
       "      <td>HTAN WUSTL</td>\n",
       "      <td>Ductal carcinoma in situ NOS</td>\n",
       "      <td>HTA12_247</td>\n",
       "    </tr>\n",
       "    <tr>\n",
       "      <th>1</th>\n",
       "      <td>HTAN WUSTL</td>\n",
       "      <td>Ductal carcinoma in situ NOS</td>\n",
       "      <td>HTA12_250</td>\n",
       "    </tr>\n",
       "    <tr>\n",
       "      <th>2</th>\n",
       "      <td>HTAN WUSTL</td>\n",
       "      <td>Ductal carcinoma in situ NOS</td>\n",
       "      <td>HTA12_283</td>\n",
       "    </tr>\n",
       "    <tr>\n",
       "      <th>3</th>\n",
       "      <td>HTAN WUSTL</td>\n",
       "      <td>Ductal carcinoma in situ NOS</td>\n",
       "      <td>HTA12_285</td>\n",
       "    </tr>\n",
       "    <tr>\n",
       "      <th>4</th>\n",
       "      <td>HTAN Duke</td>\n",
       "      <td>Ductal carcinoma in situ NOS</td>\n",
       "      <td>HTA6_7</td>\n",
       "    </tr>\n",
       "    <tr>\n",
       "      <th>...</th>\n",
       "      <td>...</td>\n",
       "      <td>...</td>\n",
       "      <td>...</td>\n",
       "    </tr>\n",
       "    <tr>\n",
       "      <th>792</th>\n",
       "      <td>HTAN Stanford</td>\n",
       "      <td>Familial adenomatous polyposis</td>\n",
       "      <td>HTA10_06</td>\n",
       "    </tr>\n",
       "    <tr>\n",
       "      <th>793</th>\n",
       "      <td>HTAN Stanford</td>\n",
       "      <td>Familial adenomatous polyposis</td>\n",
       "      <td>HTA10_08</td>\n",
       "    </tr>\n",
       "    <tr>\n",
       "      <th>794</th>\n",
       "      <td>HTAN Stanford</td>\n",
       "      <td>Familial adenomatous polyposis</td>\n",
       "      <td>HTA10_10</td>\n",
       "    </tr>\n",
       "    <tr>\n",
       "      <th>795</th>\n",
       "      <td>HTAN Stanford</td>\n",
       "      <td>Familial adenomatous polyposis</td>\n",
       "      <td>HTA10_04</td>\n",
       "    </tr>\n",
       "    <tr>\n",
       "      <th>796</th>\n",
       "      <td>HTAN Stanford</td>\n",
       "      <td>Familial adenomatous polyposis</td>\n",
       "      <td>HTA10_18</td>\n",
       "    </tr>\n",
       "  </tbody>\n",
       "</table>\n",
       "<p>797 rows × 3 columns</p>\n",
       "</div>"
      ],
      "text/plain": [
       "       HTAN_Center               Primary_Diagnosis HTAN_Participant_ID\n",
       "0       HTAN WUSTL    Ductal carcinoma in situ NOS           HTA12_247\n",
       "1       HTAN WUSTL    Ductal carcinoma in situ NOS           HTA12_250\n",
       "2       HTAN WUSTL    Ductal carcinoma in situ NOS           HTA12_283\n",
       "3       HTAN WUSTL    Ductal carcinoma in situ NOS           HTA12_285\n",
       "4        HTAN Duke    Ductal carcinoma in situ NOS              HTA6_7\n",
       "..             ...                             ...                 ...\n",
       "792  HTAN Stanford  Familial adenomatous polyposis            HTA10_06\n",
       "793  HTAN Stanford  Familial adenomatous polyposis            HTA10_08\n",
       "794  HTAN Stanford  Familial adenomatous polyposis            HTA10_10\n",
       "795  HTAN Stanford  Familial adenomatous polyposis            HTA10_04\n",
       "796  HTAN Stanford  Familial adenomatous polyposis            HTA10_18\n",
       "\n",
       "[797 rows x 3 columns]"
      ]
     },
     "execution_count": 5,
     "metadata": {},
     "output_type": "execute_result"
    }
   ],
   "source": [
    "pddcis = client.query(\"\"\"\n",
    "  SELECT HTAN_Center, Primary_Diagnosis, HTAN_Participant_ID\n",
    "  FROM `isb-cgc-bq.HTAN.clinical_tier1_diagnosis_current`\n",
    "  WHERE Primary_Diagnosis = 'Ductal carcinoma in situ NOS' OR Primary_Diagnosis = 'Familial adenomatous polyposis'\n",
    "\"\"\").result().to_dataframe()\n",
    "\n",
    "pddcis"
   ]
  },
  {
   "cell_type": "code",
   "execution_count": 7,
   "metadata": {},
   "outputs": [
    {
     "data": {
      "text/plain": [
       "Primary_Diagnosis\n",
       "Ductal carcinoma in situ NOS      787\n",
       "Familial adenomatous polyposis     10\n",
       "Name: HTAN_Participant_ID, dtype: int64"
      ]
     },
     "execution_count": 7,
     "metadata": {},
     "output_type": "execute_result"
    }
   ],
   "source": [
    "pddcis.groupby('Primary_Diagnosis')['HTAN_Participant_ID'].count()"
   ]
  },
  {
   "cell_type": "markdown",
   "metadata": {
    "id": "WDpnCFJfpc8i"
   },
   "source": [
    "This query returns an additional 796 cases: 787 cases with disease identified as Ductal Carcinoma in situ, and 10 case with disease identified as Familial Adenomatous Polyposis (FAP)."
   ]
  },
  {
   "cell_type": "markdown",
   "metadata": {
    "id": "-2y31tvyZhIS"
   },
   "source": [
    "# 5. Identifying Precancerous Samples using the Biospecimen BigQuery Table"
   ]
  },
  {
   "cell_type": "markdown",
   "metadata": {
    "id": "u5BzoaVDn238"
   },
   "source": [
    "## 5.1 Using 'Tumor Tissue Type' in the Biospecimen Table"
   ]
  },
  {
   "cell_type": "markdown",
   "metadata": {
    "id": "l5CdBRQTxan6"
   },
   "source": [
    "The Biospecimen attributes offer some metadata to help differentiate precancerous lesion samples from tumor samples.  The required data element `Tumor Tissue Type`, defined as text that describes the kind of disease present in the tumor specimen as related to a specific time point, includes several permissible values that classify a precancerous lesion.  These include `Premalignant`, `Atypia - hyperplasia`, and `Premalignant - in situ`. A value of `Not Otherwise Specified` may include precancers, but this value is ambiguous. Although the name of this data element implies that it is an attribute of tumor tissue only, the permissible values include both precancerous and cancerous descriptors."
   ]
  },
  {
   "cell_type": "markdown",
   "metadata": {
    "id": "EXQN1r3vzlJw"
   },
   "source": [
    "The table below contains Tumor_Tissue_Types from the full HTAN Biospecimen dataset."
   ]
  },
  {
   "cell_type": "code",
   "execution_count": 8,
   "metadata": {
    "colab": {
     "base_uri": "https://localhost:8080/",
     "height": 1000
    },
    "id": "3sGKV_CXzV_2",
    "outputId": "ebe5ff8e-63e6-4a18-8fb2-b78ed7a9cebe"
   },
   "outputs": [
    {
     "data": {
      "text/html": [
       "<div>\n",
       "<style scoped>\n",
       "    .dataframe tbody tr th:only-of-type {\n",
       "        vertical-align: middle;\n",
       "    }\n",
       "\n",
       "    .dataframe tbody tr th {\n",
       "        vertical-align: top;\n",
       "    }\n",
       "\n",
       "    .dataframe thead th {\n",
       "        text-align: right;\n",
       "    }\n",
       "</style>\n",
       "<table border=\"1\" class=\"dataframe\">\n",
       "  <thead>\n",
       "    <tr style=\"text-align: right;\">\n",
       "      <th></th>\n",
       "      <th>HTAN_Center</th>\n",
       "      <th>Tumor_Tissue_Type</th>\n",
       "      <th>count</th>\n",
       "    </tr>\n",
       "  </thead>\n",
       "  <tbody>\n",
       "    <tr>\n",
       "      <th>0</th>\n",
       "      <td>HTAN BU</td>\n",
       "      <td>None</td>\n",
       "      <td>13</td>\n",
       "    </tr>\n",
       "    <tr>\n",
       "      <th>1</th>\n",
       "      <td>HTAN BU</td>\n",
       "      <td>Additional Primary</td>\n",
       "      <td>6</td>\n",
       "    </tr>\n",
       "    <tr>\n",
       "      <th>2</th>\n",
       "      <td>HTAN BU</td>\n",
       "      <td>Atypia - hyperplasia</td>\n",
       "      <td>231</td>\n",
       "    </tr>\n",
       "    <tr>\n",
       "      <th>3</th>\n",
       "      <td>HTAN BU</td>\n",
       "      <td>Normal</td>\n",
       "      <td>63</td>\n",
       "    </tr>\n",
       "    <tr>\n",
       "      <th>4</th>\n",
       "      <td>HTAN BU</td>\n",
       "      <td>Normal adjacent</td>\n",
       "      <td>158</td>\n",
       "    </tr>\n",
       "    <tr>\n",
       "      <th>...</th>\n",
       "      <td>...</td>\n",
       "      <td>...</td>\n",
       "      <td>...</td>\n",
       "    </tr>\n",
       "    <tr>\n",
       "      <th>70</th>\n",
       "      <td>HTAN WUSTL</td>\n",
       "      <td>Normal distant</td>\n",
       "      <td>2</td>\n",
       "    </tr>\n",
       "    <tr>\n",
       "      <th>71</th>\n",
       "      <td>HTAN WUSTL</td>\n",
       "      <td>Post therapy neoadjuvant</td>\n",
       "      <td>58</td>\n",
       "    </tr>\n",
       "    <tr>\n",
       "      <th>72</th>\n",
       "      <td>HTAN WUSTL</td>\n",
       "      <td>Premalignant</td>\n",
       "      <td>9</td>\n",
       "    </tr>\n",
       "    <tr>\n",
       "      <th>73</th>\n",
       "      <td>HTAN WUSTL</td>\n",
       "      <td>Primary</td>\n",
       "      <td>719</td>\n",
       "    </tr>\n",
       "    <tr>\n",
       "      <th>74</th>\n",
       "      <td>HTAN WUSTL</td>\n",
       "      <td>Recurrent</td>\n",
       "      <td>32</td>\n",
       "    </tr>\n",
       "  </tbody>\n",
       "</table>\n",
       "<p>75 rows × 3 columns</p>\n",
       "</div>"
      ],
      "text/plain": [
       "   HTAN_Center         Tumor_Tissue_Type  count\n",
       "0      HTAN BU                      None     13\n",
       "1      HTAN BU        Additional Primary      6\n",
       "2      HTAN BU      Atypia - hyperplasia    231\n",
       "3      HTAN BU                    Normal     63\n",
       "4      HTAN BU           Normal adjacent    158\n",
       "..         ...                       ...    ...\n",
       "70  HTAN WUSTL            Normal distant      2\n",
       "71  HTAN WUSTL  Post therapy neoadjuvant     58\n",
       "72  HTAN WUSTL              Premalignant      9\n",
       "73  HTAN WUSTL                   Primary    719\n",
       "74  HTAN WUSTL                 Recurrent     32\n",
       "\n",
       "[75 rows x 3 columns]"
      ]
     },
     "execution_count": 8,
     "metadata": {},
     "output_type": "execute_result"
    }
   ],
   "source": [
    "ttt_all = client.query(\"\"\"\n",
    "  SELECT HTAN_Center, Tumor_Tissue_Type, Count(*) as count\n",
    "  FROM `isb-cgc-bq.HTAN.biospecimen_current`\n",
    "  GROUP BY HTAN_Center, Tumor_Tissue_Type\n",
    "  ORDER BY HTAN_Center, Tumor_Tissue_Type\n",
    "\"\"\").result().to_dataframe()\n",
    "\n",
    "ttt_all"
   ]
  },
  {
   "cell_type": "markdown",
   "metadata": {
    "id": "F2QeTR1izyeo"
   },
   "source": [
    "\n",
    "Restricting the query to permissible values that do or may indicate precancer yields the following output."
   ]
  },
  {
   "cell_type": "code",
   "execution_count": 9,
   "metadata": {
    "colab": {
     "base_uri": "https://localhost:8080/",
     "height": 551
    },
    "id": "ojwO4c1dn7fe",
    "outputId": "9c65e07c-2e3b-42c2-a350-4b4a5d1ecf0d"
   },
   "outputs": [
    {
     "data": {
      "text/html": [
       "<div>\n",
       "<style scoped>\n",
       "    .dataframe tbody tr th:only-of-type {\n",
       "        vertical-align: middle;\n",
       "    }\n",
       "\n",
       "    .dataframe tbody tr th {\n",
       "        vertical-align: top;\n",
       "    }\n",
       "\n",
       "    .dataframe thead th {\n",
       "        text-align: right;\n",
       "    }\n",
       "</style>\n",
       "<table border=\"1\" class=\"dataframe\">\n",
       "  <thead>\n",
       "    <tr style=\"text-align: right;\">\n",
       "      <th></th>\n",
       "      <th>HTAN_Center</th>\n",
       "      <th>Tumor_Tissue_Type</th>\n",
       "      <th>count</th>\n",
       "    </tr>\n",
       "  </thead>\n",
       "  <tbody>\n",
       "    <tr>\n",
       "      <th>0</th>\n",
       "      <td>HTAN BU</td>\n",
       "      <td>None</td>\n",
       "      <td>13</td>\n",
       "    </tr>\n",
       "    <tr>\n",
       "      <th>1</th>\n",
       "      <td>HTAN BU</td>\n",
       "      <td>Atypia - hyperplasia</td>\n",
       "      <td>231</td>\n",
       "    </tr>\n",
       "    <tr>\n",
       "      <th>2</th>\n",
       "      <td>HTAN BU</td>\n",
       "      <td>Not Otherwise Specified</td>\n",
       "      <td>723</td>\n",
       "    </tr>\n",
       "    <tr>\n",
       "      <th>3</th>\n",
       "      <td>HTAN BU</td>\n",
       "      <td>Premalignant</td>\n",
       "      <td>349</td>\n",
       "    </tr>\n",
       "    <tr>\n",
       "      <th>4</th>\n",
       "      <td>HTAN BU</td>\n",
       "      <td>Premalignant - in situ</td>\n",
       "      <td>152</td>\n",
       "    </tr>\n",
       "    <tr>\n",
       "      <th>5</th>\n",
       "      <td>HTAN DFCI</td>\n",
       "      <td>None</td>\n",
       "      <td>42</td>\n",
       "    </tr>\n",
       "    <tr>\n",
       "      <th>6</th>\n",
       "      <td>HTAN Duke</td>\n",
       "      <td>Not Otherwise Specified</td>\n",
       "      <td>112</td>\n",
       "    </tr>\n",
       "    <tr>\n",
       "      <th>7</th>\n",
       "      <td>HTAN Duke</td>\n",
       "      <td>Premalignant - in situ</td>\n",
       "      <td>45</td>\n",
       "    </tr>\n",
       "    <tr>\n",
       "      <th>8</th>\n",
       "      <td>HTAN HMS</td>\n",
       "      <td>Not Otherwise Specified</td>\n",
       "      <td>332</td>\n",
       "    </tr>\n",
       "    <tr>\n",
       "      <th>9</th>\n",
       "      <td>HTAN HTAPP</td>\n",
       "      <td>None</td>\n",
       "      <td>20</td>\n",
       "    </tr>\n",
       "    <tr>\n",
       "      <th>10</th>\n",
       "      <td>HTAN HTAPP</td>\n",
       "      <td>Not Otherwise Specified</td>\n",
       "      <td>538</td>\n",
       "    </tr>\n",
       "    <tr>\n",
       "      <th>11</th>\n",
       "      <td>HTAN HTAPP</td>\n",
       "      <td>Premalignant - in situ</td>\n",
       "      <td>2</td>\n",
       "    </tr>\n",
       "    <tr>\n",
       "      <th>12</th>\n",
       "      <td>HTAN MSK</td>\n",
       "      <td>Not Otherwise Specified</td>\n",
       "      <td>1</td>\n",
       "    </tr>\n",
       "    <tr>\n",
       "      <th>13</th>\n",
       "      <td>HTAN OHSU</td>\n",
       "      <td>None</td>\n",
       "      <td>44</td>\n",
       "    </tr>\n",
       "    <tr>\n",
       "      <th>14</th>\n",
       "      <td>HTAN SRRS</td>\n",
       "      <td>None</td>\n",
       "      <td>8</td>\n",
       "    </tr>\n",
       "    <tr>\n",
       "      <th>15</th>\n",
       "      <td>HTAN SRRS</td>\n",
       "      <td>Premalignant</td>\n",
       "      <td>4</td>\n",
       "    </tr>\n",
       "    <tr>\n",
       "      <th>16</th>\n",
       "      <td>HTAN Stanford</td>\n",
       "      <td>None</td>\n",
       "      <td>1</td>\n",
       "    </tr>\n",
       "    <tr>\n",
       "      <th>17</th>\n",
       "      <td>HTAN Stanford</td>\n",
       "      <td>Not Otherwise Specified</td>\n",
       "      <td>15</td>\n",
       "    </tr>\n",
       "    <tr>\n",
       "      <th>18</th>\n",
       "      <td>HTAN Stanford</td>\n",
       "      <td>Premalignant</td>\n",
       "      <td>216</td>\n",
       "    </tr>\n",
       "    <tr>\n",
       "      <th>19</th>\n",
       "      <td>HTAN TNP - TMA</td>\n",
       "      <td>Not Otherwise Specified</td>\n",
       "      <td>2</td>\n",
       "    </tr>\n",
       "    <tr>\n",
       "      <th>20</th>\n",
       "      <td>HTAN Vanderbilt</td>\n",
       "      <td>Atypia - hyperplasia</td>\n",
       "      <td>17</td>\n",
       "    </tr>\n",
       "    <tr>\n",
       "      <th>21</th>\n",
       "      <td>HTAN Vanderbilt</td>\n",
       "      <td>Not Otherwise Specified</td>\n",
       "      <td>106</td>\n",
       "    </tr>\n",
       "    <tr>\n",
       "      <th>22</th>\n",
       "      <td>HTAN Vanderbilt</td>\n",
       "      <td>Premalignant</td>\n",
       "      <td>103</td>\n",
       "    </tr>\n",
       "    <tr>\n",
       "      <th>23</th>\n",
       "      <td>HTAN WUSTL</td>\n",
       "      <td>None</td>\n",
       "      <td>41</td>\n",
       "    </tr>\n",
       "    <tr>\n",
       "      <th>24</th>\n",
       "      <td>HTAN WUSTL</td>\n",
       "      <td>Premalignant</td>\n",
       "      <td>9</td>\n",
       "    </tr>\n",
       "  </tbody>\n",
       "</table>\n",
       "</div>"
      ],
      "text/plain": [
       "        HTAN_Center        Tumor_Tissue_Type  count\n",
       "0           HTAN BU                     None     13\n",
       "1           HTAN BU     Atypia - hyperplasia    231\n",
       "2           HTAN BU  Not Otherwise Specified    723\n",
       "3           HTAN BU             Premalignant    349\n",
       "4           HTAN BU   Premalignant - in situ    152\n",
       "5         HTAN DFCI                     None     42\n",
       "6         HTAN Duke  Not Otherwise Specified    112\n",
       "7         HTAN Duke   Premalignant - in situ     45\n",
       "8          HTAN HMS  Not Otherwise Specified    332\n",
       "9        HTAN HTAPP                     None     20\n",
       "10       HTAN HTAPP  Not Otherwise Specified    538\n",
       "11       HTAN HTAPP   Premalignant - in situ      2\n",
       "12         HTAN MSK  Not Otherwise Specified      1\n",
       "13        HTAN OHSU                     None     44\n",
       "14        HTAN SRRS                     None      8\n",
       "15        HTAN SRRS             Premalignant      4\n",
       "16    HTAN Stanford                     None      1\n",
       "17    HTAN Stanford  Not Otherwise Specified     15\n",
       "18    HTAN Stanford             Premalignant    216\n",
       "19   HTAN TNP - TMA  Not Otherwise Specified      2\n",
       "20  HTAN Vanderbilt     Atypia - hyperplasia     17\n",
       "21  HTAN Vanderbilt  Not Otherwise Specified    106\n",
       "22  HTAN Vanderbilt             Premalignant    103\n",
       "23       HTAN WUSTL                     None     41\n",
       "24       HTAN WUSTL             Premalignant      9"
      ]
     },
     "execution_count": 9,
     "metadata": {},
     "output_type": "execute_result"
    }
   ],
   "source": [
    "ttt = client.query(\"\"\"\n",
    "  SELECT HTAN_Center, Tumor_Tissue_Type, Count(*) as count\n",
    "  FROM `isb-cgc-bq.HTAN.biospecimen_current`\n",
    "  WHERE Tumor_Tissue_Type is null OR Tumor_Tissue_Type in\n",
    "    ('Atypia - hyperplasia',\n",
    "    'Not Otherwise Specified',\n",
    "    'Premalignant',\n",
    "    'Premalignant - in situ') \n",
    "  GROUP BY HTAN_Center, Tumor_Tissue_Type\n",
    "  ORDER BY HTAN_Center, Tumor_Tissue_Type\n",
    "\"\"\").result().to_dataframe()\n",
    "\n",
    "ttt"
   ]
  },
  {
   "cell_type": "markdown",
   "metadata": {
    "id": "I8YeMbEE3C-S"
   },
   "source": [
    "Further restricting the query to definitive values indicating precancer yields the following output, allowing us to identify 1128 precancer biospecimens.\n"
   ]
  },
  {
   "cell_type": "code",
   "execution_count": 10,
   "metadata": {
    "colab": {
     "base_uri": "https://localhost:8080/",
     "height": 175
    },
    "id": "vA1xzmsQ3LV_",
    "outputId": "a278c439-c9a1-4438-903c-d80e08012cd0"
   },
   "outputs": [
    {
     "data": {
      "text/html": [
       "<div>\n",
       "<style scoped>\n",
       "    .dataframe tbody tr th:only-of-type {\n",
       "        vertical-align: middle;\n",
       "    }\n",
       "\n",
       "    .dataframe tbody tr th {\n",
       "        vertical-align: top;\n",
       "    }\n",
       "\n",
       "    .dataframe thead th {\n",
       "        text-align: right;\n",
       "    }\n",
       "</style>\n",
       "<table border=\"1\" class=\"dataframe\">\n",
       "  <thead>\n",
       "    <tr style=\"text-align: right;\">\n",
       "      <th></th>\n",
       "      <th>HTAN_Center</th>\n",
       "      <th>Tumor_Tissue_Type</th>\n",
       "      <th>count</th>\n",
       "    </tr>\n",
       "  </thead>\n",
       "  <tbody>\n",
       "    <tr>\n",
       "      <th>0</th>\n",
       "      <td>HTAN BU</td>\n",
       "      <td>Atypia - hyperplasia</td>\n",
       "      <td>231</td>\n",
       "    </tr>\n",
       "    <tr>\n",
       "      <th>1</th>\n",
       "      <td>HTAN BU</td>\n",
       "      <td>Premalignant</td>\n",
       "      <td>349</td>\n",
       "    </tr>\n",
       "    <tr>\n",
       "      <th>2</th>\n",
       "      <td>HTAN BU</td>\n",
       "      <td>Premalignant - in situ</td>\n",
       "      <td>152</td>\n",
       "    </tr>\n",
       "    <tr>\n",
       "      <th>3</th>\n",
       "      <td>HTAN Duke</td>\n",
       "      <td>Premalignant - in situ</td>\n",
       "      <td>45</td>\n",
       "    </tr>\n",
       "    <tr>\n",
       "      <th>4</th>\n",
       "      <td>HTAN HTAPP</td>\n",
       "      <td>Premalignant - in situ</td>\n",
       "      <td>2</td>\n",
       "    </tr>\n",
       "    <tr>\n",
       "      <th>5</th>\n",
       "      <td>HTAN SRRS</td>\n",
       "      <td>Premalignant</td>\n",
       "      <td>4</td>\n",
       "    </tr>\n",
       "    <tr>\n",
       "      <th>6</th>\n",
       "      <td>HTAN Stanford</td>\n",
       "      <td>Premalignant</td>\n",
       "      <td>216</td>\n",
       "    </tr>\n",
       "    <tr>\n",
       "      <th>7</th>\n",
       "      <td>HTAN Vanderbilt</td>\n",
       "      <td>Atypia - hyperplasia</td>\n",
       "      <td>17</td>\n",
       "    </tr>\n",
       "    <tr>\n",
       "      <th>8</th>\n",
       "      <td>HTAN Vanderbilt</td>\n",
       "      <td>Premalignant</td>\n",
       "      <td>103</td>\n",
       "    </tr>\n",
       "    <tr>\n",
       "      <th>9</th>\n",
       "      <td>HTAN WUSTL</td>\n",
       "      <td>Premalignant</td>\n",
       "      <td>9</td>\n",
       "    </tr>\n",
       "  </tbody>\n",
       "</table>\n",
       "</div>"
      ],
      "text/plain": [
       "       HTAN_Center       Tumor_Tissue_Type  count\n",
       "0          HTAN BU    Atypia - hyperplasia    231\n",
       "1          HTAN BU            Premalignant    349\n",
       "2          HTAN BU  Premalignant - in situ    152\n",
       "3        HTAN Duke  Premalignant - in situ     45\n",
       "4       HTAN HTAPP  Premalignant - in situ      2\n",
       "5        HTAN SRRS            Premalignant      4\n",
       "6    HTAN Stanford            Premalignant    216\n",
       "7  HTAN Vanderbilt    Atypia - hyperplasia     17\n",
       "8  HTAN Vanderbilt            Premalignant    103\n",
       "9       HTAN WUSTL            Premalignant      9"
      ]
     },
     "execution_count": 10,
     "metadata": {},
     "output_type": "execute_result"
    }
   ],
   "source": [
    "tttr = client.query(\"\"\"\n",
    "  SELECT HTAN_Center, Tumor_Tissue_Type, Count(*) as count\n",
    "  FROM `isb-cgc-bq.HTAN.biospecimen_current`\n",
    "  WHERE Tumor_Tissue_Type in\n",
    "    ('Atypia - hyperplasia',\n",
    "    'Premalignant',\n",
    "    'Premalignant - in situ')\n",
    "  GROUP BY HTAN_Center, Tumor_Tissue_Type\n",
    "  ORDER BY HTAN_Center, Tumor_Tissue_Type\n",
    "\"\"\").result().to_dataframe()\n",
    "\n",
    "tttr"
   ]
  },
  {
   "cell_type": "code",
   "execution_count": 13,
   "metadata": {},
   "outputs": [
    {
     "data": {
      "text/plain": [
       "1128"
      ]
     },
     "execution_count": 13,
     "metadata": {},
     "output_type": "execute_result"
    }
   ],
   "source": [
    "tttr['count'].sum()"
   ]
  },
  {
   "cell_type": "markdown",
   "metadata": {
    "id": "MfLvzb4Unmm7"
   },
   "source": [
    "## 5.2 Using 'Tumor Tissue Type' and 'Histologic Morphology Code' in the Biospecimen Table"
   ]
  },
  {
   "cell_type": "markdown",
   "metadata": {
    "id": "rJzAzO4H8lv9"
   },
   "source": [
    "The histologic morphology code, based on the ICD-O-3 coding, can offer insight into the classification of the biospecimen. In the query below, we look at `Tumor Tissue Type` values for premalignancies, and associated histologic morphology codes.\n",
    "\n",
    "The histologic morphology codes do not identify additional precancerous specimens."
   ]
  },
  {
   "cell_type": "code",
   "execution_count": 14,
   "metadata": {
    "colab": {
     "base_uri": "https://localhost:8080/",
     "height": 424
    },
    "id": "J6XNss_F-dEy",
    "outputId": "2ad901c9-35fe-4284-ff0f-9f617a8048d9"
   },
   "outputs": [
    {
     "data": {
      "text/html": [
       "<div>\n",
       "<style scoped>\n",
       "    .dataframe tbody tr th:only-of-type {\n",
       "        vertical-align: middle;\n",
       "    }\n",
       "\n",
       "    .dataframe tbody tr th {\n",
       "        vertical-align: top;\n",
       "    }\n",
       "\n",
       "    .dataframe thead th {\n",
       "        text-align: right;\n",
       "    }\n",
       "</style>\n",
       "<table border=\"1\" class=\"dataframe\">\n",
       "  <thead>\n",
       "    <tr style=\"text-align: right;\">\n",
       "      <th></th>\n",
       "      <th>HTAN_Center</th>\n",
       "      <th>Tumor_Tissue_Type</th>\n",
       "      <th>Histologic_Morphology_Code</th>\n",
       "    </tr>\n",
       "  </thead>\n",
       "  <tbody>\n",
       "    <tr>\n",
       "      <th>0</th>\n",
       "      <td>HTAN WUSTL</td>\n",
       "      <td>Premalignant</td>\n",
       "      <td>9732/3</td>\n",
       "    </tr>\n",
       "    <tr>\n",
       "      <th>1</th>\n",
       "      <td>HTAN WUSTL</td>\n",
       "      <td>Premalignant</td>\n",
       "      <td>9732/3</td>\n",
       "    </tr>\n",
       "    <tr>\n",
       "      <th>2</th>\n",
       "      <td>HTAN WUSTL</td>\n",
       "      <td>Premalignant</td>\n",
       "      <td>9732/3</td>\n",
       "    </tr>\n",
       "    <tr>\n",
       "      <th>3</th>\n",
       "      <td>HTAN WUSTL</td>\n",
       "      <td>Premalignant</td>\n",
       "      <td>9732/3</td>\n",
       "    </tr>\n",
       "    <tr>\n",
       "      <th>4</th>\n",
       "      <td>HTAN WUSTL</td>\n",
       "      <td>Premalignant</td>\n",
       "      <td>9732/3</td>\n",
       "    </tr>\n",
       "    <tr>\n",
       "      <th>...</th>\n",
       "      <td>...</td>\n",
       "      <td>...</td>\n",
       "      <td>...</td>\n",
       "    </tr>\n",
       "    <tr>\n",
       "      <th>1123</th>\n",
       "      <td>HTAN BU</td>\n",
       "      <td>Atypia - hyperplasia</td>\n",
       "      <td>Not Specified</td>\n",
       "    </tr>\n",
       "    <tr>\n",
       "      <th>1124</th>\n",
       "      <td>HTAN BU</td>\n",
       "      <td>Atypia - hyperplasia</td>\n",
       "      <td>Not Specified</td>\n",
       "    </tr>\n",
       "    <tr>\n",
       "      <th>1125</th>\n",
       "      <td>HTAN BU</td>\n",
       "      <td>Premalignant</td>\n",
       "      <td>Not Specified</td>\n",
       "    </tr>\n",
       "    <tr>\n",
       "      <th>1126</th>\n",
       "      <td>HTAN BU</td>\n",
       "      <td>Premalignant</td>\n",
       "      <td>Not Specified</td>\n",
       "    </tr>\n",
       "    <tr>\n",
       "      <th>1127</th>\n",
       "      <td>HTAN BU</td>\n",
       "      <td>Atypia - hyperplasia</td>\n",
       "      <td>Not Specified</td>\n",
       "    </tr>\n",
       "  </tbody>\n",
       "</table>\n",
       "<p>1128 rows × 3 columns</p>\n",
       "</div>"
      ],
      "text/plain": [
       "     HTAN_Center     Tumor_Tissue_Type Histologic_Morphology_Code\n",
       "0     HTAN WUSTL          Premalignant                     9732/3\n",
       "1     HTAN WUSTL          Premalignant                     9732/3\n",
       "2     HTAN WUSTL          Premalignant                     9732/3\n",
       "3     HTAN WUSTL          Premalignant                     9732/3\n",
       "4     HTAN WUSTL          Premalignant                     9732/3\n",
       "...          ...                   ...                        ...\n",
       "1123     HTAN BU  Atypia - hyperplasia              Not Specified\n",
       "1124     HTAN BU  Atypia - hyperplasia              Not Specified\n",
       "1125     HTAN BU          Premalignant              Not Specified\n",
       "1126     HTAN BU          Premalignant              Not Specified\n",
       "1127     HTAN BU  Atypia - hyperplasia              Not Specified\n",
       "\n",
       "[1128 rows x 3 columns]"
      ]
     },
     "execution_count": 14,
     "metadata": {},
     "output_type": "execute_result"
    }
   ],
   "source": [
    "hmc_all = client.query(\"\"\"\n",
    "  SELECT HTAN_Center,Tumor_Tissue_Type, Histologic_Morphology_Code\n",
    "  FROM `isb-cgc-bq.HTAN.biospecimen_current`\n",
    "  WHERE Tumor_Tissue_Type='Atypia - hyperplasia'\n",
    "  OR Tumor_Tissue_Type='Premalignant'\n",
    "  OR Tumor_Tissue_Type='Premalignant - in situ'\n",
    "  ORDER BY HTAN_Center DESC, Histologic_Morphology_Code\n",
    "\"\"\").result().to_dataframe()\n",
    "\n",
    "hmc_all"
   ]
  },
  {
   "cell_type": "markdown",
   "metadata": {},
   "source": [
    "When reviewing the `Histologic_Morphology_Code` data element, we find that while some entries are valid morphology codes, some are full International Classification of Diseases for Oncology, Third Edition (ICD-O-3) codes. This field is specifically intended to capture *only morphology codes*. However, since data is entered by different HTAN Centers, some inconsistencies are to be expected."
   ]
  },
  {
   "cell_type": "code",
   "execution_count": 15,
   "metadata": {},
   "outputs": [
    {
     "data": {
      "text/plain": [
       "['9732/3',\n",
       " '0',\n",
       " 'M82110',\n",
       " 'M82130',\n",
       " 'M82630',\n",
       " 'Unknown',\n",
       " 'Not Available',\n",
       " '8220/0',\n",
       " 'unknown',\n",
       " '8500',\n",
       " '99999',\n",
       " 'Not Specified']"
      ]
     },
     "execution_count": 15,
     "metadata": {},
     "output_type": "execute_result"
    }
   ],
   "source": [
    "hmc_all['Histologic_Morphology_Code'].unique().tolist()"
   ]
  },
  {
   "cell_type": "markdown",
   "metadata": {},
   "source": [
    "This isn't a big issue as we can easily filter the results to include only the appropriate values for this scenario. Specifically, we will exclude entries that are unknown, not specified, or correspond to malignant ICD-O-3 behavior codes.\n",
    "\n",
    "**Note:** Values such as `0` and `99999` are *not valid* codes. They indicate missing, unknown, or unspecified data.\n",
    "\n",
    "ICD-O-3 codes follow a specific structure:\n",
    "\n",
    "- The first four digits represent the histologic type.\n",
    "\n",
    "- The digit following the slash indicates tumor behavior:\n",
    "\n",
    "  - `/0` = benign\n",
    "\n",
    "  - `/1` = uncertain \n",
    "\n",
    "  - `/2` = in situ\n",
    "\n",
    "  - `/3` = malignant\n",
    "\n",
    "  - `/6` = metastatic (secondary)\n",
    "\n",
    "By filtering out malignant and invalid codes, we ensure that only relevant precancer morphology codes are used in downstream analyses."
   ]
  },
  {
   "cell_type": "code",
   "execution_count": 18,
   "metadata": {},
   "outputs": [
    {
     "data": {
      "text/html": [
       "<div>\n",
       "<style scoped>\n",
       "    .dataframe tbody tr th:only-of-type {\n",
       "        vertical-align: middle;\n",
       "    }\n",
       "\n",
       "    .dataframe tbody tr th {\n",
       "        vertical-align: top;\n",
       "    }\n",
       "\n",
       "    .dataframe thead th {\n",
       "        text-align: right;\n",
       "    }\n",
       "</style>\n",
       "<table border=\"1\" class=\"dataframe\">\n",
       "  <thead>\n",
       "    <tr style=\"text-align: right;\">\n",
       "      <th></th>\n",
       "      <th>HTAN_Center</th>\n",
       "      <th>Tumor_Tissue_Type</th>\n",
       "      <th>Histologic_Morphology_Code</th>\n",
       "    </tr>\n",
       "  </thead>\n",
       "  <tbody>\n",
       "    <tr>\n",
       "      <th>15</th>\n",
       "      <td>HTAN Vanderbilt</td>\n",
       "      <td>Premalignant</td>\n",
       "      <td>M82110</td>\n",
       "    </tr>\n",
       "    <tr>\n",
       "      <th>16</th>\n",
       "      <td>HTAN Vanderbilt</td>\n",
       "      <td>Premalignant</td>\n",
       "      <td>M82110</td>\n",
       "    </tr>\n",
       "    <tr>\n",
       "      <th>17</th>\n",
       "      <td>HTAN Vanderbilt</td>\n",
       "      <td>Premalignant</td>\n",
       "      <td>M82110</td>\n",
       "    </tr>\n",
       "    <tr>\n",
       "      <th>18</th>\n",
       "      <td>HTAN Vanderbilt</td>\n",
       "      <td>Premalignant</td>\n",
       "      <td>M82110</td>\n",
       "    </tr>\n",
       "    <tr>\n",
       "      <th>19</th>\n",
       "      <td>HTAN Vanderbilt</td>\n",
       "      <td>Premalignant</td>\n",
       "      <td>M82110</td>\n",
       "    </tr>\n",
       "    <tr>\n",
       "      <th>...</th>\n",
       "      <td>...</td>\n",
       "      <td>...</td>\n",
       "      <td>...</td>\n",
       "    </tr>\n",
       "    <tr>\n",
       "      <th>117</th>\n",
       "      <td>HTAN Vanderbilt</td>\n",
       "      <td>Premalignant</td>\n",
       "      <td>M82630</td>\n",
       "    </tr>\n",
       "    <tr>\n",
       "      <th>345</th>\n",
       "      <td>HTAN SRRS</td>\n",
       "      <td>Premalignant</td>\n",
       "      <td>8220/0</td>\n",
       "    </tr>\n",
       "    <tr>\n",
       "      <th>346</th>\n",
       "      <td>HTAN SRRS</td>\n",
       "      <td>Premalignant</td>\n",
       "      <td>8220/0</td>\n",
       "    </tr>\n",
       "    <tr>\n",
       "      <th>347</th>\n",
       "      <td>HTAN SRRS</td>\n",
       "      <td>Premalignant</td>\n",
       "      <td>8220/0</td>\n",
       "    </tr>\n",
       "    <tr>\n",
       "      <th>348</th>\n",
       "      <td>HTAN SRRS</td>\n",
       "      <td>Premalignant</td>\n",
       "      <td>8220/0</td>\n",
       "    </tr>\n",
       "  </tbody>\n",
       "</table>\n",
       "<p>107 rows × 3 columns</p>\n",
       "</div>"
      ],
      "text/plain": [
       "         HTAN_Center Tumor_Tissue_Type Histologic_Morphology_Code\n",
       "15   HTAN Vanderbilt      Premalignant                     M82110\n",
       "16   HTAN Vanderbilt      Premalignant                     M82110\n",
       "17   HTAN Vanderbilt      Premalignant                     M82110\n",
       "18   HTAN Vanderbilt      Premalignant                     M82110\n",
       "19   HTAN Vanderbilt      Premalignant                     M82110\n",
       "..               ...               ...                        ...\n",
       "117  HTAN Vanderbilt      Premalignant                     M82630\n",
       "345        HTAN SRRS      Premalignant                     8220/0\n",
       "346        HTAN SRRS      Premalignant                     8220/0\n",
       "347        HTAN SRRS      Premalignant                     8220/0\n",
       "348        HTAN SRRS      Premalignant                     8220/0\n",
       "\n",
       "[107 rows x 3 columns]"
      ]
     },
     "execution_count": 18,
     "metadata": {},
     "output_type": "execute_result"
    }
   ],
   "source": [
    "exclude_vals = ['9732/3', '8500', 'Not Specified', 'Unknown', 'unknown', 'Not Available', '0', '99999']\n",
    "filtered_hmc = hmc_all[~hmc_all['Histologic_Morphology_Code'].isin(exclude_vals)]\n",
    "filtered_hmc"
   ]
  },
  {
   "cell_type": "markdown",
   "metadata": {
    "id": "45abPo3E-uPz"
   },
   "source": [
    "Examining the morphology codes after filtering inappropriate values, we find codes for tubular adenoma (M82110), serrated adenoma (M82130), tubulovillous adenoma (M82630), and the benign condition of adenomatous polyposis coli (8220/0). "
   ]
  },
  {
   "cell_type": "code",
   "execution_count": 22,
   "metadata": {
    "colab": {
     "base_uri": "https://localhost:8080/",
     "height": 269
    },
    "id": "aClrENYOZhIS",
    "outputId": "ecd20652-abd9-4563-9170-59c4c20158fd"
   },
   "outputs": [
    {
     "data": {
      "text/html": [
       "<div>\n",
       "<style scoped>\n",
       "    .dataframe tbody tr th:only-of-type {\n",
       "        vertical-align: middle;\n",
       "    }\n",
       "\n",
       "    .dataframe tbody tr th {\n",
       "        vertical-align: top;\n",
       "    }\n",
       "\n",
       "    .dataframe thead th {\n",
       "        text-align: right;\n",
       "    }\n",
       "</style>\n",
       "<table border=\"1\" class=\"dataframe\">\n",
       "  <thead>\n",
       "    <tr style=\"text-align: right;\">\n",
       "      <th></th>\n",
       "      <th>Tumor_Tissue_Type</th>\n",
       "      <th>Histologic_Morphology_Code</th>\n",
       "      <th>Count</th>\n",
       "    </tr>\n",
       "  </thead>\n",
       "  <tbody>\n",
       "    <tr>\n",
       "      <th>0</th>\n",
       "      <td>Premalignant</td>\n",
       "      <td>M82110</td>\n",
       "      <td>72</td>\n",
       "    </tr>\n",
       "    <tr>\n",
       "      <th>1</th>\n",
       "      <td>Premalignant</td>\n",
       "      <td>M82130</td>\n",
       "      <td>24</td>\n",
       "    </tr>\n",
       "    <tr>\n",
       "      <th>2</th>\n",
       "      <td>Premalignant</td>\n",
       "      <td>M82630</td>\n",
       "      <td>7</td>\n",
       "    </tr>\n",
       "    <tr>\n",
       "      <th>3</th>\n",
       "      <td>Premalignant</td>\n",
       "      <td>8220/0</td>\n",
       "      <td>4</td>\n",
       "    </tr>\n",
       "  </tbody>\n",
       "</table>\n",
       "</div>"
      ],
      "text/plain": [
       "  Tumor_Tissue_Type Histologic_Morphology_Code  Count\n",
       "0      Premalignant                     M82110     72\n",
       "1      Premalignant                     M82130     24\n",
       "2      Premalignant                     M82630      7\n",
       "3      Premalignant                     8220/0      4"
      ]
     },
     "execution_count": 22,
     "metadata": {},
     "output_type": "execute_result"
    }
   ],
   "source": [
    "hmc = client.query(\"\"\"\n",
    "  SELECT Tumor_Tissue_Type, Histologic_Morphology_Code, COUNT(*) AS Count\n",
    "  FROM isb-cgc-bq.HTAN.biospecimen_current\n",
    "  WHERE (Tumor_Tissue_Type = 'Atypia - hyperplasia'\n",
    "         OR Tumor_Tissue_Type = 'Premalignant'\n",
    "         OR Tumor_Tissue_Type = 'Premalignant - in situ')\n",
    "    AND Histologic_Morphology_Code NOT IN ('9732/3', '8500', 'Not Specified', 'Unknown', 'unknown', 'Not Available', '0', '99999')\n",
    "  GROUP BY Tumor_Tissue_Type, Histologic_Morphology_Code\n",
    "\"\"\").result().to_dataframe()\n",
    "\n",
    "hmc"
   ]
  },
  {
   "cell_type": "markdown",
   "metadata": {
    "id": "b7zHgALTFzJi"
   },
   "source": [
    "The morphology codes allow further granularity for selecting specific types of precancer samples."
   ]
  },
  {
   "cell_type": "markdown",
   "metadata": {
    "id": "smV887sOalPu"
   },
   "source": [
    "## 5.3 Final Outputs\n"
   ]
  },
  {
   "cell_type": "markdown",
   "metadata": {
    "id": "ImRgIFOGxa_m"
   },
   "source": [
    "Using the queries described above, we can identify a set of participants as precancerous cases and a set of biospecimens containing precancerous lesion.  Because of limitations in the data, the sets may not be exhaustive, however the included cases and specimens are definitively annotated as precancerous."
   ]
  },
  {
   "cell_type": "markdown",
   "metadata": {
    "id": "J2U3TZuI4S81"
   },
   "source": [
    "HTAN Precancerous Cases: output 1045 cases."
   ]
  },
  {
   "cell_type": "code",
   "execution_count": 20,
   "metadata": {
    "colab": {
     "base_uri": "https://localhost:8080/",
     "height": 424
    },
    "id": "6xnaJYz1yu_Q",
    "outputId": "b3103c50-1f89-4982-8ee6-f9cc6be1f8c1"
   },
   "outputs": [
    {
     "data": {
      "text/html": [
       "<div>\n",
       "<style scoped>\n",
       "    .dataframe tbody tr th:only-of-type {\n",
       "        vertical-align: middle;\n",
       "    }\n",
       "\n",
       "    .dataframe tbody tr th {\n",
       "        vertical-align: top;\n",
       "    }\n",
       "\n",
       "    .dataframe thead th {\n",
       "        text-align: right;\n",
       "    }\n",
       "</style>\n",
       "<table border=\"1\" class=\"dataframe\">\n",
       "  <thead>\n",
       "    <tr style=\"text-align: right;\">\n",
       "      <th></th>\n",
       "      <th>HTAN_Center</th>\n",
       "      <th>HTAN_Participant_ID</th>\n",
       "    </tr>\n",
       "  </thead>\n",
       "  <tbody>\n",
       "    <tr>\n",
       "      <th>0</th>\n",
       "      <td>HTAN HTAPP</td>\n",
       "      <td>HTA2_225</td>\n",
       "    </tr>\n",
       "    <tr>\n",
       "      <th>1</th>\n",
       "      <td>HTAN HTAPP</td>\n",
       "      <td>HTA2_229</td>\n",
       "    </tr>\n",
       "    <tr>\n",
       "      <th>2</th>\n",
       "      <td>HTAN Vanderbilt</td>\n",
       "      <td>HTA11_10034</td>\n",
       "    </tr>\n",
       "    <tr>\n",
       "      <th>3</th>\n",
       "      <td>HTAN Vanderbilt</td>\n",
       "      <td>HTA11_10167</td>\n",
       "    </tr>\n",
       "    <tr>\n",
       "      <th>4</th>\n",
       "      <td>HTAN Vanderbilt</td>\n",
       "      <td>HTA11_104</td>\n",
       "    </tr>\n",
       "    <tr>\n",
       "      <th>...</th>\n",
       "      <td>...</td>\n",
       "      <td>...</td>\n",
       "    </tr>\n",
       "    <tr>\n",
       "      <th>1040</th>\n",
       "      <td>HTAN Duke</td>\n",
       "      <td>HTA6_2505</td>\n",
       "    </tr>\n",
       "    <tr>\n",
       "      <th>1041</th>\n",
       "      <td>HTAN Duke</td>\n",
       "      <td>HTA6_2506</td>\n",
       "    </tr>\n",
       "    <tr>\n",
       "      <th>1042</th>\n",
       "      <td>HTAN Duke</td>\n",
       "      <td>HTA6_2507</td>\n",
       "    </tr>\n",
       "    <tr>\n",
       "      <th>1043</th>\n",
       "      <td>HTAN Duke</td>\n",
       "      <td>HTA6_2508</td>\n",
       "    </tr>\n",
       "    <tr>\n",
       "      <th>1044</th>\n",
       "      <td>HTAN Duke</td>\n",
       "      <td>HTA6_2509</td>\n",
       "    </tr>\n",
       "  </tbody>\n",
       "</table>\n",
       "<p>1045 rows × 2 columns</p>\n",
       "</div>"
      ],
      "text/plain": [
       "          HTAN_Center HTAN_Participant_ID\n",
       "0          HTAN HTAPP            HTA2_225\n",
       "1          HTAN HTAPP            HTA2_229\n",
       "2     HTAN Vanderbilt         HTA11_10034\n",
       "3     HTAN Vanderbilt         HTA11_10167\n",
       "4     HTAN Vanderbilt           HTA11_104\n",
       "...               ...                 ...\n",
       "1040        HTAN Duke           HTA6_2505\n",
       "1041        HTAN Duke           HTA6_2506\n",
       "1042        HTAN Duke           HTA6_2507\n",
       "1043        HTAN Duke           HTA6_2508\n",
       "1044        HTAN Duke           HTA6_2509\n",
       "\n",
       "[1045 rows x 2 columns]"
      ]
     },
     "execution_count": 20,
     "metadata": {},
     "output_type": "execute_result"
    }
   ],
   "source": [
    "pcc_all = client.query(\"\"\"\n",
    "  SELECT HTAN_Center, HTAN_Participant_ID\n",
    "  FROM `isb-cgc-bq.HTAN.clinical_tier1_diagnosis_current`\n",
    "  WHERE Age_at_Diagnosis = '0'\n",
    "  OR (Precancerous_Condition_Type IS NOT NULL AND Precancerous_Condition_Type != \"Not Applicable\")\n",
    "  OR Primary_Diagnosis = 'Ductal carcinoma in situ NOS'\n",
    "  GROUP BY HTAN_Center, HTAN_Participant_ID\n",
    "\"\"\").result().to_dataframe()\n",
    "\n",
    "pcc_all"
   ]
  },
  {
   "cell_type": "markdown",
   "metadata": {
    "id": "9Xd6SdVP4dlc"
   },
   "source": [
    "HTAN Precancerous Specimens: output 1128 specimens"
   ]
  },
  {
   "cell_type": "code",
   "execution_count": 21,
   "metadata": {
    "colab": {
     "base_uri": "https://localhost:8080/",
     "height": 424
    },
    "id": "GtjmHdrx4g_d",
    "outputId": "d443f4db-3580-420c-90d4-c0234f9403d4"
   },
   "outputs": [
    {
     "data": {
      "text/html": [
       "<div>\n",
       "<style scoped>\n",
       "    .dataframe tbody tr th:only-of-type {\n",
       "        vertical-align: middle;\n",
       "    }\n",
       "\n",
       "    .dataframe tbody tr th {\n",
       "        vertical-align: top;\n",
       "    }\n",
       "\n",
       "    .dataframe thead th {\n",
       "        text-align: right;\n",
       "    }\n",
       "</style>\n",
       "<table border=\"1\" class=\"dataframe\">\n",
       "  <thead>\n",
       "    <tr style=\"text-align: right;\">\n",
       "      <th></th>\n",
       "      <th>HTAN_Center</th>\n",
       "      <th>Tumor_Tissue_Type</th>\n",
       "      <th>HTAN_Biospecimen_ID</th>\n",
       "    </tr>\n",
       "  </thead>\n",
       "  <tbody>\n",
       "    <tr>\n",
       "      <th>0</th>\n",
       "      <td>HTAN HTAPP</td>\n",
       "      <td>Premalignant - in situ</td>\n",
       "      <td>HTA2_229_1</td>\n",
       "    </tr>\n",
       "    <tr>\n",
       "      <th>1</th>\n",
       "      <td>HTAN HTAPP</td>\n",
       "      <td>Premalignant - in situ</td>\n",
       "      <td>HTA2_225_1</td>\n",
       "    </tr>\n",
       "    <tr>\n",
       "      <th>2</th>\n",
       "      <td>HTAN Vanderbilt</td>\n",
       "      <td>Premalignant</td>\n",
       "      <td>HTA11_10034_2000001011</td>\n",
       "    </tr>\n",
       "    <tr>\n",
       "      <th>3</th>\n",
       "      <td>HTAN Vanderbilt</td>\n",
       "      <td>Premalignant</td>\n",
       "      <td>HTA11_10167_2000001011</td>\n",
       "    </tr>\n",
       "    <tr>\n",
       "      <th>4</th>\n",
       "      <td>HTAN Vanderbilt</td>\n",
       "      <td>Premalignant</td>\n",
       "      <td>HTA11_104_2000001011</td>\n",
       "    </tr>\n",
       "    <tr>\n",
       "      <th>...</th>\n",
       "      <td>...</td>\n",
       "      <td>...</td>\n",
       "      <td>...</td>\n",
       "    </tr>\n",
       "    <tr>\n",
       "      <th>1123</th>\n",
       "      <td>HTAN Stanford</td>\n",
       "      <td>Premalignant</td>\n",
       "      <td>HTA10_16_116</td>\n",
       "    </tr>\n",
       "    <tr>\n",
       "      <th>1124</th>\n",
       "      <td>HTAN SRRS</td>\n",
       "      <td>Premalignant</td>\n",
       "      <td>HTA15_100005_007</td>\n",
       "    </tr>\n",
       "    <tr>\n",
       "      <th>1125</th>\n",
       "      <td>HTAN SRRS</td>\n",
       "      <td>Premalignant</td>\n",
       "      <td>HTA15_100005_007001</td>\n",
       "    </tr>\n",
       "    <tr>\n",
       "      <th>1126</th>\n",
       "      <td>HTAN SRRS</td>\n",
       "      <td>Premalignant</td>\n",
       "      <td>HTA15_100004_114</td>\n",
       "    </tr>\n",
       "    <tr>\n",
       "      <th>1127</th>\n",
       "      <td>HTAN SRRS</td>\n",
       "      <td>Premalignant</td>\n",
       "      <td>HTA15_100004_114001</td>\n",
       "    </tr>\n",
       "  </tbody>\n",
       "</table>\n",
       "<p>1128 rows × 3 columns</p>\n",
       "</div>"
      ],
      "text/plain": [
       "          HTAN_Center       Tumor_Tissue_Type     HTAN_Biospecimen_ID\n",
       "0          HTAN HTAPP  Premalignant - in situ              HTA2_229_1\n",
       "1          HTAN HTAPP  Premalignant - in situ              HTA2_225_1\n",
       "2     HTAN Vanderbilt            Premalignant  HTA11_10034_2000001011\n",
       "3     HTAN Vanderbilt            Premalignant  HTA11_10167_2000001011\n",
       "4     HTAN Vanderbilt            Premalignant    HTA11_104_2000001011\n",
       "...               ...                     ...                     ...\n",
       "1123    HTAN Stanford            Premalignant            HTA10_16_116\n",
       "1124        HTAN SRRS            Premalignant        HTA15_100005_007\n",
       "1125        HTAN SRRS            Premalignant     HTA15_100005_007001\n",
       "1126        HTAN SRRS            Premalignant        HTA15_100004_114\n",
       "1127        HTAN SRRS            Premalignant     HTA15_100004_114001\n",
       "\n",
       "[1128 rows x 3 columns]"
      ]
     },
     "execution_count": 21,
     "metadata": {},
     "output_type": "execute_result"
    }
   ],
   "source": [
    "pcs_all = client.query(\"\"\"\n",
    "  SELECT HTAN_Center, Tumor_Tissue_Type, HTAN_Biospecimen_ID\n",
    "  FROM `isb-cgc-bq.HTAN.biospecimen_current`\n",
    "  WHERE Tumor_Tissue_Type in\n",
    "    ('Atypia - hyperplasia',\n",
    "    'Premalignant',\n",
    "    'Premalignant - in situ')\n",
    "\"\"\").result().to_dataframe()\n",
    "\n",
    "pcs_all"
   ]
  },
  {
   "cell_type": "markdown",
   "metadata": {
    "id": "vFHgHAKCZhIS"
   },
   "source": [
    "# 5. Relevant Citations and Links\n",
    "\n"
   ]
  },
  {
   "cell_type": "markdown",
   "metadata": {
    "id": "4GRBw0oP_xjf"
   },
   "source": [
    "[HTAN Portal](https://humantumoratlas.org)\n",
    "\n",
    "[Overview paper, Cell, April 2020](https://www.sciencedirect.com/science/article/pii/S0092867420303469)\n",
    "\n",
    "[Cancer Prevention Research, July 2023](https://aacrjournals.org/cancerpreventionresearch/article-abstract/16/7/379/727480/PreCancer-Atlas-Present-and-FuturePreCancer)\n",
    "\n",
    "[Internaltional Classification of Diseases for Oncology, Third Edition](https://iris.who.int/bitstream/handle/10665/96612/9789241548496_eng.pdf;jsessionid=BD11257ACC2153EBC1E722C3B4E8E7AE?sequence=1)"
   ]
  }
 ],
 "metadata": {
  "colab": {
   "provenance": []
  },
  "kernelspec": {
   "display_name": "Python 3 (ipykernel)",
   "language": "python",
   "name": "python3"
  },
  "language_info": {
   "codemirror_mode": {
    "name": "ipython",
    "version": 3
   },
   "file_extension": ".py",
   "mimetype": "text/x-python",
   "name": "python",
   "nbconvert_exporter": "python",
   "pygments_lexer": "ipython3",
   "version": "3.10.16"
  }
 },
 "nbformat": 4,
 "nbformat_minor": 4
}
