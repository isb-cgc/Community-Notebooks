{
 "cells": [
  {
   "cell_type": "markdown",
   "metadata": {
    "colab_type": "text",
    "id": "view-in-github"
   },
   "source": [
    "<a href=\"https://colab.research.google.com/github/isb-cgc/Community-Notebooks/blob/master/HTAN/Python%20Notebooks/Creating_CDS_Data_Import_Manifests_Using_BQ.ipynb\" target=\"_parent\"><img src=\"https://colab.research.google.com/assets/colab-badge.svg\" alt=\"Open In Colab\"/></a>"
   ]
  },
  {
   "cell_type": "markdown",
   "metadata": {
    "id": "6Txfb89x1dBp"
   },
   "source": [
    "# Creating General Commons Data Import Manifests Using Google BigQuery\n",
    "\n",
    "\n"
   ]
  },
  {
   "cell_type": "markdown",
   "metadata": {
    "id": "zMcj6UfWZhIN"
   },
   "source": [
    "        Title:   Creating General Commons Data Import Manifests Using Google BigQuery\n",
    "        Author:  Clarisse Lau\n",
    "        Created: April 2024\n",
    "        Updated: June 25 2025\n",
    "        Purpose: Demonstrate how Google BigQuery tables can be used to generate a DRS manifest for retrieval of data from the CRDC General Commons (GC)\n"
   ]
  },
  {
   "cell_type": "markdown",
   "metadata": {
    "id": "uGfVon9jZhIO"
   },
   "source": [
    "# 1. Introduction & Overview\n",
    "The Human Tumor Atlas Network ([HTAN](https://humantumoratlas.org/)) is a National Cancer Institute (NCI)-funded Cancer Moonshot<sup>SM</sup> initiative to construct 3-dimensional atlases of the dynamic cellular, morphological, and molecular features of human cancers as they evolve from precancerous lesions to advanced disease [[Cell April 2020](https://www.sciencedirect.com/science/article/pii/S0092867420303469)]\n",
    "\n",
    "\n",
    "### 1.1 Goal\n",
    "The General Commons (GC) houses HTAN controlled-access genomic level 1 & 2 data, and open-access imaging level 2 data accessible through the Seven Bridges Cancer Genomics Cloud (SB-CGC).\n",
    "\n",
    "To access General Commons data, users are encouraged to utilize the [Import from a manifest file](https://docs.cancergenomicscloud.org/docs/import-from-a-drs-server#import-from-a-manifest-file) method as detailed in the SB-CGC documentation. This involves importing a manifest file into their SB-CGC Data Studio workspace, which automatically retrieves files specified in the manifest.\n",
    "\n",
    "Manifests for HTAN data can be generated in three different ways. This notebook aims to illustrate the process of creating a General Commons Data Repository Service (DRS) manifest compatible with the above import method using Google BigQuery.\n",
    "\n",
    "The remaining two methods for generating manifests are described in the HTAN Missing Manual: HTAN Missing Manual: https://docs.humantumoratlas.org/access_controlled/cds_access/\n",
    "\n",
    "### 1.2 Inputs, Outputs, & Data\n",
    "The originating data can be found on the [HTAN Data Portal](https://humantumoratlas.org/), and the compiled tables are on the [ISB-Cancer Gateway in the Cloud](https://isb-cgc.appspot.com/bq_meta_search/).\n",
    "\n",
    "Each query output loads to a Data Table, an interactive display of resulting columns and rows. You are able to select the link below the table to review the [Data Table Notebook](https://colab.research.google.com/notebooks/data_table.ipynb) that gives tips on filtering and further customizing the table.\n",
    "\n",
    "### 1.3 Notes\n",
    "The queries and results in this notebook correspond to ISB-CGC HTAN Release 6.0.\n",
    "\n",
    "To choose a different release, edit the BigQuery table names in this notebook by replacing the relevant string endings:\n",
    "- `r6` with a selected numbered release, e.g., `r2`\n",
    "- `r6_v2` with `r5`\n",
    "- `gc` with `cds`\n",
    "\n",
    "To get results for the most current data release, replace:\n",
    "- `r6` and `r6_v2` with `current`\n",
    "- `HTAN_versioned` with `HTAN`\n",
    "\n",
    "#\n",
    "### ⚠️PAUSE\n",
    "Notebooks associated with ISB-CGC HTAN Releases 6.0 or earlier are based on the **HTAN Phase 1 Data Model**. Please be aware that the structure, terminology, and available data elements may differ from those in Phase 2. "
   ]
  },
  {
   "cell_type": "markdown",
   "metadata": {
    "id": "WtXCdZkHZhIP"
   },
   "source": [
    "# 2. Environment & Module Setup"
   ]
  },
  {
   "cell_type": "code",
   "execution_count": 2,
   "metadata": {
    "id": "23HqZ7JHerJb"
   },
   "outputs": [],
   "source": [
    "# import libraries\n",
    "import pandas as pd"
   ]
  },
  {
   "cell_type": "markdown",
   "metadata": {
    "id": "oUon0FTNWdjW"
   },
   "source": [
    "Enable interactive table formatting:"
   ]
  },
  {
   "cell_type": "code",
   "execution_count": 3,
   "metadata": {
    "id": "fnYU8ieSWcyp"
   },
   "outputs": [],
   "source": [
    "from google.colab import data_table\n",
    "data_table.enable_dataframe_formatter()"
   ]
  },
  {
   "cell_type": "markdown",
   "metadata": {
    "id": "cYXyqXrWZhIQ"
   },
   "source": [
    "# 3. Google Authentication\n",
    "\n",
    "Running the BigQuery cells in this notebook requires a Google Cloud Project. Instructions for creating a project can be found in [Google Cloud Documentation](https://cloud.google.com/resource-manager/docs/creating-managing-projects#console). The instance needs to be authorized to bill the project for queries. For more information on getting started with ISB-CGC see [Quick Start Guide to ISB-CGC](https://isb-cancer-genomics-cloud.readthedocs.io/en/latest/sections/HowToGetStartedonISB-CGC.html) and alternative authentication methods can be found in [Google Cloud Authentication Documentation](https://cloud.google.com/docs/authentication)."
   ]
  },
  {
   "cell_type": "markdown",
   "metadata": {
    "id": "Um6iidSQO9Xe"
   },
   "source": [
    "## 3.1 Authenticating with Google Credentials\n",
    "\n"
   ]
  },
  {
   "cell_type": "markdown",
   "metadata": {
    "id": "hydziC4bOGdJ"
   },
   "source": [
    "#### Option 1. Running in Google Colab\n",
    "\n",
    "If you are using Google Colab, run the code block below to authenticate"
   ]
  },
  {
   "cell_type": "code",
   "execution_count": 3,
   "metadata": {
    "id": "4dnpfFKbOFyt"
   },
   "outputs": [],
   "source": [
    "from google.colab import auth\n",
    "auth.authenticate_user()"
   ]
  },
  {
   "cell_type": "markdown",
   "metadata": {
    "id": "OpWFw71KOKF1"
   },
   "source": [
    "#### Option 2. Running on local machine\n",
    "\n",
    "Alternatively, if you're running the notebook locally, take the following steps to authenticate.\n",
    "\n",
    "1.   Run `gcloud auth application-default login` on your local machine\n",
    "2.   Run the command below replacing `<path to key>` with the path to your credentials file"
   ]
  },
  {
   "cell_type": "code",
   "execution_count": null,
   "metadata": {
    "id": "ZTp9c55YZhIQ"
   },
   "outputs": [],
   "source": [
    "# env GOOGLE_APPLICATION_CREDENTIALS='<path to key>'"
   ]
  },
  {
   "cell_type": "markdown",
   "metadata": {
    "id": "4Q8BUEkKOViy"
   },
   "source": [
    "## 3.2 Initializing the Google BigQuery client\n"
   ]
  },
  {
   "cell_type": "code",
   "execution_count": 1,
   "metadata": {
    "id": "XC28LG7XZhIR"
   },
   "outputs": [],
   "source": [
    "# Import the Google BigQuery client\n",
    "from google.cloud import bigquery\n",
    "\n",
    "# Set the Google project that will be billed for this notebook's computations\n",
    "# Replace <my-project> with your BigQuery Project ID\n",
    "google_project = '<my-project>'\n",
    "\n",
    "# Create a client to access the data within BigQuery\n",
    "client = bigquery.Client(google_project)"
   ]
  },
  {
   "cell_type": "markdown",
   "metadata": {
    "id": "6nmdWr96ZhIR"
   },
   "source": [
    "# 4. Selecting Data\n",
    "\n",
    "\n"
   ]
  },
  {
   "cell_type": "markdown",
   "metadata": {
    "id": "LXaVuq-JRaQD"
   },
   "source": [
    "In this example, we select for a subset of CyCIF images submitted by the HTAN TNP-SARDANA center. The `CDS_Release` indicator allows us to select for files that are available in the General Commons."
   ]
  },
  {
   "cell_type": "code",
   "execution_count": 5,
   "metadata": {
    "colab": {
     "base_uri": "https://localhost:8080/",
     "height": 669
    },
    "id": "SDhMuFySv-qj",
    "outputId": "8218ecce-9f4c-4c7e-bc94-b1eeb7547fac"
   },
   "outputs": [
    {
     "data": {
      "application/vnd.google.colaboratory.module+javascript": "\n      import \"https://ssl.gstatic.com/colaboratory/data_table/81868506e94e6988/data_table.js\";\n\n      window.createDataTable({\n        data: [[{\n            'v': 0,\n            'f': \"0\",\n        },\n\"syn25075311\",\n\"Release 2.0\",\n\"v22.6.2.img\",\n\"imaging_level_2/WD-76845-002.ome.tif\",\n\"HTAN TNP SARDANA\"],\n [{\n            'v': 1,\n            'f': \"1\",\n        },\n\"syn25075782\",\n\"Release 2.0\",\n\"v22.6.2.img\",\n\"imaging_level_2/WD-76845-007.ome.tif\",\n\"HTAN TNP SARDANA\"],\n [{\n            'v': 2,\n            'f': \"2\",\n        },\n\"syn25076441\",\n\"Release 2.0\",\n\"v22.6.2.img\",\n\"imaging_level_2/WD-76845-014.ome.tif\",\n\"HTAN TNP SARDANA\"],\n [{\n            'v': 3,\n            'f': \"3\",\n        },\n\"syn25075400\",\n\"Release 2.0\",\n\"v22.6.2.img\",\n\"imaging_level_2/WD-76845-020.ome.tif\",\n\"HTAN TNP SARDANA\"],\n [{\n            'v': 4,\n            'f': \"4\",\n        },\n\"syn25075901\",\n\"Release 2.0\",\n\"v22.6.2.img\",\n\"imaging_level_2/WD-76845-025.ome.tif\",\n\"HTAN TNP SARDANA\"],\n [{\n            'v': 5,\n            'f': \"5\",\n        },\n\"syn25075429\",\n\"Release 2.0\",\n\"v22.6.2.img\",\n\"imaging_level_2/WD-76845-029.ome.tif\",\n\"HTAN TNP SARDANA\"],\n [{\n            'v': 6,\n            'f': \"6\",\n        },\n\"syn25075926\",\n\"Release 2.0\",\n\"v22.6.2.img\",\n\"imaging_level_2/WD-76845-034.ome.tif\",\n\"HTAN TNP SARDANA\"],\n [{\n            'v': 7,\n            'f': \"7\",\n        },\n\"syn25075282\",\n\"Release 2.0\",\n\"v22.6.2.img\",\n\"imaging_level_2/WD-76845-039.ome.tif\",\n\"HTAN TNP SARDANA\"],\n [{\n            'v': 8,\n            'f': \"8\",\n        },\n\"syn25075948\",\n\"Release 2.0\",\n\"v22.6.2.img\",\n\"imaging_level_2/WD-76845-044.ome.tif\",\n\"HTAN TNP SARDANA\"],\n [{\n            'v': 9,\n            'f': \"9\",\n        },\n\"syn25114909\",\n\"Release 2.0\",\n\"v22.6.2.img\",\n\"imaging_level_2/WD-76845-045.ome.tif\",\n\"HTAN TNP SARDANA\"],\n [{\n            'v': 10,\n            'f': \"10\",\n        },\n\"syn25115882\",\n\"Release 2.0\",\n\"v22.6.2.img\",\n\"imaging_level_2/WD-76845-046.ome.tif\",\n\"HTAN TNP SARDANA\"],\n [{\n            'v': 11,\n            'f': \"11\",\n        },\n\"syn25117091\",\n\"Release 2.0\",\n\"v22.6.2.img\",\n\"imaging_level_2/WD-76845-047.ome.tif\",\n\"HTAN TNP SARDANA\"],\n [{\n            'v': 12,\n            'f': \"12\",\n        },\n\"syn25076608\",\n\"Release 2.0\",\n\"v22.6.2.img\",\n\"imaging_level_2/WD-76845-049.ome.tif\",\n\"HTAN TNP SARDANA\"],\n [{\n            'v': 13,\n            'f': \"13\",\n        },\n\"syn25075278\",\n\"Release 2.0\",\n\"v22.6.2.img\",\n\"imaging_level_2/WD-76845-050.ome.tif\",\n\"HTAN TNP SARDANA\"],\n [{\n            'v': 14,\n            'f': \"14\",\n        },\n\"syn25075869\",\n\"Release 2.0\",\n\"v22.6.2.img\",\n\"imaging_level_2/WD-76845-051.ome.tif\",\n\"HTAN TNP SARDANA\"],\n [{\n            'v': 15,\n            'f': \"15\",\n        },\n\"syn25076268\",\n\"Release 2.0\",\n\"v22.6.2.img\",\n\"imaging_level_2/WD-76845-052.ome.tif\",\n\"HTAN TNP SARDANA\"],\n [{\n            'v': 16,\n            'f': \"16\",\n        },\n\"syn25075431\",\n\"Release 2.0\",\n\"v22.6.2.img\",\n\"imaging_level_2/WD-76845-054.ome.tif\",\n\"HTAN TNP SARDANA\"],\n [{\n            'v': 17,\n            'f': \"17\",\n        },\n\"syn25075912\",\n\"Release 2.0\",\n\"v22.6.2.img\",\n\"imaging_level_2/WD-76845-059.ome.tif\",\n\"HTAN TNP SARDANA\"],\n [{\n            'v': 18,\n            'f': \"18\",\n        },\n\"syn25076572\",\n\"Release 2.0\",\n\"v22.6.2.img\",\n\"imaging_level_2/WD-76845-064.ome.tif\",\n\"HTAN TNP SARDANA\"],\n [{\n            'v': 19,\n            'f': \"19\",\n        },\n\"syn25075484\",\n\"Release 2.0\",\n\"v22.6.2.img\",\n\"imaging_level_2/WD-76845-069.ome.tif\",\n\"HTAN TNP SARDANA\"],\n [{\n            'v': 20,\n            'f': \"20\",\n        },\n\"syn25076108\",\n\"Release 2.0\",\n\"v22.6.2.img\",\n\"imaging_level_2/WD-76845-074.ome.tif\",\n\"HTAN TNP SARDANA\"],\n [{\n            'v': 21,\n            'f': \"21\",\n        },\n\"syn25075415\",\n\"Release 2.0\",\n\"v22.6.2.img\",\n\"imaging_level_2/WD-76845-078.ome.tif\",\n\"HTAN TNP SARDANA\"],\n [{\n            'v': 22,\n            'f': \"22\",\n        },\n\"syn25076014\",\n\"Release 2.0\",\n\"v22.6.2.img\",\n\"imaging_level_2/WD-76845-084.ome.tif\",\n\"HTAN TNP SARDANA\"],\n [{\n            'v': 23,\n            'f': \"23\",\n        },\n\"syn25075411\",\n\"Release 2.0\",\n\"v22.6.2.img\",\n\"imaging_level_2/WD-76845-086.ome.tif\",\n\"HTAN TNP SARDANA\"],\n [{\n            'v': 24,\n            'f': \"24\",\n        },\n\"syn25076062\",\n\"Release 2.0\",\n\"v22.6.2.img\",\n\"imaging_level_2/WD-76845-091.ome.tif\",\n\"HTAN TNP SARDANA\"],\n [{\n            'v': 25,\n            'f': \"25\",\n        },\n\"syn25076711\",\n\"Release 2.0\",\n\"v22.6.2.img\",\n\"imaging_level_2/WD-76845-097.ome.tif\",\n\"HTAN TNP SARDANA\"],\n [{\n            'v': 26,\n            'f': \"26\",\n        },\n\"syn25075505\",\n\"Release 2.0\",\n\"v22.6.2.img\",\n\"imaging_level_2/WD-76845-102.ome.tif\",\n\"HTAN TNP SARDANA\"],\n [{\n            'v': 27,\n            'f': \"27\",\n        },\n\"syn25076147\",\n\"Release 2.0\",\n\"v22.6.2.img\",\n\"imaging_level_2/WD-76845-106.ome.tif\",\n\"HTAN TNP SARDANA\"],\n [{\n            'v': 28,\n            'f': \"28\",\n        },\n\"syn26643894\",\n\"Release 2.0\",\n\"v22.6.2.img\",\n\"imaging_level_2/73-8/CRC01b_07.ome.tif\",\n\"HTAN TNP SARDANA\"],\n [{\n            'v': 29,\n            'f': \"29\",\n        },\n\"syn26643896\",\n\"Release 2.0\",\n\"v22.6.2.img\",\n\"imaging_level_2/73-9/CRC01b_08.ome.tif\",\n\"HTAN TNP SARDANA\"]],\n        columns: [[\"number\", \"index\"], [\"string\", \"entityId\"], [\"string\", \"Data_Release\"], [\"string\", \"CDS_Release\"], [\"string\", \"Filename\"], [\"string\", \"HTAN_Center\"]],\n        rowsPerPage: 25,\n      });\n    ",
      "text/html": [
       "<div>\n",
       "<style scoped>\n",
       "    .dataframe tbody tr th:only-of-type {\n",
       "        vertical-align: middle;\n",
       "    }\n",
       "\n",
       "    .dataframe tbody tr th {\n",
       "        vertical-align: top;\n",
       "    }\n",
       "\n",
       "    .dataframe thead th {\n",
       "        text-align: right;\n",
       "    }\n",
       "</style>\n",
       "<table border=\"1\" class=\"dataframe\">\n",
       "  <thead>\n",
       "    <tr style=\"text-align: right;\">\n",
       "      <th></th>\n",
       "      <th>entityId</th>\n",
       "      <th>Data_Release</th>\n",
       "      <th>CDS_Release</th>\n",
       "      <th>Filename</th>\n",
       "      <th>HTAN_Center</th>\n",
       "    </tr>\n",
       "  </thead>\n",
       "  <tbody>\n",
       "    <tr>\n",
       "      <th>0</th>\n",
       "      <td>syn25075311</td>\n",
       "      <td>Release 2.0</td>\n",
       "      <td>v22.6.2.img</td>\n",
       "      <td>imaging_level_2/WD-76845-002.ome.tif</td>\n",
       "      <td>HTAN TNP SARDANA</td>\n",
       "    </tr>\n",
       "    <tr>\n",
       "      <th>1</th>\n",
       "      <td>syn25075782</td>\n",
       "      <td>Release 2.0</td>\n",
       "      <td>v22.6.2.img</td>\n",
       "      <td>imaging_level_2/WD-76845-007.ome.tif</td>\n",
       "      <td>HTAN TNP SARDANA</td>\n",
       "    </tr>\n",
       "    <tr>\n",
       "      <th>2</th>\n",
       "      <td>syn25076441</td>\n",
       "      <td>Release 2.0</td>\n",
       "      <td>v22.6.2.img</td>\n",
       "      <td>imaging_level_2/WD-76845-014.ome.tif</td>\n",
       "      <td>HTAN TNP SARDANA</td>\n",
       "    </tr>\n",
       "    <tr>\n",
       "      <th>3</th>\n",
       "      <td>syn25075400</td>\n",
       "      <td>Release 2.0</td>\n",
       "      <td>v22.6.2.img</td>\n",
       "      <td>imaging_level_2/WD-76845-020.ome.tif</td>\n",
       "      <td>HTAN TNP SARDANA</td>\n",
       "    </tr>\n",
       "    <tr>\n",
       "      <th>4</th>\n",
       "      <td>syn25075901</td>\n",
       "      <td>Release 2.0</td>\n",
       "      <td>v22.6.2.img</td>\n",
       "      <td>imaging_level_2/WD-76845-025.ome.tif</td>\n",
       "      <td>HTAN TNP SARDANA</td>\n",
       "    </tr>\n",
       "    <tr>\n",
       "      <th>5</th>\n",
       "      <td>syn25075429</td>\n",
       "      <td>Release 2.0</td>\n",
       "      <td>v22.6.2.img</td>\n",
       "      <td>imaging_level_2/WD-76845-029.ome.tif</td>\n",
       "      <td>HTAN TNP SARDANA</td>\n",
       "    </tr>\n",
       "    <tr>\n",
       "      <th>6</th>\n",
       "      <td>syn25075926</td>\n",
       "      <td>Release 2.0</td>\n",
       "      <td>v22.6.2.img</td>\n",
       "      <td>imaging_level_2/WD-76845-034.ome.tif</td>\n",
       "      <td>HTAN TNP SARDANA</td>\n",
       "    </tr>\n",
       "    <tr>\n",
       "      <th>7</th>\n",
       "      <td>syn25075282</td>\n",
       "      <td>Release 2.0</td>\n",
       "      <td>v22.6.2.img</td>\n",
       "      <td>imaging_level_2/WD-76845-039.ome.tif</td>\n",
       "      <td>HTAN TNP SARDANA</td>\n",
       "    </tr>\n",
       "    <tr>\n",
       "      <th>8</th>\n",
       "      <td>syn25075948</td>\n",
       "      <td>Release 2.0</td>\n",
       "      <td>v22.6.2.img</td>\n",
       "      <td>imaging_level_2/WD-76845-044.ome.tif</td>\n",
       "      <td>HTAN TNP SARDANA</td>\n",
       "    </tr>\n",
       "    <tr>\n",
       "      <th>9</th>\n",
       "      <td>syn25114909</td>\n",
       "      <td>Release 2.0</td>\n",
       "      <td>v22.6.2.img</td>\n",
       "      <td>imaging_level_2/WD-76845-045.ome.tif</td>\n",
       "      <td>HTAN TNP SARDANA</td>\n",
       "    </tr>\n",
       "    <tr>\n",
       "      <th>10</th>\n",
       "      <td>syn25115882</td>\n",
       "      <td>Release 2.0</td>\n",
       "      <td>v22.6.2.img</td>\n",
       "      <td>imaging_level_2/WD-76845-046.ome.tif</td>\n",
       "      <td>HTAN TNP SARDANA</td>\n",
       "    </tr>\n",
       "    <tr>\n",
       "      <th>11</th>\n",
       "      <td>syn25117091</td>\n",
       "      <td>Release 2.0</td>\n",
       "      <td>v22.6.2.img</td>\n",
       "      <td>imaging_level_2/WD-76845-047.ome.tif</td>\n",
       "      <td>HTAN TNP SARDANA</td>\n",
       "    </tr>\n",
       "    <tr>\n",
       "      <th>12</th>\n",
       "      <td>syn25076608</td>\n",
       "      <td>Release 2.0</td>\n",
       "      <td>v22.6.2.img</td>\n",
       "      <td>imaging_level_2/WD-76845-049.ome.tif</td>\n",
       "      <td>HTAN TNP SARDANA</td>\n",
       "    </tr>\n",
       "    <tr>\n",
       "      <th>13</th>\n",
       "      <td>syn25075278</td>\n",
       "      <td>Release 2.0</td>\n",
       "      <td>v22.6.2.img</td>\n",
       "      <td>imaging_level_2/WD-76845-050.ome.tif</td>\n",
       "      <td>HTAN TNP SARDANA</td>\n",
       "    </tr>\n",
       "    <tr>\n",
       "      <th>14</th>\n",
       "      <td>syn25075869</td>\n",
       "      <td>Release 2.0</td>\n",
       "      <td>v22.6.2.img</td>\n",
       "      <td>imaging_level_2/WD-76845-051.ome.tif</td>\n",
       "      <td>HTAN TNP SARDANA</td>\n",
       "    </tr>\n",
       "    <tr>\n",
       "      <th>15</th>\n",
       "      <td>syn25076268</td>\n",
       "      <td>Release 2.0</td>\n",
       "      <td>v22.6.2.img</td>\n",
       "      <td>imaging_level_2/WD-76845-052.ome.tif</td>\n",
       "      <td>HTAN TNP SARDANA</td>\n",
       "    </tr>\n",
       "    <tr>\n",
       "      <th>16</th>\n",
       "      <td>syn25075431</td>\n",
       "      <td>Release 2.0</td>\n",
       "      <td>v22.6.2.img</td>\n",
       "      <td>imaging_level_2/WD-76845-054.ome.tif</td>\n",
       "      <td>HTAN TNP SARDANA</td>\n",
       "    </tr>\n",
       "    <tr>\n",
       "      <th>17</th>\n",
       "      <td>syn25075912</td>\n",
       "      <td>Release 2.0</td>\n",
       "      <td>v22.6.2.img</td>\n",
       "      <td>imaging_level_2/WD-76845-059.ome.tif</td>\n",
       "      <td>HTAN TNP SARDANA</td>\n",
       "    </tr>\n",
       "    <tr>\n",
       "      <th>18</th>\n",
       "      <td>syn25076572</td>\n",
       "      <td>Release 2.0</td>\n",
       "      <td>v22.6.2.img</td>\n",
       "      <td>imaging_level_2/WD-76845-064.ome.tif</td>\n",
       "      <td>HTAN TNP SARDANA</td>\n",
       "    </tr>\n",
       "    <tr>\n",
       "      <th>19</th>\n",
       "      <td>syn25075484</td>\n",
       "      <td>Release 2.0</td>\n",
       "      <td>v22.6.2.img</td>\n",
       "      <td>imaging_level_2/WD-76845-069.ome.tif</td>\n",
       "      <td>HTAN TNP SARDANA</td>\n",
       "    </tr>\n",
       "    <tr>\n",
       "      <th>20</th>\n",
       "      <td>syn25076108</td>\n",
       "      <td>Release 2.0</td>\n",
       "      <td>v22.6.2.img</td>\n",
       "      <td>imaging_level_2/WD-76845-074.ome.tif</td>\n",
       "      <td>HTAN TNP SARDANA</td>\n",
       "    </tr>\n",
       "    <tr>\n",
       "      <th>21</th>\n",
       "      <td>syn25075415</td>\n",
       "      <td>Release 2.0</td>\n",
       "      <td>v22.6.2.img</td>\n",
       "      <td>imaging_level_2/WD-76845-078.ome.tif</td>\n",
       "      <td>HTAN TNP SARDANA</td>\n",
       "    </tr>\n",
       "    <tr>\n",
       "      <th>22</th>\n",
       "      <td>syn25076014</td>\n",
       "      <td>Release 2.0</td>\n",
       "      <td>v22.6.2.img</td>\n",
       "      <td>imaging_level_2/WD-76845-084.ome.tif</td>\n",
       "      <td>HTAN TNP SARDANA</td>\n",
       "    </tr>\n",
       "    <tr>\n",
       "      <th>23</th>\n",
       "      <td>syn25075411</td>\n",
       "      <td>Release 2.0</td>\n",
       "      <td>v22.6.2.img</td>\n",
       "      <td>imaging_level_2/WD-76845-086.ome.tif</td>\n",
       "      <td>HTAN TNP SARDANA</td>\n",
       "    </tr>\n",
       "    <tr>\n",
       "      <th>24</th>\n",
       "      <td>syn25076062</td>\n",
       "      <td>Release 2.0</td>\n",
       "      <td>v22.6.2.img</td>\n",
       "      <td>imaging_level_2/WD-76845-091.ome.tif</td>\n",
       "      <td>HTAN TNP SARDANA</td>\n",
       "    </tr>\n",
       "    <tr>\n",
       "      <th>25</th>\n",
       "      <td>syn25076711</td>\n",
       "      <td>Release 2.0</td>\n",
       "      <td>v22.6.2.img</td>\n",
       "      <td>imaging_level_2/WD-76845-097.ome.tif</td>\n",
       "      <td>HTAN TNP SARDANA</td>\n",
       "    </tr>\n",
       "    <tr>\n",
       "      <th>26</th>\n",
       "      <td>syn25075505</td>\n",
       "      <td>Release 2.0</td>\n",
       "      <td>v22.6.2.img</td>\n",
       "      <td>imaging_level_2/WD-76845-102.ome.tif</td>\n",
       "      <td>HTAN TNP SARDANA</td>\n",
       "    </tr>\n",
       "    <tr>\n",
       "      <th>27</th>\n",
       "      <td>syn25076147</td>\n",
       "      <td>Release 2.0</td>\n",
       "      <td>v22.6.2.img</td>\n",
       "      <td>imaging_level_2/WD-76845-106.ome.tif</td>\n",
       "      <td>HTAN TNP SARDANA</td>\n",
       "    </tr>\n",
       "    <tr>\n",
       "      <th>28</th>\n",
       "      <td>syn26643894</td>\n",
       "      <td>Release 2.0</td>\n",
       "      <td>v22.6.2.img</td>\n",
       "      <td>imaging_level_2/73-8/CRC01b_07.ome.tif</td>\n",
       "      <td>HTAN TNP SARDANA</td>\n",
       "    </tr>\n",
       "    <tr>\n",
       "      <th>29</th>\n",
       "      <td>syn26643896</td>\n",
       "      <td>Release 2.0</td>\n",
       "      <td>v22.6.2.img</td>\n",
       "      <td>imaging_level_2/73-9/CRC01b_08.ome.tif</td>\n",
       "      <td>HTAN TNP SARDANA</td>\n",
       "    </tr>\n",
       "  </tbody>\n",
       "</table>\n",
       "</div>"
      ],
      "text/plain": [
       "       entityId Data_Release  CDS_Release  \\\n",
       "0   syn25075311  Release 2.0  v22.6.2.img   \n",
       "1   syn25075782  Release 2.0  v22.6.2.img   \n",
       "2   syn25076441  Release 2.0  v22.6.2.img   \n",
       "3   syn25075400  Release 2.0  v22.6.2.img   \n",
       "4   syn25075901  Release 2.0  v22.6.2.img   \n",
       "5   syn25075429  Release 2.0  v22.6.2.img   \n",
       "6   syn25075926  Release 2.0  v22.6.2.img   \n",
       "7   syn25075282  Release 2.0  v22.6.2.img   \n",
       "8   syn25075948  Release 2.0  v22.6.2.img   \n",
       "9   syn25114909  Release 2.0  v22.6.2.img   \n",
       "10  syn25115882  Release 2.0  v22.6.2.img   \n",
       "11  syn25117091  Release 2.0  v22.6.2.img   \n",
       "12  syn25076608  Release 2.0  v22.6.2.img   \n",
       "13  syn25075278  Release 2.0  v22.6.2.img   \n",
       "14  syn25075869  Release 2.0  v22.6.2.img   \n",
       "15  syn25076268  Release 2.0  v22.6.2.img   \n",
       "16  syn25075431  Release 2.0  v22.6.2.img   \n",
       "17  syn25075912  Release 2.0  v22.6.2.img   \n",
       "18  syn25076572  Release 2.0  v22.6.2.img   \n",
       "19  syn25075484  Release 2.0  v22.6.2.img   \n",
       "20  syn25076108  Release 2.0  v22.6.2.img   \n",
       "21  syn25075415  Release 2.0  v22.6.2.img   \n",
       "22  syn25076014  Release 2.0  v22.6.2.img   \n",
       "23  syn25075411  Release 2.0  v22.6.2.img   \n",
       "24  syn25076062  Release 2.0  v22.6.2.img   \n",
       "25  syn25076711  Release 2.0  v22.6.2.img   \n",
       "26  syn25075505  Release 2.0  v22.6.2.img   \n",
       "27  syn25076147  Release 2.0  v22.6.2.img   \n",
       "28  syn26643894  Release 2.0  v22.6.2.img   \n",
       "29  syn26643896  Release 2.0  v22.6.2.img   \n",
       "\n",
       "                                  Filename       HTAN_Center  \n",
       "0     imaging_level_2/WD-76845-002.ome.tif  HTAN TNP SARDANA  \n",
       "1     imaging_level_2/WD-76845-007.ome.tif  HTAN TNP SARDANA  \n",
       "2     imaging_level_2/WD-76845-014.ome.tif  HTAN TNP SARDANA  \n",
       "3     imaging_level_2/WD-76845-020.ome.tif  HTAN TNP SARDANA  \n",
       "4     imaging_level_2/WD-76845-025.ome.tif  HTAN TNP SARDANA  \n",
       "5     imaging_level_2/WD-76845-029.ome.tif  HTAN TNP SARDANA  \n",
       "6     imaging_level_2/WD-76845-034.ome.tif  HTAN TNP SARDANA  \n",
       "7     imaging_level_2/WD-76845-039.ome.tif  HTAN TNP SARDANA  \n",
       "8     imaging_level_2/WD-76845-044.ome.tif  HTAN TNP SARDANA  \n",
       "9     imaging_level_2/WD-76845-045.ome.tif  HTAN TNP SARDANA  \n",
       "10    imaging_level_2/WD-76845-046.ome.tif  HTAN TNP SARDANA  \n",
       "11    imaging_level_2/WD-76845-047.ome.tif  HTAN TNP SARDANA  \n",
       "12    imaging_level_2/WD-76845-049.ome.tif  HTAN TNP SARDANA  \n",
       "13    imaging_level_2/WD-76845-050.ome.tif  HTAN TNP SARDANA  \n",
       "14    imaging_level_2/WD-76845-051.ome.tif  HTAN TNP SARDANA  \n",
       "15    imaging_level_2/WD-76845-052.ome.tif  HTAN TNP SARDANA  \n",
       "16    imaging_level_2/WD-76845-054.ome.tif  HTAN TNP SARDANA  \n",
       "17    imaging_level_2/WD-76845-059.ome.tif  HTAN TNP SARDANA  \n",
       "18    imaging_level_2/WD-76845-064.ome.tif  HTAN TNP SARDANA  \n",
       "19    imaging_level_2/WD-76845-069.ome.tif  HTAN TNP SARDANA  \n",
       "20    imaging_level_2/WD-76845-074.ome.tif  HTAN TNP SARDANA  \n",
       "21    imaging_level_2/WD-76845-078.ome.tif  HTAN TNP SARDANA  \n",
       "22    imaging_level_2/WD-76845-084.ome.tif  HTAN TNP SARDANA  \n",
       "23    imaging_level_2/WD-76845-086.ome.tif  HTAN TNP SARDANA  \n",
       "24    imaging_level_2/WD-76845-091.ome.tif  HTAN TNP SARDANA  \n",
       "25    imaging_level_2/WD-76845-097.ome.tif  HTAN TNP SARDANA  \n",
       "26    imaging_level_2/WD-76845-102.ome.tif  HTAN TNP SARDANA  \n",
       "27    imaging_level_2/WD-76845-106.ome.tif  HTAN TNP SARDANA  \n",
       "28  imaging_level_2/73-8/CRC01b_07.ome.tif  HTAN TNP SARDANA  \n",
       "29  imaging_level_2/73-9/CRC01b_08.ome.tif  HTAN TNP SARDANA  "
      ]
     },
     "execution_count": 5,
     "metadata": {},
     "output_type": "execute_result"
    }
   ],
   "source": [
    "sardana_cycif = client.query(\"\"\"\n",
    "  SELECT DISTINCT entityId,Data_Release,CDS_Release,Filename,HTAN_Center\n",
    "  FROM `isb-cgc-bq.HTAN_versioned.imaging_level2_metadata_r6`\n",
    "  WHERE HTAN_Center = 'HTAN TNP SARDANA'\n",
    "  AND Imaging_Assay_Type = 't-CyCIF'\n",
    "  AND CDS_Release IS NOT NULL\n",
    "\"\"\").result().to_dataframe()\n",
    "\n",
    "sardana_cycif"
   ]
  },
  {
   "cell_type": "markdown",
   "metadata": {
    "id": "iqDT5lO2v19X"
   },
   "source": [
    "# 5. Obtaining DRS URIs"
   ]
  },
  {
   "cell_type": "markdown",
   "metadata": {
    "id": "ixvygEG4byaj"
   },
   "source": [
    "A mapping of HTAN Synapse `entityID`s and `HTAN Data File ID`s to their corresponding General Commons DRS URI can be found in the ISB-CGC BigQuery table `isb-cgc-bq.HTAN_versioned.gc_drs_map_r6_v2`. Below, we view the table contents."
   ]
  },
  {
   "cell_type": "code",
   "execution_count": 7,
   "metadata": {
    "id": "9hTzdR7PsygQ"
   },
   "outputs": [],
   "source": [
    "cds_drs = client.query(\"\"\"\n",
    "  SELECT * FROM `isb-cgc-bq.HTAN_versioned.gc_drs_map_r6_v2`\n",
    "\"\"\").result().to_dataframe()"
   ]
  },
  {
   "cell_type": "code",
   "execution_count": 8,
   "metadata": {
    "colab": {
     "base_uri": "https://localhost:8080/",
     "height": 669
    },
    "id": "E8vsfxK9vn5S",
    "outputId": "96ecaf2f-bd2f-4362-a7cb-7079ad01c69d"
   },
   "outputs": [
    {
     "data": {
      "application/vnd.google.colaboratory.module+javascript": "\n      import \"https://ssl.gstatic.com/colaboratory/data_table/81868506e94e6988/data_table.js\";\n\n      window.createDataTable({\n        data: [[{\n            'v': 0,\n            'f': \"0\",\n        },\n\"1-PCGA02-20005-1005102_S1_R1_001.fastq.gz\",\n\"syn53283905\",\n\"HTA3_70005_3600639\",\n\"dg.4DFC/20852dd0-9085-11ef-b71c-3f2710856ceb\",\n\"HTAN BU\"],\n [{\n            'v': 1,\n            'f': \"1\",\n        },\n\"1-PCGA02-20005-1005102_S1_R1_001.fastq.gz\",\n\"syn53283905\",\n\"HTA3_70005_3600639\",\n\"dg.4DFC/70d84a82-03d2-11ef-a132-7f12e8801d7c\",\n\"HTAN BU\"],\n [{\n            'v': 2,\n            'f': \"2\",\n        },\n\"1-PCGA02-20005-1005102_S1_R2_001.fastq.gz\",\n\"syn53283874\",\n\"HTA3_70005_3221388\",\n\"dg.4DFC/20a8a8be-9085-11ef-a3a5-3f109c193228\",\n\"HTAN BU\"],\n [{\n            'v': 3,\n            'f': \"3\",\n        },\n\"1-PCGA02-20005-1005102_S1_R2_001.fastq.gz\",\n\"syn53283874\",\n\"HTA3_70005_3221388\",\n\"dg.4DFC/70e79a14-03d2-11ef-9811-d7ff64fafaf4\",\n\"HTAN BU\"],\n [{\n            'v': 4,\n            'f': \"4\",\n        },\n\"10-PCGA02-20152-1000048_S10_R1_001.fastq.gz\",\n\"syn53283759\",\n\"HTA3_70152_0185853\",\n\"dg.4DFC/70e0e002-03d2-11ef-9751-8fbe5ca478f7\",\n\"HTAN BU\"],\n [{\n            'v': 5,\n            'f': \"5\",\n        },\n\"10-PCGA02-20152-1000048_S10_R1_001.fastq.gz\",\n\"syn53283759\",\n\"HTA3_70152_0185853\",\n\"dg.4DFC/209123ec-9085-11ef-b338-d3c0176425fb\",\n\"HTAN BU\"],\n [{\n            'v': 6,\n            'f': \"6\",\n        },\n\"10-PCGA02-20152-1000048_S10_R2_001.fastq.gz\",\n\"syn53283746\",\n\"HTA3_70152_5433762\",\n\"dg.4DFC/70f0182e-03d2-11ef-9370-d386b9f0820a\",\n\"HTAN BU\"],\n [{\n            'v': 7,\n            'f': \"7\",\n        },\n\"10-PCGA02-20152-1000048_S10_R2_001.fastq.gz\",\n\"syn53283746\",\n\"HTA3_70152_5433762\",\n\"dg.4DFC/20b498cc-9085-11ef-aff2-4bfa9c35a17f\",\n\"HTAN BU\"],\n [{\n            'v': 8,\n            'f': \"8\",\n        },\n\"11-PCGA02-20145-1045102_S11_R1_001.fastq.gz\",\n\"syn53283859\",\n\"HTA3_70145_5874234\",\n\"dg.4DFC/208bf7dc-9085-11ef-9fd6-ff8ed314067b\",\n\"HTAN BU\"],\n [{\n            'v': 9,\n            'f': \"9\",\n        },\n\"11-PCGA02-20145-1045102_S11_R1_001.fastq.gz\",\n\"syn53283859\",\n\"HTA3_70145_5874234\",\n\"dg.4DFC/70dd31fa-03d2-11ef-aa7f-8743f9b64658\",\n\"HTAN BU\"],\n [{\n            'v': 10,\n            'f': \"10\",\n        },\n\"11-PCGA02-20145-1045102_S11_R2_001.fastq.gz\",\n\"syn53283903\",\n\"HTA3_70145_8962389\",\n\"dg.4DFC/70ec723c-03d2-11ef-9e3f-9797e5252c5f\",\n\"HTAN BU\"],\n [{\n            'v': 11,\n            'f': \"11\",\n        },\n\"11-PCGA02-20145-1045102_S11_R2_001.fastq.gz\",\n\"syn53283903\",\n\"HTA3_70145_8962389\",\n\"dg.4DFC/20af6e7e-9085-11ef-88e6-73401c44375b\",\n\"HTAN BU\"],\n [{\n            'v': 12,\n            'f': \"12\",\n        },\n\"12-PCGA02-10420-1001724_S12_R1_001.fastq.gz\",\n\"syn53284070\",\n\"HTA3_50420_7652137\",\n\"dg.4DFC/2074d84a-9085-11ef-ac09-b75970cffd4c\",\n\"HTAN BU\"],\n [{\n            'v': 13,\n            'f': \"13\",\n        },\n\"12-PCGA02-10420-1001724_S12_R1_001.fastq.gz\",\n\"syn53284070\",\n\"HTA3_50420_7652137\",\n\"dg.4DFC/70d6164a-03d2-11ef-bbd5-7b5aaba7c6ce\",\n\"HTAN BU\"],\n [{\n            'v': 14,\n            'f': \"14\",\n        },\n\"12-PCGA02-10420-1001724_S12_R2_001.fastq.gz\",\n\"syn53284071\",\n\"HTA3_50420_2076912\",\n\"dg.4DFC/70e5679e-03d2-11ef-bdf1-3f4b05bd7fa8\",\n\"HTAN BU\"],\n [{\n            'v': 15,\n            'f': \"15\",\n        },\n\"12-PCGA02-10420-1001724_S12_R2_001.fastq.gz\",\n\"syn53284071\",\n\"HTA3_50420_2076912\",\n\"dg.4DFC/20985dc4-9085-11ef-aefd-63561e9acc55\",\n\"HTAN BU\"],\n [{\n            'v': 16,\n            'f': \"16\",\n        },\n\"2-PCGA02-20073-1073101_S2_R1_001.fastq.gz\",\n\"syn53283747\",\n\"HTA3_70073_7163920\",\n\"dg.4DFC/2085cca4-9085-11ef-95ed-ff6c93409846\",\n\"HTAN BU\"],\n [{\n            'v': 17,\n            'f': \"17\",\n        },\n\"2-PCGA02-20073-1073101_S2_R1_001.fastq.gz\",\n\"syn53283747\",\n\"HTA3_70073_7163920\",\n\"dg.4DFC/70d8b986-03d2-11ef-8632-cb01dd9074f5\",\n\"HTAN BU\"],\n [{\n            'v': 18,\n            'f': \"18\",\n        },\n\"2-PCGA02-20073-1073101_S2_R2_001.fastq.gz\",\n\"syn53283877\",\n\"HTA3_70073_0061574\",\n\"dg.4DFC/20a9451c-9085-11ef-a32e-8fad752bac5f\",\n\"HTAN BU\"],\n [{\n            'v': 19,\n            'f': \"19\",\n        },\n\"2-PCGA02-20073-1073101_S2_R2_001.fastq.gz\",\n\"syn53283877\",\n\"HTA3_70073_0061574\",\n\"dg.4DFC/70e80904-03d2-11ef-8730-4f9c81c0822c\",\n\"HTAN BU\"],\n [{\n            'v': 20,\n            'f': \"20\",\n        },\n\"3-PCGA02-20127-1027101_S3_R1_001.fastq.gz\",\n\"syn53283862\",\n\"HTA3_70127_5360977\",\n\"dg.4DFC/2087407a-9085-11ef-a9c7-f72241798711\",\n\"HTAN BU\"],\n [{\n            'v': 21,\n            'f': \"21\",\n        },\n\"3-PCGA02-20127-1027101_S3_R1_001.fastq.gz\",\n\"syn53283862\",\n\"HTA3_70127_5360977\",\n\"dg.4DFC/70d9c736-03d2-11ef-b920-7b7a5abca46c\",\n\"HTAN BU\"],\n [{\n            'v': 22,\n            'f': \"22\",\n        },\n\"3-PCGA02-20127-1027101_S3_R2_001.fastq.gz\",\n\"syn53283872\",\n\"HTA3_70127_0420574\",\n\"dg.4DFC/70e91196-03d2-11ef-b322-cf7872d4acfb\",\n\"HTAN BU\"],\n [{\n            'v': 23,\n            'f': \"23\",\n        },\n\"3-PCGA02-20127-1027101_S3_R2_001.fastq.gz\",\n\"syn53283872\",\n\"HTA3_70127_0420574\",\n\"dg.4DFC/20aab884-9085-11ef-8970-6f55ca4b0332\",\n\"HTAN BU\"],\n [{\n            'v': 24,\n            'f': \"24\",\n        },\n\"31_R1.fastq.gz\",\n\"syn51601443\",\n\"HTA3_80013_964205735\",\n\"dg.4DFC/5b23e0c2-d257-11ee-b746-9b426f7fe54e\",\n\"HTAN BU\"],\n [{\n            'v': 25,\n            'f': \"25\",\n        },\n\"31_R2.fastq.gz\",\n\"syn51601445\",\n\"HTA3_80013_268939242\",\n\"dg.4DFC/5b2705ea-d257-11ee-973a-37114dd77cfb\",\n\"HTAN BU\"],\n [{\n            'v': 26,\n            'f': \"26\",\n        },\n\"32_R1.fastq.gz\",\n\"syn51601447\",\n\"HTA3_80013_448595568\",\n\"dg.4DFC/5b240516-d257-11ee-ad93-ab9687b47332\",\n\"HTAN BU\"],\n [{\n            'v': 27,\n            'f': \"27\",\n        },\n\"32_R2.fastq.gz\",\n\"syn51601451\",\n\"HTA3_80013_901513216\",\n\"dg.4DFC/5b2729bc-d257-11ee-aa6f-1fa541632b57\",\n\"HTAN BU\"],\n [{\n            'v': 28,\n            'f': \"28\",\n        },\n\"33_R1.fastq.gz\",\n\"syn51601459\",\n\"HTA3_80013_989277349\",\n\"dg.4DFC/5b2429ec-d257-11ee-939b-b72965811dea\",\n\"HTAN BU\"],\n [{\n            'v': 29,\n            'f': \"29\",\n        },\n\"33_R2.fastq.gz\",\n\"syn51601467\",\n\"HTA3_80013_541536118\",\n\"dg.4DFC/5b274dd4-d257-11ee-89ec-f343b8e21ee8\",\n\"HTAN BU\"],\n [{\n            'v': 30,\n            'f': \"30\",\n        },\n\"34_R1.fastq.gz\",\n\"syn51601473\",\n\"HTA3_80013_532052092\",\n\"dg.4DFC/5b244e40-d257-11ee-9543-3370937bcd73\",\n\"HTAN BU\"],\n [{\n            'v': 31,\n            'f': \"31\",\n        },\n\"34_R2.fastq.gz\",\n\"syn51601479\",\n\"HTA3_80013_337105996\",\n\"dg.4DFC/5b27723c-d257-11ee-8b49-c7d60e8f728d\",\n\"HTAN BU\"],\n [{\n            'v': 32,\n            'f': \"32\",\n        },\n\"36_R1.fastq.gz\",\n\"syn51601485\",\n\"HTA3_80013_370699039\",\n\"dg.4DFC/5b24742e-d257-11ee-9577-2be2c230f844\",\n\"HTAN BU\"],\n [{\n            'v': 33,\n            'f': \"33\",\n        },\n\"36_R2.fastq.gz\",\n\"syn51601493\",\n\"HTA3_80013_366473158\",\n\"dg.4DFC/5b279802-d257-11ee-b0e7-fb1a1ae88944\",\n\"HTAN BU\"],\n [{\n            'v': 34,\n            'f': \"34\",\n        },\n\"37_R1.fastq.gz\",\n\"syn51601499\",\n\"HTA3_80014_237108878\",\n\"dg.4DFC/5b2497f6-d257-11ee-8621-abfe8e6de86a\",\n\"HTAN BU\"],\n [{\n            'v': 35,\n            'f': \"35\",\n        },\n\"37_R2.fastq.gz\",\n\"syn51601504\",\n\"HTA3_80014_120403656\",\n\"dg.4DFC/5b27bc9c-d257-11ee-8b8d-5b92d1186aa4\",\n\"HTAN BU\"],\n [{\n            'v': 36,\n            'f': \"36\",\n        },\n\"38_R1.fastq.gz\",\n\"syn51601511\",\n\"HTA3_80014_218476702\",\n\"dg.4DFC/5b24bb8c-d257-11ee-81ce-d7ca9d38b127\",\n\"HTAN BU\"],\n [{\n            'v': 37,\n            'f': \"37\",\n        },\n\"38_R2.fastq.gz\",\n\"syn51601518\",\n\"HTA3_80014_546157720\",\n\"dg.4DFC/5b27e118-d257-11ee-87d9-738a85cb08cc\",\n\"HTAN BU\"],\n [{\n            'v': 38,\n            'f': \"38\",\n        },\n\"4-PCGA02-20137-1037101_S4_R1_001.fastq.gz\",\n\"syn53283857\",\n\"HTA3_70137_8332978\",\n\"dg.4DFC/20891d00-9085-11ef-a1dc-7b0b634a5b81\",\n\"HTAN BU\"],\n [{\n            'v': 39,\n            'f': \"39\",\n        },\n\"4-PCGA02-20137-1037101_S4_R1_001.fastq.gz\",\n\"syn53283857\",\n\"HTA3_70137_8332978\",\n\"dg.4DFC/70db1b54-03d2-11ef-94cb-f755960537f6\",\n\"HTAN BU\"],\n [{\n            'v': 40,\n            'f': \"40\",\n        },\n\"4-PCGA02-20137-1037101_S4_R2_001.fastq.gz\",\n\"syn53283926\",\n\"HTA3_70137_4025185\",\n\"dg.4DFC/20ac8f9c-9085-11ef-85c6-83e051a61390\",\n\"HTAN BU\"],\n [{\n            'v': 41,\n            'f': \"41\",\n        },\n\"4-PCGA02-20137-1037101_S4_R2_001.fastq.gz\",\n\"syn53283926\",\n\"HTA3_70137_4025185\",\n\"dg.4DFC/70ea6942-03d2-11ef-a4a6-6b60f7f6bcb9\",\n\"HTAN BU\"],\n [{\n            'v': 42,\n            'f': \"42\",\n        },\n\"42-906_ROI1.tiff\",\n\"syn52965901\",\n\"HTA3_0042_11009061\",\n\"dg.4DFC/8333F98C-B4EE-4207-9D26-80B0D230D971\",\n\"HTAN BU\"],\n [{\n            'v': 43,\n            'f': \"43\",\n        },\n\"430R_S8_R1_001.fastq.gz\",\n\"syn51597520\",\n\"HTA3_80002_4678306659\",\n\"dg.4DFC/59b139b0-d257-11ee-ba14-1b2abc96b805\",\n\"HTAN BU\"],\n [{\n            'v': 44,\n            'f': \"44\",\n        },\n\"430R_S8_R2_001.fastq.gz\",\n\"syn51597537\",\n\"HTA3_80002_5471285415\",\n\"dg.4DFC/59ccb7c6-d257-11ee-912d-f7fb15635aa6\",\n\"HTAN BU\"],\n [{\n            'v': 45,\n            'f': \"45\",\n        },\n\"431R_S7_R1_001.fastq.gz\",\n\"syn51597552\",\n\"HTA3_80002_4748757909\",\n\"dg.4DFC/59b22cf8-d257-11ee-b0ca-1790ee96e3af\",\n\"HTAN BU\"],\n [{\n            'v': 46,\n            'f': \"46\",\n        },\n\"431R_S7_R2_001.fastq.gz\",\n\"syn51597564\",\n\"HTA3_80002_6467092890\",\n\"dg.4DFC/59ccdcf6-d257-11ee-9322-0b0004358484\",\n\"HTAN BU\"],\n [{\n            'v': 47,\n            'f': \"47\",\n        },\n\"432R_S6_R1_001.fastq.gz\",\n\"syn51597580\",\n\"HTA3_80002_7967504597\",\n\"dg.4DFC/59b25386-d257-11ee-b21d-afefaf2b1d2c\",\n\"HTAN BU\"],\n [{\n            'v': 48,\n            'f': \"48\",\n        },\n\"432R_S6_R2_001.fastq.gz\",\n\"syn51597593\",\n\"HTA3_80002_2448324248\",\n\"dg.4DFC/59cd00fa-d257-11ee-994a-97399d2b4f1f\",\n\"HTAN BU\"],\n [{\n            'v': 49,\n            'f': \"49\",\n        },\n\"433R_S5_R1_001.fastq.gz\",\n\"syn51597614\",\n\"HTA3_80002_7956503690\",\n\"dg.4DFC/59b277f8-d257-11ee-b0be-c33269c726ff\",\n\"HTAN BU\"],\n [{\n            'v': 50,\n            'f': \"50\",\n        },\n\"433R_S5_R2_001.fastq.gz\",\n\"syn51597646\",\n\"HTA3_80002_5089542283\",\n\"dg.4DFC/59cd259e-d257-11ee-82c1-df9e529b10b3\",\n\"HTAN BU\"],\n [{\n            'v': 51,\n            'f': \"51\",\n        },\n\"434R_S4_R1_001.fastq.gz\",\n\"syn51597664\",\n\"HTA3_80005_3799610105\",\n\"dg.4DFC/59b29d64-d257-11ee-b8f2-0b8cb915bc0f\",\n\"HTAN BU\"],\n [{\n            'v': 52,\n            'f': \"52\",\n        },\n\"434R_S4_R2_001.fastq.gz\",\n\"syn51597684\",\n\"HTA3_80005_9557907213\",\n\"dg.4DFC/59cd4ae2-d257-11ee-a06c-fb89b8c8745e\",\n\"HTAN BU\"],\n [{\n            'v': 53,\n            'f': \"53\",\n        },\n\"435R_S3_R1_001.fastq.gz\",\n\"syn51597700\",\n\"HTA3_80005_0060711926\",\n\"dg.4DFC/59b2c1cc-d257-11ee-b116-67cb5f587d5b\",\n\"HTAN BU\"],\n [{\n            'v': 54,\n            'f': \"54\",\n        },\n\"435R_S3_R2_001.fastq.gz\",\n\"syn51597717\",\n\"HTA3_80005_3097968372\",\n\"dg.4DFC/59cd7012-d257-11ee-a0df-f3cf13d2898b\",\n\"HTAN BU\"],\n [{\n            'v': 55,\n            'f': \"55\",\n        },\n\"436R_S2_R1_001.fastq.gz\",\n\"syn51597739\",\n\"HTA3_80005_9502573866\",\n\"dg.4DFC/59b2e5b2-d257-11ee-a0c8-6f6cf93a348b\",\n\"HTAN BU\"],\n [{\n            'v': 56,\n            'f': \"56\",\n        },\n\"436R_S2_R2_001.fastq.gz\",\n\"syn51597761\",\n\"HTA3_80005_8930706022\",\n\"dg.4DFC/59cd93bc-d257-11ee-a3d7-cfa87b01069c\",\n\"HTAN BU\"],\n [{\n            'v': 57,\n            'f': \"57\",\n        },\n\"437R_S1_R1_001.fastq.gz\",\n\"syn51597775\",\n\"HTA3_80005_9558585788\",\n\"dg.4DFC/59b30bd2-d257-11ee-9b36-6f9c82ba38d1\",\n\"HTAN BU\"],\n [{\n            'v': 58,\n            'f': \"58\",\n        },\n\"437R_S1_R2_001.fastq.gz\",\n\"syn51597792\",\n\"HTA3_80005_4235107148\",\n\"dg.4DFC/59cdb798-d257-11ee-b67f-a313ed5ed041\",\n\"HTAN BU\"],\n [{\n            'v': 59,\n            'f': \"59\",\n        },\n\"438R_S16_R1_001.fastq.gz\",\n\"syn51599979\",\n\"HTA3_80018_3211782994\",\n\"dg.4DFC/59b330f8-d257-11ee-aa1c-67e29b6fc157\",\n\"HTAN BU\"],\n [{\n            'v': 60,\n            'f': \"60\",\n        },\n\"438R_S16_R2_001.fastq.gz\",\n\"syn51599992\",\n\"HTA3_80018_8816897139\",\n\"dg.4DFC/59cddbba-d257-11ee-8f34-17101a6616b4\",\n\"HTAN BU\"],\n [{\n            'v': 61,\n            'f': \"61\",\n        },\n\"439R_S15_R1_001.fastq.gz\",\n\"syn51600009\",\n\"HTA3_80018_7980841562\",\n\"dg.4DFC/59b354c0-d257-11ee-ba79-e751592ea1a7\",\n\"HTAN BU\"],\n [{\n            'v': 62,\n            'f': \"62\",\n        },\n\"439R_S15_R2_001.fastq.gz\",\n\"syn51600026\",\n\"HTA3_80018_9098106851\",\n\"dg.4DFC/59cdff8c-d257-11ee-94f5-47d30682facf\",\n\"HTAN BU\"],\n [{\n            'v': 63,\n            'f': \"63\",\n        },\n\"43_R1.fastq.gz\",\n\"syn51601523\",\n\"HTA3_80014_132559565\",\n\"dg.4DFC/5b24e030-d257-11ee-b24f-bb2eda2252fd\",\n\"HTAN BU\"],\n [{\n            'v': 64,\n            'f': \"64\",\n        },\n\"43_R2.fastq.gz\",\n\"syn51601528\",\n\"HTA3_80014_810824257\",\n\"dg.4DFC/5b2804e0-d257-11ee-a3dd-6f2b450829a8\",\n\"HTAN BU\"],\n [{\n            'v': 65,\n            'f': \"65\",\n        },\n\"440R_S14_R1_001.fastq.gz\",\n\"syn51600068\",\n\"HTA3_80018_7374420655\",\n\"dg.4DFC/59b37874-d257-11ee-a700-9fefd029911b\",\n\"HTAN BU\"],\n [{\n            'v': 66,\n            'f': \"66\",\n        },\n\"440R_S14_R2_001.fastq.gz\",\n\"syn51600086\",\n\"HTA3_80018_1737497019\",\n\"dg.4DFC/59ce2516-d257-11ee-8942-db8caf7d2147\",\n\"HTAN BU\"],\n [{\n            'v': 67,\n            'f': \"67\",\n        },\n\"441R_S13_R1_001.fastq.gz\",\n\"syn51600097\",\n\"HTA3_80018_1060679518\",\n\"dg.4DFC/59b39cb4-d257-11ee-952c-539231e57397\",\n\"HTAN BU\"],\n [{\n            'v': 68,\n            'f': \"68\",\n        },\n\"441R_S13_R2_001.fastq.gz\",\n\"syn51600117\",\n\"HTA3_80018_6438587929\",\n\"dg.4DFC/59ce4988-d257-11ee-b8cc-57d474f13a1d\",\n\"HTAN BU\"],\n [{\n            'v': 69,\n            'f': \"69\",\n        },\n\"442R_S12_R1_001.fastq.gz\",\n\"syn51600135\",\n\"HTA3_80018_2604418826\",\n\"dg.4DFC/59b3c036-d257-11ee-8a01-17805aabad7c\",\n\"HTAN BU\"],\n [{\n            'v': 70,\n            'f': \"70\",\n        },\n\"442R_S12_R2_001.fastq.gz\",\n\"syn51600154\",\n\"HTA3_80018_0938867104\",\n\"dg.4DFC/59ce6da0-d257-11ee-9832-dfef73c3dc14\",\n\"HTAN BU\"],\n [{\n            'v': 71,\n            'f': \"71\",\n        },\n\"443R_S11_R1_001.fastq.gz\",\n\"syn51600172\",\n\"HTA3_80018_1706739046\",\n\"dg.4DFC/59b3e516-d257-11ee-9569-d3bad95ddab3\",\n\"HTAN BU\"],\n [{\n            'v': 72,\n            'f': \"72\",\n        },\n\"443R_S11_R2_001.fastq.gz\",\n\"syn51600187\",\n\"HTA3_80018_0935316410\",\n\"dg.4DFC/59ce919a-d257-11ee-97ac-436dc08aea26\",\n\"HTAN BU\"],\n [{\n            'v': 73,\n            'f': \"73\",\n        },\n\"444R_S10_R1_001.fastq.gz\",\n\"syn51600204\",\n\"HTA3_80018_6242948263\",\n\"dg.4DFC/59b4096a-d257-11ee-8466-e7df2d62be08\",\n\"HTAN BU\"],\n [{\n            'v': 74,\n            'f': \"74\",\n        },\n\"444R_S10_R2_001.fastq.gz\",\n\"syn51600213\",\n\"HTA3_80018_0885350667\",\n\"dg.4DFC/59ceb71a-d257-11ee-9a34-ab22eb00bb92\",\n\"HTAN BU\"],\n [{\n            'v': 75,\n            'f': \"75\",\n        },\n\"445R_S9_R1_001.fastq.gz\",\n\"syn51600233\",\n\"HTA3_80018_6721330718\",\n\"dg.4DFC/59b42db4-d257-11ee-9906-d78a213c1237\",\n\"HTAN BU\"],\n [{\n            'v': 76,\n            'f': \"76\",\n        },\n\"445R_S9_R2_001.fastq.gz\",\n\"syn51600251\",\n\"HTA3_80018_5988705552\",\n\"dg.4DFC/59cedbaa-d257-11ee-8355-9f7c16a00dc0\",\n\"HTAN BU\"],\n [{\n            'v': 77,\n            'f': \"77\",\n        },\n\"446R_S24_R1_001.fastq.gz\",\n\"syn51600267\",\n\"HTA3_80018_9907150833\",\n\"dg.4DFC/59b450f0-d257-11ee-acc7-b35f06de2cb8\",\n\"HTAN BU\"],\n [{\n            'v': 78,\n            'f': \"78\",\n        },\n\"446R_S24_R2_001.fastq.gz\",\n\"syn51600280\",\n\"HTA3_80018_2018376758\",\n\"dg.4DFC/59cf0026-d257-11ee-9963-2b57b0ebd654\",\n\"HTAN BU\"],\n [{\n            'v': 79,\n            'f': \"79\",\n        },\n\"447R_S23_R1_001.fastq.gz\",\n\"syn51600292\",\n\"HTA3_80018_6642653555\",\n\"dg.4DFC/59b475ee-d257-11ee-b0f8-cbbf28e54948\",\n\"HTAN BU\"],\n [{\n            'v': 80,\n            'f': \"80\",\n        },\n\"447R_S23_R2_001.fastq.gz\",\n\"syn51600302\",\n\"HTA3_80018_6599114508\",\n\"dg.4DFC/59cf2402-d257-11ee-89b1-8fdfdbdfbb08\",\n\"HTAN BU\"],\n [{\n            'v': 81,\n            'f': \"81\",\n        },\n\"448R_S22_R1_001.fastq.gz\",\n\"syn51600317\",\n\"HTA3_80018_7817636550\",\n\"dg.4DFC/59b49b1e-d257-11ee-9cc4-d7179f11babd\",\n\"HTAN BU\"],\n [{\n            'v': 82,\n            'f': \"82\",\n        },\n\"448R_S22_R2_001.fastq.gz\",\n\"syn51600330\",\n\"HTA3_80018_7277434603\",\n\"dg.4DFC/59cf4a72-d257-11ee-a2c9-aff526d0b06b\",\n\"HTAN BU\"],\n [{\n            'v': 83,\n            'f': \"83\",\n        },\n\"449R_S21_R1_001.fastq.gz\",\n\"syn51600356\",\n\"HTA3_80018_0230156721\",\n\"dg.4DFC/59b4c06c-d257-11ee-8d08-171c11862369\",\n\"HTAN BU\"],\n [{\n            'v': 84,\n            'f': \"84\",\n        },\n\"449R_S21_R2_001.fastq.gz\",\n\"syn51600379\",\n\"HTA3_80018_9281010014\",\n\"dg.4DFC/59cf6e6c-d257-11ee-83fd-33531129d76d\",\n\"HTAN BU\"],\n [{\n            'v': 85,\n            'f': \"85\",\n        },\n\"44_R1.fastq.gz\",\n\"syn51601534\",\n\"HTA3_80014_531263022\",\n\"dg.4DFC/5b250402-d257-11ee-9dd4-2f5a72a20fdb\",\n\"HTAN BU\"],\n [{\n            'v': 86,\n            'f': \"86\",\n        },\n\"44_R2.fastq.gz\",\n\"syn51601540\",\n\"HTA3_80014_036680725\",\n\"dg.4DFC/5b2829de-d257-11ee-87e1-e32ac1897884\",\n\"HTAN BU\"],\n [{\n            'v': 87,\n            'f': \"87\",\n        },\n\"450R_S20_R1_001.fastq.gz\",\n\"syn51600390\",\n\"HTA3_80018_7025190411\",\n\"dg.4DFC/59b4e420-d257-11ee-92ff-8f4f94b5fbf0\",\n\"HTAN BU\"],\n [{\n            'v': 88,\n            'f': \"88\",\n        },\n\"450R_S20_R2_001.fastq.gz\",\n\"syn51600402\",\n\"HTA3_80018_5260895663\",\n\"dg.4DFC/59cf9252-d257-11ee-a372-e3a85be20129\",\n\"HTAN BU\"],\n [{\n            'v': 89,\n            'f': \"89\",\n        },\n\"451R_S19_R1_001.fastq.gz\",\n\"syn51600407\",\n\"HTA3_80018_9034922558\",\n\"dg.4DFC/59b50856-d257-11ee-a01c-2b6070087ab0\",\n\"HTAN BU\"],\n [{\n            'v': 90,\n            'f': \"90\",\n        },\n\"451R_S19_R2_001.fastq.gz\",\n\"syn51600412\",\n\"HTA3_80018_9548376157\",\n\"dg.4DFC/59cfb6f6-d257-11ee-8a2c-43f99310d298\",\n\"HTAN BU\"],\n [{\n            'v': 91,\n            'f': \"91\",\n        },\n\"455R_S18_R1_001.fastq.gz\",\n\"syn51600430\",\n\"HTA3_80018_0315387243\",\n\"dg.4DFC/59b52c82-d257-11ee-b7dd-ab8dfd722ad6\",\n\"HTAN BU\"],\n [{\n            'v': 92,\n            'f': \"92\",\n        },\n\"455R_S18_R2_001.fastq.gz\",\n\"syn51600445\",\n\"HTA3_80018_1622905915\",\n\"dg.4DFC/59cfe0a4-d257-11ee-9556-f3904cbcbb51\",\n\"HTAN BU\"],\n [{\n            'v': 93,\n            'f': \"93\",\n        },\n\"456R_S17_R1_001.fastq.gz\",\n\"syn51600466\",\n\"HTA3_80018_6901682785\",\n\"dg.4DFC/59b55040-d257-11ee-98a6-1371b1041a64\",\n\"HTAN BU\"],\n [{\n            'v': 94,\n            'f': \"94\",\n        },\n\"456R_S17_R2_001.fastq.gz\",\n\"syn51600491\",\n\"HTA3_80018_8289864063\",\n\"dg.4DFC/59d00494-d257-11ee-8496-27c5d3c949d4\",\n\"HTAN BU\"],\n [{\n            'v': 95,\n            'f': \"95\",\n        },\n\"457R_S32_R1_001.fastq.gz\",\n\"syn51600506\",\n\"HTA3_80018_0173259221\",\n\"dg.4DFC/59b57430-d257-11ee-ab59-f33be5869174\",\n\"HTAN BU\"],\n [{\n            'v': 96,\n            'f': \"96\",\n        },\n\"457R_S32_R2_001.fastq.gz\",\n\"syn51600517\",\n\"HTA3_80018_5212665869\",\n\"dg.4DFC/59d02820-d257-11ee-80d3-638c87cd5f8a\",\n\"HTAN BU\"],\n [{\n            'v': 97,\n            'f': \"97\",\n        },\n\"458R_S31_R1_001.fastq.gz\",\n\"syn51600531\",\n\"HTA3_80018_3248391424\",\n\"dg.4DFC/59b598d4-d257-11ee-aa0e-4f26d48c332f\",\n\"HTAN BU\"],\n [{\n            'v': 98,\n            'f': \"98\",\n        },\n\"458R_S31_R2_001.fastq.gz\",\n\"syn51600544\",\n\"HTA3_80018_5647478658\",\n\"dg.4DFC/59d04c42-d257-11ee-abcb-07e5dc3b9fc9\",\n\"HTAN BU\"],\n [{\n            'v': 99,\n            'f': \"99\",\n        },\n\"459R_S30_R1_001.fastq.gz\",\n\"syn51600549\",\n\"HTA3_80019_7936954871\",\n\"dg.4DFC/59b5bf44-d257-11ee-af24-03083ce58c61\",\n\"HTAN BU\"]],\n        columns: [[\"number\", \"index\"], [\"string\", \"name\"], [\"string\", \"entityId\"], [\"string\", \"HTAN_Data_File_ID\"], [\"string\", \"drs_uri\"], [\"string\", \"HTAN_Center\"]],\n        rowsPerPage: 25,\n      });\n    ",
      "text/html": [
       "<div>\n",
       "<style scoped>\n",
       "    .dataframe tbody tr th:only-of-type {\n",
       "        vertical-align: middle;\n",
       "    }\n",
       "\n",
       "    .dataframe tbody tr th {\n",
       "        vertical-align: top;\n",
       "    }\n",
       "\n",
       "    .dataframe thead th {\n",
       "        text-align: right;\n",
       "    }\n",
       "</style>\n",
       "<table border=\"1\" class=\"dataframe\">\n",
       "  <thead>\n",
       "    <tr style=\"text-align: right;\">\n",
       "      <th></th>\n",
       "      <th>name</th>\n",
       "      <th>entityId</th>\n",
       "      <th>HTAN_Data_File_ID</th>\n",
       "      <th>drs_uri</th>\n",
       "      <th>HTAN_Center</th>\n",
       "    </tr>\n",
       "  </thead>\n",
       "  <tbody>\n",
       "    <tr>\n",
       "      <th>0</th>\n",
       "      <td>1-PCGA02-20005-1005102_S1_R1_001.fastq.gz</td>\n",
       "      <td>syn53283905</td>\n",
       "      <td>HTA3_70005_3600639</td>\n",
       "      <td>dg.4DFC/20852dd0-9085-11ef-b71c-3f2710856ceb</td>\n",
       "      <td>HTAN BU</td>\n",
       "    </tr>\n",
       "    <tr>\n",
       "      <th>1</th>\n",
       "      <td>1-PCGA02-20005-1005102_S1_R1_001.fastq.gz</td>\n",
       "      <td>syn53283905</td>\n",
       "      <td>HTA3_70005_3600639</td>\n",
       "      <td>dg.4DFC/70d84a82-03d2-11ef-a132-7f12e8801d7c</td>\n",
       "      <td>HTAN BU</td>\n",
       "    </tr>\n",
       "    <tr>\n",
       "      <th>2</th>\n",
       "      <td>1-PCGA02-20005-1005102_S1_R2_001.fastq.gz</td>\n",
       "      <td>syn53283874</td>\n",
       "      <td>HTA3_70005_3221388</td>\n",
       "      <td>dg.4DFC/20a8a8be-9085-11ef-a3a5-3f109c193228</td>\n",
       "      <td>HTAN BU</td>\n",
       "    </tr>\n",
       "    <tr>\n",
       "      <th>3</th>\n",
       "      <td>1-PCGA02-20005-1005102_S1_R2_001.fastq.gz</td>\n",
       "      <td>syn53283874</td>\n",
       "      <td>HTA3_70005_3221388</td>\n",
       "      <td>dg.4DFC/70e79a14-03d2-11ef-9811-d7ff64fafaf4</td>\n",
       "      <td>HTAN BU</td>\n",
       "    </tr>\n",
       "    <tr>\n",
       "      <th>4</th>\n",
       "      <td>10-PCGA02-20152-1000048_S10_R1_001.fastq.gz</td>\n",
       "      <td>syn53283759</td>\n",
       "      <td>HTA3_70152_0185853</td>\n",
       "      <td>dg.4DFC/70e0e002-03d2-11ef-9751-8fbe5ca478f7</td>\n",
       "      <td>HTAN BU</td>\n",
       "    </tr>\n",
       "    <tr>\n",
       "      <th>...</th>\n",
       "      <td>...</td>\n",
       "      <td>...</td>\n",
       "      <td>...</td>\n",
       "      <td>...</td>\n",
       "      <td>...</td>\n",
       "    </tr>\n",
       "    <tr>\n",
       "      <th>95</th>\n",
       "      <td>457R_S32_R1_001.fastq.gz</td>\n",
       "      <td>syn51600506</td>\n",
       "      <td>HTA3_80018_0173259221</td>\n",
       "      <td>dg.4DFC/59b57430-d257-11ee-ab59-f33be5869174</td>\n",
       "      <td>HTAN BU</td>\n",
       "    </tr>\n",
       "    <tr>\n",
       "      <th>96</th>\n",
       "      <td>457R_S32_R2_001.fastq.gz</td>\n",
       "      <td>syn51600517</td>\n",
       "      <td>HTA3_80018_5212665869</td>\n",
       "      <td>dg.4DFC/59d02820-d257-11ee-80d3-638c87cd5f8a</td>\n",
       "      <td>HTAN BU</td>\n",
       "    </tr>\n",
       "    <tr>\n",
       "      <th>97</th>\n",
       "      <td>458R_S31_R1_001.fastq.gz</td>\n",
       "      <td>syn51600531</td>\n",
       "      <td>HTA3_80018_3248391424</td>\n",
       "      <td>dg.4DFC/59b598d4-d257-11ee-aa0e-4f26d48c332f</td>\n",
       "      <td>HTAN BU</td>\n",
       "    </tr>\n",
       "    <tr>\n",
       "      <th>98</th>\n",
       "      <td>458R_S31_R2_001.fastq.gz</td>\n",
       "      <td>syn51600544</td>\n",
       "      <td>HTA3_80018_5647478658</td>\n",
       "      <td>dg.4DFC/59d04c42-d257-11ee-abcb-07e5dc3b9fc9</td>\n",
       "      <td>HTAN BU</td>\n",
       "    </tr>\n",
       "    <tr>\n",
       "      <th>99</th>\n",
       "      <td>459R_S30_R1_001.fastq.gz</td>\n",
       "      <td>syn51600549</td>\n",
       "      <td>HTA3_80019_7936954871</td>\n",
       "      <td>dg.4DFC/59b5bf44-d257-11ee-af24-03083ce58c61</td>\n",
       "      <td>HTAN BU</td>\n",
       "    </tr>\n",
       "  </tbody>\n",
       "</table>\n",
       "<p>100 rows × 5 columns</p>\n",
       "</div>"
      ],
      "text/plain": [
       "                                           name     entityId  \\\n",
       "0     1-PCGA02-20005-1005102_S1_R1_001.fastq.gz  syn53283905   \n",
       "1     1-PCGA02-20005-1005102_S1_R1_001.fastq.gz  syn53283905   \n",
       "2     1-PCGA02-20005-1005102_S1_R2_001.fastq.gz  syn53283874   \n",
       "3     1-PCGA02-20005-1005102_S1_R2_001.fastq.gz  syn53283874   \n",
       "4   10-PCGA02-20152-1000048_S10_R1_001.fastq.gz  syn53283759   \n",
       "..                                          ...          ...   \n",
       "95                     457R_S32_R1_001.fastq.gz  syn51600506   \n",
       "96                     457R_S32_R2_001.fastq.gz  syn51600517   \n",
       "97                     458R_S31_R1_001.fastq.gz  syn51600531   \n",
       "98                     458R_S31_R2_001.fastq.gz  syn51600544   \n",
       "99                     459R_S30_R1_001.fastq.gz  syn51600549   \n",
       "\n",
       "        HTAN_Data_File_ID                                       drs_uri  \\\n",
       "0      HTA3_70005_3600639  dg.4DFC/20852dd0-9085-11ef-b71c-3f2710856ceb   \n",
       "1      HTA3_70005_3600639  dg.4DFC/70d84a82-03d2-11ef-a132-7f12e8801d7c   \n",
       "2      HTA3_70005_3221388  dg.4DFC/20a8a8be-9085-11ef-a3a5-3f109c193228   \n",
       "3      HTA3_70005_3221388  dg.4DFC/70e79a14-03d2-11ef-9811-d7ff64fafaf4   \n",
       "4      HTA3_70152_0185853  dg.4DFC/70e0e002-03d2-11ef-9751-8fbe5ca478f7   \n",
       "..                    ...                                           ...   \n",
       "95  HTA3_80018_0173259221  dg.4DFC/59b57430-d257-11ee-ab59-f33be5869174   \n",
       "96  HTA3_80018_5212665869  dg.4DFC/59d02820-d257-11ee-80d3-638c87cd5f8a   \n",
       "97  HTA3_80018_3248391424  dg.4DFC/59b598d4-d257-11ee-aa0e-4f26d48c332f   \n",
       "98  HTA3_80018_5647478658  dg.4DFC/59d04c42-d257-11ee-abcb-07e5dc3b9fc9   \n",
       "99  HTA3_80019_7936954871  dg.4DFC/59b5bf44-d257-11ee-af24-03083ce58c61   \n",
       "\n",
       "   HTAN_Center  \n",
       "0      HTAN BU  \n",
       "1      HTAN BU  \n",
       "2      HTAN BU  \n",
       "3      HTAN BU  \n",
       "4      HTAN BU  \n",
       "..         ...  \n",
       "95     HTAN BU  \n",
       "96     HTAN BU  \n",
       "97     HTAN BU  \n",
       "98     HTAN BU  \n",
       "99     HTAN BU  \n",
       "\n",
       "[100 rows x 5 columns]"
      ]
     },
     "execution_count": 8,
     "metadata": {},
     "output_type": "execute_result"
    }
   ],
   "source": [
    "cds_drs.head(100)"
   ]
  },
  {
   "cell_type": "markdown",
   "metadata": {
    "id": "uuBEUxIDwogm"
   },
   "source": [
    "## 5.1 Subset DRS IDs to files of interest"
   ]
  },
  {
   "cell_type": "markdown",
   "metadata": {
    "id": "Dv6AHUvSO6xx"
   },
   "source": [
    "Utilizing the above tables, we can create a dataframe consisting of our files of interest, with `name` and `drs_uri` columns as minimally required of a DRS manifest file: https://docs.cancergenomicscloud.org/docs/import-from-a-drs-server#manifest-file-format"
   ]
  },
  {
   "cell_type": "code",
   "execution_count": 11,
   "metadata": {
    "colab": {
     "base_uri": "https://localhost:8080/",
     "height": 669
    },
    "id": "7ucOWhulvoRp",
    "outputId": "cc520799-646f-46c5-e2dd-bf77f325cb38"
   },
   "outputs": [
    {
     "data": {
      "application/vnd.google.colaboratory.module+javascript": "\n      import \"https://ssl.gstatic.com/colaboratory/data_table/81868506e94e6988/data_table.js\";\n\n      window.createDataTable({\n        data: [[{\n            'v': 0,\n            'f': \"0\",\n        },\n\"CRC01b_07.ome.tif\",\n\"dg.4DFC/624649d2-7e68-11ee-8f1d-c3303a8d2065\"],\n [{\n            'v': 1,\n            'f': \"1\",\n        },\n\"CRC01b_08.ome.tif\",\n\"dg.4DFC/62467074-7e68-11ee-92d8-273c6ae268a6\"],\n [{\n            'v': 2,\n            'f': \"2\",\n        },\n\"WD-76845-002.ome.tif\",\n\"dg.4DFC/6246b71e-7e68-11ee-b903-b353f6c54bef\"],\n [{\n            'v': 3,\n            'f': \"3\",\n        },\n\"WD-76845-007.ome.tif\",\n\"dg.4DFC/6246fe54-7e68-11ee-9b8d-db93aaf61af3\"],\n [{\n            'v': 4,\n            'f': \"4\",\n        },\n\"WD-76845-014.ome.tif\",\n\"dg.4DFC/6247468e-7e68-11ee-8507-2b6660ecfedb\"],\n [{\n            'v': 5,\n            'f': \"5\",\n        },\n\"WD-76845-020.ome.tif\",\n\"dg.4DFC/62478d6a-7e68-11ee-82a3-6365c9660687\"],\n [{\n            'v': 6,\n            'f': \"6\",\n        },\n\"WD-76845-025.ome.tif\",\n\"dg.4DFC/62422b68-7e68-11ee-9e39-53d6043877fc\"],\n [{\n            'v': 7,\n            'f': \"7\",\n        },\n\"WD-76845-029.ome.tif\",\n\"dg.4DFC/624820d6-7e68-11ee-80c6-2f97e9f45ee7\"],\n [{\n            'v': 8,\n            'f': \"8\",\n        },\n\"WD-76845-034.ome.tif\",\n\"dg.4DFC/6247d978-7e68-11ee-9122-07a9079cdad0\"],\n [{\n            'v': 9,\n            'f': \"9\",\n        },\n\"WD-76845-039.ome.tif\",\n\"dg.4DFC/6248b49c-7e68-11ee-86f2-1fc22e91d492\"],\n [{\n            'v': 10,\n            'f': \"10\",\n        },\n\"WD-76845-044.ome.tif\",\n\"dg.4DFC/62434c14-7e68-11ee-b2ee-8b57254a6b80\"],\n [{\n            'v': 11,\n            'f': \"11\",\n        },\n\"WD-76845-045.ome.tif\",\n\"dg.4DFC/624370c2-7e68-11ee-8ae5-b74437640379\"],\n [{\n            'v': 12,\n            'f': \"12\",\n        },\n\"WD-76845-046.ome.tif\",\n\"dg.4DFC/624394f8-7e68-11ee-a2c9-175abe2009d7\"],\n [{\n            'v': 13,\n            'f': \"13\",\n        },\n\"WD-76845-047.ome.tif\",\n\"dg.4DFC/6249670c-7e68-11ee-88d8-dfc9803e51a9\"],\n [{\n            'v': 14,\n            'f': \"14\",\n        },\n\"WD-76845-049.ome.tif\",\n\"dg.4DFC/62440208-7e68-11ee-8791-e3d9973f8182\"],\n [{\n            'v': 15,\n            'f': \"15\",\n        },\n\"WD-76845-050.ome.tif\",\n\"dg.4DFC/624425e4-7e68-11ee-96b6-831b174800d8\"],\n [{\n            'v': 16,\n            'f': \"16\",\n        },\n\"WD-76845-051.ome.tif\",\n\"dg.4DFC/62444952-7e68-11ee-80e3-635aa0eadfae\"],\n [{\n            'v': 17,\n            'f': \"17\",\n        },\n\"WD-76845-052.ome.tif\",\n\"dg.4DFC/62446cb6-7e68-11ee-9d63-bf0e3e787843\"],\n [{\n            'v': 18,\n            'f': \"18\",\n        },\n\"WD-76845-054.ome.tif\",\n\"dg.4DFC/6244b496-7e68-11ee-a1d6-4b667e091c01\"],\n [{\n            'v': 19,\n            'f': \"19\",\n        },\n\"WD-76845-059.ome.tif\",\n\"dg.4DFC/62450374-7e68-11ee-b71c-0b924b1f64d1\"],\n [{\n            'v': 20,\n            'f': \"20\",\n        },\n\"WD-76845-064.ome.tif\",\n\"dg.4DFC/62454f64-7e68-11ee-a16f-ffd694ee6c56\"],\n [{\n            'v': 21,\n            'f': \"21\",\n        },\n\"WD-76845-069.ome.tif\",\n\"dg.4DFC/62459668-7e68-11ee-a79e-87facf06964b\"],\n [{\n            'v': 22,\n            'f': \"22\",\n        },\n\"WD-76845-074.ome.tif\",\n\"dg.4DFC/6245df74-7e68-11ee-bf70-db4af690ca46\"],\n [{\n            'v': 23,\n            'f': \"23\",\n        },\n\"WD-76845-078.ome.tif\",\n\"dg.4DFC/6246266e-7e68-11ee-8f0b-d36ebac32284\"],\n [{\n            'v': 24,\n            'f': \"24\",\n        },\n\"WD-76845-084.ome.tif\",\n\"dg.4DFC/62492026-7e68-11ee-80d2-8b119931dbc1\"],\n [{\n            'v': 25,\n            'f': \"25\",\n        },\n\"WD-76845-086.ome.tif\",\n\"dg.4DFC/6249d318-7e68-11ee-927f-c77dc358ae65\"],\n [{\n            'v': 26,\n            'f': \"26\",\n        },\n\"WD-76845-091.ome.tif\",\n\"dg.4DFC/62486abe-7e68-11ee-af8e-7b50a4bdf8fa\"],\n [{\n            'v': 27,\n            'f': \"27\",\n        },\n\"WD-76845-097.ome.tif\",\n\"dg.4DFC/624943c6-7e68-11ee-91ac-8fefe5a2779f\"],\n [{\n            'v': 28,\n            'f': \"28\",\n        },\n\"WD-76845-102.ome.tif\",\n\"dg.4DFC/6241bc1e-7e68-11ee-8da5-c7a226cb296e\"],\n [{\n            'v': 29,\n            'f': \"29\",\n        },\n\"WD-76845-106.ome.tif\",\n\"dg.4DFC/624203b8-7e68-11ee-aae2-238915aab823\"]],\n        columns: [[\"number\", \"index\"], [\"string\", \"name\"], [\"string\", \"drs_uri\"]],\n        rowsPerPage: 25,\n      });\n    ",
      "text/html": [
       "<div>\n",
       "<style scoped>\n",
       "    .dataframe tbody tr th:only-of-type {\n",
       "        vertical-align: middle;\n",
       "    }\n",
       "\n",
       "    .dataframe tbody tr th {\n",
       "        vertical-align: top;\n",
       "    }\n",
       "\n",
       "    .dataframe thead th {\n",
       "        text-align: right;\n",
       "    }\n",
       "</style>\n",
       "<table border=\"1\" class=\"dataframe\">\n",
       "  <thead>\n",
       "    <tr style=\"text-align: right;\">\n",
       "      <th></th>\n",
       "      <th>name</th>\n",
       "      <th>drs_uri</th>\n",
       "    </tr>\n",
       "  </thead>\n",
       "  <tbody>\n",
       "    <tr>\n",
       "      <th>0</th>\n",
       "      <td>CRC01b_07.ome.tif</td>\n",
       "      <td>dg.4DFC/624649d2-7e68-11ee-8f1d-c3303a8d2065</td>\n",
       "    </tr>\n",
       "    <tr>\n",
       "      <th>1</th>\n",
       "      <td>CRC01b_08.ome.tif</td>\n",
       "      <td>dg.4DFC/62467074-7e68-11ee-92d8-273c6ae268a6</td>\n",
       "    </tr>\n",
       "    <tr>\n",
       "      <th>2</th>\n",
       "      <td>WD-76845-002.ome.tif</td>\n",
       "      <td>dg.4DFC/6246b71e-7e68-11ee-b903-b353f6c54bef</td>\n",
       "    </tr>\n",
       "    <tr>\n",
       "      <th>3</th>\n",
       "      <td>WD-76845-007.ome.tif</td>\n",
       "      <td>dg.4DFC/6246fe54-7e68-11ee-9b8d-db93aaf61af3</td>\n",
       "    </tr>\n",
       "    <tr>\n",
       "      <th>4</th>\n",
       "      <td>WD-76845-014.ome.tif</td>\n",
       "      <td>dg.4DFC/6247468e-7e68-11ee-8507-2b6660ecfedb</td>\n",
       "    </tr>\n",
       "    <tr>\n",
       "      <th>5</th>\n",
       "      <td>WD-76845-020.ome.tif</td>\n",
       "      <td>dg.4DFC/62478d6a-7e68-11ee-82a3-6365c9660687</td>\n",
       "    </tr>\n",
       "    <tr>\n",
       "      <th>6</th>\n",
       "      <td>WD-76845-025.ome.tif</td>\n",
       "      <td>dg.4DFC/62422b68-7e68-11ee-9e39-53d6043877fc</td>\n",
       "    </tr>\n",
       "    <tr>\n",
       "      <th>7</th>\n",
       "      <td>WD-76845-029.ome.tif</td>\n",
       "      <td>dg.4DFC/624820d6-7e68-11ee-80c6-2f97e9f45ee7</td>\n",
       "    </tr>\n",
       "    <tr>\n",
       "      <th>8</th>\n",
       "      <td>WD-76845-034.ome.tif</td>\n",
       "      <td>dg.4DFC/6247d978-7e68-11ee-9122-07a9079cdad0</td>\n",
       "    </tr>\n",
       "    <tr>\n",
       "      <th>9</th>\n",
       "      <td>WD-76845-039.ome.tif</td>\n",
       "      <td>dg.4DFC/6248b49c-7e68-11ee-86f2-1fc22e91d492</td>\n",
       "    </tr>\n",
       "    <tr>\n",
       "      <th>10</th>\n",
       "      <td>WD-76845-044.ome.tif</td>\n",
       "      <td>dg.4DFC/62434c14-7e68-11ee-b2ee-8b57254a6b80</td>\n",
       "    </tr>\n",
       "    <tr>\n",
       "      <th>11</th>\n",
       "      <td>WD-76845-045.ome.tif</td>\n",
       "      <td>dg.4DFC/624370c2-7e68-11ee-8ae5-b74437640379</td>\n",
       "    </tr>\n",
       "    <tr>\n",
       "      <th>12</th>\n",
       "      <td>WD-76845-046.ome.tif</td>\n",
       "      <td>dg.4DFC/624394f8-7e68-11ee-a2c9-175abe2009d7</td>\n",
       "    </tr>\n",
       "    <tr>\n",
       "      <th>13</th>\n",
       "      <td>WD-76845-047.ome.tif</td>\n",
       "      <td>dg.4DFC/6249670c-7e68-11ee-88d8-dfc9803e51a9</td>\n",
       "    </tr>\n",
       "    <tr>\n",
       "      <th>14</th>\n",
       "      <td>WD-76845-049.ome.tif</td>\n",
       "      <td>dg.4DFC/62440208-7e68-11ee-8791-e3d9973f8182</td>\n",
       "    </tr>\n",
       "    <tr>\n",
       "      <th>15</th>\n",
       "      <td>WD-76845-050.ome.tif</td>\n",
       "      <td>dg.4DFC/624425e4-7e68-11ee-96b6-831b174800d8</td>\n",
       "    </tr>\n",
       "    <tr>\n",
       "      <th>16</th>\n",
       "      <td>WD-76845-051.ome.tif</td>\n",
       "      <td>dg.4DFC/62444952-7e68-11ee-80e3-635aa0eadfae</td>\n",
       "    </tr>\n",
       "    <tr>\n",
       "      <th>17</th>\n",
       "      <td>WD-76845-052.ome.tif</td>\n",
       "      <td>dg.4DFC/62446cb6-7e68-11ee-9d63-bf0e3e787843</td>\n",
       "    </tr>\n",
       "    <tr>\n",
       "      <th>18</th>\n",
       "      <td>WD-76845-054.ome.tif</td>\n",
       "      <td>dg.4DFC/6244b496-7e68-11ee-a1d6-4b667e091c01</td>\n",
       "    </tr>\n",
       "    <tr>\n",
       "      <th>19</th>\n",
       "      <td>WD-76845-059.ome.tif</td>\n",
       "      <td>dg.4DFC/62450374-7e68-11ee-b71c-0b924b1f64d1</td>\n",
       "    </tr>\n",
       "    <tr>\n",
       "      <th>20</th>\n",
       "      <td>WD-76845-064.ome.tif</td>\n",
       "      <td>dg.4DFC/62454f64-7e68-11ee-a16f-ffd694ee6c56</td>\n",
       "    </tr>\n",
       "    <tr>\n",
       "      <th>21</th>\n",
       "      <td>WD-76845-069.ome.tif</td>\n",
       "      <td>dg.4DFC/62459668-7e68-11ee-a79e-87facf06964b</td>\n",
       "    </tr>\n",
       "    <tr>\n",
       "      <th>22</th>\n",
       "      <td>WD-76845-074.ome.tif</td>\n",
       "      <td>dg.4DFC/6245df74-7e68-11ee-bf70-db4af690ca46</td>\n",
       "    </tr>\n",
       "    <tr>\n",
       "      <th>23</th>\n",
       "      <td>WD-76845-078.ome.tif</td>\n",
       "      <td>dg.4DFC/6246266e-7e68-11ee-8f0b-d36ebac32284</td>\n",
       "    </tr>\n",
       "    <tr>\n",
       "      <th>24</th>\n",
       "      <td>WD-76845-084.ome.tif</td>\n",
       "      <td>dg.4DFC/62492026-7e68-11ee-80d2-8b119931dbc1</td>\n",
       "    </tr>\n",
       "    <tr>\n",
       "      <th>25</th>\n",
       "      <td>WD-76845-086.ome.tif</td>\n",
       "      <td>dg.4DFC/6249d318-7e68-11ee-927f-c77dc358ae65</td>\n",
       "    </tr>\n",
       "    <tr>\n",
       "      <th>26</th>\n",
       "      <td>WD-76845-091.ome.tif</td>\n",
       "      <td>dg.4DFC/62486abe-7e68-11ee-af8e-7b50a4bdf8fa</td>\n",
       "    </tr>\n",
       "    <tr>\n",
       "      <th>27</th>\n",
       "      <td>WD-76845-097.ome.tif</td>\n",
       "      <td>dg.4DFC/624943c6-7e68-11ee-91ac-8fefe5a2779f</td>\n",
       "    </tr>\n",
       "    <tr>\n",
       "      <th>28</th>\n",
       "      <td>WD-76845-102.ome.tif</td>\n",
       "      <td>dg.4DFC/6241bc1e-7e68-11ee-8da5-c7a226cb296e</td>\n",
       "    </tr>\n",
       "    <tr>\n",
       "      <th>29</th>\n",
       "      <td>WD-76845-106.ome.tif</td>\n",
       "      <td>dg.4DFC/624203b8-7e68-11ee-aae2-238915aab823</td>\n",
       "    </tr>\n",
       "  </tbody>\n",
       "</table>\n",
       "</div>"
      ],
      "text/plain": [
       "                    name                                       drs_uri\n",
       "0      CRC01b_07.ome.tif  dg.4DFC/624649d2-7e68-11ee-8f1d-c3303a8d2065\n",
       "1      CRC01b_08.ome.tif  dg.4DFC/62467074-7e68-11ee-92d8-273c6ae268a6\n",
       "2   WD-76845-002.ome.tif  dg.4DFC/6246b71e-7e68-11ee-b903-b353f6c54bef\n",
       "3   WD-76845-007.ome.tif  dg.4DFC/6246fe54-7e68-11ee-9b8d-db93aaf61af3\n",
       "4   WD-76845-014.ome.tif  dg.4DFC/6247468e-7e68-11ee-8507-2b6660ecfedb\n",
       "5   WD-76845-020.ome.tif  dg.4DFC/62478d6a-7e68-11ee-82a3-6365c9660687\n",
       "6   WD-76845-025.ome.tif  dg.4DFC/62422b68-7e68-11ee-9e39-53d6043877fc\n",
       "7   WD-76845-029.ome.tif  dg.4DFC/624820d6-7e68-11ee-80c6-2f97e9f45ee7\n",
       "8   WD-76845-034.ome.tif  dg.4DFC/6247d978-7e68-11ee-9122-07a9079cdad0\n",
       "9   WD-76845-039.ome.tif  dg.4DFC/6248b49c-7e68-11ee-86f2-1fc22e91d492\n",
       "10  WD-76845-044.ome.tif  dg.4DFC/62434c14-7e68-11ee-b2ee-8b57254a6b80\n",
       "11  WD-76845-045.ome.tif  dg.4DFC/624370c2-7e68-11ee-8ae5-b74437640379\n",
       "12  WD-76845-046.ome.tif  dg.4DFC/624394f8-7e68-11ee-a2c9-175abe2009d7\n",
       "13  WD-76845-047.ome.tif  dg.4DFC/6249670c-7e68-11ee-88d8-dfc9803e51a9\n",
       "14  WD-76845-049.ome.tif  dg.4DFC/62440208-7e68-11ee-8791-e3d9973f8182\n",
       "15  WD-76845-050.ome.tif  dg.4DFC/624425e4-7e68-11ee-96b6-831b174800d8\n",
       "16  WD-76845-051.ome.tif  dg.4DFC/62444952-7e68-11ee-80e3-635aa0eadfae\n",
       "17  WD-76845-052.ome.tif  dg.4DFC/62446cb6-7e68-11ee-9d63-bf0e3e787843\n",
       "18  WD-76845-054.ome.tif  dg.4DFC/6244b496-7e68-11ee-a1d6-4b667e091c01\n",
       "19  WD-76845-059.ome.tif  dg.4DFC/62450374-7e68-11ee-b71c-0b924b1f64d1\n",
       "20  WD-76845-064.ome.tif  dg.4DFC/62454f64-7e68-11ee-a16f-ffd694ee6c56\n",
       "21  WD-76845-069.ome.tif  dg.4DFC/62459668-7e68-11ee-a79e-87facf06964b\n",
       "22  WD-76845-074.ome.tif  dg.4DFC/6245df74-7e68-11ee-bf70-db4af690ca46\n",
       "23  WD-76845-078.ome.tif  dg.4DFC/6246266e-7e68-11ee-8f0b-d36ebac32284\n",
       "24  WD-76845-084.ome.tif  dg.4DFC/62492026-7e68-11ee-80d2-8b119931dbc1\n",
       "25  WD-76845-086.ome.tif  dg.4DFC/6249d318-7e68-11ee-927f-c77dc358ae65\n",
       "26  WD-76845-091.ome.tif  dg.4DFC/62486abe-7e68-11ee-af8e-7b50a4bdf8fa\n",
       "27  WD-76845-097.ome.tif  dg.4DFC/624943c6-7e68-11ee-91ac-8fefe5a2779f\n",
       "28  WD-76845-102.ome.tif  dg.4DFC/6241bc1e-7e68-11ee-8da5-c7a226cb296e\n",
       "29  WD-76845-106.ome.tif  dg.4DFC/624203b8-7e68-11ee-aae2-238915aab823"
      ]
     },
     "execution_count": 11,
     "metadata": {},
     "output_type": "execute_result"
    }
   ],
   "source": [
    "drs_table = client.query(\"\"\"\n",
    "  SELECT name,drs_uri FROM `isb-cgc-bq.HTAN_versioned.gc_drs_map_r6_v2`\n",
    "  WHERE entityId in (\n",
    "  SELECT DISTINCT entityId FROM\n",
    "  `isb-cgc-bq.HTAN_versioned.imaging_level2_metadata_r6`\n",
    "  WHERE HTAN_Center = 'HTAN TNP SARDANA'\n",
    "  AND Imaging_Assay_Type = 't-CyCIF'\n",
    "  AND CDS_Release IS NOT NULL\n",
    "  )\n",
    "\"\"\").result().to_dataframe()\n",
    "\n",
    "drs_table"
   ]
  },
  {
   "cell_type": "markdown",
   "metadata": {
    "id": "yR9TQhbrQBx1"
   },
   "source": [
    "## 5.2 Save result to CSV"
   ]
  },
  {
   "cell_type": "markdown",
   "metadata": {
    "id": "WYOv2Fa-HWmU"
   },
   "source": [
    "### Option 1. Save to Disk"
   ]
  },
  {
   "cell_type": "code",
   "execution_count": null,
   "metadata": {
    "id": "rnirsCmm_lKc"
   },
   "outputs": [],
   "source": [
    "table_name = 'sardana_cycif.csv'\n",
    "drs_table.to_csv(table_name,index=False)"
   ]
  },
  {
   "cell_type": "markdown",
   "metadata": {
    "id": "WoiEN1i9wF_N"
   },
   "source": [
    "Save the resulting table to disk as a CSV file. If running in Google Colab, the saved file can be found under the folder icon in the left sidebar and then downloaded locally.\n",
    "\n"
   ]
  },
  {
   "cell_type": "markdown",
   "metadata": {
    "id": "Gq1Mv_FuHdEz"
   },
   "source": [
    "### Option 2. Copy/Paste table to CSV (Google Colab only)\n",
    "\n",
    "In the resulting data table above, click the copy icon in the upper right (next to `Filter`). Copy the provided CSV and paste to a local file."
   ]
  },
  {
   "cell_type": "markdown",
   "metadata": {
    "id": "eV5pjyz8HZ42"
   },
   "source": [
    "This file can now be uploaded to SB-CGC to obtain the data files of interest following the [Import a DRS Manifest](https://docs.cancergenomicscloud.org/docs/import-from-a-drs-server#import-from-a-manifest-file) instructions.\n"
   ]
  },
  {
   "cell_type": "markdown",
   "metadata": {
    "id": "vFHgHAKCZhIS"
   },
   "source": [
    "# 6. Relevant Citations and Links\n",
    "\n"
   ]
  },
  {
   "cell_type": "markdown",
   "metadata": {
    "id": "4GRBw0oP_xjf"
   },
   "source": [
    "[HTAN Portal](https://humantumoratlas.org/)\n",
    "\n",
    "[Missing Manual](https://docs.humantumoratlas.org/)\n",
    "\n",
    "[Overview paper, Cell, April 2020](https://www.sciencedirect.com/science/article/pii/S0092867420303469)\n",
    "\n",
    "[NCI Cancer Data Service](https://datacommons.cancer.gov/repository/cancer-data-service)"
   ]
  }
 ],
 "metadata": {
  "colab": {
   "provenance": []
  },
  "kernelspec": {
   "display_name": "Python 3 (ipykernel)",
   "language": "python",
   "name": "python3"
  },
  "language_info": {
   "codemirror_mode": {
    "name": "ipython",
    "version": 3
   },
   "file_extension": ".py",
   "mimetype": "text/x-python",
   "name": "python",
   "nbconvert_exporter": "python",
   "pygments_lexer": "ipython3",
   "version": "3.10.16"
  }
 },
 "nbformat": 4,
 "nbformat_minor": 4
}
