{
  "cells": [
    {
      "cell_type": "markdown",
      "metadata": {
        "id": "R7MOzfSOPBgL"
      },
      "source": [
        "#Analyzing HTAN scATACseq Data Using SnapATAC2"
      ]
    },
    {
      "cell_type": "markdown",
      "metadata": {
        "id": "pDrXgG7gOQBF"
      },
      "source": [
        "```\n",
        "Title: Analyzing HTAN scATACseq Data\n",
        "Author: Dar'ya Pozhidayeva (dpozhida@systemsbiology.org)\n",
        "Created: October 28th, 2024\n",
        "```"
      ]
    },
    {
      "cell_type": "markdown",
      "source": [
        "[![Open in Colab](https://colab.research.google.com/assets/colab-badge.svg)](https://colab.research.google.com/github/isb-cgc/Community-Notebooks/blob/master/HTAN/Python%20Notebooks/Analyzing_HTAN_scATACseq_Data_Using_SnapATAC2.ipynb)"
      ],
      "metadata": {
        "id": "xwV-2ey4Rmfm"
      }
    },
    {
      "cell_type": "markdown",
      "metadata": {
        "id": "XWw9WmKxGfHr"
      },
      "source": [
        "# 1. Introduction & Overview\n",
        "[HTAN](https://humantumoratlas.org/) is a National Cancer Institute (NCI)-funded Cancer Moonshot initiative to construct 3-dimensional atlases of the dynamic cellular, morphological, and molecular features of human cancers as they evolve from precancerous lesions to advanced disease ( [Cell April 2020](https://www.sciencedirect.com/science/article/pii/S0092867420303469) )\n",
        "\n",
        "\n",
        "### 1.1 Goal\n",
        "\n",
        "The goal of this notebook is to show users how public HTAN single cell ATACseq level 4 data can be analyzed using the SnapATAC2 python package: https://github.com/kaizhang/SnapATAC2. Specifically, we'll be showcasing the construction and analysis of a fragment file from data in BigQuery. For the analsis, we'll perform some clustering and plotting of the data. The total time for this notebook should be about 20 minutes.\n",
        "\n",
        "\n",
        "### 1.2 Inputs, Outputs, & Data\n",
        "\n",
        "The data used in this analysis comes from HTAN single cell ATAC sequencing data (Level 4). The dataset is pulled from Google BigQuery, which was derived in August 2024 from an RDS file (Synapse ID: syn51301050) submitted by the CHOP HTAN Center.\n",
        "\n"
      ]
    },
    {
      "cell_type": "markdown",
      "source": [
        "In terms of methods, the authors reported that sorted cells were subjected to nuclei isolation protocol. Nuclei were processed using 10x Genomics Chromium controller and the Single Cell ATAC Reagent Kits V1 protocol. Libraries were sequenced on a Nova-Seq 6000 with 49:8:16:49 paired-end format.\n",
        "\n",
        "The published work associated with this dataset along with more information can be found here: https://ashpublications.org/blood/article/139/14/2198/482898/Single-cell-multiomics-reveals-increased"
      ],
      "metadata": {
        "id": "XFKk_8TFtGAd"
      }
    },
    {
      "cell_type": "markdown",
      "source": [
        "# 2. Relevant Libraries for Analysis\n",
        "\n",
        "To get started, we'll need to download and call a few python libraries!"
      ],
      "metadata": {
        "id": "BPlfHOdgEUtu"
      }
    },
    {
      "cell_type": "code",
      "execution_count": 89,
      "metadata": {
        "id": "H3NECZ68OlR-"
      },
      "outputs": [],
      "source": [
        "import pandas as pd\n",
        "import seaborn as sns\n",
        "import gzip"
      ]
    },
    {
      "cell_type": "markdown",
      "metadata": {
        "id": "rssn8rLmGfH0"
      },
      "source": [
        "# 3. Google Authentication\n",
        "\n",
        "Running the BigQuery cells in this notebook requires a Google Cloud Project, instructions for creating a project can be found in the [Google Documentation](https://cloud.google.com/resource-manager/docs/creating-managing-projects#console). The instance needs to be authorized to bill the project for queries. For more information on getting started in the cloud see [Quick Start Guide to ISB-CGC](https://nbviewer.org/github/isb-cgc/Community-Notebooks/blob/master/Notebooks/Quick_Start_Guide_to_ISB_CGC.ipynb) and alternative authentication methods can be found in the [Google Documentation](https://cloud.google.com/resource-manager/docs/creating-managing-projects#console)."
      ]
    },
    {
      "cell_type": "markdown",
      "source": [
        "## 3.1 Authenticating with Google Credentials\n",
        "\n",
        "#### Option 1. Running in Google Colab\n",
        "\n",
        "Before getting started, keep in mind that there are some differences in running this notebook depending on if you are using Google Colab or running locally. We've included notes such as the following to skip or run specific lines of code depending on your setup.\n",
        "\n",
        "If you are using Google Colab, run the code block below to authenticate:"
      ],
      "metadata": {
        "id": "vEZ_YJelhK9F"
      }
    },
    {
      "cell_type": "code",
      "source": [
        "from google.colab import auth\n",
        "auth.authenticate_user()"
      ],
      "metadata": {
        "id": "TzYqxkzphqGX"
      },
      "execution_count": 90,
      "outputs": []
    },
    {
      "cell_type": "markdown",
      "source": [
        "#### Option 2. Running on local machine\n",
        "\n",
        "Alternatively, if you're running the notebook locally, take the following steps to authenticate.\n",
        "\n",
        "1.   Run `gcloud auth application-default login` on your local machine\n",
        "2.   Run the command below replacing `<path to key>` with the path to your credentials file"
      ],
      "metadata": {
        "id": "HBeAaba_hTHn"
      }
    },
    {
      "cell_type": "code",
      "source": [
        "#%env GOOGLE_APPLICATION_CREDENTIALS=<path to key>"
      ],
      "metadata": {
        "id": "OdKEnqORhuUv"
      },
      "execution_count": 91,
      "outputs": []
    },
    {
      "cell_type": "markdown",
      "source": [
        "## 3.2 Initializing the Google BigQuery client"
      ],
      "metadata": {
        "id": "_FN2sf13h1Co"
      }
    },
    {
      "cell_type": "code",
      "execution_count": 92,
      "metadata": {
        "id": "6AiGLpeFGfH3"
      },
      "outputs": [],
      "source": [
        "# Import the Google BigQuery client\n",
        "from google.cloud import bigquery\n",
        "\n",
        "# Set the google project that will be billed for this notebook's computations\n",
        "google_project = '<my-project>'\n",
        "\n",
        "# Create a client to access the data within BigQuery\n",
        "client = bigquery.Client(google_project)"
      ]
    },
    {
      "cell_type": "markdown",
      "source": [
        "This notebook will also be saving and accesssing data to/from google drive. In order to do this, the drive is first mounted as follows."
      ],
      "metadata": {
        "id": "LdYBTsyMxcJo"
      }
    },
    {
      "cell_type": "code",
      "source": [
        "from google.colab import drive\n",
        "drive.mount('/content/drive')"
      ],
      "metadata": {
        "colab": {
          "base_uri": "https://localhost:8080/"
        },
        "id": "HYK_ZukLljOh",
        "outputId": "dd14deee-94b8-4f7a-918c-0be69a0821fd"
      },
      "execution_count": 93,
      "outputs": [
        {
          "output_type": "stream",
          "name": "stdout",
          "text": [
            "Drive already mounted at /content/drive; to attempt to forcibly remount, call drive.mount(\"/content/drive\", force_remount=True).\n"
          ]
        }
      ]
    },
    {
      "cell_type": "markdown",
      "source": [
        "#4. Pull Data from Google BigQuery"
      ],
      "metadata": {
        "id": "wImSfN1f8EI2"
      }
    },
    {
      "cell_type": "markdown",
      "source": [
        "Once authentication and project setup is complete, we can work with HTAN data available in BigQuery. For the following query, we'll test to see if we can access the correct ATACseq table."
      ],
      "metadata": {
        "id": "ZgOH-kVcx_Cp"
      }
    },
    {
      "cell_type": "code",
      "source": [
        "scatac_table = client.query(\"\"\"\n",
        "SELECT * FROM `isb-cgc-bq.ISB_CGC_r6.seurat_scATAC_patient_clean` LIMIT 1\n",
        "    \"\"\").result().to_dataframe()"
      ],
      "metadata": {
        "id": "poPMXemsQ3yw"
      },
      "execution_count": 94,
      "outputs": []
    },
    {
      "cell_type": "code",
      "source": [
        "scatac_table"
      ],
      "metadata": {
        "colab": {
          "base_uri": "https://localhost:8080/",
          "height": 89
        },
        "id": "Pe2SOMTZRBbd",
        "outputId": "9b44e6f5-e7cc-4707-dbc4-7d98f1e2e1a4"
      },
      "execution_count": 95,
      "outputs": [
        {
          "output_type": "execute_result",
          "data": {
            "text/plain": [
              "                       iVar   iObs  X_value    chromosomal_position  \\\n",
              "0  PAYZWN _ACAAACCTCAAACCAC  UBE4B      2.0  chr1-10032335-10033952   \n",
              "\n",
              "  tss_region_flag   sample Ctype projCtype  pseudotime  nCount_ATAC  \\\n",
              "0             Tss  PAYZWN   T/NK    T-like   133.47307       7323.0   \n",
              "\n",
              "   nFeature_ATAC  \n",
              "0           5383  "
            ],
            "text/html": [
              "\n",
              "  <div id=\"df-6cee7609-13c0-4f54-8380-385c695b911e\" class=\"colab-df-container\">\n",
              "    <div>\n",
              "<style scoped>\n",
              "    .dataframe tbody tr th:only-of-type {\n",
              "        vertical-align: middle;\n",
              "    }\n",
              "\n",
              "    .dataframe tbody tr th {\n",
              "        vertical-align: top;\n",
              "    }\n",
              "\n",
              "    .dataframe thead th {\n",
              "        text-align: right;\n",
              "    }\n",
              "</style>\n",
              "<table border=\"1\" class=\"dataframe\">\n",
              "  <thead>\n",
              "    <tr style=\"text-align: right;\">\n",
              "      <th></th>\n",
              "      <th>iVar</th>\n",
              "      <th>iObs</th>\n",
              "      <th>X_value</th>\n",
              "      <th>chromosomal_position</th>\n",
              "      <th>tss_region_flag</th>\n",
              "      <th>sample</th>\n",
              "      <th>Ctype</th>\n",
              "      <th>projCtype</th>\n",
              "      <th>pseudotime</th>\n",
              "      <th>nCount_ATAC</th>\n",
              "      <th>nFeature_ATAC</th>\n",
              "    </tr>\n",
              "  </thead>\n",
              "  <tbody>\n",
              "    <tr>\n",
              "      <th>0</th>\n",
              "      <td>PAYZWN _ACAAACCTCAAACCAC</td>\n",
              "      <td>UBE4B</td>\n",
              "      <td>2.0</td>\n",
              "      <td>chr1-10032335-10033952</td>\n",
              "      <td>Tss</td>\n",
              "      <td>PAYZWN</td>\n",
              "      <td>T/NK</td>\n",
              "      <td>T-like</td>\n",
              "      <td>133.47307</td>\n",
              "      <td>7323.0</td>\n",
              "      <td>5383</td>\n",
              "    </tr>\n",
              "  </tbody>\n",
              "</table>\n",
              "</div>\n",
              "    <div class=\"colab-df-buttons\">\n",
              "\n",
              "  <div class=\"colab-df-container\">\n",
              "    <button class=\"colab-df-convert\" onclick=\"convertToInteractive('df-6cee7609-13c0-4f54-8380-385c695b911e')\"\n",
              "            title=\"Convert this dataframe to an interactive table.\"\n",
              "            style=\"display:none;\">\n",
              "\n",
              "  <svg xmlns=\"http://www.w3.org/2000/svg\" height=\"24px\" viewBox=\"0 -960 960 960\">\n",
              "    <path d=\"M120-120v-720h720v720H120Zm60-500h600v-160H180v160Zm220 220h160v-160H400v160Zm0 220h160v-160H400v160ZM180-400h160v-160H180v160Zm440 0h160v-160H620v160ZM180-180h160v-160H180v160Zm440 0h160v-160H620v160Z\"/>\n",
              "  </svg>\n",
              "    </button>\n",
              "\n",
              "  <style>\n",
              "    .colab-df-container {\n",
              "      display:flex;\n",
              "      gap: 12px;\n",
              "    }\n",
              "\n",
              "    .colab-df-convert {\n",
              "      background-color: #E8F0FE;\n",
              "      border: none;\n",
              "      border-radius: 50%;\n",
              "      cursor: pointer;\n",
              "      display: none;\n",
              "      fill: #1967D2;\n",
              "      height: 32px;\n",
              "      padding: 0 0 0 0;\n",
              "      width: 32px;\n",
              "    }\n",
              "\n",
              "    .colab-df-convert:hover {\n",
              "      background-color: #E2EBFA;\n",
              "      box-shadow: 0px 1px 2px rgba(60, 64, 67, 0.3), 0px 1px 3px 1px rgba(60, 64, 67, 0.15);\n",
              "      fill: #174EA6;\n",
              "    }\n",
              "\n",
              "    .colab-df-buttons div {\n",
              "      margin-bottom: 4px;\n",
              "    }\n",
              "\n",
              "    [theme=dark] .colab-df-convert {\n",
              "      background-color: #3B4455;\n",
              "      fill: #D2E3FC;\n",
              "    }\n",
              "\n",
              "    [theme=dark] .colab-df-convert:hover {\n",
              "      background-color: #434B5C;\n",
              "      box-shadow: 0px 1px 3px 1px rgba(0, 0, 0, 0.15);\n",
              "      filter: drop-shadow(0px 1px 2px rgba(0, 0, 0, 0.3));\n",
              "      fill: #FFFFFF;\n",
              "    }\n",
              "  </style>\n",
              "\n",
              "    <script>\n",
              "      const buttonEl =\n",
              "        document.querySelector('#df-6cee7609-13c0-4f54-8380-385c695b911e button.colab-df-convert');\n",
              "      buttonEl.style.display =\n",
              "        google.colab.kernel.accessAllowed ? 'block' : 'none';\n",
              "\n",
              "      async function convertToInteractive(key) {\n",
              "        const element = document.querySelector('#df-6cee7609-13c0-4f54-8380-385c695b911e');\n",
              "        const dataTable =\n",
              "          await google.colab.kernel.invokeFunction('convertToInteractive',\n",
              "                                                    [key], {});\n",
              "        if (!dataTable) return;\n",
              "\n",
              "        const docLinkHtml = 'Like what you see? Visit the ' +\n",
              "          '<a target=\"_blank\" href=https://colab.research.google.com/notebooks/data_table.ipynb>data table notebook</a>'\n",
              "          + ' to learn more about interactive tables.';\n",
              "        element.innerHTML = '';\n",
              "        dataTable['output_type'] = 'display_data';\n",
              "        await google.colab.output.renderOutput(dataTable, element);\n",
              "        const docLink = document.createElement('div');\n",
              "        docLink.innerHTML = docLinkHtml;\n",
              "        element.appendChild(docLink);\n",
              "      }\n",
              "    </script>\n",
              "  </div>\n",
              "\n",
              "\n",
              "  <div id=\"id_c0c8a605-06d6-4fb7-a95a-6dc88f691c10\">\n",
              "    <style>\n",
              "      .colab-df-generate {\n",
              "        background-color: #E8F0FE;\n",
              "        border: none;\n",
              "        border-radius: 50%;\n",
              "        cursor: pointer;\n",
              "        display: none;\n",
              "        fill: #1967D2;\n",
              "        height: 32px;\n",
              "        padding: 0 0 0 0;\n",
              "        width: 32px;\n",
              "      }\n",
              "\n",
              "      .colab-df-generate:hover {\n",
              "        background-color: #E2EBFA;\n",
              "        box-shadow: 0px 1px 2px rgba(60, 64, 67, 0.3), 0px 1px 3px 1px rgba(60, 64, 67, 0.15);\n",
              "        fill: #174EA6;\n",
              "      }\n",
              "\n",
              "      [theme=dark] .colab-df-generate {\n",
              "        background-color: #3B4455;\n",
              "        fill: #D2E3FC;\n",
              "      }\n",
              "\n",
              "      [theme=dark] .colab-df-generate:hover {\n",
              "        background-color: #434B5C;\n",
              "        box-shadow: 0px 1px 3px 1px rgba(0, 0, 0, 0.15);\n",
              "        filter: drop-shadow(0px 1px 2px rgba(0, 0, 0, 0.3));\n",
              "        fill: #FFFFFF;\n",
              "      }\n",
              "    </style>\n",
              "    <button class=\"colab-df-generate\" onclick=\"generateWithVariable('scatac_table')\"\n",
              "            title=\"Generate code using this dataframe.\"\n",
              "            style=\"display:none;\">\n",
              "\n",
              "  <svg xmlns=\"http://www.w3.org/2000/svg\" height=\"24px\"viewBox=\"0 0 24 24\"\n",
              "       width=\"24px\">\n",
              "    <path d=\"M7,19H8.4L18.45,9,17,7.55,7,17.6ZM5,21V16.75L18.45,3.32a2,2,0,0,1,2.83,0l1.4,1.43a1.91,1.91,0,0,1,.58,1.4,1.91,1.91,0,0,1-.58,1.4L9.25,21ZM18.45,9,17,7.55Zm-12,3A5.31,5.31,0,0,0,4.9,8.1,5.31,5.31,0,0,0,1,6.5,5.31,5.31,0,0,0,4.9,4.9,5.31,5.31,0,0,0,6.5,1,5.31,5.31,0,0,0,8.1,4.9,5.31,5.31,0,0,0,12,6.5,5.46,5.46,0,0,0,6.5,12Z\"/>\n",
              "  </svg>\n",
              "    </button>\n",
              "    <script>\n",
              "      (() => {\n",
              "      const buttonEl =\n",
              "        document.querySelector('#id_c0c8a605-06d6-4fb7-a95a-6dc88f691c10 button.colab-df-generate');\n",
              "      buttonEl.style.display =\n",
              "        google.colab.kernel.accessAllowed ? 'block' : 'none';\n",
              "\n",
              "      buttonEl.onclick = () => {\n",
              "        google.colab.notebook.generateWithVariable('scatac_table');\n",
              "      }\n",
              "      })();\n",
              "    </script>\n",
              "  </div>\n",
              "\n",
              "    </div>\n",
              "  </div>\n"
            ],
            "application/vnd.google.colaboratory.intrinsic+json": {
              "type": "dataframe",
              "variable_name": "scatac_table",
              "summary": "{\n  \"name\": \"scatac_table\",\n  \"rows\": 1,\n  \"fields\": [\n    {\n      \"column\": \"iVar\",\n      \"properties\": {\n        \"dtype\": \"string\",\n        \"num_unique_values\": 1,\n        \"samples\": [\n          \"PAYZWN _ACAAACCTCAAACCAC\"\n        ],\n        \"semantic_type\": \"\",\n        \"description\": \"\"\n      }\n    },\n    {\n      \"column\": \"iObs\",\n      \"properties\": {\n        \"dtype\": \"string\",\n        \"num_unique_values\": 1,\n        \"samples\": [\n          \"UBE4B\"\n        ],\n        \"semantic_type\": \"\",\n        \"description\": \"\"\n      }\n    },\n    {\n      \"column\": \"X_value\",\n      \"properties\": {\n        \"dtype\": \"number\",\n        \"std\": null,\n        \"min\": 2.0,\n        \"max\": 2.0,\n        \"num_unique_values\": 1,\n        \"samples\": [\n          2.0\n        ],\n        \"semantic_type\": \"\",\n        \"description\": \"\"\n      }\n    },\n    {\n      \"column\": \"chromosomal_position\",\n      \"properties\": {\n        \"dtype\": \"string\",\n        \"num_unique_values\": 1,\n        \"samples\": [\n          \"chr1-10032335-10033952\"\n        ],\n        \"semantic_type\": \"\",\n        \"description\": \"\"\n      }\n    },\n    {\n      \"column\": \"tss_region_flag\",\n      \"properties\": {\n        \"dtype\": \"string\",\n        \"num_unique_values\": 1,\n        \"samples\": [\n          \"Tss\"\n        ],\n        \"semantic_type\": \"\",\n        \"description\": \"\"\n      }\n    },\n    {\n      \"column\": \"sample\",\n      \"properties\": {\n        \"dtype\": \"string\",\n        \"num_unique_values\": 1,\n        \"samples\": [\n          \"PAYZWN \"\n        ],\n        \"semantic_type\": \"\",\n        \"description\": \"\"\n      }\n    },\n    {\n      \"column\": \"Ctype\",\n      \"properties\": {\n        \"dtype\": \"string\",\n        \"num_unique_values\": 1,\n        \"samples\": [\n          \"T/NK\"\n        ],\n        \"semantic_type\": \"\",\n        \"description\": \"\"\n      }\n    },\n    {\n      \"column\": \"projCtype\",\n      \"properties\": {\n        \"dtype\": \"string\",\n        \"num_unique_values\": 1,\n        \"samples\": [\n          \"T-like\"\n        ],\n        \"semantic_type\": \"\",\n        \"description\": \"\"\n      }\n    },\n    {\n      \"column\": \"pseudotime\",\n      \"properties\": {\n        \"dtype\": \"number\",\n        \"std\": null,\n        \"min\": 133.47307,\n        \"max\": 133.47307,\n        \"num_unique_values\": 1,\n        \"samples\": [\n          133.47307\n        ],\n        \"semantic_type\": \"\",\n        \"description\": \"\"\n      }\n    },\n    {\n      \"column\": \"nCount_ATAC\",\n      \"properties\": {\n        \"dtype\": \"number\",\n        \"std\": null,\n        \"min\": 7323.0,\n        \"max\": 7323.0,\n        \"num_unique_values\": 1,\n        \"samples\": [\n          7323.0\n        ],\n        \"semantic_type\": \"\",\n        \"description\": \"\"\n      }\n    },\n    {\n      \"column\": \"nFeature_ATAC\",\n      \"properties\": {\n        \"dtype\": \"Int64\",\n        \"num_unique_values\": 1,\n        \"samples\": [\n          5383\n        ],\n        \"semantic_type\": \"\",\n        \"description\": \"\"\n      }\n    }\n  ]\n}"
            }
          },
          "metadata": {},
          "execution_count": 95
        }
      ]
    },
    {
      "cell_type": "markdown",
      "source": [
        "Above, we see that the anticipated dataset is printed as expected.\n",
        "In terms of table columns, we see that iVar reflects gene IDs, iObs shows indices to cell barcodes, X_value reflects peak counts and chromosomal_position shows the chromosomal region in bp. More information for columns is availble in the table description and schema in BigQuery."
      ],
      "metadata": {
        "id": "pYruMVoZzGKT"
      }
    },
    {
      "cell_type": "markdown",
      "source": [
        "# 5.Create a Fragment File for ATAC Seq Analysis"
      ],
      "metadata": {
        "id": "J01-mZxImPLt"
      }
    },
    {
      "cell_type": "markdown",
      "source": [
        "Now that everything is set up, we'll move on to creating a fragment file from the available data. Many ATAC seq pipelines utilize fragment files as a starting point for the analysis. Generally, the cellranger count pipeline outputs a BED-like tabular file, where each line represents a unique ATAC-seq fragment captured by the assay. Each fragment is created by two separate transposition events, which create the two ends of the observed fragment. Each unique fragment may generate multiple duplicate reads. These duplicate reads are collapsed into a single fragment record.\n",
        "\n",
        "For more information on the fragment file format, you can visit: https://support.10xgenomics.com/single-cell-atac/software/pipelines/latest/output/fragments\n",
        "\n",
        "This is the standard we'll be following in this tutorial."
      ],
      "metadata": {
        "id": "4WtTX5b6mdZ8"
      }
    },
    {
      "cell_type": "markdown",
      "source": [
        "Additionally, this dataset is large and we won't make a single fragment file from the entire set here. Instead, we'll subset to relevant genes and samples that were reported in the publication associated with the set."
      ],
      "metadata": {
        "id": "nv5kpCskTScW"
      }
    },
    {
      "cell_type": "markdown",
      "source": [
        "In the paper, the authors list the blast population as being defined by specific clusters of cells expressing CD19, HOXA9, MEIS1, and MEF2C along with others. The heatmap in Figure 1G provides a list of genes assocated with motifs of early B-lineage TFs were enriched at open chromatin regions specific to CD19+ blasts. Here, we'll use these genes within one patient as a basis for subsetting our whole data set."
      ],
      "metadata": {
        "id": "MiK2ySjtTo0W"
      }
    },
    {
      "cell_type": "code",
      "source": [
        "# We'll use the following query to fetch the gene symbols for the array\n",
        "data_subset = client.query(\"\"\"\n",
        "SELECT * FROM `isb-cgc-bq.ISB_CGC_r6.seurat_scATAC_patient_clean`\n",
        "WHERE (sample = 'PAYUZJ') AND\n",
        "(iObs IN UNNEST(['GATA2','MBD','STAT5A','E2F4','REL','PAX5','TCF12','EBF1','RUNX1','POU2F2','SPIB','IRF8','BCL11A','ETS1','LEF1','KLF','CD19','HOXA9','MEIS1','MEF2C']) )\n",
        "\"\"\").result().to_dataframe()"
      ],
      "metadata": {
        "id": "jn1k2M1fr_x9"
      },
      "execution_count": 96,
      "outputs": []
    },
    {
      "cell_type": "code",
      "source": [
        "data_subset"
      ],
      "metadata": {
        "colab": {
          "base_uri": "https://localhost:8080/",
          "height": 423
        },
        "id": "Snrl5eTstb0e",
        "outputId": "6fdef5ac-d8a8-4bfb-bd53-131333066ea1",
        "collapsed": true
      },
      "execution_count": 97,
      "outputs": [
        {
          "output_type": "execute_result",
          "data": {
            "text/plain": [
              "                           iVar  iObs  X_value       chromosomal_position  \\\n",
              "0       PAYUZJ_AATGCCAAGAACTCCT  ETS1      1.0  chr11-128491485-128492021   \n",
              "1       PAYUZJ_AATGCCAAGAACTCCT  ETS1      2.0  chr11-128520593-128523375   \n",
              "2       PAYUZJ_ATTTGTCGTGACCAGA  ETS1      2.0  chr11-128422273-128423349   \n",
              "3       PAYUZJ_ATTTGTCGTGACCAGA  ETS1      2.0  chr11-128464824-128466040   \n",
              "4       PAYUZJ_ATTTGTCGTGACCAGA  ETS1      2.0  chr11-128469974-128470534   \n",
              "...                         ...   ...      ...                        ...   \n",
              "229003  PAYUZJ_TTGGTCCAGGTGTCGA  CD19      2.0    chr16-28930494-28932834   \n",
              "229004  PAYUZJ_AACCTTTAGTCGTACT  CD19      1.0    chr16-28930494-28932834   \n",
              "229005  PAYUZJ_CAACCAAGTTGCAGCC  CD19      2.0    chr16-28930494-28932834   \n",
              "229006  PAYUZJ_CATGTTTGTTCAGTTG  CD19      1.0    chr16-28930494-28932834   \n",
              "229007  PAYUZJ_CCTTGCAGTGCAAAGC  CD19      1.0    chr16-28935277-28935798   \n",
              "\n",
              "       tss_region_flag  sample        Ctype       projCtype  pseudotime  \\\n",
              "0                 None  PAYUZJ         T/NK          T-like   133.57374   \n",
              "1                  Tss  PAYUZJ         T/NK          T-like   133.57374   \n",
              "2                 None  PAYUZJ         T/NK          T-like   133.57374   \n",
              "3                 None  PAYUZJ         T/NK          T-like   133.57374   \n",
              "4                 None  PAYUZJ         T/NK          T-like   133.57374   \n",
              "...                ...     ...          ...             ...         ...   \n",
              "229003             Tss  PAYUZJ       Blasts  Pre-pro-B-like    71.60555   \n",
              "229004             Tss  PAYUZJ       Blasts  Pre-pro-B-like    74.17554   \n",
              "229005             Tss  PAYUZJ       Blasts      Pro-B-like    77.02462   \n",
              "229006             Tss  PAYUZJ       Blasts      Pro-B-like    77.02462   \n",
              "229007            None  PAYUZJ  Progenitors       HSPC-like     8.28449   \n",
              "\n",
              "        nCount_ATAC  nFeature_ATAC  \n",
              "0           13646.0           9185  \n",
              "1           13646.0           9185  \n",
              "2           12900.0           8115  \n",
              "3           12900.0           8115  \n",
              "4           12900.0           8115  \n",
              "...             ...            ...  \n",
              "229003      17659.0          11893  \n",
              "229004      25691.0          16776  \n",
              "229005      17967.0          12939  \n",
              "229006      19078.0          12399  \n",
              "229007      20886.0          13877  \n",
              "\n",
              "[229008 rows x 11 columns]"
            ],
            "text/html": [
              "\n",
              "  <div id=\"df-85bc15d6-224e-4a94-9463-ed060fccefcc\" class=\"colab-df-container\">\n",
              "    <div>\n",
              "<style scoped>\n",
              "    .dataframe tbody tr th:only-of-type {\n",
              "        vertical-align: middle;\n",
              "    }\n",
              "\n",
              "    .dataframe tbody tr th {\n",
              "        vertical-align: top;\n",
              "    }\n",
              "\n",
              "    .dataframe thead th {\n",
              "        text-align: right;\n",
              "    }\n",
              "</style>\n",
              "<table border=\"1\" class=\"dataframe\">\n",
              "  <thead>\n",
              "    <tr style=\"text-align: right;\">\n",
              "      <th></th>\n",
              "      <th>iVar</th>\n",
              "      <th>iObs</th>\n",
              "      <th>X_value</th>\n",
              "      <th>chromosomal_position</th>\n",
              "      <th>tss_region_flag</th>\n",
              "      <th>sample</th>\n",
              "      <th>Ctype</th>\n",
              "      <th>projCtype</th>\n",
              "      <th>pseudotime</th>\n",
              "      <th>nCount_ATAC</th>\n",
              "      <th>nFeature_ATAC</th>\n",
              "    </tr>\n",
              "  </thead>\n",
              "  <tbody>\n",
              "    <tr>\n",
              "      <th>0</th>\n",
              "      <td>PAYUZJ_AATGCCAAGAACTCCT</td>\n",
              "      <td>ETS1</td>\n",
              "      <td>1.0</td>\n",
              "      <td>chr11-128491485-128492021</td>\n",
              "      <td>None</td>\n",
              "      <td>PAYUZJ</td>\n",
              "      <td>T/NK</td>\n",
              "      <td>T-like</td>\n",
              "      <td>133.57374</td>\n",
              "      <td>13646.0</td>\n",
              "      <td>9185</td>\n",
              "    </tr>\n",
              "    <tr>\n",
              "      <th>1</th>\n",
              "      <td>PAYUZJ_AATGCCAAGAACTCCT</td>\n",
              "      <td>ETS1</td>\n",
              "      <td>2.0</td>\n",
              "      <td>chr11-128520593-128523375</td>\n",
              "      <td>Tss</td>\n",
              "      <td>PAYUZJ</td>\n",
              "      <td>T/NK</td>\n",
              "      <td>T-like</td>\n",
              "      <td>133.57374</td>\n",
              "      <td>13646.0</td>\n",
              "      <td>9185</td>\n",
              "    </tr>\n",
              "    <tr>\n",
              "      <th>2</th>\n",
              "      <td>PAYUZJ_ATTTGTCGTGACCAGA</td>\n",
              "      <td>ETS1</td>\n",
              "      <td>2.0</td>\n",
              "      <td>chr11-128422273-128423349</td>\n",
              "      <td>None</td>\n",
              "      <td>PAYUZJ</td>\n",
              "      <td>T/NK</td>\n",
              "      <td>T-like</td>\n",
              "      <td>133.57374</td>\n",
              "      <td>12900.0</td>\n",
              "      <td>8115</td>\n",
              "    </tr>\n",
              "    <tr>\n",
              "      <th>3</th>\n",
              "      <td>PAYUZJ_ATTTGTCGTGACCAGA</td>\n",
              "      <td>ETS1</td>\n",
              "      <td>2.0</td>\n",
              "      <td>chr11-128464824-128466040</td>\n",
              "      <td>None</td>\n",
              "      <td>PAYUZJ</td>\n",
              "      <td>T/NK</td>\n",
              "      <td>T-like</td>\n",
              "      <td>133.57374</td>\n",
              "      <td>12900.0</td>\n",
              "      <td>8115</td>\n",
              "    </tr>\n",
              "    <tr>\n",
              "      <th>4</th>\n",
              "      <td>PAYUZJ_ATTTGTCGTGACCAGA</td>\n",
              "      <td>ETS1</td>\n",
              "      <td>2.0</td>\n",
              "      <td>chr11-128469974-128470534</td>\n",
              "      <td>None</td>\n",
              "      <td>PAYUZJ</td>\n",
              "      <td>T/NK</td>\n",
              "      <td>T-like</td>\n",
              "      <td>133.57374</td>\n",
              "      <td>12900.0</td>\n",
              "      <td>8115</td>\n",
              "    </tr>\n",
              "    <tr>\n",
              "      <th>...</th>\n",
              "      <td>...</td>\n",
              "      <td>...</td>\n",
              "      <td>...</td>\n",
              "      <td>...</td>\n",
              "      <td>...</td>\n",
              "      <td>...</td>\n",
              "      <td>...</td>\n",
              "      <td>...</td>\n",
              "      <td>...</td>\n",
              "      <td>...</td>\n",
              "      <td>...</td>\n",
              "    </tr>\n",
              "    <tr>\n",
              "      <th>229003</th>\n",
              "      <td>PAYUZJ_TTGGTCCAGGTGTCGA</td>\n",
              "      <td>CD19</td>\n",
              "      <td>2.0</td>\n",
              "      <td>chr16-28930494-28932834</td>\n",
              "      <td>Tss</td>\n",
              "      <td>PAYUZJ</td>\n",
              "      <td>Blasts</td>\n",
              "      <td>Pre-pro-B-like</td>\n",
              "      <td>71.60555</td>\n",
              "      <td>17659.0</td>\n",
              "      <td>11893</td>\n",
              "    </tr>\n",
              "    <tr>\n",
              "      <th>229004</th>\n",
              "      <td>PAYUZJ_AACCTTTAGTCGTACT</td>\n",
              "      <td>CD19</td>\n",
              "      <td>1.0</td>\n",
              "      <td>chr16-28930494-28932834</td>\n",
              "      <td>Tss</td>\n",
              "      <td>PAYUZJ</td>\n",
              "      <td>Blasts</td>\n",
              "      <td>Pre-pro-B-like</td>\n",
              "      <td>74.17554</td>\n",
              "      <td>25691.0</td>\n",
              "      <td>16776</td>\n",
              "    </tr>\n",
              "    <tr>\n",
              "      <th>229005</th>\n",
              "      <td>PAYUZJ_CAACCAAGTTGCAGCC</td>\n",
              "      <td>CD19</td>\n",
              "      <td>2.0</td>\n",
              "      <td>chr16-28930494-28932834</td>\n",
              "      <td>Tss</td>\n",
              "      <td>PAYUZJ</td>\n",
              "      <td>Blasts</td>\n",
              "      <td>Pro-B-like</td>\n",
              "      <td>77.02462</td>\n",
              "      <td>17967.0</td>\n",
              "      <td>12939</td>\n",
              "    </tr>\n",
              "    <tr>\n",
              "      <th>229006</th>\n",
              "      <td>PAYUZJ_CATGTTTGTTCAGTTG</td>\n",
              "      <td>CD19</td>\n",
              "      <td>1.0</td>\n",
              "      <td>chr16-28930494-28932834</td>\n",
              "      <td>Tss</td>\n",
              "      <td>PAYUZJ</td>\n",
              "      <td>Blasts</td>\n",
              "      <td>Pro-B-like</td>\n",
              "      <td>77.02462</td>\n",
              "      <td>19078.0</td>\n",
              "      <td>12399</td>\n",
              "    </tr>\n",
              "    <tr>\n",
              "      <th>229007</th>\n",
              "      <td>PAYUZJ_CCTTGCAGTGCAAAGC</td>\n",
              "      <td>CD19</td>\n",
              "      <td>1.0</td>\n",
              "      <td>chr16-28935277-28935798</td>\n",
              "      <td>None</td>\n",
              "      <td>PAYUZJ</td>\n",
              "      <td>Progenitors</td>\n",
              "      <td>HSPC-like</td>\n",
              "      <td>8.28449</td>\n",
              "      <td>20886.0</td>\n",
              "      <td>13877</td>\n",
              "    </tr>\n",
              "  </tbody>\n",
              "</table>\n",
              "<p>229008 rows × 11 columns</p>\n",
              "</div>\n",
              "    <div class=\"colab-df-buttons\">\n",
              "\n",
              "  <div class=\"colab-df-container\">\n",
              "    <button class=\"colab-df-convert\" onclick=\"convertToInteractive('df-85bc15d6-224e-4a94-9463-ed060fccefcc')\"\n",
              "            title=\"Convert this dataframe to an interactive table.\"\n",
              "            style=\"display:none;\">\n",
              "\n",
              "  <svg xmlns=\"http://www.w3.org/2000/svg\" height=\"24px\" viewBox=\"0 -960 960 960\">\n",
              "    <path d=\"M120-120v-720h720v720H120Zm60-500h600v-160H180v160Zm220 220h160v-160H400v160Zm0 220h160v-160H400v160ZM180-400h160v-160H180v160Zm440 0h160v-160H620v160ZM180-180h160v-160H180v160Zm440 0h160v-160H620v160Z\"/>\n",
              "  </svg>\n",
              "    </button>\n",
              "\n",
              "  <style>\n",
              "    .colab-df-container {\n",
              "      display:flex;\n",
              "      gap: 12px;\n",
              "    }\n",
              "\n",
              "    .colab-df-convert {\n",
              "      background-color: #E8F0FE;\n",
              "      border: none;\n",
              "      border-radius: 50%;\n",
              "      cursor: pointer;\n",
              "      display: none;\n",
              "      fill: #1967D2;\n",
              "      height: 32px;\n",
              "      padding: 0 0 0 0;\n",
              "      width: 32px;\n",
              "    }\n",
              "\n",
              "    .colab-df-convert:hover {\n",
              "      background-color: #E2EBFA;\n",
              "      box-shadow: 0px 1px 2px rgba(60, 64, 67, 0.3), 0px 1px 3px 1px rgba(60, 64, 67, 0.15);\n",
              "      fill: #174EA6;\n",
              "    }\n",
              "\n",
              "    .colab-df-buttons div {\n",
              "      margin-bottom: 4px;\n",
              "    }\n",
              "\n",
              "    [theme=dark] .colab-df-convert {\n",
              "      background-color: #3B4455;\n",
              "      fill: #D2E3FC;\n",
              "    }\n",
              "\n",
              "    [theme=dark] .colab-df-convert:hover {\n",
              "      background-color: #434B5C;\n",
              "      box-shadow: 0px 1px 3px 1px rgba(0, 0, 0, 0.15);\n",
              "      filter: drop-shadow(0px 1px 2px rgba(0, 0, 0, 0.3));\n",
              "      fill: #FFFFFF;\n",
              "    }\n",
              "  </style>\n",
              "\n",
              "    <script>\n",
              "      const buttonEl =\n",
              "        document.querySelector('#df-85bc15d6-224e-4a94-9463-ed060fccefcc button.colab-df-convert');\n",
              "      buttonEl.style.display =\n",
              "        google.colab.kernel.accessAllowed ? 'block' : 'none';\n",
              "\n",
              "      async function convertToInteractive(key) {\n",
              "        const element = document.querySelector('#df-85bc15d6-224e-4a94-9463-ed060fccefcc');\n",
              "        const dataTable =\n",
              "          await google.colab.kernel.invokeFunction('convertToInteractive',\n",
              "                                                    [key], {});\n",
              "        if (!dataTable) return;\n",
              "\n",
              "        const docLinkHtml = 'Like what you see? Visit the ' +\n",
              "          '<a target=\"_blank\" href=https://colab.research.google.com/notebooks/data_table.ipynb>data table notebook</a>'\n",
              "          + ' to learn more about interactive tables.';\n",
              "        element.innerHTML = '';\n",
              "        dataTable['output_type'] = 'display_data';\n",
              "        await google.colab.output.renderOutput(dataTable, element);\n",
              "        const docLink = document.createElement('div');\n",
              "        docLink.innerHTML = docLinkHtml;\n",
              "        element.appendChild(docLink);\n",
              "      }\n",
              "    </script>\n",
              "  </div>\n",
              "\n",
              "\n",
              "<div id=\"df-81c32cb0-71bd-481f-bae4-783c80af6b45\">\n",
              "  <button class=\"colab-df-quickchart\" onclick=\"quickchart('df-81c32cb0-71bd-481f-bae4-783c80af6b45')\"\n",
              "            title=\"Suggest charts\"\n",
              "            style=\"display:none;\">\n",
              "\n",
              "<svg xmlns=\"http://www.w3.org/2000/svg\" height=\"24px\"viewBox=\"0 0 24 24\"\n",
              "     width=\"24px\">\n",
              "    <g>\n",
              "        <path d=\"M19 3H5c-1.1 0-2 .9-2 2v14c0 1.1.9 2 2 2h14c1.1 0 2-.9 2-2V5c0-1.1-.9-2-2-2zM9 17H7v-7h2v7zm4 0h-2V7h2v10zm4 0h-2v-4h2v4z\"/>\n",
              "    </g>\n",
              "</svg>\n",
              "  </button>\n",
              "\n",
              "<style>\n",
              "  .colab-df-quickchart {\n",
              "      --bg-color: #E8F0FE;\n",
              "      --fill-color: #1967D2;\n",
              "      --hover-bg-color: #E2EBFA;\n",
              "      --hover-fill-color: #174EA6;\n",
              "      --disabled-fill-color: #AAA;\n",
              "      --disabled-bg-color: #DDD;\n",
              "  }\n",
              "\n",
              "  [theme=dark] .colab-df-quickchart {\n",
              "      --bg-color: #3B4455;\n",
              "      --fill-color: #D2E3FC;\n",
              "      --hover-bg-color: #434B5C;\n",
              "      --hover-fill-color: #FFFFFF;\n",
              "      --disabled-bg-color: #3B4455;\n",
              "      --disabled-fill-color: #666;\n",
              "  }\n",
              "\n",
              "  .colab-df-quickchart {\n",
              "    background-color: var(--bg-color);\n",
              "    border: none;\n",
              "    border-radius: 50%;\n",
              "    cursor: pointer;\n",
              "    display: none;\n",
              "    fill: var(--fill-color);\n",
              "    height: 32px;\n",
              "    padding: 0;\n",
              "    width: 32px;\n",
              "  }\n",
              "\n",
              "  .colab-df-quickchart:hover {\n",
              "    background-color: var(--hover-bg-color);\n",
              "    box-shadow: 0 1px 2px rgba(60, 64, 67, 0.3), 0 1px 3px 1px rgba(60, 64, 67, 0.15);\n",
              "    fill: var(--button-hover-fill-color);\n",
              "  }\n",
              "\n",
              "  .colab-df-quickchart-complete:disabled,\n",
              "  .colab-df-quickchart-complete:disabled:hover {\n",
              "    background-color: var(--disabled-bg-color);\n",
              "    fill: var(--disabled-fill-color);\n",
              "    box-shadow: none;\n",
              "  }\n",
              "\n",
              "  .colab-df-spinner {\n",
              "    border: 2px solid var(--fill-color);\n",
              "    border-color: transparent;\n",
              "    border-bottom-color: var(--fill-color);\n",
              "    animation:\n",
              "      spin 1s steps(1) infinite;\n",
              "  }\n",
              "\n",
              "  @keyframes spin {\n",
              "    0% {\n",
              "      border-color: transparent;\n",
              "      border-bottom-color: var(--fill-color);\n",
              "      border-left-color: var(--fill-color);\n",
              "    }\n",
              "    20% {\n",
              "      border-color: transparent;\n",
              "      border-left-color: var(--fill-color);\n",
              "      border-top-color: var(--fill-color);\n",
              "    }\n",
              "    30% {\n",
              "      border-color: transparent;\n",
              "      border-left-color: var(--fill-color);\n",
              "      border-top-color: var(--fill-color);\n",
              "      border-right-color: var(--fill-color);\n",
              "    }\n",
              "    40% {\n",
              "      border-color: transparent;\n",
              "      border-right-color: var(--fill-color);\n",
              "      border-top-color: var(--fill-color);\n",
              "    }\n",
              "    60% {\n",
              "      border-color: transparent;\n",
              "      border-right-color: var(--fill-color);\n",
              "    }\n",
              "    80% {\n",
              "      border-color: transparent;\n",
              "      border-right-color: var(--fill-color);\n",
              "      border-bottom-color: var(--fill-color);\n",
              "    }\n",
              "    90% {\n",
              "      border-color: transparent;\n",
              "      border-bottom-color: var(--fill-color);\n",
              "    }\n",
              "  }\n",
              "</style>\n",
              "\n",
              "  <script>\n",
              "    async function quickchart(key) {\n",
              "      const quickchartButtonEl =\n",
              "        document.querySelector('#' + key + ' button');\n",
              "      quickchartButtonEl.disabled = true;  // To prevent multiple clicks.\n",
              "      quickchartButtonEl.classList.add('colab-df-spinner');\n",
              "      try {\n",
              "        const charts = await google.colab.kernel.invokeFunction(\n",
              "            'suggestCharts', [key], {});\n",
              "      } catch (error) {\n",
              "        console.error('Error during call to suggestCharts:', error);\n",
              "      }\n",
              "      quickchartButtonEl.classList.remove('colab-df-spinner');\n",
              "      quickchartButtonEl.classList.add('colab-df-quickchart-complete');\n",
              "    }\n",
              "    (() => {\n",
              "      let quickchartButtonEl =\n",
              "        document.querySelector('#df-81c32cb0-71bd-481f-bae4-783c80af6b45 button');\n",
              "      quickchartButtonEl.style.display =\n",
              "        google.colab.kernel.accessAllowed ? 'block' : 'none';\n",
              "    })();\n",
              "  </script>\n",
              "</div>\n",
              "\n",
              "  <div id=\"id_5f394910-9deb-4556-8699-74e6b73f7935\">\n",
              "    <style>\n",
              "      .colab-df-generate {\n",
              "        background-color: #E8F0FE;\n",
              "        border: none;\n",
              "        border-radius: 50%;\n",
              "        cursor: pointer;\n",
              "        display: none;\n",
              "        fill: #1967D2;\n",
              "        height: 32px;\n",
              "        padding: 0 0 0 0;\n",
              "        width: 32px;\n",
              "      }\n",
              "\n",
              "      .colab-df-generate:hover {\n",
              "        background-color: #E2EBFA;\n",
              "        box-shadow: 0px 1px 2px rgba(60, 64, 67, 0.3), 0px 1px 3px 1px rgba(60, 64, 67, 0.15);\n",
              "        fill: #174EA6;\n",
              "      }\n",
              "\n",
              "      [theme=dark] .colab-df-generate {\n",
              "        background-color: #3B4455;\n",
              "        fill: #D2E3FC;\n",
              "      }\n",
              "\n",
              "      [theme=dark] .colab-df-generate:hover {\n",
              "        background-color: #434B5C;\n",
              "        box-shadow: 0px 1px 3px 1px rgba(0, 0, 0, 0.15);\n",
              "        filter: drop-shadow(0px 1px 2px rgba(0, 0, 0, 0.3));\n",
              "        fill: #FFFFFF;\n",
              "      }\n",
              "    </style>\n",
              "    <button class=\"colab-df-generate\" onclick=\"generateWithVariable('data_subset')\"\n",
              "            title=\"Generate code using this dataframe.\"\n",
              "            style=\"display:none;\">\n",
              "\n",
              "  <svg xmlns=\"http://www.w3.org/2000/svg\" height=\"24px\"viewBox=\"0 0 24 24\"\n",
              "       width=\"24px\">\n",
              "    <path d=\"M7,19H8.4L18.45,9,17,7.55,7,17.6ZM5,21V16.75L18.45,3.32a2,2,0,0,1,2.83,0l1.4,1.43a1.91,1.91,0,0,1,.58,1.4,1.91,1.91,0,0,1-.58,1.4L9.25,21ZM18.45,9,17,7.55Zm-12,3A5.31,5.31,0,0,0,4.9,8.1,5.31,5.31,0,0,0,1,6.5,5.31,5.31,0,0,0,4.9,4.9,5.31,5.31,0,0,0,6.5,1,5.31,5.31,0,0,0,8.1,4.9,5.31,5.31,0,0,0,12,6.5,5.46,5.46,0,0,0,6.5,12Z\"/>\n",
              "  </svg>\n",
              "    </button>\n",
              "    <script>\n",
              "      (() => {\n",
              "      const buttonEl =\n",
              "        document.querySelector('#id_5f394910-9deb-4556-8699-74e6b73f7935 button.colab-df-generate');\n",
              "      buttonEl.style.display =\n",
              "        google.colab.kernel.accessAllowed ? 'block' : 'none';\n",
              "\n",
              "      buttonEl.onclick = () => {\n",
              "        google.colab.notebook.generateWithVariable('data_subset');\n",
              "      }\n",
              "      })();\n",
              "    </script>\n",
              "  </div>\n",
              "\n",
              "    </div>\n",
              "  </div>\n"
            ],
            "application/vnd.google.colaboratory.intrinsic+json": {
              "type": "dataframe",
              "variable_name": "data_subset"
            }
          },
          "metadata": {},
          "execution_count": 97
        }
      ]
    },
    {
      "cell_type": "markdown",
      "source": [
        "Next, we create the fragment file by adhering to the standards provided in the documentation above:"
      ],
      "metadata": {
        "id": "7UasRp1yV0Y6"
      }
    },
    {
      "cell_type": "code",
      "source": [
        "cell_barcode = data_subset['iVar'].str.rsplit('_', n=1).str.get(1)\n",
        "chrom_positions = data_subset['chromosomal_position'].str.split('-', expand=True)\n",
        "expression = data_subset['X_value']\n",
        "\n",
        "fragment_file = pd.concat([chrom_positions, cell_barcode], axis=1)\n",
        "fragment_file = pd.concat([fragment_file, expression], axis=1)\n",
        "fragment_file['X_value'] = fragment_file['X_value'].astype(int)"
      ],
      "metadata": {
        "id": "Szokt-ORLBSJ"
      },
      "execution_count": 98,
      "outputs": []
    },
    {
      "cell_type": "code",
      "source": [
        "fragment_file"
      ],
      "metadata": {
        "colab": {
          "base_uri": "https://localhost:8080/",
          "height": 423
        },
        "id": "XsZ_tkmTiwzV",
        "outputId": "91d15536-3a17-4feb-cdca-df88704f797a"
      },
      "execution_count": 99,
      "outputs": [
        {
          "output_type": "execute_result",
          "data": {
            "text/plain": [
              "            0          1          2              iVar  X_value\n",
              "0       chr11  128491485  128492021  AATGCCAAGAACTCCT        1\n",
              "1       chr11  128520593  128523375  AATGCCAAGAACTCCT        2\n",
              "2       chr11  128422273  128423349  ATTTGTCGTGACCAGA        2\n",
              "3       chr11  128464824  128466040  ATTTGTCGTGACCAGA        2\n",
              "4       chr11  128469974  128470534  ATTTGTCGTGACCAGA        2\n",
              "...       ...        ...        ...               ...      ...\n",
              "229003  chr16   28930494   28932834  TTGGTCCAGGTGTCGA        2\n",
              "229004  chr16   28930494   28932834  AACCTTTAGTCGTACT        1\n",
              "229005  chr16   28930494   28932834  CAACCAAGTTGCAGCC        2\n",
              "229006  chr16   28930494   28932834  CATGTTTGTTCAGTTG        1\n",
              "229007  chr16   28935277   28935798  CCTTGCAGTGCAAAGC        1\n",
              "\n",
              "[229008 rows x 5 columns]"
            ],
            "text/html": [
              "\n",
              "  <div id=\"df-37bc0c47-8107-4a83-b342-a8b24dd4bd27\" class=\"colab-df-container\">\n",
              "    <div>\n",
              "<style scoped>\n",
              "    .dataframe tbody tr th:only-of-type {\n",
              "        vertical-align: middle;\n",
              "    }\n",
              "\n",
              "    .dataframe tbody tr th {\n",
              "        vertical-align: top;\n",
              "    }\n",
              "\n",
              "    .dataframe thead th {\n",
              "        text-align: right;\n",
              "    }\n",
              "</style>\n",
              "<table border=\"1\" class=\"dataframe\">\n",
              "  <thead>\n",
              "    <tr style=\"text-align: right;\">\n",
              "      <th></th>\n",
              "      <th>0</th>\n",
              "      <th>1</th>\n",
              "      <th>2</th>\n",
              "      <th>iVar</th>\n",
              "      <th>X_value</th>\n",
              "    </tr>\n",
              "  </thead>\n",
              "  <tbody>\n",
              "    <tr>\n",
              "      <th>0</th>\n",
              "      <td>chr11</td>\n",
              "      <td>128491485</td>\n",
              "      <td>128492021</td>\n",
              "      <td>AATGCCAAGAACTCCT</td>\n",
              "      <td>1</td>\n",
              "    </tr>\n",
              "    <tr>\n",
              "      <th>1</th>\n",
              "      <td>chr11</td>\n",
              "      <td>128520593</td>\n",
              "      <td>128523375</td>\n",
              "      <td>AATGCCAAGAACTCCT</td>\n",
              "      <td>2</td>\n",
              "    </tr>\n",
              "    <tr>\n",
              "      <th>2</th>\n",
              "      <td>chr11</td>\n",
              "      <td>128422273</td>\n",
              "      <td>128423349</td>\n",
              "      <td>ATTTGTCGTGACCAGA</td>\n",
              "      <td>2</td>\n",
              "    </tr>\n",
              "    <tr>\n",
              "      <th>3</th>\n",
              "      <td>chr11</td>\n",
              "      <td>128464824</td>\n",
              "      <td>128466040</td>\n",
              "      <td>ATTTGTCGTGACCAGA</td>\n",
              "      <td>2</td>\n",
              "    </tr>\n",
              "    <tr>\n",
              "      <th>4</th>\n",
              "      <td>chr11</td>\n",
              "      <td>128469974</td>\n",
              "      <td>128470534</td>\n",
              "      <td>ATTTGTCGTGACCAGA</td>\n",
              "      <td>2</td>\n",
              "    </tr>\n",
              "    <tr>\n",
              "      <th>...</th>\n",
              "      <td>...</td>\n",
              "      <td>...</td>\n",
              "      <td>...</td>\n",
              "      <td>...</td>\n",
              "      <td>...</td>\n",
              "    </tr>\n",
              "    <tr>\n",
              "      <th>229003</th>\n",
              "      <td>chr16</td>\n",
              "      <td>28930494</td>\n",
              "      <td>28932834</td>\n",
              "      <td>TTGGTCCAGGTGTCGA</td>\n",
              "      <td>2</td>\n",
              "    </tr>\n",
              "    <tr>\n",
              "      <th>229004</th>\n",
              "      <td>chr16</td>\n",
              "      <td>28930494</td>\n",
              "      <td>28932834</td>\n",
              "      <td>AACCTTTAGTCGTACT</td>\n",
              "      <td>1</td>\n",
              "    </tr>\n",
              "    <tr>\n",
              "      <th>229005</th>\n",
              "      <td>chr16</td>\n",
              "      <td>28930494</td>\n",
              "      <td>28932834</td>\n",
              "      <td>CAACCAAGTTGCAGCC</td>\n",
              "      <td>2</td>\n",
              "    </tr>\n",
              "    <tr>\n",
              "      <th>229006</th>\n",
              "      <td>chr16</td>\n",
              "      <td>28930494</td>\n",
              "      <td>28932834</td>\n",
              "      <td>CATGTTTGTTCAGTTG</td>\n",
              "      <td>1</td>\n",
              "    </tr>\n",
              "    <tr>\n",
              "      <th>229007</th>\n",
              "      <td>chr16</td>\n",
              "      <td>28935277</td>\n",
              "      <td>28935798</td>\n",
              "      <td>CCTTGCAGTGCAAAGC</td>\n",
              "      <td>1</td>\n",
              "    </tr>\n",
              "  </tbody>\n",
              "</table>\n",
              "<p>229008 rows × 5 columns</p>\n",
              "</div>\n",
              "    <div class=\"colab-df-buttons\">\n",
              "\n",
              "  <div class=\"colab-df-container\">\n",
              "    <button class=\"colab-df-convert\" onclick=\"convertToInteractive('df-37bc0c47-8107-4a83-b342-a8b24dd4bd27')\"\n",
              "            title=\"Convert this dataframe to an interactive table.\"\n",
              "            style=\"display:none;\">\n",
              "\n",
              "  <svg xmlns=\"http://www.w3.org/2000/svg\" height=\"24px\" viewBox=\"0 -960 960 960\">\n",
              "    <path d=\"M120-120v-720h720v720H120Zm60-500h600v-160H180v160Zm220 220h160v-160H400v160Zm0 220h160v-160H400v160ZM180-400h160v-160H180v160Zm440 0h160v-160H620v160ZM180-180h160v-160H180v160Zm440 0h160v-160H620v160Z\"/>\n",
              "  </svg>\n",
              "    </button>\n",
              "\n",
              "  <style>\n",
              "    .colab-df-container {\n",
              "      display:flex;\n",
              "      gap: 12px;\n",
              "    }\n",
              "\n",
              "    .colab-df-convert {\n",
              "      background-color: #E8F0FE;\n",
              "      border: none;\n",
              "      border-radius: 50%;\n",
              "      cursor: pointer;\n",
              "      display: none;\n",
              "      fill: #1967D2;\n",
              "      height: 32px;\n",
              "      padding: 0 0 0 0;\n",
              "      width: 32px;\n",
              "    }\n",
              "\n",
              "    .colab-df-convert:hover {\n",
              "      background-color: #E2EBFA;\n",
              "      box-shadow: 0px 1px 2px rgba(60, 64, 67, 0.3), 0px 1px 3px 1px rgba(60, 64, 67, 0.15);\n",
              "      fill: #174EA6;\n",
              "    }\n",
              "\n",
              "    .colab-df-buttons div {\n",
              "      margin-bottom: 4px;\n",
              "    }\n",
              "\n",
              "    [theme=dark] .colab-df-convert {\n",
              "      background-color: #3B4455;\n",
              "      fill: #D2E3FC;\n",
              "    }\n",
              "\n",
              "    [theme=dark] .colab-df-convert:hover {\n",
              "      background-color: #434B5C;\n",
              "      box-shadow: 0px 1px 3px 1px rgba(0, 0, 0, 0.15);\n",
              "      filter: drop-shadow(0px 1px 2px rgba(0, 0, 0, 0.3));\n",
              "      fill: #FFFFFF;\n",
              "    }\n",
              "  </style>\n",
              "\n",
              "    <script>\n",
              "      const buttonEl =\n",
              "        document.querySelector('#df-37bc0c47-8107-4a83-b342-a8b24dd4bd27 button.colab-df-convert');\n",
              "      buttonEl.style.display =\n",
              "        google.colab.kernel.accessAllowed ? 'block' : 'none';\n",
              "\n",
              "      async function convertToInteractive(key) {\n",
              "        const element = document.querySelector('#df-37bc0c47-8107-4a83-b342-a8b24dd4bd27');\n",
              "        const dataTable =\n",
              "          await google.colab.kernel.invokeFunction('convertToInteractive',\n",
              "                                                    [key], {});\n",
              "        if (!dataTable) return;\n",
              "\n",
              "        const docLinkHtml = 'Like what you see? Visit the ' +\n",
              "          '<a target=\"_blank\" href=https://colab.research.google.com/notebooks/data_table.ipynb>data table notebook</a>'\n",
              "          + ' to learn more about interactive tables.';\n",
              "        element.innerHTML = '';\n",
              "        dataTable['output_type'] = 'display_data';\n",
              "        await google.colab.output.renderOutput(dataTable, element);\n",
              "        const docLink = document.createElement('div');\n",
              "        docLink.innerHTML = docLinkHtml;\n",
              "        element.appendChild(docLink);\n",
              "      }\n",
              "    </script>\n",
              "  </div>\n",
              "\n",
              "\n",
              "<div id=\"df-a55e4e7e-3fb4-4226-9e6b-efff6ebb3501\">\n",
              "  <button class=\"colab-df-quickchart\" onclick=\"quickchart('df-a55e4e7e-3fb4-4226-9e6b-efff6ebb3501')\"\n",
              "            title=\"Suggest charts\"\n",
              "            style=\"display:none;\">\n",
              "\n",
              "<svg xmlns=\"http://www.w3.org/2000/svg\" height=\"24px\"viewBox=\"0 0 24 24\"\n",
              "     width=\"24px\">\n",
              "    <g>\n",
              "        <path d=\"M19 3H5c-1.1 0-2 .9-2 2v14c0 1.1.9 2 2 2h14c1.1 0 2-.9 2-2V5c0-1.1-.9-2-2-2zM9 17H7v-7h2v7zm4 0h-2V7h2v10zm4 0h-2v-4h2v4z\"/>\n",
              "    </g>\n",
              "</svg>\n",
              "  </button>\n",
              "\n",
              "<style>\n",
              "  .colab-df-quickchart {\n",
              "      --bg-color: #E8F0FE;\n",
              "      --fill-color: #1967D2;\n",
              "      --hover-bg-color: #E2EBFA;\n",
              "      --hover-fill-color: #174EA6;\n",
              "      --disabled-fill-color: #AAA;\n",
              "      --disabled-bg-color: #DDD;\n",
              "  }\n",
              "\n",
              "  [theme=dark] .colab-df-quickchart {\n",
              "      --bg-color: #3B4455;\n",
              "      --fill-color: #D2E3FC;\n",
              "      --hover-bg-color: #434B5C;\n",
              "      --hover-fill-color: #FFFFFF;\n",
              "      --disabled-bg-color: #3B4455;\n",
              "      --disabled-fill-color: #666;\n",
              "  }\n",
              "\n",
              "  .colab-df-quickchart {\n",
              "    background-color: var(--bg-color);\n",
              "    border: none;\n",
              "    border-radius: 50%;\n",
              "    cursor: pointer;\n",
              "    display: none;\n",
              "    fill: var(--fill-color);\n",
              "    height: 32px;\n",
              "    padding: 0;\n",
              "    width: 32px;\n",
              "  }\n",
              "\n",
              "  .colab-df-quickchart:hover {\n",
              "    background-color: var(--hover-bg-color);\n",
              "    box-shadow: 0 1px 2px rgba(60, 64, 67, 0.3), 0 1px 3px 1px rgba(60, 64, 67, 0.15);\n",
              "    fill: var(--button-hover-fill-color);\n",
              "  }\n",
              "\n",
              "  .colab-df-quickchart-complete:disabled,\n",
              "  .colab-df-quickchart-complete:disabled:hover {\n",
              "    background-color: var(--disabled-bg-color);\n",
              "    fill: var(--disabled-fill-color);\n",
              "    box-shadow: none;\n",
              "  }\n",
              "\n",
              "  .colab-df-spinner {\n",
              "    border: 2px solid var(--fill-color);\n",
              "    border-color: transparent;\n",
              "    border-bottom-color: var(--fill-color);\n",
              "    animation:\n",
              "      spin 1s steps(1) infinite;\n",
              "  }\n",
              "\n",
              "  @keyframes spin {\n",
              "    0% {\n",
              "      border-color: transparent;\n",
              "      border-bottom-color: var(--fill-color);\n",
              "      border-left-color: var(--fill-color);\n",
              "    }\n",
              "    20% {\n",
              "      border-color: transparent;\n",
              "      border-left-color: var(--fill-color);\n",
              "      border-top-color: var(--fill-color);\n",
              "    }\n",
              "    30% {\n",
              "      border-color: transparent;\n",
              "      border-left-color: var(--fill-color);\n",
              "      border-top-color: var(--fill-color);\n",
              "      border-right-color: var(--fill-color);\n",
              "    }\n",
              "    40% {\n",
              "      border-color: transparent;\n",
              "      border-right-color: var(--fill-color);\n",
              "      border-top-color: var(--fill-color);\n",
              "    }\n",
              "    60% {\n",
              "      border-color: transparent;\n",
              "      border-right-color: var(--fill-color);\n",
              "    }\n",
              "    80% {\n",
              "      border-color: transparent;\n",
              "      border-right-color: var(--fill-color);\n",
              "      border-bottom-color: var(--fill-color);\n",
              "    }\n",
              "    90% {\n",
              "      border-color: transparent;\n",
              "      border-bottom-color: var(--fill-color);\n",
              "    }\n",
              "  }\n",
              "</style>\n",
              "\n",
              "  <script>\n",
              "    async function quickchart(key) {\n",
              "      const quickchartButtonEl =\n",
              "        document.querySelector('#' + key + ' button');\n",
              "      quickchartButtonEl.disabled = true;  // To prevent multiple clicks.\n",
              "      quickchartButtonEl.classList.add('colab-df-spinner');\n",
              "      try {\n",
              "        const charts = await google.colab.kernel.invokeFunction(\n",
              "            'suggestCharts', [key], {});\n",
              "      } catch (error) {\n",
              "        console.error('Error during call to suggestCharts:', error);\n",
              "      }\n",
              "      quickchartButtonEl.classList.remove('colab-df-spinner');\n",
              "      quickchartButtonEl.classList.add('colab-df-quickchart-complete');\n",
              "    }\n",
              "    (() => {\n",
              "      let quickchartButtonEl =\n",
              "        document.querySelector('#df-a55e4e7e-3fb4-4226-9e6b-efff6ebb3501 button');\n",
              "      quickchartButtonEl.style.display =\n",
              "        google.colab.kernel.accessAllowed ? 'block' : 'none';\n",
              "    })();\n",
              "  </script>\n",
              "</div>\n",
              "\n",
              "  <div id=\"id_774306b7-a0d9-4e81-85e4-9cf6d1ea9793\">\n",
              "    <style>\n",
              "      .colab-df-generate {\n",
              "        background-color: #E8F0FE;\n",
              "        border: none;\n",
              "        border-radius: 50%;\n",
              "        cursor: pointer;\n",
              "        display: none;\n",
              "        fill: #1967D2;\n",
              "        height: 32px;\n",
              "        padding: 0 0 0 0;\n",
              "        width: 32px;\n",
              "      }\n",
              "\n",
              "      .colab-df-generate:hover {\n",
              "        background-color: #E2EBFA;\n",
              "        box-shadow: 0px 1px 2px rgba(60, 64, 67, 0.3), 0px 1px 3px 1px rgba(60, 64, 67, 0.15);\n",
              "        fill: #174EA6;\n",
              "      }\n",
              "\n",
              "      [theme=dark] .colab-df-generate {\n",
              "        background-color: #3B4455;\n",
              "        fill: #D2E3FC;\n",
              "      }\n",
              "\n",
              "      [theme=dark] .colab-df-generate:hover {\n",
              "        background-color: #434B5C;\n",
              "        box-shadow: 0px 1px 3px 1px rgba(0, 0, 0, 0.15);\n",
              "        filter: drop-shadow(0px 1px 2px rgba(0, 0, 0, 0.3));\n",
              "        fill: #FFFFFF;\n",
              "      }\n",
              "    </style>\n",
              "    <button class=\"colab-df-generate\" onclick=\"generateWithVariable('fragment_file')\"\n",
              "            title=\"Generate code using this dataframe.\"\n",
              "            style=\"display:none;\">\n",
              "\n",
              "  <svg xmlns=\"http://www.w3.org/2000/svg\" height=\"24px\"viewBox=\"0 0 24 24\"\n",
              "       width=\"24px\">\n",
              "    <path d=\"M7,19H8.4L18.45,9,17,7.55,7,17.6ZM5,21V16.75L18.45,3.32a2,2,0,0,1,2.83,0l1.4,1.43a1.91,1.91,0,0,1,.58,1.4,1.91,1.91,0,0,1-.58,1.4L9.25,21ZM18.45,9,17,7.55Zm-12,3A5.31,5.31,0,0,0,4.9,8.1,5.31,5.31,0,0,0,1,6.5,5.31,5.31,0,0,0,4.9,4.9,5.31,5.31,0,0,0,6.5,1,5.31,5.31,0,0,0,8.1,4.9,5.31,5.31,0,0,0,12,6.5,5.46,5.46,0,0,0,6.5,12Z\"/>\n",
              "  </svg>\n",
              "    </button>\n",
              "    <script>\n",
              "      (() => {\n",
              "      const buttonEl =\n",
              "        document.querySelector('#id_774306b7-a0d9-4e81-85e4-9cf6d1ea9793 button.colab-df-generate');\n",
              "      buttonEl.style.display =\n",
              "        google.colab.kernel.accessAllowed ? 'block' : 'none';\n",
              "\n",
              "      buttonEl.onclick = () => {\n",
              "        google.colab.notebook.generateWithVariable('fragment_file');\n",
              "      }\n",
              "      })();\n",
              "    </script>\n",
              "  </div>\n",
              "\n",
              "    </div>\n",
              "  </div>\n"
            ],
            "application/vnd.google.colaboratory.intrinsic+json": {
              "type": "dataframe",
              "variable_name": "fragment_file"
            }
          },
          "metadata": {},
          "execution_count": 99
        }
      ]
    },
    {
      "cell_type": "code",
      "source": [
        "#Check the frequency table of count values\n",
        "fragment_file.X_value.value_counts()"
      ],
      "metadata": {
        "colab": {
          "base_uri": "https://localhost:8080/",
          "height": 523
        },
        "id": "Ee7OD6z1wSJ5",
        "outputId": "39cbfe53-c9c4-4d0a-f421-be7c42464442"
      },
      "execution_count": 100,
      "outputs": [
        {
          "output_type": "execute_result",
          "data": {
            "text/plain": [
              "X_value\n",
              "1     164007\n",
              "2      44298\n",
              "3      13274\n",
              "4       4635\n",
              "5       1754\n",
              "6        642\n",
              "7        229\n",
              "8        104\n",
              "9         31\n",
              "10        21\n",
              "11         8\n",
              "13         3\n",
              "12         2\n",
              "Name: count, dtype: int64"
            ],
            "text/html": [
              "<div>\n",
              "<style scoped>\n",
              "    .dataframe tbody tr th:only-of-type {\n",
              "        vertical-align: middle;\n",
              "    }\n",
              "\n",
              "    .dataframe tbody tr th {\n",
              "        vertical-align: top;\n",
              "    }\n",
              "\n",
              "    .dataframe thead th {\n",
              "        text-align: right;\n",
              "    }\n",
              "</style>\n",
              "<table border=\"1\" class=\"dataframe\">\n",
              "  <thead>\n",
              "    <tr style=\"text-align: right;\">\n",
              "      <th></th>\n",
              "      <th>count</th>\n",
              "    </tr>\n",
              "    <tr>\n",
              "      <th>X_value</th>\n",
              "      <th></th>\n",
              "    </tr>\n",
              "  </thead>\n",
              "  <tbody>\n",
              "    <tr>\n",
              "      <th>1</th>\n",
              "      <td>164007</td>\n",
              "    </tr>\n",
              "    <tr>\n",
              "      <th>2</th>\n",
              "      <td>44298</td>\n",
              "    </tr>\n",
              "    <tr>\n",
              "      <th>3</th>\n",
              "      <td>13274</td>\n",
              "    </tr>\n",
              "    <tr>\n",
              "      <th>4</th>\n",
              "      <td>4635</td>\n",
              "    </tr>\n",
              "    <tr>\n",
              "      <th>5</th>\n",
              "      <td>1754</td>\n",
              "    </tr>\n",
              "    <tr>\n",
              "      <th>6</th>\n",
              "      <td>642</td>\n",
              "    </tr>\n",
              "    <tr>\n",
              "      <th>7</th>\n",
              "      <td>229</td>\n",
              "    </tr>\n",
              "    <tr>\n",
              "      <th>8</th>\n",
              "      <td>104</td>\n",
              "    </tr>\n",
              "    <tr>\n",
              "      <th>9</th>\n",
              "      <td>31</td>\n",
              "    </tr>\n",
              "    <tr>\n",
              "      <th>10</th>\n",
              "      <td>21</td>\n",
              "    </tr>\n",
              "    <tr>\n",
              "      <th>11</th>\n",
              "      <td>8</td>\n",
              "    </tr>\n",
              "    <tr>\n",
              "      <th>13</th>\n",
              "      <td>3</td>\n",
              "    </tr>\n",
              "    <tr>\n",
              "      <th>12</th>\n",
              "      <td>2</td>\n",
              "    </tr>\n",
              "  </tbody>\n",
              "</table>\n",
              "</div><br><label><b>dtype:</b> int64</label>"
            ]
          },
          "metadata": {},
          "execution_count": 100
        }
      ]
    },
    {
      "cell_type": "markdown",
      "source": [
        "Now we export the table above into a compressed-tsv format which is standard for frament files and save it to our mounted Google Drive."
      ],
      "metadata": {
        "id": "YI-S68_BWJAs"
      }
    },
    {
      "cell_type": "code",
      "source": [
        "fragment_file.to_csv('/content/drive/MyDrive/fragment_file.tsv.gz', sep ='\\t', compression='gzip', header = False, index = False)"
      ],
      "metadata": {
        "id": "RF1rPYXqfIPa"
      },
      "execution_count": 101,
      "outputs": []
    },
    {
      "cell_type": "markdown",
      "source": [
        "#6. Analyse the Data using SnapATAC2"
      ],
      "metadata": {
        "id": "SiOpBeROWg9w"
      }
    },
    {
      "cell_type": "code",
      "source": [
        "!pip install snapatac2\n",
        "!pip install umap-learn\n",
        "!pip install -U kaleido"
      ],
      "metadata": {
        "colab": {
          "base_uri": "https://localhost:8080/"
        },
        "collapsed": true,
        "id": "hsw9dECcW3qE",
        "outputId": "870a07c7-1743-4371-8a50-4df266321304"
      },
      "execution_count": 102,
      "outputs": [
        {
          "output_type": "stream",
          "name": "stdout",
          "text": [
            "Requirement already satisfied: snapatac2 in /usr/local/lib/python3.10/dist-packages (2.7.1)\n",
            "Requirement already satisfied: anndata<0.11.0,>=0.8.0 in /usr/local/lib/python3.10/dist-packages (from snapatac2) (0.10.9)\n",
            "Requirement already satisfied: kaleido in /usr/local/lib/python3.10/dist-packages (from snapatac2) (0.2.1)\n",
            "Requirement already satisfied: multiprocess in /usr/local/lib/python3.10/dist-packages (from snapatac2) (0.70.17)\n",
            "Requirement already satisfied: macs3<3.1,>=3.0 in /usr/local/lib/python3.10/dist-packages (from snapatac2) (3.0.2)\n",
            "Requirement already satisfied: natsort in /usr/local/lib/python3.10/dist-packages (from snapatac2) (8.4.0)\n",
            "Requirement already satisfied: numpy<2.0.0,>=1.16.0 in /usr/local/lib/python3.10/dist-packages (from snapatac2) (1.26.4)\n",
            "Requirement already satisfied: pandas<2.1.2,>=1.0 in /usr/local/lib/python3.10/dist-packages (from snapatac2) (2.1.1)\n",
            "Requirement already satisfied: plotly<6.0.0,>=5.19.0 in /usr/local/lib/python3.10/dist-packages (from snapatac2) (5.24.1)\n",
            "Requirement already satisfied: polars<2.0,>=1.0 in /usr/local/lib/python3.10/dist-packages (from snapatac2) (1.9.0)\n",
            "Requirement already satisfied: pooch<2.0.0,>=1.6.0 in /usr/local/lib/python3.10/dist-packages (from snapatac2) (1.8.2)\n",
            "Requirement already satisfied: igraph>=0.10.3 in /usr/local/lib/python3.10/dist-packages (from snapatac2) (0.11.8)\n",
            "Requirement already satisfied: pyarrow in /usr/local/lib/python3.10/dist-packages (from snapatac2) (17.0.0)\n",
            "Requirement already satisfied: pyfaidx<0.8.0,>=0.7.0 in /usr/local/lib/python3.10/dist-packages (from snapatac2) (0.7.2.2)\n",
            "Requirement already satisfied: rustworkx in /usr/local/lib/python3.10/dist-packages (from snapatac2) (0.15.1)\n",
            "Requirement already satisfied: scipy<2.0.0,>=1.4 in /usr/local/lib/python3.10/dist-packages (from snapatac2) (1.13.1)\n",
            "Requirement already satisfied: scikit-learn<2.0.0,>=1.0 in /usr/local/lib/python3.10/dist-packages (from snapatac2) (1.5.2)\n",
            "Requirement already satisfied: tqdm>=4.62 in /usr/local/lib/python3.10/dist-packages (from snapatac2) (4.66.6)\n",
            "Requirement already satisfied: typeguard>=4.0 in /usr/local/lib/python3.10/dist-packages (from snapatac2) (4.4.1)\n",
            "Requirement already satisfied: array-api-compat!=1.5,>1.4 in /usr/local/lib/python3.10/dist-packages (from anndata<0.11.0,>=0.8.0->snapatac2) (1.9.1)\n",
            "Requirement already satisfied: exceptiongroup in /usr/local/lib/python3.10/dist-packages (from anndata<0.11.0,>=0.8.0->snapatac2) (1.2.2)\n",
            "Requirement already satisfied: h5py>=3.1 in /usr/local/lib/python3.10/dist-packages (from anndata<0.11.0,>=0.8.0->snapatac2) (3.12.1)\n",
            "Requirement already satisfied: packaging>=20.0 in /usr/local/lib/python3.10/dist-packages (from anndata<0.11.0,>=0.8.0->snapatac2) (24.2)\n",
            "Requirement already satisfied: texttable>=1.6.2 in /usr/local/lib/python3.10/dist-packages (from igraph>=0.10.3->snapatac2) (1.7.0)\n",
            "Requirement already satisfied: hmmlearn>=0.3.2 in /usr/local/lib/python3.10/dist-packages (from macs3<3.1,>=3.0->snapatac2) (0.3.3)\n",
            "Requirement already satisfied: cykhash<3.0,>=2.0 in /usr/local/lib/python3.10/dist-packages (from macs3<3.1,>=3.0->snapatac2) (2.0.1)\n",
            "Requirement already satisfied: python-dateutil>=2.8.2 in /usr/local/lib/python3.10/dist-packages (from pandas<2.1.2,>=1.0->snapatac2) (2.8.2)\n",
            "Requirement already satisfied: pytz>=2020.1 in /usr/local/lib/python3.10/dist-packages (from pandas<2.1.2,>=1.0->snapatac2) (2024.2)\n",
            "Requirement already satisfied: tzdata>=2022.1 in /usr/local/lib/python3.10/dist-packages (from pandas<2.1.2,>=1.0->snapatac2) (2024.2)\n",
            "Requirement already satisfied: tenacity>=6.2.0 in /usr/local/lib/python3.10/dist-packages (from plotly<6.0.0,>=5.19.0->snapatac2) (9.0.0)\n",
            "Requirement already satisfied: platformdirs>=2.5.0 in /usr/local/lib/python3.10/dist-packages (from pooch<2.0.0,>=1.6.0->snapatac2) (4.3.6)\n",
            "Requirement already satisfied: requests>=2.19.0 in /usr/local/lib/python3.10/dist-packages (from pooch<2.0.0,>=1.6.0->snapatac2) (2.32.3)\n",
            "Requirement already satisfied: six in /usr/local/lib/python3.10/dist-packages (from pyfaidx<0.8.0,>=0.7.0->snapatac2) (1.16.0)\n",
            "Requirement already satisfied: setuptools in /usr/local/lib/python3.10/dist-packages (from pyfaidx<0.8.0,>=0.7.0->snapatac2) (75.1.0)\n",
            "Requirement already satisfied: importlib-metadata in /usr/local/lib/python3.10/dist-packages (from pyfaidx<0.8.0,>=0.7.0->snapatac2) (8.5.0)\n",
            "Requirement already satisfied: joblib>=1.2.0 in /usr/local/lib/python3.10/dist-packages (from scikit-learn<2.0.0,>=1.0->snapatac2) (1.4.2)\n",
            "Requirement already satisfied: threadpoolctl>=3.1.0 in /usr/local/lib/python3.10/dist-packages (from scikit-learn<2.0.0,>=1.0->snapatac2) (3.5.0)\n",
            "Requirement already satisfied: typing-extensions>=4.10.0 in /usr/local/lib/python3.10/dist-packages (from typeguard>=4.0->snapatac2) (4.12.2)\n",
            "Requirement already satisfied: dill>=0.3.9 in /usr/local/lib/python3.10/dist-packages (from multiprocess->snapatac2) (0.3.9)\n",
            "Requirement already satisfied: charset-normalizer<4,>=2 in /usr/local/lib/python3.10/dist-packages (from requests>=2.19.0->pooch<2.0.0,>=1.6.0->snapatac2) (3.4.0)\n",
            "Requirement already satisfied: idna<4,>=2.5 in /usr/local/lib/python3.10/dist-packages (from requests>=2.19.0->pooch<2.0.0,>=1.6.0->snapatac2) (3.10)\n",
            "Requirement already satisfied: urllib3<3,>=1.21.1 in /usr/local/lib/python3.10/dist-packages (from requests>=2.19.0->pooch<2.0.0,>=1.6.0->snapatac2) (2.2.3)\n",
            "Requirement already satisfied: certifi>=2017.4.17 in /usr/local/lib/python3.10/dist-packages (from requests>=2.19.0->pooch<2.0.0,>=1.6.0->snapatac2) (2024.8.30)\n",
            "Requirement already satisfied: zipp>=3.20 in /usr/local/lib/python3.10/dist-packages (from importlib-metadata->pyfaidx<0.8.0,>=0.7.0->snapatac2) (3.21.0)\n",
            "Requirement already satisfied: umap-learn in /usr/local/lib/python3.10/dist-packages (0.5.7)\n",
            "Requirement already satisfied: numpy>=1.17 in /usr/local/lib/python3.10/dist-packages (from umap-learn) (1.26.4)\n",
            "Requirement already satisfied: scipy>=1.3.1 in /usr/local/lib/python3.10/dist-packages (from umap-learn) (1.13.1)\n",
            "Requirement already satisfied: scikit-learn>=0.22 in /usr/local/lib/python3.10/dist-packages (from umap-learn) (1.5.2)\n",
            "Requirement already satisfied: numba>=0.51.2 in /usr/local/lib/python3.10/dist-packages (from umap-learn) (0.60.0)\n",
            "Requirement already satisfied: pynndescent>=0.5 in /usr/local/lib/python3.10/dist-packages (from umap-learn) (0.5.13)\n",
            "Requirement already satisfied: tqdm in /usr/local/lib/python3.10/dist-packages (from umap-learn) (4.66.6)\n",
            "Requirement already satisfied: llvmlite<0.44,>=0.43.0dev0 in /usr/local/lib/python3.10/dist-packages (from numba>=0.51.2->umap-learn) (0.43.0)\n",
            "Requirement already satisfied: joblib>=0.11 in /usr/local/lib/python3.10/dist-packages (from pynndescent>=0.5->umap-learn) (1.4.2)\n",
            "Requirement already satisfied: threadpoolctl>=3.1.0 in /usr/local/lib/python3.10/dist-packages (from scikit-learn>=0.22->umap-learn) (3.5.0)\n",
            "Requirement already satisfied: kaleido in /usr/local/lib/python3.10/dist-packages (0.2.1)\n"
          ]
        }
      ]
    },
    {
      "cell_type": "code",
      "source": [
        "import snapatac2 as snap\n",
        "import umap.umap_ as umap\n",
        "import kaleido"
      ],
      "metadata": {
        "id": "6yKtGfxSWfIU"
      },
      "execution_count": 103,
      "outputs": []
    },
    {
      "cell_type": "markdown",
      "source": [
        "Once installed and loaded, we'll use the import_data module to read in our previously created fragment file. This will read our fragment file into the session in an AnnData format. Given that this data has been previously processed, we'll lower the number of minimum fragments (set to 200 by default). For chromosome sizes, we'll use Human Genome 38 as provided by the package.\n",
        "\n",
        "More documentation for snapatac2 modules can be found here: https://kzhang.org/SnapATAC2/tutorials/index.html\n",
        "\n",
        "For more information on the AnnData format, see our other notebooks on creating AnnData structures or check out the documentation here: https://anndata.readthedocs.io/en/latest/\n"
      ],
      "metadata": {
        "id": "axjKR0UOZc7i"
      }
    },
    {
      "cell_type": "code",
      "source": [
        "fragment_data = snap.pp.import_data(\n",
        "    '/content/drive/MyDrive/fragment_file.tsv.gz',\n",
        "    chrom_sizes=snap.genome.hg38,\n",
        "    sorted_by_barcode=False,\n",
        "    min_num_fragments=2,\n",
        "    )"
      ],
      "metadata": {
        "id": "AJMwmfMT-5Nw"
      },
      "execution_count": 104,
      "outputs": []
    },
    {
      "cell_type": "code",
      "source": [
        "fragment_data"
      ],
      "metadata": {
        "colab": {
          "base_uri": "https://localhost:8080/"
        },
        "id": "O9-INH9K-5VU",
        "outputId": "bff2ac81-35d4-4dc4-f368-0fd80990def1"
      },
      "execution_count": 105,
      "outputs": [
        {
          "output_type": "execute_result",
          "data": {
            "text/plain": [
              "AnnData object with n_obs × n_vars = 6338 × 0\n",
              "    obs: 'n_fragment', 'frac_dup', 'frac_mito'\n",
              "    uns: 'reference_sequences'\n",
              "    obsm: 'fragment_paired'"
            ]
          },
          "metadata": {},
          "execution_count": 105
        }
      ]
    },
    {
      "cell_type": "code",
      "source": [
        "fragment_data.shape"
      ],
      "metadata": {
        "colab": {
          "base_uri": "https://localhost:8080/"
        },
        "id": "XNbT5bto45EP",
        "outputId": "c107d097-edf5-4ec9-f20f-8d7fa8261660"
      },
      "execution_count": 106,
      "outputs": [
        {
          "output_type": "execute_result",
          "data": {
            "text/plain": [
              "(6338, 0)"
            ]
          },
          "metadata": {},
          "execution_count": 106
        }
      ]
    },
    {
      "cell_type": "markdown",
      "source": [
        "In the output above, we see that our data has been read in and some basic QC metrics have been performed by default (n_fragment, frac_dup, etc).\n",
        "\n",
        "Using this AnnData object we'll employ the frag_size_distr() module to calculate and plot the size distribution of fragments in this dataset."
      ],
      "metadata": {
        "id": "E0LK48FMaYSV"
      }
    },
    {
      "cell_type": "code",
      "source": [
        "snap.pl.frag_size_distr(fragment_data)"
      ],
      "metadata": {
        "colab": {
          "base_uri": "https://localhost:8080/",
          "height": 417
        },
        "id": "kYKhy-obwxUf",
        "outputId": "b71a401b-cd64-4275-ba3e-7fd345b86cfc"
      },
      "execution_count": 107,
      "outputs": [
        {
          "output_type": "display_data",
          "data": {
            "text/html": [
              "<html>\n",
              "<head><meta charset=\"utf-8\" /></head>\n",
              "<body>\n",
              "    <div>            <script src=\"https://cdnjs.cloudflare.com/ajax/libs/mathjax/2.7.5/MathJax.js?config=TeX-AMS-MML_SVG\"></script><script type=\"text/javascript\">if (window.MathJax && window.MathJax.Hub && window.MathJax.Hub.Config) {window.MathJax.Hub.Config({SVG: {font: \"STIX-Web\"}});}</script>                <script type=\"text/javascript\">window.PlotlyConfig = {MathJaxConfig: 'local'};</script>\n",
              "        <script charset=\"utf-8\" src=\"https://cdn.plot.ly/plotly-2.35.2.min.js\"></script>                <div id=\"c0ba1f34-5d95-49c1-b2b8-fe357f15353b\" class=\"plotly-graph-div\" style=\"height:400px; width:600px;\"></div>            <script type=\"text/javascript\">                                    window.PLOTLYENV=window.PLOTLYENV || {};                                    if (document.getElementById(\"c0ba1f34-5d95-49c1-b2b8-fe357f15353b\")) {                    Plotly.newPlot(                        \"c0ba1f34-5d95-49c1-b2b8-fe357f15353b\",                        [{\"mode\":\"lines\",\"x\":[1,2,3,4,5,6,7,8,9,10,11,12,13,14,15,16,17,18,19,20,21,22,23,24,25,26,27,28,29,30,31,32,33,34,35,36,37,38,39,40,41,42,43,44,45,46,47,48,49,50,51,52,53,54,55,56,57,58,59,60,61,62,63,64,65,66,67,68,69,70,71,72,73,74,75,76,77,78,79,80,81,82,83,84,85,86,87,88,89,90,91,92,93,94,95,96,97,98,99,100,101,102,103,104,105,106,107,108,109,110,111,112,113,114,115,116,117,118,119,120,121,122,123,124,125,126,127,128,129,130,131,132,133,134,135,136,137,138,139,140,141,142,143,144,145,146,147,148,149,150,151,152,153,154,155,156,157,158,159,160,161,162,163,164,165,166,167,168,169,170,171,172,173,174,175,176,177,178,179,180,181,182,183,184,185,186,187,188,189,190,191,192,193,194,195,196,197,198,199,200,201,202,203,204,205,206,207,208,209,210,211,212,213,214,215,216,217,218,219,220,221,222,223,224,225,226,227,228,229,230,231,232,233,234,235,236,237,238,239,240,241,242,243,244,245,246,247,248,249,250,251,252,253,254,255,256,257,258,259,260,261,262,263,264,265,266,267,268,269,270,271,272,273,274,275,276,277,278,279,280,281,282,283,284,285,286,287,288,289,290,291,292,293,294,295,296,297,298,299,300,301,302,303,304,305,306,307,308,309,310,311,312,313,314,315,316,317,318,319,320,321,322,323,324,325,326,327,328,329,330,331,332,333,334,335,336,337,338,339,340,341,342,343,344,345,346,347,348,349,350,351,352,353,354,355,356,357,358,359,360,361,362,363,364,365,366,367,368,369,370,371,372,373,374,375,376,377,378,379,380,381,382,383,384,385,386,387,388,389,390,391,392,393,394,395,396,397,398,399,400,401,402,403,404,405,406,407,408,409,410,411,412,413,414,415,416,417,418,419,420,421,422,423,424,425,426,427,428,429,430,431,432,433,434,435,436,437,438,439,440,441,442,443,444,445,446,447,448,449,450,451,452,453,454,455,456,457,458,459,460,461,462,463,464,465,466,467,468,469,470,471,472,473,474,475,476,477,478,479,480,481,482,483,484,485,486,487,488,489,490,491,492,493,494,495,496,497,498,499,500,501,502,503,504,505,506,507,508,509,510,511,512,513,514,515,516,517,518,519,520,521,522,523,524,525,526,527,528,529,530,531,532,533,534,535,536,537,538,539,540,541,542,543,544,545,546,547,548,549,550,551,552,553,554,555,556,557,558,559,560,561,562,563,564,565,566,567,568,569,570,571,572,573,574,575,576,577,578,579,580,581,582,583,584,585,586,587,588,589,590,591,592,593,594,595,596,597,598,599,600,601,602,603,604,605,606,607,608,609,610,611,612,613,614,615,616,617,618,619,620,621,622,623,624,625,626,627,628,629,630,631,632,633,634,635,636,637,638,639,640,641,642,643,644,645,646,647,648,649,650,651,652,653,654,655,656,657,658,659,660,661,662,663,664,665,666,667,668,669,670,671,672,673,674,675,676,677,678,679,680,681,682,683,684,685,686,687,688,689,690,691,692,693,694,695,696,697,698,699,700,701,702,703,704,705,706,707,708,709,710,711,712,713,714,715,716,717,718,719,720,721,722,723,724,725,726,727,728,729,730,731,732,733,734,735,736,737,738,739,740,741,742,743,744,745,746,747,748,749,750,751,752,753,754,755,756,757,758,759,760,761,762,763,764,765,766,767,768,769,770,771,772,773,774,775,776,777,778,779,780,781,782,783,784,785,786,787,788,789,790,791,792,793,794,795,796,797,798,799,800,801,802,803,804,805,806,807,808,809,810,811,812,813,814,815,816,817,818,819,820,821,822,823,824,825,826,827,828,829,830,831,832,833,834,835,836,837,838,839,840,841,842,843,844,845,846,847,848,849,850,851,852,853,854,855,856,857,858,859,860,861,862,863,864,865,866,867,868,869,870,871,872,873,874,875,876,877,878,879,880,881,882,883,884,885,886,887,888,889,890,891,892,893,894,895,896,897,898,899,900,901,902,903,904,905,906,907,908,909,910,911,912,913,914,915,916,917,918,919,920,921,922,923,924,925,926,927,928,929,930,931,932,933,934,935,936,937,938,939,940,941,942,943,944,945,946,947,948,949,950,951,952,953,954,955,956,957,958,959,960,961,962,963,964,965,966,967,968,969,970,971,972,973,974,975,976,977,978,979,980,981,982,983,984,985,986,987,988,989,990,991,992,993,994,995,996,997,998,999,1000],\"y\":[0,0,0,0,0,0,0,0,0,0,0,0,0,0,0,0,0,0,0,0,0,0,0,0,0,0,0,0,0,0,0,0,0,0,0,0,0,0,0,0,0,0,0,0,0,0,0,0,0,0,0,0,0,0,0,0,0,0,0,0,0,0,0,0,0,0,0,0,0,0,0,0,0,0,0,0,0,0,0,0,0,0,0,0,0,0,0,0,0,0,0,0,0,0,0,0,0,0,0,0,0,0,0,0,0,0,0,0,0,0,0,0,0,0,0,0,0,0,0,0,0,0,0,0,0,0,0,0,0,0,0,0,0,0,0,0,0,0,0,0,0,0,0,0,0,0,0,0,0,0,0,0,0,0,0,0,0,0,0,0,0,0,0,0,0,0,0,0,0,0,0,0,0,0,0,0,0,0,0,0,0,0,0,0,0,0,0,0,0,0,0,0,0,0,0,0,0,0,0,0,0,0,0,0,0,0,0,0,0,0,0,0,0,0,0,0,0,0,0,0,0,0,0,0,0,0,0,0,0,0,0,0,0,0,0,0,0,0,0,0,0,0,0,0,0,0,0,0,0,0,0,0,0,0,0,0,0,0,0,0,0,0,0,0,0,0,0,0,0,0,0,0,0,0,0,0,0,0,0,0,0,0,0,0,0,0,0,0,0,0,0,0,0,0,0,0,0,0,0,0,0,0,0,0,0,0,0,0,0,0,0,0,0,0,0,0,0,0,0,0,0,0,0,0,0,0,0,0,0,0,0,0,0,0,0,0,0,0,0,0,0,0,0,0,0,0,0,0,0,0,0,0,0,0,0,0,0,0,0,0,0,0,0,0,0,0,0,0,0,0,0,0,0,0,0,0,0,0,0,0,0,0,0,0,0,0,0,0,0,0,0,0,0,0,0,0,0,0,0,0,0,0,0,0,0,0,0,0,0,0,0,0,0,0,0,0,0,0,0,0,0,0,0,0,0,0,0,0,0,0,0,0,0,0,0,0,0,0,0,0,0,0,0,0,0,0,0,0,0,0,0,0,0,0,0,0,0,0,0,0,0,0,0,0,0,0,0,0,0,0,0,0,0,0,0,0,0,0,0,0,0,0,0,0,0,0,0,0,0,0,0,0,0,0,0,0,0,0,0,6378,0,12,0,45,31,50,42,0,47,0,49,0,52,21,0,0,718,0,0,0,196,171,0,54,0,0,0,129,0,129,0,0,0,110,246,27,71,75,0,229,23,160,0,91,0,154,30,62,495,25,75,369,779,0,207,0,117,119,0,115,31,17,450,0,305,0,565,56,126,268,0,0,318,44,0,10,32,360,0,67,191,108,0,406,77,22,0,0,0,338,394,182,146,18,0,0,0,0,0,0,47,51,50,136,2279,0,0,0,0,0,167,591,79,0,218,68,0,100,151,64,0,559,0,77,278,0,0,0,129,109,0,117,480,0,179,0,0,56,0,0,192,238,173,79,0,0,0,0,0,238,0,169,0,0,67,0,229,0,197,0,287,1169,186,58,1767,0,207,901,0,167,39,0,0,571,117,0,0,18,0,302,103,0,0,0,0,0,99,460,0,0,952,0,0,0,0,0,0,0,832,0,78,0,451,595,0,0,0,19,0,107,0,28,0,63,0,0,0,1265,40,633,12,198,271,144,0,516,0,0,606,0,0,25,160,0,0,0,417,0,0,348,0,0,433,0,0,0,0,0,0,0,0,0,0,0,9,276,51,435,40,0,231,1121,0,0,0,0,0,0,0,79,0,0,69,207,0,0,0,0,0,0,0,0,0,629,0,0,0,0,1268,0,0,0,0,0,772,237,0,0,469,0,0,720,0,0,0,0,0,0,0,0,0,0,0,0,73,0,84,0,0,0,441,0,0,1,0,0,0,0,0,1292,0,0,0,0,0,44,0,0,0,0,0,0,0,44,97,0,317,77,108,58,371,0,0,0,0,0,0,68,70,68,0,0,0,0,0,0,0,0,117,0,190,0,100,0,1044,71,0,0,0,0,0,253,0,1039,85,0,65,0,0,0,0,0,0,31,172,1219,69,0,284,1401,387,0,344,0,0,0,90,0,57,0,0,763,242,0,0,0,0,0,336,382,0,0,0,0,0,0,328,0,0,937,0,212,226,0,0,0,137,0,292,0,313,0,432,0,0,0,0,0,774,0,1767,0,0,0,460,755,397,11,0,0,0,0,0,0,0,0,0,0,0,0,0,0,0,735,0,0,0,81,0,0,0,0,0,0,0,0,604,84,157,0,0,0,852,609,105,206,0,64,0,0],\"type\":\"scatter\"}],                        {\"template\":{\"data\":{\"histogram2dcontour\":[{\"type\":\"histogram2dcontour\",\"colorbar\":{\"outlinewidth\":0,\"ticks\":\"\"},\"colorscale\":[[0.0,\"#0d0887\"],[0.1111111111111111,\"#46039f\"],[0.2222222222222222,\"#7201a8\"],[0.3333333333333333,\"#9c179e\"],[0.4444444444444444,\"#bd3786\"],[0.5555555555555556,\"#d8576b\"],[0.6666666666666666,\"#ed7953\"],[0.7777777777777778,\"#fb9f3a\"],[0.8888888888888888,\"#fdca26\"],[1.0,\"#f0f921\"]]}],\"choropleth\":[{\"type\":\"choropleth\",\"colorbar\":{\"outlinewidth\":0,\"ticks\":\"\"}}],\"histogram2d\":[{\"type\":\"histogram2d\",\"colorbar\":{\"outlinewidth\":0,\"ticks\":\"\"},\"colorscale\":[[0.0,\"#0d0887\"],[0.1111111111111111,\"#46039f\"],[0.2222222222222222,\"#7201a8\"],[0.3333333333333333,\"#9c179e\"],[0.4444444444444444,\"#bd3786\"],[0.5555555555555556,\"#d8576b\"],[0.6666666666666666,\"#ed7953\"],[0.7777777777777778,\"#fb9f3a\"],[0.8888888888888888,\"#fdca26\"],[1.0,\"#f0f921\"]]}],\"heatmap\":[{\"type\":\"heatmap\",\"colorbar\":{\"outlinewidth\":0,\"ticks\":\"\"},\"colorscale\":[[0.0,\"#0d0887\"],[0.1111111111111111,\"#46039f\"],[0.2222222222222222,\"#7201a8\"],[0.3333333333333333,\"#9c179e\"],[0.4444444444444444,\"#bd3786\"],[0.5555555555555556,\"#d8576b\"],[0.6666666666666666,\"#ed7953\"],[0.7777777777777778,\"#fb9f3a\"],[0.8888888888888888,\"#fdca26\"],[1.0,\"#f0f921\"]]}],\"heatmapgl\":[{\"type\":\"heatmapgl\",\"colorbar\":{\"outlinewidth\":0,\"ticks\":\"\"},\"colorscale\":[[0.0,\"#0d0887\"],[0.1111111111111111,\"#46039f\"],[0.2222222222222222,\"#7201a8\"],[0.3333333333333333,\"#9c179e\"],[0.4444444444444444,\"#bd3786\"],[0.5555555555555556,\"#d8576b\"],[0.6666666666666666,\"#ed7953\"],[0.7777777777777778,\"#fb9f3a\"],[0.8888888888888888,\"#fdca26\"],[1.0,\"#f0f921\"]]}],\"contourcarpet\":[{\"type\":\"contourcarpet\",\"colorbar\":{\"outlinewidth\":0,\"ticks\":\"\"}}],\"contour\":[{\"type\":\"contour\",\"colorbar\":{\"outlinewidth\":0,\"ticks\":\"\"},\"colorscale\":[[0.0,\"#0d0887\"],[0.1111111111111111,\"#46039f\"],[0.2222222222222222,\"#7201a8\"],[0.3333333333333333,\"#9c179e\"],[0.4444444444444444,\"#bd3786\"],[0.5555555555555556,\"#d8576b\"],[0.6666666666666666,\"#ed7953\"],[0.7777777777777778,\"#fb9f3a\"],[0.8888888888888888,\"#fdca26\"],[1.0,\"#f0f921\"]]}],\"surface\":[{\"type\":\"surface\",\"colorbar\":{\"outlinewidth\":0,\"ticks\":\"\"},\"colorscale\":[[0.0,\"#0d0887\"],[0.1111111111111111,\"#46039f\"],[0.2222222222222222,\"#7201a8\"],[0.3333333333333333,\"#9c179e\"],[0.4444444444444444,\"#bd3786\"],[0.5555555555555556,\"#d8576b\"],[0.6666666666666666,\"#ed7953\"],[0.7777777777777778,\"#fb9f3a\"],[0.8888888888888888,\"#fdca26\"],[1.0,\"#f0f921\"]]}],\"mesh3d\":[{\"type\":\"mesh3d\",\"colorbar\":{\"outlinewidth\":0,\"ticks\":\"\"}}],\"scatter\":[{\"fillpattern\":{\"fillmode\":\"overlay\",\"size\":10,\"solidity\":0.2},\"type\":\"scatter\"}],\"parcoords\":[{\"type\":\"parcoords\",\"line\":{\"colorbar\":{\"outlinewidth\":0,\"ticks\":\"\"}}}],\"scatterpolargl\":[{\"type\":\"scatterpolargl\",\"marker\":{\"colorbar\":{\"outlinewidth\":0,\"ticks\":\"\"}}}],\"bar\":[{\"error_x\":{\"color\":\"#2a3f5f\"},\"error_y\":{\"color\":\"#2a3f5f\"},\"marker\":{\"line\":{\"color\":\"#E5ECF6\",\"width\":0.5},\"pattern\":{\"fillmode\":\"overlay\",\"size\":10,\"solidity\":0.2}},\"type\":\"bar\"}],\"scattergeo\":[{\"type\":\"scattergeo\",\"marker\":{\"colorbar\":{\"outlinewidth\":0,\"ticks\":\"\"}}}],\"scatterpolar\":[{\"type\":\"scatterpolar\",\"marker\":{\"colorbar\":{\"outlinewidth\":0,\"ticks\":\"\"}}}],\"histogram\":[{\"marker\":{\"pattern\":{\"fillmode\":\"overlay\",\"size\":10,\"solidity\":0.2}},\"type\":\"histogram\"}],\"scattergl\":[{\"type\":\"scattergl\",\"marker\":{\"colorbar\":{\"outlinewidth\":0,\"ticks\":\"\"}}}],\"scatter3d\":[{\"type\":\"scatter3d\",\"line\":{\"colorbar\":{\"outlinewidth\":0,\"ticks\":\"\"}},\"marker\":{\"colorbar\":{\"outlinewidth\":0,\"ticks\":\"\"}}}],\"scattermapbox\":[{\"type\":\"scattermapbox\",\"marker\":{\"colorbar\":{\"outlinewidth\":0,\"ticks\":\"\"}}}],\"scatterternary\":[{\"type\":\"scatterternary\",\"marker\":{\"colorbar\":{\"outlinewidth\":0,\"ticks\":\"\"}}}],\"scattercarpet\":[{\"type\":\"scattercarpet\",\"marker\":{\"colorbar\":{\"outlinewidth\":0,\"ticks\":\"\"}}}],\"carpet\":[{\"aaxis\":{\"endlinecolor\":\"#2a3f5f\",\"gridcolor\":\"white\",\"linecolor\":\"white\",\"minorgridcolor\":\"white\",\"startlinecolor\":\"#2a3f5f\"},\"baxis\":{\"endlinecolor\":\"#2a3f5f\",\"gridcolor\":\"white\",\"linecolor\":\"white\",\"minorgridcolor\":\"white\",\"startlinecolor\":\"#2a3f5f\"},\"type\":\"carpet\"}],\"table\":[{\"cells\":{\"fill\":{\"color\":\"#EBF0F8\"},\"line\":{\"color\":\"white\"}},\"header\":{\"fill\":{\"color\":\"#C8D4E3\"},\"line\":{\"color\":\"white\"}},\"type\":\"table\"}],\"barpolar\":[{\"marker\":{\"line\":{\"color\":\"#E5ECF6\",\"width\":0.5},\"pattern\":{\"fillmode\":\"overlay\",\"size\":10,\"solidity\":0.2}},\"type\":\"barpolar\"}],\"pie\":[{\"automargin\":true,\"type\":\"pie\"}]},\"layout\":{\"autotypenumbers\":\"strict\",\"colorway\":[\"#636efa\",\"#EF553B\",\"#00cc96\",\"#ab63fa\",\"#FFA15A\",\"#19d3f3\",\"#FF6692\",\"#B6E880\",\"#FF97FF\",\"#FECB52\"],\"font\":{\"color\":\"#2a3f5f\"},\"hovermode\":\"closest\",\"hoverlabel\":{\"align\":\"left\"},\"paper_bgcolor\":\"white\",\"plot_bgcolor\":\"#E5ECF6\",\"polar\":{\"bgcolor\":\"#E5ECF6\",\"angularaxis\":{\"gridcolor\":\"white\",\"linecolor\":\"white\",\"ticks\":\"\"},\"radialaxis\":{\"gridcolor\":\"white\",\"linecolor\":\"white\",\"ticks\":\"\"}},\"ternary\":{\"bgcolor\":\"#E5ECF6\",\"aaxis\":{\"gridcolor\":\"white\",\"linecolor\":\"white\",\"ticks\":\"\"},\"baxis\":{\"gridcolor\":\"white\",\"linecolor\":\"white\",\"ticks\":\"\"},\"caxis\":{\"gridcolor\":\"white\",\"linecolor\":\"white\",\"ticks\":\"\"}},\"coloraxis\":{\"colorbar\":{\"outlinewidth\":0,\"ticks\":\"\"}},\"colorscale\":{\"sequential\":[[0.0,\"#0d0887\"],[0.1111111111111111,\"#46039f\"],[0.2222222222222222,\"#7201a8\"],[0.3333333333333333,\"#9c179e\"],[0.4444444444444444,\"#bd3786\"],[0.5555555555555556,\"#d8576b\"],[0.6666666666666666,\"#ed7953\"],[0.7777777777777778,\"#fb9f3a\"],[0.8888888888888888,\"#fdca26\"],[1.0,\"#f0f921\"]],\"sequentialminus\":[[0.0,\"#0d0887\"],[0.1111111111111111,\"#46039f\"],[0.2222222222222222,\"#7201a8\"],[0.3333333333333333,\"#9c179e\"],[0.4444444444444444,\"#bd3786\"],[0.5555555555555556,\"#d8576b\"],[0.6666666666666666,\"#ed7953\"],[0.7777777777777778,\"#fb9f3a\"],[0.8888888888888888,\"#fdca26\"],[1.0,\"#f0f921\"]],\"diverging\":[[0,\"#8e0152\"],[0.1,\"#c51b7d\"],[0.2,\"#de77ae\"],[0.3,\"#f1b6da\"],[0.4,\"#fde0ef\"],[0.5,\"#f7f7f7\"],[0.6,\"#e6f5d0\"],[0.7,\"#b8e186\"],[0.8,\"#7fbc41\"],[0.9,\"#4d9221\"],[1,\"#276419\"]]},\"xaxis\":{\"gridcolor\":\"white\",\"linecolor\":\"white\",\"ticks\":\"\",\"title\":{\"standoff\":15},\"zerolinecolor\":\"white\",\"automargin\":true,\"zerolinewidth\":2},\"yaxis\":{\"gridcolor\":\"white\",\"linecolor\":\"white\",\"ticks\":\"\",\"title\":{\"standoff\":15},\"zerolinecolor\":\"white\",\"automargin\":true,\"zerolinewidth\":2},\"scene\":{\"xaxis\":{\"backgroundcolor\":\"#E5ECF6\",\"gridcolor\":\"white\",\"linecolor\":\"white\",\"showbackground\":true,\"ticks\":\"\",\"zerolinecolor\":\"white\",\"gridwidth\":2},\"yaxis\":{\"backgroundcolor\":\"#E5ECF6\",\"gridcolor\":\"white\",\"linecolor\":\"white\",\"showbackground\":true,\"ticks\":\"\",\"zerolinecolor\":\"white\",\"gridwidth\":2},\"zaxis\":{\"backgroundcolor\":\"#E5ECF6\",\"gridcolor\":\"white\",\"linecolor\":\"white\",\"showbackground\":true,\"ticks\":\"\",\"zerolinecolor\":\"white\",\"gridwidth\":2}},\"shapedefaults\":{\"line\":{\"color\":\"#2a3f5f\"}},\"annotationdefaults\":{\"arrowcolor\":\"#2a3f5f\",\"arrowhead\":0,\"arrowwidth\":1},\"geo\":{\"bgcolor\":\"white\",\"landcolor\":\"#E5ECF6\",\"subunitcolor\":\"white\",\"showland\":true,\"showlakes\":true,\"lakecolor\":\"white\"},\"title\":{\"x\":0.05},\"mapbox\":{\"style\":\"light\"}}},\"xaxis\":{\"title\":{\"text\":\"Fragment size\"}},\"yaxis\":{\"title\":{\"text\":\"Count\"}},\"width\":600,\"height\":400},                        {\"responsive\": true}                    ).then(function(){\n",
              "                            \n",
              "var gd = document.getElementById('c0ba1f34-5d95-49c1-b2b8-fe357f15353b');\n",
              "var x = new MutationObserver(function (mutations, observer) {{\n",
              "        var display = window.getComputedStyle(gd).display;\n",
              "        if (!display || display === 'none') {{\n",
              "            console.log([gd, 'removed!']);\n",
              "            Plotly.purge(gd);\n",
              "            observer.disconnect();\n",
              "        }}\n",
              "}});\n",
              "\n",
              "// Listen for the removal of the full notebook cells\n",
              "var notebookContainer = gd.closest('#notebook-container');\n",
              "if (notebookContainer) {{\n",
              "    x.observe(notebookContainer, {childList: true});\n",
              "}}\n",
              "\n",
              "// Listen for the clearing of the current output cell\n",
              "var outputEl = gd.closest('.output');\n",
              "if (outputEl) {{\n",
              "    x.observe(outputEl, {childList: true});\n",
              "}}\n",
              "\n",
              "                        })                };                            </script>        </div>\n",
              "</body>\n",
              "</html>"
            ]
          },
          "metadata": {}
        }
      ]
    },
    {
      "cell_type": "markdown",
      "source": [
        "The plotting functions in SnapATAC2 can optionally return a plotly Figure object that can be further customized using plotly’s API. In the example below, we change the y-axis to log-scale."
      ],
      "metadata": {
        "id": "68GMHuFCboh4"
      }
    },
    {
      "cell_type": "code",
      "source": [
        "fig = snap.pl.frag_size_distr(fragment_data, show=False)\n",
        "fig.update_yaxes(type=\"log\")\n",
        "fig.show()"
      ],
      "metadata": {
        "colab": {
          "base_uri": "https://localhost:8080/",
          "height": 417
        },
        "id": "ofjmedFSxBf9",
        "outputId": "dfa1751a-b093-454b-ffba-9a4e0b79a3cd"
      },
      "execution_count": 108,
      "outputs": [
        {
          "output_type": "display_data",
          "data": {
            "text/html": [
              "<html>\n",
              "<head><meta charset=\"utf-8\" /></head>\n",
              "<body>\n",
              "    <div>            <script src=\"https://cdnjs.cloudflare.com/ajax/libs/mathjax/2.7.5/MathJax.js?config=TeX-AMS-MML_SVG\"></script><script type=\"text/javascript\">if (window.MathJax && window.MathJax.Hub && window.MathJax.Hub.Config) {window.MathJax.Hub.Config({SVG: {font: \"STIX-Web\"}});}</script>                <script type=\"text/javascript\">window.PlotlyConfig = {MathJaxConfig: 'local'};</script>\n",
              "        <script charset=\"utf-8\" src=\"https://cdn.plot.ly/plotly-2.35.2.min.js\"></script>                <div id=\"6b97825f-c9f9-4061-807c-3ac20bbb809e\" class=\"plotly-graph-div\" style=\"height:400px; width:600px;\"></div>            <script type=\"text/javascript\">                                    window.PLOTLYENV=window.PLOTLYENV || {};                                    if (document.getElementById(\"6b97825f-c9f9-4061-807c-3ac20bbb809e\")) {                    Plotly.newPlot(                        \"6b97825f-c9f9-4061-807c-3ac20bbb809e\",                        [{\"mode\":\"lines\",\"x\":[1,2,3,4,5,6,7,8,9,10,11,12,13,14,15,16,17,18,19,20,21,22,23,24,25,26,27,28,29,30,31,32,33,34,35,36,37,38,39,40,41,42,43,44,45,46,47,48,49,50,51,52,53,54,55,56,57,58,59,60,61,62,63,64,65,66,67,68,69,70,71,72,73,74,75,76,77,78,79,80,81,82,83,84,85,86,87,88,89,90,91,92,93,94,95,96,97,98,99,100,101,102,103,104,105,106,107,108,109,110,111,112,113,114,115,116,117,118,119,120,121,122,123,124,125,126,127,128,129,130,131,132,133,134,135,136,137,138,139,140,141,142,143,144,145,146,147,148,149,150,151,152,153,154,155,156,157,158,159,160,161,162,163,164,165,166,167,168,169,170,171,172,173,174,175,176,177,178,179,180,181,182,183,184,185,186,187,188,189,190,191,192,193,194,195,196,197,198,199,200,201,202,203,204,205,206,207,208,209,210,211,212,213,214,215,216,217,218,219,220,221,222,223,224,225,226,227,228,229,230,231,232,233,234,235,236,237,238,239,240,241,242,243,244,245,246,247,248,249,250,251,252,253,254,255,256,257,258,259,260,261,262,263,264,265,266,267,268,269,270,271,272,273,274,275,276,277,278,279,280,281,282,283,284,285,286,287,288,289,290,291,292,293,294,295,296,297,298,299,300,301,302,303,304,305,306,307,308,309,310,311,312,313,314,315,316,317,318,319,320,321,322,323,324,325,326,327,328,329,330,331,332,333,334,335,336,337,338,339,340,341,342,343,344,345,346,347,348,349,350,351,352,353,354,355,356,357,358,359,360,361,362,363,364,365,366,367,368,369,370,371,372,373,374,375,376,377,378,379,380,381,382,383,384,385,386,387,388,389,390,391,392,393,394,395,396,397,398,399,400,401,402,403,404,405,406,407,408,409,410,411,412,413,414,415,416,417,418,419,420,421,422,423,424,425,426,427,428,429,430,431,432,433,434,435,436,437,438,439,440,441,442,443,444,445,446,447,448,449,450,451,452,453,454,455,456,457,458,459,460,461,462,463,464,465,466,467,468,469,470,471,472,473,474,475,476,477,478,479,480,481,482,483,484,485,486,487,488,489,490,491,492,493,494,495,496,497,498,499,500,501,502,503,504,505,506,507,508,509,510,511,512,513,514,515,516,517,518,519,520,521,522,523,524,525,526,527,528,529,530,531,532,533,534,535,536,537,538,539,540,541,542,543,544,545,546,547,548,549,550,551,552,553,554,555,556,557,558,559,560,561,562,563,564,565,566,567,568,569,570,571,572,573,574,575,576,577,578,579,580,581,582,583,584,585,586,587,588,589,590,591,592,593,594,595,596,597,598,599,600,601,602,603,604,605,606,607,608,609,610,611,612,613,614,615,616,617,618,619,620,621,622,623,624,625,626,627,628,629,630,631,632,633,634,635,636,637,638,639,640,641,642,643,644,645,646,647,648,649,650,651,652,653,654,655,656,657,658,659,660,661,662,663,664,665,666,667,668,669,670,671,672,673,674,675,676,677,678,679,680,681,682,683,684,685,686,687,688,689,690,691,692,693,694,695,696,697,698,699,700,701,702,703,704,705,706,707,708,709,710,711,712,713,714,715,716,717,718,719,720,721,722,723,724,725,726,727,728,729,730,731,732,733,734,735,736,737,738,739,740,741,742,743,744,745,746,747,748,749,750,751,752,753,754,755,756,757,758,759,760,761,762,763,764,765,766,767,768,769,770,771,772,773,774,775,776,777,778,779,780,781,782,783,784,785,786,787,788,789,790,791,792,793,794,795,796,797,798,799,800,801,802,803,804,805,806,807,808,809,810,811,812,813,814,815,816,817,818,819,820,821,822,823,824,825,826,827,828,829,830,831,832,833,834,835,836,837,838,839,840,841,842,843,844,845,846,847,848,849,850,851,852,853,854,855,856,857,858,859,860,861,862,863,864,865,866,867,868,869,870,871,872,873,874,875,876,877,878,879,880,881,882,883,884,885,886,887,888,889,890,891,892,893,894,895,896,897,898,899,900,901,902,903,904,905,906,907,908,909,910,911,912,913,914,915,916,917,918,919,920,921,922,923,924,925,926,927,928,929,930,931,932,933,934,935,936,937,938,939,940,941,942,943,944,945,946,947,948,949,950,951,952,953,954,955,956,957,958,959,960,961,962,963,964,965,966,967,968,969,970,971,972,973,974,975,976,977,978,979,980,981,982,983,984,985,986,987,988,989,990,991,992,993,994,995,996,997,998,999,1000],\"y\":[0,0,0,0,0,0,0,0,0,0,0,0,0,0,0,0,0,0,0,0,0,0,0,0,0,0,0,0,0,0,0,0,0,0,0,0,0,0,0,0,0,0,0,0,0,0,0,0,0,0,0,0,0,0,0,0,0,0,0,0,0,0,0,0,0,0,0,0,0,0,0,0,0,0,0,0,0,0,0,0,0,0,0,0,0,0,0,0,0,0,0,0,0,0,0,0,0,0,0,0,0,0,0,0,0,0,0,0,0,0,0,0,0,0,0,0,0,0,0,0,0,0,0,0,0,0,0,0,0,0,0,0,0,0,0,0,0,0,0,0,0,0,0,0,0,0,0,0,0,0,0,0,0,0,0,0,0,0,0,0,0,0,0,0,0,0,0,0,0,0,0,0,0,0,0,0,0,0,0,0,0,0,0,0,0,0,0,0,0,0,0,0,0,0,0,0,0,0,0,0,0,0,0,0,0,0,0,0,0,0,0,0,0,0,0,0,0,0,0,0,0,0,0,0,0,0,0,0,0,0,0,0,0,0,0,0,0,0,0,0,0,0,0,0,0,0,0,0,0,0,0,0,0,0,0,0,0,0,0,0,0,0,0,0,0,0,0,0,0,0,0,0,0,0,0,0,0,0,0,0,0,0,0,0,0,0,0,0,0,0,0,0,0,0,0,0,0,0,0,0,0,0,0,0,0,0,0,0,0,0,0,0,0,0,0,0,0,0,0,0,0,0,0,0,0,0,0,0,0,0,0,0,0,0,0,0,0,0,0,0,0,0,0,0,0,0,0,0,0,0,0,0,0,0,0,0,0,0,0,0,0,0,0,0,0,0,0,0,0,0,0,0,0,0,0,0,0,0,0,0,0,0,0,0,0,0,0,0,0,0,0,0,0,0,0,0,0,0,0,0,0,0,0,0,0,0,0,0,0,0,0,0,0,0,0,0,0,0,0,0,0,0,0,0,0,0,0,0,0,0,0,0,0,0,0,0,0,0,0,0,0,0,0,0,0,0,0,0,0,0,0,0,0,0,0,0,0,0,0,0,0,0,0,0,0,0,0,0,0,0,0,0,0,0,0,0,0,0,0,0,0,0,0,0,0,0,0,0,0,0,0,0,0,0,0,0,0,0,0,6378,0,12,0,45,31,50,42,0,47,0,49,0,52,21,0,0,718,0,0,0,196,171,0,54,0,0,0,129,0,129,0,0,0,110,246,27,71,75,0,229,23,160,0,91,0,154,30,62,495,25,75,369,779,0,207,0,117,119,0,115,31,17,450,0,305,0,565,56,126,268,0,0,318,44,0,10,32,360,0,67,191,108,0,406,77,22,0,0,0,338,394,182,146,18,0,0,0,0,0,0,47,51,50,136,2279,0,0,0,0,0,167,591,79,0,218,68,0,100,151,64,0,559,0,77,278,0,0,0,129,109,0,117,480,0,179,0,0,56,0,0,192,238,173,79,0,0,0,0,0,238,0,169,0,0,67,0,229,0,197,0,287,1169,186,58,1767,0,207,901,0,167,39,0,0,571,117,0,0,18,0,302,103,0,0,0,0,0,99,460,0,0,952,0,0,0,0,0,0,0,832,0,78,0,451,595,0,0,0,19,0,107,0,28,0,63,0,0,0,1265,40,633,12,198,271,144,0,516,0,0,606,0,0,25,160,0,0,0,417,0,0,348,0,0,433,0,0,0,0,0,0,0,0,0,0,0,9,276,51,435,40,0,231,1121,0,0,0,0,0,0,0,79,0,0,69,207,0,0,0,0,0,0,0,0,0,629,0,0,0,0,1268,0,0,0,0,0,772,237,0,0,469,0,0,720,0,0,0,0,0,0,0,0,0,0,0,0,73,0,84,0,0,0,441,0,0,1,0,0,0,0,0,1292,0,0,0,0,0,44,0,0,0,0,0,0,0,44,97,0,317,77,108,58,371,0,0,0,0,0,0,68,70,68,0,0,0,0,0,0,0,0,117,0,190,0,100,0,1044,71,0,0,0,0,0,253,0,1039,85,0,65,0,0,0,0,0,0,31,172,1219,69,0,284,1401,387,0,344,0,0,0,90,0,57,0,0,763,242,0,0,0,0,0,336,382,0,0,0,0,0,0,328,0,0,937,0,212,226,0,0,0,137,0,292,0,313,0,432,0,0,0,0,0,774,0,1767,0,0,0,460,755,397,11,0,0,0,0,0,0,0,0,0,0,0,0,0,0,0,735,0,0,0,81,0,0,0,0,0,0,0,0,604,84,157,0,0,0,852,609,105,206,0,64,0,0],\"type\":\"scatter\"}],                        {\"template\":{\"data\":{\"histogram2dcontour\":[{\"type\":\"histogram2dcontour\",\"colorbar\":{\"outlinewidth\":0,\"ticks\":\"\"},\"colorscale\":[[0.0,\"#0d0887\"],[0.1111111111111111,\"#46039f\"],[0.2222222222222222,\"#7201a8\"],[0.3333333333333333,\"#9c179e\"],[0.4444444444444444,\"#bd3786\"],[0.5555555555555556,\"#d8576b\"],[0.6666666666666666,\"#ed7953\"],[0.7777777777777778,\"#fb9f3a\"],[0.8888888888888888,\"#fdca26\"],[1.0,\"#f0f921\"]]}],\"choropleth\":[{\"type\":\"choropleth\",\"colorbar\":{\"outlinewidth\":0,\"ticks\":\"\"}}],\"histogram2d\":[{\"type\":\"histogram2d\",\"colorbar\":{\"outlinewidth\":0,\"ticks\":\"\"},\"colorscale\":[[0.0,\"#0d0887\"],[0.1111111111111111,\"#46039f\"],[0.2222222222222222,\"#7201a8\"],[0.3333333333333333,\"#9c179e\"],[0.4444444444444444,\"#bd3786\"],[0.5555555555555556,\"#d8576b\"],[0.6666666666666666,\"#ed7953\"],[0.7777777777777778,\"#fb9f3a\"],[0.8888888888888888,\"#fdca26\"],[1.0,\"#f0f921\"]]}],\"heatmap\":[{\"type\":\"heatmap\",\"colorbar\":{\"outlinewidth\":0,\"ticks\":\"\"},\"colorscale\":[[0.0,\"#0d0887\"],[0.1111111111111111,\"#46039f\"],[0.2222222222222222,\"#7201a8\"],[0.3333333333333333,\"#9c179e\"],[0.4444444444444444,\"#bd3786\"],[0.5555555555555556,\"#d8576b\"],[0.6666666666666666,\"#ed7953\"],[0.7777777777777778,\"#fb9f3a\"],[0.8888888888888888,\"#fdca26\"],[1.0,\"#f0f921\"]]}],\"heatmapgl\":[{\"type\":\"heatmapgl\",\"colorbar\":{\"outlinewidth\":0,\"ticks\":\"\"},\"colorscale\":[[0.0,\"#0d0887\"],[0.1111111111111111,\"#46039f\"],[0.2222222222222222,\"#7201a8\"],[0.3333333333333333,\"#9c179e\"],[0.4444444444444444,\"#bd3786\"],[0.5555555555555556,\"#d8576b\"],[0.6666666666666666,\"#ed7953\"],[0.7777777777777778,\"#fb9f3a\"],[0.8888888888888888,\"#fdca26\"],[1.0,\"#f0f921\"]]}],\"contourcarpet\":[{\"type\":\"contourcarpet\",\"colorbar\":{\"outlinewidth\":0,\"ticks\":\"\"}}],\"contour\":[{\"type\":\"contour\",\"colorbar\":{\"outlinewidth\":0,\"ticks\":\"\"},\"colorscale\":[[0.0,\"#0d0887\"],[0.1111111111111111,\"#46039f\"],[0.2222222222222222,\"#7201a8\"],[0.3333333333333333,\"#9c179e\"],[0.4444444444444444,\"#bd3786\"],[0.5555555555555556,\"#d8576b\"],[0.6666666666666666,\"#ed7953\"],[0.7777777777777778,\"#fb9f3a\"],[0.8888888888888888,\"#fdca26\"],[1.0,\"#f0f921\"]]}],\"surface\":[{\"type\":\"surface\",\"colorbar\":{\"outlinewidth\":0,\"ticks\":\"\"},\"colorscale\":[[0.0,\"#0d0887\"],[0.1111111111111111,\"#46039f\"],[0.2222222222222222,\"#7201a8\"],[0.3333333333333333,\"#9c179e\"],[0.4444444444444444,\"#bd3786\"],[0.5555555555555556,\"#d8576b\"],[0.6666666666666666,\"#ed7953\"],[0.7777777777777778,\"#fb9f3a\"],[0.8888888888888888,\"#fdca26\"],[1.0,\"#f0f921\"]]}],\"mesh3d\":[{\"type\":\"mesh3d\",\"colorbar\":{\"outlinewidth\":0,\"ticks\":\"\"}}],\"scatter\":[{\"fillpattern\":{\"fillmode\":\"overlay\",\"size\":10,\"solidity\":0.2},\"type\":\"scatter\"}],\"parcoords\":[{\"type\":\"parcoords\",\"line\":{\"colorbar\":{\"outlinewidth\":0,\"ticks\":\"\"}}}],\"scatterpolargl\":[{\"type\":\"scatterpolargl\",\"marker\":{\"colorbar\":{\"outlinewidth\":0,\"ticks\":\"\"}}}],\"bar\":[{\"error_x\":{\"color\":\"#2a3f5f\"},\"error_y\":{\"color\":\"#2a3f5f\"},\"marker\":{\"line\":{\"color\":\"#E5ECF6\",\"width\":0.5},\"pattern\":{\"fillmode\":\"overlay\",\"size\":10,\"solidity\":0.2}},\"type\":\"bar\"}],\"scattergeo\":[{\"type\":\"scattergeo\",\"marker\":{\"colorbar\":{\"outlinewidth\":0,\"ticks\":\"\"}}}],\"scatterpolar\":[{\"type\":\"scatterpolar\",\"marker\":{\"colorbar\":{\"outlinewidth\":0,\"ticks\":\"\"}}}],\"histogram\":[{\"marker\":{\"pattern\":{\"fillmode\":\"overlay\",\"size\":10,\"solidity\":0.2}},\"type\":\"histogram\"}],\"scattergl\":[{\"type\":\"scattergl\",\"marker\":{\"colorbar\":{\"outlinewidth\":0,\"ticks\":\"\"}}}],\"scatter3d\":[{\"type\":\"scatter3d\",\"line\":{\"colorbar\":{\"outlinewidth\":0,\"ticks\":\"\"}},\"marker\":{\"colorbar\":{\"outlinewidth\":0,\"ticks\":\"\"}}}],\"scattermapbox\":[{\"type\":\"scattermapbox\",\"marker\":{\"colorbar\":{\"outlinewidth\":0,\"ticks\":\"\"}}}],\"scatterternary\":[{\"type\":\"scatterternary\",\"marker\":{\"colorbar\":{\"outlinewidth\":0,\"ticks\":\"\"}}}],\"scattercarpet\":[{\"type\":\"scattercarpet\",\"marker\":{\"colorbar\":{\"outlinewidth\":0,\"ticks\":\"\"}}}],\"carpet\":[{\"aaxis\":{\"endlinecolor\":\"#2a3f5f\",\"gridcolor\":\"white\",\"linecolor\":\"white\",\"minorgridcolor\":\"white\",\"startlinecolor\":\"#2a3f5f\"},\"baxis\":{\"endlinecolor\":\"#2a3f5f\",\"gridcolor\":\"white\",\"linecolor\":\"white\",\"minorgridcolor\":\"white\",\"startlinecolor\":\"#2a3f5f\"},\"type\":\"carpet\"}],\"table\":[{\"cells\":{\"fill\":{\"color\":\"#EBF0F8\"},\"line\":{\"color\":\"white\"}},\"header\":{\"fill\":{\"color\":\"#C8D4E3\"},\"line\":{\"color\":\"white\"}},\"type\":\"table\"}],\"barpolar\":[{\"marker\":{\"line\":{\"color\":\"#E5ECF6\",\"width\":0.5},\"pattern\":{\"fillmode\":\"overlay\",\"size\":10,\"solidity\":0.2}},\"type\":\"barpolar\"}],\"pie\":[{\"automargin\":true,\"type\":\"pie\"}]},\"layout\":{\"autotypenumbers\":\"strict\",\"colorway\":[\"#636efa\",\"#EF553B\",\"#00cc96\",\"#ab63fa\",\"#FFA15A\",\"#19d3f3\",\"#FF6692\",\"#B6E880\",\"#FF97FF\",\"#FECB52\"],\"font\":{\"color\":\"#2a3f5f\"},\"hovermode\":\"closest\",\"hoverlabel\":{\"align\":\"left\"},\"paper_bgcolor\":\"white\",\"plot_bgcolor\":\"#E5ECF6\",\"polar\":{\"bgcolor\":\"#E5ECF6\",\"angularaxis\":{\"gridcolor\":\"white\",\"linecolor\":\"white\",\"ticks\":\"\"},\"radialaxis\":{\"gridcolor\":\"white\",\"linecolor\":\"white\",\"ticks\":\"\"}},\"ternary\":{\"bgcolor\":\"#E5ECF6\",\"aaxis\":{\"gridcolor\":\"white\",\"linecolor\":\"white\",\"ticks\":\"\"},\"baxis\":{\"gridcolor\":\"white\",\"linecolor\":\"white\",\"ticks\":\"\"},\"caxis\":{\"gridcolor\":\"white\",\"linecolor\":\"white\",\"ticks\":\"\"}},\"coloraxis\":{\"colorbar\":{\"outlinewidth\":0,\"ticks\":\"\"}},\"colorscale\":{\"sequential\":[[0.0,\"#0d0887\"],[0.1111111111111111,\"#46039f\"],[0.2222222222222222,\"#7201a8\"],[0.3333333333333333,\"#9c179e\"],[0.4444444444444444,\"#bd3786\"],[0.5555555555555556,\"#d8576b\"],[0.6666666666666666,\"#ed7953\"],[0.7777777777777778,\"#fb9f3a\"],[0.8888888888888888,\"#fdca26\"],[1.0,\"#f0f921\"]],\"sequentialminus\":[[0.0,\"#0d0887\"],[0.1111111111111111,\"#46039f\"],[0.2222222222222222,\"#7201a8\"],[0.3333333333333333,\"#9c179e\"],[0.4444444444444444,\"#bd3786\"],[0.5555555555555556,\"#d8576b\"],[0.6666666666666666,\"#ed7953\"],[0.7777777777777778,\"#fb9f3a\"],[0.8888888888888888,\"#fdca26\"],[1.0,\"#f0f921\"]],\"diverging\":[[0,\"#8e0152\"],[0.1,\"#c51b7d\"],[0.2,\"#de77ae\"],[0.3,\"#f1b6da\"],[0.4,\"#fde0ef\"],[0.5,\"#f7f7f7\"],[0.6,\"#e6f5d0\"],[0.7,\"#b8e186\"],[0.8,\"#7fbc41\"],[0.9,\"#4d9221\"],[1,\"#276419\"]]},\"xaxis\":{\"gridcolor\":\"white\",\"linecolor\":\"white\",\"ticks\":\"\",\"title\":{\"standoff\":15},\"zerolinecolor\":\"white\",\"automargin\":true,\"zerolinewidth\":2},\"yaxis\":{\"gridcolor\":\"white\",\"linecolor\":\"white\",\"ticks\":\"\",\"title\":{\"standoff\":15},\"zerolinecolor\":\"white\",\"automargin\":true,\"zerolinewidth\":2},\"scene\":{\"xaxis\":{\"backgroundcolor\":\"#E5ECF6\",\"gridcolor\":\"white\",\"linecolor\":\"white\",\"showbackground\":true,\"ticks\":\"\",\"zerolinecolor\":\"white\",\"gridwidth\":2},\"yaxis\":{\"backgroundcolor\":\"#E5ECF6\",\"gridcolor\":\"white\",\"linecolor\":\"white\",\"showbackground\":true,\"ticks\":\"\",\"zerolinecolor\":\"white\",\"gridwidth\":2},\"zaxis\":{\"backgroundcolor\":\"#E5ECF6\",\"gridcolor\":\"white\",\"linecolor\":\"white\",\"showbackground\":true,\"ticks\":\"\",\"zerolinecolor\":\"white\",\"gridwidth\":2}},\"shapedefaults\":{\"line\":{\"color\":\"#2a3f5f\"}},\"annotationdefaults\":{\"arrowcolor\":\"#2a3f5f\",\"arrowhead\":0,\"arrowwidth\":1},\"geo\":{\"bgcolor\":\"white\",\"landcolor\":\"#E5ECF6\",\"subunitcolor\":\"white\",\"showland\":true,\"showlakes\":true,\"lakecolor\":\"white\"},\"title\":{\"x\":0.05},\"mapbox\":{\"style\":\"light\"}}},\"xaxis\":{\"title\":{\"text\":\"Fragment size\"}},\"yaxis\":{\"title\":{\"text\":\"Count\"},\"type\":\"log\"},\"width\":600,\"height\":400},                        {\"responsive\": true}                    ).then(function(){\n",
              "                            \n",
              "var gd = document.getElementById('6b97825f-c9f9-4061-807c-3ac20bbb809e');\n",
              "var x = new MutationObserver(function (mutations, observer) {{\n",
              "        var display = window.getComputedStyle(gd).display;\n",
              "        if (!display || display === 'none') {{\n",
              "            console.log([gd, 'removed!']);\n",
              "            Plotly.purge(gd);\n",
              "            observer.disconnect();\n",
              "        }}\n",
              "}});\n",
              "\n",
              "// Listen for the removal of the full notebook cells\n",
              "var notebookContainer = gd.closest('#notebook-container');\n",
              "if (notebookContainer) {{\n",
              "    x.observe(notebookContainer, {childList: true});\n",
              "}}\n",
              "\n",
              "// Listen for the clearing of the current output cell\n",
              "var outputEl = gd.closest('.output');\n",
              "if (outputEl) {{\n",
              "    x.observe(outputEl, {childList: true});\n",
              "}}\n",
              "\n",
              "                        })                };                            </script>        </div>\n",
              "</body>\n",
              "</html>"
            ]
          },
          "metadata": {}
        }
      ]
    },
    {
      "cell_type": "markdown",
      "source": [
        "In both figures above, we see that the data has been pre-filtered by the authors."
      ],
      "metadata": {
        "id": "2gFiyiX4b0mu"
      }
    },
    {
      "cell_type": "markdown",
      "source": [
        "We next create a cell by bin matrix containing insertion counts across genome-wide 500-bp bins using the add_tile_matrix() module."
      ],
      "metadata": {
        "id": "i6gwqhO_byyC"
      }
    },
    {
      "cell_type": "code",
      "source": [
        "snap.pp.add_tile_matrix(fragment_data)"
      ],
      "metadata": {
        "id": "UKzNUxcdxcQj"
      },
      "execution_count": 109,
      "outputs": []
    },
    {
      "cell_type": "markdown",
      "source": [
        "Next, we perform feature selection using pp.select_features(). The result is stored in data.var['selected'] and will be automatically utilized by relevant functions such as pp.scrublet() and tl.spectral().\n",
        "\n",
        "The default feature selection algorithm chooses the most accessible features. The n_features parameter determines the number of features or bins used in subsequent analysis steps. Generally, including more features improves resolution and reveals finer details, but it may also introduce noise. To optimize results, experiment with the n_features parameter to find the most appropriate value for your specific dataset."
      ],
      "metadata": {
        "id": "rf4OhL-_cIIz"
      }
    },
    {
      "cell_type": "code",
      "source": [
        "snap.pp.select_features(fragment_data, n_features=2000)"
      ],
      "metadata": {
        "id": "p-FilnzLxdJc"
      },
      "execution_count": 110,
      "outputs": []
    },
    {
      "cell_type": "markdown",
      "source": [
        "#7. Clustering\n",
        "\n",
        "Lastly, we'll illustrate how the this data can be clustered.\n",
        "\n",
        "To calculate the lower-dimensional representation of single-cell chromatin profiles, the SnapATAC2 library employs spectral embedding for dimensionality reduction. The resulting data is stored in data.obsm['X_spectral']. Comprehensive information about the dimension reduction algorithm we utilize can be found in their [algorithm documentation](https://kzhang.org/epigenomics-analysis/dim_reduct.html)."
      ],
      "metadata": {
        "id": "Y6Y1A6I6cfPQ"
      }
    },
    {
      "cell_type": "code",
      "source": [
        "snap.tl.spectral(fragment_data,)"
      ],
      "metadata": {
        "id": "gYTyozqyxmVi"
      },
      "execution_count": 111,
      "outputs": []
    },
    {
      "cell_type": "code",
      "source": [
        "fragment_data"
      ],
      "metadata": {
        "colab": {
          "base_uri": "https://localhost:8080/"
        },
        "id": "91ZnqFYq7dTw",
        "outputId": "a40cb09f-7c6e-4088-f69c-10657b3f4a2d"
      },
      "execution_count": 112,
      "outputs": [
        {
          "output_type": "execute_result",
          "data": {
            "text/plain": [
              "AnnData object with n_obs × n_vars = 6338 × 6062095\n",
              "    obs: 'n_fragment', 'frac_dup', 'frac_mito'\n",
              "    var: 'count', 'selected'\n",
              "    uns: 'reference_sequences', 'frag_size_distr', 'spectral_eigenvalue'\n",
              "    obsm: 'fragment_paired', 'X_spectral'"
            ]
          },
          "metadata": {},
          "execution_count": 112
        }
      ]
    },
    {
      "cell_type": "code",
      "source": [
        "fragment_data.uns['frag_size_distr']"
      ],
      "metadata": {
        "colab": {
          "base_uri": "https://localhost:8080/"
        },
        "id": "IhTzUYoR7i9O",
        "outputId": "b0920b2b-6458-48aa-eb3a-d1abe3a6ec1d"
      },
      "execution_count": 113,
      "outputs": [
        {
          "output_type": "execute_result",
          "data": {
            "text/plain": [
              "array([161454,      0,      0, ...,     64,      0,      0])"
            ]
          },
          "metadata": {},
          "execution_count": 113
        }
      ]
    },
    {
      "cell_type": "markdown",
      "source": [
        "We then use UMAP to embed the cells to 2-dimension space for visualization purpose. This step will have to be run after snap.tl.spectral as it uses the lower dimesnional representation created by the spectral embedding."
      ],
      "metadata": {
        "id": "Y9ikuqncdFKU"
      }
    },
    {
      "cell_type": "code",
      "source": [
        "snap.tl.umap(fragment_data)"
      ],
      "metadata": {
        "colab": {
          "base_uri": "https://localhost:8080/"
        },
        "id": "TFblzffmxsev",
        "outputId": "f88bd3f0-49cd-41b1-aa0e-e30ab518531f"
      },
      "execution_count": 114,
      "outputs": [
        {
          "output_type": "stream",
          "name": "stderr",
          "text": [
            "/usr/local/lib/python3.10/dist-packages/umap/umap_.py:1952: UserWarning:\n",
            "\n",
            "n_jobs value 1 overridden to 1 by setting random_state. Use no seed for parallelism.\n",
            "\n"
          ]
        }
      ]
    },
    {
      "cell_type": "markdown",
      "source": [
        "We next perform graph-based clustering to identify cell clusters. We first build a k-nearest neighbour graph using snap.pp.knn, and then use the Leiden community detection algorithm to identify densely-connected subgraphs/clusters in the graph."
      ],
      "metadata": {
        "id": "JJsXDv_ceSyW"
      }
    },
    {
      "cell_type": "code",
      "source": [
        "snap.pp.knn(fragment_data)\n",
        "snap.tl.leiden(fragment_data)"
      ],
      "metadata": {
        "id": "Mz5BVFcxyxKN"
      },
      "execution_count": 115,
      "outputs": []
    },
    {
      "cell_type": "markdown",
      "source": [
        "Lastly, we're able to plot our clustering results."
      ],
      "metadata": {
        "id": "vxKPL7lbeXHo"
      }
    },
    {
      "cell_type": "code",
      "source": [
        "snap.pl.umap(fragment_data, color='leiden', height=800, width=1200, marker_size=10, marker_opacity=0.5)"
      ],
      "metadata": {
        "colab": {
          "base_uri": "https://localhost:8080/",
          "height": 817
        },
        "id": "1gO1En5ryqW4",
        "outputId": "b2cb5893-acf5-4295-af0a-66985d0787ed"
      },
      "execution_count": 121,
      "outputs": [
        {
          "output_type": "display_data",
          "data": {
            "text/html": [
              "<html>\n",
              "<head><meta charset=\"utf-8\" /></head>\n",
              "<body>\n",
              "    <div>            <script src=\"https://cdnjs.cloudflare.com/ajax/libs/mathjax/2.7.5/MathJax.js?config=TeX-AMS-MML_SVG\"></script><script type=\"text/javascript\">if (window.MathJax && window.MathJax.Hub && window.MathJax.Hub.Config) {window.MathJax.Hub.Config({SVG: {font: \"STIX-Web\"}});}</script>                <script type=\"text/javascript\">window.PlotlyConfig = {MathJaxConfig: 'local'};</script>\n",
              "        <script charset=\"utf-8\" src=\"https://cdn.plot.ly/plotly-2.35.2.min.js\"></script>                <div id=\"e85e66fc-83d5-4df8-b7b8-c812ed865920\" class=\"plotly-graph-div\" style=\"height:800px; width:1200px;\"></div>            <script type=\"text/javascript\">                                    window.PLOTLYENV=window.PLOTLYENV || {};                                    if (document.getElementById(\"e85e66fc-83d5-4df8-b7b8-c812ed865920\")) {                    Plotly.newPlot(                        \"e85e66fc-83d5-4df8-b7b8-c812ed865920\",                        [{\"hovertemplate\":\"leiden=0\\u003cbr\\u003eUMAP-1=%{x}\\u003cbr\\u003eUMAP-2=%{y}\\u003cextra\\u003e\\u003c\\u002fextra\\u003e\",\"legendgroup\":\"0\",\"marker\":{\"color\":\"#2E91E5\",\"symbol\":\"circle\",\"opacity\":0.5,\"size\":10},\"mode\":\"markers\",\"name\":\"0\",\"showlegend\":true,\"x\":[6.793134,8.365826,7.7662377,7.1232386,8.913366,6.9156275,8.038456,8.519301,8.378812,7.71721,7.558082,6.9735165,6.680453,6.15282,7.7139482,7.7549453,8.743031,6.742192,7.5306764,7.882414,8.553916,8.448026,6.6977944,8.999782,7.6720996,6.9835134,8.778951,7.3476253,6.1300244,8.510386,8.697866,6.0995626,7.6983714,7.7211065,9.461024,9.564229,8.23639,7.2237206,8.9819975,6.684272,6.2537603,7.7239985,8.534999,7.647493,8.751624,7.6847277,7.7111278,7.6170015,6.726955,7.816357,6.81577,6.758115,6.7335997,7.1059694,8.812328,9.434515,6.7924905,13.801026,7.488134,8.76288,6.0798373,6.745815,8.560632,9.120762,8.959492,8.179252,8.668894,6.0470276,8.468176,8.419458,8.295469,6.7803345,7.252528,6.8155756,7.2533383,7.4622126,7.679783,6.967368,6.906305,6.6863737,6.4797935,7.740425,6.183754,6.214641,7.70443,7.922994,8.094651,7.7980995,6.280883,8.256529,6.7962456,6.2420707,7.7924347,6.920895,7.8872185,6.739,7.513625,6.1556387,6.0773993,6.3226786,6.5632796,7.834507,9.551113,8.219988,8.017005,6.166738,7.5285,7.527606,9.194019,6.743139,9.13618,7.7702127,8.214395,8.49952,8.045717,8.336825,9.390025,7.7604485,7.69242,6.6986237,8.243658,6.52724,6.7262983,6.3209796,7.7546043,9.431948,6.8371854,6.29366,6.8129506,11.063665,9.319276,9.059035,8.041739,7.731399,6.8219166,7.2313128,8.036527,7.7726994,8.499553,7.9039803,6.211333,6.807801,9.002966,7.921011,7.7006793,6.893546,9.047865,8.183332,7.9129252,7.521249,6.8718033,9.668843,6.9088306,6.163368,8.821835,8.766253,7.660864,6.6739283,9.342759,9.066748,6.832589,8.848292,6.668359,6.1722417,7.714328,7.566925,6.646716,8.527622,8.694845,8.7067375,8.178263,9.768686,7.8642836,6.0749617,8.365574,8.08888,6.9060383,8.721455,8.34061,8.607825,7.0986404,6.1217017,8.65379,8.634381,7.4522266,7.742432,9.5460615,6.8272986,7.638975,8.077359,7.6680512,8.276815,8.524555,8.924414,6.6576347,9.013421,6.7431507,9.080478,7.152422,7.068311,7.758878,7.6949363,8.537277,9.395802,8.710232,7.7668953,6.7653956,7.1896367,7.6265373,8.619954,8.417681,9.605036,8.710781,8.322097,7.159671,7.639755,7.5697756,6.766882,8.777661,8.815433,6.1203933,8.11385,6.0952907,8.527671,12.296425,6.567301,8.409648,6.1915717,7.5285516,8.566409,9.956635,9.545636,8.367936,15.142226,8.750089,6.861332,8.781608,7.043185,6.1682477,6.6890473,8.505,8.021646,6.7068777,7.6424546,6.5987883,7.2428856,9.813982,8.319984,8.414763,9.375498,7.1859813,6.062198,8.881952,12.372661,7.2404184,8.507561,6.9784493,7.5472245,7.6147423,8.191546,7.49599,8.903979,8.953649,8.276234,6.349038,7.6755624,7.9162817,6.792655,6.1885233,6.75802,8.070416,8.977549,8.23331,6.658007,7.1113386,7.8557467,7.727603,8.486755,6.163665,12.73426,7.8428693,7.629736,6.187321,6.8188834,7.5187745,7.7978206,11.91308,6.180882,6.758523,8.555515,6.102656,8.719981,11.157502,6.1350045,7.759341,7.67817,8.446106,8.943438,6.2234707,6.182405,8.777504,9.661445,8.818215,9.42835,6.1161704,6.851941,6.783548,8.769836,7.831899,6.8581924,6.7914586,6.2100887,8.426223,9.484858,8.704247,9.181705,7.8537855,6.2784724,8.833227,6.1922746,12.192749,7.6425905,8.88292,6.8477244,7.6473703,9.020115,11.187432,6.3351097,9.832781,8.635556,7.7552214,8.667163,9.052251,11.353326,8.364259,9.447497,8.82254,12.161101,7.3961263,6.825658,8.460292,9.221065,7.5058246,7.617889,6.7040195,8.62502,9.313559,9.047881,8.308932,9.330169,6.4694476,8.287284,8.711979,8.509969,12.911939,6.774523,7.708843,8.952593,8.653944,7.4896684,7.238866,8.791696,8.834227,7.87428,7.1276946,7.8449316,6.0867147,8.207106,6.143257,9.256509,8.2642355,6.6501017,8.661722,6.141591,9.123662,6.7334294,7.57195,7.012691,8.821778,8.643551,8.2878,6.086463,8.868286,7.2037816,6.7909927,9.12198,9.448071,8.749802,6.390732,8.858059,8.124513,6.8786297,6.740115,6.4916697,7.690171,7.6150465,6.14774,7.6216893,7.805154,9.463454,8.299292,6.2643704,7.8249907,8.849084,7.135338,7.3562765,9.4009495,6.094944,7.8391156,6.078996,8.716735,6.1531053,8.389886,6.541597,8.356342,8.485033,8.778292,9.655186,7.458845,7.799319,7.399683,9.05772,8.897721,7.6786494,7.3019247,6.1335883,8.524361,8.270603,9.092245,6.737565,6.8595786,8.701028,6.1574597,8.657908,8.679337,9.045142,6.9571986,6.910024,7.6160593,8.444994,7.9899883,7.9143147,7.6532497,7.66444,8.61393,7.6538615,6.8412123,7.6278887,6.741371,6.7789593,6.155043,6.1966987,6.825071,6.067758,7.7301993,7.1711693,7.218683,6.9189677,7.2589893,7.612403,7.740417,6.4083266,6.7315454,8.314864,9.0112,7.7218575,8.259557,7.6658616,6.683229,6.945879,8.861988,6.1796436,7.711706,6.836108,13.704564,8.613011,7.9140663,8.6556425,6.77289,6.231291,12.651492,7.9718547,6.628145,7.632305,11.537416,12.028281,8.95834,7.917589,6.858169,7.205984,8.280615,8.5624275,8.679743,7.5805597,9.411824,8.569139,7.786919,8.834003,7.9716682,7.660505,7.683495,8.02785,8.964653,6.433667,8.781032,8.45268,6.394031,6.208563,6.7562065,9.665462,7.4815774,6.8624187,8.7116165,6.1198206,8.774397,6.673002,7.68292,7.8653054,7.852691,6.130099,7.9715443,6.4776273,6.216169,6.161842,8.706568,9.330915,7.6774254,7.947515,8.373618,7.694805,7.9172916,6.1357436,8.133262,7.322438,7.7910857,8.350756,8.446343,8.32173,8.388755,6.220001,9.086119,8.798638,7.804023,11.5062685,7.874175,8.265774,7.769822,8.719621,8.304939,9.021143,8.884697,8.762292,6.1391563,7.593334,8.021848,7.669775,8.175992,8.131954,6.7292037,6.7263966,7.264263,9.064339,8.552605,6.772369,8.361216,8.74712,7.99751,11.690691,7.7633944,7.6313133,6.666381,6.780076,7.1777716,9.871431,7.6540327,8.893617,8.378857,7.7779026,6.757707,8.92274,6.7891974,6.5773764,6.916153,6.982205,6.1512303,6.806162,7.8742986,6.847535,8.820094,8.276794,8.698004,6.722143,8.009504,8.186311,13.952782,8.379904,6.7249875,7.810992,6.1271553,8.201143,8.762217,8.678858,7.2307334,7.8063574,7.520309,6.057703,8.455183,7.760925,6.823953,8.989252,7.215002,8.17508,7.832014,8.685983,7.407279,8.85801,8.81953,15.249554,6.398564,6.0371504,6.827816,8.520854,6.884065,8.706031,7.0112267,7.1430535,7.9713073,7.6298504,6.8241673,7.77388,7.471679,8.745744,14.123338,9.738074,7.17841,10.791736,7.056118,7.7188954,8.663236,9.258383,7.116091,12.461884,9.072373,7.0613546,8.235274,8.3589525,7.712806,7.7080984,10.420594,8.609971,8.098183,8.583415,7.6361685,9.171082,7.3388963,7.1368723,6.7429333,9.063841,6.458287,8.25353,12.582507,8.3700905,7.0684967,7.922288,8.730093,8.427125,8.188206,8.3342085,7.696853,6.733971,8.226147,7.673551,6.7238407,7.7367516,6.2122264,6.0328903,6.12667,8.462231,8.730137,6.438695,7.7057123,7.719817,6.273257,6.7077374,6.751829,7.625579,8.426016,8.380873,7.7933187,8.676013,6.9298453,7.7074437,8.502042,7.8249807,8.774703,8.256367,7.0086575,8.60409,7.0813236,6.798738,7.628491,7.2560344,11.520649,7.878586,6.3742166,7.910109,7.780888,8.355022,8.817479,6.706329,7.8101196,6.145467,7.965284,8.252595,6.785691,7.548825,7.6215906,8.484212,7.0910935,7.642942,7.119802,7.2602234,8.42084,6.857574,9.41636,7.1841927,8.9430895,8.246568,6.7038255,7.147024,11.408137,8.852214,8.875525,7.49343,7.7123227,8.088757,7.782429,7.758088,6.683236,8.331238,7.481077,6.7602735,8.658628,7.803886,7.6083517,6.7012253,7.206548,6.8292336,8.386315,8.266002,8.575992,8.804069,6.793356,7.178148,8.825122,6.638168,8.199184,8.992716,6.165687,6.7183084,8.34352,8.18324,7.804347,8.372108,6.7630215,11.948006,6.1761084,6.984408,8.766365,8.283286,9.747654,8.763602,8.404536,8.590627,7.739582,7.8804893,6.053459,7.791537,9.26152,8.007145,8.6319475,9.612216,8.499434,6.42668,8.832802,8.766219,7.469751,7.717595,8.955402,7.5893865,8.892047,7.841117,7.9194403,6.1324315,6.1251774,8.057877,8.040858,7.036798,8.965441,6.166454,7.8426585,7.656244,8.216905,7.1825614,8.746447,7.7491136,8.199429,7.7468963,6.5119367,7.943827,7.6699953,6.234821,6.7530184,7.723104,6.7438498,7.1812778,9.02285,9.661288,6.1438065,6.9030843,11.052624,8.811416,7.79959,8.551074,7.908026,8.32225,8.257708,8.128593,9.246135,7.6355815,7.8688254,8.770221,9.003777,9.125225,6.675025,6.7596436,6.676196,7.7417746,6.108902,7.47302,7.4538574,13.360607,7.0811253,12.276149,7.6695294,6.725453,6.0629597,7.5903106,8.472093,9.043021,6.3233094,6.816423,8.186636,6.7497177,6.8529453,7.003864,6.2164006,8.767933],\"xaxis\":\"x\",\"y\":[8.331566,7.1341343,6.3376617,7.765764,7.5402555,6.6650524,6.1272964,5.8395047,6.6028366,7.6059604,7.4548526,7.7747765,7.092687,6.844614,7.655848,7.361463,6.4468274,8.1507225,7.5603,6.6887617,7.309356,7.0779257,8.213082,7.317126,7.621013,7.572342,6.955906,7.4812474,7.0703306,6.3877306,5.8315983,7.1064234,7.2914586,6.3231297,7.007705,6.196184,5.934605,6.975745,6.8666377,8.216719,7.126793,6.2733603,6.229859,6.315038,7.7635336,6.2985296,6.6760106,7.6079564,8.275077,7.2343926,8.390805,8.369727,8.190862,8.170383,5.700363,6.06692,6.8455877,5.1265807,7.287732,7.8063197,6.959621,8.259548,7.4589624,6.856014,7.556951,6.026513,7.773295,6.9818044,7.2445827,6.227448,5.874895,8.390471,7.627098,8.054242,6.2796373,7.5116115,6.263729,8.040602,8.204479,5.464431,6.511672,6.360235,7.075048,7.0350275,6.61441,7.4792495,7.6547904,7.478593,7.1219826,6.6099567,6.8658066,7.112783,6.6228585,6.67858,7.586216,6.6727924,7.6390395,7.0184636,7.0254664,6.978875,7.1712904,7.482902,5.8593125,7.0148644,7.5932713,7.06322,7.2761073,6.9448504,6.415423,8.398654,6.690999,7.6799183,6.622535,6.6606493,7.0893207,5.905887,6.4787436,7.49448,7.8459544,6.6765895,7.1495395,6.906851,6.79385,6.99189,6.6400533,6.282059,6.926759,7.200148,6.9281297,7.7098475,6.2956805,7.724272,6.8949428,6.351197,8.313914,6.913002,6.6912484,6.414821,7.0668745,6.300382,6.7480307,8.283431,8.093708,7.7530828,6.6826215,8.090579,7.499305,6.9907875,6.1644278,7.6602745,6.6911607,5.828234,6.4886036,7.0787497,7.6271877,7.714743,6.6463356,7.673314,6.418205,6.870758,7.1404195,5.724325,8.204425,6.848328,6.2255445,7.0079775,6.668803,7.239858,7.7247224,6.7636433,6.6240153,6.383407,6.522781,6.9582586,6.624789,6.7233305,7.580487,5.7543616,6.795456,7.199385,6.2057247,7.1194453,5.858536,6.1738997,6.883671,6.2090945,6.0327125,7.7311344,7.6484895,6.782192,7.492612,5.972587,7.3755474,6.4406486,8.297079,6.8550534,8.357132,7.7557235,6.868341,7.927925,7.760386,7.849281,6.463682,6.3106284,7.713264,7.7049856,7.0973315,7.0223393,7.6887293,7.11615,6.264005,5.866548,7.173398,6.337254,7.8803678,7.9428988,7.211032,7.7850003,7.777074,7.179772,7.1244884,7.4359694,7.038225,7.0972133,8.542779,6.6574855,7.276167,7.0900097,7.0327454,6.300483,6.2995915,6.402212,6.9149404,7.0080643,7.773363,7.2431087,6.3705926,6.703258,7.0993953,8.233259,6.6025777,7.317807,6.6618137,7.935442,6.5600653,7.006641,6.3496804,6.2305136,7.189012,6.151825,7.871079,7.0561037,7.9353843,7.1409,6.8992834,7.2697763,7.73611,7.11421,7.514455,6.9029403,7.122813,5.9805293,8.069989,5.934189,6.878496,6.2455254,6.8451204,8.042197,6.7328506,8.289414,7.543592,8.014034,6.738699,8.2554,7.9243517,7.7322407,7.384289,6.6608424,6.7855225,6.9870195,7.2394247,7.7927127,7.088468,8.290784,6.9171324,6.2257113,7.7489705,7.1059356,7.7057905,7.2230034,7.152289,5.837632,5.6901546,7.070216,6.4554133,6.322281,7.1938825,7.5788856,7.1134944,7.0913577,6.495546,5.8663235,6.887893,6.210456,7.1088104,6.8394017,8.344934,5.7259784,7.571049,8.073228,8.320231,7.122633,5.8682723,6.4156656,6.1429315,7.504189,6.1531363,7.189674,6.890429,6.723762,7.135661,6.3785605,7.483225,8.012624,7.849638,6.58507,4.292848,6.8598833,6.299116,6.2297716,6.383242,6.7050295,8.176491,4.4969897,7.1128874,6.4107637,7.5243835,5.784831,6.30059,8.355264,6.254855,6.8500056,7.363268,7.570358,8.214308,6.2298126,4.677789,6.04266,6.5057464,6.4101253,6.926661,5.864651,7.5933886,7.355268,6.1272464,8.34369,6.342467,6.0719414,5.853774,7.32116,6.811437,6.9329166,7.9057674,6.13418,6.7265058,6.5177493,7.009897,6.7569566,7.128785,6.3310385,6.9765277,7.463927,6.280339,7.1166954,6.188373,6.876618,7.3993998,8.213478,6.667331,6.974443,5.8258953,6.980596,7.522086,6.935083,8.280066,7.4879065,6.141837,6.916995,6.8703513,6.812443,6.825694,7.7076735,7.884601,6.299076,7.8468924,7.8117495,6.6974506,7.827205,7.271756,6.5311475,5.946272,7.058598,7.281382,7.3079023,7.8960247,7.1096807,6.0644565,7.0717154,7.3294086,7.1461844,6.358263,6.8671484,6.6463017,6.4353037,6.6084986,5.9002104,6.390457,6.337534,7.093468,7.7940006,7.1598754,7.4562025,6.6981597,6.334887,6.805123,6.90002,6.5806794,6.675468,7.47232,8.166138,6.7728095,6.6441603,7.129268,6.7821383,5.81937,6.83256,8.020055,8.153984,7.927492,6.6380477,6.995878,6.717241,7.665729,7.661812,6.527525,6.2902064,8.060338,6.981016,8.333398,8.285847,6.8581243,6.758169,8.3327875,7.115531,7.732948,7.9034133,6.1434045,8.074943,6.990351,6.2206125,6.291349,6.8513374,8.13395,6.6844397,6.835027,7.61713,6.8795347,6.960217,7.730063,8.042083,5.6808305,6.8397946,7.229055,8.022999,5.1967683,5.758974,6.842242,6.8645887,8.358607,6.8182764,7.0373116,7.6675735,6.5300155,6.6303396,3.0809631,7.372307,7.773747,6.2544136,8.003535,7.103673,6.6260586,6.977747,7.7651963,7.227394,6.4012566,6.6103787,7.50297,7.6095767,7.893883,7.726057,7.721035,7.071792,6.18708,6.9725504,5.74185,6.062358,6.859965,7.100763,8.3528595,5.808895,7.3533735,8.082461,6.748723,7.1907287,7.7176175,8.173112,7.3598247,6.0364647,7.7500634,7.0960727,7.756075,6.823028,7.034882,6.906653,7.6274047,7.0392437,7.8465643,6.1845756,6.9351063,6.361608,7.210883,6.760282,7.084653,7.68162,7.601541,6.5578566,5.8997583,7.034178,6.5504174,6.751412,8.200831,6.939887,6.301597,4.5263414,7.5320606,6.5888433,6.234184,6.820917,6.2271376,8.083072,7.4764132,5.704803,7.085019,7.6240926,6.0623183,7.677018,6.7635627,6.706672,7.629911,6.717249,6.8173103,6.750877,5.9331155,7.853098,6.6750793,7.604586,6.4868393,4.97706,6.655425,7.923587,6.6737304,8.134369,7.8651414,6.2313957,7.943713,7.531347,7.1313033,6.2276406,8.259274,5.9605055,8.411616,6.695294,7.991893,6.2361565,7.1192336,8.075993,6.7243204,8.376851,7.620732,6.920941,7.8301797,8.414856,6.4203873,6.7673597,6.106695,5.94378,6.8053,7.303096,6.976314,6.0034447,7.7617216,7.427254,7.0760474,7.5595827,7.071071,7.0176706,6.5592003,7.3249764,8.044509,6.353659,6.7219834,6.802139,7.13506,6.947288,7.0360413,7.5677543,6.993565,7.231668,6.990419,7.1274414,7.7498555,7.2777886,7.597783,7.7461386,6.9949684,5.6832995,6.2033815,7.8782253,7.8834124,7.303751,6.829924,5.7552733,5.358884,6.3503923,7.8494787,5.954669,6.162746,6.310787,5.775826,6.3827014,7.4739323,6.764911,8.1891985,6.9996424,6.9151464,5.915945,7.498268,6.243838,4.956464,7.216694,7.0949326,6.083742,7.015076,6.803977,7.288447,7.0196033,8.416052,6.055685,6.1626215,7.01613,7.1382685,5.9036174,8.226887,7.450624,7.7546577,6.082422,6.887097,6.222653,7.797876,7.1662,6.2890263,6.32904,7.8362045,6.2471166,6.833281,7.03695,7.1067185,5.8373632,7.6837296,7.0168614,6.289101,6.305522,7.2317796,7.7981906,8.359282,7.9715595,6.398913,5.829512,6.382027,5.799631,8.173087,7.8509593,5.8476396,7.8121924,7.764083,5.998259,6.869635,6.2186084,6.9017367,7.2068424,7.9802084,7.2217407,4.904016,7.7221537,6.9167395,6.9969287,7.4893446,5.8688574,7.124431,8.371007,7.3610177,7.176746,6.5010943,7.0237064,8.40423,6.8631144,7.671819,7.408536,7.0272965,6.3502665,7.907926,7.333583,5.878617,7.6686163,5.912528,6.204321,6.85933,6.0119305,7.733226,6.747654,8.344879,6.699449,6.645354,7.0970902,6.2314644,6.835057,7.5555935,7.8372717,6.6421356,5.8733115,7.1394725,8.380399,6.379806,7.632506,7.0166645,8.287272,6.794424,8.449731,6.0932784,6.919427,6.761933,7.4635887,8.350745,6.6720657,7.490749,6.660506,6.729702,6.8564153,7.0396442,8.39157,7.168073,5.9525104,6.6844482,5.9015613,7.1441035,7.842934,6.8507714,8.227272,5.795792,6.1133204,6.307289,6.941055,7.1277905,6.0265827,6.2474585,7.5995398,7.0566287,7.2767286,8.401303,6.8347955,6.493684,5.8252378,6.600272,6.7445474,6.903452,7.536162,6.9660335,7.822003,5.7289968,6.931817,6.369242,7.69834,6.2571464,7.153397,6.806252,6.906078,6.0757694,6.211644,6.767598,7.065442,6.22729,6.3533874,6.937522,7.864101,6.8215594,7.7591524,7.0304365,7.6976385,6.388816,6.1451035,6.8777194,7.0257854,8.401815,6.278843,8.408402,6.1567283,8.104855,5.6904855,7.101255,6.4343953,8.755402,7.5815334,7.3703985,5.8955636,7.6224685,7.1373725,5.8783135,7.16305,6.397821,7.8535,6.600404,6.613991,8.154384,6.254396,8.24826,8.420084,8.193953,6.410527,7.088867,7.3731465,7.299489,6.3911805,6.195303,8.340358,7.112961,8.258683,7.113732,6.4312654,5.8153377,4.600536,6.809575,8.040622,5.9645553,8.406814,6.59352,6.6868453,7.1246095,5.767169],\"yaxis\":\"y\",\"type\":\"scattergl\"},{\"hovertemplate\":\"leiden=1\\u003cbr\\u003eUMAP-1=%{x}\\u003cbr\\u003eUMAP-2=%{y}\\u003cextra\\u003e\\u003c\\u002fextra\\u003e\",\"legendgroup\":\"1\",\"marker\":{\"color\":\"#E15F99\",\"symbol\":\"circle\",\"opacity\":0.5,\"size\":10},\"mode\":\"markers\",\"name\":\"1\",\"showlegend\":true,\"x\":[12.549725,14.6067505,14.073841,15.083957,13.434513,13.342144,14.518772,13.263736,15.051816,13.484281,13.535834,13.297161,14.788981,14.051155,14.18341,11.3831625,13.266707,13.019239,13.649656,13.956962,13.697792,14.940193,14.182264,13.5636835,13.7639885,13.71176,13.842042,12.26307,13.991224,13.924232,12.979999,14.0191345,13.980942,14.509244,13.79643,13.538031,13.1384,14.043829,14.737968,14.328727,14.657081,12.9439335,13.084961,14.010735,12.665278,14.965095,13.759715,13.31856,14.10545,14.678036,14.205662,13.795264,13.9428625,13.601286,14.209365,14.015027,14.263244,13.523938,13.201066,13.816812,13.649663,13.514516,13.587124,13.807133,14.116686,13.454674,13.945253,14.107067,14.509274,15.75312,13.596512,13.878533,14.680323,13.900079,14.384571,13.306715,13.297584,13.4211855,14.078998,11.673965,13.447155,12.533944,12.695656,14.613144,12.731843,13.5499735,13.700795,13.536596,13.058743,13.968683,13.886864,14.101962,13.687333,13.69701,13.6558275,13.853923,14.860604,15.012128,13.862044,14.03039,13.763982,14.613149,14.109937,13.608891,13.088685,14.237884,14.31957,13.21876,13.77653,13.157535,13.991136,15.049094,13.627835,14.082884,13.964045,13.120311,13.754098,13.599862,13.896299,13.247237,14.298942,13.441098,13.651141,13.444527,11.35816,13.252468,14.283708,14.43909,14.8766985,13.664833,13.611568,14.127886,13.37197,14.981212,13.4506235,13.613159,13.6615,13.153902,14.540832,13.328598,14.913395,13.702102,14.521351,9.240136,14.61952,14.196082,14.707925,15.067628,13.73498,13.569629,14.676995,14.476581,13.0202675,14.502111,12.274874,13.665173,12.861094,13.973259,13.448295,11.755942,14.376549,13.785311,13.897853,13.984457,14.056118,14.117183,13.225934,14.28905,13.286013,13.536451,13.755614,14.417277,14.658391,13.998868,13.299666,13.644578,13.560491,13.094315,14.81338,14.520771,14.19766,14.421566,12.6992655,14.2418585,13.717464,13.650731,15.028996,14.15357,11.813988,13.25383,13.86373,13.99488,13.875936,13.863956,14.605123,13.159982,13.838062,13.188013,13.4906225,13.50927,14.62378,14.334406,14.676292,9.185647,13.729209,12.994274,9.83614,13.497279,13.996823,14.231629,13.584215,14.041705,13.611305,13.441952,15.692388,13.967289,13.850082,14.409264,13.721378,13.722076,13.875015,14.683897,14.240369,14.665637,13.148133,13.661972,14.610132,13.5661745,14.084445,14.484752,13.63627,13.552325,13.771116,13.747149,12.811501,12.992277,14.222104,13.54524,13.389592,11.903532,14.887255,13.184907,13.152743,13.019371,13.2794,14.168157,14.971956,13.03183,13.672143,14.153507,13.966294,14.125903,13.964204,14.067333,14.010749,13.920712,13.626542,14.835944,13.542662,13.3613205,12.955704,14.442063,14.121436,12.580508,13.583823,14.082787,12.174471,14.050523,15.116238,14.017928,13.007113,13.4795,13.740545,14.72222,13.494313,11.507674,13.6298685,14.146848,13.865246,14.1359215,13.95326,14.387557,15.808859,13.229936,14.6557,13.4691515,12.94396,14.504133,14.54822,14.7429085,14.157936,14.207104,14.758794,14.8596735,13.48102,13.273377,14.098068,14.94675,14.678393,13.1665125,13.0736475,14.060605,13.332218,14.853485,13.080519,13.823795,13.419336,13.294612,13.3587265,13.78929,13.687856,13.596364,13.223826,13.703321,13.058679,14.032394,12.99744,14.982846,14.722033,14.245548,13.834511,14.463026,14.163462,13.133426,13.349252,14.305723,14.528867,13.631262,13.691746,14.38485,13.458398,13.531547,14.317802,12.534088,14.137953,13.515163,13.507722,13.84347,12.592614,13.232823,13.967441,12.025062,14.322198,13.73888,14.271718,13.448253,14.420694,14.986173,12.953394,15.764425,13.485262,13.36137,11.580917,13.734576,14.84629,14.078551,13.066,13.66337,13.451611,14.027711,14.106428,13.583288,11.550476,14.541688,13.924217,12.9244795,13.062243,14.773942,13.832252,13.2255945,14.925031,13.085856,15.009865,13.487443,13.415876,13.605887,13.495004,14.856934,11.416856,14.917511,12.659797,14.58889,12.245219,13.230026,13.50565,14.418617,13.852562,13.508001,13.798284,13.895076,13.508852,13.376583,15.763476,14.020417,14.195185,14.740502,12.325262,15.478261,9.276085,14.746969,13.729174,13.587477,13.765425,14.679695,14.073641,12.822305,13.803977,11.120492,13.283759,13.44431,13.858921,14.934042,13.667375,13.290044,14.279055,13.96409,13.524858,13.757039,11.297521,14.910977,14.017755,14.56234,12.862258,14.860179,13.810626,14.77197,13.823097,13.122467,12.579837,13.759103,13.459597,14.940502,13.218865,14.676448,14.113208,14.443202,13.652772,13.4604025,13.782578,13.772573,13.548375,13.073635,13.926368,12.728745,13.953279,14.379788,14.486353,13.898047,14.730315,13.047566,14.841515,14.303057,13.94407,14.102015,13.968672,13.194015,13.224257,14.925243,14.607516,13.642746,14.022615,14.234543,13.662748,12.621197,14.102423,13.922852,14.487307,14.288503,13.204167,14.921054,13.14766,12.626132,14.249551,13.924301,13.617862,13.696071,13.259154,13.0078125,15.041894,14.187049,15.667024,15.469712,15.792493,14.743782,12.828673,13.818101,13.489828,15.001938,13.839767,13.852144,13.620862,14.248023,13.521839,13.082397,13.979521,13.92364,13.999521,15.027289,13.505699,14.268292,13.103699,13.457619,13.263631,13.673095,13.268992,13.513261,13.948911,12.968697,11.844347,13.692278,13.941143,15.125933,13.335628,13.951844,14.057741,14.742741,14.582775,13.881046,13.882921,14.726847,13.219262,13.816578,13.55867,13.626608,11.967103,13.107109,13.679236,14.4136305,12.9719515,13.488848,14.138527,13.142457,14.017937,13.102125,14.794068,15.175819,13.941844,13.665533,13.731106,11.314423,14.497988,12.993974,14.280147,14.160294,13.13676,13.765801,14.777082,13.854355,14.846963,13.141163,13.569614,14.066716,13.749598,11.376561,13.738723,13.342943,14.185869,14.206645,14.009887,13.17644,13.297989,14.541757,12.494579,10.906625,12.015794,13.82272,14.193918,14.947137,13.772857,12.246468,13.894076,13.522541,13.435797,11.422023,13.853624,13.108379,14.241958,13.635471,13.870146,13.896167,13.565284,13.821812,13.605152,13.600985,13.169382,13.848418,13.219835,12.891514,14.458733,13.632987,13.75328,14.158276,14.162629,13.504402,14.462126,9.437245,13.751245,14.467749,14.255576,11.405524,14.159763,13.866151,14.9126625,11.575195,13.759278,13.401462,12.793704,14.424676,14.622681,13.413398,13.427258,12.678148,13.989154,13.880759,13.250043,14.080463,14.958901,12.94096,14.79825,14.369141,12.742676,14.755006,13.286345,13.601257,13.124608,13.727348,14.01277,14.801141,14.212291,13.810906,11.838744,13.88348,13.989772,13.470638,12.780243,12.412309,14.069816,13.226071,14.024818,13.56441,14.333379,14.053296,12.707255,14.316609,12.979098,13.79132,13.065869,13.756298,13.536338,14.018406,14.789583,13.020907,13.451759,12.496156,14.441353,11.315963,13.472385,13.788478,14.883203,12.762097,14.551153,13.678487,13.945843,13.6857195,14.872113,13.565493,14.2677765,14.313198,14.216835,14.414796,13.41864,14.587452,13.137809,14.977929,13.914364,13.783926,13.524881,12.516788,13.910042,14.087287,13.830048,14.255356,14.268111,13.731468,14.981024,13.421737,14.253297,11.457382,13.364486,13.49293,14.152478,14.099611,14.288337,14.573989,13.163551,12.830181,13.584379,13.893154,14.676451,13.644837,13.522302,14.961967,13.581961,13.695279,13.209433,14.148578,13.1376915,12.245442,13.746617,13.372777,13.778912,14.49839,12.323969,13.249588,15.242784,13.608048,13.559632,14.443903,12.90807,14.1303625,13.62336,14.290701,13.097827,13.307912,14.074763,13.653091,14.541009,14.137453,14.49498,13.947083,14.409547,14.327468,13.941751,14.524079,14.2263975,12.340539,12.539688,11.320935,14.98895,14.271728,12.643615,14.800264,14.069685,12.858717,14.503629,14.800241,13.971374,13.174499,13.482698,15.076895,13.79789,13.865925,14.039354,13.943337,13.820696,13.992778,13.300319,14.451476,13.661648,13.526359,13.993448,11.529677,14.169555,14.143273,14.26215,14.358013,13.256779,13.731895,13.931002,13.258981,13.194272,13.342652,14.140668,13.846075,14.648674,13.735497,13.548779,13.717263,15.672608,13.278991,12.947317,14.133266,14.679658,13.550441,14.016482,14.145937,12.692861,12.637513,14.086011,12.548425,13.907577,14.218362,13.593798,12.824609,13.760722,13.016096,14.347494,12.510446,13.496077,11.434054],\"xaxis\":\"x\",\"y\":[7.217058,7.1188636,6.8446164,7.253373,5.106717,6.5356216,6.150085,7.0057898,7.2544656,5.940491,7.2118783,5.7237363,4.695301,6.951553,6.334253,5.1538935,6.414605,7.08048,5.011683,7.2175703,6.916207,7.3075504,6.7979803,6.3850102,5.1258316,6.542499,6.6094723,6.575234,6.016983,5.8870206,6.4665675,7.372781,5.8884764,7.029884,5.8011036,5.31097,6.910503,6.301376,6.8732734,7.21205,6.8200045,6.495325,5.729865,6.2389894,6.367219,7.1183877,7.0407987,6.6391325,6.78387,7.0125484,7.5472355,6.210323,6.394838,6.173408,6.0916677,5.6862354,7.2000904,6.3303914,6.9602795,7.484598,7.3334184,5.1660166,7.172122,6.3740497,6.2504735,6.8529077,6.460638,7.4915805,6.3926635,5.541719,5.81076,6.575784,7.400018,7.1571536,7.359624,7.3773193,7.024905,5.4902987,7.541853,5.1798105,6.661019,3.2835932,6.7708125,7.0695457,6.935164,7.152736,6.0028777,6.9613543,6.148771,6.9809003,6.527934,7.0695877,5.7827635,6.7359257,6.779555,6.7885785,7.098749,7.2453346,6.5299506,7.383584,5.5768285,6.258911,6.814089,6.2635007,6.7555695,7.423624,6.8449903,7.1329374,6.668423,7.2464643,7.1097374,6.230537,5.5543203,7.039667,6.5983133,7.085797,6.31849,5.880831,7.085015,5.5237,6.4720345,6.5160494,6.1613774,6.516381,5.2152667,7.7870317,6.920195,7.550307,7.271367,6.234575,6.396456,7.584292,5.440643,6.07825,6.8928413,6.5611076,6.4927926,6.480746,6.439546,7.797843,6.6420774,6.053555,6.840414,4.5280905,7.351341,6.781117,7.4676013,6.161014,6.9515076,6.0717926,7.3120847,7.155583,6.9302936,7.199929,5.006012,6.5622163,6.8439536,6.30356,5.694536,5.2123146,6.7671943,7.482104,6.3894153,5.8963056,6.431481,7.1640673,5.8957953,7.3884416,6.6984043,7.4825983,6.9308004,7.494578,6.773199,5.3329363,7.002674,6.2899237,5.8746624,6.1639776,7.076008,7.622109,7.1954756,7.0552173,6.338788,6.571395,6.641364,6.95866,7.4435587,7.4613566,6.205951,6.682947,6.2496853,6.265577,6.617301,6.4744925,7.2604394,6.249959,7.535155,6.0979085,6.6717744,5.9138827,7.0881553,7.352196,6.470273,6.3460135,5.429118,6.939814,5.839178,6.634705,6.347615,7.5499754,7.292526,5.3649964,6.674239,6.648397,5.6863713,6.439975,7.1311264,5.937191,7.1365495,6.3313417,6.9138446,6.4676642,7.5515914,7.545315,7.38829,5.322437,7.127859,6.8523808,6.309235,7.173834,6.4994855,5.1071305,7.065583,6.3809886,7.0692925,6.777202,7.543413,5.765288,6.4330997,7.303805,7.3731,7.275216,7.597327,6.9986444,6.088133,7.1563888,7.215899,6.94312,6.2535596,7.722652,5.168054,4.163054,6.6570334,7.121503,6.7434435,6.992366,6.682885,6.5554285,5.242977,6.9811425,6.0265937,6.967928,6.751244,7.2518353,5.81383,6.7800975,7.3472643,6.9422603,6.2111874,7.2265983,5.948155,7.668826,7.1530876,6.7406,7.178797,5.056724,6.1818414,6.8148494,6.54199,7.2162294,5.821493,7.5345135,5.675786,6.821563,7.25284,5.9615765,5.9550714,6.967224,7.318535,7.4694204,7.249601,7.775856,6.3053308,6.368305,6.4775796,7.1977286,7.521225,7.302649,7.091806,7.1837897,7.4372225,7.615539,5.341936,6.4731226,7.0379963,7.5870614,6.826102,7.4699516,6.596467,7.2722898,6.396048,6.8131623,6.57268,6.1100035,6.904836,6.867282,5.3274536,7.3433394,7.4085674,7.6450086,7.565444,7.1555457,5.931424,6.3970356,7.259544,7.2710323,7.3429127,7.4762864,6.7117867,6.240582,6.275366,7.4980903,7.232751,6.8959937,6.435959,6.596328,7.471248,5.610867,6.6767297,5.9127946,6.454809,6.674742,6.8372893,5.812638,7.642184,6.3627434,7.2131696,6.091296,6.405272,5.6588473,6.563501,7.294629,5.3382,7.041191,6.7134967,7.527507,7.3270006,6.0241885,6.6922297,6.641069,7.236769,6.1091876,7.521288,6.298262,6.9050045,4.7992496,6.9650984,7.428363,7.3865995,6.7426586,7.495927,7.1545563,7.291189,6.273144,6.276357,6.833534,6.2152996,6.2417593,5.243806,7.3891,5.0947633,7.3688817,4.7455335,5.9342237,6.4690976,5.8985133,6.06756,6.5495567,6.2149463,6.0430675,7.28404,6.1604896,5.7342405,6.96864,7.293833,7.098222,5.4796395,5.683291,6.960623,5.506926,5.906008,5.7797685,7.0109386,7.0930595,6.2931256,7.3026543,6.1512833,5.164284,5.0893283,7.359287,6.5288258,7.18594,6.400835,6.9777193,6.666113,5.570767,7.1639442,4.9264946,5.0147257,6.5812163,5.965201,6.1508837,6.7734337,6.1204557,7.1790953,6.5408196,6.7685695,7.336907,6.956136,7.495937,6.952603,6.321547,6.5893226,7.492272,6.1314964,6.540106,6.786868,5.911624,6.2363424,7.0623684,7.5040526,6.2189946,6.864554,6.848818,6.695083,7.032765,6.2177258,5.8884196,6.462903,7.614895,7.4807463,6.630463,6.3382792,6.879146,6.7269297,7.7162323,7.7424445,7.5063834,5.689516,5.9555306,7.398649,6.9676366,5.39875,6.3983765,6.2170157,5.83132,7.5407047,7.4138317,6.646768,7.004522,6.314605,3.5481339,7.04742,7.380556,6.397633,5.844991,7.19273,6.3033247,7.419053,7.121335,5.71743,5.5966516,5.7018967,7.305949,6.619737,5.6744814,7.371576,7.4038477,7.1705894,5.9472246,5.680349,7.2895913,5.2607613,7.410091,6.7283626,7.4104567,6.0592127,6.6185827,6.479861,7.6622543,6.093218,6.0674486,5.300078,5.9804654,7.723155,6.1007724,6.6007423,6.6886835,5.046378,5.627119,5.8804965,7.2423096,6.6234055,7.2485085,7.189405,7.4379845,6.246723,7.3311367,6.0639567,7.230463,7.5642595,5.603992,5.9603825,6.672673,7.179149,6.856738,6.3892674,6.881059,6.4441853,7.6509147,6.962112,7.3615813,6.7755075,7.442866,7.489495,7.1386395,6.6534076,6.091671,6.0206656,5.0670567,6.0709286,6.5706716,6.895653,6.596653,7.40804,6.855657,5.704472,7.0537906,6.1757717,6.0059047,7.5420747,6.731398,6.735351,5.0989366,5.7729354,7.226581,6.8660407,7.6306987,5.768358,6.608781,6.948857,6.6616125,6.8360662,5.163109,6.52637,7.596002,6.3934393,7.427122,6.469551,5.3372436,5.5378256,5.207987,7.547298,5.430753,7.147958,6.2958775,6.955475,5.7098484,6.997768,6.206148,6.6347613,6.14782,6.090079,7.1835475,5.723115,6.373993,6.3263884,5.1084595,6.621707,6.643176,6.006418,5.77133,6.07258,6.403437,6.091045,4.4556212,7.2579846,7.046951,7.6795897,4.9989595,6.266151,6.2076664,7.505545,3.1225052,5.6333017,7.6995816,6.616567,7.566897,6.641462,6.190017,7.378822,4.5743213,6.5028462,5.635736,6.1120853,6.1684494,5.9058876,6.270095,6.744565,7.188376,7.051396,6.4439135,7.254613,6.9931564,7.4582086,6.000574,7.415044,5.9101415,7.07043,6.2137184,5.269253,7.136276,6.1676536,7.008415,7.3401914,7.2773876,6.1731963,7.0485535,7.400905,5.149535,7.526306,6.7673697,5.30934,7.4455285,6.79625,6.1692715,6.24554,5.5229697,6.3363824,7.293934,7.288434,7.0168853,7.393845,4.9487705,6.386312,5.2709436,6.0978413,6.4192977,4.0388503,6.679397,6.2439756,7.331429,7.080693,7.307799,7.303002,6.6237273,6.3983936,7.2667527,6.2846537,7.049529,6.6012115,6.705051,7.1430774,6.3777485,6.6282396,6.9409065,6.579663,6.5512524,6.748769,7.7105865,7.0053363,6.558061,7.1224504,5.9216523,7.455409,6.6148076,7.453023,4.9452286,5.978681,7.161046,5.789016,5.815816,7.2068458,7.597519,6.6438427,6.6228547,7.4277143,7.305207,7.524941,7.1081963,6.692118,6.23769,6.4997497,5.159768,6.8989444,6.5037785,6.2370877,5.879772,5.5936074,6.5854692,6.2010202,7.6275425,4.8000355,6.246353,6.9074593,7.2186594,6.075802,6.8586936,6.9112134,6.413963,5.8045936,6.4801693,6.4475,7.020458,5.2887306,6.904143,7.226312,6.180672,6.3721414,7.319205,6.602552,7.2841434,6.8349757,6.6899986,6.6309285,7.3174677,6.5482736,5.013751,7.024089,7.264938,4.715067,6.418824,6.729186,6.6818256,7.374027,5.785516,7.4746666,6.1992726,6.2423053,7.230785,6.5664854,5.848367,7.1856956,7.75656,5.2977133,6.2918253,6.248185,7.5627365,5.0133004,6.77746,6.709107,5.359229,7.2248197,6.6024127,7.616746,7.765122,7.0614448,5.4804363,5.755163,7.744468,5.5335155,4.89297,5.382245,6.676728,7.5480514,7.01267,6.928344,5.8187366,5.610948,6.238271,6.324694,6.107353,6.7323484,6.7608852,7.523647,6.73603,6.79685,6.903268,7.712668,7.1659408,6.3403683,6.357461,5.7383237,6.217305,6.502172,7.3666553,6.5209494,4.5282774,7.232042,5.094477],\"yaxis\":\"y\",\"type\":\"scattergl\"},{\"hovertemplate\":\"leiden=2\\u003cbr\\u003eUMAP-1=%{x}\\u003cbr\\u003eUMAP-2=%{y}\\u003cextra\\u003e\\u003c\\u002fextra\\u003e\",\"legendgroup\":\"2\",\"marker\":{\"color\":\"#1CA71C\",\"symbol\":\"circle\",\"opacity\":0.5,\"size\":10},\"mode\":\"markers\",\"name\":\"2\",\"showlegend\":true,\"x\":[13.226385,15.437781,14.236026,15.614564,14.9096365,15.063852,10.707632,12.49373,14.724276,15.177266,14.572368,14.883604,14.806316,14.784403,14.160557,15.168675,13.6252775,15.728776,14.484519,15.067377,15.081797,15.466973,15.212614,15.410406,15.335285,15.674878,11.994386,14.2905,15.425421,15.876683,14.336555,14.141224,15.274683,15.032341,15.33003,15.450091,14.453168,14.868735,14.3915,14.08887,14.629416,13.899307,14.834983,15.172997,14.157285,14.927388,15.023888,13.997348,14.753274,15.468769,10.700967,15.048031,14.802771,14.705961,15.057188,14.346495,15.379073,15.326018,15.836603,14.482887,15.738718,14.111122,14.632584,14.377047,15.133578,13.762083,15.253506,15.335605,14.485938,14.8022995,15.396781,14.595123,15.331528,15.1601925,14.793263,12.890726,15.553997,14.289607,15.019193,14.522415,15.6861315,14.203475,14.987279,15.229514,15.072114,15.169818,14.248527,14.422952,14.950506,14.237207,15.3896885,13.534044,15.582304,15.258945,14.650839,14.921129,15.181263,15.117411,14.197237,15.390749,14.890383,14.330838,14.598709,14.476293,15.1232195,15.3331375,14.712216,10.705842,15.073739,14.677801,15.048506,14.905974,10.792336,14.9179325,10.703805,15.308304,15.228892,14.146836,15.624071,14.553419,15.300612,15.458007,14.487683,14.198073,15.458378,14.643299,13.828235,15.246071,15.09135,14.719868,14.813318,14.240772,14.483058,14.712796,14.875155,14.582383,15.213788,12.484416,14.867438,12.395387,15.071997,13.763753,14.96663,14.484803,14.7027025,14.705481,14.550929,14.849786,15.054631,12.467083,15.225071,15.321178,15.422747,14.946142,15.193149,15.360091,13.643945,15.13443,14.013375,14.865322,14.267376,15.73529,14.750827,15.196899,15.236439,14.897064,14.916535,15.116014,15.061565,13.044472,15.28075,14.594489,15.266996,15.14903,14.607803,14.647972,15.569367,10.6645975,14.930223,10.888497,14.481972,14.873649,14.298557,15.1582985,14.402336,14.947842,14.408058,14.291391,15.357193,14.028911,14.18842,14.719892,14.195495,15.201763,14.3473,15.656007,14.228668,14.591726,14.66309,13.969155,15.140003,14.514959,15.201251,15.235814,14.323964,14.302501,13.678154,14.94731,14.258898,14.457682,15.221942,14.110183,15.382195,15.530637,14.29323,14.5889845,15.788836,15.0127535,14.830191,14.741407,15.021316,14.717335,13.816867,13.335155,14.197757,14.953499,14.093895,14.293709,15.038021,14.345037,10.83715,14.9556465,15.064694,15.586983,12.648517,15.490093,15.824597,15.275412,15.414705,15.281908,10.792455,15.171652,15.6842,15.221844,13.576219,14.010564,14.467753,15.011981,14.204714,14.666789,14.404355,14.57892,15.491665,15.367073,14.386433,15.8664055,14.970307,15.900783,14.984765,15.07114,15.482717,15.851165,14.9748745,14.32512,13.929755,14.18274,13.883419,14.548204,14.346098,14.965757,15.414502,15.120266,13.576397,14.440677,14.194615,14.707406,13.610441,14.038674,14.27181,15.492656,14.027519,14.8520155,13.869468,14.477636,11.127707,15.472847,14.918371,14.825528,14.760807,14.978285,14.199301,14.97336,13.984158,14.556223,15.406864,14.829838,15.193028,14.543632,15.116536,15.397452,14.513708,14.30836,14.39231,14.107802,14.803608,13.703883,14.046576,14.280831,14.549645,10.763008,15.281265,15.223232,15.716878,14.274387,15.162671,14.092844,14.868001,14.822892,14.661185,15.308483,15.305254,14.979442,15.313766,14.955637,14.042709,15.275493,14.917394,15.49146,14.323666,15.277277,14.335403,15.227847,12.521883,15.362508,14.821274,15.384628,14.9380045,15.543489,15.255357,15.096745,14.340584,14.110511,14.658621,14.511765,15.084164,15.90847,15.055135,14.802944,15.294473,14.792248,14.296565,14.55904,15.1097975,15.072766,13.931834,15.173521,14.858766,15.008246,15.1018305,14.873155,14.556185,13.984321,14.778929,15.306344,14.597503,10.835692,15.393036,15.237043,15.428567,14.984158,15.593634,13.05215,14.581516,14.700845,15.353693,14.218672,15.037408,15.626179,14.821194,15.3732395,15.663788,15.263081,14.505203,13.635322,14.564724,14.926894,14.639286,11.845255,14.150162,14.778789,15.25658,13.612278,13.468337,13.757513,14.362998,15.2507105,14.135485,14.335151,14.252121,13.839605,14.281116,14.663884,15.471159,15.529036,13.906559,14.028619,14.910558,15.333824,15.665312,15.057811,14.942662,14.210815,15.285973,14.443676,15.0044985,14.271345,15.5646105,14.426342,13.863288,14.818483,14.766277,15.199528,15.1418705,15.1384535,14.638596,14.852717,14.38845,14.971741,15.873354,15.004605,14.901523,14.630066,15.06814,14.07895,14.725156,14.230325,14.413913,14.471731,14.984629,14.427812,13.589796,14.425412,10.798821,15.0987015,13.93655,15.133839,15.247859,14.97984,15.185067,14.342098,13.42455,14.605885,15.5663,15.268294,14.627835,15.523136,14.485011,15.506852,13.767131,12.355731,15.211712,15.520611,15.820773,14.810973,15.306478,15.195341,14.915158,15.08706,15.217808,15.57995,15.407691,15.112301,14.72119,15.257467,14.065723,13.36932,14.950415,13.101719,14.892678,9.082565,15.065223,14.411838,12.314689,14.481625,14.733664,14.389423,14.630531,15.454259,15.240593,15.20208,14.8089695,15.216149,15.598699,10.976662,15.161814,14.610286,14.834853,15.113021,13.289435,15.592151,15.576994,15.752956,15.31039,15.028151,14.527195,14.95302,14.133741,14.6964035,15.706729,15.031022,14.312314,14.306508,14.727849,14.91865,15.320892,14.581351,14.892618,15.001813,15.305828,14.612444,14.043062,10.885643,15.492648,14.743127,15.587872,11.061393,15.190298,15.506179,14.485248,13.639836,13.341532,15.768937,15.605254,13.653823,15.263963,13.581343,14.841345,15.492968,14.888059,15.694297,14.919612,15.135385,14.806526,13.861655,14.534086,15.249825,13.850115,10.73387,15.296815,15.558519,13.898626,15.292918,10.885033,15.514922,10.985294,14.979465,14.81267,15.119728,13.228651,13.836766,14.36978,15.395548,15.103757,14.42078,13.823891,14.219809,14.909369,13.594011,13.703303,15.431515,15.641276,13.620437,14.89429,14.356185,14.796934,14.143333,14.922413,15.0742855,14.655355,14.79136,15.079779,15.053875,14.986743,15.220089,13.652262,15.141644,14.721581,14.927377,14.79566,10.650253,15.647547,14.677857,15.937555,14.959399,14.640055,15.437772,13.420423,14.64288,15.004304,15.19743,10.879041,15.884097,14.385682,14.605432,11.20185,14.709631,13.32509,14.060074,15.0025,15.070147,14.443537,14.646579,15.261953,15.582717,14.2199,14.882211,15.373806,14.846226,14.373147,12.148358,13.970814,14.059087,14.482564,14.878327,13.288091,15.022627,15.765238,14.303411,14.782893,14.546752,14.843374,15.098447,13.9548235,15.04818,15.392901,14.846786,15.069392,14.750724,14.814365,15.050027,15.051846,15.564053,15.097435,15.009544,14.7164,15.5580015,15.210364,14.688197,15.093023,12.050401,14.806799,14.967205,13.960276,14.205844,14.300476,15.402597,14.321532,13.9644575,14.082361,15.522443,14.126431,14.803833,14.422008,14.283661,13.885881,15.462105,14.893376,15.127907,15.034101,15.244588,15.362722],\"xaxis\":\"x\",\"y\":[5.154004,5.8591843,3.834591,5.672381,5.103628,7.105674,5.1413555,4.2422595,6.9025464,6.8798556,6.9058065,6.2461343,7.187075,6.326688,5.449875,7.0080347,5.816362,5.4102387,6.9803047,6.026379,7.3156557,6.4887824,7.091251,6.087431,6.2060637,5.460158,5.3429685,5.4788575,6.5410705,5.600403,5.493342,5.3999486,5.3268356,6.958559,6.584788,6.4401665,5.539414,6.1982307,5.0864577,5.287063,6.5009084,5.9628806,5.2653017,4.904133,5.9483128,5.851053,5.6101985,6.714401,6.6797953,6.632733,5.897383,6.751315,5.6598053,6.611943,6.562279,5.680749,5.58782,5.528163,5.6317124,5.5722604,5.610334,5.7410855,6.431094,6.2502155,6.4847326,5.9121113,6.16782,6.8170657,6.5705404,5.7808504,6.3888826,6.9231787,6.505469,6.6175957,5.273285,3.4770093,6.258161,6.578839,6.138534,5.789011,5.600048,5.98927,7.015884,6.496007,6.768364,5.658093,6.6109033,7.0615354,5.365109,6.1662583,6.171954,6.339588,6.57757,5.5954833,5.381957,6.1643167,6.312493,5.6958685,5.3542457,5.9939504,7.366204,6.4388394,6.801976,5.7677827,6.9392924,6.8901625,6.115118,4.8088484,5.7066503,6.6548476,6.1225734,5.988194,5.061564,7.053925,4.9531813,6.25765,6.3973303,7.2491765,6.3298864,6.150271,6.0866485,6.6126447,5.526762,5.761268,6.290237,5.715493,5.5212374,5.165588,5.3058486,6.2376847,5.6790156,5.7165537,6.8652577,5.7985563,5.7750316,5.3526583,5.7686353,4.866245,5.5280747,5.850138,5.7657275,4.1273065,5.4280634,5.9229155,5.7172723,6.3609166,6.358068,5.3231335,5.5451107,3.5054443,6.5904284,5.827042,5.145278,5.634544,6.465585,6.585041,5.5749083,6.912136,4.140055,5.6587024,6.0189276,5.414609,6.8478203,6.0015726,6.3755174,5.2852373,6.0293937,5.5762644,5.2643204,5.783285,6.1445875,5.9508467,5.47188,5.3683615,5.8194237,5.5745,6.432353,6.0832033,5.662079,4.9566455,6.54473,6.607786,5.451931,5.8139997,6.5249305,6.1062393,5.7950993,5.649184,5.883469,6.100029,5.827404,5.635315,5.348544,6.4156456,6.2920117,5.583514,4.393985,5.613306,6.4708853,5.508685,5.685767,6.921318,5.809873,5.6950984,6.161799,5.9945097,4.2313476,5.222425,6.1598477,5.594632,5.436477,4.1966605,6.7148237,6.6564436,5.9265103,6.305781,5.5809646,6.4302173,5.3670506,5.7576976,5.539279,6.203259,4.293552,6.134957,5.541952,6.5017276,6.432878,5.7690706,5.48955,6.7760386,5.0644703,5.632794,6.7360244,6.4821506,5.753231,6.1307483,5.551268,6.578227,6.9314866,5.421469,5.5732327,6.472884,5.653308,5.457042,5.7490373,5.429667,6.906799,7.0025067,5.3653016,6.5074143,5.2733097,6.204418,6.683341,5.232958,6.8138533,5.569299,6.895331,5.579304,6.043943,6.491198,6.429859,5.615778,5.454578,7.7096524,4.2305007,6.3935013,5.7937865,5.618426,5.725167,5.793183,5.7493916,6.843487,5.589101,6.957843,7.2149034,5.495492,7.017821,5.888114,5.7863746,5.9819884,5.324092,6.4772882,6.1290126,5.269741,4.772723,6.128679,6.9100018,6.396269,6.773377,5.5601716,6.3623505,6.0928817,4.247317,6.0998864,6.20891,5.5512586,5.5753703,6.094806,6.4692206,5.919879,5.4189296,6.638213,5.569537,5.844535,5.4207077,6.1200814,6.297876,5.799191,6.8291836,5.132122,6.2033043,7.1087637,5.468658,5.715906,6.3944397,6.057023,6.2524166,5.947574,6.2911882,6.0632563,6.485053,5.5241327,6.466778,7.161973,5.2213974,6.256495,5.7230897,6.5257387,5.9391603,5.482389,6.59432,5.854338,2.9532194,5.7078667,7.2560344,6.413525,6.1717873,6.4647164,5.6208405,6.675145,6.647742,5.2562,6.3306875,6.6100626,6.755138,5.5787907,7.2937346,7.2270546,6.3409023,5.2216244,6.466125,6.174609,6.461546,6.917027,4.262654,5.1022763,6.5988855,5.34929,5.6794453,7.003497,6.608752,6.092457,5.712271,5.8872833,5.553146,5.020654,6.8452954,5.3822837,5.251175,5.6370134,6.3293085,6.104675,6.230891,5.998029,5.7393346,4.211754,6.1255245,6.054837,5.17204,6.8540864,6.4633603,5.411655,5.8223042,4.6273465,5.668991,6.795695,5.6599703,7.353282,5.606437,5.857279,6.8448997,4.240893,5.802439,6.73509,7.220668,6.4147243,5.934457,5.7471485,5.737715,5.263052,6.4329033,6.571245,5.360262,6.4263887,4.6044097,5.168831,7.0068116,6.006292,6.436822,7.108457,5.720049,6.354888,5.5433955,6.522968,6.008614,6.695846,6.6129684,6.0433087,5.989139,5.37669,5.024336,6.7289963,5.618008,5.8992167,6.398793,5.4555936,5.6868615,5.5042677,5.59325,6.5903993,5.8660035,5.208289,6.927604,5.73453,6.840402,5.1859474,5.53488,5.826775,5.8171654,6.7238235,4.846681,5.6586494,5.089536,5.472504,4.628682,7.141471,6.871896,6.372037,5.755017,5.7287054,7.377926,5.438808,6.455818,5.3569746,6.331206,6.3991585,6.6024175,6.3724537,7.3785534,5.197146,5.55628,5.881544,5.4506836,5.314415,6.2683845,6.154747,5.70734,5.526341,7.060943,6.632649,6.4923887,6.188465,5.81302,6.2259793,6.7878165,7.2868648,5.792475,5.344157,5.5976796,6.8425746,5.234624,6.651159,3.054478,5.9341545,6.071486,6.1265244,6.5887694,6.7584577,7.2755165,5.1737723,6.1698046,6.3206635,6.5119987,5.1483073,6.4123826,6.7826266,7.2128,6.1122723,6.1264396,6.5118275,6.441889,5.6679773,5.822464,6.172245,5.653393,5.263235,6.254597,5.6335487,6.385868,5.728437,6.9585953,6.022522,6.3021436,5.952003,5.6508975,7.4754434,5.421791,7.1560183,5.2725387,6.5272145,6.6595182,6.03838,6.472921,6.0306034,6.3351326,4.97504,6.356074,6.621165,6.218658,6.7557473,5.932649,5.5997925,6.505306,5.546934,5.8586807,4.1962476,5.9955854,5.93693,6.2165236,6.2275715,5.404605,6.690616,6.5282426,5.7293305,6.363497,6.701446,5.6538563,4.918346,5.20863,6.243037,4.904767,5.866874,4.988628,6.2001395,4.461339,5.7178993,5.977651,5.457683,7.333388,6.5371614,5.631252,5.1766295,5.325225,5.8543825,5.6043477,4.203793,5.864284,5.6282244,4.1690307,5.0795574,6.4830437,6.8282967,6.024858,6.070341,7.167303,6.2963977,5.280294,7.200874,6.1540565,6.20348,6.2385535,7.0913286,6.2764697,6.742231,5.563812,5.993507,5.96413,5.767338,5.2337356,4.72495,6.1978803,6.5445,5.534331,5.86617,7.0446544,5.784577,3.9694886,4.7513604,5.7396903,5.55508,5.030481,5.5244474,5.696679,5.3732114,4.782195,5.9393234,7.478044,5.2375712,5.832017,5.71223,5.9012275,5.5040154,5.32478,6.3324323,5.3531895,6.1672106,6.20307,6.3106766,5.6852484,4.706013,5.647086,5.8689246,5.4701586,6.422065,5.801215,5.7407684,5.6572895,6.5344267,5.290981,6.622356,5.192673,5.34635,6.5683928,7.271181,5.101603,7.20012,6.209454,6.1583443,5.3674326,5.5385046,5.542437,5.7250786,5.216098,5.506112,6.11058,6.464262,6.8334155,5.388037,7.135317,5.3438673,5.153482,5.976001,4.3171782,6.25994,6.009024,5.2421575,6.2624235,5.948445,6.4163957,6.6919794,5.376943,5.5424747,5.7699776,5.8029876,5.6040826,6.7011337,7.1560354,5.348571,6.832919,5.865327,6.3637557],\"yaxis\":\"y\",\"type\":\"scattergl\"},{\"hovertemplate\":\"leiden=3\\u003cbr\\u003eUMAP-1=%{x}\\u003cbr\\u003eUMAP-2=%{y}\\u003cextra\\u003e\\u003c\\u002fextra\\u003e\",\"legendgroup\":\"3\",\"marker\":{\"color\":\"#FB0D0D\",\"symbol\":\"circle\",\"opacity\":0.5,\"size\":10},\"mode\":\"markers\",\"name\":\"3\",\"showlegend\":true,\"x\":[12.24983,12.010808,10.323161,10.913158,12.085794,11.910615,12.013701,10.629227,12.888039,11.886495,10.691869,12.020124,10.772995,10.602955,11.910469,10.974747,10.242747,11.997858,11.297061,10.439191,12.526624,12.033787,12.554643,10.534828,12.052374,11.715777,12.01382,12.026614,11.834335,12.11194,11.881401,10.622911,10.398188,13.020959,9.119343,9.748046,10.473339,13.247974,10.509135,9.417207,12.104451,10.975722,10.607483,12.022974,12.030126,10.936666,10.224417,11.217415,11.152556,11.43015,11.933289,11.536086,10.50446,10.300513,10.962438,12.219409,11.976249,11.18948,9.189582,11.240143,11.867811,10.102712,12.117821,9.130592,10.638588,11.574186,12.018033,10.272107,12.035142,10.372437,10.957787,11.178499,12.000358,10.584387,10.345469,12.260361,10.39051,15.185233,10.274528,12.0109215,10.591799,10.748932,10.630646,11.8024645,11.320423,11.965786,11.597681,12.166892,12.088668,12.228912,10.222081,10.918692,12.297745,11.040861,10.183544,12.591908,10.220904,10.194344,12.54796,10.339198,12.011291,11.240284,10.033325,10.294394,13.426977,10.361111,12.554756,11.424522,12.202937,10.788035,10.215589,10.382003,11.714239,11.615651,12.261963,12.342936,13.105308,10.522514,11.536882,10.588931,11.863102,10.856894,12.429598,12.1694975,12.442935,11.940369,10.237341,10.720858,10.533453,12.351607,12.362462,10.682008,12.267335,10.579788,11.190042,11.513505,10.503974,10.920587,10.495641,10.148003,10.420308,10.117756,10.541803,11.550734,12.017837,11.254981,11.8471775,12.361308,10.335281,12.024508,10.469512,10.628294,12.2143755,10.913908,10.543376,11.908258,10.663599,12.066743,11.0705185,13.858463,13.518897,10.618556,10.811319,10.666221,10.127826,9.180858,10.491086,10.559758,13.292229,10.465428,11.9724865,12.794093,10.796581,10.739971,10.747269,10.112835,10.281095,10.342608,12.137911,10.428718,11.136312,10.489867,12.134351,12.195005,10.370799,11.87659,10.939581,12.308704,10.520679,11.807792,12.704955,12.011433,11.930108,12.199086,10.82662,12.388955,12.15613,12.693977,12.059683,11.200373,11.831587,10.4334,11.905843,10.249835,9.53051,11.853938,12.027356,10.51423,10.79906,11.957908,12.338262,9.146737,11.853414,9.379989,12.09713,11.302214,10.501417,11.982893,11.307963,12.254123,12.013709,11.067427,11.897547,12.206206,11.838678,12.19892,10.241721,10.617373,11.523005,10.329512,11.554249,11.417345,11.247191,11.910838,11.873993,11.864244,12.325534,12.084455,12.202249,12.021008,11.961071,11.729368,11.7394085,10.047704,10.14432,10.484625,12.102819,10.453475,12.072488,12.877633,12.218745,12.177297,10.414486,11.9305315,11.563004,11.99623,10.286937,8.7755375,10.622882,10.214398,12.172056,12.19655,10.2898245,10.351371,10.45583,9.678917,10.625097,9.10177,11.849016,12.09648,12.165447,12.740124,12.3245125,11.043398,12.347081,12.468986,11.277667,11.217384,10.122696,10.275129,11.926558,10.509601,10.2327175,12.337976,12.340208,11.830974,12.430679,10.472521,13.124831,11.880577,10.585767,12.203902,10.450686,11.940136,10.132821,10.527183,12.067762,12.293342,10.751071,11.821851,12.133544,11.005305,10.819651,10.378172,12.661393,10.244365,11.310437,13.319532,12.350368,10.656695,10.873311,12.10729,9.472817,12.342841,12.074888,10.585252,11.989413,11.465394,12.475755,12.498347,11.501864,10.638674,11.950526,10.532667,10.196162,10.430073,10.832786,10.237019,12.58141,12.289238,10.271632,10.89054,11.993562,11.758205,10.3011675,12.336482,12.003194,11.123119,11.856974,12.420952,12.360296,11.927116,10.179948,10.282283,10.356157,11.81412,11.853548,12.361729,11.173666,12.026999,10.099746,10.279693,13.087833,11.799921,11.207291,9.130848,11.915133,10.644092,12.578112,13.049269,12.193265,10.585327,10.365916,10.224879,11.491265,10.536817,10.554806,10.61723,12.313791,10.208134,10.427985,12.138664,11.253958,9.487095,10.564043,9.4768505,12.083863,12.220377,11.692382,10.847108,13.152267,11.967092,11.916536,12.152504,10.701008,11.961559,11.626453,11.531017,10.587587,11.015322,10.742042,10.313159,10.797252,10.78143,11.098452,12.065453,11.997193,11.83016,11.228796,10.806442,11.397885,10.384332,10.8903,11.846867,12.385145,11.884732,12.140402,11.918802,12.30016,12.562432,12.135688,12.699537,10.538572,10.679419,10.430605,10.266298,10.196069,10.120387,10.142412,10.143802,12.020379,12.474259,10.436807,12.351828,12.0952215,10.159131,12.337372,12.054206,12.057921,12.222812,12.116153,10.207677,10.963735,10.546172,11.465554,10.265991,12.178137,11.499139,7.0206423,11.861284,12.022886,10.135345,10.610509,11.547028,11.076307,12.317838,11.96629,11.146411,11.767623,12.056565,12.307222,10.677995,11.227394,10.53853,11.484802,10.160444,10.981923,10.638753,11.184494,10.636534,11.175154,12.071975,11.993557,11.996929,12.443556,11.997318,10.410524,10.192244,9.273035,10.635982,10.414682,9.2836685,11.910681,11.415672,10.416485,12.277423,11.043819,10.158536,11.9170685,10.693407,11.240154,13.335967,12.015098,10.289468,11.984928,10.90415,11.976165,10.330273,12.013514,10.587328,10.324913,10.1157675,11.7576885,10.340707,11.934619,11.197945,11.999666,10.695374,9.110325,13.900383,10.240508,11.107442,14.797886,10.597935,9.456639,12.023237,12.255034,10.968796,11.993428,12.592677,10.213462,11.157964,11.3794,12.319979,12.56668,11.975218,10.753873,12.41063,12.5787115,11.847808,12.047576,10.1773205,11.266061,10.525598,11.690969,10.256131,12.082767,12.299252,12.116298,10.633871,10.296323,11.967091,13.317533,11.812772,10.618327,10.326909,10.2391615,11.480779,11.689956,11.932592,12.001903,11.953345,10.655624,10.431614,10.487508,10.215061,12.76742,10.408632,12.160162,10.670356,11.045728,11.991159,11.209494,11.879775,10.264737,11.151741,11.232767,12.247049,6.663158,10.613321,11.602289,10.931654,11.429947,10.2746935,10.902784,10.285296,12.058781,9.199224,15.088643,9.428866,10.666091,12.059282,12.539043,10.673249,10.458337,11.730366,11.153503,10.272272,12.266603,9.425007,12.122348,10.59651,12.144685,12.4986315,11.929438,10.714264,13.305196,10.240071,10.205164,11.489059,12.210417,10.758593,9.515498,11.357921,11.475716,10.649801,10.773476,11.742712,10.187077,10.243319,14.023194,7.7676296,11.600835,12.0197525,11.875998,9.128484,11.916366,11.17641,12.015245,11.055431,11.367659,10.509337,12.272457,12.006483,11.945233,13.204283,12.013068,12.026195,11.98183,12.824963,12.177058,10.314705,10.750971,10.12722,10.496389,10.220451,12.091249,10.900504,10.241309,9.11032,12.14858,10.996356,12.268779,10.943611,11.966263,10.607671,10.350678,9.382447,10.453676,12.042204,11.156691,10.792897,12.458602],\"xaxis\":\"x\",\"y\":[8.602475,4.897758,9.317095,6.6791563,8.830782,8.830999,8.912193,8.070932,7.3934913,8.82099,8.127835,8.507442,7.7671986,8.168631,8.936172,7.5942564,9.317693,8.920353,7.2491355,8.107632,8.478157,8.564003,7.396541,8.9591675,8.733385,5.4892516,7.619873,8.364591,8.525392,5.2535443,8.250492,8.131966,9.280403,7.5332294,8.266847,8.545705,8.194203,4.8262734,8.117803,7.84956,8.860712,9.244607,9.137069,8.809913,8.553248,8.167462,9.318707,8.744969,8.550509,9.318578,8.72025,4.8182335,8.049882,8.320095,8.214302,8.989965,7.4611793,8.980312,8.334096,8.024834,8.8823395,8.750654,5.058421,5.044827,9.110585,9.312544,8.541507,9.247327,8.424112,9.384342,8.057408,8.341027,8.822908,8.052443,9.15591,8.738273,9.296673,6.641435,9.231043,8.733903,8.179427,9.1554,9.292477,8.75157,6.7188644,8.670395,8.212729,5.1283927,5.4624367,8.796947,9.144399,8.077706,5.293447,8.251077,9.094118,7.8066697,8.423921,9.158438,4.8303995,9.254231,8.691906,5.3882623,8.788208,9.100469,5.702459,9.369545,7.582842,7.8447204,8.682942,8.130099,8.719296,9.238191,7.653439,5.1027923,8.677215,8.567271,6.624684,8.140525,9.312892,9.043522,9.051271,7.4456077,7.1005664,9.064298,8.228596,8.641345,9.310919,7.9139686,8.0187025,8.665249,8.651699,8.154814,7.0627275,8.085213,8.859404,8.797373,8.150941,7.4446015,9.336994,8.244489,9.149963,8.885504,7.9630075,9.325373,8.970769,8.451902,8.729394,8.487437,9.389101,8.982919,8.10643,9.298942,8.6122,8.006416,8.154323,8.881617,7.9860034,8.914923,8.394718,6.749009,5.543078,9.027298,7.603185,8.054843,8.376192,8.337651,8.152741,8.11202,7.747273,9.138006,8.973468,6.694856,7.6668644,7.820169,8.213626,8.812971,8.819729,9.157769,5.5259867,8.997065,7.7570486,8.121391,5.144768,7.6820383,8.2157,8.296605,7.986816,8.705214,8.069445,5.087249,7.435779,9.143808,7.685956,5.2428737,7.748122,8.689969,8.905713,6.9913483,8.431775,9.071261,6.7629676,8.24617,7.2904882,8.673188,8.412906,9.082323,8.625478,8.1092205,8.144349,9.070245,7.8979087,8.295534,8.312565,8.445551,8.448987,7.6473737,8.117368,8.555978,9.070214,8.902248,8.859633,7.6243677,8.696515,8.883317,6.1110954,8.790385,9.2032795,7.911909,9.34982,9.3511715,9.324378,8.240166,8.809158,8.547486,8.961861,5.231024,7.253997,5.3993425,7.428079,9.008157,8.700887,9.140262,8.4935465,8.230455,8.260488,8.091871,8.389845,8.095263,8.754163,7.608325,8.868328,8.55903,8.99638,7.3608823,9.305887,8.516171,9.230775,5.79601,7.930662,9.349797,8.870816,8.532726,9.215037,8.511446,8.139059,8.615142,7.868257,8.085531,9.098102,8.498419,8.950402,5.969376,8.690654,7.441245,8.536667,7.040886,7.9702964,9.185635,8.332305,9.213193,8.800817,8.162021,9.021955,6.782731,8.500465,9.035269,8.341196,9.43801,5.912973,8.261795,8.155893,5.599519,8.157583,7.21717,8.327381,8.144591,8.76758,8.81082,8.1947,5.9076524,8.413647,7.37292,8.143985,8.830121,7.329495,9.3139925,8.375242,7.608056,8.722575,8.104024,8.066184,8.691704,8.526291,8.231409,8.831879,7.8141756,8.706911,8.363944,6.2070174,7.4133453,9.349572,8.040123,8.886472,8.126901,9.074478,8.294671,7.950377,9.31966,7.2801514,8.7358885,8.878849,8.220045,8.636443,8.7423115,9.260185,8.119141,8.590452,8.800808,8.199042,8.689659,5.161349,7.3634152,9.056044,9.316318,7.9743357,8.01228,8.598447,4.928158,9.084725,8.422816,8.251023,5.5521936,7.403898,9.169001,8.387831,8.0467615,8.981162,9.147988,7.0469465,5.999962,8.937573,8.079488,8.941606,8.9619875,8.69422,9.114256,8.145666,8.029801,5.3137336,9.019844,9.151953,6.515758,8.949003,8.435464,8.085889,8.459598,5.351409,8.798459,6.371183,8.0086155,6.892146,8.555858,9.053536,8.976029,7.13032,9.006411,7.548597,9.326987,9.260544,8.27011,8.083387,9.238719,7.759168,9.138019,9.013299,8.421421,8.455099,8.924119,8.395493,7.9281464,4.716662,9.252732,9.208524,8.680559,8.626812,8.316941,8.446759,8.230131,8.954668,6.7589474,8.897993,7.315808,9.22305,9.120454,9.3190365,9.049569,8.519503,8.0750065,8.903791,8.63761,8.952677,7.48967,9.258957,8.745249,8.803008,9.192833,6.4853873,8.985673,8.534443,8.637623,8.635111,9.051843,7.447385,9.150375,8.317648,8.753296,8.670829,9.350402,8.32793,8.566818,8.958971,8.433042,8.150272,7.623509,8.397263,8.62818,8.488334,7.301426,8.332432,8.781958,7.886168,7.9336,9.057539,7.877054,8.452358,7.8169217,8.226485,7.826551,7.930956,8.0496,7.929382,5.274737,8.471782,5.1404214,8.555439,8.760373,9.327289,8.489062,7.786955,8.01217,9.124378,6.4991064,8.649305,7.058571,8.184804,8.873336,9.281265,8.963078,8.597925,9.2740965,6.3230543,6.422941,8.661646,9.40225,8.461425,7.7662506,8.986414,9.138316,8.71275,8.022688,8.149245,8.366723,9.197994,8.829258,8.166435,5.257087,8.6414795,8.239942,8.192173,7.6865835,9.191023,8.154426,6.767528,8.127658,8.513602,8.622347,8.678943,8.150916,8.56269,7.713594,9.006571,8.284583,7.8200407,7.1695414,7.4144893,8.614608,8.022225,4.9792595,2.9836707,6.3428698,7.3663225,9.218819,4.0451555,8.176993,8.142814,9.2426605,5.1973977,8.724218,8.980882,7.874281,9.287341,7.5732055,5.4445624,8.633343,8.167332,9.319914,9.268311,9.308884,8.852107,8.655554,9.079304,8.434873,8.133902,8.582172,8.158828,8.7941265,7.3936872,8.488977,8.922052,7.94993,8.379168,8.925392,8.858535,8.89727,9.277153,7.962259,8.312285,8.883381,7.5092134,9.243862,7.4330425,8.252212,9.335091,9.199027,7.615423,9.22274,8.6474495,6.588718,5.2101164,8.462954,8.992658,8.970791,7.4887924,9.180274,8.570238,8.853547,8.458372,8.295128,8.912863,8.5139885,6.5470643,8.059691,8.830381,8.466657,7.354412,7.9722266,6.897336,9.310811,9.360572,9.36069,7.984938,8.599531,8.381923,8.150256,9.3728075,8.131549,8.141775,9.243267,8.504237,9.304539,5.490962,6.258362,9.303972,4.3113847,7.9000664,8.284934,8.70354,8.8340845,8.4292145,7.625169,8.312773,8.188452,8.791653,8.705789,7.634618,7.7110972,8.441846,8.478519,8.83607,7.1115017,8.946629,9.361916,7.260876,8.341748,8.166248,9.146462,8.819608,8.203823,8.487498,8.268179,8.913302,8.171549,8.6621,8.154959,9.005695,9.017292,7.921439,8.478391,9.19283,8.655624,7.8519278,9.17304,7.096919],\"yaxis\":\"y\",\"type\":\"scattergl\"},{\"hovertemplate\":\"leiden=4\\u003cbr\\u003eUMAP-1=%{x}\\u003cbr\\u003eUMAP-2=%{y}\\u003cextra\\u003e\\u003c\\u002fextra\\u003e\",\"legendgroup\":\"4\",\"marker\":{\"color\":\"#DA16FF\",\"symbol\":\"circle\",\"opacity\":0.5,\"size\":10},\"mode\":\"markers\",\"name\":\"4\",\"showlegend\":true,\"x\":[11.989316,13.153374,12.1178465,13.242128,12.66595,11.83667,12.113619,12.857211,12.732513,12.628665,13.01427,12.575469,11.788743,12.856162,12.984014,12.570505,12.073675,11.891549,12.592278,12.844323,12.481663,12.173813,12.169978,12.337137,11.918287,12.546777,12.338255,12.523744,12.022929,12.122139,12.843338,12.135833,13.287135,13.208124,13.275294,10.8153715,12.227845,12.772311,11.89983,12.551226,11.97483,11.613572,12.337897,15.044299,11.921126,12.347025,11.391941,9.900238,11.395818,11.943988,13.3398075,9.531527,11.882334,12.471266,9.686587,9.652432,11.996423,11.868056,12.5730915,14.952293,12.32636,12.415593,13.062726,12.70059,11.884964,11.8565855,9.673195,12.976213,12.226587,12.573769,12.3259535,12.784593,12.6091795,12.165776,12.508261,12.569392,14.892442,13.253697,9.477105,12.700177,13.44301,12.542164,11.950151,12.522314,13.694122,11.917296,12.938154,12.36482,12.208067,12.169653,13.098471,12.700266,12.147771,11.846708,13.017007,12.8246975,12.73338,12.795065,12.7570095,11.734681,12.957441,13.008844,12.793867,11.916675,12.357284,12.082576,12.1335335,12.38329,11.912875,12.75534,12.286423,12.852347,9.600791,11.911945,11.919164,12.164704,12.260018,12.6371,12.906674,12.613356,12.063546,9.738875,13.680492,12.713157,9.695048,11.621339,12.470191,12.854528,12.850208,12.690225,9.355121,12.752402,12.617229,12.488605,12.193328,11.88422,11.955048,12.791517,12.276251,9.588002,11.727265,11.804101,12.26274,12.192641,12.623629,15.384895,13.281672,12.605087,12.961962,12.853453,11.735761,11.688493,12.812713,11.957749,12.774006,13.395273,12.858236,11.720279,11.600128,12.600221,12.214545,11.86395,11.999559,13.004223,11.845431,9.400147,12.725968,13.174365,11.636765,10.579872,14.771875,11.645762,12.23585,12.233506,13.149498,12.645842,12.155932,9.757516,11.869263,12.811577,12.610946,12.908423,11.688903,11.839445,11.407142,12.500802,11.749591,12.87056,12.720001,10.2937765,12.36491,12.330288,12.09769,11.352427,12.501832,11.10494,12.303188,12.57946,12.2752075,14.380721,11.899606,12.61675,9.497876,12.778545,12.861975,12.636268,12.765768,11.843282,12.560671,9.732846,12.044558,11.788641,12.580786,12.4610615,11.799907,11.803739,12.046263,12.053174,12.220749,12.705666,12.434707,12.730115,12.964837,11.892489,12.462657,12.113094,12.707465,12.526599,13.271474,9.8908415,9.408148,11.652283,13.426443,11.859744,12.888836,9.674896,10.670691,12.301034,11.612319,11.135259,8.760359,11.52711,11.726281,12.967235,13.638822,13.238162,11.829132,13.012497,11.488937,11.932664,9.745253,13.172405,12.491267,12.1487665,12.737602,9.612439,12.807268,12.205577,12.628712,12.906855,12.582942,11.273564,13.5840025,12.075192,12.818814,14.4105625,12.315021,13.068084,11.8644495,13.237727,9.435332,12.8348055,11.93466,11.996707,14.052922,12.13811,11.799354,11.586503,12.06049,12.086259,12.592259,14.170449,12.490448,12.757108,13.876581,12.551286,13.802327,12.599772,12.015371,12.572526,9.47957,12.281445,11.96333,11.948974,12.714464,13.133063,12.579115,11.824054,12.439631,13.069162,12.836983,12.827787,9.56959,12.116635,13.026103,9.623649,12.215825,12.194874,13.299858,12.049437,9.631794,12.568825,12.774673,9.670063,11.8379,13.376071,12.124591,12.578126,11.598729,13.004853,12.920186,12.11685,12.523815,12.248851,13.409578,14.842884,13.295378,12.239074,12.225012,11.88437,12.631862,12.05191,12.617786,12.574419,11.965786,9.254772,11.442175,11.87241,13.2545395,12.608768,11.980857,12.645445,12.168144,11.276317,12.9608965,12.880482,12.288441,12.891641,12.171633,11.839286,12.559921,12.616435,12.096026,9.630931,11.715547,11.087268,12.594275,12.563876,13.338516,11.843132,12.700324,12.113252,12.27493,12.085817,11.461228,13.012269,11.648984,11.859685,9.849898,12.062446,12.673882,9.643028,12.108409,12.045328,13.132746,9.754313,12.252166,12.680435,12.715193,12.204547,12.752913,12.163616,12.746916,12.966065,11.580884,11.772627,12.235465,12.351129,9.848928,13.025301,12.98266,12.53061,11.878352,11.595388,11.717236,11.610765,12.616886,11.902157,12.317266,13.646556,11.880158,12.452738,14.774727,11.867546,13.045446,11.905438,12.174515,12.346288,12.391939,12.122261,9.246677,12.495684,12.381757,12.768437,12.463036,13.035745,9.814677,12.192141,12.396802,14.781606,13.184304,11.94243,12.0997715,12.362942,14.570827,11.943001,11.798985,11.233195,12.450123,12.315602,11.716093,9.818467,12.268808,12.202607,12.803779,12.85075,11.757931,12.156648,12.186846,11.838387,13.130416,9.708897,12.956371,12.0840225,12.546806,11.860292,12.60186,12.9904175,13.0391,12.614873,12.8305,12.014691,12.602802,12.199665,12.551442,11.824123,12.619578,12.399,11.625398,12.195673,12.597521,12.790517,12.922153,13.107404,11.313653,9.717291,12.864013,11.81267,11.466263,11.748735,12.553448,12.105394,12.400968,14.358449,11.854134,12.055434,13.112767,12.431391,15.387418,11.906338,9.544512,11.60699,11.879184,12.26445,13.216688,12.400108,12.775197,12.28863,11.84873,12.061464,12.627357,11.536427,12.163621,12.2018795,11.166483,11.693285,13.128392,12.356162,12.519726,12.011296,12.219205,11.9872055,13.786229,12.818944,12.438005,12.9425335,11.884272,12.513777,12.15482,12.162943,13.400019,13.678902,12.989198,12.287753,12.2049265,12.698032,11.613292,12.358004,11.948215,12.746874,12.109137,12.067826,12.313261,12.010002,12.348235,12.648513,12.736427,12.82424,12.3116865,11.928761,12.754587,12.79287,12.652077,12.117726,12.045292,11.905167,12.607519,11.839454,12.65158,10.515598,9.861979,11.459598,12.560111,12.452399,12.496094,13.690518,12.625698,12.129538,12.075658,12.695418,11.623469,13.205815,14.858825,9.48123,11.73249,12.021579,12.919054,11.647457,11.764393,12.414851,12.634069,12.524649,12.545645,11.781241,11.905756,12.013412,13.804533,11.644214,11.294462,11.818375,12.806047],\"xaxis\":\"x\",\"y\":[4.359074,5.486944,6.598601,4.8364143,4.9566627,6.216252,6.609946,5.393076,6.0457644,5.999055,5.829018,5.5174866,5.817285,5.6259527,5.556405,5.5693946,6.1698236,4.04672,5.527096,5.378177,5.6067514,6.619525,5.584838,6.2702537,5.9161243,6.2035866,6.1500034,6.3103228,6.0815687,5.646902,5.686667,6.462755,4.5715017,5.500215,5.945184,5.173351,6.037148,6.095312,5.9639573,6.355718,6.848381,5.53111,5.5088005,6.5291047,6.879562,5.9651546,6.144707,7.188147,5.84828,6.838426,5.8370514,7.3099885,6.9338865,5.3090353,7.2372007,7.236099,5.9191313,5.7078533,5.457315,6.269634,6.6175756,5.868823,5.583169,5.7326226,5.8988175,5.919384,7.193737,5.879738,6.265192,5.7078547,4.8128166,5.3757586,5.1238866,5.765758,6.161036,5.0518875,5.4947643,5.635357,7.3213053,6.0149465,5.7856035,6.537221,6.6126156,6.742956,5.0618196,5.936453,5.7895093,6.5973,6.287647,5.934058,4.978274,6.477369,5.981272,5.9576035,5.2845974,5.826171,5.9958277,5.835293,5.266862,5.272006,6.3267007,6.262681,6.0245876,4.800968,6.2344265,5.791742,6.082771,5.7593446,6.7943196,6.2602725,5.709008,5.677539,7.269989,6.7324266,5.9160633,6.239084,6.1290555,5.860251,5.4720993,6.2151675,6.6400394,7.204065,6.04511,6.0352707,7.219433,5.5632887,6.2889433,5.666426,6.3640404,5.7923293,7.289622,6.040992,6.3673916,6.4134865,4.8752832,5.889938,5.638452,5.297652,6.0169654,7.189165,5.8756638,5.7716017,6.0256248,6.7311606,6.2976427,3.707764,5.1769385,5.643658,4.6945577,5.6594186,6.150637,4.5723596,6.061164,6.82636,5.163633,6.330697,5.8469787,4.8536863,5.5937614,5.898098,6.291733,5.7329383,6.1950006,5.6340775,3.6602356,7.067887,5.489574,5.3582025,5.927394,9.030619,4.838544,6.2029347,4.956877,5.8495007,5.5898943,5.739569,5.453541,7.162754,6.9404655,5.6232944,4.9745407,6.276907,5.1956596,5.94959,5.6378837,5.8793955,5.9380975,5.4587426,5.788796,8.569478,6.457358,5.199753,6.129133,5.7075005,5.9882307,5.318102,5.4332275,6.4096265,5.7515492,4.18736,6.9052615,5.358546,7.19148,5.777694,5.4598656,6.243939,4.7920103,5.9451146,6.4525876,7.2432957,5.867593,5.85614,5.5022225,6.1280437,6.2345314,6.444475,6.8611846,6.236141,5.7711263,6.2699857,5.468115,5.381399,5.2588115,7.0284,5.055541,6.1005216,5.4924974,5.329392,6.2430177,7.179012,7.3500075,6.053559,5.4921827,5.8720074,5.4650383,7.2329926,7.610109,4.921856,5.4764943,6.050723,6.790423,4.639276,5.512331,6.2175126,4.5303283,5.3963904,5.46951,7.340992,5.268704,5.9475746,7.1607504,6.379368,5.7562623,5.8962455,6.005319,7.263309,5.484429,6.413523,5.2422895,5.717002,5.8599305,5.870203,5.965911,6.0046163,6.3044844,5.184344,5.9243326,5.8672795,6.937745,6.27885,7.138759,5.403929,6.831889,5.370734,5.548956,5.794113,5.378618,5.489013,4.6565585,5.8221188,6.496926,5.349954,5.107164,5.9087806,5.3915515,6.169393,5.4103913,5.9840355,6.784453,6.4474235,7.316667,5.937833,6.0879745,5.1125946,5.4733562,5.9089713,5.557645,5.991147,5.819671,6.166097,5.6484275,6.135736,6.404344,6.3159585,5.672857,7.2346435,5.565609,6.147624,4.698569,6.6881695,7.4705534,6.511173,4.9089127,7.0795655,7.031754,6.436451,5.7151685,5.7015333,5.504234,5.7356195,6.3609595,6.3849807,4.8475842,4.932265,6.663699,6.5929046,5.533719,3.6976418,5.630102,6.9522734,5.7496476,6.121869,5.464532,5.4722056,6.017511,6.151279,6.2506204,6.0119076,5.726452,6.2431135,5.713918,6.070364,6.552978,6.0750527,4.8264213,6.318017,5.805441,5.2638326,5.218368,6.913384,5.9938636,6.1369424,6.002212,7.24464,6.089803,5.5038376,5.32088,5.3798513,5.177476,5.065201,5.9915876,5.8181114,6.3953347,5.927421,5.565441,6.2169175,5.881908,3.8511293,7.22069,5.180116,5.5624833,7.235516,6.0388365,5.6902356,5.167032,7.273581,6.626296,5.38197,5.8987675,6.585987,5.4697504,6.050286,6.0499535,5.6254444,5.3700204,6.249303,5.936647,6.356952,7.1780987,5.8841796,5.710273,4.8187,5.7856092,5.496032,5.9852943,5.7922254,6.8347383,5.6906276,5.6888742,6.050012,5.4840245,5.6381383,5.5615263,5.95529,6.098012,3.5236685,6.513302,6.0896697,5.7864714,3.6271563,4.10391,5.0049133,5.8556237,5.5455637,5.8986936,5.571092,7.106994,6.4557667,6.539022,6.572618,5.617931,3.7118,6.007766,5.5486813,6.522491,5.9752154,5.9129534,5.413612,6.483886,5.5249357,6.0451283,7.1129475,5.6928325,7.0147023,6.391151,5.978252,5.502886,5.6817865,6.5142145,6.1902747,5.0929127,7.223338,5.622801,6.0080814,6.1888456,5.9726663,5.2741733,4.975598,4.80661,5.682748,5.553953,5.9260077,6.3233356,5.881709,5.4997134,6.080766,6.028873,5.4735017,5.428878,5.6117086,5.6834774,6.2681165,6.1485095,5.542812,5.386272,7.096623,5.438079,5.8215036,6.2556043,5.993081,6.2294846,5.339237,5.274524,5.323106,6.917519,5.2412367,6.167301,6.092085,6.9792767,6.9168444,7.489526,5.984782,6.8955235,6.253311,6.3163605,4.9062257,5.962009,5.539135,5.6655264,6.6746097,6.771563,4.0048485,6.334301,6.3793254,5.7366185,6.041102,5.486609,5.8714075,6.7814455,6.1774507,5.102867,6.699548,4.459814,6.0721006,6.1636667,5.8106704,5.0966983,5.942102,5.6218214,6.2742567,6.1885004,7.4965453,5.9973855,6.4146757,5.7876263,6.765574,6.1516304,5.219202,6.834898,5.5302935,6.049014,6.083986,5.439923,4.187845,6.480265,5.8248606,6.7017803,6.499063,5.46995,5.7902713,5.899423,5.512014,6.3122435,5.612906,6.0538254,5.946416,4.9990673,6.1171384,6.4357367,9.004661,7.1994176,8.673163,6.2848043,5.0413547,5.4183016,5.2686663,6.819147,6.031906,6.1306286,5.892257,5.2129045,6.2148323,6.4397473,7.2743535,5.9706244,6.725165,5.2930593,6.0513396,5.824784,6.285742,5.270514,5.4161716,5.798763,5.6038475,5.398595,5.7880936,5.8474975,5.867168,5.421767,5.3655086,6.578578],\"yaxis\":\"y\",\"type\":\"scattergl\"},{\"hovertemplate\":\"leiden=5\\u003cbr\\u003eUMAP-1=%{x}\\u003cbr\\u003eUMAP-2=%{y}\\u003cextra\\u003e\\u003c\\u002fextra\\u003e\",\"legendgroup\":\"5\",\"marker\":{\"color\":\"#222A2A\",\"symbol\":\"circle\",\"opacity\":0.5,\"size\":10},\"mode\":\"markers\",\"name\":\"5\",\"showlegend\":true,\"x\":[12.131238,12.225485,11.944475,11.930802,12.480109,12.841326,11.86638,11.243111,11.896735,11.802609,13.381428,12.135676,11.355736,12.178151,11.996558,11.847185,12.117533,12.677122,12.385904,11.495627,12.339543,11.834861,12.154286,11.966541,11.862671,11.093179,11.900898,12.303988,11.834703,12.12518,12.168507,11.443247,12.203904,11.832295,12.8263035,11.512075,12.025727,11.242288,12.2709255,11.406451,12.621185,11.7570505,12.535721,12.199674,12.303775,12.008201,12.522262,12.209152,12.081395,12.210703,12.795698,12.026645,10.64201,11.896496,12.664191,12.077526,12.212784,12.359872,12.796462,12.475404,12.607003,11.998383,11.644538,11.919959,12.364563,12.0944,12.762384,12.199047,12.463618,11.861171,12.381904,11.858682,12.279654,11.818267,12.279784,12.945278,9.162037,11.721108,11.948095,11.689565,11.894681,12.204873,12.06906,11.692784,11.999846,12.0168495,11.451999,12.181473,12.453172,11.548566,12.532773,11.841613,12.118085,11.453224,11.256187,12.325059,11.547963,12.482092,12.104597,12.14549,12.226949,11.94743,11.326094,12.886585,12.355383,12.415437,12.332709,12.36017,11.889423,12.479834,11.809149,11.599373,12.116954,12.332644,12.587953,11.948666,12.570622,12.0884,12.008853,12.333958,12.036106,12.764532,11.625891,12.125762,12.570554,12.623369,11.7549515,12.746619,11.718682,12.747314,11.18801,12.128295,12.085291,12.288568,11.879517,14.863663,11.660418,11.809257,11.929259,11.92448,12.360344,12.080389,11.190536,12.3305,12.035263,12.391658,12.487983,11.702185,11.959025,12.111962,12.201612,12.069936,11.278326,12.429924,12.35192,12.691735,11.680013,12.17203,12.782704,12.690604,11.839947,11.94517,13.377941,12.178913,12.2849045,12.006862,11.949942,12.923886,12.319597,11.653581,12.266589,11.312755,11.829241,12.022504,11.510492,12.211158,12.303198,12.413861,11.070322,11.3481045,11.9946995,12.135964,10.775095,12.05568,12.793316,12.000512,11.992653,12.372978,12.378889,12.131239,12.452479,12.532063,12.214688,12.162643,11.294575,11.903532,12.394586,12.041963,13.061233,13.277926,11.309126,12.312259,11.430522,12.053374,12.5773535,11.749579,12.197484,11.998171,11.524691,11.951705,12.649283,12.637975,12.191851,10.860475,12.439417,11.27321,13.131678,12.38726,12.767712,11.894851,12.758703,12.202483,11.720425,11.98533,12.684862,11.989229,11.850626,13.570644,11.607932,11.964544,12.288996,11.979796,11.631996,12.78914,13.0285635,9.701555,11.538214,12.195279,11.963766,13.004478,11.59619,12.502441,12.228342,11.350405,11.648306,11.589448,12.3932705,11.9566965,12.47641,12.07523,12.085326,12.226685,12.336636,12.121002,12.25232,12.758459,12.115145,11.722368,12.190397,12.800589,12.036555,13.829056,12.130557,11.281394,11.288312,12.512919,12.97991,11.821465,12.591809,12.302931,12.065769,12.418416,11.590774,12.274118,12.497917,13.829895,12.18945,12.047418,12.267938,12.953507,12.7270155,12.391235,11.943832,12.350219,12.3657465,12.057199,12.1189375,11.560015,11.923428,12.610232,11.68972,12.952696,11.772594,12.333941,12.0183935,12.151422,11.952402,12.394665,12.26592,13.350927,12.101127,11.955939,12.352908,11.912814,12.386323,12.231629,12.645703,11.524085,12.046979,12.612404,11.926819,11.912815,12.400635,11.960013,12.444175,12.816262,14.577168,12.939345,12.123466,11.770856,12.060784,15.314922,12.730134,11.939247,12.815169,10.690857,12.1089115,13.339061,11.963419,11.74309,12.964676,11.92471,11.949511,12.462476,12.747066,11.995684,11.992405,11.66039,11.606919,12.442629,11.849888,11.911642,12.745,11.936112,12.051649,12.327428,11.372134,11.96038,12.651536,12.295646,13.400969,12.029877,12.690985,11.785136,11.984566,12.139837,12.077884,11.229038,12.020468,12.067376,11.930286,14.666842,12.207221,12.413319,12.029979,12.099828,12.05791,12.046158,12.455455,11.709249,12.125072,12.59778,11.950106,12.276392,12.252441,11.945374,11.964831,12.177814,12.822969,13.86317,13.075063,12.010006,11.878966,12.47988,12.243261,12.808687,11.696707,12.376227,11.850742,12.758463,12.055194,12.286829,12.082643,11.408698,11.995919,11.856983,11.853943,12.906112,11.984411,11.539785,12.7703495,12.378142,12.435369,11.878563,12.013631,12.907567,11.132104,12.981352,11.977702,12.115864,11.861768,12.015136,12.738446,12.055332,11.653116,12.187532,12.104248,11.947705,12.085353,11.946731,12.216527,11.934527,12.259646,12.048873,13.282219,13.234478,12.091378,11.994017,12.182515,11.992631,11.6368065,12.106031,11.857453,11.196897,11.855551,11.83638,11.9345875,11.608932,11.60541,12.033699,12.532169,12.571077,12.443281,12.466006,13.070734,12.070539,11.875468,11.932149,12.066487,12.761289,12.795854,12.114802,12.09342,11.772427],\"xaxis\":\"x\",\"y\":[3.157998,2.8803282,2.073846,3.8254285,3.0116382,2.9604058,3.273122,4.500185,3.7079952,2.6250048,3.3982997,3.4809065,3.8859878,2.734054,2.7421086,3.2740357,3.548111,3.144909,3.069959,4.16936,2.979261,3.0346901,2.8610647,1.8965944,4.0771327,6.020958,2.5400386,2.925506,2.3787272,2.8685172,2.8137224,4.196855,3.388644,3.6989372,3.006963,3.953222,2.1450255,4.1317687,3.3237746,3.948821,3.4102912,3.1551857,3.1716583,3.3434765,2.9081647,2.8820014,3.375966,2.817323,2.6777425,3.5046694,3.166386,2.4685,5.852236,4.194155,4.3031607,5.133725,2.9880447,2.8771634,2.9169636,3.0507934,3.2077281,2.6210856,3.1080234,3.3110905,3.3545012,3.297685,3.388914,3.7503424,3.4333436,3.5888612,2.1277077,4.298023,2.9706173,3.2807019,3.7294688,3.7191193,7.7395463,3.1596026,2.3915536,3.532404,2.7542462,2.6265488,3.8090832,3.4354622,2.5354574,2.8616705,3.6352844,3.0611057,2.827512,3.1138213,3.1390138,3.8100734,2.799852,4.3296576,4.1938033,2.8976955,3.1514626,3.162026,2.8142235,3.1008797,3.4677641,1.8703997,4.326807,2.9905708,2.9472814,3.2851772,2.9188018,3.42038,4.120337,3.0353024,2.1348581,3.0685248,2.6280487,2.7342517,5.1376624,2.025465,3.762473,4.7490835,2.7014334,2.9497051,2.7536566,2.8101187,4.0483685,2.6607504,3.1201982,3.0628393,2.7218654,2.9718874,3.2333503,2.8999481,3.5155594,2.7537284,3.568081,2.8689687,3.0752618,3.9336743,3.4710064,3.3288217,3.251287,3.557392,3.3835568,3.0671268,3.534938,3.260267,4.0934973,2.9603093,3.4767802,3.2057953,1.918151,2.5410657,3.7673428,2.7585168,4.01023,3.041664,3.185476,3.135957,3.102409,2.86469,3.0221372,3.1413767,2.9768002,2.0625699,4.263959,2.74909,2.8177042,2.546041,2.1519873,6.039402,3.4203467,3.4073896,2.8526297,4.0304136,3.6436348,2.6646633,3.5969427,2.6373522,2.970587,3.2296722,3.9219084,3.978634,2.200225,2.6658852,5.8795705,2.7379622,4.416098,2.8181171,2.8152936,2.0829465,3.0499108,5.0068064,2.9974027,2.731357,3.1955857,3.636596,4.695476,3.5990348,3.2977552,2.6963065,3.3220253,5.257946,3.995346,2.8432612,4.577073,2.8926942,3.2847278,3.17966,3.3707006,2.7068574,5.9816203,3.0200834,3.3783274,2.9537385,2.646538,5.6458044,2.8822954,3.878074,3.061319,3.0624082,3.593893,2.9690435,3.2611084,2.443931,4.171261,2.5990965,2.8929076,3.3744671,3.0085776,5.226887,3.1105616,2.2022662,2.7007709,3.0949755,3.1618419,3.2520354,5.9604063,5.736318,3.7264233,3.4258292,2.4498281,2.952018,3.3571832,3.530403,2.9113643,3.241154,3.6341312,3.1268668,3.0551338,1.9540288,2.7887256,2.7803369,2.6041908,5.224627,2.9510326,3.27244,3.727635,3.0598228,2.446914,4.9595647,3.7720811,2.9300642,2.6428897,7.6616216,2.6718125,4.1870193,3.6856375,2.777604,5.226731,3.0518935,3.214575,2.845128,2.550017,3.3155735,3.3787217,4.0341325,3.1192763,4.331089,2.8416026,5.0002065,3.1795714,3.7279165,2.6581347,2.9000354,2.335976,2.7529595,3.1402688,3.16331,2.5646513,3.9664066,1.9921757,2.7842252,3.0845015,3.028027,3.2221985,3.845571,3.1721652,3.0749722,1.8643378,3.3020108,2.8386452,3.250306,2.6164834,1.8835775,3.38039,2.5931888,3.3942544,3.2074542,5.117704,3.5990372,3.4082274,3.2129302,2.1913607,3.3369257,2.989135,2.129419,2.9824204,3.3913684,5.549359,3.687653,3.3306239,3.112368,2.847928,4.0897436,2.9889395,2.5975266,2.897288,5.7518883,2.5789564,3.3255508,1.9949987,3.279033,3.0203779,3.0365386,2.036564,3.088591,2.8528256,3.5039864,2.065564,3.0544438,3.3794608,2.9989734,3.3002331,3.4811568,3.02722,2.2081017,2.790448,2.5719135,3.9436972,1.8844848,3.731838,2.5267966,5.1844172,2.69921,3.3083255,4.7749257,2.594734,3.575714,3.188327,4.169852,2.3858187,2.430339,3.0563874,4.323897,3.278343,2.1567485,2.5444884,3.4693592,2.5668597,3.8040102,3.036328,3.0627978,2.4399128,5.721943,1.8860291,3.5158699,2.720998,3.4013102,3.5144734,3.7133129,3.0132165,4.559827,5.5711923,3.5525389,4.677518,3.0267644,2.754602,2.9428568,3.02407,2.739918,3.6526377,2.917045,2.565274,2.749593,4.952057,3.5633562,2.5958014,2.6419377,2.6971536,6.258643,3.6843219,3.2876534,3.0358992,2.952778,2.8089108,3.3353808,3.2825923,4.040176,3.8045604,3.701875,2.1801383,5.129105,3.6212752,2.6726553,3.5607085,3.2454545,3.5957816,3.0502963,2.41622,1.8464246,2.7288594,1.8529773,2.8102486,4.3987136,3.1516824,2.796902,5.651303,3.276747,2.8253782,3.5721138,3.7504783,3.4984233,3.0676115,3.6583579,2.2974098,3.7874322,3.536688,3.07624,1.8463869,3.1358058,3.1094165,2.5168166,6.059546,3.3812711,3.5060143,3.1307907,5.6565742,3.3496897,3.8980584,2.6924746,2.9615705,2.8857589,3.7656095,2.591945,2.4792516,3.0502255],\"yaxis\":\"y\",\"type\":\"scattergl\"},{\"hovertemplate\":\"leiden=6\\u003cbr\\u003eUMAP-1=%{x}\\u003cbr\\u003eUMAP-2=%{y}\\u003cextra\\u003e\\u003c\\u002fextra\\u003e\",\"legendgroup\":\"6\",\"marker\":{\"color\":\"#B68100\",\"symbol\":\"circle\",\"opacity\":0.5,\"size\":10},\"mode\":\"markers\",\"name\":\"6\",\"showlegend\":true,\"x\":[13.430905,14.311486,13.140878,11.993928,13.736289,14.476044,13.793474,13.544028,14.005739,13.706286,12.669499,13.382083,12.961945,13.339529,13.7289095,13.50182,13.4358635,13.077885,13.860352,13.276129,13.223629,14.178317,13.487272,14.002088,14.111162,13.851799,13.177994,14.077559,13.962828,13.935624,13.069877,14.330922,13.527841,13.772321,13.010372,12.082805,14.25623,12.949124,14.619552,13.356439,13.327202,12.445746,13.417186,14.14496,13.799311,13.963106,14.482085,13.686464,14.44926,13.446415,13.73805,13.188685,13.930272,13.670806,13.615734,13.464152,13.8745,13.800253,13.871555,13.42635,13.946704,13.76813,13.390488,13.921539,13.959795,12.340146,13.042361,13.798824,13.995561,13.29164,13.795709,13.51899,13.676383,14.032105,13.508474,11.532011,12.999414,13.217755,13.876736,13.709595,13.61731,13.240779,14.363983,11.981037,12.838871,13.777103,12.745276,13.518798,13.03579,12.893217,13.130682,13.7563505,13.5695,12.844029,13.101294,14.586852,13.535529,12.59509,11.924401,13.723308,13.429351,12.834865,13.131239,13.960686,14.256798,12.872699,13.898977,14.213809,14.191463,14.059776,13.467573,13.695021,11.600062,13.678561,13.294499,13.557974,13.928177,14.221336,14.155343,14.067954,14.035053,13.824242,14.055873,13.761022,13.353626,13.443526,14.070555,13.842303,13.545305,13.990084,12.560786,13.982818,11.881462,13.607195,13.568604,12.804407,12.709203,13.908548,12.821588,13.760167,13.525431,13.915282,9.734378,11.51499,12.661189,13.721362,13.72477,14.239561,13.760005,12.087184,11.035875,13.725593,11.392178,14.442002,12.963068,13.404764,14.034967,13.927252,14.178127,11.495913,13.565542,14.048887,13.69807,14.0103445,13.44532,13.374149,14.023836,12.41512,13.71278,13.670294,13.911807,13.148152,13.801812,13.412239,14.313136,14.282657,12.720979,13.799566,13.542459,11.445079,14.302727,14.116331,13.791981,13.176943,13.733319,13.622035,13.714113,13.843216,13.735738,13.689303,13.7830515,14.11372,13.9510765,13.19401,14.188146,13.702174,13.976871,13.616102,13.081927,12.8984995,13.457443,13.394911,13.069873,9.882701,14.450146,13.86918,13.601191,13.649072,13.944695,13.852992,13.662641,14.626037,14.322502,13.376661,13.121119,13.828037,13.561849,13.543815,13.737696,13.779646,13.1123085,11.620817,13.512101,13.586756,14.202079,14.073125,13.92407,13.519486,14.06496,13.573825,14.342634,14.284128,14.190196,11.4766,12.99089,14.3386545,13.823689,13.670128,13.865388,13.454929,13.823673,13.475578,13.045428,12.596794,13.871198,13.177574,11.403263,14.161919,13.777988,13.371757,13.296065,11.827171,13.178031,13.08079,13.987399,13.099426,11.440248,14.179456,14.107831,14.636804,13.060773,14.396301,14.466946,13.108316,13.793621,13.716358,13.480645,13.518504,14.13854,13.830122,13.8432,14.040066,13.7059,13.235175,13.984525,13.928786,14.24271,13.99139,14.285616,14.638175,13.721299,11.9618225,13.624239,13.382449,13.73254,13.968262,13.027421,13.357333,14.161936,11.4816265,14.137743,13.605114,14.007244,13.427253,12.824377,13.211438,14.182408,13.129788,13.628868,13.309356,13.584119,14.218,13.595185,13.446783,13.097384,14.418142,14.066572,13.706515,13.941124,13.818486,14.024938,13.675229,12.23496,13.339804,13.348415,13.511933,13.908691,13.544154,13.349743,13.399545,13.848268,13.342448,13.689811,13.029501,12.638307,13.188399,12.900077,14.149752,14.031589,11.406426,11.664013,12.745776,13.840207,13.508982,14.218951,14.3143635,14.167163,11.34298,13.569312,14.117733,9.14201,13.583927,13.844122,11.485013,13.812165,11.618138,13.678128,12.949897,13.830759,13.408731,13.025694,13.348644,13.332307,13.738691,13.517248,13.0201645,13.631463,12.861197,11.59397,13.614399,13.7203455,13.696164,13.004407,13.649332,13.196407,13.545635,13.394188,13.76124,13.210203,13.97876,13.100902,13.754675,13.538603,13.059355,13.740791,13.574726,13.79197,13.333162,13.403339,14.49155,13.184629,13.859577,13.918873,13.49885,12.74823,13.904744,13.84635,13.258,13.454995,13.7029,13.812324,14.095479,13.153898,11.415972,14.0360155,13.941199,13.677909,13.264666,13.956245,12.851256,11.534629,13.69281,12.841018,13.584071,13.555425,13.658391,11.711726,14.17351,12.2052765,13.232828,13.553395,13.745968,13.807179,13.701093,13.366548,13.925985,12.944476,13.913307,13.060102,13.68844,14.399895,11.5210285,12.899143,13.866709,13.6241665,13.755647,13.391999,9.811467,13.928865,13.993215,11.40283,13.247518,13.191065,12.885877,14.41979,14.014428,14.13869,13.215218,13.792684,13.092403,13.121001],\"xaxis\":\"x\",\"y\":[5.2536454,3.1672223,3.9637172,7.7357745,4.0834355,4.074326,4.380883,3.9463603,4.0430956,3.907775,3.5232608,3.9967942,3.757211,4.7871256,3.532369,4.2793255,4.230689,3.829042,3.891794,5.7159195,3.6716542,3.7068777,3.8689349,3.7996442,3.9164855,4.7752233,3.7201266,4.105546,3.7357228,3.090303,3.7635815,3.2451243,4.308484,3.3399925,3.684934,5.9354534,4.117412,3.632878,4.0877542,5.4760785,3.449085,5.4286366,3.9995537,8.137357,3.4388764,3.293138,3.78845,3.2561507,3.8339279,3.9838414,3.5898335,3.3545225,4.08922,3.7105172,4.1391916,6.7685485,3.1586485,3.1854703,3.8666146,4.026204,2.9460914,4.205424,4.555338,3.5479136,2.9147239,5.05792,3.8113058,3.7074373,2.9964616,3.6871164,7.094809,3.7521043,3.7334368,3.0032828,3.5875857,4.522015,3.7884176,3.9095204,3.8712287,3.3527544,3.9398425,3.635576,4.0840497,5.5097322,3.7723532,4.184039,5.2145386,4.267949,3.8549814,3.1511555,3.8441017,4.373919,3.7839835,3.564089,3.7233503,3.924778,3.5930254,3.3729703,7.1115527,3.7612753,4.015199,2.8329444,3.8179674,3.081499,3.8594553,4.138834,3.7357695,3.622603,4.1018934,3.0106146,3.994234,4.059192,5.819473,3.591477,3.9792652,3.7102005,3.5414712,5.606741,3.8480856,2.9526231,4.2079263,3.3659687,3.583558,4.1642113,3.624455,3.9528704,3.009005,3.8287563,4.609481,3.003453,5.0252023,4.1575904,4.754302,3.7047246,3.581199,4.040174,4.042515,3.7720952,3.0621538,3.873048,4.279777,4.182953,5.776915,4.729414,6.858893,4.065403,4.2764606,3.3129122,3.9012403,4.613911,4.2803473,3.15934,4.7904806,3.9128535,3.6623964,3.5493124,2.941779,4.7594805,2.7194946,4.618071,3.6057558,3.7080164,3.1069288,3.7009804,4.1221232,3.5590398,3.7268791,5.4227295,3.6912787,4.179639,4.407962,3.8972945,7.6734343,3.5694292,4.0976753,3.4115791,6.1011252,3.3026986,3.9156346,4.341069,4.097526,3.7296398,3.6085598,3.9243212,3.748305,3.318806,4.1740346,3.4639363,3.804216,4.290164,3.1225188,2.8104453,3.8831708,4.161853,2.7070608,3.8354406,3.927084,3.4122214,3.1467083,3.7711136,3.7490706,4.388467,3.878965,7.0458007,3.6898892,3.9522808,4.1546016,3.9086187,3.0958092,3.4073822,4.1931925,6.973989,3.9810104,4.1353383,5.0276027,7.3474545,3.392881,3.374561,3.2191768,3.501382,3.7140183,4.4778914,4.0356565,3.3726857,4.1784034,3.2724855,3.8228917,3.9924505,3.0653262,3.4535398,3.2902722,3.2807183,2.692032,4.8007293,3.8008578,3.8364015,5.5410166,3.9302747,3.5391967,3.7724736,3.4342859,3.5697486,3.9688532,4.0717287,3.5561557,3.9749582,4.8559337,3.8076868,3.4515011,3.6708057,5.5702195,4.08101,4.094325,5.618289,3.666271,3.9188619,4.5100174,3.6752973,2.810477,3.974142,3.735794,4.0288463,3.982875,4.6782675,3.8261843,3.3457646,4.1335697,4.2577167,2.763761,3.695705,3.7837753,3.6176422,3.1633215,5.243695,3.4267826,3.7513728,3.1860585,3.1455908,3.6548114,6.6610646,4.093664,7.3570013,4.6900554,3.8079953,3.7262254,3.0706868,3.7185967,3.4509645,4.0346,4.5242033,3.3810992,3.7910392,2.9907248,3.6861618,5.2673507,3.808691,3.3476841,3.8453796,4.074949,4.847364,3.5258524,3.9701743,7.2565837,4.5758805,3.8910487,4.0924735,2.9626083,3.4120526,3.012589,3.894491,3.4757059,4.1642146,4.6173396,3.8004663,5.3028965,3.2064462,3.135838,3.7045412,3.637606,4.414156,4.1143517,3.8744805,5.5017447,3.7635303,3.7528632,6.721117,3.0100317,2.7776928,4.3867617,4.2676806,4.5642548,3.9541516,6.2772455,3.7297542,4.3135824,3.6232288,2.7322779,4.509552,4.660998,2.7880862,6.8100867,3.849566,3.552358,6.617053,3.1021023,4.759346,4.100486,5.3434505,3.6075115,3.8759763,3.7477555,3.6387827,3.5608737,3.9032955,3.5588582,3.8403344,4.4385085,3.8766727,4.9462423,6.371604,3.1387644,3.8024209,4.104573,4.368843,4.1445327,5.639064,3.8751457,3.6551707,5.2709675,3.8250394,3.6501763,3.6006377,4.29826,3.8661628,3.237927,5.0090675,3.0697145,3.74284,4.4957323,3.7182221,5.027347,4.000525,3.767605,4.284016,3.4016323,3.570247,4.2793107,6.958271,3.4610775,4.1234107,3.8834627,3.7839832,3.5535672,4.3255725,3.520101,4.3650756,3.593457,5.186506,3.7079773,6.6848183,4.8161592,3.376158,3.8719792,4.0079556,3.967319,3.3830447,4.4335155,2.7427773,7.2975426,3.638446,3.6873717,3.7113695,3.5957134,4.234167,4.43034,3.406971,2.939102,3.8212059,6.125966,4.978749,4.113835,4.388816,4.230504,3.2844045,3.9988372,3.678169,3.5251355,5.784178,4.107956,3.0315459,4.4017024,5.2949014,3.4957082,3.9006243,4.018199,3.822828,4.1841936,5.171103,4.376502,3.7189867,4.995815],\"yaxis\":\"y\",\"type\":\"scattergl\"},{\"hovertemplate\":\"leiden=7\\u003cbr\\u003eUMAP-1=%{x}\\u003cbr\\u003eUMAP-2=%{y}\\u003cextra\\u003e\\u003c\\u002fextra\\u003e\",\"legendgroup\":\"7\",\"marker\":{\"color\":\"#750D86\",\"symbol\":\"circle\",\"opacity\":0.5,\"size\":10},\"mode\":\"markers\",\"name\":\"7\",\"showlegend\":true,\"x\":[11.369091,13.215912,12.716336,14.161601,14.419055,11.295164,14.019019,13.57846,11.610276,10.931212,10.89205,12.981907,10.285715,10.657172,14.04089,11.755013,10.962815,11.627871,11.108875,13.798205,10.631135,10.798275,11.558904,10.847007,11.483956,11.285624,13.659806,13.839597,11.01071,14.223687,10.823137,11.484849,11.823833,10.921777,10.731077,11.375843,11.581744,10.684899,14.833432,12.898477,11.386857,10.759935,10.625078,10.758296,14.336187,13.724414,11.247116,11.35512,11.101321,11.2876425,11.799084,11.119076,11.3107605,12.791067,13.072133,10.306527,14.120207,12.939805,10.774789,14.515255,13.919499,10.477847,13.669887,14.14431,13.026779,13.707874,11.012356,10.890776,10.636769,14.184077,11.411789,13.892605,14.307955,10.804534,13.451933,11.341152,12.824068,13.929048,13.07531,11.515147,13.330451,14.300522,13.467832,10.775375,13.879174,13.419213,9.028625,14.085622,11.260721,11.621607,11.141637,10.532906,12.88991,11.461055,12.256467,13.400126,13.725914,12.671538,10.844828,10.605153,13.556708,11.5545,12.904571,13.753529,11.297229,12.840054,13.373296,11.012753,14.246752,13.902704,12.857671,10.731677,13.3057375,10.472062,13.730142,14.236829,14.594558,13.709927,11.16324,14.126819,10.985085,13.699721,14.101927,10.907011,11.801275,14.734013,12.95182,12.696587,11.31217,13.134726,11.597804,11.176618,13.29592,10.341325,11.358297,13.398164,10.850675,10.942929,14.273408,10.310354,13.012436,11.260685,10.989313,13.714785,14.254438,10.818753,13.991726,13.077681,10.542226,13.09589,14.849274,12.8895645,10.648787,11.37748,11.477524,11.343468,10.46019,10.273221,10.701525,14.222044,13.086243,14.295858,10.844164,11.763689,10.774435,11.449467,10.786765,11.122323,10.9592285,11.304036,13.694379,10.993863,13.738574,10.734769,13.316277,11.585865,12.907323,11.100647,14.126469,10.620665,10.768069,13.674995,12.924139,11.278447,10.943652,11.633338,11.009894,13.6020975,10.796795,13.6865,11.15283,11.737456,10.69929,10.699849,11.555946,11.100387,9.606918,10.715363,13.840128,10.782515,11.022218,13.697623,14.7141075,13.984006,12.996332,13.664821,14.234682,11.473447,14.563192,10.281333,14.824394,10.847912,10.864844,13.629172,13.559303,13.358825,13.631345,10.665286,14.033458,10.292407,11.157768,13.686909,10.277799,10.528312,10.761932,10.564352,13.527976,11.250986,13.646002,11.088712,13.813226,13.014106,11.253413,10.976737,13.9250965,13.839563,10.66761,10.734776,11.048239,12.609083,10.880814,11.086917,13.166523,13.847651,13.611756,11.137677,13.986896,11.760008,13.571398,11.305469,13.757195,14.852026,13.462285,11.878771,11.636874,13.948101,11.693542,13.341427,13.524728,12.718918,13.056482,10.650144,13.415812,13.524583,10.583974,13.478926,13.996666,13.3389,10.912323,10.885248,12.906756,13.205474,11.153065,14.104817,13.716782,10.946398,13.733072,10.755279,9.148042,13.723905,10.917768,13.712217,13.6621065,10.940548,11.325274,12.941144,10.562824,12.886269,13.682261,11.535118,13.635156,10.660516,12.868959,12.959141,12.780359,10.725846,13.346497,10.92393,11.380221,13.652534,11.405834,13.532029,11.374603,14.523524,11.24082,13.120225,13.437402,12.900763,13.720581,10.539904,11.145968,13.670429,13.712889,10.941069,12.703135,13.324733,11.573149,13.59321,13.706724,11.621817,13.2210865,12.989879,10.386563,13.00365,13.863069,10.311311,13.796876,14.181698,10.545028,13.019659,13.281227,13.691284,10.756985,13.5017395,13.568726,14.260779,13.685577,10.616863,11.23805,11.160533,13.024458,11.601217,13.701167,14.122962,13.173665,12.005975,12.845735,11.388742,11.028762,14.407805,10.280642,13.65784,10.611622,13.658043,13.452117,11.372034,12.969149,12.64432,13.506985,11.171795,11.7049885,11.40872,13.395722,13.708676,13.734605,13.732465,10.492614,10.299729,12.798176,10.875275,13.730675,11.25315,10.338327,13.634438,13.741942,14.063937,11.851628,10.543267,13.525151,14.655375,13.351504,11.431896,14.166136,13.5907955,12.678984,11.356502,10.77451,10.757654],\"xaxis\":\"x\",\"y\":[4.635579,4.847781,6.643626,8.0947485,4.5469456,4.4035506,7.6862655,7.038036,5.9017673,4.4491525,4.231241,6.7410283,4.335964,4.69556,7.6798143,5.178064,4.958203,5.5392013,4.834766,7.4978995,4.6226697,4.599805,5.878162,4.834925,5.4276104,4.411342,6.945634,8.144648,4.8911138,8.072252,4.9784822,3.9178514,4.189053,4.7466087,4.8372326,4.106914,4.8887773,4.6180406,7.348205,6.7662168,4.9330645,4.2344327,4.605381,4.6142716,6.3638434,7.18948,4.906022,5.0174465,3.9253294,5.2174745,4.839225,4.232809,4.854746,5.389667,6.19056,4.3380985,7.9468675,6.686587,4.510407,5.538535,7.113963,4.4133224,7.7760077,8.091543,4.193857,7.7985363,4.823792,4.9992833,4.7797813,7.1221585,4.775991,7.613743,6.175171,4.758434,4.723433,4.6684732,6.742968,5.7448163,6.8745832,4.409243,6.4350657,6.490504,6.4819593,4.9288263,7.667447,6.9647226,6.2809877,7.9699645,5.0585475,4.740905,4.9348655,4.4460754,6.7587266,5.2923965,4.962501,6.2040286,8.106695,6.866488,4.976622,4.44532,7.402762,5.112181,6.732228,7.765838,5.199798,6.7480817,4.4798336,4.639636,4.5641007,6.9412484,6.7687206,4.7994885,7.6516356,4.3901854,7.3651967,8.023172,6.273024,8.280279,4.9215093,6.838011,4.686954,7.884937,8.035551,4.9137053,4.054994,5.8655996,6.443828,6.0012274,4.4175396,6.982869,4.7705007,4.9918604,6.2932277,4.4262,3.9948502,6.790863,4.718897,4.894765,7.9479356,4.336976,6.5069523,4.458248,4.97696,8.148105,7.787628,4.6687965,7.6127887,6.605486,4.6030364,6.9358063,6.43568,6.7829633,4.6484704,4.979723,5.258191,4.6578937,5.6071887,4.3351994,4.706313,4.6600227,4.2357635,7.92413,4.678678,5.239278,4.7490535,5.107016,4.8331184,4.9769526,4.860279,4.7886953,8.19309,4.6015077,4.811393,4.794573,4.440437,5.250763,6.813797,5.0089097,8.131584,4.5742226,4.7326593,7.893224,7.244444,5.1376944,4.522098,5.196557,4.6423807,7.7424,4.9070883,8.260719,4.868872,5.158777,4.7546873,4.8706813,4.7611012,4.5079055,4.194902,4.6473446,7.6846,4.858267,4.8812375,7.5641017,6.3560867,7.270148,6.7022305,8.252268,7.9975324,5.3367686,6.3262434,4.3166885,5.3559504,4.6958113,4.7680516,7.712489,7.282896,7.2713456,7.4594035,4.273964,7.33563,4.3295145,5.017223,7.248751,4.342535,4.85124,4.5322514,4.4542046,7.735468,5.4618063,5.861963,5.1826797,7.5010324,6.970045,4.7933955,4.3085732,7.617398,7.984727,4.87459,4.780304,4.5918045,4.868532,5.107061,5.2176995,7.4446793,7.7116833,7.747922,5.0393934,7.748061,4.910132,8.140729,5.128436,8.163728,6.94327,7.891152,6.077741,5.1464634,7.995011,4.8615384,7.766754,7.3415613,7.4288316,7.0766006,4.777131,7.799787,6.9551277,4.5049076,7.302408,7.9917283,6.873812,5.0558653,4.646471,6.9966297,7.4600053,4.7129817,7.9507003,7.349125,5.0928283,6.00049,4.2862473,7.0143056,8.294319,4.5810127,8.196383,8.118567,4.5794573,4.949601,4.180147,4.48881,7.076564,7.7534204,5.174557,8.182038,4.715968,6.793982,7.015174,7.412578,4.7727847,7.6783175,4.2796884,5.065624,7.2390394,5.1570168,6.610982,4.9922028,7.5481877,4.922433,4.3862643,7.675361,4.518374,8.026344,4.4510307,4.9365835,8.139507,8.2562895,4.0795345,6.754814,7.4556246,4.7559667,7.2133613,8.204126,5.0169797,6.088099,6.8974004,4.5043817,4.0651207,5.4034214,4.3559794,8.026482,8.149886,4.876012,6.6544905,6.8586907,8.287424,4.79548,4.248139,7.933434,8.021979,8.017734,4.677537,4.815209,5.05617,6.930413,5.3065534,8.222197,7.9098406,7.290551,4.578405,7.3996253,5.111161,4.5344553,7.6983986,4.3435864,8.25163,4.7205977,8.197858,6.5075626,4.503006,6.9268184,4.590853,7.3396735,5.0919104,5.075299,4.961672,7.2002954,7.9582925,7.601567,8.2392845,4.575645,4.375298,7.3346615,5.039716,8.143006,4.734048,4.447444,7.800038,6.694793,7.998928,5.4736867,4.5807047,7.7684917,7.4577055,6.930078,5.0504346,6.5620003,7.8779426,7.147354,5.0435686,4.6293135,4.648151],\"yaxis\":\"y\",\"type\":\"scattergl\"},{\"hovertemplate\":\"leiden=8\\u003cbr\\u003eUMAP-1=%{x}\\u003cbr\\u003eUMAP-2=%{y}\\u003cextra\\u003e\\u003c\\u002fextra\\u003e\",\"legendgroup\":\"8\",\"marker\":{\"color\":\"#EB663B\",\"symbol\":\"circle\",\"opacity\":0.5,\"size\":10},\"mode\":\"markers\",\"name\":\"8\",\"showlegend\":true,\"x\":[11.800952,12.702789,13.1445465,12.97197,12.745948,13.326205,12.621619,14.297697,13.312164,11.654727,12.698574,12.127195,11.743938,12.15903,13.054267,12.46984,11.6550865,12.34525,14.331153,12.588851,12.089273,12.564641,12.522662,12.841288,12.529216,12.822507,12.6781,12.740096,13.093705,13.551159,11.803736,12.669631,12.388194,11.689095,12.029158,11.697912,11.487836,11.394809,12.804975,12.957296,12.739305,12.243199,12.226351,12.724637,12.549336,12.249696,13.297578,11.602853,11.506863,13.347679,11.524064,12.423081,13.659507,13.316574,12.034408,12.401743,11.9776535,12.493217,12.256355,12.007068,11.480057,12.321578,11.493962,12.5027895,12.229258,11.467458,12.676388,11.994145,12.694632,12.789992,12.752511,13.144334,12.474371,12.1138315,12.244528,12.512764,12.752447,11.778788,13.600604,12.049723,11.545935,12.57518,12.31328,12.3724375,12.740968,12.456212,12.788182,12.390129,12.949951,12.129526,12.427164,12.094685,12.439676,11.811358,12.253211,11.765411,12.421595,11.401066,11.310559,11.821009,13.018509,12.470324,12.483916,11.44334,12.492388,12.246438,12.303363,13.02655,12.444116,12.401857,12.968457,11.61358,12.442784,11.459277,13.203945,12.061112,12.289068,12.771588,12.025759,13.880747,12.878622,12.99255,11.686113,11.385768,11.534173,13.19411,12.449113,13.087765,12.070151,12.442733,12.173589,12.474744,12.507716,12.598771,13.650735,13.069642,12.693871,12.8915615,12.323463,12.704431,13.204408,12.236281,12.575086,12.367284,12.797884,12.956246,12.610087,12.506199,11.989659,12.298538,10.808796,13.162616,12.149832,12.150173,11.454193,12.555492,12.260139,13.251468,11.49947,12.330442,12.652366,12.206551,13.045676,12.998074,11.423087,12.127032,12.899543,11.547484,12.210516,11.787101,11.515016,12.492794,12.150658,12.775469,12.464735,12.442298,12.593892,13.065214,12.91763,12.102475,12.144099,13.700271,11.532931,12.964927,12.53134,13.237189,11.463115,13.173565,13.52638,12.026342,12.484976,11.472122,13.501349,12.315233,11.516839,11.392247,11.369797,12.31878,12.090547,12.641059,11.527908,13.111673,12.234432,12.063045,13.0040045,12.663337,12.3152485,13.327944,12.485221,12.661171,11.422263,13.05017,12.595098,12.076214,12.593021,12.642152,11.867154,12.234891,13.617609,12.39851,13.080689,11.695198,12.929706,12.608184,13.917272,12.172584,12.761652,12.569494,11.533355,12.016689,13.087104,13.030011,13.188841,12.89142,12.164452,13.137098,12.965733,12.899707,11.747803,12.193656,13.039699,12.189045,13.17031,13.043373,12.517483,13.589183,12.14217,11.408026,12.242519,12.309663,13.109999,12.791952,12.34115,13.16375,10.959375,13.002781,12.289842,12.509245,11.380079,13.166493,12.151584,12.356381,11.530641,12.913742,12.474983,12.384481,13.408675,12.607514,12.67767,11.492144,11.103726,12.12164,13.212581,11.35303,12.551329,12.362831,13.292273,12.401948,12.642217,12.972948,11.833096,14.440336,11.569656,12.423708,13.144874,12.076889,12.352,11.966925,12.789201,12.268636,12.763392,12.290233,12.586514,12.891517,11.672112,12.914039,13.209788,12.093316,12.315305,12.507748,12.877233,11.42301,11.987181,12.233658,11.58795,12.796245,11.683625,12.090461,12.77431,12.538805,12.751036,12.3887825,13.274114,12.798861,12.31968,12.445556,11.971442,12.760248,13.467895,12.149269,11.495005,12.201953,12.012825,12.271423,12.5433445,12.238633,11.462127,12.9467945,11.580486,11.544033,12.783756,13.487541,11.569907,12.170208,12.308267,12.197851,12.775296,12.884924,12.1992235,12.196306,8.980703,12.161141,11.949272,11.868682],\"xaxis\":\"x\",\"y\":[4.4964986,4.8739276,4.9510536,4.661716,4.4983883,5.0125527,4.6007986,6.145059,4.752594,4.495349,4.58578,4.0554814,4.4910965,6.4497623,4.6499085,4.770215,4.684241,4.727532,5.594206,3.9877481,4.56855,4.491201,4.1244016,3.9107847,3.9561713,4.633427,4.196004,5.0168357,4.663547,4.783789,3.9471297,4.3917413,4.785366,3.8121064,4.357812,4.6445794,5.2191854,3.577599,4.5670686,4.307103,4.711023,4.463083,4.8321934,5.000074,4.022577,4.080004,4.9083366,4.5750437,4.7479568,5.2678795,4.5685062,4.4815454,8.190256,5.4493074,4.017126,4.280867,3.9789004,4.669674,4.772678,6.294777,3.6860805,4.188944,4.486381,5.3880844,3.9416444,3.6090007,4.6112595,4.80829,4.5023527,4.414398,4.0979934,4.6499214,4.74402,4.0651517,4.2288723,4.810364,4.7322335,3.803203,6.501286,3.3921168,4.667416,4.1281843,4.5590205,4.75228,4.8818517,3.8341289,4.381812,4.275842,4.8608356,4.568543,5.0058722,4.2980266,4.817121,3.903846,4.208434,4.747816,4.3190002,3.5789385,4.7179193,4.49915,4.4087195,4.5248094,3.8423195,3.616149,4.839547,4.4017777,4.190213,4.8930535,4.3623953,4.0240154,4.526892,3.716228,4.3414173,4.76447,4.9225674,3.6581607,4.314787,4.53709,4.6278563,4.746379,4.482418,4.5326724,3.7911665,3.9074662,3.7393928,4.4982977,4.246983,4.67874,4.624921,4.666417,4.070578,4.44361,4.5847244,4.5635996,5.5294476,4.699083,4.0705953,4.6315684,4.3075533,4.858416,4.719338,4.0771523,5.1940393,4.129965,5.298578,4.750198,4.4535995,4.570652,4.003577,4.3698587,5.339633,4.7910776,4.076264,4.719251,3.6229913,4.7527246,5.379188,4.6725626,4.465555,4.1350803,4.737111,4.244823,4.151784,4.605277,3.5920527,4.245463,5.1255946,4.4413123,4.33438,4.6377153,4.4519367,3.821099,4.010094,4.326324,4.4139376,5.178312,4.6371994,4.7955685,4.3172617,4.099051,4.5077095,6.485884,4.4084225,4.6388845,4.2129617,4.882426,4.3367953,4.6170516,5.803821,4.3907804,4.7595997,3.6575348,6.3193555,4.591229,4.353413,3.5843368,5.0128336,3.9634392,4.254848,4.311291,4.345603,4.768824,4.106045,4.7249684,4.0486803,4.408981,4.4905696,4.9440823,4.2698326,4.604586,3.5869546,4.36163,4.0944576,4.136173,5.157319,4.9263816,4.5128856,4.522694,7.3393106,4.143969,4.2866626,4.4800653,4.688262,4.58789,4.824381,4.118358,4.7470765,5.0763464,4.1424465,4.136558,5.862022,4.0754285,4.778184,4.950276,3.6888628,5.140686,4.2815,4.7232676,3.8751407,4.453239,4.5293927,4.600632,5.048697,4.462257,4.2147326,5.8508067,4.7044826,4.4908195,4.1066847,4.303949,4.736011,5.0508814,4.31138,4.6963177,5.595999,4.4720955,4.6433096,4.503915,4.9252386,5.0462413,4.686127,4.223205,4.5464187,4.615861,4.25165,4.2475953,7.345127,4.846828,4.4286222,3.658766,5.2775774,4.3594723,4.7263904,3.3102622,3.9822912,4.100827,4.4805517,4.818132,4.3967104,4.6857805,4.122582,5.7410197,4.2997494,4.4870787,4.3041744,4.5650187,4.37975,4.8090878,4.370877,4.378939,4.2702336,4.058706,4.568542,4.4171724,3.7835982,4.5593534,4.691689,4.2134333,4.602807,4.215659,4.4917297,4.343138,4.6341133,4.185902,4.565385,4.5034475,4.9005566,4.7306957,4.463789,4.4604015,4.2418647,4.18026,4.6551285,4.706004,4.916163,4.255471,4.620341,4.689816,8.168889,4.1275,3.6390827,4.009181,4.8414693,4.042725,3.9957213,3.94097,3.7064457,4.511204,4.2820277,3.6447258,4.500485,4.7370987,3.7245867,4.0573177,4.203288,4.587685,4.5079937,3.9462945,4.09962,4.247572,5.8009424,4.4568114,3.7706335,3.9481022],\"yaxis\":\"y\",\"type\":\"scattergl\"},{\"hovertemplate\":\"leiden=9\\u003cbr\\u003eUMAP-1=%{x}\\u003cbr\\u003eUMAP-2=%{y}\\u003cextra\\u003e\\u003c\\u002fextra\\u003e\",\"legendgroup\":\"9\",\"marker\":{\"color\":\"#511CFB\",\"symbol\":\"circle\",\"opacity\":0.5,\"size\":10},\"mode\":\"markers\",\"name\":\"9\",\"showlegend\":true,\"x\":[10.765803,11.365985,10.792093,10.754882,11.342416,14.111921,13.257557,10.895362,10.81658,11.304656,11.136574,10.73577,10.6096,10.718461,10.720469,12.499479,10.833713,11.16767,11.060601,10.702427,10.803831,11.34172,11.264221,11.350725,11.69628,10.437447,10.783804,10.714615,11.520364,10.630379,10.662432,10.952659,13.656381,10.773185,10.916056,10.329165,11.178827,11.076569,10.735865,10.871445,10.861,10.552332,10.876301,10.821839,11.192319,10.7553625,10.613293,11.158245,10.918586,10.988899,11.335646,11.226912,10.692858,11.364285,10.695717,11.440887,10.860441,14.20888,11.214231,11.246622,11.110346,10.935465,11.390839,11.434437,10.762453,11.264208,11.024915,11.337371,11.179938,10.696665,10.728277,10.971245,11.620496,10.43443,11.987609,10.742023,10.782662,10.844713,10.942334,11.815394,10.765532,11.160351,10.87186,10.73085,11.179612,11.35098,10.698769,10.697829,10.614699,10.531378,11.570302,11.226247,10.832048,10.82764,10.956189,10.425784,11.260237,10.697801,10.742827,11.158407,10.840677,11.362514,10.6767845,11.40003,13.666182,13.765448,10.824654,12.43681,10.554858,10.444269,11.077076,11.148093,10.867809,10.772935,10.806834,10.798518,10.64647,10.432414,11.220514,11.247884,10.432154,10.731643,10.32263,10.82913,10.573029,10.702653,11.061687,10.635305,10.71672,10.310935,13.556786,10.856572,10.9963255,14.134224,10.795597,11.139387,10.703912,10.992138,10.871339,10.834025,11.129673,11.596924,10.945053,10.793247,11.00184,11.250598,12.560453,11.201969,10.608131,10.772049,10.852521,10.720258,10.920217,13.398811,10.797607,11.224441,10.650137,10.732239,14.859242,10.998036,11.84161,11.414779,10.58827,10.698291,12.731385,10.833181,11.506074,11.131912,10.979874,11.073526,10.6046505,11.001738,11.2424135,10.775485,10.593421,10.875755,11.99967,11.210782,10.685868,10.896213,10.593192,11.483788,10.848352,10.605027,10.690196,10.38391,11.525715,11.262136,11.019992,11.719786,10.739696,11.771569,11.204243,10.632085,11.626264,11.409698,11.094483,10.676482,11.080224,10.86967,10.950015,11.064987,11.275122,10.797888,10.859026,11.10976,10.864028,10.668463,11.22566,10.803183,10.407538,11.337378,10.657562,11.323282,10.868572,11.11049,10.29889,10.547099,10.819272,10.587501,11.243349,11.37509,10.637811,11.5476465,10.806104,8.7113,10.685555,10.316948,10.73342,11.177027,11.340024,11.071923,11.216041,10.557316,10.912271,10.59234,10.665463,10.994581,11.148955,10.629743,10.454867,11.073334,10.736147,10.634169,11.14567,10.885685,10.752391,10.834373,10.851996,10.873267,11.57778,11.36008,11.520509,10.966934,10.573994,11.001334,9.319604,11.399374,10.079905,10.672331,11.133553,10.397441,11.098301,11.250052,11.058707,11.267616,10.849779,11.230581,10.602691,11.014135,10.741781,11.188277,10.938574,10.776371,11.512887,10.753658,11.287024,10.7266865,10.849228,10.720344,13.494386,10.844533,10.82518,10.583652,10.747683,10.723831,11.205095,11.932226,12.078017,10.824137,11.143337,11.011302,10.581139,10.65572,11.045284,11.044416,10.559181,11.084932,10.566277,10.369784,10.710825,11.131459,11.155203,12.337284,11.070403,10.330323,10.648655],\"xaxis\":\"x\",\"y\":[6.3293858,6.317755,6.327105,6.0973306,6.559803,6.1511908,5.925936,6.4092245,6.2130556,6.459095,6.0275354,6.725256,6.754539,6.6641717,5.855042,7.1948357,6.0211987,6.8369074,6.7294383,6.1318574,6.443111,6.5531883,6.7350497,6.547279,6.462745,6.82176,7.014778,6.2605176,6.2671223,6.1841784,5.7682476,6.912084,4.149885,6.754136,6.8380566,6.4140415,6.774136,6.5097814,6.047866,6.57846,6.8664904,6.799441,6.6077576,5.776178,6.301809,6.374126,6.5122237,6.8184023,6.62849,6.762643,6.0605574,6.6033664,6.791278,6.423681,6.2367425,6.2826858,6.8480983,4.242991,6.7956033,6.509563,6.3055906,5.6739016,6.410265,6.4467072,6.5145073,6.5716696,6.4489594,6.4806175,6.6417994,6.604906,6.8380623,6.7835555,3.4576473,6.79199,4.8721175,6.4281464,6.4750085,6.086133,5.8351192,8.311567,5.8215895,6.3876786,6.5409517,5.801934,6.396803,6.695202,6.295122,6.665498,5.5534706,6.7616577,7.4894276,5.9166255,6.469675,6.188913,5.934383,6.73404,6.493745,6.4419117,6.692415,6.6517544,6.5616784,6.124314,5.5099616,6.7843685,6.28937,3.821153,5.3978915,6.9873238,6.7683535,6.5276275,6.239017,6.677312,6.5636635,6.766181,5.449871,6.625581,6.985911,6.76465,6.511787,6.546811,6.7336264,6.6734376,6.7755795,6.1865816,6.3188553,6.41821,5.8949847,6.4162273,6.352131,6.774277,8.209465,6.214588,6.928969,4.3591347,5.441242,6.66128,6.757105,6.5062118,6.243153,6.515632,6.7476482,6.686074,6.8921366,6.556443,6.097077,6.5542016,7.083366,6.576994,6.224171,5.6602864,5.2787905,6.6459975,6.6392126,6.2635264,6.521665,6.8820252,6.786373,6.6958838,6.975128,6.529479,8.20402,6.6275334,6.730307,6.6090455,7.314044,6.448793,6.2348933,6.0146203,6.8973436,5.7400126,6.159289,6.2816763,6.735883,6.311849,6.5968223,6.0955853,5.133149,6.2841983,6.095619,5.7526884,6.32098,6.5851746,6.32444,5.741963,6.666303,6.62974,6.2104993,6.707238,5.4782586,6.55712,6.6437545,8.113673,6.474401,5.916404,7.0678186,6.6850543,6.471529,5.8527074,6.809174,6.7370777,6.6436872,6.863818,6.673936,6.6201186,6.261254,6.6084332,6.601242,6.7219534,6.4884276,6.2018957,6.69719,6.322436,6.742341,6.541746,6.5222,5.5042396,6.779646,6.928202,6.5282207,6.576803,6.2935476,6.215646,5.583344,6.489013,6.5714397,6.0311184,6.266367,6.7745323,6.222105,6.8373604,6.968432,6.262661,6.6915402,6.7660933,6.6913586,5.738063,6.576026,6.4276786,6.752507,6.7426505,6.437469,6.520507,6.594055,6.2151074,6.7435064,6.5182223,5.5629296,6.4602413,6.6517506,5.948049,5.8300858,6.338637,6.633977,6.9013677,6.281172,6.2630315,6.7935386,6.6188703,5.3753867,6.2465415,6.158801,6.768395,6.7561574,6.3140006,6.5716667,6.158084,6.7564516,6.835278,6.2722836,6.3661222,6.5161247,6.3626704,6.727364,6.830841,6.429435,7.197117,6.6464014,6.2837405,6.9148517,6.840787,6.7954392,6.691745,6.2533627,5.888549,6.6086864,6.2038035,6.5219355,5.482215,4.727185,6.295262,6.8863554,6.673552,5.932963,6.389674,6.772504,5.8527417,6.7468834,5.9596105,6.1967,6.7369375,6.3559117,6.6624646,6.177771,6.602367,6.3511677,6.771414,6.1345344],\"yaxis\":\"y\",\"type\":\"scattergl\"},{\"hovertemplate\":\"leiden=10\\u003cbr\\u003eUMAP-1=%{x}\\u003cbr\\u003eUMAP-2=%{y}\\u003cextra\\u003e\\u003c\\u002fextra\\u003e\",\"legendgroup\":\"10\",\"marker\":{\"color\":\"#00A08B\",\"symbol\":\"circle\",\"opacity\":0.5,\"size\":10},\"mode\":\"markers\",\"name\":\"10\",\"showlegend\":true,\"x\":[15.092092,10.793561,14.918628,15.221433,14.841925,13.26524,14.423698,15.051964,14.679949,12.973116,14.804013,14.827748,15.21852,14.891557,14.775461,14.490166,12.67829,15.365366,15.148775,10.917554,15.380759,14.42348,11.494903,11.237208,15.1194315,15.323268,15.298301,11.456995,15.382859,15.422354,14.259754,14.696899,12.32665,12.881112,15.310038,15.168941,15.161579,15.369032,13.785289,14.364685,14.675839,14.622346,15.309582,14.937083,15.492683,14.526686,15.245438,14.295713,14.408542,15.259105,13.623254,15.561111,14.844985,14.95312,14.825353,14.471506,15.112048,13.870323,15.068067,13.365801,14.223488,15.225351,14.247308,11.164175,15.285617,15.096633,13.070286,15.282605,14.9317665,11.267483,13.120151,15.35641,15.18744,14.697971,15.409581,10.775403,15.148119,13.848702,15.306766,10.992314,11.524003,15.162581,12.614723,13.656773,15.408928,13.353574,14.932991,12.093946,14.608958,12.474678,15.573925,15.073508,14.430662,11.95283,14.476905,13.523897,15.114304,15.259745,15.221877,15.185271,13.146462,14.758369,11.099513,14.609385,14.532018,13.462739,12.283555,14.543993,14.732208,12.964572,10.889751,15.069379,10.741689,11.250244,14.287357,13.552377,15.181886,15.187797,14.890931,11.0381975,14.3776865,14.991703,13.95019,14.695873,11.275802,14.8326435,14.427593,11.900458,15.229119,14.813942,14.312382,14.996135,15.308283,15.371687,14.76231,15.448643,13.596577,15.569585,14.054012,13.900552,15.022043,14.984421,14.077428,14.734932,13.849765,11.114948,11.002747,11.118186,10.866972,13.416697,13.772227,9.922173,15.557438,13.680973,14.155559,15.009694,14.551098,13.66067,10.993826,14.643709,12.311733,15.030816,14.607412,13.813511,10.796101,13.81106,15.272353,15.208812,15.285981,10.77815,11.240674,15.247011,15.319933,11.061779,14.831509,12.775946,15.306599,15.02131,14.982462,14.958074,14.661908,15.094709,13.957668,15.319069,10.989776,14.677306,14.9679165,13.008917,15.374458,15.42897,13.401055,14.681016,15.02173,10.686576,14.966222,15.202901,15.245959,15.426383,13.8793745,11.241518,14.141929,14.37421,14.12496,15.558642,15.360649,15.332476,15.17333,11.099348,14.5133295,14.916473,13.259426,15.169697,10.900486,15.583307,11.379685,10.017785,12.100672,15.215561,10.96096,13.485263,10.79429,14.5485735,11.494853,14.98548,14.898578,15.285467,15.285825,13.523429,13.380198,14.412418,13.268956,14.053292,14.290075,14.639039,11.224239,12.572904,14.491736,14.588245,14.672016,14.592019,10.9104395,15.156591,13.780555,13.000032,10.944762,10.964018,15.01116,11.251156,15.419584,14.992204,12.773477,14.140935,14.877899,15.449181,15.344852,11.589276,12.419936,12.2932205,14.607069,14.934756,15.263747,13.161621,15.162552,15.128423,15.01472,14.399632,11.625354,13.008744,14.29841,14.033699,14.661961,13.9454,14.607689,10.817943,15.358657,13.390326,13.8453245],\"xaxis\":\"x\",\"y\":[4.5469666,4.5154843,5.0766063,4.2236843,4.0637064,5.5248866,4.19631,4.3120604,4.4874444,6.3331904,4.4642215,5.035628,4.338871,4.8423553,4.553014,4.499303,5.350103,3.7610838,4.072923,4.9264507,3.9963348,4.453271,4.9036627,4.598935,4.3526545,3.9170809,4.020786,4.886141,4.0455976,3.7346966,8.042841,4.4082294,5.762626,4.647029,3.9761367,4.087893,3.8062556,3.7227342,5.789625,3.9273312,4.018688,4.345368,3.8551927,5.0227118,3.6543798,4.5699344,3.7784975,6.5224915,5.1803865,3.9102361,4.8431334,3.596465,3.9404764,4.018363,4.0541625,4.540017,4.192379,4.7799444,3.785825,4.516736,5.0090504,3.8367472,5.620133,4.6631856,4.1113987,4.3469167,5.571593,3.7961917,4.235904,4.7042274,4.6507363,3.8275063,4.265985,4.336317,4.258566,4.520654,4.0780263,4.780743,3.7938757,4.904735,4.5377345,4.1226754,3.7466295,5.5681734,3.7063105,4.4903865,4.4937468,7.4246182,3.9415123,5.2912035,3.5780115,4.957993,4.188846,5.3234034,4.672487,5.072826,4.7490597,4.2330546,4.2381425,4.4578867,4.908476,4.3089285,4.159303,4.3831606,4.107739,4.899816,6.144347,4.086459,4.495095,4.497209,4.6893625,4.8806534,4.3910317,4.786406,4.232541,4.7117443,4.1919374,4.302176,4.0283256,4.5345345,4.626724,4.2130857,6.4931545,4.5912905,4.3241014,4.1413317,6.1822248,8.391377,3.996061,4.3277655,4.5538807,4.469865,4.0765357,3.9664533,4.48814,3.8816273,4.700158,3.5802665,6.397611,5.160707,4.0869093,4.031249,6.1682916,3.9835396,5.7666383,4.601395,4.710631,4.4275,4.6458297,4.676673,5.090648,6.363042,3.608038,4.7602067,5.626837,5.1761417,3.8997529,4.769675,4.832001,4.339816,5.4645715,4.8658834,4.2654634,4.910716,4.3794155,4.595201,3.8936446,3.9167116,3.7441988,4.5071683,4.8633623,3.958026,3.7998617,4.4547787,5.3041058,5.4105506,4.0190015,4.0073886,4.128688,4.719466,4.2880325,4.5509167,5.5640054,4.1252027,4.5784607,4.6314287,4.336131,6.5126576,3.7872508,3.690051,4.7557034,6.8151264,4.2609973,4.426742,4.684084,3.8797925,3.800884,3.9001586,4.562688,5.0656238,5.37041,4.5441203,4.600839,3.5929716,4.0415773,3.9323158,4.276753,4.4357886,4.514026,7.62732,4.6807885,4.127687,4.7573915,3.580188,4.9114013,6.3734426,2.4887557,4.168979,4.6863265,5.5641193,4.45065,4.016112,4.925314,4.074788,4.0226903,4.1002607,3.757726,4.7889676,5.3037324,4.051477,6.2648563,5.174383,5.184585,4.723027,4.801354,5.246659,4.228761,4.2647176,4.4089866,4.452477,4.516306,4.1635456,5.430556,4.46513,4.5019884,4.4370937,4.2543263,5.0096807,3.718549,4.2922435,4.1957254,3.8545964,4.603896,3.6716516,4.091604,4.787561,5.3130198,6.4740376,4.3378367,4.0845075,4.032088,5.3178306,3.8665576,4.0146317,3.9068305,4.772563,4.9138436,4.694304,5.970971,4.9368553,4.3364778,5.016624,4.3794503,4.5408483,4.145021,4.6492,5.055242],\"yaxis\":\"y\",\"type\":\"scattergl\"},{\"hovertemplate\":\"leiden=11\\u003cbr\\u003eUMAP-1=%{x}\\u003cbr\\u003eUMAP-2=%{y}\\u003cextra\\u003e\\u003c\\u002fextra\\u003e\",\"legendgroup\":\"11\",\"marker\":{\"color\":\"#FB00D1\",\"symbol\":\"circle\",\"opacity\":0.5,\"size\":10},\"mode\":\"markers\",\"name\":\"11\",\"showlegend\":true,\"x\":[15.299198,14.120441,15.2741165,15.428438,13.917914,14.595371,10.608795,13.846018,14.1455555,13.864099,14.731035,14.943855,14.590715,14.330165,14.16052,14.127018,14.0162945,14.068162,12.809794,14.806668,14.331427,14.605097,14.831795,13.966003,14.733006,13.389908,13.950779,13.934232,14.115177,14.2526655,13.503772,13.559038,14.295579,14.334639,14.027106,14.134956,13.613064,15.024168,14.238628,14.00265,14.387976,14.1185465,14.14245,13.922575,13.491381,14.710788,14.179709,14.193503,14.08,14.138153,14.182111,14.440051,14.303565,14.735944,14.078907,14.244806,14.93186,14.612248,14.591098,13.966334,14.087572,14.219676,13.605251,14.089689,15.277079,14.102279,14.280761,14.406577,14.388746,14.37532,14.14542,13.780117,14.708323,13.034841,14.691758,14.155768,14.427279,13.069779,14.381089,13.600784,14.461334,15.212621,14.216023,14.325026,14.428655,14.666192,14.901858,14.964115,14.106149,14.1776285,14.58167,14.174506,14.111257,14.41656,14.960941,14.123556,13.864647,14.44585,14.171217,14.400706,13.69462,10.923528,14.02441,14.4301,13.389439,15.020875,13.781494,14.00323,14.320103,14.184261,14.165791,15.635015,14.019305,14.990872,13.432326,14.480386,14.269282,13.868526,13.818016,13.405013,14.566314,14.333726,14.17563,14.946609,15.461017,15.097531,13.984428,14.338525,12.947226,14.38855,14.456612,14.595705,14.231129,14.244038,14.431284,14.787757,13.932721,13.651062,14.056719,14.492845,11.342835,11.316831,14.317889,14.219242,14.171189,15.45416,14.347761,14.297272,14.300608,13.466562,13.676507,13.938367,13.708693,14.224288,13.977629,14.072072,14.880892,15.504183,11.105014,13.969455,10.692926,9.603599,14.418333,14.025827,14.278814,14.300203,14.039848,13.48064,14.259854,14.548443,13.760148,13.762835,13.137675,14.474812,15.068076,13.686995,13.913183,14.23249,15.224753,15.226101,15.501629,14.615626,14.170922,13.840145,14.054916,15.075947,14.179538,13.811584,14.951926,14.184353,14.078746,14.498788,9.595331,13.819922,14.402364,13.971316,15.23465,14.258922,14.867248,13.69934,14.44617,14.279232,14.176676,14.149264,14.145979,14.280354,13.778824,14.588633,14.362951,14.381337,14.554793,14.143777,15.237472,14.023311,12.98817,14.220945,13.987142,14.258624,11.082784,12.799218,12.809582,14.410212,10.880687,15.312859,14.135463,13.884112,14.267316,13.88782,13.579827,14.012931,15.352788,14.254948,10.527169,15.483527,12.877985,14.303669,15.127155,14.8757,14.111689,9.601697,13.855602,12.432718,14.038955,14.667318,14.189327,13.968914,13.254175,14.167041,14.258182,11.550859,14.307516,14.039965,14.822838,14.382219,14.40378,15.193951,14.699447,14.17918,15.492688,14.306147,13.126283,14.018718],\"xaxis\":\"x\",\"y\":[4.638484,5.0530567,4.641012,4.598316,5.0092463,4.742892,4.880642,5.0366797,4.0080137,4.7088456,4.6893744,4.723331,4.714723,5.6602073,4.756759,4.758681,3.8677714,4.813975,3.2785172,4.6910157,4.8208065,4.721726,4.695228,4.1712766,4.900347,4.7834787,4.825666,4.1862965,5.06221,4.7684746,5.19915,4.9819107,4.8614655,4.805861,5.0380416,3.8292813,4.8978205,5.1195974,3.5094213,5.1713543,4.8651195,4.000421,5.5633883,4.736629,5.411181,5.077973,4.987836,3.6208808,4.899389,4.831989,4.7163844,5.1509895,4.9817915,5.042261,4.541759,5.061282,4.935425,5.1770515,4.996648,5.133727,4.819901,4.84497,4.9660635,4.8154397,4.610439,4.8252873,5.1363397,4.766844,4.804065,4.8720884,4.8611603,5.2328115,4.9554334,4.2530255,4.928003,4.8542,5.1907177,5.6688514,5.2553725,5.0403714,4.949488,4.661023,5.0394483,4.733212,5.1322308,5.166625,4.829094,4.867,4.6058407,3.9017215,4.798402,4.944482,3.941592,4.826438,4.770785,4.8539705,4.906651,4.3080053,4.919329,4.47536,4.9185934,5.7713075,4.7601805,4.1086574,4.1370163,4.8939385,5.0987563,4.94336,4.843557,4.90423,4.491877,5.251348,5.5159206,4.8477373,4.8142433,4.737184,3.866088,5.0379567,5.2706766,4.776812,4.6923704,5.30045,4.619897,4.758267,4.582852,5.0426793,4.9266915,3.2733803,6.0248227,4.734608,4.9906564,5.1674213,4.9961123,5.5844827,5.012028,4.6942945,5.1655936,5.1008935,4.8926697,4.990797,4.661683,4.724714,5.021815,3.9556267,3.6974394,4.609134,4.746126,4.8856835,5.193337,4.714414,4.7922664,4.473003,4.7437654,3.509594,4.1375566,5.262716,5.2315445,4.639815,4.804016,5.0577807,4.710638,6.2674127,4.779881,4.6855145,4.8372474,4.725009,4.2079225,5.558306,4.7233777,4.827805,4.956186,4.8655457,4.856396,4.871411,4.687721,4.925254,4.370902,4.633512,4.6764336,4.693751,4.634958,5.0085316,4.0459857,5.084502,4.9337277,5.0503592,5.0986614,4.8076153,4.6676197,4.7650266,4.896627,4.8175097,6.3039217,5.108154,4.811806,3.844783,4.6565957,4.9521446,5.1025496,5.024461,4.7701316,4.6056466,4.9671407,4.703573,3.7356193,4.957948,5.0104933,5.124447,4.908166,4.194932,4.754102,4.8351054,4.678194,4.870577,6.9055243,4.9954724,4.927097,4.7925067,5.1092744,3.1484213,3.337846,4.814096,5.035429,4.858821,4.723565,4.409042,3.6086009,4.2991724,5.0203333,4.722974,4.61438,4.9158115,4.9280763,4.615039,3.2725196,5.0282245,4.715711,5.22331,4.8785543,6.2751317,5.0118017,8.569939,4.426623,4.7520537,4.7963076,4.911886,4.8726916,4.320572,3.6201785,4.619831,5.011684,4.761672,4.9525185,4.759544,4.728035,4.6570725,4.563083,3.562134,4.6253295,4.7017684,5.721746,4.918144],\"yaxis\":\"y\",\"type\":\"scattergl\"},{\"hovertemplate\":\"leiden=12\\u003cbr\\u003eUMAP-1=%{x}\\u003cbr\\u003eUMAP-2=%{y}\\u003cextra\\u003e\\u003c\\u002fextra\\u003e\",\"legendgroup\":\"12\",\"marker\":{\"color\":\"#FC0080\",\"symbol\":\"circle\",\"opacity\":0.5,\"size\":10},\"mode\":\"markers\",\"name\":\"12\",\"showlegend\":true,\"x\":[9.400854,9.067498,8.919178,9.292864,9.799968,8.703593,9.575115,9.18755,9.263187,9.028825,8.756365,8.877468,9.511791,9.329623,9.228082,8.534661,8.982485,9.158978,8.824169,9.324033,8.617533,9.424423,11.735415,8.634407,9.265417,9.27063,8.9562845,9.096259,9.304933,9.198548,9.0891075,9.052724,9.388593,8.7873335,9.251711,9.276403,9.546222,8.885513,9.121028,9.245065,8.865446,9.473214,8.6457205,9.380012,8.728183,9.251854,9.412303,9.433093,9.230171,9.12632,9.354779,12.937292,9.06585,9.182136,9.2453785,9.411325,9.641266,9.094933,9.840886,9.030633,9.319543,9.279292,9.099984,9.603262,9.10722,9.152505,9.026686,8.7190485,13.036345,9.056011,9.137342,8.758294,9.351884,9.491852,9.149717,9.093092,8.936292,9.000476,6.996307,9.005002,9.571704,8.731248,9.057453,9.41506,9.430254,9.205834,9.245912,9.652604,8.79358,9.348214,9.248541,9.17269,8.712291,9.272832,8.987681,8.897725,9.268239,9.159134,9.285414,9.416727,9.114477,8.833501,8.995516,9.60533,9.106934,9.195944,9.141613,9.391409,8.61226,9.183265,9.271686,9.327881,9.23745,8.745924,9.395668,9.28486,8.957968,9.301957,9.0839,12.77137,9.137865,8.70821,8.606845,9.017363,9.230381,9.020419,9.028448,10.29988,9.084704,9.160208,9.359392,9.306366,9.011337,8.981953,9.079378,9.462293,9.182333,9.137073,9.221156,8.779797,9.300119,9.305326,9.336425,9.450587,9.195916,9.311584,9.574172,9.129849,9.605234,9.189092,9.029636,9.1930275,9.11268,9.399125,8.929967,9.013402,9.090527,9.291458,9.3293495,9.392555,9.294347,9.195576,9.430642,8.666874,8.604032,9.184592,9.187867,8.66775,8.507724,9.102115,9.172523,9.183532,9.416527,8.602257,9.13459,9.219707,8.895262,9.092616,9.2638855,9.083234,8.818286,8.874326,8.996263,9.234522,9.122429,9.0429945,8.981026,8.685132,8.916384,9.173862,9.225235,8.801047,9.455418],\"xaxis\":\"x\",\"y\":[4.090351,4.5265365,4.129885,4.2701836,4.3816533,4.021166,4.2603097,4.2304554,4.086251,4.155397,4.1140943,4.269424,4.1249895,4.220297,4.2337627,7.2606955,4.1379657,4.425329,6.8220854,3.9956737,4.035822,4.119909,4.0496945,3.9753423,4.254395,3.9165318,4.0519657,4.112847,4.413143,4.510902,4.357437,4.105325,4.079233,4.1436543,3.9087088,4.3042636,3.9747503,4.0534306,4.1891837,4.22993,4.564109,4.176367,3.975582,4.293181,4.0333953,4.2558885,4.2024417,4.2190466,4.0955076,4.293728,4.2952733,5.057871,4.15074,4.190808,4.2288713,3.9610372,4.25183,4.138118,5.078352,4.115967,4.267863,4.2751594,4.251492,4.223704,3.9942281,4.2217803,4.1914797,4.001058,4.45525,4.1308346,4.12989,4.0250053,4.013011,4.083701,4.4995923,4.3725147,4.404179,4.080823,5.3732557,4.1492257,4.456494,6.608413,4.1047854,4.298154,4.1718593,4.242034,4.1139255,4.7182236,4.0427346,4.0049453,3.9394586,4.0909348,4.1028514,3.9642086,4.1265907,3.998656,4.2988796,4.019944,4.205328,4.3202386,4.1772456,4.067326,4.085835,4.073608,4.453044,4.0257764,3.9987125,4.1518264,3.9673824,4.029153,3.8966248,4.1432304,4.6798925,3.998804,4.0370016,4.127069,4.427175,4.6024346,4.1665306,2.827558,4.4057517,3.985204,3.9544148,4.225069,4.1083636,3.9890993,4.22619,4.0320034,4.063775,4.1070337,4.440455,4.187566,4.469931,4.1639338,4.209539,4.590714,4.1575947,4.1858335,3.91178,6.6024685,4.1645555,4.3434167,4.5193415,4.1711946,4.351384,4.851352,4.055717,4.0755363,4.7966824,4.175521,5.7001815,4.130645,4.282434,4.4252477,4.1844153,4.120346,4.4256973,4.199111,3.8891907,4.120669,4.3474097,4.066484,3.887902,4.0818005,4.215463,4.3853083,3.8765624,4.0022326,7.170053,4.2478046,4.2816806,4.098876,4.268656,3.974654,4.2017436,4.3422365,4.1056914,4.087649,4.2066855,4.339098,4.0520864,4.045733,4.272335,4.0625606,4.1816497,4.185855,4.083273,3.9905388,4.1169915,4.4006295,4.2298446,4.039658,4.682936],\"yaxis\":\"y\",\"type\":\"scattergl\"},{\"hovertemplate\":\"leiden=13\\u003cbr\\u003eUMAP-1=%{x}\\u003cbr\\u003eUMAP-2=%{y}\\u003cextra\\u003e\\u003c\\u002fextra\\u003e\",\"legendgroup\":\"13\",\"marker\":{\"color\":\"#B2828D\",\"symbol\":\"circle\",\"opacity\":0.5,\"size\":10},\"mode\":\"markers\",\"name\":\"13\",\"showlegend\":true,\"x\":[6.6494813,5.977927,6.677131,6.547872,6.510821,6.200538,6.7637954,6.20308,7.2003384,6.8427954,6.856757,6.5554047,6.557638,6.0414896,6.764309,8.053879,6.5684767,6.119692,6.183773,6.3182096,6.453666,6.16933,6.5251718,6.130643,6.151774,6.6639156,6.3387413,7.132977,6.144783,6.5062494,6.0641646,6.5675673,6.455876,6.1722803,6.554945,6.7391806,6.612303,6.4612064,6.4249935,6.585991,6.212041,6.217216,6.6904182,6.570571,6.1091523,6.6089926,6.5182977,6.7437787,6.615545,6.1857944,8.556002,6.56903,6.2785172,6.556359,6.520237,6.3194065,6.8527355,6.669071,6.454128,6.0600905,6.571292,6.6522427,6.71878,6.7393036,6.0847154,6.519105,6.494024,6.5275936,6.7317386,8.579129,6.5758104,6.6734943,6.6678777,6.5105934,9.088773,6.2996497,6.5601263,6.115698,6.665677,6.4550815,6.686212,6.62198,6.5606923,7.132446,6.5083127,6.174544,6.511783,7.523821,6.4519544,6.4637256,7.070319,6.525803,6.601911,6.6912675,6.4075737,6.4887843,6.7550616,6.498843,6.513174,6.47088,6.626785,6.758562,6.6746984,6.193263,6.2226043,6.0831103,6.2415056,6.5097632,6.2863255,6.8973074,7.322234,6.4654236,6.563961,6.108536,6.4317055,6.57035,6.455697,6.4647384,6.5968924,6.527056,6.999848,6.1932473,6.566332,7.255605,6.0676694,6.980195,6.1338882,6.88216,6.646141],\"xaxis\":\"x\",\"y\":[5.437776,5.574388,5.4121623,5.3458567,5.306724,5.518185,7.6481395,5.5007324,6.169846,5.384223,5.5893393,5.2725987,5.307902,5.5618186,5.9995103,5.7672625,5.346367,5.576435,5.529634,5.4532814,5.320007,5.586135,5.4177985,5.570285,5.6110053,5.3871593,5.5276628,6.308075,5.5648,5.3108144,5.5612507,5.3014665,5.4071465,5.6011014,5.2460055,5.353813,5.2547193,5.281958,5.468693,5.382031,5.507454,5.5549345,5.3823104,5.3823576,5.5649905,5.3533397,5.3083696,5.48518,5.358036,5.565785,6.3966775,5.3789,5.7083774,5.3249907,5.323936,5.637916,5.3748274,5.3516364,5.468039,5.561814,5.3054323,5.4014435,5.3358226,5.9904804,5.523743,5.3772893,5.552884,5.3153305,5.540278,6.5382833,5.3067017,6.2369933,5.418077,5.3548813,6.270271,5.502574,5.296347,5.5615478,6.2166924,5.3558273,5.4802175,5.3462853,5.275746,5.5266232,5.3285203,5.559511,5.315712,7.0827055,5.3111672,5.327744,6.105173,5.330459,5.4549074,5.3016524,5.404958,5.2952323,5.3262677,5.275899,5.3899655,5.3201814,5.224799,5.535346,5.4503984,5.543403,5.531045,5.556449,5.5252204,5.3208976,5.6406436,5.2057495,6.3234324,5.3864365,5.335712,5.561915,5.4313183,5.3074512,5.2050014,5.379289,5.506088,5.47187,5.7766647,5.5246434,5.396817,6.315575,5.553794,5.4460754,5.581594,5.386344,5.3774576],\"yaxis\":\"y\",\"type\":\"scattergl\"}],                        {\"template\":{\"data\":{\"barpolar\":[{\"marker\":{\"line\":{\"color\":\"white\",\"width\":0.5},\"pattern\":{\"fillmode\":\"overlay\",\"size\":10,\"solidity\":0.2}},\"type\":\"barpolar\"}],\"bar\":[{\"error_x\":{\"color\":\"rgb(36,36,36)\"},\"error_y\":{\"color\":\"rgb(36,36,36)\"},\"marker\":{\"line\":{\"color\":\"white\",\"width\":0.5},\"pattern\":{\"fillmode\":\"overlay\",\"size\":10,\"solidity\":0.2}},\"type\":\"bar\"}],\"carpet\":[{\"aaxis\":{\"endlinecolor\":\"rgb(36,36,36)\",\"gridcolor\":\"white\",\"linecolor\":\"white\",\"minorgridcolor\":\"white\",\"startlinecolor\":\"rgb(36,36,36)\"},\"baxis\":{\"endlinecolor\":\"rgb(36,36,36)\",\"gridcolor\":\"white\",\"linecolor\":\"white\",\"minorgridcolor\":\"white\",\"startlinecolor\":\"rgb(36,36,36)\"},\"type\":\"carpet\"}],\"choropleth\":[{\"colorbar\":{\"outlinewidth\":1,\"tickcolor\":\"rgb(36,36,36)\",\"ticks\":\"outside\"},\"type\":\"choropleth\"}],\"contourcarpet\":[{\"colorbar\":{\"outlinewidth\":1,\"tickcolor\":\"rgb(36,36,36)\",\"ticks\":\"outside\"},\"type\":\"contourcarpet\"}],\"contour\":[{\"colorbar\":{\"outlinewidth\":1,\"tickcolor\":\"rgb(36,36,36)\",\"ticks\":\"outside\"},\"colorscale\":[[0.0,\"#440154\"],[0.1111111111111111,\"#482878\"],[0.2222222222222222,\"#3e4989\"],[0.3333333333333333,\"#31688e\"],[0.4444444444444444,\"#26828e\"],[0.5555555555555556,\"#1f9e89\"],[0.6666666666666666,\"#35b779\"],[0.7777777777777778,\"#6ece58\"],[0.8888888888888888,\"#b5de2b\"],[1.0,\"#fde725\"]],\"type\":\"contour\"}],\"heatmapgl\":[{\"colorbar\":{\"outlinewidth\":1,\"tickcolor\":\"rgb(36,36,36)\",\"ticks\":\"outside\"},\"colorscale\":[[0.0,\"#440154\"],[0.1111111111111111,\"#482878\"],[0.2222222222222222,\"#3e4989\"],[0.3333333333333333,\"#31688e\"],[0.4444444444444444,\"#26828e\"],[0.5555555555555556,\"#1f9e89\"],[0.6666666666666666,\"#35b779\"],[0.7777777777777778,\"#6ece58\"],[0.8888888888888888,\"#b5de2b\"],[1.0,\"#fde725\"]],\"type\":\"heatmapgl\"}],\"heatmap\":[{\"colorbar\":{\"outlinewidth\":1,\"tickcolor\":\"rgb(36,36,36)\",\"ticks\":\"outside\"},\"colorscale\":[[0.0,\"#440154\"],[0.1111111111111111,\"#482878\"],[0.2222222222222222,\"#3e4989\"],[0.3333333333333333,\"#31688e\"],[0.4444444444444444,\"#26828e\"],[0.5555555555555556,\"#1f9e89\"],[0.6666666666666666,\"#35b779\"],[0.7777777777777778,\"#6ece58\"],[0.8888888888888888,\"#b5de2b\"],[1.0,\"#fde725\"]],\"type\":\"heatmap\"}],\"histogram2dcontour\":[{\"colorbar\":{\"outlinewidth\":1,\"tickcolor\":\"rgb(36,36,36)\",\"ticks\":\"outside\"},\"colorscale\":[[0.0,\"#440154\"],[0.1111111111111111,\"#482878\"],[0.2222222222222222,\"#3e4989\"],[0.3333333333333333,\"#31688e\"],[0.4444444444444444,\"#26828e\"],[0.5555555555555556,\"#1f9e89\"],[0.6666666666666666,\"#35b779\"],[0.7777777777777778,\"#6ece58\"],[0.8888888888888888,\"#b5de2b\"],[1.0,\"#fde725\"]],\"type\":\"histogram2dcontour\"}],\"histogram2d\":[{\"colorbar\":{\"outlinewidth\":1,\"tickcolor\":\"rgb(36,36,36)\",\"ticks\":\"outside\"},\"colorscale\":[[0.0,\"#440154\"],[0.1111111111111111,\"#482878\"],[0.2222222222222222,\"#3e4989\"],[0.3333333333333333,\"#31688e\"],[0.4444444444444444,\"#26828e\"],[0.5555555555555556,\"#1f9e89\"],[0.6666666666666666,\"#35b779\"],[0.7777777777777778,\"#6ece58\"],[0.8888888888888888,\"#b5de2b\"],[1.0,\"#fde725\"]],\"type\":\"histogram2d\"}],\"histogram\":[{\"marker\":{\"line\":{\"color\":\"white\",\"width\":0.6}},\"type\":\"histogram\"}],\"mesh3d\":[{\"colorbar\":{\"outlinewidth\":1,\"tickcolor\":\"rgb(36,36,36)\",\"ticks\":\"outside\"},\"type\":\"mesh3d\"}],\"parcoords\":[{\"line\":{\"colorbar\":{\"outlinewidth\":1,\"tickcolor\":\"rgb(36,36,36)\",\"ticks\":\"outside\"}},\"type\":\"parcoords\"}],\"pie\":[{\"automargin\":true,\"type\":\"pie\"}],\"scatter3d\":[{\"line\":{\"colorbar\":{\"outlinewidth\":1,\"tickcolor\":\"rgb(36,36,36)\",\"ticks\":\"outside\"}},\"marker\":{\"colorbar\":{\"outlinewidth\":1,\"tickcolor\":\"rgb(36,36,36)\",\"ticks\":\"outside\"}},\"type\":\"scatter3d\"}],\"scattercarpet\":[{\"marker\":{\"colorbar\":{\"outlinewidth\":1,\"tickcolor\":\"rgb(36,36,36)\",\"ticks\":\"outside\"}},\"type\":\"scattercarpet\"}],\"scattergeo\":[{\"marker\":{\"colorbar\":{\"outlinewidth\":1,\"tickcolor\":\"rgb(36,36,36)\",\"ticks\":\"outside\"}},\"type\":\"scattergeo\"}],\"scattergl\":[{\"marker\":{\"colorbar\":{\"outlinewidth\":1,\"tickcolor\":\"rgb(36,36,36)\",\"ticks\":\"outside\"}},\"type\":\"scattergl\"}],\"scattermapbox\":[{\"marker\":{\"colorbar\":{\"outlinewidth\":1,\"tickcolor\":\"rgb(36,36,36)\",\"ticks\":\"outside\"}},\"type\":\"scattermapbox\"}],\"scatterpolargl\":[{\"marker\":{\"colorbar\":{\"outlinewidth\":1,\"tickcolor\":\"rgb(36,36,36)\",\"ticks\":\"outside\"}},\"type\":\"scatterpolargl\"}],\"scatterpolar\":[{\"marker\":{\"colorbar\":{\"outlinewidth\":1,\"tickcolor\":\"rgb(36,36,36)\",\"ticks\":\"outside\"}},\"type\":\"scatterpolar\"}],\"scatter\":[{\"fillpattern\":{\"fillmode\":\"overlay\",\"size\":10,\"solidity\":0.2},\"type\":\"scatter\"}],\"scatterternary\":[{\"marker\":{\"colorbar\":{\"outlinewidth\":1,\"tickcolor\":\"rgb(36,36,36)\",\"ticks\":\"outside\"}},\"type\":\"scatterternary\"}],\"surface\":[{\"colorbar\":{\"outlinewidth\":1,\"tickcolor\":\"rgb(36,36,36)\",\"ticks\":\"outside\"},\"colorscale\":[[0.0,\"#440154\"],[0.1111111111111111,\"#482878\"],[0.2222222222222222,\"#3e4989\"],[0.3333333333333333,\"#31688e\"],[0.4444444444444444,\"#26828e\"],[0.5555555555555556,\"#1f9e89\"],[0.6666666666666666,\"#35b779\"],[0.7777777777777778,\"#6ece58\"],[0.8888888888888888,\"#b5de2b\"],[1.0,\"#fde725\"]],\"type\":\"surface\"}],\"table\":[{\"cells\":{\"fill\":{\"color\":\"rgb(237,237,237)\"},\"line\":{\"color\":\"white\"}},\"header\":{\"fill\":{\"color\":\"rgb(217,217,217)\"},\"line\":{\"color\":\"white\"}},\"type\":\"table\"}]},\"layout\":{\"annotationdefaults\":{\"arrowhead\":0,\"arrowwidth\":1},\"autotypenumbers\":\"strict\",\"coloraxis\":{\"colorbar\":{\"outlinewidth\":1,\"tickcolor\":\"rgb(36,36,36)\",\"ticks\":\"outside\"}},\"colorscale\":{\"diverging\":[[0.0,\"rgb(103,0,31)\"],[0.1,\"rgb(178,24,43)\"],[0.2,\"rgb(214,96,77)\"],[0.3,\"rgb(244,165,130)\"],[0.4,\"rgb(253,219,199)\"],[0.5,\"rgb(247,247,247)\"],[0.6,\"rgb(209,229,240)\"],[0.7,\"rgb(146,197,222)\"],[0.8,\"rgb(67,147,195)\"],[0.9,\"rgb(33,102,172)\"],[1.0,\"rgb(5,48,97)\"]],\"sequential\":[[0.0,\"#440154\"],[0.1111111111111111,\"#482878\"],[0.2222222222222222,\"#3e4989\"],[0.3333333333333333,\"#31688e\"],[0.4444444444444444,\"#26828e\"],[0.5555555555555556,\"#1f9e89\"],[0.6666666666666666,\"#35b779\"],[0.7777777777777778,\"#6ece58\"],[0.8888888888888888,\"#b5de2b\"],[1.0,\"#fde725\"]],\"sequentialminus\":[[0.0,\"#440154\"],[0.1111111111111111,\"#482878\"],[0.2222222222222222,\"#3e4989\"],[0.3333333333333333,\"#31688e\"],[0.4444444444444444,\"#26828e\"],[0.5555555555555556,\"#1f9e89\"],[0.6666666666666666,\"#35b779\"],[0.7777777777777778,\"#6ece58\"],[0.8888888888888888,\"#b5de2b\"],[1.0,\"#fde725\"]]},\"colorway\":[\"#1F77B4\",\"#FF7F0E\",\"#2CA02C\",\"#D62728\",\"#9467BD\",\"#8C564B\",\"#E377C2\",\"#7F7F7F\",\"#BCBD22\",\"#17BECF\"],\"font\":{\"color\":\"rgb(36,36,36)\"},\"geo\":{\"bgcolor\":\"white\",\"lakecolor\":\"white\",\"landcolor\":\"white\",\"showlakes\":true,\"showland\":true,\"subunitcolor\":\"white\"},\"hoverlabel\":{\"align\":\"left\"},\"hovermode\":\"closest\",\"mapbox\":{\"style\":\"light\"},\"paper_bgcolor\":\"white\",\"plot_bgcolor\":\"white\",\"polar\":{\"angularaxis\":{\"gridcolor\":\"rgb(232,232,232)\",\"linecolor\":\"rgb(36,36,36)\",\"showgrid\":false,\"showline\":true,\"ticks\":\"outside\"},\"bgcolor\":\"white\",\"radialaxis\":{\"gridcolor\":\"rgb(232,232,232)\",\"linecolor\":\"rgb(36,36,36)\",\"showgrid\":false,\"showline\":true,\"ticks\":\"outside\"}},\"scene\":{\"xaxis\":{\"backgroundcolor\":\"white\",\"gridcolor\":\"rgb(232,232,232)\",\"gridwidth\":2,\"linecolor\":\"rgb(36,36,36)\",\"showbackground\":true,\"showgrid\":false,\"showline\":true,\"ticks\":\"outside\",\"zeroline\":false,\"zerolinecolor\":\"rgb(36,36,36)\"},\"yaxis\":{\"backgroundcolor\":\"white\",\"gridcolor\":\"rgb(232,232,232)\",\"gridwidth\":2,\"linecolor\":\"rgb(36,36,36)\",\"showbackground\":true,\"showgrid\":false,\"showline\":true,\"ticks\":\"outside\",\"zeroline\":false,\"zerolinecolor\":\"rgb(36,36,36)\"},\"zaxis\":{\"backgroundcolor\":\"white\",\"gridcolor\":\"rgb(232,232,232)\",\"gridwidth\":2,\"linecolor\":\"rgb(36,36,36)\",\"showbackground\":true,\"showgrid\":false,\"showline\":true,\"ticks\":\"outside\",\"zeroline\":false,\"zerolinecolor\":\"rgb(36,36,36)\"}},\"shapedefaults\":{\"fillcolor\":\"black\",\"line\":{\"width\":0},\"opacity\":0.3},\"ternary\":{\"aaxis\":{\"gridcolor\":\"rgb(232,232,232)\",\"linecolor\":\"rgb(36,36,36)\",\"showgrid\":false,\"showline\":true,\"ticks\":\"outside\"},\"baxis\":{\"gridcolor\":\"rgb(232,232,232)\",\"linecolor\":\"rgb(36,36,36)\",\"showgrid\":false,\"showline\":true,\"ticks\":\"outside\"},\"bgcolor\":\"white\",\"caxis\":{\"gridcolor\":\"rgb(232,232,232)\",\"linecolor\":\"rgb(36,36,36)\",\"showgrid\":false,\"showline\":true,\"ticks\":\"outside\"}},\"title\":{\"x\":0.05},\"xaxis\":{\"automargin\":true,\"gridcolor\":\"rgb(232,232,232)\",\"linecolor\":\"rgb(36,36,36)\",\"showgrid\":false,\"showline\":true,\"ticks\":\"outside\",\"title\":{\"standoff\":15},\"zeroline\":false,\"zerolinecolor\":\"rgb(36,36,36)\"},\"yaxis\":{\"automargin\":true,\"gridcolor\":\"rgb(232,232,232)\",\"linecolor\":\"rgb(36,36,36)\",\"showgrid\":false,\"showline\":true,\"ticks\":\"outside\",\"title\":{\"standoff\":15},\"zeroline\":false,\"zerolinecolor\":\"rgb(36,36,36)\"}}},\"xaxis\":{\"anchor\":\"y\",\"domain\":[0.0,1.0],\"title\":{\"text\":\"UMAP-1\"}},\"yaxis\":{\"anchor\":\"x\",\"domain\":[0.0,1.0],\"title\":{\"text\":\"UMAP-2\"}},\"legend\":{\"title\":{\"text\":\"leiden\"},\"tracegroupgap\":0,\"itemsizing\":\"constant\"},\"margin\":{\"t\":60},\"width\":1200,\"height\":800},                        {\"responsive\": true}                    ).then(function(){\n",
              "                            \n",
              "var gd = document.getElementById('e85e66fc-83d5-4df8-b7b8-c812ed865920');\n",
              "var x = new MutationObserver(function (mutations, observer) {{\n",
              "        var display = window.getComputedStyle(gd).display;\n",
              "        if (!display || display === 'none') {{\n",
              "            console.log([gd, 'removed!']);\n",
              "            Plotly.purge(gd);\n",
              "            observer.disconnect();\n",
              "        }}\n",
              "}});\n",
              "\n",
              "// Listen for the removal of the full notebook cells\n",
              "var notebookContainer = gd.closest('#notebook-container');\n",
              "if (notebookContainer) {{\n",
              "    x.observe(notebookContainer, {childList: true});\n",
              "}}\n",
              "\n",
              "// Listen for the clearing of the current output cell\n",
              "var outputEl = gd.closest('.output');\n",
              "if (outputEl) {{\n",
              "    x.observe(outputEl, {childList: true});\n",
              "}}\n",
              "\n",
              "                        })                };                            </script>        </div>\n",
              "</body>\n",
              "</html>"
            ]
          },
          "metadata": {}
        }
      ]
    },
    {
      "cell_type": "markdown",
      "source": [
        "In order to confirm that the clusters above contain the cell types we anticipate, we'll add the existing cell labels from the dataset pulled in from BQ to our AnnData object. To do this we'll perform the following merge:"
      ],
      "metadata": {
        "id": "m5tspe_2kmzL"
      }
    },
    {
      "cell_type": "code",
      "source": [
        "cell_type = data_subset[['iVar', 'Ctype']]\n",
        "cell_type['iVar'] = cell_type['iVar'].str.rsplit('_', n=1).str.get(1)\n",
        "cell_type.drop_duplicates(inplace=True)\n",
        "cell_type.set_index('iVar', inplace=True)"
      ],
      "metadata": {
        "colab": {
          "base_uri": "https://localhost:8080/"
        },
        "id": "IJch0Phai0br",
        "outputId": "02aa949d-4db9-4a1a-f293-cb610f5509ab"
      },
      "execution_count": 117,
      "outputs": [
        {
          "output_type": "stream",
          "name": "stderr",
          "text": [
            "<ipython-input-117-30a87d3bb5f5>:2: SettingWithCopyWarning:\n",
            "\n",
            "\n",
            "A value is trying to be set on a copy of a slice from a DataFrame.\n",
            "Try using .loc[row_indexer,col_indexer] = value instead\n",
            "\n",
            "See the caveats in the documentation: https://pandas.pydata.org/pandas-docs/stable/user_guide/indexing.html#returning-a-view-versus-a-copy\n",
            "\n",
            "<ipython-input-117-30a87d3bb5f5>:3: SettingWithCopyWarning:\n",
            "\n",
            "\n",
            "A value is trying to be set on a copy of a slice from a DataFrame\n",
            "\n",
            "See the caveats in the documentation: https://pandas.pydata.org/pandas-docs/stable/user_guide/indexing.html#returning-a-view-versus-a-copy\n",
            "\n"
          ]
        }
      ]
    },
    {
      "cell_type": "code",
      "source": [
        "fragment_data.obs = fragment_data.obs.merge(how='left',right=cell_type, left_index=True, right_index=True)"
      ],
      "metadata": {
        "id": "Mi51b3Q5jNcz"
      },
      "execution_count": 118,
      "outputs": []
    },
    {
      "cell_type": "markdown",
      "source": [
        "Now when we plot the UMAP again, we can see that although there is some mixture of cells shown within the dataset, the predominate group shown are blasts as the paper cited."
      ],
      "metadata": {
        "id": "ORSztLXCk4Fp"
      }
    },
    {
      "cell_type": "code",
      "source": [
        "snap.pl.umap(fragment_data, color='Ctype', interactive=True, height=800, width=1200, marker_size=10, marker_opacity=0.5)"
      ],
      "metadata": {
        "colab": {
          "base_uri": "https://localhost:8080/",
          "height": 817
        },
        "id": "V265w96_jnuI",
        "outputId": "477796f2-acfe-4724-9137-b8a367f66387"
      },
      "execution_count": 120,
      "outputs": [
        {
          "output_type": "display_data",
          "data": {
            "text/html": [
              "<html>\n",
              "<head><meta charset=\"utf-8\" /></head>\n",
              "<body>\n",
              "    <div>            <script src=\"https://cdnjs.cloudflare.com/ajax/libs/mathjax/2.7.5/MathJax.js?config=TeX-AMS-MML_SVG\"></script><script type=\"text/javascript\">if (window.MathJax && window.MathJax.Hub && window.MathJax.Hub.Config) {window.MathJax.Hub.Config({SVG: {font: \"STIX-Web\"}});}</script>                <script type=\"text/javascript\">window.PlotlyConfig = {MathJaxConfig: 'local'};</script>\n",
              "        <script charset=\"utf-8\" src=\"https://cdn.plot.ly/plotly-2.35.2.min.js\"></script>                <div id=\"a9b8139e-54b4-4587-a1a7-aca103876988\" class=\"plotly-graph-div\" style=\"height:800px; width:1200px;\"></div>            <script type=\"text/javascript\">                                    window.PLOTLYENV=window.PLOTLYENV || {};                                    if (document.getElementById(\"a9b8139e-54b4-4587-a1a7-aca103876988\")) {                    Plotly.newPlot(                        \"a9b8139e-54b4-4587-a1a7-aca103876988\",                        [{\"hovertemplate\":\"Ctype=Blasts\\u003cbr\\u003eUMAP-1=%{x}\\u003cbr\\u003eUMAP-2=%{y}\\u003cextra\\u003e\\u003c\\u002fextra\\u003e\",\"legendgroup\":\"Blasts\",\"marker\":{\"color\":\"#2E91E5\",\"symbol\":\"circle\",\"opacity\":0.5,\"size\":10},\"mode\":\"markers\",\"name\":\"Blasts\",\"showlegend\":true,\"x\":[11.989316,13.153374,15.092092,11.369091,9.400854,6.6494813,12.1178465,13.430905,6.793134,13.242128,14.311486,13.140878,13.226385,15.437781,14.236026,13.215912,11.993928,15.614564,14.9096365,11.800952,12.24983,12.131238,11.83667,13.736289,12.857211,12.225485,12.010808,15.063852,12.549725,14.6067505,10.913158,12.732513,11.944475,12.702789,14.120441,10.707632,8.913366,12.49373,14.476044,12.085794,14.073841,11.910615,10.793561,15.083957,12.013701,13.434513,11.930802,14.724276,13.342144,14.518772,13.263736,12.888039,9.067498,8.519301,8.919178,11.886495,13.1445465,12.480109,12.628665,7.558082,12.020124,13.793474,15.177266,10.772995,14.918628,13.01427,9.292864,12.716336,12.575469,9.799968,12.841326,14.572368,6.9735165,11.86638,6.680453,15.2741165,14.883604,11.243111,10.765803,14.806316,11.365985,13.544028,14.005739,7.7139482,11.896735,12.97197,14.161601,11.788743,10.792093,12.856162,15.051816,13.381428,13.706286,8.743031,14.419055,12.745948,12.984014,13.484281,12.135676,14.784403,10.754882,11.997858,8.703593,14.160557,15.168675,13.535834,12.570505,11.355736,13.6252775,13.297161,9.575115,12.073675,15.728776,11.295164,14.788981,12.178151,11.996558,11.891549,13.326205,14.051155,12.592278,6.6977944,14.019019,11.342416,13.57846,11.610276,8.999782,11.847185,14.18341,14.484519,12.669499,12.844323,10.931212,10.89205,6.9835134,12.117533,13.382083,12.961945,15.221433,13.917914,11.297061,15.067377,13.339529,6.677131,12.677122,11.3831625,13.7289095,14.111921,6.547872,12.481663,12.173813,12.981907,13.266707,14.595371,6.1300244,12.621619,13.019239,13.50182,13.4358635,12.526624,12.033787,13.257557,12.385904,15.081797,12.169978,12.554643,13.649656,9.18755,10.285715,15.466973,10.895362,15.212614,13.956962,8.697866,6.510821,13.697792,6.200538,14.182264,10.81658,14.841925,12.052374,12.337137,9.263187,9.028825,13.5636835,6.0995626,11.495627,11.715777,7.7211065,12.01382,12.339543,14.297697,11.918287,12.026614,13.26524,13.077885,13.846018,11.304656,15.410406,13.860352,14.1455555,12.11194,13.312164,12.546777,9.564229,13.276129,14.04089,8.756365,13.223629,15.335285,11.881401,11.834861,15.674878,12.338255,14.178317,12.523744,11.654727,13.864099,12.154286,14.423698,11.994386,13.487272,14.2905,8.9819975,13.7639885,6.684272,13.71176,6.2537603,7.7239985,13.842042,11.966541,8.534999,12.26307,15.425421,15.876683,8.877468,13.991224,14.336555,12.022929,15.051964,12.122139,14.731035,12.698574,11.755013,14.679949,10.962815,14.141224,14.002088,12.843338,11.862671,12.973116,7.6847277,15.274683,6.726955,9.511791,13.020959,14.804013,14.827748,14.943855,11.093179,15.032341,13.287135,15.33003,11.627871,13.924232,11.108875,12.979999,14.590715,11.900898,14.453168,14.868735,12.127195,12.303988,13.798205,11.834703,6.81577,14.330165,13.208124,12.12518,13.275294,12.168507,6.758115,7.1059694,8.812328,11.743938,10.8153715,15.21852,12.15903,14.0191345,13.054267,14.111162,14.891557,10.631135,6.7924905,14.3915,13.801026,12.46984,13.980942,14.509244,12.227845,13.79643,13.538031,14.16052,14.629416,13.851799,12.772311,13.177994,14.077559,13.1384,13.899307,14.043829,6.0798373,11.6550865,6.745815,12.34525,14.737968,10.798275,14.775461,11.443247,14.834983,11.558904,10.847007,12.104451,13.962828,14.328727,14.490166,9.329623,9.120762,15.172997,11.89983,8.959492,14.157285,13.935624,14.331153,12.022974,12.030126,12.551226,14.657081,11.483956,12.9439335,9.228082,8.534661,6.0470276,15.023888,11.285624,13.069877,13.659806,11.97483,6.20308,11.136574,13.997348,12.203904,11.832295,14.753274,12.67829,15.468769,13.084961,10.700967,13.839597,14.127018,11.01071,15.048031,14.0162945,10.73577,15.365366,11.613572,14.010735,12.337897,6.7803345,12.665278,14.068162,14.802771,10.6096,14.965095,14.705961,12.8263035,13.759715,8.982485,12.588851,13.31856,10.718461,11.512075,15.057188,15.044299,10.720469,14.346495,12.347025,11.391941,14.10545,14.678036,9.158978,15.379073,13.795264,12.499479,13.9428625,14.223687,9.900238,13.527841,13.601286,11.933289,14.209365,10.823137,11.536086,10.833713,7.4622126,7.679783,8.824169,6.967368,13.772321,6.906305,6.6863737,12.809794,11.943988,15.326018,14.806668,9.324033,14.015027,12.025727,8.617533,15.836603,14.263244,13.523938,13.3398075,13.010372,14.331427,15.148775,11.484849,12.089273,10.917554,12.219409,11.882334,11.823833,10.921777,11.242288,11.976249,12.2709255,12.564641,10.731077,13.201066,14.482887,12.522662,12.471266,15.738718,15.380759,9.686587,11.375843,14.111122,11.581744,12.082805,6.183754,12.841288,10.684899,11.240143,14.833432,13.816812,6.214641,14.632584,6.8427954,9.424423,13.649663,11.735415,11.406451,12.898477,13.514516,14.42348,11.867811,14.377047,14.605097,9.652432,11.494903,8.094651,15.133578,9.265417,14.25623,13.587124,12.529216,11.386857,7.7980995,13.762083,14.831795,6.856757,13.807133,11.16767,6.5554047,6.280883,15.253506,14.116686,11.996423,6.557638,12.949124,11.574186,13.454674,12.018033,11.868056,12.822507,12.5730915,13.945253,14.107067,12.6781,15.335605,10.759935,6.0414896,14.509274,14.952293,14.485938,6.2420707,12.740096,15.75312,14.8022995,14.619552,13.596512,13.356439,15.396781,13.878533,11.237208,14.680323,14.595123,9.27063,12.32636,12.621185,13.327202,11.060601,12.445746,15.331528,13.093705,13.900079,14.384571,12.415593,10.702427,13.966003,14.733006,12.035142,13.306715,13.417186,7.513625,13.062726,6.1556387,13.297584,13.4211855,12.70059,14.078998,11.7570505,11.884964,11.673965,15.1194315,6.0773993,10.803831,13.447155,12.533944,11.34172,14.793263,6.3226786,10.625078,11.264221,12.000358,13.389908,6.5632796,8.9562845,12.535721,9.551113,11.8565855,9.673195,12.890726,12.695656,12.199674,14.14496,12.976213,10.758296,12.260361,11.350725,13.799311,9.096259,15.323268,14.336187,6.166738,14.613144,12.303775,12.226587,15.553997,12.008201,14.289607,12.0109215,13.724414,11.247116,12.573769,11.35512,12.3259535,11.69628,12.731843,13.5499735,13.700795,13.950779,15.019193,9.194019,13.963106,14.522415,10.437447,6.5684767,12.522262,12.784593,12.209152,12.6091795,15.6861315,6.743139,11.101321,14.203475,13.934232,10.714615,11.803736,12.669631,12.081395,14.482085,14.987279,12.388194,11.965786,9.13618,12.210703,11.597681,13.686464,14.44926,13.536596,13.058743,13.968683,13.886864,12.165776,14.101962,11.2876425,13.687333,12.795698,12.508261,13.69701,12.166892,15.229514,9.304933,15.072114,11.799084,12.569392,11.456995,13.6558275,15.382859,12.088668,13.853923,8.214395,14.860604,11.520364,12.026645,12.228912,14.115177,10.64201,11.896496,15.012128,13.862044,15.169818,13.446415,11.119076,13.73805,11.3107605,12.297745,14.892442,13.188685,10.630379,11.689095,10.662432,14.248527,14.422952,14.03039,12.664191,13.763982,13.930272,13.253697,15.422354,14.2526655,12.791067,8.243658,9.198548,9.477105,14.259754,14.613149,12.591908,14.950506,13.670806,14.237207,12.029158,9.0891075,6.3209796,13.503772,13.559038,12.077526,14.109937,12.212784,7.7546043,9.431948,6.8371854,13.072133,13.608891,12.359872,14.696899,13.615734,6.29366,12.796462,12.700177,13.088685,12.475404,15.3896885,13.534044,12.607003,14.120207,15.582304,14.237884,14.295579,12.54796,12.32665,15.258945,9.052724,11.697912,10.952659,14.31957,6.3182096,11.998383,13.21876,14.334639,13.656381,14.650839,13.44301,13.77653,14.921129,12.881112,9.388593,6.453666,12.542164,11.644538,11.950151,12.522314,9.319276,13.157535,13.991136,12.939805,13.694122,12.011291,13.464152,15.049094,13.627835,11.917296,11.919959,15.310038,14.082884,8.7873335,15.181263,13.964045,15.117411,12.36482,13.120311,13.754098,15.168941,10.774789,14.197237,10.773185,6.8219166,13.599862,14.027106,13.896299,14.515255,12.208067,14.134956,12.169653,7.7726994,8.499553,13.919499,13.8745,15.390749,13.613064,12.364563,13.247237,12.0944,10.477847,13.098471,12.700266,14.890383,13.669887,12.762384,14.298942,13.441098,6.807801,10.916056,14.330838,14.598709,11.487836,7.921011,15.161579,14.476293,12.147771,6.893546,9.047865,13.651141,13.800253,12.554756,14.14431,13.444527,11.846708,12.199047,15.369032,11.35816,15.024168,13.026779,13.017007,12.8246975,13.871555,12.73338,14.238628,13.42635,13.252468,15.1232195,11.424522,15.3331375,14.283708,14.43909,12.463618,14.712216,10.705842,13.707874,13.946704,15.073739,14.8766985,12.804975,11.861171,13.664833,12.795065,11.178827,12.202937,12.7570095,12.957296,12.381904,9.251711,9.668843,14.677801,11.012356,15.048506,13.611568,11.734681,10.890776,6.163368,8.821835,14.905974,13.76813,12.739305,11.858682,13.785289,12.243199,10.636769,10.792336,14.127886,9.276403,14.9179325,11.714239,12.957441,11.615651,10.703805,14.364685,9.066748,13.008844,14.184077,13.390488,12.279654,12.261963,8.848292,12.342936,11.818267,13.105308,11.076569,15.308304,7.714328,13.921539,13.37197,11.411789,14.675839,11.536882,12.226351,15.228892,12.279784,10.735865,14.622346,12.793867,14.981212,14.146836,8.694845,13.4506235,13.892605,12.945278,13.613159,13.6615,12.724637,14.937083,13.153902,14.00265,11.916675,8.178263,12.357284,14.540832,12.549336,12.340146,10.871445,12.249696,15.492683,13.042361,14.387976,13.297578,11.602853,9.546222,9.162037,13.702102,11.506863,11.721108,14.1185465,14.307955,10.804534,15.624071,11.948095,11.863102,10.861,14.521351,14.14245,13.798824,13.451933,13.995561,6.0749617,13.347679,12.082576,9.240136,13.29164,11.524064,12.1335335,12.429598,12.1694975,11.341152,12.442935,11.940369,14.526686,8.08888,6.9060383,13.795709,14.61952,11.689565,12.824068,8.721455,12.38329,13.51899,12.423081,14.553419,13.659507,15.300612,15.245438,14.196082,13.676383,14.295713,14.408542,14.032105,14.707925,15.067628,8.885513,15.259105,13.73498,12.75534,13.569629,12.034408,15.458007,13.922575,14.676995,12.351607,14.487683,14.198073,14.476581,11.894681,13.491381,12.286423,10.552332,6.1217017,8.65379,12.362462,13.929048,15.458378,13.07531,10.876301,13.0202675,12.401743,12.852347,9.600791,9.121028,12.204873,12.267335,14.502111,10.821839,13.508474,12.274874,13.665173,13.623254,14.710788,11.192319,11.515147,14.179709,12.861094,15.561111,14.193503,12.06906,7.742432,9.5460615,13.973259,11.692784,11.9776535,13.330451,13.448295,11.755942,11.532011,11.919164,12.493217,14.08,14.844985,14.643299,13.828235,7.6680512,12.999414,10.7553625,13.217755,13.876736,15.246071,13.709595,15.09135,14.300522,11.158245,14.376549,13.785311,14.138153,8.924414,6.6576347,14.719868,12.260018,13.897853,12.6371,14.95312,12.906674,13.467832,9.013421,13.984457,6.7431507,11.999846,14.182111,14.813318,10.148003,12.613356,14.240772,12.0168495,14.056118,14.440051,13.61731,12.063546,14.303565,10.918586,9.080478,14.735944,10.988899,6.6639156,11.335646,11.226912,9.245065,9.738875,10.775375,6.3387413,13.680492,13.879174,14.117183,13.225934,14.28905,12.256355,13.286013,12.007068,13.536451,11.451999,10.692858,12.181473,13.755614,13.240779,14.363983,11.480057,7.758878,14.825353,7.6949363,14.483058,14.078907,14.417277,12.321578,14.712796,12.453172,11.364285,13.419213,11.981037,11.493962,12.838871,11.550734,14.875155,12.5027895,9.473214,12.532773,14.582383,13.777103,11.841613,9.028625,14.471506,12.713157,15.213788,14.658391,12.017837,12.229258,12.484416,14.867438,12.745276,13.518798,9.695048,13.998868,11.8471775,11.621339,7.7668953,10.695717,12.395387,12.361308,12.118085,14.085622,13.299666,14.244806,13.03579,11.453224,6.7653956,11.440887,10.860441,11.256187,13.644578,6.5062494,13.560491,11.260721,15.071997,13.763753,12.676388,12.325059,12.470191,12.893217,12.854528,12.024508,11.547963,14.96663,13.094315,15.112048,11.621607,14.484803,13.130682,11.141637,11.994145,13.870323,12.694632,14.7027025,10.532906,14.705481,12.482092,12.789992,12.88991,14.81338,14.550929,14.93186,9.605036,8.710781,12.104597,14.520771,14.19766,11.461055,14.20888,13.7563505,12.850208,14.612248,12.256467,11.214231,12.690225,12.752402,15.068067,14.849786,13.5695,15.054631,14.591098,11.246622,12.617229,12.14549,12.467083,12.752511,15.225071,12.226949,12.2143755,12.488605,14.421566,12.844029,6.0641646,13.966334,6.5675673,13.365801,12.6992655,12.193328,11.88422,14.087572,11.110346,8.815433,11.955048,10.935465,15.321178,13.400126,14.586852,14.2418585,6.1203933,13.535529,15.422747,14.946142,13.717464,6.0952907,11.908258,13.725914,15.360091,14.219676,13.643945,12.066743,11.94743,8.527671,12.59509,12.671538,14.223488,10.844828,13.144334,12.791517,6.455876,11.326094,15.225351,12.296425,13.650731,15.13443,12.276251,14.013375,10.605153,14.247308,11.924401,11.164175,14.865322,6.1915717,13.556708,11.727265,11.390839,11.804101,14.267376,15.285617,13.605251,15.028996,14.15357,12.886585,11.813988,15.73529,11.5545,9.956635,14.750827,13.25383,13.723308,12.26274,12.355383,12.415437,11.434437,15.096633,10.762453,12.474371,11.264208,12.904571,15.196899,13.070286,12.332709,15.236439,15.282605,12.1138315,12.36017,12.623629,11.889423,11.024915,13.429351,13.86373,15.142226,12.834865,12.244528,13.858463,15.384895,14.089689,14.897064,15.277079,13.281672,13.99488,12.512764,14.102279,12.479834,13.875936,8.750089,13.131239,13.863956,13.518897,6.1682477,14.916535,14.605123,15.116014,13.159982,13.960686,12.752447,6.554945,11.337371,14.256798,12.605087,12.961962,14.9317665,6.7391806,13.753529,15.061565,13.838062,12.853453,11.599373,13.188013,12.116954,13.044472,13.4906225,13.50927,11.267483,14.62378,15.28075,12.332644,9.380012,14.334406,14.594489,11.688493,12.587953,12.812713,11.297229,8.728183,15.266996,12.872699,11.778788,14.676292,13.120151,9.185647,15.14903,14.280761,11.948666,14.607803,6.612303,14.647972,15.569367,10.6645975,13.729209,14.930223,10.491086,12.840054,12.774006,9.251854,13.898977,12.994274,9.83614,13.497279,10.888497,13.600604,13.996823,13.373296,14.481972,12.570622,11.012753,11.179938,14.213809,12.0884,12.049723,14.231629,10.696665,11.545935,10.728277,10.971245,11.9724865,12.57518,12.008853,12.794093,14.873649,12.333958,6.4612064,15.35641,14.406577,10.796581,9.412303,8.414763,14.191463,12.036106,13.584215,14.041705,14.059776,14.246752,12.764532,13.611305,6.585991,14.298557,15.1582985,11.625891,14.402336,6.062198,13.902704,14.947842,12.125762,13.395273,13.467573,15.18744,13.695021,6.212041,13.441952,9.433093,14.408058,12.857671,11.600062,12.31328,15.692388,11.620496,14.37532,10.731677,13.3057375,12.858236,10.43443,13.967289,13.850082,12.3724375,14.291391,11.720279,12.137911,12.740968,14.409264,15.357193,14.028911,14.14542,13.721378,15.409581,9.230171,10.775403,15.148119,13.722076,12.134351,9.12632,13.848702,12.372661,11.600128,13.678561,12.600221,13.294499,12.195005,12.570554,10.472062,12.214545,11.987609,8.507561,15.306766,13.730142,14.236829,13.780117,11.86395,13.875015,9.354779,14.683897,14.240369,6.9784493,12.623369,14.594558,11.999559,14.665637,13.004223,13.148133,10.992314,11.7549515,11.87659,12.746619,14.18842,13.557974,11.524003,13.709927,10.742023,13.661972,11.718682,14.719892,12.456212,13.928177,12.308704,6.6904182,14.195495,9.400147,12.725968,14.221336,10.782662,14.708323,11.16324,12.747314,15.201763,13.174365,12.788182,11.636765,14.155343,14.610132,15.162581,11.807792,12.704955,13.5661745,14.084445,14.484752,14.126819,12.011433,14.3473,11.930108,14.067954,10.985085,10.844713,15.656007,14.035053,14.228668,12.128295,8.903979,11.645762,12.23585,13.699721,13.63627,12.085291,13.552325,12.390129,12.199086,10.942334,14.101927,12.233506,12.949951,13.771116,12.288568,11.815394,7.6755624,13.149498,10.765532,11.160351,13.747149,10.907011,12.811501,11.801275,11.879517,12.992277,13.824242,14.591726,12.129526,14.863663,14.055873,14.734013,14.66309,14.222104,6.75802,12.388955,12.95182,12.15613,12.693977,12.937292,11.660418,13.54524,13.389592,12.645842,12.696587,11.31217,9.06585,13.134726,10.87186,11.903532,13.761022,14.887255,11.809257,11.929259,12.427164,13.969155,13.184907,12.614723,12.059683,12.155932,13.656773,11.597804,10.73085,13.034841,9.182136,9.757516,15.140003,14.691758,14.514959,11.176618,13.353626,7.1113386,15.201251,15.235814,7.8557467,12.811577,14.323964,15.408928,11.831587,13.152743,9.2453785,13.29592,13.443526,14.070555,14.302501,13.842303,13.019371,13.678154,13.2794,7.727603,13.545305,13.990084,12.610946,12.560786,12.73426,10.341325,14.155768,12.908423,6.570571,11.905843,6.187321,11.358297,14.94731,11.92448,13.398164,14.258898,14.457682,13.353574,11.688903,12.360344,6.1091523,15.221942,6.6089926,12.080389,12.439676,6.5182977,11.839445,14.932991,14.110183,13.982818,11.811358,11.881462,12.093946,15.382195,12.027356,14.427279,13.607195,15.530637,14.29323,11.407142,14.971956,14.5889845,11.179612,13.03183,12.500802,11.749591,15.788836,11.35098,7.7978206,6.7437787,13.568604,10.698769,12.87056,15.0127535,11.91308,13.672143,14.153507,13.966294,10.697829,12.3305,6.615545,14.125903,12.804407,6.180882,9.641266,13.069779,12.720001,14.381089,14.608958,12.474678,12.253211,10.614699,14.830191,10.51423,14.741407,10.531378,10.2937765,15.021316,10.850675,12.035263,11.765411,13.964204,12.36491,11.957908,12.330288,12.421595,15.573925,6.1857944,14.717335,9.094933,12.338262,12.709203,6.102656,14.067333,10.942929,8.719981,15.073508,11.157502,13.816867,9.840886,14.010749,12.09769,13.335155,11.570302,14.197757,13.920712,6.1350045,11.352427,13.908548,14.953499,11.226247,10.832048,13.626542,14.093895,12.487983,11.702185,14.273408,11.959025,14.430662,14.835944,13.542662,11.853414,11.401066,13.3613205,12.501832,12.821588,11.10494,14.293709,13.760167,7.67817,12.955704,12.111962,15.038021,12.09713,14.345037,11.95283,12.303188,12.201612,11.302214,13.012436,12.57946,11.310559,9.030633,10.83715,12.069936,12.2752075,14.9556465,15.064694,13.018509,10.82764,11.278326,15.586983,14.476905,6.56903,11.260685,14.380721,11.899606,10.956189,12.61675,10.989313,11.982893,13.523897,12.648517,13.525431,13.714785,10.425784,12.429924,12.470324,14.442063,13.915282,11.260237,15.114304,8.943438,12.778545,14.254438,12.254123,12.35192,15.490093,12.861975,10.818753,15.824597,13.600784,15.275412,14.121436,12.580508,13.583823,14.082787,15.414705,6.2234707,12.636268,14.461334,10.697801,9.734378,11.51499,13.077681,6.182405,15.281908,12.661189,13.721362,9.661445,10.792455,10.742827,12.013709,12.174471,13.72477,14.239561,12.483916,11.843282,14.050523,13.760005,12.691735,6.1161704,15.171652,15.212621,11.897547,15.259745,11.680013,15.6842,11.44334,12.560671,12.17203,12.492388,9.732846,8.769836,10.542226,12.206206,12.044558,12.087184,15.221844,12.782704,11.788641,12.580786,15.116238,14.216023,14.017928,13.007113,14.325026,9.319543,15.221877,13.576219,13.740545,15.185271,12.690604,13.146462,11.839947,14.72222,12.246438,12.4610615,12.303363,12.19892,13.02655,14.010564,6.7914586,11.035875,6.2100887,11.94517,9.279292,11.799907,14.758369,9.099984,14.467753,9.603262,8.704247,13.09589,9.10722,12.053174,14.428655,12.220749,14.666192,12.444116,7.8537855,15.011981,6.2784724,14.849274,11.392178,12.401857,11.158407,13.377941,12.178913,10.840677,8.833227,12.2849045,12.705666,11.362514,14.964115,13.494313,12.434707,12.968457,11.523005,12.006862,14.106149,11.507674,12.730115,12.192749,14.204714,14.666789,12.8895645,13.6298685,7.6425905,11.099513,12.442784,11.910838,8.88292,14.404355,14.146848,12.964837,11.459277,13.865246,14.1359215,14.609385,14.57892,11.873993,15.491665,9.020115,13.95326,15.367073,11.864244,14.442002,10.648787,13.203945,12.963068,12.325534,13.404764,14.386433,12.462657,14.387557,15.8664055,14.034967,12.084455,12.061112,12.923886,15.808859,12.202249,14.970307,12.021008,12.289068,13.229936,12.319597,11.961071,12.771588,13.927252,12.025759,14.6557,15.900783,6.556359,12.113094,11.7394085,11.187432,14.1776285,13.4691515,12.94396,14.984765,9.152505,11.653581,11.495913,6.520237,14.504133,12.266589,14.54822,11.37748,12.707465,14.7429085,13.880747,15.07114,15.482717,15.851165,14.157936,14.532018,10.6767845,11.312755,11.829241,12.878622,14.9748745,9.026686,11.686113,14.32512,13.565542,11.40003,14.048887,12.102819,13.69807,12.072488,13.462739,12.283555,14.207104,14.758794,13.666182,13.929755,11.353326,11.385768,12.877633,12.022504,12.526599,14.8596735,8.82254,13.271474,11.510492,9.8908415,11.477524,12.211158,13.48102,14.18274,13.273377,12.303198,14.098068,12.161101,14.0103445,12.413861,13.44532,14.94675,13.374149,6.825658,12.218745,12.177297,11.343468,13.765448,14.543993,14.023836,14.58167,14.732208,11.3481045,13.883419,14.548204,14.678393,13.1665125,14.346098,11.9946995,10.701525,11.534173,14.965757,10.824654,13.19411,13.0736475,14.060605,13.332218,12.135964,12.964572,14.853485,8.7190485,14.222044,11.9305315,15.414502,11.563004,11.652283,13.080519,12.41512,14.174506,12.449113,6.8527355,13.71278,13.426443,13.087765,14.111257,15.120266,13.670294,6.669071,13.576397,11.99623,11.859744,14.440677,12.888836,10.775095,14.194615,13.823795,14.41656,13.911807,13.419336,13.294612,9.674896,12.070151,12.43681,10.554858,10.444269,14.707406,12.05568,9.313559,10.889751,9.047881,11.077076,13.610441,13.036345,14.038674,12.793316,9.056011,12.172056,12.000512,12.19655,14.960941,11.992653,10.351371,14.27181,13.3587265,13.086243,15.069379,15.492656,12.301034,13.78929,11.612319,13.687856,14.027519,14.8520155,13.148152,13.596364,11.135259,10.741689,6.454128,12.442733,13.223826,13.703321,6.4694476,12.378889,14.295858,11.52711,13.058679,9.137342,13.869468,14.032394,11.726281,14.477636,14.123556,12.99744,12.131239,13.801812,12.452479,11.127707,13.412239,12.967235,6.0600905,6.571292,13.638822,10.844164,15.472847,13.238162,14.722033,14.918371,14.245548,11.829132,8.711979,11.849016,13.834511,12.532063,6.6522427,14.463026,11.763689,8.758294,11.148093,14.163462,12.911939,13.864647,13.133426,13.349252,12.173589,9.351884,9.491852,12.09648,14.825528,6.774523,11.250244,13.012497,14.305723,10.774435,11.449467,14.44585,12.474744,8.952593,8.653944,14.171217,14.760807,12.165447,14.287357,14.978285,12.507716,10.786765,11.122323,11.488937,14.528867,13.552377,13.631262,14.313136,14.282657,12.720979,12.214688,13.799566,13.542459,15.181886,10.9592285,11.304036,11.932664,14.400706,6.71878,15.187797,9.745253,12.162643,14.199301,10.867809,13.69462,12.598771,14.890931,12.740124,13.691746,10.772935,14.97336,13.172405,12.3245125,11.043398,10.923528,9.149717,11.294575,9.093092,13.694379,13.650735,14.38485,10.993863,12.491267,13.458398,11.903532,12.1487665,12.347081,13.531547,11.0381975,12.468986,11.445079,13.738574,7.87428,10.806834,14.317802,10.798518,14.02441,13.984158,12.394586,13.069642,12.693871,14.556223,8.936292,10.432414,10.734769,14.302727,12.534088,14.4301,11.220514,14.137953,12.737602,13.515163,13.389439,14.116331,15.020875,9.612439,14.3776865,6.0867147,9.000476,6.143257,12.041963,12.8915615,13.507722,6.996307,13.84347,13.781494,12.592614,12.323463,13.316277,13.791981,6.6501017,12.807268,12.205577,12.628712,12.906855,8.661722,11.585865,13.176943,14.829838,12.582942,14.00323,12.704431,14.991703,15.193028,13.733319,13.061233,13.232823,11.247884,13.622035,13.277926,6.141591,14.320103,9.123662,11.273564,11.309126,13.5840025,12.075192,14.184261,11.926558,13.967441,12.818814,14.4105625,9.005002,13.204408,12.315021,10.432154,6.519105,13.068084,10.731643,14.543632,12.312259,13.714113,12.907323,13.843216,12.025062,14.322198,13.73888,13.95019,10.32263,11.100647,15.116536,13.735738,13.689303,12.236281,8.821778,11.430522,14.271718,12.337976,12.053374,13.448253,12.5773535,9.571704,11.749579,14.420694,14.695873,10.82913,12.197484,14.126469,11.998171,6.086463,6.494024,11.524691,13.7830515,8.868286,13.237727,14.986173,10.620665,12.340208,11.275802,11.951705,14.8326435,14.427593,12.953394,14.513708,10.573029,14.30836,11.830974,12.430679,14.39231,12.8348055,14.107802,14.11372,11.900458,10.702653,15.764425,15.229119,13.485262,13.36137,14.803608,11.580917,13.703883,11.93466,11.061687,14.046576,13.734576,14.813942,10.635305,12.649283,10.71672,14.84629,10.768069,10.310935,11.996707,14.165791,14.312382,13.9510765,14.996135,14.078551,13.556786,12.575086,14.052922,13.19401,13.124831,13.066,9.12198,9.057453,13.674995,6.5275936,12.13811,6.7317386,11.799354,13.66337,12.924139,13.702174,11.586503,14.280831,13.451611,11.880577,9.448071,12.637975,14.549645,12.191851,10.860475,13.976871,12.367284,12.06049,10.763008,15.281265,15.223232,14.027711,13.616102,13.081927,12.439417,10.856572,15.308283,12.797884,12.8984995,15.716878,13.457443,11.27321,14.106428,6.5758104,14.274387,12.086259,15.162671,14.019305,13.583288,13.432326,6.390732,11.550476,8.858059,14.092844,12.592259,14.868001,14.170449,12.490448,10.9963255,14.134224,13.394911,9.41506,12.757108,14.541688,14.822892,13.924217,12.203902,12.9244795,13.876581,13.062243,13.069873,11.278447,12.551286,14.773942,13.131678,9.430254,15.371687,13.832252,10.943652,10.795597,13.2255945,12.38726,9.205834,9.245912,14.925031,13.802327,12.599772,11.940136,13.085856,14.76231,6.4916697,9.882701,12.015371,15.009865,13.487443,14.661185,12.956246,13.415876,13.605887,12.610087,12.067762,11.139387,7.6216893,10.703912,13.495004,10.992138,12.767712,14.856934,11.416856,10.871339,12.293342,14.917511,15.308483,11.894851,11.633338,15.305254,11.009894,9.652604,14.979442,11.821851,13.6020975,8.79358,9.348214,12.506199,12.659797,15.448643,12.133544,9.248541,15.313766,14.955637,6.2643704,10.834025,14.042709,12.572526,11.989659,11.129673,6.6734943,7.8249907,14.58889,12.245219,15.275493,13.230026,14.450146,12.758703,13.50565,13.86918,10.796795,12.661393,14.917394,14.418617,13.852562,6.094944,13.596577,13.508001,12.281445,12.202483,11.96333,15.49146,12.298538,6.6678777,11.720425,11.15283,10.808796,7.8391156,11.948974,13.798284,14.323666,6.078996,9.17269,13.162616,13.895076,14.269282,11.737456,13.601191,11.98533,10.69929,11.596924,15.277277,12.714464,13.868526,10.945053,13.649072,13.508852,12.684862,6.5105934,13.319532,8.716735,6.1531053,12.350368,13.133063,13.376583,10.793247,15.763476,14.335403,10.873311,12.439631,14.020417,11.989229,15.227847,12.10729,12.521883,14.195185,14.740502,12.325262,8.389886,11.850626,8.485033,15.478261,13.069162,14.821274,12.150173,12.342841,9.276085,14.746969,14.054012,13.729174,11.454193,13.765425,13.570644,13.944695,13.818016,13.900552,15.384628,12.836983,14.679695,14.073641,13.852992,12.074888,13.662641,10.699849,13.405013,11.607932,12.827787,7.799319,12.822305,15.022043,14.626037,14.984421,11.989413,11.00184,8.897721,14.9380045,13.803977,7.6786494,11.964544,11.250598,15.255357,8.712291,14.077428,11.120492,14.322502,14.734932,11.555946,12.475755,12.498347,11.100387,13.376661,12.116635,13.121119,11.501864,12.560453,11.201969,9.606918,13.283759,13.828037,10.715363,9.272832,13.840128,13.026103,12.288996,13.561849,13.849765,13.543815,13.737696,11.979796,14.566314,11.631996,8.270603,15.096745,14.340584,11.950526,8.987681,14.110511,14.333726,9.623649,8.897725,14.17563,12.215825,10.782515,14.658621,12.194874,10.608131,13.299858,12.555492,13.44431,6.737565,10.772049,12.78914,12.049437,14.511765,13.779646,12.58141,10.852521,10.720258,15.097531,9.268239,12.289238,12.260139,15.084164,6.1574597,12.568825,13.251468,11.49947,13.0285635,10.920217,12.774673,13.398811,9.701555,11.993562,13.984428,11.758205,11.538214,9.159134,12.195279,8.679337,9.045142,9.670063,10.797607,12.336482,9.285414,15.055135,14.802944,15.294473,11.022218,12.003194,13.858921,6.9571986,13.667375,12.330442,13.376071,13.290044,12.124591,12.652366,13.1123085,11.963766,14.792248,12.206551,14.296565,11.224441,12.578126,11.620817,13.512101,13.697623,11.598729,13.586756,11.114948,10.650137,14.279055,11.856974,13.96409,13.004478,13.045676,14.55904,11.002747,9.416727,12.420952,14.7141075,12.947226,12.360296,15.1097975,11.118186,13.524858,15.072766,13.757039,9.114477,11.297521,13.931834,15.173521,14.910977,13.004853,14.017755,13.984006,10.866972,12.996332,10.732239,11.59619,12.998074,11.927116,14.56234,14.858766,12.862258,12.920186,13.416697,14.202079,15.008246,14.073125,14.38855,11.423087,13.92407,12.502441,7.66444,14.860179,12.228342,13.810626,15.1018305,14.873155,14.556185,14.859242,8.833501,6.5601263,14.234682,11.473447,14.563192,14.456612,12.127032,14.77197,13.519486,12.899543,13.984321,14.778929,7.6538615,15.306344,13.772227,11.648306,11.547484,13.823097,12.11685,12.210516,11.81412,6.741371,6.7789593,6.155043,14.595705,13.122467,14.597503,11.853548,12.523815,12.361729,12.579837,12.248851,13.759103,14.824394,6.825071,14.06496,10.835692,13.573825,13.459597,15.557438,11.589448,10.998036,14.940502,11.84161,13.218865,14.676448,14.113208,11.787101,15.393036,11.414779,11.515016,14.443202,12.026999,13.652772,13.409578,12.3932705,6.067758,15.237043,13.4604025,10.099746,13.680973,10.847912,14.342634,13.782578,12.492794,14.284128,13.772573,13.548375,8.995516,14.190196,14.155559,15.009694,14.231129,10.864844,14.244038,14.842884,13.629172,12.47641,12.150658,12.775469,13.087833,13.559303,15.428567,14.551098,14.984158,15.593634,10.58827,13.073635,13.295378,12.464735,13.05215,14.581516,12.07523,11.4766,12.442298,13.358825,12.085326,7.740417,14.700845,6.665677,12.728745,6.4083266,12.99089,12.239074,12.225012,15.353693,13.953279,12.226685,14.379788,12.336636,11.88437,12.631862,12.121002,14.486353,11.799921,13.898047,13.631345,12.25232,12.758459,14.218672,14.3386545,12.05191,10.698291,12.593892,12.617786,13.065214,13.047566,6.4550815,12.574419,15.037408,12.731385,14.431284,9.0112,10.833181,14.303057,9.60533,9.106934,13.94407,14.102015,9.195944,15.626179,12.91763,11.965786,13.66067,11.506074,10.665286,13.968672,9.254772,10.993826,13.194015,11.442175,13.224257,11.915133,14.643709,14.821194,14.925243,14.607516,14.787757,13.642746,14.022615,12.311733,8.861988,15.3732395,15.663788,11.87241,15.263081,12.102475,12.144099,13.2545395,14.234543,12.115145,13.823689,12.578112,14.505203,13.662748,12.608768,13.049269,13.670128,11.980857,13.635322,12.621197,12.645445,14.564724,14.926894,12.193265,15.030816,14.639286,11.845255,14.607412,14.150162,13.865388,11.722368,13.700271,11.131912,12.168144,11.276317,14.033458,13.813511,12.9608965,13.454929,6.686212,14.778789,12.190397,10.796101,15.25658,13.81106,14.102423,13.704564,12.800589,13.823673,13.922852,8.613011,14.487307,11.532931,13.612278,14.288503,12.880482,13.475578,13.204167,13.045428,13.468337,12.596794,10.979874,15.272353,13.757513,13.871198,12.288441,12.036555,13.829056,14.921054,14.362998,13.177574,13.14766,12.891641,12.171633,11.403263,12.626132,6.62198,11.157768,9.141613,12.313791,14.249551,6.5606923,14.161919,15.2507105,7.132446,12.964927,13.924301,14.135485,15.208812,13.617862,6.77289,13.777988,12.651492,12.53134,7.9718547,12.130557,12.138664,11.073526,13.371757,13.696071,13.237189,13.932721,13.651062,14.335151,11.839286,13.686909,11.281394,14.252121,13.259154,13.0078125,13.296065,11.827171,9.391409,12.028281,13.178031,8.95834,10.6046505,13.839605,11.001738,11.288312,12.083863,12.559921,12.220377,15.041894,12.512919,12.97991,12.616435,14.281116,11.2424135,14.056719,12.096026,11.463115,11.692382,14.663884,15.471159,14.187049,15.529036,13.08079,13.173565,15.285981,13.152267,10.77815,11.715547,10.775485,15.667024,13.987399,11.087268,10.593421,13.52638,10.875755,12.594275,15.469712,8.280615,12.563876,13.906559,11.821465,13.338516,10.277799,13.099426,6.5083127,10.528312,14.028619,11.440248,15.792493,12.591809,11.843132,12.026342,14.743782,12.828673,11.240674,11.967092,14.179456,14.107831,14.492845,13.818101,13.489828,10.564352,14.910558,8.834003,15.333824,11.916536,12.302931,13.527976,15.665312,7.683495,12.700324,12.065769,15.057811,11.250986,14.636804,15.247011,15.319933,12.113252,12.152504,11.061779,12.484976,8.964653,15.001938,12.27493,9.183265,13.060773,14.942662,12.085817,9.271686,13.646002,11.461228,11.342835,13.839767,9.327881,10.701008,12.418416,14.210815,11.316831,14.396301,6.433667,11.961559,11.590774,13.852144,8.781032,12.274118,15.285973,14.317889,11.626453,14.466946,14.443676,9.23745,11.99967,11.210782,10.685868,13.620862,14.219242,13.108316,8.745924,14.171189,15.0044985,13.793621,11.472122,15.45416,12.497917,13.829895,13.716358,14.248023,14.347761,12.18945,14.271345,13.012269,14.297272,12.047418,13.521839,13.082397,6.511783,14.300608,13.979521,9.395668,13.480645,10.896213,13.466562,13.501349,6.208563,12.267938,12.953507,6.7562065,11.648984,13.518504,9.665462,13.92364,15.5646105,11.859685,13.999521,15.027289,11.088712,9.849898,13.505699,11.531017,14.426342,12.315233,13.863288,6.1198206,14.831509,10.593192,13.813226,12.7270155,13.676507,12.775946,14.268292,11.516839,7.523821,12.062446,12.391235,13.103699,13.014106,11.943832,12.065453,11.483788,15.306599,6.4519544,11.369797,15.02131,13.830122,11.253413,12.673882,12.31878,9.643028,12.090547,11.997193,14.818483,12.641059,13.8432,14.040066,11.527908,6.130099,10.848352,12.108409,12.045328,13.457619,12.350219,13.938367,10.605027,13.263631,13.132746,10.690196,13.708693,14.766277,10.38391,6.216169,14.982462,13.673095,13.7059,11.83016,13.235175,15.199528,14.958074,12.3657465,8.706568,13.268992,9.754313,10.976737,9.330915,12.252166,12.680435,11.397885,13.9250965,13.984525,13.928786,13.839563,12.057199,10.384332,14.24271,13.111673,15.1418705,13.513261,9.28486,13.948911,13.99139,14.224288,15.1384535,12.715193,8.957968,12.968697,14.661908,14.638596,12.204547,14.285616,13.977629,12.234432,12.063045,12.385145,9.301957,14.852717,14.38845,14.971741,11.844347,13.692278,11.525715,13.941143,15.125933,15.873354,14.072072,13.335628,14.880892,15.004605,11.884732,10.66761,12.752913,12.140402,13.951844,14.057741,14.742741,12.163616,14.901523,11.918802,14.630066,15.06814,12.746916,12.1189375,14.582775,9.0839,11.560015,11.923428,7.7910857,12.663337,14.07895,13.881046,11.105014,12.3152485,14.725156,13.882921,15.094709,13.327944,12.966065,11.262136,12.610232,12.485221,14.726847,12.661171,13.219262,13.721299,11.019992,11.9618225,13.957668,15.319069,11.719786,14.230325,10.739696,10.734776,12.30016,11.771569,12.562432,13.624239,11.048239,11.422263,7.804023,13.816578,12.77137,11.580884,12.609083,11.772627,11.5062685,13.382449,14.471731,11.68972,8.265774,13.55867,12.135688,13.05017,13.969455,12.595098,13.626608,12.952696,13.73254,10.692926,11.204243,12.235465,11.772594,12.699537,14.984629,12.351129,9.848928,11.967103,14.427812,10.632085,11.626264,13.025301,12.333941,11.409698,13.589796,13.107109,14.425412,12.076214,13.968262,10.880814,14.418333,6.4637256,11.094483,10.798821,12.0183935,13.679236,15.0987015,12.593021,10.676482,10.989776,11.080224,14.677306,10.86967,11.086917,13.93655,13.027421,13.357333,14.4136305,12.98266,12.9719515,8.884697,12.53061,13.166523,14.161936,15.133839,11.4816265,8.762292,10.950015,12.151422,11.952402,13.488848,11.064987,6.1391563,14.025827,12.394665,11.878352,11.275122,15.247859,12.26592,12.642152,14.138527,14.97984,13.350927,9.137865,10.797888,13.611756,13.142457,11.867154,11.137677,13.986896,14.9679165,11.760008,13.571398,10.859026,10.120387,14.137743,11.10976,15.185067,11.595388,14.017937,13.605114,11.305469,13.102125,12.020379,12.101127,6.525803,11.717236,14.342098,13.42455,14.794068,14.605885,11.610765,12.234891,6.601911,14.007244,8.131954,12.616886,15.5663,11.955939,13.757195,6.7292037,15.268294,15.175819,13.427253,12.351828,12.352908,11.902157,14.300203,12.317266,12.0952215,13.617609,12.824377,11.912814,13.941844,14.627835,13.211438,12.386323,12.39851,13.646556,13.080689,14.852026,11.880158,12.231629,9.064339,8.552605,14.182408,13.462285,12.337372,14.039848,11.695198,15.523136,12.054206,12.929706,7.99751,10.864028,12.645703,12.057921,12.222812,11.690691,12.116153,11.878771,7.7633944,6.6912675,14.485011,13.665533,15.506852,13.767131,12.355731,12.452738,15.211712,13.731106,15.520611,15.820773,15.374458,14.774727,11.314423,11.867546,9.017363,13.48064,12.993974,10.265991,14.810973,12.608184,12.178137,11.499139,15.306478,11.524085,14.280147,14.160294,13.045446,13.129788,11.905438,11.636874,15.195341,12.046979,14.915158,15.08706,12.174515,15.217808,15.57995,13.917272,13.13676,13.628868,13.948101,15.407691,15.112301,8.893617,10.668463,12.172584,15.42897,13.765801,11.22566,12.612404,14.72119,14.777082,12.346288,12.761652,9.230381,12.569494,11.533355,11.861284,12.022886,13.854355,13.401055,11.926819,15.257467,7.7779026,13.309356,14.846963,6.757707,8.92274,9.020419,12.391939,13.141163,14.681016,11.693542,6.7891974,13.569614,14.066716,13.749598,9.028448,12.122261,15.02173,11.376561,10.29988,10.803183,12.016689,11.912815,11.547028,13.738723,13.087104,13.342943,14.185869,12.400635,9.246677,14.206645,12.317838,11.960013,14.259854,11.96629,14.009887,13.17644,14.548443,10.407538,13.760148,6.1512303,6.806162,6.847535,13.762835,13.297989,14.065723,11.146411,12.495684,12.381757,13.137675,13.36932,14.474812,8.820094,13.584119,12.444175,9.084704,12.768437,11.767623,13.030011,15.068076,14.541757,12.494579,12.056565,13.188841,11.337378,12.816262,14.577168,12.939345,10.686576,12.307222,12.89142,14.950415,13.101719,6.722143,12.463036,13.035745,14.218,10.906625,12.164452,10.657562,14.966222,15.202901,13.137098,12.965733,13.341427,15.245959,13.524728,12.123466,15.426383,11.323282,13.595185,13.8793745,11.241518,13.446783,13.097384,12.718918,12.015794,13.82272,14.193918,14.947137,13.056482,14.141929,14.892678,9.082565,13.686995,9.814677,14.411838,12.899707,11.770856,12.060784,13.952782,11.747803,12.314689,15.314922,13.913183,14.37421,12.192141,12.396802,14.12496,13.415812,14.23249,13.772857,12.730134,14.418142,14.481625,14.066572,13.706515,10.868572,11.939247,12.246468,14.733664,12.815169,6.1271553,11.484802,12.193656,14.389423,13.894076,10.690857,6.4887843,11.11049,13.522541,15.360649,12.1089115,10.547099,13.524583,13.941124,14.781606,10.583974,13.184304,14.630531,13.339061,15.224753,11.94243,13.478926,11.963419,12.0997715,13.435797,13.039699,11.422023,12.189045,13.996666,13.818486,13.853624,13.17031,13.108379,13.3389,7.8063574,9.160208,14.024938,14.241958,10.912323,12.362942,13.635471,11.74309,15.332476,13.870146,13.896167,10.819272,11.92471,13.675229,6.057703,15.20208,11.184494,13.565284,12.23496,10.885248,14.8089695,15.216149,13.821812,12.906756,13.205474,13.043373,13.339804,15.226101,13.605152,6.7550616,11.153065,12.517483,11.943001,11.798985,6.498843,10.587501,14.615626,12.462476,12.747066,14.170922,13.840145,11.243349,11.37509,8.455183,13.348415,13.589183,11.233195,12.14217,15.17333,13.600985,15.598699,14.104817,10.976662,12.450123,12.071975,11.995684,13.716782,12.315602,11.408026,13.511933,15.161814,14.054916,11.993557,13.908691,11.996929,10.946398,12.443556,9.359392,11.997318,15.075947,13.169382,11.716093,14.610286,11.099348,12.242519,13.544154,14.834853,10.637811,13.349743,9.306366,9.011337,13.733072,8.981953,12.309663,13.399545,14.179538,13.109999,6.513174,12.791952,13.848268,15.113021,12.34115,11.5476465,10.806104,13.848418,11.992405,9.818467,13.342448,13.219835,12.891514,13.689811,10.755279,13.289435,12.268808,15.592151,8.7113,14.458733,15.576994,13.029501,12.638307,15.752956,11.66039,10.685555,14.5133295,9.148042,13.632987,11.606919,13.723905,15.31039,12.442629,13.75328,10.917768,7.407279,13.188399,13.16375,11.910681,11.849888,8.85801,13.712217,11.415672,10.316948,10.959375,13.811584,15.249554,13.6621065,15.028151,12.803779,12.900077,14.158276,14.527195,13.259426,13.002781,14.95302,6.47088,6.398564,14.162629,13.504402,6.0371504,9.079378,12.277423,9.462293,12.289842,14.149752,14.462126,15.169697,10.940548,11.325274,12.509245,9.437245,13.751245,12.941144,6.884065,14.133741,12.85075,11.911642,7.0112267,11.757931,14.6964035,6.626785,14.467749,6.758562,12.156648,7.1430535,11.9170685,15.706729,12.186846,10.562824,12.745,11.838387,10.900486,14.255576,15.031022,11.405524,8.745744,14.159763,14.951926,11.936112,14.312314,14.184353,15.583307,6.6746984,11.240154,13.866151,9.738074,6.193263,11.380079,7.17841,14.9126625,6.2226043,13.335967,12.015098,13.166493,14.306508,14.031589,10.791736,14.727849,11.575195,11.984928,6.0831103,12.151584,13.759278,13.401462,11.406426,13.130416,10.73342,12.793704,9.708897,14.91865,12.956371,11.664013,14.424676,14.622681,11.976165,11.177027,12.0840225,12.886269,8.663236,13.682261,11.340024,13.413398,13.427258,14.078746,12.546806,12.013514,12.051649,12.356381,11.530641,11.860292,11.379685,15.320892,9.182333,12.678148,6.2415056,7.116091,12.327428,12.913742,12.461884,13.989154,13.880759,12.60186,14.581351,9.137073,14.892618,11.535118,15.001813,12.9904175,11.071923,15.305828,13.635156,11.372134,7.0613546,11.96038,13.250043,14.080463,10.1157675,8.3589525,14.612444,14.043062,13.0391,10.017785,11.7576885,6.5097632,9.221156,12.614873,12.295646,7.7080984,11.216041,14.958901,12.474983,12.94096,12.745776,11.934619,14.79825,13.840207,10.660516,13.400969,11.197945,10.557316,13.508982,12.8305,14.218951,10.885643,9.595331,12.014691,10.912271,10.59234,12.384481,8.583415,14.3143635,12.868959,10.665463,11.999666,9.171082,12.959141,9.300119,12.780359,12.742676,12.029877,13.408675,15.492648,14.755006,10.725846,14.743127,12.602802,12.100672,11.34298,13.346497,13.286345,13.569312,12.199665,12.690985,12.607514,14.117733,11.785136,10.994581,6.7429333,12.67767,9.305326,11.148955,11.492144,12.551442,13.601257,10.629743,9.14201,11.984566,10.454867,13.124608,11.824123,13.819922,13.727348,6.8973074,6.458287,10.92393,14.01277,12.139837,11.103726,14.801141,11.380221,14.212291,13.583927,13.844122,13.810906,15.215561,15.587872,9.336425,13.652534,11.405834,9.450587,6.4654236,14.402364,11.061393,7.0684967,11.838744,12.12164,12.077884,15.190298,15.506179,11.229038,10.96096,12.619578,13.88348,13.989772,13.485263,13.971316,14.485248,15.23465,12.399,13.532029,13.639836,12.020468,12.067376,7.922288,9.195916,13.341532,13.470638,11.073334,14.258922,10.79429,14.5485735,11.930286,12.023237,12.780243,11.485013,11.494853,11.625398,13.812165,14.867248,12.412309,12.255034,10.736147,12.195673,6.733971,9.311584,15.768937,13.69934,11.374603,14.666842,14.069816,15.605254,13.212581,12.207221,14.523524,13.653823,15.263963,10.634169,7.7367516,14.98548,11.993428,11.24082,12.597521,13.120225,13.226071,11.14567,12.592677,12.029979,13.581343,12.099828,11.618138,14.44617,14.024818,13.678128,12.922153,6.0328903,13.107404,6.12667,12.05791,10.885685,14.898578,13.437402,14.841345,8.462231,11.313653,14.279232,15.492968,14.888059,14.176676,13.56441,15.694297,6.438695,12.046158,7.7057123,9.717291,14.333379,6.273257,12.900763,6.751829,13.720581,15.285467,14.053296,14.919612,12.864013,15.285825,12.551329,11.157964,14.149264,11.81267,12.949897,13.830759,12.362831,15.135385,13.408731,14.806526,13.025694,12.455455,13.292273,10.539904,13.861655,11.709249,14.534086,12.125072,15.249825,11.466263,12.707255,14.145979,9.574172,9.129849,12.319979,12.979098,13.348644,9.605234,9.189092,12.59778,12.56668,10.752391,13.79132,11.145968,13.670429,13.523429,11.950106,11.975218,13.850115,9.029636,11.748735,10.834373,12.401948,10.73387,13.065869,13.756298,12.553448,13.712889,10.941069,14.280354,13.536338,9.1930275,13.332307,13.380198,15.296815,12.105394,14.018406,12.276392,12.41063,12.5787115,9.11268,8.676013,13.778824,6.9298453,14.412418,15.558519,10.851996,14.789583,10.873267,6.563961,13.738691,11.847808,6.108536,13.020907,12.400968,13.451759,13.898626,8.502042,7.8249807,15.292918,10.885033,14.358449,12.047576,12.972948,13.268956,13.517248,13.0201645,12.496156,12.252441,12.703135,13.324733,11.266061,14.588633,15.514922,14.441353,14.362951,10.985294,11.315963,12.055434,11.833096,13.631463,14.979465,11.945374,13.472385,11.57778,14.440336,11.36008,11.569656,11.573149,11.690969,12.861197,13.112767,14.81267,13.788478,15.119728,9.399125,14.053292,11.964831,13.228651,12.431391,14.883203,15.387418,14.290075,14.381337,12.177814,12.762097,13.836766,14.36978,14.554793,12.423708,11.520649,14.143777,14.551153,12.082767,14.639039,12.822969,13.59321,15.395548,11.906338,12.299252,15.237472,6.4317055,13.86317,12.116298,11.224239,13.678487,7.878586,15.103757,11.520509,13.075063,12.010006,11.878966,13.945843,14.023311,13.144874,11.59397,13.6857195,12.076889,11.60699,12.352,11.967091,12.47988,10.966934,13.317533,13.614399,14.42078,13.7203455,11.812772,14.872113,11.879184,8.929967,10.573994,13.706724,13.565493,13.823891,8.817479,12.26445,6.706329,14.219809,11.966925,12.243261,12.572904,12.789201,14.909369,13.696164,14.2677765,6.145467,13.216688,13.004407,14.313198,14.216835,12.400108,13.594011,9.013402,12.268636,6.785691,12.775197,12.808687,11.001334,12.98817,11.480779,7.6215906,12.28863,13.649332,11.932592,14.414796,13.703303,13.196407,12.763392,13.545635,13.41864,11.621817,13.2210865,11.84873,9.319604,12.989879,15.641276,12.061464,14.587452,13.137809,11.696707,12.627357,9.090527,12.001903,12.376227,11.536427,11.850742,14.491736,12.163621,14.220945,14.977929,13.914364,13.783926,7.119802,12.2018795,7.2602234,13.620437,13.987142,13.394188,12.758463,11.166483,12.055194,12.286829,12.082643,11.408698,14.89429,10.386563,13.524881,11.953345,11.693285,13.128392,14.258624,14.356185,11.995919,11.082784,9.291458,8.9430895,13.76124,13.00365,9.3293495,12.76742,12.516788,12.290233,12.356162,14.796934,13.910042,14.087287,11.856983,12.586514,14.143333,12.799218,13.830048,13.210203,12.160162,14.588245,13.863069,14.255356,14.922413,14.268111,14.410212,15.0742855,13.731468,12.011296,13.97876,12.891517,14.981024,9.392555,11.853943,13.421737,8.852214,12.906112,12.219205,14.253297,9.294347,10.880687,11.991159,13.100902,8.875525,11.457382,11.399374,14.655355,10.079905,13.796876,11.879775,11.672112,11.9872055,14.181698,13.754675,10.672331,14.672016,10.545028,13.364486,7.7123227,13.49293,14.152478,11.133553,14.099611,14.288337,10.397441,7.758088,14.79136,12.914039,14.573989,13.786229,11.984411,11.098301,15.079779,12.247049,15.053875,13.019659,8.331238,12.818944,9.195576,13.281227,13.691284,14.592019,13.163551,14.135463,13.538603,13.209788,9.430642,12.438005,12.830181,6.7602735,12.9425335,10.756985,11.884272,13.584379,13.059355,13.884112,8.658628,6.7012253,12.093316,13.893154,13.5017395,11.539785,9.184592,14.676451,10.9104395,13.740791,13.644837,13.568726,14.260779,11.250052,12.7703495,12.378142,12.513777,6.8292336,12.315305,14.267316,15.220089,13.88782,13.579827,12.15482,13.574726,13.522302,12.507748,14.961967,12.058781,13.652262,13.79197,8.266002,13.685577,13.581961,11.058707,12.162943,10.616863,12.435369,8.575992,15.141644,15.156591,13.780555,13.400019,13.695279,8.804069,11.23805,12.877233,13.209433,6.793356,15.088643,14.148578,13.1376915,11.42301,12.245442,13.333162,11.267616,8.825122,11.160533,8.66775,11.987181,13.024458,13.746617,13.000032,15.352788,12.059282,14.927377,13.678902,11.878563,14.254948,14.79566,13.403339,10.944762,14.49155,13.372777,13.778912,11.601217,13.701167,13.184629,12.233658,10.650253,13.859577,6.57035,12.013631,12.907567,14.122962,10.849779,11.230581,14.49839,12.989198,13.918873,8.992716,13.49885,12.74823,12.287753,6.165687,12.323969,12.2049265,15.647547,6.7183084,12.698032,14.677857,15.937555,13.173665,13.249588,11.613292,12.981352,15.242784,14.959399,8.34352,12.005975,11.977702,13.904744,11.58795,12.796245,13.84635,10.964018,12.115864,11.683625,14.640055,11.861768,15.437772,12.015136,13.258,10.602691,13.420423,12.090461,10.272272,13.608048,9.102115,13.559632,13.454995,11.014135,15.01116,11.251156,14.64288,15.004304,12.358004,12.845735,12.877985,13.7029,12.266603,11.948215,12.77431,9.172523,10.741781,14.443903,12.738446,6.7630215,11.188277,15.19743,12.122348,15.419584,12.746874,10.938574,6.455697,12.90807,14.1303625,10.776371,11.948006,6.4647384,13.812324,12.109137,12.067826,6.984408,12.538805,11.512887,13.62336,12.313261,10.879041,12.751036,12.055332,11.388742,11.028762,14.407805,15.884097,14.290701,14.385682,14.095479,9.183532,8.766365,12.144685,6.5968924,13.153898,6.527056,12.4986315,11.929438,11.415972,14.605432,10.280642,14.0360155,11.20185,14.709631,14.303669,6.999848,13.32509,13.097827,12.348235,14.060074,9.747654,13.305196,12.648513,13.307912,6.1932473,15.0025,13.941199,12.736427,15.070147,13.65784,14.074763,13.653091,9.416527,12.82424,12.3116865,14.541009,14.443537,11.653116,15.127155,12.3887825,13.677909,12.187532,13.274114,10.611622,14.646579,13.264666,14.992204,11.928761,13.956245,11.287024,12.104248,6.053459,11.947705,13.658043,12.851256,11.534629,9.13459,13.452117,12.754587,12.773477,11.372034,14.140935,12.969149,14.8757,7.791537,14.877899,14.111689,13.69281,12.210417,12.79287,12.085353,15.449181,12.798861,14.137453,15.261953,14.49498,9.219707,13.947083,15.582717,10.7266865,9.612216,12.652077,12.117726,12.045292,8.499434,14.2199,9.601697,14.409547,14.327468,10.720344,11.357921,14.882211,12.64432,11.905167,8.766219,15.373806,12.216527,12.841018,11.934527,12.607519,12.31968,7.717595,8.895262,14.524079,14.2263975,8.955402,12.445556,12.340539,11.971442,8.892047,9.092616,12.259646,14.846226,13.494386,12.760248,14.373147,7.9194403,6.1324315,13.467895,6.566332,12.539688,12.149269,6.1251774,11.839454,15.344852,13.506985,11.320935,13.584071,12.148358,10.844533,12.65158,13.555425,11.589276,14.98895,14.271728,13.658391,11.742712,11.711726,14.17351,12.643615,13.970814,12.048873,9.2638855,13.282219,13.234478,9.861979,14.059087,11.171795,12.091378,12.2052765,11.495005,14.069685,11.600835,10.82518,9.083234,11.994017,14.482564,12.0197525,13.855602,13.232828,11.875998,11.7049885,12.201953,11.459598,13.553395,10.583652,10.747683,12.012825,12.560111,11.916366,12.452399,8.965441,12.496094,11.40872,12.432718,12.858717,13.745968,14.038955,13.690518,14.503629,14.800241,12.419936,8.818286,13.395722,13.971374,12.271423,14.878327,13.174499,13.807179,13.288091,12.015245,13.701093,15.022627,12.5433445,13.366548,15.765238,12.238633,12.182515,6.166454,11.367659,12.625698,14.667318,14.303411,10.723831,13.482698,8.874326,13.708676,8.996263,14.782893,12.129538,12.2932205,9.234522,13.925985,15.076895,14.189327,13.79789,12.944476,11.462127,12.272457,12.006483,13.865925,14.607069,14.934756,14.039354,13.913307,11.992631,11.6368065,14.546752,13.968914,14.843374,12.9467945,15.098447,7.7491136,13.734605,9.122429,8.199429,15.263747,7.7468963,13.060102,13.68844,13.943337,12.106031,11.945233,11.857453,11.196897,6.5119367,13.204283,11.580486,11.205095,14.399895,11.5210285,11.83638,12.899143,13.9548235,11.544033,12.075658,12.695418,13.820696,13.866709,11.9345875,13.254175,11.932226,13.732465,15.04818,13.992778,15.392901,13.300319,11.608932,14.451476,12.078017,13.661648,13.161621,11.60541,12.013068,12.026195,11.623469,13.205815,13.526359,14.167041,10.824137,14.858825,13.993448,11.529677,14.169555,11.98183,10.492614,9.0429945,10.299729,13.6241665,6.234821,14.258182,12.824963,9.48123,11.73249,15.069392,14.143273,11.143337,12.783756,14.750724,6.7530184,14.26215,13.487541,6.7438498,12.177058,12.798176,14.814365,14.358013,13.256779,13.731895,13.931002,10.875275,15.050027,11.569907,12.021579,12.170208,12.033699,13.258981,11.550859,12.308267,12.197851,13.194272,15.051846,13.730675,11.011302,9.661288,12.532169,14.307516,6.1438065,13.755647,13.342652,8.981026,11.25315,15.162552,6.9030843,10.581139,10.750971,10.12722,15.097435,14.039965,12.919054,11.647457,15.128423,8.811416,10.65572,14.140668,15.009544,13.846075,14.648674,14.7164,12.091249,12.775296,12.884924,14.822838,11.764393,13.391999,13.735497,13.548779,8.551074,15.5580015,15.210364,14.688197,15.01472,15.093023,12.414851,6.0676694,13.717263,12.634069,12.443281,11.045284,10.338327,12.050401,11.044416,10.559181,14.399632,11.625354,13.634438,15.672608,13.278991,12.947317,14.133266,9.811467,8.128593,13.008744,12.14858,12.524649,14.29841,13.741942,14.806799,14.967205,14.033699,12.466006,11.084932,12.545645,13.928865,8.916384,14.661961,14.679658,13.070734,13.993215,12.268779,14.382219,13.550441,8.770221,14.063937,13.9454,9.173862,12.196306,14.016482,11.851628,6.980195,11.40283,13.960276,11.966263,14.205844,10.543267,14.40378,10.566277,12.070539,11.781241,11.875468,13.247518,14.145937,12.692861,12.637513,10.369784,15.193951,13.191065,14.607689,14.300476,14.086011,6.7596436,11.905756,11.932149,14.699447,12.885877,12.548425,14.17918,6.88216,12.066487,7.47302,12.761289,13.360607,13.525151,14.655375,9.225235,12.795854,15.402597,13.907577,12.276149,14.321532,12.114802,13.9644575,14.218362,14.41979,8.980703,13.351504,12.013412,12.161141,10.817943,6.0629597,13.593798,14.014428,10.710825,12.042204,14.13869,11.949272,13.215218,14.082361,9.043021,6.3233094,11.131459,12.824609,13.760722,13.016096,15.522443,15.358657,13.804533,11.155203,11.644214,13.792684,6.7497177,14.347494,11.431896,13.092403,9.455418,11.294462,12.337284,14.166136,13.121001,12.09342,13.390326,14.126431,11.818375,13.8453245,14.803833,14.422008,12.510446,12.806047,14.306147,13.5907955,13.496077,11.434054,13.126283,14.283661,12.678984,13.885881,11.356502,12.458602,15.462105,14.893376,6.2164006,10.77451,8.767933,11.070403,10.757654,11.772427,15.127907,10.330323,6.646141,15.034101,11.868682,15.244588,14.018718,15.362722,10.648655],\"xaxis\":\"x\",\"y\":[4.359074,5.486944,4.5469666,4.635579,4.090351,5.437776,6.598601,5.2536454,8.331566,4.8364143,3.1672223,3.9637172,5.154004,5.8591843,3.834591,4.847781,7.7357745,5.672381,5.103628,4.4964986,8.602475,3.157998,6.216252,4.0834355,5.393076,2.8803282,4.897758,7.105674,7.217058,7.1188636,6.6791563,6.0457644,2.073846,4.8739276,5.0530567,5.1413555,7.5402555,4.2422595,4.074326,8.830782,6.8446164,8.830999,4.5154843,7.253373,8.912193,5.106717,3.8254285,6.9025464,6.5356216,6.150085,7.0057898,7.3934913,4.5265365,5.8395047,4.129885,8.82099,4.9510536,3.0116382,5.999055,7.4548526,8.507442,4.380883,6.8798556,7.7671986,5.0766063,5.829018,4.2701836,6.643626,5.5174866,4.3816533,2.9604058,6.9058065,7.7747765,3.273122,7.092687,4.641012,6.2461343,4.500185,6.3293858,7.187075,6.317755,3.9463603,4.0430956,7.655848,3.7079952,4.661716,8.0947485,5.817285,6.327105,5.6259527,7.2544656,3.3982997,3.907775,6.4468274,4.5469456,4.4983883,5.556405,5.940491,3.4809065,6.326688,6.0973306,8.920353,4.021166,5.449875,7.0080347,7.2118783,5.5693946,3.8859878,5.816362,5.7237363,4.2603097,6.1698236,5.4102387,4.4035506,4.695301,2.734054,2.7421086,4.04672,5.0125527,6.951553,5.527096,8.213082,7.6862655,6.559803,7.038036,5.9017673,7.317126,3.2740357,6.334253,6.9803047,3.5232608,5.378177,4.4491525,4.231241,7.572342,3.548111,3.9967942,3.757211,4.2236843,5.0092463,7.2491355,6.026379,4.7871256,5.4121623,3.144909,5.1538935,3.532369,6.1511908,5.3458567,5.6067514,6.619525,6.7410283,6.414605,4.742892,7.0703306,4.6007986,7.08048,4.2793255,4.230689,8.478157,8.564003,5.925936,3.069959,7.3156557,5.584838,7.396541,5.011683,4.2304554,4.335964,6.4887824,6.4092245,7.091251,7.2175703,5.8315983,5.306724,6.916207,5.518185,6.7979803,6.2130556,4.0637064,8.733385,6.2702537,4.086251,4.155397,6.3850102,7.1064234,4.16936,5.4892516,6.3231297,7.619873,2.979261,6.145059,5.9161243,8.364591,5.5248866,3.829042,5.0366797,6.459095,6.087431,3.891794,4.0080137,5.2535443,4.752594,6.2035866,6.196184,5.7159195,7.6798143,4.1140943,3.6716542,6.2060637,8.250492,3.0346901,5.460158,6.1500034,3.7068777,6.3103228,4.495349,4.7088456,2.8610647,4.19631,5.3429685,3.8689349,5.4788575,6.8666377,5.1258316,8.216719,6.542499,7.126793,6.2733603,6.6094723,1.8965944,6.229859,6.575234,6.5410705,5.600403,4.269424,6.016983,5.493342,6.0815687,4.3120604,5.646902,4.6893744,4.58578,5.178064,4.4874444,4.958203,5.3999486,3.7996442,5.686667,4.0771327,6.3331904,6.2985296,5.3268356,8.275077,4.1249895,7.5332294,4.4642215,5.035628,4.723331,6.020958,6.958559,4.5715017,6.584788,5.5392013,5.8870206,4.834766,6.4665675,4.714723,2.5400386,5.539414,6.1982307,4.0554814,2.925506,7.4978995,2.3787272,8.390805,5.6602073,5.500215,2.8685172,5.945184,2.8137224,8.369727,8.170383,5.700363,4.4910965,5.173351,4.338871,6.4497623,7.372781,4.6499085,3.9164855,4.8423553,4.6226697,6.8455877,5.0864577,5.1265807,4.770215,5.8884764,7.029884,6.037148,5.8011036,5.31097,4.756759,6.5009084,4.7752233,6.095312,3.7201266,4.105546,6.910503,5.9628806,6.301376,6.959621,4.684241,8.259548,4.727532,6.8732734,4.599805,4.553014,4.196855,5.2653017,5.878162,4.834925,8.860712,3.7357228,7.21205,4.499303,4.220297,6.856014,4.904133,5.9639573,7.556951,5.9483128,3.090303,5.594206,8.809913,8.553248,6.355718,6.8200045,5.4276104,6.495325,4.2337627,7.2606955,6.9818044,5.6101985,4.411342,3.7635815,6.945634,6.848381,5.5007324,6.0275354,6.714401,3.388644,3.6989372,6.6797953,5.350103,6.632733,5.729865,5.897383,8.144648,4.758681,4.8911138,6.751315,3.8677714,6.725256,3.7610838,5.53111,6.2389894,5.5088005,8.390471,6.367219,4.813975,5.6598053,6.754539,7.1183877,6.611943,3.006963,7.0407987,4.1379657,3.9877481,6.6391325,6.6641717,3.953222,6.562279,6.5291047,5.855042,5.680749,5.9651546,6.144707,6.78387,7.0125484,4.425329,5.58782,6.210323,7.1948357,6.394838,8.072252,7.188147,4.308484,6.173408,8.72025,6.0916677,4.9784822,4.8182335,6.0211987,7.5116115,6.263729,6.8220854,8.040602,3.3399925,8.204479,5.464431,3.2785172,6.838426,5.528163,4.6910157,3.9956737,5.6862354,2.1450255,4.035822,5.6317124,7.2000904,6.3303914,5.8370514,3.684934,4.8208065,4.072923,3.9178514,4.56855,4.9264507,8.989965,6.9338865,4.189053,4.7466087,4.1317687,7.4611793,3.3237746,4.491201,4.8372326,6.9602795,5.5722604,4.1244016,5.3090353,5.610334,3.9963348,7.2372007,4.106914,5.7410855,4.8887773,5.9354534,7.075048,3.9107847,4.6180406,8.024834,7.348205,7.484598,7.0350275,6.431094,5.384223,4.119909,7.3334184,4.0496945,3.948821,6.7662168,5.1660166,4.453271,8.8823395,6.2502155,4.721726,7.236099,4.9036627,7.6547904,6.4847326,4.254395,4.117412,7.172122,3.9561713,4.9330645,7.478593,5.9121113,4.695228,5.5893393,6.3740497,6.8369074,5.2725987,7.1219826,6.16782,6.2504735,5.9191313,5.307902,3.632878,9.312544,6.8529077,8.541507,5.7078533,4.633427,5.457315,6.460638,7.4915805,4.196004,6.8170657,4.2344327,5.5618186,6.3926635,6.269634,6.5705404,7.112783,5.0168357,5.541719,5.7808504,4.0877542,5.81076,5.4760785,6.3888826,6.575784,4.598935,7.400018,6.9231787,3.9165318,6.6175756,3.4102912,3.449085,6.7294383,5.4286366,6.505469,4.663547,7.1571536,7.359624,5.868823,6.1318574,4.1712766,4.900347,8.424112,7.3773193,3.9995537,7.6390395,5.583169,7.0184636,7.024905,5.4902987,5.7326226,7.541853,3.1551857,5.8988175,5.1798105,4.3526545,7.0254664,6.443111,6.661019,3.2835932,6.5531883,5.273285,6.978875,4.605381,6.7350497,8.822908,4.7834787,7.1712904,4.0519657,3.1716583,5.8593125,5.919384,7.193737,3.4770093,6.7708125,3.3434765,8.137357,5.879738,4.6142716,8.738273,6.547279,3.4388764,4.112847,3.9170809,6.3638434,7.06322,7.0695457,2.9081647,6.265192,6.258161,2.8820014,6.578839,8.733903,7.18948,4.906022,5.7078547,5.0174465,4.8128166,6.462745,6.935164,7.152736,6.0028777,4.825666,6.138534,6.415423,3.293138,5.789011,6.82176,5.346367,3.375966,5.3757586,2.817323,5.1238866,5.600048,8.398654,3.9253294,5.98927,4.1862965,6.2605176,3.9471297,4.3917413,2.6777425,3.78845,7.015884,4.785366,8.670395,6.690999,3.5046694,8.212729,3.2561507,3.8339279,6.9613543,6.148771,6.9809003,6.527934,5.765758,7.0695877,5.2174745,5.7827635,3.166386,6.161036,6.7359257,5.1283927,6.496007,4.413143,6.768364,4.839225,5.0518875,4.886141,6.779555,4.0455976,5.4624367,6.7885785,6.622535,7.098749,6.2671223,2.4685,8.796947,5.06221,5.852236,4.194155,7.2453346,6.5299506,5.658093,3.9838414,4.232809,3.5898335,4.854746,5.293447,5.4947643,3.3545225,6.1841784,3.8121064,5.7682476,6.6109033,7.0615354,7.383584,4.3031607,5.5768285,4.08922,5.635357,3.7346966,4.7684746,5.389667,7.1495395,4.510902,7.3213053,8.042841,6.258911,7.8066697,5.365109,3.7105172,6.1662583,4.357812,4.357437,6.99189,5.19915,4.9819107,5.133725,6.814089,2.9880447,6.6400533,6.282059,6.926759,6.19056,6.2635007,2.8771634,4.4082294,4.1391916,7.200148,2.9169636,6.0149465,6.7555695,3.0507934,6.171954,6.339588,3.2077281,7.9468675,6.57757,7.423624,4.8614655,4.8303995,5.762626,5.5954833,4.105325,4.6445794,6.912084,6.8449903,5.4532814,2.6210856,7.1329374,4.805861,4.149885,5.381957,5.7856035,6.668423,6.1643167,4.647029,4.079233,5.320007,6.537221,3.1080234,6.6126156,6.742956,6.2956805,7.2464643,7.1097374,6.686587,5.0618196,8.691906,6.7685485,6.230537,5.5543203,5.936453,3.3110905,3.9761367,7.039667,4.1436543,6.312493,6.5983133,5.6958685,6.5973,7.085797,6.31849,4.087893,4.510407,5.3542457,6.754136,8.313914,5.880831,5.0380416,7.085015,5.538535,6.287647,3.8292813,5.934058,6.414821,7.0668745,7.113963,3.1586485,5.9939504,4.8978205,3.3545012,5.5237,3.297685,4.4133224,4.978274,6.477369,7.366204,7.7760077,3.388914,6.4720345,6.5160494,8.283431,6.8380566,6.4388394,6.801976,5.2191854,7.7530828,3.8062556,5.7677827,5.981272,8.090579,7.499305,6.1613774,3.1854703,7.582842,8.091543,6.516381,5.9576035,3.7503424,3.7227342,5.2152667,5.1195974,4.193857,5.2845974,5.826171,3.8666146,5.9958277,3.5094213,4.026204,7.7870317,6.9392924,7.8447204,6.8901625,6.920195,7.550307,3.4333436,6.115118,4.8088484,7.7985363,2.9460914,5.7066503,7.271367,4.5670686,3.5888612,6.234575,5.835293,6.774136,8.682942,5.266862,4.307103,2.1277077,3.9087088,5.828234,6.6548476,4.823792,6.1225734,6.396456,5.272006,4.9992833,7.0787497,7.6271877,5.988194,4.205424,4.711023,4.298023,5.789625,4.463083,4.7797813,5.061564,7.584292,4.3042636,7.053925,7.653439,6.3267007,5.1027923,4.9531813,3.9273312,6.870758,6.262681,7.1221585,4.555338,2.9706173,8.677215,5.724325,8.567271,3.2807019,6.624684,6.5097814,6.25765,6.2255445,3.5479136,5.440643,4.775991,4.018688,9.312892,4.8321934,6.3973303,3.7294688,6.047866,4.345368,6.0245876,6.07825,7.2491765,7.7247224,6.8928413,7.613743,3.7191193,6.5611076,6.4927926,5.000074,5.0227118,6.480746,5.1713543,4.800968,6.6240153,6.2344265,6.439546,4.022577,5.05792,6.57846,4.080004,3.6543798,3.8113058,4.8651195,4.9083366,4.5750437,3.9747503,7.7395463,6.053555,4.7479568,3.1596026,4.000421,6.175171,4.758434,6.3298864,2.3915536,9.051271,6.8664904,6.840414,5.5633883,3.7074373,4.723433,2.9964616,6.9582586,5.2678795,5.791742,4.5280905,3.6871164,4.5685062,6.082771,7.1005664,9.064298,4.6684732,8.228596,8.641345,4.5699344,6.7233305,7.580487,7.094809,7.351341,3.532404,6.742968,5.7543616,5.7593446,3.7521043,4.4815454,6.150271,8.190256,6.0866485,3.7784975,6.781117,3.7334368,6.5224915,5.1803865,3.0032828,7.4676013,6.161014,4.0534306,3.9102361,6.9515076,6.2602725,6.0717926,4.017126,6.6126447,4.736629,7.3120847,8.665249,5.526762,5.761268,7.155583,2.7542462,5.411181,5.709008,6.799441,7.1194453,5.858536,8.651699,5.7448163,6.290237,6.8745832,6.6077576,6.9302936,4.280867,5.677539,7.269989,4.1891837,2.6265488,7.0627275,7.199929,5.776178,3.5875857,5.006012,6.5622163,4.8431334,5.077973,6.301809,4.409243,4.987836,6.8439536,3.596465,3.6208808,3.8090832,6.2090945,6.0327125,6.30356,3.4354622,3.9789004,6.4350657,5.694536,5.2123146,4.522015,5.9160633,4.669674,4.899389,3.9404764,5.715493,5.5212374,7.492612,3.7884176,6.374126,3.9095204,3.8712287,5.165588,3.3527544,5.3058486,6.490504,6.8184023,6.7671943,7.482104,4.831989,6.4406486,8.297079,6.2376847,6.1290555,6.3894153,5.860251,4.018363,5.4720993,6.4819593,6.8550534,5.8963056,8.357132,2.5354574,4.7163844,5.6790156,8.244489,6.2151675,5.7165537,2.8616705,6.431481,5.1509895,3.9398425,6.6400394,4.9817915,6.62849,7.7557235,5.042261,6.762643,5.3871593,6.0605574,6.6033664,4.22993,7.204065,4.9288263,5.5276628,6.04511,7.667447,7.1640673,5.8957953,7.3884416,4.772678,6.6984043,6.294777,7.4825983,3.6352844,6.791278,3.0611057,6.9308004,3.635576,4.0840497,3.6860805,7.760386,4.0541625,7.849281,6.8652577,4.541759,7.494578,4.188944,5.7985563,2.827512,6.423681,6.9647226,5.5097322,4.486381,3.7723532,9.325373,5.7750316,5.3880844,4.176367,3.1390138,5.3526583,4.184039,3.8100734,6.2809877,4.540017,6.0352707,5.7686353,6.773199,8.970769,3.9416444,4.866245,5.5280747,5.2145386,4.267949,7.219433,5.3329363,8.729394,5.5632887,7.7049856,6.2367425,5.850138,8.487437,2.799852,7.9699645,7.002674,5.061282,3.8549814,4.3296576,7.0973315,6.2826858,6.8480983,4.1938033,6.2899237,5.3108144,5.8746624,5.0585475,5.7657275,4.1273065,4.6112595,2.8976955,6.2889433,3.1511555,5.666426,8.982919,3.1514626,5.4280634,6.1639776,4.192379,4.740905,5.9229155,3.8441017,4.9348655,4.80829,4.7799444,4.5023527,5.7172723,4.4460754,6.3609166,3.162026,4.414398,6.7587266,7.076008,6.358068,4.935425,5.866548,7.173398,2.8142235,7.622109,7.1954756,5.2923965,4.242991,4.373919,6.3640404,5.1770515,4.962501,6.7956033,5.7923293,6.040992,3.785825,5.3231335,3.7839835,5.5451107,4.996648,6.509563,6.3673916,3.1008797,3.5054443,4.0979934,6.5904284,3.4677641,8.6122,6.4134865,7.0552173,3.564089,5.5612507,5.133727,5.3014665,4.516736,6.338788,4.8752832,5.889938,4.819901,6.3055906,7.179772,5.638452,5.6739016,5.827042,6.2040286,3.924778,6.571395,7.1244884,3.5930254,5.145278,5.634544,6.641364,7.038225,8.881617,8.106695,6.585041,4.84497,5.5749083,8.914923,1.8703997,7.0972133,3.3729703,6.866488,5.0090504,4.976622,4.6499214,5.297652,5.4071465,4.326807,3.8367472,8.542779,6.95866,6.912136,6.0169654,4.140055,4.44532,5.620133,7.1115527,4.6631856,5.6587024,7.0900097,7.402762,5.8756638,6.410265,5.7716017,6.0189276,4.1113987,4.9660635,7.4435587,7.4613566,2.9905708,6.205951,5.414609,5.112181,6.2995915,6.8478203,6.682947,3.7612753,6.0256248,2.9472814,3.2851772,6.4467072,4.3469167,6.5145073,4.74402,6.5716696,6.732228,6.0015726,5.571593,2.9188018,6.3755174,3.7961917,4.0651517,3.42038,6.2976427,4.120337,6.4489594,4.015199,6.2496853,7.0080643,2.8329444,4.2288723,6.749009,3.707764,4.8154397,5.2852373,4.610439,5.1769385,6.265577,4.810364,4.8252873,3.0353024,6.617301,7.773363,3.8179674,6.4744925,5.543078,7.0993953,6.0293937,7.2604394,5.5762644,6.249959,3.081499,4.7322335,5.2460055,6.4806175,3.8594553,5.643658,4.6945577,4.235904,5.353813,7.765838,5.2643204,7.535155,5.6594186,3.0685248,6.0979085,2.6280487,5.783285,6.6717744,5.9138827,4.7042274,7.0881553,6.1445875,2.7342517,4.293181,7.352196,5.9508467,4.5723596,5.1376624,6.061164,5.199798,4.0333953,5.47188,4.138834,3.803203,6.470273,4.6507363,6.3460135,5.3683615,5.1363397,2.025465,5.8194237,5.2547193,5.5745,6.432353,6.0832033,5.429118,5.662079,8.152741,6.7480817,5.163633,4.2558885,3.7357695,6.939814,5.839178,6.634705,4.9566455,6.501286,6.347615,4.4798336,6.54473,3.762473,4.639636,6.6417994,3.622603,4.7490835,3.3921168,7.5499754,6.604906,4.667416,6.8380623,6.7835555,8.973468,4.1281843,2.7014334,6.694856,6.607786,2.9497051,5.281958,3.8275063,4.766844,7.6668644,4.2024417,7.189012,4.1018934,2.7536566,7.292526,5.3649964,3.0106146,4.5641007,2.8101187,6.674239,5.382031,5.451931,5.8139997,4.0483685,6.5249305,7.0561037,6.9412484,6.1062393,2.6607504,6.330697,3.994234,4.265985,4.059192,5.507454,6.648397,4.2190466,5.7950993,6.7687206,5.819473,4.5590205,5.6863713,3.4576473,4.8720884,4.7994885,7.6516356,5.8469787,6.79199,6.439975,7.1311264,4.75228,5.649184,4.8536863,5.5259867,4.8818517,5.937191,5.883469,6.100029,4.8611603,7.1365495,4.258566,4.0955076,4.520654,4.0780263,6.3313417,5.144768,4.293728,4.780743,7.1409,5.5937614,3.591477,5.898098,3.9792652,7.6820383,3.1201982,4.3901854,6.291733,4.8721175,7.2697763,3.7938757,7.3651967,8.023172,5.2328115,5.7329383,6.9138446,4.2952733,6.4676642,7.5515914,7.73611,3.0628393,6.273024,6.1950006,7.545315,5.6340775,7.38829,4.904735,2.7218654,8.296605,2.9718874,5.827404,3.7102005,4.5377345,8.280279,6.4281464,5.322437,3.2333503,5.635315,3.8341289,3.5414712,8.705214,5.3823104,5.348544,7.067887,5.489574,5.606741,6.4750085,4.9554334,4.9215093,2.8999481,6.4156456,5.3582025,4.381812,5.927394,3.8480856,7.127859,4.1226754,5.087249,7.435779,6.8523808,6.309235,7.173834,6.838011,9.143808,6.2920117,7.685956,2.9526231,4.686954,6.086133,5.583514,4.2079263,4.393985,2.7537284,5.9805293,6.2029347,4.956877,7.884937,6.4994855,3.568081,5.1071305,4.275842,5.2428737,5.8351192,8.035551,5.8495007,4.8608356,7.065583,2.8689687,8.311567,6.2455254,5.5898943,5.8215895,6.3876786,6.3809886,4.9137053,7.0692925,4.054994,3.0752618,6.777202,3.3659687,5.613306,4.568543,3.9336743,3.583558,5.8655996,6.4708853,7.543413,8.289414,8.689969,6.443828,8.905713,6.9913483,5.057871,3.4710064,5.765288,6.4330997,5.739569,6.0012274,4.4175396,4.15074,6.982869,6.5409517,7.303805,4.1642113,7.3731,3.3288217,3.251287,5.0058722,5.508685,7.275216,3.7466295,8.431775,5.453541,5.5681734,4.7705007,5.801934,4.2530255,4.190808,7.162754,5.685767,4.928003,6.921318,4.9918604,3.624455,7.9243517,5.809873,5.6950984,7.7322407,5.6232944,6.161799,3.7063105,6.7629676,7.597327,4.2288713,6.2932277,3.9528704,3.009005,5.9945097,3.8287563,6.9986444,4.2313476,6.088133,7.384289,4.609481,3.003453,4.9745407,5.0252023,6.9870195,4.4262,4.8542,6.276907,5.3823576,7.2904882,7.088468,3.9948502,5.222425,3.557392,6.790863,6.1598477,5.594632,4.4903865,5.1956596,3.3835568,5.5649905,5.436477,5.3533397,3.0671268,4.817121,5.3083696,5.94959,4.4937468,4.1966605,4.1575904,3.903846,4.754302,7.4246182,6.7148237,8.625478,5.1907177,3.7047246,6.6564436,5.9265103,5.6378837,7.215899,6.305781,6.396803,6.94312,5.8793955,5.9380975,5.5809646,6.695202,6.2257113,5.48518,3.581199,6.295122,5.4587426,6.4302173,7.7489705,6.2535596,7.722652,5.168054,6.665498,3.260267,5.358036,4.163054,4.040174,7.1059356,4.25183,5.6688514,5.788796,5.2553725,3.9415123,5.2912035,4.208434,5.5534706,5.3670506,8.1092205,5.7576976,6.7616577,8.569478,5.539279,4.718897,4.0934973,4.747816,6.6570334,6.457358,9.070245,5.199753,4.3190002,3.5780115,5.565785,6.203259,4.138118,7.8979087,4.042515,7.152289,7.121503,4.894765,5.837632,4.957993,5.6901546,4.293552,5.078352,6.7434435,6.129133,6.134957,7.4894276,5.541952,6.992366,7.070216,5.7075005,3.7720952,6.5017276,5.9166255,6.469675,6.682885,6.432878,3.4767802,3.2057953,7.9479356,1.918151,4.188846,6.5554285,5.242977,8.312565,3.5789385,6.9811425,5.9882307,3.0621538,5.318102,5.7690706,3.873048,6.322281,6.0265937,2.5410657,5.48955,8.448987,6.7760386,5.3234034,5.4332275,3.7673428,7.6473737,6.5069523,6.4096265,4.7179193,4.115967,5.0644703,2.7585168,5.7515492,5.632794,6.7360244,4.4087195,6.188913,4.01023,6.4821506,4.672487,5.3789,4.458248,4.18736,6.9052615,5.934383,5.358546,4.97696,8.555978,5.072826,5.753231,4.279777,8.148105,6.73404,3.041664,4.5248094,6.967928,4.182953,6.493745,4.7490597,7.5788856,5.777694,7.787628,8.902248,3.185476,6.1307483,5.4598656,4.6687965,5.551268,5.0403714,6.578227,6.751244,7.2518353,5.81383,6.7800975,6.9314866,7.1134944,6.243939,4.949488,6.4419117,5.776915,4.729414,6.605486,7.0913577,5.421469,6.858893,4.065403,5.8663235,5.5732327,6.692415,8.859633,7.3472643,4.2764606,3.3129122,3.8423195,5.9451146,6.9422603,3.9012403,3.135957,7.1088104,6.472884,4.661023,8.696515,4.2330546,3.102409,5.653308,3.616149,6.4525876,2.86469,4.839547,7.2432957,5.7259784,4.6030364,8.883317,5.867593,4.613911,5.457042,3.0221372,5.85614,5.5022225,6.2111874,5.0394483,7.2265983,5.948155,4.733212,4.267863,4.2381425,5.7490373,7.1530876,4.4578867,3.1413767,4.908476,2.9768002,6.7406,4.4017777,6.1280437,4.190213,8.790385,4.8930535,5.429667,8.320231,4.2803473,7.122633,2.0625699,4.2751594,6.2345314,4.3089285,4.251492,6.906799,4.223704,6.1429315,6.9358063,3.9942281,6.236141,5.1322308,5.7711263,5.166625,4.3623953,6.1531363,7.0025067,7.189674,6.43568,4.7904806,4.0240154,6.6517544,4.263959,2.74909,6.5616784,6.890429,2.8177042,6.2699857,6.124314,4.867,7.178797,5.468115,4.526892,9.34982,2.546041,4.6058407,5.056724,5.381399,7.135661,5.3653016,6.5074143,6.7829633,6.1818414,6.3785605,4.159303,4.3414173,8.547486,7.483225,5.2733097,6.8148494,5.2588115,4.76447,6.54199,7.2162294,4.3831606,6.204418,8.961861,6.683341,6.58507,5.821493,5.232958,5.231024,3.9128535,4.6484704,4.9225674,3.6623964,7.253997,3.5493124,6.8138533,5.055541,7.5345135,5.569299,2.941779,5.3993425,3.6581607,6.039402,5.675786,7.428079,6.895331,9.008157,4.314787,6.821563,3.4203467,8.700887,4.53709,4.7594805,4.6278563,7.25284,5.579304,5.3249907,6.1005216,8.4935465,4.292848,3.9017215,5.9615765,5.9550714,6.043943,4.2217803,3.4073896,4.618071,5.323936,6.967224,2.8526297,7.318535,4.979723,5.4924974,7.4694204,4.746379,6.491198,6.429859,5.615778,7.249601,4.107739,5.5099616,4.0304136,3.6436348,4.482418,5.454578,4.1914797,3.7911665,7.7096524,3.6057558,6.7843685,3.7080164,8.389845,3.1069288,8.754163,4.899816,6.144347,7.775856,6.3053308,6.28937,4.2305007,4.4969897,3.9074662,7.608325,2.6646633,5.329392,6.368305,7.5243835,6.2430177,3.5969427,7.179012,5.258191,2.6373522,6.4775796,6.3935013,7.1977286,2.970587,7.521225,5.784831,3.7009804,3.2296722,4.1221232,7.302649,3.5590398,8.355264,8.868328,8.55903,4.6578937,3.821153,4.086459,3.7268791,4.798402,4.495095,3.978634,5.7937865,5.618426,7.091806,7.1837897,5.725167,2.200225,4.706313,3.7393928,5.793183,5.3978915,4.4982977,7.4372225,7.615539,5.341936,2.6658852,4.497209,6.4731226,4.001058,4.6600227,7.3608823,5.7493916,9.305887,6.053559,7.0379963,5.4227295,4.944482,4.246983,5.3748274,3.6912787,5.4921827,4.67874,3.941592,6.843487,4.179639,5.3516364,5.589101,8.516171,5.8720074,6.957843,5.4650383,5.8795705,7.2149034,7.5870614,4.826438,4.407962,6.826102,7.4699516,7.2329926,4.624921,6.9873238,6.7683535,6.5276275,5.495492,2.7379622,4.677789,4.6893625,6.04266,6.239017,7.017821,4.45525,5.888114,4.416098,4.1308346,8.870816,2.8181171,8.532726,4.770785,2.8152936,8.511446,5.7863746,6.596467,4.2357635,4.8806534,5.9819884,4.921856,7.2722898,5.4764943,6.396048,5.324092,6.4772882,3.8972945,6.8131623,6.050723,4.3910317,5.468039,4.666417,6.57268,6.1100035,6.926661,3.0499108,7.92413,4.639276,6.904836,4.12989,6.1290126,6.867282,5.512331,5.269741,4.8539705,5.3274536,5.0068064,7.6734343,2.9974027,4.772723,3.5694292,6.2175126,5.561814,5.3054323,4.5303283,4.678678,6.128679,5.3963904,7.4085674,6.9100018,7.6450086,5.46951,7.5933886,9.098102,7.565444,2.731357,5.4014435,7.1555457,5.239278,4.0250053,6.677312,5.931424,6.1272464,4.906651,6.3970356,7.259544,4.070578,4.013011,4.083701,8.498419,6.396269,8.34369,4.786406,7.340992,7.2710323,4.7490535,5.107016,4.3080053,4.44361,6.0719414,5.853774,4.919329,6.773377,8.950402,4.232541,5.5601716,4.5847244,4.8331184,4.9769526,5.268704,7.3429127,4.7117443,7.4762864,4.0976753,3.4115791,6.1011252,3.1955857,3.3026986,3.9156346,4.1919374,4.860279,4.7886953,5.9475746,4.47536,5.3358226,4.302176,7.1607504,3.636596,6.3623505,6.5636635,4.9185934,4.5635996,4.0283256,5.969376,6.7117867,6.766181,6.0928817,6.379368,8.690654,7.441245,5.7713075,4.4995923,4.695476,4.3725147,8.19309,5.5294476,6.240582,4.6015077,5.7562623,6.275366,3.5990348,5.8962455,8.536667,7.4980903,4.5345345,7.040886,4.341069,4.811393,6.13418,5.449871,7.232751,6.625581,4.7601805,4.247317,3.2977552,4.699083,4.0705953,6.0998864,4.404179,6.76465,4.794573,4.097526,6.8959937,4.1086574,6.511787,6.435959,6.005319,6.596328,4.1370163,3.7296398,4.8939385,7.263309,4.626724,7.009897,4.080823,7.128785,2.6963065,4.6315684,7.471248,5.3732557,5.610867,5.0987563,6.6767297,4.3075533,4.440437,3.6085598,7.463927,5.484429,6.413523,5.2422895,5.717002,6.280339,5.250763,3.9243212,5.5512586,5.8599305,4.94336,4.858416,4.2130857,5.5753703,3.748305,3.3220253,5.9127946,6.546811,3.318806,5.257946,7.1166954,4.843557,6.188373,5.870203,3.995346,5.965911,6.0046163,4.90423,8.800817,6.454809,6.3044844,5.184344,4.1492257,4.719338,5.9243326,6.7336264,5.3772893,5.8672795,6.6734376,6.094806,2.8432612,4.1740346,6.813797,3.4639363,6.674742,6.8372893,5.812638,6.4931545,6.7755795,5.0089097,6.4692206,3.804216,4.290164,4.0771523,6.667331,4.577073,7.642184,6.782731,2.8926942,6.3627434,3.2847278,4.456494,3.17966,7.2131696,4.5912905,6.1865816,3.3707006,8.131584,2.7068574,6.980596,5.552884,5.9816203,3.1225188,7.522086,6.27885,6.091296,4.5742226,8.500465,4.3241014,3.0200834,4.1413317,6.1822248,6.405272,5.4189296,6.3188553,6.638213,9.035269,8.341196,5.569537,5.403929,5.844535,2.8104453,8.391377,6.41821,5.6588473,3.996061,6.563501,7.294629,5.4207077,5.3382,6.1200814,6.831889,5.8949847,6.297876,7.041191,4.3277655,6.4162273,3.3783274,6.352131,6.7134967,4.7326593,6.774277,5.370734,4.491877,4.5538807,3.8831708,4.469865,7.527507,8.209465,5.1940393,5.548956,4.161853,5.912973,7.3270006,7.4879065,4.1047854,7.893224,5.3153305,5.794113,5.540278,5.378618,6.0241885,7.244444,3.8354406,5.489013,5.799191,6.6922297,8.261795,6.141837,2.9537385,6.8291836,2.646538,5.6458044,3.927084,4.129965,4.6565585,5.132122,6.2033043,7.1087637,6.641069,3.4122214,3.1467083,2.8822954,6.214588,4.0765357,5.298578,3.7711136,5.468658,3.7490706,3.878074,7.236769,5.3067017,5.715906,5.8221188,6.3944397,5.5159206,6.1091876,4.8142433,6.8703513,7.521288,6.812443,6.057023,6.496926,6.2524166,5.349954,5.107164,6.928969,4.3591347,4.388467,4.298154,5.9087806,6.298262,5.947574,6.9050045,5.599519,4.7992496,5.3915515,6.9650984,3.878965,5.1376944,6.169393,7.428363,3.061319,4.1718593,3.9664533,7.3865995,4.522098,5.441242,6.7426586,3.0624082,4.242034,4.1139255,7.495927,5.4103913,5.9840355,7.21717,7.1545563,4.48814,6.299076,7.0458007,6.784453,7.291189,6.273144,6.2911882,4.750198,6.276357,6.833534,4.4535995,8.76758,6.66128,7.827205,6.757105,6.2152996,6.5062118,3.593893,6.2417593,5.243806,6.243153,8.81082,7.3891,6.0632563,2.9690435,5.196557,6.485053,4.6423807,4.7182236,5.5241327,5.9076524,7.7424,4.0427346,4.0049453,4.570652,5.0947633,3.8816273,8.413647,3.9394586,6.466778,7.161973,7.058598,6.515632,5.2213974,6.4474235,4.003577,6.7476482,6.2369933,7.281382,7.3688817,4.7455335,6.256495,5.9342237,3.6898892,3.2611084,6.4690976,3.9522808,4.9070883,7.329495,5.7230897,5.8985133,6.06756,7.0717154,4.700158,6.5495567,5.937833,2.443931,6.0879745,6.5257387,4.3698587,5.418077,4.171261,4.868872,5.339633,7.3294086,5.1125946,6.2149463,5.9391603,7.1461844,4.0909348,4.7910776,6.0430675,3.866088,5.158777,4.1546016,2.5990965,4.7546873,6.686074,5.482389,5.4733562,5.0379567,6.8921366,3.9086187,7.28404,2.8929076,5.3548813,7.608056,6.358263,6.8671484,8.722575,5.9089713,6.1604896,6.556443,5.7342405,6.59432,8.066184,5.819671,6.96864,3.3744671,5.854338,8.691704,2.9532194,7.293833,7.098222,5.4796395,6.6463017,3.0085776,5.9002104,5.683291,6.166097,7.2560344,4.719251,8.231409,6.960623,5.506926,6.397611,5.906008,3.6229913,7.0109386,5.226887,3.0958092,5.2706766,5.160707,6.413525,5.6484275,7.0930595,6.2931256,3.4073822,8.831879,4.1931925,4.8706813,4.776812,3.1105616,6.135736,7.7940006,7.3026543,4.0869093,6.973989,4.031249,8.706911,6.097077,6.6981597,6.1717873,6.1512833,6.334887,2.2022662,6.5542016,5.6208405,4.1028514,6.1682916,5.164284,3.9810104,3.9835396,4.7611012,6.2070174,7.4133453,4.5079055,4.1353383,6.3159585,5.0276027,9.349572,7.083366,6.576994,4.194902,5.0893283,7.3474545,4.6473446,3.9642086,7.6846,5.672857,2.7007709,3.392881,5.7666383,3.374561,3.2191768,3.0949755,4.6923704,3.1618419,6.675468,6.675145,6.647742,8.886472,4.1265907,5.2562,5.30045,7.2346435,3.998656,4.619897,5.565609,4.858267,6.3306875,6.147624,6.224171,4.698569,4.7527246,7.359287,8.166138,5.6602864,3.2520354,6.6881695,6.6100626,3.501382,7.2801514,5.2787905,6.6459975,5.0426793,4.2988796,8.7358885,5.379188,6.755138,7.129268,6.511173,4.6725626,4.465555,5.9604063,6.6392126,4.9089127,6.2635264,5.736318,8.636443,4.9266915,8.7423115,3.7264233,4.019944,3.4258292,5.81937,6.83256,7.0795655,6.521665,8.119141,4.205328,7.2937346,7.2270546,6.3409023,4.8812375,8.590452,6.5288258,8.020055,6.400835,4.1350803,6.436451,6.9777193,5.7151685,4.737111,3.7140183,2.4498281,5.2216244,4.244823,6.466125,6.8820252,5.7015333,4.4778914,4.0356565,7.5641017,5.504234,3.3726857,4.601395,6.786373,6.666113,8.199042,5.570767,2.952018,4.151784,6.174609,4.710631,4.3202386,8.689659,6.3560867,6.0248227,5.161349,6.461546,4.4275,7.1639442,6.917027,4.9264946,4.1772456,5.0147257,4.262654,5.1022763,6.5812163,5.7356195,5.965201,7.270148,4.6458297,6.7022305,6.6958838,3.3571832,4.605277,7.3634152,6.1508837,6.5988855,6.7734337,6.3609595,4.676673,4.1784034,5.34929,3.2724855,4.734608,3.5920527,3.8228917,3.530403,7.661812,6.1204557,2.9113643,7.1790953,5.6794453,7.003497,6.608752,6.975128,4.067326,5.296347,7.9975324,5.3367686,6.3262434,4.9906564,4.245463,6.5408196,3.9924505,5.1255946,6.092457,5.712271,6.2902064,5.8872833,5.090648,3.6341312,4.4413123,6.7685695,6.3849807,4.33438,8.01228,8.333398,8.285847,6.8581243,5.1674213,7.336907,5.553146,8.598447,4.8475842,4.928158,6.956136,4.932265,7.495937,5.3559504,8.3327875,3.0653262,5.020654,3.4535398,6.952603,3.608038,3.1268668,6.529479,6.321547,8.20402,6.5893226,7.492272,6.1314964,4.6377153,6.8452954,6.6275334,4.4519367,6.540106,8.422816,6.786868,6.663699,3.0551338,7.115531,5.3822837,5.911624,8.251023,4.7602067,4.6958113,3.2902722,6.2363424,3.821099,3.2807183,7.0623684,7.5040526,4.085835,2.692032,5.626837,5.1761417,4.9961123,4.7680516,5.5844827,6.5929046,7.712489,2.7887256,4.010094,4.326324,7.403898,7.282896,5.251175,3.8997529,5.6370134,6.3293085,6.730307,6.2189946,5.533719,4.4139376,6.104675,6.230891,2.7803369,4.8007293,5.178312,7.2713456,2.6041908,6.291349,5.998029,6.2166924,6.848818,6.8513374,3.8008578,3.6976418,5.630102,5.7393346,6.695083,5.224627,7.032765,2.9510326,6.9522734,5.7496476,3.27244,6.2177258,9.169001,5.8884196,7.4594035,3.727635,3.0598228,4.211754,3.8364015,6.121869,6.6090455,4.6371994,5.464532,4.7955685,7.614895,5.3558273,5.4722056,6.1255245,7.314044,5.012028,6.835027,6.448793,6.630463,4.073608,4.453044,6.3382792,6.879146,4.0257764,6.054837,4.3172617,6.017511,4.769675,6.2348933,4.273964,6.7269297,6.151279,4.832001,7.7162323,6.2506204,7.7424445,8.981162,4.339816,5.17204,7.5063834,5.689516,4.6942945,5.9555306,7.398649,5.4645715,5.6808305,6.8540864,6.4633603,6.0119076,5.411655,4.099051,4.5077095,5.726452,6.9676366,2.446914,5.5410166,7.0469465,5.8223042,5.39875,6.2431135,5.999962,3.9302747,5.713918,4.6273465,6.3983765,6.070364,5.668991,6.795695,8.937573,4.8658834,5.6599703,7.353282,4.2654634,5.606437,3.5391967,4.9595647,6.485884,6.0146203,6.552978,6.0750527,7.33563,4.910716,4.8264213,3.7724736,5.4802175,5.857279,3.7720811,4.3794155,6.8448997,4.595201,6.2170157,5.1967683,2.9300642,3.4342859,5.83132,5.758974,7.5407047,4.4084225,4.240893,7.4138317,6.318017,3.5697486,6.646768,3.9688532,5.802439,4.0717287,6.8973436,3.8936446,6.73509,3.5561557,5.805441,2.6428897,7.6616216,7.004522,7.220668,3.9749582,6.314605,5.2638326,5.218368,4.8559337,3.5481339,5.3462853,5.017223,3.9987125,5.3137336,7.04742,5.275746,3.8076868,6.4147243,5.5266232,4.6388845,7.380556,5.934457,3.9167116,6.397633,8.358607,3.4515011,7.0373116,4.2129617,7.6675735,2.6718125,6.515758,5.7400126,3.6708057,5.844991,4.882426,5.1655936,5.1008935,5.7471485,6.913384,7.248751,4.1870193,5.737715,7.19273,6.3033247,5.5702195,4.08101,4.1518264,7.372307,4.094325,7.773747,6.159289,5.263052,6.2816763,3.6856375,5.351409,5.9938636,8.798459,7.419053,2.777604,5.226731,6.1369424,6.4329033,6.735883,4.8926697,6.002212,4.3367953,6.371183,6.571245,5.360262,7.121335,6.4263887,5.618289,4.6170516,3.7441988,6.892146,4.5071683,6.089803,6.311849,5.71743,3.666271,5.5038376,6.5968223,5.803821,6.0955853,5.32088,5.5966516,6.6260586,5.3798513,4.6044097,3.0518935,5.177476,4.342535,3.9188619,5.3285203,4.85124,5.168831,4.5100174,5.7018967,3.214575,5.065201,4.3907804,7.305949,6.619737,4.8633623,8.555858,3.6752973,2.810477,4.990797,5.6744814,7.371576,4.4542046,7.0068116,7.6095767,6.006292,9.053536,2.845128,7.735468,6.436822,7.721035,5.9915876,2.550017,7.108457,5.4618063,3.974142,3.958026,3.7998617,5.8181114,8.976029,4.4547787,4.7595997,6.18708,7.4038477,6.3953347,4.029153,3.735794,5.720049,5.927421,3.8966248,5.861963,5.565441,4.661683,7.1705894,4.1432304,7.13032,3.3155735,6.354888,4.724714,4.0288463,6.9725504,9.006411,3.3787217,5.9472246,5.74185,4.0341325,5.5433955,5.021815,7.548597,3.982875,6.522968,4.6798925,5.133149,6.2841983,6.095619,5.680349,3.9556267,4.6782675,3.998804,3.6974394,6.008614,3.8261843,3.6575348,4.609134,3.1192763,4.331089,3.3457646,7.2895913,4.746126,2.8416026,6.695846,6.2169175,4.8856835,5.0002065,5.2607613,7.410091,5.315712,5.193337,6.7283626,4.0370016,4.1335697,5.7526884,4.714414,6.3193555,7.100763,3.1795714,3.7279165,8.3528595,5.881908,4.2577167,5.808895,7.4104567,6.6129684,3.8511293,6.0592127,6.6185827,5.1826797,7.22069,6.479861,9.326987,6.0433087,4.591229,5.989139,7.1907287,5.3041058,6.32098,7.5010324,2.6581347,4.7922664,5.4105506,7.6622543,4.353413,7.0827055,5.180116,2.9000354,6.093218,6.970045,2.335976,8.421421,6.5851746,4.0190015,5.3111672,5.0128336,4.0073886,3.695705,4.7933955,5.5624833,3.9634392,7.235516,4.254848,8.455099,5.37669,4.311291,3.7837753,3.6176422,4.345603,7.0960727,6.32444,6.0388365,5.6902356,6.0674486,2.7529595,4.473003,5.741963,5.300078,5.167032,6.666303,4.7437654,5.024336,6.62974,7.034882,4.128688,5.9804654,3.1633215,8.924119,5.243695,6.7289963,4.719466,3.1402688,7.6274047,7.723155,7.273581,4.3085732,7.0392437,6.626296,5.38197,4.716662,7.617398,3.4267826,3.7513728,7.984727,3.16331,9.252732,3.1860585,4.768824,5.618008,6.1007724,4.127069,6.6007423,3.1455908,3.509594,5.8992167,5.8987675,4.427175,6.6886835,4.2880325,6.398793,6.585987,3.6548114,4.1375566,4.106045,4.7249684,8.626812,4.6024346,5.4555936,5.6868615,5.5042677,5.046378,5.627119,6.2104993,5.8804965,7.2423096,5.59325,5.262716,6.6234055,5.2315445,6.5903993,8.316941,4.87459,5.4697504,8.446759,7.2485085,7.189405,7.4379845,6.050286,5.8660035,8.230131,5.208289,6.927604,6.0499535,2.5646513,6.246723,4.1665306,3.9664066,1.9921757,7.601541,4.408981,5.73453,7.3311367,4.804016,4.4905696,6.840402,6.0639567,4.5509167,4.9440823,5.6254444,6.707238,2.7842252,4.2698326,7.230463,4.604586,7.5642595,4.093664,5.4782586,7.3570013,5.5640054,4.1252027,6.55712,5.1859474,6.6437545,4.780304,8.954668,8.113673,6.7589474,4.6900554,4.5918045,3.5869546,6.301597,5.603992,2.827558,5.3700204,4.868532,6.249303,4.5263414,3.8079953,5.826775,3.0845015,6.5888433,5.9603825,8.897993,4.36163,5.0577807,4.0944576,6.672673,3.028027,3.7262254,4.710638,6.474401,5.936647,3.2221985,7.315808,5.8171654,6.356952,7.1780987,7.179149,6.7238235,5.916404,7.0678186,5.8841796,3.845571,6.6850543,4.846681,6.856738,5.6586494,4.136173,3.0706868,5.107061,4.779881,5.327744,6.471529,5.089536,3.1721652,6.3892674,5.472504,5.157319,5.8527074,4.5784607,6.809174,4.6314287,6.7370777,5.2176995,4.628682,3.7185967,3.4509645,6.881059,5.710273,6.4441853,7.4764132,4.8187,7.4446793,4.0346,7.141471,4.5242033,5.704803,6.6436872,3.0749722,1.8643378,7.6509147,6.863818,7.085019,4.6855145,3.3020108,5.7856092,6.673936,6.871896,2.8386452,4.9263816,6.962112,6.372037,3.250306,4.4057517,6.6201186,7.747922,7.3615813,4.5128856,5.0393934,7.748061,4.336131,4.910132,8.140729,6.261254,8.0750065,3.3810992,6.6084332,5.755017,5.496032,6.7755075,3.7910392,5.128436,7.442866,8.952677,2.6164834,5.330459,5.9852943,5.7287054,7.377926,7.489495,5.438808,5.7922254,4.522694,5.4549074,2.9907248,6.706672,6.8347383,6.455818,1.8835775,8.163728,7.629911,5.3569746,7.1386395,3.6861618,8.745249,3.38039,5.6906276,4.725009,5.6888742,8.803008,7.3393106,5.2673507,2.5931888,6.6534076,6.331206,3.808691,3.3942544,4.143969,6.050012,4.2866626,6.94327,5.4840245,3.2074542,6.750877,5.9331155,3.3476841,7.891152,6.4853873,4.2079225,4.4800653,6.3991585,8.985673,4.688262,6.4868393,6.601242,5.117704,8.534443,8.637623,4.97706,8.635111,6.077741,6.655425,5.3016524,6.6024175,6.091671,6.3724537,7.3785534,5.197146,5.6381383,5.55628,6.0206656,5.881544,5.4506836,3.7872508,5.5615263,5.0670567,5.95529,4.225069,5.558306,6.5706716,8.753296,5.314415,4.58789,8.670829,9.350402,6.2683845,3.5990372,6.895653,6.596653,6.098012,3.8453796,3.5236685,5.1464634,6.154747,3.4082274,5.70734,5.526341,6.513302,7.060943,6.632649,4.824381,7.40804,4.074949,7.995011,6.4923887,6.188465,7.531347,6.7219534,4.118358,3.690051,6.855657,6.4884276,3.2129302,5.81302,5.704472,6.0896697,4.7470765,4.1083636,5.0763464,4.1424465,8.566818,8.958971,7.0537906,4.7557034,2.1913607,6.2259793,6.2276406,4.847364,6.1757717,8.259274,5.9605055,3.9890993,5.7864714,6.0059047,6.8151264,4.8615384,8.411616,7.5420747,6.731398,6.735351,4.22619,3.6271563,4.2609973,5.0989366,4.0320034,6.2018957,4.136558,3.3369257,7.623509,5.7729354,5.862022,7.226581,6.8660407,2.989135,4.10391,7.6306987,8.62818,2.129419,4.7233777,8.488334,5.768358,6.608781,4.827805,6.69719,4.956186,7.1192336,8.075993,8.376851,4.8655457,6.948857,6.7878165,7.301426,5.0049133,5.8556237,4.856396,7.2868648,4.871411,7.620732,3.5258524,2.9824204,4.063775,5.5455637,8.332432,4.0754285,4.687721,6.6616125,6.8360662,8.781958,4.778184,6.322436,3.3913684,5.549359,3.687653,4.426742,7.886168,4.950276,5.792475,5.344157,8.414856,5.8986936,5.571092,3.9701743,5.163109,3.6888628,6.742341,4.684084,3.8797925,5.140686,4.2815,7.766754,3.800884,7.3415613,3.3306239,3.9001586,6.541746,7.2565837,4.562688,5.0656238,4.5758805,3.8910487,7.4288316,6.52637,7.596002,6.3934393,7.427122,7.0766006,5.37041,5.5976796,6.8425746,4.925254,7.106994,6.651159,4.7232676,3.112368,2.847928,6.106695,3.8751407,3.054478,4.0897436,4.370902,4.5441203,6.4557667,6.539022,4.600839,7.799787,4.633512,6.469551,2.9889395,4.0924735,5.9341545,2.9626083,3.4120526,6.5222,2.5975266,5.3372436,6.071486,2.897288,6.976314,8.452358,4.453239,6.1265244,5.5378256,5.7518883,5.2952323,5.5042396,5.207987,4.0415773,2.5789564,6.928202,6.9551277,3.012589,6.572618,4.5049076,5.617931,6.5887694,3.3255508,4.6764336,3.7118,7.302408,1.9949987,6.007766,7.547298,4.5293927,5.430753,4.600632,7.9917283,3.894491,7.147958,5.048697,6.2958775,6.873812,7.5595827,4.1070337,3.4757059,6.955475,5.0558653,5.5486813,5.7098484,3.279033,3.9323158,6.997768,6.206148,6.5282207,3.0365386,4.1642146,7.0176706,5.1737723,7.930956,6.6347613,4.6173396,4.646471,6.1698046,6.3206635,6.14782,6.9966297,7.4600053,4.462257,3.8004663,4.693751,6.090079,5.3262677,4.7129817,4.2147326,5.9752154,5.9129534,5.275899,6.576803,5.0085316,3.088591,2.8528256,4.0459857,5.084502,6.2935476,6.215646,6.5592003,5.3028965,5.8508067,5.413612,4.7044826,4.276753,7.1835475,6.5119987,7.9507003,5.1483073,6.483886,5.274737,3.5039864,7.349125,5.5249357,4.4908195,3.2064462,6.4123826,4.9337277,8.471782,3.135838,5.1404214,5.0928283,8.555439,4.440455,8.760373,5.0503592,5.723115,6.0451283,6.7826266,4.4357886,4.1066847,3.7045412,7.2128,5.583344,3.637606,4.187566,4.469931,6.00049,4.1639338,4.303949,4.414156,5.0986614,4.736011,5.3899655,5.0508814,4.1143517,6.1122723,4.31138,6.489013,6.5714397,6.373993,2.065564,7.1129475,3.8744805,6.3263884,5.1084595,5.5017447,4.2862473,6.1264396,5.6928325,6.5118275,6.0311184,6.621707,6.441889,3.7635303,3.7528632,5.6679773,3.0544438,6.266367,4.514026,7.0143056,6.643176,3.3794608,8.294319,5.822464,2.9989734,6.006418,4.5810127,7.0360413,6.721117,4.6963177,8.649305,3.3002331,7.5677543,8.196383,7.058571,6.7745323,5.595999,4.8076153,7.231668,8.118567,6.172245,6.391151,3.0100317,5.77133,5.653393,4.6807885,4.4720955,5.263235,5.3201814,6.990419,6.07258,6.403437,7.1274414,4.209539,8.873336,4.590714,4.6433096,2.7776928,6.091045,4.127687,4.5794573,4.949601,4.503915,4.4556212,7.2579846,4.180147,7.597783,6.254597,5.978252,3.4811568,6.9949684,5.502886,5.6335487,5.224799,7.046951,5.535346,5.6817865,5.6832995,8.597925,6.385868,6.5142145,4.48881,3.02722,6.1902747,4.7573915,7.6795897,5.728437,4.9989595,5.7552733,6.266151,4.6676197,2.2081017,6.9585953,4.7650266,3.580188,5.4503984,6.3230543,6.2076664,6.3503923,5.543403,4.9252386,7.8494787,7.505545,5.531045,6.422941,8.661646,5.0462413,6.022522,4.3867617,5.954669,6.3021436,3.1225052,8.461425,5.556449,4.686127,5.6333017,7.6995816,4.2676806,5.0929127,6.222105,6.616567,7.223338,5.952003,5.622801,4.5642548,7.566897,6.641462,8.986414,6.8373604,6.0080814,7.076564,5.775826,7.7534204,6.968432,6.190017,7.378822,4.896627,6.1888456,8.71275,2.790448,4.223205,4.5464187,5.9726663,4.9114013,5.6508975,4.1575947,4.5743213,5.5252204,7.4739323,2.5719135,4.615861,6.764911,6.5028462,5.635736,5.2741733,7.4754434,4.1858335,5.421791,5.174557,7.1560183,4.975598,6.262661,5.2725387,8.182038,3.9436972,6.9996424,1.8844848,6.1120853,6.1684494,8.366723,5.915945,6.5272145,6.6595182,4.80661,6.3734426,9.197994,5.3208976,3.91178,5.682748,2.5267966,6.243838,6.6915402,5.9058876,4.25165,6.270095,3.9541516,8.166435,6.744565,6.2772455,4.715968,5.1844172,5.257087,6.7660933,3.7297542,5.553953,4.3135824,6.03838,6.3039217,5.9260077,6.6913586,5.738063,4.2475953,6.083742,3.6232288,6.793982,6.576026,8.6414795,6.803977,7.015174,4.1645555,7.412578,7.051396,2.69921,7.345127,6.472921,6.4439135,4.7727847,6.0306034,6.3233356,2.4887557,4.509552,7.6783175,7.254613,4.660998,5.881709,3.3083255,4.846828,2.7880862,4.7749257,6.4276786,8.416052,4.4286222,4.3434167,6.752507,3.658766,5.4997134,6.9931564,6.7426505,6.8100867,2.594734,6.437469,7.4582086,6.080766,5.108154,6.000574,5.2057495,6.1626215,4.2796884,7.415044,3.575714,5.2775774,5.9101415,5.065624,7.07043,3.849566,3.552358,6.2137184,4.168979,6.3351326,4.5193415,7.2390394,5.1570168,4.1711946,5.3864365,4.811806,4.97504,8.226887,5.269253,4.3594723,3.188327,6.356074,6.621165,4.169852,4.6863265,6.028873,7.136276,6.1676536,5.5641193,3.844783,6.218658,4.6565957,5.4735017,6.610982,6.7557473,2.3858187,2.430339,7.450624,4.351384,5.932649,7.008415,6.520507,4.9521446,4.45065,4.016112,3.0563874,8.622347,7.3401914,6.617053,4.925314,5.428878,3.1021023,5.1025496,7.2773876,8.678943,6.594055,5.6117086,7.1662,4.851352,5.5997925,5.024461,4.9922028,4.323897,6.1731963,6.505306,4.7263904,3.278343,7.5481877,5.546934,5.8586807,6.2151074,6.2471166,4.074788,8.56269,4.922433,5.6834774,4.3862643,7.0485535,6.7435064,7.713594,2.5444884,4.1962476,3.4693592,4.759346,4.7701316,7.400905,4.100486,6.1485095,7.03695,5.542812,7.1067185,2.5668597,6.5182223,4.0226903,7.675361,5.9955854,5.8373632,5.386272,4.6056466,5.93693,6.2165236,4.9671407,5.149535,6.2275715,7.0168614,3.8040102,6.289101,7.096623,7.526306,7.2317796,4.518374,8.359282,8.026344,4.1002607,6.7673697,5.404605,5.438079,3.757726,3.9822912,8.284583,4.703573,5.8215036,5.3434505,3.6075115,4.100827,6.690616,3.8759763,6.5282426,3.7477555,3.036328,4.4805517,4.4510307,5.7293305,3.0627978,6.363497,2.4399128,6.701446,6.2556043,5.30934,3.7356193,4.055717,4.0755363,7.1695414,6.79625,3.6387827,4.7966824,4.175521,5.721943,7.4144893,5.5629296,6.1692715,4.9365835,8.139507,4.7889676,1.8860291,8.614608,5.6538563,5.7001815,5.993081,6.4602413,4.818132,4.918346,6.24554,5.5229697,6.2294846,8.2562895,4.0795345,4.957948,6.3363824,4.130645,3.5608737,5.3037324,5.20863,5.339237,7.293934,3.5158699,4.9792595,2.9836707,4.282434,5.799631,5.0104933,8.173087,4.051477,6.243037,6.6517506,7.288434,5.948049,5.335712,3.9032955,6.3428698,5.561915,7.0168853,5.274524,7.393845,4.904767,5.8476396,7.8121924,5.866874,4.988628,5.323106,7.3663225,4.6857805,6.2648563,3.5588582,3.8403344,4.9487705,2.720998,6.754814,7.4556246,4.0451555,5.124447,6.2001395,6.386312,4.908166,4.461339,5.2709436,5.2412367,4.122582,4.4385085,5.7178993,3.4013102,6.0978413,5.8300858,5.7410197,6.338637,4.2997494,4.7559667,8.142814,3.8766727,6.167301,5.977651,6.4192977,5.457683,4.4252477,5.174383,3.5144734,7.333388,6.092085,4.0388503,6.9792767,5.184585,4.194932,3.7133129,6.679397,6.5371614,5.631252,4.754102,4.4870787,4.904016,4.8351054,6.2439756,5.1973977,4.723027,3.0132165,7.2133613,5.1766295,6.9168444,8.724218,4.678194,5.4313183,4.559827,8.980882,4.801354,7.331429,7.7221537,5.325225,6.633977,5.5711923,3.5525389,4.677518,7.080693,4.870577,4.3041744,4.9462423,7.307799,4.5650187,5.984782,4.37975,7.5732055,3.0267644,6.9013677,5.4445624,6.371604,5.8543825,3.1387644,8.633343,7.303002,6.8955235,4.1844153,6.281172,8.204126,6.6237273,5.6043477,7.124431,6.253311,8.371007,4.203793,4.8090878,2.754602,5.246659,4.370877,5.864284,3.8024209,6.3983936,7.176746,6.3163605,4.104573,7.2667527,6.2846537,4.9062257,5.6282244,4.120346,4.378939,8.40423,5.962009,2.9428568,6.2630315,6.9055243,9.308884,7.671819,5.539135,4.368843,8.655554,7.049529,4.1690307,4.1445327,4.2702336,5.639064,6.6012115,5.0169797,6.088099,5.6655264,6.7935386,6.8974004,6.4830437,6.6746097,6.705051,7.1430774,3.02407,6.771563,4.4256973,9.079304,2.739918,4.0048485,3.6526377,4.228761,6.334301,4.9954724,6.3777485,6.6282396,6.9409065,7.907926,6.3793254,7.333583,6.8282967,4.927097,3.8751457,2.917045,5.7366185,2.565274,2.749593,4.952057,3.5633562,6.024858,4.5043817,6.579663,8.434873,6.041102,5.486609,4.7925067,6.070341,2.5958014,5.1092744,4.199111,6.85933,3.6551707,4.0651207,3.8891907,7.3936872,6.5512524,4.058706,5.8714075,7.167303,6.748769,7.7105865,2.6419377,4.568542,6.2963977,3.1484213,7.0053363,5.2709675,8.922052,4.2647176,5.4034214,6.558061,5.280294,7.1224504,4.814096,7.200874,5.9216523,6.1774507,3.8250394,4.4171724,7.455409,4.120669,2.6971536,6.6148076,6.699449,6.258643,5.102867,7.453023,4.3474097,5.035429,8.925392,3.6501763,6.645354,4.9452286,6.6188703,6.1540565,5.3753867,8.026482,8.89727,3.7835982,6.699548,8.149886,3.6006377,6.2465415,4.4089866,4.876012,5.978681,6.2314644,7.161046,5.789016,6.158801,5.815816,7.2068458,6.768395,7.8372717,6.20348,4.5593534,7.597519,4.459814,3.6843219,6.7561574,6.2385535,8.883381,7.0913286,6.6544905,5.8733115,6.0721006,4.066484,6.8586907,8.287424,4.452477,6.6438427,4.723565,4.29826,4.691689,3.887902,6.1636667,6.6228547,8.380399,5.8106704,4.79548,5.0966983,7.4277143,3.8661628,4.409042,6.379806,8.287272,4.2134333,7.305207,4.248139,3.2876534,4.3853083,7.524941,4.516306,3.237927,7.1081963,7.933434,8.021979,6.3140006,3.0358992,2.952778,5.942102,8.449731,4.602807,3.6086009,6.742231,4.2991724,5.0203333,5.6218214,5.0090675,6.692118,4.215659,6.23769,8.6474495,5.563812,3.0697145,6.919427,8.017734,6.4997497,6.5716667,6.2742567,4.677537,2.8089108,6.761933,5.993507,4.1635456,5.430556,6.1885004,5.159768,7.4635887,4.815209,4.4917297,6.8989444,8.350745,5.2101164,6.5037785,6.2370877,4.343138,5.879772,3.74284,6.158084,7.490749,5.05617,4.0022326,4.6341133,6.930413,5.5936074,4.46513,4.61438,8.970791,5.767338,7.4965453,3.3353808,4.9158115,5.2337356,4.4957323,4.5019884,3.7182221,6.5854692,6.2010202,5.3065534,8.222197,5.027347,4.185902,4.72495,4.000525,5.3074512,3.2825923,4.040176,7.9098406,6.7564516,6.835278,7.6275425,5.9973855,3.767605,6.8564153,4.284016,3.4016323,6.4146757,7.0396442,4.8000355,5.7876263,6.1978803,8.39157,6.765574,6.5445,5.534331,7.290551,6.246353,6.1516304,3.701875,6.9074593,5.86617,7.168073,4.578405,2.1801383,3.570247,4.565385,4.5034475,4.2793107,4.4370937,5.129105,4.9005566,7.0446544,3.6212752,5.784577,2.6726553,6.958271,6.2722836,3.9694886,4.7306957,8.295128,7.2186594,4.2478046,6.075802,3.4610775,6.3661222,4.2543263,5.0096807,4.7513604,5.7396903,5.219202,7.3996253,3.2725196,4.1234107,8.912863,6.834898,4.463789,4.2816806,6.5161247,6.8586936,3.5607085,7.1441035,6.3626704,5.55508,6.5470643,3.718549,5.5302935,6.727364,5.2050014,6.9112134,6.413963,6.830841,7.842934,5.379289,3.8834627,6.049014,6.083986,8.227272,4.4604015,6.429435,5.8045936,5.439923,5.030481,4.2418647,3.2454545,5.111161,4.5344553,7.6983986,5.5244474,6.4801693,5.696679,3.7839832,4.098876,5.795792,8.830381,5.506088,3.5535672,5.47187,8.466657,7.354412,4.3255725,5.3732114,4.3435864,3.520101,4.782195,5.9393234,5.0282245,5.7766647,7.478044,6.4475,6.480265,5.2375712,6.307289,6.897336,5.8248606,7.020458,5.5246434,5.832017,4.3650756,6.7017803,5.71223,8.25163,5.2887306,6.904143,4.268656,6.499063,5.46995,7.226312,5.9012275,3.5957816,4.715711,4.18026,3.593457,3.0502963,4.6551285,4.7205977,5.5040154,5.186506,4.2922435,5.7902713,3.7079773,6.6464014,2.41622,7.0566287,1.8464246,8.197858,6.6848183,4.8161592,4.2017436,6.5075626,5.899423,4.1957254,4.503006,3.8545964,6.9268184,5.22331,7.2767286,4.603896,4.8785543,3.376158,7.984938,5.512014,2.7288594,3.6716516,4.706004,6.180672,5.32478,6.3721414,4.3422365,7.319205,6.3324323,6.2837405,5.8252378,6.3122435,5.612906,6.0538254,6.600272,5.3531895,6.2751317,6.602552,7.2841434,6.840787,8.150256,6.1672106,4.590853,5.946416,7.536162,6.20307,2.8102486,3.8719792,4.3987136,4.9990673,4.916163,7.822003,4.1056914,6.6899986,6.6309285,5.7289968,4.255471,7.3174677,4.620341,6.369242,4.087649,3.1516824,6.3106766,6.7954392,4.689816,5.6852484,6.2571464,7.153397,8.168889,5.396817,6.5482736,4.1275,6.806252,6.1171384,4.091604,7.3396735,5.013751,4.0079556,4.706013,6.691745,6.4357367,3.967319,4.787561,7.024089,7.264938,3.3830447,9.243267,4.4335155,2.7427773,4.715067,5.647086,2.796902,4.2066855,5.651303,3.276747,7.1994176,5.8689246,5.0919104,2.8253782,7.2975426,3.6390827,6.729186,9.303972,6.2533627,4.339098,3.5721138,5.4701586,4.3113847,5.0118017,3.638446,7.9000664,5.075299,4.009181,8.673163,3.6873717,5.888549,6.6086864,4.8414693,6.2848043,8.70354,5.0413547,6.767598,5.4183016,4.961672,8.569939,6.6818256,3.7113695,4.426623,5.2686663,7.374027,5.785516,5.3130198,4.0520864,7.2002954,7.4746666,4.042725,6.422065,6.1992726,3.5957134,5.801215,8.4292145,4.234167,5.7407684,3.9957213,4.43034,5.6572895,3.94097,3.7504783,7.065442,8.312773,6.819147,4.7520537,6.5344267,6.2038035,6.2423053,4.045733,7.9582925,4.272335,5.290981,6.031906,6.4740376,4.0625606,3.406971,7.230785,4.7963076,6.5664854,2.939102,3.7064457,8.791653,8.705789,5.848367,4.3378367,4.0845075,7.1856956,3.8212059,3.4984233,3.0676115,6.622356,4.911886,5.192673,4.511204,5.34635,7.7591524,7.601567,4.1816497,7.0304365,4.032088,7.6976385,6.125966,4.978749,7.75656,3.6583579,7.634618,2.2974098,3.7874322,6.388816,7.7110972,4.2820277,6.5219355,4.113835,4.388816,3.07624,4.230504,6.5683928,3.6447258,6.1306286,5.892257,5.2977133,3.2844045,1.8463869,4.8726916,5.482215,8.2392845,7.271181,6.2918253,5.101603,6.248185,3.1358058,7.5627365,4.727185,5.0133004,5.3178306,3.1094165,8.441846,8.478519,5.2129045,6.2148323,6.77746,4.320572,6.295262,6.4397473,6.709107,5.359229,7.2248197,8.83607,4.575645,4.185855,4.375298,3.9988372,7.0257854,3.6201785,7.1115017,7.2743535,5.9706244,6.209454,6.6024127,6.8863554,4.500485,6.1583443,8.401815,7.616746,4.7370987,8.408402,8.946629,7.3346615,5.3674326,7.765122,7.0614448,5.4804363,5.755163,5.039716,5.5385046,3.7245867,6.725165,4.0573177,2.5168166,7.744468,4.619831,4.203288,4.587685,5.5335155,5.542437,8.143006,6.673552,5.6904855,6.059546,5.011684,7.101255,3.678169,4.89297,4.083273,4.734048,3.8665576,6.4343953,5.932963,7.260876,8.341748,5.216098,4.761672,5.2930593,6.0513396,4.0146317,7.5815334,6.389674,5.382245,5.506112,6.676728,7.5480514,6.11058,8.819608,4.5079937,3.9462945,4.9525185,5.824784,3.5251355,7.01267,6.928344,5.8955636,6.464262,6.8334155,5.388037,3.9068305,7.135317,6.285742,5.553794,5.8187366,5.270514,3.5060143,6.772504,4.447444,5.3438673,5.8527417,6.7468834,4.772563,4.9138436,7.800038,5.610948,6.238271,6.324694,6.107353,5.784178,7.16305,4.694304,8.913302,5.4161716,5.970971,6.694793,5.153482,5.976001,4.9368553,3.1307907,5.9596105,5.798763,4.107956,4.1169915,4.3364778,6.7323484,5.6565742,3.0315459,8.6621,4.759544,6.7608852,6.613991,7.998928,5.016624,4.4006295,4.247572,7.523647,5.4736867,5.4460754,4.4017024,4.3171782,9.005695,6.25994,4.5807047,4.728035,6.1967,3.3496897,5.6038475,3.8980584,5.2949014,6.73603,6.79685,6.903268,6.7369375,4.6570725,3.4957082,4.3794503,6.009024,7.712668,8.420084,5.398595,2.6924746,4.563083,3.9006243,7.1659408,3.562134,5.386344,2.9615705,7.3731465,2.8857589,6.3911805,7.7684917,7.4577055,4.2298446,3.7656095,5.2421575,6.3403683,8.340358,6.2624235,2.591945,5.948445,6.357461,4.018199,5.8009424,6.930078,5.7880936,4.4568114,4.5408483,7.113732,5.7383237,3.822828,6.3559117,8.655624,4.1841936,3.7706335,5.171103,6.4163957,4.600536,6.809575,6.6624646,6.217305,6.502172,7.3666553,6.6919794,4.145021,5.8474975,6.177771,5.867168,4.376502,8.406814,6.5209494,5.0504346,3.7189867,4.682936,5.421767,6.602367,6.5620003,4.995815,2.4792516,4.6492,5.376943,5.3655086,5.055242,5.5424747,5.7699776,4.5282774,6.578578,4.7017684,7.8779426,7.232042,5.094477,5.721746,5.8029876,7.147354,5.6040826,5.0435686,7.096919,6.7011337,7.1560354,7.1246095,4.6293135,5.767169,6.3511677,4.648151,3.0502255,5.348571,6.771414,5.3774576,6.832919,3.9481022,5.865327,4.918144,6.3637557,6.1345344],\"yaxis\":\"y\",\"type\":\"scattergl\"},{\"hovertemplate\":\"Ctype=Mature_B\\u003cbr\\u003eUMAP-1=%{x}\\u003cbr\\u003eUMAP-2=%{y}\\u003cextra\\u003e\\u003c\\u002fextra\\u003e\",\"legendgroup\":\"Mature_B\",\"marker\":{\"color\":\"#E15F99\",\"symbol\":\"circle\",\"opacity\":0.5,\"size\":10},\"mode\":\"markers\",\"name\":\"Mature_B\",\"showlegend\":true,\"x\":[12.66595,8.378812,7.71721,11.802609,15.428438,7.882414,10.608795,14.927388,6.4797935,7.8872185,8.053879,13.551159,8.017005,15.298301,7.7702127,8.041739,7.731399,13.426977,6.5251718,7.8642836,8.365574,8.34061,11.911945,10.613293,9.355121,9.588002,14.697971,14.388746,14.771875,11.869263,11.853938,8.446106,12.765768,14.901858,9.832781,15.406864,6.7909927,14.990872,12.579115,15.362508,9.655186,14.946609,8.701028,7.9143147,10.281333,8.61393,7.6278887,7.7301993,13.926368,8.314864,7.7218575,6.945879,9.630931,8.5624275,8.45268,8.7116165,7.852691,6.4776273,10.806442,7.694805,8.446343,7.769822,7.669775,8.361216,8.74712,9.871431,6.4075737,15.065223,10.650144,8.678858,15.454259,8.989252,7.832014,14.123338,7.7188954,12.651536,10.420594,8.609971,8.427125,7.696853,8.730137,7.719817,8.380873,8.42084,12.809582,8.088757,7.782429,14.012931,14.721581,10.527169,8.590627,8.007145,14.023194,7.723104,12.571077,12.1992235,6.725453,8.472093],\"xaxis\":\"x\",\"y\":[4.9566627,6.6028366,7.6059604,2.6250048,4.598316,6.6887617,4.880642,5.851053,6.511672,7.586216,5.7672625,4.783789,7.5932713,4.020786,7.6799183,6.8949428,6.351197,5.702459,5.4177985,6.522781,6.624789,6.795456,6.7324266,6.5122237,7.289622,7.189165,4.336317,4.804065,4.838544,6.9404655,9.082323,7.1938825,4.7920103,4.829094,6.299116,6.20891,8.280066,4.8477373,5.557645,5.7078667,6.337534,4.758267,6.6441603,6.717241,4.3166885,6.527525,6.981016,7.732948,6.864554,6.6844397,7.61713,8.042083,7.24464,6.977747,6.062358,6.748723,7.7500634,6.823028,7.9281464,6.361608,5.8997583,6.234184,7.677018,6.6750793,7.604586,6.2313957,5.404958,5.234624,4.777131,7.427254,6.7584577,6.353659,7.13506,5.358884,6.310787,3.731838,4.956464,7.216694,6.082422,7.797876,7.6837296,6.305522,5.829512,5.878617,3.337846,6.835057,7.5555935,4.722974,5.96413,4.9280763,6.0265827,6.8347955,5.490962,6.278843,3.3812711,4.09962,8.258683,5.8153377],\"yaxis\":\"y\",\"type\":\"scattergl\"},{\"hovertemplate\":\"Ctype=Monocytes\\u003cbr\\u003eUMAP-1=%{x}\\u003cbr\\u003eUMAP-2=%{y}\\u003cextra\\u003e\\u003c\\u002fextra\\u003e\",\"legendgroup\":\"Monocytes\",\"marker\":{\"color\":\"#1CA71C\",\"symbol\":\"circle\",\"opacity\":0.5,\"size\":10},\"mode\":\"markers\",\"name\":\"Monocytes\",\"showlegend\":true,\"x\":[12.113619,10.323161,11.910469,10.242747,10.534828,10.657172,10.398188,12.135833,9.119343,15.450091,9.748046,10.473339,14.08887,13.247974,10.975722,10.607483,10.224417,11.921126,10.300513,11.18948,9.189582,10.102712,10.638588,10.272107,10.372437,10.957787,10.345469,10.39051,15.185233,10.274528,10.748932,10.630646,11.320423,10.222081,10.183544,7.69242,10.220904,10.194344,10.339198,11.240284,9.059035,10.033325,10.294394,10.361111,9.002966,8.766253,10.215589,10.382003,10.588931,10.856894,10.237341,11.912875,13.316574,10.495641,10.420308,8.537277,10.117756,11.467458,10.335281,10.628294,8.11385,15.193149,12.192641,10.618556,9.180858,10.465428,9.813982,10.112835,10.281095,8.881952,10.342608,10.428718,10.579872,8.953649,8.977549,11.200373,12.094685,10.4334,10.249835,6.8188834,9.53051,9.146737,10.310354,9.379989,11.307963,13.991726,6.783548,13.4795,10.241721,9.181705,12.046263,10.329512,11.554249,11.892489,7.6473703,11.949942,11.729368,10.047704,10.14432,9.052251,11.070322,10.46019,10.414486,6.7040195,10.286937,10.214398,10.2898245,9.678917,9.10177,11.277667,10.122696,10.275129,7.012691,10.2327175,11.8644495,10.450686,7.690171,7.6150465,10.132821,9.47957,10.378172,10.244365,11.310437,15.569585,9.472817,11.465394,10.196162,10.832786,10.237019,10.271632,10.89054,10.3011675,11.8379,14.934042,11.123119,6.910024,10.179948,10.282283,11.173666,14.730315,9.130848,10.644092,10.365916,10.224879,10.536817,10.208134,10.427985,11.253958,9.487095,9.4768505,10.761932,7.9716682,10.587587,10.313159,10.78143,11.098452,7.6774254,10.8903,11.846867,9.086119,9.021143,10.538572,10.679419,10.430605,10.266298,10.196069,10.142412,10.143802,12.474259,10.436807,10.159131,10.207677,10.546172,7.0206423,8.698004,11.227394,10.160444,10.410524,10.192244,9.273035,10.414682,11.043819,10.158536,10.693407,10.289468,10.330273,9.072373,10.340707,9.110325,13.900383,10.240508,14.797886,12.582507,9.456639,10.213462,14.316609,12.642217,10.1773205,10.256131,9.544512,10.296323,10.326909,10.2391615,10.655624,10.431614,10.215061,10.408632,11.209494,10.264737,11.232767,10.613321,11.429947,10.2746935,10.285296,9.428866,10.666091,12.539043,10.673249,10.458337,9.425007,10.240071,10.205164,9.26152,10.758593,9.515498,11.475716,7.841117,10.187077,10.515598,10.243319,9.128484,11.17641,9.02285,10.314705,11.052624,10.220451,9.11032,9.003777,10.607671,6.108902,9.382447,10.453676,11.156691,10.792897],\"xaxis\":\"x\",\"y\":[6.609946,9.317095,8.936172,9.317693,8.9591675,4.69556,9.280403,6.462755,8.266847,6.4401665,8.545705,8.194203,5.287063,4.8262734,9.244607,9.137069,9.318707,6.879562,8.320095,8.980312,8.334096,8.750654,9.110585,9.247327,9.384342,8.057408,9.15591,9.296673,6.641435,9.231043,9.1554,9.292477,6.7188644,9.144399,9.094118,7.8459544,8.423921,9.158438,9.254231,5.3882623,7.724272,8.788208,9.100469,9.369545,8.093708,7.714743,8.719296,9.238191,9.043522,7.4456077,9.310919,6.7943196,5.4493074,9.336994,9.149963,6.463682,8.885504,3.6090007,9.389101,9.298942,7.4359694,6.465585,6.7311606,9.027298,8.337651,9.138006,6.3496804,8.812971,8.819729,7.9353843,9.157769,8.997065,9.030619,8.069989,8.014034,9.071261,4.2980266,8.24617,8.673188,8.290784,8.412906,8.295534,4.336976,8.445551,9.070214,7.6127887,8.344934,7.668826,9.2032795,7.504189,6.8611846,9.3511715,9.324378,7.0284,7.849638,2.1519873,9.140262,8.230455,8.260488,8.176491,3.9219084,5.6071887,8.99638,8.214308,9.230775,9.349797,9.215037,8.615142,8.085531,7.9702964,8.332305,9.213193,8.213478,9.021955,6.937745,8.157583,7.8468924,7.8117495,8.327381,7.316667,8.830121,9.3139925,8.375242,3.5802665,8.526291,8.363944,9.074478,7.950377,9.31966,8.878849,8.220045,9.260185,7.031754,7.18594,8.800808,8.153984,9.056044,9.316318,9.084725,6.462903,8.0467615,9.147988,8.941606,8.9619875,9.114256,9.019844,9.151953,8.949003,8.435464,8.459598,4.5322514,7.893883,9.260544,9.238719,9.138019,9.013299,7.8465643,9.208524,8.680559,8.200831,8.083072,9.22305,9.120454,9.3190365,9.049569,8.519503,8.903791,8.63761,7.48967,9.258957,9.192833,9.051843,9.150375,8.32793,7.8301797,9.057539,7.8169217,9.327289,8.489062,7.786955,9.124378,9.281265,8.963078,9.2740965,9.40225,9.138316,8.1891985,8.829258,8.192173,7.6865835,9.191023,6.767528,7.1382685,8.513602,9.006571,7.4455285,4.3967104,9.218819,9.2426605,7.489526,9.287341,9.319914,9.268311,8.133902,8.582172,8.7941265,8.488977,8.858535,9.277153,8.312285,9.243862,9.335091,9.199027,9.22274,8.462954,8.992658,7.4887924,9.180274,8.570238,8.5139885,9.310811,9.360572,8.401303,8.599531,8.381923,9.3728075,7.69834,8.504237,9.004661,9.304539,8.284934,8.8340845,8.104855,9.361916,8.755402,9.146462,8.268179,8.154384,9.017292,7.088867,8.478391,9.19283,7.8519278,9.17304],\"yaxis\":\"y\",\"type\":\"scattergl\"},{\"hovertemplate\":\"Ctype=Progenitors\\u003cbr\\u003eUMAP-1=%{x}\\u003cbr\\u003eUMAP-2=%{y}\\u003cextra\\u003e\\u003c\\u002fextra\\u003e\",\"legendgroup\":\"Progenitors\",\"marker\":{\"color\":\"#FB0D0D\",\"symbol\":\"circle\",\"opacity\":0.5,\"size\":10},\"mode\":\"markers\",\"name\":\"Progenitors\",\"showlegend\":true,\"x\":[10.629227,10.691869,10.602955,10.974747,10.439191,14.940193,11.834335,10.622911,10.509135,10.936666,11.217415,11.152556,10.50446,10.962438,12.117821,9.130592,15.1601925,11.178499,10.584387,10.591799,10.783804,11.8024645,10.918692,11.040861,11.063665,12.938154,10.788035,13.328598,9.768686,10.720858,10.533453,10.682008,10.579788,11.190042,11.513505,10.503974,10.920587,11.548566,10.541803,11.254981,10.469512,10.913908,10.543376,10.663599,11.0705185,10.811319,10.666221,10.559758,10.739971,6.4249935,10.747269,11.136312,10.489867,10.370799,10.939581,11.845431,10.520679,10.82662,8.070416,10.79906,10.501417,11.067427,11.838678,10.617373,11.417345,11.247191,10.484625,10.453475,9.447497,10.622882,10.45583,10.625097,10.509601,10.585767,10.527183,10.751071,11.005305,10.819651,12.149832,10.656695,10.585252,10.638674,10.532667,10.430073,15.461017,10.356157,11.207291,10.585327,11.491265,10.554806,10.61723,10.564043,10.847108,11.015322,10.742042,10.797252,11.228796,13.847651,10.963735,11.465554,10.135345,10.610509,11.076307,10.677995,10.53853,8.762217,15.240593,10.981923,10.638753,10.636534,11.175154,10.635982,10.416485,10.90415,10.587328,10.324913,14.369141,10.695374,11.107442,10.597935,10.968796,12.790517,11.3794,10.753873,10.525598,10.633871,10.618327,11.689956,10.487508,12.519726,10.670356,11.045728,11.408137,11.151741,11.602289,10.931654,10.902784,14.986743,11.730366,11.153503,10.59651,12.010002,10.714264,10.753658,10.649801,10.773476,11.055431,10.509337,11.855551,15.564053,10.496389,10.900504,10.241309,10.996356,10.943611,10.350678],\"xaxis\":\"x\",\"y\":[8.070932,8.127835,8.168631,7.5942564,8.107632,7.3075504,8.525392,8.131966,8.117803,8.167462,8.744969,8.550509,8.049882,8.214302,5.058421,5.044827,6.6175957,8.341027,8.052443,8.179427,7.014778,8.75157,8.077706,8.251077,7.7098475,5.7895093,8.130099,7.797843,6.383407,7.9139686,8.0187025,8.154814,8.085213,8.859404,8.797373,8.150941,7.4446015,3.1138213,7.9630075,8.451902,8.10643,8.006416,8.154323,7.9860034,8.394718,7.603185,8.054843,8.11202,7.820169,5.468693,8.213626,7.7570486,8.121391,8.2157,7.986816,3.6602356,8.069445,7.748122,7.543592,8.144349,8.117368,7.6243677,6.1110954,7.911909,8.240166,8.809158,8.091871,8.095263,6.4107637,7.930662,8.139059,7.868257,8.162021,8.155893,8.144591,8.1947,7.37292,8.143985,4.076264,8.104024,7.8141756,8.040123,8.126901,8.294671,4.582852,7.9743357,8.387831,8.079488,8.69422,8.145666,8.029801,8.085889,8.0086155,8.27011,8.083387,7.759168,8.395493,7.7116833,7.447385,8.317648,8.433042,8.150272,8.397263,7.9336,7.877054,7.7617216,7.2755165,8.226485,7.826551,8.0496,7.929382,8.01217,8.184804,7.7662506,8.022688,8.149245,7.188376,8.239942,8.154426,8.127658,8.150916,6.2681165,7.8200407,8.022225,8.176993,7.874281,8.167332,8.852107,8.158828,6.7814455,7.94993,8.379168,8.344879,7.962259,7.4330425,8.252212,7.615423,6.2764697,8.853547,8.458372,8.059691,4.187845,7.9722266,7.197117,8.131549,8.141775,7.625169,8.188452,3.536688,5.7250786,8.166248,8.203823,8.487498,8.171549,8.154959,7.921439],\"yaxis\":\"y\",\"type\":\"scattergl\"},{\"hovertemplate\":\"Ctype=T\\u002fNK\\u003cbr\\u003eUMAP-1=%{x}\\u003cbr\\u003eUMAP-2=%{y}\\u003cextra\\u003e\\u003c\\u002fextra\\u003e\",\"legendgroup\":\"T\\u002fNK\",\"marker\":{\"color\":\"#DA16FF\",\"symbol\":\"circle\",\"opacity\":0.5,\"size\":10},\"mode\":\"markers\",\"name\":\"T\\u002fNK\",\"showlegend\":true,\"x\":[8.365826,7.7662377,15.299198,7.1232386,6.9156275,8.038456,5.977927,6.15282,7.7549453,6.742192,7.5306764,8.553916,8.448026,7.6720996,8.778951,7.3476253,8.510386,7.6983714,9.461024,8.23639,7.2237206,7.647493,8.751624,7.7111278,7.6170015,7.816357,6.7637954,6.7335997,9.434515,7.488134,8.76288,9.417207,8.560632,8.179252,8.668894,8.468176,8.419458,8.295469,7.252528,14.330922,6.8155756,14.205662,11.43015,11.395818,7.2533383,7.2003384,9.531527,7.740425,7.70443,8.634407,7.922994,8.256529,6.7962456,7.7924347,6.764309,6.920895,6.739,7.834507,8.219988,7.5285,7.527606,8.49952,8.045717,8.336825,9.390025,7.7604485,6.6986237,6.52724,6.7262983,10.306527,6.119692,6.8129506,6.183773,7.2313128,8.036527,7.9039803,6.211333,11.394809,7.7006793,8.183332,7.9129252,7.521249,10.329165,6.8718033,6.9088306,6.16933,7.660864,6.6739283,9.342759,6.832589,6.668359,6.1722417,10.522514,7.566925,6.646716,8.527622,15.309582,13.959795,8.7067375,14.913395,8.607825,7.0986404,6.130643,8.634381,7.4522266,6.8272986,6.151774,7.638975,8.077359,12.164704,8.276815,8.524555,7.152422,7.068311,8.865446,9.395802,8.710232,7.132977,6.144783,7.1896367,8.6457205,7.6265373,8.619954,8.417681,8.322097,7.159671,7.639755,7.5697756,6.766882,8.777661,13.101294,6.567301,8.409648,7.5285516,8.566409,9.545636,6.1722803,8.367936,6.861332,8.781608,7.043185,6.6890473,11.809149,8.505,11.735761,8.021646,6.7068777,10.127826,11.957749,7.6424546,6.5987883,13.292229,7.2428856,8.319984,9.375498,7.1859813,6.217216,7.2404184,7.5472245,7.6147423,8.191546,11.18801,7.49599,8.276234,6.349038,7.9162817,6.792655,6.1885233,8.23331,6.658007,8.486755,6.163665,7.8428693,7.629736,14.168157,7.5187745,9.411325,11.190536,12.391658,6.758523,8.555515,8.556002,7.759341,11.821009,9.497876,8.777504,8.818215,6.2785172,9.42835,6.851941,7.831899,6.8581924,8.426223,9.484858,13.725593,11.803739,6.1922746,11.61358,6.8477244,6.3351097,14.178127,12.99255,8.635556,7.7552214,8.667163,8.364259,7.3961263,6.3194065,8.460292,9.221065,10.273221,9.408148,7.5058246,7.617889,8.62502,8.7755375,10.670691,8.308932,12.372978,9.330169,8.760359,8.287284,14.982846,8.509969,7.708843,7.4896684,7.238866,8.791696,8.834227,7.1276946,10.64647,6.7393036,7.8449316,8.207106,9.256509,8.2642355,6.0847154,6.7334294,7.57195,8.643551,15.397452,8.2878,9.435332,7.2037816,10.472521,8.731248,14.188146,15.635015,8.579129,8.749802,8.124513,6.8786297,6.740115,6.14774,7.805154,9.463454,8.299292,8.849084,7.135338,7.3562765,9.4009495,14.480386,13.6865,11.824054,6.541597,8.356342,13.587477,8.778292,7.458845,7.399683,9.56959,9.05772,15.543489,7.3019247,6.1335883,8.524361,9.092245,9.088773,6.8595786,9.631794,8.657908,15.90847,14.338525,7.6160593,6.2996497,8.444994,7.9899883,7.6532497,13.664821,11.350405,6.8412123,6.1966987,9.922173,6.115698,7.1711693,7.218683,10.279693,11.9566965,6.9189677,7.2589893,7.612403,6.7315454,14.841515,8.259557,7.6658616,6.683229,6.1796436,7.711706,6.836108,7.9140663,10.292407,8.6556425,6.231291,6.628145,7.632305,11.537416,7.917589,6.858169,7.205984,8.61226,8.679743,7.5805597,9.411824,6.174544,8.569139,7.786919,7.660505,8.02785,6.394031,7.4815774,14.13854,6.8624187,8.774397,6.673002,7.68292,11.392247,7.8653054,7.9715443,6.161842,7.947515,8.373618,7.9172916,6.1357436,8.133262,13.0040045,7.322438,15.504183,8.350756,8.32173,8.388755,14.638175,6.220001,8.798638,14.413913,7.874175,8.719621,8.304939,9.603599,7.070319,7.593334,8.021848,14.278814,8.175992,13.008917,6.7263966,7.264263,8.70821,6.772369,8.606845,7.6313133,6.666381,14.497988,6.780076,7.1777716,7.6540327,8.378857,6.5773764,6.916153,6.982205,7.8742986,8.276794,8.009504,8.186311,8.379904,6.7249875,7.810992,15.558642,8.201143,10.29889,7.2307334,7.520309,12.964676,14.570827,11.949511,15.501629,7.760925,6.823953,7.215002,8.17508,12.202607,9.2836685,8.685983,14.916473,8.81953,6.827816,8.520854,8.706031,7.9713073,7.6298504,6.8241673,7.77388,7.471679,7.056118,9.258383,14.498788,8.235274,7.712806,8.098183,8.779797,7.6361685,6.2863255,14.167163,7.3388963,7.1368723,9.063841,8.25353,7.322234,8.3700905,8.730093,8.188206,8.3342085,8.226147,7.673551,6.7238407,12.413319,11.35303,6.2122264,6.7077374,7.625579,8.426016,7.7933187,7.7074437,8.774703,8.256367,7.0086575,8.60409,11.854134,7.0813236,6.798738,7.628491,7.2560344,6.3742166,7.910109,7.780888,8.355022,7.8101196,7.965284,8.252595,7.548825,15.431515,8.484212,7.0910935,7.642942,6.857574,9.41636,7.1841927,8.246568,6.7038255,7.147024,10.311311,7.49343,6.683236,15.312859,6.663158,7.481077,7.803886,7.6083517,8.666874,8.604032,9.187867,7.206548,8.386315,9.199224,7.178148,6.638168,15.483527,8.199184,8.507724,11.132104,8.18324,7.804347,8.372108,6.1761084,8.283286,8.763602,8.404536,7.739582,7.8804893,8.602257,11.489059,11.946731,8.6319475,10.849228,6.42668,8.832802,13.941751,7.469751,7.5893865,8.057877,8.040858,7.7676296,14.800264,7.036798,7.8426585,7.656244,8.216905,7.1825614,8.746447,7.943827,7.6699953,14.846786,7.1812778,7.255605,8.685132,7.79959,7.908026,8.32225,8.257708,9.246135,7.6355815,7.8688254,6.1338882,9.125225,6.675025,6.676196,7.7417746,7.4538574,7.0811253,15.492688,7.6695294,7.5903106,6.816423,8.186636,6.8529453,8.801047,7.003864],\"xaxis\":\"x\",\"y\":[7.1341343,6.3376617,4.638484,7.765764,6.6650524,6.1272964,5.574388,6.844614,7.361463,8.1507225,7.5603,7.309356,7.0779257,7.621013,6.955906,7.4812474,6.3877306,7.2914586,7.007705,5.934605,6.975745,6.315038,7.7635336,6.6760106,7.6079564,7.2343926,7.6481395,8.190862,6.06692,7.287732,7.8063197,7.84956,7.4589624,6.026513,7.773295,7.2445827,6.227448,5.874895,7.627098,3.2451243,8.054242,7.5472355,9.318578,5.84828,6.2796373,6.169846,7.3099885,6.360235,6.61441,3.9753423,7.4792495,6.6099567,6.8658066,6.6228585,5.9995103,6.67858,6.6727924,7.482902,7.0148644,7.2761073,6.9448504,6.6606493,7.0893207,5.905887,6.4787436,7.49448,6.6765895,6.906851,6.79385,4.3380985,5.576435,6.9281297,5.529634,6.913002,6.6912484,6.300382,6.7480307,3.577599,6.6826215,6.9907875,6.1644278,7.6602745,6.4140415,6.6911607,6.4886036,5.586135,6.6463356,7.673314,6.418205,7.1404195,8.204425,6.848328,8.140525,7.0079775,6.668803,7.239858,3.8551927,2.9147239,6.7636433,6.6420774,7.199385,6.2057247,5.570285,6.1738997,6.883671,7.7311344,5.6110053,7.6484895,6.782192,6.239084,5.972587,7.3755474,6.868341,7.927925,4.564109,6.3106284,7.713264,6.308075,5.5648,7.0223393,3.975582,7.6887293,7.11615,6.264005,6.337254,7.8803678,7.9428988,7.211032,7.7850003,7.777074,3.7233503,6.6574855,7.276167,7.0327454,6.300483,6.402212,5.6011014,6.9149404,7.2431087,6.3705926,6.703258,8.233259,2.1348581,6.6025777,6.150637,7.317807,6.6618137,8.376192,6.82636,7.935442,6.5600653,7.747273,7.006641,6.2305136,6.151825,7.871079,5.5549345,6.8992834,7.11421,7.514455,6.9029403,3.5155594,7.122813,5.934189,6.878496,6.8451204,8.042197,6.7328506,6.738699,8.2554,6.6608424,6.7855225,7.2394247,7.7927127,7.1563888,6.9171324,3.9610372,3.534938,2.9603093,7.7057905,7.2230034,6.3966775,6.4554133,4.49915,7.19148,6.495546,6.887893,5.7083774,6.210456,6.8394017,7.571049,8.073228,5.8682723,6.4156656,3.15934,6.444475,6.723762,3.716228,8.012624,6.8598833,2.7194946,4.5326724,6.2297716,6.383242,6.7050295,7.1128874,6.30059,5.637916,6.254855,6.8500056,4.3351994,7.3500075,7.363268,7.570358,6.2298126,5.79601,7.610109,6.5057464,2.0829465,6.4101253,6.790423,5.864651,7.3433394,7.355268,6.342467,7.32116,6.811437,6.9329166,7.9057674,6.7265058,6.985911,5.9904804,6.5177493,6.7569566,6.3310385,6.9765277,5.523743,6.876618,7.3993998,6.974443,5.919879,5.8258953,7.138759,6.935083,9.43801,6.608413,2.7070608,5.251348,6.5382833,6.916995,6.825694,7.7076735,7.884601,6.6974506,7.271756,6.5311475,5.946272,7.3079023,7.8960247,7.1096807,6.0644565,4.737184,8.260719,5.991147,6.4353037,6.6084986,5.7797685,6.390457,7.093468,7.1598754,6.404344,7.4562025,6.4647164,6.805123,6.90002,6.5806794,7.47232,6.270271,6.7728095,7.4705534,6.7821383,5.5787907,3.2733803,7.927492,5.502574,6.6380477,6.995878,7.665729,8.252268,3.241154,8.060338,6.758169,6.363042,5.5615478,7.9034133,6.1434045,5.5521936,1.9540288,8.074943,6.990351,6.2206125,8.13395,7.4807463,6.8795347,6.960217,7.730063,6.8397946,7.229055,8.022999,6.842242,4.3295145,6.8645887,6.8182764,6.5300155,6.6303396,3.0809631,6.2544136,8.003535,7.103673,3.9673824,7.7651963,7.227394,6.4012566,5.559511,6.6103787,7.50297,7.726057,7.071792,6.859965,7.3533735,2.763761,8.082461,7.7176175,8.173112,7.3598247,3.5843368,6.0364647,7.756075,6.906653,6.1845756,6.9351063,7.210883,6.760282,7.084653,4.0486803,7.68162,4.639815,6.5578566,7.034178,6.5504174,6.6610646,6.751412,6.939887,5.53488,7.5320606,6.820917,6.2271376,6.2674127,6.105173,7.6240926,6.0623183,4.8372474,6.7635627,6.5126576,6.717249,6.8173103,3.985204,7.853098,3.9544148,7.923587,6.6737304,6.0709286,8.134369,7.8651414,7.943713,7.1313033,6.695294,7.991893,6.2361565,6.7243204,6.920941,6.4203873,6.7673597,5.94378,6.8053,7.303096,3.5929716,6.0034447,6.779646,7.0760474,7.071071,3.0203779,6.522491,2.036564,4.634958,7.3249764,8.044509,6.7219834,6.802139,7.0147023,6.4991064,6.947288,7.62732,6.993565,7.7498555,7.2777886,7.7461386,6.2033815,7.8782253,7.8834124,7.303751,6.829924,6.162746,6.3827014,4.8175097,6.9151464,7.498268,7.0949326,6.6024685,7.015076,5.6406436,2.7322779,7.288447,7.0196033,6.055685,7.01613,6.3234324,5.9036174,7.7546577,6.887097,6.222653,6.2890263,6.32904,7.8362045,2.1567485,3.3102622,6.833281,7.7981906,7.9715595,6.398913,6.382027,7.8509593,7.764083,5.998259,6.869635,6.2186084,6.917519,6.9017367,7.2068424,7.9802084,7.2217407,6.9167395,6.9969287,7.4893446,5.8688574,7.3610177,6.5010943,7.0237064,6.8631144,5.0795574,7.408536,7.0272965,6.3502665,7.6686163,5.912528,6.204321,6.0119305,7.733226,6.747654,4.3559794,7.0970902,6.6421356,4.858821,7.5092134,7.1394725,7.632506,7.0166645,4.0818005,4.215463,3.8765624,6.794424,6.0932784,6.588718,6.6720657,6.660506,4.615039,6.729702,7.170053,3.8045604,5.9525104,6.6844482,5.9015613,6.8507714,6.1133204,6.941055,7.1277905,6.2474585,7.5995398,3.974654,9.36069,1.8529773,6.493684,6.9148517,6.7445474,6.903452,6.8349757,6.9660335,6.931817,6.906078,6.0757694,6.258362,6.418824,6.211644,6.22729,6.3533874,6.937522,7.864101,6.8215594,6.1451035,6.8777194,7.20012,6.1567283,6.315575,3.9905388,7.3703985,7.6224685,7.1373725,5.8783135,6.397821,7.8535,6.600404,5.581594,6.254396,8.24826,8.193953,6.410527,7.299489,6.195303,4.6253295,7.112961,6.4312654,8.040622,5.9645553,6.59352,4.039658,6.6868453],\"yaxis\":\"y\",\"type\":\"scattergl\"},{\"hovertemplate\":\"Ctype=pDC\\u003cbr\\u003eUMAP-1=%{x}\\u003cbr\\u003eUMAP-2=%{y}\\u003cextra\\u003e\\u003c\\u002fextra\\u003e\",\"legendgroup\":\"pDC\",\"marker\":{\"color\":\"#222A2A\",\"symbol\":\"circle\",\"opacity\":0.5,\"size\":10},\"mode\":\"markers\",\"name\":\"pDC\",\"showlegend\":true,\"x\":[11.217384],\"xaxis\":\"x\",\"y\":[9.185635],\"yaxis\":\"y\",\"type\":\"scattergl\"}],                        {\"template\":{\"data\":{\"barpolar\":[{\"marker\":{\"line\":{\"color\":\"white\",\"width\":0.5},\"pattern\":{\"fillmode\":\"overlay\",\"size\":10,\"solidity\":0.2}},\"type\":\"barpolar\"}],\"bar\":[{\"error_x\":{\"color\":\"rgb(36,36,36)\"},\"error_y\":{\"color\":\"rgb(36,36,36)\"},\"marker\":{\"line\":{\"color\":\"white\",\"width\":0.5},\"pattern\":{\"fillmode\":\"overlay\",\"size\":10,\"solidity\":0.2}},\"type\":\"bar\"}],\"carpet\":[{\"aaxis\":{\"endlinecolor\":\"rgb(36,36,36)\",\"gridcolor\":\"white\",\"linecolor\":\"white\",\"minorgridcolor\":\"white\",\"startlinecolor\":\"rgb(36,36,36)\"},\"baxis\":{\"endlinecolor\":\"rgb(36,36,36)\",\"gridcolor\":\"white\",\"linecolor\":\"white\",\"minorgridcolor\":\"white\",\"startlinecolor\":\"rgb(36,36,36)\"},\"type\":\"carpet\"}],\"choropleth\":[{\"colorbar\":{\"outlinewidth\":1,\"tickcolor\":\"rgb(36,36,36)\",\"ticks\":\"outside\"},\"type\":\"choropleth\"}],\"contourcarpet\":[{\"colorbar\":{\"outlinewidth\":1,\"tickcolor\":\"rgb(36,36,36)\",\"ticks\":\"outside\"},\"type\":\"contourcarpet\"}],\"contour\":[{\"colorbar\":{\"outlinewidth\":1,\"tickcolor\":\"rgb(36,36,36)\",\"ticks\":\"outside\"},\"colorscale\":[[0.0,\"#440154\"],[0.1111111111111111,\"#482878\"],[0.2222222222222222,\"#3e4989\"],[0.3333333333333333,\"#31688e\"],[0.4444444444444444,\"#26828e\"],[0.5555555555555556,\"#1f9e89\"],[0.6666666666666666,\"#35b779\"],[0.7777777777777778,\"#6ece58\"],[0.8888888888888888,\"#b5de2b\"],[1.0,\"#fde725\"]],\"type\":\"contour\"}],\"heatmapgl\":[{\"colorbar\":{\"outlinewidth\":1,\"tickcolor\":\"rgb(36,36,36)\",\"ticks\":\"outside\"},\"colorscale\":[[0.0,\"#440154\"],[0.1111111111111111,\"#482878\"],[0.2222222222222222,\"#3e4989\"],[0.3333333333333333,\"#31688e\"],[0.4444444444444444,\"#26828e\"],[0.5555555555555556,\"#1f9e89\"],[0.6666666666666666,\"#35b779\"],[0.7777777777777778,\"#6ece58\"],[0.8888888888888888,\"#b5de2b\"],[1.0,\"#fde725\"]],\"type\":\"heatmapgl\"}],\"heatmap\":[{\"colorbar\":{\"outlinewidth\":1,\"tickcolor\":\"rgb(36,36,36)\",\"ticks\":\"outside\"},\"colorscale\":[[0.0,\"#440154\"],[0.1111111111111111,\"#482878\"],[0.2222222222222222,\"#3e4989\"],[0.3333333333333333,\"#31688e\"],[0.4444444444444444,\"#26828e\"],[0.5555555555555556,\"#1f9e89\"],[0.6666666666666666,\"#35b779\"],[0.7777777777777778,\"#6ece58\"],[0.8888888888888888,\"#b5de2b\"],[1.0,\"#fde725\"]],\"type\":\"heatmap\"}],\"histogram2dcontour\":[{\"colorbar\":{\"outlinewidth\":1,\"tickcolor\":\"rgb(36,36,36)\",\"ticks\":\"outside\"},\"colorscale\":[[0.0,\"#440154\"],[0.1111111111111111,\"#482878\"],[0.2222222222222222,\"#3e4989\"],[0.3333333333333333,\"#31688e\"],[0.4444444444444444,\"#26828e\"],[0.5555555555555556,\"#1f9e89\"],[0.6666666666666666,\"#35b779\"],[0.7777777777777778,\"#6ece58\"],[0.8888888888888888,\"#b5de2b\"],[1.0,\"#fde725\"]],\"type\":\"histogram2dcontour\"}],\"histogram2d\":[{\"colorbar\":{\"outlinewidth\":1,\"tickcolor\":\"rgb(36,36,36)\",\"ticks\":\"outside\"},\"colorscale\":[[0.0,\"#440154\"],[0.1111111111111111,\"#482878\"],[0.2222222222222222,\"#3e4989\"],[0.3333333333333333,\"#31688e\"],[0.4444444444444444,\"#26828e\"],[0.5555555555555556,\"#1f9e89\"],[0.6666666666666666,\"#35b779\"],[0.7777777777777778,\"#6ece58\"],[0.8888888888888888,\"#b5de2b\"],[1.0,\"#fde725\"]],\"type\":\"histogram2d\"}],\"histogram\":[{\"marker\":{\"line\":{\"color\":\"white\",\"width\":0.6}},\"type\":\"histogram\"}],\"mesh3d\":[{\"colorbar\":{\"outlinewidth\":1,\"tickcolor\":\"rgb(36,36,36)\",\"ticks\":\"outside\"},\"type\":\"mesh3d\"}],\"parcoords\":[{\"line\":{\"colorbar\":{\"outlinewidth\":1,\"tickcolor\":\"rgb(36,36,36)\",\"ticks\":\"outside\"}},\"type\":\"parcoords\"}],\"pie\":[{\"automargin\":true,\"type\":\"pie\"}],\"scatter3d\":[{\"line\":{\"colorbar\":{\"outlinewidth\":1,\"tickcolor\":\"rgb(36,36,36)\",\"ticks\":\"outside\"}},\"marker\":{\"colorbar\":{\"outlinewidth\":1,\"tickcolor\":\"rgb(36,36,36)\",\"ticks\":\"outside\"}},\"type\":\"scatter3d\"}],\"scattercarpet\":[{\"marker\":{\"colorbar\":{\"outlinewidth\":1,\"tickcolor\":\"rgb(36,36,36)\",\"ticks\":\"outside\"}},\"type\":\"scattercarpet\"}],\"scattergeo\":[{\"marker\":{\"colorbar\":{\"outlinewidth\":1,\"tickcolor\":\"rgb(36,36,36)\",\"ticks\":\"outside\"}},\"type\":\"scattergeo\"}],\"scattergl\":[{\"marker\":{\"colorbar\":{\"outlinewidth\":1,\"tickcolor\":\"rgb(36,36,36)\",\"ticks\":\"outside\"}},\"type\":\"scattergl\"}],\"scattermapbox\":[{\"marker\":{\"colorbar\":{\"outlinewidth\":1,\"tickcolor\":\"rgb(36,36,36)\",\"ticks\":\"outside\"}},\"type\":\"scattermapbox\"}],\"scatterpolargl\":[{\"marker\":{\"colorbar\":{\"outlinewidth\":1,\"tickcolor\":\"rgb(36,36,36)\",\"ticks\":\"outside\"}},\"type\":\"scatterpolargl\"}],\"scatterpolar\":[{\"marker\":{\"colorbar\":{\"outlinewidth\":1,\"tickcolor\":\"rgb(36,36,36)\",\"ticks\":\"outside\"}},\"type\":\"scatterpolar\"}],\"scatter\":[{\"fillpattern\":{\"fillmode\":\"overlay\",\"size\":10,\"solidity\":0.2},\"type\":\"scatter\"}],\"scatterternary\":[{\"marker\":{\"colorbar\":{\"outlinewidth\":1,\"tickcolor\":\"rgb(36,36,36)\",\"ticks\":\"outside\"}},\"type\":\"scatterternary\"}],\"surface\":[{\"colorbar\":{\"outlinewidth\":1,\"tickcolor\":\"rgb(36,36,36)\",\"ticks\":\"outside\"},\"colorscale\":[[0.0,\"#440154\"],[0.1111111111111111,\"#482878\"],[0.2222222222222222,\"#3e4989\"],[0.3333333333333333,\"#31688e\"],[0.4444444444444444,\"#26828e\"],[0.5555555555555556,\"#1f9e89\"],[0.6666666666666666,\"#35b779\"],[0.7777777777777778,\"#6ece58\"],[0.8888888888888888,\"#b5de2b\"],[1.0,\"#fde725\"]],\"type\":\"surface\"}],\"table\":[{\"cells\":{\"fill\":{\"color\":\"rgb(237,237,237)\"},\"line\":{\"color\":\"white\"}},\"header\":{\"fill\":{\"color\":\"rgb(217,217,217)\"},\"line\":{\"color\":\"white\"}},\"type\":\"table\"}]},\"layout\":{\"annotationdefaults\":{\"arrowhead\":0,\"arrowwidth\":1},\"autotypenumbers\":\"strict\",\"coloraxis\":{\"colorbar\":{\"outlinewidth\":1,\"tickcolor\":\"rgb(36,36,36)\",\"ticks\":\"outside\"}},\"colorscale\":{\"diverging\":[[0.0,\"rgb(103,0,31)\"],[0.1,\"rgb(178,24,43)\"],[0.2,\"rgb(214,96,77)\"],[0.3,\"rgb(244,165,130)\"],[0.4,\"rgb(253,219,199)\"],[0.5,\"rgb(247,247,247)\"],[0.6,\"rgb(209,229,240)\"],[0.7,\"rgb(146,197,222)\"],[0.8,\"rgb(67,147,195)\"],[0.9,\"rgb(33,102,172)\"],[1.0,\"rgb(5,48,97)\"]],\"sequential\":[[0.0,\"#440154\"],[0.1111111111111111,\"#482878\"],[0.2222222222222222,\"#3e4989\"],[0.3333333333333333,\"#31688e\"],[0.4444444444444444,\"#26828e\"],[0.5555555555555556,\"#1f9e89\"],[0.6666666666666666,\"#35b779\"],[0.7777777777777778,\"#6ece58\"],[0.8888888888888888,\"#b5de2b\"],[1.0,\"#fde725\"]],\"sequentialminus\":[[0.0,\"#440154\"],[0.1111111111111111,\"#482878\"],[0.2222222222222222,\"#3e4989\"],[0.3333333333333333,\"#31688e\"],[0.4444444444444444,\"#26828e\"],[0.5555555555555556,\"#1f9e89\"],[0.6666666666666666,\"#35b779\"],[0.7777777777777778,\"#6ece58\"],[0.8888888888888888,\"#b5de2b\"],[1.0,\"#fde725\"]]},\"colorway\":[\"#1F77B4\",\"#FF7F0E\",\"#2CA02C\",\"#D62728\",\"#9467BD\",\"#8C564B\",\"#E377C2\",\"#7F7F7F\",\"#BCBD22\",\"#17BECF\"],\"font\":{\"color\":\"rgb(36,36,36)\"},\"geo\":{\"bgcolor\":\"white\",\"lakecolor\":\"white\",\"landcolor\":\"white\",\"showlakes\":true,\"showland\":true,\"subunitcolor\":\"white\"},\"hoverlabel\":{\"align\":\"left\"},\"hovermode\":\"closest\",\"mapbox\":{\"style\":\"light\"},\"paper_bgcolor\":\"white\",\"plot_bgcolor\":\"white\",\"polar\":{\"angularaxis\":{\"gridcolor\":\"rgb(232,232,232)\",\"linecolor\":\"rgb(36,36,36)\",\"showgrid\":false,\"showline\":true,\"ticks\":\"outside\"},\"bgcolor\":\"white\",\"radialaxis\":{\"gridcolor\":\"rgb(232,232,232)\",\"linecolor\":\"rgb(36,36,36)\",\"showgrid\":false,\"showline\":true,\"ticks\":\"outside\"}},\"scene\":{\"xaxis\":{\"backgroundcolor\":\"white\",\"gridcolor\":\"rgb(232,232,232)\",\"gridwidth\":2,\"linecolor\":\"rgb(36,36,36)\",\"showbackground\":true,\"showgrid\":false,\"showline\":true,\"ticks\":\"outside\",\"zeroline\":false,\"zerolinecolor\":\"rgb(36,36,36)\"},\"yaxis\":{\"backgroundcolor\":\"white\",\"gridcolor\":\"rgb(232,232,232)\",\"gridwidth\":2,\"linecolor\":\"rgb(36,36,36)\",\"showbackground\":true,\"showgrid\":false,\"showline\":true,\"ticks\":\"outside\",\"zeroline\":false,\"zerolinecolor\":\"rgb(36,36,36)\"},\"zaxis\":{\"backgroundcolor\":\"white\",\"gridcolor\":\"rgb(232,232,232)\",\"gridwidth\":2,\"linecolor\":\"rgb(36,36,36)\",\"showbackground\":true,\"showgrid\":false,\"showline\":true,\"ticks\":\"outside\",\"zeroline\":false,\"zerolinecolor\":\"rgb(36,36,36)\"}},\"shapedefaults\":{\"fillcolor\":\"black\",\"line\":{\"width\":0},\"opacity\":0.3},\"ternary\":{\"aaxis\":{\"gridcolor\":\"rgb(232,232,232)\",\"linecolor\":\"rgb(36,36,36)\",\"showgrid\":false,\"showline\":true,\"ticks\":\"outside\"},\"baxis\":{\"gridcolor\":\"rgb(232,232,232)\",\"linecolor\":\"rgb(36,36,36)\",\"showgrid\":false,\"showline\":true,\"ticks\":\"outside\"},\"bgcolor\":\"white\",\"caxis\":{\"gridcolor\":\"rgb(232,232,232)\",\"linecolor\":\"rgb(36,36,36)\",\"showgrid\":false,\"showline\":true,\"ticks\":\"outside\"}},\"title\":{\"x\":0.05},\"xaxis\":{\"automargin\":true,\"gridcolor\":\"rgb(232,232,232)\",\"linecolor\":\"rgb(36,36,36)\",\"showgrid\":false,\"showline\":true,\"ticks\":\"outside\",\"title\":{\"standoff\":15},\"zeroline\":false,\"zerolinecolor\":\"rgb(36,36,36)\"},\"yaxis\":{\"automargin\":true,\"gridcolor\":\"rgb(232,232,232)\",\"linecolor\":\"rgb(36,36,36)\",\"showgrid\":false,\"showline\":true,\"ticks\":\"outside\",\"title\":{\"standoff\":15},\"zeroline\":false,\"zerolinecolor\":\"rgb(36,36,36)\"}}},\"xaxis\":{\"anchor\":\"y\",\"domain\":[0.0,1.0],\"title\":{\"text\":\"UMAP-1\"}},\"yaxis\":{\"anchor\":\"x\",\"domain\":[0.0,1.0],\"title\":{\"text\":\"UMAP-2\"}},\"legend\":{\"title\":{\"text\":\"Ctype\"},\"tracegroupgap\":0,\"itemsizing\":\"constant\"},\"margin\":{\"t\":60},\"width\":1200,\"height\":800},                        {\"responsive\": true}                    ).then(function(){\n",
              "                            \n",
              "var gd = document.getElementById('a9b8139e-54b4-4587-a1a7-aca103876988');\n",
              "var x = new MutationObserver(function (mutations, observer) {{\n",
              "        var display = window.getComputedStyle(gd).display;\n",
              "        if (!display || display === 'none') {{\n",
              "            console.log([gd, 'removed!']);\n",
              "            Plotly.purge(gd);\n",
              "            observer.disconnect();\n",
              "        }}\n",
              "}});\n",
              "\n",
              "// Listen for the removal of the full notebook cells\n",
              "var notebookContainer = gd.closest('#notebook-container');\n",
              "if (notebookContainer) {{\n",
              "    x.observe(notebookContainer, {childList: true});\n",
              "}}\n",
              "\n",
              "// Listen for the clearing of the current output cell\n",
              "var outputEl = gd.closest('.output');\n",
              "if (outputEl) {{\n",
              "    x.observe(outputEl, {childList: true});\n",
              "}}\n",
              "\n",
              "                        })                };                            </script>        </div>\n",
              "</body>\n",
              "</html>"
            ]
          },
          "metadata": {}
        }
      ]
    },
    {
      "cell_type": "markdown",
      "source": [
        "#8. Relevant Citations and Links\n",
        "\n",
        "[Chen C, et al., Single-cell multiomics reveals increased plasticity, resistant populations, and stem-cell–like blasts in KMT2A-rearranged leukemia](https://ashpublications.org/blood/article/139/14/2198/482898/Single-cell-multiomics-reveals-increased)\n",
        "\n",
        "[HTAN Portal](https://humantumoratlas.org/)   \n",
        "\n",
        "[Overview paper, Cell, April 2020](https://www.sciencedirect.com/science/article/pii/S0092867420303469)"
      ],
      "metadata": {
        "id": "Wq6kNgT0fs_i"
      }
    }
  ],
  "metadata": {
    "colab": {
      "provenance": []
    },
    "kernelspec": {
      "display_name": "Python 3 (ipykernel)",
      "language": "python",
      "name": "python3"
    },
    "language_info": {
      "codemirror_mode": {
        "name": "ipython",
        "version": 3
      },
      "file_extension": ".py",
      "mimetype": "text/x-python",
      "name": "python",
      "nbconvert_exporter": "python",
      "pygments_lexer": "ipython3",
      "version": "3.10.5"
    }
  },
  "nbformat": 4,
  "nbformat_minor": 0
}