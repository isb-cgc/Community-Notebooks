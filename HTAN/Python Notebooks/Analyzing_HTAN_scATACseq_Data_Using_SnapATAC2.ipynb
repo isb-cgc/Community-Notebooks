{
  "cells": [
    {
      "cell_type": "markdown",
      "metadata": {
        "id": "R7MOzfSOPBgL"
      },
      "source": [
        "#Analyzing HTAN scATACseq Data Using SnapATAC2"
      ]
    },
    {
      "cell_type": "markdown",
      "metadata": {
        "id": "pDrXgG7gOQBF"
      },
      "source": [
        "```\n",
        "Title: Analyzing HTAN scATACseq Data\n",
        "Author: Dar'ya Pozhidayeva (dpozhida@systemsbiology.org)\n",
        "Created: October 28th, 2024\n",
        "```"
      ]
    },
    {
      "cell_type": "markdown",
      "source": [
        "[![Open in Colab](https://colab.research.google.com/assets/colab-badge.svg)](https://colab.research.google.com/github/isb-cgc/Community-Notebooks/blob/master/HTAN/Python%20Notebooks/Analyzing_HTAN_scATACseq_Data_Using_SnapATAC2.ipynb)"
      ],
      "metadata": {
        "id": "xwV-2ey4Rmfm"
      }
    },
    {
      "cell_type": "markdown",
      "metadata": {
        "id": "XWw9WmKxGfHr"
      },
      "source": [
        "# 1. Introduction & Overview\n",
        "[HTAN](https://humantumoratlas.org/) is a National Cancer Institute (NCI)-funded Cancer Moonshot initiative to construct 3-dimensional atlases of the dynamic cellular, morphological, and molecular features of human cancers as they evolve from precancerous lesions to advanced disease ( [Cell April 2020](https://www.sciencedirect.com/science/article/pii/S0092867420303469) )\n",
        "\n",
        "\n",
        "### 1.1 Goal\n",
        "\n",
        "The goal of this notebook is to show users how public HTAN single cell ATACseq level 4 data can be analyzed using the SnapATAC2 python package: https://github.com/kaizhang/SnapATAC2. Specifically, we'll be showcasing the construction and analysis of a fragment file from data in BigQuery. For the analsis, we'll perform some clustering and plotting of the data. The total time for this notebook should be about 20 minutes.\n",
        "\n",
        "\n",
        "### 1.2 Inputs, Outputs, & Data\n",
        "\n",
        "The data used in this analysis comes from HTAN single cell ATAC sequencing data (Level 4). The dataset is pulled from Google BigQuery, which was derived in August 2024 from an RDS file (Synapse ID: syn51301050) submitted by the CHOP HTAN Center.\n",
        "\n"
      ]
    },
    {
      "cell_type": "markdown",
      "source": [
        "In terms of methods, the authors reported that sorted cells were subjected to nuclei isolation protocol. Nuclei were processed using 10x Genomics Chromium controller and the Single Cell ATAC Reagent Kits V1 protocol. Libraries were sequenced on a Nova-Seq 6000 with 49:8:16:49 paired-end format.\n",
        "\n",
        "The published work associated with this dataset along with more information can be found here: https://ashpublications.org/blood/article/139/14/2198/482898/Single-cell-multiomics-reveals-increased"
      ],
      "metadata": {
        "id": "XFKk_8TFtGAd"
      }
    },
    {
      "cell_type": "markdown",
      "source": [
        "# 2. Relevant Libraries for Analysis\n",
        "\n",
        "To get started, we'll need to download and call a few python libraries!"
      ],
      "metadata": {
        "id": "BPlfHOdgEUtu"
      }
    },
    {
      "cell_type": "code",
      "execution_count": null,
      "metadata": {
        "id": "H3NECZ68OlR-"
      },
      "outputs": [],
      "source": [
        "import pandas as pd\n",
        "import seaborn as sns\n",
        "import gzip"
      ]
    },
    {
      "cell_type": "markdown",
      "metadata": {
        "id": "rssn8rLmGfH0"
      },
      "source": [
        "# 3. Google Authentication\n",
        "\n",
        "Running the BigQuery cells in this notebook requires a Google Cloud Project, instructions for creating a project can be found in the [Google Documentation](https://cloud.google.com/resource-manager/docs/creating-managing-projects#console). The instance needs to be authorized to bill the project for queries. For more information on getting started in the cloud see [Quick Start Guide to ISB-CGC](https://nbviewer.org/github/isb-cgc/Community-Notebooks/blob/master/Notebooks/Quick_Start_Guide_to_ISB_CGC.ipynb) and alternative authentication methods can be found in the [Google Documentation](https://cloud.google.com/resource-manager/docs/creating-managing-projects#console)."
      ]
    },
    {
      "cell_type": "markdown",
      "source": [
        "## 3.1 Authenticating with Google Credentials\n",
        "\n",
        "#### Option 1. Running in Google Colab\n",
        "\n",
        "Before getting started, keep in mind that there are some differences in running this notebook depending on if you are using Google Colab or running locally. We've included notes such as the following to skip or run specific lines of code depending on your setup.\n",
        "\n",
        "If you are using Google Colab, run the code block below to authenticate:"
      ],
      "metadata": {
        "id": "vEZ_YJelhK9F"
      }
    },
    {
      "cell_type": "code",
      "source": [
        "from google.colab import auth\n",
        "auth.authenticate_user()"
      ],
      "metadata": {
        "id": "TzYqxkzphqGX"
      },
      "execution_count": null,
      "outputs": []
    },
    {
      "cell_type": "markdown",
      "source": [
        "#### Option 2. Running on local machine\n",
        "\n",
        "Alternatively, if you're running the notebook locally, take the following steps to authenticate.\n",
        "\n",
        "1.   Run `gcloud auth application-default login` on your local machine\n",
        "2.   Run the command below replacing `<path to key>` with the path to your credentials file"
      ],
      "metadata": {
        "id": "HBeAaba_hTHn"
      }
    },
    {
      "cell_type": "code",
      "source": [
        "#%env GOOGLE_APPLICATION_CREDENTIALS=<path to key>"
      ],
      "metadata": {
        "id": "OdKEnqORhuUv"
      },
      "execution_count": null,
      "outputs": []
    },
    {
      "cell_type": "markdown",
      "source": [
        "## 3.2 Initializing the Google BigQuery client"
      ],
      "metadata": {
        "id": "_FN2sf13h1Co"
      }
    },
    {
      "cell_type": "code",
      "execution_count": null,
      "metadata": {
        "id": "6AiGLpeFGfH3"
      },
      "outputs": [],
      "source": [
        "# Import the Google BigQuery client\n",
        "from google.cloud import bigquery\n",
        "\n",
        "# Set the google project that will be billed for this notebook's computations\n",
        "google_project = 'my-project'\n",
        "\n",
        "# Create a client to access the data within BigQuery\n",
        "client = bigquery.Client(google_project)"
      ]
    },
    {
      "cell_type": "markdown",
      "source": [
        "This notebook will also be saving and accesssing data to/from google drive. In order to do this, the drive is first mounted as follows."
      ],
      "metadata": {
        "id": "LdYBTsyMxcJo"
      }
    },
    {
      "cell_type": "code",
      "source": [
        "from google.colab import drive\n",
        "drive.mount('/content/drive')"
      ],
      "metadata": {
        "colab": {
          "base_uri": "https://localhost:8080/"
        },
        "id": "HYK_ZukLljOh",
        "outputId": "a7209e4d-928b-46ce-cda0-c829ce8a8914"
      },
      "execution_count": null,
      "outputs": [
        {
          "output_type": "stream",
          "name": "stdout",
          "text": [
            "Mounted at /content/drive\n"
          ]
        }
      ]
    },
    {
      "cell_type": "markdown",
      "source": [
        "#4. Pull Data from Google BigQuery"
      ],
      "metadata": {
        "id": "wImSfN1f8EI2"
      }
    },
    {
      "cell_type": "markdown",
      "source": [
        "Once authentication and project setup is complete, we can work with HTAN data available in BigQuery. For the following query, we'll test to see if we can access the correct ATACseq table."
      ],
      "metadata": {
        "id": "ZgOH-kVcx_Cp"
      }
    },
    {
      "cell_type": "code",
      "source": [
        "scatac_table = client.query(\"\"\"\n",
        "SELECT * FROM `htan-dcc.ISB_CGC_r6.seurat_scATAC_patient_clean` LIMIT 1\n",
        "    \"\"\").result().to_dataframe()"
      ],
      "metadata": {
        "id": "poPMXemsQ3yw"
      },
      "execution_count": null,
      "outputs": []
    },
    {
      "cell_type": "code",
      "source": [
        "scatac_table"
      ],
      "metadata": {
        "colab": {
          "base_uri": "https://localhost:8080/",
          "height": 89
        },
        "id": "Pe2SOMTZRBbd",
        "outputId": "9033d7fd-9099-481f-ee8e-8d8943e4ef8d"
      },
      "execution_count": null,
      "outputs": [
        {
          "output_type": "execute_result",
          "data": {
            "text/plain": [
              "                      iVar  iObs  X_value  chromosomal_position  \\\n",
              "0  PAYWJZ_CAGCTAACAGGGTAAC  AGRN      1.0  chr1-1019129-1021106   \n",
              "\n",
              "  tss_region_flag  sample Ctype projCtype  pseudotime  nCount_ATAC  \\\n",
              "0             Tss  PAYWJZ  T/NK    T-like    16.65553      21064.0   \n",
              "\n",
              "   nFeature_ATAC  \n",
              "0          12513  "
            ],
            "text/html": [
              "\n",
              "  <div id=\"df-1350ca9d-2970-4324-9a5c-d57cdabb5ba9\" class=\"colab-df-container\">\n",
              "    <div>\n",
              "<style scoped>\n",
              "    .dataframe tbody tr th:only-of-type {\n",
              "        vertical-align: middle;\n",
              "    }\n",
              "\n",
              "    .dataframe tbody tr th {\n",
              "        vertical-align: top;\n",
              "    }\n",
              "\n",
              "    .dataframe thead th {\n",
              "        text-align: right;\n",
              "    }\n",
              "</style>\n",
              "<table border=\"1\" class=\"dataframe\">\n",
              "  <thead>\n",
              "    <tr style=\"text-align: right;\">\n",
              "      <th></th>\n",
              "      <th>iVar</th>\n",
              "      <th>iObs</th>\n",
              "      <th>X_value</th>\n",
              "      <th>chromosomal_position</th>\n",
              "      <th>tss_region_flag</th>\n",
              "      <th>sample</th>\n",
              "      <th>Ctype</th>\n",
              "      <th>projCtype</th>\n",
              "      <th>pseudotime</th>\n",
              "      <th>nCount_ATAC</th>\n",
              "      <th>nFeature_ATAC</th>\n",
              "    </tr>\n",
              "  </thead>\n",
              "  <tbody>\n",
              "    <tr>\n",
              "      <th>0</th>\n",
              "      <td>PAYWJZ_CAGCTAACAGGGTAAC</td>\n",
              "      <td>AGRN</td>\n",
              "      <td>1.0</td>\n",
              "      <td>chr1-1019129-1021106</td>\n",
              "      <td>Tss</td>\n",
              "      <td>PAYWJZ</td>\n",
              "      <td>T/NK</td>\n",
              "      <td>T-like</td>\n",
              "      <td>16.65553</td>\n",
              "      <td>21064.0</td>\n",
              "      <td>12513</td>\n",
              "    </tr>\n",
              "  </tbody>\n",
              "</table>\n",
              "</div>\n",
              "    <div class=\"colab-df-buttons\">\n",
              "\n",
              "  <div class=\"colab-df-container\">\n",
              "    <button class=\"colab-df-convert\" onclick=\"convertToInteractive('df-1350ca9d-2970-4324-9a5c-d57cdabb5ba9')\"\n",
              "            title=\"Convert this dataframe to an interactive table.\"\n",
              "            style=\"display:none;\">\n",
              "\n",
              "  <svg xmlns=\"http://www.w3.org/2000/svg\" height=\"24px\" viewBox=\"0 -960 960 960\">\n",
              "    <path d=\"M120-120v-720h720v720H120Zm60-500h600v-160H180v160Zm220 220h160v-160H400v160Zm0 220h160v-160H400v160ZM180-400h160v-160H180v160Zm440 0h160v-160H620v160ZM180-180h160v-160H180v160Zm440 0h160v-160H620v160Z\"/>\n",
              "  </svg>\n",
              "    </button>\n",
              "\n",
              "  <style>\n",
              "    .colab-df-container {\n",
              "      display:flex;\n",
              "      gap: 12px;\n",
              "    }\n",
              "\n",
              "    .colab-df-convert {\n",
              "      background-color: #E8F0FE;\n",
              "      border: none;\n",
              "      border-radius: 50%;\n",
              "      cursor: pointer;\n",
              "      display: none;\n",
              "      fill: #1967D2;\n",
              "      height: 32px;\n",
              "      padding: 0 0 0 0;\n",
              "      width: 32px;\n",
              "    }\n",
              "\n",
              "    .colab-df-convert:hover {\n",
              "      background-color: #E2EBFA;\n",
              "      box-shadow: 0px 1px 2px rgba(60, 64, 67, 0.3), 0px 1px 3px 1px rgba(60, 64, 67, 0.15);\n",
              "      fill: #174EA6;\n",
              "    }\n",
              "\n",
              "    .colab-df-buttons div {\n",
              "      margin-bottom: 4px;\n",
              "    }\n",
              "\n",
              "    [theme=dark] .colab-df-convert {\n",
              "      background-color: #3B4455;\n",
              "      fill: #D2E3FC;\n",
              "    }\n",
              "\n",
              "    [theme=dark] .colab-df-convert:hover {\n",
              "      background-color: #434B5C;\n",
              "      box-shadow: 0px 1px 3px 1px rgba(0, 0, 0, 0.15);\n",
              "      filter: drop-shadow(0px 1px 2px rgba(0, 0, 0, 0.3));\n",
              "      fill: #FFFFFF;\n",
              "    }\n",
              "  </style>\n",
              "\n",
              "    <script>\n",
              "      const buttonEl =\n",
              "        document.querySelector('#df-1350ca9d-2970-4324-9a5c-d57cdabb5ba9 button.colab-df-convert');\n",
              "      buttonEl.style.display =\n",
              "        google.colab.kernel.accessAllowed ? 'block' : 'none';\n",
              "\n",
              "      async function convertToInteractive(key) {\n",
              "        const element = document.querySelector('#df-1350ca9d-2970-4324-9a5c-d57cdabb5ba9');\n",
              "        const dataTable =\n",
              "          await google.colab.kernel.invokeFunction('convertToInteractive',\n",
              "                                                    [key], {});\n",
              "        if (!dataTable) return;\n",
              "\n",
              "        const docLinkHtml = 'Like what you see? Visit the ' +\n",
              "          '<a target=\"_blank\" href=https://colab.research.google.com/notebooks/data_table.ipynb>data table notebook</a>'\n",
              "          + ' to learn more about interactive tables.';\n",
              "        element.innerHTML = '';\n",
              "        dataTable['output_type'] = 'display_data';\n",
              "        await google.colab.output.renderOutput(dataTable, element);\n",
              "        const docLink = document.createElement('div');\n",
              "        docLink.innerHTML = docLinkHtml;\n",
              "        element.appendChild(docLink);\n",
              "      }\n",
              "    </script>\n",
              "  </div>\n",
              "\n",
              "\n",
              "  <div id=\"id_ea28d30a-6dee-46b1-a049-464a399d0975\">\n",
              "    <style>\n",
              "      .colab-df-generate {\n",
              "        background-color: #E8F0FE;\n",
              "        border: none;\n",
              "        border-radius: 50%;\n",
              "        cursor: pointer;\n",
              "        display: none;\n",
              "        fill: #1967D2;\n",
              "        height: 32px;\n",
              "        padding: 0 0 0 0;\n",
              "        width: 32px;\n",
              "      }\n",
              "\n",
              "      .colab-df-generate:hover {\n",
              "        background-color: #E2EBFA;\n",
              "        box-shadow: 0px 1px 2px rgba(60, 64, 67, 0.3), 0px 1px 3px 1px rgba(60, 64, 67, 0.15);\n",
              "        fill: #174EA6;\n",
              "      }\n",
              "\n",
              "      [theme=dark] .colab-df-generate {\n",
              "        background-color: #3B4455;\n",
              "        fill: #D2E3FC;\n",
              "      }\n",
              "\n",
              "      [theme=dark] .colab-df-generate:hover {\n",
              "        background-color: #434B5C;\n",
              "        box-shadow: 0px 1px 3px 1px rgba(0, 0, 0, 0.15);\n",
              "        filter: drop-shadow(0px 1px 2px rgba(0, 0, 0, 0.3));\n",
              "        fill: #FFFFFF;\n",
              "      }\n",
              "    </style>\n",
              "    <button class=\"colab-df-generate\" onclick=\"generateWithVariable('scatac_table')\"\n",
              "            title=\"Generate code using this dataframe.\"\n",
              "            style=\"display:none;\">\n",
              "\n",
              "  <svg xmlns=\"http://www.w3.org/2000/svg\" height=\"24px\"viewBox=\"0 0 24 24\"\n",
              "       width=\"24px\">\n",
              "    <path d=\"M7,19H8.4L18.45,9,17,7.55,7,17.6ZM5,21V16.75L18.45,3.32a2,2,0,0,1,2.83,0l1.4,1.43a1.91,1.91,0,0,1,.58,1.4,1.91,1.91,0,0,1-.58,1.4L9.25,21ZM18.45,9,17,7.55Zm-12,3A5.31,5.31,0,0,0,4.9,8.1,5.31,5.31,0,0,0,1,6.5,5.31,5.31,0,0,0,4.9,4.9,5.31,5.31,0,0,0,6.5,1,5.31,5.31,0,0,0,8.1,4.9,5.31,5.31,0,0,0,12,6.5,5.46,5.46,0,0,0,6.5,12Z\"/>\n",
              "  </svg>\n",
              "    </button>\n",
              "    <script>\n",
              "      (() => {\n",
              "      const buttonEl =\n",
              "        document.querySelector('#id_ea28d30a-6dee-46b1-a049-464a399d0975 button.colab-df-generate');\n",
              "      buttonEl.style.display =\n",
              "        google.colab.kernel.accessAllowed ? 'block' : 'none';\n",
              "\n",
              "      buttonEl.onclick = () => {\n",
              "        google.colab.notebook.generateWithVariable('scatac_table');\n",
              "      }\n",
              "      })();\n",
              "    </script>\n",
              "  </div>\n",
              "\n",
              "    </div>\n",
              "  </div>\n"
            ],
            "application/vnd.google.colaboratory.intrinsic+json": {
              "type": "dataframe",
              "variable_name": "scatac_table",
              "summary": "{\n  \"name\": \"scatac_table\",\n  \"rows\": 1,\n  \"fields\": [\n    {\n      \"column\": \"iVar\",\n      \"properties\": {\n        \"dtype\": \"string\",\n        \"num_unique_values\": 1,\n        \"samples\": [\n          \"PAYWJZ_CAGCTAACAGGGTAAC\"\n        ],\n        \"semantic_type\": \"\",\n        \"description\": \"\"\n      }\n    },\n    {\n      \"column\": \"iObs\",\n      \"properties\": {\n        \"dtype\": \"string\",\n        \"num_unique_values\": 1,\n        \"samples\": [\n          \"AGRN\"\n        ],\n        \"semantic_type\": \"\",\n        \"description\": \"\"\n      }\n    },\n    {\n      \"column\": \"X_value\",\n      \"properties\": {\n        \"dtype\": \"number\",\n        \"std\": null,\n        \"min\": 1.0,\n        \"max\": 1.0,\n        \"num_unique_values\": 1,\n        \"samples\": [\n          1.0\n        ],\n        \"semantic_type\": \"\",\n        \"description\": \"\"\n      }\n    },\n    {\n      \"column\": \"chromosomal_position\",\n      \"properties\": {\n        \"dtype\": \"string\",\n        \"num_unique_values\": 1,\n        \"samples\": [\n          \"chr1-1019129-1021106\"\n        ],\n        \"semantic_type\": \"\",\n        \"description\": \"\"\n      }\n    },\n    {\n      \"column\": \"tss_region_flag\",\n      \"properties\": {\n        \"dtype\": \"string\",\n        \"num_unique_values\": 1,\n        \"samples\": [\n          \"Tss\"\n        ],\n        \"semantic_type\": \"\",\n        \"description\": \"\"\n      }\n    },\n    {\n      \"column\": \"sample\",\n      \"properties\": {\n        \"dtype\": \"string\",\n        \"num_unique_values\": 1,\n        \"samples\": [\n          \"PAYWJZ\"\n        ],\n        \"semantic_type\": \"\",\n        \"description\": \"\"\n      }\n    },\n    {\n      \"column\": \"Ctype\",\n      \"properties\": {\n        \"dtype\": \"string\",\n        \"num_unique_values\": 1,\n        \"samples\": [\n          \"T/NK\"\n        ],\n        \"semantic_type\": \"\",\n        \"description\": \"\"\n      }\n    },\n    {\n      \"column\": \"projCtype\",\n      \"properties\": {\n        \"dtype\": \"string\",\n        \"num_unique_values\": 1,\n        \"samples\": [\n          \"T-like\"\n        ],\n        \"semantic_type\": \"\",\n        \"description\": \"\"\n      }\n    },\n    {\n      \"column\": \"pseudotime\",\n      \"properties\": {\n        \"dtype\": \"number\",\n        \"std\": null,\n        \"min\": 16.65553,\n        \"max\": 16.65553,\n        \"num_unique_values\": 1,\n        \"samples\": [\n          16.65553\n        ],\n        \"semantic_type\": \"\",\n        \"description\": \"\"\n      }\n    },\n    {\n      \"column\": \"nCount_ATAC\",\n      \"properties\": {\n        \"dtype\": \"number\",\n        \"std\": null,\n        \"min\": 21064.0,\n        \"max\": 21064.0,\n        \"num_unique_values\": 1,\n        \"samples\": [\n          21064.0\n        ],\n        \"semantic_type\": \"\",\n        \"description\": \"\"\n      }\n    },\n    {\n      \"column\": \"nFeature_ATAC\",\n      \"properties\": {\n        \"dtype\": \"Int64\",\n        \"num_unique_values\": 1,\n        \"samples\": [\n          12513\n        ],\n        \"semantic_type\": \"\",\n        \"description\": \"\"\n      }\n    }\n  ]\n}"
            }
          },
          "metadata": {},
          "execution_count": 13
        }
      ]
    },
    {
      "cell_type": "markdown",
      "source": [
        "Above, we see that the anticipated dataset is printed as expected.\n",
        "In terms of table columns, we see that iVar reflects gene IDs, iObs shows indices to cell barcodes, X_value reflects peak counts and chromosomal_position shows the chromosomal region in bp. More information for columns is availble in the table description and schema in BigQuery."
      ],
      "metadata": {
        "id": "pYruMVoZzGKT"
      }
    },
    {
      "cell_type": "markdown",
      "source": [
        "# 5.Create a Fragment File for ATAC Seq Analysis"
      ],
      "metadata": {
        "id": "J01-mZxImPLt"
      }
    },
    {
      "cell_type": "markdown",
      "source": [
        "Now that everything is set up, we'll move on to creating a fragment file from the available data. Many ATAC seq pipelines utilize fragment files as a starting point for the analysis. Generally, the cellranger count pipeline outputs a BED-like tabular file, where each line represents a unique ATAC-seq fragment captured by the assay. Each fragment is created by two separate transposition events, which create the two ends of the observed fragment. Each unique fragment may generate multiple duplicate reads. These duplicate reads are collapsed into a single fragment record.\n",
        "\n",
        "For more information on the fragment file format, you can visit: https://support.10xgenomics.com/single-cell-atac/software/pipelines/latest/output/fragments\n",
        "\n",
        "This is the standard we'll be following in this tutorial."
      ],
      "metadata": {
        "id": "4WtTX5b6mdZ8"
      }
    },
    {
      "cell_type": "markdown",
      "source": [
        "Additionally, this dataset is large and we won't make a single fragment file from the entire set here. Instead, we'll subset to relevant genes and samples that were reported in the publication associated with the set."
      ],
      "metadata": {
        "id": "nv5kpCskTScW"
      }
    },
    {
      "cell_type": "markdown",
      "source": [
        "In the paper, the authors list the blast population as being defined by clusters of cells expressing CD19, HOXA9, MEIS1, and MEF2C (CD19+ blasts; supplemental Table 2). Here, we'll use these genes within one patient as a basis for subsetting our whole data set."
      ],
      "metadata": {
        "id": "MiK2ySjtTo0W"
      }
    },
    {
      "cell_type": "code",
      "source": [
        "# We'll use the following query to fetch the gene symbols for the array\n",
        "data_subset = client.query(\"\"\"\n",
        "SELECT * FROM `htan-dcc.ISB_CGC_r6.seurat_scATAC_patient_clean`\n",
        "WHERE (sample = 'PAYUZJ') AND (iObs = 'CD19' OR iObs = 'HOXA9' OR iObs = 'MEIS1' OR iObs = 'MEF2C')\n",
        "\"\"\").result().to_dataframe()"
      ],
      "metadata": {
        "id": "jn1k2M1fr_x9"
      },
      "execution_count": null,
      "outputs": []
    },
    {
      "cell_type": "code",
      "source": [
        "data_subset"
      ],
      "metadata": {
        "colab": {
          "base_uri": "https://localhost:8080/",
          "height": 704
        },
        "id": "Snrl5eTstb0e",
        "outputId": "9dae4f45-4066-4a2a-f09c-b2cca50aa8a2",
        "collapsed": true
      },
      "execution_count": null,
      "outputs": [
        {
          "output_type": "execute_result",
          "data": {
            "text/plain": [
              "                          iVar   iObs  X_value     chromosomal_position  \\\n",
              "0      PAYUZJ_CGAGTTAAGAAAGGGT   CD19      1.0  chr16-28936125-28936955   \n",
              "1      PAYUZJ_CTCTCAGTCTATCCTA   CD19      4.0  chr16-28930494-28932834   \n",
              "2      PAYUZJ_ATTGTGGGTTCAGAAA   CD19      2.0  chr16-28936125-28936955   \n",
              "3      PAYUZJ_CTCAGAACAGCAACAG   CD19      3.0  chr16-28936125-28936955   \n",
              "4      PAYUZJ_AACCAACCATCCTCGT   CD19      2.0  chr16-28930494-28932834   \n",
              "...                        ...    ...      ...                      ...   \n",
              "47473  PAYUZJ_TATCTGTAGTAATGTG  MEIS1      1.0   chr2-66432698-66435586   \n",
              "47474  PAYUZJ_TATCTGTAGTAATGTG  MEIS1      1.0   chr2-66437571-66438467   \n",
              "47475  PAYUZJ_TATCTGTAGTAATGTG  MEIS1      1.0   chr2-66495800-66496543   \n",
              "47476  PAYUZJ_TGGCAATCACGAACGA  MEIS1      1.0   chr2-66443704-66444872   \n",
              "47477  PAYUZJ_TGGCAATCACGAACGA  MEIS1      1.0   chr2-66445106-66446910   \n",
              "\n",
              "      tss_region_flag  sample        Ctype           projCtype  pseudotime  \\\n",
              "0                None  PAYUZJ         T/NK              T-like   133.57374   \n",
              "1                 Tss  PAYUZJ       Blasts      Pre-pro-B-like    71.26066   \n",
              "2                None  PAYUZJ  Progenitors           HSPC-like     5.60321   \n",
              "3                None  PAYUZJ  Progenitors           HSPC-like     5.60321   \n",
              "4                 Tss  PAYUZJ       Blasts      Pre-pro-B-like    70.83022   \n",
              "...               ...     ...          ...                 ...         ...   \n",
              "47473             Tss  PAYUZJ       Blasts  DC-Progenitor-like    28.28660   \n",
              "47474             Tss  PAYUZJ       Blasts  DC-Progenitor-like    28.28660   \n",
              "47475            None  PAYUZJ       Blasts  DC-Progenitor-like    28.28660   \n",
              "47476            None  PAYUZJ       Blasts  DC-Progenitor-like    28.28660   \n",
              "47477            None  PAYUZJ       Blasts  DC-Progenitor-like    28.28660   \n",
              "\n",
              "       nCount_ATAC  nFeature_ATAC  \n",
              "0          14833.0           9713  \n",
              "1          24600.0          16327  \n",
              "2          23232.0          15904  \n",
              "3          15453.0          11244  \n",
              "4          21935.0          14305  \n",
              "...            ...            ...  \n",
              "47473       8002.0           6134  \n",
              "47474       8002.0           6134  \n",
              "47475       8002.0           6134  \n",
              "47476       4667.0           3657  \n",
              "47477       4667.0           3657  \n",
              "\n",
              "[47478 rows x 11 columns]"
            ],
            "text/html": [
              "\n",
              "  <div id=\"df-d59889fc-f478-473f-bbe0-7b6e3d4c9096\" class=\"colab-df-container\">\n",
              "    <div>\n",
              "<style scoped>\n",
              "    .dataframe tbody tr th:only-of-type {\n",
              "        vertical-align: middle;\n",
              "    }\n",
              "\n",
              "    .dataframe tbody tr th {\n",
              "        vertical-align: top;\n",
              "    }\n",
              "\n",
              "    .dataframe thead th {\n",
              "        text-align: right;\n",
              "    }\n",
              "</style>\n",
              "<table border=\"1\" class=\"dataframe\">\n",
              "  <thead>\n",
              "    <tr style=\"text-align: right;\">\n",
              "      <th></th>\n",
              "      <th>iVar</th>\n",
              "      <th>iObs</th>\n",
              "      <th>X_value</th>\n",
              "      <th>chromosomal_position</th>\n",
              "      <th>tss_region_flag</th>\n",
              "      <th>sample</th>\n",
              "      <th>Ctype</th>\n",
              "      <th>projCtype</th>\n",
              "      <th>pseudotime</th>\n",
              "      <th>nCount_ATAC</th>\n",
              "      <th>nFeature_ATAC</th>\n",
              "    </tr>\n",
              "  </thead>\n",
              "  <tbody>\n",
              "    <tr>\n",
              "      <th>0</th>\n",
              "      <td>PAYUZJ_CGAGTTAAGAAAGGGT</td>\n",
              "      <td>CD19</td>\n",
              "      <td>1.0</td>\n",
              "      <td>chr16-28936125-28936955</td>\n",
              "      <td>None</td>\n",
              "      <td>PAYUZJ</td>\n",
              "      <td>T/NK</td>\n",
              "      <td>T-like</td>\n",
              "      <td>133.57374</td>\n",
              "      <td>14833.0</td>\n",
              "      <td>9713</td>\n",
              "    </tr>\n",
              "    <tr>\n",
              "      <th>1</th>\n",
              "      <td>PAYUZJ_CTCTCAGTCTATCCTA</td>\n",
              "      <td>CD19</td>\n",
              "      <td>4.0</td>\n",
              "      <td>chr16-28930494-28932834</td>\n",
              "      <td>Tss</td>\n",
              "      <td>PAYUZJ</td>\n",
              "      <td>Blasts</td>\n",
              "      <td>Pre-pro-B-like</td>\n",
              "      <td>71.26066</td>\n",
              "      <td>24600.0</td>\n",
              "      <td>16327</td>\n",
              "    </tr>\n",
              "    <tr>\n",
              "      <th>2</th>\n",
              "      <td>PAYUZJ_ATTGTGGGTTCAGAAA</td>\n",
              "      <td>CD19</td>\n",
              "      <td>2.0</td>\n",
              "      <td>chr16-28936125-28936955</td>\n",
              "      <td>None</td>\n",
              "      <td>PAYUZJ</td>\n",
              "      <td>Progenitors</td>\n",
              "      <td>HSPC-like</td>\n",
              "      <td>5.60321</td>\n",
              "      <td>23232.0</td>\n",
              "      <td>15904</td>\n",
              "    </tr>\n",
              "    <tr>\n",
              "      <th>3</th>\n",
              "      <td>PAYUZJ_CTCAGAACAGCAACAG</td>\n",
              "      <td>CD19</td>\n",
              "      <td>3.0</td>\n",
              "      <td>chr16-28936125-28936955</td>\n",
              "      <td>None</td>\n",
              "      <td>PAYUZJ</td>\n",
              "      <td>Progenitors</td>\n",
              "      <td>HSPC-like</td>\n",
              "      <td>5.60321</td>\n",
              "      <td>15453.0</td>\n",
              "      <td>11244</td>\n",
              "    </tr>\n",
              "    <tr>\n",
              "      <th>4</th>\n",
              "      <td>PAYUZJ_AACCAACCATCCTCGT</td>\n",
              "      <td>CD19</td>\n",
              "      <td>2.0</td>\n",
              "      <td>chr16-28930494-28932834</td>\n",
              "      <td>Tss</td>\n",
              "      <td>PAYUZJ</td>\n",
              "      <td>Blasts</td>\n",
              "      <td>Pre-pro-B-like</td>\n",
              "      <td>70.83022</td>\n",
              "      <td>21935.0</td>\n",
              "      <td>14305</td>\n",
              "    </tr>\n",
              "    <tr>\n",
              "      <th>...</th>\n",
              "      <td>...</td>\n",
              "      <td>...</td>\n",
              "      <td>...</td>\n",
              "      <td>...</td>\n",
              "      <td>...</td>\n",
              "      <td>...</td>\n",
              "      <td>...</td>\n",
              "      <td>...</td>\n",
              "      <td>...</td>\n",
              "      <td>...</td>\n",
              "      <td>...</td>\n",
              "    </tr>\n",
              "    <tr>\n",
              "      <th>47473</th>\n",
              "      <td>PAYUZJ_TATCTGTAGTAATGTG</td>\n",
              "      <td>MEIS1</td>\n",
              "      <td>1.0</td>\n",
              "      <td>chr2-66432698-66435586</td>\n",
              "      <td>Tss</td>\n",
              "      <td>PAYUZJ</td>\n",
              "      <td>Blasts</td>\n",
              "      <td>DC-Progenitor-like</td>\n",
              "      <td>28.28660</td>\n",
              "      <td>8002.0</td>\n",
              "      <td>6134</td>\n",
              "    </tr>\n",
              "    <tr>\n",
              "      <th>47474</th>\n",
              "      <td>PAYUZJ_TATCTGTAGTAATGTG</td>\n",
              "      <td>MEIS1</td>\n",
              "      <td>1.0</td>\n",
              "      <td>chr2-66437571-66438467</td>\n",
              "      <td>Tss</td>\n",
              "      <td>PAYUZJ</td>\n",
              "      <td>Blasts</td>\n",
              "      <td>DC-Progenitor-like</td>\n",
              "      <td>28.28660</td>\n",
              "      <td>8002.0</td>\n",
              "      <td>6134</td>\n",
              "    </tr>\n",
              "    <tr>\n",
              "      <th>47475</th>\n",
              "      <td>PAYUZJ_TATCTGTAGTAATGTG</td>\n",
              "      <td>MEIS1</td>\n",
              "      <td>1.0</td>\n",
              "      <td>chr2-66495800-66496543</td>\n",
              "      <td>None</td>\n",
              "      <td>PAYUZJ</td>\n",
              "      <td>Blasts</td>\n",
              "      <td>DC-Progenitor-like</td>\n",
              "      <td>28.28660</td>\n",
              "      <td>8002.0</td>\n",
              "      <td>6134</td>\n",
              "    </tr>\n",
              "    <tr>\n",
              "      <th>47476</th>\n",
              "      <td>PAYUZJ_TGGCAATCACGAACGA</td>\n",
              "      <td>MEIS1</td>\n",
              "      <td>1.0</td>\n",
              "      <td>chr2-66443704-66444872</td>\n",
              "      <td>None</td>\n",
              "      <td>PAYUZJ</td>\n",
              "      <td>Blasts</td>\n",
              "      <td>DC-Progenitor-like</td>\n",
              "      <td>28.28660</td>\n",
              "      <td>4667.0</td>\n",
              "      <td>3657</td>\n",
              "    </tr>\n",
              "    <tr>\n",
              "      <th>47477</th>\n",
              "      <td>PAYUZJ_TGGCAATCACGAACGA</td>\n",
              "      <td>MEIS1</td>\n",
              "      <td>1.0</td>\n",
              "      <td>chr2-66445106-66446910</td>\n",
              "      <td>None</td>\n",
              "      <td>PAYUZJ</td>\n",
              "      <td>Blasts</td>\n",
              "      <td>DC-Progenitor-like</td>\n",
              "      <td>28.28660</td>\n",
              "      <td>4667.0</td>\n",
              "      <td>3657</td>\n",
              "    </tr>\n",
              "  </tbody>\n",
              "</table>\n",
              "<p>47478 rows × 11 columns</p>\n",
              "</div>\n",
              "    <div class=\"colab-df-buttons\">\n",
              "\n",
              "  <div class=\"colab-df-container\">\n",
              "    <button class=\"colab-df-convert\" onclick=\"convertToInteractive('df-d59889fc-f478-473f-bbe0-7b6e3d4c9096')\"\n",
              "            title=\"Convert this dataframe to an interactive table.\"\n",
              "            style=\"display:none;\">\n",
              "\n",
              "  <svg xmlns=\"http://www.w3.org/2000/svg\" height=\"24px\" viewBox=\"0 -960 960 960\">\n",
              "    <path d=\"M120-120v-720h720v720H120Zm60-500h600v-160H180v160Zm220 220h160v-160H400v160Zm0 220h160v-160H400v160ZM180-400h160v-160H180v160Zm440 0h160v-160H620v160ZM180-180h160v-160H180v160Zm440 0h160v-160H620v160Z\"/>\n",
              "  </svg>\n",
              "    </button>\n",
              "\n",
              "  <style>\n",
              "    .colab-df-container {\n",
              "      display:flex;\n",
              "      gap: 12px;\n",
              "    }\n",
              "\n",
              "    .colab-df-convert {\n",
              "      background-color: #E8F0FE;\n",
              "      border: none;\n",
              "      border-radius: 50%;\n",
              "      cursor: pointer;\n",
              "      display: none;\n",
              "      fill: #1967D2;\n",
              "      height: 32px;\n",
              "      padding: 0 0 0 0;\n",
              "      width: 32px;\n",
              "    }\n",
              "\n",
              "    .colab-df-convert:hover {\n",
              "      background-color: #E2EBFA;\n",
              "      box-shadow: 0px 1px 2px rgba(60, 64, 67, 0.3), 0px 1px 3px 1px rgba(60, 64, 67, 0.15);\n",
              "      fill: #174EA6;\n",
              "    }\n",
              "\n",
              "    .colab-df-buttons div {\n",
              "      margin-bottom: 4px;\n",
              "    }\n",
              "\n",
              "    [theme=dark] .colab-df-convert {\n",
              "      background-color: #3B4455;\n",
              "      fill: #D2E3FC;\n",
              "    }\n",
              "\n",
              "    [theme=dark] .colab-df-convert:hover {\n",
              "      background-color: #434B5C;\n",
              "      box-shadow: 0px 1px 3px 1px rgba(0, 0, 0, 0.15);\n",
              "      filter: drop-shadow(0px 1px 2px rgba(0, 0, 0, 0.3));\n",
              "      fill: #FFFFFF;\n",
              "    }\n",
              "  </style>\n",
              "\n",
              "    <script>\n",
              "      const buttonEl =\n",
              "        document.querySelector('#df-d59889fc-f478-473f-bbe0-7b6e3d4c9096 button.colab-df-convert');\n",
              "      buttonEl.style.display =\n",
              "        google.colab.kernel.accessAllowed ? 'block' : 'none';\n",
              "\n",
              "      async function convertToInteractive(key) {\n",
              "        const element = document.querySelector('#df-d59889fc-f478-473f-bbe0-7b6e3d4c9096');\n",
              "        const dataTable =\n",
              "          await google.colab.kernel.invokeFunction('convertToInteractive',\n",
              "                                                    [key], {});\n",
              "        if (!dataTable) return;\n",
              "\n",
              "        const docLinkHtml = 'Like what you see? Visit the ' +\n",
              "          '<a target=\"_blank\" href=https://colab.research.google.com/notebooks/data_table.ipynb>data table notebook</a>'\n",
              "          + ' to learn more about interactive tables.';\n",
              "        element.innerHTML = '';\n",
              "        dataTable['output_type'] = 'display_data';\n",
              "        await google.colab.output.renderOutput(dataTable, element);\n",
              "        const docLink = document.createElement('div');\n",
              "        docLink.innerHTML = docLinkHtml;\n",
              "        element.appendChild(docLink);\n",
              "      }\n",
              "    </script>\n",
              "  </div>\n",
              "\n",
              "\n",
              "<div id=\"df-54f7d590-9981-47a7-87fd-0a4ca87e9ef6\">\n",
              "  <button class=\"colab-df-quickchart\" onclick=\"quickchart('df-54f7d590-9981-47a7-87fd-0a4ca87e9ef6')\"\n",
              "            title=\"Suggest charts\"\n",
              "            style=\"display:none;\">\n",
              "\n",
              "<svg xmlns=\"http://www.w3.org/2000/svg\" height=\"24px\"viewBox=\"0 0 24 24\"\n",
              "     width=\"24px\">\n",
              "    <g>\n",
              "        <path d=\"M19 3H5c-1.1 0-2 .9-2 2v14c0 1.1.9 2 2 2h14c1.1 0 2-.9 2-2V5c0-1.1-.9-2-2-2zM9 17H7v-7h2v7zm4 0h-2V7h2v10zm4 0h-2v-4h2v4z\"/>\n",
              "    </g>\n",
              "</svg>\n",
              "  </button>\n",
              "\n",
              "<style>\n",
              "  .colab-df-quickchart {\n",
              "      --bg-color: #E8F0FE;\n",
              "      --fill-color: #1967D2;\n",
              "      --hover-bg-color: #E2EBFA;\n",
              "      --hover-fill-color: #174EA6;\n",
              "      --disabled-fill-color: #AAA;\n",
              "      --disabled-bg-color: #DDD;\n",
              "  }\n",
              "\n",
              "  [theme=dark] .colab-df-quickchart {\n",
              "      --bg-color: #3B4455;\n",
              "      --fill-color: #D2E3FC;\n",
              "      --hover-bg-color: #434B5C;\n",
              "      --hover-fill-color: #FFFFFF;\n",
              "      --disabled-bg-color: #3B4455;\n",
              "      --disabled-fill-color: #666;\n",
              "  }\n",
              "\n",
              "  .colab-df-quickchart {\n",
              "    background-color: var(--bg-color);\n",
              "    border: none;\n",
              "    border-radius: 50%;\n",
              "    cursor: pointer;\n",
              "    display: none;\n",
              "    fill: var(--fill-color);\n",
              "    height: 32px;\n",
              "    padding: 0;\n",
              "    width: 32px;\n",
              "  }\n",
              "\n",
              "  .colab-df-quickchart:hover {\n",
              "    background-color: var(--hover-bg-color);\n",
              "    box-shadow: 0 1px 2px rgba(60, 64, 67, 0.3), 0 1px 3px 1px rgba(60, 64, 67, 0.15);\n",
              "    fill: var(--button-hover-fill-color);\n",
              "  }\n",
              "\n",
              "  .colab-df-quickchart-complete:disabled,\n",
              "  .colab-df-quickchart-complete:disabled:hover {\n",
              "    background-color: var(--disabled-bg-color);\n",
              "    fill: var(--disabled-fill-color);\n",
              "    box-shadow: none;\n",
              "  }\n",
              "\n",
              "  .colab-df-spinner {\n",
              "    border: 2px solid var(--fill-color);\n",
              "    border-color: transparent;\n",
              "    border-bottom-color: var(--fill-color);\n",
              "    animation:\n",
              "      spin 1s steps(1) infinite;\n",
              "  }\n",
              "\n",
              "  @keyframes spin {\n",
              "    0% {\n",
              "      border-color: transparent;\n",
              "      border-bottom-color: var(--fill-color);\n",
              "      border-left-color: var(--fill-color);\n",
              "    }\n",
              "    20% {\n",
              "      border-color: transparent;\n",
              "      border-left-color: var(--fill-color);\n",
              "      border-top-color: var(--fill-color);\n",
              "    }\n",
              "    30% {\n",
              "      border-color: transparent;\n",
              "      border-left-color: var(--fill-color);\n",
              "      border-top-color: var(--fill-color);\n",
              "      border-right-color: var(--fill-color);\n",
              "    }\n",
              "    40% {\n",
              "      border-color: transparent;\n",
              "      border-right-color: var(--fill-color);\n",
              "      border-top-color: var(--fill-color);\n",
              "    }\n",
              "    60% {\n",
              "      border-color: transparent;\n",
              "      border-right-color: var(--fill-color);\n",
              "    }\n",
              "    80% {\n",
              "      border-color: transparent;\n",
              "      border-right-color: var(--fill-color);\n",
              "      border-bottom-color: var(--fill-color);\n",
              "    }\n",
              "    90% {\n",
              "      border-color: transparent;\n",
              "      border-bottom-color: var(--fill-color);\n",
              "    }\n",
              "  }\n",
              "</style>\n",
              "\n",
              "  <script>\n",
              "    async function quickchart(key) {\n",
              "      const quickchartButtonEl =\n",
              "        document.querySelector('#' + key + ' button');\n",
              "      quickchartButtonEl.disabled = true;  // To prevent multiple clicks.\n",
              "      quickchartButtonEl.classList.add('colab-df-spinner');\n",
              "      try {\n",
              "        const charts = await google.colab.kernel.invokeFunction(\n",
              "            'suggestCharts', [key], {});\n",
              "      } catch (error) {\n",
              "        console.error('Error during call to suggestCharts:', error);\n",
              "      }\n",
              "      quickchartButtonEl.classList.remove('colab-df-spinner');\n",
              "      quickchartButtonEl.classList.add('colab-df-quickchart-complete');\n",
              "    }\n",
              "    (() => {\n",
              "      let quickchartButtonEl =\n",
              "        document.querySelector('#df-54f7d590-9981-47a7-87fd-0a4ca87e9ef6 button');\n",
              "      quickchartButtonEl.style.display =\n",
              "        google.colab.kernel.accessAllowed ? 'block' : 'none';\n",
              "    })();\n",
              "  </script>\n",
              "</div>\n",
              "\n",
              "  <div id=\"id_919ad433-7f73-4411-aa8c-b3076a4ac80c\">\n",
              "    <style>\n",
              "      .colab-df-generate {\n",
              "        background-color: #E8F0FE;\n",
              "        border: none;\n",
              "        border-radius: 50%;\n",
              "        cursor: pointer;\n",
              "        display: none;\n",
              "        fill: #1967D2;\n",
              "        height: 32px;\n",
              "        padding: 0 0 0 0;\n",
              "        width: 32px;\n",
              "      }\n",
              "\n",
              "      .colab-df-generate:hover {\n",
              "        background-color: #E2EBFA;\n",
              "        box-shadow: 0px 1px 2px rgba(60, 64, 67, 0.3), 0px 1px 3px 1px rgba(60, 64, 67, 0.15);\n",
              "        fill: #174EA6;\n",
              "      }\n",
              "\n",
              "      [theme=dark] .colab-df-generate {\n",
              "        background-color: #3B4455;\n",
              "        fill: #D2E3FC;\n",
              "      }\n",
              "\n",
              "      [theme=dark] .colab-df-generate:hover {\n",
              "        background-color: #434B5C;\n",
              "        box-shadow: 0px 1px 3px 1px rgba(0, 0, 0, 0.15);\n",
              "        filter: drop-shadow(0px 1px 2px rgba(0, 0, 0, 0.3));\n",
              "        fill: #FFFFFF;\n",
              "      }\n",
              "    </style>\n",
              "    <button class=\"colab-df-generate\" onclick=\"generateWithVariable('data_subset')\"\n",
              "            title=\"Generate code using this dataframe.\"\n",
              "            style=\"display:none;\">\n",
              "\n",
              "  <svg xmlns=\"http://www.w3.org/2000/svg\" height=\"24px\"viewBox=\"0 0 24 24\"\n",
              "       width=\"24px\">\n",
              "    <path d=\"M7,19H8.4L18.45,9,17,7.55,7,17.6ZM5,21V16.75L18.45,3.32a2,2,0,0,1,2.83,0l1.4,1.43a1.91,1.91,0,0,1,.58,1.4,1.91,1.91,0,0,1-.58,1.4L9.25,21ZM18.45,9,17,7.55Zm-12,3A5.31,5.31,0,0,0,4.9,8.1,5.31,5.31,0,0,0,1,6.5,5.31,5.31,0,0,0,4.9,4.9,5.31,5.31,0,0,0,6.5,1,5.31,5.31,0,0,0,8.1,4.9,5.31,5.31,0,0,0,12,6.5,5.46,5.46,0,0,0,6.5,12Z\"/>\n",
              "  </svg>\n",
              "    </button>\n",
              "    <script>\n",
              "      (() => {\n",
              "      const buttonEl =\n",
              "        document.querySelector('#id_919ad433-7f73-4411-aa8c-b3076a4ac80c button.colab-df-generate');\n",
              "      buttonEl.style.display =\n",
              "        google.colab.kernel.accessAllowed ? 'block' : 'none';\n",
              "\n",
              "      buttonEl.onclick = () => {\n",
              "        google.colab.notebook.generateWithVariable('data_subset');\n",
              "      }\n",
              "      })();\n",
              "    </script>\n",
              "  </div>\n",
              "\n",
              "    </div>\n",
              "  </div>\n"
            ],
            "application/vnd.google.colaboratory.intrinsic+json": {
              "type": "dataframe",
              "variable_name": "data_subset",
              "summary": "{\n  \"name\": \"data_subset\",\n  \"rows\": 47478,\n  \"fields\": [\n    {\n      \"column\": \"iVar\",\n      \"properties\": {\n        \"dtype\": \"category\",\n        \"num_unique_values\": 5907,\n        \"samples\": [\n          \"PAYUZJ_TGAGTCAGTGCGTCCA\",\n          \"PAYUZJ_TCAAGCAAGATGGCAC\",\n          \"PAYUZJ_GCCAGCACATTTCTTG\"\n        ],\n        \"semantic_type\": \"\",\n        \"description\": \"\"\n      }\n    },\n    {\n      \"column\": \"iObs\",\n      \"properties\": {\n        \"dtype\": \"category\",\n        \"num_unique_values\": 4,\n        \"samples\": [\n          \"MEF2C\",\n          \"MEIS1\",\n          \"CD19\"\n        ],\n        \"semantic_type\": \"\",\n        \"description\": \"\"\n      }\n    },\n    {\n      \"column\": \"X_value\",\n      \"properties\": {\n        \"dtype\": \"number\",\n        \"std\": 0.8389926479464426,\n        \"min\": 1.0,\n        \"max\": 11.0,\n        \"num_unique_values\": 11,\n        \"samples\": [\n          6.0,\n          1.0,\n          11.0\n        ],\n        \"semantic_type\": \"\",\n        \"description\": \"\"\n      }\n    },\n    {\n      \"column\": \"chromosomal_position\",\n      \"properties\": {\n        \"dtype\": \"category\",\n        \"num_unique_values\": 97,\n        \"samples\": [\n          \"chr5-88764263-88764840\",\n          \"chr5-88899112-88899868\",\n          \"chr2-66468797-66469700\"\n        ],\n        \"semantic_type\": \"\",\n        \"description\": \"\"\n      }\n    },\n    {\n      \"column\": \"tss_region_flag\",\n      \"properties\": {\n        \"dtype\": \"category\",\n        \"num_unique_values\": 1,\n        \"samples\": [\n          \"Tss\"\n        ],\n        \"semantic_type\": \"\",\n        \"description\": \"\"\n      }\n    },\n    {\n      \"column\": \"sample\",\n      \"properties\": {\n        \"dtype\": \"category\",\n        \"num_unique_values\": 1,\n        \"samples\": [\n          \"PAYUZJ\"\n        ],\n        \"semantic_type\": \"\",\n        \"description\": \"\"\n      }\n    },\n    {\n      \"column\": \"Ctype\",\n      \"properties\": {\n        \"dtype\": \"category\",\n        \"num_unique_values\": 6,\n        \"samples\": [\n          \"T/NK\"\n        ],\n        \"semantic_type\": \"\",\n        \"description\": \"\"\n      }\n    },\n    {\n      \"column\": \"projCtype\",\n      \"properties\": {\n        \"dtype\": \"category\",\n        \"num_unique_values\": 16,\n        \"samples\": [\n          \"T-like\"\n        ],\n        \"semantic_type\": \"\",\n        \"description\": \"\"\n      }\n    },\n    {\n      \"column\": \"pseudotime\",\n      \"properties\": {\n        \"dtype\": \"number\",\n        \"std\": 17.449470281324498,\n        \"min\": 0.0,\n        \"max\": 174.25643,\n        \"num_unique_values\": 775,\n        \"samples\": [\n          133.5307\n        ],\n        \"semantic_type\": \"\",\n        \"description\": \"\"\n      }\n    },\n    {\n      \"column\": \"nCount_ATAC\",\n      \"properties\": {\n        \"dtype\": \"number\",\n        \"std\": 8004.41630113676,\n        \"min\": 1953.0,\n        \"max\": 43291.0,\n        \"num_unique_values\": 5318,\n        \"samples\": [\n          29348.0\n        ],\n        \"semantic_type\": \"\",\n        \"description\": \"\"\n      }\n    },\n    {\n      \"column\": \"nFeature_ATAC\",\n      \"properties\": {\n        \"dtype\": \"Int64\",\n        \"num_unique_values\": 4987,\n        \"samples\": [\n          21668\n        ],\n        \"semantic_type\": \"\",\n        \"description\": \"\"\n      }\n    }\n  ]\n}"
            }
          },
          "metadata": {},
          "execution_count": 8
        }
      ]
    },
    {
      "cell_type": "markdown",
      "source": [
        "Next, we create the fragment file by adhering to the standards provided in the documentation above:"
      ],
      "metadata": {
        "id": "7UasRp1yV0Y6"
      }
    },
    {
      "cell_type": "code",
      "source": [
        "cell_barcode = data_subset['iVar'].str.rsplit('_', n=1).str.get(1)\n",
        "chrom_positions = data_subset['chromosomal_position'].str.split('-', expand=True)\n",
        "expression = data_subset['X_value']\n",
        "\n",
        "fragment_file = pd.concat([chrom_positions, cell_barcode], axis=1)\n",
        "fragment_file = pd.concat([fragment_file, expression], axis=1)\n",
        "fragment_file['X_value'] = fragment_file['X_value'].astype(int)"
      ],
      "metadata": {
        "id": "Szokt-ORLBSJ"
      },
      "execution_count": null,
      "outputs": []
    },
    {
      "cell_type": "code",
      "source": [
        "fragment_file"
      ],
      "metadata": {
        "colab": {
          "base_uri": "https://localhost:8080/",
          "height": 423
        },
        "id": "XsZ_tkmTiwzV",
        "outputId": "7e3790b0-312e-4d2b-fb1a-ef167d29db02"
      },
      "execution_count": null,
      "outputs": [
        {
          "output_type": "execute_result",
          "data": {
            "text/plain": [
              "           0         1         2              iVar  X_value\n",
              "0      chr16  28936125  28936955  TCGTTCGCAGCAAACG        1\n",
              "1      chr16  28930494  28932834  CTGTATTCATGCCTTC        1\n",
              "2      chr16  28930494  28932834  TAGCACATCCGTTAGA        1\n",
              "3      chr16  28936125  28936955  TCAATTCGTGACCAGA        1\n",
              "4      chr16  28930494  28932834  ACTTTCAAGAAGGGCG        1\n",
              "...      ...       ...       ...               ...      ...\n",
              "47473   chr5  88895416  88897643  TATCTGTAGTAATGTG        1\n",
              "47474   chr5  88842692  88843276  TGGCAATCACGAACGA        1\n",
              "47475   chr5  88849859  88851562  TGGCAATCACGAACGA        1\n",
              "47476   chr5  88875261  88876108  TGGCAATCACGAACGA        1\n",
              "47477   chr5  88881490  88884516  TGGCAATCACGAACGA        1\n",
              "\n",
              "[47478 rows x 5 columns]"
            ],
            "text/html": [
              "\n",
              "  <div id=\"df-78330525-8a2a-4fd9-9c7f-31e8505b2604\" class=\"colab-df-container\">\n",
              "    <div>\n",
              "<style scoped>\n",
              "    .dataframe tbody tr th:only-of-type {\n",
              "        vertical-align: middle;\n",
              "    }\n",
              "\n",
              "    .dataframe tbody tr th {\n",
              "        vertical-align: top;\n",
              "    }\n",
              "\n",
              "    .dataframe thead th {\n",
              "        text-align: right;\n",
              "    }\n",
              "</style>\n",
              "<table border=\"1\" class=\"dataframe\">\n",
              "  <thead>\n",
              "    <tr style=\"text-align: right;\">\n",
              "      <th></th>\n",
              "      <th>0</th>\n",
              "      <th>1</th>\n",
              "      <th>2</th>\n",
              "      <th>iVar</th>\n",
              "      <th>X_value</th>\n",
              "    </tr>\n",
              "  </thead>\n",
              "  <tbody>\n",
              "    <tr>\n",
              "      <th>0</th>\n",
              "      <td>chr16</td>\n",
              "      <td>28936125</td>\n",
              "      <td>28936955</td>\n",
              "      <td>TCGTTCGCAGCAAACG</td>\n",
              "      <td>1</td>\n",
              "    </tr>\n",
              "    <tr>\n",
              "      <th>1</th>\n",
              "      <td>chr16</td>\n",
              "      <td>28930494</td>\n",
              "      <td>28932834</td>\n",
              "      <td>CTGTATTCATGCCTTC</td>\n",
              "      <td>1</td>\n",
              "    </tr>\n",
              "    <tr>\n",
              "      <th>2</th>\n",
              "      <td>chr16</td>\n",
              "      <td>28930494</td>\n",
              "      <td>28932834</td>\n",
              "      <td>TAGCACATCCGTTAGA</td>\n",
              "      <td>1</td>\n",
              "    </tr>\n",
              "    <tr>\n",
              "      <th>3</th>\n",
              "      <td>chr16</td>\n",
              "      <td>28936125</td>\n",
              "      <td>28936955</td>\n",
              "      <td>TCAATTCGTGACCAGA</td>\n",
              "      <td>1</td>\n",
              "    </tr>\n",
              "    <tr>\n",
              "      <th>4</th>\n",
              "      <td>chr16</td>\n",
              "      <td>28930494</td>\n",
              "      <td>28932834</td>\n",
              "      <td>ACTTTCAAGAAGGGCG</td>\n",
              "      <td>1</td>\n",
              "    </tr>\n",
              "    <tr>\n",
              "      <th>...</th>\n",
              "      <td>...</td>\n",
              "      <td>...</td>\n",
              "      <td>...</td>\n",
              "      <td>...</td>\n",
              "      <td>...</td>\n",
              "    </tr>\n",
              "    <tr>\n",
              "      <th>47473</th>\n",
              "      <td>chr5</td>\n",
              "      <td>88895416</td>\n",
              "      <td>88897643</td>\n",
              "      <td>TATCTGTAGTAATGTG</td>\n",
              "      <td>1</td>\n",
              "    </tr>\n",
              "    <tr>\n",
              "      <th>47474</th>\n",
              "      <td>chr5</td>\n",
              "      <td>88842692</td>\n",
              "      <td>88843276</td>\n",
              "      <td>TGGCAATCACGAACGA</td>\n",
              "      <td>1</td>\n",
              "    </tr>\n",
              "    <tr>\n",
              "      <th>47475</th>\n",
              "      <td>chr5</td>\n",
              "      <td>88849859</td>\n",
              "      <td>88851562</td>\n",
              "      <td>TGGCAATCACGAACGA</td>\n",
              "      <td>1</td>\n",
              "    </tr>\n",
              "    <tr>\n",
              "      <th>47476</th>\n",
              "      <td>chr5</td>\n",
              "      <td>88875261</td>\n",
              "      <td>88876108</td>\n",
              "      <td>TGGCAATCACGAACGA</td>\n",
              "      <td>1</td>\n",
              "    </tr>\n",
              "    <tr>\n",
              "      <th>47477</th>\n",
              "      <td>chr5</td>\n",
              "      <td>88881490</td>\n",
              "      <td>88884516</td>\n",
              "      <td>TGGCAATCACGAACGA</td>\n",
              "      <td>1</td>\n",
              "    </tr>\n",
              "  </tbody>\n",
              "</table>\n",
              "<p>47478 rows × 5 columns</p>\n",
              "</div>\n",
              "    <div class=\"colab-df-buttons\">\n",
              "\n",
              "  <div class=\"colab-df-container\">\n",
              "    <button class=\"colab-df-convert\" onclick=\"convertToInteractive('df-78330525-8a2a-4fd9-9c7f-31e8505b2604')\"\n",
              "            title=\"Convert this dataframe to an interactive table.\"\n",
              "            style=\"display:none;\">\n",
              "\n",
              "  <svg xmlns=\"http://www.w3.org/2000/svg\" height=\"24px\" viewBox=\"0 -960 960 960\">\n",
              "    <path d=\"M120-120v-720h720v720H120Zm60-500h600v-160H180v160Zm220 220h160v-160H400v160Zm0 220h160v-160H400v160ZM180-400h160v-160H180v160Zm440 0h160v-160H620v160ZM180-180h160v-160H180v160Zm440 0h160v-160H620v160Z\"/>\n",
              "  </svg>\n",
              "    </button>\n",
              "\n",
              "  <style>\n",
              "    .colab-df-container {\n",
              "      display:flex;\n",
              "      gap: 12px;\n",
              "    }\n",
              "\n",
              "    .colab-df-convert {\n",
              "      background-color: #E8F0FE;\n",
              "      border: none;\n",
              "      border-radius: 50%;\n",
              "      cursor: pointer;\n",
              "      display: none;\n",
              "      fill: #1967D2;\n",
              "      height: 32px;\n",
              "      padding: 0 0 0 0;\n",
              "      width: 32px;\n",
              "    }\n",
              "\n",
              "    .colab-df-convert:hover {\n",
              "      background-color: #E2EBFA;\n",
              "      box-shadow: 0px 1px 2px rgba(60, 64, 67, 0.3), 0px 1px 3px 1px rgba(60, 64, 67, 0.15);\n",
              "      fill: #174EA6;\n",
              "    }\n",
              "\n",
              "    .colab-df-buttons div {\n",
              "      margin-bottom: 4px;\n",
              "    }\n",
              "\n",
              "    [theme=dark] .colab-df-convert {\n",
              "      background-color: #3B4455;\n",
              "      fill: #D2E3FC;\n",
              "    }\n",
              "\n",
              "    [theme=dark] .colab-df-convert:hover {\n",
              "      background-color: #434B5C;\n",
              "      box-shadow: 0px 1px 3px 1px rgba(0, 0, 0, 0.15);\n",
              "      filter: drop-shadow(0px 1px 2px rgba(0, 0, 0, 0.3));\n",
              "      fill: #FFFFFF;\n",
              "    }\n",
              "  </style>\n",
              "\n",
              "    <script>\n",
              "      const buttonEl =\n",
              "        document.querySelector('#df-78330525-8a2a-4fd9-9c7f-31e8505b2604 button.colab-df-convert');\n",
              "      buttonEl.style.display =\n",
              "        google.colab.kernel.accessAllowed ? 'block' : 'none';\n",
              "\n",
              "      async function convertToInteractive(key) {\n",
              "        const element = document.querySelector('#df-78330525-8a2a-4fd9-9c7f-31e8505b2604');\n",
              "        const dataTable =\n",
              "          await google.colab.kernel.invokeFunction('convertToInteractive',\n",
              "                                                    [key], {});\n",
              "        if (!dataTable) return;\n",
              "\n",
              "        const docLinkHtml = 'Like what you see? Visit the ' +\n",
              "          '<a target=\"_blank\" href=https://colab.research.google.com/notebooks/data_table.ipynb>data table notebook</a>'\n",
              "          + ' to learn more about interactive tables.';\n",
              "        element.innerHTML = '';\n",
              "        dataTable['output_type'] = 'display_data';\n",
              "        await google.colab.output.renderOutput(dataTable, element);\n",
              "        const docLink = document.createElement('div');\n",
              "        docLink.innerHTML = docLinkHtml;\n",
              "        element.appendChild(docLink);\n",
              "      }\n",
              "    </script>\n",
              "  </div>\n",
              "\n",
              "\n",
              "<div id=\"df-703c9b04-c8cd-45d5-bb24-e194a16d85a5\">\n",
              "  <button class=\"colab-df-quickchart\" onclick=\"quickchart('df-703c9b04-c8cd-45d5-bb24-e194a16d85a5')\"\n",
              "            title=\"Suggest charts\"\n",
              "            style=\"display:none;\">\n",
              "\n",
              "<svg xmlns=\"http://www.w3.org/2000/svg\" height=\"24px\"viewBox=\"0 0 24 24\"\n",
              "     width=\"24px\">\n",
              "    <g>\n",
              "        <path d=\"M19 3H5c-1.1 0-2 .9-2 2v14c0 1.1.9 2 2 2h14c1.1 0 2-.9 2-2V5c0-1.1-.9-2-2-2zM9 17H7v-7h2v7zm4 0h-2V7h2v10zm4 0h-2v-4h2v4z\"/>\n",
              "    </g>\n",
              "</svg>\n",
              "  </button>\n",
              "\n",
              "<style>\n",
              "  .colab-df-quickchart {\n",
              "      --bg-color: #E8F0FE;\n",
              "      --fill-color: #1967D2;\n",
              "      --hover-bg-color: #E2EBFA;\n",
              "      --hover-fill-color: #174EA6;\n",
              "      --disabled-fill-color: #AAA;\n",
              "      --disabled-bg-color: #DDD;\n",
              "  }\n",
              "\n",
              "  [theme=dark] .colab-df-quickchart {\n",
              "      --bg-color: #3B4455;\n",
              "      --fill-color: #D2E3FC;\n",
              "      --hover-bg-color: #434B5C;\n",
              "      --hover-fill-color: #FFFFFF;\n",
              "      --disabled-bg-color: #3B4455;\n",
              "      --disabled-fill-color: #666;\n",
              "  }\n",
              "\n",
              "  .colab-df-quickchart {\n",
              "    background-color: var(--bg-color);\n",
              "    border: none;\n",
              "    border-radius: 50%;\n",
              "    cursor: pointer;\n",
              "    display: none;\n",
              "    fill: var(--fill-color);\n",
              "    height: 32px;\n",
              "    padding: 0;\n",
              "    width: 32px;\n",
              "  }\n",
              "\n",
              "  .colab-df-quickchart:hover {\n",
              "    background-color: var(--hover-bg-color);\n",
              "    box-shadow: 0 1px 2px rgba(60, 64, 67, 0.3), 0 1px 3px 1px rgba(60, 64, 67, 0.15);\n",
              "    fill: var(--button-hover-fill-color);\n",
              "  }\n",
              "\n",
              "  .colab-df-quickchart-complete:disabled,\n",
              "  .colab-df-quickchart-complete:disabled:hover {\n",
              "    background-color: var(--disabled-bg-color);\n",
              "    fill: var(--disabled-fill-color);\n",
              "    box-shadow: none;\n",
              "  }\n",
              "\n",
              "  .colab-df-spinner {\n",
              "    border: 2px solid var(--fill-color);\n",
              "    border-color: transparent;\n",
              "    border-bottom-color: var(--fill-color);\n",
              "    animation:\n",
              "      spin 1s steps(1) infinite;\n",
              "  }\n",
              "\n",
              "  @keyframes spin {\n",
              "    0% {\n",
              "      border-color: transparent;\n",
              "      border-bottom-color: var(--fill-color);\n",
              "      border-left-color: var(--fill-color);\n",
              "    }\n",
              "    20% {\n",
              "      border-color: transparent;\n",
              "      border-left-color: var(--fill-color);\n",
              "      border-top-color: var(--fill-color);\n",
              "    }\n",
              "    30% {\n",
              "      border-color: transparent;\n",
              "      border-left-color: var(--fill-color);\n",
              "      border-top-color: var(--fill-color);\n",
              "      border-right-color: var(--fill-color);\n",
              "    }\n",
              "    40% {\n",
              "      border-color: transparent;\n",
              "      border-right-color: var(--fill-color);\n",
              "      border-top-color: var(--fill-color);\n",
              "    }\n",
              "    60% {\n",
              "      border-color: transparent;\n",
              "      border-right-color: var(--fill-color);\n",
              "    }\n",
              "    80% {\n",
              "      border-color: transparent;\n",
              "      border-right-color: var(--fill-color);\n",
              "      border-bottom-color: var(--fill-color);\n",
              "    }\n",
              "    90% {\n",
              "      border-color: transparent;\n",
              "      border-bottom-color: var(--fill-color);\n",
              "    }\n",
              "  }\n",
              "</style>\n",
              "\n",
              "  <script>\n",
              "    async function quickchart(key) {\n",
              "      const quickchartButtonEl =\n",
              "        document.querySelector('#' + key + ' button');\n",
              "      quickchartButtonEl.disabled = true;  // To prevent multiple clicks.\n",
              "      quickchartButtonEl.classList.add('colab-df-spinner');\n",
              "      try {\n",
              "        const charts = await google.colab.kernel.invokeFunction(\n",
              "            'suggestCharts', [key], {});\n",
              "      } catch (error) {\n",
              "        console.error('Error during call to suggestCharts:', error);\n",
              "      }\n",
              "      quickchartButtonEl.classList.remove('colab-df-spinner');\n",
              "      quickchartButtonEl.classList.add('colab-df-quickchart-complete');\n",
              "    }\n",
              "    (() => {\n",
              "      let quickchartButtonEl =\n",
              "        document.querySelector('#df-703c9b04-c8cd-45d5-bb24-e194a16d85a5 button');\n",
              "      quickchartButtonEl.style.display =\n",
              "        google.colab.kernel.accessAllowed ? 'block' : 'none';\n",
              "    })();\n",
              "  </script>\n",
              "</div>\n",
              "\n",
              "  <div id=\"id_286eb11c-92d4-4e21-81c4-a176e1292e50\">\n",
              "    <style>\n",
              "      .colab-df-generate {\n",
              "        background-color: #E8F0FE;\n",
              "        border: none;\n",
              "        border-radius: 50%;\n",
              "        cursor: pointer;\n",
              "        display: none;\n",
              "        fill: #1967D2;\n",
              "        height: 32px;\n",
              "        padding: 0 0 0 0;\n",
              "        width: 32px;\n",
              "      }\n",
              "\n",
              "      .colab-df-generate:hover {\n",
              "        background-color: #E2EBFA;\n",
              "        box-shadow: 0px 1px 2px rgba(60, 64, 67, 0.3), 0px 1px 3px 1px rgba(60, 64, 67, 0.15);\n",
              "        fill: #174EA6;\n",
              "      }\n",
              "\n",
              "      [theme=dark] .colab-df-generate {\n",
              "        background-color: #3B4455;\n",
              "        fill: #D2E3FC;\n",
              "      }\n",
              "\n",
              "      [theme=dark] .colab-df-generate:hover {\n",
              "        background-color: #434B5C;\n",
              "        box-shadow: 0px 1px 3px 1px rgba(0, 0, 0, 0.15);\n",
              "        filter: drop-shadow(0px 1px 2px rgba(0, 0, 0, 0.3));\n",
              "        fill: #FFFFFF;\n",
              "      }\n",
              "    </style>\n",
              "    <button class=\"colab-df-generate\" onclick=\"generateWithVariable('fragment_file')\"\n",
              "            title=\"Generate code using this dataframe.\"\n",
              "            style=\"display:none;\">\n",
              "\n",
              "  <svg xmlns=\"http://www.w3.org/2000/svg\" height=\"24px\"viewBox=\"0 0 24 24\"\n",
              "       width=\"24px\">\n",
              "    <path d=\"M7,19H8.4L18.45,9,17,7.55,7,17.6ZM5,21V16.75L18.45,3.32a2,2,0,0,1,2.83,0l1.4,1.43a1.91,1.91,0,0,1,.58,1.4,1.91,1.91,0,0,1-.58,1.4L9.25,21ZM18.45,9,17,7.55Zm-12,3A5.31,5.31,0,0,0,4.9,8.1,5.31,5.31,0,0,0,1,6.5,5.31,5.31,0,0,0,4.9,4.9,5.31,5.31,0,0,0,6.5,1,5.31,5.31,0,0,0,8.1,4.9,5.31,5.31,0,0,0,12,6.5,5.46,5.46,0,0,0,6.5,12Z\"/>\n",
              "  </svg>\n",
              "    </button>\n",
              "    <script>\n",
              "      (() => {\n",
              "      const buttonEl =\n",
              "        document.querySelector('#id_286eb11c-92d4-4e21-81c4-a176e1292e50 button.colab-df-generate');\n",
              "      buttonEl.style.display =\n",
              "        google.colab.kernel.accessAllowed ? 'block' : 'none';\n",
              "\n",
              "      buttonEl.onclick = () => {\n",
              "        google.colab.notebook.generateWithVariable('fragment_file');\n",
              "      }\n",
              "      })();\n",
              "    </script>\n",
              "  </div>\n",
              "\n",
              "    </div>\n",
              "  </div>\n"
            ],
            "application/vnd.google.colaboratory.intrinsic+json": {
              "type": "dataframe",
              "variable_name": "fragment_file",
              "summary": "{\n  \"name\": \"fragment_file\",\n  \"rows\": 47478,\n  \"fields\": [\n    {\n      \"column\": 0,\n      \"properties\": {\n        \"dtype\": \"category\",\n        \"num_unique_values\": 4,\n        \"samples\": [\n          \"chr2\",\n          \"chr5\",\n          \"chr16\"\n        ],\n        \"semantic_type\": \"\",\n        \"description\": \"\"\n      }\n    },\n    {\n      \"column\": 1,\n      \"properties\": {\n        \"dtype\": \"category\",\n        \"num_unique_values\": 97,\n        \"samples\": [\n          \"88940528\",\n          \"88821104\",\n          \"88854500\"\n        ],\n        \"semantic_type\": \"\",\n        \"description\": \"\"\n      }\n    },\n    {\n      \"column\": 2,\n      \"properties\": {\n        \"dtype\": \"category\",\n        \"num_unique_values\": 97,\n        \"samples\": [\n          \"88941196\",\n          \"88821824\",\n          \"88855116\"\n        ],\n        \"semantic_type\": \"\",\n        \"description\": \"\"\n      }\n    },\n    {\n      \"column\": \"iVar\",\n      \"properties\": {\n        \"dtype\": \"category\",\n        \"num_unique_values\": 5907,\n        \"samples\": [\n          \"GTTACGATCTAAACGC\",\n          \"CGCAGGTAGTAATGTG\",\n          \"TGAATCGTCGACTTAG\"\n        ],\n        \"semantic_type\": \"\",\n        \"description\": \"\"\n      }\n    },\n    {\n      \"column\": \"X_value\",\n      \"properties\": {\n        \"dtype\": \"number\",\n        \"std\": 0,\n        \"min\": 1,\n        \"max\": 11,\n        \"num_unique_values\": 11,\n        \"samples\": [\n          6,\n          1,\n          10\n        ],\n        \"semantic_type\": \"\",\n        \"description\": \"\"\n      }\n    }\n  ]\n}"
            }
          },
          "metadata": {},
          "execution_count": 79
        }
      ]
    },
    {
      "cell_type": "code",
      "source": [
        "#Check the frequency table of count values\n",
        "fragment_file.X_value.value_counts()"
      ],
      "metadata": {
        "colab": {
          "base_uri": "https://localhost:8080/",
          "height": 460
        },
        "id": "Ee7OD6z1wSJ5",
        "outputId": "a1f9a297-0ee4-4373-b7fd-9f2fbfce1d3a"
      },
      "execution_count": null,
      "outputs": [
        {
          "output_type": "execute_result",
          "data": {
            "text/plain": [
              "X_value\n",
              "1     34721\n",
              "2      8627\n",
              "3      2566\n",
              "4       947\n",
              "5       376\n",
              "6       143\n",
              "7        57\n",
              "8        28\n",
              "9         8\n",
              "11        3\n",
              "10        2\n",
              "Name: count, dtype: int64"
            ],
            "text/html": [
              "<div>\n",
              "<style scoped>\n",
              "    .dataframe tbody tr th:only-of-type {\n",
              "        vertical-align: middle;\n",
              "    }\n",
              "\n",
              "    .dataframe tbody tr th {\n",
              "        vertical-align: top;\n",
              "    }\n",
              "\n",
              "    .dataframe thead th {\n",
              "        text-align: right;\n",
              "    }\n",
              "</style>\n",
              "<table border=\"1\" class=\"dataframe\">\n",
              "  <thead>\n",
              "    <tr style=\"text-align: right;\">\n",
              "      <th></th>\n",
              "      <th>count</th>\n",
              "    </tr>\n",
              "    <tr>\n",
              "      <th>X_value</th>\n",
              "      <th></th>\n",
              "    </tr>\n",
              "  </thead>\n",
              "  <tbody>\n",
              "    <tr>\n",
              "      <th>1</th>\n",
              "      <td>34721</td>\n",
              "    </tr>\n",
              "    <tr>\n",
              "      <th>2</th>\n",
              "      <td>8627</td>\n",
              "    </tr>\n",
              "    <tr>\n",
              "      <th>3</th>\n",
              "      <td>2566</td>\n",
              "    </tr>\n",
              "    <tr>\n",
              "      <th>4</th>\n",
              "      <td>947</td>\n",
              "    </tr>\n",
              "    <tr>\n",
              "      <th>5</th>\n",
              "      <td>376</td>\n",
              "    </tr>\n",
              "    <tr>\n",
              "      <th>6</th>\n",
              "      <td>143</td>\n",
              "    </tr>\n",
              "    <tr>\n",
              "      <th>7</th>\n",
              "      <td>57</td>\n",
              "    </tr>\n",
              "    <tr>\n",
              "      <th>8</th>\n",
              "      <td>28</td>\n",
              "    </tr>\n",
              "    <tr>\n",
              "      <th>9</th>\n",
              "      <td>8</td>\n",
              "    </tr>\n",
              "    <tr>\n",
              "      <th>11</th>\n",
              "      <td>3</td>\n",
              "    </tr>\n",
              "    <tr>\n",
              "      <th>10</th>\n",
              "      <td>2</td>\n",
              "    </tr>\n",
              "  </tbody>\n",
              "</table>\n",
              "</div><br><label><b>dtype:</b> int64</label>"
            ]
          },
          "metadata": {},
          "execution_count": 10
        }
      ]
    },
    {
      "cell_type": "markdown",
      "source": [
        "Now we export the table above into a compressed-tsv format which is standard for frament files and save it to our mounted Google Drive."
      ],
      "metadata": {
        "id": "YI-S68_BWJAs"
      }
    },
    {
      "cell_type": "code",
      "source": [
        "fragment_file.to_csv('/content/drive/MyDrive/fragment_file.tsv.gz', sep ='\\t', compression='gzip', header = False, index = False)"
      ],
      "metadata": {
        "id": "RF1rPYXqfIPa"
      },
      "execution_count": null,
      "outputs": []
    },
    {
      "cell_type": "markdown",
      "source": [
        "#6. Analyse the Data using SnapATAC2"
      ],
      "metadata": {
        "id": "SiOpBeROWg9w"
      }
    },
    {
      "cell_type": "code",
      "source": [
        "!pip install snapatac2\n",
        "!pip install umap-learn"
      ],
      "metadata": {
        "colab": {
          "base_uri": "https://localhost:8080/"
        },
        "collapsed": true,
        "id": "hsw9dECcW3qE",
        "outputId": "1f24d9ba-8d3e-44fc-a7c1-a46300be491d"
      },
      "execution_count": null,
      "outputs": [
        {
          "output_type": "stream",
          "name": "stdout",
          "text": [
            "Collecting snapatac2\n",
            "  Downloading snapatac2-2.7.1-cp310-cp310-manylinux_2_17_x86_64.manylinux2014_x86_64.whl.metadata (2.3 kB)\n",
            "Collecting anndata<0.11.0,>=0.8.0 (from snapatac2)\n",
            "  Downloading anndata-0.10.9-py3-none-any.whl.metadata (6.9 kB)\n",
            "Collecting kaleido (from snapatac2)\n",
            "  Downloading kaleido-0.2.1-py2.py3-none-manylinux1_x86_64.whl.metadata (15 kB)\n",
            "Collecting multiprocess (from snapatac2)\n",
            "  Downloading multiprocess-0.70.17-py310-none-any.whl.metadata (7.2 kB)\n",
            "Collecting macs3<3.1,>=3.0 (from snapatac2)\n",
            "  Downloading macs3-3.0.2.tar.gz (687 kB)\n",
            "\u001b[2K     \u001b[90m━━━━━━━━━━━━━━━━━━━━━━━━━━━━━━━━━━━━━━━━\u001b[0m \u001b[32m687.2/687.2 kB\u001b[0m \u001b[31m10.8 MB/s\u001b[0m eta \u001b[36m0:00:00\u001b[0m\n",
            "\u001b[?25h  Installing build dependencies ... \u001b[?25l\u001b[?25hdone\n",
            "  Getting requirements to build wheel ... \u001b[?25l\u001b[?25hdone\n",
            "  Preparing metadata (pyproject.toml) ... \u001b[?25l\u001b[?25hdone\n",
            "Requirement already satisfied: natsort in /usr/local/lib/python3.10/dist-packages (from snapatac2) (8.4.0)\n",
            "Requirement already satisfied: numpy<2.0.0,>=1.16.0 in /usr/local/lib/python3.10/dist-packages (from snapatac2) (1.26.4)\n",
            "Collecting pandas<2.1.2,>=1.0 (from snapatac2)\n",
            "  Downloading pandas-2.1.1-cp310-cp310-manylinux_2_17_x86_64.manylinux2014_x86_64.whl.metadata (18 kB)\n",
            "Requirement already satisfied: plotly<6.0.0,>=5.19.0 in /usr/local/lib/python3.10/dist-packages (from snapatac2) (5.24.1)\n",
            "Requirement already satisfied: polars<2.0,>=1.0 in /usr/local/lib/python3.10/dist-packages (from snapatac2) (1.9.0)\n",
            "Requirement already satisfied: pooch<2.0.0,>=1.6.0 in /usr/local/lib/python3.10/dist-packages (from snapatac2) (1.8.2)\n",
            "Collecting igraph>=0.10.3 (from snapatac2)\n",
            "  Downloading igraph-0.11.8-cp39-abi3-manylinux_2_17_x86_64.manylinux2014_x86_64.whl.metadata (3.8 kB)\n",
            "Requirement already satisfied: pyarrow in /usr/local/lib/python3.10/dist-packages (from snapatac2) (17.0.0)\n",
            "Collecting pyfaidx<0.8.0,>=0.7.0 (from snapatac2)\n",
            "  Downloading pyfaidx-0.7.2.2-py3-none-any.whl.metadata (25 kB)\n",
            "Collecting rustworkx (from snapatac2)\n",
            "  Downloading rustworkx-0.15.1-cp38-abi3-manylinux_2_17_x86_64.manylinux2014_x86_64.whl.metadata (9.9 kB)\n",
            "Requirement already satisfied: scipy<2.0.0,>=1.4 in /usr/local/lib/python3.10/dist-packages (from snapatac2) (1.13.1)\n",
            "Requirement already satisfied: scikit-learn<2.0.0,>=1.0 in /usr/local/lib/python3.10/dist-packages (from snapatac2) (1.5.2)\n",
            "Requirement already satisfied: tqdm>=4.62 in /usr/local/lib/python3.10/dist-packages (from snapatac2) (4.66.6)\n",
            "Requirement already satisfied: typeguard>=4.0 in /usr/local/lib/python3.10/dist-packages (from snapatac2) (4.4.0)\n",
            "Collecting array-api-compat!=1.5,>1.4 (from anndata<0.11.0,>=0.8.0->snapatac2)\n",
            "  Downloading array_api_compat-1.9.1-py3-none-any.whl.metadata (1.6 kB)\n",
            "Requirement already satisfied: exceptiongroup in /usr/local/lib/python3.10/dist-packages (from anndata<0.11.0,>=0.8.0->snapatac2) (1.2.2)\n",
            "Requirement already satisfied: h5py>=3.1 in /usr/local/lib/python3.10/dist-packages (from anndata<0.11.0,>=0.8.0->snapatac2) (3.12.1)\n",
            "Requirement already satisfied: packaging>=20.0 in /usr/local/lib/python3.10/dist-packages (from anndata<0.11.0,>=0.8.0->snapatac2) (24.1)\n",
            "Collecting texttable>=1.6.2 (from igraph>=0.10.3->snapatac2)\n",
            "  Downloading texttable-1.7.0-py2.py3-none-any.whl.metadata (9.8 kB)\n",
            "Collecting hmmlearn>=0.3.2 (from macs3<3.1,>=3.0->snapatac2)\n",
            "  Using cached hmmlearn-0.3.3-cp310-cp310-manylinux_2_17_x86_64.manylinux2014_x86_64.whl.metadata (3.0 kB)\n",
            "Collecting cykhash<3.0,>=2.0 (from macs3<3.1,>=3.0->snapatac2)\n",
            "  Using cached cykhash-2.0.1-cp310-cp310-linux_x86_64.whl\n",
            "Requirement already satisfied: python-dateutil>=2.8.2 in /usr/local/lib/python3.10/dist-packages (from pandas<2.1.2,>=1.0->snapatac2) (2.8.2)\n",
            "Requirement already satisfied: pytz>=2020.1 in /usr/local/lib/python3.10/dist-packages (from pandas<2.1.2,>=1.0->snapatac2) (2024.2)\n",
            "Requirement already satisfied: tzdata>=2022.1 in /usr/local/lib/python3.10/dist-packages (from pandas<2.1.2,>=1.0->snapatac2) (2024.2)\n",
            "Requirement already satisfied: tenacity>=6.2.0 in /usr/local/lib/python3.10/dist-packages (from plotly<6.0.0,>=5.19.0->snapatac2) (9.0.0)\n",
            "Requirement already satisfied: platformdirs>=2.5.0 in /usr/local/lib/python3.10/dist-packages (from pooch<2.0.0,>=1.6.0->snapatac2) (4.3.6)\n",
            "Requirement already satisfied: requests>=2.19.0 in /usr/local/lib/python3.10/dist-packages (from pooch<2.0.0,>=1.6.0->snapatac2) (2.32.3)\n",
            "Requirement already satisfied: six in /usr/local/lib/python3.10/dist-packages (from pyfaidx<0.8.0,>=0.7.0->snapatac2) (1.16.0)\n",
            "Requirement already satisfied: setuptools in /usr/local/lib/python3.10/dist-packages (from pyfaidx<0.8.0,>=0.7.0->snapatac2) (75.1.0)\n",
            "Requirement already satisfied: importlib-metadata in /usr/local/lib/python3.10/dist-packages (from pyfaidx<0.8.0,>=0.7.0->snapatac2) (8.5.0)\n",
            "Requirement already satisfied: joblib>=1.2.0 in /usr/local/lib/python3.10/dist-packages (from scikit-learn<2.0.0,>=1.0->snapatac2) (1.4.2)\n",
            "Requirement already satisfied: threadpoolctl>=3.1.0 in /usr/local/lib/python3.10/dist-packages (from scikit-learn<2.0.0,>=1.0->snapatac2) (3.5.0)\n",
            "Requirement already satisfied: typing-extensions>=4.10.0 in /usr/local/lib/python3.10/dist-packages (from typeguard>=4.0->snapatac2) (4.12.2)\n",
            "Collecting dill>=0.3.9 (from multiprocess->snapatac2)\n",
            "  Downloading dill-0.3.9-py3-none-any.whl.metadata (10 kB)\n",
            "Requirement already satisfied: charset-normalizer<4,>=2 in /usr/local/lib/python3.10/dist-packages (from requests>=2.19.0->pooch<2.0.0,>=1.6.0->snapatac2) (3.4.0)\n",
            "Requirement already satisfied: idna<4,>=2.5 in /usr/local/lib/python3.10/dist-packages (from requests>=2.19.0->pooch<2.0.0,>=1.6.0->snapatac2) (3.10)\n",
            "Requirement already satisfied: urllib3<3,>=1.21.1 in /usr/local/lib/python3.10/dist-packages (from requests>=2.19.0->pooch<2.0.0,>=1.6.0->snapatac2) (2.2.3)\n",
            "Requirement already satisfied: certifi>=2017.4.17 in /usr/local/lib/python3.10/dist-packages (from requests>=2.19.0->pooch<2.0.0,>=1.6.0->snapatac2) (2024.8.30)\n",
            "Requirement already satisfied: zipp>=3.20 in /usr/local/lib/python3.10/dist-packages (from importlib-metadata->pyfaidx<0.8.0,>=0.7.0->snapatac2) (3.20.2)\n",
            "Downloading snapatac2-2.7.1-cp310-cp310-manylinux_2_17_x86_64.manylinux2014_x86_64.whl (17.0 MB)\n",
            "\u001b[2K   \u001b[90m━━━━━━━━━━━━━━━━━━━━━━━━━━━━━━━━━━━━━━━━\u001b[0m \u001b[32m17.0/17.0 MB\u001b[0m \u001b[31m31.3 MB/s\u001b[0m eta \u001b[36m0:00:00\u001b[0m\n",
            "\u001b[?25hDownloading anndata-0.10.9-py3-none-any.whl (128 kB)\n",
            "\u001b[2K   \u001b[90m━━━━━━━━━━━━━━━━━━━━━━━━━━━━━━━━━━━━━━━━\u001b[0m \u001b[32m129.0/129.0 kB\u001b[0m \u001b[31m10.9 MB/s\u001b[0m eta \u001b[36m0:00:00\u001b[0m\n",
            "\u001b[?25hDownloading igraph-0.11.8-cp39-abi3-manylinux_2_17_x86_64.manylinux2014_x86_64.whl (3.1 MB)\n",
            "\u001b[2K   \u001b[90m━━━━━━━━━━━━━━━━━━━━━━━━━━━━━━━━━━━━━━━━\u001b[0m \u001b[32m3.1/3.1 MB\u001b[0m \u001b[31m82.3 MB/s\u001b[0m eta \u001b[36m0:00:00\u001b[0m\n",
            "\u001b[?25hDownloading pandas-2.1.1-cp310-cp310-manylinux_2_17_x86_64.manylinux2014_x86_64.whl (12.3 MB)\n",
            "\u001b[2K   \u001b[90m━━━━━━━━━━━━━━━━━━━━━━━━━━━━━━━━━━━━━━━━\u001b[0m \u001b[32m12.3/12.3 MB\u001b[0m \u001b[31m96.3 MB/s\u001b[0m eta \u001b[36m0:00:00\u001b[0m\n",
            "\u001b[?25hDownloading pyfaidx-0.7.2.2-py3-none-any.whl (28 kB)\n",
            "Downloading kaleido-0.2.1-py2.py3-none-manylinux1_x86_64.whl (79.9 MB)\n",
            "\u001b[2K   \u001b[90m━━━━━━━━━━━━━━━━━━━━━━━━━━━━━━━━━━━━━━━━\u001b[0m \u001b[32m79.9/79.9 MB\u001b[0m \u001b[31m9.2 MB/s\u001b[0m eta \u001b[36m0:00:00\u001b[0m\n",
            "\u001b[?25hDownloading multiprocess-0.70.17-py310-none-any.whl (134 kB)\n",
            "\u001b[2K   \u001b[90m━━━━━━━━━━━━━━━━━━━━━━━━━━━━━━━━━━━━━━━━\u001b[0m \u001b[32m134.8/134.8 kB\u001b[0m \u001b[31m12.0 MB/s\u001b[0m eta \u001b[36m0:00:00\u001b[0m\n",
            "\u001b[?25hDownloading rustworkx-0.15.1-cp38-abi3-manylinux_2_17_x86_64.manylinux2014_x86_64.whl (2.0 MB)\n",
            "\u001b[2K   \u001b[90m━━━━━━━━━━━━━━━━━━━━━━━━━━━━━━━━━━━━━━━━\u001b[0m \u001b[32m2.0/2.0 MB\u001b[0m \u001b[31m71.2 MB/s\u001b[0m eta \u001b[36m0:00:00\u001b[0m\n",
            "\u001b[?25hDownloading array_api_compat-1.9.1-py3-none-any.whl (50 kB)\n",
            "\u001b[2K   \u001b[90m━━━━━━━━━━━━━━━━━━━━━━━━━━━━━━━━━━━━━━━━\u001b[0m \u001b[32m50.1/50.1 kB\u001b[0m \u001b[31m3.8 MB/s\u001b[0m eta \u001b[36m0:00:00\u001b[0m\n",
            "\u001b[?25hDownloading dill-0.3.9-py3-none-any.whl (119 kB)\n",
            "\u001b[2K   \u001b[90m━━━━━━━━━━━━━━━━━━━━━━━━━━━━━━━━━━━━━━━━\u001b[0m \u001b[32m119.4/119.4 kB\u001b[0m \u001b[31m10.3 MB/s\u001b[0m eta \u001b[36m0:00:00\u001b[0m\n",
            "\u001b[?25hUsing cached hmmlearn-0.3.3-cp310-cp310-manylinux_2_17_x86_64.manylinux2014_x86_64.whl (164 kB)\n",
            "Downloading texttable-1.7.0-py2.py3-none-any.whl (10 kB)\n",
            "Building wheels for collected packages: macs3\n",
            "  Building wheel for macs3 (pyproject.toml) ... \u001b[?25l\u001b[?25hdone\n",
            "  Created wheel for macs3: filename=MACS3-3.0.2-cp310-cp310-linux_x86_64.whl size=3075780 sha256=248847754fed2258f1dce9c2297a7191bbead0467d26f5228ced3d30267dabdb\n",
            "  Stored in directory: /root/.cache/pip/wheels/5f/c6/8b/60e12b221b08c689aa49030a530c2c9f8fb13416a49b977f82\n",
            "Successfully built macs3\n",
            "Installing collected packages: texttable, kaleido, cykhash, rustworkx, igraph, dill, array-api-compat, pyfaidx, pandas, multiprocess, hmmlearn, anndata, macs3, snapatac2\n",
            "  Attempting uninstall: pandas\n",
            "    Found existing installation: pandas 2.2.2\n",
            "    Uninstalling pandas-2.2.2:\n",
            "      Successfully uninstalled pandas-2.2.2\n",
            "\u001b[31mERROR: pip's dependency resolver does not currently take into account all the packages that are installed. This behaviour is the source of the following dependency conflicts.\n",
            "google-colab 1.0.0 requires pandas==2.2.2, but you have pandas 2.1.1 which is incompatible.\n",
            "mizani 0.13.0 requires pandas>=2.2.0, but you have pandas 2.1.1 which is incompatible.\n",
            "plotnine 0.14.0 requires pandas>=2.2.0, but you have pandas 2.1.1 which is incompatible.\u001b[0m\u001b[31m\n",
            "\u001b[0mSuccessfully installed anndata-0.10.9 array-api-compat-1.9.1 cykhash-2.0.1 dill-0.3.9 hmmlearn-0.3.3 igraph-0.11.8 kaleido-0.2.1 macs3-3.0.2 multiprocess-0.70.17 pandas-2.1.1 pyfaidx-0.7.2.2 rustworkx-0.15.1 snapatac2-2.7.1 texttable-1.7.0\n",
            "Collecting umap-learn\n",
            "  Downloading umap_learn-0.5.7-py3-none-any.whl.metadata (21 kB)\n",
            "Requirement already satisfied: numpy>=1.17 in /usr/local/lib/python3.10/dist-packages (from umap-learn) (1.26.4)\n",
            "Requirement already satisfied: scipy>=1.3.1 in /usr/local/lib/python3.10/dist-packages (from umap-learn) (1.13.1)\n",
            "Requirement already satisfied: scikit-learn>=0.22 in /usr/local/lib/python3.10/dist-packages (from umap-learn) (1.5.2)\n",
            "Requirement already satisfied: numba>=0.51.2 in /usr/local/lib/python3.10/dist-packages (from umap-learn) (0.60.0)\n",
            "Collecting pynndescent>=0.5 (from umap-learn)\n",
            "  Downloading pynndescent-0.5.13-py3-none-any.whl.metadata (6.8 kB)\n",
            "Requirement already satisfied: tqdm in /usr/local/lib/python3.10/dist-packages (from umap-learn) (4.66.6)\n",
            "Requirement already satisfied: llvmlite<0.44,>=0.43.0dev0 in /usr/local/lib/python3.10/dist-packages (from numba>=0.51.2->umap-learn) (0.43.0)\n",
            "Requirement already satisfied: joblib>=0.11 in /usr/local/lib/python3.10/dist-packages (from pynndescent>=0.5->umap-learn) (1.4.2)\n",
            "Requirement already satisfied: threadpoolctl>=3.1.0 in /usr/local/lib/python3.10/dist-packages (from scikit-learn>=0.22->umap-learn) (3.5.0)\n",
            "Downloading umap_learn-0.5.7-py3-none-any.whl (88 kB)\n",
            "\u001b[2K   \u001b[90m━━━━━━━━━━━━━━━━━━━━━━━━━━━━━━━━━━━━━━━━\u001b[0m \u001b[32m88.8/88.8 kB\u001b[0m \u001b[31m3.2 MB/s\u001b[0m eta \u001b[36m0:00:00\u001b[0m\n",
            "\u001b[?25hDownloading pynndescent-0.5.13-py3-none-any.whl (56 kB)\n",
            "\u001b[2K   \u001b[90m━━━━━━━━━━━━━━━━━━━━━━━━━━━━━━━━━━━━━━━━\u001b[0m \u001b[32m56.9/56.9 kB\u001b[0m \u001b[31m4.6 MB/s\u001b[0m eta \u001b[36m0:00:00\u001b[0m\n",
            "\u001b[?25hInstalling collected packages: pynndescent, umap-learn\n",
            "Successfully installed pynndescent-0.5.13 umap-learn-0.5.7\n"
          ]
        }
      ]
    },
    {
      "cell_type": "code",
      "source": [
        "import snapatac2 as snap\n",
        "import umap.umap_ as umap"
      ],
      "metadata": {
        "id": "6yKtGfxSWfIU"
      },
      "execution_count": null,
      "outputs": []
    },
    {
      "cell_type": "markdown",
      "source": [
        "Once installed and loaded, we'll use the import_data module to read in our previously created fragment file. This will read our fragment file into the session in an AnnData format. Given that this data has been previously processed, we'll lower the number of minimum fragments (set to 200 by default). For chromosome sizes, we'll use Human Genome 38 as provided by the package.\n",
        "\n",
        "More documentation for snapatac2 modules can be found here: https://kzhang.org/SnapATAC2/tutorials/index.html\n",
        "\n",
        "For more information on the AnnData format, see our other notebooks on creating AnnData structures or check out the documentation here: https://anndata.readthedocs.io/en/latest/\n"
      ],
      "metadata": {
        "id": "axjKR0UOZc7i"
      }
    },
    {
      "cell_type": "code",
      "source": [
        "fragment_data = snap.pp.import_data(\n",
        "    '/content/drive/MyDrive/fragment_file.tsv.gz',\n",
        "    chrom_sizes=snap.genome.hg38,\n",
        "    sorted_by_barcode=False,\n",
        "    min_num_fragments=0,\n",
        "    )"
      ],
      "metadata": {
        "id": "AJMwmfMT-5Nw"
      },
      "execution_count": null,
      "outputs": []
    },
    {
      "cell_type": "code",
      "source": [
        "fragment_data"
      ],
      "metadata": {
        "colab": {
          "base_uri": "https://localhost:8080/"
        },
        "id": "O9-INH9K-5VU",
        "outputId": "c4c462fa-89ee-4510-c92f-4d54a87526c1"
      },
      "execution_count": null,
      "outputs": [
        {
          "output_type": "execute_result",
          "data": {
            "text/plain": [
              "AnnData object with n_obs × n_vars = 5907 × 0\n",
              "    obs: 'n_fragment', 'frac_dup', 'frac_mito'\n",
              "    uns: 'reference_sequences'\n",
              "    obsm: 'fragment_paired'"
            ]
          },
          "metadata": {},
          "execution_count": 19
        }
      ]
    },
    {
      "cell_type": "code",
      "source": [
        "fragment_data.var"
      ],
      "metadata": {
        "colab": {
          "base_uri": "https://localhost:8080/",
          "height": 53
        },
        "id": "XNbT5bto45EP",
        "outputId": "d3fa54fa-fb26-421f-b601-caa67b5f747d"
      },
      "execution_count": null,
      "outputs": [
        {
          "output_type": "execute_result",
          "data": {
            "text/plain": [
              "Empty DataFrame\n",
              "Columns: []\n",
              "Index: []"
            ],
            "text/html": [
              "\n",
              "  <div id=\"df-3de1fc4e-8c2e-435f-847a-8892f7808c8e\" class=\"colab-df-container\">\n",
              "    <div>\n",
              "<style scoped>\n",
              "    .dataframe tbody tr th:only-of-type {\n",
              "        vertical-align: middle;\n",
              "    }\n",
              "\n",
              "    .dataframe tbody tr th {\n",
              "        vertical-align: top;\n",
              "    }\n",
              "\n",
              "    .dataframe thead th {\n",
              "        text-align: right;\n",
              "    }\n",
              "</style>\n",
              "<table border=\"1\" class=\"dataframe\">\n",
              "  <thead>\n",
              "    <tr style=\"text-align: right;\">\n",
              "      <th></th>\n",
              "    </tr>\n",
              "  </thead>\n",
              "  <tbody>\n",
              "  </tbody>\n",
              "</table>\n",
              "</div>\n",
              "    <div class=\"colab-df-buttons\">\n",
              "\n",
              "  <div class=\"colab-df-container\">\n",
              "    <button class=\"colab-df-convert\" onclick=\"convertToInteractive('df-3de1fc4e-8c2e-435f-847a-8892f7808c8e')\"\n",
              "            title=\"Convert this dataframe to an interactive table.\"\n",
              "            style=\"display:none;\">\n",
              "\n",
              "  <svg xmlns=\"http://www.w3.org/2000/svg\" height=\"24px\" viewBox=\"0 -960 960 960\">\n",
              "    <path d=\"M120-120v-720h720v720H120Zm60-500h600v-160H180v160Zm220 220h160v-160H400v160Zm0 220h160v-160H400v160ZM180-400h160v-160H180v160Zm440 0h160v-160H620v160ZM180-180h160v-160H180v160Zm440 0h160v-160H620v160Z\"/>\n",
              "  </svg>\n",
              "    </button>\n",
              "\n",
              "  <style>\n",
              "    .colab-df-container {\n",
              "      display:flex;\n",
              "      gap: 12px;\n",
              "    }\n",
              "\n",
              "    .colab-df-convert {\n",
              "      background-color: #E8F0FE;\n",
              "      border: none;\n",
              "      border-radius: 50%;\n",
              "      cursor: pointer;\n",
              "      display: none;\n",
              "      fill: #1967D2;\n",
              "      height: 32px;\n",
              "      padding: 0 0 0 0;\n",
              "      width: 32px;\n",
              "    }\n",
              "\n",
              "    .colab-df-convert:hover {\n",
              "      background-color: #E2EBFA;\n",
              "      box-shadow: 0px 1px 2px rgba(60, 64, 67, 0.3), 0px 1px 3px 1px rgba(60, 64, 67, 0.15);\n",
              "      fill: #174EA6;\n",
              "    }\n",
              "\n",
              "    .colab-df-buttons div {\n",
              "      margin-bottom: 4px;\n",
              "    }\n",
              "\n",
              "    [theme=dark] .colab-df-convert {\n",
              "      background-color: #3B4455;\n",
              "      fill: #D2E3FC;\n",
              "    }\n",
              "\n",
              "    [theme=dark] .colab-df-convert:hover {\n",
              "      background-color: #434B5C;\n",
              "      box-shadow: 0px 1px 3px 1px rgba(0, 0, 0, 0.15);\n",
              "      filter: drop-shadow(0px 1px 2px rgba(0, 0, 0, 0.3));\n",
              "      fill: #FFFFFF;\n",
              "    }\n",
              "  </style>\n",
              "\n",
              "    <script>\n",
              "      const buttonEl =\n",
              "        document.querySelector('#df-3de1fc4e-8c2e-435f-847a-8892f7808c8e button.colab-df-convert');\n",
              "      buttonEl.style.display =\n",
              "        google.colab.kernel.accessAllowed ? 'block' : 'none';\n",
              "\n",
              "      async function convertToInteractive(key) {\n",
              "        const element = document.querySelector('#df-3de1fc4e-8c2e-435f-847a-8892f7808c8e');\n",
              "        const dataTable =\n",
              "          await google.colab.kernel.invokeFunction('convertToInteractive',\n",
              "                                                    [key], {});\n",
              "        if (!dataTable) return;\n",
              "\n",
              "        const docLinkHtml = 'Like what you see? Visit the ' +\n",
              "          '<a target=\"_blank\" href=https://colab.research.google.com/notebooks/data_table.ipynb>data table notebook</a>'\n",
              "          + ' to learn more about interactive tables.';\n",
              "        element.innerHTML = '';\n",
              "        dataTable['output_type'] = 'display_data';\n",
              "        await google.colab.output.renderOutput(dataTable, element);\n",
              "        const docLink = document.createElement('div');\n",
              "        docLink.innerHTML = docLinkHtml;\n",
              "        element.appendChild(docLink);\n",
              "      }\n",
              "    </script>\n",
              "  </div>\n",
              "\n",
              "\n",
              "    </div>\n",
              "  </div>\n"
            ],
            "application/vnd.google.colaboratory.intrinsic+json": {
              "type": "dataframe",
              "summary": "{\n  \"name\": \"fragment_data\",\n  \"rows\": 0,\n  \"fields\": []\n}"
            }
          },
          "metadata": {},
          "execution_count": 21
        }
      ]
    },
    {
      "cell_type": "markdown",
      "source": [
        "In the output above, we see that our data has been read in and some basic QC metrics have been performed by default (n_fragment, frac_dup, etc).\n",
        "\n",
        "Using this AnnData object we'll employ the frag_size_distr() module to calculate and plot the size distribution of fragments in this dataset."
      ],
      "metadata": {
        "id": "E0LK48FMaYSV"
      }
    },
    {
      "cell_type": "code",
      "source": [
        "snap.pl.frag_size_distr(fragment_data, interactive=False)"
      ],
      "metadata": {
        "colab": {
          "base_uri": "https://localhost:8080/",
          "height": 417
        },
        "id": "kYKhy-obwxUf",
        "outputId": "f36ec028-3bea-42de-e23a-6ee021ea5677"
      },
      "execution_count": null,
      "outputs": [
        {
          "output_type": "execute_result",
          "data": {
            "image/png": "[encoded data removed]",
            "text/plain": [
              "<IPython.core.display.Image object>"
            ]
          },
          "metadata": {},
          "execution_count": 17
        }
      ]
    },
    {
      "cell_type": "markdown",
      "source": [
        "The plotting functions in SnapATAC2 can optionally return a plotly Figure object that can be further customized using plotly’s API. In the example below, we change the y-axis to log-scale."
      ],
      "metadata": {
        "id": "68GMHuFCboh4"
      }
    },
    {
      "cell_type": "code",
      "source": [
        "fig = snap.pl.frag_size_distr(fragment_data, show=False)\n",
        "fig.update_yaxes(type=\"log\")\n",
        "fig.show()"
      ],
      "metadata": {
        "colab": {
          "base_uri": "https://localhost:8080/",
          "height": 417
        },
        "id": "ofjmedFSxBf9",
        "outputId": "f4444eed-6ffc-4c90-b7a1-c17e54bd8b5f"
      },
      "execution_count": null,
      "outputs": [
        {
          "output_type": "display_data",
          "data": {
            "text/html": [
              "<html>\n",
              "<head><meta charset=\"utf-8\" /></head>\n",
              "<body>\n",
              "    <div>            <script src=\"https://cdnjs.cloudflare.com/ajax/libs/mathjax/2.7.5/MathJax.js?config=TeX-AMS-MML_SVG\"></script><script type=\"text/javascript\">if (window.MathJax && window.MathJax.Hub && window.MathJax.Hub.Config) {window.MathJax.Hub.Config({SVG: {font: \"STIX-Web\"}});}</script>                <script type=\"text/javascript\">window.PlotlyConfig = {MathJaxConfig: 'local'};</script>\n",
              "        <script charset=\"utf-8\" src=\"https://cdn.plot.ly/plotly-2.35.2.min.js\"></script>                <div id=\"38445de5-1951-46ea-8bdd-4c83114dcd94\" class=\"plotly-graph-div\" style=\"height:400px; width:600px;\"></div>            <script type=\"text/javascript\">                                    window.PLOTLYENV=window.PLOTLYENV || {};                                    if (document.getElementById(\"38445de5-1951-46ea-8bdd-4c83114dcd94\")) {                    Plotly.newPlot(                        \"38445de5-1951-46ea-8bdd-4c83114dcd94\",                        [{\"mode\":\"lines\",\"x\":[1,2,3,4,5,6,7,8,9,10,11,12,13,14,15,16,17,18,19,20,21,22,23,24,25,26,27,28,29,30,31,32,33,34,35,36,37,38,39,40,41,42,43,44,45,46,47,48,49,50,51,52,53,54,55,56,57,58,59,60,61,62,63,64,65,66,67,68,69,70,71,72,73,74,75,76,77,78,79,80,81,82,83,84,85,86,87,88,89,90,91,92,93,94,95,96,97,98,99,100,101,102,103,104,105,106,107,108,109,110,111,112,113,114,115,116,117,118,119,120,121,122,123,124,125,126,127,128,129,130,131,132,133,134,135,136,137,138,139,140,141,142,143,144,145,146,147,148,149,150,151,152,153,154,155,156,157,158,159,160,161,162,163,164,165,166,167,168,169,170,171,172,173,174,175,176,177,178,179,180,181,182,183,184,185,186,187,188,189,190,191,192,193,194,195,196,197,198,199,200,201,202,203,204,205,206,207,208,209,210,211,212,213,214,215,216,217,218,219,220,221,222,223,224,225,226,227,228,229,230,231,232,233,234,235,236,237,238,239,240,241,242,243,244,245,246,247,248,249,250,251,252,253,254,255,256,257,258,259,260,261,262,263,264,265,266,267,268,269,270,271,272,273,274,275,276,277,278,279,280,281,282,283,284,285,286,287,288,289,290,291,292,293,294,295,296,297,298,299,300,301,302,303,304,305,306,307,308,309,310,311,312,313,314,315,316,317,318,319,320,321,322,323,324,325,326,327,328,329,330,331,332,333,334,335,336,337,338,339,340,341,342,343,344,345,346,347,348,349,350,351,352,353,354,355,356,357,358,359,360,361,362,363,364,365,366,367,368,369,370,371,372,373,374,375,376,377,378,379,380,381,382,383,384,385,386,387,388,389,390,391,392,393,394,395,396,397,398,399,400,401,402,403,404,405,406,407,408,409,410,411,412,413,414,415,416,417,418,419,420,421,422,423,424,425,426,427,428,429,430,431,432,433,434,435,436,437,438,439,440,441,442,443,444,445,446,447,448,449,450,451,452,453,454,455,456,457,458,459,460,461,462,463,464,465,466,467,468,469,470,471,472,473,474,475,476,477,478,479,480,481,482,483,484,485,486,487,488,489,490,491,492,493,494,495,496,497,498,499,500,501,502,503,504,505,506,507,508,509,510,511,512,513,514,515,516,517,518,519,520,521,522,523,524,525,526,527,528,529,530,531,532,533,534,535,536,537,538,539,540,541,542,543,544,545,546,547,548,549,550,551,552,553,554,555,556,557,558,559,560,561,562,563,564,565,566,567,568,569,570,571,572,573,574,575,576,577,578,579,580,581,582,583,584,585,586,587,588,589,590,591,592,593,594,595,596,597,598,599,600,601,602,603,604,605,606,607,608,609,610,611,612,613,614,615,616,617,618,619,620,621,622,623,624,625,626,627,628,629,630,631,632,633,634,635,636,637,638,639,640,641,642,643,644,645,646,647,648,649,650,651,652,653,654,655,656,657,658,659,660,661,662,663,664,665,666,667,668,669,670,671,672,673,674,675,676,677,678,679,680,681,682,683,684,685,686,687,688,689,690,691,692,693,694,695,696,697,698,699,700,701,702,703,704,705,706,707,708,709,710,711,712,713,714,715,716,717,718,719,720,721,722,723,724,725,726,727,728,729,730,731,732,733,734,735,736,737,738,739,740,741,742,743,744,745,746,747,748,749,750,751,752,753,754,755,756,757,758,759,760,761,762,763,764,765,766,767,768,769,770,771,772,773,774,775,776,777,778,779,780,781,782,783,784,785,786,787,788,789,790,791,792,793,794,795,796,797,798,799,800,801,802,803,804,805,806,807,808,809,810,811,812,813,814,815,816,817,818,819,820,821,822,823,824,825,826,827,828,829,830,831,832,833,834,835,836,837,838,839,840,841,842,843,844,845,846,847,848,849,850,851,852,853,854,855,856,857,858,859,860,861,862,863,864,865,866,867,868,869,870,871,872,873,874,875,876,877,878,879,880,881,882,883,884,885,886,887,888,889,890,891,892,893,894,895,896,897,898,899,900,901,902,903,904,905,906,907,908,909,910,911,912,913,914,915,916,917,918,919,920,921,922,923,924,925,926,927,928,929,930,931,932,933,934,935,936,937,938,939,940,941,942,943,944,945,946,947,948,949,950,951,952,953,954,955,956,957,958,959,960,961,962,963,964,965,966,967,968,969,970,971,972,973,974,975,976,977,978,979,980,981,982,983,984,985,986,987,988,989,990,991,992,993,994,995,996,997,998,999,1000],\"y\":[0,0,0,0,0,0,0,0,0,0,0,0,0,0,0,0,0,0,0,0,0,0,0,0,0,0,0,0,0,0,0,0,0,0,0,0,0,0,0,0,0,0,0,0,0,0,0,0,0,0,0,0,0,0,0,0,0,0,0,0,0,0,0,0,0,0,0,0,0,0,0,0,0,0,0,0,0,0,0,0,0,0,0,0,0,0,0,0,0,0,0,0,0,0,0,0,0,0,0,0,0,0,0,0,0,0,0,0,0,0,0,0,0,0,0,0,0,0,0,0,0,0,0,0,0,0,0,0,0,0,0,0,0,0,0,0,0,0,0,0,0,0,0,0,0,0,0,0,0,0,0,0,0,0,0,0,0,0,0,0,0,0,0,0,0,0,0,0,0,0,0,0,0,0,0,0,0,0,0,0,0,0,0,0,0,0,0,0,0,0,0,0,0,0,0,0,0,0,0,0,0,0,0,0,0,0,0,0,0,0,0,0,0,0,0,0,0,0,0,0,0,0,0,0,0,0,0,0,0,0,0,0,0,0,0,0,0,0,0,0,0,0,0,0,0,0,0,0,0,0,0,0,0,0,0,0,0,0,0,0,0,0,0,0,0,0,0,0,0,0,0,0,0,0,0,0,0,0,0,0,0,0,0,0,0,0,0,0,0,0,0,0,0,0,0,0,0,0,0,0,0,0,0,0,0,0,0,0,0,0,0,0,0,0,0,0,0,0,0,0,0,0,0,0,0,0,0,0,0,0,0,0,0,0,0,0,0,0,0,0,0,0,0,0,0,0,0,0,0,0,0,0,0,0,0,0,0,0,0,0,0,0,0,0,0,0,0,0,0,0,0,0,0,0,0,0,0,0,0,0,0,0,0,0,0,0,0,0,0,0,0,0,0,0,0,0,0,0,0,0,0,0,0,0,0,0,0,0,0,0,0,0,0,0,0,0,0,0,0,0,0,0,0,0,0,0,0,0,0,0,0,0,0,0,0,0,0,0,0,0,0,0,0,0,0,0,0,0,0,0,0,0,0,0,0,0,0,0,0,0,0,0,0,0,0,0,0,0,0,0,0,0,0,0,0,0,0,0,0,0,0,0,0,0,0,0,0,0,0,0,0,0,0,0,0,0,0,0,0,2037,0,0,0,45,0,0,0,0,47,0,0,0,0,0,0,0,683,0,0,0,154,171,0,0,0,0,0,0,0,13,0,0,0,110,210,0,0,0,0,0,0,0,0,0,0,0,0,0,0,0,0,350,623,0,0,0,0,0,0,0,0,0,0,0,0,0,442,0,0,153,0,0,0,0,0,0,32,49,0,38,0,0,0,406,0,0,0,0,0,303,0,0,0,0,0,0,0,0,0,0,0,0,0,0,877,0,0,0,0,0,0,591,0,0,218,68,0,0,0,0,0,523,0,0,0,0,0,0,0,0,0,0,0,0,0,0,0,0,0,0,192,0,0,0,0,0,0,0,0,0,0,0,0,0,0,0,0,0,0,0,0,105,0,0,0,0,0,901,0,167,0,0,0,0,0,0,0,0,0,0,0,0,0,0,0,0,0,98,0,0,0,0,0,0,0,0,0,0,832,0,0,0,0,448,0,0,0,0,0,107,0,0,0,0,0,0,0,921,0,420,0,198,0,0,0,0,0,0,0,0,0,0,0,0,0,0,368,0,0,348,0,0,433,0,0,0,0,0,0,0,0,0,0,0,0,276,0,0,0,0,0,0,0,0,0,0,0,0,0,79,0,0,0,0,0,0,0,0,0,0,0,0,0,0,0,0,0,0,293,0,0,0,0,0,0,0,0,0,0,0,0,381,0,0,0,0,0,0,0,0,0,0,0,0,0,0,0,0,0,0,363,0,0,0,0,0,0,0,0,1015,0,0,0,0,0,44,0,0,0,0,0,0,0,44,0,0,317,0,0,0,0,0,0,0,0,0,0,0,0,0,0,0,0,0,0,0,0,0,0,0,0,0,0,0,1044,0,0,0,0,0,0,0,0,0,0,0,0,0,0,0,0,0,0,0,0,1219,0,0,284,0,0,0,344,0,0,0,90,0,0,0,0,0,0,0,0,0,0,0,0,0,0,0,0,0,0,0,0,0,0,0,0,0,0,0,0,0,0,0,292,0,0,0,0,0,0,0,0,0,0,0,0,0,0,0,460,0,0,0,0,0,0,0,0,0,0,0,0,0,0,0,0,0,0,735,0,0,0,0,0,0,0,0,0,0,0,0,0,84,157,0,0,0,0,0,0,0,0,0,0,0],\"type\":\"scatter\"}],                        {\"template\":{\"data\":{\"histogram2dcontour\":[{\"type\":\"histogram2dcontour\",\"colorbar\":{\"outlinewidth\":0,\"ticks\":\"\"},\"colorscale\":[[0.0,\"#0d0887\"],[0.1111111111111111,\"#46039f\"],[0.2222222222222222,\"#7201a8\"],[0.3333333333333333,\"#9c179e\"],[0.4444444444444444,\"#bd3786\"],[0.5555555555555556,\"#d8576b\"],[0.6666666666666666,\"#ed7953\"],[0.7777777777777778,\"#fb9f3a\"],[0.8888888888888888,\"#fdca26\"],[1.0,\"#f0f921\"]]}],\"choropleth\":[{\"type\":\"choropleth\",\"colorbar\":{\"outlinewidth\":0,\"ticks\":\"\"}}],\"histogram2d\":[{\"type\":\"histogram2d\",\"colorbar\":{\"outlinewidth\":0,\"ticks\":\"\"},\"colorscale\":[[0.0,\"#0d0887\"],[0.1111111111111111,\"#46039f\"],[0.2222222222222222,\"#7201a8\"],[0.3333333333333333,\"#9c179e\"],[0.4444444444444444,\"#bd3786\"],[0.5555555555555556,\"#d8576b\"],[0.6666666666666666,\"#ed7953\"],[0.7777777777777778,\"#fb9f3a\"],[0.8888888888888888,\"#fdca26\"],[1.0,\"#f0f921\"]]}],\"heatmap\":[{\"type\":\"heatmap\",\"colorbar\":{\"outlinewidth\":0,\"ticks\":\"\"},\"colorscale\":[[0.0,\"#0d0887\"],[0.1111111111111111,\"#46039f\"],[0.2222222222222222,\"#7201a8\"],[0.3333333333333333,\"#9c179e\"],[0.4444444444444444,\"#bd3786\"],[0.5555555555555556,\"#d8576b\"],[0.6666666666666666,\"#ed7953\"],[0.7777777777777778,\"#fb9f3a\"],[0.8888888888888888,\"#fdca26\"],[1.0,\"#f0f921\"]]}],\"heatmapgl\":[{\"type\":\"heatmapgl\",\"colorbar\":{\"outlinewidth\":0,\"ticks\":\"\"},\"colorscale\":[[0.0,\"#0d0887\"],[0.1111111111111111,\"#46039f\"],[0.2222222222222222,\"#7201a8\"],[0.3333333333333333,\"#9c179e\"],[0.4444444444444444,\"#bd3786\"],[0.5555555555555556,\"#d8576b\"],[0.6666666666666666,\"#ed7953\"],[0.7777777777777778,\"#fb9f3a\"],[0.8888888888888888,\"#fdca26\"],[1.0,\"#f0f921\"]]}],\"contourcarpet\":[{\"type\":\"contourcarpet\",\"colorbar\":{\"outlinewidth\":0,\"ticks\":\"\"}}],\"contour\":[{\"type\":\"contour\",\"colorbar\":{\"outlinewidth\":0,\"ticks\":\"\"},\"colorscale\":[[0.0,\"#0d0887\"],[0.1111111111111111,\"#46039f\"],[0.2222222222222222,\"#7201a8\"],[0.3333333333333333,\"#9c179e\"],[0.4444444444444444,\"#bd3786\"],[0.5555555555555556,\"#d8576b\"],[0.6666666666666666,\"#ed7953\"],[0.7777777777777778,\"#fb9f3a\"],[0.8888888888888888,\"#fdca26\"],[1.0,\"#f0f921\"]]}],\"surface\":[{\"type\":\"surface\",\"colorbar\":{\"outlinewidth\":0,\"ticks\":\"\"},\"colorscale\":[[0.0,\"#0d0887\"],[0.1111111111111111,\"#46039f\"],[0.2222222222222222,\"#7201a8\"],[0.3333333333333333,\"#9c179e\"],[0.4444444444444444,\"#bd3786\"],[0.5555555555555556,\"#d8576b\"],[0.6666666666666666,\"#ed7953\"],[0.7777777777777778,\"#fb9f3a\"],[0.8888888888888888,\"#fdca26\"],[1.0,\"#f0f921\"]]}],\"mesh3d\":[{\"type\":\"mesh3d\",\"colorbar\":{\"outlinewidth\":0,\"ticks\":\"\"}}],\"scatter\":[{\"fillpattern\":{\"fillmode\":\"overlay\",\"size\":10,\"solidity\":0.2},\"type\":\"scatter\"}],\"parcoords\":[{\"type\":\"parcoords\",\"line\":{\"colorbar\":{\"outlinewidth\":0,\"ticks\":\"\"}}}],\"scatterpolargl\":[{\"type\":\"scatterpolargl\",\"marker\":{\"colorbar\":{\"outlinewidth\":0,\"ticks\":\"\"}}}],\"bar\":[{\"error_x\":{\"color\":\"#2a3f5f\"},\"error_y\":{\"color\":\"#2a3f5f\"},\"marker\":{\"line\":{\"color\":\"#E5ECF6\",\"width\":0.5},\"pattern\":{\"fillmode\":\"overlay\",\"size\":10,\"solidity\":0.2}},\"type\":\"bar\"}],\"scattergeo\":[{\"type\":\"scattergeo\",\"marker\":{\"colorbar\":{\"outlinewidth\":0,\"ticks\":\"\"}}}],\"scatterpolar\":[{\"type\":\"scatterpolar\",\"marker\":{\"colorbar\":{\"outlinewidth\":0,\"ticks\":\"\"}}}],\"histogram\":[{\"marker\":{\"pattern\":{\"fillmode\":\"overlay\",\"size\":10,\"solidity\":0.2}},\"type\":\"histogram\"}],\"scattergl\":[{\"type\":\"scattergl\",\"marker\":{\"colorbar\":{\"outlinewidth\":0,\"ticks\":\"\"}}}],\"scatter3d\":[{\"type\":\"scatter3d\",\"line\":{\"colorbar\":{\"outlinewidth\":0,\"ticks\":\"\"}},\"marker\":{\"colorbar\":{\"outlinewidth\":0,\"ticks\":\"\"}}}],\"scattermapbox\":[{\"type\":\"scattermapbox\",\"marker\":{\"colorbar\":{\"outlinewidth\":0,\"ticks\":\"\"}}}],\"scatterternary\":[{\"type\":\"scatterternary\",\"marker\":{\"colorbar\":{\"outlinewidth\":0,\"ticks\":\"\"}}}],\"scattercarpet\":[{\"type\":\"scattercarpet\",\"marker\":{\"colorbar\":{\"outlinewidth\":0,\"ticks\":\"\"}}}],\"carpet\":[{\"aaxis\":{\"endlinecolor\":\"#2a3f5f\",\"gridcolor\":\"white\",\"linecolor\":\"white\",\"minorgridcolor\":\"white\",\"startlinecolor\":\"#2a3f5f\"},\"baxis\":{\"endlinecolor\":\"#2a3f5f\",\"gridcolor\":\"white\",\"linecolor\":\"white\",\"minorgridcolor\":\"white\",\"startlinecolor\":\"#2a3f5f\"},\"type\":\"carpet\"}],\"table\":[{\"cells\":{\"fill\":{\"color\":\"#EBF0F8\"},\"line\":{\"color\":\"white\"}},\"header\":{\"fill\":{\"color\":\"#C8D4E3\"},\"line\":{\"color\":\"white\"}},\"type\":\"table\"}],\"barpolar\":[{\"marker\":{\"line\":{\"color\":\"#E5ECF6\",\"width\":0.5},\"pattern\":{\"fillmode\":\"overlay\",\"size\":10,\"solidity\":0.2}},\"type\":\"barpolar\"}],\"pie\":[{\"automargin\":true,\"type\":\"pie\"}]},\"layout\":{\"autotypenumbers\":\"strict\",\"colorway\":[\"#636efa\",\"#EF553B\",\"#00cc96\",\"#ab63fa\",\"#FFA15A\",\"#19d3f3\",\"#FF6692\",\"#B6E880\",\"#FF97FF\",\"#FECB52\"],\"font\":{\"color\":\"#2a3f5f\"},\"hovermode\":\"closest\",\"hoverlabel\":{\"align\":\"left\"},\"paper_bgcolor\":\"white\",\"plot_bgcolor\":\"#E5ECF6\",\"polar\":{\"bgcolor\":\"#E5ECF6\",\"angularaxis\":{\"gridcolor\":\"white\",\"linecolor\":\"white\",\"ticks\":\"\"},\"radialaxis\":{\"gridcolor\":\"white\",\"linecolor\":\"white\",\"ticks\":\"\"}},\"ternary\":{\"bgcolor\":\"#E5ECF6\",\"aaxis\":{\"gridcolor\":\"white\",\"linecolor\":\"white\",\"ticks\":\"\"},\"baxis\":{\"gridcolor\":\"white\",\"linecolor\":\"white\",\"ticks\":\"\"},\"caxis\":{\"gridcolor\":\"white\",\"linecolor\":\"white\",\"ticks\":\"\"}},\"coloraxis\":{\"colorbar\":{\"outlinewidth\":0,\"ticks\":\"\"}},\"colorscale\":{\"sequential\":[[0.0,\"#0d0887\"],[0.1111111111111111,\"#46039f\"],[0.2222222222222222,\"#7201a8\"],[0.3333333333333333,\"#9c179e\"],[0.4444444444444444,\"#bd3786\"],[0.5555555555555556,\"#d8576b\"],[0.6666666666666666,\"#ed7953\"],[0.7777777777777778,\"#fb9f3a\"],[0.8888888888888888,\"#fdca26\"],[1.0,\"#f0f921\"]],\"sequentialminus\":[[0.0,\"#0d0887\"],[0.1111111111111111,\"#46039f\"],[0.2222222222222222,\"#7201a8\"],[0.3333333333333333,\"#9c179e\"],[0.4444444444444444,\"#bd3786\"],[0.5555555555555556,\"#d8576b\"],[0.6666666666666666,\"#ed7953\"],[0.7777777777777778,\"#fb9f3a\"],[0.8888888888888888,\"#fdca26\"],[1.0,\"#f0f921\"]],\"diverging\":[[0,\"#8e0152\"],[0.1,\"#c51b7d\"],[0.2,\"#de77ae\"],[0.3,\"#f1b6da\"],[0.4,\"#fde0ef\"],[0.5,\"#f7f7f7\"],[0.6,\"#e6f5d0\"],[0.7,\"#b8e186\"],[0.8,\"#7fbc41\"],[0.9,\"#4d9221\"],[1,\"#276419\"]]},\"xaxis\":{\"gridcolor\":\"white\",\"linecolor\":\"white\",\"ticks\":\"\",\"title\":{\"standoff\":15},\"zerolinecolor\":\"white\",\"automargin\":true,\"zerolinewidth\":2},\"yaxis\":{\"gridcolor\":\"white\",\"linecolor\":\"white\",\"ticks\":\"\",\"title\":{\"standoff\":15},\"zerolinecolor\":\"white\",\"automargin\":true,\"zerolinewidth\":2},\"scene\":{\"xaxis\":{\"backgroundcolor\":\"#E5ECF6\",\"gridcolor\":\"white\",\"linecolor\":\"white\",\"showbackground\":true,\"ticks\":\"\",\"zerolinecolor\":\"white\",\"gridwidth\":2},\"yaxis\":{\"backgroundcolor\":\"#E5ECF6\",\"gridcolor\":\"white\",\"linecolor\":\"white\",\"showbackground\":true,\"ticks\":\"\",\"zerolinecolor\":\"white\",\"gridwidth\":2},\"zaxis\":{\"backgroundcolor\":\"#E5ECF6\",\"gridcolor\":\"white\",\"linecolor\":\"white\",\"showbackground\":true,\"ticks\":\"\",\"zerolinecolor\":\"white\",\"gridwidth\":2}},\"shapedefaults\":{\"line\":{\"color\":\"#2a3f5f\"}},\"annotationdefaults\":{\"arrowcolor\":\"#2a3f5f\",\"arrowhead\":0,\"arrowwidth\":1},\"geo\":{\"bgcolor\":\"white\",\"landcolor\":\"#E5ECF6\",\"subunitcolor\":\"white\",\"showland\":true,\"showlakes\":true,\"lakecolor\":\"white\"},\"title\":{\"x\":0.05},\"mapbox\":{\"style\":\"light\"}}},\"xaxis\":{\"title\":{\"text\":\"Fragment size\"}},\"yaxis\":{\"title\":{\"text\":\"Count\"},\"type\":\"log\"},\"width\":600,\"height\":400},                        {\"responsive\": true}                    ).then(function(){\n",
              "                            \n",
              "var gd = document.getElementById('38445de5-1951-46ea-8bdd-4c83114dcd94');\n",
              "var x = new MutationObserver(function (mutations, observer) {{\n",
              "        var display = window.getComputedStyle(gd).display;\n",
              "        if (!display || display === 'none') {{\n",
              "            console.log([gd, 'removed!']);\n",
              "            Plotly.purge(gd);\n",
              "            observer.disconnect();\n",
              "        }}\n",
              "}});\n",
              "\n",
              "// Listen for the removal of the full notebook cells\n",
              "var notebookContainer = gd.closest('#notebook-container');\n",
              "if (notebookContainer) {{\n",
              "    x.observe(notebookContainer, {childList: true});\n",
              "}}\n",
              "\n",
              "// Listen for the clearing of the current output cell\n",
              "var outputEl = gd.closest('.output');\n",
              "if (outputEl) {{\n",
              "    x.observe(outputEl, {childList: true});\n",
              "}}\n",
              "\n",
              "                        })                };                            </script>        </div>\n",
              "</body>\n",
              "</html>"
            ]
          },
          "metadata": {}
        }
      ]
    },
    {
      "cell_type": "markdown",
      "source": [
        "In both figures above, we see that the data has been pre-filtered by the authors."
      ],
      "metadata": {
        "id": "2gFiyiX4b0mu"
      }
    },
    {
      "cell_type": "markdown",
      "source": [
        "We next create a cell by bin matrix containing insertion counts across genome-wide 500-bp bins using the add_tile_matrix() module."
      ],
      "metadata": {
        "id": "i6gwqhO_byyC"
      }
    },
    {
      "cell_type": "code",
      "source": [
        "snap.pp.add_tile_matrix(fragment_data)"
      ],
      "metadata": {
        "id": "UKzNUxcdxcQj"
      },
      "execution_count": null,
      "outputs": []
    },
    {
      "cell_type": "markdown",
      "source": [
        "Next, we perform feature selection using pp.select_features(). The result is stored in data.var['selected'] and will be automatically utilized by relevant functions such as pp.scrublet() and tl.spectral().\n",
        "\n",
        "The default feature selection algorithm chooses the most accessible features. The n_features parameter determines the number of features or bins used in subsequent analysis steps. Generally, including more features improves resolution and reveals finer details, but it may also introduce noise. To optimize results, experiment with the n_features parameter to find the most appropriate value for your specific dataset."
      ],
      "metadata": {
        "id": "rf4OhL-_cIIz"
      }
    },
    {
      "cell_type": "code",
      "source": [
        "snap.pp.select_features(fragment_data, n_features=200)"
      ],
      "metadata": {
        "id": "p-FilnzLxdJc"
      },
      "execution_count": null,
      "outputs": []
    },
    {
      "cell_type": "markdown",
      "source": [
        "#7. Clustering\n",
        "\n",
        "Lastly, we'll illustrate how the this data can be clustered.\n",
        "\n",
        "To calculate the lower-dimensional representation of single-cell chromatin profiles, the SnapATAC2 library employs spectral embedding for dimensionality reduction. The resulting data is stored in data.obsm['X_spectral']. Comprehensive information about the dimension reduction algorithm we utilize can be found in their [algorithm documentation](https://kzhang.org/epigenomics-analysis/dim_reduct.html)."
      ],
      "metadata": {
        "id": "Y6Y1A6I6cfPQ"
      }
    },
    {
      "cell_type": "code",
      "source": [
        "snap.tl.spectral(fragment_data,)"
      ],
      "metadata": {
        "id": "gYTyozqyxmVi"
      },
      "execution_count": null,
      "outputs": []
    },
    {
      "cell_type": "code",
      "source": [
        "fragment_data"
      ],
      "metadata": {
        "colab": {
          "base_uri": "https://localhost:8080/"
        },
        "id": "91ZnqFYq7dTw",
        "outputId": "7cd94517-92f0-4462-a50e-2977a0e19088"
      },
      "execution_count": null,
      "outputs": [
        {
          "output_type": "execute_result",
          "data": {
            "text/plain": [
              "AnnData object with n_obs × n_vars = 5907 × 6062095\n",
              "    obs: 'n_fragment', 'frac_dup', 'frac_mito', 'leiden', 'Ctype'\n",
              "    var: 'count', 'selected'\n",
              "    uns: 'reference_sequences', 'frag_size_distr', 'spectral_eigenvalue'\n",
              "    obsm: 'fragment_paired', 'X_spectral', 'X_umap'\n",
              "    obsp: 'distances'"
            ]
          },
          "metadata": {},
          "execution_count": 37
        }
      ]
    },
    {
      "cell_type": "markdown",
      "source": [
        "We then use UMAP to embed the cells to 2-dimension space for visualization purpose. This step will have to be run after snap.tl.spectral as it uses the lower dimesnional representation created by the spectral embedding."
      ],
      "metadata": {
        "id": "Y9ikuqncdFKU"
      }
    },
    {
      "cell_type": "code",
      "source": [
        "snap.tl.umap(fragment_data)"
      ],
      "metadata": {
        "colab": {
          "base_uri": "https://localhost:8080/"
        },
        "id": "TFblzffmxsev",
        "outputId": "6e3a58bd-e157-4a43-e256-14b8b951dfdd"
      },
      "execution_count": null,
      "outputs": [
        {
          "output_type": "stream",
          "name": "stderr",
          "text": [
            "/usr/local/lib/python3.10/dist-packages/umap/umap_.py:1952: UserWarning:\n",
            "\n",
            "n_jobs value 1 overridden to 1 by setting random_state. Use no seed for parallelism.\n",
            "\n"
          ]
        }
      ]
    },
    {
      "cell_type": "markdown",
      "source": [
        "We next perform graph-based clustering to identify cell clusters. We first build a k-nearest neighbour graph using snap.pp.knn, and then use the Leiden community detection algorithm to identify densely-connected subgraphs/clusters in the graph."
      ],
      "metadata": {
        "id": "JJsXDv_ceSyW"
      }
    },
    {
      "cell_type": "code",
      "source": [
        "snap.pp.knn(fragment_data, n_neighbors=12)\n",
        "snap.tl.leiden(fragment_data)"
      ],
      "metadata": {
        "id": "Mz5BVFcxyxKN"
      },
      "execution_count": null,
      "outputs": []
    },
    {
      "cell_type": "markdown",
      "source": [
        "Lastly, we're able to plot our clustering results."
      ],
      "metadata": {
        "id": "vxKPL7lbeXHo"
      }
    },
    {
      "cell_type": "code",
      "source": [
        "snap.pl.umap(fragment_data, color='leiden', interactive=True, height=500, width=800)"
      ],
      "metadata": {
        "colab": {
          "base_uri": "https://localhost:8080/",
          "height": 517
        },
        "id": "1gO1En5ryqW4",
        "outputId": "07fbfec4-18e1-401c-c2b7-8920965a0c7c"
      },
      "execution_count": null,
      "outputs": [
        {
          "output_type": "display_data",
          "data": {
            "text/html": [
              "<html>\n",
              "<head><meta charset=\"utf-8\" /></head>\n",
              "<body>\n",
              "    <div>            <script src=\"https://cdnjs.cloudflare.com/ajax/libs/mathjax/2.7.5/MathJax.js?config=TeX-AMS-MML_SVG\"></script><script type=\"text/javascript\">if (window.MathJax && window.MathJax.Hub && window.MathJax.Hub.Config) {window.MathJax.Hub.Config({SVG: {font: \"STIX-Web\"}});}</script>                <script type=\"text/javascript\">window.PlotlyConfig = {MathJaxConfig: 'local'};</script>\n",
              "        <script charset=\"utf-8\" src=\"https://cdn.plot.ly/plotly-2.35.2.min.js\"></script>                <div id=\"2eef5174-d7a5-44c5-92dd-255623491f98\" class=\"plotly-graph-div\" style=\"height:500px; width:800px;\"></div>            <script type=\"text/javascript\">                                    window.PLOTLYENV=window.PLOTLYENV || {};                                    if (document.getElementById(\"2eef5174-d7a5-44c5-92dd-255623491f98\")) {                    Plotly.newPlot(                        \"2eef5174-d7a5-44c5-92dd-255623491f98\",                        [{\"hovertemplate\":\"leiden=0\\u003cbr\\u003eUMAP-1=%{x}\\u003cbr\\u003eUMAP-2=%{y}\\u003cextra\\u003e\\u003c\\u002fextra\\u003e\",\"legendgroup\":\"0\",\"marker\":{\"color\":\"#2E91E5\",\"symbol\":\"circle\",\"opacity\":1,\"size\":1.6595828228137197},\"mode\":\"markers\",\"name\":\"0\",\"showlegend\":true,\"x\":[4.9098787,5.3153043,4.562733,5.849425,4.9281435,5.030759,8.464119,7.37753,4.8970785,4.1125364,4.8547864,5.082797,5.1630383,4.940261,5.113708,5.893478,4.6537414,5.6511893,5.307198,4.9724064,7.1542206,5.3369107,5.531443,5.2611284,5.5470424,4.8373265,4.852938,5.537121,5.210355,5.346546,5.2268796,5.3596764,5.278818,5.1744905,5.061162,4.301504,5.055445,5.0515537,5.7816424,5.4378657,5.3342423,4.903394,5.403709,5.264806,4.6773067,4.209225,6.1611557,5.124379,5.70608,5.0791636,4.6673813,5.2175856,5.067756,5.0985355,4.914941,4.510026,5.3321733,4.753804,4.8987045,4.887038,4.767103,5.568799,4.9913745,4.4510264,5.199869,4.910298,4.414923,5.239964,5.0397787,5.313667,5.35514,1.7875589,4.341763,4.7058816,5.434071,5.555402,5.032275,4.804811,5.5326285,5.13053,5.290311,5.528087,5.075367,5.275243,4.937305,4.963588,4.834981,5.163632,5.0131807,5.1855216,5.1972775,5.172397,5.4940233,7.8507266,5.151593,5.2334256,5.126363,5.1706543,5.346787,4.889905,4.772573,5.2854934,5.221945,5.289518,4.9339213,5.299185,3.412908,6.4571385,4.687597,5.298909,5.493294,4.9225016,4.8981247,4.848756,5.2084627,5.0673156,4.740602,5.3730006,4.684239,4.266293,5.401278,5.3975453,4.829344,5.04312,4.788591,5.251017,4.771363,4.545791,4.67816,4.634461,4.653634,5.2062464,5.5721326,4.3865523,4.779857,5.129843,5.035713,5.0965433,5.225411,4.3384633,5.509385,5.2253313,5.2336955,4.7964525,5.325038,5.289425,4.7630115,4.663815,5.397481,5.1307807,5.2614827,4.802432,4.9726634,4.7018547,5.643348,4.857641,5.2293525,5.036154,4.1993217,5.1498017,4.612145,4.5140996,4.952006,5.578074,4.435158,5.762972,4.82835,5.384301,5.402028,6.085037,5.436827,5.34621,5.061644,5.252882,4.984844,4.7612553,5.2294416,4.9137063,5.0133348,5.2784195,8.846577,5.2524905,4.613523,5.4085646,5.1636386,5.279719,5.549636,5.218544,5.226228,5.14628,5.462351,5.2683935,5.703854,5.2035003,6.002047,4.7912135,5.2110434,5.038515,5.190767,5.46609,4.6810365,5.1244807,4.626262,5.4311547,5.376871,4.5132475,4.521979,4.9714813,3.674956,4.6537466,5.675545,4.520068,5.2888503,5.2195506,5.450283,5.7596807,9.243542,4.751606,5.2715364,5.5528903,5.014413,5.3452044,5.8639646,4.7624445,5.3792024,4.687596,4.7894745,4.8929086,5.02653,1.9508883,4.8960085,4.849038,4.8883367,5.2890115,5.4562483,5.293157,5.604097,4.936153,4.81675,5.1069717,5.672109,5.0427814,4.902167,5.4721994,4.213995,5.8528633,5.175954,4.879514,5.188158,5.870894,4.8417816,4.298395,4.934554,6.1090274,5.033723,5.8790846,4.74385,4.277677,4.747289,4.900258,5.2945423,5.32262,5.594863,4.8938756,5.199902,5.4726653,5.0787997,4.9785585,4.677101,4.843844,4.931406,4.9187226,5.3750305,5.183858,5.9232078,5.07225,4.7623177,5.185182,5.417915,4.9796133,5.5729613,5.209865,9.229867,4.9961004,4.527662,5.144287,5.34853,5.2228656,4.9943495,4.605921,5.2060437,5.372256,4.5165873,5.435069,5.7002068,4.8288455,5.0771728,5.1488485,5.0142474,5.4842534,4.9437976,5.3104672,5.645283,4.9952755,5.5725846,4.8763475,4.4702997,6.138463,5.3012753,4.2699847,5.711325,4.9803414,5.194376,5.015114,7.71883,5.122946,4.800372,5.0082374,5.396206,5.616444,5.3229203,5.469777,4.290491,5.0041947,5.149785,5.0442123,4.8664517,4.9611053,4.522158,4.888721,5.3078294,5.3703866,5.907283,5.2272773,4.45518,4.806668,4.2077956,4.894189,9.900889,4.77029,5.3757925,4.7482533,4.6573834,4.8536015,5.3365617,4.7348228,7.297864,4.991925,5.0009656,5.048377,5.640866,5.605807,5.268553,5.361629,5.568058,5.2574754,4.684389,4.6186156,4.94868,9.795201,5.0110164,5.3771834,4.5760303,5.3108273,5.0769606,5.084266,5.5165877,4.9492927,4.8504186,5.35421,5.2618093,5.015981,6.135309,3.4642575,5.365163,4.6984625,4.881027,5.286148,5.1864295,4.394845,4.9468193,5.5541553,5.436262,3.9693375,4.595915,5.0171504,5.4250417,5.313056,4.9522185,5.301459,5.1757355,5.0136166,5.01113,4.938003,5.7976604,5.0231094,4.89893,5.709831,5.0857735,6.199784,5.117732,5.033466,5.2782,4.7102866,5.091494,4.4330606,5.2474475,4.8714643,8.564849,4.9735703,5.57109,7.7048903,5.8317194,4.848406,5.3550067,5.1846504,5.4268622,4.9416995,5.488403,5.358049,5.161186,5.193571,4.881271,5.321787,4.0225573,4.48442,4.6816745,5.3028884,5.3441415,4.926982,4.286422,5.2945147,5.297876,5.3485913,5.4482026,7.1810355,5.9257827,4.758044,5.411029,5.663306,5.2145405,4.9378524,5.5609207,5.1001215,5.750232,4.5088096,5.2618413,4.9696474,8.537408,5.168571,5.4910254,5.1191487,5.5305243,5.011563],\"xaxis\":\"x\",\"y\":[10.085555,10.044119,9.062299,8.466963,8.2265625,8.936807,8.736787,8.875727,10.477231,5.737262,8.847769,10.1608715,7.959216,8.815571,9.982527,7.6884727,8.080021,8.924126,8.571835,10.332159,8.795491,8.594701,8.178456,8.994475,7.9948773,9.062097,8.740723,8.343941,9.007754,8.430149,9.012913,6.5031223,10.109173,10.057175,9.990268,9.405509,8.78177,8.895512,8.6567335,8.904941,8.355065,9.046589,8.928594,8.425708,9.265766,9.471485,7.12618,8.638134,8.032394,8.714629,7.2292504,10.086085,8.043567,9.140031,10.431401,9.239727,8.640025,9.091512,8.698645,8.133803,9.118106,9.172888,9.345213,9.257546,8.509023,8.986463,9.28345,10.090992,10.113332,8.960941,8.980946,9.641612,9.381528,7.9659796,9.988101,8.323762,10.140596,9.147857,8.375703,7.6710453,9.850571,8.599144,8.774326,8.9851465,8.866098,8.840199,9.1696415,8.915879,8.241454,9.521911,8.91409,8.7681,9.711346,8.517048,9.483292,8.601769,8.061077,8.202352,8.968184,8.670017,9.22229,8.47954,9.049272,9.895269,7.8600755,9.961418,10.976404,8.505713,9.28444,9.997463,8.761608,9.096485,8.13025,8.705094,8.068509,10.192456,8.112828,8.394693,9.09175,9.43291,8.66445,8.958987,8.18722,10.026517,9.177704,9.042434,8.1318245,9.096771,7.8397036,7.4468274,8.849004,8.5740595,8.660991,9.320056,10.13758,8.840134,10.189127,8.99743,9.348561,9.395915,8.603291,8.285468,9.028925,9.393172,9.956365,9.97633,8.488717,9.271181,9.7725115,7.868851,10.052307,8.6061535,10.338214,8.786769,9.007715,8.227582,8.774076,9.464454,9.479929,10.14844,9.27737,9.265597,9.072824,9.5004635,9.301742,8.496557,9.447254,8.864262,9.764078,8.907553,9.873009,10.016929,8.771123,9.554209,9.45269,8.938339,7.8146415,8.815115,8.844936,9.621953,8.250909,8.819521,9.114611,9.020554,8.912876,8.78972,6.9940524,7.5792575,8.190422,8.858683,7.8586903,10.107721,8.654253,8.592125,6.7096376,9.1289015,9.174081,6.595266,8.998368,6.803501,8.993704,8.032734,8.998229,8.412873,9.975765,9.162255,9.33427,9.793644,7.739875,8.818539,8.377591,9.256862,8.907863,8.587656,8.294168,8.340439,8.145273,8.120604,9.204419,8.62438,9.01429,10.022738,8.480526,8.156303,9.883966,9.052927,8.738377,10.1904545,8.921803,9.725888,10.477053,8.771692,9.128454,9.782942,8.382945,8.87094,8.356402,8.746723,8.762305,10.18838,8.992209,9.021986,8.220385,8.527677,9.478106,8.3722725,9.541109,8.610393,9.085616,8.531796,8.0755,9.414663,8.906041,6.7552776,6.474435,8.426203,6.4061646,9.4151945,8.193985,10.471481,10.038374,9.008642,8.864688,8.739954,8.158718,8.386751,9.456607,8.606099,9.147409,8.174533,8.486188,10.423334,8.879538,10.014209,8.614092,9.0775795,9.192809,8.668655,9.803538,10.299238,8.344601,8.524611,7.805819,8.880897,9.295177,9.61274,9.081472,9.441867,8.937969,9.190972,8.769897,9.306649,9.251417,8.438676,8.002635,8.03042,8.6967,8.828015,10.243783,9.959707,10.271712,7.8999295,8.432632,9.4887295,8.872719,9.036599,9.269555,7.162216,9.98389,9.430569,9.0160055,10.304229,10.129092,9.007509,6.301851,8.023727,9.102186,8.2358,8.747693,8.219462,10.123526,8.542858,9.415251,9.100353,8.905527,10.067563,8.01123,8.977209,9.2223,8.3230915,7.8009887,8.4714985,7.9129214,8.755697,9.290717,8.957509,9.471515,10.481957,9.192872,8.841697,8.989488,8.223818,9.236085,8.932021,9.88387,6.3503356,6.5799537,9.109353,8.736884,8.710901,8.826036,9.941798,8.997754,9.259301,7.9724307,9.050947,9.231962,9.158135,8.1909485,6.8546853,9.11614,8.711652,9.122105,7.661516,8.674637,8.724935,8.375319,9.127908,8.671789,8.461221,9.99403,8.830201,7.458467,10.979326,8.47707,8.790908,8.801394,10.082271,9.243022,9.345108,8.347489,9.671611,10.058301,5.776035,9.202307,8.748959,8.514237,9.756,8.822953,8.395548,9.251304,10.289125,7.7147527,10.279473,8.352894,9.078544,9.035143,7.8780413,10.167968,7.6348414,8.858389,8.834177,8.812105,8.025933,8.824355,9.298726,9.125238,9.185659,8.483656,8.772291,8.327799,6.5863733,8.395785,9.458454,7.576419,8.932401,10.024825,8.746835,9.59269,8.652584,9.739357,8.942933,8.840596,9.911109,5.752265,9.052939,8.782227,8.78154,8.792297,8.300956,9.419296,8.758042,10.106802,8.893227,8.566854,8.732682,7.5660706,8.2396345,9.9383955,8.528906,9.050946,8.782879,8.693839,10.019997,8.515029,7.7243156,9.629245,10.182012,8.554061,7.8714833,7.1971545,9.97642,8.709048,7.8844523],\"yaxis\":\"y\",\"type\":\"scattergl\"},{\"hovertemplate\":\"leiden=1\\u003cbr\\u003eUMAP-1=%{x}\\u003cbr\\u003eUMAP-2=%{y}\\u003cextra\\u003e\\u003c\\u002fextra\\u003e\",\"legendgroup\":\"1\",\"marker\":{\"color\":\"#E15F99\",\"symbol\":\"circle\",\"opacity\":1,\"size\":1.6595828228137197},\"mode\":\"markers\",\"name\":\"1\",\"showlegend\":true,\"x\":[5.6919603,5.4704337,1.8823651,5.103019,5.02588,5.121811,5.531304,4.664597,3.3858817,5.445928,5.642419,5.1668973,5.4185715,4.3367267,5.167324,5.500677,5.348944,5.219493,3.1637812,5.1562867,3.5468569,5.641133,5.18367,5.714267,5.6619663,5.5309906,5.3989916,4.373122,5.2375793,5.5974646,5.427573,4.8109355,5.423405,5.1489325,5.1531606,5.2806745,5.188783,5.8418875,5.46252,4.8906817,5.829759,5.703164,5.077393,5.386042,5.4714155,5.7126307,3.0078535,5.1737075,5.7146363,4.314183,5.521775,5.988586,5.006177,5.2081504,5.1924553,4.795762,5.282206,5.285425,5.477217,3.3106363,5.476245,3.2748177,5.9580784,5.169479,3.2021055,5.1365237,5.222645,8.876523,5.1414175,5.7362833,5.564306,5.198776,3.381981,5.2583923,5.0204144,5.888625,4.7879753,5.463252,5.5795226,5.5501156,5.077655,5.490101,4.813939,5.1391315,4.8338385,4.792192,3.4729674,5.575194,5.336223,5.869716,4.8005266,5.3738675,3.1475592,3.1538177,4.2348757,5.091419,3.3515277,5.178964,5.177405,5.508126,5.136722,5.2014456,5.1687517,3.0627365,5.2447886,3.2821624,5.755755,5.592293,5.517109,4.968474,5.8011484,5.523106,5.5565057,5.0931964,5.572241,4.91985,5.252561,5.495619,3.0725498,5.306605,5.348021,4.9980135,4.4306684,3.0018337,5.226878,5.1302023,5.1458817,5.135693,4.8502026,2.9856353,5.168004,4.8817554,5.137352,5.47591,5.441747,5.3047357,5.6051855,5.5995855,5.521278,5.5817776,5.350509,5.5943093,5.454377,3.0285926,4.9565015,5.680743,5.2953267,5.638871,5.133982,5.8534265,3.272408,5.3156967,4.8417525,3.202119,4.874112,5.274011,5.305011,5.4683876,5.4642677,3.2240288,5.494061,4.2725654,5.2289224,5.0786185,5.198549,4.9981813,5.361594,5.384193,5.2554135,4.2638283,5.522383,5.4135046,5.7477145,5.6763673,5.2089157,4.216914,1.9818023,3.1660619,5.934433,5.1998734,5.1877475,5.573873,5.1808505,5.5229106,5.6576805,4.793651,5.607743,5.31953,5.109117,5.324474,5.119876,5.10004,5.250575,5.131468,5.337157,5.6000814,4.5668464,5.3680887,5.4761186,5.8330503,5.5123777,4.8671393,5.1497574,5.134394,3.3946364,5.3088245,5.342516,5.2058287,4.887811,5.0250916,5.274279,5.280547,5.4094396,4.393381,5.355889,5.5578127,4.668677,3.2071888,4.638771,6.158909,3.140702,5.471334,4.939696,5.920323,5.257521,5.360336,5.08016,5.3109326,5.71305,5.4192214,5.652176,5.179269,5.175935,4.570848,5.496034,5.444114,5.4970074,5.7547483,8.991991,5.2136607,5.671229,5.180371,5.337105,5.561338,5.546495,5.205249,5.298898,4.5853806,5.1309,5.654096,5.416376,5.2287483,5.2183027,5.4645276,5.536469,4.5364485,5.6576195,5.1388164,5.4839597,5.107017,4.555443,5.849983,3.4425886,4.376801,4.682034,5.1555557,5.187378,4.34586,4.8091707,4.9953504,5.1978703,5.581043,5.494838,5.039646,5.135099,5.1937246,5.427347,5.024671,5.7159805,4.8284664,5.7270746,5.4950676,5.555688,5.0565686,4.764051,4.810016,5.586362,5.205942,5.45393,5.7694607,5.380886,5.840167,4.477045,5.1878433,5.136955,5.5394187,5.4727807,5.1670995,5.5671353,3.2910998,5.6650505,5.3138433,3.1383848,3.1624496,3.3696089,5.599691,5.5435467,5.284349,4.54343,5.3691826,3.5104194,5.294462,5.081387,5.2588553,5.0897727,5.2068443,7.8963246,5.8081074,4.843235,5.423594,5.129128,5.1622972,5.079251,5.4064894,5.173763,5.2343483,5.4553556,5.1726336,5.648633,3.4051144,4.865232,4.6604133,5.4899135,5.598045,5.0812197,5.4810514,5.446888,4.948004,4.544315,4.1022916,5.1074057,4.9160275,3.0724854,5.3149557,5.3341928,8.2152,5.1147614,5.801759,4.8098607,5.3562613,5.1322937,5.4917426,5.339813,5.123126,5.515058,5.5427384,3.3712044,5.1670337,5.1552672,3.1725295,5.12756,5.6879797,5.155687,5.3821034,3.0406418,4.4443064,5.1655107,4.86333,5.6309104,5.488583,5.693349,4.795465,5.675504,4.760838,5.424708,4.955976,5.076857,3.1339324,3.3153958,5.426261,9.715893,5.3997717,4.8574595,5.747402,5.6391363,3.0487282,5.2664356,5.553225,5.369866,4.552583,5.37721,4.9296722,5.2110314,5.199958,5.9037733,5.978842,5.40015,5.5526295,5.536985,3.4272408,4.7486696,4.981327,5.1042137,5.7419243,5.1410637,3.446041,4.6564536,5.2186027,5.5997796,6.149556,5.352064,5.6952276,5.558796,5.1457815,5.612585,5.5181894,5.8562675,7.1250186,5.560816,5.632723,4.678645,5.3422174,5.228524,3.1686919,5.2110825,9.088139,5.568781,5.2137766,5.181291,5.4080286,4.504074,5.629935,5.591028,5.382609,5.5014033,4.8038836,5.352668,5.120184,5.110006,5.1113896,3.431153,5.3612633,3.4921923,4.9760404,5.3413486,4.878594,5.2295527],\"xaxis\":\"x\",\"y\":[5.6523395,6.3088946,9.522319,5.885236,5.61804,6.178703,5.694105,5.257803,7.241091,5.980587,5.663897,5.140276,4.9256663,5.542737,4.8467054,5.676378,5.0831037,4.9420543,7.185904,4.115404,7.021091,5.089484,4.8687587,5.234054,5.4281797,5.5865393,5.3002524,5.6336756,5.8952775,5.2874136,5.230673,5.683237,4.9973593,5.0232444,5.7933893,5.0607033,4.9218307,5.0264263,5.6408305,6.0962105,5.8270073,5.6941442,3.6817985,5.1360726,5.7106442,6.531541,7.4183087,4.5676255,5.091065,5.53644,4.7594175,8.742535,5.313032,5.250963,4.439627,5.43026,4.916071,5.395247,4.825749,7.332621,5.4970207,7.273124,8.259002,4.901176,7.3600674,4.062265,5.3608165,9.328286,5.458239,4.8738427,5.488156,5.289117,6.7834344,5.0628633,4.8760843,5.3493896,5.692564,5.097917,5.365644,5.5248375,3.6864796,5.34539,6.3940682,4.772669,5.697932,5.2323494,7.251236,5.7230644,5.146657,5.2691746,5.6952224,5.1150417,7.121422,7.2155886,5.931593,5.528918,7.384712,5.21569,5.745007,4.84509,5.281239,4.7044134,5.2300253,7.2279325,5.848263,7.226606,5.7400875,4.8121667,4.91012,5.6603417,5.565372,5.5356674,5.3520746,5.4559994,4.7950907,5.509624,4.864227,4.7775817,7.271269,5.952702,5.663707,5.37765,5.5427356,7.18593,4.6508007,3.9415438,5.8607593,5.567308,6.104838,7.1853766,5.593065,6.440266,3.9581096,5.5930996,4.9875107,5.286624,5.179581,5.6792846,5.067189,4.908408,5.2038574,4.792397,5.752764,10.885976,5.46507,4.982119,5.153542,5.2672377,3.9360752,5.3721466,6.678556,5.3486657,5.5089765,10.994284,5.4192166,4.921827,5.762032,5.2454734,5.4442143,7.3085976,5.3605423,5.688035,4.7166357,3.6856525,6.007319,5.494548,5.39896,4.56744,5.844958,6.0709558,4.7950196,5.973564,5.1521187,4.83218,4.633436,6.1915536,9.404846,7.267989,5.0211744,5.6861043,5.792955,5.2676435,4.437748,5.0522346,5.632226,6.2485933,4.7003946,8.770982,3.8653288,5.9413977,4.672494,4.617522,5.1312613,3.9365568,5.0151453,4.9697328,5.3200493,4.9656425,5.2946095,5.436721,5.47702,6.02567,4.820473,3.9519806,8.05696,4.904486,4.940856,4.7550483,5.76883,5.5390644,5.0849395,6.215869,5.023366,6.1447287,5.227632,5.7568307,6.0240374,6.736792,5.2299633,8.574496,7.3311357,4.953341,5.4641485,5.124771,5.1389256,4.9586587,3.6892648,5.929528,5.600511,5.400383,5.5175834,4.1971908,6.0710325,5.6628,4.7636013,5.395807,5.1072955,5.742002,9.155877,5.7768044,5.126072,5.6258354,5.1177597,5.3150716,4.7465243,4.51029,4.934641,5.3491974,4.595429,4.7280474,5.7958755,4.856391,4.9489026,4.981406,5.3631454,5.544361,5.142538,5.562823,5.2806478,3.8891833,5.510491,5.3938384,7.2667227,5.506501,5.391555,6.036899,4.637897,5.5812078,5.0482836,5.6122193,5.7823505,4.8583674,5.3034577,5.341034,5.4568744,6.248869,5.1219344,5.563802,4.962496,5.971671,5.618319,4.7217984,4.687969,5.41074,5.2205706,5.772711,5.006481,5.1685333,4.7345448,5.068651,5.34955,8.774933,5.5100474,5.876019,3.9502466,5.532213,5.247284,4.735278,4.8664584,7.1419334,5.3041763,5.3888917,7.2220435,7.4065022,7.3133883,4.9343176,5.350814,6.0198336,5.4514375,5.3089333,7.287534,5.093409,3.7007017,4.767472,4.8657517,5.9445276,8.575756,5.537957,5.764659,5.0154214,5.7254295,4.863802,3.6849077,5.0268226,4.746433,5.471154,5.210529,4.6952567,5.0558014,7.439491,6.287116,5.510789,6.2059016,4.6973543,3.7006438,5.777084,6.533215,5.581914,5.3844743,6.269711,6.127663,5.852338,7.334201,5.022595,4.9106364,7.83716,6.111607,5.4001064,6.1989126,4.8533893,5.5926423,5.4868603,4.466742,5.54386,4.710754,5.1358867,7.293253,4.383262,4.040283,7.232424,6.016336,5.8127813,5.19471,5.625999,7.1662803,5.450051,4.6210103,5.5773687,5.883253,5.3010135,5.5400977,5.6583266,5.3644085,6.095281,5.2518706,5.216637,5.898576,7.222903,7.327427,5.8102946,7.5059986,5.038631,5.655908,5.6452274,4.938831,7.191264,4.88592,5.795513,5.684631,5.465181,4.800869,6.1003194,4.674795,6.1089177,5.321445,6.468884,4.6546516,4.696298,4.7263665,7.606402,5.3006063,6.231902,5.48475,5.529372,4.862707,7.4997706,5.280012,5.0783854,5.60402,8.297477,5.197819,5.7724843,4.8402395,3.9912975,5.6252236,5.6392236,5.559878,9.044597,5.4939156,5.0506177,5.2892804,4.5927577,5.109434,7.1241956,4.926983,7.1792765,4.778862,4.4603167,4.7866707,5.0217714,5.364427,4.98191,5.2761474,4.7969093,5.4848046,5.4129114,5.229372,5.67224,9.955868,5.266182,7.2171683,5.461747,7.206119,5.531934,4.91987,5.6179986,5.189355],\"yaxis\":\"y\",\"type\":\"scattergl\"},{\"hovertemplate\":\"leiden=2\\u003cbr\\u003eUMAP-1=%{x}\\u003cbr\\u003eUMAP-2=%{y}\\u003cextra\\u003e\\u003c\\u002fextra\\u003e\",\"legendgroup\":\"2\",\"marker\":{\"color\":\"#1CA71C\",\"symbol\":\"circle\",\"opacity\":1,\"size\":1.6595828228137197},\"mode\":\"markers\",\"name\":\"2\",\"showlegend\":true,\"x\":[7.1602025,6.9268756,7.375531,6.653098,5.5206866,5.8410826,6.9570575,6.582554,7.1150117,7.136665,7.453815,6.53622,7.380512,6.7859607,6.8102536,7.8986306,6.1194506,6.742763,6.5642514,6.8227134,7.268356,7.056331,6.8090444,6.5611115,7.1565347,7.116082,7.5550275,7.186847,6.52205,7.0540247,7.6155176,5.6346135,7.0787563,7.0699105,6.70199,6.9051948,7.587461,6.9471874,6.576379,6.8639846,7.0435634,7.241137,6.676559,6.637378,7.0871925,6.7577405,6.720385,7.3076415,6.667521,6.708665,7.5021863,6.9036374,7.213499,7.6052413,6.849905,6.8078246,7.498138,6.563987,6.6871996,6.91657,6.867386,6.7547274,7.3129587,7.5079007,7.5559144,6.7228813,7.1005197,7.739706,7.451402,7.8645754,7.263767,5.3731427,6.886224,6.603537,6.5340962,6.5204926,6.720196,6.768365,6.528507,6.9385777,5.5086393,7.1453786,7.1317124,7.47469,7.0096946,7.0123196,7.1877594,7.5685782,7.583081,6.898693,7.936426,6.7042766,7.073105,6.4785557,6.709588,6.736105,6.2493615,7.675485,6.706275,7.6812425,7.072397,7.458814,6.4773,7.276989,8.063813,7.152785,7.245815,6.839868,6.563065,6.5713906,6.8619657,6.9348154,6.570707,6.678024,8.066033,7.6878247,7.5963454,7.169164,7.2966413,7.8461986,6.4866695,6.8596697,7.898624,6.5445757,6.781397,6.74604,7.2393303,5.623257,6.3486843,7.5262556,7.099972,7.0711036,6.673929,8.624975,5.634882,7.248799,7.205855,7.3538823,7.2506385,7.2463746,6.641078,6.9440413,7.0704327,6.9944286,7.1107097,7.0159516,6.6159277,7.936503,6.8905272,6.9377065,6.550217,6.288769,7.9012933,6.4864917,7.030718,6.7889566,6.9117217,7.066087,6.5221415,6.7697654,6.842598,6.542045,9.234896,7.6828494,6.4596167,7.1127973,7.27606,6.727901,7.4093537,7.696567,6.6673384,6.450359,6.745346,7.8565497,5.617267,6.312334,9.898037,6.135298,7.897547,8.336011,6.811216,7.617344,6.8231564,6.671368,7.9369783,7.5445952,6.9057884,6.7577734,6.732372,6.887573,7.359442,5.9501147,7.1772156,6.5686884,7.87101,7.047093,7.1574693,6.572677,7.937001,6.73713,6.5624123,6.6181536,6.565626,7.7269664,7.0630116,6.7561035,7.9262776,6.659727,6.9895706,6.84509,6.6058097,7.3081775,7.3751583,5.4219327,6.5832543,7.199277,7.711751,5.4517117,6.132188,5.0680385,5.0733256,4.6449494,7.6431737,6.5229025,6.6732507,7.0398808,7.251805,7.4986033,6.9868965,8.857704,6.615455,7.0491314,6.834514,6.7767596,6.7229824,7.6895504,6.9567103,6.28696,6.651183,7.292786,6.56646,5.340989,7.937139,6.479093,7.5445733,6.5530024,6.528077,7.2063,6.589126,6.5255356,7.12155,7.8680434,7.348341,6.975456,6.921269,6.4873457,7.271674,6.9041734,6.7060823,7.0480123,6.8617177,6.6715794,6.516983,6.54368,5.994163,6.715793,6.6246376,6.924616,6.8534627,6.6311736,6.711244,6.7667575,7.6397424,6.537351,6.72646,6.4760647,7.1629624,6.563969,7.4153857,6.5735726,6.394205,7.162091,5.543224,6.818628,6.552997,7.4732337,6.579294,7.9376082,7.3916774,7.4374156,6.2930727,6.70339,6.507057,7.674263,7.1560273,6.84698,6.940957,7.2887034,7.120011,6.9050627,7.077269,6.6407204,6.6920047,8.073509,6.7242045,7.0334663,6.4748526,6.9906726,6.734569,6.6866894,6.7505274,7.5224247,7.0169034,6.96955,6.662542,7.6851454,5.836784,7.1882424,6.067498,6.6890416,7.1274242,6.576795,7.0103774,7.523414,7.0444036,7.6327786,7.275293,6.0156226,5.6675754,7.44287,7.2177978,7.8960743,7.0014076,6.9874296,6.594508,5.2292633,6.278743,5.311197,6.6737285,7.097672,6.2442446,6.499627,7.9434347,6.670806,6.274892,7.027929,7.363654,6.883576,7.4423327,6.6546926,6.601233,6.598708,6.715337,7.107534,6.2542224,6.5657973,7.08406,6.797276,6.2939854,8.233954,7.4935546,4.900449,6.9835987,6.5008216,6.8760633,6.869679,6.8123918,6.568445,7.0180435,6.580025,6.5947537,7.0153675,6.4750047,6.9709096,6.651976,7.9025674,7.872804,6.459178,6.8749022,6.417381,6.6574163,6.6719213,7.645292,6.555864,6.51414,6.79279,7.2072935,5.9721413,6.915097,6.9706945,4.922363,7.6683946,7.071515,6.7361526,7.785722,6.5926247,7.0089655,7.2868366],\"xaxis\":\"x\",\"y\":[7.9363637,8.072584,7.9587045,8.304791,5.793834,5.8135967,7.526786,8.14397,8.24004,7.740708,8.2721815,8.267094,8.065722,8.308243,6.727398,12.797789,8.344761,8.1887455,7.8184705,8.313711,7.9994063,7.9913297,7.4261336,8.154642,7.6643925,7.793855,7.788824,8.535544,7.132115,8.021843,7.7303777,9.941577,8.301291,7.392168,8.217786,7.214268,7.9102592,7.968425,7.2590985,7.6487455,7.40211,8.123275,8.08223,7.7995152,7.381114,8.180581,8.151559,7.7536573,8.226316,7.990172,7.740729,7.220378,8.044966,7.7931876,7.6065774,8.233331,8.603311,8.095319,7.811707,8.497133,7.969127,6.956638,8.016167,7.704461,7.7133455,7.6748476,7.718064,7.909252,6.997522,7.4943905,7.214358,7.0183883,7.570272,7.8793836,8.238224,7.814306,8.054325,8.124922,8.351532,8.251809,7.693809,7.1637526,7.8689084,7.242028,7.6265407,8.252378,8.308462,7.73428,7.860165,8.069533,12.888884,7.1471233,7.978796,7.5533943,7.35073,6.984654,7.7955465,7.81834,8.309508,7.6950884,8.49187,8.259067,8.295538,8.02259,6.9054813,8.062675,7.5550675,8.158664,7.8409004,8.055132,7.5776787,8.53178,7.4006395,8.258511,7.142359,7.5030503,7.7081223,7.2879333,7.738767,8.194029,7.1773186,7.5695977,12.79157,7.8507714,7.464588,7.3647685,8.245055,7.332506,8.618284,7.897705,8.539796,8.091961,8.091397,9.407916,7.4059916,8.215201,8.322501,8.070136,8.268959,7.8090663,8.0045595,8.116712,8.152084,7.555452,8.581242,8.506019,8.048405,12.888893,7.2520795,7.764921,8.074693,7.4933014,12.806475,7.7880273,8.575604,8.175263,8.169725,7.483266,8.255331,8.491441,7.5600915,8.195734,9.448866,8.529837,7.567578,7.761986,8.448558,7.819997,7.89878,8.119772,7.8708534,7.183953,7.2679114,7.676132,7.0821447,7.5173807,7.1780725,8.524107,12.794385,8.764977,7.7579126,8.367591,8.471634,7.2702622,12.889486,8.427616,8.632722,8.049092,8.441343,8.401725,8.017013,8.661437,7.8966618,7.842554,12.7766075,7.3773217,7.053771,7.8418775,12.892894,7.2082047,7.536022,8.248665,8.063147,7.9317856,8.186338,8.616393,12.865188,8.056503,7.4358616,8.542416,8.204562,8.016224,7.958209,7.0420666,7.0598617,8.357283,8.012797,7.0659533,7.3402367,6.951232,7.000306,7.5606933,7.590002,8.1868305,7.246336,8.329772,8.309889,8.133088,8.526791,6.987015,8.070282,7.927556,8.032044,7.794716,8.010516,7.8581967,7.5799923,7.2576623,8.025832,8.345147,7.8734093,7.0595884,12.88955,7.9544787,8.487632,8.22523,8.041162,8.579989,8.362132,7.8432527,7.8032794,7.408281,7.899196,8.236436,7.748066,8.074689,8.186413,7.872247,8.302511,7.45709,8.194187,8.505811,8.067067,7.768287,7.2871566,8.570363,8.234179,7.521225,7.4875226,8.295105,8.298821,8.441451,8.415122,8.201052,8.09039,8.170107,7.6046796,7.106497,8.0824585,7.0815554,7.507321,8.577547,7.15229,7.6095934,7.837423,8.00851,8.179063,12.891368,7.7960625,6.6204696,7.5905786,7.8424077,8.198287,7.763577,8.069586,7.3620257,7.321786,8.235744,7.8999777,7.6410575,7.9734488,8.379169,8.099274,8.300105,7.401947,7.462744,7.9813037,8.648391,7.038404,8.299163,8.531803,8.465866,8.141472,7.6893964,7.06209,7.7633877,7.4554324,7.916516,8.555534,6.89695,7.308716,8.135068,7.50787,7.7660327,7.843986,7.7165837,8.061878,8.087408,7.4181466,7.757816,8.555348,12.793728,7.4678087,7.451345,8.242448,7.2277465,7.838661,7.2225614,7.989388,8.15055,7.2214193,7.7829046,12.889053,8.334405,7.6819777,8.2247505,7.0192733,7.589426,7.72909,8.324594,7.3720975,8.210973,6.937252,7.7588663,7.708862,7.889779,7.517736,7.745143,8.126612,8.764029,8.130616,6.8846135,7.509471,8.146231,8.297088,7.4902043,8.576942,7.1554513,7.8980937,7.1062284,7.8591995,8.081813,7.139939,7.993126,7.9611135,8.184458,7.5079584,7.5908003,7.9048824,7.760171,8.020759,8.302313,7.6809263,7.8961177,7.321759,7.80455,7.951426,7.595646,7.372071,8.003117,7.6754136,7.7240744,8.147026,7.3069253,8.092313,8.348992,8.402375,8.022909],\"yaxis\":\"y\",\"type\":\"scattergl\"},{\"hovertemplate\":\"leiden=3\\u003cbr\\u003eUMAP-1=%{x}\\u003cbr\\u003eUMAP-2=%{y}\\u003cextra\\u003e\\u003c\\u002fextra\\u003e\",\"legendgroup\":\"3\",\"marker\":{\"color\":\"#FB0D0D\",\"symbol\":\"circle\",\"opacity\":1,\"size\":1.6595828228137197},\"mode\":\"markers\",\"name\":\"3\",\"showlegend\":true,\"x\":[10.3551655,9.258239,10.314336,10.2815695,9.882908,9.387382,17.387419,9.81639,18.275118,9.440665,9.562491,9.785878,9.0943985,9.446321,10.394521,9.5789795,9.734258,9.674675,9.724001,9.763562,9.420803,8.509714,9.471324,10.130279,10.209,17.390444,10.238804,9.558359,11.173519,10.199087,9.397476,9.645777,9.901335,9.671014,10.241154,10.212139,10.158773,18.275654,9.792007,10.212021,9.51561,10.117376,10.141629,10.208148,9.599099,9.098561,9.596345,9.12675,8.459725,9.930003,9.985113,9.836216,9.628816,10.207096,9.551412,9.259841,9.626242,9.455197,9.140063,10.341412,10.004842,8.460048,8.411335,17.390583,9.140605,9.492984,10.298456,9.546073,9.380031,10.247109,9.924999,9.7049265,18.248583,10.104552,9.123315,9.922763,17.390804,9.44172,18.247406,9.36307,18.283087,9.405407,8.935499,9.580775,10.42551,9.503451,9.934316,9.207898,9.532224,6.1626916,9.472369,10.1421385,9.37835,9.8058605,4.78937,10.390624,8.890273,10.379542,9.807051,9.665136,10.25764,10.41497,10.115222,17.381351,9.557938,10.284937,9.483855,9.887647,9.624629,9.042255,10.259671,8.881234,7.6503816,8.505443,17.389917,9.617264,9.320897,9.950656,10.122488,10.143465,9.549044,9.770202,18.270256,9.483787,9.531173,9.588667,9.340563,9.495616,9.532366,9.893618,9.621071,9.639549,10.46909,9.526592,9.739395,9.415341,9.35778,9.535011,10.300847,9.382271,9.974768,9.544782,18.26832,9.429088,9.95211,9.38021,9.911597,9.582392,9.844602,9.528873,9.136254,9.55503,18.272123,9.7233305,9.396777,10.2109785,9.582985,10.158779,10.251621,10.156953,9.7579565,9.676983,9.178603,9.364202,9.743063,10.222561,10.02472,9.455741,9.292487,9.302936,9.755074,10.231451,9.735827,9.680411,10.312761,8.783829,9.566809,7.6417737,9.35697,9.631405,9.823422,9.912668,10.301628,18.279278,9.729366,9.873336,9.781002,10.41615,9.827784,9.850949,9.208935,10.2936325,10.481838,9.526321,10.155799,10.2128935,8.469351,10.270461,8.437381,9.766809,10.009586,9.391448,9.94689,10.070291,9.78875,10.113399,4.701088,9.697093,10.215577,10.360524,10.260759,10.0673065,9.868461,10.211399,9.877739,10.228844,10.133712,18.257217,9.853929,9.787286,9.633547,9.403924,9.365865,9.064993,17.390371,9.446438,9.534403,9.645569,10.157129,9.5638275,9.314463,10.465701,9.19819,9.166437,9.556385,9.117751,10.058754,9.973464,9.334619,9.635272,18.256966,9.245912,9.845575,9.036936,9.84938,10.007321,9.928281,10.299846,17.390045,9.496885,9.748215,9.768164,9.758125,17.390388,17.390194,9.986598,9.638648,9.927757,9.513348,10.219157,8.916828,9.718815,9.36954,9.983407,9.581151,10.077385,10.109548,9.359395,9.367842,18.276037,9.317624,9.462477,9.064859,9.615205,9.407449,9.924479,10.197061,9.603401,9.632,10.152833,9.451866,18.27584,9.523983,9.547715,9.577022,9.434779,9.590472,10.264513,18.275934,10.992411,10.297583,9.925343,9.474816,8.576528,9.887995,9.65517,10.119332,17.39071,8.3617735,9.638711,9.254849,9.210297,8.8675375,9.966834,8.289744,9.0635395,6.241706,9.74311,10.207572,10.241543,9.359881,8.378902,9.950599,4.351372,8.470664,9.861427,9.280404,10.164175,9.688213,10.132331,9.798408,9.625871,9.350673,10.254584,9.782021,9.785179,18.255743,10.195267,9.664099,8.913803,9.525099,8.919697,9.718434,6.2203054,8.614281,9.388754,8.997683,9.732606,9.527726,9.788249,9.894613,9.915467,10.257996,9.633942,9.757642,9.502212,9.9658375,10.026608,9.281791,18.241034,9.707055,9.827357,9.348008,8.532309,9.356951,9.11018,9.936434,9.258961,9.258904,10.11013,9.779031,9.783236,9.723871,9.612444,10.103786,10.209623,17.396494,8.543197,9.435238,9.502051,9.668394,10.317167,9.797093,18.256262,9.389166,10.324289,9.438504,10.180138,9.463991,10.135925,9.768232,9.487897,10.324083,9.985391,18.291819,9.121369,9.383617,9.570827,10.204251,4.3136,9.4317255,9.381666,9.391795,9.777616],\"xaxis\":\"x\",\"y\":[8.609626,7.02041,8.596665,8.33385,9.170473,9.733553,6.3774085,8.30493,3.8212996,9.778279,9.408918,8.514115,7.9098697,9.838238,8.650395,7.7306623,8.312605,6.7482643,9.5063,7.717139,9.683922,5.8188443,8.131502,8.209524,8.5505295,6.3769794,7.8276515,8.049196,7.8392444,8.5010605,7.526391,6.398611,6.0009656,6.3736753,8.583452,7.887104,7.878056,3.8212996,7.9009376,8.197208,8.17842,7.9427576,7.9223785,10.064363,8.556782,7.6321363,7.93144,7.6359463,5.7361016,5.97932,8.8768015,8.3117,7.808934,10.066339,7.727043,7.0397987,8.694896,9.866721,7.152103,8.604908,8.536891,6.500757,6.5972037,6.3768077,8.084238,8.32312,8.579271,9.1961355,9.418022,7.8618946,8.872014,9.509114,3.839311,8.166612,6.8970084,9.191417,6.3766556,9.8297825,3.8399436,9.536074,3.8136861,7.031633,7.695175,6.485435,7.9167266,9.442402,7.8513455,7.521552,6.764038,7.4760566,9.885605,7.9018826,7.045171,6.1602616,7.5403686,8.639402,8.264675,7.9024825,8.472339,8.893836,8.467798,7.921118,8.412947,6.385168,7.7982383,8.34536,9.902433,7.88841,6.7291093,7.803882,8.554883,8.024254,6.8346353,6.3556166,6.377175,8.205435,9.695384,9.215251,8.577763,7.8232303,9.215868,8.294985,3.8262098,8.324956,6.8332753,9.020987,7.810739,6.649221,6.691127,7.9008102,8.151054,8.250094,8.659241,7.842535,8.323101,7.0059414,9.390406,6.579921,8.583511,7.462823,7.853708,8.108019,3.8259583,9.820004,9.238631,9.628947,8.607957,7.898823,9.321354,7.027797,7.949762,8.279725,3.824324,9.467109,8.329585,7.889626,8.164503,7.83546,8.583298,8.439219,8.695069,9.465715,7.4773965,7.083291,9.096532,8.1767235,7.8845263,9.749699,7.7586255,6.8739753,7.903541,8.170455,9.081999,9.476432,7.849781,8.57545,8.449328,9.06294,9.37472,7.8937416,9.580564,5.982633,8.632597,3.8209867,8.543704,9.148285,9.567239,7.932747,9.1257715,6.0700665,7.143323,8.582296,8.668311,6.649728,7.8994565,10.067242,6.3533792,8.569323,6.4862204,8.547673,8.408418,8.901793,9.205252,8.106129,8.255662,7.7828164,7.4895697,8.248543,8.585357,7.9159994,8.350553,8.130318,7.5988455,10.061188,8.497802,8.451477,8.152902,3.8311026,8.479646,9.543941,8.188155,8.428172,6.8705897,8.473339,6.3771524,9.801753,8.391985,8.288526,8.599194,8.092504,7.931389,8.685065,7.1749067,7.9914,6.593862,7.331279,8.525613,7.9128094,7.1378045,7.9153795,3.8313892,6.947937,7.9878254,7.9109006,8.932824,8.387703,5.9949765,7.851859,6.37715,8.804147,6.2496953,8.62358,8.532307,6.3772793,6.3772583,8.508314,8.899873,8.839825,6.6359,7.8567696,7.775061,7.9250536,7.769695,7.5090747,8.131732,8.413014,8.419741,7.638318,9.705285,3.8216214,6.8914533,9.862069,7.652367,8.155911,9.250731,8.076671,8.214955,8.509876,6.8501964,8.450797,8.507525,3.8216345,8.407513,6.6049957,7.397382,9.806041,6.517744,8.56098,3.821603,8.090453,8.579435,9.166203,9.883139,8.216803,7.8294067,8.6919775,7.886589,6.3771358,8.827027,6.460908,6.9455853,7.3798623,8.445251,7.928371,6.78744,7.81496,6.837886,8.372726,8.453664,8.530134,9.309406,7.2962036,9.247808,7.184636,6.5129294,7.9171367,8.116604,7.8531995,7.799624,8.15752,6.1622295,8.979131,6.8329005,8.585254,6.1704407,8.561291,3.807435,8.522489,8.961762,7.7521467,6.543645,7.7646074,9.477378,7.245265,6.2749567,7.038762,7.8317027,7.906462,9.40554,8.5679455,9.177521,9.222743,8.595678,8.201237,8.229679,8.317109,8.576679,8.307554,6.909114,3.8476264,8.232638,7.3641777,8.402168,6.3598685,9.380867,7.530661,7.9526644,7.7256145,7.0514255,8.562767,9.530144,6.160761,8.242161,8.649585,8.604332,10.064855,6.3762836,6.4873166,6.785418,7.9385867,8.596355,8.603771,8.492869,3.8321698,8.272858,8.592116,6.994241,8.570864,6.7705064,8.470962,9.77212,9.435241,8.598876,8.358933,3.8375657,7.594369,8.286314,7.718234,10.066594,7.140288,9.490214,6.826732,6.8176255,8.594481],\"yaxis\":\"y\",\"type\":\"scattergl\"},{\"hovertemplate\":\"leiden=4\\u003cbr\\u003eUMAP-1=%{x}\\u003cbr\\u003eUMAP-2=%{y}\\u003cextra\\u003e\\u003c\\u002fextra\\u003e\",\"legendgroup\":\"4\",\"marker\":{\"color\":\"#DA16FF\",\"symbol\":\"circle\",\"opacity\":1,\"size\":1.6595828228137197},\"mode\":\"markers\",\"name\":\"4\",\"showlegend\":true,\"x\":[10.972423,11.405004,10.678217,11.38657,11.082667,9.939984,10.914426,13.666439,10.592019,11.472513,13.66752,11.136779,13.401667,18.033712,6.8028426,11.174911,10.860288,23.157114,12.39999,6.8028383,10.645551,10.882085,18.033714,18.018843,11.111039,11.173987,10.491354,11.67282,11.672504,10.013163,11.992373,9.387209,18.005217,11.526828,12.4485445,10.428738,10.921969,8.088483,11.092444,10.930176,10.521877,10.442961,10.50763,12.084775,13.396767,11.005089,10.93116,23.15763,11.301285,11.152023,10.583052,5.0003476,13.400949,10.561676,23.145477,6.8028502,13.355103,12.456765,11.100269,14.150516,10.619505,6.802849,11.259852,10.7775345,9.985139,11.172467,11.659442,23.148586,10.945723,12.095117,10.765207,10.423472,10.739057,9.699371,10.5984335,10.783301,23.154863,13.675361,10.426752,10.613787,11.082206,10.762532,10.080491,10.9860935,10.796783,11.074416,12.062639,10.782935,10.615858,13.372843,23.15591,10.671209,11.309663,23.157541,10.780007,11.10697,10.647751,23.164736,11.037494,10.116125,10.072388,10.684045,10.630336,10.569442,10.479487,10.753392,11.364622,12.45343,13.670386,14.150239,10.7697,10.189543,9.082988,10.538606,11.6652,23.158457,10.721678,13.387428,14.149972,11.373582,23.157412,13.669516,23.157692,10.923701,1.7328595,14.149918,12.574274,10.109918,10.175914,23.157303,10.717133,10.715649,10.552961,10.02624,11.085392,10.137083,18.033657,10.495334,10.676215,10.59726,11.164649,11.042656,6.802849,11.250623,11.095209,10.912234,23.15836,11.393393,23.193062,11.660763,10.494497,10.830725,11.078788,10.51014,11.0491705,6.8028474,11.12554,11.58928,9.971748,11.630907,10.411276,10.121976,10.9957695,5.379917,11.109247,18.033667,11.246466,11.313443,10.705602,18.01841,10.877234,4.7364006,12.017457,18.018404,11.008051,10.125575,10.463809,10.5326605,11.659451,10.528202,11.612467,10.122291,13.666474,10.495646,10.3638315,18.033638,11.83107,10.088848,10.937751,11.111118,11.647728,10.787192,12.453036,12.553781,11.099789,10.479445,10.471714,11.159317,11.691536,10.51151,10.387964,10.567664,12.46525,14.157783,10.391926,10.498475,12.086697,11.187822,11.24889,10.932609,10.167963,10.4035635,10.878157,10.882426,18.03463,9.504239,11.050763,10.60244,12.569945,10.700742,10.87603,11.845014,11.172129,11.669325,11.590199,10.434406,11.431146,13.668783,11.850015,10.650226,9.047254,11.097224,12.557234,11.103285,11.664611,11.097991,18.01857,10.483446,10.609809,8.7265215,13.665002,11.097597,11.20974,10.567274,23.158209,10.804182,11.607368,10.463675,10.108458,11.006891,6.8028564,6.8028507,11.586792,11.6119375,10.747748,11.578382,11.6557,10.988047,11.069415,14.149491,10.241092,11.099024,11.309049,10.505536,11.630308,11.989331,11.637695,10.781251,6.8028526,23.158731,13.37773,11.977099,10.937407,23.159452,10.135185,18.033617,10.688883,10.718434,10.664622,10.125242,11.291806,10.500562,11.012537,11.083607,10.991578,1.7159575,10.732632,11.095518,11.450859,11.848418,11.993368,11.516047,10.769324,10.47196,10.031442,10.514327,11.057397,11.633823,10.694978,10.41904,10.277495,11.37548,23.159037,10.140869,10.735857,10.085283,10.415938,12.558479,10.534328,8.031591,10.886877,10.554051,11.355619,13.681307,1.7177663,10.934536,11.672261,10.133182,10.918229,11.485725,10.852846,18.027216,11.65038,11.890446,10.279074,11.666765,10.279677,9.993215,13.414925,23.158873,11.294991,12.56575,10.452972,11.607392,8.844594,10.131317,12.085121,11.005838,10.888053,10.966615,11.052806,10.936689,10.356047,10.656184,9.995977,11.369874,10.616013,12.079516,10.464491,10.649689,11.363673,4.4104333,18.018135,23.158781,23.160002,11.585367,12.464082,11.616504,11.861875,10.94649,11.053792,11.337941,18.033512,10.9538965],\"xaxis\":\"x\",\"y\":[6.8120074,7.1705966,7.2189436,7.9782457,6.73671,6.728743,5.628959,7.330819,7.193772,7.7256775,7.3309255,7.828785,7.3983827,-4.6217437,-7.8563924,7.455619,7.312673,1.1559263,8.470714,-7.8564124,6.509902,5.697577,-4.621749,-4.608522,7.890163,7.812847,6.714505,7.513582,7.5214715,6.862541,7.3790927,7.0118546,-4.594941,7.0881395,8.497516,6.8934298,6.6739435,6.6599917,6.6816382,7.7571926,6.6315427,7.1645365,6.5692987,7.5352592,7.398931,7.9866347,5.6197352,1.1563859,7.8887277,7.8651013,6.5860815,7.363043,7.3975697,6.5988503,1.1444027,-7.8564324,7.326912,8.48917,6.7207365,9.846135,6.621009,-7.8564434,7.5086384,7.1583476,6.906672,7.297617,7.529541,1.1474934,6.750997,7.558664,6.4311714,7.166359,7.4213924,7.7575207,6.7739973,6.2642293,1.1536361,7.327503,6.856937,7.247983,6.6715403,6.7771525,6.8169885,6.64232,6.2305994,6.6669188,7.5320783,6.380155,7.1512327,7.3681593,1.1548308,7.2123103,7.2776527,1.1562376,6.2402678,6.66018,7.366042,1.1633725,7.689021,6.5399485,6.475576,6.49286,7.237255,7.217342,6.702739,6.7942886,7.956275,8.499876,7.329559,9.845874,6.7329817,6.5313754,6.286795,6.830948,7.396054,1.1570947,6.7830024,7.4026303,9.845545,7.9446864,1.1561049,7.3302298,1.1563392,7.7117147,-6.6914544,9.845469,7.4089923,7.717606,6.6844993,1.1560788,6.7772627,6.5616074,7.2400537,6.891732,6.6972203,6.291569,-4.621707,6.5274634,7.220086,6.7321525,7.171951,7.824379,-7.85646,7.292428,6.739055,5.633491,1.1569685,7.323973,1.1914104,7.0102677,7.2181354,7.214366,7.959665,6.5595007,6.9200907,-7.856473,6.674656,7.4531074,6.830965,7.6747756,6.8366566,6.669317,7.776988,10.053255,7.937744,-4.621715,7.144994,7.5356665,7.1909227,-4.608101,7.7406087,8.782412,7.5327225,-4.6080956,6.7612395,6.392634,7.156168,6.8046675,7.0202603,6.84041,7.4167504,6.356488,7.328501,6.5873537,7.6332846,-4.6216807,7.18171,6.428774,7.7585664,6.6659837,7.497792,6.8279285,8.500686,7.4098887,6.875929,6.879803,6.578974,7.8790436,7.5156355,6.5311275,7.1703744,7.615726,8.512931,9.851626,6.534476,6.570121,7.411193,7.829777,7.501927,5.6220555,6.5040855,6.543734,6.793709,6.740843,-4.622675,7.3001184,6.6967263,7.1124434,7.411837,7.1870184,7.7228,7.190033,7.1464486,7.0205927,7.6886225,7.608245,7.4444256,7.3300996,7.212412,7.1790657,6.262528,7.9526596,7.409581,7.950256,7.5039096,7.9096756,-4.6082287,6.6040063,6.621978,9.514433,7.33046,7.9361806,7.835124,6.579202,1.1568083,6.261571,7.6923065,6.5801063,6.4221025,6.912121,-7.8566923,-7.8565164,7.495215,7.556122,6.741531,7.654269,7.515572,7.759309,7.0362496,9.845129,6.829991,7.1119957,7.8174343,7.18751,7.541529,7.3699284,7.4628835,6.2628474,-7.85653,1.157276,7.375622,7.3749347,6.683264,1.1579795,6.428704,-4.6216855,6.7867155,6.513045,6.600513,6.7048926,7.500761,7.1974897,6.6582136,7.965649,7.7403054,-6.712321,6.76378,7.962195,7.615324,7.1848555,7.3807716,7.7511535,6.773788,6.5957556,6.692871,7.164461,6.6709323,7.7321606,7.155599,6.8191986,6.99885,7.6252503,1.1575431,6.327179,6.477834,6.7900143,6.674047,7.4090962,6.5472245,6.785824,7.692189,6.76961,7.9332747,7.32778,-6.710102,5.6206794,7.5183372,6.3222733,7.5939503,7.089732,6.7800665,-4.6159334,7.0068984,7.359633,7.039508,7.021833,7.435939,6.853552,7.3832526,1.1573915,7.511716,7.4103866,6.601761,7.042983,6.8732343,6.3004813,7.391233,6.7779074,7.721016,7.102233,7.8691382,5.6141934,6.566663,6.4868946,6.820307,7.9466524,6.553483,7.530946,7.15769,6.559362,7.670931,6.3250923,-4.607765,1.1573052,1.1583738,7.0519876,8.510132,7.6715555,7.1682453,7.7995853,6.748411,7.7359285,-4.621578,7.729368],\"yaxis\":\"y\",\"type\":\"scattergl\"},{\"hovertemplate\":\"leiden=5\\u003cbr\\u003eUMAP-1=%{x}\\u003cbr\\u003eUMAP-2=%{y}\\u003cextra\\u003e\\u003c\\u002fextra\\u003e\",\"legendgroup\":\"5\",\"marker\":{\"color\":\"#222A2A\",\"symbol\":\"circle\",\"opacity\":1,\"size\":1.6595828228137197},\"mode\":\"markers\",\"name\":\"5\",\"showlegend\":true,\"x\":[6.4424334,6.3063917,6.53476,5.845658,6.321888,6.238192,6.5330606,5.8246202,4.6153913,6.286757,5.5529304,6.508283,6.298389,6.3522043,6.457855,6.213404,6.2266536,7.828308,6.2832346,5.860435,6.542329,6.5048776,6.262781,6.348914,6.4260097,6.482983,6.158398,6.34378,6.239023,6.148249,6.5546827,6.3370442,6.334105,6.338551,9.240407,6.4192953,5.6961365,6.427001,6.460694,4.7978773,6.591798,7.7277164,4.775761,11.419771,5.950924,6.381207,5.423933,6.4331727,6.411148,6.5192146,6.496206,6.518708,6.113053,6.3263297,6.1395006,6.2377167,6.569289,5.554371,6.199606,6.348833,6.233794,11.481862,6.2532773,6.0882664,6.2568383,4.6061044,5.4054575,6.7285423,6.413674,6.065443,6.3329735,6.2553577,6.340555,6.3008018,6.3430696,6.62915,6.2076674,6.2784142,6.623757,5.6748633,6.3291507,6.305658,5.5829496,6.507254,6.3548493,5.693675,6.1406527,4.457868,6.3411517,6.5168343,6.024182,6.7245865,6.2349095,6.5283747,6.19985,6.22434,6.4092116,5.0141797,6.241569,5.918115,5.9090858,8.442759,6.6752825,6.0016627,5.2384486,5.8754416,6.244911,6.721742,6.3416796,6.3798714,6.203347,5.470181,6.31678,5.8118916,6.0967207,4.9702787,5.5980134,6.56317,6.208713,6.3743625,5.52991,5.6670628,6.581511,5.6545057,5.029967,6.5384393,6.3428626,4.7065096,6.457005,6.645517,5.6625032,7.456517,4.506546,6.022208,6.285213,6.4753003,6.3940167,6.029245,5.300081,6.376274,5.4016175,11.422645,6.170724,7.7110057,6.6632047,6.6341863,4.6270638,6.3333,6.4130325,6.1598954,6.414523,5.488394,8.5888605,5.7048273,5.6412125,5.851679,6.0154824,5.6374807,4.9968314,5.923709,6.3334413,6.0066233,6.6320987,6.3181124,11.394288,6.2283115,6.465587,6.6304283,5.2192626,4.435941,4.4388337,6.5988665,6.5848017,6.1926517,6.240722,6.1908545,6.3846965,4.455821,6.3120303,6.1524196,6.3382344,5.7983675,5.1863375,5.0348477,6.6056547,5.657753,6.003012,6.337489,6.2396035,6.2617335,5.757648,6.1423864,4.822929,6.3588004,5.88696,5.543011,6.701489,6.4920144,6.0845056,6.2955904,6.2596436,6.2112265,4.434267,5.6923356,6.219406,6.1281705,6.326129,6.6397486,11.436287,6.1625757,6.2025404,6.57558,6.3506756,6.259344,6.8415055,6.505445,6.0266542,6.3025627,6.3171234,6.0632706,6.353777,6.183678,5.5527234,6.359612,5.3072724,6.021752,6.426977,5.627641,6.429518,6.474927,6.416209,5.712289,5.685734,6.3699336,6.1425743,5.878726,6.338368,6.735556,6.0560064,6.529375,4.610906,6.570269,6.2705226,11.452479,6.471307,6.1904635,6.0030904,6.338201,6.5297437,5.8617177,5.0148554,6.412261,6.3436365,6.293368,6.1309896,5.652854,6.5955195,6.06272,6.071822,5.271,5.802436,6.1632533,11.575579,6.1135316,6.32872,6.3551764,4.4761024,6.5384626,6.4866867,4.422118,6.1344023,6.696389,6.426496,6.358208,4.668593,6.3836193,6.5148363,3.1389441,6.0247498,6.6456704,4.9254713,4.8757315,6.9768643,6.5776515,5.652544,6.130789,6.4069424,6.292798,5.6094003,5.758675,6.4158144,6.5131955,6.114498,6.584318,6.325244,6.4843473,4.426213,6.6496253,6.2537346,5.425218,6.0429096,6.394113,5.885719,6.3195944,6.466309,6.3247075,5.063664,11.411545,5.9950695,6.518183,6.0611744,4.809371,5.6433845,11.34514,6.1249323,4.599276,6.3364844,6.345924,7.6915507,7.615127,6.0178795,6.236464,6.0505757,5.8891854,6.2769322,6.8863454,5.9525785,6.6243763,6.6150346,6.6463523,6.2848573,7.057142,6.131963,6.2869453,6.3767185,6.344931,6.3013697],\"xaxis\":\"x\",\"y\":[9.495316,10.436451,9.409195,9.54254,10.320368,8.8054905,9.618391,9.053178,8.070437,9.667034,9.843933,9.422919,9.935209,8.972113,9.056103,9.683361,9.354129,8.799398,9.584223,9.086748,8.827844,9.095341,9.167008,10.292292,10.04169,9.48326,9.622679,9.9414835,8.881015,9.529607,9.767531,10.546207,9.095407,10.27247,7.5118933,9.958224,8.887516,9.108393,9.959034,7.787523,9.507984,8.822307,7.974205,6.8274217,8.786428,9.881356,9.621262,10.094186,9.166603,9.618334,9.591078,9.422394,9.545113,10.149606,9.00764,9.132306,9.013422,9.047261,9.402533,9.424901,8.88609,6.882121,9.421231,8.8924675,9.003834,7.948599,9.222301,9.427692,9.024485,8.866981,10.461953,9.523104,10.555276,9.840138,9.279483,8.966601,9.719446,8.626306,9.416527,8.993154,10.511412,9.422137,9.100269,9.609713,9.887554,9.264603,9.353059,8.109893,9.466242,8.880463,9.268985,9.587785,9.452404,9.189119,9.434215,9.768602,9.529506,7.2453966,9.649347,9.44481,9.3966,8.450946,9.029046,9.161261,8.116218,8.62894,9.877233,9.054255,10.5570965,9.962897,9.522987,9.900127,9.782783,8.946461,9.646798,7.7238007,9.29013,8.854645,8.330189,8.638367,9.166378,8.089634,9.489294,8.663085,8.02865,9.638777,10.535558,7.8696103,9.746844,8.803681,8.912835,6.521011,7.8786473,9.029423,9.540615,9.738798,10.123839,9.265571,7.116744,8.847491,9.066703,6.820449,9.217031,8.86726,8.849456,9.365795,7.9958425,9.851042,9.998859,9.309504,8.99827,9.207126,8.4015875,9.089941,9.203794,9.193663,6.1574807,9.040902,8.019658,9.151029,9.915872,9.334267,9.724517,9.898787,6.7913356,8.797157,9.908463,9.291178,8.17452,8.072138,8.084682,9.742279,9.421894,9.710863,9.271418,8.74271,9.820434,8.0990925,9.857913,8.4514475,10.427135,8.720574,7.719577,7.7304754,9.111784,9.074896,9.191592,10.5202055,8.657061,9.205913,8.902044,9.234447,8.117322,10.238213,9.206408,9.825907,9.562201,9.36751,9.538523,9.634109,6.187056,9.361396,7.77617,9.184,9.562122,9.365976,9.686653,9.04905,6.8269706,9.269942,8.383723,9.482831,8.953345,9.025695,8.961162,8.888465,9.3069,10.015803,9.907205,9.442646,9.007294,8.64797,9.75641,9.767054,8.0609045,9.357876,9.4619665,8.812627,8.839565,9.684481,8.697461,9.118287,9.266565,9.709804,9.377098,5.9919434,9.892384,9.420316,9.602054,8.9969845,8.027762,9.656367,8.950353,6.844001,9.065129,9.826642,8.84132,9.431106,9.163787,9.8512535,7.3008094,9.810116,10.054092,9.8675,9.673215,9.109485,9.556652,9.646242,9.172896,7.995354,8.881789,9.152665,7.409924,9.234318,10.508049,9.445304,8.010292,8.834501,9.511549,7.9457755,8.926548,9.580804,9.195558,9.793598,8.013364,9.214578,8.801252,11.198057,8.78687,9.595348,8.038195,7.989401,8.6102,9.73378,9.226052,9.78512,10.06146,9.588677,8.930113,9.720723,9.762278,9.460585,9.082827,9.467544,9.744449,9.737252,8.077691,9.131603,9.852782,9.872571,9.569154,10.267102,8.838347,10.000347,9.40668,10.308603,7.159529,6.831696,9.519546,9.268607,8.881887,8.022402,8.822691,6.773987,9.036548,8.0304985,10.015941,10.310917,8.924279,8.10734,9.262454,9.153785,9.625024,9.145498,9.137896,9.298999,9.172527,9.118969,9.130561,9.300794,9.895158,9.141743,9.763599,9.8366165,10.007665,10.42846,10.114687],\"yaxis\":\"y\",\"type\":\"scattergl\"},{\"hovertemplate\":\"leiden=6\\u003cbr\\u003eUMAP-1=%{x}\\u003cbr\\u003eUMAP-2=%{y}\\u003cextra\\u003e\\u003c\\u002fextra\\u003e\",\"legendgroup\":\"6\",\"marker\":{\"color\":\"#B68100\",\"symbol\":\"circle\",\"opacity\":1,\"size\":1.6595828228137197},\"mode\":\"markers\",\"name\":\"6\",\"showlegend\":true,\"x\":[3.5136652,2.1974065,2.802019,2.8313508,1.770751,2.9827535,3.1712537,3.5209603,2.7683132,2.9159317,2.9554746,2.224161,2.8807573,2.9909322,2.6298678,2.7577155,2.1772077,2.709477,3.00333,3.2362294,2.2959986,2.6310205,3.0469577,2.5009344,2.5861177,1.7813061,2.9128664,2.794275,3.1475883,2.5502007,2.761078,2.134177,2.756658,2.9514942,2.4360704,2.304157,2.9610877,2.558967,2.4400105,2.8580415,2.5695953,2.2590172,3.5331483,2.631854,3.493629,3.2748928,3.6076488,2.8714092,2.4374933,2.753874,2.5324526,2.9155378,2.5437686,3.4200459,3.2660182,2.9662302,3.5035374,2.9892123,2.8276339,2.7878666,3.4141734,2.82654,2.8182328,2.5557337,3.3167741,2.985991,2.418854,2.834696,2.7958477,3.0465264,1.8763065,2.8013973,3.670115,5.1284256,2.7892442,2.2178302,2.7260504,2.9192004,3.0794582,2.5076098,2.5954576,2.8421156,2.2170944,2.7407207,2.4378865,2.985788,2.5023785,3.094037,6.121412,2.739841,2.9076622,1.857965,2.6810722,2.880074,2.7861235,3.2540228,2.7801924,2.5727973,3.4033153,2.928295,3.2726479,3.273307,2.6296682,3.5332088,2.6325045,2.6149817,2.5679054,3.2752411,2.7759392,3.4672601,2.3746464,2.794968,3.3082135,3.1019535,1.7106329,3.1372473,2.8980105,2.4684558,3.170341,2.4969468,2.7896602,2.8366601,2.835316,3.0441859,3.2971225,1.8758962,2.4416196,3.567995,3.074334,3.3918784,3.2565753,2.6522932,2.8028238,6.231266,2.2345557,3.0901825,3.0961318,3.281958,2.7453144,3.0369208,2.0552795,3.3263319,2.7538972,2.644476,2.7457407,3.0825691,2.8562577,4.0213156,2.8331213,2.6370199,3.223817,2.670379,2.7340617,3.5840695,2.8078492,2.5715742,2.2876382,2.7704015,3.0983884,3.0288613,2.6150117,2.3514726,2.6315486,3.3640747,2.7023451,3.3417227,2.9691265,3.3621805,1.792771,3.253094,3.203494,2.719369,3.1113007,2.219679,2.574189,2.3570912,3.3637023,2.7803674,2.9935918,3.1688366,2.4318264,1.9562783,2.822208,2.4582233,2.67789,2.9262307,2.7768953,2.9306686,2.3254602,3.0082347,1.8502113,2.9685009,2.664724,3.3626442,2.8893576,2.7759552,2.565646,3.3600698,2.7604797,2.8416572,3.3335485,3.3807876,2.261479,2.8035142,3.020362,2.5063078,3.1430624,6.6568875,3.181722,3.0492427,2.5014567,2.9553902,2.8272066,3.329233,3.1234238,2.755118,3.4747696,2.7438405,2.8298712,2.8699234,2.2445588,3.4088292,3.4559927,2.8362513,2.6672556,3.4595437,3.291848,2.942282,2.6551406,3.1582165,2.873137,2.2766807,3.4296863,3.0088456,2.6477594,3.4366884,2.7695045,2.8160324,2.9650059,2.7633948,2.8172212,1.9363965,3.270248,2.3803756,2.3871667,2.9822743,8.379107,3.3061957,3.256587,2.786434,2.8146605,3.0452576,2.6235077,2.576823,3.2503145,3.0431762,8.264273,2.8243048,2.596935,2.1270778,3.4108462,3.120059,3.4570646,2.672827,3.2693799,3.294843,3.2383876,3.3078406,3.1611001,2.943548,2.726002,2.540155,3.19849,2.7544632,3.341112,2.687199,2.5150075,3.0369623,3.2904985,2.7735128,3.238096,4.8828597,1.8005162,3.0943642,3.3530698,2.95459,2.7807474,3.0423808,2.5490234,2.6061094,3.444003,2.2943797,2.7495775,3.4466894,2.8895147,3.0456295,2.788344,3.3855505,1.901498,2.891454,2.7927282,3.1027305,3.1692905,2.6260006,3.2745395,3.1519148,2.670056,3.2066567,2.9156098,2.9911718,3.0304244,3.4687386,2.5600667,3.3457031,6.2598796,2.5697663,2.949078,2.583445,2.749469,3.5906682,3.0000505,2.9482794,1.7743089,2.795464,3.2115986,2.7930555,3.1698012,2.2310238,3.0664358,2.7478046,2.6731536,2.7206051],\"xaxis\":\"x\",\"y\":[8.509723,7.672448,7.0889826,7.7516866,7.592901,7.897977,8.189782,8.285408,8.078381,7.705568,7.923641,7.759083,7.0910387,7.574067,7.5754504,7.3457813,7.648733,7.669497,7.839345,7.9084144,7.626561,7.9387813,8.170821,7.6838737,8.019612,7.594582,7.982297,8.008558,8.022731,7.890173,8.1541195,7.6493874,7.721135,6.9479275,7.757205,7.7704506,7.8119364,7.6249027,7.53308,7.2185416,7.668539,7.612303,7.8874197,7.8655524,7.8589644,7.750224,8.156014,7.800593,7.7496114,7.888186,7.8921056,8.200097,7.87331,8.201071,7.729181,7.6122622,7.781946,7.6558833,7.76626,8.349231,8.217068,6.889048,7.7660356,7.6107388,7.755179,8.042109,7.726042,8.01177,7.7983403,8.098059,7.598853,7.8361745,7.738757,9.817622,8.306161,7.6204214,8.378853,7.6901836,7.450792,7.8079925,7.758602,7.308531,7.7372518,7.429911,7.5921116,7.6548686,7.821257,10.972311,6.3201523,7.860595,7.9600296,7.6289434,7.8471007,7.7100735,7.272216,7.867175,8.028492,7.49774,7.513877,8.392285,8.251823,7.9146824,7.5820203,8.245271,7.92214,7.9413524,7.854891,7.7297516,7.672428,7.784476,7.59358,7.616677,7.577454,8.634737,9.42902,7.8219976,8.055975,7.8481975,7.77949,7.611316,7.985226,7.236665,7.696189,7.7418833,7.6431746,7.6022363,7.81916,8.014003,6.802215,7.4594636,7.8178587,8.040044,7.2597923,7.5101347,7.6012087,8.155597,7.6080008,7.955606,7.7656565,7.7119527,7.659949,7.6019406,7.212233,7.7248816,7.7914553,6.714209,8.119018,7.8898478,7.452384,7.550376,7.5642414,8.043508,7.5315685,7.805718,6.906602,8.001122,7.725337,7.350647,7.75071,6.754915,7.5286202,7.6266737,7.8073926,7.7931323,7.4863114,7.7989135,7.792091,8.029335,7.590962,7.648779,8.088117,7.841791,7.4357347,7.663719,7.5067925,7.614051,7.874765,7.1132274,7.601428,7.00928,7.5785847,7.629765,7.996871,7.4722667,7.612934,7.9856334,8.346508,8.053777,7.8053117,8.007711,7.60184,8.225942,7.532969,7.837605,8.134972,7.8286796,7.9049373,7.7617555,7.2734756,7.6047845,8.221028,8.318547,7.646026,7.6271024,8.102414,7.8860035,6.7984605,8.815409,7.714022,8.166104,7.5140514,6.8604193,8.135755,8.267851,7.745827,7.5893283,7.428732,7.779676,6.8688765,7.943266,7.639293,7.9763007,8.1749525,8.011519,7.667315,7.5204782,8.262682,7.694894,7.385569,8.230206,7.9982457,7.6346884,7.6565046,8.4198475,7.4388175,7.836048,7.868465,8.387293,6.898766,7.9459295,8.055187,7.6403275,7.748622,7.635493,7.648802,6.915996,8.5100155,7.7201934,7.8499527,7.907003,8.000295,8.076225,7.855321,7.4598694,7.6656356,7.674678,8.474657,8.404854,7.9192147,7.6402564,8.220118,7.5522413,7.7954764,7.6743627,8.251748,8.2690115,8.225907,8.272432,6.63915,8.303827,8.157527,7.7758274,8.231753,8.388715,8.204492,7.8896475,7.7406282,8.166183,7.5989165,7.353907,7.5060534,7.697182,7.596711,8.137004,7.6985545,7.938926,7.028694,7.73241,7.5765195,7.664889,8.226799,7.6713333,7.6852098,8.024209,7.751873,6.768694,7.595097,8.2736025,7.6514444,8.092128,7.814765,7.762663,8.1448765,7.820101,8.231393,7.679104,7.834662,8.184971,7.743164,7.6748643,7.9549417,8.07626,7.8906536,7.7545624,7.7882037,7.747994,6.8651304,7.5043406,7.585973,7.854607,7.7488694,7.090871,7.594676,8.061731,7.200792,8.224083,7.7456126,7.710219,7.5232944,7.280575,7.5555267,7.239627],\"yaxis\":\"y\",\"type\":\"scattergl\"},{\"hovertemplate\":\"leiden=7\\u003cbr\\u003eUMAP-1=%{x}\\u003cbr\\u003eUMAP-2=%{y}\\u003cextra\\u003e\\u003c\\u002fextra\\u003e\",\"legendgroup\":\"7\",\"marker\":{\"color\":\"#750D86\",\"symbol\":\"circle\",\"opacity\":1,\"size\":1.6595828228137197},\"mode\":\"markers\",\"name\":\"7\",\"showlegend\":true,\"x\":[2.8085582,2.9462564,3.3711905,3.074025,0.4037054,3.0280454,2.7490177,3.081931,2.708194,2.9762032,2.8766122,2.767247,2.9373279,2.6081874,2.816319,3.0598364,0.28554302,2.756773,2.7464838,3.1158438,2.989185,3.344438,3.0266316,3.1685956,2.922884,2.9490805,6.4015403,2.962552,2.764307,3.1981726,3.1974032,3.0754647,2.8765888,2.7454407,3.3286488,2.964953,3.3806002,2.8688726,2.9765935,2.9908845,2.7092702,2.8650944,3.022234,3.1181338,0.35510832,3.1616654,3.1633697,2.763737,2.9123795,3.1087565,2.9445627,3.14493,2.838894,3.1894226,3.0279613,0.3817809,3.2967474,2.8212936,3.1492143,3.1817892,2.9173906,3.0545223,2.5253103,2.722011,2.7664957,2.938415,2.9874668,2.8404207,2.7713814,3.3857994,3.1961114,2.8440835,2.3804579,3.2296944,2.8899117,2.7956605,9.280792,2.7781768,3.149101,2.8277013,3.205844,2.8688602,3.047286,2.7064562,2.6048203,2.857117,2.8570943,3.2010047,2.9396162,3.0155597,3.3577447,3.060355,3.245684,2.5327702,2.6865804,2.774712,2.9556906,0.28654277,2.9808707,2.9654176,3.2725723,3.0332425,2.8134823,3.2208934,2.882688,3.0628593,3.2286503,2.7715235,2.65917,3.1547391,2.7127934,2.7287087,3.0361893,3.3610117,3.3563843,0.28587246,2.675199,3.1284509,3.1666374,3.0592113,3.0971859,2.6484237,2.7080293,3.2712355,2.7319577,2.9335933,3.146222,0.27895382,3.1209836,3.1130433,2.5081308,2.5360746,2.8441682,3.1228108,2.8369906,2.7619321,2.834484,3.1135602,3.0698817,3.217422,3.218038,2.4306285,3.272695,2.6470792,2.9008992,3.0418086,3.1678524,3.032705,3.3369682,3.3545306,2.8324766,3.1148834,2.676866,2.8289068,2.9230437,2.9432907,3.2388725,2.7237263,2.9489355,3.0766132,3.1719918,2.9725845,3.0589197,2.9050741,2.8694792,2.7136712,3.0970848,2.7892115,3.0267355,2.8220189,2.9633365,3.299837,2.887478,2.3571475,2.7575307,3.0919678,2.6928246,2.9879785,2.5807593,2.9011114,2.9935572,3.2276108,2.8861032,3.1921668,2.7194617,2.5778646,3.1825223,2.8807795,0.2916864,2.8868387,3.1994977,3.1319015,2.7340827,3.073897,2.9348056,2.8679988,2.6537676,3.105361,3.1234975,2.9910803,2.7062936,2.6719153,2.9514856,3.380954,3.0585403,2.8292565,2.9000134,2.7909,3.3703024,2.9380877,2.8315768,3.081812,3.1085484,2.9145832,0.4240308,2.8097034,3.4422472,3.341662,3.1568923,2.7176974,3.0545936,2.7362692,0.28527096,3.2726147,2.8497622,2.9252765,2.7570086,3.4258053,2.998763,2.7805398,3.2236,2.9164205,2.5640016,2.7769015,3.01303,3.0319686,2.897271,2.824847,2.967788,2.9994845,3.5936284,3.1116276,2.9582396,2.8087754,3.008496,3.0657828,2.7319527,2.8463533,2.3639598,2.9720492,3.1439645,3.2810028,2.671556,2.885904,3.1534588,2.9230504,2.6183698,3.2943535,2.998366,3.0169296,2.7219954,2.7551608,0.2848019,2.7395635,3.0891623,2.68011,2.9547918,3.427045,2.816854,2.8481655,2.7338052,0.2845859,3.1676083,3.3939254,2.929048,2.672452,3.1969993,3.0520651,3.0710902,3.0003078,3.3138137,2.9341435,3.2558188,2.8662014,2.839826,3.0652676,3.7078967,3.1481066,2.7633638,3.1778753,3.372924,2.7364283,3.208543,3.3987136,3.0205197,2.9787734,2.6338546,2.9337993,2.99106,3.1609662,3.299102,2.372464,2.8954206,0.2844918,2.6688592,3.3224204,0.28453732],\"xaxis\":\"x\",\"y\":[11.266056,11.929397,11.103231,8.441956,4.4682894,10.911086,11.58493,11.375844,11.670035,11.871204,11.7440195,11.299637,11.960913,11.777155,11.461261,10.944421,4.1607966,11.650556,11.113941,11.6910715,11.549594,11.255134,11.357413,11.174708,10.954952,11.946358,6.4004474,11.344799,11.272533,11.232235,11.333899,11.788286,11.824086,11.123165,11.2016115,11.751026,11.372574,12.007302,11.563999,11.87157,11.581312,11.659967,11.395161,11.610575,4.335901,11.582345,11.458097,11.627835,11.199723,10.990058,11.449927,11.567502,11.702263,11.709958,11.376094,4.3961954,11.260832,11.646951,11.7530775,11.062242,11.604233,11.635263,11.810132,11.4826975,11.017208,11.9086275,11.721675,11.269072,11.263988,11.149734,11.471285,11.717402,11.928242,11.677333,11.386613,11.829495,9.464298,11.307742,11.028335,11.504434,11.726704,11.652388,11.877575,11.055531,11.7447,11.772532,11.700006,11.009687,11.886626,11.8085165,11.460167,11.902107,11.421873,11.774784,11.538517,11.365098,11.9505,4.168019,11.546453,11.369326,11.216206,11.429797,11.754702,11.668317,10.966409,11.384653,11.665379,11.188732,11.664856,11.346599,11.056387,11.611358,11.899952,11.308916,11.298692,4.161832,11.165856,11.258097,11.237526,11.186092,11.858763,11.43552,11.2766075,11.484326,11.17042,11.46559,11.333344,4.145542,11.503676,11.256918,11.833848,11.823371,11.591006,11.341119,11.871457,11.562485,11.500407,11.843822,11.8203,11.131517,11.633814,11.897812,11.132756,11.300109,11.348095,11.604831,11.354784,11.237954,11.325523,11.315181,11.443999,11.486577,11.099504,11.768654,11.870477,11.240268,11.609937,11.342032,11.7549305,11.754187,11.599098,11.80094,11.472512,11.495282,11.970108,11.821618,11.50673,11.329071,11.348068,11.161026,11.777131,11.300473,11.97534,11.93246,11.659857,11.284922,11.0488825,11.509234,11.737976,11.2081,11.933936,11.722087,11.945302,11.102259,11.07433,11.887069,11.314529,11.905725,4.175846,11.754337,11.30075,11.613697,11.128045,11.221324,11.973348,11.556317,11.4643135,11.424924,11.751757,11.422933,11.469559,11.745283,11.786224,11.298113,11.332105,11.794468,11.586717,10.914074,11.456697,10.92726,11.777901,11.104657,11.636833,11.791933,4.4712477,11.2560425,11.426089,11.241727,11.078184,11.268558,10.88655,11.204192,4.1611967,11.337953,11.875722,11.888529,11.87437,11.327259,11.3830185,11.163156,11.6843195,11.998504,11.795577,11.194105,11.866951,11.517753,11.510608,11.753225,11.5727625,11.296695,11.223667,10.99704,10.923766,11.996611,11.415706,11.378929,11.094433,11.886844,11.9340315,11.067217,11.221994,10.969621,11.797182,12.004881,11.286353,11.692324,11.64815,11.460574,11.878265,11.338359,11.057066,11.137531,4.1601124,11.824984,11.36028,11.107795,11.823918,11.440829,11.56324,11.764385,11.27384,4.1602173,11.226955,11.492083,11.7794695,11.470168,11.362819,11.310336,11.632654,11.745445,11.14985,11.902617,11.108865,11.714343,11.620755,11.831505,11.185946,10.925732,11.780205,11.749982,11.507852,10.995735,11.31557,11.364856,11.92378,11.383826,11.363112,11.359552,11.192879,11.133898,11.558677,11.931788,11.278325,4.1601954,11.281174,11.738008,4.160388],\"yaxis\":\"y\",\"type\":\"scattergl\"},{\"hovertemplate\":\"leiden=8\\u003cbr\\u003eUMAP-1=%{x}\\u003cbr\\u003eUMAP-2=%{y}\\u003cextra\\u003e\\u003c\\u002fextra\\u003e\",\"legendgroup\":\"8\",\"marker\":{\"color\":\"#EB663B\",\"symbol\":\"circle\",\"opacity\":1,\"size\":1.6595828228137197},\"mode\":\"markers\",\"name\":\"8\",\"showlegend\":true,\"x\":[4.70231,4.524301,5.212119,5.101732,4.8699584,4.795081,4.8117466,5.1026435,4.5133,4.6557026,4.710631,4.901136,4.9489336,4.4848256,4.6627936,4.556134,4.361967,4.785331,4.515617,4.1300664,4.4725556,4.7136445,5.460803,4.3785644,4.597113,5.1052613,-0.19152544,5.020541,4.653766,5.0539336,4.097751,-0.1957627,4.3835464,4.6973357,4.2712545,4.940354,4.635037,4.714542,4.5533133,-0.19189002,5.0094905,4.817248,4.565886,4.7888217,5.055074,4.740307,5.178225,4.9904237,4.976228,5.160668,4.52673,5.956068,4.5789146,4.6225057,4.9717054,4.7373624,5.350742,4.9206667,4.200169,4.931118,5.1827364,4.019425,4.7633843,5.100365,4.603252,4.4800367,4.1997504,4.6007376,5.1736836,5.184099,4.6747966,5.327683,4.639421,4.885917,4.989913,4.698977,5.083061,5.2233057,4.7444577,4.7213545,4.5206404,-0.19248489,4.430836,4.4691052,5.2415824,4.6349087,5.443013,-0.1938701,4.441338,-0.18658306,5.2994933,5.3315334,4.9433417,4.3893437,4.6313705,4.943236,4.385708,4.140353,4.1925,5.3433714,5.032486,-0.05461421,5.3533216,4.992776,4.3898673,4.383166,-0.19250122,5.0605836,4.75722,4.370264,4.3861694,4.400418,4.554015,5.4913073,4.9477224,4.3288717,4.911055,4.6156664,4.8471074,5.2968445,3.988372,4.037606,4.571617,4.6425886,4.8938527,4.9350405,4.908763,4.3992963,5.199827,4.055843,4.6025567,4.924016,4.6320305,4.0889254,5.302119,4.402261,4.8513665,4.097458,5.257773,4.396899,4.196991,4.9794374,4.830429,5.7085443,4.9130964,4.406335,4.0490465,4.910763,4.8540983,5.3043766,4.538435,5.121358,4.3981667,4.5313916,4.47528,4.504516,4.4258947,4.4380507,5.052939,4.9896164,5.242445,4.5168405,5.348723,4.4830103,4.5971007,4.523496,4.763019,4.5514464,4.6660075,5.266127,4.3890786,4.197148,4.7272525,4.9824085,5.0936384,4.8707194,4.578686,5.0746665,-0.1824229,4.791927,4.543013,5.100572,5.0128803,4.9515634,4.452332,4.566918,4.405277,4.427353,4.3337646,4.850431,5.0296116,4.7077146,4.590597,4.8858886,5.095048,4.7540617,4.0693293,4.6954293,4.4711123,4.867048,5.019496,4.352191,4.6989083,4.086473,5.0483937,4.795063,4.560267,4.5094414,5.0688863,5.2913737,4.4643164,4.74851,5.0770473,5.1360016,4.903651,5.235133,4.9041953,4.3648143,4.698548,4.8701744,4.6287003,5.187299,4.6137247,4.283906,5.0548644,4.192115,5.1265683,4.484918,4.5782633,4.4013443,4.820841,4.422658,4.344431,4.532463,4.7910075,4.9309845,4.3515306,5.2250924,4.514106,4.821525,4.860006,4.368054,5.122639,-0.08751214,4.689444,4.3776445,4.81651,-0.06242432,5.5670066,4.297712,4.3587904,4.582561,4.4704027,4.169897,4.4814672,4.907079,4.761854,4.730629,5.1802692,4.1799264,4.6071305,-0.19209568,4.361216,-0.1625711,5.068272,4.9347944,-0.1915962,-0.19187832,4.0044365,5.147053,4.14815,4.576232,5.303368,4.1253853,4.027463,-0.20687015,4.8927026,4.382307,5.28385,4.1620355,4.6514015,5.239862,5.217854,4.4544272,5.318946,4.1863856,4.3290834,5.134672,3.9527261,4.0290413,-0.20029859,4.579528,4.9245825,5.201724,4.9845953,4.628154,4.446327,4.356852,4.677621,4.83279,4.3073597,4.7150583,4.803207],\"xaxis\":\"x\",\"y\":[7.5952086,7.360951,6.4570127,7.2522497,7.4812922,7.6362486,7.375641,7.0974827,7.4482245,7.367793,7.4327292,7.3751826,6.878793,7.387183,7.4709415,6.9276304,7.6128373,7.3064446,7.488613,7.053467,7.076918,7.0974507,7.501134,7.0944366,6.9214253,6.8569074,2.4909663,6.9640384,7.302297,7.2594714,7.0334625,2.4866953,7.474766,6.96882,7.170399,7.6038017,7.051843,7.1088314,7.2723575,2.4906836,7.2862263,7.2691984,6.916654,6.840869,6.944273,6.8162184,7.034064,7.212862,6.9540915,7.532154,7.165295,7.4011946,7.0186067,7.3052645,6.7742157,6.8409643,7.2206206,7.0640464,7.176243,7.1364026,7.1037407,6.9940977,7.028026,6.922683,7.535419,7.0687246,7.1363773,7.2543726,7.4335356,7.0466,7.468932,7.57882,7.199558,6.994389,7.176456,7.2187424,6.9013057,6.954011,6.8378468,7.3006215,7.2555118,2.4900804,7.0938754,7.086315,7.5645223,7.232601,9.859755,2.4881196,7.572769,2.4954972,7.559233,7.2650104,7.085294,7.579563,7.4463253,6.8530383,7.5612645,7.0903535,7.190918,7.5167003,7.081514,2.6371791,7.184278,7.0446453,7.5223856,7.5696826,2.4897711,7.2057953,7.028028,7.509154,6.972986,7.1004167,7.3819156,7.5221467,7.129275,7.5994635,7.097133,6.8822207,7.290527,7.3640566,7.0053487,6.995683,6.871387,7.6512885,7.6321793,7.63789,6.803444,6.9905405,6.9426966,7.0152416,7.077562,7.0078506,7.34231,7.0581555,6.930938,7.0257854,7.278397,7.0191207,7.4618235,7.5202184,7.00268,7.366504,7.440719,7.3571234,7.02815,7.5815907,7.036405,7.5303874,7.38351,7.3398232,7.1869135,6.9881186,7.326416,6.9089375,7.5477586,7.183484,7.078745,7.1566086,7.1082616,7.3282585,7.4226723,6.873957,7.2061815,7.369341,7.3208966,6.9822993,7.3976784,7.2264338,7.58857,7.3918023,7.1599956,7.0702906,6.921086,7.388364,6.9688473,6.8608894,7.5868077,7.059528,2.4999907,7.1878214,6.909993,7.078361,7.0739503,7.049432,7.650141,7.259644,7.021439,7.5504603,7.250861,7.6135154,6.951223,7.48871,6.9399886,7.6621346,6.93544,7.116036,7.010184,6.793491,6.8262205,7.1514482,7.4180946,7.1210227,6.994173,7.0505233,6.901197,7.687309,7.507914,7.5661483,7.6938415,7.1995344,7.6845813,7.4469643,7.0030932,7.244338,6.840713,7.437107,7.4272566,7.5200295,7.3825274,7.088255,7.0390663,7.311945,7.3458204,7.1546273,6.887363,7.1107254,7.0416512,7.32066,7.2789664,7.620807,6.9499073,7.0967813,6.9909754,7.5676045,7.339949,7.0445743,7.5259495,7.6048665,6.938919,7.141585,7.6978364,7.076534,6.9283423,2.6020002,7.69062,7.6310644,7.1595087,2.6292098,7.0615444,7.361078,7.0106506,6.9488487,7.5107093,7.189312,7.0221605,6.9806604,7.484885,6.800523,7.4714866,7.204052,6.9711637,2.4903386,7.4895153,2.5202336,6.8479366,7.1306853,2.490864,2.4904523,6.9984903,7.2163687,7.3213587,7.451819,6.9546404,7.3478003,7.0291643,2.4753928,7.0245967,7.0021577,7.18183,6.978409,7.061939,7.6214514,7.3223033,7.354941,7.359727,7.0606146,6.85127,7.256618,6.941142,7.027112,2.4821064,6.8684707,7.323751,7.3726244,7.0457907,7.32697,7.272869,7.6383796,7.3344154,7.1758614,7.271791,6.732386,7.6357083],\"yaxis\":\"y\",\"type\":\"scattergl\"},{\"hovertemplate\":\"leiden=9\\u003cbr\\u003eUMAP-1=%{x}\\u003cbr\\u003eUMAP-2=%{y}\\u003cextra\\u003e\\u003c\\u002fextra\\u003e\",\"legendgroup\":\"9\",\"marker\":{\"color\":\"#511CFB\",\"symbol\":\"circle\",\"opacity\":1,\"size\":1.6595828228137197},\"mode\":\"markers\",\"name\":\"9\",\"showlegend\":true,\"x\":[6.428402,6.4138427,6.176863,6.5316253,6.7384057,6.138782,6.2374935,6.174136,6.4235077,6.839138,6.033702,6.337888,6.271898,6.768719,6.3992186,6.1833243,6.3018928,6.2201753,6.6476426,6.561639,6.3848143,6.6718574,5.9812875,6.714053,6.430182,6.6959543,6.343415,6.344728,6.0144672,5.575441,6.968837,6.671618,6.1273966,6.538545,6.6412663,6.141091,6.516667,6.3773036,6.250321,6.44146,6.4383674,6.2685122,6.94081,6.1499596,6.36461,6.739293,6.2744713,6.277619,6.491102,6.607154,6.2591944,6.417059,6.0535865,6.9804287,6.4508057,5.8914304,6.5965314,6.452207,6.5530677,6.5476274,5.887555,6.5608525,6.4996247,6.550087,6.031251,8.004545,6.3769975,6.552485,6.0319934,6.429295,6.1480036,6.17947,8.2614355,5.9473457,6.242149,6.172917,5.9783344,6.505957,5.2893033,6.393069,6.467386,7.026319,6.952979,6.532927,5.962333,6.2227535,6.431525,6.4828095,6.800329,6.51188,6.833932,5.8575273,6.5978723,6.491555,5.5456753,6.2501388,6.513274,6.414958,6.5610757,6.941192,6.6660233,6.185029,6.5343447,6.2138195,6.529759,6.2723436,6.0947948,6.787106,6.314474,6.194964,6.4648876,8.081824,6.5562396,6.452236,6.5683537,5.889665,5.992157,6.2360334,6.5228057,6.76616,6.7951636,6.117061,6.2761903,5.1328464,6.56926,6.301441,6.6584535,6.609675,6.535098,6.550103,9.890501,6.249975,6.556545,6.639382,6.079763,6.545842,5.882703,5.9166894,5.060748,6.6202097,6.8497453,6.5099044,6.504322,6.6586256,6.1404657,6.5337844,6.4687095,5.8979235,6.607675,6.1113133,6.436792,5.8669353,6.630248,6.4275613,6.80061,6.0898237,5.6882014,6.2199874,6.531596,6.666433,6.640025,6.3786054,6.0265727,5.727943,6.419964,8.384668,6.783468,6.534227,6.027575,6.2475786,6.4394217,6.6543565,6.413797,6.3745136,6.308019,6.272581,6.0676928,6.774686,6.281556,6.4168673,6.2116833,6.4864383,6.3854756,6.655697,5.3771915,6.534474,6.3972898,6.2320523,6.238755,6.092399,6.750826,6.4216466,6.6004043,6.678159,6.947497,9.900978,6.2988553,6.4932733,5.7879634,6.9280267,6.12353,6.8180375,6.7251215,6.487356,6.0423474,6.4386454,6.258133,5.936336,6.3614244,6.124451,7.03869,6.8850536,6.512399,6.9635124,6.720325,6.181231,6.577411,6.8523755,6.564342,5.890328,6.749461,6.404509,6.554392,6.285343,6.2604513,5.613957,6.8526115,6.6260257,6.2152276,6.1141777,6.745966,6.2365117,5.8831544,6.1195345,5.9177265,6.6728153,6.661507,6.0510917,5.952009,6.68361,5.9765267,6.606855,5.880117,6.4091935,5.954307,6.31451,6.2527027,6.5579085,6.8841667,5.544006,6.5682297,6.4074645,7.0044136,6.2652283,6.3113203,6.2330427,6.6692214,6.595991,6.5727863,6.7707725,6.165533,6.454002,6.47266,5.9465694,6.105598,6.7387824,6.1119304,6.6495166,5.927413,6.621266,5.939084,6.8357425],\"xaxis\":\"x\",\"y\":[6.422139,6.779134,7.2379093,7.256828,6.99308,6.377803,6.358629,6.540511,6.1717153,6.3220406,7.0885305,6.7176456,6.8694396,6.40434,6.2447457,7.237962,7.0361333,6.593021,6.865786,7.012038,7.0050545,6.5149555,6.7644196,6.3893394,6.736333,6.611584,6.5987687,6.4143476,7.1461377,8.587914,6.554583,5.2709155,6.734229,5.704926,5.365762,6.6521497,6.697864,6.5577807,6.832452,6.696793,6.236689,6.83799,6.6478243,7.336849,6.2721286,6.3757453,6.8165975,6.768998,5.894806,5.5046716,6.2902074,6.6899,6.687063,6.479322,6.89136,6.9646664,6.650099,7.0058093,5.5752983,5.646366,7.1849437,5.648529,6.698271,6.9865484,7.2323723,6.631287,6.771077,6.885214,7.0575814,5.858095,6.47034,6.398607,7.4343214,6.9200606,6.45891,6.5874076,6.836865,5.6992702,9.82175,6.2435093,7.0379734,8.58859,7.2033978,5.6834583,6.927016,6.3044777,6.7988367,6.9083104,6.6880617,5.7552037,7.096536,7.842062,6.4178295,6.7082224,6.9452033,6.3172755,6.3000903,7.286832,5.5907536,6.3033247,6.8352566,6.764594,6.915289,6.4943094,5.719522,6.371343,7.431783,6.882966,6.717351,7.255392,5.741136,7.4858093,6.4201527,6.747687,5.6634817,7.445255,7.226604,6.330269,6.495283,6.793612,6.5602717,6.5135155,6.2988935,7.1078825,7.007095,7.159601,6.9339595,5.5017176,6.2753553,5.656695,7.8068457,6.353106,7.0566387,6.2466526,6.4729614,7.041049,7.2058225,7.404511,7.0749497,6.430703,6.511372,6.9839253,7.178741,6.6284947,7.275427,5.993001,6.018059,7.8109436,5.5077643,6.961494,6.3296413,7.3590345,6.327884,6.245587,6.304864,6.730974,7.281942,6.254007,6.3018007,5.266114,6.88858,6.6812663,6.558442,7.3326836,5.890242,6.7309313,7.012038,5.923494,7.0162773,6.429251,6.6889205,6.8942614,6.959553,6.378341,6.5519905,6.5014963,6.9655943,6.5410047,7.2000465,6.276832,6.494375,6.8016734,6.923092,6.2691393,6.888581,6.982333,7.0397725,6.4357615,6.4001966,6.5290837,6.6581497,6.8110237,5.493247,5.2207413,6.617997,6.872371,6.732542,6.8807073,6.6774187,6.65152,6.498027,6.37036,6.3410897,6.767815,6.87445,6.5691495,7.228546,6.904167,7.656507,6.712921,6.450355,6.48071,5.675694,6.515731,6.3555264,7.307887,6.9287663,6.2041726,6.502054,6.979339,6.3633265,6.8509865,5.6497955,7.2361774,6.6935225,6.986183,6.341546,6.1211658,6.4377847,7.3322573,6.5542235,6.3947134,7.3362575,6.416391,6.928349,5.266974,6.5191813,6.543904,6.9120517,5.2305164,6.8537264,6.4820137,7.2547755,6.119085,6.8239923,7.24575,6.4957047,6.635232,7.022665,6.9364276,6.858729,6.9344373,6.5840073,7.3598886,6.9418807,6.562665,5.283148,6.8060894,6.970677,6.2917595,6.4354377,6.6515403,5.748744,6.959097,6.251838,6.8802643,6.50722,6.394244,6.900219,6.6739793,6.940041,7.115574],\"yaxis\":\"y\",\"type\":\"scattergl\"},{\"hovertemplate\":\"leiden=10\\u003cbr\\u003eUMAP-1=%{x}\\u003cbr\\u003eUMAP-2=%{y}\\u003cextra\\u003e\\u003c\\u002fextra\\u003e\",\"legendgroup\":\"10\",\"marker\":{\"color\":\"#00A08B\",\"symbol\":\"circle\",\"opacity\":1,\"size\":1.6595828228137197},\"mode\":\"markers\",\"name\":\"10\",\"showlegend\":true,\"x\":[1.8758178,1.526426,1.7180473,2.227124,1.4554552,1.4700024,1.5760815,1.5100355,1.0234346,1.7400916,1.897999,1.5168518,1.5809354,2.2697003,1.6195086,1.5787338,1.718509,1.4428264,1.5097915,1.4282756,1.2087526,1.1012917,1.7760086,1.5001739,2.2378366,1.7780161,1.565532,1.3942363,1.1880031,2.1948369,-0.55380917,1.506251,1.4316903,1.4253783,1.2240164,1.6286254,-0.54278207,1.2942693,1.2414535,2.1099627,1.5833147,1.6165175,1.4758343,1.6215056,1.4338092,1.6169678,6.334217,-0.5529303,1.5159191,1.0091609,1.888561,1.0962808,2.860126,1.393942,1.3476081,1.6907828,1.4030186,2.0419757,1.9883802,1.5793688,1.9277545,1.3238477,2.0456169,1.4344776,1.6230447,1.6974639,1.4819956,1.1118071,2.1865046,1.5863675,1.6600245,1.1070205,1.7812192,1.5315499,-0.5455783,2.1345527,1.0843195,1.6077583,2.0880342,1.6361959,1.3575574,1.5686088,2.1270561,1.3318653,1.6031517,1.552169,1.3537647,1.0406266,1.4042416,2.0153918,1.659942,1.1671156,1.3022108,1.5658313,1.6226777,-0.55454534,1.6523048,1.5705634,2.0040724,1.4856863,1.6024233,1.6191453,1.0630696,-0.5566981,1.437678,1.1648564,1.9187558,1.9883296,1.1828333,1.5730878,1.2089,1.8222829,1.9916599,1.2234902,1.5830678,1.7049172,-0.55503386,1.5850649,1.2443608,1.3624326,1.2752115,1.4059606,1.3945894,1.4121426,1.2346815,1.3458354,2.1286352,1.0074048,1.2893363,2.0720305,1.7694757,1.3358073,1.563612,1.2311261,1.5727028,1.3208927,1.4318144,2.3198075,1.0475354,1.9917951,1.899225,1.5420513,1.946418,1.2331754,1.9906808,1.6234796,1.2363676,1.9310322,2.0983975,1.4206755,1.9556854,1.6690581,1.9657325,1.8806633,1.281075,1.5472991,1.717316,0.89972144,1.7243191,1.6764414,1.6481787,1.5764569,1.8317825,1.966836,1.7454472,1.2593389,1.2024585,1.0653626,2.1592803,1.4560894,1.8612504,1.7078818,1.1009607,1.5754725,1.1963998,2.1710002,2.1030722,1.1680436,1.2081075,1.1096027,1.8193197,1.7444471,1.5891986,1.6563617,2.1243632,1.6553377,1.2886305,1.5308872,1.5148807,1.09866,1.0938327,1.2424436,1.9443976,2.204554,1.7503345,1.7125837,1.7137923,2.1633031,1.4126353,1.5741609,2.018675,1.6345888,1.0775843,1.9625489,1.4139694,1.9628178,1.7144209,1.0657833,2.249617,1.274741,2.181332,1.2616392,1.9943609,1.270453,2.0810738,2.034732,1.1037163,1.5107305,1.641919,1.9486217,2.1842315,1.0162987,1.9645826,1.532614,2.0163672,1.8728508,1.5835853,2.1224387,1.4582437,1.5290198,1.9301653,1.2727233,1.3906572,1.9920503,1.7091641,1.4335325,1.4236857,1.2715576,1.389418,1.0487058,1.7976661,1.2077671,-0.5181379,1.7439882,1.6112874,1.5217568,1.6926959,1.7340119,1.276183,2.1617548,1.6470568,1.612816,1.5813093,2.0371132,1.5167994,1.4996077,1.2469094,1.4395325,1.3261501,2.289902,1.3102078,1.898914,1.8868948,1.9114482,1.634449,1.2582871,1.521563,1.9114337,1.4218837,1.5528369,1.6131675],\"xaxis\":\"x\",\"y\":[10.121698,10.288069,9.973107,10.707027,10.395056,10.476644,9.8771925,10.040171,10.049339,9.87895,10.083884,9.945384,10.119288,10.869174,10.188264,9.978071,10.013433,10.238542,10.397763,10.450771,10.087346,10.075427,9.85528,9.8795395,10.72602,9.981831,10.18639,10.077904,10.076054,10.77723,10.775441,9.603718,9.597981,10.1077585,10.082197,9.8568,10.769334,10.471936,10.083896,10.659961,9.579875,9.502029,10.266563,10.135138,10.183172,9.755684,8.874891,10.77529,9.936203,10.056654,9.701845,10.061003,8.744959,10.450832,10.059236,9.898211,10.467014,9.934087,10.151049,10.346913,9.9074,10.073605,9.726799,10.315168,10.063977,10.023141,9.949498,10.111096,10.572895,10.153204,10.303229,10.0312805,9.775679,9.9332485,10.771606,9.976657,10.07668,10.001298,10.348802,9.977103,10.084612,9.912799,9.741889,10.060704,9.416173,9.464457,9.951529,10.043163,10.462316,10.069071,9.6646385,10.015132,10.385655,9.555353,10.382204,10.775556,9.899837,9.948738,10.062256,9.960587,9.428033,10.335251,10.049181,10.776399,10.213154,10.132373,10.08599,9.9641285,10.090556,10.417389,10.193001,9.920715,10.154104,10.369798,10.375339,9.765732,10.776165,10.145762,10.427668,10.463191,10.042539,9.994547,10.01632,10.335669,10.2724,10.398169,10.796193,10.061793,10.318353,10.807183,9.916629,10.035403,9.947025,10.084372,9.881764,9.973243,10.192091,10.704709,10.074402,10.040672,9.655793,9.850445,10.001286,10.132228,9.922094,9.943625,10.460631,9.69096,10.761284,10.14311,10.070785,9.781437,9.926303,9.645037,10.429546,10.076275,10.14193,10.092545,10.041126,9.837235,10.195814,10.277505,10.068242,10.057124,9.75161,10.015878,10.432561,10.0278845,10.588311,10.287998,10.26745,10.044684,10.062959,10.065635,10.109408,10.739739,10.749684,10.089937,10.240039,10.043962,9.741039,9.922989,9.969397,10.15972,10.7291155,9.615936,10.072128,9.506069,10.359219,10.144704,10.006023,10.060998,9.906575,10.808357,9.714657,10.261932,10.082622,10.745518,10.531748,10.089841,10.085976,9.895278,10.062082,9.953426,10.529051,10.230267,9.778833,10.040914,10.898947,10.07203,10.753202,10.180542,9.896147,9.957028,10.344458,10.004481,10.093183,9.5213175,10.022295,10.191258,10.792406,10.078502,9.975203,10.321607,9.853832,9.789011,10.121317,10.048941,10.009312,9.955182,9.509987,10.095298,9.949527,10.059403,10.00943,10.140391,9.980649,10.092104,10.466274,10.070999,9.759949,10.018602,10.758388,9.882452,10.109624,9.535907,9.576505,10.308884,10.099023,10.202968,9.949417,10.099242,9.700861,10.014147,9.876485,9.942798,10.160985,10.035223,9.957469,10.827296,10.0138855,9.812167,9.6094,10.034036,10.318951,10.050494,10.090692,9.945602,9.950408,10.398488,10.08897],\"yaxis\":\"y\",\"type\":\"scattergl\"},{\"hovertemplate\":\"leiden=11\\u003cbr\\u003eUMAP-1=%{x}\\u003cbr\\u003eUMAP-2=%{y}\\u003cextra\\u003e\\u003c\\u002fextra\\u003e\",\"legendgroup\":\"11\",\"marker\":{\"color\":\"#FB00D1\",\"symbol\":\"circle\",\"opacity\":1,\"size\":1.6595828228137197},\"mode\":\"markers\",\"name\":\"11\",\"showlegend\":true,\"x\":[3.6042614,4.0572057,3.5695117,3.6040015,3.876606,3.4951303,3.692305,3.7739904,3.9151914,3.3167956,4.0999618,3.9768152,3.8474112,3.6134474,3.272888,3.966808,3.9446802,3.7036784,3.5665562,3.8710673,3.5949223,3.6085308,3.5750332,3.5821962,4.0110097,3.6400955,3.6411717,3.2801611,3.5084107,2.4776158,3.8095813,3.5684392,3.6947174,3.9428253,3.8809004,3.2817805,3.3419888,3.7684011,3.3113575,3.6039789,3.9410093,2.4806097,3.7513072,3.6654413,3.252261,3.5475523,3.4102573,4.078519,3.7891326,6.280702,5.6682935,6.712784,4.0494184,3.9723043,4.6074653,3.7547815,3.8955898,3.388524,4.183862,3.681572,3.4910793,3.4306974,3.7522602,4.0670176,4.0884385,3.4298556,3.8729205,3.763085,4.0302496,3.7304854,3.3316436,3.7748687,3.7188947,3.9329762,3.3982077,3.3353877,3.6762168,3.6740606,4.1388206,3.2474158,3.5634184,3.3994858,3.917585,2.4760559,3.4336576,4.0072217,3.308599,4.4122767,4.045779,3.7934055,3.7054906,4.086608,3.288616,3.8066459,3.2672236,4.092431,3.4756346,3.9483337,5.5180483,3.566173,4.1025753,4.1076374,3.234484,3.8010132,3.5154452,3.955911,2.480706,4.012531,3.7236114,3.7375495,4.120273,3.9727833,3.700407,4.166273,3.8611324,3.3424687,3.854505,3.4253914,3.4021637,3.7285209,3.318976,3.9989207,3.3880413,4.0828834,5.4766326,3.4756696,3.331849,3.4971538,3.9372277,3.9366534,3.9989398,4.1482706,4.643384,3.2380083,3.2116873,4.0806594,3.4347277,3.962225,3.9131272,3.9319947,3.95222,3.4536228,3.6605036,3.6132908,3.831511,4.1807885,3.5599217,3.4089122,3.618798,3.8245454,3.6774187,2.0076356,4.1380033,3.859347,3.307864,4.0996323,3.7049973,3.9142234,3.31575,3.9159489,3.82112,3.8654225,3.458418,3.9859385,3.584174,3.9566996,2.4771652,4.265464,3.802434,3.6939166,3.7253556,3.7702188,3.7672255,3.5278385,4.2399974,3.3127959,5.067793,3.7048402,3.8861039,3.3104215,3.9633245,3.3261201,3.716609,3.4492464,3.5531833,3.2414443,4.0725493,3.7511609,3.45328,3.8693166,3.8905025,4.076805,3.5151553,3.9359832,5.772037,3.4629967,3.7952185,3.3174436,3.2685316,3.479023,3.5309916,3.8409333,3.5213418,3.857717,3.3948154,3.8928916,3.419381,4.2617664,4.0900564,3.4613428,3.7405996,3.5759556,3.4956641,3.3307493,3.4756708,3.5795803,3.563242,3.9372616,3.812497,4.134628,3.6961923,3.8711722,3.8995543,4.094763,3.4027612,3.2693832,3.7561743,3.5308554,3.683262,3.9904618,3.5782225,3.3356934,3.7040644,3.9471786,1.866852,3.7919197,4.295966,3.473404,3.9696634,4.104817,3.388146,4.246841,4.1224446,3.9037883,3.764716,3.2318175,3.852563,3.7631826,3.8260524,3.6896493,3.5719166,3.5149448,2.5116773,4.0901194,3.6986663,3.662456,3.6828144,3.972093,3.879042],\"xaxis\":\"x\",\"y\":[5.8709607,6.3507195,6.256646,6.0021067,6.0109043,5.9337325,6.4224825,5.5078015,5.8662453,5.443285,6.253189,5.895419,5.6267214,6.1075864,5.38326,6.217174,6.05708,5.5737467,5.9090652,5.8805323,6.369369,5.970672,5.7900763,6.0952578,6.2611303,6.4529004,6.0517797,5.3881106,5.6489315,4.59209,5.782425,5.984111,5.785506,6.1186275,6.4039173,5.4122386,5.4699664,5.716028,5.4199896,6.351104,5.7252736,4.594226,5.8847203,6.3242598,6.436015,5.538788,5.497804,6.1118984,5.7479444,6.912399,6.4627843,8.561541,6.2696795,6.2882466,6.809847,5.7448235,5.637467,6.4105363,6.3361554,6.473852,5.5016694,5.786321,6.231533,6.239456,6.1565375,5.5500684,5.8487215,5.709231,6.27464,5.511988,5.369391,5.7641335,6.067278,6.124547,6.3235264,5.4724107,5.637799,5.7569866,6.483976,6.103389,5.5153065,6.0328417,6.428858,4.5906386,5.8498936,6.246782,6.018819,6.57814,6.31898,5.76997,5.8673544,6.361182,5.6179843,6.1682115,5.3640356,6.219692,5.632938,6.1757474,6.4076943,5.601755,6.301945,6.3802104,5.358103,5.7730894,5.962629,6.257783,4.5953298,6.2192597,5.8925467,5.611087,5.9583116,5.557715,5.685926,6.404574,6.033599,5.4756975,5.6869383,6.3448353,5.4718685,5.8720317,5.385725,6.1935034,5.771281,5.6651964,6.4707522,5.7243085,5.410319,6.2795467,5.9274654,6.178856,6.239723,6.093845,6.293739,5.343742,6.630278,6.319896,5.574936,6.4611487,6.170345,6.039514,6.2299175,6.3303294,5.9165006,5.56261,5.787096,6.538787,6.322817,5.423989,6.173392,6.1451545,5.582474,9.891576,5.7522044,5.835942,6.032876,6.338727,5.918559,6.146115,5.4164934,6.261268,5.8299685,6.201098,6.278979,6.2046976,5.5981817,6.1933556,4.592781,6.2222333,5.6590447,5.663162,6.0631585,5.4888783,5.813367,5.9337206,6.1155024,5.739022,9.402399,5.6595063,5.7382064,5.728873,5.598681,5.4248257,5.7927775,5.9160953,5.6137223,6.083301,6.2861686,5.5569277,6.379475,5.5686836,5.7153907,5.8458014,5.658889,5.820584,6.5943604,6.053486,5.7778983,5.452103,5.3892875,5.544112,5.4833155,5.8197546,6.3761797,6.547566,5.464234,5.500597,5.4355793,5.9896574,6.356418,5.40761,6.250314,5.915882,5.6025047,5.784006,5.9476037,5.5357404,5.943613,6.120974,5.684207,6.092892,5.9372015,5.8651967,5.7808003,6.33845,5.7977514,5.6769176,6.0341783,5.758371,6.114767,5.669063,5.5039864,5.525555,5.9060493,5.7664123,10.000662,5.6929274,6.355226,5.4355392,5.727346,6.417082,5.666756,6.419847,6.3570065,6.26705,6.1906395,6.0999618,6.160303,5.570092,5.7389197,6.175106,5.8635097,6.3325953,4.626427,6.2466445,5.644964,5.569414,5.6872716,6.23476,5.5843253],\"yaxis\":\"y\",\"type\":\"scattergl\"},{\"hovertemplate\":\"leiden=12\\u003cbr\\u003eUMAP-1=%{x}\\u003cbr\\u003eUMAP-2=%{y}\\u003cextra\\u003e\\u003c\\u002fextra\\u003e\",\"legendgroup\":\"12\",\"marker\":{\"color\":\"#FC0080\",\"symbol\":\"circle\",\"opacity\":1,\"size\":1.6595828228137197},\"mode\":\"markers\",\"name\":\"12\",\"showlegend\":true,\"x\":[7.5522375,7.2644796,7.613817,7.761471,7.5232935,7.8773475,7.5359235,7.686606,7.264666,7.232659,7.5830536,7.4549074,7.592645,7.427519,8.539541,7.395875,8.539917,7.228953,7.3799186,7.3036656,7.3848715,8.003985,7.6430807,7.4244804,7.5005493,8.539664,8.539083,7.1360726,7.565723,7.4381995,7.4730806,7.203222,7.424981,7.4674244,7.2872252,7.690883,7.242114,7.1567235,7.6086617,7.613073,6.7112293,7.4356904,7.318359,7.3645067,7.2593527,8.539504,7.7077255,7.8004675,7.621769,7.5156064,7.556965,7.5233135,7.4683337,7.7449217,7.21767,7.29684,8.539775,7.479065,8.191114,7.5404167,7.619701,7.2818956,7.6487656,7.4756994,7.1312265,7.679178,7.482944,7.633075,7.5460362,7.1244135,7.379935,7.434111,7.2513123,7.7414794,7.1727777,7.181479,7.8340573,7.414972,7.2656345,7.5737567,8.541007,7.2951927,7.4425564,5.097498,7.641182,7.4645095,7.2226114,7.116649,8.539131,7.9601626,7.642939,8.173312,7.5039954,7.48453,7.7773557,7.243941,7.615525,7.4998336,8.534297,7.308848,7.1244516,7.1935925,7.212886,7.420103,7.1446886,7.416734,6.0842657,7.5424037,7.4956098,7.8208575,7.5239034,7.6508803,7.251623,7.5508633,7.496798,7.3491373,7.691219,7.967697,7.4612794,7.4181643,7.179628,7.76968,7.3294168,7.438997,7.530629,7.4645205,7.6803284,7.529519,7.5199018,4.4206567,7.2753053,7.3851175,7.4419985,7.7260313,7.2227297,7.5641084,7.3214736,6.9095445,7.4825177,7.499104,6.673923,7.4322553,7.567521,7.435668,7.29504,7.5052166,7.6503577,8.539921,7.6200585,7.9056897,7.468309,7.555115,7.2924895,7.9596195,7.5907583,7.323967,7.333741,7.4938197,7.5662055,7.867949,7.0415864,8.539612,7.040765,7.3701506,7.2304153,7.8756185,7.6204424,7.581112,7.2789803,7.5223503,7.259689,7.617897,7.213294,7.49502,8.115658,7.5989413,7.400772,7.707772,7.7646847,7.0183706,7.689922,7.3106465,7.7265267,7.3049064,7.645707,7.975696,7.576652,7.567233,7.285845,7.384988,7.358168,7.2456565,7.4999456,7.6422687,7.600502,7.4954767,7.4056435,7.898616,7.1608205,7.5201645,7.3357024,5.392282,7.135749,7.633432,7.359104,7.333249,7.041431,7.690695,7.2655435,7.342394,8.038945,7.571287,7.32646,7.3365893,7.971791,5.207691,7.633067,7.712299,7.389447,5.273504,7.757637,7.6052184,7.1254697,7.933986,7.1425776,7.1935806,7.6111093,6.0455046,7.7712326,8.540498,7.324892,7.5706434,7.4011645,7.2128444,7.600165,7.7457023,7.515254,7.448352,7.5911765,7.2510705,7.9078455,7.5701337,7.2870107,8.483562,7.736979,7.294658],\"xaxis\":\"x\",\"y\":[5.6357765,7.1818194,6.7210355,6.2325535,5.648879,6.0220175,6.4927387,6.5516753,6.9487987,7.0608296,6.7716994,6.212453,6.4678535,6.6267457,1.9551843,6.478485,1.9538448,6.1933837,6.2488565,7.0807705,8.873151,6.5657535,6.595429,6.965629,6.465896,1.9533474,1.9531559,6.841863,7.3879294,6.0351152,5.8653703,6.181252,5.7169557,6.4231815,7.1178813,6.542923,6.1106753,8.818769,5.451759,6.538026,6.276274,6.949843,6.313537,5.7189555,8.383935,1.953934,6.0649185,6.187418,6.398046,6.298167,5.7510624,6.1715703,6.6854844,5.58128,6.7490377,6.049185,1.9529065,5.9346085,8.844298,5.6428514,5.426371,6.7781343,5.413324,6.342195,7.0603766,6.316436,5.932027,5.5192456,6.2343135,7.001529,6.627132,6.040826,6.5156956,5.9059033,7.1106935,7.1099143,6.250937,6.6032104,5.97558,5.5254507,1.9506372,6.060955,6.4142528,6.780339,5.386317,5.725162,6.9619856,7.14392,1.9537729,6.384888,6.821015,8.7598295,5.918931,6.43123,6.0181046,8.311232,5.3545713,6.2721257,1.9556684,6.1921444,6.5780454,7.083305,6.778313,6.9644284,6.996065,6.975804,6.9925528,5.5843663,6.348522,6.634654,6.3311076,6.3073144,6.676676,6.50254,6.6574445,6.18467,6.2758794,6.658475,8.983331,6.7954617,7.3087835,6.431423,6.9641466,6.5667214,5.6481776,7.1681633,5.4758215,9.070071,5.713871,7.5542064,6.16674,6.4332104,6.951318,6.336311,6.795598,5.5942106,7.0022125,6.9502974,5.945985,5.926787,6.3899465,7.0802608,5.6157637,6.4235153,6.9721904,5.817014,6.468197,1.9538898,5.5115385,7.0347176,5.7607555,5.688423,6.949568,6.1163173,6.9779058,6.8004174,6.2140985,9.105559,5.5492134,6.150549,6.9373717,1.952802,7.093082,6.9337344,7.264059,6.098282,5.431778,6.721896,6.0429864,5.7128425,6.154288,5.5101657,6.947744,6.485302,6.3668547,6.4356203,6.9315243,7.3945017,7.312032,6.805009,5.9682117,5.9990234,6.4401164,6.9435515,5.297833,6.688217,6.601087,6.4459677,5.966904,6.642883,6.866686,6.226343,5.8188944,5.9102015,6.49782,6.73085,6.797254,5.98918,7.0529613,6.9878716,6.1563396,7.232802,7.19686,6.9057856,5.9643073,6.934254,6.1778164,9.031239,6.191937,6.542033,8.0437,5.8236055,6.2131658,6.6218805,6.365899,9.891624,5.3968678,6.230407,6.7182546,7.023622,6.295716,5.390845,6.789477,6.583817,6.830316,6.899737,6.64288,6.9162154,6.618743,1.9505223,5.912667,5.5707707,6.707834,5.9415455,6.9252095,6.5658245,6.368885,6.756516,6.811738,5.9738975,6.0612245,6.4033914,7.0491014,2.093029,5.9265575,5.9537277],\"yaxis\":\"y\",\"type\":\"scattergl\"},{\"hovertemplate\":\"leiden=13\\u003cbr\\u003eUMAP-1=%{x}\\u003cbr\\u003eUMAP-2=%{y}\\u003cextra\\u003e\\u003c\\u002fextra\\u003e\",\"legendgroup\":\"13\",\"marker\":{\"color\":\"#B2828D\",\"symbol\":\"circle\",\"opacity\":1,\"size\":1.6595828228137197},\"mode\":\"markers\",\"name\":\"13\",\"showlegend\":true,\"x\":[8.681376,8.223152,7.7941375,8.422005,8.238172,8.993016,8.132945,8.077367,5.9541035,6.667563,9.037265,8.232855,8.419212,8.212246,10.641352,8.915183,9.038931,8.422047,8.959648,10.631843,10.633385,8.845897,8.158444,5.577501,8.594578,8.504801,8.695419,8.220666,8.082966,8.327191,9.038973,8.182259,8.1779585,8.449287,10.131677,8.754618,10.474586,8.163881,8.144354,8.402202,8.480965,8.79957,8.443548,7.254702,8.12342,8.340484,8.921342,8.131602,8.674001,8.042139,8.920121,8.36486,8.9083605,8.802194,10.13135,8.77377,8.785153,8.460869,8.590835,8.01098,7.6373177,8.5089245,8.288567,10.619796,10.570346,8.769966,8.076382,10.641468,8.794249,8.936232,8.356871,8.244106,7.909467,8.910749,8.917425,8.140329,8.445456,8.156946,10.131919,8.399091,8.0967045,8.642502,8.930766,10.643634,8.593351,10.131931,10.131962,8.088299,8.132022,7.7232227,10.64579,8.017752,7.864703,8.546285,10.131967,7.8609953,8.36766,7.923263,8.8895235,8.001509,8.099176,8.186006,8.116998,8.753443,8.498468,8.1979265,8.718705,8.158686,8.126261,8.535432,8.1782055,8.935147,8.791588,8.487852,8.495637,8.712332,8.53916,10.131988,8.762926,10.63187,8.228819,10.131353,8.059274,9.044441,9.040644,8.437955,8.689624,8.003651,7.449165,8.081288,9.04218,8.939083,8.73544,10.131871,8.523166,8.532159,8.817867,10.643295,8.929721,8.503345,8.035841,8.013089,10.622371,8.15284,8.077307,8.906401,8.402714,8.56986,8.170362,8.393858,8.95159,10.6461115,10.13188,8.299613,8.226552,8.260745,8.173871,8.185528,8.06476,8.326921,8.428973,8.525197,8.73853,8.4715,8.364162,8.1722355,8.153531,8.029369,8.921444,8.394866,8.90075,8.040783,8.79244,8.947811,8.742717,8.522912,8.368432,8.097301,7.7696247,8.235991,8.510506,8.743206,8.378517,8.115922,8.895152,8.7137985,10.6235695,8.878404,8.775596,8.728818,8.236238,8.674704,8.397994,8.6417885,8.776016,8.01698,8.484524,8.446081,8.575404,10.1318865,7.9020886,8.536809,8.808348,8.170861,8.466055,10.606523,8.79355,8.927189,8.35721,8.453213,8.807685,8.367006,8.319922,8.740155,8.657048,10.131979,10.491141,8.354867,8.3850765,8.514255,8.36136,8.077471,8.316237,8.776361,10.132015,8.537811,8.56471,8.231249,8.152836],\"xaxis\":\"x\",\"y\":[9.675074,10.602933,9.111399,8.613595,9.251835,9.233496,9.250016,8.658416,8.326254,6.6416826,10.947342,9.322059,9.06152,9.119681,4.174144,9.340697,10.956231,8.94329,10.807569,4.1865273,4.1855125,10.326305,8.661435,9.833932,8.869348,9.782213,9.902145,10.581062,8.846027,8.750843,10.9563675,8.641117,9.538081,9.494619,17.149347,9.520827,4.4001794,8.871967,8.979096,9.061407,9.00809,10.1076145,9.528032,8.466109,9.29628,9.395144,9.279902,8.968633,9.836368,8.816778,10.737354,8.727166,9.295861,10.0999365,17.147148,10.107196,10.115955,9.562301,8.89081,8.759263,9.288516,9.022263,6.756558,4.2182,4.271439,8.410417,8.366311,4.1742086,10.089602,10.786551,8.851822,9.147448,8.490123,9.348653,9.323714,8.261594,9.097251,8.972683,17.150194,9.376243,9.439094,9.774108,10.742781,4.172104,8.989755,17.15027,17.150286,8.43119,9.546176,7.84146,4.1692224,8.633735,9.566498,9.068898,17.150324,8.815079,9.448068,8.197062,10.407778,9.529045,9.448179,8.4682255,9.377938,9.504792,9.001374,8.402159,10.102112,8.761276,8.436349,9.780144,9.297809,10.788626,10.135045,9.756815,9.755335,10.064888,8.954927,17.15036,10.07649,4.1867404,8.820379,17.146955,8.834231,10.946477,10.949628,9.514341,9.003471,9.71279,8.401705,9.189118,10.961692,10.776793,9.909643,17.149609,9.783694,8.827199,10.017011,4.1713967,10.773819,9.013903,9.720923,9.09652,4.198927,8.754088,8.646401,10.690328,9.080058,9.12239,9.48867,8.798931,10.803569,4.168648,17.149677,7.6310387,10.609456,8.274121,8.13726,9.522439,9.424468,9.112714,7.888847,9.780161,9.044435,9.618495,9.410779,8.087576,8.900201,9.512102,9.333827,8.938697,10.688018,8.427461,10.122441,10.8024435,10.094733,8.935013,8.89528,8.859459,8.355548,10.609882,9.588463,10.204074,8.695454,8.915837,10.415734,9.027854,4.1978717,10.407249,10.132747,9.693656,8.943276,9.878277,8.878781,8.940679,10.070252,9.527822,9.709774,9.107291,8.858504,17.1497,9.483125,9.117651,10.14994,8.306272,9.687016,4.2222257,10.168808,9.341926,8.759492,9.604752,9.449608,9.408704,8.731308,10.233804,9.402687,17.150116,4.3774786,9.114759,8.572773,8.786489,8.853294,8.706867,8.732918,10.157111,17.150236,9.005118,9.826437,10.61038,10.445804],\"yaxis\":\"y\",\"type\":\"scattergl\"},{\"hovertemplate\":\"leiden=14\\u003cbr\\u003eUMAP-1=%{x}\\u003cbr\\u003eUMAP-2=%{y}\\u003cextra\\u003e\\u003c\\u002fextra\\u003e\",\"legendgroup\":\"14\",\"marker\":{\"color\":\"#6C7C32\",\"symbol\":\"circle\",\"opacity\":1,\"size\":1.6595828228137197},\"mode\":\"markers\",\"name\":\"14\",\"showlegend\":true,\"x\":[8.423594,8.433128,8.498003,8.846992,7.851919,8.698269,7.565187,8.657315,8.620632,8.423168,7.850513,7.946381,8.149074,8.175605,8.507504,8.326391,8.937261,8.5117235,8.462747,8.425902,8.40745,8.025309,8.444624,8.151299,8.873456,8.544854,8.208373,8.807064,8.502036,8.438387,8.007644,8.595792,8.667652,8.4490795,8.679579,8.355294,8.457931,9.033182,9.006162,8.441858,8.560002,7.5637164,7.866226,7.1548643,9.009499,8.298383,8.033328,9.000641,8.458614,7.827832,9.064687,8.286523,8.378626,8.013335,8.358015,7.6371927,8.396488,8.418608,9.024921,7.896113,8.1018715,7.8422747,7.9860086,7.5897913,8.17198,8.428666,8.256354,8.418451,7.927681,8.020154,8.175071,8.199572,7.637966,7.618215,7.9876,8.860569,8.509074,8.602344,9.070272,8.404228,8.010403,8.89484,9.021176,8.927156,8.579612,8.1968775,8.502234,7.915953,8.659718,8.888141,8.607698,8.443669,7.5726056,8.911915,8.153619,8.906747,8.452784,7.596521,8.124097,7.503878,8.442261,7.9741774,7.8980384,7.8588543,8.491053,8.415399,8.253647,8.419281,7.997997,8.495462,7.9550347,8.439589,8.395645,8.473277,8.886036,8.362144,8.259093,8.408549,8.701599,8.450821,8.68359,4.8663907,8.633695,8.67798,8.637188,7.4301157,8.43395,8.385266,8.210224,8.474823,8.508546,8.010244,8.48853,8.465562,8.464578,8.4726925,8.405425,8.55856,8.38146,9.094278,8.031198,8.794238,8.458129,9.100398,8.151059,8.563365,8.497701,8.616194,7.88977,8.523002,8.378181,9.0770855,8.048618,8.242102,7.644017,8.409794,8.076986,8.501711,8.21679,8.423605,8.381125,8.6419,7.8768106,8.388829,8.828253,7.5567875,8.440631,8.813389,8.41258,8.478068,6.2549915,7.906445,7.8189816,8.68031,7.9269166,8.363001,8.366179,8.425789,9.008338,8.647984,7.8429728,7.538426,7.669956,8.0992775,7.992539,8.646118,8.366366,9.015865,8.298658,8.859125,8.328583,8.421976,8.5170965,6.2071023,8.91816,8.444012,8.979173,8.164398,8.372777,8.937453,8.321516,8.005876,8.798132,8.505591,8.364565,8.091226,8.3734,8.445007,8.953366,8.390883,8.45056,8.473582,8.940489,8.228911,8.295466,8.380828,8.484426,8.354104,8.968972,8.497943],\"xaxis\":\"x\",\"y\":[8.18068,5.6234603,8.159378,8.440364,6.962428,8.267899,9.031363,8.006541,8.359075,5.725655,7.2156157,7.2100244,8.5291,7.333674,5.32624,5.6913514,8.440016,7.735328,5.374784,5.8081,5.8179975,7.9410815,5.448139,6.3251805,8.444752,7.755981,6.256143,7.9218216,8.297562,5.3226027,6.6608744,7.985853,8.116394,8.402668,8.090738,7.8874793,5.451387,8.611049,8.531855,5.525336,8.051215,7.3268094,7.1356387,7.308392,8.5717535,6.204834,7.173323,8.536702,8.409807,7.3295846,8.647617,8.196334,5.4707227,6.136018,7.871002,7.075718,5.8343534,5.3355074,8.619599,7.035319,8.644968,7.2846246,6.9631333,8.586865,6.2897725,5.959859,5.925298,5.7863135,7.3133197,6.1137395,6.3011513,6.4069366,7.8202753,9.050363,7.2712817,8.459188,8.311063,8.401443,8.626096,8.357885,8.16083,8.515777,8.466703,8.360218,8.315902,6.2211585,8.268384,7.0668507,8.376918,8.440964,8.393004,5.751002,8.740925,8.501427,6.624807,8.467464,8.21197,9.02297,6.44624,8.818209,5.6293526,8.160008,7.2192793,7.229102,5.3052335,6.016173,7.8993053,5.782653,7.22478,8.329043,7.280096,5.4445863,8.076273,5.3354316,8.50507,5.7561145,5.757581,5.77286,8.432113,5.481351,8.428987,7.371222,8.403996,8.341998,8.395758,8.747837,5.481602,5.7579627,6.352184,5.3727684,7.7238793,6.745751,5.8266726,5.3765426,5.4039803,5.4511642,6.0094085,8.33586,6.302781,8.359255,6.7287564,8.30819,8.422128,8.639034,6.240282,8.272372,5.3044515,8.200355,8.739091,5.4948807,5.8426642,8.657321,6.2162595,6.34176,8.490496,8.311633,8.636886,8.297638,6.2536316,8.28418,5.74078,8.109372,7.204916,5.5030336,8.419667,8.605238,5.318632,8.496114,5.7761817,5.3418636,7.083783,7.218614,8.842412,8.310677,6.1568384,8.105854,7.711365,5.3344145,8.601229,8.126479,7.9961433,9.115481,8.491891,8.759711,6.3701806,8.004537,8.220308,8.581226,5.7567964,8.449715,5.6907115,5.4489107,8.262311,7.1860027,8.449494,8.730417,8.52869,6.323147,5.936162,8.4421625,6.488805,7.08086,8.342647,8.290566,8.333955,6.3820696,5.615179,5.371072,8.558272,5.8316708,5.451352,8.337049,8.518409,6.278185,7.671459,5.6200867,5.3807907,8.3353195,8.43195,5.3897643],\"yaxis\":\"y\",\"type\":\"scattergl\"},{\"hovertemplate\":\"leiden=15\\u003cbr\\u003eUMAP-1=%{x}\\u003cbr\\u003eUMAP-2=%{y}\\u003cextra\\u003e\\u003c\\u002fextra\\u003e\",\"legendgroup\":\"15\",\"marker\":{\"color\":\"#778AAE\",\"symbol\":\"circle\",\"opacity\":1,\"size\":1.6595828228137197},\"mode\":\"markers\",\"name\":\"15\",\"showlegend\":true,\"x\":[7.7127857,10.118465,8.096886,8.255465,7.721365,7.9693727,8.787481,9.318642,8.023396,7.788063,9.308024,7.6528487,8.007997,5.808959,10.148317,8.225797,9.305987,6.5324125,9.167514,8.099348,8.168064,8.660234,9.231719,8.104553,9.294614,8.74096,8.26614,7.6500072,7.852851,8.150222,7.895487,8.148481,9.200818,7.8744607,8.662226,9.278238,8.477412,8.110498,8.002101,8.356776,8.517041,8.29849,9.287542,7.981963,8.690288,8.303625,8.321573,8.201436,8.57525,9.30879,8.279308,9.009594,8.178293,7.8915086,8.180517,8.092912,8.259061,9.305617,8.176469,7.8012705,7.802726,7.946643,7.727666,9.0834875,7.578708,9.293243,8.334532,8.464707,6.3671775,7.625184,8.708695,9.309625,9.261429,7.5408163,8.432436,6.382727,7.9883246,8.240772,8.285122,9.221621,8.041604,9.07861,8.2837515,8.115197,8.87158,8.223768,8.268725,8.092572,8.265898,9.276676,9.1399975,8.040023,8.806322,9.261645,8.459438,8.019262,9.339672,8.07392,9.509131,9.048045,8.156419,8.268288,8.484577,7.729923,8.617323,8.1161585,8.009359,9.322028,8.743388,8.048314,8.69981,7.706457,7.893968,7.6439238,8.840787,8.95636,8.206997,7.7380147,7.8833227,8.269305,8.279276,9.877118,9.312637,7.911823,7.7942057,8.4528,7.711523,8.120498,7.883585,9.273595,9.219047,7.975984,8.199119,8.682342,9.304261,9.292899,8.8028555,7.6914873,8.285473,8.006335,8.752296,8.500087,9.235057,8.667736,8.325129,7.6341305,8.601739,7.7489514,7.284809,8.171689,7.7304053,9.274515,8.215015,8.5121975,8.191889,7.978382,7.8310366,8.091995,8.030587,7.6554127,9.075226,7.5925984,8.78077,9.303437,9.323106,9.316474,8.020767,8.278131,6.4719586,8.166181,8.096028,8.023585,9.060281,6.6522684,7.9734597,9.30102,8.351922,7.9847064,9.284606,9.301294,8.187181,8.531447,7.8348494,10.121637,7.6993556,8.044129,5.5409293,7.805396],\"xaxis\":\"x\",\"y\":[8.015438,7.136554,7.2983994,7.50867,6.877896,7.537015,7.7222114,5.0762815,8.063764,7.850362,5.0893054,7.283609,7.6547823,8.694468,6.944758,7.338647,5.076962,7.2915654,7.281639,7.657046,7.8745008,7.453542,5.227515,7.826887,5.1179333,7.736009,7.592648,8.212344,7.729282,7.822622,6.7750006,7.145642,5.2843328,7.8184133,7.4808006,5.1540947,7.4955745,7.5747,7.2848134,7.245054,7.6199574,7.502794,5.1122274,7.5377502,7.4670024,7.338378,7.3313184,7.48453,7.5620093,5.1171017,7.1897764,5.3286457,7.770607,7.0729623,7.568682,8.076933,7.2264934,5.085825,7.746209,7.901944,7.517744,7.8783765,6.884859,7.895223,7.379093,5.121924,7.3248262,7.361539,7.3154817,7.2043467,7.530159,5.0656004,5.1703224,7.1654925,8.110304,6.7620254,7.590411,7.8097405,7.717555,5.2445073,7.379998,7.958205,7.791505,7.208517,7.338713,7.4370756,7.549713,7.9778175,7.3206563,5.1417027,5.469861,7.7185516,7.575749,5.163404,7.204743,7.9805717,5.054351,7.734263,7.218083,7.3435535,7.2037086,7.412402,7.5282927,8.105819,7.7248087,7.749279,7.6363525,5.069064,7.8869987,7.453265,7.488575,6.898981,6.8944936,8.192107,7.4664574,5.3650956,7.9154263,7.96278,7.13744,7.3174777,7.767457,7.178431,5.061591,7.7674055,7.6477485,7.601875,8.0341015,7.3341403,6.8766456,6.9252872,5.2634516,7.5771565,7.428337,7.456864,5.1019306,5.1300073,7.783284,7.198196,7.955376,7.5058246,7.3420715,7.2637687,5.2156205,7.369931,7.799559,7.9894156,7.297623,7.996917,8.592731,7.316851,6.7057714,5.162883,7.616845,7.399767,7.228391,6.834919,7.864804,7.266311,7.9820185,7.782245,7.30029,8.138404,7.426692,5.087286,5.073323,5.057688,7.412682,7.384672,6.9772344,7.6072516,7.999835,7.7489643,8.274071,7.3908553,7.6819735,5.0924764,7.550178,7.751007,5.181784,5.0855756,7.4529405,7.5488973,7.9094563,7.175802,7.058476,8.066564,7.2447,6.890296],\"yaxis\":\"y\",\"type\":\"scattergl\"},{\"hovertemplate\":\"leiden=16\\u003cbr\\u003eUMAP-1=%{x}\\u003cbr\\u003eUMAP-2=%{y}\\u003cextra\\u003e\\u003c\\u002fextra\\u003e\",\"legendgroup\":\"16\",\"marker\":{\"color\":\"#862A16\",\"symbol\":\"circle\",\"opacity\":1,\"size\":1.6595828228137197},\"mode\":\"markers\",\"name\":\"16\",\"showlegend\":true,\"x\":[8.131623,9.301504,9.315338,8.842995,8.095753,8.691897,5.630833,9.338462,9.307661,8.395176,8.602047,8.690549,9.058765,9.014796,8.283837,10.263439,8.799217,8.797936,8.587196,8.816601,7.7051744,8.107315,6.9182577,7.6551433,9.001072,9.028794,8.003108,8.850201,9.117979,8.569914,8.381405,9.234644,8.43142,9.060882,9.16263,8.50364,8.365104,9.0733595,8.8889,6.4260964,7.9901657,8.771568,9.347024,8.371359,9.164299,8.146047,9.005664,9.277398,9.104652,8.470812,8.309185,8.46272,8.772465,8.984645,8.6464405,8.614222,8.299728,8.704298,6.016856,8.895747,8.312115,8.339426,8.438429,8.387206,8.364481,8.93616,8.219694,9.115575,8.391437,9.319696,8.7946825,9.107617,9.045117,9.137716,8.699972,8.88816,8.051861,7.9882183,4.6526747,7.414576,8.60153,7.7986107,7.880948,8.735112,7.941728,9.039781,8.943237,8.631901,8.7346735,8.857429,8.085544,8.994193,8.949728,9.13504,8.971549,8.718992,8.838962,7.8044024,8.588959,7.868959,8.998818,8.939531,8.134513,8.355373,8.280933,7.7862315,9.338135,8.833378,8.885861,9.065466,8.624833,9.28611,7.4016476,9.003972,8.0675745,9.034408,9.111361,8.341718,10.198162,8.324515,8.985618,8.743887,8.398865,8.929321,8.195077,8.698459,8.987018,9.90411,8.202237,8.796409,8.347338,8.141275,9.035209,9.153057,8.060018,8.079931,8.684804,8.566336,8.388902,8.859942,8.841412,8.19972,8.7394495,8.296786,8.061984,10.244542,8.95229,9.24245,8.4377985,8.49396,8.288294,8.451493,8.63577,8.953644,8.4312315,8.845655,8.978419,8.830848,9.036913,8.839066,9.006858,8.868021,8.5729685,8.670238,8.891091,9.325127,8.290779,8.829696,8.898645,9.016887,8.869367,9.010256,8.92535,9.2865505,8.787686,9.09392,8.720636,8.567631,8.656352,9.247491],\"xaxis\":\"x\",\"y\":[6.8990993,5.841267,5.8182073,6.9447355,8.185802,7.237193,7.1016226,5.7977605,5.8403025,7.0092764,6.7177362,7.3516617,6.6120477,6.105909,6.8948226,7.066549,6.5857754,6.8290234,6.7278333,6.5360456,6.8267045,6.883347,8.980833,6.77401,6.1930265,6.1825347,6.8840494,6.3440228,6.67497,7.8053265,6.452996,6.6941442,7.433914,6.0749006,6.710136,6.1529293,7.720269,6.526283,7.106129,6.8149943,6.656647,6.5078874,5.7866454,7.413304,6.1951237,8.193967,6.771799,5.8498263,7.0086575,6.599227,6.6724997,6.954071,6.621956,6.781683,6.63323,6.7491417,6.5933337,6.5498214,7.3098817,7.054961,6.5939126,6.5306826,7.096772,7.5100408,6.3827524,6.8291473,7.5051303,6.055522,6.591453,6.7803297,7.3356657,6.661952,6.0782614,6.6083245,6.6989927,7.0924463,8.460925,8.183611,7.59617,8.623463,6.760463,6.764774,6.4411645,6.6095304,7.4813313,6.125051,6.256423,7.6913924,6.605951,6.5364833,8.049981,6.200729,6.143164,6.0329385,6.4723697,6.5987077,6.305848,8.417814,7.2332335,7.312399,6.687405,6.286598,8.529208,7.059328,6.9952083,6.872557,5.784298,6.553664,6.438608,6.0665736,7.5260096,5.853088,8.574007,6.559185,6.947738,6.679429,6.640988,6.4428334,7.0635176,6.6795006,7.251658,6.7704625,6.689596,7.309567,7.571401,6.6042047,6.1769915,6.8720055,6.576888,6.7333636,8.097853,8.0759325,6.17611,6.6793613,8.303168,8.30282,6.592479,7.6541348,6.9735007,6.5407624,6.6105795,7.5109982,6.5535154,7.739645,8.254869,7.0613136,6.290416,5.906955,7.452983,6.799657,6.836088,7.7314095,6.7958665,6.296057,6.709728,6.5379815,6.3122787,6.5355606,6.1134906,6.535829,6.1685133,6.385707,7.1971173,6.8725715,6.5227585,5.8001256,6.382818,6.8826795,6.388922,6.81203,6.912604,6.472591,6.3307495,5.8451796,6.506074,6.058785,6.755956,6.78611,6.6664577,6.7462063],\"yaxis\":\"y\",\"type\":\"scattergl\"},{\"hovertemplate\":\"leiden=17\\u003cbr\\u003eUMAP-1=%{x}\\u003cbr\\u003eUMAP-2=%{y}\\u003cextra\\u003e\\u003c\\u002fextra\\u003e\",\"legendgroup\":\"17\",\"marker\":{\"color\":\"#A777F1\",\"symbol\":\"circle\",\"opacity\":1,\"size\":1.6595828228137197},\"mode\":\"markers\",\"name\":\"17\",\"showlegend\":true,\"x\":[7.2454047,7.5243278,7.775211,7.6565285,7.7506146,7.745828,7.488136,7.440988,7.1946654,6.381551,7.2993464,8.561252,7.308833,7.586903,7.6467237,7.451908,7.5762367,7.6367064,7.4352603,7.662511,7.3734827,7.325418,7.1404824,7.9177847,7.340681,7.636468,7.6017103,5.2846804,7.501222,7.5273547,7.542317,7.542923,7.1978493,7.5981936,7.462707,7.5170784,7.3534875,7.6118417,7.570403,7.5208635,7.6347566,7.6383114,7.698387,7.4711733,7.44078,7.6923485,5.0627947,7.4303694,7.2598267,7.826158,7.7232723,7.634619,7.841985,7.640361,7.476154,7.534774,7.4886975,7.275774,7.3616285,7.586082,6.9359756,7.462444,7.280198,7.2771997,7.473028,7.4450026,7.307983,7.685939,7.4304466,7.1954155,7.65421,7.2476187,7.4850445,7.643381,7.381587,7.4530993,7.356466,7.131999,7.3637466,7.577568,7.473896,7.1386786,7.600696,7.213747,7.792225,7.4014597,7.59836,7.1421475,7.5413666,6.402836,7.3284593,4.92376,9.02031,7.5150805,7.51641,6.989595,7.3714356,7.3932753,7.582922,7.481182,7.5142126,7.7087073,7.353057,7.7780957,7.458284,7.6929693,7.316453,7.2012935,7.5108237,7.5100913,7.520485,7.793469,7.1579704,7.230366,7.0401244,7.4525714,7.5061326,7.227395,7.5483055,7.485765,7.168123,7.716816,7.4602437,7.2907763,7.5959787,7.634969,7.4919853,7.6358624,7.1343346,8.818844,7.100478,7.4193916,7.484825,7.06312,7.5762258,7.1520443,7.487045,7.62252,7.546076,7.48885,7.6517625,7.442531,7.6007824,7.540972,7.6354885,7.5278397,7.4334464,7.5370255,7.008958,7.505163,7.1605334,7.6349983,6.799465,7.538996,7.453667,4.866589,7.4073462,7.6396766,6.9768076,7.4121947,7.4436684,7.3045225,7.52959,7.6043577,7.492833,7.6712837,7.634423],\"xaxis\":\"x\",\"y\":[8.760132,10.143552,9.106792,9.915651,9.089311,9.14226,8.948443,9.656835,9.123737,7.5641828,8.748278,9.374144,9.497042,9.100346,9.969295,9.168643,9.543883,10.717519,9.603269,9.175931,8.946867,8.772632,9.159456,9.608582,8.828077,10.714962,9.187579,7.0608683,9.927896,10.050694,10.190024,10.0445595,8.83352,9.370112,9.528955,9.134461,9.024388,9.486114,9.21574,9.647733,9.918511,10.728847,9.185522,9.840756,9.691034,9.384489,7.18202,9.762908,8.691927,9.254728,9.091855,10.721468,7.2695904,10.732505,9.977917,9.997269,9.813268,8.678519,9.21968,8.606648,8.832671,9.717407,9.085866,8.9092045,9.708502,9.16236,9.48146,9.840994,9.252651,9.289595,9.849218,8.812149,9.937677,9.105344,9.089177,9.3387375,8.990693,8.523117,9.487107,9.675849,8.787966,9.118618,8.9044,9.418231,9.296934,8.829075,9.09441,9.363949,8.994229,8.12985,8.967236,7.211154,8.152863,10.001824,9.976005,8.933562,8.865546,9.234861,9.406505,9.817222,9.803298,9.413541,8.817915,8.552582,9.6017475,9.314025,8.78303,8.648938,9.094699,9.921612,9.957528,9.202038,9.346292,8.731875,6.546725,9.897231,10.060749,9.22201,10.079821,9.623066,8.875914,8.57362,9.573279,8.884301,9.418388,10.716734,9.950601,9.973671,8.648851,7.2692676,8.819251,9.179456,9.750908,9.117803,9.367148,8.771654,9.486424,9.091341,9.421926,9.23811,9.933492,9.808998,9.381187,10.160012,10.720342,9.54102,8.787488,10.161547,8.880591,7.1501007,9.120523,10.717006,8.550625,10.11368,8.945272,7.2603707,9.6288,9.532558,8.843554,9.7810335,8.9510975,8.773492,9.97047,9.378042,9.845398,9.248686,9.9236355],\"yaxis\":\"y\",\"type\":\"scattergl\"},{\"hovertemplate\":\"leiden=18\\u003cbr\\u003eUMAP-1=%{x}\\u003cbr\\u003eUMAP-2=%{y}\\u003cextra\\u003e\\u003c\\u002fextra\\u003e\",\"legendgroup\":\"18\",\"marker\":{\"color\":\"#620042\",\"symbol\":\"circle\",\"opacity\":1,\"size\":1.6595828228137197},\"mode\":\"markers\",\"name\":\"18\",\"showlegend\":true,\"x\":[-0.26099408,-0.44828442,-0.5739019,-0.79401,-0.4707294,-0.4341786,-0.7949135,-0.5558401,-0.8789432,-0.74645305,-0.40892494,-0.47235924,-0.43671656,-0.28712827,-0.7846538,-0.53931355,-0.34988382,-0.81262475,-0.2653623,-0.78667206,-0.21252774,-0.84454197,-0.52775884,-0.66255826,-0.31047723,-0.7117042,-0.8316175,-0.783918,-0.23477477,-0.27198803,-0.42684677,-0.766711,-0.6507163,-0.38113663,-0.23464534,-0.29000223,-0.38212812,-0.15538956,-0.1352736,-0.34813628,-0.12646103,-0.26367873,-0.24734628,-0.55036134,-0.3627853,-0.20467988,-0.20635453,-0.17226784,-0.34254262,-1.251151,-0.452526,-0.19531491,-0.207811,-0.4295111,-0.6203705,-0.748431,-0.45840448,-0.28005415,-0.38686863,-0.7692663,-0.2665014,-0.33871195,-0.25753957,-0.48702934,-0.34968305,-0.3500306,-0.5563493,-0.19160075,-0.38074073,-0.39100304,-0.298527,-0.40727824,-1.2468709,-0.42152122,-0.6128753,-0.20228086,-0.4786623,-0.762936,-0.2547499,-0.7113076,-0.33277944,-0.23781046,-0.2728927,-0.53323466,-0.66876143,-0.9596313,-0.3764964,-0.5323302,-1.250522,-0.33355284,-0.55569625,-0.27097398,-0.40812647,-0.31997955,-1.1211323,-0.21233721,5.953031,-0.4299671,-0.74834293,-1.2602333,-0.18090004,-0.44243392,-0.21069625,-0.68728304,-0.34769592,-0.5368931,-0.6372974,-0.31888026,-0.7140107,-0.2090284,-0.19817004,-0.318792,-0.5915929,-0.45021245,-0.96973264,-0.50223935,-0.6361937,-0.1639215,-0.31341517,-0.17148542,-0.8826866,-0.71415156,-0.28736532,-0.19885711,-0.40338263,-0.24896848,-0.9016083,-0.45973897,-0.68503064,-0.30105057,-0.25788325,-0.52086157,-0.82099634,-0.14880514,-0.26549923,-0.9693024,-0.47343865,-0.7801091,-0.37788564,-0.5533712,-0.46404544,-1.2047786,-0.5500719,-0.4022413,-0.49496368,-0.37150404,-0.40502745,-0.44590592],\"xaxis\":\"x\",\"y\":[7.108227,7.0609317,6.9327936,7.054225,7.035422,7.1203766,7.016927,7.0267406,7.033153,6.977775,7.0270634,6.9292183,6.971198,7.035818,7.025971,6.979,7.007224,7.020928,6.999157,7.036239,7.023207,6.9954515,6.875919,6.992616,7.0907073,7.0301237,7.07314,7.0221653,6.9544315,6.9912195,6.975146,7.0104814,6.9919853,6.958157,7.1541657,7.1087985,7.0630493,7.085589,7.2241426,7.029256,7.1580663,7.026227,7.036918,7.0084653,7.052869,7.0758924,7.0660734,7.2407594,7.1440945,7.0460873,7.105522,7.047332,6.9357657,6.968508,7.129426,7.020555,6.9876604,7.0415893,6.9727283,7.030421,7.0844383,7.1019,6.9819083,6.9551816,7.1316032,7.0913696,7.084386,7.0692863,7.1894526,6.9915867,7.127703,6.897901,7.0459304,7.1348696,7.0310707,6.904397,7.0510902,6.9605594,7.0812283,7.079177,7.0114985,7.069621,7.055752,6.8770294,7.0357265,7.036871,7.1289616,6.9817734,7.044957,6.987852,6.8785524,7.059473,7.133139,7.0794954,7.0374646,7.287647,7.4768023,7.0745115,7.04555,7.046927,6.986521,6.9965463,7.0935917,7.0102296,7.010192,7.1454964,6.987127,7.049958,7.0005584,7.162268,7.0697036,7.1982107,7.007931,7.0402904,7.0624595,7.0979657,7.0947194,7.128516,7.017265,7.286639,7.015824,7.065957,7.048593,6.987297,7.0378666,6.999533,7.030249,7.1062264,7.0272393,7.042349,7.003252,6.936433,6.9978037,7.004285,7.0101585,7.0495605,6.9510612,7.013634,7.1265464,7.006385,7.1430364,7.0425982,6.8996897,6.9369106,6.8185215,7.0305114,7.1347733,6.883793],\"yaxis\":\"y\",\"type\":\"scattergl\"},{\"hovertemplate\":\"leiden=19\\u003cbr\\u003eUMAP-1=%{x}\\u003cbr\\u003eUMAP-2=%{y}\\u003cextra\\u003e\\u003c\\u002fextra\\u003e\",\"legendgroup\":\"19\",\"marker\":{\"color\":\"#1616A7\",\"symbol\":\"circle\",\"opacity\":1,\"size\":1.6595828228137197},\"mode\":\"markers\",\"name\":\"19\",\"showlegend\":true,\"x\":[10.924086,11.096213,10.722267,11.038661,11.095163,9.831432,11.105744,10.9706955,11.1167145,10.955872,10.947432,11.8837,11.897587,11.008624,10.953138,11.013842,10.438801,11.079418,11.047257,11.902765,10.685413,10.548876,10.707401,11.036413,10.624676,11.082662,11.891433,10.709966,10.401447,11.094341,10.934421,10.761666,10.906276,10.397259,11.08639,11.8966875,10.742119,10.639006,10.927274,11.090832,10.763673,11.039139,11.890675,11.03379,11.89982,10.837593,10.629077,10.339558,10.899219,11.055295,11.082251,11.894793,10.968879,10.938731,10.92284,10.487305,10.859446,11.833375,11.117703],\"xaxis\":\"x\",\"y\":[9.402053,9.6111355,9.297736,9.552269,9.60884,8.931749,9.618591,9.48778,9.626527,9.517653,9.470036,10.317868,10.33096,9.528663,9.483094,9.527465,9.273325,9.592341,9.560657,10.33649,9.298978,9.173798,9.309059,9.550272,9.236994,9.592265,10.326004,9.285665,9.264077,9.602789,9.468009,9.346071,9.435925,9.228478,9.594653,10.331603,9.333812,9.347207,9.457191,9.599125,9.353019,9.548495,10.325137,9.548561,10.332654,9.374182,9.25761,9.098626,9.437701,9.566394,9.592946,10.32863,9.521856,9.470804,9.447617,9.267137,9.397242,10.273316,9.627431],\"yaxis\":\"y\",\"type\":\"scattergl\"},{\"hovertemplate\":\"leiden=20\\u003cbr\\u003eUMAP-1=%{x}\\u003cbr\\u003eUMAP-2=%{y}\\u003cextra\\u003e\\u003c\\u002fextra\\u003e\",\"legendgroup\":\"20\",\"marker\":{\"color\":\"#DA60CA\",\"symbol\":\"circle\",\"opacity\":1,\"size\":1.6595828228137197},\"mode\":\"markers\",\"name\":\"20\",\"showlegend\":true,\"x\":[9.656973,9.267494,9.765778,9.472657,9.582712,9.63908,9.53314,9.601071,9.826635,9.931901,9.860148,9.50586,9.646503,9.746388,9.531756,9.926716,9.690989,5.8526573,9.762596,9.276352,9.804593,9.18463,9.869453,9.843952,9.866282,9.921399,9.8980665,9.904098,8.897712,9.846572,9.642016,9.90713,9.308038,8.6868105,9.665002,9.888038,9.86193,9.881693,9.656221,9.672319,9.606634,9.760945,9.754822,9.970457,9.8144455,9.557192,9.7034,9.736971,9.586956,9.917905,9.909095,9.304226,9.849611,9.622886,9.570461,9.916293,9.738679,9.645641],\"xaxis\":\"x\",\"y\":[7.256743,7.4388566,7.6149015,7.299406,7.218596,7.20359,7.2644606,7.4305234,7.1907682,7.134807,7.1371737,7.1562057,7.2627916,7.1663632,7.5013695,7.1453414,7.2654095,4.963759,7.171921,7.3970914,7.078243,7.359925,7.1582327,7.2315574,7.206798,7.3802176,7.1793027,7.1486573,8.108255,7.0965705,7.197857,7.2263384,7.206326,7.9130726,7.1545014,7.197731,7.242392,7.134083,7.391443,7.2619543,7.1866183,7.00938,7.144915,7.2156963,7.454719,7.1010294,7.197146,7.183532,7.491612,7.1528683,7.1955776,7.3816767,7.2012825,7.5037155,7.2107654,7.1379247,7.112274,7.381841],\"yaxis\":\"y\",\"type\":\"scattergl\"},{\"hovertemplate\":\"leiden=21\\u003cbr\\u003eUMAP-1=%{x}\\u003cbr\\u003eUMAP-2=%{y}\\u003cextra\\u003e\\u003c\\u002fextra\\u003e\",\"legendgroup\":\"21\",\"marker\":{\"color\":\"#6C4516\",\"symbol\":\"circle\",\"opacity\":1,\"size\":1.6595828228137197},\"mode\":\"markers\",\"name\":\"21\",\"showlegend\":true,\"x\":[-4.1429057,-15.942745,-15.947104,-4.1429124,-15.941964,-15.9537,11.12458,-15.951402,11.124642,-15.941482,-4.1429176,-15.952576,-15.9524355,-15.939369,-15.945432,-15.944779,-15.942944,-15.944543,-4.1429224,-4.1429286,-15.934312,-15.945406,-4.1429315,11.124597,-15.940047,-15.938824,-4.1429353,-15.927466,11.124629,-15.885232,-15.94682,11.085014,-15.944529,-15.938679,-15.94087,-15.948039,-4.1429424,-4.1429496,-15.938585,-15.955615,-15.925949,-15.939789,11.124636,-15.9207735,-4.1429586,-4.142963,-4.142964,11.124659,-15.893523,-15.9487505,-4.142971,-4.142979,-4.142981],\"xaxis\":\"x\",\"y\":[21.945257,9.77542,9.770834,21.945265,9.776245,9.764266,20.327774,9.767657,20.328535,9.7765465,21.945272,9.765433,9.765725,9.778995,9.772471,9.773231,9.775353,9.773489,21.945282,21.945292,9.784034,9.772607,21.945297,20.327772,9.778074,9.781126,21.945312,9.791003,20.32846,9.832478,9.771262,6.9228106,9.77356,9.779612,9.777673,9.769802,21.94532,21.945322,9.77996,9.762472,9.792442,9.778612,20.328485,9.797768,21.945337,21.94534,21.945347,20.328487,9.82519,9.769404,21.945358,21.945377,21.945385],\"yaxis\":\"y\",\"type\":\"scattergl\"},{\"hovertemplate\":\"leiden=22\\u003cbr\\u003eUMAP-1=%{x}\\u003cbr\\u003eUMAP-2=%{y}\\u003cextra\\u003e\\u003c\\u002fextra\\u003e\",\"legendgroup\":\"22\",\"marker\":{\"color\":\"#0D2A63\",\"symbol\":\"circle\",\"opacity\":1,\"size\":1.6595828228137197},\"mode\":\"markers\",\"name\":\"22\",\"showlegend\":true,\"x\":[7.547216,7.4924483,7.519624,7.4719095,7.473142,7.476797,7.449724,7.4548225,7.4943075,7.5573893,7.5274887,7.4940224,7.576188,7.491278,7.427189,7.579523,7.5017114,7.4703393,7.427812,7.4775243,7.5132017,7.5577602,7.4371057,7.5751085,7.5641856,7.5537896,7.44703,7.4340496,7.494548,7.4633512,7.56986,7.4120965,7.400056,7.3940325,7.4725986,7.3670344,7.480815,7.556738,7.412705,7.429229,7.5682416,7.542115,7.546152,7.4246697,7.468726,7.5302362,7.4188,7.558948,7.4891624,7.448821,7.5032215],\"xaxis\":\"x\",\"y\":[29.412943,29.358158,29.385328,29.337719,29.338978,29.342554,29.315418,29.32061,29.360098,29.423134,29.393255,29.359743,29.44195,29.357065,29.293066,29.445301,29.367584,29.336199,29.293533,29.343393,29.379042,29.423542,29.302961,29.44088,29.430008,29.419592,29.31272,29.299871,29.360298,29.32923,29.435686,29.27786,29.26587,29.25987,29.33844,29.232857,29.346636,29.422514,29.278551,29.294994,29.434053,29.407898,29.412012,29.29046,29.334581,29.396074,29.284657,29.424679,29.354984,29.314732,29.369003],\"yaxis\":\"y\",\"type\":\"scattergl\"},{\"hovertemplate\":\"leiden=23\\u003cbr\\u003eUMAP-1=%{x}\\u003cbr\\u003eUMAP-2=%{y}\\u003cextra\\u003e\\u003c\\u002fextra\\u003e\",\"legendgroup\":\"23\",\"marker\":{\"color\":\"#AF0038\",\"symbol\":\"circle\",\"opacity\":1,\"size\":1.6595828228137197},\"mode\":\"markers\",\"name\":\"23\",\"showlegend\":true,\"x\":[-10.577379,-10.611638,-10.608374,-10.579144,-10.591471,-10.615476,-10.598117,-10.615397,-10.610904,-10.599379,-10.602034,-10.548026,-10.628477,-10.57377,-10.553586,-10.622687,-10.584572,-10.572806,-10.555803,-10.560684,-10.584044,-10.611534,-10.613101,-10.602722,-10.556585,-10.608958,-10.592122,-10.585049,-10.555708,-10.61203,-10.626803,-10.606089,-10.545898,-10.625481,-10.628212,-10.560833,-10.61886,-10.610798,-10.60291,-10.600783,-10.5129,-10.559792,-10.619131,-10.613764,-10.564163,-10.614686,-10.62533,-10.62375],\"xaxis\":\"x\",\"y\":[-7.8545623,-7.8204045,-7.8238955,-7.8526173,-7.8400517,-7.816426,-7.833811,-7.816678,-7.821178,-7.832565,-7.8299065,-7.8838797,-7.803644,-7.8582,-7.878335,-7.809263,-7.847327,-7.8590474,-7.8761353,-7.8712626,-7.8479495,-7.820579,-7.819004,-7.829284,-7.8753834,-7.822983,-7.8398395,-7.846766,-7.87663,-7.8201017,-7.805318,-7.826045,-7.886101,-7.8065076,-7.8039937,-7.871169,-7.813483,-7.820879,-7.8291087,-7.831242,-7.91911,-7.872236,-7.814527,-7.818295,-7.8678937,-7.8173685,-7.8069305,-7.8085427],\"yaxis\":\"y\",\"type\":\"scattergl\"},{\"hovertemplate\":\"leiden=24\\u003cbr\\u003eUMAP-1=%{x}\\u003cbr\\u003eUMAP-2=%{y}\\u003cextra\\u003e\\u003c\\u002fextra\\u003e\",\"legendgroup\":\"24\",\"marker\":{\"color\":\"#2E91E5\",\"symbol\":\"circle\",\"opacity\":1,\"size\":1.6595828228137197},\"mode\":\"markers\",\"name\":\"24\",\"showlegend\":true,\"x\":[11.939567,11.885964,11.884196,11.915381,11.933515,11.937033,11.92494,11.93886,11.92526,11.887348,11.807884,11.892697,11.936546,11.8932,11.932462,11.891901,11.912845,11.941774,11.901013,11.800474,8.499342,11.801503,11.892512,11.8998165,11.920812,11.859092,11.910761,11.935309,11.892393,11.877127,11.925106,11.922217,11.940162,11.923317,11.935281,11.948454,11.905943,11.917763],\"xaxis\":\"x\",\"y\":[-2.6928122,-2.624578,-2.6228843,-2.667211,-2.6857889,-2.6911116,-2.6770093,-2.6929169,-2.6785827,-2.6255589,-2.5047731,-2.6309435,-2.6899266,-2.6307118,-2.6864436,-2.6429355,-2.664157,-2.6955292,-2.6437712,-2.49708,5.3017583,-2.498037,-2.6310482,-2.6384485,-2.672574,-2.5973835,-2.65434,-2.689655,-2.6312575,-2.6202915,-2.676584,-2.6736088,-2.6921515,-2.6748388,-2.6888616,-2.7019029,-2.6309457,-2.6684887],\"yaxis\":\"y\",\"type\":\"scattergl\"},{\"hovertemplate\":\"leiden=25\\u003cbr\\u003eUMAP-1=%{x}\\u003cbr\\u003eUMAP-2=%{y}\\u003cextra\\u003e\\u003c\\u002fextra\\u003e\",\"legendgroup\":\"25\",\"marker\":{\"color\":\"#E15F99\",\"symbol\":\"circle\",\"opacity\":1,\"size\":1.6595828228137197},\"mode\":\"markers\",\"name\":\"25\",\"showlegend\":true,\"x\":[7.4450483,7.498955,7.395473,7.4386272,7.4766645,7.4836006,7.508495,7.4768496,7.472371,7.4312115,7.452319,7.5115814,7.432845,7.5400734,7.4753585,7.520036,7.506199,7.4109797,7.406211,7.4216514,7.5218782,7.445638,7.5520034,7.4485965,7.5108104,7.4382005],\"xaxis\":\"x\",\"y\":[29.310804,29.364742,29.261208,29.304337,29.342365,29.349287,29.374277,29.342592,29.33815,29.297007,29.31804,29.377417,29.298634,29.405838,29.34122,29.385855,29.372066,29.276796,29.272024,29.287437,29.387722,29.311493,29.417812,29.314398,29.37666,29.30383],\"yaxis\":\"y\",\"type\":\"scattergl\"},{\"hovertemplate\":\"leiden=26\\u003cbr\\u003eUMAP-1=%{x}\\u003cbr\\u003eUMAP-2=%{y}\\u003cextra\\u003e\\u003c\\u002fextra\\u003e\",\"legendgroup\":\"26\",\"marker\":{\"color\":\"#1CA71C\",\"symbol\":\"circle\",\"opacity\":1,\"size\":1.6595828228137197},\"mode\":\"markers\",\"name\":\"26\",\"showlegend\":true,\"x\":[-1.2707994,-1.2707479,-1.2681311,-1.2711432,-1.2705932,-1.2627798,-1.2700912,-1.2642668,-1.270753,-1.2771964,-1.2694348,-1.2712634,-1.2705911,-1.2711332,-1.2653037,-1.271087,-1.2789484,-1.2745695,-1.2592244,-1.2705775,-1.2697592,-1.2840965],\"xaxis\":\"x\",\"y\":[-12.977235,-12.97719,-12.974576,-12.977589,-12.977054,-12.969252,-12.976549,-12.970695,-12.97722,-12.983674,-12.975909,-12.977735,-12.977078,-12.977614,-12.971784,-12.977592,-12.985472,-12.981282,-12.965739,-12.977084,-12.976268,-12.990649],\"yaxis\":\"y\",\"type\":\"scattergl\"},{\"hovertemplate\":\"leiden=27\\u003cbr\\u003eUMAP-1=%{x}\\u003cbr\\u003eUMAP-2=%{y}\\u003cextra\\u003e\\u003c\\u002fextra\\u003e\",\"legendgroup\":\"27\",\"marker\":{\"color\":\"#FB0D0D\",\"symbol\":\"circle\",\"opacity\":1,\"size\":1.6595828228137197},\"mode\":\"markers\",\"name\":\"27\",\"showlegend\":true,\"x\":[1.5358092,1.5338136,1.5263733,1.5152276,1.5316484,1.5316217,1.5420376,1.5512931,1.5430455,1.5521369,1.5227017,1.5324392,1.532465,1.5327007,1.5326052,1.5144424,1.5328459,1.5357783],\"xaxis\":\"x\",\"y\":[-6.933443,-6.9355764,-6.9448247,-6.9547844,-6.9383297,-6.9383636,-6.927927,-6.9187117,-6.9247894,-6.9157996,-6.948344,-6.9375777,-6.9375525,-6.9372973,-6.937434,-6.9556894,-6.937138,-6.93404],\"yaxis\":\"y\",\"type\":\"scattergl\"},{\"hovertemplate\":\"leiden=28\\u003cbr\\u003eUMAP-1=%{x}\\u003cbr\\u003eUMAP-2=%{y}\\u003cextra\\u003e\\u003c\\u002fextra\\u003e\",\"legendgroup\":\"28\",\"marker\":{\"color\":\"#DA16FF\",\"symbol\":\"circle\",\"opacity\":1,\"size\":1.6595828228137197},\"mode\":\"markers\",\"name\":\"28\",\"showlegend\":true,\"x\":[-11.611999,-11.612008,-11.610802,-11.611399,-11.610741,-11.611742,-11.611811,-11.611843,-11.611801,-11.611978,-11.615141,-11.612048,-11.612015,-11.612522,-11.611956,-11.612143,-11.612026,-11.61208],\"xaxis\":\"x\",\"y\":[19.806385,19.806389,19.805656,19.806038,19.805662,19.806221,19.806261,19.806284,19.806255,19.806356,19.808115,19.806383,19.806368,19.80666,19.806332,19.806429,19.80638,19.806389],\"yaxis\":\"y\",\"type\":\"scattergl\"}],                        {\"template\":{\"data\":{\"barpolar\":[{\"marker\":{\"line\":{\"color\":\"white\",\"width\":0.5},\"pattern\":{\"fillmode\":\"overlay\",\"size\":10,\"solidity\":0.2}},\"type\":\"barpolar\"}],\"bar\":[{\"error_x\":{\"color\":\"rgb(36,36,36)\"},\"error_y\":{\"color\":\"rgb(36,36,36)\"},\"marker\":{\"line\":{\"color\":\"white\",\"width\":0.5},\"pattern\":{\"fillmode\":\"overlay\",\"size\":10,\"solidity\":0.2}},\"type\":\"bar\"}],\"carpet\":[{\"aaxis\":{\"endlinecolor\":\"rgb(36,36,36)\",\"gridcolor\":\"white\",\"linecolor\":\"white\",\"minorgridcolor\":\"white\",\"startlinecolor\":\"rgb(36,36,36)\"},\"baxis\":{\"endlinecolor\":\"rgb(36,36,36)\",\"gridcolor\":\"white\",\"linecolor\":\"white\",\"minorgridcolor\":\"white\",\"startlinecolor\":\"rgb(36,36,36)\"},\"type\":\"carpet\"}],\"choropleth\":[{\"colorbar\":{\"outlinewidth\":1,\"tickcolor\":\"rgb(36,36,36)\",\"ticks\":\"outside\"},\"type\":\"choropleth\"}],\"contourcarpet\":[{\"colorbar\":{\"outlinewidth\":1,\"tickcolor\":\"rgb(36,36,36)\",\"ticks\":\"outside\"},\"type\":\"contourcarpet\"}],\"contour\":[{\"colorbar\":{\"outlinewidth\":1,\"tickcolor\":\"rgb(36,36,36)\",\"ticks\":\"outside\"},\"colorscale\":[[0.0,\"#440154\"],[0.1111111111111111,\"#482878\"],[0.2222222222222222,\"#3e4989\"],[0.3333333333333333,\"#31688e\"],[0.4444444444444444,\"#26828e\"],[0.5555555555555556,\"#1f9e89\"],[0.6666666666666666,\"#35b779\"],[0.7777777777777778,\"#6ece58\"],[0.8888888888888888,\"#b5de2b\"],[1.0,\"#fde725\"]],\"type\":\"contour\"}],\"heatmapgl\":[{\"colorbar\":{\"outlinewidth\":1,\"tickcolor\":\"rgb(36,36,36)\",\"ticks\":\"outside\"},\"colorscale\":[[0.0,\"#440154\"],[0.1111111111111111,\"#482878\"],[0.2222222222222222,\"#3e4989\"],[0.3333333333333333,\"#31688e\"],[0.4444444444444444,\"#26828e\"],[0.5555555555555556,\"#1f9e89\"],[0.6666666666666666,\"#35b779\"],[0.7777777777777778,\"#6ece58\"],[0.8888888888888888,\"#b5de2b\"],[1.0,\"#fde725\"]],\"type\":\"heatmapgl\"}],\"heatmap\":[{\"colorbar\":{\"outlinewidth\":1,\"tickcolor\":\"rgb(36,36,36)\",\"ticks\":\"outside\"},\"colorscale\":[[0.0,\"#440154\"],[0.1111111111111111,\"#482878\"],[0.2222222222222222,\"#3e4989\"],[0.3333333333333333,\"#31688e\"],[0.4444444444444444,\"#26828e\"],[0.5555555555555556,\"#1f9e89\"],[0.6666666666666666,\"#35b779\"],[0.7777777777777778,\"#6ece58\"],[0.8888888888888888,\"#b5de2b\"],[1.0,\"#fde725\"]],\"type\":\"heatmap\"}],\"histogram2dcontour\":[{\"colorbar\":{\"outlinewidth\":1,\"tickcolor\":\"rgb(36,36,36)\",\"ticks\":\"outside\"},\"colorscale\":[[0.0,\"#440154\"],[0.1111111111111111,\"#482878\"],[0.2222222222222222,\"#3e4989\"],[0.3333333333333333,\"#31688e\"],[0.4444444444444444,\"#26828e\"],[0.5555555555555556,\"#1f9e89\"],[0.6666666666666666,\"#35b779\"],[0.7777777777777778,\"#6ece58\"],[0.8888888888888888,\"#b5de2b\"],[1.0,\"#fde725\"]],\"type\":\"histogram2dcontour\"}],\"histogram2d\":[{\"colorbar\":{\"outlinewidth\":1,\"tickcolor\":\"rgb(36,36,36)\",\"ticks\":\"outside\"},\"colorscale\":[[0.0,\"#440154\"],[0.1111111111111111,\"#482878\"],[0.2222222222222222,\"#3e4989\"],[0.3333333333333333,\"#31688e\"],[0.4444444444444444,\"#26828e\"],[0.5555555555555556,\"#1f9e89\"],[0.6666666666666666,\"#35b779\"],[0.7777777777777778,\"#6ece58\"],[0.8888888888888888,\"#b5de2b\"],[1.0,\"#fde725\"]],\"type\":\"histogram2d\"}],\"histogram\":[{\"marker\":{\"line\":{\"color\":\"white\",\"width\":0.6}},\"type\":\"histogram\"}],\"mesh3d\":[{\"colorbar\":{\"outlinewidth\":1,\"tickcolor\":\"rgb(36,36,36)\",\"ticks\":\"outside\"},\"type\":\"mesh3d\"}],\"parcoords\":[{\"line\":{\"colorbar\":{\"outlinewidth\":1,\"tickcolor\":\"rgb(36,36,36)\",\"ticks\":\"outside\"}},\"type\":\"parcoords\"}],\"pie\":[{\"automargin\":true,\"type\":\"pie\"}],\"scatter3d\":[{\"line\":{\"colorbar\":{\"outlinewidth\":1,\"tickcolor\":\"rgb(36,36,36)\",\"ticks\":\"outside\"}},\"marker\":{\"colorbar\":{\"outlinewidth\":1,\"tickcolor\":\"rgb(36,36,36)\",\"ticks\":\"outside\"}},\"type\":\"scatter3d\"}],\"scattercarpet\":[{\"marker\":{\"colorbar\":{\"outlinewidth\":1,\"tickcolor\":\"rgb(36,36,36)\",\"ticks\":\"outside\"}},\"type\":\"scattercarpet\"}],\"scattergeo\":[{\"marker\":{\"colorbar\":{\"outlinewidth\":1,\"tickcolor\":\"rgb(36,36,36)\",\"ticks\":\"outside\"}},\"type\":\"scattergeo\"}],\"scattergl\":[{\"marker\":{\"colorbar\":{\"outlinewidth\":1,\"tickcolor\":\"rgb(36,36,36)\",\"ticks\":\"outside\"}},\"type\":\"scattergl\"}],\"scattermapbox\":[{\"marker\":{\"colorbar\":{\"outlinewidth\":1,\"tickcolor\":\"rgb(36,36,36)\",\"ticks\":\"outside\"}},\"type\":\"scattermapbox\"}],\"scatterpolargl\":[{\"marker\":{\"colorbar\":{\"outlinewidth\":1,\"tickcolor\":\"rgb(36,36,36)\",\"ticks\":\"outside\"}},\"type\":\"scatterpolargl\"}],\"scatterpolar\":[{\"marker\":{\"colorbar\":{\"outlinewidth\":1,\"tickcolor\":\"rgb(36,36,36)\",\"ticks\":\"outside\"}},\"type\":\"scatterpolar\"}],\"scatter\":[{\"fillpattern\":{\"fillmode\":\"overlay\",\"size\":10,\"solidity\":0.2},\"type\":\"scatter\"}],\"scatterternary\":[{\"marker\":{\"colorbar\":{\"outlinewidth\":1,\"tickcolor\":\"rgb(36,36,36)\",\"ticks\":\"outside\"}},\"type\":\"scatterternary\"}],\"surface\":[{\"colorbar\":{\"outlinewidth\":1,\"tickcolor\":\"rgb(36,36,36)\",\"ticks\":\"outside\"},\"colorscale\":[[0.0,\"#440154\"],[0.1111111111111111,\"#482878\"],[0.2222222222222222,\"#3e4989\"],[0.3333333333333333,\"#31688e\"],[0.4444444444444444,\"#26828e\"],[0.5555555555555556,\"#1f9e89\"],[0.6666666666666666,\"#35b779\"],[0.7777777777777778,\"#6ece58\"],[0.8888888888888888,\"#b5de2b\"],[1.0,\"#fde725\"]],\"type\":\"surface\"}],\"table\":[{\"cells\":{\"fill\":{\"color\":\"rgb(237,237,237)\"},\"line\":{\"color\":\"white\"}},\"header\":{\"fill\":{\"color\":\"rgb(217,217,217)\"},\"line\":{\"color\":\"white\"}},\"type\":\"table\"}]},\"layout\":{\"annotationdefaults\":{\"arrowhead\":0,\"arrowwidth\":1},\"autotypenumbers\":\"strict\",\"coloraxis\":{\"colorbar\":{\"outlinewidth\":1,\"tickcolor\":\"rgb(36,36,36)\",\"ticks\":\"outside\"}},\"colorscale\":{\"diverging\":[[0.0,\"rgb(103,0,31)\"],[0.1,\"rgb(178,24,43)\"],[0.2,\"rgb(214,96,77)\"],[0.3,\"rgb(244,165,130)\"],[0.4,\"rgb(253,219,199)\"],[0.5,\"rgb(247,247,247)\"],[0.6,\"rgb(209,229,240)\"],[0.7,\"rgb(146,197,222)\"],[0.8,\"rgb(67,147,195)\"],[0.9,\"rgb(33,102,172)\"],[1.0,\"rgb(5,48,97)\"]],\"sequential\":[[0.0,\"#440154\"],[0.1111111111111111,\"#482878\"],[0.2222222222222222,\"#3e4989\"],[0.3333333333333333,\"#31688e\"],[0.4444444444444444,\"#26828e\"],[0.5555555555555556,\"#1f9e89\"],[0.6666666666666666,\"#35b779\"],[0.7777777777777778,\"#6ece58\"],[0.8888888888888888,\"#b5de2b\"],[1.0,\"#fde725\"]],\"sequentialminus\":[[0.0,\"#440154\"],[0.1111111111111111,\"#482878\"],[0.2222222222222222,\"#3e4989\"],[0.3333333333333333,\"#31688e\"],[0.4444444444444444,\"#26828e\"],[0.5555555555555556,\"#1f9e89\"],[0.6666666666666666,\"#35b779\"],[0.7777777777777778,\"#6ece58\"],[0.8888888888888888,\"#b5de2b\"],[1.0,\"#fde725\"]]},\"colorway\":[\"#1F77B4\",\"#FF7F0E\",\"#2CA02C\",\"#D62728\",\"#9467BD\",\"#8C564B\",\"#E377C2\",\"#7F7F7F\",\"#BCBD22\",\"#17BECF\"],\"font\":{\"color\":\"rgb(36,36,36)\"},\"geo\":{\"bgcolor\":\"white\",\"lakecolor\":\"white\",\"landcolor\":\"white\",\"showlakes\":true,\"showland\":true,\"subunitcolor\":\"white\"},\"hoverlabel\":{\"align\":\"left\"},\"hovermode\":\"closest\",\"mapbox\":{\"style\":\"light\"},\"paper_bgcolor\":\"white\",\"plot_bgcolor\":\"white\",\"polar\":{\"angularaxis\":{\"gridcolor\":\"rgb(232,232,232)\",\"linecolor\":\"rgb(36,36,36)\",\"showgrid\":false,\"showline\":true,\"ticks\":\"outside\"},\"bgcolor\":\"white\",\"radialaxis\":{\"gridcolor\":\"rgb(232,232,232)\",\"linecolor\":\"rgb(36,36,36)\",\"showgrid\":false,\"showline\":true,\"ticks\":\"outside\"}},\"scene\":{\"xaxis\":{\"backgroundcolor\":\"white\",\"gridcolor\":\"rgb(232,232,232)\",\"gridwidth\":2,\"linecolor\":\"rgb(36,36,36)\",\"showbackground\":true,\"showgrid\":false,\"showline\":true,\"ticks\":\"outside\",\"zeroline\":false,\"zerolinecolor\":\"rgb(36,36,36)\"},\"yaxis\":{\"backgroundcolor\":\"white\",\"gridcolor\":\"rgb(232,232,232)\",\"gridwidth\":2,\"linecolor\":\"rgb(36,36,36)\",\"showbackground\":true,\"showgrid\":false,\"showline\":true,\"ticks\":\"outside\",\"zeroline\":false,\"zerolinecolor\":\"rgb(36,36,36)\"},\"zaxis\":{\"backgroundcolor\":\"white\",\"gridcolor\":\"rgb(232,232,232)\",\"gridwidth\":2,\"linecolor\":\"rgb(36,36,36)\",\"showbackground\":true,\"showgrid\":false,\"showline\":true,\"ticks\":\"outside\",\"zeroline\":false,\"zerolinecolor\":\"rgb(36,36,36)\"}},\"shapedefaults\":{\"fillcolor\":\"black\",\"line\":{\"width\":0},\"opacity\":0.3},\"ternary\":{\"aaxis\":{\"gridcolor\":\"rgb(232,232,232)\",\"linecolor\":\"rgb(36,36,36)\",\"showgrid\":false,\"showline\":true,\"ticks\":\"outside\"},\"baxis\":{\"gridcolor\":\"rgb(232,232,232)\",\"linecolor\":\"rgb(36,36,36)\",\"showgrid\":false,\"showline\":true,\"ticks\":\"outside\"},\"bgcolor\":\"white\",\"caxis\":{\"gridcolor\":\"rgb(232,232,232)\",\"linecolor\":\"rgb(36,36,36)\",\"showgrid\":false,\"showline\":true,\"ticks\":\"outside\"}},\"title\":{\"x\":0.05},\"xaxis\":{\"automargin\":true,\"gridcolor\":\"rgb(232,232,232)\",\"linecolor\":\"rgb(36,36,36)\",\"showgrid\":false,\"showline\":true,\"ticks\":\"outside\",\"title\":{\"standoff\":15},\"zeroline\":false,\"zerolinecolor\":\"rgb(36,36,36)\"},\"yaxis\":{\"automargin\":true,\"gridcolor\":\"rgb(232,232,232)\",\"linecolor\":\"rgb(36,36,36)\",\"showgrid\":false,\"showline\":true,\"ticks\":\"outside\",\"title\":{\"standoff\":15},\"zeroline\":false,\"zerolinecolor\":\"rgb(36,36,36)\"}}},\"xaxis\":{\"anchor\":\"y\",\"domain\":[0.0,1.0],\"title\":{\"text\":\"UMAP-1\"}},\"yaxis\":{\"anchor\":\"x\",\"domain\":[0.0,1.0],\"title\":{\"text\":\"UMAP-2\"}},\"legend\":{\"title\":{\"text\":\"leiden\"},\"tracegroupgap\":0,\"itemsizing\":\"constant\"},\"margin\":{\"t\":60},\"width\":800,\"height\":500},                        {\"responsive\": true}                    ).then(function(){\n",
              "                            \n",
              "var gd = document.getElementById('2eef5174-d7a5-44c5-92dd-255623491f98');\n",
              "var x = new MutationObserver(function (mutations, observer) {{\n",
              "        var display = window.getComputedStyle(gd).display;\n",
              "        if (!display || display === 'none') {{\n",
              "            console.log([gd, 'removed!']);\n",
              "            Plotly.purge(gd);\n",
              "            observer.disconnect();\n",
              "        }}\n",
              "}});\n",
              "\n",
              "// Listen for the removal of the full notebook cells\n",
              "var notebookContainer = gd.closest('#notebook-container');\n",
              "if (notebookContainer) {{\n",
              "    x.observe(notebookContainer, {childList: true});\n",
              "}}\n",
              "\n",
              "// Listen for the clearing of the current output cell\n",
              "var outputEl = gd.closest('.output');\n",
              "if (outputEl) {{\n",
              "    x.observe(outputEl, {childList: true});\n",
              "}}\n",
              "\n",
              "                        })                };                            </script>        </div>\n",
              "</body>\n",
              "</html>"
            ]
          },
          "metadata": {}
        }
      ]
    },
    {
      "cell_type": "markdown",
      "source": [
        "In order to confirm that the clusters above contain the cell types we anticipate, we'll add the existing cell labels from the dataset pulled in from BQ to our AnnData object. To do this we'll perform the following merge:"
      ],
      "metadata": {
        "id": "m5tspe_2kmzL"
      }
    },
    {
      "cell_type": "code",
      "source": [
        "cell_type = data_subset[['iVar', 'Ctype']]\n",
        "cell_type['iVar'] = cell_type['iVar'].str.rsplit('_', n=1).str.get(1)\n",
        "cell_type.drop_duplicates(inplace=True)\n",
        "cell_type.set_index('iVar', inplace=True)"
      ],
      "metadata": {
        "colab": {
          "base_uri": "https://localhost:8080/"
        },
        "id": "IJch0Phai0br",
        "outputId": "592bb9f6-7117-452f-a3a5-4bcdc3839bed"
      },
      "execution_count": null,
      "outputs": [
        {
          "output_type": "stream",
          "name": "stderr",
          "text": [
            "<ipython-input-31-30a87d3bb5f5>:2: SettingWithCopyWarning:\n",
            "\n",
            "\n",
            "A value is trying to be set on a copy of a slice from a DataFrame.\n",
            "Try using .loc[row_indexer,col_indexer] = value instead\n",
            "\n",
            "See the caveats in the documentation: https://pandas.pydata.org/pandas-docs/stable/user_guide/indexing.html#returning-a-view-versus-a-copy\n",
            "\n",
            "<ipython-input-31-30a87d3bb5f5>:3: SettingWithCopyWarning:\n",
            "\n",
            "\n",
            "A value is trying to be set on a copy of a slice from a DataFrame\n",
            "\n",
            "See the caveats in the documentation: https://pandas.pydata.org/pandas-docs/stable/user_guide/indexing.html#returning-a-view-versus-a-copy\n",
            "\n"
          ]
        }
      ]
    },
    {
      "cell_type": "code",
      "source": [
        "fragment_data.obs = fragment_data.obs.merge(how='left',right=cell_type, left_index=True, right_index=True)"
      ],
      "metadata": {
        "id": "Mi51b3Q5jNcz"
      },
      "execution_count": null,
      "outputs": []
    },
    {
      "cell_type": "markdown",
      "source": [
        "Now when we plot the UMAP again, we can see that although there is some mixture of cells shown within the dataset, the predominate group shown are blasts as the paper cited."
      ],
      "metadata": {
        "id": "ORSztLXCk4Fp"
      }
    },
    {
      "cell_type": "code",
      "source": [
        "snap.pl.umap(fragment_data, color='Ctype', interactive=True, height=800, width=800)"
      ],
      "metadata": {
        "colab": {
          "base_uri": "https://localhost:8080/",
          "height": 817
        },
        "id": "V265w96_jnuI",
        "outputId": "4e9f3e1b-cf46-4eb2-9230-9fd8f7e06a27"
      },
      "execution_count": null,
      "outputs": [
        {
          "output_type": "display_data",
          "data": {
            "text/html": [
              "<html>\n",
              "<head><meta charset=\"utf-8\" /></head>\n",
              "<body>\n",
              "    <div>            <script src=\"https://cdnjs.cloudflare.com/ajax/libs/mathjax/2.7.5/MathJax.js?config=TeX-AMS-MML_SVG\"></script><script type=\"text/javascript\">if (window.MathJax && window.MathJax.Hub && window.MathJax.Hub.Config) {window.MathJax.Hub.Config({SVG: {font: \"STIX-Web\"}});}</script>                <script type=\"text/javascript\">window.PlotlyConfig = {MathJaxConfig: 'local'};</script>\n",
              "        <script charset=\"utf-8\" src=\"https://cdn.plot.ly/plotly-2.35.2.min.js\"></script>                <div id=\"a8d4517d-3882-4138-b47c-a2c2f61b79f7\" class=\"plotly-graph-div\" style=\"height:800px; width:800px;\"></div>            <script type=\"text/javascript\">                                    window.PLOTLYENV=window.PLOTLYENV || {};                                    if (document.getElementById(\"a8d4517d-3882-4138-b47c-a2c2f61b79f7\")) {                    Plotly.newPlot(                        \"a8d4517d-3882-4138-b47c-a2c2f61b79f7\",                        [{\"hovertemplate\":\"Ctype=Blasts\\u003cbr\\u003eUMAP-1=%{x}\\u003cbr\\u003eUMAP-2=%{y}\\u003cextra\\u003e\\u003c\\u002fextra\\u003e\",\"legendgroup\":\"Blasts\",\"marker\":{\"color\":\"#2E91E5\",\"symbol\":\"circle\",\"opacity\":1,\"size\":1.6595828228137197},\"mode\":\"markers\",\"name\":\"Blasts\",\"showlegend\":true,\"x\":[8.987697,7.10615,11.050572,4.5853653,7.16299,4.8935027,5.879668,8.045123,5.626713,4.420944,8.625193,3.1166008,11.516811,8.409035,8.958357,5.7137413,4.72121,9.741723,2.1277764,2.4600904,6.610106,4.4809737,11.945678,4.4022117,9.717614,6.67182,5.183683,9.073924,8.964523,4.5961266,7.4865026,5.7941957,6.06413,1.7760473,8.058273,5.7615,5.4175577,11.216211,2.6230874,2.062945,8.24968,5.750855,9.286643,6.367084,8.923741,5.696055,-6.1577616,4.750258,11.0291605,8.204058,6.169345,2.414587,10.577971,5.633411,7.377212,3.3658028,1.6616836,7.1181912,10.38394,1.6589018,7.1262693,5.2352467,8.116435,6.566197,8.054688,6.4722533,8.2160225,4.350165,6.09705,5.9986677,3.097764,7.83885,2.0182698,8.848865,10.70925,6.961644,3.6747139,3.586686,6.6845937,7.7562423,3.9080064,6.8140593,6.94049,8.883256,8.24053,-10.319897,7.400713,6.5422845,4.5344477,5.981532,4.31647,5.974695,7.1641154,1.8475586,3.7081702,6.949026,5.831971,2.696464,8.204334,1.3537475,8.186831,8.2495165,6.166653,14.11651,7.3354826,9.621983,4.647541,7.0954127,4.876894,7.16056,15.254496,8.330247,5.847948,10.552586,7.6564875,3.953998,7.7632523,3.517601,7.5532274,2.5732095,17.221972,7.4245114,7.078358,2.1099334,4.129899,9.200402,4.0549755,9.64722,7.3160434,7.7755723,2.2181792,4.801515,7.3926983,8.398386,5.8842072,9.886932,11.123973,7.7247925,6.783082,10.38098,11.179609,1.8260583,8.155457,7.922494,8.097843,4.505549,1.9066653,8.327848,7.102178,8.319916,4.9174137,2.857569,3.7614918,8.788956,3.7648537,3.9147713,7.177215,5.47906,7.2248697,12.066127,7.3214574,-6.4011908,7.379697,7.1939073,2.3029418,2.5513062,-1.2604192,10.265506,10.4830265,8.851739,9.251608,2.9343984,1.9112809,8.608819,6.7897453,1.9639746,9.584347,7.736272,7.875924,9.655669,8.918733,7.808267,9.766678,7.8191457,7.1895165,2.6319942,9.952209,7.83622,7.737389,3.205795,8.071352,7.1649523,2.6375613,5.676766,7.9124837,9.174637,8.090628,2.0161796,8.582611,8.544126,13.836382,6.761791,7.0834203,11.331203,5.8862357,3.768187,8.808438,8.316783,8.507757,9.168179,6.419541,11.087674,2.6895077,8.853693,10.204134,10.412529,7.348965,6.795112,10.287789,6.811382,13.285413,3.7320697,7.812196,5.27762,10.444216,3.9418647,5.9843664,10.07863,7.6107264,1.7025367,9.556683,7.97369,7.6673245,5.696263,6.819845,4.885917,4.7135205,7.2831087,9.407948,8.099364,8.021637,2.8479655,5.451319,5.6993747,8.567864,7.0754585,7.1395884,7.223848,10.444848,6.4436016,7.3283772,11.737315,7.0214386,7.573396,6.8622136,11.423206,7.016281,11.012329,7.1301045,5.75805,8.449346,10.489341,1.7057031,8.4087925,8.227853,7.2536135,1.6501648,30.990557,7.7332344,7.7638593,2.850005,6.2361603,6.002118,5.5001125,7.724357,6.258826,7.604555,7.4119525,8.614341,8.070515,7.20198,6.9355917,5.7259593,3.5611782,11.278294,1.5324199,8.602761,3.2696426,3.4155877,8.015472,3.0630522,8.274849,1.4311948,8.489028,8.256195,9.669098,9.728053,2.1314828,5.317049,6.476994,5.8547006,5.4405084,5.6015735,12.982521,11.330347,6.8198442,8.055086,8.355374,6.3237753,7.8568125,7.2588778,5.5652356,4.4204817,10.094722,6.285712,10.8131695,10.895919,6.1721344,7.072918,3.4753747,5.759903,3.90536,7.544977,7.096172,15.255057,1.9137809,8.736578,3.876537,8.371004,3.1225877,8.195329,5.4220066,2.3604834,10.415198,10.369689,5.2382565,5.578225,6.260787,6.2844934,6.584833,10.384441,6.0681434,3.631557,7.736056,6.5258155,5.817644,4.6657495,13.279012,7.5014853,2.1591778,5.788487,8.374718,8.993707,7.1134524,2.7844186,7.5739756,11.756071,1.8446956,10.178592,6.401915,5.7175307,5.9378448,8.296402,5.9076853,11.864356,10.905027,7.101601,7.661116,6.133795,8.466616,8.030554,7.550952,6.1460304,6.4849305,3.9068408,9.896272,8.639443,6.187293,5.2046824,5.4913707,4.7944474,4.938153,4.9212666,4.906925,5.2095156,7.2301993,6.108128,2.9330833,4.215064,5.9050965,4.785445,10.113564,9.63976,8.119779,1.7090895,6.8865685,10.0132475,5.8603516,11.812718,3.6114583,9.304161,4.4921527,7.592221,3.6289606,7.797556,10.444662,5.552456,8.7684,9.1239195,10.443951,-15.185501,5.719804,9.139383,9.949129,2.4947467,10.903832,1.5191263,12.2593775,7.5951004,4.278282,7.354676,7.137078,7.163129,6.580627,6.5012956,6.14696,6.069325,6.6130395,8.551718,9.744835,5.586975,10.631571,6.41202,4.408181,2.7051418,3.742945,7.3215485,4.584566,2.3068085,8.7791815,7.4562516,6.3388896,7.896592,10.2899,7.7201495,6.162447,9.721758,6.257039,7.7273145,10.06721,8.324097,7.1739955,6.8380375,8.043837,2.807072,4.7190847,3.3318114,5.770687,6.000722,3.1096756,6.95052,-14.557203,8.274072,2.9591665,7.6005044,8.757263,11.337299,7.6252174,8.81206,3.7233343,6.037138,8.140227,2.6650538,4.456433,9.804237,9.419674,6.9915013,7.5152674,8.078956,7.705979,8.778305,7.8545036,6.3406515,7.3388057,6.675986,1.9831003,9.412661,1.9073724,5.225683,4.0050573,-15.186736,12.326688,8.309025,7.15537,1.7577204,7.3357944,6.769238,3.0327065,2.8727245,5.2811685,3.469235,7.7055764,10.062126,3.6770432,6.1538453,8.140536,3.0251677,10.94057,9.440616,4.3790774,10.778952,8.185781,-6.4012094,9.848274,10.776813,7.944535,5.432872,3.6089134,7.1757607,9.783571,8.652096,6.653575,3.7938929,10.232143,9.175657,6.8614254,5.7026944,13.265577,6.1095004,8.684408,6.467103,5.5175085,8.212446,3.0802462,6.222259,9.285986,3.2007298,5.8566985,7.18535,11.980341,7.5860066,5.5840316,7.183766,5.522229,9.97083,8.263671,8.829952,8.588293,10.429011,2.6962485,7.424027,2.470107,6.9619656,5.6853743,4.950253,5.7962365,7.875442,5.9016714,5.7321134,8.085729,3.1915529,7.7409573,3.1966968,5.658231,7.7900076,-15.182322,3.8855927,10.871917,7.058828,1.5564842,2.0400507,4.5629787,9.103872,8.316411,6.060602,3.3222415,7.0677013,5.6415095,5.7775645,4.8518662,7.7729826,10.757894,8.771517,19.957842,5.8549156,5.5240765,6.376352,9.582196,7.832199,10.814332,3.3010135,11.405282,9.214845,8.512423,9.420289,-0.5111916,7.3088846,5.793057,5.823481,11.621057,3.4620461,9.403548,3.4393396,4.825538,10.455939,8.974431,7.444173,11.574933,9.292006,8.124838,5.6462636,5.9242077,5.818776,4.7726636,5.709152,3.9081209,8.073105,7.4489303,7.874415,7.19514,3.9842978,9.006738,7.340479,2.8155684,8.429865,3.6222882,3.140091,7.1601844,6.891676,9.614896,2.6084855,4.2508926,5.770451,10.748072,10.77048,6.88956,7.710519,11.220233,5.646153,8.606058,5.780672,10.336744,7.112564,5.4324136,1.5773844,7.486582,3.558747,9.3220005,9.091413,9.763742,3.8088942,7.434606,10.227917,7.798761,4.219339,9.038079,2.2661555,9.098575,8.3316145,7.1033425,10.965288,8.975622,10.902645,5.0928664,2.5055003,6.2165523,7.9217663,4.173168,6.3218665,-0.103862144,5.740086,4.405933,8.576163,6.065778,5.751414,8.358136,9.734028,8.309212,8.420917,9.24354,9.729769,2.635232,2.8579352,2.6657612,6.2505565,3.8513825,5.556801,6.9550185,4.5403476,7.3172703,12.727202,7.5798554,4.7748475,3.7213926,5.334678,8.945331,2.9563663,8.153544,13.832246,9.154902,7.0839868,5.865819,3.397205,2.864153,9.860108,10.450226,8.943218,4.612745,9.740716,7.7449145,6.7768455,7.0131207,5.5956616,4.7295327,2.0387573,3.883603,8.221842,5.525084,5.962289,7.6944475,10.584019,6.244591,3.5129468,5.3912187,7.3809795,6.9810424,7.003109,11.349361,4.092145,4.9260464,3.1129858,5.7725396,3.4445958,3.921276,10.18408,6.9193497,3.2300622,4.287903,7.7081804,4.4086328,3.992742,10.237469,2.1248078,5.62632,11.656021,7.0370674,10.240384,1.7255992,7.872628,9.038351,5.38349,2.7393541,4.431549,1.9316512,10.439384,3.9512637,5.8148284,6.104444,4.6219797,9.27976,9.24789,3.8824847,5.569985,-10.3445425,10.175748,9.008357,8.055969,7.7904577,3.6895804,9.669888,9.232854,8.132041,7.8082404,7.895038,5.515501,6.1238694,10.243105,4.5839067,4.1267724,5.7610865,5.6035924,5.937979,6.1495013,7.1041527,8.764467,2.961579,10.444396,5.598395,8.120391,7.444231,3.7492912,8.025982,8.845152,5.9777093,6.802958,11.706749,9.651506,-0.10142418,11.217245,-15.19301,9.902762,8.285901,7.9439754,9.674039,10.515188,11.041608,11.833079,11.941446,7.5255866,2.944922,5.7067513,2.5267453,6.189277,6.0404863,11.201195,11.7067995,7.836292,4.919142,6.88692,10.719642,5.598019,10.4595585,4.895052,5.5773797,8.037563,7.3810077,11.79424,8.301906,6.7825155,6.3024526,8.998158,1.7315964,5.549912,8.4303255,9.922877,7.7022634,6.4312735,5.5680213,1.9613819,7.9191656,7.151986,3.7116141,8.502401,2.9177423,9.531601,5.9101863,5.3530807,1.9540161,8.039574,7.198616,10.141684,9.40345,13.836069,4.0726748,9.796817,8.681074,7.12095,4.4190574,10.984452,7.688762,5.57481,5.542872,6.4794083,7.991383,5.3913975,9.395118,5.399439,-0.5173347,8.146693,3.7940037,5.171228,6.2317853,6.1778016,5.732283,7.388722,6.242502,1.8536443,7.3280525,31.001925,6.8198447,9.7359705,7.029869,9.713489,13.791205,9.411636,13.047553,5.816418,5.838026,8.335643,5.7909775,8.320659,8.38802,9.762205,5.811712,8.841819,5.8821597,8.418081,2.486452,10.073341,9.139041,5.2130637,3.262475,5.8501844,6.36856,11.003978,9.917261,4.491888,3.5874386,9.648196,7.216087,8.784984,6.04569,9.070221,8.482167,2.3763034,5.935064,2.7422974,1.438101,6.044099,3.3371098,9.035842,10.850006,2.3015728,8.161178,5.203145,8.04354,5.8213553,8.599387,10.384154,7.5460453,8.729157,7.1123166,7.8565397,9.823679,7.160878,6.5233073,9.152342,-10.290544,8.705833,11.645943,7.825836,1.6027504,6.0085897,10.945854,5.3755474,8.927713,11.926932,8.397976,3.9639902,7.1380672,4.0321693,5.852943,3.2782881,7.4359655,8.233662,7.0739326,5.8059354,7.1112847,1.78299,9.105487,4.9571548,10.297186,7.137041,9.082869,6.1188364,8.343029,8.595976,7.212618,7.7478075,10.077571,9.337274,7.0293508,5.9783134,7.0098076,6.0291424,5.2974534,4.256102,8.579808,8.593853,4.416359,11.818768,7.168608,2.9881213,6.375578,5.333718,3.996374,8.126723,2.0983338,7.5455475,6.2515645,8.039946,6.981108,2.8024662,8.070686,5.8771944,7.1617064,10.770232,7.887735,4.1720514,6.111418,8.710225,7.09346,4.078853,-6.40122,8.929638,8.5125265,7.9873166,6.8726754,-14.556237,9.152909,10.320418,8.038104,7.8889766,5.669801,6.2371383,6.8933206,5.630407,2.787096,6.2457623,8.032693,9.209358,8.844887,6.346379,5.7912498,8.180587,7.529835,9.2110615,3.7698107,8.6201515,1.5991788,5.8310595,5.032884,11.709099,3.6841946,5.4960804,7.8448725,9.161482,2.344814,6.2080545,5.953207,6.0113993,4.8372264,5.2856817,8.612603,6.231609,10.276396,7.275926,4.0559673,9.037159,6.4755297,2.7874362,2.316372,3.6973403,5.717633,11.894395,1.8183658,15.255141,7.51186,8.20041,9.39339,7.5969872,3.0017176,7.832285,8.347335,9.651046,8.883361,5.306099,9.383919,12.24222,5.9671226,6.957183,2.5477095,6.4419146,2.2823327,5.3033485,30.999012,2.538707,6.151829,4.1424437,2.647823,4.47541,7.195504,6.4618926,1.6636839,4.078497,7.755063,3.5661092,7.3752456,6.2844086,5.898803,5.1051397,6.87272,6.30026,11.523485,2.8597157,8.026647,12.735946,2.394906,7.2948985,4.0097017,5.8496675,8.882184,9.643219,7.3406587,2.8983157,6.7458854,6.357573,3.34127,1.685151,6.994981,10.952156,7.2487836,7.6866975,8.831955,11.36313,5.486531,7.939703,5.6866746,6.8303666,8.275588,5.534781,10.191612,9.373525,9.998137,7.473471,7.363294,5.0494876,9.905137,4.0346503,5.9726086,8.780116,6.941652,8.899346,8.187508,11.013397,8.833326,1.9530629,8.384533,5.782008,3.100687,9.855758,5.8761325,7.2448273,6.9075027,5.690368,7.34375,8.1767645,7.7765656,6.304273,6.9619737,5.6705847,8.184185,2.0562966,2.9362833,7.7013416,8.45293,11.940142,8.461207,1.8417255,3.5172834,2.5632784,3.6199195,8.275227,3.8156204,6.1501927,5.7902393,14.125356,6.80303,3.8842747,5.195693,3.3573425,1.4353229,9.192945,8.219334,3.4584336,8.159029,4.9084735,9.504854,5.6850467,10.934158,7.2221,2.3644671,3.0286615,5.1014915,9.594808,6.978191,8.122538,5.8823066,2.9196844,6.0233474,11.170611,7.6016707,3.112059,8.548681,9.481064,6.8796005,9.421777,10.015227,8.896622,2.8313136,11.031993,2.5735774,8.905071,8.036307,7.0840397,1.9411418,6.361481,8.405074,8.66983,5.61376,6.4676123,7.660282,8.305757,5.1506424,9.868168,10.567552,5.8505764,7.71831,9.484143,7.7851095,5.7666297,5.7572246,1.4511316,9.851975,9.726475,11.248346,9.246813,4.845704,5.4813333,6.9003496,11.619945,7.370226,3.4581056,6.9359803,3.1726727,9.825875,5.608161,5.72168,7.2533865,7.05031,5.7284408,7.6083803,3.4227521,6.909746,3.6862512,5.757239,9.990075,8.751932,2.203352,3.100475,5.787926,3.4940968,11.196596,6.126372,8.389363,8.773178,1.8371209,11.197172,3.2394278,-0.50933707,7.478297,8.937499,3.051275,10.345319,5.044896,5.3891435,5.0789003,7.254745,9.148997,6.406803,5.698174,6.7309113,2.4970646,1.4154989,5.726491,4.378442,7.096037,5.401059,7.7849183,5.8893905,3.723616,3.7966714,2.7789643,8.210464,3.6223,7.028957,2.621357,3.6931348,9.118008,10.154447,7.34627,5.9141474,10.731456,3.4235425,2.6556735,4.490536,7.933718,3.9685721,8.825894,7.2998986,2.6762195,6.3348384,7.3960857,7.3707175,10.505119,8.254617,7.2681384,4.4457774,5.319457,5.8944287,9.665261,10.774413,8.675533,6.0696907,11.253568,6.607574,1.9849963,5.044295,9.694047,-15.184459,5.5520153,5.547315,6.620159,9.824597,7.197873,6.9634814,7.396234,10.723785,-6.1581073,6.026263,4.462227,4.9950438,7.2360435,7.3864083,5.6644053,2.433223,4.072998,8.711005,8.732891,8.620824,5.8007874,2.6389349,6.818356,2.3243656,9.7170725,8.668556,4.3944287,9.179749,5.862924,8.86607,7.2260027,3.3704038,11.318089,7.945385,4.0735,11.579503,8.237117,8.384186,12.707833,4.195945,8.018333,5.8567233,4.780253,2.9600897,9.587769,7.8189373,5.606557,5.5479584,9.961953,2.5978158,4.772202,1.9831249,7.4713135,6.5757895,8.803325,4.8293834,6.975283,6.1980524,5.781797,5.1021996,3.2636285,8.392649,7.163575,7.5198174,5.7282557,3.6576245,4.8705688,5.649655,5.846964,1.7255219,5.7421823,8.835271,6.336485,11.284487,7.6406717,9.058503,6.410062,4.299999,8.347007,11.059657,5.600518,10.3004465,6.9868016,1.9557118,4.8923097,2.6322258,-10.316294,5.873874,8.764319,13.809672,6.6954584,6.9987316,4.083933,6.9684534,4.08862,3.4853451,8.162314,5.7909713,8.055392,5.906067,7.965604,4.4653807,2.451086,6.7323747,8.802769,6.1751413,9.39221,6.543322,3.4284856,5.579475,10.420733,7.6410036,6.1708336,3.1131246,4.6911507,9.202385,6.893322,7.971331,4.38645,7.253298,7.962515,10.061902,7.7068105,7.729018,5.7832704,7.9912667,3.5592499,7.689977,30.991419,8.396624,5.57505,7.466436,5.894117,5.6307583,8.0362425,6.7130995,8.776711,5.396947,7.8724995,8.498429,6.9203477,6.868278,6.3950014,7.05213,7.699505,10.9884205,9.742532,7.7678456,3.0159712,8.213279,5.6964035,5.8503666,4.925846,3.422322,5.3378496,6.00305,5.798925,1.6645426,10.532052,6.828165,3.6282063,4.2390146,6.4923105,5.5922565,30.990332,3.049166,8.320947,4.632757,2.5502868,5.7700067,10.249478,8.851925,6.010134,8.390591,3.9892557,5.7805486,6.865015,5.5872188,3.4952958,8.761948,8.484241,8.2016945,5.693613,5.5910115,8.255507,5.7409835,4.468301,8.381613,5.975161,5.7886453,2.1080267,5.57727,5.9279394,4.592658,10.366273,4.8129005,9.837876,4.764996,11.233686,3.8748193,4.3311076,9.104792,3.774756,10.446315,7.469402,5.3758674,5.8335586,9.201455,4.0823464,8.081295,5.9764004,11.6313305,10.967681,3.9836006,5.7332463,4.345983,8.924073,11.030669,7.1120296,9.167429,2.0439937,7.114572,10.947748,6.318656,5.381103,7.7933416,3.241982,3.5308099,5.870797,9.1039,10.433847,3.7603467,6.202178,5.2322755,10.834212,5.8728905,4.403612,5.8219185,6.9855404,7.087304,1.6976177,1.3693348,6.929373,-14.557006,5.551622,5.1127696,1.6103597,8.911613,9.592527,5.7265587,2.346012,7.4789357,8.11263,5.3337226,-6.1497383,7.067576,9.77359,2.1247182,7.033453,4.127069,10.144926,9.860405,7.3330774,4.396491,7.5004015,10.9801655,10.976634,6.2991424,8.964049,7.4181404,7.52798,6.2873654,4.15423,7.9256287,6.0945597,8.743702,7.8320813,10.506633,6.2348137,6.025078,10.119482,7.9093227,8.602178,2.09403,7.148712,9.479457,7.468224,6.449543,9.134235,9.731245,1.4994836,3.9225416,9.449486,5.5627646,7.703063,6.1864486,9.271772,11.166286,8.336662,5.322359,10.976263,4.0349007,5.923187,9.568685,7.1585197,5.877883,5.091016,2.9078465,1.5501032,5.566782,9.353217,6.8420377,3.1315114,9.103526,8.816985,6.6455283,6.9512334,8.468493,7.55847,6.158632,2.818229,2.0322444,9.240606,7.744869,1.8615688,5.1282606,4.312802,7.5121427,9.498838,7.3465934,8.275984,6.072616,5.8016386,3.3831677,7.463576,10.969684,5.074906,11.114925,5.6639028,9.48888,4.8902254,9.733073,8.039307,10.427661,7.4525895,7.8058586,10.855164,11.18643,6.990684,6.889108,7.1359324,7.4396696,10.002193,8.890506,8.826458,9.568952,5.524068,7.3981204,3.3202848,2.792545,9.367222,7.813292,4.1364384,9.206191,10.840318,7.086196,3.8809896,3.3221927,7.9147243,6.9164805,5.80148,8.951405,4.87177,6.5505934,7.4202156,7.163614,10.467153,-15.184227,2.081411,-0.10330441,3.2444155,10.982683,15.2547455,10.172916,5.80541,5.3430367,4.246442,2.5640252,6.6234713,9.557303,5.8727856,7.2334585,2.568325,3.8403542,7.2045593,8.839176,7.5136633,2.640852,6.0897636,9.251019,1.8846296,6.933412,9.087177,6.3934083,6.2938247,4.8266907,8.972639,10.443835,9.587914,7.9132457,4.167332,12.01445,9.289507,8.398739,6.9251633,5.7732277,7.8034945,5.754992,7.8059754,5.8118167,8.307484,5.411122,6.2829,6.400252,10.441372,10.301421,5.391181,2.3494592,13.040034,10.486265,7.318813,8.383269,4.971613,4.4964232,7.1618114,5.808596,7.081243,14.118464,3.8222125,2.9191577,4.6581993,5.706997,5.6365037,8.779034,6.4839435,5.748904,11.273256,5.0773377,6.6720076,8.236878,5.5157785,4.4010925,6.0709443,7.205408,8.28215,7.821429,8.252278,3.025917,4.9532194,7.250636,6.2564464,15.525552,1.7887189,7.5190725,10.916266,11.191615,5.6452765,11.020982,8.071618,9.168784,6.155705,10.832076,10.755975,7.5476847,1.862706,5.166134,5.4434614,-6.401236,5.49833,7.5978937,6.775214,8.833401,5.6571774,9.361106,4.869663,6.996191,5.2688637,6.50401,8.691748,8.805348,5.6255326,6.6928225,3.9376507,9.886146,1.3955685,10.085426,9.263813,8.031839,5.654984,10.364136,3.6678205,6.680341,3.798191,3.977745,5.857685,2.7891033,6.024606,5.289514,9.007543,1.704824,8.673372,6.1315184,7.333988,5.3436294,7.0238647,11.083948,2.9697018,7.915558,6.250069,4.942438,3.3838508,5.222559,5.631824,6.943846,6.4746184,12.2359705,8.209822,8.413896,3.0776844,7.8829613,5.9599247,30.989511,8.813556,7.4698915,10.069085,10.123351,6.9457593,8.008297,5.2309475,9.7111225,11.170344,6.320005,2.7314484,9.92478,-6.151224,7.1659923,6.5236635,8.48871,13.822831,9.019774,5.14007,1.4822499,4.03468,9.929264,2.241268,8.000638,9.905902,5.891751,15.525141,7.4228806,7.8051486,2.321616,8.366418,5.788859,5.2327795,7.5825467,6.8430414,4.4356585,2.4247766,7.3812423,9.9201,8.101776,6.2721868,5.5493746,12.023871,1.5111617,7.5668564,8.044054,3.0794246,8.237385,7.9535418,7.296496,7.8098516,30.99042,-1.2588984,10.517414,7.339816,5.082563,11.319098,6.3337283,6.899951,8.382101,8.854275,7.2378106,4.6713605,10.538784,7.864287,10.438651,7.372067,11.935413,9.59519,4.012607,6.736326,7.165929,5.918205,7.318762,10.217764,2.643433,2.6767852,3.3101466,6.501261,1.7628536,5.885607,10.250668,8.645889,3.9013264,8.601216,3.782819,14.119348,9.409626,11.565645,11.713693,10.037508,8.963036,5.1945925,6.384959,7.8627734,5.3474436,7.6141653,4.924321,7.7589555,15.5250635,10.504549,5.999976,9.312417,3.33613,5.060954,1.501808,7.7536902,6.018982,8.243374,-1.5911046,3.5771127,10.718664,6.1447864,7.9487047,5.745696,3.9328551,9.136302,7.236418,11.151451,10.069783,7.0174036,3.6308007,7.5095925,2.139117,6.9265885,5.717031,7.8378954,10.167272,10.421849,9.559761,6.0202384,6.1482944,6.2311907,6.9639173,8.834194,6.9991264,5.5053706,8.481695,7.086309,2.2852955,5.6961427,6.964394,2.9353745,7.3990464,4.758928,10.681381,6.72375,4.231826,-10.298326,10.025839,10.660578,9.668532,30.99044,-10.326569,1.4630647,8.048145,3.4427443,7.3085523,11.163187,8.102592,3.2110093,7.550944,3.10402,5.7545357,4.0917497,3.1491716,5.2127833,11.137301,5.9859753,6.830767,8.9816265,7.56217,11.32587,4.9712906,6.7693176,8.835573,9.423602,9.348676,7.248454,11.112354,3.198718,4.9087734,7.21354,10.357771,7.3259354,8.115716,5.865084,11.625997,8.434038,5.6850586,7.276786,11.001393,6.0994267,7.779033,7.7004914,7.828572,5.106314,3.874057,5.3717403,8.045046,7.2204165,7.2597013,10.014254,3.794524,8.238543,10.608355,9.344585,10.244521,8.996596,9.5097475,7.7654405,11.076051,9.265323,2.714768,2.9310868,4.4777765,4.043843,6.9218674,13.2853775,5.6175294,9.0213995,8.93585,6.3028245,3.6613696,10.873289,8.494301,8.005504,4.3481727,11.199301,2.8024707,8.115784,3.8095076,1.8032914,7.432354,9.881207,10.513899,5.7773027,1.9289955,3.2450244,9.133568,9.109858,7.2057605,5.7193904,11.014441,9.50865,2.9157472,7.560521,11.663992,7.0896473,9.577887,6.47596,5.7990823,7.7555323,7.6420245,4.800561,6.4826546,9.997436,7.4969993,17.21591,5.9110723,1.8840092,8.407576,7.370269,2.8351634,6.222573,8.552752,6.762883,-0.1019803,11.683245,6.8198457,5.685461,2.9678214,9.265816,7.697441,6.933514,8.213864,6.1453915,5.9671674,7.2421937,8.86325,6.797938,-6.4012446,9.637464,11.189097,5.8923054,5.5281734,2.9531398,7.1991353,11.762032,7.866646,10.300123,7.112767,3.879989,6.056333,4.914624,7.2506742,9.630204,7.247873,7.4696083,5.9504404,6.850882,8.571442,4.3903537,6.557197,8.594586,7.219618,10.5925,9.898592,1.483035,4.9430785,1.5749328,1.6385263,9.081329,7.4025016,8.130445,8.123179,7.558729,8.091575,7.6430287,11.035033,5.7820754,5.811314,8.563197,6.7003922,10.219086,4.384618,7.9876475,5.678726,1.720205,6.3249955,9.668587,10.184475,5.7620983,2.952778,9.946777,7.017511,5.660919,7.865754,7.540983,10.38485,8.218603,9.840975,3.0013816,4.491458,6.0535827,4.3245673,7.8430448,11.621248,10.3226185,6.7032747,9.056988,8.63577,9.618812,1.749994,9.727681,8.13721,10.054622,5.900715,6.6537848,5.9736366,8.5953245,7.9276495,9.555921,5.681768,-1.2694746,6.948748,8.706185,9.351605,2.9940004,9.023895,6.165101,30.989626,6.8485513,7.203909,-14.555995,8.785991,3.372275,11.949561,5.8836164,3.4900565,7.154753,9.290341,5.2840247,6.146731,3.6250484,5.39939,8.875736,5.9483023,10.140264,8.682516,4.3427,1.6421365,7.8405414,6.176502,7.5107403,6.0080614,2.9322805,6.1284304,6.9967012,9.431967,6.3852634,7.124813,4.9368067,7.9222517,8.231116,7.8602166,7.7227,6.1658163,7.995293,7.464936,5.8925147,8.481523,9.003154,7.8165855,10.8209305,6.412428,2.605627,2.9842968,12.083405,7.7305145,4.0180216,3.8288913,2.6294014,4.2647586,10.184169,11.166697,7.9624763,5.779229,10.778475,1.5194844,10.701956,1.5699522,10.95039,8.633351,7.135062,10.874073,2.6763213,7.3982534,10.277361,7.227888,10.034931,7.134884,5.8919263,7.4219346,8.72673,7.210863,5.8316383,5.8087955,2.2522213,5.8086014,11.028144,11.706763,4.7917128,11.848519,5.8321157,7.7013817,5.6898293,9.88754,8.651945,5.953203,5.957298,9.81102,7.81055,9.5953455,3.9586709,11.369445,9.9655695,8.844182,11.727871,7.857807,10.912501,-15.180403,7.8216844,6.611162,2.8070474,11.324653,6.128802,10.406574,-15.18334,7.6636076,5.504251,7.686306,5.100368,9.211637,3.5784056,9.432278,6.008653,5.828496,7.652615,1.3424457,6.69489,11.510821,8.642689,7.4101844,7.058528,2.7116668,8.011846,10.084125,4.468102,4.385246,5.2305365,5.740797,6.314773,8.704229,8.05595,8.477605,10.884637,6.2642097,5.358583,8.795066,6.5881886,5.1290965,4.0218844,4.4224477,10.646439,3.9247205,5.5046015,4.7253366,10.285257,8.2516985,9.684412,5.641894,9.868954,7.393413,9.756183,4.230731,9.200272,4.495214,6.8198457,5.179269,7.153964,7.01382,3.4349957,6.257348,8.072177,4.1136947,8.860056,-6.401248,5.5895996,1.5101411,10.497397,10.097114,5.66648,5.094371,2.6195107,5.476054,5.7171454,5.966451,10.39036,3.0032024,7.75567,5.9748564,3.834733,6.7182555,8.06194,8.529966,3.6662095,9.395227,7.00233,6.8981543,5.689626,5.232531,8.952065,9.695984,2.2079751,9.007772,4.1525054,6.4194074,2.1087294,8.139419,3.6821477,10.896488,1.7019554,6.4735575,-15.168138,5.7238145,7.332968,2.6055734,6.032324,6.6454425,5.6910763,8.429758,10.058933,10.02028,7.7592144,5.8603473,7.55484,3.4297469,5.5811644,1.9403292,7.717066,9.011826,8.151071,8.111874,4.254201,7.091783,7.6901116,3.7806354,3.5846636,8.843964,6.949623,7.705998,6.3956103,3.088484,9.33588,3.2347806,9.141795,7.5086503,5.8795805,10.454043,12.188243,5.772194,6.0291705,10.897394,1.8817743,7.776284,6.0680017,7.567788,10.251151,9.497372,10.951942,8.594371,1.6721264,6.771539,5.62823,4.28461,-6.1577206,7.2256694,7.221146,3.3965158,7.2847815,5.9616613,10.908953,7.2035403,1.7222282,7.547494,3.7811341,3.957045,11.624416,10.272122,7.872834,4.449821,6.7414627,4.708092,7.986548,8.852502,4.9736605,4.751876,8.729331,9.61964,3.9765694,7.794089,10.5169325,7.2392416,6.282707,5.914813,7.0529804,6.5276566,5.877408,10.228707,6.4030294,7.36858,4.7855105,7.641939,9.533362,5.572181,9.906495,8.91064,7.689657,2.4584293,8.129139,9.52428,5.9169126,6.5085077,5.893701,2.8885503,8.856804,3.407589,9.145683,6.0828905,5.9605317,5.657539,6.8586617,7.284481,1.3832476,11.758014,3.1725156,5.9485445,7.4256287,10.146548,11.754139,7.1814027,3.5190141,7.9828725,8.44334,2.4067295,8.204538,5.515889,11.941086,11.237216,9.068279,4.687975,2.3551536,7.8949804,9.584211,2.8265212,11.004334,8.049279,7.122164,5.974233,6.4902434,6.7794623,3.9568636,13.278561,8.606776,6.5635056,6.922299,7.478333,5.5537786,9.75083,7.1959243,8.970144,11.511458,5.2838364,6.0378137,3.4021418,5.104307,3.889484,2.77138,7.9264503,7.79282,10.5018635,10.440709,11.024116,2.9800098,5.5317383,5.7557983,5.218431,10.007839,3.9140186,10.227571,8.464088,9.130623,5.770182,7.625989,7.2304063,8.180416,8.735262,4.2451386,7.297242,4.936952,5.8261437,7.39119,8.496877,9.018353,8.288745,3.2916594,6.84259,3.3202353,3.7391968,8.053127,10.911239,5.554895,2.8300974,8.458512,2.8190722,5.865857,10.484003,5.7686863,4.2615666,2.7231023,9.117814,2.6507478,11.027249,5.8106384,8.556665,4.1071043,5.876342,2.0119898,5.654558,13.278614,1.8604717,8.400139,6.2074814,10.189235,5.6019893,7.910776,7.450375,2.3450553,9.819539,7.063192,6.0218215,7.3609753,4.9505672,9.813945,5.842249,5.88096,7.4795423,3.8175642,6.854496,7.739757,8.596644,7.2206736,8.446767,7.623878,11.8151,9.127926,7.022907,9.5626335,7.3173633,4.1116476,5.2578692,1.5612723,8.131775,3.553228,7.102179,6.390253,6.8884187,2.5565467,6.8307757,11.557687,9.852884,5.779883,6.197706,11.000717,-15.124776,6.352777,5.894481,8.74963,7.2794323,9.635638,3.7653654,8.895546,8.150027,7.490245,7.8748765,8.461613,7.321527,5.5574446,6.2353163,5.824246,3.088881,8.258479,2.9243665,6.9746456,2.3563423,9.889682,7.23385,2.539558,6.3126955,3.3403783,9.931954,5.9121404,9.953873,2.8496099,9.041047,6.779849,6.221472,4.6836905,7.0875187,11.18474,5.7136765,5.836032,4.7524676,7.2350755,7.591737,4.811892,4.4621983,5.696296,4.5008717,3.2040653,6.8190627,5.814526,8.694678,5.78373,5.382184,7.2055697,6.0003963,5.3895154,11.023946,6.010275,10.060895,1.9758214,4.105944,6.305516,7.5260315,5.7793097,10.986453,-15.186509,11.043278,1.4603068,9.24362,10.781683,2.5982935,4.25082,2.3598137,5.500389,12.084926,3.6788356,10.91728,12.092598,7.1588206,11.32668,5.913605,3.6685424,9.875376,7.4910045,6.1120033,7.265038,6.041955,5.631716,5.3413057,8.841308,-6.1641636,5.580782,2.767759,6.541565,5.712737,7.4388914,6.9417543,2.5731785,7.784279,7.274424,10.976557,2.2288303,1.7307079,5.772307,6.2225013,4.143293,3.3034453,5.762337,7.2134333,7.4773107,2.8661788,7.180629,7.493246,9.257654,2.2825801,5.608282,5.4993153,9.846478,6.547477,5.659802,5.9727683,5.3355875,7.132886,9.59001,4.4920034,6.63378,5.817303,8.580544,9.300913,2.1421275,3.6397073,6.425288,3.2938738,20.013887,14.116468,9.601435,3.848204,10.476608,8.694687,3.918421,10.487449,10.934269,7.0833254,5.6040363,8.508037,8.67914,10.717827,9.618076,9.714456,9.771497,5.3646207,10.274285,8.020849,7.0831294,10.727623,9.502038,5.949386,8.084959,12.388019,4.118584,5.3703556,6.2513857,6.7069263,5.4244785,2.3584554,5.668738,5.6125174,9.682341,10.20168,7.7840376,7.5201902,5.5401206,7.499082,4.073216,5.7901864,6.1285806,5.1140966,6.752955,11.5523,3.964015,6.834455,6.871116,6.542425,7.7382946,6.743001,9.753583,7.9312177,10.936409,3.2277682,9.32181,7.1539693,4.5204954,5.9572935,7.1737876,7.5830574,10.74746,9.297413,7.9203076,5.743578,5.8243394,5.220951,8.174009,6.55075,6.8597713,2.6822953,8.81334,6.7898808,9.135944,7.2551126,4.052114,3.0607417,6.539829,7.9297934,5.3985906,6.9148736,5.7853007,6.622784,3.8759363,-15.184349,2.9071808,5.0314207,5.0628624,5.63202,6.597483,10.923191,8.045103,2.5944552,6.8646874,9.816191,5.530029,12.229633,6.1035094,4.0032353,5.168966,11.201441,3.4840908,5.550392,10.972821,6.0173173,7.3696184,9.145671,2.455997,2.3189428,6.1580544,6.247086,7.7024436,7.9459977,9.133166,7.812306,5.7357187,5.5474014,7.328042,7.845231,5.697319,10.957033,7.7271924,8.098592,6.739662,4.997851,8.751216,2.880204,8.129609,4.5509653,13.041121,6.4715366,7.705227,6.284389,9.780648,3.998594,2.9781651,6.0010457,3.8491006,5.436641,8.276257,10.524471,8.899516,5.865601,8.102357,3.0393698,8.87081,7.265008,2.5222282,8.286626,4.660088,8.414565,11.579118,3.7066398,5.8006887,3.4641047,9.1371155,6.7089972,5.54807,2.7898662,5.8796215,11.956087,8.231752,10.579775,9.151827,9.122409,10.948815,8.519128,7.957639,7.006441,8.0446,3.8755043,10.79917,5.5779815,8.576499,6.245827,3.301156,6.437274,2.5992274,7.4733443,2.626979,3.0463095,7.224575,1.5143975,5.6930404,7.3569717,8.602575,8.406464,8.977939,2.6325352,5.925599,7.1352773,7.9367723,7.2191257,7.0909567,9.1495905,4.775318,6.6753225,3.3712351,6.243304,7.100846,8.057445,7.829378,9.757667,5.099133,6.415562,9.613015,7.4754815,5.4924283,11.04172,5.9497504,8.008058,6.3623614,7.046045,8.114359,6.5317698,10.581369,2.9488854,8.858956,7.9574385,3.6254718,10.848892,8.70166,4.2963133,6.1133966,7.153188,4.5529194,6.0375137,6.780302,8.761227,1.9032097,8.0422945,10.118803,5.9948583,12.269293,6.1213694,8.131655,10.9124155,11.149736,6.1261306,5.553103,9.20307,5.715711,4.1880016,13.053544,7.4787245,5.049212,4.4345965,5.632802,2.4043775,4.5636787,4.794009,3.13832,5.5424123,10.801692,6.0123253,10.269401,5.320298,3.879716,2.8005166,10.877284,7.2440863,6.047617,5.5822973,10.228872,8.148642,5.9047856,12.2688675,11.836435,11.806967,5.775227,8.007204,5.868715,9.176872,4.5870476,2.0668552,6.1448874,4.067421,5.291567,9.306573,6.2226114,3.0186398,9.862567,5.913035,6.0652833,3.4225397,11.017443,7.2555137,6.474478,8.06547,6.8947935,4.1336317,10.82879,7.394086,4.9440107,8.209711,7.4744725,10.155395,3.9647496,8.651193,4.8192067,5.858931,2.1013143,9.17037,9.053994,6.4877357,9.638005,6.538362,7.574774,7.6738753,3.8530452,6.9146285,11.357533,6.9421844,9.815561,9.84669,9.829845,9.7897,8.164446,4.5304275,4.1211324,4.8810573,6.7851458,9.623798,-15.18172,7.928502,3.2753723,9.528143,11.304464,5.9728312,6.400154,15.2548895,-15.1878,7.2538996,1.9076644,8.385394,9.653173,5.7811713,9.108142,3.972733,7.2201047,8.99281,4.45837,2.7928941,1.8260822,9.367033,8.754722,5.710099,8.114522,4.886353,5.677428,3.8592935,5.5881,8.110893,7.4692817,10.1258,2.5735734,4.376193,8.0516,7.059794,-6.4012594,7.455222,3.9150796,10.250938,8.614014,8.224641,2.091073,10.41085,6.7341776,6.955823,7.3926206,6.697963,2.6538556,4.2495546,2.9658613,2.4281733,6.0930715,3.6308298,9.721435,8.192593,10.8517065,8.041869,8.853042,4.186439,5.4052544,11.588798,7.429759,8.741859,11.1128,7.2016916,6.6852865,9.631696,3.7704968,2.397835,8.001147,4.7402396,6.8518925,5.787384,9.464016,6.0313888,8.282507,7.245484,5.2409654,9.52791,5.8294272,6.6265516,7.5087414,5.6795387,8.481604,9.023912,5.820699,10.267879,5.7579174,8.585551,7.937778,6.454219,9.057764,-0.103268184,7.3030806,5.72225,5.8368397,8.638956,6.103991,6.163448,7.115275,5.5953584,3.8100145,-14.55703,8.67437,8.277691,6.855973,9.852746,8.346741,2.1641207,8.726858,11.152535,10.444818,6.867744,7.160933,5.8774233,7.987703,-1.5911582,7.768631,6.635559,5.9583173,7.8745728,3.7647488,5.722872,9.028638,7.132656,5.614921,8.576025,9.68298,9.615322,5.027386,7.429989,7.4691935,7.174246,8.541255,5.3294277,7.163579,1.6129373,8.312036,10.002517,7.407411,11.553704,7.1846366,5.567987,7.1195197,-6.4012694,12.408496,1.434841,8.331188,11.695143,8.206996,8.330045,5.4277387,5.8733993,9.993546,5.834053,12.09487,7.9783664,12.174791,9.644926,8.079372,10.821683,3.1552532,7.1524954,5.3268595,6.4622874,5.530348,-1.2589084,5.9604383,9.228093,10.637677,1.3926799,9.778899,9.261692,3.101143,4.182198,7.841297,9.34477,2.3322532,7.6617165,5.6914725,10.260962,11.858721,1.7227503,10.363594,8.474361,7.614635,8.189501,8.281235,9.030046,5.903262,6.1638055,7.0712323,5.757879,7.249029,4.455159,6.127409,6.710356,8.841212,6.102213,11.032534,5.87968,2.6403286,7.096514,7.9543877,7.118022,7.9789577,6.436867,7.4668856,8.848116,8.915036,5.760214,8.777148,8.00222,8.630196,10.468722,4.4904003,5.6937785,7.2584558,11.9644,6.2020617,7.245793,9.778002,9.233266,8.380395,8.379148,6.416053,6.315701,8.884982,17.204609,7.780421,8.48947,3.1591349,4.0576034,9.767291,2.131609,-6.156409,10.507057,14.118839,8.791078,12.411822,6.6021953,5.8231697,2.79241,5.702193,11.1835165,8.604056,7.2724085,9.621681,11.27523,9.864639,2.4956222,9.752937,10.330198,7.8251395,4.384176,7.114618,10.7316,2.9309156,8.549553,7.1890535,7.211815,8.386626,3.5567858,9.937298,7.2367473,6.9999666,7.0633082,7.7087374,9.43538,8.859431,2.5763283,6.9942384,6.1792426,6.4735937,2.0726895,3.0116646,11.748067,3.8210032,5.63408,1.43609,19.97595,4.9037747,7.4877496,8.074583,6.269514,6.083784,5.747488,5.720996,4.0435324,4.7332044,7.1265135,7.6941013,9.371273,10.903152,5.488041,15.254817,7.9544277,9.855688,7.5631385,5.556389,10.440773,5.878562,8.137353,6.0545835,4.2318068,6.854789,10.450369,5.162265,-15.166458,2.515369,9.26341,6.3174644,5.8165402,15.254827,8.382581,2.9796016,4.7215757,10.300272,7.345977,15.254823,3.6894956,5.3885655,6.0143275,1.8938273,3.4217722,6.376486,6.5155144,10.21992,8.128376,8.749589,5.5755334,5.877532,10.701128,6.131352,5.3171186,7.9570894,7.194662,2.5363498,6.7209015,4.421911,6.0314627,7.8166046,5.650673,3.8428948,10.07461,5.2902865,10.407711,19.858541,8.847817,4.377124,6.760469,7.4968963,4.3099117,3.7859879,5.6935477,6.0212727,1.5236435,4.922396,5.5300455,2.7683387,9.063309,6.8135166,-1.5907135,10.69884,3.0654287,6.714423,9.9350815,5.2212167,10.818176,11.753018,2.9032435,-15.180258,-1.2591579,8.358162,2.319356,8.041299,7.4547844,8.577848,5.591904,5.099039,9.51941,7.024755,5.540838,8.250535,2.2421412,3.2927246,10.366913,1.5161502,7.682491,13.278641,7.993736,-0.31462017,10.352004,4.096612,-10.370772,7.95366,5.732208,9.939672,6.1077514,9.222187,7.8819165,4.683974,1.4919783,8.090289,1.4380287,10.881299,6.0809546,8.249989,9.133768,3.310731,4.906639,5.9682603,4.208188,5.4105396,3.8991535,4.035905,7.918299,8.644979,8.868967,7.028119,5.9909987,8.968342,0.9666148,7.1356525,3.142262,10.996172,2.271785,5.969367,8.125558,3.9308476,10.364072,4.3318267,3.3150072,5.650917,4.0682497,10.444774,5.666006,7.7603593,5.7708073,9.912573,7.503349,10.507713,9.105217,6.3445735,8.619538,2.966909,10.667412,11.271031,8.768631,7.1016245,5.7384586,10.171453,7.5435166,7.2606053,7.2594013,9.865574,6.831879,10.805664,5.822505,7.079969,7.9919157,5.748371,7.271474,5.694346,5.8926663,14.115133,7.1096582,8.232294,8.260567,2.1121714,6.5673733,2.5259395,2.7177765,7.1571646,6.64455,7.5201063,7.223482,5.8533463,5.9028444,5.572041,3.6019752,7.7418094,4.3695073,9.881962,7.945022,1.9407322,9.66659,8.416999,11.747098,10.832334,7.051899,11.845309,6.1540413,1.9457706,4.100059,3.9145417,6.9824286,7.427724,7.6778173,8.30239,9.92078,8.332181,6.441948,9.373161,2.260991,3.6318033,5.8278832,7.1400385,11.942152,2.1337314,8.763383,9.252773,5.821933,5.759509,6.855456,5.6445694,3.7971747,4.4615397,5.7842045,9.633285,1.6186346,8.344028,5.552937,7.2534347,6.4949813,9.70296,8.2955265,5.7507067,5.802497,6.573465,7.846953,6.492169,5.8172035,5.812159,6.2596817,4.097033,7.592775,11.202431,5.6554804,8.170404,9.641124,7.7746205,9.026017,5.888679,9.192039,9.402953,9.279683,8.153497,3.9360273,12.193672,5.7972193,7.5835614,3.0759692,4.405067,2.0147977,9.3024,4.9345813,5.8571033,7.1259212,1.7466316,7.5483255,5.985421,10.863944,5.9610834,9.177881,3.2703815,11.107641,7.797176,3.938891,6.0701485,11.001223,4.4072757,9.760187,11.459818,4.3624125,8.29388,6.8198447,7.078022,4.2221785,8.027468,8.524302,7.1439805,9.340792,7.3342013,6.061129,10.207336,5.4775734,7.2936673,12.168492,7.1074767,5.50425,5.8907256,8.961834,5.666568,7.021871,7.2079635,7.31588,10.536125,7.2037272,7.735095,3.2456245,11.706809,8.830742,2.7046642,5.812766,4.113669,7.2859693,1.3962424,7.3936057,-6.1575584,5.7428384,7.1865406,10.927699,3.96182,10.650054,9.819548,6.132249,10.600386,9.545623,5.6947618,9.03769,4.81668,2.5461843,10.862308,4.374311,1.5760046,3.1894965,8.19099,8.577718,2.3738651,10.449669,3.0221734,8.633368,4.4324307,10.3303995,12.222969,10.227742,7.795677,6.3928084,4.3868856,7.748829,2.306942,5.6292787,11.164219,7.7580633,-14.559601,12.167444,2.2110472,9.235196,4.85449,3.8136408,8.260178,7.961548,4.516646,4.585264,3.9342258,12.239864,4.204911,6.4604993,10.872831,5.604414,8.089968,10.176209,2.802456,4.520722,8.932983,6.163203,8.686325,11.642453,6.7519116,8.969363,4.6068006,9.915825,3.9599202,7.5726485,5.6744814,5.6770515,6.889682,8.452579,9.617058,7.54292,1.9775672,2.0279956,6.5686283,8.639263,2.2901456,11.532098,9.098722,5.848796,15.524716,8.271418,2.677317,9.3535185,10.120359,2.796247,8.391931,10.359994,10.181478,2.898722,10.696347,7.3844056,-15.161416,11.527185,11.943559,5.7183867,8.615336,8.970294,6.150942,9.136953,8.98105,6.206027,7.711834,3.3047128,6.7919807,11.0420065,7.932845,7.8700013,-10.303388,9.594045,9.124478,5.9320693,6.848893,6.201247,8.423698,3.3389273,9.967057,6.6312823,3.2179422,1.5890603,7.0366483,6.347038,5.5183773,6.673993,7.615184,1.9186891,7.46232,6.8986626,5.334435,2.633878,10.109039,6.430581,4.4421663,12.301052,8.991628,8.132662,8.317132,4.4797215,3.7692256,3.756567,8.22491,5.7491817,7.909634,5.43958,8.861428,3.185433,5.5676517,4.4623137,-6.1581025,8.397109,9.646092,5.788446,9.735807,2.9141405,9.919006,7.8663697,9.99997,3.2583559,11.162854,10.971738,17.223162,4.5363784,5.6034355,7.9901023,5.945305,11.656026,12.219217,7.82635,11.006658,8.024292,-6.401285,5.9162188,8.532845,3.9733417,7.3108788,5.4430513,7.632328,-1.2591758,10.26721,7.8043666,11.175512,4.1287484,3.477818,9.669527,9.194807,5.7882047,2.3735874,2.0390065,5.373976,9.870297,6.52804,1.4124959,6.8198466,7.601988,9.033221,6.295363,2.3629231,6.9476013,5.640981,1.6044399,13.812318,2.2912621,9.907506,7.8473425,7.667594,3.3363755,8.911806,5.777769,3.9031801,10.624898,4.1552467,5.69886,3.8923345,10.255448,2.5503144,5.5062027,10.743991,3.8352623,2.190607,12.315645,8.127657,5.840378,6.4257636,7.418889,5.7985387,7.9069014,5.4106956,1.3945904,5.51608,8.016194,15.254954,5.8891115,5.83625,-6.152275,8.0809,5.8073106,4.1336107,5.8607674,9.25121,6.9305234,4.5074363,7.985362,7.958648,2.3052158,2.5816092,3.8357706,5.2641363,9.754826,3.6380272,7.2693586,4.3975873,7.757937,4.113977,9.869401,7.246815,10.02454,9.748107,8.96309,7.7128053,6.9037724,5.930339,-6.4012957,7.917839,5.3026814,-14.557227,5.6897726,1.5992594,8.6736,3.357632,9.850597,3.1249998,5.122376,8.646905,5.0445557,2.997776,7.6454244,6.343756,2.302604,9.502994,11.124007,6.022879,2.5436022,8.381024,7.2626357,9.2990465,9.404067,1.5428036,10.601147,4.004536,9.303922,7.435616,-10.34331,5.959981,5.7631097,6.159243,4.4474792,7.523572,5.7632914,11.074851,7.855291,7.9202843,4.034007,4.584444,9.119962,7.1192155,7.4594755,8.111912,7.0857,6.582436,8.120146,6.226006,9.101849,12.153559,7.1009326,7.6682286,10.750827,9.752975,6.282767,7.349696,10.409279,6.0195446,11.859634,5.120978,7.3698764,6.1952243,6.036335,2.4238417,6.476223,11.04222,8.380271,5.0012546,2.9577744,4.0918646,5.590349,19.930912,-1.2593384,5.1863294,8.411076,6.2680535,4.6909885,8.495994,3.0178418,10.922242,8.161993,4.4118886,1.6193337,5.8004303,10.9478655,8.555148,9.64893,5.7845445,5.4209056,7.8721128,8.196818,8.904811,6.0215526,3.7844048,6.0797997,7.897444,2.298803,6.63252,5.8740005,4.3839297,11.292565,7.9913206,6.5631404,6.1658697,6.0557165,5.7677917,7.247425,4.1323557,9.687197,8.6362095,2.4263306,4.0638733,5.414637,11.706825,11.315339,7.92419,11.735715,7.301702,5.698345,5.471566,6.061275,1.4320624,5.727204,2.0205746,5.2586284,8.23482,10.310434,11.605223,3.5050042,7.890568,9.513849,4.328822,6.948691,11.151936,7.744846,2.5869617,6.920664,7.1366973,2.8505151,2.7999105,4.3440723,10.483519,10.332952,7.0334444,10.167069,-15.134455,4.1329536,7.580768,5.7154784,10.773571,5.929729,8.83882,5.1173024,8.692053,2.5354118,10.357079,11.747512,12.047522,6.1856384,1.9687545,5.8967376,7.527079,5.857964,10.338421,8.388433,4.2120686,4.661748,8.483977,6.509432,9.115451,10.780563,7.093854,8.84449,8.378451,10.233854,2.2576149,6.9307084,7.5870614,8.404626,6.389578,9.237283,4.204111,8.494168,10.074413,2.3016539,12.411433,8.839163,4.339,5.7438536,5.5639615,7.414513,7.5337033,9.183609,8.73283,5.6782403,4.4382024,7.1501226,9.756187,3.9492464,7.6732874,2.373098,10.966319,8.066727,12.332989,8.931137,12.100602,7.6128116,10.224734,5.761392,9.020935,5.6554284,9.143383,6.060143,6.1339183,11.208497,7.3379335,7.2265053,7.4510317,6.54975,9.648846,1.7698206,5.090831,2.4441185,8.110121,4.1912484,6.932913,2.796866,6.5764685,4.7057877,10.49264,4.4980726,6.1729145,-6.161566,5.2494555,2.9703977,2.268093,3.1720757,6.423396,8.265035,9.846203,6.862476,8.698117,8.804544,7.2424197,7.0224986,6.8467226,9.409549,3.5765042,7.946811,5.8716435,7.69016,8.132915,4.1011624,4.115887,3.8730168,6.5540423,5.2474203,6.1798005,4.6963835,8.388282,10.876134,9.522979,10.918291,8.882885,6.2392387,5.848376,8.868378,10.163206,10.139102,7.8443255,5.4280076,7.7734604,8.402416,7.1600704,3.5079544,8.697736,4.22236,7.2679257,1.8939364,6.2526054,8.384404,8.463829,3.4067607,6.2571607,4.0648007,5.8128753,5.3290343,5.8401113,20.016886,4.5121627,2.4636323,7.719687,7.8953133,6.521028,5.805516,10.853824,8.99877,9.266524,5.708254,5.702619,9.513587,7.399066,1.7697111,11.024113,8.024774,3.2647421,11.937978,8.332446,4.5248747,4.480368,6.775633,9.986058,7.222211,6.410786,7.72162,5.055181,4.2246213,7.288389,11.572314,6.431287,4.3127155,7.177867,9.528855,6.199681,12.220551,7.1712747,8.470149,8.660493,5.610253,3.087484,7.1675887,5.588685,11.220583,1.8872641,9.114477,0.9832959,8.725482,6.901755,10.914976,6.213182,8.344258,5.4341793,7.808496,6.926232,3.72193,7.7882805,5.043331,6.075417,8.105067,7.6330733,8.0683975,7.6286426,7.357026,8.057913,6.0421104,10.0796795,2.8139305,7.7790313,3.1480675,5.7986507,5.8346624,5.8590097,6.603535,10.74574,7.2101,6.0844398,19.952328,3.3812318,7.094243,8.291645,3.8260305,9.432168,5.7344775,5.656913,8.904235,7.4863944,5.8286204,7.142494,2.9104283,5.6590314,2.4227111,7.551049,-6.401308,4.0532417,5.7452903,5.441519,10.010892,8.149456,2.3960838,9.660843,1.5937437,5.3897834,4.6542363,11.975869,7.5913363,9.13738,8.804049,9.24983,5.945185,3.7663333,7.838643,4.9534793,7.610557,5.990093,6.086367,6.8084993,1.7108784,10.408879,5.898372,8.579109,7.2896895,4.2496967,11.152416,6.349093,6.8298907,10.555703,8.139056,8.31808,2.3894491,10.3652935,6.4529986,3.9987218,-1.5907036,2.5882592,2.0485518,7.083924,6.695179,3.7682452,8.002394,10.924773,3.3752587,8.451394,9.018732,9.043514,6.018278,1.7469761,9.836322,2.7857711,9.410512,5.8196445,2.93847,11.499195,7.3844686,10.691361,9.8027935,9.32356,8.974749,8.351064,10.5005,5.4027643,7.544791,3.678726,5.6015253,5.546089,5.4603777,4.730654,5.688841,7.873537,7.806692,5.3037143,7.6355796,7.01196,5.0971627,2.9813786,8.035179,4.564506,3.4593947,7.1621165,9.601295,7.6768928,10.518265,4.209776,9.540517,7.3423424,3.9675062,9.151868,4.811534,9.256265,10.237371,6.280701,7.191267,6.885065,2.7241437,9.177739,9.590393,5.7393107,10.254614,4.535825,5.691118,2.971123,6.779397,7.85491,-10.302345,1.7741642,5.7463775,6.001653,7.3578978,1.6354053,10.303908,6.3239155,7.1905646,2.9567766,7.023273,1.597963,2.6840885,5.7325835,6.7694387,5.725218,8.222208,7.0008373,8.045818,10.965631,9.0161705,4.6332846,6.016233,8.000561,10.201511,7.629938,2.3644435,4.0843034,7.3530726,6.9004226,7.6070423,9.328323,7.6255293,6.2314544,5.1918945,5.983133,8.109012,6.0442514,8.097138,10.507772,11.2266865,14.131341,6.764673,6.110444,10.262023,7.2193685,1.3827801,8.848944,5.93677,11.729901,7.707746,8.117053,-6.4013133,7.7159224,3.1678946,9.127142,2.7134647,8.282702,5.7043915,8.447511,6.144365,4.3715324,2.2402143,7.6428905,2.8536956,6.40033,8.395422,5.9574304,2.4248831,6.3755417,7.276999,7.008154,9.067044,3.980729,9.2823925,6.5800385,8.032949,8.078008,5.847315,5.8220882,7.2897134,5.0347953,7.601625,1.5365615,7.674528,-6.146197,3.9779816,9.197531,10.673161,6.9676223,20.00186,8.122381,7.7600026,5.169193,10.742375,7.3818817,7.483157,7.5704875,3.788233,6.8821435,9.394746,12.258318,5.640812,5.9861526,3.7907827,8.496284,11.199596,9.858205,2.5244677,11.176068,3.3625085,7.512821,5.7764406,4.218767,8.270941,8.162925,3.5151186,5.7684917,4.0818057,5.375716,2.1996663,4.3848352,5.695408,9.227683,6.967364,4.6202083,7.8956447,6.3576155,17.18876,6.6698985,6.9414954,7.8328123,3.1438658,9.428078,11.488976,7.2816057,1.9321405,8.703776,6.9919095,6.4554586,5.4167423,6.478453,4.79235,7.225789,7.330718,7.6725655,8.83823,6.9049544,8.146086,5.924759,3.5463703,7.3067026,2.610121,8.159587,7.186629,6.238802,4.385212,11.923269,5.201492,11.295644,2.8207166,9.2425785,5.963658,7.846935,8.390042,9.231456,4.376579,10.240089,10.023587,3.8017213,4.9315653,5.7845526,9.373146,13.282331,7.127537,5.0757937,7.739883,4.2044477,9.649189,8.371166,9.657196,6.7053447,8.141418,5.099712,5.687072,6.946513,7.989656,7.038798,5.046111,6.0657983,4.021306,8.0880375,1.9969125,3.5932422,5.7547126,6.0172534,9.633325,4.4210196,5.646025,7.173837,7.049193,7.056228,6.045528,9.820519,5.204706,2.4786744,7.1216073,5.600614,6.0741515,7.666811,-10.3562765,5.250278,6.0066743,10.797765,8.624841,5.687338,5.4856577,3.2892687,6.0421267,9.504662,2.2221913,1.9813354,4.9485755,5.940743,9.644791,9.970981,4.8061905,5.272968,10.789189,10.522979,6.2829757,8.725853,6.9763265,6.205088,7.511941,12.090893,7.68845,7.4285774,5.275725,5.930432,10.785486,5.954918,2.911285,5.7904787,1.6048461,2.4559338,10.562133,2.556155,4.056858,4.761938,9.666314,9.79328,9.314674,7.4594755,2.8954773,9.132975,7.622391,9.75748,6.9998884,9.1038885,5.2920794,6.2590146,8.758781,3.5828154,7.988493,4.106531,4.2140923,2.0050218,8.662332,9.250225,10.369654,5.7180257,4.167113,9.919061,3.721779,8.180538,8.402336,13.849848,6.9118977,3.1027737,3.2587812,5.6472173,10.812342,4.2521663,2.520211,30.989202,3.720215,11.841738,8.642653,3.0708923,4.6884828,7.424254,8.201382,8.053151,8.01453,3.5498009,9.01794,6.533889,7.022236,4.259745,10.240967,8.345644,-1.5912107,3.0815089,7.1987896,6.1231785,5.7962117,2.6945612,7.1311073,2.5755289,8.597531,3.8034968,3.7857563,6.093273,10.473931,5.6011467,10.203487,10.883637,2.6704144,6.1403155,12.044193,-6.156727,4.3634953,10.812789,6.502672,7.555496,3.3721886,5.566952,8.795115,3.9447665,1.9476322,10.009229,2.5020633,11.957666,5.377007,15.257286,6.0501356,11.125714,9.348929,3.1797843,8.146369,6.1451607,8.275877,7.8037906,10.122792,7.1767135,10.344776,4.391996,12.336525,7.2809215,11.552809,7.074605,7.3427215,7.584276,2.7251694,8.010882,7.2605314,11.010526,9.236625,5.853215,5.0816317,9.243436,11.533558,9.673132,8.69565,5.7409124,8.204292,3.5642729,6.113427,9.3694315,6.3751683,9.818674,8.29558,4.036222,6.0149417,7.4173245,7.546745,11.770156,8.307798,10.5324955,9.861941,6.183813,7.0686603,2.7768948,-14.557194,7.382281,7.714633,6.2135096,5.498398,5.302295,5.404678,2.6951072,8.6732,17.203913,10.391603,2.0109262,6.7614098,3.4860744,7.366545,9.165165,8.379714,8.120011,-14.557289,9.330033,3.4648185,6.7311306,7.90258,7.9942265,9.216871,10.000707,6.1493874,6.7893114,5.4838657,4.3831935,7.0401397,7.139789,3.400687,10.004945,3.9018426,5.2686877,5.7389374,8.793277,8.648495,5.1965694,4.829094,5.754078,6.90271,3.5070958,3.3759282,7.4634414,7.816939,11.446963,8.603695,2.7395833,10.091561,7.469497,8.013116,5.7721906,10.4555435,7.7234755,9.67296,11.69065,9.154249,10.445888,-6.1710763,9.178489,3.56237,6.14292,2.428607,4.852878,3.2210407,7.3487177,11.031492,7.278599,7.978813,11.88839,10.793367,7.1154675,2.5175152,8.351651,9.863076,10.886994,4.4105725,5.845404,7.179378,5.7065682,9.659096,6.074226,8.21764,6.4253955,11.1074915,8.11537,3.0243645,5.7611346,7.678751,6.887308,5.268638,7.302254,8.8512535,-10.357224,6.711554,1.8771927,9.900034,7.883089,8.237975,10.278018,9.536735,4.518744,7.829917,5.14889,-1.259227,6.258906,6.664932,1.8955998,6.074069,8.086055,10.85284,9.669533,-0.08930544,3.289773,6.1193104,6.2566957,9.627652,2.674137,10.249387,9.973269,12.018965,8.933383,5.884543,9.927558,8.207974,5.0310845,5.154898,9.740016,5.9681706,1.5676758,7.835645,4.2518454,9.057947,8.93319,9.3256,5.687907,9.345861,7.3629966,2.807038,7.2757144,8.614227,5.953093,7.839773,8.5145035,8.616209,10.345839,8.999587,8.116256,2.9326694,7.243647,6.9144516,7.4029303,9.791912,3.7586222,6.247896,7.400639,6.2141843,7.585112,4.9917364,11.027894,10.68769,2.7562563,1.7829068,6.008994,8.283845,9.617703,6.862874,8.840042,1.6722826,9.995739,17.245243,5.561222,5.2615037,10.626989,7.1989484,10.221268,3.8575923,2.3811727,6.3892164,2.7990785,-10.367901,6.886867,6.7479386,5.9189677,9.402757,1.6625584,8.051194,3.051977,5.797604,2.2878954,6.637921,4.288429,5.8379397,5.613061,6.062185,7.15099,8.030318,3.6863515,9.405703,8.285494,3.1063457,7.1451864,6.1659746,6.861602,5.744846,5.578437,4.0018296,8.930846,6.659615,12.722263,8.339295,10.986071,7.761588,7.757784,6.1982718,10.039556,6.973214,4.908614,-1.2591659,2.3575304,6.4840584,5.561063,3.1035,5.372592,2.3593752,5.5492215,6.9641223,11.977012,7.541463,6.0079517,5.5973215,10.094644,10.173415,3.6989572,5.453188,11.3526535,5.7029924,4.7884026,3.3449821,10.505408,7.446942,-1.2616878,8.863081,1.876606,5.298195,9.70119,7.0311565,5.264099,10.536702,13.2785015,4.3233833,2.9276116,9.82485,10.423097,8.493616,7.844137,7.6509795,9.478528,3.4312103,4.252575,2.7760243,6.664744,8.126767,3.5384738,8.966891,4.319346,3.9668686,6.2891364,8.355603,6.160854,13.052162,12.200452,7.0901027,6.9692373,5.617966,2.5850966,6.209847,8.300181,1.6078674,12.429284,5.8694453,1.8509485,8.570812,7.34193,5.710126,11.561274,5.6462755,5.5359125,5.4880495,8.537311,7.763981,9.853415,3.9920213,9.949259,5.989295,8.457181,4.4488673,6.95056,4.8711205,11.600077,7.190103,11.972889,10.4857645,7.454302,4.52497,5.3785205,2.3016481,7.655943,9.323459,7.7442617,1.7237879,5.8398595,7.1976895,6.124636,4.9722147,10.370279,10.233005,5.6528916,5.182616,5.396169,6.222366,5.8090367,7.8479114,1.7772809,1.9009199,8.186732,8.501309,-6.40132,5.748915,8.953435,7.870681,9.822415,6.459012,11.595154,7.3817334],\"xaxis\":\"x\",\"y\":[8.427692,5.9110527,9.175914,6.53275,8.849959,6.097973,7.690642,7.8629055,6.291839,7.449117,8.708457,4.288002,7.244654,7.1794887,7.3452153,1.6925515,9.032026,8.914943,6.0720854,6.337751,5.5017962,6.760405,7.494619,6.5625863,6.3455257,5.055344,7.8658843,8.497308,10.28603,8.263842,9.811383,9.688749,7.6853127,5.9486346,8.180805,1.5152613,5.8308363,7.5274897,3.5747569,6.2077627,9.429872,1.4025257,8.83469,5.603376,7.9528756,6.878855,-14.52133,6.540979,9.1668825,5.884692,9.511141,5.207094,7.2903423,8.191493,8.599304,4.1179132,5.8195148,6.90346,6.452708,5.7426677,7.6822414,7.8813105,9.607018,5.8752804,9.215538,7.479313,9.557144,6.3504505,6.097725,7.568585,8.326653,6.6714916,6.045815,6.706941,7.919751,5.8359375,7.4756055,8.02489,4.9918227,9.8797,7.410857,6.126353,5.422168,7.224968,8.262902,-3.8551354,4.9094977,5.4610195,6.8164263,8.319085,6.1318293,6.014521,4.7673354,6.187345,7.4112697,5.8086286,6.45657,8.573037,6.4852943,6.2800455,5.9107604,8.067532,10.80272,7.543388,8.980826,10.263353,6.414083,4.9169607,8.6969385,4.830021,-1.0732428,6.205233,9.05622,8.858259,8.931617,8.127887,6.6634293,7.3752904,10.071536,3.499977,2.0186985,4.063392,5.488994,6.041294,8.100645,8.697331,7.2153625,10.310606,5.6232934,9.347021,5.9913354,9.154552,5.1587124,9.55332,6.613505,10.058121,7.5206866,7.3653893,9.140393,6.419175,10.282508,6.2687263,6.80394,6.741262,8.252756,8.047513,6.085167,9.518851,6.842701,9.421425,8.9648905,4.4729247,8.177905,9.19022,8.022302,8.113654,4.7432747,7.2303843,5.3547096,8.024576,5.4274645,17.379005,7.052521,6.8694887,4.9787517,3.9226973,-8.212363,7.5436735,9.154908,9.899601,8.4614,4.0156865,5.932468,6.888088,9.392835,6.2544107,7.6860304,6.604797,9.23816,6.4337707,6.6922626,6.3922763,8.791091,8.635333,5.5230303,3.9241283,7.9544134,6.575765,7.360776,8.49581,8.597604,5.2357707,3.6142957,7.840613,6.4136953,5.726825,8.1756,6.2376842,8.287798,6.5074153,7.6078744,8.004393,8.901543,10.499226,6.269146,7.4856367,9.13291,8.370888,6.934728,5.745247,5.270498,9.230646,3.731304,8.039561,8.436485,8.920444,7.401895,8.2070055,8.17087,5.848718,-7.85477,7.8998,9.937289,8.491185,2.107345,6.1370587,7.68216,10.194352,6.6654987,5.9648056,12.929859,8.433958,8.891702,5.5015388,-11.965256,6.289179,6.450499,5.256089,7.990074,8.253334,7.6517506,4.298288,6.13099,5.9499536,8.8245,8.967818,5.0814466,7.191447,2.1062524,4.9837694,5.0891757,7.7642403,4.8322597,6.3834825,5.596928,7.712691,8.481133,10.132822,5.162862,5.895904,8.504339,8.292697,5.8124733,8.147811,8.051019,4.7747602,5.7683897,5.1280437,5.1087155,7.936569,4.027104,8.917161,5.958823,7.796769,9.932803,7.833641,6.522201,6.8707514,9.981595,8.088525,6.8385334,5.90078,5.5027556,8.440334,10.439141,6.2026343,7.031559,4.3252325,7.750461,6.938009,8.302908,7.3973713,6.239807,6.4187274,7.881547,10.230986,6.574824,6.0190043,5.896652,6.0825434,1.5499209,5.927572,5.2971826,8.662631,10.497482,-11.965265,9.296743,7.3103323,9.187086,6.775683,8.736406,6.209436,6.1990705,8.554529,6.624381,8.747837,9.137393,10.778355,8.697756,8.113463,5.9706473,8.062089,6.8741865,7.3429074,-1.0751702,6.21257,9.715715,7.967262,10.339675,8.232448,8.990283,6.00021,5.13229,6.3875794,8.030175,5.073292,5.79158,6.63343,8.982573,9.235773,6.4490705,9.029574,8.353159,11.744077,8.8373575,9.414333,6.7135687,-7.858631,5.7772083,6.039682,7.727407,8.493384,8.194189,9.05352,3.7467005,8.35711,8.256205,6.0195026,8.462001,8.757029,1.3877434,7.7828965,8.058139,9.108297,8.2751255,9.084343,5.9367375,6.6677136,8.482962,7.202865,9.82534,3.6346474,9.4845705,8.578026,6.072318,6.106239,9.520897,9.6037035,8.217017,5.3675494,6.1357403,9.109286,9.100015,9.010359,8.71806,4.979555,6.0223536,-0.975457,8.434097,7.725644,6.5036955,7.7905035,6.3665953,8.441016,6.2076674,5.8775053,9.515279,7.311383,8.171388,8.397342,8.897048,7.5121884,7.2106333,7.6506686,11.60236,2.105554,10.043391,7.8849688,8.120281,2.1069186,8.523562,5.500763,9.95391,7.837584,4.2784476,7.011065,6.1801977,7.809929,5.457969,6.1203504,6.7662787,7.6354933,11.04414,7.92663,5.569947,9.431074,9.339522,9.092634,9.394896,6.56865,5.738854,7.2430305,9.279297,6.3281784,8.569427,7.9999404,7.2235546,6.252695,5.1036634,9.739572,4.8944883,7.494141,7.9162292,7.377487,7.101885,7.813034,6.5648713,8.654675,6.2340117,9.452122,7.385186,7.498135,6.255622,6.1161733,3.880212,6.6727014,3.9856725,1.242844,9.520214,4.0093174,5.44859,11.525683,7.971198,4.2454486,6.393961,8.284627,10.511838,8.189578,6.9375405,8.312722,6.239236,7.56929,4.3997016,6.3356843,6.204697,7.524301,8.622658,7.748822,5.9277644,6.567358,9.812032,9.504124,9.393736,8.873215,8.899656,6.527327,8.26888,6.5577817,4.9624004,8.261755,8.523739,7.6589465,9.640626,5.349763,6.112815,4.375942,7.352333,4.388278,4.296597,7.8392634,8.2618265,7.153499,9.503142,8.075797,8.765489,9.794437,8.339133,9.1659355,6.762665,6.205287,8.450331,8.398853,17.379017,7.450632,8.399528,8.071633,7.720371,8.232489,7.8095083,8.942409,9.210275,5.170597,7.260626,7.8514447,7.174216,8.759731,1.4740119,-7.8695006,9.080109,7.0835395,8.388105,6.1105595,7.67823,4.1737404,9.187589,8.862541,4.0151043,7.7089295,6.898375,7.3388224,7.0970817,1.6835592,4.770464,5.777783,6.9588003,8.14405,6.2731037,8.809803,8.3908615,3.6378224,8.419885,4.254593,8.276551,5.745823,9.058938,6.762437,6.7346907,9.292855,1.4227736,8.113845,4.0574613,6.375745,8.289399,9.796019,10.68655,8.528019,8.04953,8.752714,5.2423,6.185798,6.0807257,6.561057,7.754811,11.244978,8.787687,8.052911,7.496943,1.6265892,7.8413496,6.1267853,9.666466,7.454032,9.053709,-0.9083316,9.55883,7.7933273,7.8060126,7.470662,9.089903,7.069371,3.9162855,7.0996075,8.243005,7.8954425,7.8419385,6.1626053,8.668169,7.7765017,8.855552,7.131287,7.631641,7.551905,8.308792,6.849997,8.797405,6.666619,8.573288,8.1876,6.771988,8.124224,6.7308297,6.1669006,9.539845,6.64725,1.68289,6.0654836,9.591797,4.92785,7.895194,8.048532,7.5399714,9.822934,5.5080967,3.9223843,7.4620676,7.3910327,8.228915,8.456982,5.8454514,7.3825655,3.633851,7.6906796,7.7954235,8.489369,8.466773,8.252809,7.0932813,10.362245,5.7542133,8.864694,5.769203,9.105501,4.752174,5.899025,6.186377,10.317672,8.264906,8.239266,5.9393215,8.549774,7.530868,4.0024843,8.41318,6.712633,7.692373,8.623934,5.211061,10.861008,5.7283597,5.729287,7.4500184,7.816753,6.905371,7.91985,3.8952444,7.619453,10.18638,6.2447686,8.6066065,4.3543935,1.7351478,6.4440017,7.4073334,8.879159,5.6760855,8.246448,8.422935,10.35922,7.235742,9.447056,6.445719,3.8105826,4.1189265,3.9157434,6.2865195,7.7850375,9.210832,5.487904,7.8183684,7.3699927,7.750346,5.0697145,6.7308025,8.127392,7.8321643,10.073742,3.7997622,10.407369,7.6083803,5.7868857,5.4779935,5.8631487,8.447824,4.1247034,6.0819387,9.453666,7.1210384,6.3173304,7.9043036,6.664386,10.124782,7.038563,5.294345,6.446106,6.546395,8.376662,8.725967,7.7007093,8.346531,9.786706,8.8969965,7.694379,8.3556,5.4371514,6.864736,8.367727,5.0445027,10.520424,8.48453,6.6113987,3.6429064,5.4310064,8.2395735,6.0927844,7.8641424,9.645162,4.393183,7.128023,6.513205,7.9284544,6.1182036,8.285541,6.5577836,9.860888,8.360502,4.8620496,7.8254375,5.991859,10.229495,7.1646647,5.3103075,4.053217,6.2178373,6.1263533,7.556564,6.0989714,5.513375,8.936442,6.8835363,8.368471,8.622809,7.697505,6.183371,-3.8304818,8.158571,8.650237,5.9743533,7.310375,7.908606,8.910392,8.510171,8.253118,8.750016,6.7616243,7.6265297,9.628932,9.25454,6.2305894,7.713864,6.862518,9.899181,7.836175,10.8339615,4.6940823,8.6916275,3.8389847,2.1065047,7.1408043,6.5437403,5.608012,7.821202,9.115387,7.663579,6.260289,10.024419,20.032719,10.426574,4.3551273,10.385531,8.517365,7.0505676,6.4068303,6.4948497,7.9711676,7.5040135,9.175984,6.7827497,8.240231,10.166327,3.6909606,1.4173403,3.9102278,8.313174,6.2671833,10.344927,20.033419,9.99856,9.0964155,8.455114,9.104606,5.5421786,7.5251927,9.206062,7.743681,8.043575,8.683839,8.232872,7.1113667,6.7179627,9.48671,8.24476,6.051068,5.3853273,7.0368447,7.041254,6.5479393,5.0059533,5.661633,6.5950303,8.046764,8.27168,8.113405,10.238257,3.9937024,8.145565,6.150339,8.723228,6.420055,6.960046,5.084088,7.842674,7.9429293,7.6070385,8.669912,6.202313,7.329756,8.032913,7.9125957,6.916695,9.773663,5.4048157,6.578265,7.6724014,8.543537,7.690093,9.065169,5.331601,6.170406,7.9839916,7.207674,8.844149,7.8518667,6.3722353,5.7684402,7.539421,8.866527,6.2097044,5.557209,5.116687,-11.965271,7.212813,5.6925764,8.567945,7.5456467,8.952083,8.676014,7.5880046,9.533672,6.6910214,1.6543523,8.271156,7.246503,6.255975,5.7537417,6.8217735,5.5760736,7.1229663,3.3947341,8.668456,8.470823,4.902738,3.9347985,7.899174,8.899646,9.152533,9.83038,6.4469466,8.070436,9.972605,7.970749,8.145431,7.6401033,6.0308714,7.0911026,6.1360717,6.391074,3.7254696,6.2405415,6.4477267,7.981101,6.8191156,8.397197,6.810563,5.99101,8.893692,7.5911026,7.5871387,8.728529,9.437648,3.639599,9.616713,9.096271,6.375634,7.6223793,8.360567,9.27083,5.82546,-3.884436,9.748997,7.1475153,6.7013817,5.7954564,8.936605,6.8999887,7.823867,6.893601,11.341129,5.9032283,7.7345357,5.131315,8.282007,1.1997344,8.275721,6.808703,7.711535,7.3945107,1.1960919,7.6618776,6.2089596,8.364331,6.8941746,7.725742,9.041946,9.354753,5.6841702,7.4242315,8.0307865,4.645942,6.237041,10.207205,7.228476,7.3104725,9.296565,8.061571,9.262082,5.9243827,6.879866,7.0954704,7.0785923,7.2959266,7.817668,8.297255,4.404392,5.4001856,5.7868185,7.3187623,9.505079,6.143399,6.8221536,6.5603485,7.5410542,9.465426,3.8950014,7.71707,9.463016,5.6865916,8.718139,10.919077,6.1358094,8.078001,6.6481204,4.982944,6.0920033,17.379025,6.587591,9.266454,6.1715603,9.891572,11.524405,9.614836,7.401229,7.644406,9.692591,1.6798257,9.45536,8.511203,6.464746,3.8534455,7.3408804,8.030251,7.993861,6.596566,7.9262652,1.6848137,5.899857,9.421203,8.620709,8.314644,9.525298,5.7715306,8.576931,16.340036,7.6532927,8.251489,9.15012,8.045042,5.7687373,6.444708,9.465633,7.528135,9.015365,6.4738817,9.01981,6.881016,7.4814095,9.9014635,8.744906,8.346309,6.4784217,7.9488153,8.498725,5.8440137,8.379217,1.5430161,6.77739,5.8925934,-1.0751483,5.7114367,8.438664,9.013278,9.398409,3.4403892,10.907008,5.7225156,10.382312,7.0739255,8.742846,6.8357553,7.829442,8.73298,8.094508,3.9979796,4.989544,5.7489023,5.0175457,5.119604,4.3345184,7.4450254,7.6404634,3.5322676,6.193606,5.010744,8.053567,6.2054844,7.638671,7.8278,7.3441496,6.82492,6.7338176,6.8106427,6.793489,5.2235193,8.055298,7.2358346,4.244401,9.020821,7.7571707,6.1923604,8.208781,7.5839157,6.9333005,6.802565,10.130777,7.484482,4.280016,7.1453075,9.421974,4.095507,5.9209943,5.026929,7.555719,7.7414145,7.111153,7.18428,7.7451844,7.121936,10.287467,8.551604,5.674841,7.863336,6.100604,8.440633,9.004948,6.914654,6.9828095,4.848955,8.909793,7.457445,8.61946,9.026035,6.5932035,5.0567136,8.571952,7.7346706,7.05594,8.078436,6.1122737,5.7138243,5.880601,8.287482,9.349642,9.581387,4.621755,8.333635,1.5660264,8.660223,8.46135,6.4654727,8.654893,4.9989076,1.7385168,7.360943,6.1048436,3.911901,9.568568,9.619475,11.355003,7.2598076,6.2148933,7.4457145,3.7805998,7.8942585,7.254952,7.6363144,9.586801,1.6701578,7.5405483,5.5050955,7.452259,9.031908,8.209208,6.216186,5.749533,8.603862,8.259005,7.950903,6.425205,6.9611645,6.8204412,7.2317276,9.298905,5.3132143,3.271144,8.950995,13.015573,6.7381115,6.559303,5.497332,3.6988268,7.9155498,7.5526013,8.3225765,4.231372,8.147198,8.979949,9.803396,9.125432,9.416852,6.9149575,4.085006,8.4449005,3.641463,8.584273,6.149595,8.714586,5.8861127,7.859865,8.524775,9.873168,5.701089,8.100615,8.204747,5.7952037,7.8978086,9.798426,8.368287,9.639898,7.986443,9.887073,6.527489,5.49336,5.743705,6.264379,7.404712,6.214168,10.410366,6.679582,6.0393,6.163759,9.714748,7.1762886,7.57835,7.695529,8.259912,8.475454,8.49218,5.6563134,7.7739553,5.757909,6.7024403,1.5966085,8.418664,7.86942,9.715263,7.8168497,1.7894458,8.682144,5.9953175,6.155063,4.0009227,5.3398666,8.3045225,10.354618,6.150053,7.2664485,7.302552,6.3293614,7.0742702,4.3685274,6.1710124,4.855662,8.43003,4.359218,7.760168,8.950063,5.3497233,7.9157267,9.184868,7.7671294,9.138116,7.676527,8.166529,5.8201237,6.24868,5.793079,6.2701693,7.4125166,6.053495,6.5024714,9.523106,8.388187,7.888212,8.517268,8.151926,8.390311,8.048011,3.9942477,8.0431795,7.1884356,7.9805207,8.003274,7.721277,7.850027,7.6917887,3.8883758,6.30064,6.2284107,7.919728,7.3068986,8.674333,3.6158814,7.7892714,6.4649463,5.127395,7.527964,6.559256,9.239496,6.8520594,5.691066,7.5209723,10.45317,8.437031,8.034785,6.326177,10.4088,8.185742,6.050726,6.1160965,6.57872,8.5260935,5.7655435,1.8624312,5.321348,6.094392,8.417794,9.553926,5.661226,10.016324,-14.521678,7.9795456,6.7844324,8.731156,5.5587473,5.25378,6.7896957,4.3157215,6.2659335,6.817,9.415479,7.2360377,8.904506,3.7950962,5.3131595,5.5263968,7.681512,7.559585,6.547582,8.833059,8.346915,9.998909,8.065138,7.9247403,10.48183,7.4143753,7.5205145,7.1399655,6.1546035,6.884952,7.75098,8.600823,9.24407,6.8060274,9.19714,4.3722615,7.404606,7.9434376,6.266995,6.6495914,8.33451,3.736072,6.627464,6.1798906,4.8447676,4.9224477,7.796408,6.1005225,6.7608156,8.6139,9.586215,7.9250073,3.7646441,8.282452,4.698011,5.0541277,1.5981666,7.49555,6.2835674,7.260232,1.8302538,6.2404184,6.2209783,9.855745,9.280889,10.447661,7.544202,9.411742,9.533089,8.045872,8.496072,9.236838,6.6902504,7.6931086,6.8012896,6.097876,9.0935545,3.5712667,-3.8587773,9.602213,6.876226,7.5869083,5.928149,8.211758,6.1792736,5.5293465,7.9713573,8.043871,6.565155,1.6874087,7.684988,6.158705,8.033028,7.9155116,6.164561,4.9588013,9.921984,9.602063,8.6321745,5.476363,7.4336967,6.6560082,6.370044,6.741062,6.3869286,3.9475377,6.5165777,5.702495,8.742927,9.015594,6.443864,4.5729594,9.803777,6.9070897,9.971236,6.1856256,9.709151,9.272256,8.258182,7.1995215,5.127161,8.808867,6.4367266,3.887068,6.0888977,6.177077,8.537006,5.583584,7.367574,5.678119,9.211586,7.2458467,8.494526,5.2937264,5.504673,8.829825,8.167533,8.4289255,7.94023,5.137616,3.4476688,9.701983,9.038651,8.514696,6.319489,7.434468,5.904357,8.903846,7.841948,6.210188,9.033868,5.4389687,8.500316,6.0439925,9.164109,9.939377,5.1283183,3.7135,6.8657727,9.072758,4.111675,1.7054571,9.450863,8.133902,6.03462,10.341934,6.0601068,1.4146532,8.422616,1.6217471,8.278696,9.341801,6.8539243,8.086144,1.7496423,7.741568,5.799927,8.2819195,6.0712376,10.325661,9.1300125,1.7711793,6.679602,1.7861744,7.5848107,6.5355854,6.4775767,6.482985,7.7083025,9.177092,7.7102365,7.679903,6.8217416,10.86465,8.088604,2.1043677,3.9072874,7.1785116,7.615293,7.652322,7.6451335,6.8667383,9.256268,8.110024,9.033792,6.146118,5.6024566,6.1199694,7.8018,8.453725,5.5019813,7.6459346,6.64769,4.910957,7.9171205,7.7022653,6.1986675,9.878485,8.1646595,7.8592257,8.122682,7.1472907,7.509703,7.6349277,9.116967,5.0810986,8.982459,7.882176,6.204041,7.6725197,8.371136,5.1542153,6.3111343,6.2236295,9.66519,11.521028,10.012683,6.553921,5.783673,7.909097,7.456369,1.6420027,6.06942,5.457624,6.871991,8.910425,-14.513316,8.84749,7.5616646,6.430526,5.8498793,6.7233143,8.491989,8.033719,5.184122,8.605153,5.1044803,8.883795,7.8835297,7.7835145,7.7390385,8.760025,8.590645,8.802242,6.079577,10.036114,6.3624783,7.8963065,6.303148,8.417644,8.096926,7.787751,8.49061,6.3074384,8.793606,6.6392846,5.0921426,7.539177,4.823898,5.9326487,5.7815013,8.816921,6.2986016,7.8991385,7.498561,7.9012647,9.023214,9.597359,6.9079595,7.5713325,7.17076,9.219202,9.1469345,8.279788,6.2004876,6.655864,6.7705836,7.764839,4.6765814,3.9027557,5.8710623,6.876767,9.1137085,5.892358,4.4451632,10.872253,7.2566495,5.028055,9.674939,7.2801003,5.127586,6.4721365,4.117382,6.557819,7.433923,7.068448,5.834283,9.120409,6.5303283,5.403872,7.397152,5.3458667,7.4255066,5.95373,7.563242,8.251011,3.8825257,10.121675,9.136144,7.5435963,8.0060835,6.5352464,8.878285,6.5306687,8.90595,7.77814,5.498422,6.862183,6.98804,7.087162,7.9981565,8.599428,7.9923205,8.579898,7.8137746,10.116731,8.003077,7.79575,6.1349845,10.338347,4.076202,4.047115,7.992388,10.521396,7.1039505,7.341705,9.974013,5.071572,7.84983,8.1318245,7.278456,6.7440767,8.191843,10.14014,6.807523,4.90532,7.728113,8.438778,7.5847073,8.526425,6.122776,4.354051,4.3271194,10.129933,-1.0745864,8.911671,6.061662,8.739349,6.289713,3.7286222,4.926376,12.924962,6.803198,8.598562,3.9655983,8.258518,4.779582,9.984053,8.702978,4.392254,6.0348463,7.325703,6.2972646,9.597132,8.4869795,8.182021,8.118178,6.134763,6.954006,2.1067297,10.229793,7.5001273,6.650709,8.308373,6.6299524,8.885949,5.6078587,5.9851503,11.532005,7.2102365,8.739837,8.821441,6.4104595,6.4416304,8.165442,6.678697,7.5835214,9.933503,5.9828954,6.011119,8.686681,7.5751534,7.941326,7.1190042,6.671977,6.453071,5.1529036,1.516558,5.6363134,7.542389,7.531744,3.9968772,9.330129,1.7528516,7.8451266,8.680914,7.7539954,9.023096,10.43597,7.9111147,6.733231,9.876813,7.74221,6.1630635,7.739761,5.2964225,8.602432,6.9759665,8.19522,3.7575016,6.1949596,4.6834908,8.822063,9.166921,6.2698693,9.08612,10.057996,7.0391655,6.783189,7.8469977,7.981478,7.2381086,9.076442,9.124939,8.340013,3.6390798,5.856058,8.627684,9.159642,17.379034,10.1692915,6.7793236,8.003003,8.155538,7.7332273,7.021503,9.137037,7.4384103,5.7377205,6.800421,9.260702,8.054405,9.658751,5.6509943,7.701788,9.868584,6.2710896,7.114617,8.889434,9.275065,9.818561,8.7543745,8.042721,5.0091805,7.996123,7.7355814,9.364389,8.499807,8.302838,5.6374526,6.59347,5.971512,8.922979,7.818639,8.705114,5.9364605,5.225168,7.241588,4.4493623,8.602254,6.658928,6.0679297,8.330347,8.722467,9.899516,8.554063,8.890653,7.6628227,7.3721776,8.752046,3.6415656,8.372092,6.591464,5.129145,9.909285,4.685546,8.682899,8.078023,5.613115,9.203359,9.185569,7.6309595,7.08247,6.6620545,4.167912,9.691695,-14.5147295,8.142955,9.37996,7.997717,7.6115055,8.6755085,6.636575,6.1679482,6.1979427,8.426934,5.9347587,8.032028,9.264334,1.3638799,9.16681,4.8233414,6.4518194,5.973032,8.317602,8.55313,8.993085,7.3619523,6.0110183,7.722052,4.3013744,5.320673,9.208283,8.602358,8.286318,6.145456,8.293645,6.1942124,5.0305853,8.569252,3.682163,6.2844925,8.169745,4.546468,8.790465,5.1282167,-8.210918,8.381699,7.7090683,6.6033335,10.481612,7.8005013,9.774692,5.649472,8.084856,7.149878,6.466624,7.924649,6.419664,2.1104348,8.081046,11.348664,13.015443,7.1943574,7.6319766,8.116275,6.0060105,9.163094,8.861813,6.577515,3.588583,3.9326277,7.509238,5.7840633,8.582953,8.921307,9.3195095,6.0555162,8.930671,7.536313,7.542813,9.10695,8.156493,7.086672,6.8911524,8.629995,8.742783,7.0626273,7.070623,5.52076,6.3710237,6.509359,7.464998,9.166837,7.546465,5.847007,7.5354095,3.9182427,8.968877,6.1499095,9.471304,6.6195536,10.0702715,9.9021,7.413618,8.196085,7.427509,8.082869,1.508983,7.802242,5.863396,6.511971,9.231739,7.4219246,6.8677764,8.260246,8.131193,5.9541535,8.777066,1.6756762,5.1652174,8.2976,8.879803,12.937707,8.435413,9.3387165,8.761049,9.658799,9.862272,9.011686,9.271946,9.410216,6.883454,5.922092,1.5564685,8.76047,4.3722305,8.786985,6.1283107,9.996959,7.2706966,6.1570554,-3.8767002,8.142505,6.9956107,9.949596,5.1281805,-3.8485324,5.9383063,8.613665,7.673275,6.5776663,7.0770698,8.292556,4.02259,8.160217,8.255753,9.233091,8.354812,4.048264,4.925532,6.887573,6.801432,5.376088,8.433306,6.7864833,10.49851,6.4041657,5.9446654,9.550853,8.874309,8.699612,5.0616317,7.5723186,4.082469,6.0936265,8.598461,7.3456764,4.359187,9.45291,9.033942,7.1320148,8.160824,7.124553,4.8862453,9.166254,9.429166,10.12555,7.2208714,8.215328,7.9233747,6.051631,9.262697,8.885236,7.798863,5.6382933,8.37898,7.8176785,8.548047,8.385746,9.09418,8.550574,8.768368,8.135157,7.2910795,7.995375,6.731212,3.653843,3.8449368,6.1842294,8.067849,9.622871,-7.8548374,6.9662614,8.562351,7.8971224,9.237517,8.32531,6.873053,7.873605,8.142787,6.548161,7.5698857,4.331937,9.2206,8.073031,5.8509097,10.325021,7.4456987,7.535597,6.1856875,6.508125,3.7188473,8.730627,9.883987,8.124443,9.704993,7.0122523,9.904994,4.4494915,4.7745223,7.519133,6.7176833,9.44151,9.229261,8.283239,9.589568,8.17462,6.040878,7.4166055,6.9188657,3.8138795,2.0247738,8.45424,6.1125884,7.9437027,8.584641,4.011471,9.329452,9.496235,6.0136714,4.3550825,8.19974,-11.965286,1.6898504,4.103474,8.908268,6.7762127,9.709555,8.663412,6.8054447,6.6744742,4.5654297,9.132898,8.417781,17.37904,10.367383,10.336381,7.202286,6.9654374,8.400022,4.499939,7.613089,7.439327,9.96309,4.958522,7.6989474,7.4136124,6.5436096,7.554399,10.189038,6.8686547,3.8825889,9.03543,7.31273,8.183946,6.403774,8.790973,6.9856625,4.833962,9.290163,7.46285,5.8493066,9.139994,5.7820992,6.2211285,8.757678,4.9334097,8.556869,7.711762,8.211911,9.883857,8.024588,10.177928,1.6339864,7.601149,7.308692,5.201611,8.32556,6.0579166,9.190664,6.2642674,6.220316,6.5337024,7.494419,10.02061,1.695621,3.9286456,7.9967546,8.169626,6.176009,10.87203,8.186708,7.52749,5.834479,8.691331,4.104339,6.5838027,6.482606,6.6129603,6.4849977,7.1581807,8.731973,9.056491,9.912231,8.993419,7.790819,6.2084394,6.4640846,6.4015427,10.137241,7.626805,9.087961,8.692914,8.975139,9.535126,12.926113,5.6300936,-8.221505,8.817088,7.0986104,8.9342375,3.4412615,8.0078,10.802292,5.1290345,8.4401455,4.793681,11.525322,7.1109357,7.6505747,7.6452556,9.637769,8.226117,5.182419,8.850662,5.6490245,9.323865,8.207127,7.8528304,10.104328,6.54576,8.671524,9.400797,6.2453446,5.928439,9.101223,7.575439,5.684383,5.8948436,3.4226823,9.559328,5.6826015,8.319997,5.383298,4.6994834,5.995414,9.3571615,7.6075706,6.404834,9.191805,6.762042,9.314542,3.8966408,6.61906,9.369046,8.543698,9.217201,8.425066,7.8959055,3.9700665,4.0512486,7.256331,8.404806,7.088344,8.391933,3.6021564,7.808009,8.821529,10.296572,6.6054187,1.632277,8.353167,5.9931808,9.949507,5.8767843,9.171728,9.536867,7.9674573,9.00867,3.953163,7.1141763,9.094891,4.7851295,10.15854,4.6984715,9.572371,8.802923,7.03662,4.6777134,1.6494056,1.4179856,5.1009064,8.698029,7.5457354,20.032701,6.6542616,6.786495,6.8044786,8.753571,5.584988,8.4479885,9.246224,7.3991017,5.9618793,9.021981,6.6542387,13.016134,6.1014004,7.527593,8.073796,7.4814095,8.330866,9.317322,6.894662,8.529898,8.966064,7.868912,3.9211411,10.485532,7.6215687,7.4731736,8.526613,6.7705507,5.650069,10.540187,7.2246814,6.9944153,7.8312297,7.660749,6.9252243,9.571048,6.4346347,6.2827883,5.2715297,7.2245893,8.964526,8.399488,4.8915877,3.6153738,8.6212225,9.722432,6.1321106,6.8667684,4.909211,1.7412744,6.1904697,8.6494665,6.649142,9.06579,8.734564,8.833884,5.5986123,6.767436,6.1780148,9.117107,6.152911,6.214237,8.370989,6.085838,7.137216,6.2235947,7.836264,7.467804,10.295587,9.72991,8.404797,5.062019,9.038688,6.262612,6.787991,6.006527,-11.965296,6.550854,5.089115,5.884742,8.046441,5.24063,8.005462,7.1607327,7.1326966,17.379051,9.803288,6.0366745,7.6007977,7.495311,7.6570096,9.144601,3.6967983,7.6991196,6.341842,1.6014698,8.412378,4.2172127,8.078383,7.5748544,7.707464,4.995845,8.494187,8.302193,8.283684,7.6041574,8.094679,6.4002404,1.5608114,4.9655595,9.601643,6.3510003,5.1399636,7.1881967,7.628773,7.7610774,6.057781,6.77235,7.486274,8.72765,6.147426,8.907932,8.542294,9.070681,4.9741116,3.943394,6.278694,5.001119,8.534612,8.015686,9.716861,10.171715,9.358811,1.711338,5.645743,7.863538,6.112957,6.133579,10.502156,7.9583793,6.6644793,7.762654,7.6192536,4.958976,7.018858,7.2381787,8.37372,7.3280706,8.527143,6.6169496,8.511479,4.226651,8.249421,8.46585,8.709101,7.0693126,8.400385,8.125333,7.9600196,8.364669,5.974359,8.39531,6.3466825,9.388013,6.270688,6.953482,7.8219905,7.3926225,7.1929026,6.761328,6.1502995,7.286766,9.79576,6.202203,-14.521299,7.027111,4.782103,7.7512684,9.295615,8.964102,7.873438,7.7188334,6.045526,3.643026,7.8788886,6.0890827,8.147708,9.104162,10.834079,6.758211,5.874908,6.412579,6.7613926,6.980559,8.940294,6.154292,9.311811,9.919614,7.0917873,7.324522,7.5582805,5.4360394,8.568148,5.9621387,5.3076215,8.831407,8.276126,8.548929,6.7888002,9.272929,6.0620856,8.253086,8.543097,6.653567,6.0778537,9.877233,8.236873,5.133395,8.374881,6.693447,9.070866,7.3937182,8.494855,4.149056,8.272008,7.8997264,5.7975793,8.481635,9.337411,1.538196,9.881324,5.5069737,6.2698464,8.309615,8.218428,1.5998714,4.14213,10.221944,7.450904,6.8430004,8.264726,8.018561,7.2180996,5.8695006,8.277331,7.1355886,11.352777,7.5026894,6.1897597,6.0319858,6.3140454,8.541912,12.993298,3.8855786,9.206726,9.882335,8.219058,8.137467,9.071823,5.88808,7.7593145,-7.8590555,7.093393,5.8480005,9.707288,4.958632,6.6828513,6.538656,5.358498,7.915124,8.114871,6.817758,5.8846564,7.8840322,8.928012,7.768223,4.1790733,7.9510984,6.606254,8.29237,9.15881,10.166368,4.187144,6.187248,1.4738921,4.87911,6.975301,6.038531,9.839293,9.038451,5.8532944,1.2234545,7.224842,5.071648,5.9102387,8.993609,7.030187,7.3005996,6.5600386,9.180357,5.6776867,10.209241,7.9952283,8.570119,3.8888013,5.5497007,3.8812306,8.146332,8.13933,10.133678,7.7290726,4.046552,8.240153,4.0344725,7.473037,7.587745,9.527204,7.8715672,8.561883,7.9468102,3.710517,8.461641,9.009892,8.160052,6.1583357,7.6507363,6.0386686,9.024296,-7.859029,6.538543,5.782712,6.3929462,9.819598,7.6237354,9.697765,5.4005766,5.930776,6.202929,8.924978,6.18919,9.424296,6.8608904,7.1292577,9.085335,9.456032,8.298107,7.6638837,5.3230233,8.528319,9.402515,9.181803,7.4653754,9.708196,6.7784758,8.295158,8.195513,7.450726,9.344316,8.286552,8.81524,6.1579947,5.942752,8.183999,4.9342456,7.937386,8.190373,3.680226,9.427467,7.238837,8.884006,1.7158121,8.569168,9.156417,8.585862,9.327445,5.983336,9.251427,5.3294263,7.369006,7.7168326,9.506774,9.115315,4.7891345,10.236157,9.701095,4.43415,7.6590705,6.4057813,5.9799414,8.304552,9.984763,4.223207,7.4232144,6.024632,7.070615,4.8353157,3.9641516,8.598208,7.9491615,6.986199,9.012457,9.268685,4.270681,8.418831,5.343972,7.3576717,6.0849466,7.664343,10.329465,1.5897266,7.0695724,6.647064,4.4917517,4.8131213,6.206183,6.777994,6.1897836,6.3553333,8.188907,5.937321,9.051408,8.844819,5.9031334,7.143216,4.776261,5.7344513,7.186024,7.936184,6.2249284,6.874304,6.08751,7.8472013,8.766685,8.417605,7.8156743,7.450856,8.524156,7.199278,5.820346,9.413318,8.453042,3.7685988,6.246399,6.128066,5.4749117,7.2663608,7.496139,7.05426,7.702869,4.8811135,10.488859,6.068161,7.919157,6.1056232,5.2303996,9.383776,5.339057,7.6351466,6.8312964,5.6696305,9.219255,-14.527741,5.29126,3.752719,5.4978194,6.283311,5.3951445,5.3126845,3.979681,6.405824,9.260822,9.169568,5.1648793,6.0438643,1.7237009,8.849363,7.3754983,8.13742,1.6841847,7.702628,8.586912,8.460806,5.21874,3.835907,9.220754,5.9597483,7.705465,10.159505,7.319949,8.575086,6.156761,7.435873,8.914173,8.632493,8.233579,6.2970624,5.4888005,8.824655,8.486971,8.879253,6.192985,7.9145336,7.6210957,8.008624,-0.94683033,7.541838,6.454662,8.116619,9.183394,9.168416,8.150367,7.556074,8.106821,9.119207,7.7297244,7.0988626,7.177489,8.966261,6.404566,6.520333,9.3999815,5.7533927,9.9282675,8.73449,9.07935,8.6619835,7.446648,5.92695,8.117192,7.3970056,8.785558,5.656754,9.401809,9.0646,5.7043347,5.9003963,1.3989781,6.670698,9.356914,7.26413,8.425362,10.093566,10.052038,5.631371,8.26275,1.2953247,9.585496,6.2699375,8.02812,7.2383842,7.3549356,8.628979,9.865634,5.489948,11.752819,5.367994,7.1299515,8.378099,7.9911246,8.300675,6.8330336,8.54268,6.8105497,5.933801,9.016699,9.232044,8.293549,8.021789,8.671298,5.874385,1.0935165,7.8818407,8.54166,9.146264,8.189421,3.6797535,6.8058095,5.9262214,8.811224,4.523404,6.075648,3.8768685,5.517257,10.701334,7.200715,4.8200593,1.5847752,5.0544014,8.316327,8.526251,3.9458337,16.342857,7.593848,7.7271595,7.926995,9.143235,8.588597,3.5418873,5.5530925,6.230332,10.072269,7.7976546,6.01383,8.455498,7.8827906,7.08345,8.017777,6.705516,8.44691,8.252766,4.9011307,8.130305,3.3515184,6.3505282,6.3258305,6.695268,6.42995,7.8752513,8.821727,7.330567,6.8881645,5.245266,5.48032,8.91485,5.68668,8.8899975,6.7732325,6.469869,4.953606,9.12799,6.7515793,3.9258282,7.965378,6.665629,8.685878,9.338849,10.544157,7.868253,7.451324,7.8107257,4.1657166,6.5204034,8.421477,5.780695,8.079466,8.270357,10.137602,8.959875,8.058335,3.974098,6.684429,6.6425447,4.215556,7.2224507,6.1704764,7.1983695,7.2084293,8.19774,8.307021,8.217086,8.731733,4.955463,5.671766,3.6862202,5.8156495,9.644493,5.8408794,9.107303,8.708699,8.673855,9.025966,8.881111,7.5088983,7.466603,9.767555,7.7192135,8.7143955,6.8053656,8.9265785,8.031801,3.8752956,5.6003532,3.5313635,8.132209,5.9612403,3.24462,6.9047074,5.842661,1.6057932,5.3544197,9.384012,8.968819,7.5282183,3.8357294,6.8572526,9.071193,10.851148,7.113282,6.9757175,9.543297,6.2260876,5.3739853,7.702186,8.601619,8.0513,6.131289,11.568368,7.1394634,7.9123597,6.765864,6.467096,5.1925797,9.108376,10.185679,6.2678204,9.944669,5.281096,9.074541,7.8369374,7.5067177,9.037309,4.0013056,9.998445,8.506336,8.003681,7.043151,7.2638593,8.002266,7.9419575,8.268992,6.151602,8.300025,10.13042,6.6996913,6.2235312,6.177572,10.225276,8.836757,7.807801,7.916647,7.7016687,7.48424,8.142216,6.3285894,7.2841506,7.162955,9.652708,6.60427,8.687378,8.923127,6.4820113,8.157477,6.7329082,4.296743,6.4594016,6.4776635,8.275956,5.907408,6.897044,6.1793365,7.79979,7.845852,8.106705,3.8869715,6.8932157,8.73674,5.934734,5.450038,8.887831,10.3131695,8.734897,7.6787624,8.203855,7.8167467,6.062424,7.6633034,8.147436,5.7263274,9.383243,6.079652,10.8433275,8.347045,8.494141,8.2021675,9.117443,3.514918,6.139969,7.939184,7.7020264,8.2754965,7.917123,5.726929,6.7105274,9.031918,7.221202,7.1770897,6.9049587,6.890411,8.969603,5.8642764,4.8920527,9.116653,6.074876,7.1828785,6.781217,7.5430074,6.114497,8.202917,7.467475,7.39371,6.513972,8.941575,4.907898,6.5871778,7.9435196,9.424654,7.123966,5.210367,9.097305,6.1331086,6.1616917,6.2082806,8.101564,6.448402,8.308747,6.7144136,5.045195,6.7743077,8.528567,8.083751,7.9694977,8.854519,7.021245,9.381454,5.0886326,-1.0748632,8.522471,5.0982623,5.9515195,8.487133,10.360572,9.555634,8.640233,7.213849,6.888539,6.5189385,6.7301784,4.2489533,5.9507685,7.563185,7.9781837,5.642604,6.018874,6.2813168,7.801153,8.496429,5.280535,6.7673583,9.023723,8.752404,3.5656626,8.016561,8.214586,9.211476,17.379055,9.933506,8.239382,8.935997,7.842015,7.0020323,6.195393,6.377091,7.0150795,4.864284,4.80671,7.2880363,3.5514984,6.165144,4.1350884,4.292367,7.8028316,8.177767,8.140369,7.9745216,9.177849,9.34592,9.972334,7.3982167,6.9709635,7.1579895,5.248746,7.1958065,7.4122343,5.2700043,6.286368,7.419228,8.111961,5.8807983,9.86474,6.0929046,8.346778,5.6369567,6.9815745,9.011753,6.5315547,8.738592,9.081177,8.792524,8.236541,5.6749105,8.872644,1.3743435,7.961228,9.448347,5.454902,8.51483,1.7168324,7.549099,6.642636,8.821212,7.212555,4.35458,8.496509,5.4347825,1.5672066,8.859064,7.551296,8.991781,8.430844,6.1791096,7.2036777,11.525519,6.04326,8.073382,5.779812,8.446068,9.247647,6.1557693,7.5186973,9.263758,2.106511,8.408127,8.405971,8.054218,10.106921,9.902136,7.260486,9.065302,9.16451,8.054992,8.307901,5.650378,7.3396564,8.466717,9.807806,9.601947,8.79035,8.419142,6.1996226,10.295063,3.898958,5.5664277,8.831535,5.664548,5.2258053,6.2372074,5.790557,6.9112277,8.12698,8.026911,7.73489,6.142749,9.072977,17.379057,7.3937874,5.866934,8.207651,7.4626617,7.048328,7.304684,9.127327,7.7097983,9.305844,8.704313,7.260705,9.762343,7.9752617,8.949304,6.0022235,9.089106,4.0560794,4.62983,5.576347,7.8091464,9.040163,-8.210753,9.264796,8.248962,8.430135,6.2180324,8.864274,8.677708,8.2951355,7.8962865,8.042881,9.330005,5.3234396,6.9704657,9.6934805,8.39013,6.783728,5.906134,6.46588,7.1215024,7.1354785,5.9327297,6.6650724,8.686499,6.10636,7.6674037,8.845424,5.4380765,9.136198,7.8610377,9.158494,7.354231,6.988683,7.6164613,7.9705486,8.977286,3.7491322,6.84409,8.302476,7.645197,8.430182,7.8302655,5.087933,8.319808,10.077024,1.6394163,7.1856155,8.075617,8.565655,7.323915,6.186058,9.83318,9.127248,7.7441053,6.236749,9.290466,7.443637,5.660841,6.2444844,9.659433,7.89205,8.619213,9.209078,2.0357742,8.320812,7.0692105,4.0357614,7.363538,9.017822,5.872047,-14.519989,8.532953,7.542768,7.509921,7.41306,8.122682,5.9640927,3.8648813,6.644025,7.4911375,7.2848687,5.4069433,7.7402935,10.434288,7.5467024,4.2447295,8.954558,9.539088,6.776076,6.1125617,5.258707,8.9593115,4.217543,8.703428,6.5686555,7.7587895,8.651441,7.39535,7.0530796,8.17915,8.890016,8.914753,8.40176,9.118796,7.0027943,3.5342033,8.328994,9.329106,7.831069,6.082813,3.8063219,8.322622,7.6250978,6.8671174,6.2375355,-0.9194093,6.6627736,8.030272,8.139764,9.273148,7.5215077,5.4430137,5.8459687,7.419939,9.232576,7.3782783,7.3727612,7.1232033,8.415147,7.8091536,-1.074611,7.5891385,9.523081,6.6446805,7.7903337,9.1750555,2.0013235,9.3987875,7.9012904,6.0439305,9.881011,9.171247,8.760392,8.543969,4.006872,6.7493463,7.5613337,1.5410982,-1.0748502,7.118811,4.0427136,9.306491,7.698215,4.995396,-1.074651,7.874879,5.3191447,6.94758,6.0918055,7.908853,8.761429,7.5477915,7.832318,9.107139,7.044672,5.3274174,6.024309,9.05924,6.231208,9.053042,7.841201,5.2004824,3.8741798,5.5807557,6.483647,8.9993305,6.532714,9.8682575,7.544087,9.537276,8.382287,9.402559,-0.8189925,10.0693245,6.3318725,10.172264,7.985775,8.040239,8.076699,7.7387342,7.1811223,6.1545753,6.4090652,6.1223106,4.020446,8.607506,8.90549,9.902073,7.5013213,3.7589545,5.49624,9.254728,4.9274597,8.390559,8.316523,3.5665684,8.53023,-8.211216,6.7015758,5.1631436,8.3047695,10.313308,9.377512,5.5392246,9.149249,8.99869,5.1955504,10.081714,5.795801,5.1661596,7.7945476,7.4459057,6.208919,8.4117985,-7.8590403,9.088844,6.5665593,8.428401,6.2864904,-3.8046145,8.103121,6.630142,8.500953,8.745962,7.3897567,8.09296,9.290896,6.04786,8.180109,6.2203865,6.9292927,7.6099687,6.5185246,8.607499,3.9446764,9.119494,7.578917,8.206166,8.744028,8.230055,7.3708835,7.185837,9.407475,8.949146,6.7127156,9.327116,10.211243,24.94425,5.008106,8.247348,6.913074,6.1384997,8.325954,10.390797,7.669295,7.734462,8.603011,7.842106,5.893856,7.6807594,2.1057694,1.7502725,9.9638195,1.526053,8.533918,8.286589,7.7947407,5.9844637,7.334071,6.873951,4.127333,8.102629,10.434634,9.801832,8.03386,7.7090144,8.825366,3.653076,9.231152,4.6753144,6.2611213,7.24703,8.977665,8.332376,8.336061,6.553986,8.315186,7.4610863,7.9312086,7.894067,7.5431895,7.029562,8.320905,9.209507,6.1475315,7.1359253,3.723911,3.9281125,4.6843767,5.5283785,8.295932,6.8395805,6.755233,6.4197392,7.70749,8.184516,10.484725,6.111791,7.533994,9.238308,6.202117,6.58424,9.016553,8.305425,8.988774,6.8756847,8.200746,8.112161,5.958077,8.70523,7.240219,8.2789755,5.6032724,8.143074,8.608416,8.392634,6.277792,5.10116,7.7833896,5.1856165,8.182758,5.521883,4.8452654,11.356462,6.463687,7.214369,7.7163467,9.489219,1.7550132,5.459158,7.9854884,8.475465,6.46901,6.9278283,9.025499,6.1889296,5.72668,6.2622786,4.7078977,9.297327,9.215431,10.059712,6.038162,1.2778854,6.2982388,7.320037,7.7693996,5.456263,5.576339,8.532661,6.271283,6.7395043,6.5534925,1.5747107,7.655011,10.4109745,6.2244143,6.4951334,1.4342686,5.7367616,9.129014,6.7089453,5.948415,7.8135767,7.9768453,1.3389747,6.2863474,4.5833426,6.04733,6.6229763,6.9008555,8.986518,5.915262,7.167285,5.8451324,3.638346,6.230605,6.9060493,5.965691,5.775151,3.7918622,10.227809,10.342776,6.1348095,8.370595,7.9451513,6.5006485,8.706121,7.2195725,6.3643184,5.7817984,-11.965299,7.317944,6.2753606,8.137842,8.766862,7.418281,8.570045,4.956992,9.580328,8.859762,7.1619315,4.6371655,7.7993984,8.535305,6.173732,7.760191,7.353493,5.886099,5.2578998,6.685208,5.202447,7.559331,8.001976,6.6271133,8.193123,20.033438,8.047285,4.4223967,5.9598656,6.700272,4.60026,6.226134,5.169373,-14.521135,1.6421632,7.653229,10.08459,7.4234734,9.774165,9.8229265,9.344829,8.604727,7.5102654,1.757128,8.684443,6.069005,3.6875124,8.769332,6.011436,6.1643977,8.108365,6.637255,6.81984,5.9537845,7.882733,4.330138,6.60607,6.9396763,9.167419,7.8576775,8.136388,6.852808,7.749805,6.451244,9.718755,5.0723443,1.7707448,7.0315967,8.1737,11.527319,7.9389524,6.1895537,7.060935,9.039132,7.2567635,7.605564,9.251462,6.370278,6.858156,7.72552,7.821651,6.2771997,5.9805794,9.015431,5.45812,8.026764,9.156826,3.8268921,7.1487894,8.510136,7.6186185,6.863175,8.078498,6.292636,9.67871,6.1273866,7.0425606,8.0119915,4.9373083,9.788632,6.832723,7.950876,7.2830877,6.462032,3.6538832,5.8840013,6.0425444,6.842209,8.915451,5.1617303,7.351814,6.8578315,6.5027146,9.166909,8.233824,3.7084405,8.647178,7.6166096,3.6262772,6.388827,8.847415,7.6209164,4.383839,7.1020913,6.9894576,8.549082,7.4269357,8.172888,7.55359,9.627281,7.9426036,7.2251077,7.318309,6.5846634,9.049909,7.302684,3.7650084,9.475294,7.5211,8.717764,6.5254345,-3.8717306,7.5470777,5.916258,8.274402,6.0156775,6.5561085,7.798612,3.9418182,9.322492,5.38177,4.2047076,5.70728,8.631691,7.73547,5.6957088,5.431176,8.603885,6.079522,6.550212,8.460151,5.2435527,4.22961,8.336817,9.320764,7.054438,7.6377697,6.4746013,9.263775,7.742671,6.624132,8.376268,8.25721,8.101588,5.407638,8.407821,8.159728,7.7474327,4.4244504,6.93507,6.488976,-14.521681,10.33985,10.356492,9.344544,6.237983,4.432546,7.039809,8.012936,9.35468,3.8784142,10.302247,9.132423,2.0176592,9.444502,7.6443253,9.773129,9.881407,8.43316,7.7617188,11.481667,9.156666,9.278544,17.379065,9.179508,8.467937,6.1176414,7.325163,7.8177795,7.254143,-8.211236,9.878394,8.355744,6.5601783,8.272124,8.142747,10.447845,8.849101,5.5942435,5.825504,6.11313,5.7587266,6.080372,5.7748475,6.263361,-11.965318,6.9667935,8.550541,9.4466,5.8320856,7.0669446,7.6608124,5.7093234,7.591396,5.9182634,7.4854565,9.312626,7.1976295,7.8877125,10.109238,5.724682,6.055518,8.341191,6.173585,7.788667,7.818485,9.284436,3.6449907,6.193545,8.420742,7.889354,6.0824876,7.641733,7.728578,1.6641055,5.170676,8.228162,5.512966,9.311514,5.353412,6.2357597,6.6677537,8.618597,-1.0749139,8.517968,9.694597,-14.515847,6.523951,9.17315,6.107706,7.5928817,8.842111,9.683278,6.370354,9.646846,9.694971,4.979298,3.5963526,8.474256,5.6154647,6.5306783,7.644797,4.8963904,6.9034057,6.2229123,8.681478,6.1250935,8.028003,9.4458475,8.979347,7.9940495,9.663582,7.5125837,7.7401543,17.379076,10.336943,8.89003,11.525527,6.205106,6.1887383,8.610037,3.8880196,9.047493,3.9686303,6.994642,7.013647,7.690796,4.442707,6.474328,7.9813585,5.1487637,7.490856,6.8385353,7.0211053,3.9795122,7.0526257,7.46438,8.890313,8.45153,6.1077538,8.413105,6.1047983,7.437383,4.8823433,-3.831829,8.278227,5.8629355,8.054413,5.9210978,5.6872587,1.3770914,6.943419,10.969349,6.670445,6.080025,6.657357,8.279342,7.222841,7.5381618,9.541117,7.674195,5.803926,9.279034,5.610356,6.750121,7.734076,6.831209,9.748793,7.7501044,8.853589,7.927331,8.308862,8.985217,9.34645,7.8041563,7.932269,8.765827,9.534092,9.288465,5.9326615,9.203564,7.514383,7.0934863,6.307768,4.418173,6.0582724,6.0796,-0.88142,-8.211405,8.641136,5.62529,9.412775,6.547013,8.727059,8.355121,9.025688,6.8990755,7.939192,6.323173,7.5847793,9.094881,9.401632,9.880302,1.5387298,7.1259127,6.648269,8.144888,7.208948,6.310883,7.7773113,9.175908,6.6743813,5.707497,9.134707,5.7341895,6.5588007,10.454271,8.504641,7.638694,9.602362,7.6523037,9.723644,7.047207,6.220548,7.3629136,9.1536455,5.8591156,7.693404,5.8002534,20.03342,10.485749,8.824529,8.338012,8.642113,9.648573,7.0520267,6.2210565,6.1983943,6.821653,6.6093664,5.635354,8.117091,7.5821314,8.091863,8.207264,7.3204517,8.221108,8.037716,8.092792,7.049541,6.1794415,3.6586468,5.271446,7.413508,3.9695537,3.959499,8.036139,8.430012,7.318469,5.4923916,8.70124,8.576202,6.293477,6.6496625,5.2899075,8.380872,9.431404,9.925772,4.7001696,8.985527,3.761688,7.769663,8.330912,7.938922,8.004516,6.0993614,7.97929,8.145932,6.3651032,8.250014,7.348992,8.031179,6.7121725,7.3612957,9.335022,9.554887,8.7116995,7.7586813,6.702158,7.945661,9.690131,5.9292264,5.2643547,4.907644,8.774743,7.5069633,8.6075325,6.1175385,8.707766,9.683759,5.1041894,7.3896036,9.557451,8.149598,9.711703,6.256647,8.179054,5.4593134,6.6420527,9.338011,6.107116,6.581133,6.7095284,9.30563,7.436023,7.2123156,5.9099336,9.163575,6.72835,7.6583304,8.431483,8.052516,6.447108,9.699254,7.671629,8.233877,7.1526155,5.8400316,6.805506,7.9822497,7.0754776,4.3052344,7.6980834,3.9876604,7.723132,7.480661,5.878258,4.673052,5.9145885,6.0285025,7.3277435,9.680328,3.9705184,5.557318,6.161184,9.106439,6.30675,6.7600293,-14.525257,5.919031,4.217727,6.0275207,3.8980389,8.148212,10.029175,6.093135,6.040441,7.334652,7.9497657,7.6392155,4.980124,5.7487855,9.059964,7.4740577,8.11151,7.8670754,7.312104,6.1470633,7.0325165,8.557584,8.50483,5.190413,5.707444,9.397752,5.981104,7.235495,6.916652,7.449552,9.090478,6.598369,9.401128,1.3335934,6.6124144,8.039058,9.519856,10.92207,6.314789,6.7092032,7.818918,8.409272,8.440466,9.70229,8.14946,4.511762,5.9736686,6.709852,6.4103217,7.182775,4.227557,8.561881,8.73732,1.7902215,5.5522013,9.350979,-0.94909286,6.305411,5.7794414,6.669032,6.6001387,5.00219,8.895002,7.992319,9.465218,8.545766,7.1716905,5.418986,8.141672,5.7897434,6.289284,7.483239,10.554281,4.2451663,11.351679,8.221941,6.3731165,6.40354,8.285683,9.3484745,5.193159,6.7336903,7.573895,6.7046123,6.348595,5.6448016,7.1326222,4.9282236,7.990308,7.194171,9.021243,5.5520287,8.015152,8.99879,8.35457,9.302981,1.6429636,4.452224,5.1444063,7.072701,7.4688706,6.1976433,9.956962,24.92763,8.656804,5.1955113,7.174215,8.705641,6.1686707,1.783094,9.79983,8.799728,8.413531,10.661339,9.150867,9.358824,9.652167,7.2454166,7.278305,7.2393484,8.884578,8.174201,5.8667808,10.174858,3.8617294,7.4286914,4.2438936,7.796548,1.2616277,8.464775,5.311365,7.2528677,8.212195,8.714039,-0.8953559,8.278245,7.7077665,8.732115,7.4803724,7.933619,1.6832551,7.5977626,9.987122,8.490936,6.1556153,6.9449396,4.047969,1.7446737,4.278011,8.378203,17.37908,6.243814,8.970229,7.742789,8.0910425,9.920101,6.467943,8.906151,6.1817183,5.3276525,6.498216,7.9559145,6.85114,7.1529403,6.667973,8.485306,9.1406765,7.4340677,9.302436,9.090572,6.3714075,6.1879277,6.3112297,5.9533405,6.273136,7.860491,7.5228195,6.7419167,4.9555173,6.3522124,6.8061023,6.4984565,6.7271085,7.028689,7.8218594,8.213087,5.831043,8.414358,4.9269867,8.333524,9.90212,3.607779,6.009075,8.301684,6.812938,7.6662345,9.952258,6.885927,7.7878346,7.3571343,8.456357,7.1205106,9.271266,6.087068,10.012887,4.260394,9.028333,8.403011,4.2348595,8.069395,8.278984,7.387091,7.1517506,6.8125544,10.299806,6.952284,9.105764,5.7710447,5.6912313,7.6016593,9.961808,6.1173363,8.304224,6.639052,7.0194244,6.873826,6.1868773,8.997272,5.1154485,8.309013,8.896572,4.3868957,7.626045,6.22498,7.427599,6.858212,13.016825,10.3799925,7.5454884,6.1741705,6.435322,6.5443645,6.1482344,6.873159,8.6978655,8.8701725,9.916284,6.286283,4.74893,8.356127,8.548935,5.729224,6.4123306,7.7379766,9.930653,6.4408007,1.6881623,3.9720824,10.128708,8.071698,-3.872804,6.2459893,9.705936,8.991391,8.421934,6.218857,6.520482,8.993385,6.160525,-0.9472505,5.5211535,5.7711973,3.8559756,1.5070978,5.4651065,5.409821,9.529399,8.33866,9.176279,9.173895,8.59878,6.285587,9.094945,9.073833,8.910673,6.3737087,6.049584,8.339157,4.842875,8.513132,8.097648,7.549972,6.801008,8.640571,4.8863244,7.5991755,8.85102,8.164766,7.353765,8.841527,10.391537,7.5403113,10.171319,7.454209,8.718879,7.9858904,6.2687373,9.700615,9.256992,7.102763,6.9266653,6.061007,17.379091,7.3936076,3.9726477,7.644101,3.6511335,9.016946,7.830743,7.3517027,10.8413725,6.2199736,6.1431994,6.484373,4.031027,5.460148,10.360048,6.418851,4.289162,8.5154,4.613315,8.416326,9.060439,7.648664,8.913718,5.7499833,8.251063,9.552644,9.304441,5.688229,8.522419,6.7577047,5.486943,6.216569,7.8213396,-14.509788,8.223499,5.719381,9.135234,8.415125,-0.93808156,8.103804,10.31001,5.668232,8.889172,4.641024,8.148608,4.8927503,7.4030704,8.279127,8.96185,7.81389,7.6687093,9.407857,7.956348,8.895247,10.338301,8.842725,4.250634,10.316519,8.062041,4.899673,1.6606065,7.6363792,7.8894844,10.42638,8.3796215,1.7054665,6.0600057,7.159022,6.073648,7.9712553,1.4223312,5.6629987,8.957935,6.319968,10.086668,7.808461,2.0517607,4.9539876,8.191188,8.329292,8.270002,7.6666007,7.9038267,7.594797,6.097674,7.251173,8.644663,5.860803,7.836097,8.503744,9.1391325,8.611811,8.664609,6.462867,6.886078,5.239021,9.513634,8.879479,8.154668,5.652427,3.6880848,7.702015,4.746563,6.098193,7.648302,7.3388667,5.732207,7.221374,4.1379085,6.8683558,9.204873,10.994774,6.454198,7.7175155,7.774649,8.923118,9.055712,8.103434,6.175075,1.1707367,7.996638,-7.8569098,7.2393293,8.759525,7.205206,6.3759155,9.954087,5.6960845,8.481838,5.1727138,7.6420255,6.138725,1.7703297,7.6701727,10.320605,4.9094505,8.589362,9.047301,7.1526046,6.5451894,6.5793476,8.099734,1.6940509,7.833281,7.4037333,7.9929495,6.4883924,7.595248,5.870419,6.170375,9.33611,7.1997285,4.8805785,4.3083463,5.021787,9.901882,9.053486,6.5619907,-3.8188853,7.8646526,8.224962,7.469236,8.372962,5.9635496,7.8181233,3.7869756,7.704416,6.641993,6.4541326,5.893258,6.118187,5.8699474,7.4113283,6.966625,6.7553267,5.549923,10.022413,7.5475936,6.657454,7.0593715,6.00944,6.4142547,4.9811926,7.264626,6.880575,9.361088,7.8303447,9.4643345,8.097113,8.949001,3.9504225,5.5423765,6.159775,5.585628,8.461856,3.7352922,8.335463,6.524404,7.3348455,9.184745,8.876101,3.94078,4.3534207,7.6187525,7.3161025,9.138121,5.871369,7.792627,4.9722967,8.522028,9.12697,8.095191,6.771746,6.690852,7.8270183,6.114124,6.7941804,8.685629,7.3812737,1.4734784,8.283391,7.0337815,8.421529,6.537727,8.582896,7.5930266,5.8961034,4.139722,3.757159,6.811365,9.139315,8.030039,3.7486598,5.1294894,7.8804684,6.790865,9.15349,3.753306,6.079265,5.653363,8.13012,7.918152,7.521812,8.333797,8.567931,8.957114,6.102069,8.230689,9.682097,5.6756725,9.902191,3.9981585,5.420898,7.9913177,1.603372,4.1714964,6.5954227,3.8568265,8.416562,8.14529,7.9457035,5.9483943,8.805991,5.349247,9.250757,6.9333735,3.7725182,7.9764132,7.2961693,-14.520314,6.04933,9.169456,8.140113,8.273387,4.0465493,7.0780935,9.835612,8.030314,6.0992184,7.387552,3.6538382,9.645266,9.227778,-1.0776037,6.7290807,10.255404,8.183503,4.2329626,6.7716894,9.511826,7.9008465,9.9561205,8.401364,6.6723223,9.174998,7.7884645,7.6417885,6.645237,7.2280836,7.4382076,7.344778,8.634841,3.8174477,7.6686196,7.7511086,9.185398,7.9796476,6.430155,8.912307,6.9369965,8.171904,6.3355756,7.2058187,8.879447,9.393884,8.528527,6.1347904,7.765672,8.785569,9.376292,8.17557,7.669613,8.428619,7.713049,8.254741,6.791889,7.973401,9.106566,6.1388793,9.270644,8.135074,3.8276558,11.525772,5.0718217,8.463768,7.7997413,7.1474643,9.073682,5.6772046,3.6588845,7.134485,2.0365136,6.3904066,6.4494967,5.170279,4.235787,4.5743546,9.656863,9.722663,7.120453,11.525634,8.977573,8.308195,8.190281,7.882998,8.8655615,7.1355257,7.933945,9.477113,10.105766,7.7419286,6.5058994,4.9469385,7.3624797,4.276099,8.64099,7.1897483,7.8615174,9.118579,7.0741377,7.2674613,9.121154,8.710178,9.683752,7.0098586,7.360883,7.953546,5.281089,9.443261,7.4226947,7.1463566,3.631791,7.245341,4.8059006,6.775149,1.4175603,7.5584946,8.394202,7.7132664,8.241686,5.879244,2.1041012,-14.534682,5.7219324,8.052775,10.84533,5.8559585,6.723677,3.866772,4.3908286,9.170558,9.2600565,9.805982,11.285927,6.928399,7.3219576,4.4275765,8.87483,9.378301,9.159979,6.3673444,5.632301,4.699904,9.00081,7.253473,9.187905,7.8934555,9.264925,6.8079276,7.799811,4.1450014,6.5437555,9.587811,7.4841356,5.068851,4.9364195,6.635203,-3.817953,7.520244,6.3133516,9.166236,6.124112,5.830471,7.354696,7.816471,6.803929,7.951882,5.7418413,-8.211306,8.029823,5.2954054,6.144775,6.168119,9.595512,9.037938,6.568993,4.3598833,3.8768709,7.3294144,9.307823,7.770503,3.558285,7.920985,9.983939,8.296859,6.613356,1.5202986,7.2862697,8.106614,16.343594,4.789148,7.1574736,7.819708,6.10834,6.535867,7.6253633,8.585771,9.904301,8.970547,1.3827233,6.903703,5.2216673,4.0757866,8.587379,9.186742,8.395306,6.1847463,7.033956,8.78808,6.4733224,8.090233,7.652505,-0.9765881,5.2550426,9.622388,6.941182,9.985492,8.020182,9.588308,4.808002,8.869495,8.096013,6.3948736,9.176314,8.927561,4.2754583,6.245485,5.9997716,8.955264,7.3793807,8.634163,7.5439844,6.298979,6.902178,1.9955193,6.721189,8.884739,7.346028,5.4232655,7.860557,8.514641,5.026501,8.73575,4.1030674,-3.807557,8.498869,8.247576,9.13718,7.7802663,6.247015,6.7690763,4.2206903,1.5560089,6.2262764,5.175292,7.571728,8.887453,1.4494601,6.314814,7.34081,6.6752896,7.9778943,7.6383986,7.6716957,4.1750617,5.1135983,7.9620304,5.4041758,5.440098,5.9673843,7.773762,10.120205,9.326403,7.7463813,8.142429,7.4768443,6.5689106,6.535659,7.9766107,8.830325,7.736127,9.05893,-8.211237,6.18995,8.872675,6.273026,8.297599,5.6629653,5.8839254,6.243645,8.165774,8.019009,6.7838078,8.201304,5.5485907,8.622961,8.161054,7.7418346,8.9146385,10.518263,5.861422,9.239542,7.7257156,7.5259643,5.5477223,-8.213552,10.0094595,5.827306,5.7695317,10.05801,5.4617567,5.5887403,6.818783,-7.859201,6.211859,4.1790137,9.096576,7.8526816,6.539193,6.229359,7.3798537,7.598031,7.9766855,6.1735272,4.2838774,6.342876,6.425032,7.75603,8.689434,6.359388,7.3425612,7.352074,6.23414,7.268828,8.6857,7.958609,5.3463616,7.2281227,7.8217206,3.9184563,8.204269,8.152444,6.1672673,7.3714437,6.411365,6.022524,7.104256,8.067992,7.561658,8.149722,1.5980542,7.819253,7.8221707,8.252681,8.771951,9.1499195,7.2901297,7.47589,6.83655,7.309259,7.312139,8.344265,6.2816796,7.1143456,4.763225,8.045393,9.1547365,7.003344,6.3262897,5.237995,5.986742,9.13351,8.932719,6.651543,6.2673893,1.5717633,6.7983456,6.72111,9.0469055,2.2146564,7.8502026,1.4857789,7.8962584,7.8206453,8.783206,6.691149,7.485394,5.822318,6.104267,6.4307394,8.224736,17.379095,6.0941973,10.085073,6.1667156,6.0993543,4.906964,8.161672,5.4029975],\"yaxis\":\"y\",\"type\":\"scattergl\"},{\"hovertemplate\":\"Ctype=Mature_B\\u003cbr\\u003eUMAP-1=%{x}\\u003cbr\\u003eUMAP-2=%{y}\\u003cextra\\u003e\\u003c\\u002fextra\\u003e\",\"legendgroup\":\"Mature_B\",\"marker\":{\"color\":\"#E15F99\",\"symbol\":\"circle\",\"opacity\":1,\"size\":1.6595828228137197},\"mode\":\"markers\",\"name\":\"Mature_B\",\"showlegend\":true,\"x\":[7.885934,12.039157,10.981935,4.53993,9.105891,11.7925005,4.678585,7.2777605,5.8555036,5.499212,13.035082,4.574594,-10.357916,-1.2592386,5.8184953,-10.341886,5.5708523,8.995736,8.968485,15.525835,7.8192434,4.064543,9.093209,5.5274844,11.156343,11.174928,1.0486004,8.374973,4.9980903,5.0309873,-10.3152685,30.990238,1.0554112,11.669577,5.0775175,-10.326778,17.227253,4.5411396,-14.557073,4.8242607,11.053568,-1.2401093,8.106851,10.544913,8.9298115,7.797072,2.7692683,11.798799,2.0079463,13.285715,7.8270807,4.682226,-14.557205,2.7644374,8.934824,8.325338,6.0757895,1.0598366,11.746157,8.955224,17.22325,2.8486092,5.5466723,6.8198476,-14.557281,5.498811,30.989277,30.988625,11.017962,13.285354,11.494445,7.2981124,5.851323,7.8139486,-14.558157,30.989042,9.070064,-14.557205,9.098838,4.7191596,4.710095,-14.557383,2.8138924,8.988279,9.825018,5.54234,4.95917,-1.2481476,6.899755],\"xaxis\":\"x\",\"y\":[10.440502,8.328116,8.866621,9.444914,9.947742,8.201763,9.322833,4.4674025,9.68816,10.155056,8.6840515,9.400754,-3.8172843,-8.211259,1.1480272,-3.8331387,10.007441,10.332858,10.171971,9.167008,11.530322,8.76871,9.948554,10.092706,7.4761977,6.533485,24.862272,5.686028,9.191103,16.343468,-3.8596249,5.128434,24.855486,7.1147304,9.168043,-3.847403,2.013538,9.444684,11.5253315,9.200353,7.9461865,-8.1921425,10.320439,8.84836,10.142579,11.561767,8.51155,8.232425,6.076841,-7.854636,11.485048,9.27734,11.525512,3.5422394,10.0996475,11.27243,9.590148,24.851137,8.279797,10.189705,2.0175383,8.478375,10.060666,-11.965312,11.52545,10.16064,5.1293054,5.130071,7.9288073,-7.854894,7.0593023,4.774327,1.0684384,11.219275,11.523581,5.129647,9.594852,11.52534,10.8636465,9.28216,9.30428,11.525369,8.50372,10.246624,9.039558,10.0729065,9.106402,-8.20046,8.593146],\"yaxis\":\"y\",\"type\":\"scattergl\"},{\"hovertemplate\":\"Ctype=Monocytes\\u003cbr\\u003eUMAP-1=%{x}\\u003cbr\\u003eUMAP-2=%{y}\\u003cextra\\u003e\\u003c\\u002fextra\\u003e\",\"legendgroup\":\"Monocytes\",\"marker\":{\"color\":\"#1CA71C\",\"symbol\":\"circle\",\"opacity\":1,\"size\":1.6595828228137197},\"mode\":\"markers\",\"name\":\"Monocytes\",\"showlegend\":true,\"x\":[8.322716,5.0272074,7.278539,5.80324,9.1547365,5.5042777,7.646515,2.6159737,-6.157716,3.020066,7.150449,5.774899,5.8133874,11.084075,13.28542,5.41795,0.99292654,9.867637,7.8612065,5.8138576,9.102046,-14.557187,2.6533775,1.0270984,7.701437,5.7924814,3.3680468,5.2153063,2.6222632,5.778589,1.5115814,5.7992296,2.933192,2.445463,10.402197,7.3715596,8.009212,2.6643155,8.948806,7.875387,-6.155095,7.9124966,10.996979,5.7369084,5.150375,2.7625442,5.782681,7.830007,7.8513994,5.7815704,20.018463,11.157259,30.992985,-15.192064,3.2339928,7.2515817,11.452129,7.2892323,2.5796618,11.142604,2.9288137,10.24613,7.1555142,7.8337545,8.443992,1.0064316,7.7004876,5.031021,15.246462,5.1353736,20.020252,2.6731653,1.8662273,5.831746,2.931113,-0.3142612,7.9000564,9.250913,5.0309587,-0.5207209,-6.157056,5.631753,5.7305994,5.9323096,8.007275,7.1533294,9.082464,5.8091507,20.006748,9.301255,8.01032,10.996594,8.020978,9.934399,5.7963963,7.5140853,5.574083,6.254688,17.219236,30.95674,7.7330413,7.516214,7.8305182,7.8430605,2.9928627,5.282473,9.529261,11.706803,19.964422,20.017298,8.081094,10.399533,5.7502317,9.037976,4.680929,10.303741,5.0330205,19.964584,-10.29846,7.736083,7.7373543,11.168717,8.430459,5.853752,11.959083,9.191944,11.594539,5.7598186,4.545407,-0.31472814,-1.5905799,5.5195622,17.20485,7.1491885,9.804298,5.3985114,6.929612,6.120679,7.1687307,2.9647143,1.1185427,20.022985,8.818828,1.8690444,-0.2985069,-1.2705802,5.6244545,10.375497,5.521963,1.0016279,5.211027,-15.195381,-10.288441,5.2649274,9.908009,2.6425421,5.7762637,0.96541965,0.9607093,11.874018,17.22293,5.7154984,7.514916,9.101205,5.6442184,5.2693114,7.864729,7.85989,9.003428,2.6164405,-6.1580577,2.567376,2.959375,20.000605,3.63022,5.5875483,7.403085,7.171667,5.1106,7.1918073,-15.188622,5.801116,2.7298653,10.844903,7.8214645,7.719033,3.0332863,7.631129,2.8386245,9.789586,5.807004,20.004784,7.728536,7.1895266,8.990256,8.190002,-6.1575484,5.7012863,0.97891563,10.36249,5.0310884,5.871291,9.098232,5.8004284,20.020119,20.029268,7.4594464,19.971827,-10.306729,1.0431007,9.836214,-0.30481175,7.899782,5.5039983,8.32508,9.092207,8.300785,9.865927,8.850442,12.023,8.935476,13.285292],\"xaxis\":\"x\",\"y\":[11.269053,9.142862,5.708689,1.1685857,8.692173,6.526215,10.147643,3.488875,-14.521288,3.5078883,11.071973,1.5021508,1.1756786,6.834845,-7.854784,5.3376822,24.917902,6.134868,11.129091,1.1204882,10.85954,11.525827,3.498192,24.88378,10.524794,1.1850163,8.302171,5.5380774,3.4303799,1.163455,5.794546,1.181231,-0.9753962,3.2596328,9.853613,10.650844,9.905679,4.2036877,10.196254,10.9026985,-14.518666,8.770828,6.911243,1.3008449,5.506159,3.7705774,1.2528623,10.623982,10.898108,1.1970416,-0.95114946,6.7581835,5.1256585,8.519008,8.154381,10.782423,7.07061,10.860634,3.8380392,6.6978416,-0.9807762,9.688915,11.07121,10.875591,7.060443,24.904448,9.810885,16.343382,-1.0661435,5.5296707,-0.95301473,3.4739735,2.512897,9.689372,-0.9780039,6.566213,8.66885,7.2123985,16.343597,6.169669,-14.520625,1.6990732,1.5196698,5.990541,6.1814957,11.076003,8.75992,1.2172164,-0.9443042,8.931297,7.5970225,10.113527,10.009481,9.321714,1.1901889,10.263503,5.2759795,9.440559,2.021541,5.163079,10.526909,10.117357,11.581662,10.931789,3.3298528,5.0408764,12.907272,20.033417,-0.91479474,-0.9510069,8.004454,9.834909,1.3467965,8.633088,9.166353,9.745008,16.339962,-0.9151651,-3.8771713,11.737233,11.736475,9.245456,7.421823,1.2728691,9.645354,5.688099,8.201454,1.4298737,9.445447,6.5665174,9.902012,5.3471394,2.0355184,11.073564,6.231018,5.3661284,8.239252,5.947079,11.047555,3.4241772,24.792377,-0.95666885,9.822713,2.51785,6.54818,-8.22248,5.3681207,9.835919,1.7981117,24.909218,4.9184995,8.515134,-3.886665,5.527328,6.077923,3.7054842,1.1704111,24.94547,24.95021,6.770479,2.0178926,6.632655,10.248136,10.8599,9.886538,5.058344,10.918444,10.874781,10.148098,3.488031,-14.521641,3.4044325,3.469009,-0.93584186,8.478503,5.250419,4.4542317,11.044179,5.5119276,5.5442924,8.521996,1.1223389,3.428504,7.0094585,10.846248,10.459952,3.255031,10.181467,3.5348506,6.2060075,1.1034034,-0.94053054,10.448995,10.990332,10.29422,9.554975,-14.521133,1.2745756,24.932013,7.5730352,16.3435,1.0558138,10.862567,1.1925597,-0.9555029,-0.9632143,10.6180105,-0.9244784,-3.8684602,24.867868,6.210055,6.5685434,10.06194,5.307587,11.272326,9.59502,11.1240225,6.1626725,9.484459,7.3092923,9.066692,-7.8549633],\"yaxis\":\"y\",\"type\":\"scattergl\"},{\"hovertemplate\":\"Ctype=Progenitors\\u003cbr\\u003eUMAP-1=%{x}\\u003cbr\\u003eUMAP-2=%{y}\\u003cextra\\u003e\\u003c\\u002fextra\\u003e\",\"legendgroup\":\"Progenitors\",\"marker\":{\"color\":\"#FB0D0D\",\"symbol\":\"circle\",\"opacity\":1,\"size\":1.6595828228137197},\"mode\":\"markers\",\"name\":\"Progenitors\",\"showlegend\":true,\"x\":[6.601389,11.607956,10.225345,8.541777,5.9677324,14.116553,7.742347,8.995701,6.3019037,10.847041,5.3562837,7.8442235,3.3071885,2.7704248,5.7395463,9.221382,17.223064,5.729519,2.7785811,2.5707731,3.3414981,9.113132,10.279306,7.8746467,7.742136,8.061842,6.282109,1.3396024,4.805415,-15.181265,6.262334,5.758623,7.610775,6.8198466,9.957432,8.836014,11.315789,8.992393,5.7820954,2.5474608,8.227755,8.009155,5.465022,1.8624752,6.121165,2.836805,5.3004932,2.9701862,7.947746,2.581501,8.466571,6.119931,9.37781,-15.183244,8.976399,7.636802,11.856573,11.640598,7.990492,8.946738,8.072182,2.10034,7.447666,7.9031706,8.254167,7.5987663,7.8884535,4.174227,1.0455427,5.825876,7.422721,8.127454,5.6941175,12.161333,8.84275,1.5655098,2.5777638,6.233418,-0.31546023,13.285379,5.5690546,2.4579248,12.668052,9.376034,10.277105,6.319683,10.716322,4.4161544,5.442633,7.9066496,5.3088913,2.8337295,8.177361,7.731018,9.624523,9.916164,12.248367,7.4096036,5.6280713,9.604329,8.011549,7.829145,9.595937,8.945184,7.6602197,5.7937446,8.633016,6.062807,12.216927,8.611325,11.39826,8.133106,-6.401292,11.13382,5.672914,-6.1659193,9.1270275,11.722036,1.3461003,5.757462,5.592828,7.6742887,9.554844,7.721576,7.4602447,8.153188,5.136136,10.956992,5.578404,2.5412307,5.409333,5.8961773,2.9971092,12.005273,9.824106,5.3315935,7.7603836,12.254447,2.6925268,8.931062,8.92612,9.704902,9.706382,9.182373,2.7672231,5.2071214,7.7097654,7.907571,9.673526,2.6158328,3.0268226,6.319782],\"xaxis\":\"x\",\"y\":[8.863807,7.1366353,9.859819,10.2082615,9.242571,7.5435224,11.737621,8.014061,7.7496037,8.360459,5.4974556,9.377912,8.17383,3.7901955,1.547619,5.688973,2.017687,1.5312831,3.6849282,3.7235625,8.078084,7.09674,7.772439,9.523699,9.758059,9.915353,9.545239,6.2777834,9.098866,8.529245,9.459889,5.3298793,9.662188,-11.965282,7.4516234,7.956821,7.4664617,7.8088164,1.3220229,3.8112297,9.786682,9.936579,5.9496326,5.9638534,6.3253317,3.7503207,5.704872,3.5303066,8.969336,3.580596,8.190442,6.308822,9.071363,8.527253,7.8428464,9.577803,7.6090865,7.1172676,9.235519,6.6010394,7.6765943,6.678806,10.318753,8.665072,8.278199,7.625692,9.252045,6.27345,24.865376,7.8490124,10.228578,10.407869,1.4776307,7.757072,8.01467,6.14952,4.221381,9.019148,6.566834,-7.854847,1.7319434,4.273577,7.754807,7.943914,8.930934,9.449174,8.68851,6.0133104,5.840372,9.478037,5.0834813,3.7590332,7.6503706,9.693005,7.314159,6.089908,7.8054075,10.274954,5.9424257,10.261085,8.634142,10.106395,13.018025,8.674929,9.610038,1.2637094,8.005961,9.544137,7.836675,8.835114,7.114151,9.847702,17.379065,7.118742,5.8073363,-14.529506,7.8621483,7.103074,6.2641854,1.467243,5.3040266,8.944775,12.925749,9.712948,10.263414,9.862734,5.5145273,7.015945,1.5932176,3.5443788,8.942599,6.0545154,3.676702,8.284105,7.0745883,5.8866816,9.077156,7.6516724,3.6552355,9.013163,8.676988,7.1684575,7.4100914,5.7258463,3.726314,4.885183,7.5837054,10.54716,6.3496575,4.0278287,3.2633817,7.76662],\"yaxis\":\"y\",\"type\":\"scattergl\"},{\"hovertemplate\":\"Ctype=T\\u002fNK\\u003cbr\\u003eUMAP-1=%{x}\\u003cbr\\u003eUMAP-2=%{y}\\u003cextra\\u003e\\u003c\\u002fextra\\u003e\",\"legendgroup\":\"T\\u002fNK\",\"marker\":{\"color\":\"#DA16FF\",\"symbol\":\"circle\",\"opacity\":1,\"size\":1.6595828228137197},\"mode\":\"markers\",\"name\":\"T\\u002fNK\",\"showlegend\":true,\"x\":[20.02031,0.9990095,1.0527533,-1.2599744,1.1018955,1.0467206,-10.354159,9.644764,-10.350938,1.0739747,-10.321623,1.8485073,-1.2597845,0.94999593,1.0258995,-10.333882,12.255624,7.168414,-0.51770276,10.384168,-10.357958,7.255125,-1.2429093,2.9329648,1.0311217,-10.340628,7.7358427,11.955182,10.933325,-10.353431,19.95615,-15.193351,5.031587,11.959299,30.990198,1.0311292,1.0382165,1.0628734,15.255097,19.995419,1.0307704,17.196299,10.444815,8.401242,1.0265305,1.003827,7.999182,20.013823,-15.192105,17.194748,17.230545,11.178804,1.0088267,1.0485989,9.101818,-15.17956,20.005108,1.1121192,2.933138,-10.3710165,-15.185722,0.9855231,11.186109,2.934834,1.082009,-6.1575537,7.829056,-10.296109,11.204525,-10.365193,30.983202,11.945393,9.663537,8.118189,11.102104,-0.5187481,-10.327068,-6.401228,7.1508894,7.753438,1.0643055,17.218275,1.1307662,-15.174512,9.237892,1.8485336,-15.185146,5.030973,5.199545,-10.303214,-10.354069,19.95903,7.8213844,0.98146826,-0.52457845,-10.355645,1.8482604,-10.345244,9.081706,-10.299117,5.2188215,1.1341289,-10.351445,-10.334627,1.0243354,0.9820772,9.585401,11.870689,1.0309571,5.030971,8.901503,0.987138,-14.556925,10.105067,7.875466,7.1714735,1.0945833,1.0672717,1.0289198,-10.354566,-10.36935,10.908849,19.971537,13.28536,-14.557097,1.1123457,-10.348637,11.612194,0.99129057,1.1298237,19.992662,-15.179539,1.073954,10.87012,10.883764,15.533534,1.2367581,9.596356,2.9246864,11.227451,-15.179445,7.843282,7.1449003,1.1083516,5.031394,-1.2580843,10.168974,11.934884,0.988477,-10.367987,1.049153,1.0175353,19.859453,1.1244185,0.9545884,10.993751,30.989761,0.9482302,1.4118495,-6.1582274,1.0262544,0.97579914,0.92146397,-10.36147,1.0347579,1.8489316,7.843396,19.964424,-10.353169,19.971788,8.322152,-10.345434,19.986118,10.296839,1.1112063,17.195717,7.8213882,0.96709716,-10.2554245,19.96451,1.122571,11.056511,2.9325862,5.031399,1.0966762,7.844543,2.9329553,2.9326446,1.0999485,7.8463817,1.0762357,1.8469404,11.043906,-10.361902,-0.48108527,1.0229499,12.083552,2.9298983,0.99926454,1.1064292,1.0840877,1.847608,0.97327137,20.00295,11.853844,10.1119795,20.016235,1.1147994,11.078603,1.002713,1.0023757,1.0651273,7.857806,11.032096,2.6988757,1.0574281,11.075414,0.99209845,11.958112,19.997,30.98928,1.8462396,30.98834,-10.366324,1.8458006],\"xaxis\":\"x\",\"y\":[-0.9540669,24.911844,24.858128,-8.211959,24.808954,24.864122,-3.8210008,10.389561,-3.8245194,24.836853,-3.8531709,2.4909291,-8.21179,24.960827,24.88499,-3.8406272,7.8110366,11.053064,6.1705384,9.814302,-3.816998,9.324802,-8.194899,-0.9753207,24.879763,-3.834387,11.742272,9.653392,6.9545836,-3.8217826,-0.9065797,8.517244,16.342299,9.643412,5.1284413,24.879719,24.872625,24.847984,-1.0751346,-0.93068784,24.880117,2.0439627,2.1057599,10.314534,24.884354,24.907026,8.153659,-0.9485001,8.519366,2.0454695,2.0102808,6.5604897,24.902056,24.8623,10.872037,8.531012,-0.940165,24.79876,-0.9756863,-3.804256,8.524262,24.925358,6.53274,-0.9735582,24.828875,-14.521129,11.580397,-3.8788939,7.53446,-3.8098447,5.135473,11.3599,10.468522,5.950422,6.814229,6.1697826,-3.8478987,17.379028,11.079459,10.479468,24.84662,2.0221708,24.780127,8.53603,5.6626782,2.491292,8.525419,16.343563,4.8655114,-3.8718245,-3.8211823,-0.9096,11.21229,24.92946,6.159802,-3.819609,2.490671,-3.8298683,5.9937115,-3.8759506,4.930173,24.776766,-3.8235607,-3.8404217,24.886597,24.928783,13.019713,7.844171,24.879997,16.343624,7.308271,24.923763,11.525723,10.246743,10.874912,11.04301,24.816349,24.843641,24.882034,-3.8207088,-3.8059242,6.892725,-0.9077202,-7.854868,11.525367,24.798578,-3.826659,7.127642,24.919632,24.781092,-0.9300604,8.530626,24.83698,6.9103518,6.8616314,9.16846,6.295052,13.01609,-0.98513275,7.499351,8.530972,11.599106,11.08562,24.802582,16.342922,-8.210195,9.606925,11.347631,24.922432,-3.8070898,24.86176,24.893406,-0.8196619,24.786526,24.956345,6.901506,5.128906,24.962711,6.190512,-14.521802,24.88471,24.935122,24.989468,-3.8141234,24.876198,2.4909306,11.596182,-0.9143161,-3.8214214,-0.92161137,11.275133,-3.829694,-0.9286203,9.968571,24.799713,2.0456092,11.206139,24.943846,-3.9196756,-0.91402173,24.788391,7.969694,-0.9764558,16.342947,24.81426,10.949179,-0.976004,-0.9763149,24.811008,10.966643,24.8347,2.488638,7.970181,-3.8154998,6.172838,24.887997,7.2500467,-0.9793752,24.911715,24.804533,24.826857,2.4898725,24.937702,-0.9386915,7.820442,10.213079,-0.94990146,24.796131,7.978099,24.908234,24.908619,24.84583,10.951363,6.8703747,8.569962,24.853512,6.8912067,24.918804,9.656947,-0.9338166,5.129411,2.48746,5.1303988,-3.809176,2.48709],\"yaxis\":\"y\",\"type\":\"scattergl\"},{\"hovertemplate\":\"Ctype=pDC\\u003cbr\\u003eUMAP-1=%{x}\\u003cbr\\u003eUMAP-2=%{y}\\u003cextra\\u003e\\u003c\\u002fextra\\u003e\",\"legendgroup\":\"pDC\",\"marker\":{\"color\":\"#222A2A\",\"symbol\":\"circle\",\"opacity\":1,\"size\":1.6595828228137197},\"mode\":\"markers\",\"name\":\"pDC\",\"showlegend\":true,\"x\":[19.865856],\"xaxis\":\"x\",\"y\":[-0.8266095],\"yaxis\":\"y\",\"type\":\"scattergl\"}],                        {\"template\":{\"data\":{\"barpolar\":[{\"marker\":{\"line\":{\"color\":\"white\",\"width\":0.5},\"pattern\":{\"fillmode\":\"overlay\",\"size\":10,\"solidity\":0.2}},\"type\":\"barpolar\"}],\"bar\":[{\"error_x\":{\"color\":\"rgb(36,36,36)\"},\"error_y\":{\"color\":\"rgb(36,36,36)\"},\"marker\":{\"line\":{\"color\":\"white\",\"width\":0.5},\"pattern\":{\"fillmode\":\"overlay\",\"size\":10,\"solidity\":0.2}},\"type\":\"bar\"}],\"carpet\":[{\"aaxis\":{\"endlinecolor\":\"rgb(36,36,36)\",\"gridcolor\":\"white\",\"linecolor\":\"white\",\"minorgridcolor\":\"white\",\"startlinecolor\":\"rgb(36,36,36)\"},\"baxis\":{\"endlinecolor\":\"rgb(36,36,36)\",\"gridcolor\":\"white\",\"linecolor\":\"white\",\"minorgridcolor\":\"white\",\"startlinecolor\":\"rgb(36,36,36)\"},\"type\":\"carpet\"}],\"choropleth\":[{\"colorbar\":{\"outlinewidth\":1,\"tickcolor\":\"rgb(36,36,36)\",\"ticks\":\"outside\"},\"type\":\"choropleth\"}],\"contourcarpet\":[{\"colorbar\":{\"outlinewidth\":1,\"tickcolor\":\"rgb(36,36,36)\",\"ticks\":\"outside\"},\"type\":\"contourcarpet\"}],\"contour\":[{\"colorbar\":{\"outlinewidth\":1,\"tickcolor\":\"rgb(36,36,36)\",\"ticks\":\"outside\"},\"colorscale\":[[0.0,\"#440154\"],[0.1111111111111111,\"#482878\"],[0.2222222222222222,\"#3e4989\"],[0.3333333333333333,\"#31688e\"],[0.4444444444444444,\"#26828e\"],[0.5555555555555556,\"#1f9e89\"],[0.6666666666666666,\"#35b779\"],[0.7777777777777778,\"#6ece58\"],[0.8888888888888888,\"#b5de2b\"],[1.0,\"#fde725\"]],\"type\":\"contour\"}],\"heatmapgl\":[{\"colorbar\":{\"outlinewidth\":1,\"tickcolor\":\"rgb(36,36,36)\",\"ticks\":\"outside\"},\"colorscale\":[[0.0,\"#440154\"],[0.1111111111111111,\"#482878\"],[0.2222222222222222,\"#3e4989\"],[0.3333333333333333,\"#31688e\"],[0.4444444444444444,\"#26828e\"],[0.5555555555555556,\"#1f9e89\"],[0.6666666666666666,\"#35b779\"],[0.7777777777777778,\"#6ece58\"],[0.8888888888888888,\"#b5de2b\"],[1.0,\"#fde725\"]],\"type\":\"heatmapgl\"}],\"heatmap\":[{\"colorbar\":{\"outlinewidth\":1,\"tickcolor\":\"rgb(36,36,36)\",\"ticks\":\"outside\"},\"colorscale\":[[0.0,\"#440154\"],[0.1111111111111111,\"#482878\"],[0.2222222222222222,\"#3e4989\"],[0.3333333333333333,\"#31688e\"],[0.4444444444444444,\"#26828e\"],[0.5555555555555556,\"#1f9e89\"],[0.6666666666666666,\"#35b779\"],[0.7777777777777778,\"#6ece58\"],[0.8888888888888888,\"#b5de2b\"],[1.0,\"#fde725\"]],\"type\":\"heatmap\"}],\"histogram2dcontour\":[{\"colorbar\":{\"outlinewidth\":1,\"tickcolor\":\"rgb(36,36,36)\",\"ticks\":\"outside\"},\"colorscale\":[[0.0,\"#440154\"],[0.1111111111111111,\"#482878\"],[0.2222222222222222,\"#3e4989\"],[0.3333333333333333,\"#31688e\"],[0.4444444444444444,\"#26828e\"],[0.5555555555555556,\"#1f9e89\"],[0.6666666666666666,\"#35b779\"],[0.7777777777777778,\"#6ece58\"],[0.8888888888888888,\"#b5de2b\"],[1.0,\"#fde725\"]],\"type\":\"histogram2dcontour\"}],\"histogram2d\":[{\"colorbar\":{\"outlinewidth\":1,\"tickcolor\":\"rgb(36,36,36)\",\"ticks\":\"outside\"},\"colorscale\":[[0.0,\"#440154\"],[0.1111111111111111,\"#482878\"],[0.2222222222222222,\"#3e4989\"],[0.3333333333333333,\"#31688e\"],[0.4444444444444444,\"#26828e\"],[0.5555555555555556,\"#1f9e89\"],[0.6666666666666666,\"#35b779\"],[0.7777777777777778,\"#6ece58\"],[0.8888888888888888,\"#b5de2b\"],[1.0,\"#fde725\"]],\"type\":\"histogram2d\"}],\"histogram\":[{\"marker\":{\"line\":{\"color\":\"white\",\"width\":0.6}},\"type\":\"histogram\"}],\"mesh3d\":[{\"colorbar\":{\"outlinewidth\":1,\"tickcolor\":\"rgb(36,36,36)\",\"ticks\":\"outside\"},\"type\":\"mesh3d\"}],\"parcoords\":[{\"line\":{\"colorbar\":{\"outlinewidth\":1,\"tickcolor\":\"rgb(36,36,36)\",\"ticks\":\"outside\"}},\"type\":\"parcoords\"}],\"pie\":[{\"automargin\":true,\"type\":\"pie\"}],\"scatter3d\":[{\"line\":{\"colorbar\":{\"outlinewidth\":1,\"tickcolor\":\"rgb(36,36,36)\",\"ticks\":\"outside\"}},\"marker\":{\"colorbar\":{\"outlinewidth\":1,\"tickcolor\":\"rgb(36,36,36)\",\"ticks\":\"outside\"}},\"type\":\"scatter3d\"}],\"scattercarpet\":[{\"marker\":{\"colorbar\":{\"outlinewidth\":1,\"tickcolor\":\"rgb(36,36,36)\",\"ticks\":\"outside\"}},\"type\":\"scattercarpet\"}],\"scattergeo\":[{\"marker\":{\"colorbar\":{\"outlinewidth\":1,\"tickcolor\":\"rgb(36,36,36)\",\"ticks\":\"outside\"}},\"type\":\"scattergeo\"}],\"scattergl\":[{\"marker\":{\"colorbar\":{\"outlinewidth\":1,\"tickcolor\":\"rgb(36,36,36)\",\"ticks\":\"outside\"}},\"type\":\"scattergl\"}],\"scattermapbox\":[{\"marker\":{\"colorbar\":{\"outlinewidth\":1,\"tickcolor\":\"rgb(36,36,36)\",\"ticks\":\"outside\"}},\"type\":\"scattermapbox\"}],\"scatterpolargl\":[{\"marker\":{\"colorbar\":{\"outlinewidth\":1,\"tickcolor\":\"rgb(36,36,36)\",\"ticks\":\"outside\"}},\"type\":\"scatterpolargl\"}],\"scatterpolar\":[{\"marker\":{\"colorbar\":{\"outlinewidth\":1,\"tickcolor\":\"rgb(36,36,36)\",\"ticks\":\"outside\"}},\"type\":\"scatterpolar\"}],\"scatter\":[{\"fillpattern\":{\"fillmode\":\"overlay\",\"size\":10,\"solidity\":0.2},\"type\":\"scatter\"}],\"scatterternary\":[{\"marker\":{\"colorbar\":{\"outlinewidth\":1,\"tickcolor\":\"rgb(36,36,36)\",\"ticks\":\"outside\"}},\"type\":\"scatterternary\"}],\"surface\":[{\"colorbar\":{\"outlinewidth\":1,\"tickcolor\":\"rgb(36,36,36)\",\"ticks\":\"outside\"},\"colorscale\":[[0.0,\"#440154\"],[0.1111111111111111,\"#482878\"],[0.2222222222222222,\"#3e4989\"],[0.3333333333333333,\"#31688e\"],[0.4444444444444444,\"#26828e\"],[0.5555555555555556,\"#1f9e89\"],[0.6666666666666666,\"#35b779\"],[0.7777777777777778,\"#6ece58\"],[0.8888888888888888,\"#b5de2b\"],[1.0,\"#fde725\"]],\"type\":\"surface\"}],\"table\":[{\"cells\":{\"fill\":{\"color\":\"rgb(237,237,237)\"},\"line\":{\"color\":\"white\"}},\"header\":{\"fill\":{\"color\":\"rgb(217,217,217)\"},\"line\":{\"color\":\"white\"}},\"type\":\"table\"}]},\"layout\":{\"annotationdefaults\":{\"arrowhead\":0,\"arrowwidth\":1},\"autotypenumbers\":\"strict\",\"coloraxis\":{\"colorbar\":{\"outlinewidth\":1,\"tickcolor\":\"rgb(36,36,36)\",\"ticks\":\"outside\"}},\"colorscale\":{\"diverging\":[[0.0,\"rgb(103,0,31)\"],[0.1,\"rgb(178,24,43)\"],[0.2,\"rgb(214,96,77)\"],[0.3,\"rgb(244,165,130)\"],[0.4,\"rgb(253,219,199)\"],[0.5,\"rgb(247,247,247)\"],[0.6,\"rgb(209,229,240)\"],[0.7,\"rgb(146,197,222)\"],[0.8,\"rgb(67,147,195)\"],[0.9,\"rgb(33,102,172)\"],[1.0,\"rgb(5,48,97)\"]],\"sequential\":[[0.0,\"#440154\"],[0.1111111111111111,\"#482878\"],[0.2222222222222222,\"#3e4989\"],[0.3333333333333333,\"#31688e\"],[0.4444444444444444,\"#26828e\"],[0.5555555555555556,\"#1f9e89\"],[0.6666666666666666,\"#35b779\"],[0.7777777777777778,\"#6ece58\"],[0.8888888888888888,\"#b5de2b\"],[1.0,\"#fde725\"]],\"sequentialminus\":[[0.0,\"#440154\"],[0.1111111111111111,\"#482878\"],[0.2222222222222222,\"#3e4989\"],[0.3333333333333333,\"#31688e\"],[0.4444444444444444,\"#26828e\"],[0.5555555555555556,\"#1f9e89\"],[0.6666666666666666,\"#35b779\"],[0.7777777777777778,\"#6ece58\"],[0.8888888888888888,\"#b5de2b\"],[1.0,\"#fde725\"]]},\"colorway\":[\"#1F77B4\",\"#FF7F0E\",\"#2CA02C\",\"#D62728\",\"#9467BD\",\"#8C564B\",\"#E377C2\",\"#7F7F7F\",\"#BCBD22\",\"#17BECF\"],\"font\":{\"color\":\"rgb(36,36,36)\"},\"geo\":{\"bgcolor\":\"white\",\"lakecolor\":\"white\",\"landcolor\":\"white\",\"showlakes\":true,\"showland\":true,\"subunitcolor\":\"white\"},\"hoverlabel\":{\"align\":\"left\"},\"hovermode\":\"closest\",\"mapbox\":{\"style\":\"light\"},\"paper_bgcolor\":\"white\",\"plot_bgcolor\":\"white\",\"polar\":{\"angularaxis\":{\"gridcolor\":\"rgb(232,232,232)\",\"linecolor\":\"rgb(36,36,36)\",\"showgrid\":false,\"showline\":true,\"ticks\":\"outside\"},\"bgcolor\":\"white\",\"radialaxis\":{\"gridcolor\":\"rgb(232,232,232)\",\"linecolor\":\"rgb(36,36,36)\",\"showgrid\":false,\"showline\":true,\"ticks\":\"outside\"}},\"scene\":{\"xaxis\":{\"backgroundcolor\":\"white\",\"gridcolor\":\"rgb(232,232,232)\",\"gridwidth\":2,\"linecolor\":\"rgb(36,36,36)\",\"showbackground\":true,\"showgrid\":false,\"showline\":true,\"ticks\":\"outside\",\"zeroline\":false,\"zerolinecolor\":\"rgb(36,36,36)\"},\"yaxis\":{\"backgroundcolor\":\"white\",\"gridcolor\":\"rgb(232,232,232)\",\"gridwidth\":2,\"linecolor\":\"rgb(36,36,36)\",\"showbackground\":true,\"showgrid\":false,\"showline\":true,\"ticks\":\"outside\",\"zeroline\":false,\"zerolinecolor\":\"rgb(36,36,36)\"},\"zaxis\":{\"backgroundcolor\":\"white\",\"gridcolor\":\"rgb(232,232,232)\",\"gridwidth\":2,\"linecolor\":\"rgb(36,36,36)\",\"showbackground\":true,\"showgrid\":false,\"showline\":true,\"ticks\":\"outside\",\"zeroline\":false,\"zerolinecolor\":\"rgb(36,36,36)\"}},\"shapedefaults\":{\"fillcolor\":\"black\",\"line\":{\"width\":0},\"opacity\":0.3},\"ternary\":{\"aaxis\":{\"gridcolor\":\"rgb(232,232,232)\",\"linecolor\":\"rgb(36,36,36)\",\"showgrid\":false,\"showline\":true,\"ticks\":\"outside\"},\"baxis\":{\"gridcolor\":\"rgb(232,232,232)\",\"linecolor\":\"rgb(36,36,36)\",\"showgrid\":false,\"showline\":true,\"ticks\":\"outside\"},\"bgcolor\":\"white\",\"caxis\":{\"gridcolor\":\"rgb(232,232,232)\",\"linecolor\":\"rgb(36,36,36)\",\"showgrid\":false,\"showline\":true,\"ticks\":\"outside\"}},\"title\":{\"x\":0.05},\"xaxis\":{\"automargin\":true,\"gridcolor\":\"rgb(232,232,232)\",\"linecolor\":\"rgb(36,36,36)\",\"showgrid\":false,\"showline\":true,\"ticks\":\"outside\",\"title\":{\"standoff\":15},\"zeroline\":false,\"zerolinecolor\":\"rgb(36,36,36)\"},\"yaxis\":{\"automargin\":true,\"gridcolor\":\"rgb(232,232,232)\",\"linecolor\":\"rgb(36,36,36)\",\"showgrid\":false,\"showline\":true,\"ticks\":\"outside\",\"title\":{\"standoff\":15},\"zeroline\":false,\"zerolinecolor\":\"rgb(36,36,36)\"}}},\"xaxis\":{\"anchor\":\"y\",\"domain\":[0.0,1.0],\"title\":{\"text\":\"UMAP-1\"}},\"yaxis\":{\"anchor\":\"x\",\"domain\":[0.0,1.0],\"title\":{\"text\":\"UMAP-2\"}},\"legend\":{\"title\":{\"text\":\"Ctype\"},\"tracegroupgap\":0,\"itemsizing\":\"constant\"},\"margin\":{\"t\":60},\"width\":800,\"height\":800},                        {\"responsive\": true}                    ).then(function(){\n",
              "                            \n",
              "var gd = document.getElementById('a8d4517d-3882-4138-b47c-a2c2f61b79f7');\n",
              "var x = new MutationObserver(function (mutations, observer) {{\n",
              "        var display = window.getComputedStyle(gd).display;\n",
              "        if (!display || display === 'none') {{\n",
              "            console.log([gd, 'removed!']);\n",
              "            Plotly.purge(gd);\n",
              "            observer.disconnect();\n",
              "        }}\n",
              "}});\n",
              "\n",
              "// Listen for the removal of the full notebook cells\n",
              "var notebookContainer = gd.closest('#notebook-container');\n",
              "if (notebookContainer) {{\n",
              "    x.observe(notebookContainer, {childList: true});\n",
              "}}\n",
              "\n",
              "// Listen for the clearing of the current output cell\n",
              "var outputEl = gd.closest('.output');\n",
              "if (outputEl) {{\n",
              "    x.observe(outputEl, {childList: true});\n",
              "}}\n",
              "\n",
              "                        })                };                            </script>        </div>\n",
              "</body>\n",
              "</html>"
            ]
          },
          "metadata": {}
        }
      ]
    },
    {
      "cell_type": "markdown",
      "source": [
        "#8. Relevant Citations and Links\n",
        "\n",
        "[Chen C, et al., Single-cell multiomics reveals increased plasticity, resistant populations, and stem-cell–like blasts in KMT2A-rearranged leukemia](https://ashpublications.org/blood/article/139/14/2198/482898/Single-cell-multiomics-reveals-increased)\n",
        "\n",
        "[HTAN Portal](https://humantumoratlas.org/)   \n",
        "\n",
        "[Overview paper, Cell, April 2020](https://www.sciencedirect.com/science/article/pii/S0092867420303469)"
      ],
      "metadata": {
        "id": "Wq6kNgT0fs_i"
      }
    }
  ],
  "metadata": {
    "colab": {
      "provenance": []
    },
    "kernelspec": {
      "display_name": "Python 3 (ipykernel)",
      "language": "python",
      "name": "python3"
    },
    "language_info": {
      "codemirror_mode": {
        "name": "ipython",
        "version": 3
      },
      "file_extension": ".py",
      "mimetype": "text/x-python",
      "name": "python",
      "nbconvert_exporter": "python",
      "pygments_lexer": "ipython3",
      "version": "3.10.5"
    }
  },
  "nbformat": 4,
  "nbformat_minor": 0
}