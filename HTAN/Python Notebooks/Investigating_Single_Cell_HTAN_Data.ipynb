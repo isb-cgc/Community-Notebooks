{
  "nbformat": 4,
  "nbformat_minor": 0,
  "metadata": {
    "colab": {
      "name": "Investigating_Single_Cell_HTAN_Data.ipynb",
      "provenance": []
    },
    "kernelspec": {
      "name": "python3",
      "display_name": "Python 3"
    },
    "language_info": {
      "name": "python"
    }
  },
  "cells": [
    {
      "cell_type": "markdown",
      "source": [
        "# Investigating HTAN scRNA-seq with BigQuery"
      ],
      "metadata": {
        "id": "NKn-E8LlsTVi",
        "pycharm": {
          "name": "#%% md\n"
        }
      }
    },
    {
      "cell_type": "markdown",
      "source": [
        "```\n",
        "Title:   Investigating HTAN scRNA-seq with BigQuery\n",
        "Author:  Dar'ya Y. Pozhidayeva (dpozhida@systemsbiology.org)\n",
        "Created: 2022-6-30\n",
        "Purpose: Explore single cell RNA seq data in HTAN.\n",
        "URL:    NA \n",
        "Notes:  NA\n",
        "```"
      ],
      "metadata": {
        "id": "MHE55qaktPhV",
        "pycharm": {
          "name": "#%% md\n"
        }
      }
    },
    {
      "cell_type": "markdown",
      "source": [
        "[![Open in Colab](https://colab.research.google.com/assets/colab-badge.svg)](https://colab.research.google.com/github/isb-cgc/Community-Notebooks/blob/master/HTAN/Python%20Notebooks/Investigating_Single_Cell_HTAN_Data.ipynb)"
      ],
      "metadata": {
        "id": "hoks48BOtun_",
        "pycharm": {
          "name": "#%% md\n"
        }
      }
    },
    {
      "cell_type": "markdown",
      "source": [
        "# 1. Introduction & Overview\n",
        "[HTAN](https://humantumoratlas.org/) is a National Cancer Institute (NCI)-funded Cancer Moonshot<sup>SM</sup> initiative to construct 3-dimensional atlases of the dynamic cellular, morphological, and molecular features of human cancers as they evolve from precancerous lesions to advanced disease ([Cell April 2020](https://www.sciencedirect.com/science/article/pii/S0092867420303469) )\n",
        "\n",
        "This notebook shows examples of how HTAN single cell RNA sequencing data can be accessed and analyzed using Python.\n",
        "\n",
        "### 1.1 Notebook Goal\n",
        "\n",
        "The goal of this notebook is to show users how public HTAN single cell data can be queried and assembled for further processing. The total time for this tutorial should be about **20 minutes**.\n",
        "\n",
        "### 1.2 Inputs, Outputs, & Data\n",
        "\n",
        "The input for this analysis is the HTAN single cell RNA sequencing data (Level 2, gene summarized). The data set is filtered according to a specific cell type and patient population. The data is pulled into this notebook a google cloud connection. \n",
        "\n",
        "\n",
        "Details regarding the data used:\n",
        "\n",
        "Data was derived in April 2022 from an H5AD file (Synapse ID: syn25173299) submitted by the CHOP HTAN Center. This data set contains the subset of normal cells from patient samples. Data was generated using the 10X Genomics V3 chemistry and was processed using CellRanger, where reads were mapped to HG38. The 18 filtered gene-by-cell count matrices were combined into a bigger gene-by-cell count matrix and converted to a Seurat object, with the fraction of mitochondrial UMI and sample information added as the metadata. We computed cell cycle S phase and G/M2 phase scores using the CellCycleScoring function in Seurat, with cell cycle genes downloaded from https://satijalab.org/seurat/v3.2/cell_cycle_vignette.html. We additionally computed a heat shock gene signature score using the AddModuleScore function in Seurat using genes associated with heat shock proteins from HGNC (https://www.genenames.org/data/genegroup/#!/group/582). Next, we normalized the data using the NormalizeData function in Seurat. We selected the top 3,000 variably expressed genes (VEGs) using the FindVariableFeatures function in Seurat with the default setting. The VEGs were further scaled by the ScaleData function in Seurat. We also regressed out confounding factors including the fraction of mitochondrial UMIs, the total number of UMIs per cell, S phase score, G2/M phase score and heat shock score. We then performed principal component analysis (PCA) using the RunPCA function in Seurat with 50 principle components (PCs). The data were clustered using the FindNeighous and FindClusters functions, with the resolution=0.4. To reduce batch effect, we re-selected VEGs across the clusters. To do so, we summarized the count matrix into a gene-by-cluster count matrix and normalized it using the cpm function in the edgeR package with the parameter prior.count = 1. The top 3,000 VEGs across the normalized gene-by-cluster count matrix were used. Data were scaled, regressed out for confounding factors followed by PCA and clustering analyses. VEGs that were expressed in fewer than 1% of cells were removed from the analysis. This process of re-selecting VEGs was repeated once and the resulting top 50 PCs were used in Uniform Manifold Approximation and Projection (UMAP) using the RunUMAP function in Seurat for visualization with the default setting. \n"
      ],
      "metadata": {
        "id": "OeLGNwW7s2ow",
        "pycharm": {
          "name": "#%% md\n"
        }
      }
    },
    {
      "cell_type": "markdown",
      "source": [
        "# 2. Environment & Module Setup\n",
        "The libraries used in this analysis fall into two categories: those needed for google cloud connection and those needed for the analysis itself."
      ],
      "metadata": {
        "id": "vqHHSwfLtJwR",
        "pycharm": {
          "name": "#%% md\n"
        }
      }
    },
    {
      "cell_type": "code",
      "source": [
        "#If running in google colab, you may have to run the following.\n",
        "!pip install scanpy\n",
        "!pip install matplotlib==3.1.3"
      ],
      "metadata": {
        "id": "D01JiLPWyjSO",
        "pycharm": {
          "name": "#%%\n"
        }
      },
      "execution_count": null,
      "outputs": []
    },
    {
      "cell_type": "code",
      "source": [
        "# Data Analytics\n",
        "import numpy as np\n",
        "from scipy import stats\n",
        "from scipy import sparse\n",
        "import seaborn as sns"
      ],
      "metadata": {
        "id": "kEb9qZdstJMT",
        "pycharm": {
          "name": "#%%\n"
        }
      },
      "execution_count": null,
      "outputs": []
    },
    {
      "cell_type": "markdown",
      "source": [
        "The following snipet controls plotting parameters."
      ],
      "metadata": {
        "id": "42I5x_V_uOvx",
        "pycharm": {
          "name": "#%% md\n"
        }
      }
    },
    {
      "cell_type": "code",
      "source": [
        "import matplotlib.pyplot as plt\n",
        "plt.rcParams['figure.figsize'] = [8, 8]"
      ],
      "metadata": {
        "id": "OTzvTDBzuJbv",
        "pycharm": {
          "name": "#%%\n"
        }
      },
      "execution_count": null,
      "outputs": []
    },
    {
      "cell_type": "markdown",
      "source": [
        "# 3. Google Authentication\n",
        "\n",
        "Running the BigQuery cells in this notebook requires a Google Cloud Project, instructions for creating a project can be found in the [Google Documentation](https://cloud.google.com/resource-manager/docs/creating-managing-projects#console). The instance needs to be authorized to bill the project for queries. For more information on getting started in the cloud see [Quick Start Guide to ISB-CGC](https://nbviewer.org/github/isb-cgc/Community-Notebooks/blob/master/Notebooks/Quick_Start_Guide_to_ISB_CGC.ipynb) and alternative authentication methods can be found in the [Google Documentation](https://cloud.google.com/resource-manager/docs/creating-managing-projects#console)."
      ],
      "metadata": {
        "id": "82JuEk8ju8O8",
        "pycharm": {
          "name": "#%% md\n"
        }
      }
    },
    {
      "cell_type": "code",
      "source": [
        "# GCP Libraries\n",
        "from google.cloud import bigquery\n",
        "from google.colab import auth\n",
        "# if you're using Google Colab, authenticate to gcloud with the following\n",
        "auth.authenticate_user()\n",
        "# alternatively, use the gcloud SDK\n",
        "#!gcloud auth application-default login"
      ],
      "metadata": {
        "id": "YdCyAOS7u5QY",
        "pycharm": {
          "name": "#%%\n"
        }
      },
      "execution_count": null,
      "outputs": []
    },
    {
      "cell_type": "code",
      "execution_count": null,
      "outputs": [],
      "source": [
        "# Alternatively, if you're running the notebook locally,\n",
        "# on the command line use \"gcloud auth application-default login\"\n",
        "# to generate a key, take note of where your credentials are saved\n",
        "# and set the GOOGLE_APPLICATION_CREDENTIALS environment variable using\n",
        "# the jupyter magic command \"%env GOOGLE_APPLICATION_CREDENTIALS=<path to key>\"\n",
        "# then import \"from google.cloud import bigquery\"\n",
        "# and you can continue to creating the BigQuery client below."
      ],
      "metadata": {
        "pycharm": {
          "name": "#%%\n",
          "is_executing": true
        },
        "id": "1Gf2sFcjTGBf"
      }
    },
    {
      "cell_type": "code",
      "source": [
        "## Setup ##\n",
        "# set the google project that will be referenced for this notebook's computations\n",
        "google_project = 'your-project'\n",
        "\n",
        "# Create a client to access the data within BigQuery\n",
        "client = bigquery.Client(google_project)"
      ],
      "metadata": {
        "id": "JyPgBKXJvFqh",
        "pycharm": {
          "name": "#%%\n"
        }
      },
      "execution_count": null,
      "outputs": []
    },
    {
      "cell_type": "markdown",
      "source": [
        "# 4. Querying data from BigQuery"
      ],
      "metadata": {
        "id": "Yc1Z3sbddIv2",
        "pycharm": {
          "name": "#%% md\n"
        }
      }
    },
    {
      "cell_type": "markdown",
      "source": [
        "By accessing the HTAN-joined tables, we can see cell, gene, and count data combined into one table."
      ],
      "metadata": {
        "id": "mZUeJE8fw_Yr",
        "pycharm": {
          "name": "#%% md\n"
        }
      }
    },
    {
      "cell_type": "markdown",
      "source": [
        "## 4.1 Samples and Cells Per Age of Participant\n",
        "\n",
        "First we can look at the number of samples by some demographics of interest. The data comes from the CHOP scRNAseq table from HTAN in isb-cgc-bq. \n",
        "\n",
        "Here we start with age groups:"
      ],
      "metadata": {
        "id": "FEzJ4kE0e1IB",
        "pycharm": {
          "name": "#%% md\n"
        }
      }
    },
    {
      "cell_type": "code",
      "source": [
        "\n",
        "df1 = client.query(\"\"\"\n",
        "  SELECT\n",
        "    Age,\n",
        "    count(distinct(gender)) Number_Genders,\n",
        "    count(distinct(Sample)) Number_Samples,\n",
        "    count(distinct(Cell_Type)) Number_Cell_Types,\n",
        "    count(distinct(Cell_Name)) Number_Cells,\n",
        "    count(distinct(Therapy)) Number_Therapies\n",
        "  FROM\n",
        "    `isb-cgc-bq.HTAN.scRNAseq_CHOP_seurat_integrated_18MLLr_normal_final_rename_current`\n",
        "  GROUP BY 1\n",
        "  ORDER BY Number_Cells DESC # ASC # or DESC\n",
        "    \"\"\").result().to_dataframe()\n",
        "\n",
        "df1"
      ],
      "metadata": {
        "colab": {
          "base_uri": "https://localhost:8080/",
          "height": 394
        },
        "id": "nkZfHr5zvWxV",
        "outputId": "551e9a79-b166-47bd-9f6a-889fac1afd46",
        "pycharm": {
          "name": "#%%\n"
        }
      },
      "execution_count": null,
      "outputs": [
        {
          "data": {
            "text/plain": "    Age  Number_Genders  Number_Samples  Number_Cell_Types  Number_Cells  \\\n0   10M               1               3                 15         11161   \n1    1M               1               2                 13          6361   \n2    4M               2               3                 15          5042   \n3    8M               1               1                 14          2705   \n4   11M               1               1                 15          2527   \n5    2M               1               2                 15          2318   \n6    3M               2               2                 15          1929   \n7    9M               1               1                  9          1172   \n8    7M               1               1                 15          1127   \n9    5D               1               1                  9          1002   \n10   6M               1               1                 15           969   \n\n    Number_Therapies  \n0                  1  \n1                  1  \n2                  1  \n3                  1  \n4                  1  \n5                  2  \n6                  1  \n7                  1  \n8                  1  \n9                  1  \n10                 1  ",
            "text/html": "<div>\n<style scoped>\n    .dataframe tbody tr th:only-of-type {\n        vertical-align: middle;\n    }\n\n    .dataframe tbody tr th {\n        vertical-align: top;\n    }\n\n    .dataframe thead th {\n        text-align: right;\n    }\n</style>\n<table border=\"1\" class=\"dataframe\">\n  <thead>\n    <tr style=\"text-align: right;\">\n      <th></th>\n      <th>Age</th>\n      <th>Number_Genders</th>\n      <th>Number_Samples</th>\n      <th>Number_Cell_Types</th>\n      <th>Number_Cells</th>\n      <th>Number_Therapies</th>\n    </tr>\n  </thead>\n  <tbody>\n    <tr>\n      <th>0</th>\n      <td>10M</td>\n      <td>1</td>\n      <td>3</td>\n      <td>15</td>\n      <td>11161</td>\n      <td>1</td>\n    </tr>\n    <tr>\n      <th>1</th>\n      <td>1M</td>\n      <td>1</td>\n      <td>2</td>\n      <td>13</td>\n      <td>6361</td>\n      <td>1</td>\n    </tr>\n    <tr>\n      <th>2</th>\n      <td>4M</td>\n      <td>2</td>\n      <td>3</td>\n      <td>15</td>\n      <td>5042</td>\n      <td>1</td>\n    </tr>\n    <tr>\n      <th>3</th>\n      <td>8M</td>\n      <td>1</td>\n      <td>1</td>\n      <td>14</td>\n      <td>2705</td>\n      <td>1</td>\n    </tr>\n    <tr>\n      <th>4</th>\n      <td>11M</td>\n      <td>1</td>\n      <td>1</td>\n      <td>15</td>\n      <td>2527</td>\n      <td>1</td>\n    </tr>\n    <tr>\n      <th>5</th>\n      <td>2M</td>\n      <td>1</td>\n      <td>2</td>\n      <td>15</td>\n      <td>2318</td>\n      <td>2</td>\n    </tr>\n    <tr>\n      <th>6</th>\n      <td>3M</td>\n      <td>2</td>\n      <td>2</td>\n      <td>15</td>\n      <td>1929</td>\n      <td>1</td>\n    </tr>\n    <tr>\n      <th>7</th>\n      <td>9M</td>\n      <td>1</td>\n      <td>1</td>\n      <td>9</td>\n      <td>1172</td>\n      <td>1</td>\n    </tr>\n    <tr>\n      <th>8</th>\n      <td>7M</td>\n      <td>1</td>\n      <td>1</td>\n      <td>15</td>\n      <td>1127</td>\n      <td>1</td>\n    </tr>\n    <tr>\n      <th>9</th>\n      <td>5D</td>\n      <td>1</td>\n      <td>1</td>\n      <td>9</td>\n      <td>1002</td>\n      <td>1</td>\n    </tr>\n    <tr>\n      <th>10</th>\n      <td>6M</td>\n      <td>1</td>\n      <td>1</td>\n      <td>15</td>\n      <td>969</td>\n      <td>1</td>\n    </tr>\n  </tbody>\n</table>\n</div>"
          },
          "execution_count": 10,
          "metadata": {},
          "output_type": "execute_result"
        }
      ]
    },
    {
      "cell_type": "code",
      "source": [
        "plt.rcParams['figure.figsize'] = [12, 8]\n",
        "\n",
        "p = sns.barplot(x=df1.Age, y=df1.Number_Cells)\n",
        "p.set_xlabel(\"Patient Age Groups\", fontsize = 20)\n",
        "p.set_ylabel(\"Number of Cells\", fontsize = 20)\n",
        "plt.xticks(rotation=70)\n",
        "plt.tight_layout()"
      ],
      "metadata": {
        "colab": {
          "base_uri": "https://localhost:8080/",
          "height": 585
        },
        "id": "k0GtMqwjx2Tw",
        "outputId": "3917dffb-8213-4d71-abcf-7c789426628b",
        "pycharm": {
          "name": "#%%\n"
        }
      },
      "execution_count": null,
      "outputs": [
        {
          "data": {
            "text/plain": "<Figure size 864x576 with 1 Axes>",
            "image/png": "[encoded data removed]"
          },
          "metadata": {},
          "output_type": "display_data"
        }
      ]
    },
    {
      "cell_type": "markdown",
      "source": [
        "Right away, we see that there are some differences in the age groups data was collected across. For example, 10M has the largest number of cells in terms of samples as well as indvidual cells.\n",
        "\n",
        "Additionally, from the aggregate table above, not all ages have the same number of genders, cell types, or treatments. These aggregate tables help provide some context for our analysis based on our groups of interest. Limitations in cell types and demographics will impact the sort of analysis that can be performed and how generalizable the results are."
      ],
      "metadata": {
        "id": "doypblOq1oQx",
        "pycharm": {
          "name": "#%% md\n"
        }
      }
    },
    {
      "cell_type": "markdown",
      "source": [
        "For the sake of this analysis, let's assume that we are interested in comparing the same cell types between two genders from the same age group. \n",
        "Looking at the table and plot, althought 10M is the largest demographic, that group only contains data for a single gender (males), so we will choose the age demographic that represents both: 4M."
      ],
      "metadata": {
        "id": "tUzpkLOk5_cd",
        "pycharm": {
          "name": "#%% md\n"
        }
      }
    },
    {
      "cell_type": "code",
      "source": [
        "\n",
        "df2 = client.query(\"\"\"\n",
        "  SELECT\n",
        "    Cell_Type,\n",
        "    count(distinct(Gender)) Number_Genders,\n",
        "    count(distinct(Cell_Name)) Number_Cells,\n",
        "  FROM\n",
        "    `isb-cgc-bq.HTAN.scRNAseq_CHOP_seurat_integrated_18MLLr_normal_final_rename_current`\n",
        "  WHERE\n",
        "    Age = '4M'\n",
        "  GROUP BY 1\n",
        "    \"\"\").result().to_dataframe()\n",
        "\n",
        "df2"
      ],
      "metadata": {
        "colab": {
          "base_uri": "https://localhost:8080/",
          "height": 520
        },
        "id": "JGRMr8PP40mr",
        "outputId": "e5a8b01c-3701-42c6-d9de-3d5bec814ea2",
        "pycharm": {
          "name": "#%%\n"
        }
      },
      "execution_count": null,
      "outputs": [
        {
          "data": {
            "text/plain": "               Cell_Type  Number_Genders  Number_Cells\n0                    pDC               2            72\n1          CD14_Monocyte               2           593\n2   CD4_Early_Activation               2           247\n3              CD4_Naive               2          1535\n4              CD8_Naive               2           349\n5     CD8_EffectorMemory               2           300\n6          CD8_Cytotoxic               2            31\n7                Unknown               2            10\n8                    NKT               2           192\n9                CD56_NK               2           151\n10               CD16_NK               2           126\n11         CD16_Monocyte               2           716\n12              Mature_B               2           606\n13                   cDC               2            39\n14           Exhausted_T               2            75",
            "text/html": "<div>\n<style scoped>\n    .dataframe tbody tr th:only-of-type {\n        vertical-align: middle;\n    }\n\n    .dataframe tbody tr th {\n        vertical-align: top;\n    }\n\n    .dataframe thead th {\n        text-align: right;\n    }\n</style>\n<table border=\"1\" class=\"dataframe\">\n  <thead>\n    <tr style=\"text-align: right;\">\n      <th></th>\n      <th>Cell_Type</th>\n      <th>Number_Genders</th>\n      <th>Number_Cells</th>\n    </tr>\n  </thead>\n  <tbody>\n    <tr>\n      <th>0</th>\n      <td>pDC</td>\n      <td>2</td>\n      <td>72</td>\n    </tr>\n    <tr>\n      <th>1</th>\n      <td>CD14_Monocyte</td>\n      <td>2</td>\n      <td>593</td>\n    </tr>\n    <tr>\n      <th>2</th>\n      <td>CD4_Early_Activation</td>\n      <td>2</td>\n      <td>247</td>\n    </tr>\n    <tr>\n      <th>3</th>\n      <td>CD4_Naive</td>\n      <td>2</td>\n      <td>1535</td>\n    </tr>\n    <tr>\n      <th>4</th>\n      <td>CD8_Naive</td>\n      <td>2</td>\n      <td>349</td>\n    </tr>\n    <tr>\n      <th>5</th>\n      <td>CD8_EffectorMemory</td>\n      <td>2</td>\n      <td>300</td>\n    </tr>\n    <tr>\n      <th>6</th>\n      <td>CD8_Cytotoxic</td>\n      <td>2</td>\n      <td>31</td>\n    </tr>\n    <tr>\n      <th>7</th>\n      <td>Unknown</td>\n      <td>2</td>\n      <td>10</td>\n    </tr>\n    <tr>\n      <th>8</th>\n      <td>NKT</td>\n      <td>2</td>\n      <td>192</td>\n    </tr>\n    <tr>\n      <th>9</th>\n      <td>CD56_NK</td>\n      <td>2</td>\n      <td>151</td>\n    </tr>\n    <tr>\n      <th>10</th>\n      <td>CD16_NK</td>\n      <td>2</td>\n      <td>126</td>\n    </tr>\n    <tr>\n      <th>11</th>\n      <td>CD16_Monocyte</td>\n      <td>2</td>\n      <td>716</td>\n    </tr>\n    <tr>\n      <th>12</th>\n      <td>Mature_B</td>\n      <td>2</td>\n      <td>606</td>\n    </tr>\n    <tr>\n      <th>13</th>\n      <td>cDC</td>\n      <td>2</td>\n      <td>39</td>\n    </tr>\n    <tr>\n      <th>14</th>\n      <td>Exhausted_T</td>\n      <td>2</td>\n      <td>75</td>\n    </tr>\n  </tbody>\n</table>\n</div>"
          },
          "execution_count": 14,
          "metadata": {},
          "output_type": "execute_result"
        }
      ]
    },
    {
      "cell_type": "markdown",
      "source": [
        "Now we see above that within this age, there are two genders available for each cell type. Next we decide that we can select the cell type that contains a roughly equal breakdown for genders in terms of the number of cells. Below, we see that CD14_Monocytes have a comprable number of cells and genes."
      ],
      "metadata": {
        "id": "wfsAKvL4g-wQ",
        "pycharm": {
          "name": "#%% md\n"
        }
      }
    },
    {
      "cell_type": "code",
      "source": [
        "df3 = client.query(\"\"\"\n",
        "  SELECT\n",
        "  Gender,\n",
        "  Cell_Type,\n",
        "  count(distinct(Gene_Name)) Number_Genes,\n",
        "  count(distinct(Cell_Name)) Number_Cells,\n",
        "  FROM\n",
        "    `isb-cgc-bq.HTAN.scRNAseq_CHOP_seurat_integrated_18MLLr_normal_final_rename_current`\n",
        "  WHERE Age = '4M'\n",
        "  GROUP BY 1,2\n",
        "  ORDER BY Number_Genes DESC # ASC # or DESC\n",
        "    \"\"\").result().to_dataframe()\n",
        "\n",
        "df3"
      ],
      "metadata": {
        "colab": {
          "base_uri": "https://localhost:8080/",
          "height": 990
        },
        "id": "sKikdRwlAGop",
        "outputId": "bb713aaa-c310-4364-b521-319bac2e1d51",
        "pycharm": {
          "name": "#%%\n"
        }
      },
      "execution_count": null,
      "outputs": [
        {
          "data": {
            "text/plain": "    Gender             Cell_Type  Number_Genes  Number_Cells\n0     Male             CD4_Naive         13849           941\n1   Female         CD16_Monocyte         13431           551\n2   Female         CD14_Monocyte         13104           393\n3     Male         CD14_Monocyte         12922           200\n4   Female             CD4_Naive         12816           594\n5     Male              Mature_B         12527           429\n6     Male         CD16_Monocyte         12305           165\n7     Male    CD8_EffectorMemory         12057           160\n8     Male             CD8_Naive         12042           158\n9     Male  CD4_Early_Activation         11725           184\n10  Female              Mature_B         11358           177\n11  Female             CD8_Naive         11116           191\n12    Male                   pDC         10953            67\n13    Male                   NKT         10923            97\n14  Female    CD8_EffectorMemory         10750           140\n15    Male               CD56_NK         10661            89\n16    Male               CD16_NK         10114           102\n17  Female                   NKT          9593            95\n18    Male           Exhausted_T          9464            63\n19  Female  CD4_Early_Activation          9381            63\n20  Female                   cDC          9351            34\n21  Female               CD56_NK          9058            62\n22    Male         CD8_Cytotoxic          7319            24\n23  Female               CD16_NK          6745            24\n24  Female           Exhausted_T          6525            12\n25    Male                   cDC          6138             5\n26    Male               Unknown          5754             5\n27  Female               Unknown          4939             5\n28  Female                   pDC          3857             5\n29  Female         CD8_Cytotoxic          3829             7",
            "text/html": "<div>\n<style scoped>\n    .dataframe tbody tr th:only-of-type {\n        vertical-align: middle;\n    }\n\n    .dataframe tbody tr th {\n        vertical-align: top;\n    }\n\n    .dataframe thead th {\n        text-align: right;\n    }\n</style>\n<table border=\"1\" class=\"dataframe\">\n  <thead>\n    <tr style=\"text-align: right;\">\n      <th></th>\n      <th>Gender</th>\n      <th>Cell_Type</th>\n      <th>Number_Genes</th>\n      <th>Number_Cells</th>\n    </tr>\n  </thead>\n  <tbody>\n    <tr>\n      <th>0</th>\n      <td>Male</td>\n      <td>CD4_Naive</td>\n      <td>13849</td>\n      <td>941</td>\n    </tr>\n    <tr>\n      <th>1</th>\n      <td>Female</td>\n      <td>CD16_Monocyte</td>\n      <td>13431</td>\n      <td>551</td>\n    </tr>\n    <tr>\n      <th>2</th>\n      <td>Female</td>\n      <td>CD14_Monocyte</td>\n      <td>13104</td>\n      <td>393</td>\n    </tr>\n    <tr>\n      <th>3</th>\n      <td>Male</td>\n      <td>CD14_Monocyte</td>\n      <td>12922</td>\n      <td>200</td>\n    </tr>\n    <tr>\n      <th>4</th>\n      <td>Female</td>\n      <td>CD4_Naive</td>\n      <td>12816</td>\n      <td>594</td>\n    </tr>\n    <tr>\n      <th>5</th>\n      <td>Male</td>\n      <td>Mature_B</td>\n      <td>12527</td>\n      <td>429</td>\n    </tr>\n    <tr>\n      <th>6</th>\n      <td>Male</td>\n      <td>CD16_Monocyte</td>\n      <td>12305</td>\n      <td>165</td>\n    </tr>\n    <tr>\n      <th>7</th>\n      <td>Male</td>\n      <td>CD8_EffectorMemory</td>\n      <td>12057</td>\n      <td>160</td>\n    </tr>\n    <tr>\n      <th>8</th>\n      <td>Male</td>\n      <td>CD8_Naive</td>\n      <td>12042</td>\n      <td>158</td>\n    </tr>\n    <tr>\n      <th>9</th>\n      <td>Male</td>\n      <td>CD4_Early_Activation</td>\n      <td>11725</td>\n      <td>184</td>\n    </tr>\n    <tr>\n      <th>10</th>\n      <td>Female</td>\n      <td>Mature_B</td>\n      <td>11358</td>\n      <td>177</td>\n    </tr>\n    <tr>\n      <th>11</th>\n      <td>Female</td>\n      <td>CD8_Naive</td>\n      <td>11116</td>\n      <td>191</td>\n    </tr>\n    <tr>\n      <th>12</th>\n      <td>Male</td>\n      <td>pDC</td>\n      <td>10953</td>\n      <td>67</td>\n    </tr>\n    <tr>\n      <th>13</th>\n      <td>Male</td>\n      <td>NKT</td>\n      <td>10923</td>\n      <td>97</td>\n    </tr>\n    <tr>\n      <th>14</th>\n      <td>Female</td>\n      <td>CD8_EffectorMemory</td>\n      <td>10750</td>\n      <td>140</td>\n    </tr>\n    <tr>\n      <th>15</th>\n      <td>Male</td>\n      <td>CD56_NK</td>\n      <td>10661</td>\n      <td>89</td>\n    </tr>\n    <tr>\n      <th>16</th>\n      <td>Male</td>\n      <td>CD16_NK</td>\n      <td>10114</td>\n      <td>102</td>\n    </tr>\n    <tr>\n      <th>17</th>\n      <td>Female</td>\n      <td>NKT</td>\n      <td>9593</td>\n      <td>95</td>\n    </tr>\n    <tr>\n      <th>18</th>\n      <td>Male</td>\n      <td>Exhausted_T</td>\n      <td>9464</td>\n      <td>63</td>\n    </tr>\n    <tr>\n      <th>19</th>\n      <td>Female</td>\n      <td>CD4_Early_Activation</td>\n      <td>9381</td>\n      <td>63</td>\n    </tr>\n    <tr>\n      <th>20</th>\n      <td>Female</td>\n      <td>cDC</td>\n      <td>9351</td>\n      <td>34</td>\n    </tr>\n    <tr>\n      <th>21</th>\n      <td>Female</td>\n      <td>CD56_NK</td>\n      <td>9058</td>\n      <td>62</td>\n    </tr>\n    <tr>\n      <th>22</th>\n      <td>Male</td>\n      <td>CD8_Cytotoxic</td>\n      <td>7319</td>\n      <td>24</td>\n    </tr>\n    <tr>\n      <th>23</th>\n      <td>Female</td>\n      <td>CD16_NK</td>\n      <td>6745</td>\n      <td>24</td>\n    </tr>\n    <tr>\n      <th>24</th>\n      <td>Female</td>\n      <td>Exhausted_T</td>\n      <td>6525</td>\n      <td>12</td>\n    </tr>\n    <tr>\n      <th>25</th>\n      <td>Male</td>\n      <td>cDC</td>\n      <td>6138</td>\n      <td>5</td>\n    </tr>\n    <tr>\n      <th>26</th>\n      <td>Male</td>\n      <td>Unknown</td>\n      <td>5754</td>\n      <td>5</td>\n    </tr>\n    <tr>\n      <th>27</th>\n      <td>Female</td>\n      <td>Unknown</td>\n      <td>4939</td>\n      <td>5</td>\n    </tr>\n    <tr>\n      <th>28</th>\n      <td>Female</td>\n      <td>pDC</td>\n      <td>3857</td>\n      <td>5</td>\n    </tr>\n    <tr>\n      <th>29</th>\n      <td>Female</td>\n      <td>CD8_Cytotoxic</td>\n      <td>3829</td>\n      <td>7</td>\n    </tr>\n  </tbody>\n</table>\n</div>"
          },
          "execution_count": 15,
          "metadata": {},
          "output_type": "execute_result"
        }
      ]
    },
    {
      "cell_type": "code",
      "source": [
        "sns.scatterplot(data=df3, x='Number_Cells', y='Number_Genes', hue='Gender', style='Cell_Type').set(title='Gender and Cell Type')\n"
      ],
      "metadata": {
        "colab": {
          "base_uri": "https://localhost:8080/",
          "height": 531
        },
        "id": "baUw-IezB9HD",
        "outputId": "58819840-a57e-43fd-fb8d-4a496101ea7d",
        "pycharm": {
          "name": "#%%\n"
        }
      },
      "execution_count": null,
      "outputs": [
        {
          "data": {
            "text/plain": "[Text(0.5, 1.0, 'Gender and Cell Type')]"
          },
          "execution_count": 16,
          "metadata": {},
          "output_type": "execute_result"
        },
        {
          "data": {
            "text/plain": "<Figure size 864x576 with 1 Axes>",
            "image/png": "[encoded data removed]"
          },
          "metadata": {},
          "output_type": "display_data"
        }
      ]
    },
    {
      "cell_type": "markdown",
      "source": [
        "Next, once we select a cell type to focus on, we can also explore the Seurat Clusters generated for this data set. Maybe we are interested in comparing between males and females for the same cluster.\n",
        "\n",
        "The following lines illustrate how to filter and check these clusters:"
      ],
      "metadata": {
        "id": "EwdzrpHTjWro",
        "pycharm": {
          "name": "#%% md\n"
        }
      }
    },
    {
      "cell_type": "code",
      "source": [
        "df4 = client.query(\"\"\"\n",
        "  SELECT\n",
        "  Gender,\n",
        "  Seurat_Clusters,\n",
        "  Cell_Type,\n",
        "  count(distinct(Gene_Name)) Number_Genes,\n",
        "  count(distinct(Cell_Name)) Number_Cells,\n",
        "  FROM\n",
        "    `isb-cgc-bq.HTAN.scRNAseq_CHOP_seurat_integrated_18MLLr_normal_final_rename_current`\n",
        "  WHERE Age = '4M' AND Cell_Type = 'CD14_Monocyte'\n",
        "  GROUP BY 1,2,3\n",
        "  ORDER BY Cell_Type, Number_Genes DESC # ASC # or DESC\n",
        "    \"\"\").result().to_dataframe()\n",
        "\n",
        "df4"
      ],
      "metadata": {
        "colab": {
          "base_uri": "https://localhost:8080/",
          "height": 300
        },
        "id": "R4kC09mQZdAd",
        "outputId": "5d1d2e40-eba9-4a69-e579-a90dc56af4b2",
        "pycharm": {
          "name": "#%%\n"
        }
      },
      "execution_count": null,
      "outputs": [
        {
          "data": {
            "text/plain": "   Gender  Seurat_Clusters      Cell_Type  Number_Genes  Number_Cells\n0    Male               10  CD14_Monocyte         12789           186\n1  Female                7  CD14_Monocyte         12241           208\n2  Female               10  CD14_Monocyte         11481           178\n3    Male                7  CD14_Monocyte          8398            13\n4  Female               21  CD14_Monocyte          4429             3\n5  Female                8  CD14_Monocyte          3806             3\n6    Male               21  CD14_Monocyte          2221             1\n7  Female                3  CD14_Monocyte          1419             1",
            "text/html": "<div>\n<style scoped>\n    .dataframe tbody tr th:only-of-type {\n        vertical-align: middle;\n    }\n\n    .dataframe tbody tr th {\n        vertical-align: top;\n    }\n\n    .dataframe thead th {\n        text-align: right;\n    }\n</style>\n<table border=\"1\" class=\"dataframe\">\n  <thead>\n    <tr style=\"text-align: right;\">\n      <th></th>\n      <th>Gender</th>\n      <th>Seurat_Clusters</th>\n      <th>Cell_Type</th>\n      <th>Number_Genes</th>\n      <th>Number_Cells</th>\n    </tr>\n  </thead>\n  <tbody>\n    <tr>\n      <th>0</th>\n      <td>Male</td>\n      <td>10</td>\n      <td>CD14_Monocyte</td>\n      <td>12789</td>\n      <td>186</td>\n    </tr>\n    <tr>\n      <th>1</th>\n      <td>Female</td>\n      <td>7</td>\n      <td>CD14_Monocyte</td>\n      <td>12241</td>\n      <td>208</td>\n    </tr>\n    <tr>\n      <th>2</th>\n      <td>Female</td>\n      <td>10</td>\n      <td>CD14_Monocyte</td>\n      <td>11481</td>\n      <td>178</td>\n    </tr>\n    <tr>\n      <th>3</th>\n      <td>Male</td>\n      <td>7</td>\n      <td>CD14_Monocyte</td>\n      <td>8398</td>\n      <td>13</td>\n    </tr>\n    <tr>\n      <th>4</th>\n      <td>Female</td>\n      <td>21</td>\n      <td>CD14_Monocyte</td>\n      <td>4429</td>\n      <td>3</td>\n    </tr>\n    <tr>\n      <th>5</th>\n      <td>Female</td>\n      <td>8</td>\n      <td>CD14_Monocyte</td>\n      <td>3806</td>\n      <td>3</td>\n    </tr>\n    <tr>\n      <th>6</th>\n      <td>Male</td>\n      <td>21</td>\n      <td>CD14_Monocyte</td>\n      <td>2221</td>\n      <td>1</td>\n    </tr>\n    <tr>\n      <th>7</th>\n      <td>Female</td>\n      <td>3</td>\n      <td>CD14_Monocyte</td>\n      <td>1419</td>\n      <td>1</td>\n    </tr>\n  </tbody>\n</table>\n</div>"
          },
          "execution_count": 17,
          "metadata": {},
          "output_type": "execute_result"
        }
      ]
    },
    {
      "cell_type": "markdown",
      "source": [
        "In this analysis, it might be interesting to compare cluster 10 between males and females. How do they differ in terms of gene expression?"
      ],
      "metadata": {
        "id": "2yNSzugCjpZi",
        "pycharm": {
          "name": "#%% md\n"
        }
      }
    },
    {
      "cell_type": "markdown",
      "source": [
        "## 4.2 Compare monocyte gene expression among clusters"
      ],
      "metadata": {
        "id": "nHf-nz8OfVr7",
        "pycharm": {
          "name": "#%% md\n"
        }
      }
    },
    {
      "cell_type": "markdown",
      "source": [
        "Let's compare cluster 10 in the CD14_Monocytes for males vs. females using their gene expression."
      ],
      "metadata": {
        "id": "yh7Vi2m3OMuv",
        "pycharm": {
          "name": "#%% md\n"
        }
      }
    },
    {
      "cell_type": "code",
      "source": [
        "df5 = client.query(\"\"\"\n",
        "  SELECT\n",
        "    Gender,\n",
        "    Seurat_Clusters,\n",
        "    count(distinct(Cell_Name)) as num_cells_clust10,\n",
        "    Gene_Name, \n",
        "    AVG(X_value) as avg_counts_clust10\n",
        "  FROM\n",
        "    `isb-cgc-bq.HTAN.scRNAseq_CHOP_seurat_integrated_18MLLr_normal_final_rename_current`\n",
        "  WHERE Age = '4M' AND Cell_Type = 'CD14_Monocyte' AND Seurat_Clusters = 10\n",
        "  GROUP BY 1,2,4\n",
        "  ORDER BY avg_counts_clust10 DESC\n",
        "  LIMIT 10\n",
        "    \"\"\").result().to_dataframe()\n",
        "\n",
        "df5"
      ],
      "metadata": {
        "colab": {
          "base_uri": "https://localhost:8080/",
          "height": 363
        },
        "id": "d3fPCZWTMUoq",
        "outputId": "d0a57bc7-a616-4191-e906-a3de6999ad6b",
        "pycharm": {
          "name": "#%%\n"
        }
      },
      "execution_count": null,
      "outputs": [
        {
          "data": {
            "text/plain": "   Gender  Seurat_Clusters  num_cells_clust10 Gene_Name  avg_counts_clust10\n0    Male               10                186    MALAT1            6.111205\n1    Male               10                186    MT-CO1            5.512180\n2  Female               10                178    MALAT1            5.476113\n3  Female               10                178       FTL            5.455267\n4  Female               10                178    S100A9            5.374094\n5    Male               10                186    MT-CO3            5.272379\n6    Male               10                186       LYZ            5.115293\n7    Male               10                186       FTL            5.074460\n8  Female               10                178      FTH1            4.955120\n9  Female               10                178       LYZ            4.925622",
            "text/html": "<div>\n<style scoped>\n    .dataframe tbody tr th:only-of-type {\n        vertical-align: middle;\n    }\n\n    .dataframe tbody tr th {\n        vertical-align: top;\n    }\n\n    .dataframe thead th {\n        text-align: right;\n    }\n</style>\n<table border=\"1\" class=\"dataframe\">\n  <thead>\n    <tr style=\"text-align: right;\">\n      <th></th>\n      <th>Gender</th>\n      <th>Seurat_Clusters</th>\n      <th>num_cells_clust10</th>\n      <th>Gene_Name</th>\n      <th>avg_counts_clust10</th>\n    </tr>\n  </thead>\n  <tbody>\n    <tr>\n      <th>0</th>\n      <td>Male</td>\n      <td>10</td>\n      <td>186</td>\n      <td>MALAT1</td>\n      <td>6.111205</td>\n    </tr>\n    <tr>\n      <th>1</th>\n      <td>Male</td>\n      <td>10</td>\n      <td>186</td>\n      <td>MT-CO1</td>\n      <td>5.512180</td>\n    </tr>\n    <tr>\n      <th>2</th>\n      <td>Female</td>\n      <td>10</td>\n      <td>178</td>\n      <td>MALAT1</td>\n      <td>5.476113</td>\n    </tr>\n    <tr>\n      <th>3</th>\n      <td>Female</td>\n      <td>10</td>\n      <td>178</td>\n      <td>FTL</td>\n      <td>5.455267</td>\n    </tr>\n    <tr>\n      <th>4</th>\n      <td>Female</td>\n      <td>10</td>\n      <td>178</td>\n      <td>S100A9</td>\n      <td>5.374094</td>\n    </tr>\n    <tr>\n      <th>5</th>\n      <td>Male</td>\n      <td>10</td>\n      <td>186</td>\n      <td>MT-CO3</td>\n      <td>5.272379</td>\n    </tr>\n    <tr>\n      <th>6</th>\n      <td>Male</td>\n      <td>10</td>\n      <td>186</td>\n      <td>LYZ</td>\n      <td>5.115293</td>\n    </tr>\n    <tr>\n      <th>7</th>\n      <td>Male</td>\n      <td>10</td>\n      <td>186</td>\n      <td>FTL</td>\n      <td>5.074460</td>\n    </tr>\n    <tr>\n      <th>8</th>\n      <td>Female</td>\n      <td>10</td>\n      <td>178</td>\n      <td>FTH1</td>\n      <td>4.955120</td>\n    </tr>\n    <tr>\n      <th>9</th>\n      <td>Female</td>\n      <td>10</td>\n      <td>178</td>\n      <td>LYZ</td>\n      <td>4.925622</td>\n    </tr>\n  </tbody>\n</table>\n</div>"
          },
          "execution_count": 18,
          "metadata": {},
          "output_type": "execute_result"
        }
      ]
    },
    {
      "cell_type": "markdown",
      "source": [
        "In the table above, we're interested in comparing the average expression values for genes between the genders shown.\n",
        "\n",
        "To do this, we're going to make two aggregate tables for each gender and join them on the overlapping genes of interest."
      ],
      "metadata": {
        "id": "XYKxFUrQk0b2",
        "pycharm": {
          "name": "#%% md\n"
        }
      }
    },
    {
      "cell_type": "code",
      "source": [
        "df6 = client.query(\"\"\"\n",
        "\n",
        "SELECT\n",
        "  A.Gene_Name,\n",
        "  A.avg_counts_clust10,\n",
        "  B.avg_counts_clust10,\n",
        "  A.avg_counts_clust10 - B.avg_counts_clust10 as mean_diff\n",
        "FROM (\n",
        "  SELECT\n",
        "    Gene_Name,\n",
        "    AVG(X_value) AS avg_counts_clust10\n",
        "  FROM\n",
        "    `isb-cgc-bq.HTAN.scRNAseq_CHOP_seurat_integrated_18MLLr_normal_final_rename_current`\n",
        "  WHERE Age = '4M' AND Cell_Type = 'CD14_Monocyte' AND Seurat_Clusters = 10 AND Gender = 'Female'\n",
        "  GROUP BY\n",
        "    1) AS A\n",
        "INNER JOIN (\n",
        "  SELECT\n",
        "    Gene_Name,\n",
        "    AVG(X_value) AS avg_counts_clust10\n",
        "  FROM\n",
        "    `isb-cgc-bq.HTAN.scRNAseq_CHOP_seurat_integrated_18MLLr_normal_final_rename_current`\n",
        "  WHERE Age = '4M' AND Cell_Type = 'CD14_Monocyte' AND Seurat_Clusters = 10 AND Gender = 'Male'\n",
        "  GROUP BY\n",
        "    1) AS B\n",
        "ON\n",
        "  A.Gene_Name = B.Gene_Name\n",
        "GROUP BY 1,2,3\n",
        "ORDER BY mean_diff DESC\n",
        "LIMIT 200\n",
        "\n",
        "    \"\"\").result().to_dataframe()\n",
        "\n",
        "df6"
      ],
      "metadata": {
        "colab": {
          "base_uri": "https://localhost:8080/",
          "height": 424
        },
        "id": "AhM28JIhREvR",
        "outputId": "4a87bc5d-e6fa-43b9-af28-5664dc76f83c",
        "pycharm": {
          "name": "#%%\n"
        }
      },
      "execution_count": null,
      "outputs": [
        {
          "data": {
            "text/plain": "      Gene_Name  avg_counts_clust10  avg_counts_clust10_1  mean_diff\n0        DDIT4L            2.001699              0.508226   1.493473\n1         TIAF1            1.827204              0.548018   1.279186\n2    AC087500.1            1.915508              0.713525   1.201983\n3         SYT15            1.856686              0.715204   1.141482\n4          QPRT            1.827204              0.693095   1.134109\n..          ...                 ...                   ...        ...\n195  ZBTB11-AS1            1.408836              0.811069   0.597767\n196       MERTK            1.659826              1.062495   0.597331\n197      CDKN2B            1.408836              0.813152   0.595684\n198      CAB39L            1.378804              0.783399   0.595406\n199        ACP2            1.357034              0.762334   0.594699\n\n[200 rows x 4 columns]",
            "text/html": "<div>\n<style scoped>\n    .dataframe tbody tr th:only-of-type {\n        vertical-align: middle;\n    }\n\n    .dataframe tbody tr th {\n        vertical-align: top;\n    }\n\n    .dataframe thead th {\n        text-align: right;\n    }\n</style>\n<table border=\"1\" class=\"dataframe\">\n  <thead>\n    <tr style=\"text-align: right;\">\n      <th></th>\n      <th>Gene_Name</th>\n      <th>avg_counts_clust10</th>\n      <th>avg_counts_clust10_1</th>\n      <th>mean_diff</th>\n    </tr>\n  </thead>\n  <tbody>\n    <tr>\n      <th>0</th>\n      <td>DDIT4L</td>\n      <td>2.001699</td>\n      <td>0.508226</td>\n      <td>1.493473</td>\n    </tr>\n    <tr>\n      <th>1</th>\n      <td>TIAF1</td>\n      <td>1.827204</td>\n      <td>0.548018</td>\n      <td>1.279186</td>\n    </tr>\n    <tr>\n      <th>2</th>\n      <td>AC087500.1</td>\n      <td>1.915508</td>\n      <td>0.713525</td>\n      <td>1.201983</td>\n    </tr>\n    <tr>\n      <th>3</th>\n      <td>SYT15</td>\n      <td>1.856686</td>\n      <td>0.715204</td>\n      <td>1.141482</td>\n    </tr>\n    <tr>\n      <th>4</th>\n      <td>QPRT</td>\n      <td>1.827204</td>\n      <td>0.693095</td>\n      <td>1.134109</td>\n    </tr>\n    <tr>\n      <th>...</th>\n      <td>...</td>\n      <td>...</td>\n      <td>...</td>\n      <td>...</td>\n    </tr>\n    <tr>\n      <th>195</th>\n      <td>ZBTB11-AS1</td>\n      <td>1.408836</td>\n      <td>0.811069</td>\n      <td>0.597767</td>\n    </tr>\n    <tr>\n      <th>196</th>\n      <td>MERTK</td>\n      <td>1.659826</td>\n      <td>1.062495</td>\n      <td>0.597331</td>\n    </tr>\n    <tr>\n      <th>197</th>\n      <td>CDKN2B</td>\n      <td>1.408836</td>\n      <td>0.813152</td>\n      <td>0.595684</td>\n    </tr>\n    <tr>\n      <th>198</th>\n      <td>CAB39L</td>\n      <td>1.378804</td>\n      <td>0.783399</td>\n      <td>0.595406</td>\n    </tr>\n    <tr>\n      <th>199</th>\n      <td>ACP2</td>\n      <td>1.357034</td>\n      <td>0.762334</td>\n      <td>0.594699</td>\n    </tr>\n  </tbody>\n</table>\n<p>200 rows × 4 columns</p>\n</div>"
          },
          "execution_count": 19,
          "metadata": {},
          "output_type": "execute_result"
        }
      ]
    },
    {
      "cell_type": "markdown",
      "source": [
        "In this way, we can calculate the mean difference of expression between the genes between the genders for the age, cell types and cluster we selected earlier.\n",
        "\n",
        "We also plot the data like so:"
      ],
      "metadata": {
        "id": "a0x_akRtkyn8",
        "pycharm": {
          "name": "#%% md\n"
        }
      }
    },
    {
      "cell_type": "code",
      "source": [
        "sns.scatterplot(data=df6, x=range(0,200), y='mean_diff')\n"
      ],
      "metadata": {
        "colab": {
          "base_uri": "https://localhost:8080/",
          "height": 500
        },
        "id": "T3sDynW0TQ3W",
        "outputId": "ca50b701-e70c-4a6e-cf5b-21349900a945",
        "pycharm": {
          "name": "#%%\n"
        }
      },
      "execution_count": null,
      "outputs": [
        {
          "data": {
            "text/plain": "<AxesSubplot:ylabel='mean_diff'>"
          },
          "execution_count": 20,
          "metadata": {},
          "output_type": "execute_result"
        },
        {
          "data": {
            "text/plain": "<Figure size 864x576 with 1 Axes>",
            "image/png": "[encoded data removed]"
          },
          "metadata": {},
          "output_type": "display_data"
        }
      ]
    },
    {
      "cell_type": "markdown",
      "source": [
        "This allows us to see that there are mean differences of expression for the genes between males and females.\n",
        "\n",
        "In this case the gene with the highest mean difference in this analysis is \n",
        "DNA-damage-inducible transcript 4 (DDIT4). This gene has been shown by [Wang et al.,](https://www.sciencedirect.com/science/article/pii/S0006497120408389) to be highly expressed and plays an important role in monocyte cells (*Shown in table 2: Top 50 genes most highly expressed by the intermediate monocyte subset sorted according to decreasing absolute fold change values.*).\n",
        "\n",
        "In this notebook, we explored the data and compared the gene expression of a specific cell type between gendered samples that can be found within the HTAN CHOP data. This is meant as an example rather than a concrete analysis, so try these steps out yourself!\n"
      ],
      "metadata": {
        "id": "aD9U_WmulQ8n",
        "pycharm": {
          "name": "#%% md\n"
        }
      }
    },
    {
      "cell_type": "markdown",
      "source": [
        "# 5. Relevant Citations and Links\n",
        "\n",
        "[HTAN Portal](https://humantumoratlas.org/)\n",
        "\n",
        "[Overview paper, Cell, April 2020](https://www.sciencedirect.com/science/article/pii/S0092867420303469)"
      ],
      "metadata": {
        "id": "po3WUG-4ffb4",
        "pycharm": {
          "name": "#%% md\n"
        }
      }
    }
  ]
}
