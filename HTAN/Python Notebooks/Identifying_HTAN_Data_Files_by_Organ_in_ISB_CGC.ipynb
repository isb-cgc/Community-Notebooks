{
 "cells": [
  {
   "cell_type": "markdown",
   "id": "11d9ae45",
   "metadata": {
    "colab_type": "text",
    "id": "view-in-github"
   },
   "source": [
    "<a href=\"https://colab.research.google.com/github/isb-cgc/Community-Notebooks/blob/master/HTAN/Python%20Notebooks/Identifying_HTAN_Data_Files_by_Organ_in_ISB_CGC.ipynb\" target=\"_parent\"><img src=\"https://colab.research.google.com/assets/colab-badge.svg\" alt=\"Open In Colab\"/></a>"
   ]
  },
  {
   "cell_type": "markdown",
   "id": "0efa3658",
   "metadata": {
    "id": "0efa3658"
   },
   "source": [
    "#  Identifying HTAN Data Files by Organ in ISB-CGC"
   ]
  },
  {
   "cell_type": "markdown",
   "id": "7cb87338",
   "metadata": {
    "id": "7cb87338"
   },
   "source": [
    "        Title:   Identifying HTAN Data Files by Organ in ISB-CGC\n",
    "        Author:  Clarisse Lau (clau@systemsbiology.org)\n",
    "        Created: October 2023\n",
    "        Updated: June 9, 2025\n",
    "        Purpose: Demonstrate how to access HTAN data for a particular organ type"
   ]
  },
  {
   "cell_type": "markdown",
   "id": "c45af099",
   "metadata": {
    "id": "c45af099"
   },
   "source": [
    "# 1. Introduction & Overview\n",
    "[HTAN](https://humantumoratlas.org/) is a National Cancer Institute (NCI)-funded Cancer Moonshot initiative to construct 3-dimensional atlases of the dynamic cellular, morphological, and molecular features of human cancers as they evolve from precancerous lesions to advanced disease. [Cell April 2020](https://www.sciencedirect.com/science/article/pii/S0092867420303469)\n",
    "\n",
    "Clinical data, sample biospecimen data and assay files in HTAN have a rich set of annotations supplied by HTAN data contributors. These annotations are made according to the [HTAN Data model](https://data.humantumoratlas.org/standards), a set of standards defined by the HTAN consortium. Using Google BigQuery, the supplied values of these attributes have been collected into comprehensive data tables in the cloud.\n",
    "\n",
    "This notebook will demonstrate how users can identify and access assay data for a particular organ or cancer type using Google BigQuery metadata tables.\n",
    "\n",
    "## 1.1 Goal\n",
    "In this notebook we introduce the tables and metadata attributes needed to identify data files for a particular organ type, and illustrate how these files can be accessed in BigQuery to enable further analysis.  \n",
    "\n",
    "## 1.2 Inputs, Outputs, & Data\n",
    "The originating data can be found on the [HTAN Data Portal](https://data.humantumoratlas.org/), and the compiled tables are on the [Cancer Gateway in the Cloud](https://isb-cgc.appspot.com/).\n",
    "\n",
    "## 1.3 Notes\n",
    "The queries and results in this notebook correspond to ISB-CGC HTAN Release 6.0. However, if no modification to the dataset occurred (additions or removals) since a previous release, the existing version remains valid. As a result, some tables retain names ending in `r3` and `r4`, indicating they have not been updated since Release 3.0 and 4.0, respectively, but are still current for Release 6.0.\n",
    "\n",
    "To choose a different release, edit the BigQuery table names in this notebook by replacing the `r3`, `r4`, and/or `r6` string with a selected numbered release, e.g., `r2`. To get results for the most current data release, replace:\n",
    "- `r3`, `r4`, and `r6` with `current`\n",
    "- `HTAN_versioned` with `HTAN`"
   ]
  },
  {
   "cell_type": "markdown",
   "id": "99a68fd9",
   "metadata": {
    "id": "99a68fd9"
   },
   "source": [
    "# 2. Environment & Module Setup\n"
   ]
  },
  {
   "cell_type": "code",
   "execution_count": 1,
   "id": "c6bee3c4",
   "metadata": {
    "id": "c6bee3c4"
   },
   "outputs": [],
   "source": [
    "# Import libraries\n",
    "import pandas as pd"
   ]
  },
  {
   "cell_type": "markdown",
   "id": "35bfd7d6",
   "metadata": {
    "id": "35bfd7d6"
   },
   "source": [
    "# 3. Google Authentication\n",
    "\n",
    "Running the BigQuery cells in this notebook requires a Google Cloud Project. Instructions for creating a project can be found in [Google Cloud Documentation](https://cloud.google.com/resource-manager/docs/creating-managing-projects#console). The instance needs to be authorized to bill the project for queries. For more information on getting started with ISB-CGC see [Quick Start Guide to ISB-CGC](https://isb-cancer-genomics-cloud.readthedocs.io/en/latest/sections/HowToGetStartedonISB-CGC.html) and alternative authentication methods can be found in [Google Cloud Documentation](https://cloud.google.com/resource-manager/docs/creating-managing-projects#console)."
   ]
  },
  {
   "cell_type": "markdown",
   "id": "teIwFdaCPQiC",
   "metadata": {
    "id": "teIwFdaCPQiC"
   },
   "source": [
    "## 3.1 Authenticating with Google Credentials"
   ]
  },
  {
   "cell_type": "markdown",
   "id": "M26jiuqUN8hi",
   "metadata": {
    "id": "M26jiuqUN8hi"
   },
   "source": [
    "#### Option 1. Running in Google Colab\n",
    "\n",
    "If you are using Google Colab, run the code block below to authenticate"
   ]
  },
  {
   "cell_type": "code",
   "execution_count": 2,
   "id": "0760c78d",
   "metadata": {
    "id": "0760c78d"
   },
   "outputs": [],
   "source": [
    "from google.colab import auth\n",
    "auth.authenticate_user()"
   ]
  },
  {
   "cell_type": "markdown",
   "id": "108ea0c9",
   "metadata": {
    "id": "108ea0c9"
   },
   "source": [
    "#### Option 2. Running on local machine\n",
    "\n",
    "Alternatively, if you're running the notebook locally, take the following steps to authenticate.\n",
    "\n",
    "1.   Run `gcloud auth application-default login` on your local machine\n",
    "2.   Run the command below replacing `<path to key>` with the path to your credentials file"
   ]
  },
  {
   "cell_type": "code",
   "execution_count": null,
   "id": "paRkk86gJLhd",
   "metadata": {
    "id": "paRkk86gJLhd"
   },
   "outputs": [],
   "source": [
    "# env GOOGLE_APPLICATION_CREDENTIALS='<path to key>'"
   ]
  },
  {
   "cell_type": "markdown",
   "id": "9OX-_DE_PDc5",
   "metadata": {
    "id": "9OX-_DE_PDc5"
   },
   "source": [
    "## 3.2 Initializing the Google BigQuery client\n",
    "\n",
    "\n"
   ]
  },
  {
   "cell_type": "code",
   "execution_count": 2,
   "id": "5hHqwkwzNxay",
   "metadata": {
    "id": "5hHqwkwzNxay"
   },
   "outputs": [],
   "source": [
    "# Import the Google BigQuery client\n",
    "from google.cloud import bigquery\n",
    "\n",
    "# Set the Google project that will be billed for this notebook's computations\n",
    "# Replace <my-project> with your BigQuery Project ID\n",
    "google_project = 'htan-dcc'\n",
    "\n",
    "# Create a client to access the data within BigQuery\n",
    "client = bigquery.Client(google_project)"
   ]
  },
  {
   "cell_type": "markdown",
   "id": "6vrYr0AzM5yQ",
   "metadata": {
    "id": "6vrYr0AzM5yQ"
   },
   "source": [
    "# 4. \"Tissue or Organ of Origin\" to Whole Organ Mapping Table"
   ]
  },
  {
   "cell_type": "markdown",
   "id": "wfzOvUgpVWun",
   "metadata": {
    "id": "wfzOvUgpVWun"
   },
   "source": [
    "In the HTAN Clinical Diagnosis data model, designation for anatomic site of origin of the patient's malignant disease is provided as the attribute\n",
    "\"Tissue or Organ of Origin\". This attribute currently includes 332 possible tissue or organ value options, and can include both whole organs and parts of a whole.\n",
    "\n",
    "For convenience, the HTAN Data Coordinating Center (DCC) has compiled a mapping of all \"Tissue or Organ of Origin\" values to 30 whole organ types. This mapping is provided as a BigQuery table `isb-cgc-bq.HTAN_versioned.tissueOrOrganOfOrigin_to_wholeOrgan_mapping_r4`.\n",
    "\n",
    "To begin, we will query this table and explore its contents.\n"
   ]
  },
  {
   "cell_type": "code",
   "execution_count": 3,
   "id": "2f1f7fd8",
   "metadata": {
    "colab": {
     "base_uri": "https://localhost:8080/",
     "height": 424
    },
    "id": "2f1f7fd8",
    "outputId": "f940dafe-46ec-41a4-f8d7-ccee7258b68c"
   },
   "outputs": [
    {
     "data": {
      "text/html": [
       "<div>\n",
       "<style scoped>\n",
       "    .dataframe tbody tr th:only-of-type {\n",
       "        vertical-align: middle;\n",
       "    }\n",
       "\n",
       "    .dataframe tbody tr th {\n",
       "        vertical-align: top;\n",
       "    }\n",
       "\n",
       "    .dataframe thead th {\n",
       "        text-align: right;\n",
       "    }\n",
       "</style>\n",
       "<table border=\"1\" class=\"dataframe\">\n",
       "  <thead>\n",
       "    <tr style=\"text-align: right;\">\n",
       "      <th></th>\n",
       "      <th>Whole_Organ</th>\n",
       "      <th>Tissue_or_Organ_of_Origin</th>\n",
       "    </tr>\n",
       "  </thead>\n",
       "  <tbody>\n",
       "    <tr>\n",
       "      <th>0</th>\n",
       "      <td>Adrenal Gland</td>\n",
       "      <td>Adrenal gland NOS</td>\n",
       "    </tr>\n",
       "    <tr>\n",
       "      <th>1</th>\n",
       "      <td>Adrenal Gland</td>\n",
       "      <td>Cortex of adrenal gland</td>\n",
       "    </tr>\n",
       "    <tr>\n",
       "      <th>2</th>\n",
       "      <td>Adrenal Gland</td>\n",
       "      <td>Medulla of adrenal gland</td>\n",
       "    </tr>\n",
       "    <tr>\n",
       "      <th>3</th>\n",
       "      <td>Bile Duct</td>\n",
       "      <td>Ampulla of Vater</td>\n",
       "    </tr>\n",
       "    <tr>\n",
       "      <th>4</th>\n",
       "      <td>Bile Duct</td>\n",
       "      <td>Biliary tract NOS</td>\n",
       "    </tr>\n",
       "    <tr>\n",
       "      <th>...</th>\n",
       "      <td>...</td>\n",
       "      <td>...</td>\n",
       "    </tr>\n",
       "    <tr>\n",
       "      <th>327</th>\n",
       "      <td>Uterus</td>\n",
       "      <td>Fundus uteri</td>\n",
       "    </tr>\n",
       "    <tr>\n",
       "      <th>328</th>\n",
       "      <td>Uterus</td>\n",
       "      <td>Isthmus uteri</td>\n",
       "    </tr>\n",
       "    <tr>\n",
       "      <th>329</th>\n",
       "      <td>Uterus</td>\n",
       "      <td>Myometrium</td>\n",
       "    </tr>\n",
       "    <tr>\n",
       "      <th>330</th>\n",
       "      <td>Uterus</td>\n",
       "      <td>Overlapping lesion of corpus uteri</td>\n",
       "    </tr>\n",
       "    <tr>\n",
       "      <th>331</th>\n",
       "      <td>Uterus</td>\n",
       "      <td>Uterus NOS</td>\n",
       "    </tr>\n",
       "  </tbody>\n",
       "</table>\n",
       "<p>332 rows × 2 columns</p>\n",
       "</div>"
      ],
      "text/plain": [
       "       Whole_Organ           Tissue_or_Organ_of_Origin\n",
       "0    Adrenal Gland                   Adrenal gland NOS\n",
       "1    Adrenal Gland             Cortex of adrenal gland\n",
       "2    Adrenal Gland            Medulla of adrenal gland\n",
       "3        Bile Duct                    Ampulla of Vater\n",
       "4        Bile Duct                   Biliary tract NOS\n",
       "..             ...                                 ...\n",
       "327         Uterus                        Fundus uteri\n",
       "328         Uterus                       Isthmus uteri\n",
       "329         Uterus                          Myometrium\n",
       "330         Uterus  Overlapping lesion of corpus uteri\n",
       "331         Uterus                          Uterus NOS\n",
       "\n",
       "[332 rows x 2 columns]"
      ]
     },
     "execution_count": 3,
     "metadata": {},
     "output_type": "execute_result"
    }
   ],
   "source": [
    "primary_map = client.query(\"\"\"\n",
    "  SELECT *\n",
    "  FROM `isb-cgc-bq.HTAN_versioned.tissueOrOrganOfOrigin_to_wholeOrgan_mapping_r4`\n",
    "\"\"\").result().to_dataframe()\n",
    "\n",
    "primary_map"
   ]
  },
  {
   "cell_type": "markdown",
   "id": "TjVJcE_P3vyP",
   "metadata": {
    "id": "TjVJcE_P3vyP"
   },
   "source": [
    "Let's take a look at the possible values for `Whole_Organ`"
   ]
  },
  {
   "cell_type": "code",
   "execution_count": 4,
   "id": "3xRVnXnUQkK2",
   "metadata": {
    "colab": {
     "base_uri": "https://localhost:8080/"
    },
    "id": "3xRVnXnUQkK2",
    "outputId": "ce88964b-e630-4c61-825c-bb27ea7bec61"
   },
   "outputs": [
    {
     "data": {
      "text/plain": [
       "{'Adrenal Gland',\n",
       " 'Bile Duct',\n",
       " 'Bladder',\n",
       " 'Bone',\n",
       " 'Bone Marrow',\n",
       " 'Brain',\n",
       " 'Breast',\n",
       " 'Cervix',\n",
       " 'Colorectal',\n",
       " 'Esophagus',\n",
       " 'Eye',\n",
       " 'Head and Neck',\n",
       " 'Kidney',\n",
       " 'Liver',\n",
       " 'Lung',\n",
       " 'Lymph Nodes',\n",
       " 'Nervous System',\n",
       " 'Not Reported',\n",
       " 'Other and Ill-defined Sites',\n",
       " 'Ovary',\n",
       " 'Pancreas',\n",
       " 'Pleura',\n",
       " 'Prostate',\n",
       " 'Skin',\n",
       " 'Soft Tissue',\n",
       " 'Stomach',\n",
       " 'Testis',\n",
       " 'Thymus',\n",
       " 'Thyroid',\n",
       " 'Uterus'}"
      ]
     },
     "execution_count": 4,
     "metadata": {},
     "output_type": "execute_result"
    }
   ],
   "source": [
    "set(primary_map['Whole_Organ'])"
   ]
  },
  {
   "cell_type": "code",
   "execution_count": 5,
   "id": "D35RgZIN_4Le",
   "metadata": {
    "colab": {
     "base_uri": "https://localhost:8080/"
    },
    "id": "D35RgZIN_4Le",
    "outputId": "2acdde1e-8c24-423e-a491-4b213c5bcbac"
   },
   "outputs": [
    {
     "data": {
      "text/plain": [
       "30"
      ]
     },
     "execution_count": 5,
     "metadata": {},
     "output_type": "execute_result"
    }
   ],
   "source": [
    "len(set(primary_map['Whole_Organ']))"
   ]
  },
  {
   "cell_type": "markdown",
   "id": "XEXYDekV_7TA",
   "metadata": {
    "id": "XEXYDekV_7TA"
   },
   "source": [
    "We see that each of the 332 Tissue or Organ of Origin values are mapped to one of thirty whole organ types."
   ]
  },
  {
   "cell_type": "markdown",
   "id": "ubauSpYCcPJd",
   "metadata": {
    "id": "ubauSpYCcPJd"
   },
   "source": [
    "# 5. Identifying Breast Cancer Data or Precancer Data in ISB-CGC"
   ]
  },
  {
   "cell_type": "markdown",
   "id": "xvM7jM8XX1ep",
   "metadata": {
    "id": "xvM7jM8XX1ep"
   },
   "source": [
    "Perhaps you would like to know whether assay\n",
    "data for breast cancer is available in ISB-CGC. The HTAN DCC has made nearly 800 Single Cell and Imaging Level 4 assay data files available in ISB-CGC. Are any of these files derived from breast cancer patients?\n",
    "\n",
    "We will utilize four BigQuery tables and perform a series of joins to build a SQL query that will enable us to answer this question, and access data in ISB-CGC."
   ]
  },
  {
   "cell_type": "markdown",
   "id": "1oF2wtASYvOW",
   "metadata": {
    "id": "1oF2wtASYvOW"
   },
   "source": [
    "We start with the `isb-cgc-bq.HTAN_versioned.tissueOrOrganOfOrigin_to_wholeOrgan_mapping_r4` table, this time updating our query to select for only the tissues and organs corresponding to 'Breast'. We see that there are 9 applicable values for this cancer type."
   ]
  },
  {
   "cell_type": "code",
   "execution_count": 6,
   "id": "XrbaWrafRMJR",
   "metadata": {
    "colab": {
     "base_uri": "https://localhost:8080/",
     "height": 332
    },
    "id": "XrbaWrafRMJR",
    "outputId": "684c8de7-15c3-4711-b2b9-bf1fadda8967"
   },
   "outputs": [
    {
     "data": {
      "text/html": [
       "<div>\n",
       "<style scoped>\n",
       "    .dataframe tbody tr th:only-of-type {\n",
       "        vertical-align: middle;\n",
       "    }\n",
       "\n",
       "    .dataframe tbody tr th {\n",
       "        vertical-align: top;\n",
       "    }\n",
       "\n",
       "    .dataframe thead th {\n",
       "        text-align: right;\n",
       "    }\n",
       "</style>\n",
       "<table border=\"1\" class=\"dataframe\">\n",
       "  <thead>\n",
       "    <tr style=\"text-align: right;\">\n",
       "      <th></th>\n",
       "      <th>Whole_Organ</th>\n",
       "      <th>Tissue_or_Organ_of_Origin</th>\n",
       "    </tr>\n",
       "  </thead>\n",
       "  <tbody>\n",
       "    <tr>\n",
       "      <th>0</th>\n",
       "      <td>Breast</td>\n",
       "      <td>Axillary tail of breast</td>\n",
       "    </tr>\n",
       "    <tr>\n",
       "      <th>1</th>\n",
       "      <td>Breast</td>\n",
       "      <td>Breast NOS</td>\n",
       "    </tr>\n",
       "    <tr>\n",
       "      <th>2</th>\n",
       "      <td>Breast</td>\n",
       "      <td>Central portion of breast</td>\n",
       "    </tr>\n",
       "    <tr>\n",
       "      <th>3</th>\n",
       "      <td>Breast</td>\n",
       "      <td>Lower-inner quadrant of breast</td>\n",
       "    </tr>\n",
       "    <tr>\n",
       "      <th>4</th>\n",
       "      <td>Breast</td>\n",
       "      <td>Lower-outer quadrant of breast</td>\n",
       "    </tr>\n",
       "    <tr>\n",
       "      <th>5</th>\n",
       "      <td>Breast</td>\n",
       "      <td>Nipple</td>\n",
       "    </tr>\n",
       "    <tr>\n",
       "      <th>6</th>\n",
       "      <td>Breast</td>\n",
       "      <td>Overlapping lesion of breast</td>\n",
       "    </tr>\n",
       "    <tr>\n",
       "      <th>7</th>\n",
       "      <td>Breast</td>\n",
       "      <td>Upper-inner quadrant of breast</td>\n",
       "    </tr>\n",
       "    <tr>\n",
       "      <th>8</th>\n",
       "      <td>Breast</td>\n",
       "      <td>Upper-outer quadrant of breast</td>\n",
       "    </tr>\n",
       "  </tbody>\n",
       "</table>\n",
       "</div>"
      ],
      "text/plain": [
       "  Whole_Organ       Tissue_or_Organ_of_Origin\n",
       "0      Breast         Axillary tail of breast\n",
       "1      Breast                      Breast NOS\n",
       "2      Breast       Central portion of breast\n",
       "3      Breast  Lower-inner quadrant of breast\n",
       "4      Breast  Lower-outer quadrant of breast\n",
       "5      Breast                          Nipple\n",
       "6      Breast    Overlapping lesion of breast\n",
       "7      Breast  Upper-inner quadrant of breast\n",
       "8      Breast  Upper-outer quadrant of breast"
      ]
     },
     "execution_count": 6,
     "metadata": {},
     "output_type": "execute_result"
    }
   ],
   "source": [
    "breast_organs = client.query(\"\"\"\n",
    "  SELECT *\n",
    "  FROM `isb-cgc-bq.HTAN_versioned.tissueOrOrganOfOrigin_to_wholeOrgan_mapping_r4`\n",
    "  WHERE Whole_Organ = 'Breast'\n",
    "\"\"\").result().to_dataframe()\n",
    "\n",
    "breast_organs"
   ]
  },
  {
   "cell_type": "markdown",
   "id": "LplIQwz0ZIyL",
   "metadata": {
    "id": "LplIQwz0ZIyL"
   },
   "source": [
    "With this information, we can identify the participants that have diagnoses originating in the breast, using the Clinical Diagnosis BigQuery table"
   ]
  },
  {
   "cell_type": "code",
   "execution_count": 7,
   "id": "SJbhW5ZcZISc",
   "metadata": {
    "colab": {
     "base_uri": "https://localhost:8080/",
     "height": 424
    },
    "id": "SJbhW5ZcZISc",
    "outputId": "f0b4e228-6fc8-445f-e7f7-ecc247d461c1"
   },
   "outputs": [
    {
     "data": {
      "text/html": [
       "<div>\n",
       "<style scoped>\n",
       "    .dataframe tbody tr th:only-of-type {\n",
       "        vertical-align: middle;\n",
       "    }\n",
       "\n",
       "    .dataframe tbody tr th {\n",
       "        vertical-align: top;\n",
       "    }\n",
       "\n",
       "    .dataframe thead th {\n",
       "        text-align: right;\n",
       "    }\n",
       "</style>\n",
       "<table border=\"1\" class=\"dataframe\">\n",
       "  <thead>\n",
       "    <tr style=\"text-align: right;\">\n",
       "      <th></th>\n",
       "      <th>HTAN_Participant_ID</th>\n",
       "      <th>HTAN_Center</th>\n",
       "      <th>Tissue_or_Organ_of_Origin</th>\n",
       "    </tr>\n",
       "  </thead>\n",
       "  <tbody>\n",
       "    <tr>\n",
       "      <th>0</th>\n",
       "      <td>HTA12_248</td>\n",
       "      <td>HTAN WUSTL</td>\n",
       "      <td>Overlapping lesion of breast</td>\n",
       "    </tr>\n",
       "    <tr>\n",
       "      <th>1</th>\n",
       "      <td>HTA12_250</td>\n",
       "      <td>HTAN WUSTL</td>\n",
       "      <td>Overlapping lesion of breast</td>\n",
       "    </tr>\n",
       "    <tr>\n",
       "      <th>2</th>\n",
       "      <td>HTA12_252</td>\n",
       "      <td>HTAN WUSTL</td>\n",
       "      <td>Upper-outer quadrant of breast</td>\n",
       "    </tr>\n",
       "    <tr>\n",
       "      <th>3</th>\n",
       "      <td>HTA9_1</td>\n",
       "      <td>HTAN OHSU</td>\n",
       "      <td>Breast NOS</td>\n",
       "    </tr>\n",
       "    <tr>\n",
       "      <th>4</th>\n",
       "      <td>HTA9_14</td>\n",
       "      <td>HTAN OHSU</td>\n",
       "      <td>Breast NOS</td>\n",
       "    </tr>\n",
       "    <tr>\n",
       "      <th>...</th>\n",
       "      <td>...</td>\n",
       "      <td>...</td>\n",
       "      <td>...</td>\n",
       "    </tr>\n",
       "    <tr>\n",
       "      <th>994</th>\n",
       "      <td>HTA12_249</td>\n",
       "      <td>HTAN WUSTL</td>\n",
       "      <td>Upper-outer quadrant of breast</td>\n",
       "    </tr>\n",
       "    <tr>\n",
       "      <th>995</th>\n",
       "      <td>HTA12_234</td>\n",
       "      <td>HTAN WUSTL</td>\n",
       "      <td>Upper-inner quadrant of breast</td>\n",
       "    </tr>\n",
       "    <tr>\n",
       "      <th>996</th>\n",
       "      <td>HTA12_235</td>\n",
       "      <td>HTAN WUSTL</td>\n",
       "      <td>Breast NOS</td>\n",
       "    </tr>\n",
       "    <tr>\n",
       "      <th>997</th>\n",
       "      <td>HTA12_244</td>\n",
       "      <td>HTAN WUSTL</td>\n",
       "      <td>Breast NOS</td>\n",
       "    </tr>\n",
       "    <tr>\n",
       "      <th>998</th>\n",
       "      <td>HTA12_247</td>\n",
       "      <td>HTAN WUSTL</td>\n",
       "      <td>Upper-outer quadrant of breast</td>\n",
       "    </tr>\n",
       "  </tbody>\n",
       "</table>\n",
       "<p>999 rows × 3 columns</p>\n",
       "</div>"
      ],
      "text/plain": [
       "    HTAN_Participant_ID HTAN_Center       Tissue_or_Organ_of_Origin\n",
       "0             HTA12_248  HTAN WUSTL    Overlapping lesion of breast\n",
       "1             HTA12_250  HTAN WUSTL    Overlapping lesion of breast\n",
       "2             HTA12_252  HTAN WUSTL  Upper-outer quadrant of breast\n",
       "3                HTA9_1   HTAN OHSU                      Breast NOS\n",
       "4               HTA9_14   HTAN OHSU                      Breast NOS\n",
       "..                  ...         ...                             ...\n",
       "994           HTA12_249  HTAN WUSTL  Upper-outer quadrant of breast\n",
       "995           HTA12_234  HTAN WUSTL  Upper-inner quadrant of breast\n",
       "996           HTA12_235  HTAN WUSTL                      Breast NOS\n",
       "997           HTA12_244  HTAN WUSTL                      Breast NOS\n",
       "998           HTA12_247  HTAN WUSTL  Upper-outer quadrant of breast\n",
       "\n",
       "[999 rows x 3 columns]"
      ]
     },
     "execution_count": 7,
     "metadata": {},
     "output_type": "execute_result"
    }
   ],
   "source": [
    "breast_cases = client.query(\"\"\"\n",
    "  SELECT HTAN_Participant_ID, HTAN_Center, Tissue_or_Organ_of_Origin\n",
    "  FROM `isb-cgc-bq.HTAN_versioned.clinical_tier1_diagnosis_r6`\n",
    "  WHERE Tissue_or_Organ_of_Origin IN (\n",
    "      SELECT Tissue_or_Organ_of_Origin\n",
    "      FROM `isb-cgc-bq.HTAN_versioned.tissueOrOrganOfOrigin_to_wholeOrgan_mapping_r4`\n",
    "      WHERE Whole_Organ = 'Breast'\n",
    "  )\n",
    "\"\"\").result().to_dataframe()\n",
    "\n",
    "breast_cases"
   ]
  },
  {
   "cell_type": "markdown",
   "id": "K01pS3d5Z2HX",
   "metadata": {
    "id": "K01pS3d5Z2HX"
   },
   "source": [
    "999 HTAN participants have tumors originating in the breast.\n",
    "\n",
    "To determine whether any of the 800 assay data files available in ISB-CGC are derived from these 999 patients of interest, we will utilize the HTAN ID Provenance table.\n",
    "\n",
    "For an in-depth introduction to the ID Provenance table, please see the notebook [HTAN_ID_Provenance_In_BQ.ipynb](https://github.com/isb-cgc/Community-Notebooks/blob/master/HTAN/Python%20Notebooks/HTAN_ID_Provenance_In_BQ.ipynb)"
   ]
  },
  {
   "cell_type": "markdown",
   "id": "APl8t_Cv8tsp",
   "metadata": {
    "id": "APl8t_Cv8tsp"
   },
   "source": [
    "\n",
    "Below, we select for Imaging Level 4 data files derived from the participants found in our query above."
   ]
  },
  {
   "cell_type": "code",
   "execution_count": 8,
   "id": "ZElcNePP8dZo",
   "metadata": {
    "colab": {
     "base_uri": "https://localhost:8080/",
     "height": 424
    },
    "id": "ZElcNePP8dZo",
    "outputId": "df2eecfb-447c-4a62-9a31-f00c59aa5a5d"
   },
   "outputs": [
    {
     "data": {
      "text/html": [
       "<div>\n",
       "<style scoped>\n",
       "    .dataframe tbody tr th:only-of-type {\n",
       "        vertical-align: middle;\n",
       "    }\n",
       "\n",
       "    .dataframe tbody tr th {\n",
       "        vertical-align: top;\n",
       "    }\n",
       "\n",
       "    .dataframe thead th {\n",
       "        text-align: right;\n",
       "    }\n",
       "</style>\n",
       "<table border=\"1\" class=\"dataframe\">\n",
       "  <thead>\n",
       "    <tr style=\"text-align: right;\">\n",
       "      <th></th>\n",
       "      <th>HTAN_Center</th>\n",
       "      <th>Filename</th>\n",
       "      <th>entityId</th>\n",
       "      <th>Component</th>\n",
       "    </tr>\n",
       "  </thead>\n",
       "  <tbody>\n",
       "    <tr>\n",
       "      <th>0</th>\n",
       "      <td>HTAN Duke</td>\n",
       "      <td>mibi_imaging_level_4/Single_cell_data.csv</td>\n",
       "      <td>syn52126197</td>\n",
       "      <td>ImagingLevel4</td>\n",
       "    </tr>\n",
       "    <tr>\n",
       "      <th>1</th>\n",
       "      <td>HTAN OHSU</td>\n",
       "      <td>imaging_level_4/BEMS342289_nucleiRingMask.csv</td>\n",
       "      <td>syn26535473</td>\n",
       "      <td>ImagingLevel4</td>\n",
       "    </tr>\n",
       "    <tr>\n",
       "      <th>2</th>\n",
       "      <td>HTAN OHSU</td>\n",
       "      <td>imaging_level_4/BEMS342290_nucleiRingMask.csv</td>\n",
       "      <td>syn26535440</td>\n",
       "      <td>ImagingLevel4</td>\n",
       "    </tr>\n",
       "    <tr>\n",
       "      <th>3</th>\n",
       "      <td>HTAN OHSU</td>\n",
       "      <td>imaging_level_4/BEMS342289_cytoRingMask.csv</td>\n",
       "      <td>syn26535436</td>\n",
       "      <td>ImagingLevel4</td>\n",
       "    </tr>\n",
       "    <tr>\n",
       "      <th>4</th>\n",
       "      <td>HTAN OHSU</td>\n",
       "      <td>imaging_level_4/BEMS342290_cytoRingMask.csv</td>\n",
       "      <td>syn26535439</td>\n",
       "      <td>ImagingLevel4</td>\n",
       "    </tr>\n",
       "    <tr>\n",
       "      <th>...</th>\n",
       "      <td>...</td>\n",
       "      <td>...</td>\n",
       "      <td>...</td>\n",
       "      <td>...</td>\n",
       "    </tr>\n",
       "    <tr>\n",
       "      <th>1328</th>\n",
       "      <td>HTAN TNP - TMA</td>\n",
       "      <td>phase1_imaging_level_4/TNP-TMA-2_scene88.csv</td>\n",
       "      <td>syn51525857</td>\n",
       "      <td>ImagingLevel4</td>\n",
       "    </tr>\n",
       "    <tr>\n",
       "      <th>1329</th>\n",
       "      <td>HTAN TNP - TMA</td>\n",
       "      <td>phase1_imaging_level_4/TNP-TMA-7_scene88.csv</td>\n",
       "      <td>syn51526011</td>\n",
       "      <td>ImagingLevel4</td>\n",
       "    </tr>\n",
       "    <tr>\n",
       "      <th>1330</th>\n",
       "      <td>HTAN TNP - TMA</td>\n",
       "      <td>phase1_imaging_level_4/TNP-TMA-8_scene88.csv</td>\n",
       "      <td>syn51526000</td>\n",
       "      <td>ImagingLevel4</td>\n",
       "    </tr>\n",
       "    <tr>\n",
       "      <th>1331</th>\n",
       "      <td>HTAN TNP - TMA</td>\n",
       "      <td>phase3_imaging_level_4/TNP-TMA-28_sceneH11.csv</td>\n",
       "      <td>syn51526167</td>\n",
       "      <td>ImagingLevel4</td>\n",
       "    </tr>\n",
       "    <tr>\n",
       "      <th>1332</th>\n",
       "      <td>HTAN TNP - TMA</td>\n",
       "      <td>phase3_imaging_level_4/TNP-TMA-29_sceneH11.csv</td>\n",
       "      <td>syn51526207</td>\n",
       "      <td>ImagingLevel4</td>\n",
       "    </tr>\n",
       "  </tbody>\n",
       "</table>\n",
       "<p>1333 rows × 4 columns</p>\n",
       "</div>"
      ],
      "text/plain": [
       "         HTAN_Center                                        Filename  \\\n",
       "0          HTAN Duke       mibi_imaging_level_4/Single_cell_data.csv   \n",
       "1          HTAN OHSU   imaging_level_4/BEMS342289_nucleiRingMask.csv   \n",
       "2          HTAN OHSU   imaging_level_4/BEMS342290_nucleiRingMask.csv   \n",
       "3          HTAN OHSU     imaging_level_4/BEMS342289_cytoRingMask.csv   \n",
       "4          HTAN OHSU     imaging_level_4/BEMS342290_cytoRingMask.csv   \n",
       "...              ...                                             ...   \n",
       "1328  HTAN TNP - TMA    phase1_imaging_level_4/TNP-TMA-2_scene88.csv   \n",
       "1329  HTAN TNP - TMA    phase1_imaging_level_4/TNP-TMA-7_scene88.csv   \n",
       "1330  HTAN TNP - TMA    phase1_imaging_level_4/TNP-TMA-8_scene88.csv   \n",
       "1331  HTAN TNP - TMA  phase3_imaging_level_4/TNP-TMA-28_sceneH11.csv   \n",
       "1332  HTAN TNP - TMA  phase3_imaging_level_4/TNP-TMA-29_sceneH11.csv   \n",
       "\n",
       "         entityId      Component  \n",
       "0     syn52126197  ImagingLevel4  \n",
       "1     syn26535473  ImagingLevel4  \n",
       "2     syn26535440  ImagingLevel4  \n",
       "3     syn26535436  ImagingLevel4  \n",
       "4     syn26535439  ImagingLevel4  \n",
       "...           ...            ...  \n",
       "1328  syn51525857  ImagingLevel4  \n",
       "1329  syn51526011  ImagingLevel4  \n",
       "1330  syn51526000  ImagingLevel4  \n",
       "1331  syn51526167  ImagingLevel4  \n",
       "1332  syn51526207  ImagingLevel4  \n",
       "\n",
       "[1333 rows x 4 columns]"
      ]
     },
     "execution_count": 8,
     "metadata": {},
     "output_type": "execute_result"
    }
   ],
   "source": [
    "breast_img = client.query(\"\"\"\n",
    "  SELECT DISTINCT HTAN_Center, Filename, entityId, Component\n",
    "  FROM `isb-cgc-bq.HTAN_versioned.id_provenance_r6`\n",
    "  WHERE HTAN_Participant_ID IN (\n",
    "      SELECT HTAN_Participant_ID\n",
    "      FROM `isb-cgc-bq.HTAN_versioned.clinical_tier1_diagnosis_r6`\n",
    "      WHERE Tissue_or_Organ_of_Origin IN (\n",
    "          SELECT Tissue_or_Organ_of_Origin\n",
    "          FROM `isb-cgc-bq.HTAN_versioned.tissueOrOrganOfOrigin_to_wholeOrgan_mapping_r4`\n",
    "          WHERE Whole_Organ = 'Breast'\n",
    "      )\n",
    "  )\n",
    "  AND Component = 'ImagingLevel4'\n",
    "\"\"\").result().to_dataframe()\n",
    "\n",
    "breast_img"
   ]
  },
  {
   "cell_type": "markdown",
   "id": "VJhXqOj68njI",
   "metadata": {
    "id": "VJhXqOj68njI"
   },
   "source": [
    "There are 1333 Imaging Level 4 data files derived from breast patients.\n",
    "\n",
    "We can run a similar query to select for Single Cell RNA sequencing Level 4 data files:"
   ]
  },
  {
   "cell_type": "code",
   "execution_count": 9,
   "id": "ddC74g20Z3pv",
   "metadata": {
    "colab": {
     "base_uri": "https://localhost:8080/",
     "height": 112
    },
    "id": "ddC74g20Z3pv",
    "outputId": "0c7b370a-3cae-4a92-f74a-bec6e1ae65d5"
   },
   "outputs": [
    {
     "data": {
      "text/html": [
       "<div>\n",
       "<style scoped>\n",
       "    .dataframe tbody tr th:only-of-type {\n",
       "        vertical-align: middle;\n",
       "    }\n",
       "\n",
       "    .dataframe tbody tr th {\n",
       "        vertical-align: top;\n",
       "    }\n",
       "\n",
       "    .dataframe thead th {\n",
       "        text-align: right;\n",
       "    }\n",
       "</style>\n",
       "<table border=\"1\" class=\"dataframe\">\n",
       "  <thead>\n",
       "    <tr style=\"text-align: right;\">\n",
       "      <th></th>\n",
       "      <th>HTAN_Center</th>\n",
       "      <th>Filename</th>\n",
       "      <th>entityId</th>\n",
       "      <th>Component</th>\n",
       "    </tr>\n",
       "  </thead>\n",
       "  <tbody>\n",
       "    <tr>\n",
       "      <th>0</th>\n",
       "      <td>HTAN HTAPP</td>\n",
       "      <td>single_cell_RNAseq_level_4_breast/MBC_sc_L4.tsv</td>\n",
       "      <td>syn26127156</td>\n",
       "      <td>ScRNA-seqLevel4</td>\n",
       "    </tr>\n",
       "    <tr>\n",
       "      <th>1</th>\n",
       "      <td>HTAN HTAPP</td>\n",
       "      <td>single_cell_RNAseq_level_4_breast/MBC_sn_L4.tsv</td>\n",
       "      <td>syn26127157</td>\n",
       "      <td>ScRNA-seqLevel4</td>\n",
       "    </tr>\n",
       "    <tr>\n",
       "      <th>2</th>\n",
       "      <td>HTAN WUSTL</td>\n",
       "      <td>snscRNA-Seq_level_4_atac_tumor/HT029B1-S1PC.rds</td>\n",
       "      <td>syn53214956</td>\n",
       "      <td>ScRNA-seqLevel4</td>\n",
       "    </tr>\n",
       "    <tr>\n",
       "      <th>3</th>\n",
       "      <td>HTAN WUSTL</td>\n",
       "      <td>scsnRNA-Seq_level_4_BRCA23/HT029B1-XBn1-1.rds</td>\n",
       "      <td>syn53215073</td>\n",
       "      <td>ScRNA-seqLevel4</td>\n",
       "    </tr>\n",
       "    <tr>\n",
       "      <th>4</th>\n",
       "      <td>HTAN WUSTL</td>\n",
       "      <td>snscRNA-Seq_level_4_atac_tumor/HT035B1-S1PA.rds</td>\n",
       "      <td>syn53214808</td>\n",
       "      <td>ScRNA-seqLevel4</td>\n",
       "    </tr>\n",
       "    <tr>\n",
       "      <th>...</th>\n",
       "      <td>...</td>\n",
       "      <td>...</td>\n",
       "      <td>...</td>\n",
       "      <td>...</td>\n",
       "    </tr>\n",
       "    <tr>\n",
       "      <th>88</th>\n",
       "      <td>HTAN WUSTL</td>\n",
       "      <td>snRNA-Seq_level_4-spatial_clone/snRNA_L4__HT33...</td>\n",
       "      <td>syn61465439</td>\n",
       "      <td>ScRNA-seqLevel4</td>\n",
       "    </tr>\n",
       "    <tr>\n",
       "      <th>89</th>\n",
       "      <td>HTAN WUSTL</td>\n",
       "      <td>snRNA-Seq_level_4-spatial_clone/snRNA_L4__HT42...</td>\n",
       "      <td>syn61465396</td>\n",
       "      <td>ScRNA-seqLevel4</td>\n",
       "    </tr>\n",
       "    <tr>\n",
       "      <th>90</th>\n",
       "      <td>HTAN WUSTL</td>\n",
       "      <td>snRNA-Seq_level_4-spatial_clone/snRNA_L4__HT48...</td>\n",
       "      <td>syn61465400</td>\n",
       "      <td>ScRNA-seqLevel4</td>\n",
       "    </tr>\n",
       "    <tr>\n",
       "      <th>91</th>\n",
       "      <td>HTAN WUSTL</td>\n",
       "      <td>snRNA-Seq_level_4-spatial_clone/snRNA_L4__HT24...</td>\n",
       "      <td>syn61465401</td>\n",
       "      <td>ScRNA-seqLevel4</td>\n",
       "    </tr>\n",
       "    <tr>\n",
       "      <th>92</th>\n",
       "      <td>HTAN WUSTL</td>\n",
       "      <td>snRNA-Seq_level_4-spatial_clone/snRNA_L4__HT39...</td>\n",
       "      <td>syn61465425</td>\n",
       "      <td>ScRNA-seqLevel4</td>\n",
       "    </tr>\n",
       "  </tbody>\n",
       "</table>\n",
       "<p>93 rows × 4 columns</p>\n",
       "</div>"
      ],
      "text/plain": [
       "   HTAN_Center                                           Filename  \\\n",
       "0   HTAN HTAPP    single_cell_RNAseq_level_4_breast/MBC_sc_L4.tsv   \n",
       "1   HTAN HTAPP    single_cell_RNAseq_level_4_breast/MBC_sn_L4.tsv   \n",
       "2   HTAN WUSTL    snscRNA-Seq_level_4_atac_tumor/HT029B1-S1PC.rds   \n",
       "3   HTAN WUSTL      scsnRNA-Seq_level_4_BRCA23/HT029B1-XBn1-1.rds   \n",
       "4   HTAN WUSTL    snscRNA-Seq_level_4_atac_tumor/HT035B1-S1PA.rds   \n",
       "..         ...                                                ...   \n",
       "88  HTAN WUSTL  snRNA-Seq_level_4-spatial_clone/snRNA_L4__HT33...   \n",
       "89  HTAN WUSTL  snRNA-Seq_level_4-spatial_clone/snRNA_L4__HT42...   \n",
       "90  HTAN WUSTL  snRNA-Seq_level_4-spatial_clone/snRNA_L4__HT48...   \n",
       "91  HTAN WUSTL  snRNA-Seq_level_4-spatial_clone/snRNA_L4__HT24...   \n",
       "92  HTAN WUSTL  snRNA-Seq_level_4-spatial_clone/snRNA_L4__HT39...   \n",
       "\n",
       "       entityId        Component  \n",
       "0   syn26127156  ScRNA-seqLevel4  \n",
       "1   syn26127157  ScRNA-seqLevel4  \n",
       "2   syn53214956  ScRNA-seqLevel4  \n",
       "3   syn53215073  ScRNA-seqLevel4  \n",
       "4   syn53214808  ScRNA-seqLevel4  \n",
       "..          ...              ...  \n",
       "88  syn61465439  ScRNA-seqLevel4  \n",
       "89  syn61465396  ScRNA-seqLevel4  \n",
       "90  syn61465400  ScRNA-seqLevel4  \n",
       "91  syn61465401  ScRNA-seqLevel4  \n",
       "92  syn61465425  ScRNA-seqLevel4  \n",
       "\n",
       "[93 rows x 4 columns]"
      ]
     },
     "execution_count": 9,
     "metadata": {},
     "output_type": "execute_result"
    }
   ],
   "source": [
    "breast_scrnaseq = client.query(\"\"\"\n",
    "  SELECT DISTINCT HTAN_Center, Filename, entityId, Component\n",
    "  FROM `isb-cgc-bq.HTAN_versioned.id_provenance_r6`\n",
    "  WHERE HTAN_Participant_ID IN (\n",
    "      SELECT HTAN_Participant_ID\n",
    "      FROM `isb-cgc-bq.HTAN_versioned.clinical_tier1_diagnosis_r6`\n",
    "      WHERE Tissue_or_Organ_of_Origin IN (\n",
    "          SELECT Tissue_or_Organ_of_Origin\n",
    "          FROM `isb-cgc-bq.HTAN_versioned.tissueOrOrganOfOrigin_to_wholeOrgan_mapping_r4`\n",
    "          WHERE Whole_Organ = 'Breast'\n",
    "      )\n",
    "  )\n",
    "  AND Component = 'ScRNA-seqLevel4'\n",
    "\"\"\").result().to_dataframe()\n",
    "\n",
    "breast_scrnaseq"
   ]
  },
  {
   "cell_type": "markdown",
   "id": "UBQmVO-haXXQ",
   "metadata": {
    "id": "UBQmVO-haXXQ"
   },
   "source": [
    "There are 93 single cell RNA-seq Level 4 data files that have been released on the HTAN data portal.\n",
    "\n",
    "Single-cell Level 4 data from HTAPP is available on ISB-CGC in the table `isb-cgc-bq.HTAN_versioned.scRNAseq_HTAPP_level4_r3`. This table contains single cell data across seven cancer types: breast, colon, lung, glioma, ovarian, neuroblastoma, and sarcoma.  \n",
    "\n",
    "To select for only the two breast files, we will utilize the `Source_entityId` column in the HTAPP table, and join on `entityId` in our above result."
   ]
  },
  {
   "cell_type": "code",
   "execution_count": 10,
   "id": "p-4Z0HFUaXvP",
   "metadata": {
    "colab": {
     "base_uri": "https://localhost:8080/",
     "height": 617
    },
    "id": "p-4Z0HFUaXvP",
    "outputId": "e5e73c78-8bb4-4b16-99c7-9f6371ed0a27"
   },
   "outputs": [
    {
     "data": {
      "text/html": [
       "<div>\n",
       "<style scoped>\n",
       "    .dataframe tbody tr th:only-of-type {\n",
       "        vertical-align: middle;\n",
       "    }\n",
       "\n",
       "    .dataframe tbody tr th {\n",
       "        vertical-align: top;\n",
       "    }\n",
       "\n",
       "    .dataframe thead th {\n",
       "        text-align: right;\n",
       "    }\n",
       "</style>\n",
       "<table border=\"1\" class=\"dataframe\">\n",
       "  <thead>\n",
       "    <tr style=\"text-align: right;\">\n",
       "      <th></th>\n",
       "      <th>NAME</th>\n",
       "      <th>X</th>\n",
       "      <th>Y</th>\n",
       "      <th>Cell_Subset</th>\n",
       "      <th>Biospecimen</th>\n",
       "      <th>Source_filename</th>\n",
       "      <th>Source_entityId</th>\n",
       "      <th>HTAN_Center</th>\n",
       "      <th>CellType</th>\n",
       "      <th>HTAPP_ID</th>\n",
       "      <th>Top_Level_Cell_Subset</th>\n",
       "      <th>batchID</th>\n",
       "    </tr>\n",
       "  </thead>\n",
       "  <tbody>\n",
       "    <tr>\n",
       "      <th>0</th>\n",
       "      <td>AGCCAGCAGGCTTCCG-1</td>\n",
       "      <td>4.192876</td>\n",
       "      <td>10.292455</td>\n",
       "      <td>Monocyte</td>\n",
       "      <td>HTA1_983_7659101</td>\n",
       "      <td>MBC_sc_L4.tsv</td>\n",
       "      <td>syn26127156</td>\n",
       "      <td>HTAN HTAPP</td>\n",
       "      <td>None</td>\n",
       "      <td>HTAPP-983-SMP-7659_fresh_channel1</td>\n",
       "      <td>None</td>\n",
       "      <td>None</td>\n",
       "    </tr>\n",
       "    <tr>\n",
       "      <th>1</th>\n",
       "      <td>GCGCGATCATAAAGGT-1</td>\n",
       "      <td>-0.310580</td>\n",
       "      <td>2.113862</td>\n",
       "      <td>Chondrocyte</td>\n",
       "      <td>HTA1_382_1441101</td>\n",
       "      <td>MBC_sc_L4.tsv</td>\n",
       "      <td>syn26127156</td>\n",
       "      <td>HTAN HTAPP</td>\n",
       "      <td>None</td>\n",
       "      <td>HTAPP-382-SMP-1441_fresh_channel1</td>\n",
       "      <td>None</td>\n",
       "      <td>None</td>\n",
       "    </tr>\n",
       "    <tr>\n",
       "      <th>2</th>\n",
       "      <td>GTCGTAACATCCGTGG-1</td>\n",
       "      <td>-0.382505</td>\n",
       "      <td>2.100729</td>\n",
       "      <td>Chondrocyte</td>\n",
       "      <td>HTA1_382_1441101</td>\n",
       "      <td>MBC_sc_L4.tsv</td>\n",
       "      <td>syn26127156</td>\n",
       "      <td>HTAN HTAPP</td>\n",
       "      <td>None</td>\n",
       "      <td>HTAPP-382-SMP-1441_fresh_channel1</td>\n",
       "      <td>None</td>\n",
       "      <td>None</td>\n",
       "    </tr>\n",
       "    <tr>\n",
       "      <th>3</th>\n",
       "      <td>TGACGGCAGATCTGAA-1</td>\n",
       "      <td>-0.312379</td>\n",
       "      <td>2.275506</td>\n",
       "      <td>Chondrocyte</td>\n",
       "      <td>HTA1_382_1441101</td>\n",
       "      <td>MBC_sc_L4.tsv</td>\n",
       "      <td>syn26127156</td>\n",
       "      <td>HTAN HTAPP</td>\n",
       "      <td>None</td>\n",
       "      <td>HTAPP-382-SMP-1441_fresh_channel1</td>\n",
       "      <td>None</td>\n",
       "      <td>None</td>\n",
       "    </tr>\n",
       "    <tr>\n",
       "      <th>4</th>\n",
       "      <td>GTAGGCCGTGTTTGGT-1</td>\n",
       "      <td>-0.644821</td>\n",
       "      <td>2.104925</td>\n",
       "      <td>Chondrocyte</td>\n",
       "      <td>HTA1_382_1441101</td>\n",
       "      <td>MBC_sc_L4.tsv</td>\n",
       "      <td>syn26127156</td>\n",
       "      <td>HTAN HTAPP</td>\n",
       "      <td>None</td>\n",
       "      <td>HTAPP-382-SMP-1441_fresh_channel1</td>\n",
       "      <td>None</td>\n",
       "      <td>None</td>\n",
       "    </tr>\n",
       "    <tr>\n",
       "      <th>...</th>\n",
       "      <td>...</td>\n",
       "      <td>...</td>\n",
       "      <td>...</td>\n",
       "      <td>...</td>\n",
       "      <td>...</td>\n",
       "      <td>...</td>\n",
       "      <td>...</td>\n",
       "      <td>...</td>\n",
       "      <td>...</td>\n",
       "      <td>...</td>\n",
       "      <td>...</td>\n",
       "      <td>...</td>\n",
       "    </tr>\n",
       "    <tr>\n",
       "      <th>552060</th>\n",
       "      <td>CCGGTGATCTACTGAG-1</td>\n",
       "      <td>13.330817</td>\n",
       "      <td>4.213646</td>\n",
       "      <td>Endothelial_vascular</td>\n",
       "      <td>HTA1_997_7789601</td>\n",
       "      <td>MBC_sn_L4.tsv</td>\n",
       "      <td>syn26127157</td>\n",
       "      <td>HTAN HTAPP</td>\n",
       "      <td>None</td>\n",
       "      <td>HTAPP-997-SMP-7789_TST_channel2</td>\n",
       "      <td>None</td>\n",
       "      <td>None</td>\n",
       "    </tr>\n",
       "    <tr>\n",
       "      <th>552061</th>\n",
       "      <td>TGGTTAGGTGCCTACG-1</td>\n",
       "      <td>11.232491</td>\n",
       "      <td>4.193148</td>\n",
       "      <td>Endothelial_vascular</td>\n",
       "      <td>HTA1_997_7789601</td>\n",
       "      <td>MBC_sn_L4.tsv</td>\n",
       "      <td>syn26127157</td>\n",
       "      <td>HTAN HTAPP</td>\n",
       "      <td>None</td>\n",
       "      <td>HTAPP-997-SMP-7789_TST_channel2</td>\n",
       "      <td>None</td>\n",
       "      <td>None</td>\n",
       "    </tr>\n",
       "    <tr>\n",
       "      <th>552062</th>\n",
       "      <td>TCATACTTCCCGTTGT-1</td>\n",
       "      <td>13.404366</td>\n",
       "      <td>4.072702</td>\n",
       "      <td>Endothelial_vascular</td>\n",
       "      <td>HTA1_997_7789601</td>\n",
       "      <td>MBC_sn_L4.tsv</td>\n",
       "      <td>syn26127157</td>\n",
       "      <td>HTAN HTAPP</td>\n",
       "      <td>None</td>\n",
       "      <td>HTAPP-997-SMP-7789_TST_channel2</td>\n",
       "      <td>None</td>\n",
       "      <td>None</td>\n",
       "    </tr>\n",
       "    <tr>\n",
       "      <th>552063</th>\n",
       "      <td>TTTATGCCACTCAGAT-1</td>\n",
       "      <td>13.564521</td>\n",
       "      <td>3.161808</td>\n",
       "      <td>Endothelial_vascular</td>\n",
       "      <td>HTA1_997_7789601</td>\n",
       "      <td>MBC_sn_L4.tsv</td>\n",
       "      <td>syn26127157</td>\n",
       "      <td>HTAN HTAPP</td>\n",
       "      <td>None</td>\n",
       "      <td>HTAPP-997-SMP-7789_TST_channel2</td>\n",
       "      <td>None</td>\n",
       "      <td>None</td>\n",
       "    </tr>\n",
       "    <tr>\n",
       "      <th>552064</th>\n",
       "      <td>GGGCGTTAGGTTACCT-1</td>\n",
       "      <td>11.890174</td>\n",
       "      <td>3.938890</td>\n",
       "      <td>Endothelial_vascular</td>\n",
       "      <td>HTA1_997_7789601</td>\n",
       "      <td>MBC_sn_L4.tsv</td>\n",
       "      <td>syn26127157</td>\n",
       "      <td>HTAN HTAPP</td>\n",
       "      <td>None</td>\n",
       "      <td>HTAPP-997-SMP-7789_TST_channel2</td>\n",
       "      <td>None</td>\n",
       "      <td>None</td>\n",
       "    </tr>\n",
       "  </tbody>\n",
       "</table>\n",
       "<p>552065 rows × 12 columns</p>\n",
       "</div>"
      ],
      "text/plain": [
       "                      NAME          X          Y           Cell_Subset  \\\n",
       "0       AGCCAGCAGGCTTCCG-1   4.192876  10.292455              Monocyte   \n",
       "1       GCGCGATCATAAAGGT-1  -0.310580   2.113862           Chondrocyte   \n",
       "2       GTCGTAACATCCGTGG-1  -0.382505   2.100729           Chondrocyte   \n",
       "3       TGACGGCAGATCTGAA-1  -0.312379   2.275506           Chondrocyte   \n",
       "4       GTAGGCCGTGTTTGGT-1  -0.644821   2.104925           Chondrocyte   \n",
       "...                    ...        ...        ...                   ...   \n",
       "552060  CCGGTGATCTACTGAG-1  13.330817   4.213646  Endothelial_vascular   \n",
       "552061  TGGTTAGGTGCCTACG-1  11.232491   4.193148  Endothelial_vascular   \n",
       "552062  TCATACTTCCCGTTGT-1  13.404366   4.072702  Endothelial_vascular   \n",
       "552063  TTTATGCCACTCAGAT-1  13.564521   3.161808  Endothelial_vascular   \n",
       "552064  GGGCGTTAGGTTACCT-1  11.890174   3.938890  Endothelial_vascular   \n",
       "\n",
       "             Biospecimen Source_filename Source_entityId HTAN_Center CellType  \\\n",
       "0       HTA1_983_7659101   MBC_sc_L4.tsv     syn26127156  HTAN HTAPP     None   \n",
       "1       HTA1_382_1441101   MBC_sc_L4.tsv     syn26127156  HTAN HTAPP     None   \n",
       "2       HTA1_382_1441101   MBC_sc_L4.tsv     syn26127156  HTAN HTAPP     None   \n",
       "3       HTA1_382_1441101   MBC_sc_L4.tsv     syn26127156  HTAN HTAPP     None   \n",
       "4       HTA1_382_1441101   MBC_sc_L4.tsv     syn26127156  HTAN HTAPP     None   \n",
       "...                  ...             ...             ...         ...      ...   \n",
       "552060  HTA1_997_7789601   MBC_sn_L4.tsv     syn26127157  HTAN HTAPP     None   \n",
       "552061  HTA1_997_7789601   MBC_sn_L4.tsv     syn26127157  HTAN HTAPP     None   \n",
       "552062  HTA1_997_7789601   MBC_sn_L4.tsv     syn26127157  HTAN HTAPP     None   \n",
       "552063  HTA1_997_7789601   MBC_sn_L4.tsv     syn26127157  HTAN HTAPP     None   \n",
       "552064  HTA1_997_7789601   MBC_sn_L4.tsv     syn26127157  HTAN HTAPP     None   \n",
       "\n",
       "                                 HTAPP_ID Top_Level_Cell_Subset batchID  \n",
       "0       HTAPP-983-SMP-7659_fresh_channel1                  None    None  \n",
       "1       HTAPP-382-SMP-1441_fresh_channel1                  None    None  \n",
       "2       HTAPP-382-SMP-1441_fresh_channel1                  None    None  \n",
       "3       HTAPP-382-SMP-1441_fresh_channel1                  None    None  \n",
       "4       HTAPP-382-SMP-1441_fresh_channel1                  None    None  \n",
       "...                                   ...                   ...     ...  \n",
       "552060    HTAPP-997-SMP-7789_TST_channel2                  None    None  \n",
       "552061    HTAPP-997-SMP-7789_TST_channel2                  None    None  \n",
       "552062    HTAPP-997-SMP-7789_TST_channel2                  None    None  \n",
       "552063    HTAPP-997-SMP-7789_TST_channel2                  None    None  \n",
       "552064    HTAPP-997-SMP-7789_TST_channel2                  None    None  \n",
       "\n",
       "[552065 rows x 12 columns]"
      ]
     },
     "execution_count": 10,
     "metadata": {},
     "output_type": "execute_result"
    }
   ],
   "source": [
    "breast_scrna_l4 = client.query(\"\"\"\n",
    "  SELECT * FROM `isb-cgc-bq.HTAN_versioned.scRNAseq_HTAPP_level4_r3`\n",
    "  WHERE Source_entityId IN (\n",
    "      SELECT DISTINCT entityId\n",
    "      FROM `isb-cgc-bq.HTAN_versioned.id_provenance_r6`\n",
    "      WHERE HTAN_Participant_ID IN (\n",
    "          SELECT HTAN_Participant_ID\n",
    "          FROM `isb-cgc-bq.HTAN_versioned.clinical_tier1_diagnosis_r6`\n",
    "          WHERE Tissue_or_Organ_of_Origin IN (\n",
    "                  SELECT Tissue_or_Organ_of_Origin\n",
    "                  FROM `isb-cgc-bq.HTAN_versioned.tissueOrOrganOfOrigin_to_wholeOrgan_mapping_r4`\n",
    "                  WHERE Whole_Organ = 'Breast'\n",
    "              )\n",
    "      )\n",
    "  AND Component = 'ScRNA-seqLevel4'\n",
    "  )\n",
    "\"\"\").result().to_dataframe()\n",
    "\n",
    "breast_scrna_l4"
   ]
  },
  {
   "cell_type": "markdown",
   "id": "VDkdRBGe5KCG",
   "metadata": {
    "id": "VDkdRBGe5KCG"
   },
   "source": [
    "Our final query result contains single cell RNA-seq data for breast samples only.\n"
   ]
  },
  {
   "cell_type": "markdown",
   "id": "JMpMs-EcNBET",
   "metadata": {
    "id": "JMpMs-EcNBET"
   },
   "source": [
    "# 5. Relevant Citations and Links\n",
    "\n",
    "[HTAN Data Portal](https://humantumoratlas.org/)\n",
    "\n",
    "[HTAN: The Missing Manual](https://docs.humantumoratlas.org/)"
   ]
  }
 ],
 "metadata": {
  "colab": {
   "provenance": []
  },
  "kernelspec": {
   "display_name": "Python 3 (ipykernel)",
   "language": "python",
   "name": "python3"
  },
  "language_info": {
   "codemirror_mode": {
    "name": "ipython",
    "version": 3
   },
   "file_extension": ".py",
   "mimetype": "text/x-python",
   "name": "python",
   "nbconvert_exporter": "python",
   "pygments_lexer": "ipython3",
   "version": "3.10.16"
  }
 },
 "nbformat": 4,
 "nbformat_minor": 5
}
