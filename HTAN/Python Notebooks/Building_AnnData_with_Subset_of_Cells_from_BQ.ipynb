{
 "cells": [
  {
   "cell_type": "markdown",
   "metadata": {
    "id": "R7MOzfSOPBgL"
   },
   "source": [
    "# Accessing HTAN scRNA-seq with BQ and building Scanpy AnnData objects"
   ]
  },
  {
   "cell_type": "markdown",
   "metadata": {
    "id": "pDrXgG7gOQBF"
   },
   "source": [
    "```\n",
    "Title:   Accessing HTAN scRNA-seq with BQ and building Scanpy AnnData objects.\n",
    "Author:  David L Gibbs (david.gibbs@systemsbiology.org)\n",
    "Created: 2022-3-29\n",
    "Updated: 2025-6-9\n",
    "Purpose: Building AnnData objects\n",
    "```"
   ]
  },
  {
   "cell_type": "markdown",
   "metadata": {
    "id": "xwV-2ey4Rmfm"
   },
   "source": [
    "[![Open in Colab](https://colab.research.google.com/assets/colab-badge.svg)](https://colab.research.google.com/github/isb-cgc/Community-Notebooks/blob/master/HTAN/Python%20Notebooks/Building_AnnData_with_Subset_of_Cells_from_BQ.ipynb)"
   ]
  },
  {
   "cell_type": "markdown",
   "metadata": {
    "id": "XWw9WmKxGfHr"
   },
   "source": [
    "# 1. Introduction & Overview\n",
    "[HTAN](https://humantumoratlas.org/) is a National Cancer Institute (NCI)-funded Cancer MoonshotSM initiative to construct 3-dimensional atlases of the dynamic cellular, morphological, and molecular features of human cancers as they evolve from precancerous lesions to advanced disease ( [Cell April 2020](https://www.sciencedirect.com/science/article/pii/S0092867420303469) )\n",
    "\n",
    "This notebook shows how cells of a particular type can be pulled from BigQuery tables and used to construct an [AnnData](https://anndata.readthedocs.io/en/latest/#:~:text=anndata%20is%20a%20Python%20package,operations%2C%20and%20a%20PyTorch%20interface.) object.\n",
    "\n",
    "### 1.1 Goal\n",
    "\n",
    "The goal of this notebook is to show users how public HTAN single cell data can be queried and assembled for further processing.\n",
    "\n",
    "### 1.2 Inputs, Outputs, & Data\n",
    "\n",
    "Inputs for this analysis include HTAN single cell RNA sequencing data (Level 4, gene summarized).\n",
    "\n",
    "Details regarding the data used:\n",
    "\n",
    "\n",
    "Data was derived in April 2023 from an H5AD file (Synapse ID: syn51297089) submitted by the MSK HTAN Center. This data set contains both raw gene expression counts and log2(X+1) transformed, median-normalized expression from 62 pooled samples (N=147,137 cells). Data was generated using the 10X Genomics and was processed using SEQC, where reads were mapped to HG38, followed by cell filtering for mitochondrial fraction > 20%, empty droplet filtering (scCB2), and doublet removal (doubletdetection). Genes that were expressed in more than 10 cells were retained. Batch correction with fastMNN was performed for subsequent analysis, including UMAP visualization with scanpy and Phenograph clustering. More information available at: https://linkinghub.elsevier.com/retrieve/pii/S1535610821004979\n",
    "\n",
    "### 1.3 Notes\n",
    "The queries and results in this notebook correspond to ISB-CGC HTAN Release 6.0. However, if no modification to the dataset occurred (additions or removals) since a previous release, the existing version remains valid. As a result, some tables retain names ending in `r3`, indicating they have not been updated since Release 3.0, but are still current for Release 6.0.\n",
    "\n",
    "To choose a different release, edit the BigQuery table names in this notebook by replacing the string `r3` with a selected numbered release, e.g., `r2`. To get results for the most current data release, replace:\n",
    "- `r3` with `current`\n",
    "- `HTAN_versioned` with `HTAN`"
   ]
  },
  {
   "cell_type": "markdown",
   "metadata": {
    "id": "7DKL8eZ7GfHt"
   },
   "source": [
    "# 2. Environment & Module Setup\n",
    "\n",
    "Before getting started, keep in mind that there are some differences in running this notebook depending on if you are using Google Colab or running locally. We've included notes such as the following to skip or run specific lines of code depending on your setup."
   ]
  },
  {
   "cell_type": "code",
   "execution_count": null,
   "metadata": {
    "id": "h1TzgFCWHgjO"
   },
   "outputs": [],
   "source": [
    "# If using google colab include the following install; otherwise skip if you have scanpy installed:\n",
    "!pip install scanpy"
   ]
  },
  {
   "cell_type": "code",
   "execution_count": 1,
   "metadata": {
    "id": "H3NECZ68OlR-"
   },
   "outputs": [],
   "source": [
    "import numpy as np\n",
    "from scipy import stats\n",
    "from scipy import sparse\n",
    "import scanpy as sc"
   ]
  },
  {
   "cell_type": "markdown",
   "metadata": {
    "id": "rssn8rLmGfH0"
   },
   "source": [
    "# 3. Google Authentication\n",
    "\n",
    "Running the BigQuery cells in this notebook requires a Google Cloud Project, instructions for creating a project can be found in the [Google Documentation](https://cloud.google.com/resource-manager/docs/creating-managing-projects#console). The instance needs to be authorized to bill the project for queries. For more information on getting started in the cloud see [Quick Start Guide to ISB-CGC](https://nbviewer.org/github/isb-cgc/Community-Notebooks/blob/master/Notebooks/Quick_Start_Guide_to_ISB_CGC.ipynb) and alternative authentication methods can be found in the [Google Documentation](https://cloud.google.com/resource-manager/docs/creating-managing-projects#console)."
   ]
  },
  {
   "cell_type": "markdown",
   "metadata": {},
   "source": [
    "## 3.1 Authenticating with Google Credentials\n",
    "\n",
    "#### Option 1. Running in Google Colab\n",
    "\n",
    "If you are using Google Colab, run the code block below to authenticate"
   ]
  },
  {
   "cell_type": "code",
   "execution_count": null,
   "metadata": {
    "id": "9gDzoZc6GfH2"
   },
   "outputs": [],
   "source": [
    "from google.colab import auth\n",
    "auth.authenticate_user()"
   ]
  },
  {
   "cell_type": "markdown",
   "metadata": {},
   "source": [
    "#### Option 2. Running on local machine\n",
    "\n",
    "Alternatively, if you're running the notebook locally, take the following steps to authenticate.\n",
    "\n",
    "1.   Run `gcloud auth application-default login` on your local machine\n",
    "2.   Run the command below replacing `<path to key>` with the path to your credentials file"
   ]
  },
  {
   "cell_type": "code",
   "execution_count": null,
   "metadata": {},
   "outputs": [],
   "source": [
    "# env GOOGLE_APPLICATION_CREDENTIALS='<path to key>'"
   ]
  },
  {
   "cell_type": "markdown",
   "metadata": {},
   "source": [
    "## 3.2 Initializing the Google BigQuery client"
   ]
  },
  {
   "cell_type": "code",
   "execution_count": 2,
   "metadata": {
    "id": "6AiGLpeFGfH3"
   },
   "outputs": [],
   "source": [
    "# Import the Google BigQuery client\n",
    "from google.cloud import bigquery\n",
    "\n",
    "# Set the Google project that will be billed for this notebook's computations\n",
    "# Replace <my-project> with your BigQuery Project ID\n",
    "google_project = '<my-project>'\n",
    "\n",
    "# Create a client to access the data within BigQuery\n",
    "client = bigquery.Client(google_project)"
   ]
  },
  {
   "cell_type": "markdown",
   "metadata": {
    "id": "p1fu0l1N8maJ"
   },
   "source": [
    "In this notebook, we select a subset of cells from BigQuery,\n",
    "and then construct an AnnData object, which lets us continue\n",
    "working with the Scanpy library."
   ]
  },
  {
   "cell_type": "markdown",
   "metadata": {
    "id": "TJSsoOuVO6zP"
   },
   "source": [
    "# 4. Building AnnDatas from BigQuery\n",
    "\n",
    "If the data is transfered to big query in a way that preserves the AnnData structures, with X, obs, and var tables, then it should be easy to reconstruct the data structure and use Scanpy functions."
   ]
  },
  {
   "cell_type": "markdown",
   "metadata": {
    "id": "xjcFG2apivIR"
   },
   "source": [
    "An AnnData requires three parts, the gene counts X, the gene index var, and the cell barcodes obs."
   ]
  },
  {
   "cell_type": "code",
   "execution_count": 3,
   "metadata": {
    "id": "3mbpBf1GOkxR"
   },
   "outputs": [],
   "source": [
    "# first to get the matrix of gene counts\n",
    "# here we will use the MSK scRNAseq table from HTAN in isb-cgc-bq\n",
    "\n",
    "X = client.query(\"\"\"\n",
    "\n",
    "  SELECT\n",
    "    iObs,\n",
    "    iVar,\n",
    "    X_value\n",
    "  FROM\n",
    "  `isb-cgc-bq.HTAN_versioned.scRNAseq_MSK_SCLC_combined_samples_r3`\n",
    "  WHERE\n",
    "    iObs in (\n",
    "    SELECT\n",
    "      distinct(iObs) from\n",
    "  `isb-cgc-bq.HTAN_versioned.scRNAseq_MSK_SCLC_combined_samples_r3`\n",
    "      WHERE\n",
    "      Cell_Type = 'B cell' AND\n",
    "      sex = 'female'\n",
    "          )\n",
    "\n",
    "    \"\"\").result().to_dataframe()"
   ]
  },
  {
   "cell_type": "code",
   "execution_count": 4,
   "metadata": {
    "colab": {
     "base_uri": "https://localhost:8080/",
     "height": 423
    },
    "id": "auUD_kIVIThS",
    "outputId": "48b86999-2152-4102-9d9a-9caf26c91739"
   },
   "outputs": [
    {
     "data": {
      "text/html": [
       "<div>\n",
       "<style scoped>\n",
       "    .dataframe tbody tr th:only-of-type {\n",
       "        vertical-align: middle;\n",
       "    }\n",
       "\n",
       "    .dataframe tbody tr th {\n",
       "        vertical-align: top;\n",
       "    }\n",
       "\n",
       "    .dataframe thead th {\n",
       "        text-align: right;\n",
       "    }\n",
       "</style>\n",
       "<table border=\"1\" class=\"dataframe\">\n",
       "  <thead>\n",
       "    <tr style=\"text-align: right;\">\n",
       "      <th></th>\n",
       "      <th>iObs</th>\n",
       "      <th>iVar</th>\n",
       "      <th>X_value</th>\n",
       "    </tr>\n",
       "  </thead>\n",
       "  <tbody>\n",
       "    <tr>\n",
       "      <th>0</th>\n",
       "      <td>85058</td>\n",
       "      <td>11806</td>\n",
       "      <td>1.612721</td>\n",
       "    </tr>\n",
       "    <tr>\n",
       "      <th>1</th>\n",
       "      <td>88328</td>\n",
       "      <td>11806</td>\n",
       "      <td>2.059661</td>\n",
       "    </tr>\n",
       "    <tr>\n",
       "      <th>2</th>\n",
       "      <td>89034</td>\n",
       "      <td>11806</td>\n",
       "      <td>2.209265</td>\n",
       "    </tr>\n",
       "    <tr>\n",
       "      <th>3</th>\n",
       "      <td>90054</td>\n",
       "      <td>11806</td>\n",
       "      <td>1.046204</td>\n",
       "    </tr>\n",
       "    <tr>\n",
       "      <th>4</th>\n",
       "      <td>91479</td>\n",
       "      <td>11806</td>\n",
       "      <td>1.141736</td>\n",
       "    </tr>\n",
       "    <tr>\n",
       "      <th>...</th>\n",
       "      <td>...</td>\n",
       "      <td>...</td>\n",
       "      <td>...</td>\n",
       "    </tr>\n",
       "    <tr>\n",
       "      <th>2540556</th>\n",
       "      <td>147130</td>\n",
       "      <td>7711</td>\n",
       "      <td>3.188867</td>\n",
       "    </tr>\n",
       "    <tr>\n",
       "      <th>2540557</th>\n",
       "      <td>147130</td>\n",
       "      <td>7712</td>\n",
       "      <td>2.432361</td>\n",
       "    </tr>\n",
       "    <tr>\n",
       "      <th>2540558</th>\n",
       "      <td>147130</td>\n",
       "      <td>7726</td>\n",
       "      <td>1.010686</td>\n",
       "    </tr>\n",
       "    <tr>\n",
       "      <th>2540559</th>\n",
       "      <td>147130</td>\n",
       "      <td>7768</td>\n",
       "      <td>1.428382</td>\n",
       "    </tr>\n",
       "    <tr>\n",
       "      <th>2540560</th>\n",
       "      <td>147130</td>\n",
       "      <td>7792</td>\n",
       "      <td>0.745520</td>\n",
       "    </tr>\n",
       "  </tbody>\n",
       "</table>\n",
       "<p>2540561 rows × 3 columns</p>\n",
       "</div>"
      ],
      "text/plain": [
       "           iObs   iVar   X_value\n",
       "0         85058  11806  1.612721\n",
       "1         88328  11806  2.059661\n",
       "2         89034  11806  2.209265\n",
       "3         90054  11806  1.046204\n",
       "4         91479  11806  1.141736\n",
       "...         ...    ...       ...\n",
       "2540556  147130   7711  3.188867\n",
       "2540557  147130   7712  2.432361\n",
       "2540558  147130   7726  1.010686\n",
       "2540559  147130   7768  1.428382\n",
       "2540560  147130   7792  0.745520\n",
       "\n",
       "[2540561 rows x 3 columns]"
      ]
     },
     "execution_count": 4,
     "metadata": {},
     "output_type": "execute_result"
    }
   ],
   "source": [
    "X"
   ]
  },
  {
   "cell_type": "code",
   "execution_count": 5,
   "metadata": {
    "id": "aNTvTNAlTZWM"
   },
   "outputs": [],
   "source": [
    "# now we're going to get the observations for each cell\n",
    "\n",
    "obs = client.query(\"\"\"\n",
    "\n",
    "SELECT\n",
    "  iObs,\n",
    "  cell_type,\n",
    "  donor_id,\n",
    "  clusters,\n",
    "  treatment,\n",
    "  self_reported_ethnicity,\n",
    "  histo,\n",
    "  development_stage\n",
    "FROM\n",
    "  `isb-cgc-bq.HTAN_versioned.scRNAseq_MSK_SCLC_combined_samples_r3`\n",
    "WHERE\n",
    "      Cell_Type = 'B cell' AND\n",
    "      sex = 'female'\n",
    "GROUP BY\n",
    "  1,2,3,4,5,6,7,8\n",
    "\n",
    "    \"\"\").result().to_dataframe()"
   ]
  },
  {
   "cell_type": "code",
   "execution_count": 6,
   "metadata": {
    "colab": {
     "base_uri": "https://localhost:8080/",
     "height": 423
    },
    "id": "ZtxyXqBiJ-uT",
    "outputId": "b96faa49-f785-4fa6-99b7-046c0f5a9149"
   },
   "outputs": [
    {
     "data": {
      "text/html": [
       "<div>\n",
       "<style scoped>\n",
       "    .dataframe tbody tr th:only-of-type {\n",
       "        vertical-align: middle;\n",
       "    }\n",
       "\n",
       "    .dataframe tbody tr th {\n",
       "        vertical-align: top;\n",
       "    }\n",
       "\n",
       "    .dataframe thead th {\n",
       "        text-align: right;\n",
       "    }\n",
       "</style>\n",
       "<table border=\"1\" class=\"dataframe\">\n",
       "  <thead>\n",
       "    <tr style=\"text-align: right;\">\n",
       "      <th></th>\n",
       "      <th>iObs</th>\n",
       "      <th>cell_type</th>\n",
       "      <th>donor_id</th>\n",
       "      <th>clusters</th>\n",
       "      <th>treatment</th>\n",
       "      <th>self_reported_ethnicity</th>\n",
       "      <th>histo</th>\n",
       "      <th>development_stage</th>\n",
       "    </tr>\n",
       "  </thead>\n",
       "  <tbody>\n",
       "    <tr>\n",
       "      <th>0</th>\n",
       "      <td>66975</td>\n",
       "      <td>B cell</td>\n",
       "      <td>RU1038</td>\n",
       "      <td>4</td>\n",
       "      <td>Naive</td>\n",
       "      <td>European</td>\n",
       "      <td>LUAD</td>\n",
       "      <td>84-year-old human stage</td>\n",
       "    </tr>\n",
       "    <tr>\n",
       "      <th>1</th>\n",
       "      <td>101723</td>\n",
       "      <td>B cell</td>\n",
       "      <td>RU1038</td>\n",
       "      <td>4</td>\n",
       "      <td>Naive</td>\n",
       "      <td>European</td>\n",
       "      <td>LUAD</td>\n",
       "      <td>84-year-old human stage</td>\n",
       "    </tr>\n",
       "    <tr>\n",
       "      <th>2</th>\n",
       "      <td>131092</td>\n",
       "      <td>B cell</td>\n",
       "      <td>RU1038</td>\n",
       "      <td>4</td>\n",
       "      <td>Naive</td>\n",
       "      <td>European</td>\n",
       "      <td>LUAD</td>\n",
       "      <td>84-year-old human stage</td>\n",
       "    </tr>\n",
       "    <tr>\n",
       "      <th>3</th>\n",
       "      <td>91393</td>\n",
       "      <td>B cell</td>\n",
       "      <td>RU1057</td>\n",
       "      <td>4</td>\n",
       "      <td>Naive</td>\n",
       "      <td>European</td>\n",
       "      <td>LUAD</td>\n",
       "      <td>67-year-old human stage</td>\n",
       "    </tr>\n",
       "    <tr>\n",
       "      <th>4</th>\n",
       "      <td>35167</td>\n",
       "      <td>B cell</td>\n",
       "      <td>RU1137</td>\n",
       "      <td>4</td>\n",
       "      <td>Naive</td>\n",
       "      <td>European</td>\n",
       "      <td>LUAD</td>\n",
       "      <td>65-year-old human stage</td>\n",
       "    </tr>\n",
       "    <tr>\n",
       "      <th>...</th>\n",
       "      <td>...</td>\n",
       "      <td>...</td>\n",
       "      <td>...</td>\n",
       "      <td>...</td>\n",
       "      <td>...</td>\n",
       "      <td>...</td>\n",
       "      <td>...</td>\n",
       "      <td>...</td>\n",
       "    </tr>\n",
       "    <tr>\n",
       "      <th>2393</th>\n",
       "      <td>12959</td>\n",
       "      <td>B cell</td>\n",
       "      <td>RU676</td>\n",
       "      <td>4</td>\n",
       "      <td>Naive</td>\n",
       "      <td>European</td>\n",
       "      <td>LUAD</td>\n",
       "      <td>65-year-old human stage</td>\n",
       "    </tr>\n",
       "    <tr>\n",
       "      <th>2394</th>\n",
       "      <td>35854</td>\n",
       "      <td>B cell</td>\n",
       "      <td>RU676</td>\n",
       "      <td>4</td>\n",
       "      <td>Naive</td>\n",
       "      <td>European</td>\n",
       "      <td>LUAD</td>\n",
       "      <td>65-year-old human stage</td>\n",
       "    </tr>\n",
       "    <tr>\n",
       "      <th>2395</th>\n",
       "      <td>51187</td>\n",
       "      <td>B cell</td>\n",
       "      <td>RU676</td>\n",
       "      <td>4</td>\n",
       "      <td>Naive</td>\n",
       "      <td>European</td>\n",
       "      <td>LUAD</td>\n",
       "      <td>65-year-old human stage</td>\n",
       "    </tr>\n",
       "    <tr>\n",
       "      <th>2396</th>\n",
       "      <td>62343</td>\n",
       "      <td>B cell</td>\n",
       "      <td>RU676</td>\n",
       "      <td>4</td>\n",
       "      <td>Naive</td>\n",
       "      <td>European</td>\n",
       "      <td>LUAD</td>\n",
       "      <td>65-year-old human stage</td>\n",
       "    </tr>\n",
       "    <tr>\n",
       "      <th>2397</th>\n",
       "      <td>114699</td>\n",
       "      <td>B cell</td>\n",
       "      <td>RU676</td>\n",
       "      <td>4</td>\n",
       "      <td>Naive</td>\n",
       "      <td>European</td>\n",
       "      <td>LUAD</td>\n",
       "      <td>65-year-old human stage</td>\n",
       "    </tr>\n",
       "  </tbody>\n",
       "</table>\n",
       "<p>2398 rows × 8 columns</p>\n",
       "</div>"
      ],
      "text/plain": [
       "        iObs cell_type donor_id clusters treatment self_reported_ethnicity  \\\n",
       "0      66975    B cell   RU1038        4     Naive                European   \n",
       "1     101723    B cell   RU1038        4     Naive                European   \n",
       "2     131092    B cell   RU1038        4     Naive                European   \n",
       "3      91393    B cell   RU1057        4     Naive                European   \n",
       "4      35167    B cell   RU1137        4     Naive                European   \n",
       "...      ...       ...      ...      ...       ...                     ...   \n",
       "2393   12959    B cell    RU676        4     Naive                European   \n",
       "2394   35854    B cell    RU676        4     Naive                European   \n",
       "2395   51187    B cell    RU676        4     Naive                European   \n",
       "2396   62343    B cell    RU676        4     Naive                European   \n",
       "2397  114699    B cell    RU676        4     Naive                European   \n",
       "\n",
       "     histo        development_stage  \n",
       "0     LUAD  84-year-old human stage  \n",
       "1     LUAD  84-year-old human stage  \n",
       "2     LUAD  84-year-old human stage  \n",
       "3     LUAD  67-year-old human stage  \n",
       "4     LUAD  65-year-old human stage  \n",
       "...    ...                      ...  \n",
       "2393  LUAD  65-year-old human stage  \n",
       "2394  LUAD  65-year-old human stage  \n",
       "2395  LUAD  65-year-old human stage  \n",
       "2396  LUAD  65-year-old human stage  \n",
       "2397  LUAD  65-year-old human stage  \n",
       "\n",
       "[2398 rows x 8 columns]"
      ]
     },
     "execution_count": 6,
     "metadata": {},
     "output_type": "execute_result"
    }
   ],
   "source": [
    "obs"
   ]
  },
  {
   "cell_type": "code",
   "execution_count": 7,
   "metadata": {
    "id": "s7OrHUjrTYpD"
   },
   "outputs": [],
   "source": [
    "# first to get the matrix of gene counts\n",
    "\n",
    "var = client.query(\"\"\"\n",
    "\n",
    "  SELECT\n",
    "    iVar,\n",
    "    feature_name as GeneSymbol\n",
    "  FROM\n",
    "  `isb-cgc-bq.HTAN_versioned.scRNAseq_MSK_SCLC_combined_samples_r3`\n",
    "  WHERE\n",
    "      Cell_Type = 'B cell' AND\n",
    "      sex = 'female'\n",
    "  GROUP BY 1,2\n",
    "    \"\"\").result().to_dataframe()"
   ]
  },
  {
   "cell_type": "code",
   "execution_count": 8,
   "metadata": {
    "colab": {
     "base_uri": "https://localhost:8080/",
     "height": 423
    },
    "id": "yrQAzfyOw9BR",
    "outputId": "5f81b948-6c6a-4177-cd4d-9ead8ac25cb3"
   },
   "outputs": [
    {
     "data": {
      "text/html": [
       "<div>\n",
       "<style scoped>\n",
       "    .dataframe tbody tr th:only-of-type {\n",
       "        vertical-align: middle;\n",
       "    }\n",
       "\n",
       "    .dataframe tbody tr th {\n",
       "        vertical-align: top;\n",
       "    }\n",
       "\n",
       "    .dataframe thead th {\n",
       "        text-align: right;\n",
       "    }\n",
       "</style>\n",
       "<table border=\"1\" class=\"dataframe\">\n",
       "  <thead>\n",
       "    <tr style=\"text-align: right;\">\n",
       "      <th></th>\n",
       "      <th>iVar</th>\n",
       "      <th>GeneSymbol</th>\n",
       "    </tr>\n",
       "  </thead>\n",
       "  <tbody>\n",
       "    <tr>\n",
       "      <th>0</th>\n",
       "      <td>10154</td>\n",
       "      <td>LUC7L3</td>\n",
       "    </tr>\n",
       "    <tr>\n",
       "      <th>1</th>\n",
       "      <td>4301</td>\n",
       "      <td>CTD-2358C21.5</td>\n",
       "    </tr>\n",
       "    <tr>\n",
       "      <th>2</th>\n",
       "      <td>21574</td>\n",
       "      <td>XKRX</td>\n",
       "    </tr>\n",
       "    <tr>\n",
       "      <th>3</th>\n",
       "      <td>16328</td>\n",
       "      <td>RP11-568N6.1</td>\n",
       "    </tr>\n",
       "    <tr>\n",
       "      <th>4</th>\n",
       "      <td>16886</td>\n",
       "      <td>LINC02550</td>\n",
       "    </tr>\n",
       "    <tr>\n",
       "      <th>...</th>\n",
       "      <td>...</td>\n",
       "      <td>...</td>\n",
       "    </tr>\n",
       "    <tr>\n",
       "      <th>16213</th>\n",
       "      <td>2846</td>\n",
       "      <td>CD34</td>\n",
       "    </tr>\n",
       "    <tr>\n",
       "      <th>16214</th>\n",
       "      <td>18498</td>\n",
       "      <td>SMARCA4</td>\n",
       "    </tr>\n",
       "    <tr>\n",
       "      <th>16215</th>\n",
       "      <td>21007</td>\n",
       "      <td>UBR7</td>\n",
       "    </tr>\n",
       "    <tr>\n",
       "      <th>16216</th>\n",
       "      <td>6403</td>\n",
       "      <td>FLNB</td>\n",
       "    </tr>\n",
       "    <tr>\n",
       "      <th>16217</th>\n",
       "      <td>6448</td>\n",
       "      <td>FNIP2</td>\n",
       "    </tr>\n",
       "  </tbody>\n",
       "</table>\n",
       "<p>16218 rows × 2 columns</p>\n",
       "</div>"
      ],
      "text/plain": [
       "        iVar     GeneSymbol\n",
       "0      10154         LUC7L3\n",
       "1       4301  CTD-2358C21.5\n",
       "2      21574           XKRX\n",
       "3      16328   RP11-568N6.1\n",
       "4      16886      LINC02550\n",
       "...      ...            ...\n",
       "16213   2846           CD34\n",
       "16214  18498        SMARCA4\n",
       "16215  21007           UBR7\n",
       "16216   6403           FLNB\n",
       "16217   6448          FNIP2\n",
       "\n",
       "[16218 rows x 2 columns]"
      ]
     },
     "execution_count": 8,
     "metadata": {},
     "output_type": "execute_result"
    }
   ],
   "source": [
    "var"
   ]
  },
  {
   "cell_type": "markdown",
   "metadata": {
    "id": "Ba-iSXpwi3a_"
   },
   "source": [
    "We need to do a little bit of table index shifting."
   ]
  },
  {
   "cell_type": "code",
   "execution_count": 9,
   "metadata": {
    "id": "lLfrWPijiBqQ"
   },
   "outputs": [],
   "source": [
    "# fix the obs index by reindexing\n",
    "# this maps the X table to the obs table\n",
    "iObsDict = dict(zip(obs.iObs, obs.index))\n",
    "X.iObs = [iObsDict[a] for a in X.iObs]"
   ]
  },
  {
   "cell_type": "code",
   "execution_count": 10,
   "metadata": {
    "id": "4-x6Fkv1KBJc"
   },
   "outputs": [],
   "source": [
    "# the var index also needed a fix by reindexing\n",
    "# this maps the X table to the var table\n",
    "iVarDict = dict(zip(var.iVar, var.index))\n",
    "X.iVar = [iVarDict[a] for a in X.iVar]\n",
    "# and scanpy indexes things by gene symbol\n",
    "var.index = var.GeneSymbol"
   ]
  },
  {
   "cell_type": "code",
   "execution_count": 11,
   "metadata": {
    "colab": {
     "base_uri": "https://localhost:8080/",
     "height": 423
    },
    "id": "8-oeafJpH-8Z",
    "outputId": "24e3fd8e-9c07-4282-a558-3662754ee83b"
   },
   "outputs": [
    {
     "data": {
      "text/html": [
       "<div>\n",
       "<style scoped>\n",
       "    .dataframe tbody tr th:only-of-type {\n",
       "        vertical-align: middle;\n",
       "    }\n",
       "\n",
       "    .dataframe tbody tr th {\n",
       "        vertical-align: top;\n",
       "    }\n",
       "\n",
       "    .dataframe thead th {\n",
       "        text-align: right;\n",
       "    }\n",
       "</style>\n",
       "<table border=\"1\" class=\"dataframe\">\n",
       "  <thead>\n",
       "    <tr style=\"text-align: right;\">\n",
       "      <th></th>\n",
       "      <th>iObs</th>\n",
       "      <th>iVar</th>\n",
       "      <th>X_value</th>\n",
       "    </tr>\n",
       "  </thead>\n",
       "  <tbody>\n",
       "    <tr>\n",
       "      <th>0</th>\n",
       "      <td>173</td>\n",
       "      <td>16030</td>\n",
       "      <td>1.612721</td>\n",
       "    </tr>\n",
       "    <tr>\n",
       "      <th>1</th>\n",
       "      <td>683</td>\n",
       "      <td>16030</td>\n",
       "      <td>2.059661</td>\n",
       "    </tr>\n",
       "    <tr>\n",
       "      <th>2</th>\n",
       "      <td>1493</td>\n",
       "      <td>16030</td>\n",
       "      <td>2.209265</td>\n",
       "    </tr>\n",
       "    <tr>\n",
       "      <th>3</th>\n",
       "      <td>330</td>\n",
       "      <td>16030</td>\n",
       "      <td>1.046204</td>\n",
       "    </tr>\n",
       "    <tr>\n",
       "      <th>4</th>\n",
       "      <td>2063</td>\n",
       "      <td>16030</td>\n",
       "      <td>1.141736</td>\n",
       "    </tr>\n",
       "    <tr>\n",
       "      <th>...</th>\n",
       "      <td>...</td>\n",
       "      <td>...</td>\n",
       "      <td>...</td>\n",
       "    </tr>\n",
       "    <tr>\n",
       "      <th>2540556</th>\n",
       "      <td>899</td>\n",
       "      <td>9949</td>\n",
       "      <td>3.188867</td>\n",
       "    </tr>\n",
       "    <tr>\n",
       "      <th>2540557</th>\n",
       "      <td>899</td>\n",
       "      <td>16197</td>\n",
       "      <td>2.432361</td>\n",
       "    </tr>\n",
       "    <tr>\n",
       "      <th>2540558</th>\n",
       "      <td>899</td>\n",
       "      <td>2025</td>\n",
       "      <td>1.010686</td>\n",
       "    </tr>\n",
       "    <tr>\n",
       "      <th>2540559</th>\n",
       "      <td>899</td>\n",
       "      <td>6011</td>\n",
       "      <td>1.428382</td>\n",
       "    </tr>\n",
       "    <tr>\n",
       "      <th>2540560</th>\n",
       "      <td>899</td>\n",
       "      <td>10580</td>\n",
       "      <td>0.745520</td>\n",
       "    </tr>\n",
       "  </tbody>\n",
       "</table>\n",
       "<p>2540561 rows × 3 columns</p>\n",
       "</div>"
      ],
      "text/plain": [
       "         iObs   iVar   X_value\n",
       "0         173  16030  1.612721\n",
       "1         683  16030  2.059661\n",
       "2        1493  16030  2.209265\n",
       "3         330  16030  1.046204\n",
       "4        2063  16030  1.141736\n",
       "...       ...    ...       ...\n",
       "2540556   899   9949  3.188867\n",
       "2540557   899  16197  2.432361\n",
       "2540558   899   2025  1.010686\n",
       "2540559   899   6011  1.428382\n",
       "2540560   899  10580  0.745520\n",
       "\n",
       "[2540561 rows x 3 columns]"
      ]
     },
     "execution_count": 11,
     "metadata": {},
     "output_type": "execute_result"
    }
   ],
   "source": [
    "# now with indices that map to the obs and var tables.\n",
    "X"
   ]
  },
  {
   "cell_type": "code",
   "execution_count": 18,
   "metadata": {
    "colab": {
     "base_uri": "https://localhost:8080/"
    },
    "id": "knJQYO8vfnnb",
    "outputId": "6c93992b-07ca-449b-b5ba-52a36abee1fc"
   },
   "outputs": [
    {
     "data": {
      "text/plain": [
       "<Compressed Sparse Row sparse matrix of dtype 'float64'\n",
       "\twith 2540561 stored elements and shape (2398, 16218)>"
      ]
     },
     "execution_count": 18,
     "metadata": {},
     "output_type": "execute_result"
    }
   ],
   "source": [
    "# convert the pandas table to a sparse matrix\n",
    "sparseX2 = sparse.csr_matrix( (X.X_value, (X.iObs, X.iVar)) )  #, shape=(max(X.iObs), max(X.iVar))\n",
    "sparseX2"
   ]
  },
  {
   "cell_type": "code",
   "execution_count": 22,
   "metadata": {
    "colab": {
     "base_uri": "https://localhost:8080/"
    },
    "id": "5eZdbLHjkCUm",
    "outputId": "d82359a8-f563-46ea-db5b-4d4e304a878a"
   },
   "outputs": [],
   "source": [
    "# now we can build the AnnData\n",
    "obs.index = obs.index.astype(str)\n",
    "var.index = var.index.astype(str)\n",
    "adata = sc.AnnData(X=sparseX2, obs=obs, var=var)\n",
    "adata.var_names_make_unique()"
   ]
  },
  {
   "cell_type": "code",
   "execution_count": 24,
   "metadata": {
    "colab": {
     "base_uri": "https://localhost:8080/"
    },
    "id": "imwJ-D_EGgkL",
    "outputId": "9777d5b8-59c8-4e94-f9ef-2d47888789ec"
   },
   "outputs": [
    {
     "data": {
      "text/plain": [
       "AnnData object with n_obs × n_vars = 2398 × 16218\n",
       "    obs: 'iObs', 'cell_type', 'donor_id', 'clusters', 'treatment', 'self_reported_ethnicity', 'histo', 'development_stage'\n",
       "    var: 'iVar', 'GeneSymbol'"
      ]
     },
     "execution_count": 24,
     "metadata": {},
     "output_type": "execute_result"
    }
   ],
   "source": [
    "adata"
   ]
  },
  {
   "cell_type": "code",
   "execution_count": 25,
   "metadata": {
    "id": "1j9LEJSqoGXN"
   },
   "outputs": [],
   "source": [
    "# select some genes by expression level\n",
    "geneCountsSum = (np.array(adata.X.sum(axis=0))[0,:])\n",
    "highExprGenes = adata.var.iloc[ np.where(geneCountsSum > 7000) ].index"
   ]
  },
  {
   "cell_type": "code",
   "execution_count": 26,
   "metadata": {
    "colab": {
     "base_uri": "https://localhost:8080/"
    },
    "id": "rvOUmQVOLbwf",
    "outputId": "c6143c78-9477-4b62-819d-4d17e013437f"
   },
   "outputs": [
    {
     "data": {
      "text/plain": [
       "Index(['EIF1', 'B2M', 'HSP90AB1', 'FTL', 'BTG1', 'CD74', 'ACTB', 'HLA-DRA',\n",
       "       'PTMA', 'NACA', 'HLA-B', 'HLA-DPB1', 'HLA-A', 'RACK1', 'FTH1',\n",
       "       'HLA-DPA1', 'TPT1', 'H3-3B', 'CXCR4', 'HSP90AA1', 'EEF1A1', 'EEF1B2',\n",
       "       'HLA-C'],\n",
       "      dtype='object', name='GeneSymbol')"
      ]
     },
     "execution_count": 26,
     "metadata": {},
     "output_type": "execute_result"
    }
   ],
   "source": [
    "highExprGenes"
   ]
  },
  {
   "cell_type": "code",
   "execution_count": 28,
   "metadata": {
    "colab": {
     "base_uri": "https://localhost:8080/",
     "height": 408
    },
    "id": "jxOqiKKblRUm",
    "outputId": "e8a0d22c-37f9-4e00-fd6b-3a201ae6a386"
   },
   "outputs": [
    {
     "data": {
      "image/png": "[encoded data removed]",
      "text/plain": [
       "<Figure size 1081x250 with 5 Axes>"
      ]
     },
     "metadata": {},
     "output_type": "display_data"
    }
   ],
   "source": [
    "# now we can use the plot functions of scanpy\n",
    "sc.pp.pca(adata, n_comps=50)\n",
    "sc.pl.dotplot(adata, highExprGenes, 'treatment', dendrogram=True)"
   ]
  },
  {
   "cell_type": "code",
   "execution_count": 29,
   "metadata": {
    "colab": {
     "base_uri": "https://localhost:8080/"
    },
    "id": "Bv390PGimBC7",
    "outputId": "5f85aec0-a4bc-49aa-aa56-c4a3b65cb311"
   },
   "outputs": [
    {
     "data": {
      "text/plain": [
       "treatment\n",
       "Naive                                                                   1784\n",
       "Platinum Doublet                                                         453\n",
       "Platinum Doublet,Immunotherapy                                           142\n",
       "Platinum Doublet,Immunotherapy,TMZ,Other chemotherapy,VEGF inhibitor      19\n",
       "Name: count, dtype: int64"
      ]
     },
     "execution_count": 29,
     "metadata": {},
     "output_type": "execute_result"
    }
   ],
   "source": [
    "adata.obs.treatment.value_counts()"
   ]
  },
  {
   "cell_type": "code",
   "execution_count": 32,
   "metadata": {
    "colab": {
     "base_uri": "https://localhost:8080/",
     "height": 1000
    },
    "id": "PNZUGbehtoRz",
    "outputId": "7b1e9d2b-b88b-4941-e070-ad4a345674f8"
   },
   "outputs": [
    {
     "data": {
      "image/png": "[encoded data removed]",
      "text/plain": [
       "<Figure size 804.6x480 with 1 Axes>"
      ]
     },
     "metadata": {},
     "output_type": "display_data"
    }
   ],
   "source": [
    "sc.pl.violin(adata, ['FTL'], groupby='treatment', rotation=90)"
   ]
  },
  {
   "cell_type": "markdown",
   "metadata": {
    "id": "eQZrvVxZ69cl"
   },
   "source": [
    "We have pulled a subset of cells outof BQ and constructed an AnnData object."
   ]
  },
  {
   "cell_type": "markdown",
   "metadata": {
    "id": "5nipnrkZGfIE"
   },
   "source": [
    "# 5. Relevant Citations and Links"
   ]
  },
  {
   "cell_type": "markdown",
   "metadata": {
    "id": "R6NO1BSMGfIF",
    "jp-MarkdownHeadingCollapsed": true,
    "tags": []
   },
   "source": [
    "\n",
    "[HTAN Portal](https://humantumoratlas.org/)   \n",
    "\n",
    "\n",
    "[Overview paper, Cell, April 2020](https://www.sciencedirect.com/science/article/pii/S0092867420303469)\n",
    "\n",
    "[Data Used](https://linkinghub.elsevier.com/retrieve/pii/S1535610821004979)\n"
   ]
  }
 ],
 "metadata": {
  "colab": {
   "provenance": []
  },
  "kernelspec": {
   "display_name": "Python 3 (ipykernel)",
   "language": "python",
   "name": "python3"
  },
  "language_info": {
   "codemirror_mode": {
    "name": "ipython",
    "version": 3
   },
   "file_extension": ".py",
   "mimetype": "text/x-python",
   "name": "python",
   "nbconvert_exporter": "python",
   "pygments_lexer": "ipython3",
   "version": "3.10.16"
  }
 },
 "nbformat": 4,
 "nbformat_minor": 4
}
