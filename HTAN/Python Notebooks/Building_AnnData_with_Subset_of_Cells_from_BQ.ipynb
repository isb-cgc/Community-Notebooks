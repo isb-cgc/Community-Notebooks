{
  "cells": [
    {
      "cell_type": "markdown",
      "metadata": {
        "id": "R7MOzfSOPBgL"
      },
      "source": [
        "# Accessing HTAN scRNA-seq with BQ and building Scanpy AnnData objects"
      ]
    },
    {
      "cell_type": "markdown",
      "metadata": {
        "id": "pDrXgG7gOQBF"
      },
      "source": [
        "```\n",
        "Title:   Accessing HTAN scRNA-seq with BQ and building Scanpy AnnData objects.\n",
        "Author:  David L Gibbs (david.gibbs@systemsbiology.org)\n",
        "Created: 2022-3-29\n",
        "Purpose: Building AnnData objects\n",
        "URL:     \n",
        "Notes:   \n",
        "```"
      ]
    },
    {
      "cell_type": "markdown",
      "source": [
        "[![Open in Colab](https://colab.research.google.com/assets/colab-badge.svg)](https://colab.research.google.com/github/isb-cgc/Community-Notebooks/blob/master/HTAN/Python%20Notebooks/Building_AnnData_with_Subset_of_Cells_from_BQ.ipynb)"
      ],
      "metadata": {
        "id": "xwV-2ey4Rmfm"
      }
    },
    {
      "cell_type": "markdown",
      "metadata": {
        "id": "XWw9WmKxGfHr"
      },
      "source": [
        "# 1. Introduction & Overview\n",
        "[HTAN](https://humantumoratlas.org/) is a National Cancer Institute (NCI)-funded Cancer MoonshotSM initiative to construct 3-dimensional atlases of the dynamic cellular, morphological, and molecular features of human cancers as they evolve from precancerous lesions to advanced disease ( [Cell April 2020](https://www.sciencedirect.com/science/article/pii/S0092867420303469) )\n",
        "\n",
        "This notebook shows how cells of a particular type can be pulled from BigQuery tables and used to construct an [AnnData](https://anndata.readthedocs.io/en/latest/#:~:text=anndata%20is%20a%20Python%20package,operations%2C%20and%20a%20PyTorch%20interface.) object.\n",
        "\n",
        "### 1.1 Goal\n",
        "\n",
        "The goal of this notebook is to show users how public HTAN single cell data can be queried and assembled for further processing.\n",
        "\n",
        "### 1.2 Inputs, Outputs, & Data\n",
        "\n",
        "Inputs for this analysis include HTAN single cell RNA sequencing data (Level 4, gene summarized).\n",
        "\n"
      ]
    },
    {
      "cell_type": "markdown",
      "metadata": {
        "id": "7DKL8eZ7GfHt"
      },
      "source": [
        "# 2. Environment & Module Setup\n",
        "\n",
        "Before getting started, keep in mind that there are some differences in running this notebook depending on if you are using Google Colab or running locally. We've included notes such as the following to skip or run specific lines of code depending on your setup."
      ]
    },
    {
      "cell_type": "code",
      "source": [
        "# If using google colab include the following install; otherwise skip if you have scanpy installed:\n",
        "!pip install scanpy"
      ],
      "metadata": {
        "id": "h1TzgFCWHgjO"
      },
      "execution_count": null,
      "outputs": []
    },
    {
      "cell_type": "code",
      "execution_count": null,
      "metadata": {
        "id": "H3NECZ68OlR-"
      },
      "outputs": [],
      "source": [
        "# GCP Libraries\n",
        "from google.cloud import bigquery\n",
        "from google.colab import auth\n",
        "\n",
        "# Data Analytics\n",
        "import numpy as np\n",
        "from scipy import stats\n",
        "from scipy import sparse\n",
        "import scanpy as sc"
      ]
    },
    {
      "cell_type": "code",
      "execution_count": null,
      "metadata": {
        "id": "bu5_CxEb72l4"
      },
      "outputs": [],
      "source": [
        "# Set figure parameters\n",
        "import matplotlib.pyplot as plt\n",
        "plt.rcParams['figure.figsize'] = [8, 8]"
      ]
    },
    {
      "cell_type": "markdown",
      "metadata": {
        "id": "rssn8rLmGfH0"
      },
      "source": [
        "# 3. Google Authentication\n",
        "\n",
        "Running the BigQuery cells in this notebook requires a Google Cloud Project, instructions for creating a project can be found in the [Google Documentation](https://cloud.google.com/resource-manager/docs/creating-managing-projects#console). The instance needs to be authorized to bill the project for queries. For more information on getting started in the cloud see [Quick Start Guide to ISB-CGC](https://nbviewer.org/github/isb-cgc/Community-Notebooks/blob/master/Notebooks/Quick_Start_Guide_to_ISB_CGC.ipynb) and alternative authentication methods can be found in the [Google Documentation](https://cloud.google.com/resource-manager/docs/creating-managing-projects#console)."
      ]
    },
    {
      "cell_type": "code",
      "execution_count": null,
      "metadata": {
        "id": "9gDzoZc6GfH2"
      },
      "outputs": [],
      "source": [
        "# if you're using Google Colab, authenticate to gcloud with the following:\n",
        "auth.authenticate_user()\n",
        "#Otherwise, ignore the section above.\n",
        "\n",
        "# alternatively, to use the gcloud SDK, please use:\n",
        "#!gcloud auth application-default login"
      ]
    },
    {
      "cell_type": "code",
      "execution_count": null,
      "metadata": {
        "id": "6AiGLpeFGfH3"
      },
      "outputs": [],
      "source": [
        "## Setup ##\n",
        "\n",
        "# set the google project that will be billed for this notebook's computations\n",
        "google_project = 'your-project'\n",
        "\n",
        "# Create a client to access the data within BigQuery\n",
        "client = bigquery.Client(google_project)"
      ]
    },
    {
      "cell_type": "markdown",
      "metadata": {
        "id": "p1fu0l1N8maJ"
      },
      "source": [
        "In this notebook, we select a subset of cells from BigQuery,\n",
        "and then construct an AnnData object, which lets us continue\n",
        "working with the Scanpy library."
      ]
    },
    {
      "cell_type": "markdown",
      "metadata": {
        "id": "TJSsoOuVO6zP"
      },
      "source": [
        "# 4. Building AnnDatas from BigQuery\n",
        "\n",
        "If the data is transfered to big query in a way that preserves the AnnData structures, with X, obs, and var tables, then it should be easy to reconstruct the data structure and use Scanpy functions."
      ]
    },
    {
      "cell_type": "markdown",
      "metadata": {
        "id": "xjcFG2apivIR"
      },
      "source": [
        "An AnnData requires three parts, the gene counts X, the gene index var, and the cell barcodes obs."
      ]
    },
    {
      "cell_type": "code",
      "execution_count": null,
      "metadata": {
        "id": "3mbpBf1GOkxR"
      },
      "outputs": [],
      "source": [
        "# first to get the matrix of gene counts\n",
        "# here we will use the MSK scRNAseq table from HTAN in isb-cgc-bq\n",
        "\n",
        "X = client.query(\"\"\"\n",
        "\n",
        "  SELECT\n",
        "    iObs,\n",
        "    iVar,\n",
        "    X_value\n",
        "  FROM\n",
        "  `isb-cgc-bq.HTAN.scRNAseq_MSK_SCLC_combined_samples_current`\n",
        "  WHERE\n",
        "    iObs in (\n",
        "    SELECT\n",
        "      distinct(iObs) from\n",
        "  `isb-cgc-bq.HTAN.scRNAseq_MSK_SCLC_combined_samples_current`\n",
        "      WHERE\n",
        "      Cell_Type = 'B cell' AND\n",
        "      sex = 'female'\n",
        "          )\n",
        "\n",
        "    \"\"\").result().to_dataframe()"
      ]
    },
    {
      "cell_type": "code",
      "execution_count": null,
      "metadata": {
        "id": "aNTvTNAlTZWM"
      },
      "outputs": [],
      "source": [
        "# now we're going to get the observations for each cell\n",
        "\n",
        "obs = client.query(\"\"\"\n",
        "\n",
        "SELECT\n",
        "  iObs,\n",
        "  cell_type,\n",
        "  donor_id,\n",
        "  clusters,\n",
        "  treatment,\n",
        "  self_reported_ethnicity,\n",
        "  histo,\n",
        "  development_stage\n",
        "FROM\n",
        "  `isb-cgc-bq.HTAN.scRNAseq_MSK_SCLC_combined_samples_current`\n",
        "WHERE\n",
        "      Cell_Type = 'B cell' AND\n",
        "      sex = 'female'\n",
        "GROUP BY\n",
        "  1,2,3,4,5,6,7,8\n",
        "\n",
        "    \"\"\").result().to_dataframe()"
      ]
    },
    {
      "cell_type": "code",
      "source": [
        "obs"
      ],
      "metadata": {
        "colab": {
          "base_uri": "https://localhost:8080/",
          "height": 423
        },
        "id": "ZtxyXqBiJ-uT",
        "outputId": "a2741cea-0b8a-46fe-ea45-20027121de9d"
      },
      "execution_count": null,
      "outputs": [
        {
          "output_type": "execute_result",
          "data": {
            "text/plain": [
              "        iObs cell_type donor_id clusters         treatment  \\\n",
              "0        909    B cell   RU1038        4             Naive   \n",
              "1      36392    B cell   RU1038        4             Naive   \n",
              "2      69951    B cell   RU1038        4             Naive   \n",
              "3     135603    B cell   RU1038        4             Naive   \n",
              "4       2874    B cell   RU1057        4             Naive   \n",
              "...      ...       ...      ...      ...               ...   \n",
              "2393   50256    B cell   RU1144        4  Platinum Doublet   \n",
              "2394   76128    B cell   RU1144        4  Platinum Doublet   \n",
              "2395   83320    B cell   RU1144        4  Platinum Doublet   \n",
              "2396  105328    B cell    RU426        4             Naive   \n",
              "2397   41926    B cell    RU675        4             Naive   \n",
              "\n",
              "     self_reported_ethnicity   histo        development_stage  \n",
              "0                   European    LUAD  84-year-old human stage  \n",
              "1                   European    LUAD  84-year-old human stage  \n",
              "2                   European    LUAD  84-year-old human stage  \n",
              "3                   European    LUAD  84-year-old human stage  \n",
              "4                   European    LUAD  67-year-old human stage  \n",
              "...                      ...     ...                      ...  \n",
              "2393                European    SCLC  64-year-old human stage  \n",
              "2394                European    SCLC  64-year-old human stage  \n",
              "2395                European    SCLC  64-year-old human stage  \n",
              "2396                European    SCLC  64-year-old human stage  \n",
              "2397                   Asian  normal  74-year-old human stage  \n",
              "\n",
              "[2398 rows x 8 columns]"
            ],
            "text/html": [
              "\n",
              "  <div id=\"df-6ba16211-870b-420b-9df2-5c9ca1e77867\" class=\"colab-df-container\">\n",
              "    <div>\n",
              "<style scoped>\n",
              "    .dataframe tbody tr th:only-of-type {\n",
              "        vertical-align: middle;\n",
              "    }\n",
              "\n",
              "    .dataframe tbody tr th {\n",
              "        vertical-align: top;\n",
              "    }\n",
              "\n",
              "    .dataframe thead th {\n",
              "        text-align: right;\n",
              "    }\n",
              "</style>\n",
              "<table border=\"1\" class=\"dataframe\">\n",
              "  <thead>\n",
              "    <tr style=\"text-align: right;\">\n",
              "      <th></th>\n",
              "      <th>iObs</th>\n",
              "      <th>cell_type</th>\n",
              "      <th>donor_id</th>\n",
              "      <th>clusters</th>\n",
              "      <th>treatment</th>\n",
              "      <th>self_reported_ethnicity</th>\n",
              "      <th>histo</th>\n",
              "      <th>development_stage</th>\n",
              "    </tr>\n",
              "  </thead>\n",
              "  <tbody>\n",
              "    <tr>\n",
              "      <th>0</th>\n",
              "      <td>909</td>\n",
              "      <td>B cell</td>\n",
              "      <td>RU1038</td>\n",
              "      <td>4</td>\n",
              "      <td>Naive</td>\n",
              "      <td>European</td>\n",
              "      <td>LUAD</td>\n",
              "      <td>84-year-old human stage</td>\n",
              "    </tr>\n",
              "    <tr>\n",
              "      <th>1</th>\n",
              "      <td>36392</td>\n",
              "      <td>B cell</td>\n",
              "      <td>RU1038</td>\n",
              "      <td>4</td>\n",
              "      <td>Naive</td>\n",
              "      <td>European</td>\n",
              "      <td>LUAD</td>\n",
              "      <td>84-year-old human stage</td>\n",
              "    </tr>\n",
              "    <tr>\n",
              "      <th>2</th>\n",
              "      <td>69951</td>\n",
              "      <td>B cell</td>\n",
              "      <td>RU1038</td>\n",
              "      <td>4</td>\n",
              "      <td>Naive</td>\n",
              "      <td>European</td>\n",
              "      <td>LUAD</td>\n",
              "      <td>84-year-old human stage</td>\n",
              "    </tr>\n",
              "    <tr>\n",
              "      <th>3</th>\n",
              "      <td>135603</td>\n",
              "      <td>B cell</td>\n",
              "      <td>RU1038</td>\n",
              "      <td>4</td>\n",
              "      <td>Naive</td>\n",
              "      <td>European</td>\n",
              "      <td>LUAD</td>\n",
              "      <td>84-year-old human stage</td>\n",
              "    </tr>\n",
              "    <tr>\n",
              "      <th>4</th>\n",
              "      <td>2874</td>\n",
              "      <td>B cell</td>\n",
              "      <td>RU1057</td>\n",
              "      <td>4</td>\n",
              "      <td>Naive</td>\n",
              "      <td>European</td>\n",
              "      <td>LUAD</td>\n",
              "      <td>67-year-old human stage</td>\n",
              "    </tr>\n",
              "    <tr>\n",
              "      <th>...</th>\n",
              "      <td>...</td>\n",
              "      <td>...</td>\n",
              "      <td>...</td>\n",
              "      <td>...</td>\n",
              "      <td>...</td>\n",
              "      <td>...</td>\n",
              "      <td>...</td>\n",
              "      <td>...</td>\n",
              "    </tr>\n",
              "    <tr>\n",
              "      <th>2393</th>\n",
              "      <td>50256</td>\n",
              "      <td>B cell</td>\n",
              "      <td>RU1144</td>\n",
              "      <td>4</td>\n",
              "      <td>Platinum Doublet</td>\n",
              "      <td>European</td>\n",
              "      <td>SCLC</td>\n",
              "      <td>64-year-old human stage</td>\n",
              "    </tr>\n",
              "    <tr>\n",
              "      <th>2394</th>\n",
              "      <td>76128</td>\n",
              "      <td>B cell</td>\n",
              "      <td>RU1144</td>\n",
              "      <td>4</td>\n",
              "      <td>Platinum Doublet</td>\n",
              "      <td>European</td>\n",
              "      <td>SCLC</td>\n",
              "      <td>64-year-old human stage</td>\n",
              "    </tr>\n",
              "    <tr>\n",
              "      <th>2395</th>\n",
              "      <td>83320</td>\n",
              "      <td>B cell</td>\n",
              "      <td>RU1144</td>\n",
              "      <td>4</td>\n",
              "      <td>Platinum Doublet</td>\n",
              "      <td>European</td>\n",
              "      <td>SCLC</td>\n",
              "      <td>64-year-old human stage</td>\n",
              "    </tr>\n",
              "    <tr>\n",
              "      <th>2396</th>\n",
              "      <td>105328</td>\n",
              "      <td>B cell</td>\n",
              "      <td>RU426</td>\n",
              "      <td>4</td>\n",
              "      <td>Naive</td>\n",
              "      <td>European</td>\n",
              "      <td>SCLC</td>\n",
              "      <td>64-year-old human stage</td>\n",
              "    </tr>\n",
              "    <tr>\n",
              "      <th>2397</th>\n",
              "      <td>41926</td>\n",
              "      <td>B cell</td>\n",
              "      <td>RU675</td>\n",
              "      <td>4</td>\n",
              "      <td>Naive</td>\n",
              "      <td>Asian</td>\n",
              "      <td>normal</td>\n",
              "      <td>74-year-old human stage</td>\n",
              "    </tr>\n",
              "  </tbody>\n",
              "</table>\n",
              "<p>2398 rows × 8 columns</p>\n",
              "</div>\n",
              "    <div class=\"colab-df-buttons\">\n",
              "\n",
              "  <div class=\"colab-df-container\">\n",
              "    <button class=\"colab-df-convert\" onclick=\"convertToInteractive('df-6ba16211-870b-420b-9df2-5c9ca1e77867')\"\n",
              "            title=\"Convert this dataframe to an interactive table.\"\n",
              "            style=\"display:none;\">\n",
              "\n",
              "  <svg xmlns=\"http://www.w3.org/2000/svg\" height=\"24px\" viewBox=\"0 -960 960 960\">\n",
              "    <path d=\"M120-120v-720h720v720H120Zm60-500h600v-160H180v160Zm220 220h160v-160H400v160Zm0 220h160v-160H400v160ZM180-400h160v-160H180v160Zm440 0h160v-160H620v160ZM180-180h160v-160H180v160Zm440 0h160v-160H620v160Z\"/>\n",
              "  </svg>\n",
              "    </button>\n",
              "\n",
              "  <style>\n",
              "    .colab-df-container {\n",
              "      display:flex;\n",
              "      gap: 12px;\n",
              "    }\n",
              "\n",
              "    .colab-df-convert {\n",
              "      background-color: #E8F0FE;\n",
              "      border: none;\n",
              "      border-radius: 50%;\n",
              "      cursor: pointer;\n",
              "      display: none;\n",
              "      fill: #1967D2;\n",
              "      height: 32px;\n",
              "      padding: 0 0 0 0;\n",
              "      width: 32px;\n",
              "    }\n",
              "\n",
              "    .colab-df-convert:hover {\n",
              "      background-color: #E2EBFA;\n",
              "      box-shadow: 0px 1px 2px rgba(60, 64, 67, 0.3), 0px 1px 3px 1px rgba(60, 64, 67, 0.15);\n",
              "      fill: #174EA6;\n",
              "    }\n",
              "\n",
              "    .colab-df-buttons div {\n",
              "      margin-bottom: 4px;\n",
              "    }\n",
              "\n",
              "    [theme=dark] .colab-df-convert {\n",
              "      background-color: #3B4455;\n",
              "      fill: #D2E3FC;\n",
              "    }\n",
              "\n",
              "    [theme=dark] .colab-df-convert:hover {\n",
              "      background-color: #434B5C;\n",
              "      box-shadow: 0px 1px 3px 1px rgba(0, 0, 0, 0.15);\n",
              "      filter: drop-shadow(0px 1px 2px rgba(0, 0, 0, 0.3));\n",
              "      fill: #FFFFFF;\n",
              "    }\n",
              "  </style>\n",
              "\n",
              "    <script>\n",
              "      const buttonEl =\n",
              "        document.querySelector('#df-6ba16211-870b-420b-9df2-5c9ca1e77867 button.colab-df-convert');\n",
              "      buttonEl.style.display =\n",
              "        google.colab.kernel.accessAllowed ? 'block' : 'none';\n",
              "\n",
              "      async function convertToInteractive(key) {\n",
              "        const element = document.querySelector('#df-6ba16211-870b-420b-9df2-5c9ca1e77867');\n",
              "        const dataTable =\n",
              "          await google.colab.kernel.invokeFunction('convertToInteractive',\n",
              "                                                    [key], {});\n",
              "        if (!dataTable) return;\n",
              "\n",
              "        const docLinkHtml = 'Like what you see? Visit the ' +\n",
              "          '<a target=\"_blank\" href=https://colab.research.google.com/notebooks/data_table.ipynb>data table notebook</a>'\n",
              "          + ' to learn more about interactive tables.';\n",
              "        element.innerHTML = '';\n",
              "        dataTable['output_type'] = 'display_data';\n",
              "        await google.colab.output.renderOutput(dataTable, element);\n",
              "        const docLink = document.createElement('div');\n",
              "        docLink.innerHTML = docLinkHtml;\n",
              "        element.appendChild(docLink);\n",
              "      }\n",
              "    </script>\n",
              "  </div>\n",
              "\n",
              "\n",
              "<div id=\"df-e19de0f9-68ed-4bd9-b7ea-4e6a6baac584\">\n",
              "  <button class=\"colab-df-quickchart\" onclick=\"quickchart('df-e19de0f9-68ed-4bd9-b7ea-4e6a6baac584')\"\n",
              "            title=\"Suggest charts.\"\n",
              "            style=\"display:none;\">\n",
              "\n",
              "<svg xmlns=\"http://www.w3.org/2000/svg\" height=\"24px\"viewBox=\"0 0 24 24\"\n",
              "     width=\"24px\">\n",
              "    <g>\n",
              "        <path d=\"M19 3H5c-1.1 0-2 .9-2 2v14c0 1.1.9 2 2 2h14c1.1 0 2-.9 2-2V5c0-1.1-.9-2-2-2zM9 17H7v-7h2v7zm4 0h-2V7h2v10zm4 0h-2v-4h2v4z\"/>\n",
              "    </g>\n",
              "</svg>\n",
              "  </button>\n",
              "\n",
              "<style>\n",
              "  .colab-df-quickchart {\n",
              "    background-color: #E8F0FE;\n",
              "    border: none;\n",
              "    border-radius: 50%;\n",
              "    cursor: pointer;\n",
              "    display: none;\n",
              "    fill: #1967D2;\n",
              "    height: 32px;\n",
              "    padding: 0 0 0 0;\n",
              "    width: 32px;\n",
              "  }\n",
              "\n",
              "  .colab-df-quickchart:hover {\n",
              "    background-color: #E2EBFA;\n",
              "    box-shadow: 0px 1px 2px rgba(60, 64, 67, 0.3), 0px 1px 3px 1px rgba(60, 64, 67, 0.15);\n",
              "    fill: #174EA6;\n",
              "  }\n",
              "\n",
              "  [theme=dark] .colab-df-quickchart {\n",
              "    background-color: #3B4455;\n",
              "    fill: #D2E3FC;\n",
              "  }\n",
              "\n",
              "  [theme=dark] .colab-df-quickchart:hover {\n",
              "    background-color: #434B5C;\n",
              "    box-shadow: 0px 1px 3px 1px rgba(0, 0, 0, 0.15);\n",
              "    filter: drop-shadow(0px 1px 2px rgba(0, 0, 0, 0.3));\n",
              "    fill: #FFFFFF;\n",
              "  }\n",
              "</style>\n",
              "\n",
              "  <script>\n",
              "    async function quickchart(key) {\n",
              "      const charts = await google.colab.kernel.invokeFunction(\n",
              "          'suggestCharts', [key], {});\n",
              "    }\n",
              "    (() => {\n",
              "      let quickchartButtonEl =\n",
              "        document.querySelector('#df-e19de0f9-68ed-4bd9-b7ea-4e6a6baac584 button');\n",
              "      quickchartButtonEl.style.display =\n",
              "        google.colab.kernel.accessAllowed ? 'block' : 'none';\n",
              "    })();\n",
              "  </script>\n",
              "</div>\n",
              "    </div>\n",
              "  </div>\n"
            ]
          },
          "metadata": {},
          "execution_count": 19
        }
      ]
    },
    {
      "cell_type": "code",
      "execution_count": null,
      "metadata": {
        "id": "s7OrHUjrTYpD"
      },
      "outputs": [],
      "source": [
        "# first to get the matrix of gene counts\n",
        "\n",
        "var = client.query(\"\"\"\n",
        "\n",
        "  SELECT\n",
        "    iVar,\n",
        "    iObs,\n",
        "    feature_name as GeneSymbol\n",
        "  FROM\n",
        "  `isb-cgc-bq.HTAN.scRNAseq_MSK_SCLC_combined_samples_current`\n",
        "  WHERE\n",
        "      Cell_Type = 'B cell' AND\n",
        "      sex = 'female'\n",
        "  GROUP BY 1,2,3\n",
        "    \"\"\").result().to_dataframe()\n",
        "\n"
      ]
    },
    {
      "cell_type": "code",
      "execution_count": null,
      "metadata": {
        "colab": {
          "base_uri": "https://localhost:8080/",
          "height": 423
        },
        "id": "yrQAzfyOw9BR",
        "outputId": "46e5daea-5680-4f51-f4f1-4e0e9a319893"
      },
      "outputs": [
        {
          "output_type": "execute_result",
          "data": {
            "text/plain": [
              "          iVar    iObs GeneSymbol\n",
              "0         1565   25201     ARID4B\n",
              "1         1565   69258     ARID4B\n",
              "2         1586  101923      ARL4C\n",
              "3          665   62833       ACTB\n",
              "4          665   65319       ACTB\n",
              "...        ...     ...        ...\n",
              "2540556  12741  108817     PHLPP1\n",
              "2540557  12765  127688      PIAS2\n",
              "2540558  12703   28010       PHB2\n",
              "2540559  12716   97872      PHF20\n",
              "2540560  12735   47832     PHLDA1\n",
              "\n",
              "[2540561 rows x 3 columns]"
            ],
            "text/html": [
              "\n",
              "  <div id=\"df-264c220a-3a2b-482e-a39d-894113c8efed\" class=\"colab-df-container\">\n",
              "    <div>\n",
              "<style scoped>\n",
              "    .dataframe tbody tr th:only-of-type {\n",
              "        vertical-align: middle;\n",
              "    }\n",
              "\n",
              "    .dataframe tbody tr th {\n",
              "        vertical-align: top;\n",
              "    }\n",
              "\n",
              "    .dataframe thead th {\n",
              "        text-align: right;\n",
              "    }\n",
              "</style>\n",
              "<table border=\"1\" class=\"dataframe\">\n",
              "  <thead>\n",
              "    <tr style=\"text-align: right;\">\n",
              "      <th></th>\n",
              "      <th>iVar</th>\n",
              "      <th>iObs</th>\n",
              "      <th>GeneSymbol</th>\n",
              "    </tr>\n",
              "  </thead>\n",
              "  <tbody>\n",
              "    <tr>\n",
              "      <th>0</th>\n",
              "      <td>1565</td>\n",
              "      <td>25201</td>\n",
              "      <td>ARID4B</td>\n",
              "    </tr>\n",
              "    <tr>\n",
              "      <th>1</th>\n",
              "      <td>1565</td>\n",
              "      <td>69258</td>\n",
              "      <td>ARID4B</td>\n",
              "    </tr>\n",
              "    <tr>\n",
              "      <th>2</th>\n",
              "      <td>1586</td>\n",
              "      <td>101923</td>\n",
              "      <td>ARL4C</td>\n",
              "    </tr>\n",
              "    <tr>\n",
              "      <th>3</th>\n",
              "      <td>665</td>\n",
              "      <td>62833</td>\n",
              "      <td>ACTB</td>\n",
              "    </tr>\n",
              "    <tr>\n",
              "      <th>4</th>\n",
              "      <td>665</td>\n",
              "      <td>65319</td>\n",
              "      <td>ACTB</td>\n",
              "    </tr>\n",
              "    <tr>\n",
              "      <th>...</th>\n",
              "      <td>...</td>\n",
              "      <td>...</td>\n",
              "      <td>...</td>\n",
              "    </tr>\n",
              "    <tr>\n",
              "      <th>2540556</th>\n",
              "      <td>12741</td>\n",
              "      <td>108817</td>\n",
              "      <td>PHLPP1</td>\n",
              "    </tr>\n",
              "    <tr>\n",
              "      <th>2540557</th>\n",
              "      <td>12765</td>\n",
              "      <td>127688</td>\n",
              "      <td>PIAS2</td>\n",
              "    </tr>\n",
              "    <tr>\n",
              "      <th>2540558</th>\n",
              "      <td>12703</td>\n",
              "      <td>28010</td>\n",
              "      <td>PHB2</td>\n",
              "    </tr>\n",
              "    <tr>\n",
              "      <th>2540559</th>\n",
              "      <td>12716</td>\n",
              "      <td>97872</td>\n",
              "      <td>PHF20</td>\n",
              "    </tr>\n",
              "    <tr>\n",
              "      <th>2540560</th>\n",
              "      <td>12735</td>\n",
              "      <td>47832</td>\n",
              "      <td>PHLDA1</td>\n",
              "    </tr>\n",
              "  </tbody>\n",
              "</table>\n",
              "<p>2540561 rows × 3 columns</p>\n",
              "</div>\n",
              "    <div class=\"colab-df-buttons\">\n",
              "\n",
              "  <div class=\"colab-df-container\">\n",
              "    <button class=\"colab-df-convert\" onclick=\"convertToInteractive('df-264c220a-3a2b-482e-a39d-894113c8efed')\"\n",
              "            title=\"Convert this dataframe to an interactive table.\"\n",
              "            style=\"display:none;\">\n",
              "\n",
              "  <svg xmlns=\"http://www.w3.org/2000/svg\" height=\"24px\" viewBox=\"0 -960 960 960\">\n",
              "    <path d=\"M120-120v-720h720v720H120Zm60-500h600v-160H180v160Zm220 220h160v-160H400v160Zm0 220h160v-160H400v160ZM180-400h160v-160H180v160Zm440 0h160v-160H620v160ZM180-180h160v-160H180v160Zm440 0h160v-160H620v160Z\"/>\n",
              "  </svg>\n",
              "    </button>\n",
              "\n",
              "  <style>\n",
              "    .colab-df-container {\n",
              "      display:flex;\n",
              "      gap: 12px;\n",
              "    }\n",
              "\n",
              "    .colab-df-convert {\n",
              "      background-color: #E8F0FE;\n",
              "      border: none;\n",
              "      border-radius: 50%;\n",
              "      cursor: pointer;\n",
              "      display: none;\n",
              "      fill: #1967D2;\n",
              "      height: 32px;\n",
              "      padding: 0 0 0 0;\n",
              "      width: 32px;\n",
              "    }\n",
              "\n",
              "    .colab-df-convert:hover {\n",
              "      background-color: #E2EBFA;\n",
              "      box-shadow: 0px 1px 2px rgba(60, 64, 67, 0.3), 0px 1px 3px 1px rgba(60, 64, 67, 0.15);\n",
              "      fill: #174EA6;\n",
              "    }\n",
              "\n",
              "    .colab-df-buttons div {\n",
              "      margin-bottom: 4px;\n",
              "    }\n",
              "\n",
              "    [theme=dark] .colab-df-convert {\n",
              "      background-color: #3B4455;\n",
              "      fill: #D2E3FC;\n",
              "    }\n",
              "\n",
              "    [theme=dark] .colab-df-convert:hover {\n",
              "      background-color: #434B5C;\n",
              "      box-shadow: 0px 1px 3px 1px rgba(0, 0, 0, 0.15);\n",
              "      filter: drop-shadow(0px 1px 2px rgba(0, 0, 0, 0.3));\n",
              "      fill: #FFFFFF;\n",
              "    }\n",
              "  </style>\n",
              "\n",
              "    <script>\n",
              "      const buttonEl =\n",
              "        document.querySelector('#df-264c220a-3a2b-482e-a39d-894113c8efed button.colab-df-convert');\n",
              "      buttonEl.style.display =\n",
              "        google.colab.kernel.accessAllowed ? 'block' : 'none';\n",
              "\n",
              "      async function convertToInteractive(key) {\n",
              "        const element = document.querySelector('#df-264c220a-3a2b-482e-a39d-894113c8efed');\n",
              "        const dataTable =\n",
              "          await google.colab.kernel.invokeFunction('convertToInteractive',\n",
              "                                                    [key], {});\n",
              "        if (!dataTable) return;\n",
              "\n",
              "        const docLinkHtml = 'Like what you see? Visit the ' +\n",
              "          '<a target=\"_blank\" href=https://colab.research.google.com/notebooks/data_table.ipynb>data table notebook</a>'\n",
              "          + ' to learn more about interactive tables.';\n",
              "        element.innerHTML = '';\n",
              "        dataTable['output_type'] = 'display_data';\n",
              "        await google.colab.output.renderOutput(dataTable, element);\n",
              "        const docLink = document.createElement('div');\n",
              "        docLink.innerHTML = docLinkHtml;\n",
              "        element.appendChild(docLink);\n",
              "      }\n",
              "    </script>\n",
              "  </div>\n",
              "\n",
              "\n",
              "<div id=\"df-044563d5-b76f-4fe2-aeb6-c8d88c7714c5\">\n",
              "  <button class=\"colab-df-quickchart\" onclick=\"quickchart('df-044563d5-b76f-4fe2-aeb6-c8d88c7714c5')\"\n",
              "            title=\"Suggest charts.\"\n",
              "            style=\"display:none;\">\n",
              "\n",
              "<svg xmlns=\"http://www.w3.org/2000/svg\" height=\"24px\"viewBox=\"0 0 24 24\"\n",
              "     width=\"24px\">\n",
              "    <g>\n",
              "        <path d=\"M19 3H5c-1.1 0-2 .9-2 2v14c0 1.1.9 2 2 2h14c1.1 0 2-.9 2-2V5c0-1.1-.9-2-2-2zM9 17H7v-7h2v7zm4 0h-2V7h2v10zm4 0h-2v-4h2v4z\"/>\n",
              "    </g>\n",
              "</svg>\n",
              "  </button>\n",
              "\n",
              "<style>\n",
              "  .colab-df-quickchart {\n",
              "    background-color: #E8F0FE;\n",
              "    border: none;\n",
              "    border-radius: 50%;\n",
              "    cursor: pointer;\n",
              "    display: none;\n",
              "    fill: #1967D2;\n",
              "    height: 32px;\n",
              "    padding: 0 0 0 0;\n",
              "    width: 32px;\n",
              "  }\n",
              "\n",
              "  .colab-df-quickchart:hover {\n",
              "    background-color: #E2EBFA;\n",
              "    box-shadow: 0px 1px 2px rgba(60, 64, 67, 0.3), 0px 1px 3px 1px rgba(60, 64, 67, 0.15);\n",
              "    fill: #174EA6;\n",
              "  }\n",
              "\n",
              "  [theme=dark] .colab-df-quickchart {\n",
              "    background-color: #3B4455;\n",
              "    fill: #D2E3FC;\n",
              "  }\n",
              "\n",
              "  [theme=dark] .colab-df-quickchart:hover {\n",
              "    background-color: #434B5C;\n",
              "    box-shadow: 0px 1px 3px 1px rgba(0, 0, 0, 0.15);\n",
              "    filter: drop-shadow(0px 1px 2px rgba(0, 0, 0, 0.3));\n",
              "    fill: #FFFFFF;\n",
              "  }\n",
              "</style>\n",
              "\n",
              "  <script>\n",
              "    async function quickchart(key) {\n",
              "      const charts = await google.colab.kernel.invokeFunction(\n",
              "          'suggestCharts', [key], {});\n",
              "    }\n",
              "    (() => {\n",
              "      let quickchartButtonEl =\n",
              "        document.querySelector('#df-044563d5-b76f-4fe2-aeb6-c8d88c7714c5 button');\n",
              "      quickchartButtonEl.style.display =\n",
              "        google.colab.kernel.accessAllowed ? 'block' : 'none';\n",
              "    })();\n",
              "  </script>\n",
              "</div>\n",
              "    </div>\n",
              "  </div>\n"
            ]
          },
          "metadata": {},
          "execution_count": 11
        }
      ],
      "source": [
        "var"
      ]
    },
    {
      "cell_type": "markdown",
      "metadata": {
        "id": "Ba-iSXpwi3a_"
      },
      "source": [
        "We need to do a little bit of table index shifting."
      ]
    },
    {
      "cell_type": "code",
      "source": [
        "# update the BQ data for AnnData building #\n",
        "\n",
        "# shift the index to 0-index\n",
        "var.index = var['GeneSymbol']\n",
        "var.iVar = var.iVar-1\n",
        "X.iVar = X.iVar-1"
      ],
      "metadata": {
        "id": "E9UHI6-mHEmU"
      },
      "execution_count": null,
      "outputs": []
    },
    {
      "cell_type": "code",
      "execution_count": null,
      "metadata": {
        "id": "lLfrWPijiBqQ"
      },
      "outputs": [],
      "source": [
        "# fix the obs index by reindexing\n",
        "# this maps the X table to the obs table\n",
        "iObsDict = dict(zip(obs.iObs, obs.index))\n",
        "X.iObs = [iObsDict[a] for a in X.iObs]\n"
      ]
    },
    {
      "cell_type": "code",
      "execution_count": null,
      "metadata": {
        "id": "knJQYO8vfnnb"
      },
      "outputs": [],
      "source": [
        "# convert the pandas table to a sparse matrix\n",
        "sparseX2 = sparse.csr_matrix( (X.X_value, (X.iObs, X.iVar)), shape=(len(obs),len(var)))\n",
        "sparseX2"
      ]
    },
    {
      "cell_type": "code",
      "execution_count": null,
      "metadata": {
        "id": "5eZdbLHjkCUm"
      },
      "outputs": [],
      "source": [
        "# now we can build the AnnData\n",
        "adata = sc.AnnData(X=sparseX2, obs=obs, var=var)\n",
        "adata.var_names_make_unique()"
      ]
    },
    {
      "cell_type": "code",
      "execution_count": null,
      "metadata": {
        "id": "1j9LEJSqoGXN"
      },
      "outputs": [],
      "source": [
        "# select some genes by expression level\n",
        "geneCountsSum = (np.array(adata.X.sum(axis=0))[0,:])\n",
        "highExprGenes = adata.var.iloc[ np.where(geneCountsSum > 7000) ].index"
      ]
    },
    {
      "cell_type": "code",
      "source": [
        "highExprGenes"
      ],
      "metadata": {
        "colab": {
          "base_uri": "https://localhost:8080/"
        },
        "id": "rvOUmQVOLbwf",
        "outputId": "05702c11-f406-49e7-ba45-ec97fc3823a9"
      },
      "execution_count": null,
      "outputs": [
        {
          "output_type": "execute_result",
          "data": {
            "text/plain": [
              "Index(['FGL2', 'STAT6-2', 'SLC29A1', 'DTYMK', 'VPS28', 'PDE4DIP-1', 'LTO1',\n",
              "       'PDCD6IP-1', 'TMEM230', 'TMEM243-2', 'DYNLL1-3', 'HDAC8-1', 'CGGBP1',\n",
              "       'CHD1L', 'CHMP1B', 'CGGBP1-1', 'CHCHD5-1', 'PRPF4', 'PRPF40A',\n",
              "       'SBNO1-1', 'UBE2B-7', 'SRRM2-6', 'MYO5C'],\n",
              "      dtype='object', name='GeneSymbol')"
            ]
          },
          "metadata": {},
          "execution_count": 64
        }
      ]
    },
    {
      "cell_type": "code",
      "execution_count": null,
      "metadata": {
        "colab": {
          "base_uri": "https://localhost:8080/",
          "height": 343
        },
        "id": "jxOqiKKblRUm",
        "outputId": "51f494a1-d29e-4285-83b8-c68abc0d7ac0"
      },
      "outputs": [
        {
          "output_type": "stream",
          "name": "stderr",
          "text": [
            "/usr/local/lib/python3.10/dist-packages/scanpy/plotting/_dotplot.py:749: UserWarning: No data for colormapping provided via 'c'. Parameters 'cmap', 'norm' will be ignored\n",
            "  dot_ax.scatter(x, y, **kwds)\n"
          ]
        },
        {
          "output_type": "display_data",
          "data": {
            "text/plain": [
              "<Figure size 1081x250 with 5 Axes>"
            ],
            "image/png": "[encoded data removed]"
          },
          "metadata": {}
        }
      ],
      "source": [
        "# now we can use the plot functions of scanpy\n",
        "sc.pl.dotplot(adata, highExprGenes, 'treatment', dendrogram=True)"
      ]
    },
    {
      "cell_type": "code",
      "execution_count": null,
      "metadata": {
        "colab": {
          "base_uri": "https://localhost:8080/"
        },
        "id": "Bv390PGimBC7",
        "outputId": "779e9378-6f32-4fa8-dc25-6019d1644a37"
      },
      "outputs": [
        {
          "output_type": "execute_result",
          "data": {
            "text/plain": [
              "Naive                                                                   1784\n",
              "Platinum Doublet                                                         453\n",
              "Platinum Doublet,Immunotherapy                                           142\n",
              "Platinum Doublet,Immunotherapy,TMZ,Other chemotherapy,VEGF inhibitor      19\n",
              "Name: treatment, dtype: int64"
            ]
          },
          "metadata": {},
          "execution_count": 69
        }
      ],
      "source": [
        "adata.obs.treatment.value_counts()"
      ]
    },
    {
      "cell_type": "code",
      "execution_count": null,
      "metadata": {
        "colab": {
          "base_uri": "https://localhost:8080/",
          "height": 1000
        },
        "id": "PNZUGbehtoRz",
        "outputId": "b5c9478e-cf54-4257-d4e6-5755968ffaec"
      },
      "outputs": [
        {
          "output_type": "display_data",
          "data": {
            "text/plain": [
              "<Figure size 1033.4x800 with 1 Axes>"
            ],
            "image/png": "[encoded data removed]"
          },
          "metadata": {}
        }
      ],
      "source": [
        "sc.pl.violin(adata, 'FTL', groupby='treatment', rotation=90)"
      ]
    },
    {
      "cell_type": "code",
      "execution_count": null,
      "metadata": {
        "id": "eQZrvVxZ69cl"
      },
      "outputs": [],
      "source": [
        "# We have pulled a subset of cells outof BQ and constructed an AnnData object."
      ]
    },
    {
      "cell_type": "markdown",
      "metadata": {
        "id": "5nipnrkZGfIE"
      },
      "source": [
        "# 5. Relevant Citations and Links"
      ]
    },
    {
      "cell_type": "markdown",
      "metadata": {
        "jp-MarkdownHeadingCollapsed": true,
        "tags": [],
        "id": "R6NO1BSMGfIF"
      },
      "source": [
        "\n",
        "[HTAN Portal](https://humantumoratlas.org/)   \n",
        "\n",
        "\n",
        "[Overview paper, Cell, April 2020](https://www.sciencedirect.com/science/article/pii/S0092867420303469)\n",
        "\n"
      ]
    }
  ],
  "metadata": {
    "colab": {
      "provenance": []
    },
    "kernelspec": {
      "display_name": "Python 3 (ipykernel)",
      "language": "python",
      "name": "python3"
    },
    "language_info": {
      "codemirror_mode": {
        "name": "ipython",
        "version": 3
      },
      "file_extension": ".py",
      "mimetype": "text/x-python",
      "name": "python",
      "nbconvert_exporter": "python",
      "pygments_lexer": "ipython3",
      "version": "3.10.5"
    }
  },
  "nbformat": 4,
  "nbformat_minor": 0
}