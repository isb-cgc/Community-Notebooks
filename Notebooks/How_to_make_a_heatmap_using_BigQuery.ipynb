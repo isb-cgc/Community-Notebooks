{
 "cells": [
  {
   "cell_type": "markdown",
   "metadata": {
    "id": "zYBX2DPDvRQn"
   },
   "source": [
    "\n",
    "---\n"
   ]
  },
  {
   "cell_type": "markdown",
   "metadata": {
    "id": "_Pj1aDLeeqof"
   },
   "source": [
    "# ISB-CGC Community Notebooks\n",
    "\n"
   ]
  },
  {
   "cell_type": "markdown",
   "metadata": {
    "id": "CIivGB6Veqy6"
   },
   "source": [
    "```\n",
    "Title:   How to make a heatmap using BigQuery\n",
    "Author:  David L Gibbs\n",
    "Created: 2019-12-02\n",
    "Purpose: Demonstrate how to make a correlation matrix and create a heatmap visualization.\n",
    "Notes: Works in Google Colaboratory notebooks.\n",
    "Repo: https://github.com/isb-cgc/Community-Notebooks/blob/master/Notebooks/How_to_make_a_heatmap_using_BigQuery.ipynb\n",
    "```"
   ]
  },
  {
   "cell_type": "markdown",
   "metadata": {
    "id": "tHZyDmniQNHn"
   },
   "source": [
    "In this notebook, we will cover how to use BigQuery to pull some data (in the cloud so data transfer is free!), make a correlation (or distance) matrix, and visualize that result in a heatmap.\n",
    "\n",
    "It's also possible to compute the correlations *inside* BigQuery, which is a good use of the technology, but for simplicity's sake, we'll use python.\n",
    "\n",
    "These methods are commonly used in cancer data analysis (see every practically all TCGA studies), but can be applied to any type of data. Here we will be using TCGA gene expression data from two studies, KIRC (kidney cancer) and GBM (brain cancer).\n",
    "\n",
    "In this work, we'll see if the two tissue types separate into clusters."
   ]
  },
  {
   "cell_type": "markdown",
   "source": [],
   "metadata": {
    "id": "EIxFlb2dgDt5"
   }
  },
  {
   "cell_type": "markdown",
   "metadata": {
    "id": "duawtph3-k6C"
   },
   "source": [
    "# Software install"
   ]
  },
  {
   "cell_type": "markdown",
   "metadata": {
    "id": "RQs_zH78eiLL"
   },
   "source": [
    "In case it's needed, we can install Google's bigquery python library."
   ]
  },
  {
   "cell_type": "code",
   "execution_count": null,
   "metadata": {
    "id": "_0EoT3V6rTZI"
   },
   "outputs": [],
   "source": [
    "pip install --upgrade google-cloud-bigquery"
   ]
  },
  {
   "cell_type": "markdown",
   "metadata": {
    "id": "xnUP-wgoeTsF"
   },
   "source": [
    "And then we can import the libraries"
   ]
  },
  {
   "cell_type": "markdown",
   "source": [],
   "metadata": {
    "id": "JMTSxpMZ_swr"
   }
  },
  {
   "cell_type": "code",
   "execution_count": null,
   "metadata": {
    "id": "hLiNsOYdez6Q"
   },
   "outputs": [],
   "source": [
    "import seaborn as sb\n",
    "import pandas as pd\n",
    "import numpy as np\n",
    "from google.cloud import bigquery\n",
    "from google.api_core import client_options\n",
    "from google.oauth2.credentials import Credentials\n"
   ]
  },
  {
   "cell_type": "code",
   "source": [
    "demo_mode = True\n",
    "\n",
    "\n",
    "if demo_mode:\n",
    "    project_id = \"isb-cgc-demo-server\"\n",
    "    !wget -O collab_queries.py https://github.com/isb-cgc/Community-Notebooks/raw/refs/heads/master/BQProxy/collab_queries.py\n",
    "    from collab_queries import api_endpoint, demo_client_args, demo_job_config_arg\n",
    "\n",
    "    bigquery.bigquery_magics.context.bigquery_client_options ={\"api_endpoint\": api_endpoint}\n",
    "    bigquery.bigquery_magics.context.credentials = Credentials(token='dummy', expiry=None)\n",
    "\n",
    "\n",
    "else:\n",
    "    # first we'll log in, in order to access a project bucket.\n",
    "    !gcloud auth application-default login\n",
    "\n",
    "    !gcloud config set project isb-cgc-dev-1\n",
    "    project_id = \"change-to-your-project-id\" # your project id here\n",
    "\n"
   ],
   "metadata": {
    "id": "xr6iBISNvplZ",
    "pycharm": {
     "name": "#%%\n"
    }
   },
   "execution_count": null,
   "outputs": []
  },
  {
   "cell_type": "markdown",
   "metadata": {
    "id": "D1hM4YOy-c8y"
   },
   "source": [
    "# Querying for data"
   ]
  },
  {
   "cell_type": "markdown",
   "metadata": {
    "id": "PHXSv2h2e4bI"
   },
   "source": [
    "OK, we're going to query for some data using a preselected gene set from MSigDB.\n",
    "\n",
    "http://software.broadinstitute.org/gsea/msigdb/cards/HALLMARK_TGF_BETA_SIGNALING.html\n",
    "\n",
    "\n",
    "\n",
    "\n"
   ]
  },
  {
   "cell_type": "code",
   "execution_count": null,
   "metadata": {
    "id": "n4BWcBGrtD2e"
   },
   "outputs": [],
   "source": [
    "!curl -o geneset.txt https://www.gsea-msigdb.org/gsea/msigdb/download_geneset.jsp?geneSetName=HALLMARK_TGF_BETA_SIGNALING"
   ]
  },
  {
   "cell_type": "code",
   "execution_count": null,
   "metadata": {
    "id": "fvpoPP63tZZX"
   },
   "outputs": [],
   "source": [
    "genes = open('geneset.txt','r').read().strip().split('\\n')\n",
    "genes = [\"'\"+x+\"'\" for x in genes]\n",
    "### Make the set a little smaller ###\n",
    "genelist = ' ' + ','.join(genes[2:12]) + ' '\n",
    "print(genelist)"
   ]
  },
  {
   "cell_type": "markdown",
   "metadata": {
    "id": "1lCb3784pomt"
   },
   "source": [
    "So, now that we have our list of genes, we'll create a client object that takes an SQL string and communicates\n",
    "with the Google mothership.\n",
    "\n",
    "In demo mode we communicate via a CGC proxy endpoint that limits functionality and controls for cost."
   ]
  },
  {
   "cell_type": "code",
   "execution_count": null,
   "metadata": {
    "id": "6vMEDwVCrwqN"
   },
   "outputs": [],
   "source": [
    "client_args = demo_client_args() if demo_mode else {}\n",
    "client = bigquery.Client(project=project_id, **client_args)"
   ]
  },
  {
   "cell_type": "markdown",
   "metadata": {
    "id": "lPG5vjy0qFyC"
   },
   "source": [
    "Here, the SQL is captured as a string. Using the Google BigQuery web interface is a good place to prototype SQL."
   ]
  },
  {
   "cell_type": "code",
   "execution_count": null,
   "metadata": {
    "id": "yXuQN2fOfBhI"
   },
   "outputs": [],
   "source": [
    "sql = '''\n",
    "SELECT project_short_name, sample_barcode, HGNC_gene_symbol, normalized_count\n",
    "FROM `isb-cgc.TCGA_hg19_data_v0.RNAseq_Gene_Expression_UNC_RSEM`\n",
    "WHERE project_short_name IN ('TCGA-KIRC', 'TCGA-GBM')\n",
    "AND HGNC_gene_symbol IN (__GENELIST__)\n",
    "GROUP BY 1,2,3,4\n",
    "'''.replace('__GENELIST__', genelist)\n",
    "geneA = [ x.strip() for x in genelist.replace(\"'\",\"\").split(',')]\n"
   ]
  },
  {
   "cell_type": "markdown",
   "metadata": {
    "id": "qYHKlHZTqTqB"
   },
   "source": [
    "Now we use the client, send off the SQL, and convert the results to a pandas dataframe.\n",
    "\n",
    "In demo mode a copy of the sql string stored SERVER SIDE is used in place of the mutable sql string in the notebook. Changing the sql string in the notebook WILL NOT change the executed query! But the DEMO query is parameterized by the genelist in the notebook, so you can still determine which genes are searched by changing them in the notebook."
   ]
  },
  {
   "cell_type": "code",
   "execution_count": null,
   "metadata": {
    "id": "sugbR0cQr4Xl"
   },
   "outputs": [],
   "source": [
    "demo_query_params= [bigquery.ArrayQueryParameter(\"genelist\", \"STRING\", geneA)]\n",
    "job_config_arg =  demo_job_config_arg(query_id=\"hm1\", job_config=None, demo_query_params=demo_query_params) if demo_mode else {}\n",
    "dat = client.query(sql, **job_config_arg).to_dataframe()\n"
   ]
  },
  {
   "cell_type": "code",
   "source": [
    "dat[0:5]"
   ],
   "metadata": {
    "id": "I46TG9MxdQ1A"
   },
   "execution_count": null,
   "outputs": []
  },
  {
   "cell_type": "markdown",
   "metadata": {
    "id": "ldC4tGOb-QR-"
   },
   "source": [
    "# Converting tidy data to a matrix, and computing a correlation matrix"
   ]
  },
  {
   "cell_type": "code",
   "execution_count": null,
   "metadata": {
    "id": "FDTTbGw9etyB"
   },
   "outputs": [],
   "source": [
    "mat = pd.pivot_table(dat, values='normalized_count', columns='HGNC_gene_symbol', index ='sample_barcode')"
   ]
  },
  {
   "cell_type": "code",
   "execution_count": null,
   "metadata": {
    "id": "gtmwmhLggJE7"
   },
   "outputs": [],
   "source": [
    "mat.shape"
   ]
  },
  {
   "cell_type": "code",
   "execution_count": null,
   "metadata": {
    "id": "zrOc21C1uR7H"
   },
   "outputs": [],
   "source": [
    "mat[0:5]  # the pandas dataframe index is the sample barcode."
   ]
  },
  {
   "cell_type": "markdown",
   "metadata": {
    "pycharm": {
     "name": "#%% md\n"
    },
    "id": "Y5zJx4-7H33K"
   },
   "source": [
    "Let's choose a smaller set of samples, to speed things up."
   ]
  },
  {
   "cell_type": "code",
   "execution_count": null,
   "metadata": {
    "id": "KixBZ6KmACLW"
   },
   "outputs": [],
   "source": [
    "idx = np.random.choice(a=range(0,693), size=60, replace=False)\n",
    "matSample = mat.iloc[idx]  # choose a smaller set of samples to speed things up #"
   ]
  },
  {
   "cell_type": "code",
   "execution_count": null,
   "metadata": {
    "id": "WeN3ztDXhbtD"
   },
   "outputs": [],
   "source": [
    "matSample.shape"
   ]
  },
  {
   "cell_type": "markdown",
   "metadata": {
    "id": "KU7HI3yAH33K"
   },
   "source": [
    "Now we'll compute the correlations:"
   ]
  },
  {
   "cell_type": "code",
   "execution_count": null,
   "metadata": {
    "id": "CYD6qgsB-EI5"
   },
   "outputs": [],
   "source": [
    "cormat = matSample.transpose().corr()"
   ]
  },
  {
   "cell_type": "code",
   "execution_count": null,
   "metadata": {
    "id": "JAFyDm-C8OkF"
   },
   "outputs": [],
   "source": [
    "cormat.shape"
   ]
  },
  {
   "cell_type": "markdown",
   "metadata": {
    "id": "9YNzvCEu_7II"
   },
   "source": [
    "To organize our phenotype information..."
   ]
  },
  {
   "cell_type": "code",
   "execution_count": null,
   "metadata": {
    "id": "z0MnQe4q__A9"
   },
   "outputs": [],
   "source": [
    "# first we're getting a unique map of sample barcodes to tissue types\n",
    "udat = dat.loc[:, ['sample_barcode', 'project_short_name']].drop_duplicates()\n",
    "\n",
    "# then we can get the tissue designations for each random sample in our table\n",
    "tissueType = udat.loc[ udat['sample_barcode'].isin(matSample.index), ['sample_barcode','project_short_name'] ]\n",
    "\n",
    "# for use as a color bar in the heatmap, we index the table by barcode\n",
    "tissueType.index = tissueType['sample_barcode']"
   ]
  },
  {
   "cell_type": "markdown",
   "metadata": {
    "id": "YobdArEM-AR5"
   },
   "source": [
    "# Making plots"
   ]
  },
  {
   "cell_type": "code",
   "execution_count": null,
   "metadata": {
    "id": "pLvyANAx-Gy5"
   },
   "outputs": [],
   "source": [
    "# unsorted #\n",
    "sb.heatmap(cormat, annot=False, )"
   ]
  },
  {
   "cell_type": "code",
   "execution_count": null,
   "metadata": {
    "id": "415xaGhp-0yl"
   },
   "outputs": [],
   "source": [
    "# to create the color bar, indicating the sample sources,\n",
    "# we're going to create a data frame indexed by sample barcode\n",
    "# and mark KIRC as red and GBM as blue\n",
    "lut = {'TCGA-KIRC' : 'r', 'TCGA-GBM': 'b'}\n",
    "row_colors = tissueType['project_short_name'].map(lut)"
   ]
  },
  {
   "cell_type": "markdown",
   "metadata": {
    "id": "UDPxszsM05ri"
   },
   "source": [
    "To get a clustered heatmap, like we're more used to seeing, we use the seaborn 'clustermap'.  Parameters allow for clustering rows and columns."
   ]
  },
  {
   "cell_type": "code",
   "execution_count": null,
   "metadata": {
    "id": "GOX7t5EIxwkI"
   },
   "outputs": [],
   "source": [
    "plt = sb.clustermap(cormat, row_colors=row_colors)"
   ]
  },
  {
   "cell_type": "markdown",
   "metadata": {
    "id": "27JgKakzH33Q"
   },
   "source": [
    "Cool! The tissue types separated out, and it looks like KIRC (red bar) clusters into two groups."
   ]
  },
  {
   "cell_type": "markdown",
   "metadata": {
    "id": "3jJyaQ4HihgQ"
   },
   "source": [
    "\n",
    "# Wrapping up and writing results and figures  back to our bucket."
   ]
  },
  {
   "cell_type": "code",
   "execution_count": null,
   "metadata": {
    "id": "IEoPYXKw8wdg"
   },
   "outputs": [],
   "source": [
    "# saving the clustered heatmap #\n",
    "plt.savefig('tcga_clustered_heatmap.png')"
   ]
  },
  {
   "cell_type": "code",
   "execution_count": null,
   "metadata": {
    "id": "zls3egVB82ev"
   },
   "outputs": [],
   "source": [
    "if not demo_mode:\n",
    "    !gsutil cp tcga_clustered_heatmap.png gs://my-project/heatmaps"
   ]
  },
  {
   "cell_type": "code",
   "execution_count": null,
   "metadata": {
    "id": "n51ddNrjBiO5",
    "pycharm": {
     "name": "#%%\n"
    }
   },
   "outputs": [],
   "source": [
    "# That's it!\n"
   ]
  }
 ],
 "metadata": {
  "colab": {
   "provenance": []
  },
  "kernelspec": {
   "display_name": "Python 3",
   "language": "python",
   "name": "python3"
  },
  "language_info": {
   "codemirror_mode": {
    "name": "ipython",
    "version": 3
   },
   "file_extension": ".py",
   "mimetype": "text/x-python",
   "name": "python",
   "nbconvert_exporter": "python",
   "pygments_lexer": "ipython3",
   "version": "3.7.3"
  },
  "pycharm": {
   "stem_cell": {
    "cell_type": "raw",
    "metadata": {
     "collapsed": false
    },
    "source": []
   }
  }
 },
 "nbformat": 4,
 "nbformat_minor": 0
}