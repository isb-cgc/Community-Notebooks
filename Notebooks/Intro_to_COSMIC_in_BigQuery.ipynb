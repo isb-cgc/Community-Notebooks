{
  "nbformat": 4,
  "nbformat_minor": 0,
  "metadata": {
    "colab": {
      "name": "Intro_to_COSMIC_in_BigQuery",
      "provenance": [],
      "collapsed_sections": [],
      "include_colab_link": true
    },
    "kernelspec": {
      "name": "python3",
      "display_name": "Python 3"
    }
  },
  "cells": [
    {
      "cell_type": "markdown",
      "metadata": {
        "id": "view-in-github",
        "colab_type": "text"
      },
      "source": [
        "<a href=\"https://colab.research.google.com/github/isb-cgc/Community-Notebooks/blob/Staging-Notebooks/Notebooks/Intro_to_COSMIC_in_BigQuery.ipynb\" target=\"_parent\"><img src=\"https://colab.research.google.com/assets/colab-badge.svg\" alt=\"Open In Colab\"/></a>"
      ]
    },
    {
      "cell_type": "markdown",
      "metadata": {
        "id": "t_44g_jV0iOI",
        "colab_type": "text"
      },
      "source": [
        "# ISB-CGC Community Notebooks\n",
        "\n",
        "Check out more notebooks at our [Community Notebooks Repository](https://github.com/isb-cgc/Community-Notebooks)!\n",
        "\n",
        "```\n",
        "Title:   Intro to COSMIC in BigQuery\n",
        "Author:  Akshay Balaji\n",
        "Created: 2020-07-02\n",
        "Purpose: Painless intro to working with COSMIC data in the cloud\n",
        "URL:     https://github.com/isb-cgc/Community-Notebooks/blob/master/Notebooks/How_to_create_cohorts.ipynb\n",
        "Notes:   \n",
        "```\n",
        "***"
      ]
    },
    {
      "cell_type": "markdown",
      "metadata": {
        "id": "0HzOHdcMkvTF",
        "colab_type": "text"
      },
      "source": [
        "# **Intro to COSMIC in BigQuery**\n",
        "\n",
        "This notebook serves as an introduction to the COSMIC dataset and also a review of the basics of working with BigQuery in Python. Much of the non-COSMIC information can also be found in our [Quick Start Guide to ISB-CGC notebook](https://github.com/isb-cgc/Community-Notebooks/blob/master/Notebooks/Quick_Start_Guide_to_ISB_CGC.ipynb).\n",
        "\n",
        "> *Note*: You will need to get extra permissions to work with COSMIC. You must sign up with the Sanger Institute's COSMIC page before you can access ISB's COSMIC BigQuery tables. You can find more information [here](https://isb-cancer-genomics-cloud.readthedocs.io/en/latest/sections/data/COSMIC_about.html). \n",
        "\n",
        "Goals: \n",
        "* Successfully establish a client with the BigQuery COSMIC data set to begin querying it from the notebook itself\n",
        "* Perform basic SQL commands and analyses on the COSMIC data set\n",
        "* Understand the kinds of data stored in each table of COSMIC in the CGC\n",
        "\n",
        "\n"
      ]
    },
    {
      "cell_type": "markdown",
      "metadata": {
        "id": "6c2NCf4515aW",
        "colab_type": "text"
      },
      "source": [
        "### Login to Google Cloud and authenticate yourself\n",
        "The very first step is to login to Google Cloud so that BigQuery can be accessed.\n",
        "\n",
        "1. Run the code bit below.\n",
        "2. Go to the link returned in the command line.\n",
        "3. Follow the prompts to authorize your account to use the Google Cloud SDK.\n",
        "4. Copy the code provided and paste it into the box in the command line.\n",
        "5. Press Enter.\n",
        "\n",
        "> Note: You may encounter a warning message such as `WARNING: \n",
        "Cannot find a quota project to add to ADC...`. You can ignore this message; it should not impact your ability to use the BigQuery client."
      ]
    },
    {
      "cell_type": "code",
      "metadata": {
        "id": "ag5YwikFeElx",
        "colab_type": "code",
        "colab": {
          "base_uri": "https://localhost:8080/",
          "height": 34
        },
        "outputId": "beb141c0-d22a-4b1a-f43e-852c1db41fd3"
      },
      "source": [
        "from google.colab import auth\n",
        "try:\n",
        "  auth.authenticate_user()\n",
        "  print('You have been successfully authenticated!')\n",
        "except:\n",
        "  print('You have not been authenticated.')"
      ],
      "execution_count": null,
      "outputs": [
        {
          "output_type": "stream",
          "text": [
            "You have been successfully authenticated!\n"
          ],
          "name": "stdout"
        }
      ]
    },
    {
      "cell_type": "markdown",
      "metadata": {
        "id": "J_Q8vjWsZ_nj",
        "colab_type": "text"
      },
      "source": [
        "### Create notebook client to BigQuery\n",
        "The command to create the client to the ISB-CGC BigQuery data is:"
      ]
    },
    {
      "cell_type": "code",
      "metadata": {
        "id": "PAWnUGMLajgm",
        "colab_type": "code",
        "colab": {}
      },
      "source": [
        "# Load BigQuery API <-- If you skip this, notebook throws a NameError\n",
        "from google.cloud import bigquery\n",
        "\n",
        "# Establish the client\n",
        "# Ignore the UserWarning message that results\n",
        "client = bigquery.Client('isb-cgc')"
      ],
      "execution_count": null,
      "outputs": []
    },
    {
      "cell_type": "markdown",
      "metadata": {
        "id": "0tkfW287HQPa",
        "colab_type": "text"
      },
      "source": [
        "### Identify the COSMIC datasets available in BigQuery\n",
        "\n",
        "In BigQuery, datasets are stored within **projects**. Projects define access to data in two important respects:\n",
        "\n",
        "1. The ability to view metadata\n",
        "2. The ability to query data\n",
        "\n",
        "In addition, each project defines which users can access it. ISB-CGC maintains `isb-cgc` as a project to allow users to view datasets, but we use it to view the *metadata* about the datasets we're talking about, such as what tables exist within each dataset. However to query the data, your own Google Cloud Project must be used.\n",
        "\n",
        "In order for outside researchers to be able to query the ISB-CGC data, you will need to use your own project for the queries to bill to. Google offers a [GCP free tier](https://cloud.google.com/free) that allows for a user to query up to 1TB a month. ISB-CGC also offers $300 in free cloud credits for cancer researchers. More information can be found in our documentation [here](https://isb-cancer-genomics-cloud.readthedocs.io/en/latest/sections/HowtoRequestCloudCredits.html).\n",
        "\n",
        "---------------------- \n",
        "**Now**, knowing that the COSMIC datasets are stored within `isb-cgc`, we can identify all the COSMIC datasets available in the ISB-CGC resource (a form of metadata): "
      ]
    },
    {
      "cell_type": "code",
      "metadata": {
        "id": "h69rPiYpWa_5",
        "colab_type": "code",
        "colab": {
          "base_uri": "https://localhost:8080/",
          "height": 238
        },
        "outputId": "2449773e-8967-426d-86b7-e12e33f6832f"
      },
      "source": [
        "# Create a variable of datasets \n",
        "datasets = list(client.list_datasets())\n",
        "# Create a variable for the name of the project\n",
        "project = client.project\n",
        "\n",
        "# If there are datasets available then check whether they're COSMIC datasets\n",
        "# else print that either: 1) there are no COSMIC data sets available; or 2) there are\n",
        "# no data sets available at all\n",
        "\n",
        "cosmic_count = 0 # number of COSMIC datasets\n",
        "\n",
        "if datasets:\n",
        "    print(\"COSMIC datasets in project {}:\".format(project))\n",
        "    for dataset in datasets:  # API request(s)\n",
        "        if \"COSMIC\" in dataset.dataset_id.upper():\n",
        "          cosmic_count += 1\n",
        "          print(\"\\t{}\".format(dataset.dataset_id))\n",
        "    if cosmic_count == 0:\n",
        "      print(\"No COSMIC datasets, but other datasets are available.\")\n",
        "else:\n",
        "    print(\"{} project does not contain any datasets.\".format(project))"
      ],
      "execution_count": null,
      "outputs": [
        {
          "output_type": "stream",
          "text": [
            "COSMIC datasets in project isb-cgc:\n",
            "\tCOSMIC_v85_grch37\n",
            "\tCOSMIC_v85_grch38\n",
            "\tCOSMIC_v86_grch37\n",
            "\tCOSMIC_v86_grch38\n",
            "\tCOSMIC_v87_grch37\n",
            "\tCOSMIC_v87_grch38\n",
            "\tCOSMIC_v89_grch37\n",
            "\tCOSMIC_v89_grch38\n",
            "\tCOSMIC_v90_grch37\n",
            "\tCOSMIC_v90_grch38\n",
            "\tCOSMIC_v91_grch37\n",
            "\tCOSMIC_v91_grch38\n"
          ],
          "name": "stdout"
        }
      ]
    },
    {
      "cell_type": "markdown",
      "metadata": {
        "id": "aNbCMa7yODJW",
        "colab_type": "text"
      },
      "source": [
        "As you can see, ISB-CGC hosts the last several versions of the COSMIC database. The latest version is the last one, version 91, as indicated by its dataset name. There are two options for `v91`: `grch37` and `grch38`. These correspond to different versions of the *reference human genome*, and for the purposes of our analyses we want to be working with the most recent human genome version, `grch38`.  "
      ]
    },
    {
      "cell_type": "markdown",
      "metadata": {
        "id": "bObqffThZnRx",
        "colab_type": "text"
      },
      "source": [
        "Next, we can look at the tables within `COSMIC_v91_grch38`. We do this using a SQL query -- we'll go over querying very soon. For now, what's important to know is that the table names and descriptions are contained in the dataset's metadata, accessible with the *view* `INFORMATION_SCHEMA`. \n",
        "> A *metadata view* is a collection of fields containing metadata on a dataset.\n",
        ">\n",
        "We can write a SQL query to query `INFORMATION_SCHEMA.TABLE_OPTIONS`, which will provide table descriptions, among other information which can be found [here](https://cloud.google.com/bigquery/docs/information-schema-tables#table_options_view). We can then save the query result as a Pandas dataframe and display it nicely:\n",
        "\n"
      ]
    },
    {
      "cell_type": "code",
      "metadata": {
        "id": "VCzhc9u7nDae",
        "colab_type": "code",
        "colab": {
          "base_uri": "https://localhost:8080/",
          "height": 859
        },
        "outputId": "0420ce81-dd0f-45c4-818f-76674b27a411"
      },
      "source": [
        "import pandas as pd #import the pandas library and refer to it as 'pd', instead of 'pandas'\n",
        "\n",
        "\n",
        "# We want to select the rows which contain descriptions for the tables in COSMIC_v91_grch38\n",
        "# and display the table name with the description, which will be contained in the \n",
        "# 'option_value' column. 'option_name' column = 'description' lets us know that \n",
        "# the 'option_value' column is a description.\n",
        "QUERY = \"\"\"\n",
        "SELECT table_name AS Table_Name, TRIM(option_value, '\\\"') as Description\n",
        "FROM `isb-cgc.COSMIC_v91_grch38.INFORMATION_SCHEMA.TABLE_OPTIONS`\n",
        "WHERE option_name = 'description'\n",
        "ORDER BY table_name ASC;\n",
        "\"\"\"\n",
        "# obtain the query result and convert it to a Pandas dataframe\n",
        "tables = client.query(QUERY).result().to_dataframe() \n",
        "\n",
        "pd.set_option('display.max_colwidth', None) # make sure the descriptions display in full\n",
        "display(tables) # IPython's display() command displays tables more nicely than print()\n"
      ],
      "execution_count": null,
      "outputs": [
        {
          "output_type": "display_data",
          "data": {
            "text/html": [
              "<div>\n",
              "<style scoped>\n",
              "    .dataframe tbody tr th:only-of-type {\n",
              "        vertical-align: middle;\n",
              "    }\n",
              "\n",
              "    .dataframe tbody tr th {\n",
              "        vertical-align: top;\n",
              "    }\n",
              "\n",
              "    .dataframe thead th {\n",
              "        text-align: right;\n",
              "    }\n",
              "</style>\n",
              "<table border=\"1\" class=\"dataframe\">\n",
              "  <thead>\n",
              "    <tr style=\"text-align: right;\">\n",
              "      <th></th>\n",
              "      <th>Table_Name</th>\n",
              "      <th>Description</th>\n",
              "    </tr>\n",
              "  </thead>\n",
              "  <tbody>\n",
              "    <tr>\n",
              "      <th>0</th>\n",
              "      <td>ASCAT_Purity_Ploidy</td>\n",
              "      <td>This table contains information regarding the ploidy and aberrant cell fraction (purity estimate) for TCGA samples re-analysed using ASCAT.</td>\n",
              "    </tr>\n",
              "    <tr>\n",
              "      <th>1</th>\n",
              "      <td>Breakpoints</td>\n",
              "      <td>This table contains a list of breakpoints from the current release.</td>\n",
              "    </tr>\n",
              "    <tr>\n",
              "      <th>2</th>\n",
              "      <td>Cancer_Gene_Census</td>\n",
              "      <td>This table contains a list of cancer census genes from the current release.</td>\n",
              "    </tr>\n",
              "    <tr>\n",
              "      <th>3</th>\n",
              "      <td>Classification</td>\n",
              "      <td>This table contains COSMIC cancer classification information.</td>\n",
              "    </tr>\n",
              "    <tr>\n",
              "      <th>4</th>\n",
              "      <td>Complete_CNA</td>\n",
              "      <td>All copy number abberations from the current release in a tab separated table. For more information on copy number data, please see http://cancer.sanger.ac.uk/cosmic/help/cnv/overview.</td>\n",
              "    </tr>\n",
              "    <tr>\n",
              "      <th>5</th>\n",
              "      <td>Complete_Differential_Methylation</td>\n",
              "      <td>This table contains all TCGA level 3 methylation data from the ICGC portal for the current release</td>\n",
              "    </tr>\n",
              "    <tr>\n",
              "      <th>6</th>\n",
              "      <td>Complete_Gene_Expression</td>\n",
              "      <td>This table contains all gene-expression level 3 data from the TCGA portal.</td>\n",
              "    </tr>\n",
              "    <tr>\n",
              "      <th>7</th>\n",
              "      <td>Complete_Targeted_Screens_Mutant</td>\n",
              "      <td>This table contains information regarding the complete curated COSMIC dataset (targeted screens) from the current release.  It includes all coding point mutations, and the negative data set.</td>\n",
              "    </tr>\n",
              "    <tr>\n",
              "      <th>8</th>\n",
              "      <td>Fusion</td>\n",
              "      <td>This table contains all gene fusion mutation data from the current release.</td>\n",
              "    </tr>\n",
              "    <tr>\n",
              "      <th>9</th>\n",
              "      <td>Genome_Screens_Mutant</td>\n",
              "      <td>This table contains information regarding coding point mutations from genome wide screens (including whole exome sequencing).</td>\n",
              "    </tr>\n",
              "    <tr>\n",
              "      <th>10</th>\n",
              "      <td>HGNC</td>\n",
              "      <td>This table contains information regarding the relationship between the Cancer Gene Census, COSMIC ID, Gene Name, HGNC ID, and Entrez ID.</td>\n",
              "    </tr>\n",
              "    <tr>\n",
              "      <th>11</th>\n",
              "      <td>Mutant</td>\n",
              "      <td>This table contains all COSMIC coding point mutations from targeted and genome wide screens from the current release.</td>\n",
              "    </tr>\n",
              "    <tr>\n",
              "      <th>12</th>\n",
              "      <td>Mutant_Census</td>\n",
              "      <td>This table contains all coding mutations in genes listed in the Cancer Gene Census.</td>\n",
              "    </tr>\n",
              "    <tr>\n",
              "      <th>13</th>\n",
              "      <td>Mutation_Tracking</td>\n",
              "      <td>This table contains the listing the mapping all of COSMIC's legacy mutations(COSMs) to the new genomic identifiers(COSVs). This file also helps to identify the transcripts and the accession numbers on which the current mutation is annotated on, along with the mutation type.</td>\n",
              "    </tr>\n",
              "    <tr>\n",
              "      <th>14</th>\n",
              "      <td>NCV</td>\n",
              "      <td>This table contains all non-coding mutations from the current release.</td>\n",
              "    </tr>\n",
              "    <tr>\n",
              "      <th>15</th>\n",
              "      <td>Resistance_Mutations</td>\n",
              "      <td>This table contains the details of all mutations in COSMIC which are known to confer drug resistance.</td>\n",
              "    </tr>\n",
              "    <tr>\n",
              "      <th>16</th>\n",
              "      <td>Sample</td>\n",
              "      <td>This table contains all of the features related to a sample from the current release.</td>\n",
              "    </tr>\n",
              "    <tr>\n",
              "      <th>17</th>\n",
              "      <td>Structural_Variants</td>\n",
              "      <td>This table contains all structural variants from the current release.</td>\n",
              "    </tr>\n",
              "    <tr>\n",
              "      <th>18</th>\n",
              "      <td>Transcripts</td>\n",
              "      <td>This table contains the gene name and transcript accession for each gene ID.</td>\n",
              "    </tr>\n",
              "  </tbody>\n",
              "</table>\n",
              "</div>"
            ],
            "text/plain": [
              "                           Table_Name                                                                                                                                                                                                                                                                         Description\n",
              "0                 ASCAT_Purity_Ploidy                                                                                                                                         This table contains information regarding the ploidy and aberrant cell fraction (purity estimate) for TCGA samples re-analysed using ASCAT.\n",
              "1                         Breakpoints                                                                                                                                                                                                                This table contains a list of breakpoints from the current release. \n",
              "2                  Cancer_Gene_Census                                                                                                                                                                                                        This table contains a list of cancer census genes from the current release. \n",
              "3                      Classification                                                                                                                                                                                                                       This table contains COSMIC cancer classification information.\n",
              "4                        Complete_CNA                                                                                            All copy number abberations from the current release in a tab separated table. For more information on copy number data, please see http://cancer.sanger.ac.uk/cosmic/help/cnv/overview.\n",
              "5   Complete_Differential_Methylation                                                                                                                                                                                  This table contains all TCGA level 3 methylation data from the ICGC portal for the current release\n",
              "6            Complete_Gene_Expression                                                                                                                                                                                                          This table contains all gene-expression level 3 data from the TCGA portal.\n",
              "7    Complete_Targeted_Screens_Mutant                                                                                      This table contains information regarding the complete curated COSMIC dataset (targeted screens) from the current release.  It includes all coding point mutations, and the negative data set.\n",
              "8                              Fusion                                                                                                                                                                                                         This table contains all gene fusion mutation data from the current release.\n",
              "9               Genome_Screens_Mutant                                                                                                                                                       This table contains information regarding coding point mutations from genome wide screens (including whole exome sequencing).\n",
              "10                               HGNC                                                                                                                                            This table contains information regarding the relationship between the Cancer Gene Census, COSMIC ID, Gene Name, HGNC ID, and Entrez ID.\n",
              "11                             Mutant                                                                                                                                                               This table contains all COSMIC coding point mutations from targeted and genome wide screens from the current release.\n",
              "12                      Mutant_Census                                                                                                                                                                                                 This table contains all coding mutations in genes listed in the Cancer Gene Census.\n",
              "13                  Mutation_Tracking  This table contains the listing the mapping all of COSMIC's legacy mutations(COSMs) to the new genomic identifiers(COSVs). This file also helps to identify the transcripts and the accession numbers on which the current mutation is annotated on, along with the mutation type.\n",
              "14                                NCV                                                                                                                                                                                                              This table contains all non-coding mutations from the current release.\n",
              "15               Resistance_Mutations                                                                                                                                                                               This table contains the details of all mutations in COSMIC which are known to confer drug resistance.\n",
              "16                             Sample                                                                                                                                                                                               This table contains all of the features related to a sample from the current release.\n",
              "17                Structural_Variants                                                                                                                                                                                                               This table contains all structural variants from the current release.\n",
              "18                        Transcripts                                                                                                                                                                                                        This table contains the gene name and transcript accession for each gene ID."
            ]
          },
          "metadata": {
            "tags": []
          }
        }
      ]
    },
    {
      "cell_type": "markdown",
      "metadata": {
        "id": "ttMe7_1rlNnd",
        "colab_type": "text"
      },
      "source": [
        "Here, we can read about each table's purpose within COSMIC. As we discuss querying the dataset in the remainder of this notebook, we'll be interested in looking at two tables of clincal importance: `Cancer_Gene_Census`, a list of \"high confidence\" genes that have been strongly causally linked to certain types of tumors, and `Sample`, which contains all the features related to the hand-curated samples which comprise COSMIC."
      ]
    },
    {
      "cell_type": "markdown",
      "metadata": {
        "id": "RdnaHBPPs7ml",
        "colab_type": "text"
      },
      "source": [
        "### Make a Standard SQL call to COSMIC in BigQuery\n",
        "\n",
        "To make calls to BigQuery from an IPython notebook, we first need to direct the behavior of the IPython command line to accept SQL commands. This is done using a [magic command](https://ipython.readthedocs.io/en/stable/interactive/python-ipython-diff.html#magics), which is a kind of under-the-hood command that controls the behavior of the IPython line. \n",
        "\n",
        "There are several magic commands devoted to BigQuery, which can be found [here](https://googleapis.dev/python/bigquery/latest/magics.html).\n",
        "\n",
        "The magic command to initiate a SQL query to BigQuery is\n",
        "\n",
        "```\n",
        "%%bigquery --project <PROJECT_ID>\n",
        "```\n",
        "\n",
        "Because we're now performing a query, you will need to use your own project ID, as was previously discussed. You will need to update all code blocks with your project id in place of the PROJECT_ID in the magic commmand.\n"
      ]
    },
    {
      "cell_type": "markdown",
      "metadata": {
        "id": "CjBZEZuvDv9d",
        "colab_type": "text"
      },
      "source": [
        "####Querying example\n",
        "After the magic statement, you can then follow with the SQL command. For example, we can query the `Cancer_Gene_Census` table within the `COSMIC_v91_grch38` dataset to view a few genes and their associated *somatic tumor types* and *mutation types*:"
      ]
    },
    {
      "cell_type": "code",
      "metadata": {
        "id": "HSd14_tkHwPc",
        "colab_type": "code",
        "colab": {}
      },
      "source": [
        "# Call to BigQuery with IPython magic command using the appropriate project\n",
        "# Because we're querying, you'll need to update the magic command with\n",
        "# your project id\n",
        "%%bigquery --project PROJECT_ID\n",
        "\n",
        "# Standard SQL code\n",
        "SELECT # Select a few columns to view\n",
        "    Gene_Symbol,\n",
        "    Name,\n",
        "    Tumour_Types_Somatic,\n",
        "    Mutation_Types\n",
        "  \n",
        "FROM # From the Cancer_Gene_Census table within the COSMIC_v91_grch38 dataset\n",
        "  `isb-cgc.COSMIC_v91_grch38.Cancer_Gene_Census`\n",
        "\n",
        "LIMIT 5 # Limit to 5 rows; the table is huge and we only want a quick look\n",
        "\n",
        "# Syntax for the above query\n",
        "# SELECT * \n",
        "# FROM `project_name.dataset_name.INFORMATION_SCHEMA.COLUMNS`\n",
        "# Limit to the first 5 fields"
      ],
      "execution_count": null,
      "outputs": []
    },
    {
      "cell_type": "markdown",
      "metadata": {
        "id": "Gg2T-XjQPOoj",
        "colab_type": "text"
      },
      "source": [
        "But suppose you wanted to save the query result as an object so that you could do further analysis on them in Python. The table displayed above could be saved as a **Pandas dataframe**. There are two ways to go about this:\n",
        "1. You could include a variable name in the `%%bigquery` magic command, which will create a new variable with that name and save the query results in it as a dataframe. The object now exists in Python and you can reference it in subsequent code. Note, though, that **the subsequent Python code has to be run separate from the SQL code**, otherwise the magics will interpret the Python as SQL and throw an error. Here, we save the results in a new dataframe called `my_table`:"
      ]
    },
    {
      "cell_type": "code",
      "metadata": {
        "id": "0i9XLLc_Yq9m",
        "colab_type": "code",
        "colab": {}
      },
      "source": [
        "%%bigquery my_table --project PROJECT_ID\n",
        "#--------------------------------- SQL start\n",
        "SELECT\n",
        "    Gene_Symbol,\n",
        "    Name,\n",
        "    Tumour_Types_Somatic,\n",
        "    Mutation_Types\n",
        "  \n",
        "FROM\n",
        "  `isb-cgc.COSMIC_v91_grch38.Cancer_Gene_Census`\n",
        "\n",
        "LIMIT 5 \n",
        "#--------------------------------- SQL end\n"
      ],
      "execution_count": null,
      "outputs": []
    },
    {
      "cell_type": "code",
      "metadata": {
        "id": "I0dN6PQ70Ema",
        "colab_type": "code",
        "colab": {}
      },
      "source": [
        "my_table.head() #pandas command to view the first couple of rows of a dataframe"
      ],
      "execution_count": null,
      "outputs": []
    },
    {
      "cell_type": "markdown",
      "metadata": {
        "id": "lFLI9ZDvZYnM",
        "colab_type": "text"
      },
      "source": [
        "Or, \n",
        "2. You could query COSMIC by first storing the SQL query *as a string*, and then passing the stored query into a function that the client executes. The results are then returned as a dataframe. The benefit of this method is that you can insert a variable value in queries using the `String.format()` method. When we want to automate queries, you'll see this method used. The same query above would be written in this manner as:"
      ]
    },
    {
      "cell_type": "code",
      "metadata": {
        "id": "3YF4M6DHXEdo",
        "colab_type": "code",
        "colab": {}
      },
      "source": [
        "# construct the query as a SINGLE string, which can be formatted over \\\n",
        "# several lines for readability\n",
        "QUERY = \"\"\"\n",
        "  SELECT Gene_Symbol, Name, Tumour_Types_Somatic, Mutation_Types\n",
        "  FROM `isb-cgc.COSMIC_v91_grch38.Cancer_Gene_Census`\n",
        "  LIMIT 5\n",
        "\"\"\"\n",
        "\n",
        "# execute the query\n",
        "query_job = client.query(QUERY) # creates client job from your query\n",
        "df = query_job.result().to_dataframe() # .result() executes the job;\n",
        "                                       # .to_dataframe() converts the result, \n",
        "                                       # a RowIterator object, to a pandas dataframe\n",
        "\n",
        "# print the dataframe to compare to tabular output above\n",
        "df.head()"
      ],
      "execution_count": null,
      "outputs": []
    },
    {
      "cell_type": "markdown",
      "metadata": {
        "id": "zvEtcE6wDE4H",
        "colab_type": "text"
      },
      "source": [
        "And there you go! **We've successfully queried the COSMIC data stored in BigQuery.** \n"
      ]
    },
    {
      "cell_type": "markdown",
      "metadata": {
        "id": "9hlKla2qNSul",
        "colab_type": "text"
      },
      "source": [
        "###Visualizing COSMIC query results\n",
        "\n",
        "Once we have a dataframe, we can perform a visualization of the query results. For this example, let's explore a different table within COSMIC -- the `Sample` table.\n",
        "\n",
        "`Sample` contains all the information associated with a curated sample within the COSMIC database. A *sample* is an instance of a portion of a tumour being examined for mutations.\n",
        "* A number of samples can be taken from a single tumour\n",
        "* A number of tumours can be obtained from one individual\n",
        "\n",
        "Supposed we wanted to visualize the distribution of the **average ploidy** of a sample. The *ploidy* of a cell is the number of sets of chromosomes it contains. Normal human cells are diploid, meaning they contain two sets of chromosomes. However, because cancer cells rapidly divide and often have errors in cell cycle regulation that have allowed them to become tumorous, cancer cells can be *aneuploid*, meaning they contain more or less than two sets of chromosomes. Aneuploid cancer cells can be more aggressive than diploid cancer cells, so knowing a tumor sample's average ploidy -- an average of the ploidies of all of the cancer cells in the sample -- can be clinically useful for determining the nature of a tumor, the patient's prognosis, and treatment plans. \n",
        "\n",
        "Hence, it would be interesting and useful to visualize the distribution of average ploidies of all the samples in COSMIC. We can do this by creating a histogram which bins on average ploidy values. \n",
        "\n",
        "#### Plotly\n",
        "To create our visualizations, we'll be using a Python graphics library called **Plotly**. Plotly is easy to use and produces descriptive, versatile, and interactive charts that are visually pleasing as well.\n",
        "\n",
        "This is what the first few rows of the `average_ploidy` column in the `Sample` table looks like:"
      ]
    },
    {
      "cell_type": "code",
      "metadata": {
        "id": "vzH3blSBlJo0",
        "colab_type": "code",
        "colab": {
          "base_uri": "https://localhost:8080/",
          "height": 359
        },
        "outputId": "b5a5f926-954e-4901-846b-5bfaf1a3dc66"
      },
      "source": [
        "# SQL which gets the name and average ploidy of the first 10 samples for which \\\n",
        "# there is an average ploidy value (some of the rows are NULL)\n",
        "QUERY = \"\"\"\n",
        "  SELECT sample_name, average_ploidy\n",
        "  FROM `isb-cgc.COSMIC_v91_grch38.Sample`\n",
        "  WHERE average_ploidy IS NOT NULL\n",
        "  LIMIT 10\n",
        "\"\"\"\n",
        "ap_preview = client.query(QUERY).result().to_dataframe() # fetch the result dataframe\n",
        "ap_preview.head(10) # view the dataframe\n"
      ],
      "execution_count": null,
      "outputs": [
        {
          "output_type": "execute_result",
          "data": {
            "text/html": [
              "<div>\n",
              "<style scoped>\n",
              "    .dataframe tbody tr th:only-of-type {\n",
              "        vertical-align: middle;\n",
              "    }\n",
              "\n",
              "    .dataframe tbody tr th {\n",
              "        vertical-align: top;\n",
              "    }\n",
              "\n",
              "    .dataframe thead th {\n",
              "        text-align: right;\n",
              "    }\n",
              "</style>\n",
              "<table border=\"1\" class=\"dataframe\">\n",
              "  <thead>\n",
              "    <tr style=\"text-align: right;\">\n",
              "      <th></th>\n",
              "      <th>sample_name</th>\n",
              "      <th>average_ploidy</th>\n",
              "    </tr>\n",
              "  </thead>\n",
              "  <tbody>\n",
              "    <tr>\n",
              "      <th>0</th>\n",
              "      <td>JEG-3</td>\n",
              "      <td>3.195344</td>\n",
              "    </tr>\n",
              "    <tr>\n",
              "      <th>1</th>\n",
              "      <td>NCCIT</td>\n",
              "      <td>2.500285</td>\n",
              "    </tr>\n",
              "    <tr>\n",
              "      <th>2</th>\n",
              "      <td>HUTU-80</td>\n",
              "      <td>1.960884</td>\n",
              "    </tr>\n",
              "    <tr>\n",
              "      <th>3</th>\n",
              "      <td>MSTO-211H</td>\n",
              "      <td>3.489185</td>\n",
              "    </tr>\n",
              "    <tr>\n",
              "      <th>4</th>\n",
              "      <td>NCI-H2052</td>\n",
              "      <td>3.875562</td>\n",
              "    </tr>\n",
              "    <tr>\n",
              "      <th>5</th>\n",
              "      <td>NCI-H28</td>\n",
              "      <td>3.800372</td>\n",
              "    </tr>\n",
              "    <tr>\n",
              "      <th>6</th>\n",
              "      <td>A431</td>\n",
              "      <td>3.301722</td>\n",
              "    </tr>\n",
              "    <tr>\n",
              "      <th>7</th>\n",
              "      <td>A431</td>\n",
              "      <td>3.301722</td>\n",
              "    </tr>\n",
              "    <tr>\n",
              "      <th>8</th>\n",
              "      <td>HT-29</td>\n",
              "      <td>3.044550</td>\n",
              "    </tr>\n",
              "    <tr>\n",
              "      <th>9</th>\n",
              "      <td>NCI-H28</td>\n",
              "      <td>3.800372</td>\n",
              "    </tr>\n",
              "  </tbody>\n",
              "</table>\n",
              "</div>"
            ],
            "text/plain": [
              "  sample_name  average_ploidy\n",
              "0       JEG-3        3.195344\n",
              "1       NCCIT        2.500285\n",
              "2     HUTU-80        1.960884\n",
              "3   MSTO-211H        3.489185\n",
              "4   NCI-H2052        3.875562\n",
              "5     NCI-H28        3.800372\n",
              "6        A431        3.301722\n",
              "7        A431        3.301722\n",
              "8       HT-29        3.044550\n",
              "9     NCI-H28        3.800372"
            ]
          },
          "metadata": {
            "tags": []
          },
          "execution_count": 22
        }
      ]
    },
    {
      "cell_type": "markdown",
      "metadata": {
        "id": "Srh9grB6lKqC",
        "colab_type": "text"
      },
      "source": [
        "Our strategy for creating a histogram of these average ploidies is not going to be as straightforward as simply taking the column and plotting it. We're only viewing 10 of the 1,457,206 total rows. It would be incredibly taxing, and perhaps *impossible*, to feed all 1.4 million rows into Plotly's histogram function. \n",
        "\n",
        "Instead, we have to write SQL code to sort the ploidy column into value bins (0-1, 1-2, 2-3, etc.):"
      ]
    },
    {
      "cell_type": "code",
      "metadata": {
        "id": "3edue6_BH5yg",
        "colab_type": "code",
        "colab": {}
      },
      "source": [
        "%%bigquery avg_ploi_1 --project PROJECT_ID\n",
        "\n",
        "SELECT\n",
        "  CASE # create a different bin for each range that ploidy falls between\n",
        "    WHEN average_ploidy >= 0 and average_ploidy < 0.5 THEN '0.0-0.5' \n",
        "    WHEN average_ploidy >= 0.5 and average_ploidy < 1 THEN '0.5-1.0'\n",
        "    WHEN average_ploidy >= 1 and average_ploidy < 1.5 THEN '1.0-1.5'\n",
        "    WHEN average_ploidy >= 1.5 and average_ploidy < 2 THEN '1.5-2.0'\n",
        "    WHEN average_ploidy >= 2 and average_ploidy < 2.5 THEN '2.0-2.5'\n",
        "    WHEN average_ploidy >= 2.5 and average_ploidy < 3 THEN '2.5-3.0'\n",
        "    WHEN average_ploidy >= 3 and average_ploidy < 3.5 THEN '3.0-3.5'\n",
        "    WHEN average_ploidy >= 3.5 and average_ploidy < 4 THEN '3.5-4.0'\n",
        "    WHEN average_ploidy >= 4 and average_ploidy < 4.5 THEN '4.0-4.5'\n",
        "    WHEN average_ploidy >= 4.5 and average_ploidy < 5 THEN '4.5-5.0'\n",
        "    WHEN average_ploidy >= 5 and average_ploidy < 5.5 THEN '5.0-5.5'\n",
        "    WHEN average_ploidy >= 5.5 and average_ploidy < 6 THEN '5.5-6.0'\n",
        "    ELSE 'NA'\n",
        "  END as ploidy_bin, COUNT(*) as count # count the number of rows per each ploidy bin\n",
        "FROM `isb-cgc.COSMIC_v91_grch38.Sample` \n",
        "WHERE average_ploidy IS NOT NULL # don't count any rows without values \n",
        "GROUP BY ploidy_bin # necessary if doing count for each ploidy bin\n",
        "ORDER BY ploidy_bin ASC; # display bins in order of ascending ploidy value"
      ],
      "execution_count": null,
      "outputs": []
    },
    {
      "cell_type": "markdown",
      "metadata": {
        "id": "2_yGEFZmgHBc",
        "colab_type": "text"
      },
      "source": [
        "> *Note*: We can then view the resulting table as we have before, with `head()`, or we can alternatively use a Python library called **Tabulate**, which offers several different styles of nicely formatted outputs for tabular data!"
      ]
    },
    {
      "cell_type": "code",
      "metadata": {
        "id": "HgwdTh_xjsSe",
        "colab_type": "code",
        "colab": {
          "base_uri": "https://localhost:8080/",
          "height": 221
        },
        "outputId": "1936adde-b1a0-4681-9c63-d578f8282755"
      },
      "source": [
        "from tabulate import tabulate # import the tabulate command from the tabulate library\n",
        "\n",
        "# view the new table of bins, avg_ploi_1\n",
        "# headers='keys' means that the column headers for the table will be the \n",
        "# column names of the Pandas dataframe\n",
        "print(tabulate(avg_ploi_1, headers='keys', tablefmt='simple'))"
      ],
      "execution_count": null,
      "outputs": [
        {
          "output_type": "stream",
          "text": [
            "    ploidy_bin      count\n",
            "--  ------------  -------\n",
            " 0  1.0-1.5            10\n",
            " 1  1.5-2.0          4972\n",
            " 2  2.0-2.5          4227\n",
            " 3  2.5-3.0          2622\n",
            " 4  3.0-3.5          2357\n",
            " 5  3.5-4.0          2186\n",
            " 6  4.0-4.5           799\n",
            " 7  4.5-5.0           291\n",
            " 8  5.0-5.5           157\n",
            " 9  5.5-6.0            15\n"
          ],
          "name": "stdout"
        }
      ]
    },
    {
      "cell_type": "markdown",
      "metadata": {
        "id": "oV5F-Nbivdbx",
        "colab_type": "text"
      },
      "source": [
        "Then, we can use this new table to create a **bar plot** of the bins vs. counts using Plotly. We can format it so that it reads as a histogram:"
      ]
    },
    {
      "cell_type": "code",
      "metadata": {
        "id": "L9n_NUkWva1E",
        "colab_type": "code",
        "colab": {
          "base_uri": "https://localhost:8080/",
          "height": 542
        },
        "outputId": "a8a2c201-b565-4f3c-8b89-2c83ad03f9f5"
      },
      "source": [
        "import plotly.express as px # import the plotly library\n",
        "\n",
        "# first, we create the figure object as a barplot\n",
        "# 'labels' maps the column names of our dataframe to the label we'd like to display \n",
        "fig1 = px.bar(avg_ploi_1, x='ploidy_bin', y='count', \n",
        "              labels={'ploidy_bin':'Average Ploidy of Sample', 'count':'Number of Samples'})\n",
        "\n",
        "# next, we make sure there is no gap between bars to make it more histogram-like\n",
        "# and we give the plot a title\n",
        "fig1.update_layout(bargap=0, \n",
        "                   title_text='Distribution of Average Ploidies Across All COSMIC Samples')\n",
        "\n",
        "# finally, we change the fill color and outline color of the bars, and set the \n",
        "# outline width and fill opacity\n",
        "fig1.update_traces(marker_color='rgb(158,202,225)', marker_line_color='rgb(8,48,107)',\n",
        "                  marker_line_width=1.5, opacity=0.6)\n",
        "\n",
        "# 'show()' displays the final figure\n",
        "fig1.show()"
      ],
      "execution_count": null,
      "outputs": [
        {
          "output_type": "display_data",
          "data": {
            "text/html": [
              "<html>\n",
              "<head><meta charset=\"utf-8\" /></head>\n",
              "<body>\n",
              "    <div>\n",
              "            <script src=\"https://cdnjs.cloudflare.com/ajax/libs/mathjax/2.7.5/MathJax.js?config=TeX-AMS-MML_SVG\"></script><script type=\"text/javascript\">if (window.MathJax) {MathJax.Hub.Config({SVG: {font: \"STIX-Web\"}});}</script>\n",
              "                <script type=\"text/javascript\">window.PlotlyConfig = {MathJaxConfig: 'local'};</script>\n",
              "        <script src=\"https://cdn.plot.ly/plotly-latest.min.js\"></script>    \n",
              "            <div id=\"40d73e4c-5763-4d07-a83c-40e54641a1b7\" class=\"plotly-graph-div\" style=\"height:525px; width:100%;\"></div>\n",
              "            <script type=\"text/javascript\">\n",
              "                \n",
              "                    window.PLOTLYENV=window.PLOTLYENV || {};\n",
              "                    \n",
              "                if (document.getElementById(\"40d73e4c-5763-4d07-a83c-40e54641a1b7\")) {\n",
              "                    Plotly.newPlot(\n",
              "                        '40d73e4c-5763-4d07-a83c-40e54641a1b7',\n",
              "                        [{\"alignmentgroup\": \"True\", \"hoverlabel\": {\"namelength\": 0}, \"hovertemplate\": \"Average Ploidy of Sample=%{x}<br>Number of Samples=%{y}\", \"legendgroup\": \"\", \"marker\": {\"color\": \"rgb(158,202,225)\", \"line\": {\"color\": \"rgb(8,48,107)\", \"width\": 1.5}}, \"name\": \"\", \"offsetgroup\": \"\", \"opacity\": 0.6, \"orientation\": \"v\", \"showlegend\": false, \"textposition\": \"auto\", \"type\": \"bar\", \"x\": [\"1.0-1.5\", \"1.5-2.0\", \"2.0-2.5\", \"2.5-3.0\", \"3.0-3.5\", \"3.5-4.0\", \"4.0-4.5\", \"4.5-5.0\", \"5.0-5.5\", \"5.5-6.0\"], \"xaxis\": \"x\", \"y\": [10, 4972, 4227, 2622, 2357, 2186, 799, 291, 157, 15], \"yaxis\": \"y\"}],\n",
              "                        {\"bargap\": 0, \"barmode\": \"relative\", \"legend\": {\"tracegroupgap\": 0}, \"margin\": {\"t\": 60}, \"template\": {\"data\": {\"bar\": [{\"error_x\": {\"color\": \"#2a3f5f\"}, \"error_y\": {\"color\": \"#2a3f5f\"}, \"marker\": {\"line\": {\"color\": \"#E5ECF6\", \"width\": 0.5}}, \"type\": \"bar\"}], \"barpolar\": [{\"marker\": {\"line\": {\"color\": \"#E5ECF6\", \"width\": 0.5}}, \"type\": \"barpolar\"}], \"carpet\": [{\"aaxis\": {\"endlinecolor\": \"#2a3f5f\", \"gridcolor\": \"white\", \"linecolor\": \"white\", \"minorgridcolor\": \"white\", \"startlinecolor\": \"#2a3f5f\"}, \"baxis\": {\"endlinecolor\": \"#2a3f5f\", \"gridcolor\": \"white\", \"linecolor\": \"white\", \"minorgridcolor\": \"white\", \"startlinecolor\": \"#2a3f5f\"}, \"type\": \"carpet\"}], \"choropleth\": [{\"colorbar\": {\"outlinewidth\": 0, \"ticks\": \"\"}, \"type\": \"choropleth\"}], \"contour\": [{\"colorbar\": {\"outlinewidth\": 0, \"ticks\": \"\"}, \"colorscale\": [[0.0, \"#0d0887\"], [0.1111111111111111, \"#46039f\"], [0.2222222222222222, \"#7201a8\"], [0.3333333333333333, \"#9c179e\"], [0.4444444444444444, \"#bd3786\"], [0.5555555555555556, \"#d8576b\"], [0.6666666666666666, \"#ed7953\"], [0.7777777777777778, \"#fb9f3a\"], [0.8888888888888888, \"#fdca26\"], [1.0, \"#f0f921\"]], \"type\": \"contour\"}], \"contourcarpet\": [{\"colorbar\": {\"outlinewidth\": 0, \"ticks\": \"\"}, \"type\": \"contourcarpet\"}], \"heatmap\": [{\"colorbar\": {\"outlinewidth\": 0, \"ticks\": \"\"}, \"colorscale\": [[0.0, \"#0d0887\"], [0.1111111111111111, \"#46039f\"], [0.2222222222222222, \"#7201a8\"], [0.3333333333333333, \"#9c179e\"], [0.4444444444444444, \"#bd3786\"], [0.5555555555555556, \"#d8576b\"], [0.6666666666666666, \"#ed7953\"], [0.7777777777777778, \"#fb9f3a\"], [0.8888888888888888, \"#fdca26\"], [1.0, \"#f0f921\"]], \"type\": \"heatmap\"}], \"heatmapgl\": [{\"colorbar\": {\"outlinewidth\": 0, \"ticks\": \"\"}, \"colorscale\": [[0.0, \"#0d0887\"], [0.1111111111111111, \"#46039f\"], [0.2222222222222222, \"#7201a8\"], [0.3333333333333333, \"#9c179e\"], [0.4444444444444444, \"#bd3786\"], [0.5555555555555556, \"#d8576b\"], [0.6666666666666666, \"#ed7953\"], [0.7777777777777778, \"#fb9f3a\"], [0.8888888888888888, \"#fdca26\"], [1.0, \"#f0f921\"]], \"type\": \"heatmapgl\"}], \"histogram\": [{\"marker\": {\"colorbar\": {\"outlinewidth\": 0, \"ticks\": \"\"}}, \"type\": \"histogram\"}], \"histogram2d\": [{\"colorbar\": {\"outlinewidth\": 0, \"ticks\": \"\"}, \"colorscale\": [[0.0, \"#0d0887\"], [0.1111111111111111, \"#46039f\"], [0.2222222222222222, \"#7201a8\"], [0.3333333333333333, \"#9c179e\"], [0.4444444444444444, \"#bd3786\"], [0.5555555555555556, \"#d8576b\"], [0.6666666666666666, \"#ed7953\"], [0.7777777777777778, \"#fb9f3a\"], [0.8888888888888888, \"#fdca26\"], [1.0, \"#f0f921\"]], \"type\": \"histogram2d\"}], \"histogram2dcontour\": [{\"colorbar\": {\"outlinewidth\": 0, \"ticks\": \"\"}, \"colorscale\": [[0.0, \"#0d0887\"], [0.1111111111111111, \"#46039f\"], [0.2222222222222222, \"#7201a8\"], [0.3333333333333333, \"#9c179e\"], [0.4444444444444444, \"#bd3786\"], [0.5555555555555556, \"#d8576b\"], [0.6666666666666666, \"#ed7953\"], [0.7777777777777778, \"#fb9f3a\"], [0.8888888888888888, \"#fdca26\"], [1.0, \"#f0f921\"]], \"type\": \"histogram2dcontour\"}], \"mesh3d\": [{\"colorbar\": {\"outlinewidth\": 0, \"ticks\": \"\"}, \"type\": \"mesh3d\"}], \"parcoords\": [{\"line\": {\"colorbar\": {\"outlinewidth\": 0, \"ticks\": \"\"}}, \"type\": \"parcoords\"}], \"pie\": [{\"automargin\": true, \"type\": \"pie\"}], \"scatter\": [{\"marker\": {\"colorbar\": {\"outlinewidth\": 0, \"ticks\": \"\"}}, \"type\": \"scatter\"}], \"scatter3d\": [{\"line\": {\"colorbar\": {\"outlinewidth\": 0, \"ticks\": \"\"}}, \"marker\": {\"colorbar\": {\"outlinewidth\": 0, \"ticks\": \"\"}}, \"type\": \"scatter3d\"}], \"scattercarpet\": [{\"marker\": {\"colorbar\": {\"outlinewidth\": 0, \"ticks\": \"\"}}, \"type\": \"scattercarpet\"}], \"scattergeo\": [{\"marker\": {\"colorbar\": {\"outlinewidth\": 0, \"ticks\": \"\"}}, \"type\": \"scattergeo\"}], \"scattergl\": [{\"marker\": {\"colorbar\": {\"outlinewidth\": 0, \"ticks\": \"\"}}, \"type\": \"scattergl\"}], \"scattermapbox\": [{\"marker\": {\"colorbar\": {\"outlinewidth\": 0, \"ticks\": \"\"}}, \"type\": \"scattermapbox\"}], \"scatterpolar\": [{\"marker\": {\"colorbar\": {\"outlinewidth\": 0, \"ticks\": \"\"}}, \"type\": \"scatterpolar\"}], \"scatterpolargl\": [{\"marker\": {\"colorbar\": {\"outlinewidth\": 0, \"ticks\": \"\"}}, \"type\": \"scatterpolargl\"}], \"scatterternary\": [{\"marker\": {\"colorbar\": {\"outlinewidth\": 0, \"ticks\": \"\"}}, \"type\": \"scatterternary\"}], \"surface\": [{\"colorbar\": {\"outlinewidth\": 0, \"ticks\": \"\"}, \"colorscale\": [[0.0, \"#0d0887\"], [0.1111111111111111, \"#46039f\"], [0.2222222222222222, \"#7201a8\"], [0.3333333333333333, \"#9c179e\"], [0.4444444444444444, \"#bd3786\"], [0.5555555555555556, \"#d8576b\"], [0.6666666666666666, \"#ed7953\"], [0.7777777777777778, \"#fb9f3a\"], [0.8888888888888888, \"#fdca26\"], [1.0, \"#f0f921\"]], \"type\": \"surface\"}], \"table\": [{\"cells\": {\"fill\": {\"color\": \"#EBF0F8\"}, \"line\": {\"color\": \"white\"}}, \"header\": {\"fill\": {\"color\": \"#C8D4E3\"}, \"line\": {\"color\": \"white\"}}, \"type\": \"table\"}]}, \"layout\": {\"annotationdefaults\": {\"arrowcolor\": \"#2a3f5f\", \"arrowhead\": 0, \"arrowwidth\": 1}, \"coloraxis\": {\"colorbar\": {\"outlinewidth\": 0, \"ticks\": \"\"}}, \"colorscale\": {\"diverging\": [[0, \"#8e0152\"], [0.1, \"#c51b7d\"], [0.2, \"#de77ae\"], [0.3, \"#f1b6da\"], [0.4, \"#fde0ef\"], [0.5, \"#f7f7f7\"], [0.6, \"#e6f5d0\"], [0.7, \"#b8e186\"], [0.8, \"#7fbc41\"], [0.9, \"#4d9221\"], [1, \"#276419\"]], \"sequential\": [[0.0, \"#0d0887\"], [0.1111111111111111, \"#46039f\"], [0.2222222222222222, \"#7201a8\"], [0.3333333333333333, \"#9c179e\"], [0.4444444444444444, \"#bd3786\"], [0.5555555555555556, \"#d8576b\"], [0.6666666666666666, \"#ed7953\"], [0.7777777777777778, \"#fb9f3a\"], [0.8888888888888888, \"#fdca26\"], [1.0, \"#f0f921\"]], \"sequentialminus\": [[0.0, \"#0d0887\"], [0.1111111111111111, \"#46039f\"], [0.2222222222222222, \"#7201a8\"], [0.3333333333333333, \"#9c179e\"], [0.4444444444444444, \"#bd3786\"], [0.5555555555555556, \"#d8576b\"], [0.6666666666666666, \"#ed7953\"], [0.7777777777777778, \"#fb9f3a\"], [0.8888888888888888, \"#fdca26\"], [1.0, \"#f0f921\"]]}, \"colorway\": [\"#636efa\", \"#EF553B\", \"#00cc96\", \"#ab63fa\", \"#FFA15A\", \"#19d3f3\", \"#FF6692\", \"#B6E880\", \"#FF97FF\", \"#FECB52\"], \"font\": {\"color\": \"#2a3f5f\"}, \"geo\": {\"bgcolor\": \"white\", \"lakecolor\": \"white\", \"landcolor\": \"#E5ECF6\", \"showlakes\": true, \"showland\": true, \"subunitcolor\": \"white\"}, \"hoverlabel\": {\"align\": \"left\"}, \"hovermode\": \"closest\", \"mapbox\": {\"style\": \"light\"}, \"paper_bgcolor\": \"white\", \"plot_bgcolor\": \"#E5ECF6\", \"polar\": {\"angularaxis\": {\"gridcolor\": \"white\", \"linecolor\": \"white\", \"ticks\": \"\"}, \"bgcolor\": \"#E5ECF6\", \"radialaxis\": {\"gridcolor\": \"white\", \"linecolor\": \"white\", \"ticks\": \"\"}}, \"scene\": {\"xaxis\": {\"backgroundcolor\": \"#E5ECF6\", \"gridcolor\": \"white\", \"gridwidth\": 2, \"linecolor\": \"white\", \"showbackground\": true, \"ticks\": \"\", \"zerolinecolor\": \"white\"}, \"yaxis\": {\"backgroundcolor\": \"#E5ECF6\", \"gridcolor\": \"white\", \"gridwidth\": 2, \"linecolor\": \"white\", \"showbackground\": true, \"ticks\": \"\", \"zerolinecolor\": \"white\"}, \"zaxis\": {\"backgroundcolor\": \"#E5ECF6\", \"gridcolor\": \"white\", \"gridwidth\": 2, \"linecolor\": \"white\", \"showbackground\": true, \"ticks\": \"\", \"zerolinecolor\": \"white\"}}, \"shapedefaults\": {\"line\": {\"color\": \"#2a3f5f\"}}, \"ternary\": {\"aaxis\": {\"gridcolor\": \"white\", \"linecolor\": \"white\", \"ticks\": \"\"}, \"baxis\": {\"gridcolor\": \"white\", \"linecolor\": \"white\", \"ticks\": \"\"}, \"bgcolor\": \"#E5ECF6\", \"caxis\": {\"gridcolor\": \"white\", \"linecolor\": \"white\", \"ticks\": \"\"}}, \"title\": {\"x\": 0.05}, \"xaxis\": {\"automargin\": true, \"gridcolor\": \"white\", \"linecolor\": \"white\", \"ticks\": \"\", \"title\": {\"standoff\": 15}, \"zerolinecolor\": \"white\", \"zerolinewidth\": 2}, \"yaxis\": {\"automargin\": true, \"gridcolor\": \"white\", \"linecolor\": \"white\", \"ticks\": \"\", \"title\": {\"standoff\": 15}, \"zerolinecolor\": \"white\", \"zerolinewidth\": 2}}}, \"title\": {\"text\": \"Distribution of Average Ploidies Across All COSMIC Samples\"}, \"xaxis\": {\"anchor\": \"y\", \"domain\": [0.0, 1.0], \"title\": {\"text\": \"Average Ploidy of Sample\"}}, \"yaxis\": {\"anchor\": \"x\", \"domain\": [0.0, 1.0], \"title\": {\"text\": \"Number of Samples\"}}},\n",
              "                        {\"responsive\": true}\n",
              "                    ).then(function(){\n",
              "                            \n",
              "var gd = document.getElementById('40d73e4c-5763-4d07-a83c-40e54641a1b7');\n",
              "var x = new MutationObserver(function (mutations, observer) {{\n",
              "        var display = window.getComputedStyle(gd).display;\n",
              "        if (!display || display === 'none') {{\n",
              "            console.log([gd, 'removed!']);\n",
              "            Plotly.purge(gd);\n",
              "            observer.disconnect();\n",
              "        }}\n",
              "}});\n",
              "\n",
              "// Listen for the removal of the full notebook cells\n",
              "var notebookContainer = gd.closest('#notebook-container');\n",
              "if (notebookContainer) {{\n",
              "    x.observe(notebookContainer, {childList: true});\n",
              "}}\n",
              "\n",
              "// Listen for the clearing of the current output cell\n",
              "var outputEl = gd.closest('.output');\n",
              "if (outputEl) {{\n",
              "    x.observe(outputEl, {childList: true});\n",
              "}}\n",
              "\n",
              "                        })\n",
              "                };\n",
              "                \n",
              "            </script>\n",
              "        </div>\n",
              "</body>\n",
              "</html>"
            ]
          },
          "metadata": {
            "tags": []
          }
        }
      ]
    },
    {
      "cell_type": "markdown",
      "metadata": {
        "id": "x4ObwN_xQEGT",
        "colab_type": "text"
      },
      "source": [
        "Now we can visualize the distribution of average ploidies across the samples which make up the COSMIC database! As we can see, almost all samples have an avg. ploidy of at least 1.5, with the median being somewhere between 1.5 and 2.5. We might expect this knowing that somatic human cells are diploid (a ploidy of 2.0). It's also interesting to see how high the ploidy can go with some samples, even up to at least 5.5. \n",
        "\n",
        "Most importantly, we see that aneuploid tumor cells almost always have ***too many*** sets of chromosomes, rather than too little, as indicated by the right skew of the histogram.\n",
        "\n",
        "If we wanted greater resolution on the histogram, we could've also chosen another method to construct the bins:"
      ]
    },
    {
      "cell_type": "code",
      "metadata": {
        "id": "eFH4HOFWe8Q1",
        "colab_type": "code",
        "colab": {}
      },
      "source": [
        "# Instead of sorting into predefined value ranges, we'll round the average ploidy column \\\n",
        "# to the first decimal using the ROUND function. \\\n",
        "# Then, we'll group the rows by their rounded value, producing many more bins, and count \\\n",
        "# the rows in each bin the same as before.\n",
        "%%bigquery avg_ploi_2 --project PROJECT_ID\n",
        "\n",
        "SELECT ROUND(average_ploidy, 1) AS ploidy_bin, COUNT(*) AS count \n",
        "FROM `isb-cgc.COSMIC_v91_grch38.Sample` \n",
        "WHERE average_ploidy IS NOT NULL\n",
        "GROUP BY ploidy_bin\n",
        "ORDER BY ploidy_bin;"
      ],
      "execution_count": null,
      "outputs": []
    },
    {
      "cell_type": "code",
      "metadata": {
        "id": "qH9-21kiyUTS",
        "colab_type": "code",
        "colab": {
          "base_uri": "https://localhost:8080/",
          "height": 255
        },
        "outputId": "c9e6c8de-b5f4-4c4f-acf7-8e67937a6f9e"
      },
      "source": [
        "# view avg_ploi_2 using tabulate\n",
        "print(tabulate(avg_ploi_2.head(10), headers='keys', tablefmt='simple'))\n",
        "print(\"\\n ({} more rows)\".format(avg_ploi_2.size-10))"
      ],
      "execution_count": null,
      "outputs": [
        {
          "output_type": "stream",
          "text": [
            "      ploidy_bin    count\n",
            "--  ------------  -------\n",
            " 0           1.2        1\n",
            " 1           1.3        1\n",
            " 2           1.4        4\n",
            " 3           1.5       27\n",
            " 4           1.6      104\n",
            " 5           1.7      270\n",
            " 6           1.8      681\n",
            " 7           1.9     1866\n",
            " 8           2       3686\n",
            " 9           2.1     1221\n",
            "\n",
            " (84 more rows)\n"
          ],
          "name": "stdout"
        }
      ]
    },
    {
      "cell_type": "code",
      "metadata": {
        "id": "MCCqua1KxLiH",
        "colab_type": "code",
        "colab": {
          "base_uri": "https://localhost:8080/",
          "height": 542
        },
        "outputId": "e8eca7bb-c278-4439-acf6-f1754d7992fd"
      },
      "source": [
        "# just like the last figure, create a barplot to represent avg_ploi_2\n",
        "fig2 = px.bar(avg_ploi_2, x='ploidy_bin', y='count', \n",
        "              labels={'ploidy_bin':'Average Ploidy of Sample', 'count':'Number of Samples'})\n",
        "fig2.update_layout(bargap=0, \n",
        "                   title_text='Distribution of Average Ploidies Across All COSMIC Samples')\n",
        "fig2.update_traces(marker_color='rgb(158,202,225)', marker_line_color='rgb(8,48,107)',\n",
        "                  marker_line_width=1.5, opacity=0.6)\n",
        "fig2.show()"
      ],
      "execution_count": null,
      "outputs": [
        {
          "output_type": "display_data",
          "data": {
            "text/html": [
              "<html>\n",
              "<head><meta charset=\"utf-8\" /></head>\n",
              "<body>\n",
              "    <div>\n",
              "            <script src=\"https://cdnjs.cloudflare.com/ajax/libs/mathjax/2.7.5/MathJax.js?config=TeX-AMS-MML_SVG\"></script><script type=\"text/javascript\">if (window.MathJax) {MathJax.Hub.Config({SVG: {font: \"STIX-Web\"}});}</script>\n",
              "                <script type=\"text/javascript\">window.PlotlyConfig = {MathJaxConfig: 'local'};</script>\n",
              "        <script src=\"https://cdn.plot.ly/plotly-latest.min.js\"></script>    \n",
              "            <div id=\"8fa6543f-b72a-45c2-be71-6c9f96bfee9e\" class=\"plotly-graph-div\" style=\"height:525px; width:100%;\"></div>\n",
              "            <script type=\"text/javascript\">\n",
              "                \n",
              "                    window.PLOTLYENV=window.PLOTLYENV || {};\n",
              "                    \n",
              "                if (document.getElementById(\"8fa6543f-b72a-45c2-be71-6c9f96bfee9e\")) {\n",
              "                    Plotly.newPlot(\n",
              "                        '8fa6543f-b72a-45c2-be71-6c9f96bfee9e',\n",
              "                        [{\"alignmentgroup\": \"True\", \"hoverlabel\": {\"namelength\": 0}, \"hovertemplate\": \"Average Ploidy of Sample=%{x}<br>Number of Samples=%{y}\", \"legendgroup\": \"\", \"marker\": {\"color\": \"rgb(158,202,225)\", \"line\": {\"color\": \"rgb(8,48,107)\", \"width\": 1.5}}, \"name\": \"\", \"offsetgroup\": \"\", \"opacity\": 0.6, \"orientation\": \"v\", \"showlegend\": false, \"textposition\": \"auto\", \"type\": \"bar\", \"x\": [1.2, 1.3, 1.4, 1.5, 1.6, 1.7, 1.8, 1.9, 2.0, 2.1, 2.2, 2.3, 2.4, 2.5, 2.6, 2.7, 2.8, 2.9, 3.0, 3.1, 3.2, 3.3, 3.4, 3.5, 3.6, 3.7, 3.8, 3.9, 4.0, 4.1, 4.2, 4.3, 4.4, 4.5, 4.6, 4.7, 4.8, 4.9, 5.0, 5.1, 5.2, 5.3, 5.4, 5.5, 5.6, 5.7, 5.9], \"xaxis\": \"x\", \"y\": [1, 1, 4, 27, 104, 270, 681, 1866, 3686, 1221, 553, 286, 314, 369, 314, 573, 572, 562, 752, 435, 528, 441, 403, 412, 425, 483, 474, 454, 254, 199, 230, 171, 81, 47, 70, 54, 79, 32, 56, 24, 34, 42, 27, 14, 4, 1, 6], \"yaxis\": \"y\"}],\n",
              "                        {\"bargap\": 0, \"barmode\": \"relative\", \"legend\": {\"tracegroupgap\": 0}, \"margin\": {\"t\": 60}, \"template\": {\"data\": {\"bar\": [{\"error_x\": {\"color\": \"#2a3f5f\"}, \"error_y\": {\"color\": \"#2a3f5f\"}, \"marker\": {\"line\": {\"color\": \"#E5ECF6\", \"width\": 0.5}}, \"type\": \"bar\"}], \"barpolar\": [{\"marker\": {\"line\": {\"color\": \"#E5ECF6\", \"width\": 0.5}}, \"type\": \"barpolar\"}], \"carpet\": [{\"aaxis\": {\"endlinecolor\": \"#2a3f5f\", \"gridcolor\": \"white\", \"linecolor\": \"white\", \"minorgridcolor\": \"white\", \"startlinecolor\": \"#2a3f5f\"}, \"baxis\": {\"endlinecolor\": \"#2a3f5f\", \"gridcolor\": \"white\", \"linecolor\": \"white\", \"minorgridcolor\": \"white\", \"startlinecolor\": \"#2a3f5f\"}, \"type\": \"carpet\"}], \"choropleth\": [{\"colorbar\": {\"outlinewidth\": 0, \"ticks\": \"\"}, \"type\": \"choropleth\"}], \"contour\": [{\"colorbar\": {\"outlinewidth\": 0, \"ticks\": \"\"}, \"colorscale\": [[0.0, \"#0d0887\"], [0.1111111111111111, \"#46039f\"], [0.2222222222222222, \"#7201a8\"], [0.3333333333333333, \"#9c179e\"], [0.4444444444444444, \"#bd3786\"], [0.5555555555555556, \"#d8576b\"], [0.6666666666666666, \"#ed7953\"], [0.7777777777777778, \"#fb9f3a\"], [0.8888888888888888, \"#fdca26\"], [1.0, \"#f0f921\"]], \"type\": \"contour\"}], \"contourcarpet\": [{\"colorbar\": {\"outlinewidth\": 0, \"ticks\": \"\"}, \"type\": \"contourcarpet\"}], \"heatmap\": [{\"colorbar\": {\"outlinewidth\": 0, \"ticks\": \"\"}, \"colorscale\": [[0.0, \"#0d0887\"], [0.1111111111111111, \"#46039f\"], [0.2222222222222222, \"#7201a8\"], [0.3333333333333333, \"#9c179e\"], [0.4444444444444444, \"#bd3786\"], [0.5555555555555556, \"#d8576b\"], [0.6666666666666666, \"#ed7953\"], [0.7777777777777778, \"#fb9f3a\"], [0.8888888888888888, \"#fdca26\"], [1.0, \"#f0f921\"]], \"type\": \"heatmap\"}], \"heatmapgl\": [{\"colorbar\": {\"outlinewidth\": 0, \"ticks\": \"\"}, \"colorscale\": [[0.0, \"#0d0887\"], [0.1111111111111111, \"#46039f\"], [0.2222222222222222, \"#7201a8\"], [0.3333333333333333, \"#9c179e\"], [0.4444444444444444, \"#bd3786\"], [0.5555555555555556, \"#d8576b\"], [0.6666666666666666, \"#ed7953\"], [0.7777777777777778, \"#fb9f3a\"], [0.8888888888888888, \"#fdca26\"], [1.0, \"#f0f921\"]], \"type\": \"heatmapgl\"}], \"histogram\": [{\"marker\": {\"colorbar\": {\"outlinewidth\": 0, \"ticks\": \"\"}}, \"type\": \"histogram\"}], \"histogram2d\": [{\"colorbar\": {\"outlinewidth\": 0, \"ticks\": \"\"}, \"colorscale\": [[0.0, \"#0d0887\"], [0.1111111111111111, \"#46039f\"], [0.2222222222222222, \"#7201a8\"], [0.3333333333333333, \"#9c179e\"], [0.4444444444444444, \"#bd3786\"], [0.5555555555555556, \"#d8576b\"], [0.6666666666666666, \"#ed7953\"], [0.7777777777777778, \"#fb9f3a\"], [0.8888888888888888, \"#fdca26\"], [1.0, \"#f0f921\"]], \"type\": \"histogram2d\"}], \"histogram2dcontour\": [{\"colorbar\": {\"outlinewidth\": 0, \"ticks\": \"\"}, \"colorscale\": [[0.0, \"#0d0887\"], [0.1111111111111111, \"#46039f\"], [0.2222222222222222, \"#7201a8\"], [0.3333333333333333, \"#9c179e\"], [0.4444444444444444, \"#bd3786\"], [0.5555555555555556, \"#d8576b\"], [0.6666666666666666, \"#ed7953\"], [0.7777777777777778, \"#fb9f3a\"], [0.8888888888888888, \"#fdca26\"], [1.0, \"#f0f921\"]], \"type\": \"histogram2dcontour\"}], \"mesh3d\": [{\"colorbar\": {\"outlinewidth\": 0, \"ticks\": \"\"}, \"type\": \"mesh3d\"}], \"parcoords\": [{\"line\": {\"colorbar\": {\"outlinewidth\": 0, \"ticks\": \"\"}}, \"type\": \"parcoords\"}], \"pie\": [{\"automargin\": true, \"type\": \"pie\"}], \"scatter\": [{\"marker\": {\"colorbar\": {\"outlinewidth\": 0, \"ticks\": \"\"}}, \"type\": \"scatter\"}], \"scatter3d\": [{\"line\": {\"colorbar\": {\"outlinewidth\": 0, \"ticks\": \"\"}}, \"marker\": {\"colorbar\": {\"outlinewidth\": 0, \"ticks\": \"\"}}, \"type\": \"scatter3d\"}], \"scattercarpet\": [{\"marker\": {\"colorbar\": {\"outlinewidth\": 0, \"ticks\": \"\"}}, \"type\": \"scattercarpet\"}], \"scattergeo\": [{\"marker\": {\"colorbar\": {\"outlinewidth\": 0, \"ticks\": \"\"}}, \"type\": \"scattergeo\"}], \"scattergl\": [{\"marker\": {\"colorbar\": {\"outlinewidth\": 0, \"ticks\": \"\"}}, \"type\": \"scattergl\"}], \"scattermapbox\": [{\"marker\": {\"colorbar\": {\"outlinewidth\": 0, \"ticks\": \"\"}}, \"type\": \"scattermapbox\"}], \"scatterpolar\": [{\"marker\": {\"colorbar\": {\"outlinewidth\": 0, \"ticks\": \"\"}}, \"type\": \"scatterpolar\"}], \"scatterpolargl\": [{\"marker\": {\"colorbar\": {\"outlinewidth\": 0, \"ticks\": \"\"}}, \"type\": \"scatterpolargl\"}], \"scatterternary\": [{\"marker\": {\"colorbar\": {\"outlinewidth\": 0, \"ticks\": \"\"}}, \"type\": \"scatterternary\"}], \"surface\": [{\"colorbar\": {\"outlinewidth\": 0, \"ticks\": \"\"}, \"colorscale\": [[0.0, \"#0d0887\"], [0.1111111111111111, \"#46039f\"], [0.2222222222222222, \"#7201a8\"], [0.3333333333333333, \"#9c179e\"], [0.4444444444444444, \"#bd3786\"], [0.5555555555555556, \"#d8576b\"], [0.6666666666666666, \"#ed7953\"], [0.7777777777777778, \"#fb9f3a\"], [0.8888888888888888, \"#fdca26\"], [1.0, \"#f0f921\"]], \"type\": \"surface\"}], \"table\": [{\"cells\": {\"fill\": {\"color\": \"#EBF0F8\"}, \"line\": {\"color\": \"white\"}}, \"header\": {\"fill\": {\"color\": \"#C8D4E3\"}, \"line\": {\"color\": \"white\"}}, \"type\": \"table\"}]}, \"layout\": {\"annotationdefaults\": {\"arrowcolor\": \"#2a3f5f\", \"arrowhead\": 0, \"arrowwidth\": 1}, \"coloraxis\": {\"colorbar\": {\"outlinewidth\": 0, \"ticks\": \"\"}}, \"colorscale\": {\"diverging\": [[0, \"#8e0152\"], [0.1, \"#c51b7d\"], [0.2, \"#de77ae\"], [0.3, \"#f1b6da\"], [0.4, \"#fde0ef\"], [0.5, \"#f7f7f7\"], [0.6, \"#e6f5d0\"], [0.7, \"#b8e186\"], [0.8, \"#7fbc41\"], [0.9, \"#4d9221\"], [1, \"#276419\"]], \"sequential\": [[0.0, \"#0d0887\"], [0.1111111111111111, \"#46039f\"], [0.2222222222222222, \"#7201a8\"], [0.3333333333333333, \"#9c179e\"], [0.4444444444444444, \"#bd3786\"], [0.5555555555555556, \"#d8576b\"], [0.6666666666666666, \"#ed7953\"], [0.7777777777777778, \"#fb9f3a\"], [0.8888888888888888, \"#fdca26\"], [1.0, \"#f0f921\"]], \"sequentialminus\": [[0.0, \"#0d0887\"], [0.1111111111111111, \"#46039f\"], [0.2222222222222222, \"#7201a8\"], [0.3333333333333333, \"#9c179e\"], [0.4444444444444444, \"#bd3786\"], [0.5555555555555556, \"#d8576b\"], [0.6666666666666666, \"#ed7953\"], [0.7777777777777778, \"#fb9f3a\"], [0.8888888888888888, \"#fdca26\"], [1.0, \"#f0f921\"]]}, \"colorway\": [\"#636efa\", \"#EF553B\", \"#00cc96\", \"#ab63fa\", \"#FFA15A\", \"#19d3f3\", \"#FF6692\", \"#B6E880\", \"#FF97FF\", \"#FECB52\"], \"font\": {\"color\": \"#2a3f5f\"}, \"geo\": {\"bgcolor\": \"white\", \"lakecolor\": \"white\", \"landcolor\": \"#E5ECF6\", \"showlakes\": true, \"showland\": true, \"subunitcolor\": \"white\"}, \"hoverlabel\": {\"align\": \"left\"}, \"hovermode\": \"closest\", \"mapbox\": {\"style\": \"light\"}, \"paper_bgcolor\": \"white\", \"plot_bgcolor\": \"#E5ECF6\", \"polar\": {\"angularaxis\": {\"gridcolor\": \"white\", \"linecolor\": \"white\", \"ticks\": \"\"}, \"bgcolor\": \"#E5ECF6\", \"radialaxis\": {\"gridcolor\": \"white\", \"linecolor\": \"white\", \"ticks\": \"\"}}, \"scene\": {\"xaxis\": {\"backgroundcolor\": \"#E5ECF6\", \"gridcolor\": \"white\", \"gridwidth\": 2, \"linecolor\": \"white\", \"showbackground\": true, \"ticks\": \"\", \"zerolinecolor\": \"white\"}, \"yaxis\": {\"backgroundcolor\": \"#E5ECF6\", \"gridcolor\": \"white\", \"gridwidth\": 2, \"linecolor\": \"white\", \"showbackground\": true, \"ticks\": \"\", \"zerolinecolor\": \"white\"}, \"zaxis\": {\"backgroundcolor\": \"#E5ECF6\", \"gridcolor\": \"white\", \"gridwidth\": 2, \"linecolor\": \"white\", \"showbackground\": true, \"ticks\": \"\", \"zerolinecolor\": \"white\"}}, \"shapedefaults\": {\"line\": {\"color\": \"#2a3f5f\"}}, \"ternary\": {\"aaxis\": {\"gridcolor\": \"white\", \"linecolor\": \"white\", \"ticks\": \"\"}, \"baxis\": {\"gridcolor\": \"white\", \"linecolor\": \"white\", \"ticks\": \"\"}, \"bgcolor\": \"#E5ECF6\", \"caxis\": {\"gridcolor\": \"white\", \"linecolor\": \"white\", \"ticks\": \"\"}}, \"title\": {\"x\": 0.05}, \"xaxis\": {\"automargin\": true, \"gridcolor\": \"white\", \"linecolor\": \"white\", \"ticks\": \"\", \"title\": {\"standoff\": 15}, \"zerolinecolor\": \"white\", \"zerolinewidth\": 2}, \"yaxis\": {\"automargin\": true, \"gridcolor\": \"white\", \"linecolor\": \"white\", \"ticks\": \"\", \"title\": {\"standoff\": 15}, \"zerolinecolor\": \"white\", \"zerolinewidth\": 2}}}, \"title\": {\"text\": \"Distribution of Average Ploidies Across All COSMIC Samples\"}, \"xaxis\": {\"anchor\": \"y\", \"domain\": [0.0, 1.0], \"title\": {\"text\": \"Average Ploidy of Sample\"}}, \"yaxis\": {\"anchor\": \"x\", \"domain\": [0.0, 1.0], \"title\": {\"text\": \"Number of Samples\"}}},\n",
              "                        {\"responsive\": true}\n",
              "                    ).then(function(){\n",
              "                            \n",
              "var gd = document.getElementById('8fa6543f-b72a-45c2-be71-6c9f96bfee9e');\n",
              "var x = new MutationObserver(function (mutations, observer) {{\n",
              "        var display = window.getComputedStyle(gd).display;\n",
              "        if (!display || display === 'none') {{\n",
              "            console.log([gd, 'removed!']);\n",
              "            Plotly.purge(gd);\n",
              "            observer.disconnect();\n",
              "        }}\n",
              "}});\n",
              "\n",
              "// Listen for the removal of the full notebook cells\n",
              "var notebookContainer = gd.closest('#notebook-container');\n",
              "if (notebookContainer) {{\n",
              "    x.observe(notebookContainer, {childList: true});\n",
              "}}\n",
              "\n",
              "// Listen for the clearing of the current output cell\n",
              "var outputEl = gd.closest('.output');\n",
              "if (outputEl) {{\n",
              "    x.observe(outputEl, {childList: true});\n",
              "}}\n",
              "\n",
              "                        })\n",
              "                };\n",
              "                \n",
              "            </script>\n",
              "        </div>\n",
              "</body>\n",
              "</html>"
            ]
          },
          "metadata": {
            "tags": []
          }
        }
      ]
    },
    {
      "cell_type": "markdown",
      "metadata": {
        "id": "ZPrhs7bc0fB-",
        "colab_type": "text"
      },
      "source": [
        "Here, we can see that the data is really much more modal than we thought. A significant portion of samples do indeed have average ploidies at or around 2.0. We also get a better idea of the true shape of the distribution, and we see that there is perhaps a second, smaller mode at 3.0. This might indicate that in aneuploid tumors, there is a slight tendency to retain the ploidy as tumor cells proliferate, since an individual cell's ploidy is usually a whole number set of chromosomes and the next aneuploidy greater than 2 is 3. If one of the original tumor cells was triploid, then the daughter tumor cells may carry the triploidy throughout the growth of the tumor.\n",
        "\n",
        "These are the kinds of insights we get with using smaller bins, i.e. taking the visualization **one step further**, which is really easy to do with Plotly.\n",
        "\n"
      ]
    },
    {
      "cell_type": "markdown",
      "metadata": {
        "id": "AkRraZ629j-V",
        "colab_type": "text"
      },
      "source": [
        "Following COSMIC notebooks will explore the COSMIC data further and highlight some interesting analyses and visualizations that can be produced using Python and BigQuery!"
      ]
    },
    {
      "cell_type": "markdown",
      "metadata": {
        "id": "7AX_KWROHzEr",
        "colab_type": "text"
      },
      "source": [
        "## Where to Go Next\n",
        "\n",
        "Explore, Discover, and Analyze the Data provided by ISB-CGC along with side by side with your own :)\n",
        "\n",
        "More COSMIC Notebooks coming soon to ISB-CGC! [Check the Github repo for the latest notebooks.](https://isb-cancer-genomics-cloud.readthedocs.io/en/latest/sections/HowTos.html)\n",
        "\n",
        "ISB-CGC Links:\n",
        "\n",
        "* [ISB-CGC Landing Page](https://isb-cgc.appspot.com/)\n",
        "* [ISB-CGC Documentation](https://isb-cancer-genomics-cloud.readthedocs.io/en/latest/)\n",
        "* [How to Get Started on ISB-CGC](https://isb-cancer-genomics-cloud.readthedocs.io/en/latest/sections/HowToGetStartedonISB-CGC.html)\n",
        "* [How to access Google BigQuery](https://isb-cancer-genomics-cloud.readthedocs.io/en/latest/sections/progapi/bigqueryGUI/HowToAccessBigQueryFromTheGoogleCloudPlatform.html)\n",
        "* [Community Notebook Repository](https://isb-cancer-genomics-cloud.readthedocs.io/en/latest/sections/HowTos.html)\n",
        "* [Query of the Month](https://isb-cancer-genomics-cloud.readthedocs.io/en/latest/sections/QueryOfTheMonthClub.html)\n",
        "* [Quick Links](https://isb-cancer-genomics-cloud.readthedocs.io/en/latest/sections/QuicklinksOneTable.html)\n",
        "\n",
        "Google Tutorials:\n",
        "\n",
        "* [Google's What is BigQuery?](https://cloud.google.com/bigquery/what-is-bigquery)\n",
        "* [Google Cloud Client Library for Python](https://googleapis.github.io/google-cloud-python/latest/index.html)"
      ]
    }
  ]
}