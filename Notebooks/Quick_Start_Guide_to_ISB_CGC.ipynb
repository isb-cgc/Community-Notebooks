{
  "nbformat": 4,
  "nbformat_minor": 0,
  "metadata": {
    "colab": {
      "provenance": []
    },
    "kernelspec": {
      "display_name": "Python 3",
      "language": "python",
      "name": "python3"
    },
    "language_info": {
      "codemirror_mode": {
        "name": "ipython",
        "version": 3
      },
      "file_extension": ".py",
      "mimetype": "text/x-python",
      "name": "python",
      "nbconvert_exporter": "python",
      "pygments_lexer": "ipython3",
      "version": "3.7.3"
    }
  },
  "cells": [
    {
      "cell_type": "markdown",
      "metadata": {
        "id": "V_oh9DspLamP"
      },
      "source": [
        "# ISB-CGC Community Notebooks\n",
        "\n",
        "Check out more notebooks at our [Community Notebooks Repository](https://github.com/isb-cgc/Community-Notebooks)!\n",
        "\n",
        "```\n",
        "Title:   Quick Start Guide to ISB-CGC\n",
        "Author:  Lauren Hagen\n",
        "Created: 2019-06-20\n",
        "Updated: 2023-08\n",
        "Purpose: Painless intro to working with ISB-CGC in the cloud\n",
        "URL:     https://github.com/isb-cgc/Community-Notebooks/blob/master/Notebooks/Quick_Start_Guide_to_ISB_CGC.ipynb\n",
        "Notes:   This Quick Start Guide gives an overview of the data available in ISB-CGC and getting started with a basic example in python.\n",
        "```\n",
        "***"
      ]
    },
    {
      "cell_type": "markdown",
      "metadata": {
        "id": "35Ew4aYCspKn"
      },
      "source": [
        "# Quick Start Guide to [ISB-CGC](https://isb-cgc.appspot.com/) in BigQuery\n",
        "\n"
      ]
    },
    {
      "cell_type": "markdown",
      "metadata": {
        "id": "Xlx2svEHfLfN"
      },
      "source": [
        "## Account Set-up\n",
        "To run this notebook, you will need to have your Google Cloud Account set up. If you need to set up a Google Cloud Account, follow the \"Obtain a Google identity\" and \"Set up a Google Cloud Project\" steps on our [Quick-Start Guide documentation](https://isb-cancer-genomics-cloud.readthedocs.io/en/latest/sections/HowToGetStartedonISB-CGC.html) page.\n",
        "\n",
        "Alternatively, you can run this notebook in 'demo mode' using only a Google Account (i.e. a gmail account), not a billable Google Cloud Account. In 'demo mode',  queries are sent to BigQuery via a CGC proxy, and a CGC account is charged for the queries. However the CGC proxy restricts which queries can be run, and the total amount of BigQuery processing volume (in GB) per user.\n"
      ]
    },
    {
      "cell_type": "code",
      "source": [
        "demo_mode = False"
      ],
      "metadata": {
        "id": "T0HJJlEr5Awy"
      },
      "execution_count": 1,
      "outputs": []
    },
    {
      "cell_type": "markdown",
      "metadata": {
        "id": "WJs8FZBJ8x1f"
      },
      "source": [
        "## Libraries needed for the Notebook\n",
        "This notebook requires the BigQuery API to be loaded [(click here for more information)](https://googleapis.github.io/google-cloud-python/latest/bigquery/usage/client.html) allowing access to BigQuery programmatically."
      ]
    },
    {
      "cell_type": "code",
      "metadata": {
        "id": "usHb94n-L0a5"
      },
      "source": [
        "# GCP libraries\n",
        "from google.cloud import bigquery\n",
        "from google.colab import auth\n",
        "from google.api_core import client_options\n",
        "from google.oauth2.credentials import Credentials"
      ],
      "execution_count": 2,
      "outputs": []
    },
    {
      "cell_type": "markdown",
      "metadata": {
        "id": "OAgOtUGpvR5h"
      },
      "source": [
        "## Overview of ISB-CGC\n",
        "The ISB-CGC provides interactive and programmatic access to data hosted by institutes such as the [Genomic Data Commons (GDC)](https://gdc.cancer.gov/) and [Proteomic Data Commons (PDC)](https://proteomic.datacommons.cancer.gov/pdc/) from the [National Cancer Institute (NCI)](https://www.cancer.gov/) while leveraging many aspects of the Google Cloud Platform. You can also import your data, analyze it side by side with the datasets, and share your data when you see fit. The ISB-CGC hosts carefully curated high-level clinical, biospecimen, and molecular datasets and tables in Google BigQuery, including data from programs such as [The Cancer Genome Atlas (TCGA)](https://www.cancer.gov/about-nci/organization/ccg/research/structural-genomics/tcga), [Therapeutically Applicable Research to Generate Effective Treatments (TARGET)](https://ocg.cancer.gov/programs/target), and [Clinical Proteomic Tumor Analysis Consortium (CPTAC)](https://proteomics.cancer.gov/programs/cptac). For more information can be found at our [Programs and Data Sets page](https://isb-cancer-genomics-cloud.readthedocs.io/en/latest/sections/Hosted-Data.html). This data can be explored via python, [Google Cloud Console](https://console.cloud.google.com/) and/or our [BigQuery Table Search tool](https://isb-cgc.appspot.com/bq_meta_search/)."
      ]
    },
    {
      "cell_type": "markdown",
      "metadata": {
        "id": "FLkFocDF265b"
      },
      "source": [
        "## Example of Accessing BigQuery Data with Python\n"
      ]
    },
    {
      "cell_type": "markdown",
      "metadata": {
        "id": "uwUePpm5uLNS"
      },
      "source": [
        "### Log into Google Cloud Storage and Authenticate ourselves\n",
        "\n",
        "Normally you will need to authenticated access to use Google BigQuery. However you can explore the queries in this notebook in 'demo mode' without needing authenticate with a billable Google Cloud Account.\n",
        "\n",
        "Steps to authenticate yourself:\n",
        "1. Run the code block to authenticate yourself with your Google Cloud Login\n",
        "2. A second tab will open or follow the link provided\n",
        "3. Follow prompts to Authorize your account to use Google Cloud SDK\n",
        "4. Copy code provided and paste into the box under the Command\n",
        "5. Press Enter\n",
        "\n",
        "[Alternative authentication methods](https://googleapis.github.io/google-cloud-python/latest/core/auth.html)"
      ]
    },
    {
      "cell_type": "code",
      "metadata": {
        "id": "CzjAwn9w3Ghc"
      },
      "source": [
        "if demo_mode:\n",
        "    !wget -O collab_queries.py https://github.com/isb-cgc/Community-Notebooks/raw/refs/heads/master/BQProxy/collab_queries.py\n",
        "    from collab_queries import api_endpoint, demo_client_args, demo_job_config_arg\n",
        "else:\n",
        "    # if you're using Google Colab, authenticate to gcloud with the following\n",
        "    auth.authenticate_user()\n",
        "\n",
        "    # alternatively, use the gcloud SDK\n",
        "    #!gcloud auth application-default login"
      ],
      "execution_count": 3,
      "outputs": []
    },
    {
      "cell_type": "markdown",
      "source": [
        "### Creating a client and using a billing project\n",
        "\n",
        "To access BigQuery, you will need a Google Cloud Project for queries to be billed to. If you need to create a Project, instructions on how to create one can be found on our [Quick-Start Guide page](https://isb-cancer-genomics-cloud.readthedocs.io/en/latest/sections/HowToGetStartedonISB-CGC.html).\n",
        "\n",
        "A BigQuery Client object with the billing Project needs to be created to interface with BigQuery.\n",
        "\n",
        "> Note: Any costs that you incur are charged under your current project, so you will want to make sure you are on the correct one if you are part of multiple projects.\n"
      ],
      "metadata": {
        "id": "7yZFt49ggjb5"
      }
    },
    {
      "cell_type": "code",
      "source": [
        "if demo_mode:\n",
        "    project_id=\"isb-cgc-dev-1\"\n",
        "else:\n",
        "    # Create a variable for which client to use with BigQuery\n",
        "    project_id = 'YOUR_PROJECT_ID_CHANGE_ME' # Update with your Google Project Id"
      ],
      "metadata": {
        "id": "FCH4HzmTWC15"
      },
      "execution_count": 4,
      "outputs": []
    },
    {
      "cell_type": "code",
      "source": [
        "# Create a BigQuery Client\n",
        "if project_id == 'YOUR_PROJECT_ID_CHANGE_ME': # checking that project id was changed\n",
        "  print('Please update the project number with your Google Cloud Project')\n",
        "else:\n",
        "    client_args = demo_client_args() if demo_mode else {}\n",
        "    client = bigquery.Client(project_id, **client_args)"
      ],
      "metadata": {
        "id": "t8J9mSHGSPJq"
      },
      "execution_count": 5,
      "outputs": []
    },
    {
      "cell_type": "markdown",
      "metadata": {
        "id": "lqtslyr2zNTA"
      },
      "source": [
        "### View ISB-CGC Datasets and Tables in BigQuery\n",
        "Let us look at the datasets available through ISB-CGC that are in BigQuery."
      ]
    },
    {
      "cell_type": "code",
      "metadata": {
        "id": "usDiQye0PWPF",
        "colab": {
          "base_uri": "https://localhost:8080/"
        },
        "outputId": "93f493c4-d41f-44c9-bd0e-87eb45dd7b08",
        "collapsed": true
      },
      "source": [
        "# Which project to view datasets\n",
        "project_with_data = 'isb-cgc-bq'\n",
        "\n",
        "# Create a variable of datasets\n",
        "datasets = list(client.list_datasets(project_with_data))\n",
        "\n",
        "# If there are datasets available then print their names,\n",
        "# else print that there are no datasets available\n",
        "if datasets:\n",
        "    print(f\"Datasets in project {project_with_data}:\")\n",
        "    for dataset in datasets:  # API request(s)\n",
        "        print(\"\\t{}\".format(dataset.dataset_id))\n",
        "else:\n",
        "    print(f\"{project_with_data} project does not contain any datasets.\")"
      ],
      "execution_count": 6,
      "outputs": [
        {
          "output_type": "stream",
          "name": "stdout",
          "text": [
            "Datasets in project isb-cgc-bq:\n",
            "\t0_README\n",
            "\tAPOLLO\n",
            "\tAPOLLO_versioned\n",
            "\tBEATAML1_0\n",
            "\tBEATAML1_0_versioned\n",
            "\tBROAD\n",
            "\tBROAD_versioned\n",
            "\tCBTN\n",
            "\tCBTN_versioned\n",
            "\tCBTTC\n",
            "\tCBTTC_versioned\n",
            "\tCCLE\n",
            "\tCCLE_versioned\n",
            "\tCDDP_EAGLE\n",
            "\tCDDP_EAGLE_versioned\n",
            "\tCGCI\n",
            "\tCGCI_versioned\n",
            "\tCMI\n",
            "\tCMI_versioned\n",
            "\tCPTAC\n",
            "\tCPTAC_versioned\n",
            "\tCTSP\n",
            "\tCTSP_versioned\n",
            "\tDEPMAP\n",
            "\tDEPMAP_versioned\n",
            "\tEXC_RESPONDERS\n",
            "\tEXC_RESPONDERS_versioned\n",
            "\tFM\n",
            "\tFM_versioned\n",
            "\tGDC_case_file_metadata\n",
            "\tGDC_case_file_metadata_versioned\n",
            "\tGENCODE\n",
            "\tGENCODE_versioned\n",
            "\tGENIE\n",
            "\tGENIE_versioned\n",
            "\tGPRP\n",
            "\tGPRP_versioned\n",
            "\tHCMI\n",
            "\tHCMI_versioned\n",
            "\tHTAN\n",
            "\tHTAN_versioned\n",
            "\tICPC\n",
            "\tICPC_versioned\n",
            "\tISB_Regulome_Explorer\n",
            "\tMATCH\n",
            "\tMATCH_versioned\n",
            "\tMMRF\n",
            "\tMMRF_versioned\n",
            "\tMP2PRT\n",
            "\tMP2PRT_versioned\n",
            "\tNCICCR\n",
            "\tNCICCR_versioned\n",
            "\tOHSU\n",
            "\tOHSU_versioned\n",
            "\tORGANOID\n",
            "\tORGANOID_versioned\n",
            "\tPDC_metadata\n",
            "\tPDC_metadata_versioned\n",
            "\tQuant_Maps_Tissue_Biopsies\n",
            "\tQuant_Maps_Tissue_Biopsies_versioned\n",
            "\tREBC\n",
            "\tREBC_versioned\n",
            "\tTARGET\n",
            "\tTARGET_versioned\n",
            "\tTCGA\n",
            "\tTCGA_versioned\n",
            "\tTRIO\n",
            "\tTRIO_versioned\n",
            "\tVAREPOP\n",
            "\tVAREPOP_versioned\n",
            "\tWCDT\n",
            "\tWCDT_versioned\n",
            "\tannotations\n",
            "\tannotations_versioned\n",
            "\tfunctions\n",
            "\tmitelman\n",
            "\tmitelman_versioned\n",
            "\tpancancer_atlas\n",
            "\treactome\n",
            "\treactome_versioned\n",
            "\tsupplementary_tables\n",
            "\tsynthetic_lethality\n",
            "\ttargetome\n",
            "\ttargetome_versioned\n"
          ]
        }
      ]
    },
    {
      "cell_type": "markdown",
      "metadata": {
        "id": "dcKkXP0H8W6I"
      },
      "source": [
        "The ISB-CGC has two datasets for each Program or source. One dataset contains the most current data, and the other contains versioned tables, which serve as an archive for reproducibility. The current tables are labeled with \"_current\" and are updated when new data is released. For more information, visit our [ISB-CGC BigQuery Projects](https://isb-cancer-genomics-cloud.readthedocs.io/en/latest/sections/BigQuery/ISBCGC-BQ-Projects.html) page. Let's see which tables are under the TCGA dataset."
      ]
    },
    {
      "cell_type": "code",
      "metadata": {
        "id": "IZ_Odw0z1fOn",
        "colab": {
          "base_uri": "https://localhost:8080/"
        },
        "outputId": "743282e7-dfed-4d7c-cd09-ef52d1f62969",
        "collapsed": true
      },
      "source": [
        "dataset_with_data = 'TCGA_versioned'\n",
        "\n",
        "print(\"Tables:\")\n",
        "# Create a variable with the list of tables in the dataset\n",
        "tables = list(client.list_tables(f'{project_with_data}.{dataset_with_data}'))\n",
        "\n",
        "# If there are tables then print their names,\n",
        "# else print that there are no tables\n",
        "if tables:\n",
        "    for table in tables:\n",
        "        print(\"\\t{}\".format(table.table_id))\n",
        "else:\n",
        "    print(\"\\tThis dataset does not contain any tables.\")"
      ],
      "execution_count": 7,
      "outputs": [
        {
          "output_type": "stream",
          "name": "stdout",
          "text": [
            "Tables:\n",
            "\tDNA_methylation_chr10_hg19_gdc_2017_01\n",
            "\tDNA_methylation_chr10_hg38_gdc_2017_01\n",
            "\tDNA_methylation_chr11_hg19_gdc_2017_01\n",
            "\tDNA_methylation_chr11_hg38_gdc_2017_01\n",
            "\tDNA_methylation_chr12_hg19_gdc_2017_01\n",
            "\tDNA_methylation_chr12_hg38_gdc_2017_01\n",
            "\tDNA_methylation_chr13_hg19_gdc_2017_01\n",
            "\tDNA_methylation_chr13_hg38_gdc_2017_01\n",
            "\tDNA_methylation_chr14_hg19_gdc_2017_01\n",
            "\tDNA_methylation_chr14_hg38_gdc_2017_01\n",
            "\tDNA_methylation_chr15_hg19_gdc_2017_01\n",
            "\tDNA_methylation_chr15_hg38_gdc_2017_01\n",
            "\tDNA_methylation_chr16_hg19_gdc_2017_01\n",
            "\tDNA_methylation_chr16_hg38_gdc_2017_01\n",
            "\tDNA_methylation_chr17_hg19_gdc_2017_01\n",
            "\tDNA_methylation_chr17_hg38_gdc_2017_01\n",
            "\tDNA_methylation_chr18_hg19_gdc_2017_01\n",
            "\tDNA_methylation_chr18_hg38_gdc_2017_01\n",
            "\tDNA_methylation_chr19_hg19_gdc_2017_01\n",
            "\tDNA_methylation_chr19_hg38_gdc_2017_01\n",
            "\tDNA_methylation_chr1_hg19_gdc_2017_01\n",
            "\tDNA_methylation_chr1_hg38_gdc_2017_01\n",
            "\tDNA_methylation_chr20_hg19_gdc_2017_01\n",
            "\tDNA_methylation_chr20_hg38_gdc_2017_01\n",
            "\tDNA_methylation_chr21_hg19_gdc_2017_01\n",
            "\tDNA_methylation_chr21_hg38_gdc_2017_01\n",
            "\tDNA_methylation_chr22_hg19_gdc_2017_01\n",
            "\tDNA_methylation_chr22_hg38_gdc_2017_01\n",
            "\tDNA_methylation_chr2_hg19_gdc_2017_01\n",
            "\tDNA_methylation_chr2_hg38_gdc_2017_01\n",
            "\tDNA_methylation_chr3_hg19_gdc_2017_01\n",
            "\tDNA_methylation_chr3_hg38_gdc_2017_01\n",
            "\tDNA_methylation_chr4_hg19_gdc_2017_01\n",
            "\tDNA_methylation_chr4_hg38_gdc_2017_01\n",
            "\tDNA_methylation_chr5_hg19_gdc_2017_01\n",
            "\tDNA_methylation_chr5_hg38_gdc_2017_01\n",
            "\tDNA_methylation_chr6_hg19_gdc_2017_01\n",
            "\tDNA_methylation_chr6_hg38_gdc_2017_01\n",
            "\tDNA_methylation_chr7_hg19_gdc_2017_01\n",
            "\tDNA_methylation_chr7_hg38_gdc_2017_01\n",
            "\tDNA_methylation_chr8_hg19_gdc_2017_01\n",
            "\tDNA_methylation_chr8_hg38_gdc_2017_01\n",
            "\tDNA_methylation_chr9_hg19_gdc_2017_01\n",
            "\tDNA_methylation_chr9_hg38_gdc_2017_01\n",
            "\tDNA_methylation_chrX_hg19_gdc_2017_01\n",
            "\tDNA_methylation_chrX_hg38_gdc_2017_01\n",
            "\tDNA_methylation_chrY_hg19_gdc_2017_01\n",
            "\tDNA_methylation_chrY_hg38_gdc_2017_01\n",
            "\tDNA_methylation_hg19_gdc_2017_01\n",
            "\tDNA_methylation_hg38_gdc_2017_01\n",
            "\tRNAseq_hg19_gdc_2017_02\n",
            "\tRNAseq_hg38_gdc_2017_12\n",
            "\tRNAseq_hg38_gdc_r28\n",
            "\tRNAseq_hg38_gdc_r35\n",
            "\tRNAseq_hg38_gdc_r39\n",
            "\tRNAseq_hg38_gdc_r40\n",
            "\tRNAseq_hg38_gdc_r42\n",
            "\tannotations_gdc_2017_04\n",
            "\tbiospecimen_gdc_2017_02\n",
            "\tclinical_CPTAC_TCGA_pdc_V1_17\n",
            "\tclinical_CPTAC_TCGA_pdc_V1_21\n",
            "\tclinical_CPTAC_TCGA_pdc_V1_9\n",
            "\tclinical_CPTAC_TCGA_pdc_V2_10\n",
            "\tclinical_CPTAC_TCGA_pdc_V4_3\n",
            "\tclinical_diagnoses_treatments_gdc_r24\n",
            "\tclinical_diagnoses_treatments_gdc_r25\n",
            "\tclinical_diagnoses_treatments_gdc_r26\n",
            "\tclinical_diagnoses_treatments_gdc_r27\n",
            "\tclinical_diagnoses_treatments_gdc_r29\n",
            "\tclinical_diagnosis_gdc_r42\n",
            "\tclinical_diagnosis_gdc_r43\n",
            "\tclinical_diagnosis_pathology_detail_gdc_r42\n",
            "\tclinical_diagnosis_treatment_gdc_r38\n",
            "\tclinical_diagnosis_treatment_gdc_r42\n",
            "\tclinical_exposure_gdc_r42\n",
            "\tclinical_family_history_gdc_r42\n",
            "\tclinical_follow_up_gdc_r42\n",
            "\tclinical_follow_up_molecular_test_gdc_r42\n",
            "\tclinical_from_supplement_files_ablation_gdc_r41\n",
            "\tclinical_from_supplement_files_column_metadata_gdc_r41\n",
            "\tclinical_from_supplement_files_drug_gdc_r41\n",
            "\tclinical_from_supplement_files_follow_up_gdc_r41\n",
            "\tclinical_from_supplement_files_nte_gdc_r41\n",
            "\tclinical_from_supplement_files_omf_gdc_r41\n",
            "\tclinical_from_supplement_files_patient_gdc_r41\n",
            "\tclinical_from_supplement_files_radiation_gdc_r41\n",
            "\tclinical_gdc_2018_06\n",
            "\tclinical_gdc_2019_06\n",
            "\tclinical_gdc_r24\n",
            "\tclinical_gdc_r25\n",
            "\tclinical_gdc_r26\n",
            "\tclinical_gdc_r27\n",
            "\tclinical_gdc_r29\n",
            "\tclinical_gdc_r31\n",
            "\tclinical_gdc_r37\n",
            "\tclinical_gdc_r38\n",
            "\tclinical_gdc_r39\n",
            "\tclinical_gdc_r42\n",
            "\tclinical_gdc_r43\n",
            "\tcopy_number_gene_level_hg38_gdc_r36\n",
            "\tcopy_number_segment_allelic_hg38_gdc_r23\n",
            "\tcopy_number_segment_masked_hg19_gdc_2017_02\n",
            "\tcopy_number_segment_masked_hg38_gdc_2017_02\n",
            "\tcopy_number_segment_masked_hg38_gdc_r14\n",
            "\tmasked_somatic_mutation_hg38_gdc_r34\n",
            "\tmasked_somatic_mutation_hg38_gdc_r35\n",
            "\tmasked_somatic_mutation_hg38_gdc_r36\n",
            "\tmasked_somatic_mutation_hg38_gdc_r39\n",
            "\tmiRNAseq_hg19_gdc_2017_03\n",
            "\tmiRNAseq_hg38_gdc_r14\n",
            "\tmiRNAseq_hg38_gdc_r28\n",
            "\tmiRNAseq_hg38_gdc_r42\n",
            "\tmiRNAseq_isoform_hg19_gdc_2017_02\n",
            "\tmiRNAseq_isoform_hg38_gdc_r14\n",
            "\tmiRNAseq_isoform_hg38_gdc_r28\n",
            "\tmiRNAseq_isoform_hg38_gdc_r42\n",
            "\tper_sample_file_metadata_CPTAC_TCGA_pdc_V1_17\n",
            "\tper_sample_file_metadata_CPTAC_TCGA_pdc_V2_13\n",
            "\tper_sample_file_metadata_CPTAC_TCGA_pdc_V2_14\n",
            "\tper_sample_file_metadata_CPTAC_TCGA_pdc_V3_4\n",
            "\tper_sample_file_metadata_CPTAC_TCGA_pdc_V4_3\n",
            "\tper_sample_file_metadata_CPTAC_TCGA_pdc_V4_7\n",
            "\tper_sample_file_metadata_hg19_gdc_r14\n",
            "\tper_sample_file_metadata_hg19_gdc_r24\n",
            "\tper_sample_file_metadata_hg19_gdc_r25\n",
            "\tper_sample_file_metadata_hg19_gdc_r26\n",
            "\tper_sample_file_metadata_hg19_gdc_r27\n",
            "\tper_sample_file_metadata_hg19_gdc_r28\n",
            "\tper_sample_file_metadata_hg19_gdc_r29\n",
            "\tper_sample_file_metadata_hg19_gdc_r34\n",
            "\tper_sample_file_metadata_hg19_gdc_r35\n",
            "\tper_sample_file_metadata_hg19_gdc_r36\n",
            "\tper_sample_file_metadata_hg19_gdc_r37\n",
            "\tper_sample_file_metadata_hg38_gdc_r14\n",
            "\tper_sample_file_metadata_hg38_gdc_r24\n",
            "\tper_sample_file_metadata_hg38_gdc_r25\n",
            "\tper_sample_file_metadata_hg38_gdc_r26\n",
            "\tper_sample_file_metadata_hg38_gdc_r27\n",
            "\tper_sample_file_metadata_hg38_gdc_r28\n",
            "\tper_sample_file_metadata_hg38_gdc_r29\n",
            "\tper_sample_file_metadata_hg38_gdc_r30\n",
            "\tper_sample_file_metadata_hg38_gdc_r31\n",
            "\tper_sample_file_metadata_hg38_gdc_r32\n",
            "\tper_sample_file_metadata_hg38_gdc_r33p1\n",
            "\tper_sample_file_metadata_hg38_gdc_r34\n",
            "\tper_sample_file_metadata_hg38_gdc_r35\n",
            "\tper_sample_file_metadata_hg38_gdc_r36\n",
            "\tper_sample_file_metadata_hg38_gdc_r37\n",
            "\tper_sample_file_metadata_hg38_gdc_r38\n",
            "\tper_sample_file_metadata_hg38_gdc_r39\n",
            "\tper_sample_file_metadata_hg38_gdc_r39_v2\n",
            "\tper_sample_file_metadata_hg38_gdc_r40\n",
            "\tper_sample_file_metadata_hg38_gdc_r41\n",
            "\tper_sample_file_metadata_hg38_gdc_r42\n",
            "\tper_sample_file_metadata_hg38_gdc_r43\n",
            "\tprotein_expression_hg19_gdc_2017_02\n",
            "\tprotein_expression_hg38_gdc_2017_02\n",
            "\tquant_phosphoproteome_TCGA_breast_cancer_pdc_V1_17\n",
            "\tquant_phosphoproteome_TCGA_breast_cancer_pdc_V1_21\n",
            "\tquant_phosphoproteome_TCGA_ovarian_PNNL_velos_qexactive_pdc_V1_17\n",
            "\tquant_phosphoproteome_TCGA_ovarian_PNNL_velos_qexactive_pdc_V1_21\n",
            "\tquant_proteome_TCGA_breast_cancer_pdc_2020_09\n",
            "\tquant_proteome_TCGA_breast_cancer_pdc_V1_17\n",
            "\tquant_proteome_TCGA_breast_cancer_pdc_V1_19\n",
            "\tquant_proteome_TCGA_breast_cancer_pdc_V1_21\n",
            "\tquant_proteome_TCGA_breast_cancer_pdc_V2_10\n",
            "\tquant_proteome_TCGA_breast_cancer_pdc_V4_1\n",
            "\tquant_proteome_TCGA_breast_cancer_pdc_V4_3\n",
            "\tquant_proteome_TCGA_breast_cancer_pdc_V4_9\n",
            "\tquant_proteome_TCGA_ovarian_JHU_pdc_2020_09\n",
            "\tquant_proteome_TCGA_ovarian_JHU_pdc_V1_17\n",
            "\tquant_proteome_TCGA_ovarian_JHU_pdc_V1_19\n",
            "\tquant_proteome_TCGA_ovarian_JHU_pdc_V1_21\n",
            "\tquant_proteome_TCGA_ovarian_JHU_pdc_V2_10\n",
            "\tquant_proteome_TCGA_ovarian_JHU_pdc_V4_1\n",
            "\tquant_proteome_TCGA_ovarian_JHU_pdc_V4_3\n",
            "\tquant_proteome_TCGA_ovarian_JHU_pdc_V4_9\n",
            "\tquant_proteome_TCGA_ovarian_PNNL_pdc_2020_09\n",
            "\tquant_proteome_TCGA_ovarian_PNNL_pdc_V1_17\n",
            "\tquant_proteome_TCGA_ovarian_PNNL_pdc_V1_19\n",
            "\tquant_proteome_TCGA_ovarian_PNNL_pdc_V1_21\n",
            "\tquant_proteome_TCGA_ovarian_PNNL_pdc_V2_10\n",
            "\tquant_proteome_TCGA_ovarian_PNNL_pdc_V4_1\n",
            "\tquant_proteome_TCGA_ovarian_PNNL_pdc_V4_3\n",
            "\tquant_proteome_TCGA_ovarian_PNNL_pdc_V4_9\n",
            "\tradiology_images_tcia_2018_06\n",
            "\tradiology_images_tcia_2022_01\n",
            "\tslide_images_gdc_r17\n",
            "\tsomatic_mutation_hg19_DCC_2017_02\n",
            "\tsomatic_mutation_hg19_MC3_2017_02\n",
            "\tsomatic_mutation_hg38_gdc_r10\n",
            "\tsomatic_mutation_hg38_gdc_r6\n",
            "\tsomatic_mutation_hg38_gdc_r7\n"
          ]
        }
      ]
    },
    {
      "cell_type": "markdown",
      "metadata": {
        "id": "mjXF-Vg4z5mv"
      },
      "source": [
        "### Query ISB-CGC BigQuery Tables\n"
      ]
    },
    {
      "cell_type": "markdown",
      "source": [
        "In this section, we will create a string variable with our SQL then call to BigQuery and save the result to a dataframe."
      ],
      "metadata": {
        "id": "3aa4opf4XvJe"
      }
    },
    {
      "cell_type": "markdown",
      "source": [
        "#### Syntax for the query\n",
        "```\n",
        "SELECT # Select a few columns to view\n",
        "  proj__project_id, # GDC project\n",
        "  submitter_id, # case barcode\n",
        "  proj__name # GDC project name\n",
        "FROM # Which table in BigQuery in the format of `project.dataset.table`\n",
        "  `project_name.dataset_name.table_name` # From the GDC TCGA Clinical Dataset\n",
        "LIMIT\n",
        "  5 # Limit to 5 rows as the dataset is very large and we only want to see a few results\n",
        "```\n",
        "\n",
        "> Note: `LIMIT` only limits the number of rows returned and not the number of rows that the query looks at\n"
      ],
      "metadata": {
        "id": "Uzn8oXZfkBLQ"
      }
    },
    {
      "cell_type": "code",
      "metadata": {
        "id": "TYf4eBOKnKEz",
        "colab": {
          "base_uri": "https://localhost:8080/"
        },
        "outputId": "925b3792-7ca4-4070-de7f-0d6b32662c5c"
      },
      "source": [
        "query = (\"\"\"\n",
        "  SELECT\n",
        "    proj__project_id,\n",
        "    submitter_id,\n",
        "    proj__name\n",
        "  FROM\n",
        "    `isb-cgc-bq.TCGA_versioned.clinical_gdc_r37`\n",
        "  LIMIT\n",
        "    5\"\"\")\n",
        "\n",
        "job_config_arg =  demo_job_config_arg(query_id=\"qsg1\") if demo_mode else {}\n",
        "result = client.query(query, **job_config_arg).to_dataframe()  # API request\n",
        "print(result)"
      ],
      "execution_count": 8,
      "outputs": [
        {
          "output_type": "stream",
          "name": "stdout",
          "text": [
            "  proj__project_id  submitter_id                    proj__name\n",
            "0        TCGA-BLCA  TCGA-ZF-AA4N  Bladder Urothelial Carcinoma\n",
            "1        TCGA-BRCA  TCGA-A1-A0SK     Breast Invasive Carcinoma\n",
            "2        TCGA-BRCA  TCGA-AC-A3EH     Breast Invasive Carcinoma\n",
            "3        TCGA-LUSC  TCGA-77-A5FZ  Lung Squamous Cell Carcinoma\n",
            "4        TCGA-LUSC  TCGA-85-8584  Lung Squamous Cell Carcinoma\n"
          ]
        }
      ]
    },
    {
      "cell_type": "markdown",
      "metadata": {
        "id": "4rbvEDj6xfMT"
      },
      "source": [
        "## Resources\n",
        "There are several ways to access and explore the data hosted by ISB-CGC.\n",
        "\n",
        "* ISB-CGC\n",
        "  * [ISB-CGC WebApp](https://isb-cgc.appspot.com/)\n",
        "    * Provides a graphical interface to file and case data\n",
        "    * Cohort creation\n",
        "    * File exploration\n",
        "  * [ISB-CGC BigQuery Table Search](https://isb-cgc.appspot.com/bq_meta_search/)\n",
        "    * Provides a table search for available ISB-CGC BigQuery Tables\n",
        "  * [ISB-CGC APIs](https://api-dot-isb-cgc.appspot.com/v4/swagger/)\n",
        "    * Provides programmatic access to metadata\n",
        "\n",
        "* Google Cloud\n",
        "  * [Google Cloud Platform](https://cloud.google.com/)\n",
        "    * Access and store data in [Google Cloud Storage](https://cloud.google.com/storage) and [BigQuery](https://cloud.google.com/bigquery) via User Interfaces or programmatically\n",
        "    \n",
        "* Suggested Programming Languages and Programs to use\n",
        " * SQL\n",
        "    * Can be used directly in [BigQuery Console](https://console.cloud.google.com/bigquery)\n",
        "    * Or via API in Python or R\n",
        " * [Python](https://www.python.org/)\n",
        "    * [gsutil tool](https://cloud.google.com/storage/docs/gsutil)\n",
        "    * [Jupyter Notebooks](https://jupyter.org/)\n",
        "    * [Google Colabratory](https://colab.research.google.com/)\n",
        "    * [Cloud Datalab](https://cloud.google.com/datalab/)\n",
        " * [R](https://www.r-project.org/)\n",
        "    * [RStudio](https://rstudio.com/)\n",
        "    * [RStudio.Cloud](https://rstudio.cloud/)\n",
        "* Command Line Interfaces\n",
        "    * Cloud Shell via Project Console\n",
        "    * [CLOUD SDK](https://cloud.google.com/sdk/)\n",
        "* Getting Started for Free:\n",
        "    * [Free Cloud Credits from ISB-CGC for Cancer Research](https://isb-cancer-genomics-cloud.readthedocs.io/en/latest/sections/HowtoRequestCloudCredits.html)\n",
        "    * [Google Free Tier with up to 1TB of free queries a month](https://cloud.google.com/free)\n",
        "\n",
        "Useful ISB-CGC Links:\n",
        "\n",
        "* [ISB-CGC Landing Page](https://isb-cgc.appspot.com/)\n",
        "* [ISB-CGC Documentation](https://isb-cancer-genomics-cloud.readthedocs.io/en/latest/)\n",
        "* [How to Get Started on ISB-CGC](https://isb-cancer-genomics-cloud.readthedocs.io/en/latest/sections/HowToGetStartedonISB-CGC.html)\n",
        "* [How to access Google BigQuery](https://isb-cancer-genomics-cloud.readthedocs.io/en/latest/sections/progapi/bigqueryGUI/HowToAccessBigQueryFromTheGoogleCloudPlatform.html)\n",
        "* [Community Notebook Repository](https://isb-cancer-genomics-cloud.readthedocs.io/en/latest/sections/HowTos.html)\n",
        "\n",
        "Useful Google Tutorials:\n",
        "\n",
        "* [Google's What is BigQuery?](https://cloud.google.com/bigquery/docs/introduction)\n",
        "* [Google Cloud Client Library for Python](https://googleapis.github.io/google-cloud-python/latest/index.html)"
      ]
    }
  ]
}