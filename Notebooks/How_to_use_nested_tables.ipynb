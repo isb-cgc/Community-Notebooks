{
  "nbformat": 4,
  "nbformat_minor": 0,
  "metadata": {
    "colab": {
      "provenance": [],
      "toc_visible": true,
      "include_colab_link": true
    },
    "kernelspec": {
      "name": "python3",
      "display_name": "Python 3"
    },
    "language_info": {
      "name": "python"
    }
  },
  "cells": [
    {
      "cell_type": "markdown",
      "metadata": {
        "id": "view-in-github",
        "colab_type": "text"
      },
      "source": [
        "<a href=\"https://colab.research.google.com/github/isb-cgc/Community-Notebooks/blob/law-staging/Notebooks/How_to_use_nested_tables.ipynb\" target=\"_parent\"><img src=\"https://colab.research.google.com/assets/colab-badge.svg\" alt=\"Open In Colab\"/></a>"
      ]
    },
    {
      "cell_type": "markdown",
      "source": [
        "# Working with Nested Tables in BigQuery"
      ],
      "metadata": {
        "id": "O22Nd6UlYwol"
      }
    },
    {
      "cell_type": "markdown",
      "source": [
        "\n",
        "ISB-CGC Community Notebooks\n",
        "Check out more notebooks at our [Community Notebooks Repository](https://github.com/isb-cgc/Community-Notebooks)!\n",
        "```\n",
        "Title:   Working with Nested Tables in BigQuery\n",
        "Author:  Lauren Wolfe\n",
        "Created: 2023-07-17\n",
        "URL:     https://github.com/isb-cgc/Community-Notebooks/blob/master/Notebooks/How_to_use_nested_tables.ipynb\n",
        "Purpose: To demonstrate strategies for working with nested table structures in Google BigQuery.\n",
        "Notes:\n",
        "```"
      ],
      "metadata": {
        "id": "FwIHfstlQ8vt"
      }
    },
    {
      "cell_type": "markdown",
      "source": [
        "## Introduction"
      ],
      "metadata": {
        "id": "SbHwBaYWZLMQ"
      }
    },
    {
      "cell_type": "markdown",
      "source": [
        "The data that GDC provides through their API is naturally nested. A given patient may, for instance, have multiple diagnoses at the same time. Frequently, they may receive multiple treatments to combat their cancer or have multiple follow up visits to monitor their cancer's progression. The data generated in these examples means that there will be a variable number of records of each type for a given research subject. Traditionally, ISB-CGC has stored these supplemental records in a separate table. However, they are extracted from GDC in the form of a nested JSON object.\n",
        "\n",
        "BigQuery supports nested columns, and there are advantages to storing the data in this format. Since all of the data is stored in one table, you don't have to locate and join the supplemental tables in order to access data. Instead, you can use UNNEST clauses to flatten the data as needed for your research. This guide provides an introduction to [using UNNEST in your SQL queries](https://cloud.google.com/bigquery/docs/arrays#querying_nested_arrays)."
      ],
      "metadata": {
        "id": "kEqhaayaeWPh"
      }
    },
    {
      "cell_type": "markdown",
      "source": [
        "## Getting Started"
      ],
      "metadata": {
        "id": "e6n00NMFeTB9"
      }
    },
    {
      "cell_type": "markdown",
      "source": [
        "Here, we import library modules necessary to run our script, including the bigquery module."
      ],
      "metadata": {
        "id": "FJaquDZjrS77"
      }
    },
    {
      "cell_type": "code",
      "execution_count": 1,
      "metadata": {
        "id": "7OKreFSuKqMq"
      },
      "outputs": [],
      "source": [
        "import time\n",
        "import datetime\n",
        "import typing\n",
        "\n",
        "from google.cloud import bigquery\n",
        "\n",
        "# When receiving a BQ result, we can convert each record row to a dict.\n",
        "# This is the typing definition for the resulting object.\n",
        "BigQueryRowObject = dict[str, typing.Union[str, bool, int, float, datetime.datetime, None, dict]]"
      ]
    },
    {
      "cell_type": "markdown",
      "source": [
        "Next we will need to Authorize our access to BigQuery and the Google Cloud. For more information, see '[Quick Start Guide to ISB-CGC](https://https://nbviewer.org/github/isb-cgc/Community-Notebooks/blob/master/Notebooks/Quick_Start_Guide_to_ISB_CGC.ipynb)'. Alternative authentication methods can be found [here](https://googleapis.dev/python/google-api-core/latest/auth.html)."
      ],
      "metadata": {
        "id": "xYztEkvxq8zl"
      }
    },
    {
      "cell_type": "code",
      "source": [
        "!gcloud auth application-default login"
      ],
      "metadata": {
        "id": "YYkG-8p8Y4Zn"
      },
      "execution_count": null,
      "outputs": []
    },
    {
      "cell_type": "markdown",
      "source": [
        "Finally, we'll define our billing project. Edit the variable below."
      ],
      "metadata": {
        "id": "ZcaGrwwu8hkx"
      }
    },
    {
      "cell_type": "code",
      "source": [
        "# Create a variable for which client to use with BigQuery\n",
        "project_num = 'your-billing-project-CHANGE-ME' # Update with your Google Project number\n",
        "location = 'US'\n",
        "\n",
        "if project_num == 'your-billing-project-CHANGE-ME':\n",
        "    print('Please update the project number with your Google Cloud Project')\n",
        "else:\n",
        "    client = bigquery.Client(project_num)"
      ],
      "metadata": {
        "id": "VzVhe3Wp8g82"
      },
      "execution_count": null,
      "outputs": []
    },
    {
      "cell_type": "markdown",
      "source": [
        "## Example 1: Retrieve treatment_ids for a Given Patient"
      ],
      "metadata": {
        "id": "KjThA1ljidoV"
      }
    },
    {
      "cell_type": "markdown",
      "source": [
        "Say that we want to retrieve all of the treatment_ids associated with a given patient. There are multiple ways we could achieve that. One option is to use a BigQuery QueryJob to retrieve the patient record, then use python to locate all the treatment_ids, as shown below:"
      ],
      "metadata": {
        "id": "4K9DxPRaqyCt"
      }
    },
    {
      "cell_type": "code",
      "source": [
        "def get_query_result(sql: str) -> typing.Union[bigquery.table.RowIterator, None]:\n",
        "  # Executes a given SQL statement and returns the query result.\n",
        "\n",
        "  # initialize the QueryJob\n",
        "  job_config = bigquery.QueryJobConfig()\n",
        "\n",
        "  # execute the query\n",
        "  query_job = client.query(query=sql, location=location, job_config=job_config)\n",
        "\n",
        "  while query_job.state != 'DONE':\n",
        "    query_job = client.get_job(query_job.job_id, location=location)\n",
        "    # wait for the job to complete\n",
        "    if query_job.state != 'DONE':\n",
        "      time.sleep(5)\n",
        "\n",
        "  query_job = client.get_job(query_job.job_id, location=location)\n",
        "\n",
        "  if query_job.error_result is not None:\n",
        "    print(f'[ERROR] {query_job.error_result}')\n",
        "    return None\n",
        "\n",
        "  # Return the query result as a RowIterator object\n",
        "  return query_job.result()\n",
        "\n",
        "\n",
        "sql = \"\"\"\n",
        "  SELECT *\n",
        "  FROM `isb-cgc-bq.CGCI_versioned.clinical_nested_gdc_r37`\n",
        "  WHERE case_id = 'c3f876f4-2d3a-4d60-b6c4-019f94010330'\n",
        "\"\"\"\n",
        "\n",
        "query_result = get_query_result(sql=sql)\n",
        "\n",
        "case_record_list = list()\n",
        "\n",
        "for case_row in query_result:\n",
        "  # convert RowIterator object into a list of dictionaries\n",
        "  case_record = dict(case_row.items())\n",
        "  case_record_list.append(case_record)\n",
        "\n",
        "for case_record in case_record_list:\n",
        "  diagnosis_list = case_record['diagnoses']\n",
        "\n",
        "  for diagnosis in diagnosis_list:\n",
        "    treatment_list = diagnosis['treatments']\n",
        "\n",
        "    for treatment in treatment_list:\n",
        "      print(treatment['treatment_id'])"
      ],
      "metadata": {
        "id": "znTPDC7hY5Qt"
      },
      "execution_count": null,
      "outputs": []
    },
    {
      "cell_type": "markdown",
      "source": [],
      "metadata": {
        "id": "oTvV1PovQqce"
      }
    },
    {
      "cell_type": "markdown",
      "source": [
        "An alternative, and simpler, approach is to use an UNNEST clause to retrieve the treatment_ids. This example employs the bigquery magic command, which you can learn more about [here](https://notebook.community/GoogleCloudPlatform/python-docs-samples/notebooks/tutorials/bigquery/BigQuery%20query%20magic)."
      ],
      "metadata": {
        "id": "HWKMpGaGqQPV"
      }
    },
    {
      "cell_type": "code",
      "source": [
        "%%bigquery --project your-billing-project-CHANGE-ME\n",
        "SELECT treatment.treatment_id\n",
        "FROM `isb-cgc-bq.CGCI_versioned.clinical_nested_gdc_r37`,\n",
        "UNNEST(diagnoses) AS diagnosis, # first we unnest diagnoses to access its columns\n",
        "UNNEST(treatments) AS treatment # then we unnest treatments, a child column of diagnoses\n",
        "WHERE case_id = 'c3f876f4-2d3a-4d60-b6c4-019f94010330'\n"
      ],
      "metadata": {
        "id": "_LqUwUxTqPw3"
      },
      "execution_count": null,
      "outputs": []
    },
    {
      "cell_type": "markdown",
      "source": [
        "## Example 2: Retrieve submitter_ids from Diagnoses and Treatments"
      ],
      "metadata": {
        "id": "vnU2-uXxi1cC"
      }
    },
    {
      "cell_type": "markdown",
      "source": [
        "In the query below, we select a patient record using the case_id, then use UNNEST to retrieve the diagnosis and treatment submitter_ids.\n",
        "\n",
        "Note: diagnoses and treatments both contain a column named submitter_id, which creates a naming conflict when unnested. You can address this by explicitly renaming the columns, as shown in the example below. If you don't, BigQuery will append an integer suffix to every duplicate column name. (e.g. submitter_id, submitter_id_1, etc.)"
      ],
      "metadata": {
        "id": "aREJUWNW2ull"
      }
    },
    {
      "cell_type": "code",
      "source": [
        "%%bigquery --project your-billing-project-CHANGE-ME\n",
        "SELECT diagnosis.submitter_id AS diagnosis_submitter_id,\n",
        "  treatment.submitter_id AS treatment_submitter_id\n",
        "FROM `isb-cgc-bq.CGCI_versioned.clinical_nested_gdc_r37` AS base_case,\n",
        "UNNEST(diagnoses) AS diagnosis\n",
        "LEFT JOIN UNNEST(diagnosis.treatments) AS treatment\n",
        "WHERE case_id = '39dce88d-112c-4a3d-b2d2-11e0616594d8'"
      ],
      "metadata": {
        "id": "waJyJcCF3vRL"
      },
      "execution_count": null,
      "outputs": []
    },
    {
      "cell_type": "markdown",
      "source": [
        "## Example 3: Unnesting Multiple Column Groups"
      ],
      "metadata": {
        "id": "hgqRg54sjOsO"
      }
    },
    {
      "cell_type": "markdown",
      "source": [
        "The case we used in the above query doesn't have any follow_up records, so let's look at a different `case_id`: `18395371-3c84-4d39-8ace-a3546e9ea34e`\n",
        "\n",
        "If we unnest all three nested columns, the resulting output will actually be the Cartesian product, representing every possible combination of the diagnosis, treatment and follow_up records.\n",
        "\n",
        "The new case has one diagnosis record, 8 treatment records, and 6 follow_up records. $1*8*6=48$. Our result will have 48 rows.\n",
        "\n",
        "The best way to avoid this is to unnest one set of nested columns at a time, e.g. diagnoses (and optionally its children: diagnoses.treatments, diagnoses.pathlogy_details, diagnoses.annotations)."
      ],
      "metadata": {
        "id": "RQxdZ1CyX5RC"
      }
    },
    {
      "cell_type": "code",
      "source": [
        "%%bigquery --project your-billing-project-CHANGE-ME\n",
        "SELECT base_case.case_id,\n",
        "  diagnosis.diagnosis_id,\n",
        "  treatment.treatment_id,\n",
        "  follow_up.follow_up_id\n",
        "FROM `isb-cgc-bq.CGCI_versioned.clinical_nested_gdc_r37` AS base_case\n",
        "LEFT JOIN UNNEST(diagnoses) AS diagnosis\n",
        "LEFT JOIN UNNEST(diagnosis.treatments) AS treatment\n",
        "LEFT JOIN UNNEST(follow_ups) AS follow_up\n",
        "WHERE case_id = '18395371-3c84-4d39-8ace-a3546e9ea34e'"
      ],
      "metadata": {
        "id": "nTd1MKqNd5HK"
      },
      "execution_count": null,
      "outputs": []
    }
  ]
}