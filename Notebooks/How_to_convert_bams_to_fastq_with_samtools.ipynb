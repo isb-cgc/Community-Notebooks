{
 "cells": [
  {
   "cell_type": "markdown",
   "metadata": {},
   "source": [
    "# ISB-CGC Community Notebooks\n",
    "Check out more notebooks at our [Community Notebooks Repository](https://github.com/isb-cgc/Community-Notebooks)!\n",
    "\n",
    "```\n",
    "Title:   How to convert bams to fastq files using samtools\n",
    "Author:  David L Gibbs\n",
    "Created: 2019-07-29\n",
    "Purpose: Convert a bam file, to fastq, using the Google Genomics Pipelines API\n",
    "```\n",
    "***\n"
   ]
  },
  {
   "cell_type": "markdown",
   "metadata": {},
   "source": [
    "# Using samtools to index, sort, and convert a bam file to a fastq file."
   ]
  },
  {
   "cell_type": "markdown",
   "metadata": {},
   "source": [
    "In this example, we'll be using the Google Genomics Pipelines API. The pipelines API makes it easy to run a job without having to  spin up and shut down a VM. It's all done automatically.\n",
    "\n",
    "The work is uses materials from https://cloud.google.com/genomics/docs/quickstart.\n",
    "An example yaml config file is found at: https://github.com/googlegenomics/pipelines-api-examples/blob/master/samtools/cloud/samtools.yaml\n",
    "\n",
    "For this to work, we need to make sure that the Google Genomics API is enabled. To do that, from the main menu in the cloud console, select 'APIs & Services'. The API is called: genomics.googleapis.com."
   ]
  },
  {
   "cell_type": "markdown",
   "metadata": {},
   "source": [
    "\n",
    "The software needs to be in a docker image. Lots of biologically \n",
    "related software is already bundled up for you.\n",
    "See https://biocontainers.pro/#/\n",
    "\n",
    "The biocontainers folks have removed all the 'latest' tags\n",
    "from their docker images, so you need to specify a version\n",
    "\n",
    "docker_image = 'docker pull biocontainers/samtools:v1.7.0_cv4'\n",
    "\n",
    "See:  http://www.htslib.org/doc/samtools-1.9.html\n"
   ]
  },
  {
   "cell_type": "code",
   "execution_count": 28,
   "metadata": {},
   "outputs": [],
   "source": [
    "params='''\n",
    "name: bedtools\n",
    "description: Run samtools on one bam\n",
    "\n",
    "resources:\n",
    "  zones:\n",
    "  - us-west1-b\n",
    "\n",
    "  disks:\n",
    "  - name: datadisk\n",
    "    autoDelete: True\n",
    "\n",
    "    # Within the Docker container, specify a mount point for the disk.\n",
    "    mountPoint: /mnt/data\n",
    "\n",
    "docker:\n",
    "  imageName: bhklab/samtools-1.9.0\n",
    "\n",
    "  # The Pipelines API does not create the output directory.\n",
    "  cmd: >\n",
    "    mkdir /mnt/data/output &&\n",
    "    find /mnt/data/input &&\n",
    "    for file in $(/bin/ls /mnt/data/input/*.bam); do\n",
    "       samtools index ${file};\n",
    "       samtools sort -o sorted.bam -@ 3 ${file}; \n",
    "       samtools fastq sorted.bam  > /mnt/data/output/output.fastq;\n",
    "       mv sorted.bam /mnt/data/output/;       \n",
    "       mv ${file}.bai /mnt/data/output/;\n",
    "    done\n",
    "\n",
    "\n",
    "inputParameters:\n",
    "- name: bamFile\n",
    "  description: Cloud Storage path or pattern to input file(s)\n",
    "  localCopy:\n",
    "    path: input/\n",
    "    disk: datadisk\n",
    "\n",
    "\n",
    "outputParameters:\n",
    "- name: outputPath\n",
    "  description: Cloud Storage path for where to samtools output\n",
    "  localCopy:\n",
    "    path: output/*\n",
    "    disk: datadisk\n",
    "'''\n",
    "\n",
    "fout = open('samtools.yaml','w')\n",
    "fout.write(params)\n",
    "fout.close()"
   ]
  },
  {
   "cell_type": "markdown",
   "metadata": {},
   "source": [
    "\n",
    "\n",
    "See: https://cloud.google.com/sdk/gcloud/reference/alpha/genomics/pipelines/run  for more parameters.\n",
    "\n"
   ]
  },
  {
   "cell_type": "code",
   "execution_count": 6,
   "metadata": {},
   "outputs": [
    {
     "name": "stdout",
     "output_type": "stream",
     "text": [
      "env: TEMP=gs://temp_bucket_123\n"
     ]
    }
   ],
   "source": [
    "%set_env TEMP=gs://temp_bucket_123"
   ]
  },
  {
   "cell_type": "code",
   "execution_count": 29,
   "metadata": {},
   "outputs": [
    {
     "name": "stdout",
     "output_type": "stream",
     "text": [
      "Running [operations/EIjDkrq_LRi6vJvY9qnH138g6YmPu4QUKg9wcm9kdWN0aW9uUXVldWU].\n"
     ]
    }
   ],
   "source": [
    "!gcloud alpha genomics pipelines run \\\n",
    "    --pipeline-file samtools.yaml \\\n",
    "    --inputs bamFile=gs://genomics-public-data/ftp-trace.ncbi.nih.gov/1000genomes/ftp/technical/pilot3_exon_targetted_GRCh37_bams/data/NA06986/alignment/NA06986.chromMT.ILLUMINA.bwa.CEU.exon_targetted.20100311.bam \\\n",
    "    --outputs outputPath=gs://bam_bucket_1/ \\\n",
    "    --logging \"${TEMP}/samtools_run_logs.log\" \\\n",
    "    --disk-size datadisk:100"
   ]
  },
  {
   "cell_type": "code",
   "execution_count": 23,
   "metadata": {},
   "outputs": [
    {
     "name": "stdout",
     "output_type": "stream",
     "text": [
      "Waiting for [operations/EM2Uzre_LRijp-vcnvHNuqkBIOmJj7uEFCoPcHJvZHVjdGlvblF1ZXV\n",
      "l]...done.\n"
     ]
    }
   ],
   "source": [
    "!gcloud alpha genomics operations wait EM2Uzre_LRijp-vcnvHNuqkBIOmJj7uEFCoPcHJvZHVjdGlvblF1ZXVl"
   ]
  },
  {
   "cell_type": "code",
   "execution_count": null,
   "metadata": {},
   "outputs": [],
   "source": []
  }
 ],
 "metadata": {
  "kernelspec": {
   "display_name": "Python 3",
   "language": "python",
   "name": "python3"
  },
  "language_info": {
   "codemirror_mode": {
    "name": "ipython",
    "version": 3
   },
   "file_extension": ".py",
   "mimetype": "text/x-python",
   "name": "python",
   "nbconvert_exporter": "python",
   "pygments_lexer": "ipython3",
   "version": "3.6.8"
  }
 },
 "nbformat": 4,
 "nbformat_minor": 2
}
