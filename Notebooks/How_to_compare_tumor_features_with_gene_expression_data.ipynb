{
  "nbformat": 4,
  "nbformat_minor": 0,
  "metadata": {
    "colab": {
      "name": "tumor_feature_gene_expression_analysis.ipynb",
      "provenance": [],
      "authorship_tag": "ABX9TyMuzzO3qy3O34xn7mibqKEJ",
      "include_colab_link": true
    },
    "kernelspec": {
      "name": "python3",
      "display_name": "Python 3"
    },
    "language_info": {
      "name": "python"
    }
  },
  "cells": [
    {
      "cell_type": "markdown",
      "metadata": {
        "id": "view-in-github",
        "colab_type": "text"
      },
      "source": [
        "<a href=\"https://colab.research.google.com/github/isb-cgc/Community-Notebooks/blob/master/Notebooks/How_to_compare_tumor_features_with_gene_expression_data.ipynb\" target=\"_parent\"><img src=\"https://colab.research.google.com/assets/colab-badge.svg\" alt=\"Open In Colab\"/></a>"
      ]
    },
    {
      "cell_type": "markdown",
      "metadata": {
        "id": "UtOv5rExkm8S"
      },
      "source": [
        "# ISB-CGC Community Notebooks\n",
        "\n",
        "Check out more notebooks at our [Community Notebooks Repository](https://github.com/isb-cgc/Community-Notebooks)!\n",
        "\n",
        "```\n",
        "Title:   Calculating associations between radiomics tumor features and gene expression\n",
        "Author:  Fabian Seidl, Boris Aguilar\n",
        "Created: 2021-06-15\n",
        "URL:     https://github.com/isb-cgc/Community-Notebooks/blob/master/Notebooks/How_to_compare_tumor_features_with_gene_expression_data.ipynb\n",
        "Purpose: To demonstrate multi-omics data analysis using table joins in Google BigQuery\n",
        "Notes: \n",
        "```"
      ]
    },
    {
      "cell_type": "markdown",
      "metadata": {
        "id": "cusW-9smOAY3"
      },
      "source": [
        "# Overview\n",
        "\n",
        "This notebook showcases an analysis workflow combining tumor features with gene expression data mostly run in Google BigQuery. In this notebook we will:\n",
        "\n",
        "> 1. Subset the gene expression in ISB-CGC BigQuery tables for Glioblastoma Multiforme.\n",
        "> 2. Join these expression data to tumor features extracted from radiomics data.\n",
        "> 3. Calculate Spearman correlations between tumor features and gene expression.\n",
        "\n",
        "The tumor feature data we used in this notebook are from Bakas et al. Nature Scientific 2017 (https://www.nature.com/articles/sdata2017117) and the gene expression values come from the GDC data housed in ISB-CGC BigQuery tables.\n",
        "\n",
        "First we initialize our python environment and authenticate our session."
      ]
    },
    {
      "cell_type": "code",
      "metadata": {
        "colab": {
          "base_uri": "https://localhost:8080/"
        },
        "id": "mh0awPU6N-ZW",
        "outputId": "c8d5dd13-b4c4-4cb6-9ff3-ab5f35d2c482"
      },
      "source": [
        "from google.colab import auth\n",
        "import pandas_gbq\n",
        "import pandas as pd\n",
        "import numpy\n",
        "import seaborn\n",
        "from google.cloud import bigquery\n",
        "\n",
        "bq_project='<your_google_project_here>'\n",
        "auth.authenticate_user()\n",
        "client = bigquery.Client(project=bq_project)\n",
        "print('Authenticated')"
      ],
      "execution_count": null,
      "outputs": [
        {
          "output_type": "stream",
          "text": [
            "Authenticated\n"
          ],
          "name": "stdout"
        }
      ]
    },
    {
      "cell_type": "markdown",
      "metadata": {
        "id": "c5dW0DvqOQd5"
      },
      "source": [
        "# Joining the data\n",
        "The radiomics data we are using are stored in the `isb-cgc-idc-collaboration.Analysis.unpivoted_tcga_gbm_radiomicFeatures` BigQuery table. We will join these data with expression data stored in `isb-cgc-bq.TCGA.RNAseq_hg38_gdc_current` with an SQL query."
      ]
    },
    {
      "cell_type": "code",
      "metadata": {
        "colab": {
          "base_uri": "https://localhost:8080/",
          "height": 204
        },
        "id": "t208et7xO9YK",
        "outputId": "85b1a314-178a-4304-d015-fc10b003226a"
      },
      "source": [
        "gdc_project = 'GBM'\n",
        "rna_seq_table = \"isb-cgc-bq.TCGA.RNAseq_hg38_gdc_current\"\n",
        "radiomics_table = \"isb-cgc-idc-collaboration.Analysis.unpivoted_tcga_{0}_radiomicFeatures\".format(gdc_project.lower())\n",
        "\n",
        "join_query1 = \"\"\"\n",
        "WITH \n",
        "rnaseq AS (\n",
        "   select case_barcode, gene_name, aliquot_barcode, Ensembl_gene_id, MAX(HTSeq__Counts) gexp \n",
        "   from\n",
        "\t   {0} as rna\n",
        "   WHERE \n",
        "      gene_type = 'protein_coding'\n",
        "      AND project_short_name = 'TCGA-{1}'\n",
        "   GROUP BY Ensembl_gene_id, gene_name, case_barcode, aliquot_barcode\n",
        "),\n",
        "\"\"\".format(rna_seq_table, gdc_project)\n",
        "\n",
        "join_query2 = \"\"\"\n",
        "combined AS (\n",
        "   SELECT Ensembl_gene_id, gene_name, feature, gexp, value ,\n",
        "      (RANK() OVER( PARTITION BY Ensembl_gene_id,feature ORDER BY gexp )) + (COUNT(*) OVER (PARTITION BY Ensembl_gene_id,feature, CAST(gexp AS STRING)) - 1)/2.0  AS rankx,\n",
        "      (RANK() OVER( PARTITION BY Ensembl_gene_id,feature ORDER BY value )) AS ranky\n",
        "   FROM rnaseq\n",
        "   JOIN {0} img\n",
        "   ON img.ID = case_barcode\n",
        "      AND img.feature LIKE \"VOLUME%\" \n",
        "      AND img.value IS NOT NULL\n",
        ")\n",
        "\"\"\".format(radiomics_table)\n",
        "\n",
        "# The query results of this are very large, so we only pull the first 5 rows\n",
        "select_query = \"\"\"\n",
        "SELECT * FROM combined LIMIT 5\n",
        "\"\"\"\n",
        "\n",
        "query_job = client.query( join_query1 + join_query2 + select_query )\n",
        "joined_data = query_job.result().to_dataframe()\n",
        "joined_data.head(5)"
      ],
      "execution_count": null,
      "outputs": [
        {
          "output_type": "execute_result",
          "data": {
            "text/html": [
              "<div>\n",
              "<style scoped>\n",
              "    .dataframe tbody tr th:only-of-type {\n",
              "        vertical-align: middle;\n",
              "    }\n",
              "\n",
              "    .dataframe tbody tr th {\n",
              "        vertical-align: top;\n",
              "    }\n",
              "\n",
              "    .dataframe thead th {\n",
              "        text-align: right;\n",
              "    }\n",
              "</style>\n",
              "<table border=\"1\" class=\"dataframe\">\n",
              "  <thead>\n",
              "    <tr style=\"text-align: right;\">\n",
              "      <th></th>\n",
              "      <th>Ensembl_gene_id</th>\n",
              "      <th>gene_name</th>\n",
              "      <th>feature</th>\n",
              "      <th>gexp</th>\n",
              "      <th>value</th>\n",
              "      <th>rankx</th>\n",
              "      <th>ranky</th>\n",
              "    </tr>\n",
              "  </thead>\n",
              "  <tbody>\n",
              "    <tr>\n",
              "      <th>0</th>\n",
              "      <td>ENSG00000001460</td>\n",
              "      <td>STPG1</td>\n",
              "      <td>VOLUME_ET_OVER_NET</td>\n",
              "      <td>65</td>\n",
              "      <td>0.186594547</td>\n",
              "      <td>4.0</td>\n",
              "      <td>1</td>\n",
              "    </tr>\n",
              "    <tr>\n",
              "      <th>1</th>\n",
              "      <td>ENSG00000001460</td>\n",
              "      <td>STPG1</td>\n",
              "      <td>VOLUME_ET_OVER_NET</td>\n",
              "      <td>16</td>\n",
              "      <td>0.385678479</td>\n",
              "      <td>1.0</td>\n",
              "      <td>2</td>\n",
              "    </tr>\n",
              "    <tr>\n",
              "      <th>2</th>\n",
              "      <td>ENSG00000001460</td>\n",
              "      <td>STPG1</td>\n",
              "      <td>VOLUME_ET_OVER_NET</td>\n",
              "      <td>80</td>\n",
              "      <td>0.787813852</td>\n",
              "      <td>5.0</td>\n",
              "      <td>3</td>\n",
              "    </tr>\n",
              "    <tr>\n",
              "      <th>3</th>\n",
              "      <td>ENSG00000001460</td>\n",
              "      <td>STPG1</td>\n",
              "      <td>VOLUME_ET_OVER_NET</td>\n",
              "      <td>151</td>\n",
              "      <td>1.133679513</td>\n",
              "      <td>9.0</td>\n",
              "      <td>4</td>\n",
              "    </tr>\n",
              "    <tr>\n",
              "      <th>4</th>\n",
              "      <td>ENSG00000001460</td>\n",
              "      <td>STPG1</td>\n",
              "      <td>VOLUME_ET_OVER_NET</td>\n",
              "      <td>299</td>\n",
              "      <td>1.602529282</td>\n",
              "      <td>13.0</td>\n",
              "      <td>5</td>\n",
              "    </tr>\n",
              "  </tbody>\n",
              "</table>\n",
              "</div>"
            ],
            "text/plain": [
              "   Ensembl_gene_id gene_name             feature  ...        value rankx  ranky\n",
              "0  ENSG00000001460     STPG1  VOLUME_ET_OVER_NET  ...  0.186594547   4.0      1\n",
              "1  ENSG00000001460     STPG1  VOLUME_ET_OVER_NET  ...  0.385678479   1.0      2\n",
              "2  ENSG00000001460     STPG1  VOLUME_ET_OVER_NET  ...  0.787813852   5.0      3\n",
              "3  ENSG00000001460     STPG1  VOLUME_ET_OVER_NET  ...  1.133679513   9.0      4\n",
              "4  ENSG00000001460     STPG1  VOLUME_ET_OVER_NET  ...  1.602529282  13.0      5\n",
              "\n",
              "[5 rows x 7 columns]"
            ]
          },
          "metadata": {
            "tags": []
          },
          "execution_count": 2
        }
      ]
    },
    {
      "cell_type": "markdown",
      "metadata": {
        "id": "MaD1uN31Xe2g"
      },
      "source": [
        "# Calculating correlation values\n",
        "We can use the table from the previous query and pipe the results directly to the next analysis by adding on syntax to calculate the correlations between the volumes and the expression vectors for each gene and feature type.\n",
        "\n",
        "The query groups by gene_name and by tumor feature and then calls the built in CORR() function of SQL."
      ]
    },
    {
      "cell_type": "code",
      "metadata": {
        "colab": {
          "base_uri": "https://localhost:8080/",
          "height": 204
        },
        "id": "7Lgj6L8DXf00",
        "outputId": "04c64edb-f47d-4190-ee5a-82e3cc931a58"
      },
      "source": [
        "correlation_query = \"\"\",\n",
        "correlation AS (\n",
        "   SELECT Ensembl_gene_id, gene_name, feature,  COUNT(gexp) as n, CORR(rankx,ranky)  as corr \n",
        "   FROM combined\n",
        "   GROUP BY Ensembl_gene_id, gene_name, feature\n",
        ")\n",
        "\"\"\"\n",
        "\n",
        "# a select query to pull just a subset\n",
        "select_corr_query = \"\"\"SELECT * FROM correlation LIMIT 5\"\"\"\n",
        "\n",
        "rank_job = client.query( join_query1 + join_query2 + correlation_query + select_corr_query )\n",
        "rank_data = rank_job.result().to_dataframe()\n",
        "rank_data.head(5)"
      ],
      "execution_count": null,
      "outputs": [
        {
          "output_type": "execute_result",
          "data": {
            "text/html": [
              "<div>\n",
              "<style scoped>\n",
              "    .dataframe tbody tr th:only-of-type {\n",
              "        vertical-align: middle;\n",
              "    }\n",
              "\n",
              "    .dataframe tbody tr th {\n",
              "        vertical-align: top;\n",
              "    }\n",
              "\n",
              "    .dataframe thead th {\n",
              "        text-align: right;\n",
              "    }\n",
              "</style>\n",
              "<table border=\"1\" class=\"dataframe\">\n",
              "  <thead>\n",
              "    <tr style=\"text-align: right;\">\n",
              "      <th></th>\n",
              "      <th>Ensembl_gene_id</th>\n",
              "      <th>gene_name</th>\n",
              "      <th>feature</th>\n",
              "      <th>n</th>\n",
              "      <th>corr</th>\n",
              "    </tr>\n",
              "  </thead>\n",
              "  <tbody>\n",
              "    <tr>\n",
              "      <th>0</th>\n",
              "      <td>ENSG00000003249</td>\n",
              "      <td>DBNDD1</td>\n",
              "      <td>VOLUME_WT_OVER_BRAIN</td>\n",
              "      <td>22</td>\n",
              "      <td>0.071553</td>\n",
              "    </tr>\n",
              "    <tr>\n",
              "      <th>1</th>\n",
              "      <td>ENSG00000004478</td>\n",
              "      <td>FKBP4</td>\n",
              "      <td>VOLUME_NET_OVER_WT</td>\n",
              "      <td>22</td>\n",
              "      <td>-0.169386</td>\n",
              "    </tr>\n",
              "    <tr>\n",
              "      <th>2</th>\n",
              "      <td>ENSG00000005421</td>\n",
              "      <td>PON1</td>\n",
              "      <td>VOLUME_NET_OVER_ED</td>\n",
              "      <td>22</td>\n",
              "      <td>0.220239</td>\n",
              "    </tr>\n",
              "    <tr>\n",
              "      <th>3</th>\n",
              "      <td>ENSG00000010803</td>\n",
              "      <td>SCMH1</td>\n",
              "      <td>VOLUME_ED_over_BRAIN</td>\n",
              "      <td>22</td>\n",
              "      <td>0.222237</td>\n",
              "    </tr>\n",
              "    <tr>\n",
              "      <th>4</th>\n",
              "      <td>ENSG00000012779</td>\n",
              "      <td>ALOX5</td>\n",
              "      <td>VOLUME_ET</td>\n",
              "      <td>22</td>\n",
              "      <td>-0.145212</td>\n",
              "    </tr>\n",
              "  </tbody>\n",
              "</table>\n",
              "</div>"
            ],
            "text/plain": [
              "   Ensembl_gene_id gene_name               feature   n      corr\n",
              "0  ENSG00000003249    DBNDD1  VOLUME_WT_OVER_BRAIN  22  0.071553\n",
              "1  ENSG00000004478     FKBP4    VOLUME_NET_OVER_WT  22 -0.169386\n",
              "2  ENSG00000005421      PON1    VOLUME_NET_OVER_ED  22  0.220239\n",
              "3  ENSG00000010803     SCMH1  VOLUME_ED_over_BRAIN  22  0.222237\n",
              "4  ENSG00000012779     ALOX5             VOLUME_ET  22 -0.145212"
            ]
          },
          "metadata": {
            "tags": []
          },
          "execution_count": 3
        }
      ]
    },
    {
      "cell_type": "markdown",
      "metadata": {
        "id": "tfvwMcnfPX77"
      },
      "source": [
        "# Performing t-tests with a User Defined Function\n",
        "These correlations can then be used to call a user defined function to calcuate significance values by t-test statistics."
      ]
    },
    {
      "cell_type": "code",
      "metadata": {
        "id": "ornM2_u_aVQv",
        "colab": {
          "base_uri": "https://localhost:8080/",
          "height": 204
        },
        "outputId": "541370a0-47ea-4dd7-8fd3-5231778145c5"
      },
      "source": [
        "pvalue_query = \"\"\"\n",
        "SELECT  feature, Ensembl_gene_id, gene_name, n, corr,\n",
        "   `cgc-05-0042.functions.jstat_ttest`(t, n-2, 2) as p\n",
        "FROM (\n",
        "   SELECT *, \n",
        "         ABS(corr)*SQRT( (n-2)/((1-corr*corr))) AS t\n",
        "   FROM correlation\n",
        "   WHERE  ABS(corr) < 1.0\n",
        "     )\n",
        "ORDER BY p\n",
        "\"\"\"\n",
        "\n",
        "statistics_job = client.query( join_query1 + join_query2 + correlation_query + pvalue_query )\n",
        "statistics_table = statistics_job.result().to_dataframe()\n",
        "statistics_table.head(5)"
      ],
      "execution_count": null,
      "outputs": [
        {
          "output_type": "execute_result",
          "data": {
            "text/html": [
              "<div>\n",
              "<style scoped>\n",
              "    .dataframe tbody tr th:only-of-type {\n",
              "        vertical-align: middle;\n",
              "    }\n",
              "\n",
              "    .dataframe tbody tr th {\n",
              "        vertical-align: top;\n",
              "    }\n",
              "\n",
              "    .dataframe thead th {\n",
              "        text-align: right;\n",
              "    }\n",
              "</style>\n",
              "<table border=\"1\" class=\"dataframe\">\n",
              "  <thead>\n",
              "    <tr style=\"text-align: right;\">\n",
              "      <th></th>\n",
              "      <th>feature</th>\n",
              "      <th>Ensembl_gene_id</th>\n",
              "      <th>gene_name</th>\n",
              "      <th>n</th>\n",
              "      <th>corr</th>\n",
              "      <th>p</th>\n",
              "    </tr>\n",
              "  </thead>\n",
              "  <tbody>\n",
              "    <tr>\n",
              "      <th>0</th>\n",
              "      <td>VOLUME_TC</td>\n",
              "      <td>ENSG00000131037</td>\n",
              "      <td>EPS8L1</td>\n",
              "      <td>22</td>\n",
              "      <td>-0.844592</td>\n",
              "      <td>0.000001</td>\n",
              "    </tr>\n",
              "    <tr>\n",
              "      <th>1</th>\n",
              "      <td>VOLUME_TC_over_BRAIN</td>\n",
              "      <td>ENSG00000131037</td>\n",
              "      <td>EPS8L1</td>\n",
              "      <td>22</td>\n",
              "      <td>-0.837822</td>\n",
              "      <td>0.000002</td>\n",
              "    </tr>\n",
              "    <tr>\n",
              "      <th>2</th>\n",
              "      <td>VOLUME_BRAIN</td>\n",
              "      <td>ENSG00000106689</td>\n",
              "      <td>LHX2</td>\n",
              "      <td>22</td>\n",
              "      <td>-0.815268</td>\n",
              "      <td>0.000005</td>\n",
              "    </tr>\n",
              "    <tr>\n",
              "      <th>3</th>\n",
              "      <td>VOLUME_BRAIN</td>\n",
              "      <td>ENSG00000119559</td>\n",
              "      <td>C19orf25</td>\n",
              "      <td>22</td>\n",
              "      <td>-0.807612</td>\n",
              "      <td>0.000007</td>\n",
              "    </tr>\n",
              "    <tr>\n",
              "      <th>4</th>\n",
              "      <td>VOLUME_NET</td>\n",
              "      <td>ENSG00000171433</td>\n",
              "      <td>GLOD5</td>\n",
              "      <td>22</td>\n",
              "      <td>-0.806596</td>\n",
              "      <td>0.000007</td>\n",
              "    </tr>\n",
              "  </tbody>\n",
              "</table>\n",
              "</div>"
            ],
            "text/plain": [
              "                feature  Ensembl_gene_id gene_name   n      corr         p\n",
              "0             VOLUME_TC  ENSG00000131037    EPS8L1  22 -0.844592  0.000001\n",
              "1  VOLUME_TC_over_BRAIN  ENSG00000131037    EPS8L1  22 -0.837822  0.000002\n",
              "2          VOLUME_BRAIN  ENSG00000106689      LHX2  22 -0.815268  0.000005\n",
              "3          VOLUME_BRAIN  ENSG00000119559  C19orf25  22 -0.807612  0.000007\n",
              "4            VOLUME_NET  ENSG00000171433     GLOD5  22 -0.806596  0.000007"
            ]
          },
          "metadata": {
            "tags": []
          },
          "execution_count": 5
        }
      ]
    },
    {
      "cell_type": "markdown",
      "metadata": {
        "id": "CFmSXc6ncL0U"
      },
      "source": [
        "We can use these data for further analysis or simply generate a summary plot as below:"
      ]
    },
    {
      "cell_type": "code",
      "metadata": {
        "colab": {
          "base_uri": "https://localhost:8080/",
          "height": 386
        },
        "id": "VEinCDQP7rnZ",
        "outputId": "828271a8-594a-42cc-ce75-679c46fcdeeb"
      },
      "source": [
        "statistics_table['neglog10'] = -numpy.log10(statistics_table['p'])\n",
        "\n",
        "bxplt = seaborn.boxplot(x=statistics_table['feature'], \n",
        "                        y=statistics_table['neglog10'], \n",
        "                        data=statistics_table\n",
        "                        )\n",
        "labels = [x.get_text().lower() for x in bxplt.get_xticklabels()]\n",
        "jnk = bxplt.set_xticklabels(labels, rotation=80, size=10)\n",
        "jnk = bxplt.set(ylabel='-log10(p)')"
      ],
      "execution_count": null,
      "outputs": [
        {
          "output_type": "display_data",
          "data": {
            "image/png": "[encoded data removed]",
            "text/plain": [
              "<Figure size 432x288 with 1 Axes>"
            ]
          },
          "metadata": {
            "tags": [],
            "needs_background": "light"
          }
        }
      ]
    },
    {
      "cell_type": "code",
      "metadata": {
        "id": "P-Lo5d5XO5K5",
        "colab": {
          "base_uri": "https://localhost:8080/"
        },
        "outputId": "4ff0576e-d476-42f8-d18a-7e1a70c7c8f0"
      },
      "source": [
        "# The full query\n",
        "print(join_query1 + join_query2 + correlation_query + pvalue_query)"
      ],
      "execution_count": null,
      "outputs": [
        {
          "output_type": "stream",
          "text": [
            "\n",
            "WITH \n",
            "rnaseq AS (\n",
            "   select case_barcode, gene_name, aliquot_barcode, Ensembl_gene_id, MAX(HTSeq__Counts) gexp \n",
            "   from\n",
            "\t   isb-cgc-bq.TCGA.RNAseq_hg38_gdc_current as rna\n",
            "   WHERE \n",
            "      gene_type = 'protein_coding'\n",
            "      AND project_short_name = 'TCGA-GBM'\n",
            "   GROUP BY Ensembl_gene_id, gene_name, case_barcode, aliquot_barcode\n",
            "),\n",
            "\n",
            "combined AS (\n",
            "   SELECT Ensembl_gene_id, gene_name, feature, gexp, value ,\n",
            "      (RANK() OVER( PARTITION BY Ensembl_gene_id,feature ORDER BY gexp )) + (COUNT(*) OVER (PARTITION BY Ensembl_gene_id,feature, CAST(gexp AS STRING)) - 1)/2.0  AS rankx,\n",
            "      (RANK() OVER( PARTITION BY Ensembl_gene_id,feature ORDER BY value )) AS ranky\n",
            "   FROM rnaseq\n",
            "   JOIN isb-cgc-idc-collaboration.Analysis.unpivoted_tcga_gbm_radiomicFeatures img\n",
            "   ON img.ID = case_barcode\n",
            "      AND img.feature LIKE \"VOLUME%\" \n",
            "      AND img.value IS NOT NULL\n",
            ")\n",
            ",\n",
            "correlation AS (\n",
            "   SELECT Ensembl_gene_id, gene_name, feature,  COUNT(gexp) as n, CORR(rankx,ranky)  as corr \n",
            "   FROM combined\n",
            "   GROUP BY Ensembl_gene_id, gene_name, feature\n",
            ")\n",
            "\n",
            "SELECT  feature, Ensembl_gene_id, gene_name, n, corr,\n",
            "   `cgc-05-0042.functions.jstat_ttest`(t, n-2, 2) as p\n",
            "FROM (\n",
            "   SELECT *, \n",
            "         ABS(corr)*SQRT( (n-2)/((1-corr*corr))) AS t\n",
            "   FROM correlation\n",
            "   WHERE  ABS(corr) < 1.0\n",
            "     )\n",
            "ORDER BY p\n",
            "\n"
          ],
          "name": "stdout"
        }
      ]
    }
  ]
}
