{
  "nbformat": 4,
  "nbformat_minor": 0,
  "metadata": {
    "colab": {
      "name": "Exploring_COSMICs_Cancer_Gene_Census_table.ipynb",
      "provenance": [],
      "collapsed_sections": []
    },
    "kernelspec": {
      "display_name": "Python 3",
      "language": "python",
      "name": "python3"
    },
    "language_info": {
      "codemirror_mode": {
        "name": "ipython",
        "version": 3
      },
      "file_extension": ".py",
      "mimetype": "text/x-python",
      "name": "python",
      "nbconvert_exporter": "python",
      "pygments_lexer": "ipython3",
      "version": "3.8.5"
    }
  },
  "cells": [
    {
      "cell_type": "markdown",
      "metadata": {
        "id": "view-in-github"
      },
      "source": [
        "<a href=\"https://colab.research.google.com/github/isb-cgc/Community-Notebooks/blob/Staging-Notebooks/Notebooks/Exploring_COSMIC's_Cancer_Gene_Census_table.ipynb\" target=\"_parent\"><img src=\"https://colab.research.google.com/assets/colab-badge.svg\" alt=\"Open In Colab\"/></a>"
      ]
    },
    {
      "cell_type": "markdown",
      "metadata": {
        "id": "5xcPThAfMVfu"
      },
      "source": [
        "# ISB-CGC Community Notebooks\n",
        "\n",
        "Check out more notebooks at our [Community Notebooks Repository](https://github.com/isb-cgc/Community-Notebooks)!\n",
        "\n",
        "```\n",
        "Title:   Exploring the COSMIC Cancer Gene Census\n",
        "Author:  Akshay Balaji\n",
        "Created: 2020-07-08\n",
        "Purpose: Understand the information stored in COSMIC's Cancer Gene Census dataset and ways it can be analyzed.\n",
        "URL:     https://github.com/isb-cgc/Community-Notebooks/blob/master/Notebooks/Exploring_COSMICs_Cancer_Gene_Census_table.ipynb\n",
        "Notes:   \n",
        "```\n",
        "***"
      ]
    },
    {
      "cell_type": "markdown",
      "metadata": {
        "id": "yY0QWdiUhmjd"
      },
      "source": [
        "# **Exploring COSMIC's Cancer Gene Census table**\n",
        "\n",
        "This notebook introduces users to the `Cancer_Gene_Census` table within the COSMIC dataset in the ISB Cancer Genomics Cloud resource. \n",
        "\n",
        "Goals: \n",
        "* Understand the table's *schema* - its fields (columns) and the types of data they hold\n",
        "* Answer interesting questions about the data by performing analyses in SQL & Python \n",
        "* Produce visualizations of our analyses\n",
        "\n",
        "> *Note*: Because our cloud resource is often abbreviated to \"CGC\", we will avoid using such an abbreviation for the Cancer Gene Census, which is COSMIC's product. \n",
        "\n",
        "\n"
      ]
    },
    {
      "cell_type": "markdown",
      "metadata": {
        "id": "5a_qdnTHyd6p"
      },
      "source": [
        "### Login to Google Cloud and create notebook client to BigQuery\n",
        "As usual, we'll start by authenticating ourselves in the Google Cloud. Then, we'll load the BigQuery API, import the Pandas library to work with dataframes, and create our client."
      ]
    },
    {
      "cell_type": "code",
      "metadata": {
        "id": "_YnVlTlEfHny"
      },
      "source": [
        "from google.colab import auth\n",
        "try:\n",
        "  auth.authenticate_user()\n",
        "  print('You have been successfully authenticated!')\n",
        "except:\n",
        "  print('You have not been authenticated.')"
      ],
      "execution_count": null,
      "outputs": []
    },
    {
      "cell_type": "code",
      "metadata": {
        "id": "QBTx7endNpo3"
      },
      "source": [
        "from google.cloud import bigquery\n",
        "import pandas as pd\n",
        "from IPython.display import display, display_pretty\n",
        "\n",
        "PROJECT_ID = 'your project id'\n",
        "client = bigquery.Client(PROJECT_ID)"
      ],
      "execution_count": null,
      "outputs": []
    },
    {
      "cell_type": "markdown",
      "metadata": {
        "id": "NdwSTEB7sFCE"
      },
      "source": [
        "## Viewing the Cancer Gene Census table schema\n",
        "Next, we'll introduce ourselves to the `Cancer_Gene_Census` table by taking a look at its **schema** -- the names and data types of its fields. To do this, we'll actually pull the table directly into Python using the BigQuery client function `get_table()`. Next, we'll obtain the field names and types from the `schema` attribute of the `table` object using Python's `lambda` and `map()` functions.\n",
        "> `lambda` creates a mini function of our own choosing using the format \n",
        "```\n",
        "lambda <INPUT>: <OUTPUT>\n",
        "```\n",
        "For example,\n",
        "```\n",
        "lambda str: len(str) \n",
        "```\n",
        "takes a string and outputs its length.\n",
        "\n",
        "> `map()` takes a function and applies it to a list of inputs using the format\n",
        "```\n",
        "map(<FUNCTION>, <LIST OF INPUTS>)\n",
        "```\n",
        "Building on the previous example,\n",
        "```\n",
        "map(lambda str: len(str), str_list[])\n",
        "```\n",
        "takes the string function we defined above and applies it to a list of strings, returning the lengths of every string in the list.\n",
        ">\n",
        "Similarly, we can apply a function that fetches name and field type to every element of the table schema, which consists of `field` objects:"
      ]
    },
    {
      "cell_type": "code",
      "metadata": {
        "id": "FtK74qOxPLdL"
      },
      "source": [
        "table_ref = 'isb-cgc.COSMIC_v91_grch38.Cancer_Gene_Census'\n",
        "table = client.get_table(table_ref)\n",
        "\n",
        "print('The current table is {}'.format(table.table_id))\n",
        "print('-------------------------------------')\n",
        "\n",
        "# investigate the table\n",
        "fieldNames = list(map(lambda tsf: tsf.name, table.schema))\n",
        "fieldTypes = list(map(lambda tsf: tsf.field_type, table.schema))\n",
        "\n",
        "view_num = 10 # view the first 10 fields of the table\n",
        "print(\"This table has {} fields. \".format(len(fieldNames)))\n",
        "print(\"The first {} field names and types are: \".format(view_num))\n",
        "for i in range(view_num):\n",
        "  print(\"{} - {}\".format(fieldNames[i], fieldTypes[i]))"
      ],
      "execution_count": null,
      "outputs": []
    },
    {
      "cell_type": "markdown",
      "metadata": {
        "id": "5VoyrUa17Y4G"
      },
      "source": [
        "## Investigating the tumor type column `Tumour_Types_Somatic`\n",
        "\n",
        "\n",
        "\n",
        "First, let's visualize the actual table data to see what the `Tumour_Types_Somatic` column looks like.\n",
        "\n",
        "Note: you will need to update 'your_project_number' with your project number before continuing with the notebook"
      ]
    },
    {
      "cell_type": "code",
      "metadata": {
        "id": "uvUXfzPo-FSp"
      },
      "source": [
        "%%bigquery --project YOUR_PROJECT_ID\n",
        "\n",
        "SELECT \n",
        "  Gene_Symbol,\n",
        "  Tumour_Types_Somatic\n",
        "FROM\n",
        "  `isb-cgc.COSMIC_v91_grch38.Cancer_Gene_Census`\n",
        "LIMIT 5;"
      ],
      "execution_count": null,
      "outputs": []
    },
    {
      "cell_type": "markdown",
      "metadata": {
        "id": "pvtGOkUMAD3P"
      },
      "source": [
        "\n",
        "As we can see, each gene gets a single entry containing all of its somatic tumor associations. For example, the 5 rows above tell us that the gene BCLAF1 is associated with melanoma and SCC (squamous cell carcinoma)."
      ]
    },
    {
      "cell_type": "markdown",
      "metadata": {
        "id": "_6ChCnp4F2ZW"
      },
      "source": [
        "### Selecting all genes for a specific tumor type\n",
        "\n",
        "* Selecting for values *within* string data "
      ]
    },
    {
      "cell_type": "markdown",
      "metadata": {
        "id": "kkjmTBVa-zbE"
      },
      "source": [
        "Our first example will be to identify all the genes in the Cancer Gene Census that are associated with a specific tumor type. For example, if we wanted to know all the genes that have been linked to gliomas, we could view the table to see that gliomas are represented in the column as `'glioma'`, and search on that. The challenge is that in this table, like future tables you may encounter, the tumor associations for a single gene are all written out in a single table cell as one long string. How do we search for specifically `'glioma'` within each gene's string in SQL? The trick is to use SQL's `LIKE` operator, which can match strings within other strings using the `%` symbol as a wildcard for other characters.\n",
        "\n",
        "```\n",
        "WHERE string1 LIKE \"%pattern%\"\n",
        "```\n",
        "will identify all strings in the `string1` column which contain `pattern`, since the first `%` means that any characters can come before `pattern`, and the last `%` means that any characters can come after `pattern`.\n",
        "\n",
        "We have to be careful using this on `Tumour_Types_Somatic`, however, because some tumor types could be found in the names of other more specific tumor types. For example, there's SCC, and then there's *oral* SCC. If we do `\"%SCC%\"`, we'll match the oral SCC rows as well, which we don't want to do. So instead, we need to match for individual list entries, which will be delineated by either a following comma, if the type is at the end of the list, a leading space. We use this logic to produce the following query for `'glioma'`, and turn the tumor type into a variable so that users can simply change the variable name to search for other tumors. \n",
        "\n",
        "> Since we use a variable to represent the tumor type, we have to write the query as a string in Python and format the string afterwards, rather than writing a direct SQL script. \n",
        "\n"
      ]
    },
    {
      "cell_type": "code",
      "metadata": {
        "id": "S8zYaXQFWjSc"
      },
      "source": [
        "# Select all genes for a specific tumor type\n",
        "# Take user input for what kind of tumor type interested in\n",
        "\n",
        "from tabulate import tabulate # import tabulate for compact table output\n",
        "\n",
        "tumor_type = 'glioma' # this variable can be changed to the tumor type you want to search for!\n",
        "\n",
        "QUERY = '''\n",
        "    SELECT Gene_Symbol, Name \n",
        "    FROM `isb-cgc.COSMIC_v91_grch38.Cancer_Gene_Census` \n",
        "    WHERE Tumour_Types_Somatic LIKE \"% {}%\"\n",
        "    OR Tumour_Types_Somatic LIKE \"%{},%\" \n",
        "'''.format(tumor_type, tumor_type)\n",
        "\n",
        "df = client.query(QUERY).result().to_dataframe()\n",
        "\n",
        "print(tabulate(df.head(10), headers=\"keys\", tablefmt = 'simple'))\n",
        "print(\"\\n ({} more rows)\".format(df.size-10))"
      ],
      "execution_count": null,
      "outputs": []
    },
    {
      "cell_type": "markdown",
      "metadata": {
        "id": "0CWLBZ3NF_r-"
      },
      "source": [
        "This is nice, but you might have thought to yourself -- \"I wish I could see a list of all the tumor type options in the column so I'd know exactly what to search for!\" In other words, we wish that we could obtain a list of all the unique tumor types in the column, which leads us to our next section."
      ]
    },
    {
      "cell_type": "markdown",
      "metadata": {
        "id": "PYySdfavJRmr"
      },
      "source": [
        "### Isolating the unique tumor types and counting their associations in the table\n",
        "\n",
        "* Splitting a list-like string entry into its individual items\n",
        "* Working with table entries that are arrays"
      ]
    },
    {
      "cell_type": "markdown",
      "metadata": {
        "id": "qR_8ngZT8J9r"
      },
      "source": [
        "The significance of seeing the unique tumor types is not only logistical, it's clinical. When we isolate the tumor types, we should also be able to count the number of times they appear in the Cancer Gene Census -- in other words, count the number of associations they have to high-confidence cancer genes. This can give us an indication of **which kinds of tumors are most thoroughly linked to specific genetic causes thus far.**\n",
        "\n",
        "The fact that the tumor types are all listed out together in strings makes obtaining a unique set of them complicated. We can't simply use `GROUP BY` or even `DISTINCT()` on the column, because two entries like \"Melanoma, SCC\" and \"SCC, Melanoma\" will show up as different values, when in reality they both contain two tumor types: \"Melanoma\" and \"SCC\". Instead, we have split each string entry into the individual tumors, and then group on these.\n",
        "\n",
        "BigQuery SQL has two functions that can help us out here: [**`SPLIT()`**](https://cloud.google.com/bigquery/docs/reference/standard-sql/string_functions#split) and [**`UNNEST()`**](https://cloud.google.com/bigquery/docs/reference/standard-sql/query-syntax#unnest).\n",
        "\n",
        "> `SPLIT(string, delimiter)` will take a string and split it into an array of smaller strings, splitting by whatever character(s) you provide as the delimiter. For example, if you have a list `\"A, B, C\"`, you would want to use `\", \"` as your delimiter to obtain `[\"A\",\"B\",\"C\"]`. Using just `\",\"` with no space will result in `[\"A\",\" B\",\" C\"]`, which has those extra white spaces that we don't want.\n",
        "\n",
        "> `UNNEST(array)` will take an array and return a table containing one row for each element in the array. Thus, if a column `test` contains entries that are arrays of strings, running `UNNEST(test)` will return a table with one column containing every single string from every single array, each in its own row. \n",
        "\n",
        "So the idea here is that we run `SPLIT()` on the tumor type column, and then `UNNEST()` this column to obtain a single column with every individual tumor type listed in the Cancer Gene Census. From here, we can `GROUP BY` to obtain a unique set of all the tumor types, and in the process we can run `COUNT()` as well to get counts of how many times each tumor type appears, i.e. how many gene associations each tumor type has! This leads us to the following script:"
      ]
    },
    {
      "cell_type": "code",
      "metadata": {
        "id": "oWyRgM7PqDOI"
      },
      "source": [
        "%%bigquery unique_tumor_types --project YOUR_PROJECT_ID\n",
        "\n",
        "-- Getting the unique somatic tumor types and the number of genes each is associated with\n",
        "-- the Tumor_Types_Somatic column\n",
        "\n",
        "WITH\n",
        "split_tb AS (\n",
        "  SELECT SPLIT(Tumour_Types_Somatic, \", \") AS tts # MUST have delimiter as \", \"\n",
        "  FROM `isb-cgc.COSMIC_v91_grch38.Cancer_Gene_Census` \n",
        ") \n",
        "# Even though we don't have a column named'tumor_type' yet, we're going to create it \n",
        "#   in the 'FROM' statement and select directly from it\n",
        "# To use UNNEST properly, we have to also select the data table that we're unnesting from\n",
        "SELECT tumor_type, COUNT(*) AS gene_count \n",
        "FROM split_tb, UNNEST(split_tb.tts) AS tumor_type\n",
        "GROUP BY tumor_type\n",
        "ORDER BY gene_count DESC; # order the table from most gene associations to least"
      ],
      "execution_count": null,
      "outputs": []
    },
    {
      "cell_type": "markdown",
      "metadata": {
        "id": "cYotybyiNrxu"
      },
      "source": [
        "And now, we display the table of results with the option to view any number of rows you want:"
      ]
    },
    {
      "cell_type": "code",
      "metadata": {
        "id": "GEeV1opdTu-8"
      },
      "source": [
        "# Displaying the first 15 tumor types and their gene counts\n",
        "\n",
        "view_num = 15;  # set how many rows you want to view\n",
        "print(tabulate(unique_tumor_types.head(view_num), headers='keys', tablefmt='simple'))\n",
        "if len(unique_tumor_types) <= view_num: \n",
        "  print(\"\\n Showing all rows\")\n",
        "else:\n",
        "  print(\"\\n ({} more rows)\".format(len(unique_tumor_types.index) - view_num)) # display no. of unseen rows"
      ],
      "execution_count": null,
      "outputs": []
    },
    {
      "cell_type": "markdown",
      "metadata": {
        "id": "0kNTIeFTN_mo"
      },
      "source": [
        "And voila! We have now isolated the unique set of tumor types and have counts for their numbers of associations as well. We might want to plot this data to visualize how the gene associations are distributed across tumor types, leading us to our next section."
      ]
    },
    {
      "cell_type": "markdown",
      "metadata": {
        "id": "1P_p7doq8rg5"
      },
      "source": [
        "### Visualizing the gene association counts for the different tumor types\n",
        "\n",
        "* Using Plotly to create a barplot from a Pandas dataframe"
      ]
    },
    {
      "cell_type": "markdown",
      "metadata": {
        "id": "FmJpvs9xOVdS"
      },
      "source": [
        "This last step is fairly straightforward, in comparison to the last two sections. We can use the Plotly module `plotly.express` to create clean, beautiful barplot of our table of tumor type association results above."
      ]
    },
    {
      "cell_type": "code",
      "metadata": {
        "id": "DmADa4-MgE7m"
      },
      "source": [
        "# Plotting the above results as a bar plot, using Plotly\n",
        "import plotly.express as px # Plotly Express module within Plotly is good for \n",
        "\n",
        "view_num=15\n",
        "fig1 = px.bar(unique_tumor_types.head(view_num), x='tumor_type', y='gene_count', \n",
        "              labels={'tumor_type':'Tumor Type', 'gene_count':'Number of Genes'}, \n",
        "              text='gene_count')\n",
        "fig1.update_layout(title_text='Number of Gene Associations for Different Types of \\\n",
        "Tumors in the Cancer Gene Census') # title of the plot\n",
        "fig1.update_traces(marker_color='rgb(0, 92, 215)', marker_line_color='rgb(0, 92, 215)',\n",
        "                  marker_line_width=1.5, opacity=1)\n",
        "fig1.show() # command to display plot"
      ],
      "execution_count": null,
      "outputs": []
    },
    {
      "cell_type": "markdown",
      "metadata": {
        "id": "lkjQIsydkcV8"
      },
      "source": [
        "### Clinical Discussion\n",
        "\n",
        "The barplot above shows the 15 most associated types of tumors in the Cancer Gene Census. AML, *acute myeloid leukemias*, are the most associated by a significant margin. There's a steep drop until NSCLC, *non-squamous cell lung cancer*, and then a more gradual decline from there. This could possibly be due to the many kinds of acute myeloid leukemias that are known, allowing it more thoroughly researched and associated with genes. In addition, there's significant overlap between these top 15 tumor types and [this list of common cancer types](https://www.cancer.gov/types/common-cancers), as reported by the NCI. What this graph probably shows, then, is **how research resources are distributed across different kinds of tumors**. \n",
        "\n",
        "Some other tumors in the barplot:\n",
        "* T-ALL: T-cell acute lymphoblastic leukemia\n",
        "* ALL: Acute lymphoblastic leukemia\n",
        "* Spitzoid tumor: a type of rare skin growth that typically impacts young patients\n",
        "* MDS: Myelodysplastic syndrome, a form of bone marrow cancer\n",
        "* NHL: Non-Hodgkin lymphoma\n",
        "* CLL: Chronic lymphocytic leukemia\n",
        "* DLBCL: Diffuse large B-Cell lymphoma"
      ]
    },
    {
      "cell_type": "markdown",
      "metadata": {
        "id": "AedC6u2e86tE"
      },
      "source": [
        "## Investigating the mutation type column `Mutation_Types`\n",
        "\n",
        "Like with the last exploration, let's first see what `Mutation_Types` actually looks like. \n"
      ]
    },
    {
      "cell_type": "code",
      "metadata": {
        "id": "g6qAAE3vSP2Z"
      },
      "source": [
        "%%bigquery --project YOUR_PROJECT_ID\n",
        "\n",
        "SELECT \n",
        "  Gene_Symbol,\n",
        "  Mutation_Types\n",
        "FROM\n",
        "  `isb-cgc.COSMIC_v91_grch38.Cancer_Gene_Census`\n",
        "LIMIT 10;"
      ],
      "execution_count": null,
      "outputs": []
    },
    {
      "cell_type": "markdown",
      "metadata": {
        "id": "AtRQyz25Stpi"
      },
      "source": [
        "As we can see, once again the mutation types associated with each gene are listed out as longer strings, so working with this data is going to be very similar to working with `Tumour_Types_Somatic`. The one catch is that `Mutation_Types` is not consistent in separating each of its mutations with `\", \"`, perhaps because of how the data was entered during the curation process. We have to still be able to deal with this data effectively, so we'll attempt to repeat the unique value analysis we did last time with this mutation datat."
      ]
    },
    {
      "cell_type": "markdown",
      "metadata": {
        "id": "X0yaYdGQQDr8"
      },
      "source": [
        "### Isolating the unique mutation types and counting their associations in the table\n",
        "\n",
        "* Using **regular expressions** to split string lists"
      ]
    },
    {
      "cell_type": "markdown",
      "metadata": {
        "id": "bEQHa-PXY8M8"
      },
      "source": [
        "We know the `Mutation_Types` data isn't consistent with its delimiters because in the creation of this notebook, we tried to perform the exact same analysis as we did with `Tumour_Types_Somatic`, and we failed. This is what happens: "
      ]
    },
    {
      "cell_type": "code",
      "metadata": {
        "id": "9ondhobCZewK"
      },
      "source": [
        "%%bigquery --project YOUR_PROJECT_ID\n",
        "\n",
        "WITH\n",
        "split_tb AS (\n",
        "  SELECT SPLIT(Mutation_Types, \", \") AS mt\n",
        "  FROM `isb-cgc.COSMIC_v91_grch38.Cancer_Gene_Census` \n",
        ") \n",
        "\n",
        "SELECT mutation_type, COUNT(*) AS gene_count \n",
        "FROM split_tb, UNNEST(split_tb.mt) AS mutation_type\n",
        "GROUP BY mutation_type\n",
        "ORDER BY gene_count DESC; "
      ],
      "execution_count": null,
      "outputs": []
    },
    {
      "cell_type": "markdown",
      "metadata": {
        "id": "4f3OKUJbazqM"
      },
      "source": [
        "You can see that some of the entries have been separated by `,` with no space, or `; `, or even `. `. What this means is we can't rely on using a delimiter to extract the individual mutation types. Instead, we have to select them using a more advanced string-matching technique: **regular expressions (regexes)**. Once you learn regexes, they're an incredibly powerful tool for working with strings. Until then, however, they can be quite confusing and frustrating. We don't want to turn this into a regex tutorial, but a great website to learn quickly and thoroughly about using regexes is [RegExr](https://regexr.com/), which allows you to even run regex code on your own text in real-time. It was even used to test the regex used in the script that you'll see shortly!\n",
        "\n",
        "BigQuery SQL has a function called `REGEXP_EXTRACT_ALL()` which allows you to search for specific strings within other strings, sans-delimiter.\n",
        "> `REGEXP_EXTRACT_ALL(string, regex)` takes a string and returns an array containing all the matches in that string to the regex.\n",
        "\n",
        "Hence, if we can write a regex that will identify specifically the mutation names, which are alphabetical, and leave out the separating characters between the names, which are non-alphabetical, then we can continue with our analysis successfully!\n",
        "\n",
        "The appropriate regex to extract just the words, i.e. the alphabetical parts, of a string is:\n",
        "```\n",
        "r'[A-Za-z]+'\n",
        "\n",
        "# r -- indicates that the regex string is raw, so every \n",
        "#   character is just that - a raw character\n",
        "# [] -- indicate that we're searching for characters \n",
        "#    meeting the criteria in the brackets\n",
        "# A-Za-z -- indicates that our criteria is any character \n",
        "#        that is alphabetical, uppercase or lowercase\n",
        "# + -- indicates we want to group several consecutive \n",
        "#   matches, i.e. letters, together into a single string \n",
        "#   to retrieve the whole word\n",
        "```\n",
        "So running `REGEXP_EXTRACT_ALL(Mutation_Types, r'[A-Za-z]+')`, will return the `Mutation_Types` column with every entry converted into an array of the individual mutations, just as `SPLIT()` did, and then we can perform the same `UNNEST()` function with a `GROUP BY` to get the unique values and their counts:"
      ]
    },
    {
      "cell_type": "code",
      "metadata": {
        "id": "1nnBCnWnCNlJ"
      },
      "source": [
        "# Frequencies of mutation types + what these mutations mean (same thing like with tumor types)\n",
        "\n",
        "%%bigquery unique_mutation_types --project YOUR_PROJECT_ID\n",
        "\n",
        "WITH\n",
        "split_tb AS (\n",
        "  SELECT REGEXP_EXTRACT_ALL(Mutation_Types, r'[A-Za-z]+') AS mt \n",
        "  FROM `isb-cgc.COSMIC_v91_grch38.Cancer_Gene_Census` \n",
        ") \n",
        "SELECT mutation_type, COUNT(*) AS gene_count\n",
        "FROM split_tb, UNNEST(split_tb.mt) AS mutation_type\n",
        "GROUP BY mutation_type\n",
        "ORDER BY gene_count DESC;"
      ],
      "execution_count": null,
      "outputs": []
    },
    {
      "cell_type": "code",
      "metadata": {
        "id": "1hyJztmwh9b3"
      },
      "source": [
        "view_num = 15;  # set how many rows you want to view\n",
        "print(tabulate(unique_mutation_types.head(view_num), headers='keys', tablefmt='simple'))\n",
        "if len(unique_mutation_types) <= view_num: \n",
        "  print(\"\\n Showing all rows\")\n",
        "else:\n",
        "  print(\"\\n ({} more rows)\".format(len(unique_mutation_types.index) - view_num))"
      ],
      "execution_count": null,
      "outputs": []
    },
    {
      "cell_type": "markdown",
      "metadata": {
        "id": "I5y4UqBniuRY"
      },
      "source": [
        "There we go! We've successfully dealt with the inconsistencies in the database, which may be useful for future data you work with, especially if it is manually curated and naturally prone to some human error. The next step is to visualize the results."
      ]
    },
    {
      "cell_type": "markdown",
      "metadata": {
        "id": "7KlaUYUHjLxp"
      },
      "source": [
        "### Visualizing the gene association counts for the different mutation types"
      ]
    },
    {
      "cell_type": "code",
      "metadata": {
        "id": "zWmYxxNocFIV"
      },
      "source": [
        "view_num=15\n",
        "if view_num > len(unique_mutation_types.index):\n",
        "  print(\"Fewer than {} categories; showing all\".format(view_num))\n",
        "\n",
        "fig2 = px.bar(unique_mutation_types.head(view_num), x='mutation_type', y='gene_count', \n",
        "              labels={'mutation_type':'Mutation Type', 'gene_count':'Number of Genes'}, \n",
        "              text='gene_count')\n",
        "fig2.update_layout(title_text='Number of Gene Associations for Each Mutation Type in the Cancer Gene Census') # title of the plot\n",
        "fig2.update_traces(marker_color='rgb(0, 92, 215)', marker_line_color='rgb(0, 92, 215)',\n",
        "                  marker_line_width=1.5, opacity=1)\n",
        "fig2.show() # command to display plot"
      ],
      "execution_count": null,
      "outputs": []
    },
    {
      "cell_type": "markdown",
      "metadata": {
        "id": "aOkGZaIYjQ8_"
      },
      "source": [
        "### Clinical Discussion\n",
        "\n",
        "Before discussing the clinical implications of the plot above, it would probably be helpful to know what each of these mutation abbreviations means! \n",
        "\n",
        ">Abbreviation | Mutation Type\n",
        ">--- | ---\n",
        ">T | Translocation\n",
        ">Mis | Missense\n",
        ">N | Nonsense\n",
        ">F | Frameshift\n",
        ">S | Splice site\n",
        ">D | *Large* deletion\n",
        ">O | Other\n",
        ">A | Amplification\n",
        ">M | Mesenchymal\n",
        ">(Promoter) | Mutation in promoter site\n",
        "\n",
        "The large number of missense mutations might be expected, since those are the most likely deleterious mutation to occur. However, it's interesting that so many of the genes also have been observed to have translocation mutations causing certain cancers, and perhaps this makes sense, since translocation mutations move entire sections of DNA around and thus tend to be quite serious. \n",
        "\n",
        "> For further reference, COSMIC's documentation explains all of its acronyms [here](https://cancer.sanger.ac.uk/cosmic/help/census#abbrev). \n",
        "\n",
        "The presence of 3 \"mesenchymal\" mutations is surprising, since that's not a typical mutation classification. After checking the COSMIC `Mutant` table, we found that the census genes which had these mesenchymal mutations -- CBLC, PRF1, and SDHAF2 -- actually had a majority missense mutations but no documented mesenchymal ones, meaning that the \"M\" could have been an accidental mistypying of \"Mis\". Hence, it's useful to know how to identify a gene's specific mutations recorded in COSMIC, a skill we'll go over in our notebook about the `Mutant` data table!\n",
        "\n",
        "\n",
        "\n",
        "\n",
        "\n"
      ]
    },
    {
      "cell_type": "markdown",
      "metadata": {
        "id": "3oBzgWXLm7up"
      },
      "source": [
        "## Filtering census genes by location using the `Genome_Location` column\n",
        "\n",
        "> *Note*: This skill is explained in much more detail in the \"Working with Genomic Coordinates\" notebook!\n",
        "\n",
        "As always, let's first see what `Genome_Location` looks like. "
      ]
    },
    {
      "cell_type": "code",
      "metadata": {
        "id": "gTGgLgeGatZN"
      },
      "source": [
        "%%bigquery --project YOUR_PROJECT_ID\n",
        "\n",
        "SELECT\n",
        "  Gene_Symbol,\n",
        "  Genome_Location\n",
        "FROM\n",
        "  `isb-cgc.COSMIC_v91_grch38.Cancer_Gene_Census`\n",
        "LIMIT\n",
        "  5;"
      ],
      "execution_count": null,
      "outputs": []
    },
    {
      "cell_type": "markdown",
      "metadata": {
        "id": "Qbdm1_zZkB8z"
      },
      "source": [
        "### Extracting the location data from the `Genomic Location` string  "
      ]
    },
    {
      "cell_type": "markdown",
      "metadata": {
        "id": "5ty1ciKWRNbv"
      },
      "source": [
        "As we can see, the genomic location is stored as a `string` containing \"chromosome:start base-stop base\". If we want to be able to filter for location, it will be helpful to break this string up into its chromosome, start, and stop components as separate columns that can be queried. To do that, we use two SQL functions: `SUBSTR`, which substrings the string to extract the information which is separated by either `:` or `-`; and `STRPOS`, which helps `SUBSTR` identify the location of the `;` and `-` so it can count the appropriate number of characters to extract. \n",
        "\n",
        "The following code gets the chromosome, which is everything before the `:`; start, which is everything between `:` and `-`; and stop, which is everything after `-`.\n",
        "\n",
        "After that, the chr, start, and stop columns will be almost useable -- the only issue is that start and stop are still `string` types, since `SUBSTR` only creates a smaller string. It's fine for chr to be a string, since we'd want to search for a coordinate range within a single chromosome and can simply match on the chromosome string. However, if we want to compare start and stop coordinates, they have to be integer type, `int64`, so that the numeric comparisons can be performed correctly (e.g. the string `\"200\"` would come after the string `\"10000\"`). Hence, we have to also cast the start and stop columns as `int64` using `CAST` and filter out any `NULL` or blank string rows first.\n",
        "\n",
        "Once we've casted, we can then filter the genes first based on their chromosome, then on the range that either their start or stop coordinate fall between. In this strategy, we include genes that have any overlap with our region of interest, not exclusively genes with complete overlap. \n",
        "\n",
        "Here, we have a script which does all of the above and searches for genes within the region of chromosome 1, base pairs 0 to 10,000,000 (i.e. 1:0-10000000):"
      ]
    },
    {
      "cell_type": "code",
      "metadata": {
        "id": "iG2T-zNyKqDa"
      },
      "source": [
        "%%bigquery --project YOUR_PROJECT_ID\n",
        "\n",
        "# searching for all genes within predefined range, such as 1:0-3000000\n",
        "WITH loc_split AS(\n",
        "    SELECT Gene_Symbol, \n",
        "      Genome_Location, \n",
        "      SUBSTR(Genome_Location, 1, STRPOS(Genome_Location, \":\")-1) as chr,  # subtring from the first char to the char before the \":\"\n",
        "      # substring from char after \":\" to the char right before \"-\" as the first, or 'start', coordinate\n",
        "      SUBSTR(Genome_Location, STRPOS(Genome_Location, \":\")+1, \n",
        "        STRPOS(Genome_Location, \"-\")-STRPOS(Genome_Location, \":\")-1) as start,\n",
        "      # substring from char after \"-\" to the very end as the second, or 'stop', coordinate\n",
        "      SUBSTR(Genome_Location, STRPOS(Genome_Location, \"-\")+1, \n",
        "        LENGTH(Genome_Location)-STRPOS(Genome_Location, \"-\")) as stop\n",
        "    FROM `isb-cgc.COSMIC_v91_grch38.Cancer_Gene_Census`\n",
        "  ),\n",
        "\n",
        "  loc_split_final AS(\n",
        "      SELECT Gene_Symbol, Genome_Location as Genome_Loc_str, chr, \n",
        "        SAFE_CAST(start as int64) as start, SAFE_CAST(stop as int64) as stop  # cast values as appropriate data types\n",
        "      FROM loc_split \n",
        "      WHERE SAFE_CAST(start as int64) IS NOT NULL and SAFE_CAST(stop as int64) IS NOT NULL  # select rows where cast works properly\n",
        "  )\n",
        "\n",
        "SELECT Gene_Symbol, Genome_Loc_str, chr, start, stop\n",
        "FROM loc_split_final \n",
        "WHERE (chr LIKE \"1\")  # chr column matches chromosome 1\n",
        "    AND ((0 <= start AND start <= 10000000) OR (0 <= stop AND stop <= 10000000)); # start or stop values fall within region of interest\n",
        "\n"
      ],
      "execution_count": null,
      "outputs": []
    },
    {
      "cell_type": "markdown",
      "metadata": {
        "id": "oAb5FyuJkQnw"
      },
      "source": [
        "### Allowing user input to search by custom location "
      ]
    },
    {
      "cell_type": "markdown",
      "metadata": {
        "id": "mOLUMFyISW1d"
      },
      "source": [
        "We can see that we've successfully filtered for the genes within this region, returning two census genes, TNFRSF14 and SKI. But what if we didn't want to have to keep manually editing the script to select for different regions? What if we could enter in our region of interest as user input instead?\n",
        "\n",
        "We can incorporate user input into our filtering process by working in Python. After using `input()` to request a region of interest, we can separate this \"region of interest\" string into its own chr, start, and stop components using `String.split()`. \n",
        "\n",
        "Once we have this information, we can use `String.format()` to insert these values into a SQL query string of the exact same form as the one above, just with placeholders for the chr and the start/stop range. This yields the following script: "
      ]
    },
    {
      "cell_type": "code",
      "metadata": {
        "id": "Yz-CAjmMuH7v"
      },
      "source": [
        "# Genomic coordiantes must be in format chr:base_pair\n",
        "# Eg. 1:1000-2000\n",
        "\n",
        "# Ask for user input\n",
        "roi = input(\"Region of interest (must be in the format chr:start_basepair-stop_basepair): \\n\")\n",
        "region = roi.split(sep=\":\") # split input into chromosome and start-stop sections\n",
        "\n",
        "try:\n",
        "  chr_interest = str(region[0]) # extract chromosome from the split\n",
        "  # take the start-stop portion of split and split further by the \"-\" character to separate start and stop values\n",
        "  start_interest = int(region[1].split(sep=\"-\")[0])\n",
        "  stop_interest = int(region[1].split(sep=\"-\")[1])  \n",
        "\n",
        "  QUERY = '''\n",
        "    with loc_split as(\n",
        "      SELECT Gene_Symbol, \n",
        "        Genome_Location, \n",
        "        SUBSTR(Genome_Location, 1, STRPOS(Genome_Location, \":\")-1) as chr,\n",
        "        SUBSTR(Genome_Location, STRPOS(Genome_Location, \":\")+1, STRPOS(Genome_Location, \"-\")-STRPOS(Genome_Location, \":\")-1) as start,\n",
        "        SUBSTR(Genome_Location, STRPOS(Genome_Location, \"-\")+1, LENGTH(Genome_Location)-STRPOS(Genome_Location, \"-\")) as stop\n",
        "      FROM `isb-cgc.COSMIC_v91_grch38.Cancer_Gene_Census`\n",
        "    ),\n",
        "\n",
        "    loc_final as(\n",
        "      SELECT Gene_Symbol, Genome_Location as Genome_Loc_str, chr, \n",
        "        SAFE_CAST(start as int64) as start, SAFE_CAST(stop as int64) as stop \n",
        "      FROM loc_split \n",
        "      WHERE SAFE_CAST(start as int64) IS NOT NULL and SAFE_CAST(stop as int64) IS NOT NULL\n",
        "    )\n",
        "\n",
        "    SELECT Gene_Symbol, Genome_Loc_str, chr, start, stop\n",
        "    FROM loc_final \n",
        "    WHERE (chr LIKE \"{}\") AND (({} <= start AND start <= {}) OR ({} <= stop AND stop <= {}))\n",
        "    ORDER BY start ASC;\n",
        "\n",
        "  '''.format(chr_interest, start_interest, stop_interest, start_interest, stop_interest)\n",
        "\n",
        "  genes_in_range = client.query(QUERY).result().to_dataframe()\n",
        "\n",
        "  display(genes_in_range)\n",
        "  #print(tabulate(genes_in_range, headers='keys', tablefmt='simple'))\n",
        "\n",
        "except:\n",
        "  print(\"Please enter a location in the appropriate format.\")\n"
      ],
      "execution_count": null,
      "outputs": []
    },
    {
      "cell_type": "markdown",
      "metadata": {
        "id": "atbRtJnukmYy"
      },
      "source": [
        "### Making the gene-filtering process interactive"
      ]
    },
    {
      "cell_type": "markdown",
      "metadata": {
        "id": "zrJRFl3nLnBd"
      },
      "source": [
        "Now we've successfully added user input! As a last extension, what if we wanted to make this user input continuous and fast? It would be nice, for example, to simply be able to select a chromosome from a drop-down list and have the script display all the genes from that chromosome. \n",
        "\n",
        "To add this level of interactivity, we can use an IPython feature called **widgets**. Widgets can be drop-downs, radio buttons, text boxes, and a whole other array of interactive features that can be linked to functions. Changing the value of a widget can change the output of a function, allowing users to create quick, interactive outputs. The widgets documentation can be found [here](https://ipywidgets.readthedocs.io/en/latest/index.html). \n",
        "\n",
        "Hence, we can create a drop-down widget for the value of the chromosome we're interested in, and link this widget to a function which performs the genomic coordinate filtering query using the chromsome value selected. \n",
        "\n",
        "In fact, we can make the genomic coordinate filter as interactive as we want! For example, if we want to take advantage of other information in the `Cancer_Gene_Census` table, we can create another widget linked to the filtering function which will apply a second criteria to the `WHERE` statement to select for only those genes that are *hallmark* (`Hallmark` value is 'Yes').   \n",
        "\n",
        "It might also be helpful to be able to view as few or as many rows as we want. We can create a third widget, this one a text box, which will allow us to set a row view number on the query result. This widget, also linked to the filtering function, would act on the Python code following the SQL query.\n",
        "\n",
        "Hence, the resulting script incorporating these widgets is:\n"
      ]
    },
    {
      "cell_type": "code",
      "metadata": {
        "id": "ZCGGfY0BBLQT"
      },
      "source": [
        "import ipywidgets as widgets  # import the widgets library\n",
        "from ipywidgets import interact, interactive, interact_manual, fixed  # import certain widgets functions to use directly\n",
        "\n",
        "def get_genes(chr_of_interest, hallmark, view_num):\n",
        "  \"\"\"\n",
        "  This function is going to take a user-input chromosome via a dropdown widget and run \n",
        "  a modified version of the genomic coordinate-splitting SQL query which simply selects \n",
        "  all genes whose 'chr' values match that given chromosome (and thus, we omit the whole \n",
        "  start and stop comparison).\n",
        "  \"\"\"\n",
        "\n",
        "  QUERY = '''\n",
        "    with loc_split as(\n",
        "          SELECT \n",
        "            Gene_Symbol,  \n",
        "            Genome_Location,\n",
        "            Chr_Band,\n",
        "            Hallmark,\n",
        "            SUBSTR(Genome_Location, 1, STRPOS(Genome_Location, \":\")-1) as chr,\n",
        "            SUBSTR(Genome_Location, STRPOS(Genome_Location, \":\")+1, STRPOS(Genome_Location, \"-\")-STRPOS(Genome_Location, \":\")-1) as start,\n",
        "            SUBSTR(Genome_Location, STRPOS(Genome_Location, \"-\")+1, LENGTH(Genome_Location)-STRPOS(Genome_Location, \"-\")) as stop\n",
        "          FROM `isb-cgc.COSMIC_v91_grch38.Cancer_Gene_Census`\n",
        "        ),\n",
        "\n",
        "        loc_final as(\n",
        "          SELECT \n",
        "            Gene_Symbol,  \n",
        "            Genome_Location as Genome_Loc_str, \n",
        "            Chr_Band,\n",
        "            Hallmark,\n",
        "            chr,\n",
        "            SAFE_CAST(start as int64) as start, \n",
        "            SAFE_CAST(stop as int64) as stop \n",
        "          FROM loc_split \n",
        "          WHERE SAFE_CAST(start as int64) IS NOT NULL and SAFE_CAST(stop as int64) IS NOT NULL\n",
        "        )\n",
        "\n",
        "        SELECT Gene_Symbol, chr, start, stop, Genome_Loc_str, Chr_Band, Hallmark\n",
        "        FROM loc_final \n",
        "        WHERE (chr LIKE \"{}\") {}\n",
        "        ORDER BY start ASC;\n",
        "\n",
        "    '''\n",
        "  if hallmark == True:  # create the option to view just the hallmark genes\n",
        "    QUERY = QUERY.format(chr_of_interest, 'AND Hallmark LIKE \"Yes\"')\n",
        "  else:\n",
        "    QUERY = QUERY.format(chr_of_interest, '')\n",
        "\n",
        "\n",
        "  genes_in_chr = client.query(QUERY).result().to_dataframe()  \n",
        "\n",
        "  try:  # we display using try-except in case view_num happens to be NULL\n",
        "    display(genes_in_chr.head(int(view_num))) \n",
        "  except:\n",
        "    display(\"Please enter a number of rows to view\") # in case of an error, will tell user to define view_num\n",
        "\n",
        "style = {'description_width': 'initial'}  # so that the descriptions for each widget are fully displayed\n",
        "chr_chooser = widgets.Dropdown( # create the chromosome drop-down widget\n",
        "    options = ['1','2','3','4','5','6','7','8','9','10',\n",
        "              '11','12','13','14','15','16','17','18','19','20',\n",
        "              '21','22','X'], # our options are the 23 chromosomes in the Cancer Gene Census\n",
        "    \n",
        "    description = 'Chromosome:',\n",
        "    style = style \n",
        ")\n",
        "\n",
        "show_rows = widgets.Text( # create the row display text box widget\n",
        "    value='10', # program will auto-display 10 rows at the start, as default\n",
        "    placeholder='Enter number of rows', # text that shows when text box is empty\n",
        "    description='Show how many rows:', \n",
        "    style = style\n",
        ")\n",
        "\n",
        "hallmark_toggle = widgets.Dropdown( # create the hallmark option widget as a 2-option drop-down\n",
        "    options=[('Yes', True), ('No, show all', False)], # associate the Yes and No options with True and False values\n",
        "    # when 'Yes' selected, hallmark_toggle widget will input a True value into the filtering function\n",
        "    description='Select hallmark genes?',\n",
        "    style=style,\n",
        "    value=False # program will auto-display all rows at the start, as default\n",
        ")\n",
        "\n",
        "# interactive(f, args) is the command used to link the widgets to the function! \n",
        "# it will auto-initiate the widgets and run the function with the widgets' default values\n",
        "interactive(get_genes, chr_of_interest = chr_chooser, hallmark = hallmark_toggle, view_num = show_rows)\n"
      ],
      "execution_count": null,
      "outputs": []
    },
    {
      "cell_type": "markdown",
      "metadata": {
        "id": "tCCpCqVtQUXJ"
      },
      "source": [
        "We have now taken a static filtering query and made it much more interactive, creating a tool that can be used to browse the census genes much more freely. This technique can be very useful for future explorations of the COSMIC data!"
      ]
    },
    {
      "cell_type": "markdown",
      "metadata": {
        "id": "sdyQDSMRvvm8"
      },
      "source": [
        "## Looking up HGNC ID's for census genes"
      ]
    },
    {
      "cell_type": "markdown",
      "metadata": {
        "id": "Z5od0zjKYFQb"
      },
      "source": [
        "A last application of the Cancer Gene Census actually integrates another table, `HGNC`. Suppose we wanted to do further research into a cohort of genes we had assembled through a query, such as the one above querying for all the genes on a specific chromosome. It might be useful to know the genes' IDs in multiple databases, and COSMIC contains the table `HGNC` which stores the HUGO Gene Nomenclature Committee (HGNC) ID for every gene in COSMIC. \n",
        "\n",
        "How can we quickly match the HGNC IDs to the census genes in our query result? We can perform the SQL `JOIN` command, which joins the rows of two tables together based on a matching column between the two tables. If we can identify a column in the `Cancer_Gene_Census` table which matches a column in `HGNC`, then we can perform a join and bring in the `HGNC.HGNC_ID` column's info to the census genes. Luckily, `Cancer_Gene_Census` has a column called `Entrez_GeneId` which corresponds to the `Entrez_id` column in `HGNC`, so we can perform the join and match the appropriate HGNC rows to the census genes. The following is a script which demonstrates the `JOIN` between `HGNC` and the whole `Cancer_Gene_Census` table. In addition to bringing in the HGNC ID's, we also bring in a column from `HGNC` which contains whether a gene is a census gene or not, so that we can verify the `JOIN` is matching appropriately:"
      ]
    },
    {
      "cell_type": "code",
      "metadata": {
        "id": "iXU6KWZHvuvh"
      },
      "source": [
        "%%bigquery --project YOUR_PROJECT_ID\n",
        "\n",
        "SELECT t1.Gene_Symbol as Census_Gene, t1.Entrez_GeneId as Entrez_ID, t2.HGNC_ID, t2.Cancer_census \n",
        "FROM `isb-cgc.COSMIC_v91_grch38.Cancer_Gene_Census` as t1\n",
        "JOIN `isb-cgc.COSMIC_v91_grch38.HGNC` as t2\n",
        "ON t1.Entrez_GeneId = t2.Entrez_id;"
      ],
      "execution_count": null,
      "outputs": []
    },
    {
      "cell_type": "markdown",
      "metadata": {
        "id": "5x5lRi08du1d"
      },
      "source": [
        "As you can see, we now have an `HGNC_ID` column for each of the census genes in the table. In addition, we see that every visible row in the `Cancer_census` column displays \"y\", indicating that our `JOIN` performed correctly!\n"
      ]
    },
    {
      "cell_type": "markdown",
      "metadata": {
        "id": "ehomSM5fP-Vl"
      },
      "source": [
        "## Where to Go Next\n",
        "\n",
        "Explore, Discover, and Analyze the Data provided by ISB-CGC along with side by side with your own :)\n",
        "\n",
        "More COSMIC Notebooks coming soon to ISB-CGC! [Check the Github repo for the latest notebooks.](https://isb-cancer-genomics-cloud.readthedocs.io/en/latest/sections/HowTos.html)\n",
        "\n",
        "ISB-CGC Links:\n",
        "\n",
        "* [ISB-CGC Landing Page](https://isb-cgc.appspot.com/)\n",
        "* [ISB-CGC Documentation](https://isb-cancer-genomics-cloud.readthedocs.io/en/latest/)\n",
        "* [How to Get Started on ISB-CGC](https://isb-cancer-genomics-cloud.readthedocs.io/en/latest/sections/HowToGetStartedonISB-CGC.html)\n",
        "* [How to access Google BigQuery](https://isb-cancer-genomics-cloud.readthedocs.io/en/latest/sections/progapi/bigqueryGUI/HowToAccessBigQueryFromTheGoogleCloudPlatform.html)\n",
        "* [Community Notebook Repository](https://isb-cancer-genomics-cloud.readthedocs.io/en/latest/sections/HowTos.html)\n",
        "* [Query of the Month](https://isb-cancer-genomics-cloud.readthedocs.io/en/latest/sections/QueryOfTheMonthClub.html)\n",
        "* [Quick Links](https://isb-cancer-genomics-cloud.readthedocs.io/en/latest/sections/QuicklinksOneTable.html)\n",
        "\n",
        "Google Tutorials:\n",
        "\n",
        "* [Google's What is BigQuery?](https://cloud.google.com/bigquery/what-is-bigquery)\n",
        "* [Google Cloud Client Library for Python](https://googleapis.github.io/google-cloud-python/latest/index.html)"
      ]
    }
  ]
}