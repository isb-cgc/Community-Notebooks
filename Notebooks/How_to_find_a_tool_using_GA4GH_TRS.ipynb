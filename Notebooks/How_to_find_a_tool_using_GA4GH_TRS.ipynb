{
 "cells": [
  {
   "cell_type": "markdown",
   "metadata": {
    "colab_type": "text",
    "id": "Vr3mNFirZyLJ"
   },
   "source": [
    "# ISB-CGC Community Notebooks\n",
    "Check out more notebooks at our [Community Notebooks Repository](https://github.com/isb-cgc/Community-Notebooks)!\n",
    "\n",
    "```\n",
    "Title:   How to find a tool using GA4GH Tool Repository Service (TRS)\n",
    "Author:  Kawther Abdilleh\n",
    "Created: 2019-06-14\n",
    "Purpose: Demonstrate how to use the GA4GH TRS API to find dockerized tools\n",
    "```\n",
    "***\n",
    "\n",
    "\n",
    "\n"
   ]
  },
  {
   "cell_type": "markdown",
   "metadata": {},
   "source": [
    "\n",
    "# **How to find a tool using GA4GH Tool Repository Service (TRS)** \n",
    "\n",
    "### The Global Alliance for Genomics and Health (GA4GH) is an international coalition, formed to enable the sharing of genomic and clinical data. One of the things that GA4GH makes available is the ability to find and use tools using their GA4GH Tool Registry Service (TRS) API. The GA4GH TRS API is a standard for listing and describing available tools (both stand-alone, Docker-based tools as well as workflows in CWL, WDL or Nextflow) in a given registry (like Dockstore, BioContainers, and Agora). \n",
    "### In this notebook, we'll explore how to use the GA4GH TRS API to find tools of interest from the Dockstore.\n",
    "\n",
    "### https://dockstore.org/api/static/swagger-ui/index.html#/GA4GHV1\n",
    "\n",
    "\n",
    "\n"
   ]
  },
  {
   "cell_type": "markdown",
   "metadata": {
    "colab_type": "text",
    "id": "Js-Lqh_sTbTh"
   },
   "source": []
  },
  {
   "cell_type": "markdown",
   "metadata": {
    "colab_type": "text",
    "id": "Vut2tlUfbKMy"
   },
   "source": [
    "### **First, let's authenticate ourselves**"
   ]
  },
  {
   "cell_type": "code",
   "execution_count": null,
   "metadata": {
    "colab": {},
    "colab_type": "code",
    "id": "13PT8TIBTYVA"
   },
   "outputs": [],
   "source": [
    "from google.colab import auth\n",
    "auth.authenticate_user()\n",
    "print('Authorized')"
   ]
  },
  {
   "cell_type": "markdown",
   "metadata": {
    "colab_type": "text",
    "id": "zp0FsD0MboCA"
   },
   "source": [
    "### Using the GET command on the endpoint 'api/ga4gh/v1/tools' returns all tools available or a filtered subset using metadata query parameters. \n",
    "\n",
    "**As an example, let's run this command to return a list of tools that we can use to get stats on bam files, (the bamstats tool) **"
   ]
  },
  {
   "cell_type": "code",
   "execution_count": 1,
   "metadata": {
    "colab": {
     "base_uri": "https://localhost:8080/",
     "height": 68
    },
    "colab_type": "code",
    "id": "NSzlvHcOTwbt",
    "outputId": "8839bd98-1785-4bc1-db91-0958ab1b8b90"
   },
   "outputs": [
    {
     "name": "stdout",
     "output_type": "stream",
     "text": [
      "  % Total    % Received % Xferd  Average Speed   Time    Time     Time  Current\n",
      "                                 Dload  Upload   Total   Spent    Left  Speed\n",
      "100 16299    0 16299    0     0   4310      0 --:--:--  0:00:03 --:--:--  4310\n"
     ]
    }
   ],
   "source": [
    "!curl -X GET \"https://dockstore.org/api/api/ga4gh/v1/tools?name=bamstats\" > test_bamstats_from_ga4gh_api.json"
   ]
  },
  {
   "cell_type": "code",
   "execution_count": 2,
   "metadata": {
    "colab": {
     "base_uri": "https://localhost:8080/",
     "height": 54
    },
    "colab_type": "code",
    "id": "xwphYDkRiWI8",
    "outputId": "61022b00-45c3-4347-9ea6-0edbacb56201"
   },
   "outputs": [
    {
     "name": "stdout",
     "output_type": "stream",
     "text": [
      "[{\"author\":\"Andrew Duncan\",\"contains\":[],\"description\":\"![build_status](https://quay.io/repository/collaboratory/dockstore-tool-bamstats/status)\\nA Docker container for the BAMStats command. See the [BAMStats](http://bamstats.sourceforge.net/) website for more information.\\n\",\"id\":\"quay.io/briandoconnor/dockstore-tool-bamstats\",\"meta-version\":\"2018-03-16 18:17:22.117\",\"organization\":\"briandoconnor\",\"signed\":false,\"toolclass\":{\"description\":\"CommandLineTool\",\"id\":\"0\",\"name\":\"CommandLineTool\"},\"toolname\":\"dockstore-tool-bamstats\",\"url\":\"https://dockstore.org/api/api/ga4gh/v1/tools/quay.io%2Fbriandoconnor%2Fdockstore-tool-bamstats\",\"verified\":false,\"verified-source\":\"[]\",\"versions\":[{\"descriptor-type\":[],\"dockerfile\":true,\"id\":\"quay.io/briandoconnor/dockstore-tool-bamstats:1.25\",\"image\":\"f833711731fd1cf41b3c9ba79ae35a0517e7b8a4f2f82f6752ac58b812b8d246\",\"meta-version\":\"2015-10-26 23:39:50.0\",\"name\":\"1.25\",\"url\":\"https://dockstore.org/api/api/ga4gh/v1/tools/quay.io%2Fbriandoconnor%2Fdockstore-tool-bamstats/versions/1.25\",\"verified\":false,\"verified-source\":\"\"},{\"descriptor-type\":[],\"dockerfile\":true,\"id\":\"quay.io/briandoconnor/dockstore-tool-bamstats:1.25-1\",\"image\":\"f833711731fd1cf41b3c9ba79ae35a0517e7b8a4f2f82f6752ac58b812b8d246\",\"meta-version\":\"2015-10-26 23:58:45.0\",\"name\":\"1.25-1\",\"url\":\"https://dockstore.org/api/api/ga4gh/v1/tools/quay.io%2Fbriandoconnor%2Fdockstore-tool-bamstats/versions/1.25-1\",\"verified\":false,\"verified-source\":\"\"},{\"descriptor-type\":[],\"dockerfile\":true,\"id\":\"quay.io/briandoconnor/dockstore-tool-bamstats:1.25-2\",\"image\":\"4b4463a53c5ec29b0cf32946d5c90a7f298bde4c130838131dfe8e66bd136799\",\"meta-version\":\"2015-11-03 17:48:53.0\",\"name\":\"1.25-2\",\"url\":\"https://dockstore.org/api/api/ga4gh/v1/tools/quay.io%2Fbriandoconnor%2Fdockstore-tool-bamstats/versions/1.25-2\",\"verified\":false,\"verified-source\":\"\"},{\"descriptor-type\":[],\"dockerfile\":true,\"id\":\"quay.io/briandoconnor/dockstore-tool-bamstats:1.25-3\",\"image\":\"e915f98bd86bd84e413aaee2af8ed00e70d839f601f42ba80643d91f16914e9b\",\"meta-version\":\"2016-06-16 03:01:11.0\",\"name\":\"1.25-3\",\"url\":\"https://dockstore.org/api/api/ga4gh/v1/tools/quay.io%2Fbriandoconnor%2Fdockstore-tool-bamstats/versions/1.25-3\",\"verified\":false,\"verified-source\":\"\"},{\"descriptor-type\":[],\"dockerfile\":true,\"id\":\"quay.io/briandoconnor/dockstore-tool-bamstats:1.25-4\",\"image\":\"882d9572cb96c69927d9fc295afd71b6ad6af33ce42161c14345f6a302fd8f7f\",\"meta-version\":\"2016-06-16 17:04:35.0\",\"name\":\"1.25-4\",\"url\":\"https://dockstore.org/api/api/ga4gh/v1/tools/quay.io%2Fbriandoconnor%2Fdockstore-tool-bamstats/versions/1.25-4\",\"verified\":false,\"verified-source\":\"\"},{\"descriptor-type\":[],\"dockerfile\":true,\"id\":\"quay.io/briandoconnor/dockstore-tool-bamstats:1.25-5\",\"image\":\"7c92a8e8e407933940e60f4fdc78733124b856e1445ab822db559950a8b3c2b1\",\"meta-version\":\"2016-06-21 19:56:59.0\",\"name\":\"1.25-5\",\"url\":\"https://dockstore.org/api/api/ga4gh/v1/tools/quay.io%2Fbriandoconnor%2Fdockstore-tool-bamstats/versions/1.25-5\",\"verified\":false,\"verified-source\":\"\"},{\"descriptor-type\":[],\"dockerfile\":true,\"id\":\"quay.io/briandoconnor/dockstore-tool-bamstats:1.25-7\",\"image\":\"cafa05020883d5ec6f16be1a58b5d4a4f49ab5ce8dbca433c5d05a3c24893677\",\"meta-version\":\"2016-08-22 14:02:21.0\",\"name\":\"1.25-7\",\"url\":\"https://dockstore.org/api/api/ga4gh/v1/tools/quay.io%2Fbriandoconnor%2Fdockstore-tool-bamstats/versions/1.25-7\",\"verified\":false,\"verified-source\":\"\"},{\"descriptor-type\":[],\"dockerfile\":true,\"id\":\"quay.io/briandoconnor/dockstore-tool-bamstats:develop\",\"image\":\"38b710d8db910522402d9b5c5525c983b48f48f59a66a9b1e183fb19fe077b8a\",\"meta-version\":\"2018-08-31 19:21:18.0\",\"name\":\"develop\",\"url\":\"https://dockstore.org/api/api/ga4gh/v1/tools/quay.io%2Fbriandoconnor%2Fdockstore-tool-bamstats/versions/develop\",\"verified\":false,\"verified-source\":\"\"},{\"descriptor-type\":[],\"dockerfile\":true,\"id\":\"quay.io/briandoconnor/dockstore-tool-bamstats:latest\",\"image\":\"2c63c09ac46d61c367c2097e908bcb4fe5cfdd57f5d9bfce8215133b23f1a2d8\",\"meta-version\":\"2016-11-11 18:28:10.0\",\"name\":\"latest\",\"url\":\"https://dockstore.org/api/api/ga4gh/v1/tools/quay.io%2Fbriandoconnor%2Fdockstore-tool-bamstats/versions/latest\",\"verified\":false,\"verified-source\":\"\"}]},{\"author\":\"Brian O'Connor\",\"contains\":[],\"description\":\"![build_status](https://quay.io/repository/briandoconnor/dockstore-tool-bamstats/status)\\nA Docker container for the BAMStats command. See the [BAMStats](http://bamstats.sourceforge.net/) website for more information.\",\"id\":\"quay.io/briandoconnor/dockstore-tool-bamstats-class\",\"meta-version\":\"2018-03-16 18:17:22.117\",\"organization\":\"briandoconnor\",\"signed\":false,\"toolclass\":{\"description\":\"CommandLineTool\",\"id\":\"0\",\"name\":\"CommandLineTool\"},\"toolname\":\"dockstore-tool-bamstats-class\",\"url\":\"https://dockstore.org/api/api/ga4gh/v1/tools/quay.io%2Fbriandoconnor%2Fdockstore-tool-bamstats-class\",\"verified\":false,\"verified-source\":\"[]\",\"versions\":[{\"descriptor-type\":[],\"dockerfile\":true,\"id\":\"quay.io/briandoconnor/dockstore-tool-bamstats-class:1.0\",\"image\":\"dd396c8cb73599dfc8160aa12830e929fd898f7ecaed71420e15573dd705b1f6\",\"meta-version\":\"2018-03-16 11:51:22.0\",\"name\":\"1.0\",\"url\":\"https://dockstore.org/api/api/ga4gh/v1/tools/quay.io%2Fbriandoconnor%2Fdockstore-tool-bamstats-class/versions/1.0\",\"verified\":false,\"verified-source\":\"\"}]},{\"author\":\"Unknown author\",\"contains\":[],\"description\":\"\",\"id\":\"registry.hub.docker.com/cancercollaboratory/dockstore-tool-bamstats\",\"meta-version\":\"2017-03-24 19:39:31.691\",\"organization\":\"cancercollaboratory\",\"signed\":false,\"toolclass\":{\"description\":\"CommandLineTool\",\"id\":\"0\",\"name\":\"CommandLineTool\"},\"toolname\":\"dockstore-tool-bamstats\",\"url\":\"https://dockstore.org/api/api/ga4gh/v1/tools/registry.hub.docker.com%2Fcancercollaboratory%2Fdockstore-tool-bamstats\",\"verified\":false,\"verified-source\":\"[]\",\"versions\":[{\"descriptor-type\":[],\"dockerfile\":true,\"id\":\"registry.hub.docker.com/cancercollaboratory/dockstore-tool-bamstats:develop\",\"image\":\"\",\"meta-version\":\"Thu Jan 01 00:00:00 UTC 1970\",\"name\":\"develop\",\"url\":\"https://dockstore.org/api/api/ga4gh/v1/tools/registry.hub.docker.com%2Fcancercollaboratory%2Fdockstore-tool-bamstats/versions/develop\",\"verified\":false,\"verified-source\":\"\"}]},{\"author\":\"Unknown author\",\"contains\":[],\"description\":\"![build_status](https://quay.io/repository/ctb/dockstore-tool-bamstats/status)\\nA Docker container for the BAMStats command. See the [BAMStats](http://bamstats.sourceforge.net/) website for more information.\",\"id\":\"quay.io/ctb/dockstore-tool-bamstats\",\"meta-version\":\"2017-07-09 13:34:56.24\",\"organization\":\"ctb\",\"signed\":false,\"toolclass\":{\"description\":\"CommandLineTool\",\"id\":\"0\",\"name\":\"CommandLineTool\"},\"toolname\":\"dockstore-tool-bamstats\",\"url\":\"https://dockstore.org/api/api/ga4gh/v1/tools/quay.io%2Fctb%2Fdockstore-tool-bamstats\",\"verified\":false,\"verified-source\":\"[]\",\"versions\":[{\"descriptor-type\":[],\"dockerfile\":true,\"id\":\"quay.io/ctb/dockstore-tool-bamstats:develop\",\"image\":\"b567cdecfc03b9d0f834f89f818abbcf0e9f41ec15c3e495611734b051b8ca46\",\"meta-version\":\"2017-07-08 13:32:15.0\",\"name\":\"develop\",\"url\":\"https://dockstore.org/api/api/ga4gh/v1/tools/quay.io%2Fctb%2Fdockstore-tool-bamstats/versions/develop\",\"verified\":false,\"verified-source\":\"\"},{\"descriptor-type\":[],\"dockerfile\":true,\"id\":\"quay.io/ctb/dockstore-tool-bamstats:latest\",\"image\":\"b567cdecfc03b9d0f834f89f818abbcf0e9f41ec15c3e495611734b051b8ca46\",\"meta-version\":\"2017-07-08 13:32:41.0\",\"name\":\"latest\",\"url\":\"https://dockstore.org/api/api/ga4gh/v1/tools/quay.io%2Fctb%2Fdockstore-tool-bamstats/versions/latest\",\"verified\":false,\"verified-source\":\"\"}]},{\"author\":\"Brian O'Connor\",\"contains\":[],\"description\":\"![build_status](https://quay.io/repository/collaboratory/dockstore-tool-bamstats/status)\\nA Docker container for the BAMStats command. See the [BAMStats](http://bamstats.sourceforge.net/) website for more information.\\n\",\"id\":\"quay.io/collaboratory/dockstore-tool-bamstats\",\"meta-version\":\"2018-09-13 16:01:06.861\",\"organization\":\"collaboratory\",\"signed\":false,\"toolclass\":{\"description\":\"CommandLineTool\",\"id\":\"0\",\"name\":\"CommandLineTool\"},\"toolname\":\"dockstore-tool-bamstats\",\"url\":\"https://dockstore.org/api/api/ga4gh/v1/tools/quay.io%2Fcollaboratory%2Fdockstore-tool-bamstats\",\"verified\":false,\"verified-source\":\"[]\",\"versions\":[{\"descriptor-type\":[],\"dockerfile\":true,\"id\":\"quay.io/collaboratory/dockstore-tool-bamstats:1.25\",\"image\":\"074f5841041dc6cf72c79a0c451329dbfdbe52fe8fdbe5da27fee9ed000118f9\",\"meta-version\":\"2017-06-28 19:19:25.0\",\"name\":\"1.25\",\"url\":\"https://dockstore.org/api/api/ga4gh/v1/tools/quay.io%2Fcollaboratory%2Fdockstore-tool-bamstats/versions/1.25\",\"verified\":false,\"verified-source\":\"\"},{\"descriptor-type\":[],\"dockerfile\":true,\"id\":\"quay.io/collaboratory/dockstore-tool-bamstats:1.25-3\",\"image\":\"05deb492f7902cd9b3c4967ec7d13a217bc94704b0e1c539e510b063e46b73e7\",\"meta-version\":\"2017-06-28 19:33:44.0\",\"name\":\"1.25-3\",\"url\":\"https://dockstore.org/api/api/ga4gh/v1/tools/quay.io%2Fcollaboratory%2Fdockstore-tool-bamstats/versions/1.25-3\",\"verified\":false,\"verified-source\":\"\"},{\"descriptor-type\":[],\"dockerfile\":true,\"id\":\"quay.io/collaboratory/dockstore-tool-bamstats:1.25-5\",\"image\":\"8bec4a43e8511f180bd56e7ec9e409166300bbd3516ee5762911cc547cc2006e\",\"meta-version\":\"2017-06-28 19:29:16.0\",\"name\":\"1.25-5\",\"url\":\"https://dockstore.org/api/api/ga4gh/v1/tools/quay.io%2Fcollaboratory%2Fdockstore-tool-bamstats/versions/1.25-5\",\"verified\":false,\"verified-source\":\"\"},{\"descriptor-type\":[],\"dockerfile\":true,\"id\":\"quay.io/collaboratory/dockstore-tool-bamstats:1.25-6\",\"image\":\"ffafce0cef14290b1cffbe293482e482a912bcc35668e6e6f0824ac8c07f3a4c\",\"meta-version\":\"2017-06-28 19:25:56.0\",\"name\":\"1.25-6\",\"url\":\"https://dockstore.org/api/api/ga4gh/v1/tools/quay.io%2Fcollaboratory%2Fdockstore-tool-bamstats/versions/1.25-6\",\"verified\":false,\"verified-source\":\"\"},{\"descriptor-type\":[],\"dockerfile\":true,\"id\":\"quay.io/collaboratory/dockstore-tool-bamstats:1.25-6_1.0\",\"image\":\"002fb001123d23f3e128dfb87af044a22f762d349e62f327b1f103c5b0232e11\",\"meta-version\":\"2017-06-28 19:22:46.0\",\"name\":\"1.25-6_1.0\",\"url\":\"https://dockstore.org/api/api/ga4gh/v1/tools/quay.io%2Fcollaboratory%2Fdockstore-tool-bamstats/versions/1.25-6_1.0\",\"verified\":false,\"verified-source\":\"\"},{\"descriptor-type\":[],\"dockerfile\":true,\"id\":\"quay.io/collaboratory/dockstore-tool-bamstats:1.25-7\",\"image\":\"9ad0ddfbcc584e3e117a412105219e0710affb2027074a519ec8ed6a6c031fe4\",\"meta-version\":\"2018-08-31 19:37:43.0\",\"name\":\"1.25-7\",\"url\":\"https://dockstore.org/api/api/ga4gh/v1/tools/quay.io%2Fcollaboratory%2Fdockstore-tool-bamstats/versions/1.25-7\",\"verified\":false,\"verified-source\":\"\"},{\"descriptor-type\":[],\"dockerfile\":true,\"id\":\"quay.io/collaboratory/dockstore-tool-bamstats:develop\",\"image\":\"8ff9ae0d3e29a4501bc46600730f8e5300ce93e94768a091e36866dfbec29365\",\"meta-version\":\"2018-08-31 19:35:45.0\",\"name\":\"develop\",\"url\":\"https://dockstore.org/api/api/ga4gh/v1/tools/quay.io%2Fcollaboratory%2Fdockstore-tool-bamstats/versions/develop\",\"verified\":false,\"verified-source\":\"\"},{\"descriptor-type\":[],\"dockerfile\":true,\"id\":\"quay.io/collaboratory/dockstore-tool-bamstats:latest\",\"image\":\"9ad82a5ae0cf8b25f444fe6c3a2ad677153e968bbc73381b01936dd245c5d1a4\",\"meta-version\":\"2017-06-28 19:44:24.0\",\"name\":\"latest\",\"url\":\"https://dockstore.org/api/api/ga4gh/v1/tools/quay.io%2Fcollaboratory%2Fdockstore-tool-bamstats/versions/latest\",\"verified\":false,\"verified-source\":\"\"},{\"descriptor-type\":[],\"dockerfile\":true,\"id\":\"quay.io/collaboratory/dockstore-tool-bamstats:master\",\"image\":\"bd2ca7ee58ebdf2bd3bb5e2236dfd45719ec18d6456ea2c62f53b137253e2f2b\",\"meta-version\":\"2017-06-28 19:48:25.0\",\"name\":\"master\",\"url\":\"https://dockstore.org/api/api/ga4gh/v1/tools/quay.io%2Fcollaboratory%2Fdockstore-tool-bamstats/versions/master\",\"verified\":false,\"verified-source\":\"\"},{\"descriptor-type\":[],\"dockerfile\":true,\"id\":\"quay.io/collaboratory/dockstore-tool-bamstats:test\",\"image\":\"670cbae48afe7229b462ff57b5662b6ee62ced7d6ccd16be5908424323ae7b5d\",\"meta-version\":\"2018-04-06 14:57:24.0\",\"name\":\"test\",\"url\":\"https://dockstore.org/api/api/ga4gh/v1/tools/quay.io%2Fcollaboratory%2Fdockstore-tool-bamstats/versions/test\",\"verified\":false,\"verified-source\":\"\"}]},{\"author\":\"Unknown author\",\"contains\":[],\"description\":\"![build_status](https://quay.io/repository/collaboratory/dockstore-tool-bamstats/status)\\nA Docker container for the BAMStats command. See the [BAMStats](http://bamstats.sourceforge.net/) website for more information.\",\"id\":\"quay.io/k-cao/dockstore-tool-bamstats\",\"meta-version\":\"2017-04-24 20:35:04.473\",\"organization\":\"k-cao\",\"signed\":false,\"toolclass\":{\"description\":\"CommandLineTool\",\"id\":\"0\",\"name\":\"CommandLineTool\"},\"toolname\":\"dockstore-tool-bamstats\",\"url\":\"https://dockstore.org/api/api/ga4gh/v1/tools/quay.io%2Fk-cao%2Fdockstore-tool-bamstats\",\"verified\":false,\"verified-source\":\"[]\",\"versions\":[{\"descriptor-type\":[],\"dockerfile\":true,\"id\":\"quay.io/k-cao/dockstore-tool-bamstats:experiment\",\"image\":\"37d2725df997f7bd342e185e98379c5a5f72d74500ea19c517ebe0077d508c80\",\"meta-version\":\"2017-03-20 14:58:10.0\",\"name\":\"experiment\",\"url\":\"https://dockstore.org/api/api/ga4gh/v1/tools/quay.io%2Fk-cao%2Fdockstore-tool-bamstats/versions/experiment\",\"verified\":false,\"verified-source\":\"\"},{\"descriptor-type\":[],\"dockerfile\":true,\"id\":\"quay.io/k-cao/dockstore-tool-bamstats:master\",\"image\":\"3f6e428b31f96ba4761fa25a40ba59bb2903052ecc19a687aad9547daff7af39\",\"meta-version\":\"2017-03-20 15:52:55.0\",\"name\":\"master\",\"url\":\"https://dockstore.org/api/api/ga4gh/v1/tools/quay.io%2Fk-cao%2Fdockstore-tool-bamstats/versions/master\",\"verified\":false,\"verified-source\":\"\"}]},{\"author\":\"Brian O'Connor\",\"contains\":[],\"description\":\"![build_status](https://quay.io/repository/collaboratory/dockstore-tool-bamstats/status)\\nA Docker container for the BAMStats command. See the [BAMStats](http://bamstats.sourceforge.net/) website for more information.\",\"id\":\"registry.hub.docker.com/nathankw/dockstore-tool-bamstats\",\"meta-version\":\"2017-07-12 18:40:49.876\",\"organization\":\"nathankw\",\"signed\":false,\"toolclass\":{\"description\":\"CommandLineTool\",\"id\":\"0\",\"name\":\"CommandLineTool\"},\"toolname\":\"dockstore-tool-bamstats\",\"url\":\"https://dockstore.org/api/api/ga4gh/v1/tools/registry.hub.docker.com%2Fnathankw%2Fdockstore-tool-bamstats\",\"verified\":false,\"verified-source\":\"[]\",\"versions\":[{\"descriptor-type\":[],\"dockerfile\":true,\"id\":\"registry.hub.docker.com/nathankw/dockstore-tool-bamstats:develop\",\"image\":\"\",\"meta-version\":\"Thu Jan 01 00:00:00 UTC 1970\",\"name\":\"develop\",\"url\":\"https://dockstore.org/api/api/ga4gh/v1/tools/registry.hub.docker.com%2Fnathankw%2Fdockstore-tool-bamstats/versions/develop\",\"verified\":false,\"verified-source\":\"\"}]},{\"author\":\"Unknown author\",\"contains\":[],\"description\":\"\",\"id\":\"quay.io/pvanheus/dockstore-tool-bamstats\",\"meta-version\":\"2018-04-20 18:38:33.269\",\"organization\":\"pvanheus\",\"signed\":false,\"toolclass\":{\"description\":\"CommandLineTool\",\"id\":\"0\",\"name\":\"CommandLineTool\"},\"toolname\":\"dockstore-tool-bamstats\",\"url\":\"https://dockstore.org/api/api/ga4gh/v1/tools/quay.io%2Fpvanheus%2Fdockstore-tool-bamstats\",\"verified\":false,\"verified-source\":\"[]\",\"versions\":[{\"descriptor-type\":[],\"dockerfile\":true,\"id\":\"quay.io/pvanheus/dockstore-tool-bamstats:1.25-3\",\"image\":\"68224549eb0a3c28e50d53ef35dc97a2cb07573e6c81d6f594204c26985e2210\",\"meta-version\":\"2017-05-02 18:50:19.0\",\"name\":\"1.25-3\",\"url\":\"https://dockstore.org/api/api/ga4gh/v1/tools/quay.io%2Fpvanheus%2Fdockstore-tool-bamstats/versions/1.25-3\",\"verified\":false,\"verified-source\":\"\"}]},{\"author\":\"Unknown author\",\"contains\":[],\"description\":\"\",\"id\":\"quay.io/superjw/dockstore-tool-bamstats\",\"meta-version\":\"2018-11-26 15:21:36.474\",\"organization\":\"superjw\",\"signed\":false,\"toolclass\":{\"description\":\"CommandLineTool\",\"id\":\"0\",\"name\":\"CommandLineTool\"},\"toolname\":\"dockstore-tool-bamstats\",\"url\":\"https://dockstore.org/api/api/ga4gh/v1/tools/quay.io%2Fsuperjw%2Fdockstore-tool-bamstats\",\"verified\":false,\"verified-source\":\"[]\",\"versions\":[{\"descriptor-type\":[],\"dockerfile\":true,\"id\":\"quay.io/superjw/dockstore-tool-bamstats:1.25-6_1.1\",\"image\":\"cd303d1fd80a5e921445238852d01a8b2d5142beb688b6155fdde966fa712424\",\"meta-version\":\"2018-11-26 11:49:36.0\",\"name\":\"1.25-6_1.1\",\"url\":\"https://dockstore.org/api/api/ga4gh/v1/tools/quay.io%2Fsuperjw%2Fdockstore-tool-bamstats/versions/1.25-6_1.1\",\"verified\":false,\"verified-source\":\"\"}]}]"
     ]
    }
   ],
   "source": [
    "!head test_bamstats_from_ga4gh_api.json"
   ]
  },
  {
   "cell_type": "markdown",
   "metadata": {
    "colab_type": "text",
    "id": "4ZzX_t-nhw7A"
   },
   "source": [
    "### The output of that previous command is json format. Let's convert that json file into a readable table format using the python pandas. "
   ]
  },
  {
   "cell_type": "code",
   "execution_count": null,
   "metadata": {
    "colab": {},
    "colab_type": "code",
    "id": "1cR5glW_8akW"
   },
   "outputs": [],
   "source": [
    "import pandas as pd"
   ]
  },
  {
   "cell_type": "code",
   "execution_count": null,
   "metadata": {
    "colab": {},
    "colab_type": "code",
    "id": "uSCttegaU1UZ"
   },
   "outputs": [],
   "source": [
    "df = pd.read_json(r'/content/test_bamstats_from_ga4gh_api.json')"
   ]
  },
  {
   "cell_type": "code",
   "execution_count": 5,
   "metadata": {
    "colab": {
     "base_uri": "https://localhost:8080/",
     "height": 824
    },
    "colab_type": "code",
    "id": "NcMfSZ8EU4B6",
    "outputId": "8a25ca3c-5034-4b78-bef7-8c0c79c2fcf0"
   },
   "outputs": [
    {
     "data": {
      "text/html": [
       "<div>\n",
       "<style scoped>\n",
       "    .dataframe tbody tr th:only-of-type {\n",
       "        vertical-align: middle;\n",
       "    }\n",
       "\n",
       "    .dataframe tbody tr th {\n",
       "        vertical-align: top;\n",
       "    }\n",
       "\n",
       "    .dataframe thead th {\n",
       "        text-align: right;\n",
       "    }\n",
       "</style>\n",
       "<table border=\"1\" class=\"dataframe\">\n",
       "  <thead>\n",
       "    <tr style=\"text-align: right;\">\n",
       "      <th></th>\n",
       "      <th>author</th>\n",
       "      <th>contains</th>\n",
       "      <th>description</th>\n",
       "      <th>id</th>\n",
       "      <th>meta-version</th>\n",
       "      <th>organization</th>\n",
       "      <th>signed</th>\n",
       "      <th>toolclass</th>\n",
       "      <th>toolname</th>\n",
       "      <th>url</th>\n",
       "      <th>verified</th>\n",
       "      <th>verified-source</th>\n",
       "      <th>versions</th>\n",
       "    </tr>\n",
       "  </thead>\n",
       "  <tbody>\n",
       "    <tr>\n",
       "      <th>0</th>\n",
       "      <td>Andrew Duncan</td>\n",
       "      <td>[]</td>\n",
       "      <td>![build_status](https://quay.io/repository/col...</td>\n",
       "      <td>quay.io/briandoconnor/dockstore-tool-bamstats</td>\n",
       "      <td>2018-03-16 18:17:22.117</td>\n",
       "      <td>briandoconnor</td>\n",
       "      <td>False</td>\n",
       "      <td>{'description': 'CommandLineTool', 'id': '0', ...</td>\n",
       "      <td>dockstore-tool-bamstats</td>\n",
       "      <td>https://dockstore.org/api/api/ga4gh/v1/tools/q...</td>\n",
       "      <td>False</td>\n",
       "      <td>[]</td>\n",
       "      <td>[{'descriptor-type': [], 'dockerfile': True, '...</td>\n",
       "    </tr>\n",
       "    <tr>\n",
       "      <th>1</th>\n",
       "      <td>Brian O'Connor</td>\n",
       "      <td>[]</td>\n",
       "      <td>![build_status](https://quay.io/repository/bri...</td>\n",
       "      <td>quay.io/briandoconnor/dockstore-tool-bamstats-...</td>\n",
       "      <td>2018-03-16 18:17:22.117</td>\n",
       "      <td>briandoconnor</td>\n",
       "      <td>False</td>\n",
       "      <td>{'description': 'CommandLineTool', 'id': '0', ...</td>\n",
       "      <td>dockstore-tool-bamstats-class</td>\n",
       "      <td>https://dockstore.org/api/api/ga4gh/v1/tools/q...</td>\n",
       "      <td>False</td>\n",
       "      <td>[]</td>\n",
       "      <td>[{'descriptor-type': [], 'dockerfile': True, '...</td>\n",
       "    </tr>\n",
       "    <tr>\n",
       "      <th>2</th>\n",
       "      <td>Unknown author</td>\n",
       "      <td>[]</td>\n",
       "      <td></td>\n",
       "      <td>registry.hub.docker.com/cancercollaboratory/do...</td>\n",
       "      <td>2017-03-24 19:39:31.691</td>\n",
       "      <td>cancercollaboratory</td>\n",
       "      <td>False</td>\n",
       "      <td>{'description': 'CommandLineTool', 'id': '0', ...</td>\n",
       "      <td>dockstore-tool-bamstats</td>\n",
       "      <td>https://dockstore.org/api/api/ga4gh/v1/tools/r...</td>\n",
       "      <td>False</td>\n",
       "      <td>[]</td>\n",
       "      <td>[{'descriptor-type': [], 'dockerfile': True, '...</td>\n",
       "    </tr>\n",
       "    <tr>\n",
       "      <th>3</th>\n",
       "      <td>Unknown author</td>\n",
       "      <td>[]</td>\n",
       "      <td>![build_status](https://quay.io/repository/ctb...</td>\n",
       "      <td>quay.io/ctb/dockstore-tool-bamstats</td>\n",
       "      <td>2017-07-09 13:34:56.24</td>\n",
       "      <td>ctb</td>\n",
       "      <td>False</td>\n",
       "      <td>{'description': 'CommandLineTool', 'id': '0', ...</td>\n",
       "      <td>dockstore-tool-bamstats</td>\n",
       "      <td>https://dockstore.org/api/api/ga4gh/v1/tools/q...</td>\n",
       "      <td>False</td>\n",
       "      <td>[]</td>\n",
       "      <td>[{'descriptor-type': [], 'dockerfile': True, '...</td>\n",
       "    </tr>\n",
       "    <tr>\n",
       "      <th>4</th>\n",
       "      <td>Brian O'Connor</td>\n",
       "      <td>[]</td>\n",
       "      <td>![build_status](https://quay.io/repository/col...</td>\n",
       "      <td>quay.io/collaboratory/dockstore-tool-bamstats</td>\n",
       "      <td>2018-09-13 16:01:06.861</td>\n",
       "      <td>collaboratory</td>\n",
       "      <td>False</td>\n",
       "      <td>{'description': 'CommandLineTool', 'id': '0', ...</td>\n",
       "      <td>dockstore-tool-bamstats</td>\n",
       "      <td>https://dockstore.org/api/api/ga4gh/v1/tools/q...</td>\n",
       "      <td>False</td>\n",
       "      <td>[]</td>\n",
       "      <td>[{'descriptor-type': [], 'dockerfile': True, '...</td>\n",
       "    </tr>\n",
       "    <tr>\n",
       "      <th>5</th>\n",
       "      <td>Unknown author</td>\n",
       "      <td>[]</td>\n",
       "      <td>![build_status](https://quay.io/repository/col...</td>\n",
       "      <td>quay.io/k-cao/dockstore-tool-bamstats</td>\n",
       "      <td>2017-04-24 20:35:04.473</td>\n",
       "      <td>k-cao</td>\n",
       "      <td>False</td>\n",
       "      <td>{'description': 'CommandLineTool', 'id': '0', ...</td>\n",
       "      <td>dockstore-tool-bamstats</td>\n",
       "      <td>https://dockstore.org/api/api/ga4gh/v1/tools/q...</td>\n",
       "      <td>False</td>\n",
       "      <td>[]</td>\n",
       "      <td>[{'descriptor-type': [], 'dockerfile': True, '...</td>\n",
       "    </tr>\n",
       "    <tr>\n",
       "      <th>6</th>\n",
       "      <td>Brian O'Connor</td>\n",
       "      <td>[]</td>\n",
       "      <td>![build_status](https://quay.io/repository/col...</td>\n",
       "      <td>registry.hub.docker.com/nathankw/dockstore-too...</td>\n",
       "      <td>2017-07-12 18:40:49.876</td>\n",
       "      <td>nathankw</td>\n",
       "      <td>False</td>\n",
       "      <td>{'description': 'CommandLineTool', 'id': '0', ...</td>\n",
       "      <td>dockstore-tool-bamstats</td>\n",
       "      <td>https://dockstore.org/api/api/ga4gh/v1/tools/r...</td>\n",
       "      <td>False</td>\n",
       "      <td>[]</td>\n",
       "      <td>[{'descriptor-type': [], 'dockerfile': True, '...</td>\n",
       "    </tr>\n",
       "    <tr>\n",
       "      <th>7</th>\n",
       "      <td>Unknown author</td>\n",
       "      <td>[]</td>\n",
       "      <td></td>\n",
       "      <td>quay.io/pvanheus/dockstore-tool-bamstats</td>\n",
       "      <td>2018-04-20 18:38:33.269</td>\n",
       "      <td>pvanheus</td>\n",
       "      <td>False</td>\n",
       "      <td>{'description': 'CommandLineTool', 'id': '0', ...</td>\n",
       "      <td>dockstore-tool-bamstats</td>\n",
       "      <td>https://dockstore.org/api/api/ga4gh/v1/tools/q...</td>\n",
       "      <td>False</td>\n",
       "      <td>[]</td>\n",
       "      <td>[{'descriptor-type': [], 'dockerfile': True, '...</td>\n",
       "    </tr>\n",
       "    <tr>\n",
       "      <th>8</th>\n",
       "      <td>Unknown author</td>\n",
       "      <td>[]</td>\n",
       "      <td></td>\n",
       "      <td>quay.io/superjw/dockstore-tool-bamstats</td>\n",
       "      <td>2018-11-26 15:21:36.474</td>\n",
       "      <td>superjw</td>\n",
       "      <td>False</td>\n",
       "      <td>{'description': 'CommandLineTool', 'id': '0', ...</td>\n",
       "      <td>dockstore-tool-bamstats</td>\n",
       "      <td>https://dockstore.org/api/api/ga4gh/v1/tools/q...</td>\n",
       "      <td>False</td>\n",
       "      <td>[]</td>\n",
       "      <td>[{'descriptor-type': [], 'dockerfile': True, '...</td>\n",
       "    </tr>\n",
       "  </tbody>\n",
       "</table>\n",
       "</div>"
      ],
      "text/plain": [
       "           author contains                                        description  \\\n",
       "0   Andrew Duncan       []  ![build_status](https://quay.io/repository/col...   \n",
       "1  Brian O'Connor       []  ![build_status](https://quay.io/repository/bri...   \n",
       "2  Unknown author       []                                                      \n",
       "3  Unknown author       []  ![build_status](https://quay.io/repository/ctb...   \n",
       "4  Brian O'Connor       []  ![build_status](https://quay.io/repository/col...   \n",
       "5  Unknown author       []  ![build_status](https://quay.io/repository/col...   \n",
       "6  Brian O'Connor       []  ![build_status](https://quay.io/repository/col...   \n",
       "7  Unknown author       []                                                      \n",
       "8  Unknown author       []                                                      \n",
       "\n",
       "                                                  id             meta-version  \\\n",
       "0      quay.io/briandoconnor/dockstore-tool-bamstats  2018-03-16 18:17:22.117   \n",
       "1  quay.io/briandoconnor/dockstore-tool-bamstats-...  2018-03-16 18:17:22.117   \n",
       "2  registry.hub.docker.com/cancercollaboratory/do...  2017-03-24 19:39:31.691   \n",
       "3                quay.io/ctb/dockstore-tool-bamstats   2017-07-09 13:34:56.24   \n",
       "4      quay.io/collaboratory/dockstore-tool-bamstats  2018-09-13 16:01:06.861   \n",
       "5              quay.io/k-cao/dockstore-tool-bamstats  2017-04-24 20:35:04.473   \n",
       "6  registry.hub.docker.com/nathankw/dockstore-too...  2017-07-12 18:40:49.876   \n",
       "7           quay.io/pvanheus/dockstore-tool-bamstats  2018-04-20 18:38:33.269   \n",
       "8            quay.io/superjw/dockstore-tool-bamstats  2018-11-26 15:21:36.474   \n",
       "\n",
       "          organization  signed  \\\n",
       "0        briandoconnor   False   \n",
       "1        briandoconnor   False   \n",
       "2  cancercollaboratory   False   \n",
       "3                  ctb   False   \n",
       "4        collaboratory   False   \n",
       "5                k-cao   False   \n",
       "6             nathankw   False   \n",
       "7             pvanheus   False   \n",
       "8              superjw   False   \n",
       "\n",
       "                                           toolclass  \\\n",
       "0  {'description': 'CommandLineTool', 'id': '0', ...   \n",
       "1  {'description': 'CommandLineTool', 'id': '0', ...   \n",
       "2  {'description': 'CommandLineTool', 'id': '0', ...   \n",
       "3  {'description': 'CommandLineTool', 'id': '0', ...   \n",
       "4  {'description': 'CommandLineTool', 'id': '0', ...   \n",
       "5  {'description': 'CommandLineTool', 'id': '0', ...   \n",
       "6  {'description': 'CommandLineTool', 'id': '0', ...   \n",
       "7  {'description': 'CommandLineTool', 'id': '0', ...   \n",
       "8  {'description': 'CommandLineTool', 'id': '0', ...   \n",
       "\n",
       "                        toolname  \\\n",
       "0        dockstore-tool-bamstats   \n",
       "1  dockstore-tool-bamstats-class   \n",
       "2        dockstore-tool-bamstats   \n",
       "3        dockstore-tool-bamstats   \n",
       "4        dockstore-tool-bamstats   \n",
       "5        dockstore-tool-bamstats   \n",
       "6        dockstore-tool-bamstats   \n",
       "7        dockstore-tool-bamstats   \n",
       "8        dockstore-tool-bamstats   \n",
       "\n",
       "                                                 url  verified  \\\n",
       "0  https://dockstore.org/api/api/ga4gh/v1/tools/q...     False   \n",
       "1  https://dockstore.org/api/api/ga4gh/v1/tools/q...     False   \n",
       "2  https://dockstore.org/api/api/ga4gh/v1/tools/r...     False   \n",
       "3  https://dockstore.org/api/api/ga4gh/v1/tools/q...     False   \n",
       "4  https://dockstore.org/api/api/ga4gh/v1/tools/q...     False   \n",
       "5  https://dockstore.org/api/api/ga4gh/v1/tools/q...     False   \n",
       "6  https://dockstore.org/api/api/ga4gh/v1/tools/r...     False   \n",
       "7  https://dockstore.org/api/api/ga4gh/v1/tools/q...     False   \n",
       "8  https://dockstore.org/api/api/ga4gh/v1/tools/q...     False   \n",
       "\n",
       "  verified-source                                           versions  \n",
       "0              []  [{'descriptor-type': [], 'dockerfile': True, '...  \n",
       "1              []  [{'descriptor-type': [], 'dockerfile': True, '...  \n",
       "2              []  [{'descriptor-type': [], 'dockerfile': True, '...  \n",
       "3              []  [{'descriptor-type': [], 'dockerfile': True, '...  \n",
       "4              []  [{'descriptor-type': [], 'dockerfile': True, '...  \n",
       "5              []  [{'descriptor-type': [], 'dockerfile': True, '...  \n",
       "6              []  [{'descriptor-type': [], 'dockerfile': True, '...  \n",
       "7              []  [{'descriptor-type': [], 'dockerfile': True, '...  \n",
       "8              []  [{'descriptor-type': [], 'dockerfile': True, '...  "
      ]
     },
     "execution_count": 5,
     "metadata": {
      "tags": []
     },
     "output_type": "execute_result"
    }
   ],
   "source": [
    "df"
   ]
  }
 ],
 "metadata": {
  "colab": {
   "name": "How_To_Find_A_Tool_Using_GA4GH_TRS.ipynb",
   "provenance": [],
   "version": "0.3.2"
  },
  "kernelspec": {
   "display_name": "Python 3",
   "language": "python",
   "name": "python3"
  },
  "language_info": {
   "codemirror_mode": {
    "name": "ipython",
    "version": 3
   },
   "file_extension": ".py",
   "mimetype": "text/x-python",
   "name": "python",
   "nbconvert_exporter": "python",
   "pygments_lexer": "ipython3",
   "version": "3.6.8"
  }
 },
 "nbformat": 4,
 "nbformat_minor": 2
}
