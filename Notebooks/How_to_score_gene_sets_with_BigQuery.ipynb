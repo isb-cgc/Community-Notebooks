{
 "cells": [
  {
   "cell_type": "markdown",
   "metadata": {
    "colab_type": "text",
    "id": "ck3BpShLQ-zl"
   },
   "source": [
    "# ISB-CGC Community Notebooks\n",
    "\n",
    "Check out more notebooks at our [Community Notebooks Repository](https://github.com/isb-cgc/Community-Notebooks)!\n",
    "\n",
    "```\n",
    "Title:   Gene Set Scoring using hg38 mutation tables\n",
    "Author:  Lauren Hagen\n",
    "Created: 2019-07-22\n",
    "Purpose: To demonstrate how to join two tables in BigQuery to compare the expression of a set of genes  between two groups.\n",
    "URL:     https://github.com/isb-cgc/Community-Notebooks/blob/master/Notebooks/How_to_score_gene_sets_with_BigQuery.ipynb\n",
    "Notes:   This notebook was adapted from work by David l Gibbs, January 2018 Query of the Month.\n",
    "```\n",
    "***\n",
    "\n",
    "In this notebook, we’re going to implement a common bioinformatics task: gene set scoring. In this procedure, we will compare the *joint* expression of a set of genes between two groups.\n",
    "\n",
    "Gene sets frequently result from experiments in which, for example, an expression is compared between two groups (e.g. control and treatment), and the genes that are significantly differentially expressed between the two groups form the “gene set”. Given a gene set, numerous approaches have been proposed to assign functional interpretations to a particular list of genes.\n",
    "\n",
    "A related approach is to consider pathways as gene sets: each gene set will, therefore, be a canonical representation of a biological process compiled by domain experts. We will use the [WikiPathways](https://www.wikipathways.org/index.php/Download_Pathways) gene sets that have been previously assembled and stored in BigQuery. In total there were 381 pathways downloaded from WikiPathways. In the BQ table, each row contains a pathway and a gene associated with that pathway.\n",
    "\n",
    "Our task will be to determine which genesets are differentially expressed when comparing two groups of samples. We will define groups of samples using the new hg38 Somatic Mutations table from the NCI Genomic Data Commons.\n",
    "\n",
    "The BigQuery table at ISB-CGC is found at: isb-cgc.TCGA_hg38_data_v0.Somatic_Mutation_DR10\n",
    "\n",
    "The BigQuery pathway table is found at: isb-cgc.QotM.WikiPathways_20170425_Annotated\n",
    "\n",
    "We will implement a method found in a paper titled “Gene set enrichment analysis made simple” (Rafael A Irrazary et al, PMID 20048385). They propose a simple solution that outperforms a popular and more complex method known as GSEA.\n",
    "\n",
    "In short, (I’ll explain later), the gene set score comes from an average of T-tests, where the T-statistics come from testing each gene for differential expression between the two groups. The statistic is then weighted by the square root of the sample size (number of genes in the set), so that with larger gene sets, the ‘significant’ effect size can get pretty small.\n",
    "\n",
    "At the end of it, the full query processes 29.8GB in 10.1s and costs ~$0.15.\n",
    "\n",
    "First, we will need to import bigquery module, autheticate ourselves, and create a client variable. For more information see ['Quick Start Guide to ISB-CGC'](INSERT LINK) and alternative authentication methods can be found [here](https://googleapis.github.io/google-cloud-python/latest/core/auth.html)."
   ]
  },
  {
   "cell_type": "code",
   "execution_count": null,
   "metadata": {
    "colab": {},
    "colab_type": "code",
    "id": "nEHzCZ1MQzEi"
   },
   "outputs": [],
   "source": [
    "# Import BigQuery Module\n",
    "from google.cloud import bigquery"
   ]
  },
  {
   "cell_type": "code",
   "execution_count": null,
   "metadata": {
    "colab": {
     "base_uri": "https://localhost:8080/",
     "height": 360
    },
    "colab_type": "code",
    "id": "6JM4sBB6Tfsk",
    "outputId": "ad3a5101-9c83-4004-8d73-31634a31da1d"
   },
   "outputs": [],
   "source": [
    "# Autheticate ourselves\n",
    "!gcloud auth application-default login"
   ]
  },
  {
   "cell_type": "code",
   "execution_count": null,
   "metadata": {
    "colab": {},
    "colab_type": "code",
    "id": "H_ZoX1U8TqF4"
   },
   "outputs": [],
   "source": [
    "# Create a variable for which client to use with BigQuery\n",
    "project_num = 'your_project_number'# Replace with your project ID\n",
    "if project_num == 'your_project_number':\n",
    "    print('Please update the project number with your Google Cloud Project')\n",
    "else:\n",
    "    client = bigquery.Client(project) "
   ]
  },
  {
   "cell_type": "markdown",
   "metadata": {
    "colab_type": "text",
    "id": "wi3LaliGSuhf"
   },
   "source": [
    "Let’s get started on creating the full query. First, which tissue type should we focus on? Let’s choose PARP1 as an interesting gene – it encodes an enzyme involved in DNA damage repair and is also the target of some therapeutic drugs – and use the Somatic Mutation table to choose a cancer type:\n",
    "\n",
    "** Note: you will need to update 'your_project_number' with your project number before continuing with the notebook **"
   ]
  },
  {
   "cell_type": "code",
   "execution_count": null,
   "metadata": {
    "colab": {
     "base_uri": "https://localhost:8080/",
     "height": 731
    },
    "colab_type": "code",
    "id": "AQxiYAEpUFua",
    "outputId": "ac5e1d42-cd76-43d8-c619-d60f6d275aac"
   },
   "outputs": [
    {
     "data": {
      "text/html": [
       "<div>\n",
       "<style scoped>\n",
       "    .dataframe tbody tr th:only-of-type {\n",
       "        vertical-align: middle;\n",
       "    }\n",
       "\n",
       "    .dataframe tbody tr th {\n",
       "        vertical-align: top;\n",
       "    }\n",
       "\n",
       "    .dataframe thead th {\n",
       "        text-align: right;\n",
       "    }\n",
       "</style>\n",
       "<table border=\"1\" class=\"dataframe\">\n",
       "  <thead>\n",
       "    <tr style=\"text-align: right;\">\n",
       "      <th></th>\n",
       "      <th>project_short_name</th>\n",
       "      <th>n</th>\n",
       "    </tr>\n",
       "  </thead>\n",
       "  <tbody>\n",
       "    <tr>\n",
       "      <th>0</th>\n",
       "      <td>TCGA-UCEC</td>\n",
       "      <td>46</td>\n",
       "    </tr>\n",
       "    <tr>\n",
       "      <th>1</th>\n",
       "      <td>TCGA-COAD</td>\n",
       "      <td>22</td>\n",
       "    </tr>\n",
       "    <tr>\n",
       "      <th>2</th>\n",
       "      <td>TCGA-STAD</td>\n",
       "      <td>22</td>\n",
       "    </tr>\n",
       "    <tr>\n",
       "      <th>3</th>\n",
       "      <td>TCGA-BRCA</td>\n",
       "      <td>17</td>\n",
       "    </tr>\n",
       "    <tr>\n",
       "      <th>4</th>\n",
       "      <td>TCGA-SKCM</td>\n",
       "      <td>16</td>\n",
       "    </tr>\n",
       "    <tr>\n",
       "      <th>5</th>\n",
       "      <td>TCGA-BLCA</td>\n",
       "      <td>15</td>\n",
       "    </tr>\n",
       "    <tr>\n",
       "      <th>6</th>\n",
       "      <td>TCGA-LUSC</td>\n",
       "      <td>12</td>\n",
       "    </tr>\n",
       "    <tr>\n",
       "      <th>7</th>\n",
       "      <td>TCGA-CESC</td>\n",
       "      <td>9</td>\n",
       "    </tr>\n",
       "    <tr>\n",
       "      <th>8</th>\n",
       "      <td>TCGA-GBM</td>\n",
       "      <td>8</td>\n",
       "    </tr>\n",
       "    <tr>\n",
       "      <th>9</th>\n",
       "      <td>TCGA-LUAD</td>\n",
       "      <td>6</td>\n",
       "    </tr>\n",
       "    <tr>\n",
       "      <th>10</th>\n",
       "      <td>TCGA-HNSC</td>\n",
       "      <td>5</td>\n",
       "    </tr>\n",
       "    <tr>\n",
       "      <th>11</th>\n",
       "      <td>TCGA-OV</td>\n",
       "      <td>5</td>\n",
       "    </tr>\n",
       "    <tr>\n",
       "      <th>12</th>\n",
       "      <td>TCGA-KIRC</td>\n",
       "      <td>4</td>\n",
       "    </tr>\n",
       "    <tr>\n",
       "      <th>13</th>\n",
       "      <td>TCGA-LIHC</td>\n",
       "      <td>4</td>\n",
       "    </tr>\n",
       "    <tr>\n",
       "      <th>14</th>\n",
       "      <td>TCGA-PRAD</td>\n",
       "      <td>3</td>\n",
       "    </tr>\n",
       "    <tr>\n",
       "      <th>15</th>\n",
       "      <td>TCGA-KIRP</td>\n",
       "      <td>3</td>\n",
       "    </tr>\n",
       "    <tr>\n",
       "      <th>16</th>\n",
       "      <td>TCGA-ACC</td>\n",
       "      <td>3</td>\n",
       "    </tr>\n",
       "    <tr>\n",
       "      <th>17</th>\n",
       "      <td>TCGA-LGG</td>\n",
       "      <td>2</td>\n",
       "    </tr>\n",
       "    <tr>\n",
       "      <th>18</th>\n",
       "      <td>TCGA-ESCA</td>\n",
       "      <td>2</td>\n",
       "    </tr>\n",
       "    <tr>\n",
       "      <th>19</th>\n",
       "      <td>TCGA-SARC</td>\n",
       "      <td>2</td>\n",
       "    </tr>\n",
       "    <tr>\n",
       "      <th>20</th>\n",
       "      <td>TCGA-READ</td>\n",
       "      <td>2</td>\n",
       "    </tr>\n",
       "    <tr>\n",
       "      <th>21</th>\n",
       "      <td>TCGA-PAAD</td>\n",
       "      <td>1</td>\n",
       "    </tr>\n",
       "  </tbody>\n",
       "</table>\n",
       "</div>"
      ],
      "text/plain": [
       "   project_short_name   n\n",
       "0           TCGA-UCEC  46\n",
       "1           TCGA-COAD  22\n",
       "2           TCGA-STAD  22\n",
       "3           TCGA-BRCA  17\n",
       "4           TCGA-SKCM  16\n",
       "5           TCGA-BLCA  15\n",
       "6           TCGA-LUSC  12\n",
       "7           TCGA-CESC   9\n",
       "8            TCGA-GBM   8\n",
       "9           TCGA-LUAD   6\n",
       "10          TCGA-HNSC   5\n",
       "11            TCGA-OV   5\n",
       "12          TCGA-KIRC   4\n",
       "13          TCGA-LIHC   4\n",
       "14          TCGA-PRAD   3\n",
       "15          TCGA-KIRP   3\n",
       "16           TCGA-ACC   3\n",
       "17           TCGA-LGG   2\n",
       "18          TCGA-ESCA   2\n",
       "19          TCGA-SARC   2\n",
       "20          TCGA-READ   2\n",
       "21          TCGA-PAAD   1"
      ]
     },
     "execution_count": 226,
     "metadata": {
      "tags": []
     },
     "output_type": "execute_result"
    }
   ],
   "source": [
    "# Magic command of bigquery with the project id as your project number and create a Pandas Dataframe\n",
    "# Change your_project_number to your project ID\n",
    "%%bigquery --project your_project_number\n",
    "SELECT\n",
    "  project_short_name,\n",
    "  COUNT(DISTINCT(sample_barcode_tumor)) AS n\n",
    "FROM\n",
    "  `isb-cgc.TCGA_hg38_data_v0.Somatic_Mutation_DR10`\n",
    "WHERE\n",
    "  Hugo_Symbol = 'PARP1'\n",
    "GROUP BY\n",
    "  project_short_name\n",
    "ORDER BY\n",
    "  n DESC"
   ]
  },
  {
   "cell_type": "markdown",
   "metadata": {
    "colab_type": "text",
    "id": "apFRdmeMUsAW"
   },
   "source": [
    "The result of that query shows that 46 tumor samples have PARP1 mutations in UCEC, followed by COAD and STAD with 22 each. That’s a big lead by UCEC, so let’s focus our work there.\n",
    "\n",
    "Here’s where our main query will begin. Since this is standard SQL, we’ll be naming each subtable, and the full query can be constructed by concatenating each of the following sub-queries. Many of the code lines that run the query at each step will be marked with '%%script false' so that extra queries are not charged."
   ]
  },
  {
   "cell_type": "code",
   "execution_count": null,
   "metadata": {
    "colab": {},
    "colab_type": "code",
    "id": "LNFIqrBoJx7j"
   },
   "outputs": [],
   "source": [
    "# Create a variable for the first subquery\n",
    "# This subquery will return sample barcodes with at least one known somatic mutation\n",
    "s1 = \"\"\"\n",
    "WITH\n",
    "s1 AS (\n",
    "  SELECT\n",
    "    sample_barcode_tumor AS sample_barcode\n",
    "  FROM\n",
    "    `isb-cgc.TCGA_hg38_data_v0.Somatic_Mutation_DR10`\n",
    "  WHERE\n",
    "    project_short_name = 'TCGA-UCEC'\n",
    "  GROUP BY\n",
    "    1\n",
    ")\n",
    "\"\"\"\n",
    "# Create a variable to return the values from the first subquery\n",
    "query1 = s1 + \"SELECT * FROM s1\""
   ]
  },
  {
   "cell_type": "code",
   "execution_count": null,
   "metadata": {
    "colab": {},
    "colab_type": "code",
    "id": "3XWOXPMRKpeK"
   },
   "outputs": [],
   "source": [
    "%%script false\n",
    "# Run the subquery \n",
    "s1_df = client.query(query1).to_dataframe()\n",
    "# Print the number of rows in the dataframe\n",
    "len(s1_df)"
   ]
  },
  {
   "cell_type": "markdown",
   "metadata": {
    "colab_type": "text",
    "id": "8wvwqWKKPYH5"
   },
   "source": [
    "This query returns 530 tumor sample barcodes with at least one known somatic mutation. (The TCGA Biospecimen table includes information for a total of 553 UCEC tumor samples, but some may have not been sequenced or may have no somatic mutations – the former being more likely than the latter.) Recall that somatic mutations are variants in the DNA that are found when comparing the tumor sequence to the ‘matched normal’ sequence (typically from a blood sample, but sometimes from adjacent tissue). Next, for all these samples, we’ll want to restrict our analysis to samples for which we also have mRNA expression data:"
   ]
  },
  {
   "cell_type": "code",
   "execution_count": null,
   "metadata": {
    "colab": {},
    "colab_type": "code",
    "id": "tzDkfWj5Qli_"
   },
   "outputs": [],
   "source": [
    "sampleGroup = \"\"\"\n",
    "sampleGroup AS (\n",
    "  SELECT\n",
    "    sample_barcode\n",
    "  FROM\n",
    "    `isb-cgc.TCGA_hg38_data_v0.RNAseq_Gene_Expression`\n",
    "  WHERE\n",
    "    project_short_name = 'TCGA-UCEC'\n",
    "    AND sample_barcode IN\n",
    "    (select sample_barcode from s1)\n",
    "  GROUP BY\n",
    "    1\n",
    ")\"\"\"\n",
    "# Combine previous subquery with sampleGroup\n",
    "query2 = s1 + \",\" + sampleGroup + \"SELECT * FROM sampleGroup\""
   ]
  },
  {
   "cell_type": "code",
   "execution_count": null,
   "metadata": {
    "colab": {},
    "colab_type": "code",
    "id": "TSIrnwbRQrxq"
   },
   "outputs": [],
   "source": [
    "%%script false\n",
    "# Run the query2 subquery \n",
    "sampleGroup_df = client.query(query2).to_dataframe()\n",
    "# Print the number of rows in the dataframe\n",
    "len(sampleGroup_df)"
   ]
  },
  {
   "cell_type": "markdown",
   "metadata": {
    "colab_type": "text",
    "id": "dIKwJ1qISQ_1"
   },
   "source": [
    "Now we have 526 samples for which we have gene expression and somatic mutation calls. We are interested in partitioning this group into two parts: one with a mutation of interest, and one without. So let’s gather barcodes for tumors with non-silent mutations in PARP1."
   ]
  },
  {
   "cell_type": "code",
   "execution_count": null,
   "metadata": {
    "colab": {},
    "colab_type": "code",
    "id": "wpXfg27pTGYW"
   },
   "outputs": [],
   "source": [
    "groups = \"\"\"\n",
    "--\n",
    "-- The first group has non-synonymous mutations in PARP1\n",
    "--\n",
    "grp1 AS (\n",
    "  SELECT\n",
    "    sample_barcode_tumor AS sample_barcode\n",
    "  FROM\n",
    "    `isb-cgc.TCGA_hg38_data_v0.Somatic_Mutation_DR10`\n",
    "  WHERE\n",
    "    Hugo_Symbol = 'PARP1'\n",
    "    AND One_Consequence <> 'synonymous_variant'\n",
    "    AND sample_barcode_tumor IN (\n",
    "      SELECT\n",
    "        sample_barcode\n",
    "      FROM\n",
    "        sampleGroup )\n",
    "    GROUP BY sample_barcode\n",
    "  ),\n",
    "--\n",
    "-- group 2 is the rest of the samples\n",
    "--\n",
    "grp2 AS (\n",
    "  SELECT\n",
    "    sample_barcode\n",
    "  FROM\n",
    "    sampleGroup\n",
    "  WHERE\n",
    "    sample_barcode NOT IN (\n",
    "      SELECT\n",
    "        sample_barcode\n",
    "      FROM\n",
    "        grp1)\n",
    ")\n",
    "\"\"\"\n",
    "query3_grp1 = s1 + \",\" + sampleGroup + \",\" + groups + \"SELECT * FROM grp1\"\n",
    "query3_grp2 = s1 + \",\" + sampleGroup + \",\" + groups + \"SELECT * FROM grp2\""
   ]
  },
  {
   "cell_type": "code",
   "execution_count": null,
   "metadata": {
    "colab": {},
    "colab_type": "code",
    "id": "TYVp--Q2T7ud"
   },
   "outputs": [],
   "source": [
    "%%script false\n",
    "# Run the query3 subquery \n",
    "grp1_df = client.query(query3_grp1).to_dataframe()\n",
    "# Print the number of rows in the dataframe\n",
    "len(grp1_df)"
   ]
  },
  {
   "cell_type": "code",
   "execution_count": null,
   "metadata": {
    "colab": {},
    "colab_type": "code",
    "id": "ZsCFeBRCUAmD"
   },
   "outputs": [],
   "source": [
    "%%script false\n",
    "# Run the query4 subquery \n",
    "grp2_df = client.query(query3_grp2).to_dataframe()\n",
    "# Print the number of rows in the dataframe\n",
    "len(grp2_df)"
   ]
  },
  {
   "cell_type": "markdown",
   "metadata": {
    "colab_type": "text",
    "id": "7CJHzvzWUPew"
   },
   "source": [
    "This results in 41 tumor samples with non-synonymous PARP1 variants and 485 samples without.\n",
    "\n",
    "Next we’re going to summarize the gene expression within each of these groups. This will be used for calulating T-statistics in the following portion of the query we are constructing. For each gene, we’ll take the mean, variance, and count of samples."
   ]
  },
  {
   "cell_type": "code",
   "execution_count": null,
   "metadata": {
    "colab": {},
    "colab_type": "code",
    "id": "M57Qsd2AUVEp"
   },
   "outputs": [],
   "source": [
    "summaries = \"\"\"\n",
    "-- Summaries for Group 1 (with mutation)\n",
    "--\n",
    "summaryGrp1 AS (\n",
    "  select\n",
    "    gene_name as symbol,\n",
    "    AVG(LOG10( HTSeq__FPKM_UQ +1)) as genemean,\n",
    "    VAR_SAMP(LOG10( HTSeq__FPKM_UQ +1)) as genevar,\n",
    "    count(sample_barcode) as genen\n",
    "  FROM\n",
    "    `isb-cgc.TCGA_hg38_data_v0.RNAseq_Gene_Expression`\n",
    "  WHERE\n",
    "    sample_barcode IN (select sample_barcode FROM grp1)\n",
    "    AND gene_name IN (\n",
    "      SELECT\n",
    "        Symbol as gene_name\n",
    "      FROM\n",
    "        `isb-cgc.QotM.WikiPathways_20170425_Annotated`\n",
    "    )\n",
    "  GROUP BY\n",
    "    gene_name\n",
    "),\n",
    "--\n",
    "-- Summaries for Group 2 (without mutation)\n",
    "--\n",
    "summaryGrp2 AS (\n",
    "  select\n",
    "    gene_name as symbol,\n",
    "    AVG(LOG10( HTSeq__FPKM_UQ +1)) as genemean,\n",
    "    VAR_SAMP(LOG10( HTSeq__FPKM_UQ +1)) as genevar,\n",
    "    count(sample_barcode) as genen\n",
    "  FROM\n",
    "    `isb-cgc.TCGA_hg38_data_v0.RNAseq_Gene_Expression`\n",
    "  WHERE\n",
    "    sample_barcode IN (select sample_barcode FROM grp2)\n",
    "    AND gene_name IN (\n",
    "      SELECT\n",
    "        Symbol as gene_name\n",
    "      FROM\n",
    "        `isb-cgc.QotM.WikiPathways_20170425_Annotated`\n",
    "    )\n",
    "  GROUP BY\n",
    "    gene_name\n",
    ")\n",
    "--\n",
    "\"\"\"\n",
    "query4_grp1 = s1 + \",\" + sampleGroup + \",\" + groups + \",\" + summaries + \"SELECT * FROM summaryGrp1\"\n",
    "query4_grp2 = s1 + \",\" + sampleGroup + \",\" + groups + \",\" + summaries + \"SELECT * FROM summaryGrp2\""
   ]
  },
  {
   "cell_type": "code",
   "execution_count": null,
   "metadata": {
    "colab": {
     "base_uri": "https://localhost:8080/",
     "height": 34
    },
    "colab_type": "code",
    "id": "cuOjZFc0UoX9",
    "outputId": "3061641d-856a-48e7-e2fe-745b63c78965"
   },
   "outputs": [
    {
     "data": {
      "text/plain": [
       "6505"
      ]
     },
     "execution_count": 11,
     "metadata": {
      "tags": []
     },
     "output_type": "execute_result"
    }
   ],
   "source": [
    "%%script false\n",
    "# Run the query5 subquery \n",
    "summaryGrp1_df = client.query(query4_grp1).to_dataframe()\n",
    "# Print the number of rows in the dataframe\n",
    "len(summaryGrp1_df)"
   ]
  },
  {
   "cell_type": "code",
   "execution_count": null,
   "metadata": {
    "colab": {},
    "colab_type": "code",
    "id": "2IwH35lxUzKG"
   },
   "outputs": [],
   "source": [
    "%%script false\n",
    "# Run the query6 subquery \n",
    "summaryGrp2_df = client.query(query4_grp2).to_dataframe()\n",
    "# Print the number of rows in the dataframe\n",
    "len(summaryGrp2_df)"
   ]
  },
  {
   "cell_type": "markdown",
   "metadata": {
    "colab_type": "text",
    "id": "NJUjQlhPVS_I"
   },
   "source": [
    "This results in two sets of summaries for 4,822 genes. (There are 4,962 unique gene symbols in the WikiPathways table, but 140 of them do not match any of the symbols in the TCGA hg38 expression table.) With this, we are ready to calculate T-statistics. Here we’re going to use a two sample T-test assuming independent variance (and that we have enough samples to assume that). The T-statistic is found by taking the difference in means (of gene expression between our two groups), and normalizing it by measures of variance and sample size. Here, we want to keep T-statistics that are zero, which might come from having zero variance, because having a T-stat for each gene is important in the gene set score, even if it’s a zero. To do that, you’ll see the use of an IF statement below."
   ]
  },
  {
   "cell_type": "code",
   "execution_count": null,
   "metadata": {
    "colab": {},
    "colab_type": "code",
    "id": "2wPLVTNBVZtq"
   },
   "outputs": [],
   "source": [
    "tStatsPerGene = \"\"\"\n",
    "tStatsPerGene AS (\n",
    "SELECT\n",
    "  grp1.symbol as symbol,\n",
    "  grp1.genen as grp1_n,\n",
    "  grp2.genen AS grp2_n,\n",
    "  grp1.genemean AS grp1_mean,\n",
    "  grp2.genemean AS grp2_mean,\n",
    "  grp1.genemean - grp2.genemean as meandiff,\n",
    "  IF ((grp1.genevar > 0\n",
    "       AND grp2.genevar > 0\n",
    "       AND grp1.genen > 0\n",
    "       AND grp2.genen > 0),\n",
    "    (grp1.genemean - grp2.genemean) / SQRT( (POW(grp1.genevar,2)/grp1.genen)+ (POW(grp2.genevar,2)/grp2.genen) ),\n",
    "    0.0) AS tstat\n",
    "FROM\n",
    "  summaryGrp1 as grp1\n",
    "  JOIN\n",
    "  summaryGrp2 AS grp2\n",
    "  ON\n",
    "  grp1.symbol = grp2.symbol\n",
    "GROUP BY\n",
    "  grp1.symbol,\n",
    "  grp1.genemean,\n",
    "  grp2.genemean,\n",
    "  grp1.genevar,\n",
    "  grp2.genevar,\n",
    "  grp1.genen,\n",
    "  grp2.genen\n",
    ")\n",
    "\"\"\"\n",
    "query5 = s1 + \",\" + sampleGroup + \",\" + groups + \",\" + summaries + \",\" + tStatsPerGene + \"SELECT * FROM tStatsPerGene\""
   ]
  },
  {
   "cell_type": "code",
   "execution_count": null,
   "metadata": {
    "colab": {
     "base_uri": "https://localhost:8080/",
     "height": 204
    },
    "colab_type": "code",
    "id": "PzVFFZgFVpwL",
    "outputId": "c8e50299-37c8-4a55-c278-6187b217fd10"
   },
   "outputs": [
    {
     "data": {
      "text/html": [
       "<div>\n",
       "<style scoped>\n",
       "    .dataframe tbody tr th:only-of-type {\n",
       "        vertical-align: middle;\n",
       "    }\n",
       "\n",
       "    .dataframe tbody tr th {\n",
       "        vertical-align: top;\n",
       "    }\n",
       "\n",
       "    .dataframe thead th {\n",
       "        text-align: right;\n",
       "    }\n",
       "</style>\n",
       "<table border=\"1\" class=\"dataframe\">\n",
       "  <thead>\n",
       "    <tr style=\"text-align: right;\">\n",
       "      <th></th>\n",
       "      <th>symbol</th>\n",
       "      <th>grp1_n</th>\n",
       "      <th>grp2_n</th>\n",
       "      <th>grp1_mean</th>\n",
       "      <th>grp2_mean</th>\n",
       "      <th>meandiff</th>\n",
       "      <th>tstat</th>\n",
       "    </tr>\n",
       "  </thead>\n",
       "  <tbody>\n",
       "    <tr>\n",
       "      <th>0</th>\n",
       "      <td>OR2H2</td>\n",
       "      <td>41</td>\n",
       "      <td>489</td>\n",
       "      <td>0.939560</td>\n",
       "      <td>1.560230</td>\n",
       "      <td>-0.620669</td>\n",
       "      <td>-1.678449</td>\n",
       "    </tr>\n",
       "    <tr>\n",
       "      <th>1</th>\n",
       "      <td>AKR1C2</td>\n",
       "      <td>41</td>\n",
       "      <td>489</td>\n",
       "      <td>3.560256</td>\n",
       "      <td>3.648247</td>\n",
       "      <td>-0.087991</td>\n",
       "      <td>-0.223780</td>\n",
       "    </tr>\n",
       "    <tr>\n",
       "      <th>2</th>\n",
       "      <td>PRKAA2</td>\n",
       "      <td>41</td>\n",
       "      <td>489</td>\n",
       "      <td>4.282969</td>\n",
       "      <td>4.369887</td>\n",
       "      <td>-0.086918</td>\n",
       "      <td>-2.168308</td>\n",
       "    </tr>\n",
       "    <tr>\n",
       "      <th>3</th>\n",
       "      <td>B4GALT1</td>\n",
       "      <td>41</td>\n",
       "      <td>489</td>\n",
       "      <td>6.273455</td>\n",
       "      <td>6.323255</td>\n",
       "      <td>-0.049801</td>\n",
       "      <td>-3.030482</td>\n",
       "    </tr>\n",
       "    <tr>\n",
       "      <th>4</th>\n",
       "      <td>ETF1</td>\n",
       "      <td>41</td>\n",
       "      <td>489</td>\n",
       "      <td>5.787471</td>\n",
       "      <td>5.726543</td>\n",
       "      <td>0.060928</td>\n",
       "      <td>24.259761</td>\n",
       "    </tr>\n",
       "  </tbody>\n",
       "</table>\n",
       "</div>"
      ],
      "text/plain": [
       "    symbol  grp1_n  grp2_n  grp1_mean  grp2_mean  meandiff      tstat\n",
       "0    OR2H2      41     489   0.939560   1.560230 -0.620669  -1.678449\n",
       "1   AKR1C2      41     489   3.560256   3.648247 -0.087991  -0.223780\n",
       "2   PRKAA2      41     489   4.282969   4.369887 -0.086918  -2.168308\n",
       "3  B4GALT1      41     489   6.273455   6.323255 -0.049801  -3.030482\n",
       "4     ETF1      41     489   5.787471   5.726543  0.060928  24.259761"
      ]
     },
     "execution_count": 15,
     "metadata": {
      "tags": []
     },
     "output_type": "execute_result"
    }
   ],
   "source": [
    "# Run the query5 subquery \n",
    "tStatsPerGene_df = client.query(query5).to_dataframe()\n",
    "tStatsPerGene_df.head()"
   ]
  },
  {
   "cell_type": "markdown",
   "metadata": {
    "colab_type": "text",
    "id": "8iuc-uM8XGVT"
   },
   "source": [
    "We are now going plot the t-statistic using [matplotlib](https://matplotlib.org/) and [seaborn](https://seaborn.pydata.org/) with [numpy](https://numpy.org/) and [pandas](https://pandas.pydata.org/)."
   ]
  },
  {
   "cell_type": "code",
   "execution_count": null,
   "metadata": {
    "colab": {},
    "colab_type": "code",
    "id": "Vznlya7kYovD"
   },
   "outputs": [],
   "source": [
    "import matplotlib.pyplot as plt\n",
    "import numpy as np\n",
    "import pandas as pd\n",
    "import seaborn as sns"
   ]
  },
  {
   "cell_type": "code",
   "execution_count": null,
   "metadata": {
    "colab": {
     "base_uri": "https://localhost:8080/",
     "height": 283
    },
    "colab_type": "code",
    "id": "O-6Oqne-Y0li",
    "outputId": "e0ea3fdc-8170-45ec-df68-a4d066eb8a64"
   },
   "outputs": [
    {
     "data": {
      "image/png": "[encoded data removed]",
      "text/plain": [
       "<Figure size 432x288 with 2 Axes>"
      ]
     },
     "metadata": {
      "tags": []
     },
     "output_type": "display_data"
    }
   ],
   "source": [
    "# Set x as the t statistic for each gene\n",
    "x1 = tStatsPerGene_df.tstat\n",
    "# Set y as the absolute value of the mean difference\n",
    "y1 = abs(tStatsPerGene_df.meandiff)\n",
    "# Set the color of the dots of the absolute value of the t statistic \n",
    "color = abs(tStatsPerGene_df.tstat)\n",
    "# Create the scatter plot\n",
    "plt.scatter(x1,y1,c=color)\n",
    "# Add a legend for the colors\n",
    "plt.colorbar()\n",
    "# Add labels\n",
    "plt.xlabel('T Stat')\n",
    "plt.ylabel('Mean Absolute Difference')\n",
    "# Display the scatter plot\n",
    "plt.show()"
   ]
  },
  {
   "cell_type": "code",
   "execution_count": null,
   "metadata": {
    "colab": {
     "base_uri": "https://localhost:8080/",
     "height": 300
    },
    "colab_type": "code",
    "id": "KN4HYAkxKMqS",
    "outputId": "0f81ece1-5f49-40e0-8db7-13cba6464445"
   },
   "outputs": [
    {
     "data": {
      "text/plain": [
       "<matplotlib.axes._subplots.AxesSubplot at 0x7f3ba8745e80>"
      ]
     },
     "execution_count": 243,
     "metadata": {
      "tags": []
     },
     "output_type": "execute_result"
    },
    {
     "data": {
      "image/png": "[encoded data removed]",
      "text/plain": [
       "<Figure size 432x288 with 1 Axes>"
      ]
     },
     "metadata": {
      "tags": []
     },
     "output_type": "display_data"
    }
   ],
   "source": [
    "# Create a Density Plot of the Data \n",
    "sns.distplot(x1, hist=False, kde=True)"
   ]
  },
  {
   "cell_type": "markdown",
   "metadata": {
    "colab_type": "text",
    "id": "4WWmmXYUNum6"
   },
   "source": [
    "OK! We have a distribution of T statistics. The question is whether there’s some hidden structure to these values. Are there gene sets with unusually high T-statistics? And do these gene sets make any sort of biological sense? Let’s find out!\n",
    "\n",
    "Now we are going to integrate our gene set table. This is as easy as doing a table join."
   ]
  },
  {
   "cell_type": "code",
   "execution_count": null,
   "metadata": {
    "colab": {},
    "colab_type": "code",
    "id": "V2y-tOXyPKg1"
   },
   "outputs": [],
   "source": [
    "geneSetTable = \"\"\"geneSetTable AS (\n",
    "SELECT\n",
    "  gs.pathway,\n",
    "  gs.wikiID,\n",
    "  gs.Symbol,\n",
    "  st.grp1_n,\n",
    "  st.grp2_n,\n",
    "  st.grp1_mean,\n",
    "  st.grp2_mean,\n",
    "  st.meandiff,\n",
    "  st.tstat\n",
    "FROM\n",
    "  `isb-cgc.QotM.WikiPathways_20170425_Annotated` as gs\n",
    "JOIN\n",
    "  tStatsPerGene as st\n",
    "ON\n",
    "  st.symbol = gs.symbol\n",
    "GROUP BY\n",
    "  gs.pathway,\n",
    "  gs.wikiID,\n",
    "  gs.Symbol,\n",
    "  st.grp1_n,\n",
    "  st.grp2_n,\n",
    "  st.grp1_mean,\n",
    "  st.grp2_mean,\n",
    "  st.meandiff,\n",
    "  st.tstat\n",
    ")\n",
    "\"\"\"\n",
    "query6 = s1 + \",\" + sampleGroup + \",\" + groups + \",\" + summaries + \",\" + tStatsPerGene + \",\" + geneSetTable + \"SELECT * FROM geneSetTable\""
   ]
  },
  {
   "cell_type": "code",
   "execution_count": null,
   "metadata": {
    "colab": {},
    "colab_type": "code",
    "id": "UaqjMIK7PPFE"
   },
   "outputs": [],
   "source": [
    "%%script false\n",
    "# Run the query6 subquery \n",
    "geneSetTable_df = client.query(query6).to_dataframe()\n",
    "geneSetTable_df.head()"
   ]
  },
  {
   "cell_type": "markdown",
   "metadata": {
    "colab_type": "text",
    "id": "oGxo1kTDP39E"
   },
   "source": [
    "That’s it! For each gene in the pathways (gene sets) table, we have joined in the T-statistic comparing our two groups. Now for the gene set score! To get this, we’re going to simply average over the T’s within each pathway, and scale the result by the square root of the number of genes. When the number of genes gets large (reasonably so), the value approximates a Z-score. In this way, using R for example, we could get a p-value and perform multiple testing correction in order to control the false discovery rate."
   ]
  },
  {
   "cell_type": "code",
   "execution_count": null,
   "metadata": {
    "colab": {},
    "colab_type": "code",
    "id": "ePhAsbFyQD6w"
   },
   "outputs": [],
   "source": [
    "geneSetScores = \"\"\"geneSetScores AS (\n",
    "SELECT\n",
    "  pathway,\n",
    "  wikiID,\n",
    "  COUNT(symbol) AS n_genes,\n",
    "  AVG(ABS(meandiff)) AS avgAbsDiff,\n",
    "  (SQRT(COUNT(symbol))/COUNT(symbol)) * SUM(tstat) AS score\n",
    "FROM\n",
    "  geneSetTable\n",
    "GROUP BY\n",
    "  pathway,\n",
    "  wikiID )\n",
    "--\n",
    "--\n",
    "SELECT\n",
    "  *\n",
    "FROM\n",
    "  geneSetScores\n",
    "ORDER BY\n",
    "  score DESC \"\"\"\n",
    "query7 = s1 + \",\" + sampleGroup + \",\" + groups + \",\" + summaries + \",\" + tStatsPerGene + \",\" + geneSetTable + \",\" + geneSetScores"
   ]
  },
  {
   "cell_type": "code",
   "execution_count": null,
   "metadata": {
    "colab": {
     "base_uri": "https://localhost:8080/",
     "height": 204
    },
    "colab_type": "code",
    "id": "HfzRaVEYQXTM",
    "outputId": "a1ed8260-db99-4da9-df68-59443702b299"
   },
   "outputs": [
    {
     "data": {
      "text/html": [
       "<div>\n",
       "<style scoped>\n",
       "    .dataframe tbody tr th:only-of-type {\n",
       "        vertical-align: middle;\n",
       "    }\n",
       "\n",
       "    .dataframe tbody tr th {\n",
       "        vertical-align: top;\n",
       "    }\n",
       "\n",
       "    .dataframe thead th {\n",
       "        text-align: right;\n",
       "    }\n",
       "</style>\n",
       "<table border=\"1\" class=\"dataframe\">\n",
       "  <thead>\n",
       "    <tr style=\"text-align: right;\">\n",
       "      <th></th>\n",
       "      <th>pathway</th>\n",
       "      <th>wikiID</th>\n",
       "      <th>n_genes</th>\n",
       "      <th>avgAbsDiff</th>\n",
       "      <th>score</th>\n",
       "    </tr>\n",
       "  </thead>\n",
       "  <tbody>\n",
       "    <tr>\n",
       "      <th>0</th>\n",
       "      <td>Retinoblastoma (RB) in Cancer</td>\n",
       "      <td>WikiPathways_20170410</td>\n",
       "      <td>85</td>\n",
       "      <td>0.090741</td>\n",
       "      <td>100.586657</td>\n",
       "    </tr>\n",
       "    <tr>\n",
       "      <th>1</th>\n",
       "      <td>DNA Replication</td>\n",
       "      <td>WikiPathways_20170410</td>\n",
       "      <td>41</td>\n",
       "      <td>0.096387</td>\n",
       "      <td>87.290089</td>\n",
       "    </tr>\n",
       "    <tr>\n",
       "      <th>2</th>\n",
       "      <td>Cell Cycle</td>\n",
       "      <td>WikiPathways_20170410</td>\n",
       "      <td>98</td>\n",
       "      <td>0.080785</td>\n",
       "      <td>62.985939</td>\n",
       "    </tr>\n",
       "    <tr>\n",
       "      <th>3</th>\n",
       "      <td>Eukaryotic Transcription Initiation</td>\n",
       "      <td>WikiPathways_20170410</td>\n",
       "      <td>37</td>\n",
       "      <td>0.046662</td>\n",
       "      <td>55.004553</td>\n",
       "    </tr>\n",
       "    <tr>\n",
       "      <th>4</th>\n",
       "      <td>Glycolysis and Gluconeogenesis</td>\n",
       "      <td>WikiPathways_20170410</td>\n",
       "      <td>48</td>\n",
       "      <td>0.130570</td>\n",
       "      <td>54.367318</td>\n",
       "    </tr>\n",
       "  </tbody>\n",
       "</table>\n",
       "</div>"
      ],
      "text/plain": [
       "                               pathway  ...       score\n",
       "0        Retinoblastoma (RB) in Cancer  ...  100.586657\n",
       "1                      DNA Replication  ...   87.290089\n",
       "2                           Cell Cycle  ...   62.985939\n",
       "3  Eukaryotic Transcription Initiation  ...   55.004553\n",
       "4       Glycolysis and Gluconeogenesis  ...   54.367318\n",
       "\n",
       "[5 rows x 5 columns]"
      ]
     },
     "execution_count": 247,
     "metadata": {
      "tags": []
     },
     "output_type": "execute_result"
    }
   ],
   "source": [
    "# Run the query9 subquery \n",
    "geneSetScores = client.query(query7).to_dataframe()\n",
    "geneSetScores.head()"
   ]
  },
  {
   "cell_type": "code",
   "execution_count": null,
   "metadata": {
    "colab": {
     "base_uri": "https://localhost:8080/",
     "height": 286
    },
    "colab_type": "code",
    "id": "iDfRx7PXRM9t",
    "outputId": "d5476455-f473-423b-9803-8e8b96fbae3e"
   },
   "outputs": [
    {
     "data": {
      "text/plain": [
       "<matplotlib.collections.PathCollection at 0x7f3b99a260b8>"
      ]
     },
     "execution_count": 250,
     "metadata": {
      "tags": []
     },
     "output_type": "execute_result"
    },
    {
     "data": {
      "image/png": "[encoded data removed]",
      "text/plain": [
       "<Figure size 432x288 with 1 Axes>"
      ]
     },
     "metadata": {
      "tags": []
     },
     "output_type": "display_data"
    }
   ],
   "source": [
    "x2 = geneSetScores.avgAbsDiff\n",
    "y2 = geneSetScores.score\n",
    "s = geneSetScores.n_genes\n",
    "plt.annotate(geneSetScores.iloc[0,0],[geneSetScores.iloc[0,3],geneSetScores.iloc[0,4]])\n",
    "plt.annotate(geneSetScores.iloc[1,0],[geneSetScores.iloc[1,3],geneSetScores.iloc[1,4]])\n",
    "plt.annotate(geneSetScores.iloc[2,0],[geneSetScores.iloc[2,3],geneSetScores.iloc[2,4]])\n",
    "plt.scatter(x2,y2,s,c=s)"
   ]
  },
  {
   "cell_type": "markdown",
   "metadata": {
    "colab_type": "text",
    "id": "HD1QmAtsUaew"
   },
   "source": [
    "So, we see that ‘Retinoblastoma (RB) in Cancer’ is in the top spot with a score way above the #2 position. Why might that be? Well, PARP1 is involved in DNA damage repair, specifically through the non-homologous endjoining (NHEJ) mechanism. Samples that are deficient in PARP1 are going to have a hard time repairing DNA breaks, which makes cancer more likely. So, RB1 might need to take up the slack, and indeed it’s known as a ‘tumor suppressor protein’: when DNA is damaged, the cell cycle needs to freeze, which happens to be one of RB1’s special tricks, and also probably why we see the next two top ranked pathways ‘DNA Replication’ and ‘Cell Cycle’.\n",
    "\n",
    "For more on this topic see:\n",
    "\n",
    "* Retinoblastoma (RB) in Cancer (Homo sapiens) ([Wiki pathway WP2446](https://www.wikipathways.org/index.php/Pathway:WP2446))\n",
    "* RB1 gene ([Wikipedia entry](https://en.wikipedia.org/wiki/Retinoblastoma_protein))\n",
    "* Direct involvement of retinoblastoma family proteins in DNA repair by non-homologous end-joining. ([Cook et al, 2015](https://www.ncbi.nlm.nih.gov/pubmed/25818292))"
   ]
  },
  {
   "cell_type": "markdown",
   "metadata": {
    "colab_type": "text",
    "id": "h-7WayKuWA56"
   },
   "source": [
    "The full query is written below and called upon with the BigQuery python magic command to ease the readablity of the SQL. It has been set not to run to save money by not running the same query a second time."
   ]
  },
  {
   "cell_type": "code",
   "execution_count": null,
   "metadata": {
    "colab": {},
    "colab_type": "code",
    "id": "FNoLYbA-WECt"
   },
   "outputs": [],
   "source": [
    "%%script false\n",
    "%%bigquery final_query --project your_project_number\n",
    "WITH\n",
    "s1 AS (\n",
    "  SELECT\n",
    "    sample_barcode_tumor AS sample_barcode\n",
    "  FROM\n",
    "    `isb-cgc.TCGA_hg38_data_v0.Somatic_Mutation_DR10`\n",
    "  WHERE\n",
    "    project_short_name = 'TCGA-UCEC'\n",
    "  GROUP BY\n",
    "    1\n",
    "),\n",
    "---\n",
    "sampleGroup AS (\n",
    "SELECT\n",
    "  sample_barcode\n",
    "FROM\n",
    "  `isb-cgc.TCGA_hg38_data_v0.RNAseq_Gene_Expression`\n",
    "WHERE\n",
    "  project_short_name = 'TCGA-UCEC'\n",
    "  AND sample_barcode IN\n",
    "  (select sample_barcode from s1)\n",
    "GROUP BY\n",
    "  1 \n",
    "),\n",
    "--\n",
    "-- The first group has non-synonymous mutations in PARP1\n",
    "--\n",
    "grp1 AS (\n",
    "SELECT\n",
    "  sample_barcode_tumor AS sample_barcode\n",
    "FROM\n",
    "  `isb-cgc.TCGA_hg38_data_v0.Somatic_Mutation_DR10`\n",
    "WHERE\n",
    "  Hugo_Symbol = 'PARP1'\n",
    "  AND One_Consequence <> 'synonymous_variant'\n",
    "  AND sample_barcode_tumor IN (\n",
    "    SELECT\n",
    "      sample_barcode\n",
    "    FROM\n",
    "      sampleGroup )\n",
    "  GROUP BY sample_barcode\n",
    "),\n",
    "--\n",
    "-- group 2 is the rest of the samples\n",
    "--\n",
    "grp2 AS (\n",
    "SELECT\n",
    "  sample_barcode\n",
    "FROM\n",
    "  sampleGroup\n",
    "WHERE\n",
    "  sample_barcode NOT IN (\n",
    "    SELECT\n",
    "      sample_barcode\n",
    "    FROM\n",
    "      grp1)\n",
    "),\n",
    "---\n",
    "-- Summaries for Group 1 (with mutation)\n",
    "--\n",
    "summaryGrp1 AS (\n",
    "  select\n",
    "    gene_name as symbol,\n",
    "    AVG(LOG10( HTSeq__FPKM_UQ +1)) as genemean,\n",
    "    VAR_SAMP(LOG10( HTSeq__FPKM_UQ +1)) as genevar,\n",
    "    count(sample_barcode) as genen\n",
    "  FROM\n",
    "    `isb-cgc.TCGA_hg38_data_v0.RNAseq_Gene_Expression`\n",
    "  WHERE\n",
    "    sample_barcode IN (select sample_barcode FROM grp1)\n",
    "    AND gene_name IN (\n",
    "      SELECT\n",
    "        Symbol as gene_name\n",
    "      FROM\n",
    "        `isb-cgc.QotM.WikiPathways_20170425_Annotated`\n",
    "    )\n",
    "  GROUP BY\n",
    "    gene_name\n",
    "),\n",
    "--\n",
    "-- Summaries for Group 2 (without mutation)\n",
    "--\n",
    "summaryGrp2 AS (\n",
    "  select\n",
    "    gene_name as symbol,\n",
    "    AVG(LOG10( HTSeq__FPKM_UQ +1)) as genemean,\n",
    "    VAR_SAMP(LOG10( HTSeq__FPKM_UQ +1)) as genevar,\n",
    "    count(sample_barcode) as genen\n",
    "  FROM\n",
    "    `isb-cgc.TCGA_hg38_data_v0.RNAseq_Gene_Expression`\n",
    "  WHERE\n",
    "    sample_barcode IN (select sample_barcode FROM grp2)\n",
    "    AND gene_name IN (\n",
    "      SELECT\n",
    "        Symbol as gene_name\n",
    "      FROM\n",
    "        `isb-cgc.QotM.WikiPathways_20170425_Annotated`\n",
    "    )\n",
    "  GROUP BY\n",
    "    gene_name\n",
    "),\n",
    "---\n",
    "tStatsPerGene AS (\n",
    "SELECT\n",
    "  grp1.symbol as symbol,\n",
    "  grp1.genen as grp1_n,\n",
    "  grp2.genen AS grp2_n,\n",
    "  grp1.genemean AS grp1_mean,\n",
    "  grp2.genemean AS grp2_mean,\n",
    "  grp1.genemean - grp2.genemean as meandiff,\n",
    "  IF ((grp1.genevar > 0\n",
    "       AND grp2.genevar > 0\n",
    "       AND grp1.genen > 0\n",
    "       AND grp2.genen > 0),\n",
    "    (grp1.genemean - grp2.genemean) / SQRT( (POW(grp1.genevar,2)/grp1.genen)+ (POW(grp2.genevar,2)/grp2.genen) ),\n",
    "    0.0) AS tstat\n",
    "FROM\n",
    "  summaryGrp1 as grp1\n",
    "  JOIN\n",
    "  summaryGrp2 AS grp2\n",
    "  ON\n",
    "  grp1.symbol = grp2.symbol\n",
    "GROUP BY\n",
    "  grp1.symbol,\n",
    "  grp1.genemean,\n",
    "  grp2.genemean,\n",
    "  grp1.genevar,\n",
    "  grp2.genevar,\n",
    "  grp1.genen,\n",
    "  grp2.genen\n",
    "),\n",
    "---\n",
    "geneSetTable AS (\n",
    "SELECT\n",
    "  gs.pathway,\n",
    "  gs.wikiID,\n",
    "  gs.Symbol,\n",
    "  st.grp1_n,\n",
    "  st.grp2_n,\n",
    "  st.grp1_mean,\n",
    "  st.grp2_mean,\n",
    "  st.meandiff,\n",
    "  st.tstat\n",
    "FROM\n",
    "  `isb-cgc.QotM.WikiPathways_20170425_Annotated` as gs\n",
    "JOIN\n",
    "  tStatsPerGene as st\n",
    "ON\n",
    "  st.symbol = gs.symbol\n",
    "GROUP BY\n",
    "  gs.pathway,\n",
    "  gs.wikiID,\n",
    "  gs.Symbol,\n",
    "  st.grp1_n,\n",
    "  st.grp2_n,\n",
    "  st.grp1_mean,\n",
    "  st.grp2_mean,\n",
    "  st.meandiff,\n",
    "  st.tstat\n",
    "),\n",
    "---\n",
    "geneSetScores AS (\n",
    "SELECT\n",
    "  pathway,\n",
    "  wikiID,\n",
    "  COUNT(symbol) AS n_genes,\n",
    "  AVG(ABS(meandiff)) AS avgAbsDiff,\n",
    "  (SQRT(COUNT(symbol))/COUNT(symbol)) * SUM(tstat) AS score\n",
    "FROM\n",
    "  geneSetTable\n",
    "GROUP BY\n",
    "  pathway,\n",
    "  wikiID )\n",
    "--\n",
    "--\n",
    "SELECT\n",
    "  *\n",
    "FROM\n",
    "  geneSetScores\n",
    "ORDER BY\n",
    "  score DESC"
   ]
  },
  {
   "cell_type": "code",
   "execution_count": null,
   "metadata": {
    "colab": {},
    "colab_type": "code",
    "id": "Oh9IMU24WXNZ"
   },
   "outputs": [],
   "source": [
    "%%script false\n",
    "final_query.head()"
   ]
  }
 ],
 "metadata": {
  "colab": {
   "collapsed_sections": [],
   "name": "Gene_Set_Scoring.ipynb",
   "provenance": [],
   "version": "0.3.2"
  },
  "kernelspec": {
   "display_name": "Python 3",
   "language": "python",
   "name": "python3"
  },
  "language_info": {
   "codemirror_mode": {
    "name": "ipython",
    "version": 3
   },
   "file_extension": ".py",
   "mimetype": "text/x-python",
   "name": "python",
   "nbconvert_exporter": "python",
   "pygments_lexer": "ipython3",
   "version": "3.7.3"
  }
 },
 "nbformat": 4,
 "nbformat_minor": 2
}
