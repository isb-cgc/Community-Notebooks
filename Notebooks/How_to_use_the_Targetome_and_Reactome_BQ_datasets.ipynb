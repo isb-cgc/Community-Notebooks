{
  "nbformat": 4,
  "nbformat_minor": 0,
  "metadata": {
    "colab": {
      "provenance": []
    },
    "kernelspec": {
      "name": "python3",
      "display_name": "Python 3"
    },
    "language_info": {
      "name": "python"
    }
  },
  "cells": [
    {
      "cell_type": "markdown",
      "metadata": {
        "id": "qgwv4lK5V8Zc"
      },
      "source": [
        "# How to use the Targetome and Reactome BigQuery datasets\n",
        "Check out other notebooks at our [Community Notebooks Repository](https://github.com/isb-cgc/Community-Notebooks)!\n",
        "\n",
        "- **Title:** How to use the Targetome and Reactome BigQuery datasets\n",
        "- **Author:** John Phan\n",
        "- **Created:** 2021-07-23\n",
        "- **Purpose:** Demonstrate basic usage of the Targetome and Reactome BigQuery datasets\n",
        "- **URL:** https://github.com/isb-cgc/Community-Notebooks/blob/master/Notebooks/How_to_use_the_Targetome_and_Reactome_BQ_datasets.ipynb\n",
        "\n",
        "This notebook demonstrates basic usage of the Targetome and Reactome BigQuery datasets. Joint analysis of these datasets can provide a powerful tool for identifying pathways affected by cancer drugs via known drug targets (i.e., genes or proteins).\n",
        "\n",
        "The Cancer Targetome dataset is a curation of cancer drug and target (e.g., protein, RNA, DNA) interactions, supported by either experimental or literature evidence. More information about the Targetome study can be found here: https://www.ncbi.nlm.nih.gov/pmc/articles/PMC5759325/. The original data can be found here: https://github.com/ablucher/The-Cancer-Targetome.\n",
        "\n",
        "The Reactome is an open-source, manually curated, and peer-reviewed pathway database. More information can be found here: https://reactome.org/."
      ]
    },
    {
      "cell_type": "markdown",
      "metadata": {
        "id": "1zVfEL8i8__O"
      },
      "source": [
        "# Initialize Notebook Environment\n",
        "\n",
        "Before running the analysis, we need to load depdnencies, authenticate to BigQuery, and customize notebook parameters."
      ]
    },
    {
      "cell_type": "markdown",
      "metadata": {
        "id": "TJmCyMPjNwjw"
      },
      "source": [
        "## Import Dependencies"
      ]
    },
    {
      "cell_type": "code",
      "metadata": {
        "id": "LNlADvO-gken"
      },
      "source": [
        "# GCP Libraries\n",
        "from google.cloud import bigquery\n",
        "from google.colab import auth\n",
        "\n",
        "# Data Analytics\n",
        "import numpy as np\n",
        "from scipy import stats\n",
        "\n",
        "# Visualization\n",
        "import matplotlib.pyplot as plt\n",
        "import matplotlib\n",
        "import seaborn as sns"
      ],
      "execution_count": null,
      "outputs": []
    },
    {
      "cell_type": "markdown",
      "metadata": {
        "id": "LBHnu8bZDEcE"
      },
      "source": [
        "## Authenticate\n",
        "\n",
        "Before using BigQuery, we need to get authorization for access to BigQuery and the Google Cloud. For more information see ['Quick Start Guide to ISB-CGC'](https://isb-cancer-genomics-cloud.readthedocs.io/en/latest/sections/HowToGetStartedonISB-CGC.html). Alternative authentication methods can be found [here](https://googleapis.dev/python/google-api-core/latest/auth.html).\n",
        "\n",
        "Alternatively, you can run this notebook in 'demo mode' using only a Google Account (i.e. a gmail account), not a billable Google Cloud Account. In 'demo mode', queries are sent to BigQuery via a CGC proxy, and a CGC account is charged for the queries. However the CGC proxy restricts which queries can be run, and the total amount of BigQuery processing volume (in GB) per user."
      ]
    },
    {
      "cell_type": "code",
      "metadata": {
        "id": "M6BEFHj2dd5a"
      },
      "source": [
        "demo_mode = True\n",
        "\n",
        "if demo_mode:\n",
        "    !wget -O collab_queries.py https://github.com/isb-cgc/Community-Notebooks/raw/refs/heads/master/BQProxy/collab_queries.py\n",
        "    from collab_queries import api_endpoint, demo_client_args, demo_job_config_arg\n",
        "else:\n",
        "    # if you're using Google Colab, authenticate to gcloud with the following\n",
        "    auth.authenticate_user()\n",
        "\n",
        "    # alternatively, use the gcloud SDK\n",
        "    #!gcloud auth application-default login"
      ],
      "execution_count": null,
      "outputs": []
    },
    {
      "cell_type": "markdown",
      "metadata": {
        "id": "RWuECMsRptWJ"
      },
      "source": [
        "## Parameters\n",
        "\n",
        "Customize the following parameters based on your notebook, execution environment, or project."
      ]
    },
    {
      "cell_type": "code",
      "metadata": {
        "id": "veP6gPatu2iW"
      },
      "source": [
        "if demo_mode:\n",
        "    google_project = \"isb-cgc-demo-server\"\n",
        "else:\n",
        "    # set the google project that will be billed for this notebook's computations\n",
        "    google_project = 'your-project-id-to-charge' ## Change me"
      ],
      "execution_count": null,
      "outputs": []
    },
    {
      "cell_type": "markdown",
      "metadata": {
        "id": "F6zTODbDq3g9"
      },
      "source": [
        "## BigQuery Client\n",
        "\n",
        "Create the BigQuery client."
      ]
    },
    {
      "cell_type": "code",
      "metadata": {
        "id": "HNkfSXedwzbC"
      },
      "source": [
        "# Create a client to access the data within BigQuery\n",
        "client_args = demo_client_args() if demo_mode else {}\n",
        "client = bigquery.Client(google_project, **client_args)\n"
      ],
      "execution_count": null,
      "outputs": []
    },
    {
      "cell_type": "markdown",
      "metadata": {
        "id": "5OCZiJyNOF4i"
      },
      "source": [
        "# Targetome Analysis"
      ]
    },
    {
      "cell_type": "markdown",
      "metadata": {
        "id": "i4jPuJnUYkju"
      },
      "source": [
        "## Identify Drugs Interacting w/ Target\n",
        "\n",
        "The following query identifies all cancer drugs that have been found to interact with a specific target. In this example, the target is MS4A1, a gene that encodes a member of the membrane-spanning 4A gene family. Each identified drug is also associated with a literature evidence, identified by its PubMed ID."
      ]
    },
    {
      "cell_type": "code",
      "metadata": {
        "id": "Q13ninrpb1hH"
      },
      "source": [
        "# set parameters for query\n",
        "target_name = 'MS4A1' # target for which we want to identify drugs\n",
        "# if using demo mode\n",
        "demo_query_params= [bigquery.ScalarQueryParameter(\"target_name\", \"STRING\", 'MS4A1')]\n",
        "job_config_arg =  demo_job_config_arg(query_id=\"tr1\", job_config=None, demo_query_params=demo_query_params) if demo_mode else {}"
      ],
      "execution_count": null,
      "outputs": []
    },
    {
      "cell_type": "code",
      "metadata": {
        "id": "WYKK8nT7Rzpa"
      },
      "source": [
        "# run query and put results in data frame\n",
        "drug_interactions = client.query((\"\"\"\n",
        "  SELECT\n",
        "    inter.targetName,\n",
        "    inter.drugName,\n",
        "    src.PubMedID\n",
        "\n",
        "  FROM\n",
        "    `isb-cgc-bq.targetome_versioned.interactions_v1` AS inter\n",
        "\n",
        "  INNER JOIN `isb-cgc-bq.targetome_versioned.sources_v1` AS src\n",
        "    -- link interactions to literature sources\n",
        "    ON inter.sourceID = src.sourceID\n",
        "\n",
        "  INNER JOIN `isb-cgc-bq.targetome_versioned.target_synonyms_v1` AS targsyn\n",
        "    -- filter for interactions that match target\n",
        "    ON inter.targetID = targsyn.targetID\n",
        "\n",
        "  WHERE\n",
        "    LOWER(targsyn.synonym) = LOWER('{target_name}')\n",
        "\n",
        "  ORDER BY drugName ASC\n",
        "\"\"\").format(\n",
        "    target_name=target_name\n",
        "), **job_config_arg).result().to_dataframe()"
      ],
      "execution_count": null,
      "outputs": []
    },
    {
      "cell_type": "code",
      "metadata": {
        "id": "XKmbMwbic2sN"
      },
      "source": [
        "# display result data frame\n",
        "drug_interactions"
      ],
      "execution_count": null,
      "outputs": []
    },
    {
      "cell_type": "markdown",
      "metadata": {
        "id": "nbxHgDDeBbA7"
      },
      "source": [
        "## Identify Interactions Supported by Experiments w/ Exact Binding Values\n",
        "\n",
        "As reported in Blucher et al. (https://www.ncbi.nlm.nih.gov/pmc/articles/PMC5759325/) Figure 2, Level III Exact interactions refer to interactions annotated with exact (“=”) binding values reported, rather than “<” or “>”. There are approximately 2000 of these interactions. The following query identifies these interactions."
      ]
    },
    {
      "cell_type": "code",
      "metadata": {
        "id": "kpYwsxrICHwd"
      },
      "source": [
        "# for demo_mode\n",
        "job_config_arg =  demo_job_config_arg(query_id=\"tr2\") if demo_mode else {}\n",
        "# run query and put results in data frame\n",
        "exact_interactions = client.query((\"\"\"\n",
        "  SELECT\n",
        "    DISTINCT\n",
        "      inter.interactionID,\n",
        "      inter.drugName,\n",
        "      inter.targetName\n",
        "\n",
        "  FROM\n",
        "    `isb-cgc-bq.targetome_versioned.interactions_v1` AS inter\n",
        "\n",
        "  INNER JOIN `isb-cgc-bq.targetome_versioned.experiments_v1` AS exp\n",
        "    -- filter for interactions with experiments\n",
        "    ON inter.expID = exp.expID\n",
        "\n",
        "  WHERE\n",
        "    -- filter for exact binding evidence\n",
        "    exp.exp_assayType IS NOT NULL\n",
        "    AND exp.exp_assayRelation = '='\n",
        "\n",
        "    -- filter for only human targets\n",
        "    AND inter.targetSpecies = 'Homo sapiens'\n",
        "\n",
        "  ORDER BY\n",
        "    targetName ASC,\n",
        "    drugName ASC\n",
        "\"\"\"), **job_config_arg).result().to_dataframe()"
      ],
      "execution_count": null,
      "outputs": []
    },
    {
      "cell_type": "code",
      "metadata": {
        "id": "-17ga4JskFIo"
      },
      "source": [
        "# display result data frame\n",
        "exact_interactions"
      ],
      "execution_count": null,
      "outputs": []
    },
    {
      "cell_type": "markdown",
      "metadata": {
        "id": "Z1Nr4RTDJbcY"
      },
      "source": [
        "## Experimental Evidence Supporting Target Binding for Imatinib\n",
        "\n",
        "The Cancer Targetome database can help identify drugs with strong interactions supported by experimental data. Blucher et al. highlight the drub imatinib, a protein kinase inhibitor, as an example. Imatinib is involved in 87 interactions supported by experimental binding evidence under 100nM. The following query identifies all 87 interactions."
      ]
    },
    {
      "cell_type": "code",
      "metadata": {
        "id": "4unk8cQ6oiVG"
      },
      "source": [
        "# set parameters for query\n",
        "drug_name = 'imatinib'\n",
        "# if using demo mode\n",
        "demo_query_params= [bigquery.ScalarQueryParameter(\"drug_name\", \"STRING\", drug_name)]\n",
        "job_config_arg =  demo_job_config_arg(query_id=\"tr3\", job_config=None, demo_query_params=demo_query_params) if demo_mode else {}"
      ],
      "execution_count": null,
      "outputs": []
    },
    {
      "cell_type": "code",
      "metadata": {
        "id": "0gKYgFLbJ1tj"
      },
      "source": [
        "# run query and put results in data frame\n",
        "drug_interactions = client.query((\"\"\"\n",
        " SELECT\n",
        "    DISTINCT\n",
        "      inter.* EXCEPT (sourceID),\n",
        "      exp.exp_assayType,\n",
        "      exp.exp_assayValueMedian\n",
        "\n",
        "  FROM\n",
        "    `isb-cgc-bq.targetome_versioned.interactions_v1` AS inter\n",
        "\n",
        "  INNER JOIN `isb-cgc-bq.targetome_versioned.experiments_v1` AS exp\n",
        "    -- filter for interactions with experimental evidence\n",
        "    ON inter.expID = exp.expID\n",
        "\n",
        "  INNER JOIN `isb-cgc-bq.targetome_versioned.drug_synonyms_v1` AS drugsyn\n",
        "    -- filter for interactions matching drug id\n",
        "    ON inter.drugID = drugsyn.drugID\n",
        "\n",
        "  WHERE\n",
        "    -- filter by drug name\n",
        "    LOWER(drugsyn.synonym) = LOWER('{drug_name}')\n",
        "\n",
        "    -- make sure that all assay ranges are at or below 100nM\n",
        "    AND exp.exp_assayValueMedian <= 100\n",
        "    AND (exp.exp_assayValueLow <= 100 OR exp.exp_assayValueLow is null)\n",
        "    AND (exp.exp_assayValueHigh <= 100 OR exp.exp_assayValueHigh is null)\n",
        "\n",
        "    -- make sure the assay type is known (KD, Ki, IC50, or EC50)\n",
        "    AND exp.exp_assayType IS NOT NULL\n",
        "    AND exp.exp_assayRelation = '='\n",
        "\n",
        "    -- limit to just experiments in humans\n",
        "    AND inter.targetSpecies = 'Homo sapiens'\n",
        "\n",
        "  ORDER BY inter.targetName ASC\n",
        "\"\"\").format(\n",
        "  drug_name=drug_name\n",
        "), **job_config_arg).result().to_dataframe()"
      ],
      "execution_count": null,
      "outputs": []
    },
    {
      "cell_type": "code",
      "metadata": {
        "id": "SFue9YfqpDtZ"
      },
      "source": [
        "# display result data frame\n",
        "drug_interactions"
      ],
      "execution_count": null,
      "outputs": []
    },
    {
      "cell_type": "markdown",
      "metadata": {
        "id": "0o1sbaAbSq6U"
      },
      "source": [
        "## Plot Histogram of Experimental Evidence for Imatinib Interactions\n",
        "\n",
        "Figure 3A in Blucher et al. breaks down the interactions for imatinib by assay type (KD, Ki, IC50, and EC50). We can see that ABL1, the canonical target for imatinib, has low nanomolar assay evidence for all four assay types."
      ]
    },
    {
      "cell_type": "code",
      "metadata": {
        "id": "hxck_lUkSz1b"
      },
      "source": [
        "# assign colors to each unique target to maintain\n",
        "# legend consistency across subplots\n",
        "sns_palette = sns.color_palette('husl', 14)\n",
        "colors = {\n",
        "  key: sns_palette[i] for i, key in enumerate(\n",
        "    drug_interactions['targetName'].unique()\n",
        "  )\n",
        "}\n",
        "\n",
        "# create a subplot with 4 rows and 1 column\n",
        "fig, axes = plt.subplots(4, 1, figsize=(10, 6))\n",
        "fig.tight_layout()\n",
        "\n",
        "# plot KD data\n",
        "KD_data = drug_interactions[\n",
        "  (drug_interactions['exp_assayType']=='KD')\n",
        "][['targetName', 'exp_assayValueMedian']]\n",
        "sns.histplot(\n",
        "  data=KD_data, ax=axes[0], x='exp_assayValueMedian', stat=\"count\",\n",
        "  hue='targetName', multiple=\"stack\", bins=np.arange(0, 101, 1),\n",
        "  palette=colors, element=\"bars\", legend=False\n",
        ")\n",
        "axes[0].set_xlabel('Binding Assay Value (nM), KD')\n",
        "axes[0].set_xlim([0,100])\n",
        "axes[0].set_ylim([0,6])\n",
        "\n",
        "# plot Ki data\n",
        "Ki_data = drug_interactions[\n",
        "  (drug_interactions['exp_assayType']=='Ki')\n",
        "][['targetName', 'exp_assayValueMedian']]\n",
        "sns.histplot(\n",
        "  data=Ki_data, ax=axes[1], x='exp_assayValueMedian', stat=\"count\",\n",
        "  hue='targetName', multiple=\"stack\", bins=np.arange(0, 101, 1),\n",
        "  palette=colors, element=\"bars\", legend=False\n",
        ")\n",
        "axes[1].set_xlabel('Binding Assay Value (nM), Ki')\n",
        "axes[1].set_xlim([0,100])\n",
        "axes[1].set_ylim([0,6])\n",
        "\n",
        "# plot IC50 data\n",
        "IC50_data = drug_interactions[\n",
        "  (drug_interactions['exp_assayType']=='IC50')\n",
        "][['targetName', 'exp_assayValueMedian']]\n",
        "sns.histplot(\n",
        "  data=IC50_data, ax=axes[2], x='exp_assayValueMedian', stat=\"count\",\n",
        "  hue='targetName', multiple=\"stack\", bins=np.arange(0, 101, 1),\n",
        "  palette=colors, element=\"bars\", legend=False\n",
        ")\n",
        "axes[2].set_xlabel('Binding Assay Value (nM), IC50')\n",
        "axes[2].set_xlim([0,100])\n",
        "axes[2].set_ylim([0,6])\n",
        "\n",
        "# plot EC50 data\n",
        "EC50_data = drug_interactions[\n",
        "  (drug_interactions['exp_assayType']=='EC50')\n",
        "][['targetName', 'exp_assayValueMedian']]\n",
        "sns.histplot(\n",
        "  data=EC50_data, ax=axes[3], x='exp_assayValueMedian', stat=\"count\",\n",
        "  hue='targetName', multiple=\"stack\", bins=np.arange(0, 101, 1),\n",
        "  palette=colors, element=\"bars\", legend=False\n",
        ")\n",
        "axes[3].set_xlabel('Binding Assay Value (nM), EC50')\n",
        "axes[3].set_xlim([0,100])\n",
        "axes[3].set_ylim([0,6])\n",
        "\n",
        "# create a shared legend for all 4 subplots\n",
        "patches = [\n",
        "  matplotlib.patches.Patch(color=colors[key], label=key) for key in colors\n",
        "]\n",
        "fig.legend(handles=patches, loc='center left', bbox_to_anchor=(1.05, 0.5))"
      ],
      "execution_count": null,
      "outputs": []
    },
    {
      "cell_type": "markdown",
      "metadata": {
        "id": "xqY0iJedOVv9"
      },
      "source": [
        "# Integrated Targetome and Reactome Analysis"
      ]
    },
    {
      "cell_type": "markdown",
      "metadata": {
        "id": "7kVZ88dU85Vs"
      },
      "source": [
        "## Identify all Reactome Pathways Targeted by Imatinib\n",
        "\n",
        "We can join tables from the Reactome BigQuery dataset to identy all pathways targeted by Imatinib. Targetome UniProt IDs map to Reactome \"physical entities\", which can then be mapped to Reactome pathways. We further filter the physical entity to pathway evidence codes to retain only interactions that have \"Traceable Author Statements\" (TAS) rather than just \"Inferred from Electronic Annotation\" (IEA) to avoid evidence that have not been manually curated."
      ]
    },
    {
      "cell_type": "code",
      "metadata": {
        "id": "933QxR4tTzFc"
      },
      "source": [
        "# set parameters for query\n",
        "drug_name = 'imatinib'\n",
        "# if using demo mode\n",
        "demo_query_params= [bigquery.ScalarQueryParameter(\"drug_name\", \"STRING\", drug_name)]\n",
        "job_config_arg =  demo_job_config_arg(query_id=\"tr4\", job_config=None, demo_query_params=demo_query_params) if demo_mode else {}"
      ],
      "execution_count": null,
      "outputs": []
    },
    {
      "cell_type": "code",
      "metadata": {
        "id": "ZwJGDXql9j6P"
      },
      "source": [
        "# run query and put results in data frame\n",
        "drug_pathways = client.query((\"\"\"\n",
        "  SELECT\n",
        "    DISTINCT pathway.*\n",
        "\n",
        "  FROM\n",
        "    `isb-cgc-bq.reactome_versioned.pathway_v77` as pathway\n",
        "\n",
        "  INNER JOIN `isb-cgc-bq.reactome_versioned.pe_to_pathway_v77` as pe2pathway\n",
        "    -- link pathways to physical entities via intermediate table\n",
        "    ON pathway.stable_id = pe2pathway.pathway_stable_id\n",
        "\n",
        "  INNER JOIN `isb-cgc-bq.reactome_versioned.physical_entity_v77` AS pe\n",
        "    -- link pathways to physical entities\n",
        "    ON pe2pathway.pe_stable_id = pe.stable_id\n",
        "\n",
        "  INNER JOIN `isb-cgc-bq.targetome_versioned.interactions_v1` AS inter\n",
        "    -- link physical entities to interactions\n",
        "    ON pe.uniprot_id = inter.target_uniprotID\n",
        "\n",
        "  INNER JOIN `isb-cgc-bq.targetome_versioned.experiments_v1` AS exp\n",
        "    -- link interactions to experiments\n",
        "    ON inter.expID = exp.expID\n",
        "\n",
        "  INNER JOIN `isb-cgc-bq.targetome_versioned.drug_synonyms_v1` AS drugsyn\n",
        "    -- filter for interactions matching drug id\n",
        "    ON inter.drugID = drugsyn.drugID\n",
        "\n",
        "  WHERE\n",
        "    -- filter by drug name\n",
        "    LOWER(drugsyn.synonym) = LOWER('{drug_name}')\n",
        "\n",
        "    -- make sure that all assay ranges are at or below 100nM\n",
        "    AND exp.exp_assayValueMedian <= 100\n",
        "    AND (exp.exp_assayValueLow <= 100 OR exp.exp_assayValueLow is null)\n",
        "    AND (exp.exp_assayValueHigh <= 100 OR exp.exp_assayValueHigh is null)\n",
        "\n",
        "    -- make sure the assay type is known (KD, Ki, IC50, or EC50)\n",
        "    AND exp.exp_assayType IS NOT NULL\n",
        "    AND exp.exp_assayRelation = '='\n",
        "\n",
        "    -- limit to just experiments in humans\n",
        "    AND inter.targetSpecies = 'Homo sapiens'\n",
        "\n",
        "    -- filter by stronger evidence: \"Traceable Author Statement\"\n",
        "    AND pe2pathway.evidence_code = 'TAS'\n",
        "  ORDER BY pathway.name ASC\n",
        "\"\"\").format(\n",
        "  drug_name=drug_name\n",
        "), **job_config_arg).result().to_dataframe()"
      ],
      "execution_count": null,
      "outputs": []
    },
    {
      "cell_type": "code",
      "metadata": {
        "id": "khdvl_xPWWxM"
      },
      "source": [
        "# display result data frame\n",
        "drug_pathways"
      ],
      "execution_count": null,
      "outputs": []
    },
    {
      "cell_type": "markdown",
      "metadata": {
        "id": "4IT_WO6PO0bH"
      },
      "source": [
        "If we're only interested in the lowest level pathways, i.e., pathways that are not parents of other pathways in the hierarchy, we can filter by the \"lowest_level\" field in the pathways table."
      ]
    },
    {
      "cell_type": "code",
      "metadata": {
        "id": "IQcGozM6OzpW"
      },
      "source": [
        "# if using demo mode\n",
        "demo_query_params= [bigquery.ScalarQueryParameter(\"drug_name\", \"STRING\", drug_name), bigquery.ArrayQueryParameter(\"lowest_level\", \"BOOL\", [True]) ]\n",
        "job_config_arg =  demo_job_config_arg(query_id=\"tr5\", job_config=None, demo_query_params=demo_query_params) if demo_mode else {}\n",
        "# run query and put results in data frame\n",
        "drug_lowest_pathways = client.query((\"\"\"\n",
        "  SELECT\n",
        "    DISTINCT pathway.*\n",
        "\n",
        "  FROM\n",
        "    `isb-cgc-bq.reactome_versioned.pathway_v77` as pathway\n",
        "\n",
        "  INNER JOIN `isb-cgc-bq.reactome_versioned.pe_to_pathway_v77` as pe2pathway\n",
        "    -- link pathways to physical entities via intermediate table\n",
        "    ON pathway.stable_id = pe2pathway.pathway_stable_id\n",
        "\n",
        "  INNER JOIN `isb-cgc-bq.reactome_versioned.physical_entity_v77` AS pe\n",
        "    -- link pathways to physical entities\n",
        "    ON pe2pathway.pe_stable_id = pe.stable_id\n",
        "\n",
        "  INNER JOIN `isb-cgc-bq.targetome_versioned.interactions_v1` AS inter\n",
        "    -- link physical entities to interactions\n",
        "    ON pe.uniprot_id = inter.target_uniprotID\n",
        "\n",
        "  INNER JOIN `isb-cgc-bq.targetome_versioned.experiments_v1` AS exp\n",
        "    -- link interactions to experiments\n",
        "    ON inter.expID = exp.expID\n",
        "\n",
        "  INNER JOIN `isb-cgc-bq.targetome_versioned.drug_synonyms_v1` AS drugsyn\n",
        "    -- filter for interactions matching drug id\n",
        "    ON inter.drugID = drugsyn.drugID\n",
        "\n",
        "  WHERE\n",
        "    -- filter by drug name\n",
        "    LOWER(drugsyn.synonym) = LOWER('{drug_name}')\n",
        "\n",
        "    -- make sure that all assay ranges are at or below 100nM\n",
        "    AND exp.exp_assayValueMedian <= 100\n",
        "    AND (exp.exp_assayValueLow <= 100 OR exp.exp_assayValueLow is null)\n",
        "    AND (exp.exp_assayValueHigh <= 100 OR exp.exp_assayValueHigh is null)\n",
        "\n",
        "    -- make sure the assay type is known (KD, Ki, IC50, or EC50)\n",
        "    AND exp.exp_assayType IS NOT NULL\n",
        "    AND exp.exp_assayRelation = '='\n",
        "\n",
        "    -- limit to just experiments in humans\n",
        "    AND inter.targetSpecies = 'Homo sapiens'\n",
        "\n",
        "    -- filter by stronger evidence: \"Traceable Author Statement\"\n",
        "    AND pe2pathway.evidence_code = 'TAS'\n",
        "\n",
        "    -- filter to include just lowest level pathways\n",
        "    AND pathway.lowest_level = TRUE\n",
        "  ORDER BY pathway.name ASC\n",
        "\"\"\").format(\n",
        "  drug_name=drug_name\n",
        "), **job_config_arg).result().to_dataframe()"
      ],
      "execution_count": null,
      "outputs": []
    },
    {
      "cell_type": "code",
      "metadata": {
        "id": "q5bZg8w6Pn7Q"
      },
      "source": [
        "# display data frame\n",
        "drug_lowest_pathways"
      ],
      "execution_count": null,
      "outputs": []
    },
    {
      "cell_type": "markdown",
      "metadata": {
        "id": "ybqSP2aVNE99"
      },
      "source": [
        "## Pathway Enrichment Analysis\n",
        "We can identify pathways that are \"enriched\" with the targets associated with a particular drug. In other words, we can answer the question: given a set of targets for a drug, which pathways contain those targets at a frequency higher than random chance? By calculating the probability that a number of target genes are contained in each pathway, we can identify pathways most likely to be targeted by the drug.\n",
        "\n",
        "To do this, we can use a **chi-squared** test to determine if there is a statistically significant difference between the expected frequency of targets in a pathway compared to the observed frequency.\n"
      ]
    },
    {
      "cell_type": "code",
      "metadata": {
        "id": "sKLy2sxQNIu6"
      },
      "source": [
        "# set query parameters\n",
        "drug_name = 'sorafenib'\n",
        "lowest_level = True # only show pathways at the lowest level"
      ],
      "execution_count": null,
      "outputs": []
    },
    {
      "cell_type": "markdown",
      "metadata": {
        "id": "jDdXWbOHa32V"
      },
      "source": [
        "### Construct SQL Query\n",
        "\n",
        "A single query can be used to calculate the chi-squared statistic for all pathways. This query is rather lengthy, but can be broken up into a series of sub-queries to create temporary tables. We step through each query below.\n",
        "\n",
        "First, we write a query that simply gets a list of all targets of the drug:  "
      ]
    },
    {
      "cell_type": "code",
      "metadata": {
        "id": "r3NeGvfMbgBp"
      },
      "source": [
        "target_list_query = \"\"\"\n",
        "  -- Table that contains a list of all distinct targets of the drug\n",
        "  SELECT\n",
        "    DISTINCT inter.target_uniprotID\n",
        "\n",
        "  FROM\n",
        "    `isb-cgc-bq.targetome_versioned.interactions_v1` AS inter\n",
        "\n",
        "  INNER JOIN `isb-cgc-bq.targetome_versioned.drug_synonyms_v1` AS drugsyn\n",
        "    -- filter for interactions matching drug id\n",
        "    ON inter.drugID = drugsyn.drugID\n",
        "\n",
        "  INNER JOIN `isb-cgc-bq.targetome_versioned.experiments_v1` AS exp\n",
        "    -- filter for interactions with experimental evidence\n",
        "    ON inter.expID = exp.expID\n",
        "\n",
        "  INNER JOIN `isb-cgc-bq.reactome_versioned.physical_entity_v77` AS pe\n",
        "    -- filter for interactions with targets that match a reactome\n",
        "    -- physical entity\n",
        "    ON inter.target_uniprotID = pe.uniprot_id\n",
        "\n",
        "  WHERE\n",
        "    -- filter by drug name\n",
        "    LOWER(drugsyn.synonym) = LOWER('{drug_name}')\n",
        "\n",
        "    -- make sure that all assay ranges are at or below 100nM\n",
        "    AND exp.exp_assayValueMedian <= 100\n",
        "    AND (exp.exp_assayValueLow <= 100 OR exp.exp_assayValueLow is null)\n",
        "    AND (exp.exp_assayValueHigh <= 100 OR exp.exp_assayValueHigh is null)\n",
        "\n",
        "    -- make sure the assay type is known (KD, Ki, IC50, or EC50)\n",
        "    AND exp.exp_assayType IS NOT NULL\n",
        "    AND exp.exp_assayRelation = '='\n",
        "\n",
        "    -- limit to just experiments in humans\n",
        "    AND inter.targetSpecies = 'Homo sapiens'\n",
        "\"\"\".format(\n",
        "  drug_name=drug_name\n",
        ").strip(\"\\n\")"
      ],
      "execution_count": null,
      "outputs": []
    },
    {
      "cell_type": "code",
      "metadata": {
        "id": "wTVNQFJjgQ1y"
      },
      "source": [
        "print(target_list_query)"
      ],
      "execution_count": null,
      "outputs": []
    },
    {
      "cell_type": "markdown",
      "metadata": {
        "id": "bY4QCtDfgwBq"
      },
      "source": [
        "We then create a query that counts all targets associated with each Reactome pathway. This query depends on the previous \"target_list_query\" sub-query."
      ]
    },
    {
      "cell_type": "code",
      "metadata": {
        "id": "H_3xAQdjhJ9s"
      },
      "source": [
        "target_pp_query = \"\"\"\n",
        "  -- Table that maps pathways to the total number of drug targets within that pathway\n",
        "  SELECT\n",
        "    COUNT(DISTINCT target_list_query.target_uniprotID) as num_targets,\n",
        "    pathway.stable_id,\n",
        "    pathway.name\n",
        "\n",
        "  FROM\n",
        "    target_list_query\n",
        "\n",
        "  INNER JOIN `isb-cgc-bq.reactome_versioned.physical_entity_v77` AS pe\n",
        "    -- filter for interactions with targets that match a reactome\n",
        "    -- physical entity\n",
        "    ON target_list_query.target_uniprotID = pe.uniprot_id\n",
        "\n",
        "  INNER JOIN `isb-cgc-bq.reactome_versioned.pe_to_pathway_v77` AS pe2pathway\n",
        "    -- link physical entities to pathways via intermediate table\n",
        "    ON pe.stable_id = pe2pathway.pe_stable_id\n",
        "\n",
        "  INNER JOIN `isb-cgc-bq.reactome_versioned.pathway_v77` AS pathway\n",
        "    -- link physical entities to pathways\n",
        "    ON pe2pathway.pathway_stable_id = pathway.stable_id\n",
        "\n",
        "  WHERE\n",
        "    -- filter by stronger evidence: \"Traceable Author Statement\"\n",
        "    pe2pathway.evidence_code = 'TAS'\n",
        "\n",
        "  GROUP BY pathway.stable_id, pathway.name\n",
        "  ORDER BY num_targets DESC\n",
        "\"\"\".format(\n",
        "  drug_name=drug_name\n",
        ").strip(\"\\n\")"
      ],
      "execution_count": null,
      "outputs": []
    },
    {
      "cell_type": "code",
      "metadata": {
        "id": "v29oHYEukrzy"
      },
      "source": [
        "print(target_pp_query)"
      ],
      "execution_count": null,
      "outputs": []
    },
    {
      "cell_type": "markdown",
      "metadata": {
        "id": "_XXiAJZUlBxC"
      },
      "source": [
        "Now we construct the same queries for proteins that are NOT targets of the drug. These are prefixed with \"not_target\". This query depends on the \"target_list_query\" sub-query."
      ]
    },
    {
      "cell_type": "code",
      "metadata": {
        "id": "1KyR-_WqlVVn"
      },
      "source": [
        "not_target_list_query = \"\"\"\n",
        "  -- Table that contains a list of all proteins that are NOT targets of the drug\n",
        "  -- This query depends on \"target_list_query\", which is created by a previous\n",
        "  -- query.\n",
        "  SELECT\n",
        "    DISTINCT inter.target_uniprotID AS target_uniprotID\n",
        "\n",
        "  FROM `isb-cgc-bq.targetome_versioned.interactions_v1` AS inter\n",
        "\n",
        "  WHERE\n",
        "    inter.targetSpecies = 'Homo sapiens'\n",
        "\n",
        "    AND inter.target_uniprotID NOT IN (\n",
        "      SELECT target_uniprotID FROM target_list_query\n",
        "    )\n",
        "\"\"\".strip(\"\\n\")"
      ],
      "execution_count": null,
      "outputs": []
    },
    {
      "cell_type": "code",
      "metadata": {
        "id": "92MaTzsAn3es"
      },
      "source": [
        "print(not_target_list_query)"
      ],
      "execution_count": null,
      "outputs": []
    },
    {
      "cell_type": "code",
      "metadata": {
        "id": "mI1SxkGtn-ow"
      },
      "source": [
        "not_target_pp_query = \"\"\"\n",
        "  -- Table that maps pathways to the number of proteins that are NOT drug\n",
        "  -- targets in that pathway.\n",
        "  SELECT\n",
        "    COUNT(DISTINCT not_target_list_query.target_uniprotID) AS num_not_targets,\n",
        "    pathway.stable_id,\n",
        "    pathway.name\n",
        "\n",
        "  FROM not_target_list_query\n",
        "\n",
        "  INNER JOIN `isb-cgc-bq.reactome_versioned.physical_entity_v77` AS pe\n",
        "    ON not_target_list_query.target_uniprotID = pe.uniprot_id\n",
        "\n",
        "  INNER JOIN `isb-cgc-bq.reactome_versioned.pe_to_pathway_v77` AS pe2pathway\n",
        "    ON pe.stable_id = pe2pathway.pe_stable_id\n",
        "\n",
        "  INNER JOIN `isb-cgc-bq.reactome_versioned.pathway_v77` AS pathway\n",
        "    ON pe2pathway.pathway_stable_id = pathway.stable_id\n",
        "\n",
        "  WHERE\n",
        "    -- filter by stronger evidence: \"Traceable Author Statement\"\n",
        "    pe2pathway.evidence_code = 'TAS'\n",
        "\n",
        "  GROUP BY pathway.stable_id, pathway.name\n",
        "  ORDER BY num_not_targets DESC\n",
        "\"\"\".strip(\"\\n\")"
      ],
      "execution_count": null,
      "outputs": []
    },
    {
      "cell_type": "code",
      "metadata": {
        "id": "TgY33Z3ukByC"
      },
      "source": [
        "print(not_target_pp_query)"
      ],
      "execution_count": null,
      "outputs": []
    },
    {
      "cell_type": "markdown",
      "metadata": {
        "id": "Z2eN5_UfVgcX"
      },
      "source": [
        "For convenience, we create a sub-query to keep the counts of the number of proteins that are targets and the number of proteins that are not targets."
      ]
    },
    {
      "cell_type": "code",
      "metadata": {
        "id": "VAYDIHsdWLFA"
      },
      "source": [
        "target_count_query = \"\"\"\n",
        "  -- Table that contains the counts of # of proteins that are/are not targets\n",
        "  SELECT\n",
        "    target_count,\n",
        "    not_target_count,\n",
        "    target_count + not_target_count AS total_count\n",
        "\n",
        "  FROM\n",
        "    (SELECT COUNT(*) AS target_count FROM target_list_query),\n",
        "    (SELECT COUNT(*) AS not_target_count FROM not_target_list_query)\n",
        "\"\"\".strip(\"\\n\")"
      ],
      "execution_count": null,
      "outputs": []
    },
    {
      "cell_type": "markdown",
      "metadata": {
        "id": "qrt8DcUraJm3"
      },
      "source": [
        "Now we can create more interesting queries for the contingency matrices that contain the observed and expected values.\n",
        "\n",
        "First, the observed contingency table counts for each pathway:"
      ]
    },
    {
      "cell_type": "code",
      "metadata": {
        "id": "8Dc-wMSZakad"
      },
      "source": [
        "observed_query = \"\"\"\n",
        "  -- Table with observed values per pathway in the contingency matrix\n",
        "  SELECT\n",
        "    target_pp_query.num_targets AS in_target_in_pathway,\n",
        "    not_target_pp_query.num_not_targets AS not_target_in_pathway,\n",
        "    target_count_query.target_count - target_pp_query.num_targets AS in_target_not_pathway,\n",
        "    target_count_query.not_target_count - not_target_pp_query.num_not_targets AS not_target_not_pathway,\n",
        "    target_pp_query.stable_id,\n",
        "    target_pp_query.name\n",
        "\n",
        "  FROM\n",
        "    target_pp_query,\n",
        "    target_count_query\n",
        "\n",
        "  INNER JOIN not_target_pp_query\n",
        "    ON target_pp_query.stable_id = not_target_pp_query.stable_id\n",
        "\"\"\".strip(\"\\n\")"
      ],
      "execution_count": null,
      "outputs": []
    },
    {
      "cell_type": "markdown",
      "metadata": {
        "id": "STbl3Toxcq7B"
      },
      "source": [
        "Then the observed row and column sums of the contingency table:"
      ]
    },
    {
      "cell_type": "code",
      "metadata": {
        "id": "4kXNQ4SRcmPK"
      },
      "source": [
        "sum_query = \"\"\"\n",
        "  -- Table with summed observed values per pathway in the contingency matrix\n",
        "  SELECT\n",
        "    observed_query.in_target_in_pathway + observed_query.not_target_in_pathway AS pathway_total,\n",
        "    observed_query.in_target_not_pathway + observed_query.not_target_not_pathway AS not_pathway_total,\n",
        "    observed_query.in_target_in_pathway + observed_query.in_target_not_pathway AS target_total,\n",
        "    observed_query.not_target_in_pathway + observed_query.not_target_not_pathway AS not_target_total,\n",
        "    observed_query.stable_id,\n",
        "    observed_query.name\n",
        "\n",
        "  FROM\n",
        "    observed_query\n",
        "\"\"\".strip(\"\\n\")"
      ],
      "execution_count": null,
      "outputs": []
    },
    {
      "cell_type": "markdown",
      "metadata": {
        "id": "6HiQlxAudQEk"
      },
      "source": [
        "And the expected contingency table values for each pathway:"
      ]
    },
    {
      "cell_type": "code",
      "metadata": {
        "id": "V0Rj098QdWe6"
      },
      "source": [
        "expected_query = \"\"\"\n",
        "  -- Table with the expected values per pathway in the contingency matrix\n",
        "  SELECT\n",
        "    sum_query.target_total * sum_query.pathway_total / target_count_query.total_count AS exp_in_target_in_pathway,\n",
        "    sum_query.not_target_total * sum_query.pathway_total / target_count_query.total_count AS exp_not_target_in_pathway,\n",
        "    sum_query.target_total * sum_query.not_pathway_total / target_count_query.total_count AS exp_in_target_not_pathway,\n",
        "    sum_query.not_target_total * sum_query.not_pathway_total / target_count_query.total_count AS exp_not_target_not_pathway,\n",
        "    sum_query.stable_id,\n",
        "    sum_query.name\n",
        "\n",
        "  FROM\n",
        "    sum_query, target_count_query\n",
        "\"\"\".strip(\"\\n\")"
      ],
      "execution_count": null,
      "outputs": []
    },
    {
      "cell_type": "markdown",
      "metadata": {
        "id": "wC57CDA6d_4H"
      },
      "source": [
        "Finally, we can calculate the chi-squared statistic for each pathway:"
      ]
    },
    {
      "cell_type": "code",
      "metadata": {
        "id": "kxlrSyiTd_Ia"
      },
      "source": [
        "chi_squared_query = \"\"\"\n",
        "  -- Table with the chi-squared statistic for each pathway\n",
        "  SELECT\n",
        "    -- Chi squared statistic with Yates' correction\n",
        "    POW(ABS(observed_query.in_target_in_pathway - expected_query.exp_in_target_in_pathway) - 0.5, 2) / expected_query.exp_in_target_in_pathway\n",
        "    + POW(ABS(observed_query.not_target_in_pathway - expected_query.exp_not_target_in_pathway) - 0.5, 2) / expected_query.exp_not_target_in_pathway\n",
        "    + POW(ABS(observed_query.in_target_not_pathway - expected_query.exp_in_target_not_pathway) - 0.5, 2) / expected_query.exp_in_target_not_pathway\n",
        "    + POW(ABS(observed_query.not_target_not_pathway - expected_query.exp_not_target_not_pathway) - 0.5, 2) / expected_query.exp_not_target_not_pathway\n",
        "    AS chi_squared_stat,\n",
        "    observed_query.stable_id,\n",
        "    observed_query.name\n",
        "\n",
        "  FROM observed_query\n",
        "\n",
        "  INNER JOIN expected_query\n",
        "    ON observed_query.stable_id = expected_query.stable_id\n",
        "\"\"\".strip(\"\\n\")"
      ],
      "execution_count": null,
      "outputs": []
    },
    {
      "cell_type": "markdown",
      "metadata": {
        "id": "lTRfNbLKuarY"
      },
      "source": [
        "The final query optionally adds a filter that removes all pathways that are not at the lowest level of the hierarchy. This helps remove non-specific \"pathways\" such as the generic \"Disease\" pathway."
      ]
    },
    {
      "cell_type": "code",
      "metadata": {
        "id": "IBpHKWxjvCSx"
      },
      "source": [
        "lowest_level_filter = \"\"\"\n",
        "  INNER JOIN `isb-cgc-bq.reactome_versioned.pathway_v77` AS pathway\n",
        "    ON chi_squared_query.stable_id = pathway.stable_id\n",
        "\n",
        "  WHERE pathway.lowest_level = TRUE\n",
        "\"\"\".strip(\"\\n\")"
      ],
      "execution_count": null,
      "outputs": []
    },
    {
      "cell_type": "code",
      "metadata": {
        "id": "V_Qx1J2IvrBT"
      },
      "source": [
        "print(lowest_level_filter)"
      ],
      "execution_count": null,
      "outputs": []
    },
    {
      "cell_type": "markdown",
      "metadata": {
        "id": "QsJQyREafSZE"
      },
      "source": [
        "Now we can combine all sub-queries into the final query:"
      ]
    },
    {
      "cell_type": "code",
      "metadata": {
        "id": "dOXXXAmkfcnb"
      },
      "source": [
        "final_query = \"\"\"\n",
        "  WITH\n",
        "    target_list_query AS (\n",
        "      {target_list_query}\n",
        "    ),\n",
        "\n",
        "    target_pp_query AS (\n",
        "      {target_pp_query}\n",
        "    ),\n",
        "\n",
        "    not_target_list_query AS (\n",
        "      {not_target_list_query}\n",
        "    ),\n",
        "\n",
        "    not_target_pp_query AS (\n",
        "      {not_target_pp_query}\n",
        "    ),\n",
        "\n",
        "    target_count_query AS (\n",
        "      {target_count_query}\n",
        "    ),\n",
        "\n",
        "    observed_query AS (\n",
        "      {observed_query}\n",
        "    ),\n",
        "\n",
        "    sum_query AS (\n",
        "      {sum_query}\n",
        "    ),\n",
        "\n",
        "    expected_query AS (\n",
        "      {expected_query}\n",
        "    ),\n",
        "\n",
        "    chi_squared_query AS (\n",
        "      {chi_squared_query}\n",
        "    )\n",
        "\n",
        "  SELECT\n",
        "    observed_query.in_target_in_pathway,\n",
        "    observed_query.in_target_not_pathway,\n",
        "    observed_query.not_target_in_pathway,\n",
        "    observed_query.not_target_not_pathway,\n",
        "    chi_squared_query.chi_squared_stat,\n",
        "    chi_squared_query.stable_id,\n",
        "    chi_squared_query.name\n",
        "\n",
        "  FROM chi_squared_query\n",
        "\n",
        "  INNER JOIN observed_query\n",
        "    ON chi_squared_query.stable_id = observed_query.stable_id\n",
        "  {lowest_level_filter}\n",
        "  ORDER BY chi_squared_stat DESC\n",
        "\"\"\".format(\n",
        "  # make final query a little easier to read by removing/adding some white space\n",
        "  target_list_query=\"\\n    \".join(target_list_query.strip().splitlines()),\n",
        "  target_pp_query=\"\\n    \".join(target_pp_query.strip().splitlines()),\n",
        "  not_target_list_query=\"\\n    \".join(not_target_list_query.strip().splitlines()),\n",
        "  not_target_pp_query=\"\\n    \".join(not_target_pp_query.strip().splitlines()),\n",
        "  target_count_query=\"\\n    \".join(target_count_query.strip().splitlines()),\n",
        "  observed_query=\"\\n    \".join(observed_query.strip().splitlines()),\n",
        "  sum_query=\"\\n    \".join(sum_query.strip().splitlines()),\n",
        "  expected_query=\"\\n    \".join(expected_query.strip().splitlines()),\n",
        "  chi_squared_query=\"\\n    \".join(chi_squared_query.strip().splitlines()),\n",
        "  lowest_level_filter=(\n",
        "    \"\\n  \"+\"\\n\".join(lowest_level_filter.strip().splitlines())+\"\\n\" if lowest_level else \"\"\n",
        "  )\n",
        ").strip(\"\\n\")"
      ],
      "execution_count": null,
      "outputs": []
    },
    {
      "cell_type": "markdown",
      "metadata": {
        "id": "fSUidOyTOwMu"
      },
      "source": [
        "### Display Final Query"
      ]
    },
    {
      "cell_type": "code",
      "metadata": {
        "id": "MfitLyzmgq_P"
      },
      "source": [
        "# print the formatted final query\n",
        "print(final_query)"
      ],
      "execution_count": null,
      "outputs": []
    },
    {
      "cell_type": "markdown",
      "metadata": {
        "id": "Fjkbq4FR19in"
      },
      "source": [
        "### Execute the Query\n",
        "\n",
        "Now execute the query to calculate a chi-squared statistic for each pathway:"
      ]
    },
    {
      "cell_type": "code",
      "metadata": {
        "id": "Ua5oYRFY1aVu"
      },
      "source": [
        "# if using demo mode\n",
        "ll_param = [True] if lowest_level else [True, False, None]\n",
        "demo_query_params= [bigquery.ScalarQueryParameter(\"drug_name\", \"STRING\", drug_name), bigquery.ArrayQueryParameter(\"lowest_level\", \"BOOL\", ll_param)]\n",
        "job_config_arg =  demo_job_config_arg(query_id=\"tr6\", job_config=None, demo_query_params=demo_query_params) if demo_mode else {}\n",
        "# run query and put results in data frame\n",
        "\n",
        "chi_squared_pathways = client.query(final_query, **job_config_arg).result().to_dataframe()"
      ],
      "execution_count": null,
      "outputs": []
    },
    {
      "cell_type": "code",
      "metadata": {
        "id": "9Yt-GatY2awc"
      },
      "source": [
        "# display the data frame\n",
        "chi_squared_pathways"
      ],
      "execution_count": null,
      "outputs": []
    },
    {
      "cell_type": "markdown",
      "metadata": {
        "id": "qM42ztRJDgbM"
      },
      "source": [
        "### Calculate P-Values\n",
        "\n",
        "BigQuery does not have statistical functions to calculate p-values, so we use the SciPy stats library and update the data frame with a new p-value column:"
      ]
    },
    {
      "cell_type": "code",
      "metadata": {
        "id": "Beim_ePN2cs7"
      },
      "source": [
        "chi_squared_pathways['p_value'] = 1-stats.chi2.cdf(chi_squared_pathways['chi_squared_stat'], 1)\n",
        "chi_squared_pathways"
      ],
      "execution_count": null,
      "outputs": []
    },
    {
      "cell_type": "markdown",
      "metadata": {
        "id": "TqPYE1JZDq5L"
      },
      "source": [
        "### Adjust for Multiple Testing\n",
        "\n",
        "Since we're testing multiple pathways, we need to adjust the p-value threshold for significance accordingly. The number of pathways tested depends on whether or not we're considering all pathways, or just the lowest level pathways. That count can be obtained with the following query."
      ]
    },
    {
      "cell_type": "code",
      "metadata": {
        "id": "7KziIxfED8kB"
      },
      "source": [
        "# if using demo mode\n",
        "ll_param = [True] if lowest_level else [True, False, None]\n",
        "demo_query_params= [bigquery.ArrayQueryParameter(\"lowest_level\", \"BOOL\", ll_param)]\n",
        "job_config_arg =  demo_job_config_arg(query_id=\"tr7\", job_config=None, demo_query_params=demo_query_params) if demo_mode else {}\n",
        "# run query and put results in data frame\n",
        "num_pathways_result = client.query((\"\"\"\n",
        "  SELECT\n",
        "    COUNT (*) AS num_pathways\n",
        "  FROM\n",
        "    `isb-cgc-bq.reactome_versioned.pathway_v77` as pathway\n",
        "  {lowest_level_filter}\n",
        "\"\"\").format(\n",
        "  lowest_level_filter=(\"WHERE lowest_level = TRUE\" if lowest_level else \"\")\n",
        "), **job_config_arg).result().to_dataframe()"
      ],
      "execution_count": null,
      "outputs": []
    },
    {
      "cell_type": "code",
      "source": [
        "print(\"\"\"\n",
        "  SELECT\n",
        "    COUNT (*) AS num_pathways\n",
        "  FROM\n",
        "    `isb-cgc-bq.reactome_versioned.pathway_v77` as pathway\n",
        "  {lowest_level_filter}\n",
        "\"\"\").format(\n",
        "  lowest_level_filter=(\"WHERE lowest_level = TRUE\" if lowest_level else \"\"))"
      ],
      "metadata": {
        "id": "fY8Zo5604xtg"
      },
      "execution_count": null,
      "outputs": []
    },
    {
      "cell_type": "code",
      "metadata": {
        "id": "E_7ncwlOEmuG"
      },
      "source": [
        "# display data frame\n",
        "num_pathways_result"
      ],
      "execution_count": null,
      "outputs": []
    },
    {
      "cell_type": "code",
      "metadata": {
        "id": "7B9__TlA4M9u"
      },
      "source": [
        "# adjust significance threshold for multiple testing, using a p-value of 0.01\n",
        "num_pathways = num_pathways_result['num_pathways'][0]\n",
        "significance_threshold = 0.01/num_pathways\n",
        "print('Significance Threshold: {}'.format(significance_threshold))\n",
        "\n",
        "# find all pathways that meet the significance criteria after adjusting for\n",
        "# multiple testing\n",
        "significant_pathway_index = chi_squared_pathways['p_value']<significance_threshold\n",
        "\n",
        "# list of significant pathways\n",
        "significant_pathways = chi_squared_pathways[significant_pathway_index]"
      ],
      "execution_count": null,
      "outputs": []
    },
    {
      "cell_type": "markdown",
      "metadata": {
        "id": "6uCQV8mQFlbZ"
      },
      "source": [
        "The final result is a list of all pathways in which the targeted proteins are enriched, or over-represented, at a rate higher than random chance."
      ]
    },
    {
      "cell_type": "code",
      "metadata": {
        "id": "LfQYh_nNF2UR"
      },
      "source": [
        "# display the final data frame\n",
        "significant_pathways"
      ],
      "execution_count": null,
      "outputs": []
    },
    {
      "cell_type": "markdown",
      "metadata": {
        "id": "if9v8H2T12cp"
      },
      "source": [
        "The results of this analysis suggest that at least two pathways may be affected by the drug sorafenib, based on the known targets of the sorafenib."
      ]
    },
    {
      "cell_type": "markdown",
      "metadata": {
        "id": "s31t8Ed-7cfK"
      },
      "source": [
        "### Verify Results by Comparing to SciPy Chi-Squared Function\n",
        "\n",
        "We verify these BigQuery results by calculating the same chi-squared statistic using the SciPy package. Comparing the SciPy p-values and statistics to those of the BigQuery-derived results confirms that they are identical."
      ]
    },
    {
      "cell_type": "code",
      "metadata": {
        "id": "-BPVmeMF1CGO"
      },
      "source": [
        "# extract observed values from bigquery result\n",
        "observed = chi_squared_pathways[[\n",
        "  'in_target_in_pathway',\n",
        "  'in_target_not_pathway',\n",
        "  'not_target_in_pathway',\n",
        "  'not_target_not_pathway'\n",
        "]]\n",
        "\n",
        "# calculate the chi-squared statistic using the scipy stats package\n",
        "chi2_stat = []\n",
        "chi2_pvalue = []\n",
        "for index, row in observed.iterrows():\n",
        "  stat, pvalue, _, _ = stats.chi2_contingency(\n",
        "    np.reshape(np.matrix(row), (2,2)), correction=True\n",
        "  )\n",
        "  chi2_stat.append(stat)\n",
        "  chi2_pvalue.append(pvalue)\n",
        "\n",
        "# add columns to the original data frame\n",
        "chi_squared_pathways['scipy_stat'] = chi2_stat\n",
        "chi_squared_pathways['scipy_p_value'] = chi2_pvalue"
      ],
      "execution_count": null,
      "outputs": []
    },
    {
      "cell_type": "code",
      "metadata": {
        "id": "WWgNFm6w36s9"
      },
      "source": [
        "# display the updated data frame\n",
        "chi_squared_pathways"
      ],
      "execution_count": null,
      "outputs": []
    },
    {
      "cell_type": "markdown",
      "metadata": {
        "id": "6dXWAZhLPEcH"
      },
      "source": [
        "# Conclusion\n",
        "\n",
        "This notebook demonstrated an integrated analysis of the Targetome and Reactome BigQuery datasets for identification of drug targets, identification of cancer pathways targeted by a drug, and pathway enrichment analysis using a chi-squared statistic."
      ]
    }
  ]
}