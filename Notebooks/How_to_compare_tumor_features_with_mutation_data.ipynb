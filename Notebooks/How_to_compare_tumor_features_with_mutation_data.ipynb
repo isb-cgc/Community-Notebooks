{
  "nbformat": 4,
  "nbformat_minor": 0,
  "metadata": {
    "colab": {
      "name": "tumor_feature_mutation_analyses.ipynb",
      "provenance": [],
      "collapsed_sections": [],
      "authorship_tag": "ABX9TyOqUOcSG6QaWCZo1hwI6J0R",
      "include_colab_link": true
    },
    "kernelspec": {
      "name": "python3",
      "display_name": "Python 3"
    },
    "language_info": {
      "name": "python"
    }
  },
  "cells": [
    {
      "cell_type": "markdown",
      "metadata": {
        "id": "view-in-github",
        "colab_type": "text"
      },
      "source": [
        "<a href=\"https://colab.research.google.com/github/isb-cgc/Community-Notebooks/blob/master/Notebooks/How_to_compare_tumor_features_with_mutation_data.ipynb\" target=\"_parent\"><img src=\"https://colab.research.google.com/assets/colab-badge.svg\" alt=\"Open In Colab\"/></a>"
      ]
    },
    {
      "cell_type": "markdown",
      "metadata": {
        "id": "uBffHFh-KhUj"
      },
      "source": [
        "# ISB-CGC Community Notebooks\n",
        "\n",
        "Check out more notebooks at our [Community Notebooks Repository](https://github.com/isb-cgc/Community-Notebooks)!\n",
        "\n",
        "```\n",
        "Title:   Co-analyzing tumor radiomics features with somatic mutations\n",
        "Author:  Fabian Seidl, Boris Aguilar\n",
        "Created: 2021-06-15\n",
        "URL:     https://github.com/isb-cgc/Community-Notebooks/blob/master/Notebooks/How_to_compare_tumor_features_with_mutation_data.ipynb\n",
        "Purpose: To demonstrate multi-omics data analysis using table joins in Google BigQuery\n",
        "Notes: \n",
        "```"
      ]
    },
    {
      "cell_type": "markdown",
      "metadata": {
        "id": "Y3FNO9v6fJ_M"
      },
      "source": [
        "# Overview\n",
        "This notebook showcases an analysis workflow combining tumor radiomics features with mutation data mostly run in Google BigQuery. In this notebook we will:\n",
        "\n",
        "\n",
        "> 1. Select and format mutation data from the Glioblastoma Multiforme TCGA project\n",
        "> 2. Join these mutation data to tumor features extracted from radiomics data\n",
        "> 3. Calculate t-test statistics for tumors with or without mutations in specific genes\n",
        "\n",
        "The tumor radiomics feature data we used in this notebook are from Bakas et al. Nature Scientific 2017 (https://www.nature.com/articles/sdata2017117) and the mutation data come from the GDC data housed in ISB-CGC BigQuery tables.\n",
        "\n",
        "First we initialize our python environment and authenticate our session."
      ]
    },
    {
      "cell_type": "code",
      "metadata": {
        "colab": {
          "base_uri": "https://localhost:8080/"
        },
        "id": "5kmelh4wwMWk",
        "outputId": "7c574f1d-86c9-49b5-f49d-3658faf9aadd"
      },
      "source": [
        "from google.colab import auth\n",
        "import pandas_gbq\n",
        "import pandas as pd\n",
        "import numpy\n",
        "import seaborn\n",
        "from google.cloud import bigquery\n",
        "\n",
        "bq_project='<your_google_project_here>'\n",
        "auth.authenticate_user()\n",
        "client = bigquery.Client(project=bq_project)\n",
        "print('Authenticated')"
      ],
      "execution_count": null,
      "outputs": [
        {
          "output_type": "stream",
          "text": [
            "Authenticated\n"
          ],
          "name": "stdout"
        }
      ]
    },
    {
      "cell_type": "markdown",
      "metadata": {
        "id": "gngQSL_ywPg6"
      },
      "source": [
        "# Joining the data\n",
        "The mutation and feature data we will be using in this analysis are already formatted and stored in a dataset; we will be joining them on the unique TCGA barcodes with an SQL query before further downstream analyses."
      ]
    },
    {
      "cell_type": "code",
      "metadata": {
        "id": "AbX6IdLE6-Kn",
        "colab": {
          "base_uri": "https://localhost:8080/",
          "height": 204
        },
        "outputId": "f005f23a-bab1-4958-c447-29db252b0295"
      },
      "source": [
        "gdc_project = 'GBM'\n",
        "mutation_table = 'isb-cgc-idc-collaboration.Analysis.{0}_genes_tidy_v1'.format(gdc_project)\n",
        "feature_table = 'isb-cgc-idc-collaboration.Analysis.unpivoted_tcga_{0}_radiomicFeatures'.format(gdc_project.lower())\n",
        "\n",
        "# selecting gene mutation data from a previously generated table\n",
        "join_query1 = \"\"\"\n",
        "WITH\n",
        "table2 AS (\n",
        "    SELECT \n",
        "      '{0}' as Study, gene as symbol, \n",
        "      REPLACE(case_id,'_','-') AS ParticipantBarcode, present\n",
        "    FROM `{1}`\n",
        "),\"\"\".format(gdc_project, mutation_table)\n",
        "\n",
        "# selecting tumor volumes\n",
        "join_query2 = \"\"\"\n",
        "table1 AS ( \n",
        "  SELECT \n",
        "    '{0}' as Study, feature as symbol, \n",
        "    value as volume, ID as ParticipantBarcode \n",
        "  FROM `{1}`\n",
        "  WHERE \n",
        "    feature LIKE 'VOLUME%' \n",
        "    AND ID IN (SELECT DISTINCT ParticipantBarcode FROM table2)  \n",
        ")\"\"\".format(gdc_project, feature_table)\n",
        "\n",
        "# the join operation for the previous two queries\n",
        "join_query3 = \"\"\"\n",
        "SELECT\n",
        "   n1.Study, n1.symbol as symbol1, n1.volume,\n",
        "   n2.symbol as symbol2, n2.present\n",
        "FROM table1 AS n1\n",
        "INNER JOIN table2 AS n2\n",
        "ON\n",
        "   n1.ParticipantBarcode = n2.ParticipantBarcode\n",
        "   AND n1.Study = n2.Study\n",
        "   AND n2.present = 1\n",
        "GROUP BY\n",
        "   Study, symbol1, present, symbol2, volume\n",
        "\"\"\"\n",
        "\n",
        "query_job = client.query( join_query1 + join_query2 + join_query3 )\n",
        "joined_data = query_job.result().to_dataframe()\n",
        "joined_data.head(5)"
      ],
      "execution_count": null,
      "outputs": [
        {
          "output_type": "execute_result",
          "data": {
            "text/html": [
              "<div>\n",
              "<style scoped>\n",
              "    .dataframe tbody tr th:only-of-type {\n",
              "        vertical-align: middle;\n",
              "    }\n",
              "\n",
              "    .dataframe tbody tr th {\n",
              "        vertical-align: top;\n",
              "    }\n",
              "\n",
              "    .dataframe thead th {\n",
              "        text-align: right;\n",
              "    }\n",
              "</style>\n",
              "<table border=\"1\" class=\"dataframe\">\n",
              "  <thead>\n",
              "    <tr style=\"text-align: right;\">\n",
              "      <th></th>\n",
              "      <th>Study</th>\n",
              "      <th>symbol1</th>\n",
              "      <th>volume</th>\n",
              "      <th>symbol2</th>\n",
              "      <th>present</th>\n",
              "    </tr>\n",
              "  </thead>\n",
              "  <tbody>\n",
              "    <tr>\n",
              "      <th>0</th>\n",
              "      <td>GBM</td>\n",
              "      <td>VOLUME_ET</td>\n",
              "      <td>50410</td>\n",
              "      <td>ENSG00000005339</td>\n",
              "      <td>1</td>\n",
              "    </tr>\n",
              "    <tr>\n",
              "      <th>1</th>\n",
              "      <td>GBM</td>\n",
              "      <td>VOLUME_ET</td>\n",
              "      <td>50410</td>\n",
              "      <td>ENSG00000011451</td>\n",
              "      <td>1</td>\n",
              "    </tr>\n",
              "    <tr>\n",
              "      <th>2</th>\n",
              "      <td>GBM</td>\n",
              "      <td>VOLUME_ET</td>\n",
              "      <td>50410</td>\n",
              "      <td>ENSG00000048707</td>\n",
              "      <td>1</td>\n",
              "    </tr>\n",
              "    <tr>\n",
              "      <th>3</th>\n",
              "      <td>GBM</td>\n",
              "      <td>VOLUME_ET</td>\n",
              "      <td>50410</td>\n",
              "      <td>ENSG00000064961</td>\n",
              "      <td>1</td>\n",
              "    </tr>\n",
              "    <tr>\n",
              "      <th>4</th>\n",
              "      <td>GBM</td>\n",
              "      <td>VOLUME_ET</td>\n",
              "      <td>50410</td>\n",
              "      <td>ENSG00000070018</td>\n",
              "      <td>1</td>\n",
              "    </tr>\n",
              "  </tbody>\n",
              "</table>\n",
              "</div>"
            ],
            "text/plain": [
              "  Study    symbol1 volume          symbol2  present\n",
              "0   GBM  VOLUME_ET  50410  ENSG00000005339        1\n",
              "1   GBM  VOLUME_ET  50410  ENSG00000011451        1\n",
              "2   GBM  VOLUME_ET  50410  ENSG00000048707        1\n",
              "3   GBM  VOLUME_ET  50410  ENSG00000064961        1\n",
              "4   GBM  VOLUME_ET  50410  ENSG00000070018        1"
            ]
          },
          "metadata": {
            "tags": []
          },
          "execution_count": 3
        }
      ]
    },
    {
      "cell_type": "markdown",
      "metadata": {
        "id": "NLoyFAFNKdDQ"
      },
      "source": [
        "We can \"pipe\" this query directly to the next one by simply appending the next step to our previous ones. With the usage of the `GROUP BY` command we can calculate the SUM() and SUM(squared) values for all cases that have a given mutation."
      ]
    },
    {
      "cell_type": "code",
      "metadata": {
        "id": "jRjHwkDpzHw4",
        "colab": {
          "base_uri": "https://localhost:8080/",
          "height": 204
        },
        "outputId": "731d79cd-fd94-4936-bfc0-314cb95718bf"
      },
      "source": [
        "# We can amend the third query from the previous cell as below\n",
        "sum_query = \"\"\",\n",
        "summ_table AS (\n",
        "  SELECT \n",
        "   n1.Study, n1.symbol as symbol1,\n",
        "   n2.symbol as symbol2,\n",
        "   COUNT( n1.ParticipantBarcode) as n_1,\n",
        "   SUM( n1.volume )  as sumx_1,\n",
        "   SUM( n1.volume * n1.volume ) as sumx2_1\n",
        "  FROM table1 AS n1\n",
        "  INNER JOIN table2 AS n2\n",
        "  ON\n",
        "   n1.ParticipantBarcode = n2.ParticipantBarcode\n",
        "   AND n1.Study = n2.Study\n",
        "   AND n2.present = 1\n",
        "  GROUP BY\n",
        "   Study, symbol1, symbol2\n",
        ")\n",
        "\"\"\".format(gdc_project, mutation_table, feature_table)\n",
        "\n",
        "select_all = 'SELECT * FROM summ_table'\n",
        "\n",
        "#print(join_query1 + join_query2 + sum_query)\n",
        "sum_query_job = client.query( join_query1 + join_query2 + sum_query +  select_all)\n",
        "sum_table = sum_query_job.result().to_dataframe()\n",
        "sum_table.head(5)"
      ],
      "execution_count": null,
      "outputs": [
        {
          "output_type": "execute_result",
          "data": {
            "text/html": [
              "<div>\n",
              "<style scoped>\n",
              "    .dataframe tbody tr th:only-of-type {\n",
              "        vertical-align: middle;\n",
              "    }\n",
              "\n",
              "    .dataframe tbody tr th {\n",
              "        vertical-align: top;\n",
              "    }\n",
              "\n",
              "    .dataframe thead th {\n",
              "        text-align: right;\n",
              "    }\n",
              "</style>\n",
              "<table border=\"1\" class=\"dataframe\">\n",
              "  <thead>\n",
              "    <tr style=\"text-align: right;\">\n",
              "      <th></th>\n",
              "      <th>Study</th>\n",
              "      <th>symbol1</th>\n",
              "      <th>symbol2</th>\n",
              "      <th>n_1</th>\n",
              "      <th>sumx_1</th>\n",
              "      <th>sumx2_1</th>\n",
              "    </tr>\n",
              "  </thead>\n",
              "  <tbody>\n",
              "    <tr>\n",
              "      <th>0</th>\n",
              "      <td>GBM</td>\n",
              "      <td>VOLUME_ET</td>\n",
              "      <td>ENSG00000075275</td>\n",
              "      <td>5</td>\n",
              "      <td>192394</td>\n",
              "      <td>8226812092</td>\n",
              "    </tr>\n",
              "    <tr>\n",
              "      <th>1</th>\n",
              "      <td>GBM</td>\n",
              "      <td>VOLUME_ET</td>\n",
              "      <td>ENSG00000121879</td>\n",
              "      <td>8</td>\n",
              "      <td>179874</td>\n",
              "      <td>5586667456</td>\n",
              "    </tr>\n",
              "    <tr>\n",
              "      <th>2</th>\n",
              "      <td>GBM</td>\n",
              "      <td>VOLUME_ET</td>\n",
              "      <td>ENSG00000134853</td>\n",
              "      <td>6</td>\n",
              "      <td>227979</td>\n",
              "      <td>10828870733</td>\n",
              "    </tr>\n",
              "    <tr>\n",
              "      <th>3</th>\n",
              "      <td>GBM</td>\n",
              "      <td>VOLUME_ET</td>\n",
              "      <td>ENSG00000187775</td>\n",
              "      <td>5</td>\n",
              "      <td>174290</td>\n",
              "      <td>8141915644</td>\n",
              "    </tr>\n",
              "    <tr>\n",
              "      <th>4</th>\n",
              "      <td>GBM</td>\n",
              "      <td>VOLUME_ET</td>\n",
              "      <td>ENSG00000198626</td>\n",
              "      <td>8</td>\n",
              "      <td>169416</td>\n",
              "      <td>5436011400</td>\n",
              "    </tr>\n",
              "  </tbody>\n",
              "</table>\n",
              "</div>"
            ],
            "text/plain": [
              "  Study    symbol1          symbol2  n_1  sumx_1      sumx2_1\n",
              "0   GBM  VOLUME_ET  ENSG00000075275    5  192394   8226812092\n",
              "1   GBM  VOLUME_ET  ENSG00000121879    8  179874   5586667456\n",
              "2   GBM  VOLUME_ET  ENSG00000134853    6  227979  10828870733\n",
              "3   GBM  VOLUME_ET  ENSG00000187775    5  174290   8141915644\n",
              "4   GBM  VOLUME_ET  ENSG00000198626    8  169416   5436011400"
            ]
          },
          "metadata": {
            "tags": []
          },
          "execution_count": 4
        }
      ]
    },
    {
      "cell_type": "markdown",
      "metadata": {
        "id": "SeMoySArtffq"
      },
      "source": [
        "The final step of this workflow is to run t-tests on our groups to calculate whether there are significant differences in expression."
      ]
    },
    {
      "cell_type": "code",
      "metadata": {
        "colab": {
          "base_uri": "https://localhost:8080/",
          "height": 204
        },
        "id": "Nmk02JtFpb9h",
        "outputId": "e232fed7-8bd4-4f19-a8d9-ccbc28241d25"
      },
      "source": [
        "statistics_query = \"\"\",\n",
        "statistics AS (\n",
        "   SELECT n1.Study, symbol1, symbol2, n_1, \n",
        "       sumx_1 / n_1 as avg1,\n",
        "       ( sumx2_1 - sumx_1*sumx_1/n_1 )/(n_1 -1) as var1, \n",
        "       n_t - n_1 as n_0,\n",
        "       (sumx_t - sumx_1)/(n_t - n_1) as avg0,\n",
        "       (sumx2_t - sumx2_1 - (sumx_t-sumx_1)*(sumx_t-sumx_1)/(n_t - n_1) )/(n_t - n_1 -1 ) as var0\n",
        "   FROM  summ_table as n1\n",
        "   LEFT JOIN ( SELECT Study, symbol, COUNT( ParticipantBarcode ) as n_t, SUM( volume ) as sumx_t, SUM( volume*volume ) as sumx2_t\n",
        "            FROM table1 \n",
        "            GROUP BY Study, symbol ) as n2\n",
        "   ON symbol1 = symbol AND  n1.Study = n2.Study\n",
        "   GROUP BY 1,2,3,4,5,6,7,8,9\n",
        "   having var1 > 0 AND var0 > 0 AND n_1 > 5 AND n_0 > 5   \n",
        ")\n",
        "SELECT Study, symbol1 as radiomic_feature, symbol2 as Ensembl,  n_1 as n1, n_0 as n0,\n",
        "       avg1, avg0,\n",
        "       #ABS(avg1 - avg0)/ SQRT( var1 /n_1 + var0/n_0 ) as t,\n",
        "       `cgc-05-0042.functions.jstat_ttest`(ABS(avg1 - avg0)/ SQRT( var1 /n_1 + var0/n_0 ), n_1+n_0-2, 2) as pvalue,\n",
        "FROM statistics \n",
        "ORDER BY pvalue ASC\"\"\"\n",
        "\n",
        "#print(join_query1 + join_query2 + sum_query)\n",
        "stat_query_job = client.query( join_query1 + join_query2 + sum_query + statistics_query )\n",
        "statistics_table = stat_query_job.result().to_dataframe()\n",
        "statistics_table.head(5)"
      ],
      "execution_count": null,
      "outputs": [
        {
          "output_type": "execute_result",
          "data": {
            "text/html": [
              "<div>\n",
              "<style scoped>\n",
              "    .dataframe tbody tr th:only-of-type {\n",
              "        vertical-align: middle;\n",
              "    }\n",
              "\n",
              "    .dataframe tbody tr th {\n",
              "        vertical-align: top;\n",
              "    }\n",
              "\n",
              "    .dataframe thead th {\n",
              "        text-align: right;\n",
              "    }\n",
              "</style>\n",
              "<table border=\"1\" class=\"dataframe\">\n",
              "  <thead>\n",
              "    <tr style=\"text-align: right;\">\n",
              "      <th></th>\n",
              "      <th>Study</th>\n",
              "      <th>radiomic_feature</th>\n",
              "      <th>Ensembl</th>\n",
              "      <th>n1</th>\n",
              "      <th>n0</th>\n",
              "      <th>avg1</th>\n",
              "      <th>avg0</th>\n",
              "      <th>pvalue</th>\n",
              "    </tr>\n",
              "  </thead>\n",
              "  <tbody>\n",
              "    <tr>\n",
              "      <th>0</th>\n",
              "      <td>GBM</td>\n",
              "      <td>VOLUME_ET_OVER_BRAIN</td>\n",
              "      <td>ENSG00000189056</td>\n",
              "      <td>6</td>\n",
              "      <td>51</td>\n",
              "      <td>0.008667273</td>\n",
              "      <td>0.021981289</td>\n",
              "      <td>0.000143</td>\n",
              "    </tr>\n",
              "    <tr>\n",
              "      <th>1</th>\n",
              "      <td>GBM</td>\n",
              "      <td>VOLUME_NET_OVER_ED</td>\n",
              "      <td>ENSG00000181143</td>\n",
              "      <td>12</td>\n",
              "      <td>45</td>\n",
              "      <td>0.084648854</td>\n",
              "      <td>0.362770122</td>\n",
              "      <td>0.000157</td>\n",
              "    </tr>\n",
              "    <tr>\n",
              "      <th>2</th>\n",
              "      <td>GBM</td>\n",
              "      <td>VOLUME_NET_OVER_WT</td>\n",
              "      <td>ENSG00000181143</td>\n",
              "      <td>12</td>\n",
              "      <td>45</td>\n",
              "      <td>0.053904044</td>\n",
              "      <td>0.146278682</td>\n",
              "      <td>0.000259</td>\n",
              "    </tr>\n",
              "    <tr>\n",
              "      <th>3</th>\n",
              "      <td>GBM</td>\n",
              "      <td>VOLUME_ET</td>\n",
              "      <td>ENSG00000189056</td>\n",
              "      <td>6</td>\n",
              "      <td>51</td>\n",
              "      <td>13418</td>\n",
              "      <td>31740.450980392</td>\n",
              "      <td>0.001939</td>\n",
              "    </tr>\n",
              "    <tr>\n",
              "      <th>4</th>\n",
              "      <td>GBM</td>\n",
              "      <td>VOLUME_TC_over_BRAIN</td>\n",
              "      <td>ENSG00000189056</td>\n",
              "      <td>6</td>\n",
              "      <td>51</td>\n",
              "      <td>0.01347415</td>\n",
              "      <td>0.033356212</td>\n",
              "      <td>0.001946</td>\n",
              "    </tr>\n",
              "  </tbody>\n",
              "</table>\n",
              "</div>"
            ],
            "text/plain": [
              "  Study      radiomic_feature  ...             avg0    pvalue\n",
              "0   GBM  VOLUME_ET_OVER_BRAIN  ...      0.021981289  0.000143\n",
              "1   GBM    VOLUME_NET_OVER_ED  ...      0.362770122  0.000157\n",
              "2   GBM    VOLUME_NET_OVER_WT  ...      0.146278682  0.000259\n",
              "3   GBM             VOLUME_ET  ...  31740.450980392  0.001939\n",
              "4   GBM  VOLUME_TC_over_BRAIN  ...      0.033356212  0.001946\n",
              "\n",
              "[5 rows x 8 columns]"
            ]
          },
          "metadata": {
            "tags": []
          },
          "execution_count": 5
        }
      ]
    },
    {
      "cell_type": "markdown",
      "metadata": {
        "id": "LVwPZFE1vpJ_"
      },
      "source": [
        "We can use these data for further analysis or simply generate a summary plot as below:"
      ]
    },
    {
      "cell_type": "code",
      "metadata": {
        "id": "5CylvbeBpe1j",
        "colab": {
          "base_uri": "https://localhost:8080/",
          "height": 389
        },
        "outputId": "4040ac65-bb86-4185-fbd5-88c04a2d59fa"
      },
      "source": [
        "statistics_table['neglog10'] = -numpy.log10(statistics_table['pvalue'])\n",
        "\n",
        "bxplt = seaborn.boxplot(x=statistics_table['radiomic_feature'], \n",
        "                        y=statistics_table['neglog10'], \n",
        "                        data=statistics_table\n",
        "                        )\n",
        "labels = [x.get_text().lower() for x in bxplt.get_xticklabels()]\n",
        "jnk = bxplt.set_xticklabels(labels, rotation=80, size=10)\n",
        "jnk = bxplt.set(ylabel='-log10(pvalue)')"
      ],
      "execution_count": null,
      "outputs": [
        {
          "output_type": "display_data",
          "data": {
            "image/png": "[encoded data removed]",
            "text/plain": [
              "<Figure size 432x288 with 1 Axes>"
            ]
          },
          "metadata": {
            "tags": [],
            "needs_background": "light"
          }
        }
      ]
    },
    {
      "cell_type": "code",
      "metadata": {
        "colab": {
          "base_uri": "https://localhost:8080/"
        },
        "id": "8wlLeT-xxY0W",
        "outputId": "b4aaaa9f-57b6-40c7-dbb0-63b0db67c99a"
      },
      "source": [
        "# The full final query used to generate the data table\n",
        "print( join_query1 + join_query2 + sum_query + statistics_query )"
      ],
      "execution_count": null,
      "outputs": [
        {
          "output_type": "stream",
          "text": [
            "\n",
            "WITH\n",
            "table2 AS (\n",
            "    SELECT \n",
            "      'GBM' as Study, gene as symbol, \n",
            "      REPLACE(case_id,'_','-') AS ParticipantBarcode, present\n",
            "    FROM `isb-cgc-idc-collaboration.Analysis.GBM_genes_tidy_v1`\n",
            "),\n",
            "table1 AS ( \n",
            "  SELECT \n",
            "    'GBM' as Study, feature as symbol, \n",
            "    value as volume, ID as ParticipantBarcode \n",
            "  FROM `isb-cgc-idc-collaboration.Analysis.unpivoted_tcga_gbm_radiomicFeatures`\n",
            "  WHERE \n",
            "    feature LIKE 'VOLUME%' \n",
            "    AND ID IN (SELECT DISTINCT ParticipantBarcode FROM table2)  \n",
            "),\n",
            "summ_table AS (\n",
            "  SELECT \n",
            "   n1.Study, n1.symbol as symbol1,\n",
            "   n2.symbol as symbol2,\n",
            "   COUNT( n1.ParticipantBarcode) as n_1,\n",
            "   SUM( n1.volume )  as sumx_1,\n",
            "   SUM( n1.volume * n1.volume ) as sumx2_1\n",
            "  FROM table1 AS n1\n",
            "  INNER JOIN table2 AS n2\n",
            "  ON\n",
            "   n1.ParticipantBarcode = n2.ParticipantBarcode\n",
            "   AND n1.Study = n2.Study\n",
            "   AND n2.present = 1\n",
            "  GROUP BY\n",
            "   Study, symbol1, symbol2\n",
            ")\n",
            ",\n",
            "statistics AS (\n",
            "   SELECT n1.Study, symbol1, symbol2, n_1, \n",
            "       sumx_1 / n_1 as avg1,\n",
            "       ( sumx2_1 - sumx_1*sumx_1/n_1 )/(n_1 -1) as var1, \n",
            "       n_t - n_1 as n_0,\n",
            "       (sumx_t - sumx_1)/(n_t - n_1) as avg0,\n",
            "       (sumx2_t - sumx2_1 - (sumx_t-sumx_1)*(sumx_t-sumx_1)/(n_t - n_1) )/(n_t - n_1 -1 ) as var0\n",
            "   FROM  summ_table as n1\n",
            "   LEFT JOIN ( SELECT Study, symbol, COUNT( ParticipantBarcode ) as n_t, SUM( volume ) as sumx_t, SUM( volume*volume ) as sumx2_t\n",
            "            FROM table1 \n",
            "            GROUP BY Study, symbol ) as n2\n",
            "   ON symbol1 = symbol AND  n1.Study = n2.Study\n",
            "   GROUP BY 1,2,3,4,5,6,7,8,9\n",
            "   having var1 > 0 AND var0 > 0 AND n_1 > 5 AND n_0 > 5   \n",
            ")\n",
            "SELECT Study, symbol1 as radiomic_feature, symbol2 as Ensembl,  n_1 as n1, n_0 as n0,\n",
            "       avg1, avg0,\n",
            "       #ABS(avg1 - avg0)/ SQRT( var1 /n_1 + var0/n_0 ) as t,\n",
            "       `cgc-05-0042.functions.jstat_ttest`(ABS(avg1 - avg0)/ SQRT( var1 /n_1 + var0/n_0 ), n_1+n_0-2, 2) as pvalue,\n",
            "FROM statistics \n",
            "ORDER BY pvalue ASC\n"
          ],
          "name": "stdout"
        }
      ]
    }
  ]
}
