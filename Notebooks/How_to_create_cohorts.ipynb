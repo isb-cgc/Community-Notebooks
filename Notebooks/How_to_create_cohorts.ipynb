{
 "cells": [
  {
   "cell_type": "markdown",
   "metadata": {
    "colab_type": "text",
    "id": "Ona5p1IgVCrb"
   },
   "source": [
    "# ISB-CGC Community Notebooks\n",
    "\n",
    "Check out more notebooks at our [Community Notebooks Repository](https://github.com/isb-cgc/Community-Notebooks)!\n",
    "\n",
    "```\n",
    "Title:   How to create cohorts\n",
    "Author:  Lauren Hagen\n",
    "Created: 2019-06-20\n",
    "Purpose: Basic overview of creating cohorts\n",
    "URL:     https://github.com/isb-cgc/Community-Notebooks/blob/master/Notebooks/How_to_create_cohorts.ipynb\n",
    "Notes:   This notebook was adapted from work by Sheila Reynolds, 'How to Create TCGA Cohorts part 1' https://github.com/isb-cgc/examples-Python/blob/master/notebooks/Creating%20TCGA%20cohorts%20--%20part%201.ipynb.\n",
    "```\n",
    "***\n",
    "\n",
    "This notebook will show you how to create a TCGA cohort using the publicly available TCGA BigQuery tables that the [ISB-CGC](http://isb-cgc.org) project has produced based on the open-access [TCGA](http://cancergenome.nih.gov/) data available at the [Data Portal](https://tcga-data.nci.nih.gov/tcga/).  You will need to have access to a Google Cloud Platform (GCP) project in order to use BigQuery.  If you don't already have one, you can sign up for a [free-trial](https://cloud.google.com/free-trial/). You can also explore the available tables and data sets before commiting to creating a GCP project though the [ISB-CGC BigQuery Table Searcher](isb-cgc.appspot.com/bq_meta_search/).\n",
    "\n",
    "We are not attempting to provide a thorough BigQuery or IPython tutorial here, as a wealth of such information already exists.  Here are some links to some resources that you might find useful: \n",
    "* [BigQuery](https://cloud.google.com/bigquery/what-is-bigquery)\n",
    "* the BigQuery [web UI](https://console.cloud.google.com/bigquery) \n",
    "    * where you can run queries interactively\n",
    "* [Jupyter Notebooks](http://jupyter.org/)\n",
    "* [Google Cloud Datalab](https://cloud.google.com/datalab/) \n",
    "    * interactive cloud-based platform for analyzing data built on the Jupyter Notebooks\n",
    "* [Google Colaboratory](https://colab.research.google.com/)\n",
    "    * Free Jupyter Notebook environment that runs in your browser\n",
    "\n",
    "There are also many tutorials and samples available on github (see, in particular, the [datalab](https://github.com/GoogleCloudPlatform/datalab) repo, the [Google Genomics](  https://github.com/googlegenomics) project), and our own [Community Notebooks](https://github.com/isb-cgc/Community-Notebooks).\n",
    "\n",
    "OK then, let's get started!  In order to work with BigQuery, the first thing you need to do is import the bigquery module:"
   ]
  },
  {
   "cell_type": "code",
   "execution_count": 0,
   "metadata": {
    "colab": {},
    "colab_type": "code",
    "id": "MFLeeww_VCrh"
   },
   "outputs": [],
   "source": [
    "from google.cloud import bigquery"
   ]
  },
  {
   "cell_type": "markdown",
   "metadata": {
    "colab_type": "text",
    "id": "64nmsYB1VMta"
   },
   "source": [
    "Next we will need to Authorize our access to BigQuery and the Google Cloud. For more information see ['Quick Start Guide to ISB-CGC'](https://nbviewer.jupyter.org/github/isb-cgc/Community-Notebooks/blob/master/Notebooks/Quick_Start_Guide_to_ISB_CGC.ipynb) and alternative authentication methods can be found [here](https://googleapis.github.io/google-cloud-python/latest/core/auth.html)."
   ]
  },
  {
   "cell_type": "code",
   "execution_count": null,
   "metadata": {
    "cellView": "both",
    "colab": {
     "base_uri": "https://localhost:8080/",
     "height": 360
    },
    "colab_type": "code",
    "id": "QgN9GwOZ2ttz",
    "outputId": "89af1b8a-f1a2-43d6-99c6-d6b99044f9c4"
   },
   "outputs": [],
   "source": [
    "!gcloud auth application-default login"
   ]
  },
  {
   "cell_type": "code",
   "execution_count": 0,
   "metadata": {
    "colab": {},
    "colab_type": "code",
    "id": "DNqD9CkHb34J"
   },
   "outputs": [],
   "source": [
    "# Create a variable for which client to use with BigQuery\n",
    "project_num = 'your_project_number' # Update with your Google Project number\n",
    "\n",
    "if project_num == 'your_project_number':\n",
    "    print('Please update the project number with your Google Cloud Project')\n",
    "else:\n",
    "    client = bigquery.Client('project_num') # Replace your_project_number with your project ID"
   ]
  },
  {
   "cell_type": "markdown",
   "metadata": {
    "colab_type": "text",
    "id": "I4qZY5-6VCrl"
   },
   "source": [
    "The next thing you need to know is how to access the specific tables you are interested in.  BigQuery tables are organized into datasets, and datasets are owned by a specific GCP project.  The tables we will be working with in this notebook are in a dataset called **`TCGA_bioclin_v0`**, owned by the **`isb-cgc`** project.  A full table identifier is of the form `<project_id>.<dataset_id>.<table_id>`.  Let's start by getting some basic information about the tables in this dataset:"
   ]
  },
  {
   "cell_type": "code",
   "execution_count": 0,
   "metadata": {
    "colab": {
     "base_uri": "https://localhost:8080/",
     "height": 102
    },
    "colab_type": "code",
    "id": "oziRRi6HVCrl",
    "outputId": "62c27ecd-de3e-44c6-d2fd-c5ebd3bcf047"
   },
   "outputs": [
    {
     "name": "stdout",
     "output_type": "stream",
     "text": [
      "Tables:\n",
      "Annotations\n",
      "Biospecimen\n",
      "Clinical\n",
      "clinical_v1\n"
     ]
    }
   ],
   "source": [
    "# For each table in the dataset print the number of rows,\n",
    "# number of bytes and the name of the table\n",
    "print(\"Tables:\")\n",
    "for t in list(client.list_tables('isb-cgc.TCGA_bioclin_v0')):\n",
    "  print(t.table_id)"
   ]
  },
  {
   "cell_type": "markdown",
   "metadata": {
    "colab_type": "text",
    "id": "HWeQAgBhVCrq"
   },
   "source": [
    "In this tutorial, we are going to look at a few different ways that we can use the information in these tables to create cohorts.  Now, you maybe asking what we mean by \"cohort\" and why you might be interested in *creating* one, or maybe what it even means to \"create\" a cohort.  The TCGA dataset includes clinical, biospecimen, and molecular data from over 10,000 cancer patients who agreed to be a part of this landmark research project to build [The Cancer Genome Atlas](http://cancergenome.nih.gov/).  This large dataset was originally organized and studied according to [cancer type](http://cancergenome.nih.gov/cancersselected) but now that this multi-year project is nearing completion, with over 30 types of cancer and over 10,000 tumors analyzed, **you** have the opportunity to look at this dataset from whichever angle most interests you.  Maybe you are particularly interested in early-onset cancers, or gastro-intestinal cancers, or a specific type of genetic mutation.  This is where the idea of a \"cohort\" comes in.  The original TCGA \"cohorts\" were based on cancer type (aka \"study\"), but now you can define a cohort based on virtually any clinical or molecular feature by querying these BigQuery tables.  A cohort is simply a list of samples, using the [TCGA barcode](https://docs.gdc.cancer.gov/Encyclopedia/pages/TCGA_Barcode/) system.  Once you have created a cohort you can use it in any number of ways: you could further explore the data available for one cohort, or compare one cohort to another, for example.\n",
    "\n",
    "In the rest of this tutorial, we will create several different cohorts based on different motivating research questions.  We hope that these examples will provide you with a starting point from which you can build, to answer your own research questions."
   ]
  },
  {
   "cell_type": "markdown",
   "metadata": {
    "colab_type": "text",
    "id": "MzG3wtPPVCrq"
   },
   "source": [
    "## Exploring the Clinical data table\n",
    "Let's start by looking at the clinical data table.  The TCGA dataset contains a few very basic clinical data elements for almost all patients, and contains additional information for some tumor types only.  For example smoking history information is generally available only for lung cancer patients, and BMI (body mass index) is only available for tumor types where that is a known significant risk factor.  Let's take a look at the clinical data table and see how many different pieces of information are available to us:"
   ]
  },
  {
   "cell_type": "markdown",
   "metadata": {
    "colab_type": "text",
    "id": "ORGzgvAp43DQ"
   },
   "source": [
    "#### Get Table Schema"
   ]
  },
  {
   "cell_type": "code",
   "execution_count": 0,
   "metadata": {
    "cellView": "code",
    "colab": {
     "base_uri": "https://localhost:8080/",
     "height": 1000
    },
    "colab_type": "code",
    "id": "S9xWqzdDVCrr",
    "outputId": "75001ca7-bef4-4c04-83c7-e3c020bfa168"
   },
   "outputs": [
    {
     "data": {
      "text/html": [
       "<div>\n",
       "<style scoped>\n",
       "    .dataframe tbody tr th:only-of-type {\n",
       "        vertical-align: middle;\n",
       "    }\n",
       "\n",
       "    .dataframe tbody tr th {\n",
       "        vertical-align: top;\n",
       "    }\n",
       "\n",
       "    .dataframe thead th {\n",
       "        text-align: right;\n",
       "    }\n",
       "</style>\n",
       "<table border=\"1\" class=\"dataframe\">\n",
       "  <thead>\n",
       "    <tr style=\"text-align: right;\">\n",
       "      <th></th>\n",
       "      <th>column_name</th>\n",
       "    </tr>\n",
       "  </thead>\n",
       "  <tbody>\n",
       "    <tr>\n",
       "      <th>0</th>\n",
       "      <td>program_name</td>\n",
       "    </tr>\n",
       "    <tr>\n",
       "      <th>1</th>\n",
       "      <td>case_barcode</td>\n",
       "    </tr>\n",
       "    <tr>\n",
       "      <th>2</th>\n",
       "      <td>case_gdc_id</td>\n",
       "    </tr>\n",
       "    <tr>\n",
       "      <th>3</th>\n",
       "      <td>program_dbgap_accession_number</td>\n",
       "    </tr>\n",
       "    <tr>\n",
       "      <th>4</th>\n",
       "      <td>project_short_name</td>\n",
       "    </tr>\n",
       "    <tr>\n",
       "      <th>5</th>\n",
       "      <td>project_name</td>\n",
       "    </tr>\n",
       "    <tr>\n",
       "      <th>6</th>\n",
       "      <td>disease_code</td>\n",
       "    </tr>\n",
       "    <tr>\n",
       "      <th>7</th>\n",
       "      <td>gender</td>\n",
       "    </tr>\n",
       "    <tr>\n",
       "      <th>8</th>\n",
       "      <td>vital_status</td>\n",
       "    </tr>\n",
       "    <tr>\n",
       "      <th>9</th>\n",
       "      <td>race</td>\n",
       "    </tr>\n",
       "    <tr>\n",
       "      <th>10</th>\n",
       "      <td>ethnicity</td>\n",
       "    </tr>\n",
       "    <tr>\n",
       "      <th>11</th>\n",
       "      <td>age_at_diagnosis</td>\n",
       "    </tr>\n",
       "    <tr>\n",
       "      <th>12</th>\n",
       "      <td>days_to_birth</td>\n",
       "    </tr>\n",
       "    <tr>\n",
       "      <th>13</th>\n",
       "      <td>days_to_death</td>\n",
       "    </tr>\n",
       "    <tr>\n",
       "      <th>14</th>\n",
       "      <td>days_to_initial_pathologic_diagnosis</td>\n",
       "    </tr>\n",
       "    <tr>\n",
       "      <th>15</th>\n",
       "      <td>days_to_last_followup</td>\n",
       "    </tr>\n",
       "    <tr>\n",
       "      <th>16</th>\n",
       "      <td>days_to_last_known_alive</td>\n",
       "    </tr>\n",
       "    <tr>\n",
       "      <th>17</th>\n",
       "      <td>days_to_submitted_specimen_dx</td>\n",
       "    </tr>\n",
       "    <tr>\n",
       "      <th>18</th>\n",
       "      <td>clinical_stage</td>\n",
       "    </tr>\n",
       "    <tr>\n",
       "      <th>19</th>\n",
       "      <td>clinical_T</td>\n",
       "    </tr>\n",
       "    <tr>\n",
       "      <th>20</th>\n",
       "      <td>clinical_N</td>\n",
       "    </tr>\n",
       "    <tr>\n",
       "      <th>21</th>\n",
       "      <td>clinical_M</td>\n",
       "    </tr>\n",
       "    <tr>\n",
       "      <th>22</th>\n",
       "      <td>pathologic_stage</td>\n",
       "    </tr>\n",
       "    <tr>\n",
       "      <th>23</th>\n",
       "      <td>pathologic_T</td>\n",
       "    </tr>\n",
       "    <tr>\n",
       "      <th>24</th>\n",
       "      <td>pathologic_N</td>\n",
       "    </tr>\n",
       "    <tr>\n",
       "      <th>25</th>\n",
       "      <td>pathologic_M</td>\n",
       "    </tr>\n",
       "    <tr>\n",
       "      <th>26</th>\n",
       "      <td>year_of_initial_pathologic_diagnosis</td>\n",
       "    </tr>\n",
       "    <tr>\n",
       "      <th>27</th>\n",
       "      <td>tumor_tissue_site</td>\n",
       "    </tr>\n",
       "    <tr>\n",
       "      <th>28</th>\n",
       "      <td>primary_neoplasm_melanoma_dx</td>\n",
       "    </tr>\n",
       "    <tr>\n",
       "      <th>29</th>\n",
       "      <td>anatomic_neoplasm_subdivision</td>\n",
       "    </tr>\n",
       "    <tr>\n",
       "      <th>...</th>\n",
       "      <td>...</td>\n",
       "    </tr>\n",
       "    <tr>\n",
       "      <th>43</th>\n",
       "      <td>residual_tumor</td>\n",
       "    </tr>\n",
       "    <tr>\n",
       "      <th>44</th>\n",
       "      <td>tumor_type</td>\n",
       "    </tr>\n",
       "    <tr>\n",
       "      <th>45</th>\n",
       "      <td>new_tumor_event_after_initial_treatment</td>\n",
       "    </tr>\n",
       "    <tr>\n",
       "      <th>46</th>\n",
       "      <td>lymphnodes_examined</td>\n",
       "    </tr>\n",
       "    <tr>\n",
       "      <th>47</th>\n",
       "      <td>number_of_lymphnodes_examined</td>\n",
       "    </tr>\n",
       "    <tr>\n",
       "      <th>48</th>\n",
       "      <td>number_of_lymphnodes_positive_by_he</td>\n",
       "    </tr>\n",
       "    <tr>\n",
       "      <th>49</th>\n",
       "      <td>lymphatic_invasion</td>\n",
       "    </tr>\n",
       "    <tr>\n",
       "      <th>50</th>\n",
       "      <td>venous_invasion</td>\n",
       "    </tr>\n",
       "    <tr>\n",
       "      <th>51</th>\n",
       "      <td>lymphovascular_invasion_present</td>\n",
       "    </tr>\n",
       "    <tr>\n",
       "      <th>52</th>\n",
       "      <td>bcr</td>\n",
       "    </tr>\n",
       "    <tr>\n",
       "      <th>53</th>\n",
       "      <td>batch_number</td>\n",
       "    </tr>\n",
       "    <tr>\n",
       "      <th>54</th>\n",
       "      <td>tss_code</td>\n",
       "    </tr>\n",
       "    <tr>\n",
       "      <th>55</th>\n",
       "      <td>age_began_smoking_in_years</td>\n",
       "    </tr>\n",
       "    <tr>\n",
       "      <th>56</th>\n",
       "      <td>year_of_tobacco_smoking_onset</td>\n",
       "    </tr>\n",
       "    <tr>\n",
       "      <th>57</th>\n",
       "      <td>stopped_smoking_year</td>\n",
       "    </tr>\n",
       "    <tr>\n",
       "      <th>58</th>\n",
       "      <td>tobacco_smoking_history</td>\n",
       "    </tr>\n",
       "    <tr>\n",
       "      <th>59</th>\n",
       "      <td>number_pack_years_smoked</td>\n",
       "    </tr>\n",
       "    <tr>\n",
       "      <th>60</th>\n",
       "      <td>height</td>\n",
       "    </tr>\n",
       "    <tr>\n",
       "      <th>61</th>\n",
       "      <td>weight</td>\n",
       "    </tr>\n",
       "    <tr>\n",
       "      <th>62</th>\n",
       "      <td>bmi</td>\n",
       "    </tr>\n",
       "    <tr>\n",
       "      <th>63</th>\n",
       "      <td>mononucleotide_and_dinucleotide_marker_panel_a...</td>\n",
       "    </tr>\n",
       "    <tr>\n",
       "      <th>64</th>\n",
       "      <td>menopause_status</td>\n",
       "    </tr>\n",
       "    <tr>\n",
       "      <th>65</th>\n",
       "      <td>pregnancies</td>\n",
       "    </tr>\n",
       "    <tr>\n",
       "      <th>66</th>\n",
       "      <td>hpv_status</td>\n",
       "    </tr>\n",
       "    <tr>\n",
       "      <th>67</th>\n",
       "      <td>hpv_calls</td>\n",
       "    </tr>\n",
       "    <tr>\n",
       "      <th>68</th>\n",
       "      <td>h_pylori_infection</td>\n",
       "    </tr>\n",
       "    <tr>\n",
       "      <th>69</th>\n",
       "      <td>gleason_score_combined</td>\n",
       "    </tr>\n",
       "    <tr>\n",
       "      <th>70</th>\n",
       "      <td>psa_value</td>\n",
       "    </tr>\n",
       "    <tr>\n",
       "      <th>71</th>\n",
       "      <td>colorectal_cancer</td>\n",
       "    </tr>\n",
       "    <tr>\n",
       "      <th>72</th>\n",
       "      <td>history_of_colon_polyps</td>\n",
       "    </tr>\n",
       "  </tbody>\n",
       "</table>\n",
       "<p>73 rows × 1 columns</p>\n",
       "</div>"
      ],
      "text/plain": [
       "                                          column_name\n",
       "0                                        program_name\n",
       "1                                        case_barcode\n",
       "2                                         case_gdc_id\n",
       "3                      program_dbgap_accession_number\n",
       "4                                  project_short_name\n",
       "5                                        project_name\n",
       "6                                        disease_code\n",
       "7                                              gender\n",
       "8                                        vital_status\n",
       "9                                                race\n",
       "10                                          ethnicity\n",
       "11                                   age_at_diagnosis\n",
       "12                                      days_to_birth\n",
       "13                                      days_to_death\n",
       "14               days_to_initial_pathologic_diagnosis\n",
       "15                              days_to_last_followup\n",
       "16                           days_to_last_known_alive\n",
       "17                      days_to_submitted_specimen_dx\n",
       "18                                     clinical_stage\n",
       "19                                         clinical_T\n",
       "20                                         clinical_N\n",
       "21                                         clinical_M\n",
       "22                                   pathologic_stage\n",
       "23                                       pathologic_T\n",
       "24                                       pathologic_N\n",
       "25                                       pathologic_M\n",
       "26               year_of_initial_pathologic_diagnosis\n",
       "27                                  tumor_tissue_site\n",
       "28                       primary_neoplasm_melanoma_dx\n",
       "29                      anatomic_neoplasm_subdivision\n",
       "..                                                ...\n",
       "43                                     residual_tumor\n",
       "44                                         tumor_type\n",
       "45            new_tumor_event_after_initial_treatment\n",
       "46                                lymphnodes_examined\n",
       "47                      number_of_lymphnodes_examined\n",
       "48                number_of_lymphnodes_positive_by_he\n",
       "49                                 lymphatic_invasion\n",
       "50                                    venous_invasion\n",
       "51                    lymphovascular_invasion_present\n",
       "52                                                bcr\n",
       "53                                       batch_number\n",
       "54                                           tss_code\n",
       "55                         age_began_smoking_in_years\n",
       "56                      year_of_tobacco_smoking_onset\n",
       "57                               stopped_smoking_year\n",
       "58                            tobacco_smoking_history\n",
       "59                           number_pack_years_smoked\n",
       "60                                             height\n",
       "61                                             weight\n",
       "62                                                bmi\n",
       "63  mononucleotide_and_dinucleotide_marker_panel_a...\n",
       "64                                   menopause_status\n",
       "65                                        pregnancies\n",
       "66                                         hpv_status\n",
       "67                                          hpv_calls\n",
       "68                                 h_pylori_infection\n",
       "69                             gleason_score_combined\n",
       "70                                          psa_value\n",
       "71                                  colorectal_cancer\n",
       "72                            history_of_colon_polyps\n",
       "\n",
       "[73 rows x 1 columns]"
      ]
     },
     "execution_count": 6,
     "metadata": {
      "tags": []
     },
     "output_type": "execute_result"
    }
   ],
   "source": [
    "# Magic command of bigquery with the project id as isb-cgc-02-0001 and create a Pandas Dataframe\n",
    "# Change isb-cgc-02-0001 to your project ID\n",
    "%%bigquery --project isb-cgc-02-0001\n",
    "SELECT column_name\n",
    "FROM `isb-cgc.TCGA_bioclin_v0.INFORMATION_SCHEMA.COLUMNS`\n",
    "WHERE table_name = 'Clinical'\n",
    "\n",
    "# Syntax of the above query\n",
    "# SELECT * \n",
    "# FROM `project_name.dataset_name.INFORMATION_SCHEMA.COLUMNS`\n",
    "# WHERE table_catalog=project_name and table_schema=dataset_name and table_name=table_name"
   ]
  },
  {
   "cell_type": "markdown",
   "metadata": {
    "colab_type": "text",
    "id": "i_5Put7BVCru"
   },
   "source": [
    "That's a lot of fields!  We can also get at the schema programmatically:"
   ]
  },
  {
   "cell_type": "markdown",
   "metadata": {
    "colab_type": "text",
    "id": "UrwKZynh4-Ul"
   },
   "source": [
    "#### Programmatically Get Schema"
   ]
  },
  {
   "cell_type": "code",
   "execution_count": 0,
   "metadata": {
    "cellView": "code",
    "colab": {
     "base_uri": "https://localhost:8080/",
     "height": 136
    },
    "colab_type": "code",
    "id": "9u6WH10zVCru",
    "outputId": "e50f6698-1c38-4053-d0ef-f6b50b5a5f69"
   },
   "outputs": [
    {
     "name": "stdout",
     "output_type": "stream",
     "text": [
      "This table has 73 fields. \n",
      "The first few field names and types are: \n",
      "program_name - STRING\n",
      "case_barcode - STRING\n",
      "case_gdc_id - STRING\n",
      "program_dbgap_accession_number - STRING\n",
      "project_short_name - STRING\n"
     ]
    }
   ],
   "source": [
    "# Create a reference for the table\n",
    "table_ref = \"isb-cgc.TCGA_bioclin_v0.Clinical\"\n",
    "\n",
    "# Get the table\n",
    "table = client.get_table(table_ref)\n",
    "# Create a list of the field names\n",
    "fieldNames = list(map(lambda tsf: tsf.name, table.schema))\n",
    "#Create a list of the field types\n",
    "fieldTypes = list(map(lambda tsf: tsf.field_type, table.schema))\n",
    "# Print the number of fields and the first 5 fields\n",
    "print(\"This table has {} fields. \".format(len(fieldNames)))\n",
    "print(\"The first few field names and types are: \")\n",
    "for i in range(5):\n",
    "  print(\"{} - {}\".format(fieldNames[i], fieldTypes[i]))"
   ]
  },
  {
   "cell_type": "markdown",
   "metadata": {
    "colab_type": "text",
    "id": "Q9yuPEMnVCrx"
   },
   "source": [
    "Let's look at these fields and see which ones might be the most \"interesting\", by looking at how many times they are filled-in (not NULL), or how much variation exists in the values.  If we wanted to look at just a single field, \"tobacco_smoking_history\" for example, we could use a very simple query to get a basic summary:"
   ]
  },
  {
   "cell_type": "code",
   "execution_count": 0,
   "metadata": {
    "colab": {
     "base_uri": "https://localhost:8080/",
     "height": 235
    },
    "colab_type": "code",
    "id": "Gvfk6WN2VCrx",
    "outputId": "9f561f28-3cbe-40b9-b50c-694d49a21f66"
   },
   "outputs": [
    {
     "data": {
      "text/html": [
       "<div>\n",
       "<style scoped>\n",
       "    .dataframe tbody tr th:only-of-type {\n",
       "        vertical-align: middle;\n",
       "    }\n",
       "\n",
       "    .dataframe tbody tr th {\n",
       "        vertical-align: top;\n",
       "    }\n",
       "\n",
       "    .dataframe thead th {\n",
       "        text-align: right;\n",
       "    }\n",
       "</style>\n",
       "<table border=\"1\" class=\"dataframe\">\n",
       "  <thead>\n",
       "    <tr style=\"text-align: right;\">\n",
       "      <th></th>\n",
       "      <th>tobacco_smoking_history</th>\n",
       "      <th>n</th>\n",
       "    </tr>\n",
       "  </thead>\n",
       "  <tbody>\n",
       "    <tr>\n",
       "      <th>0</th>\n",
       "      <td>NaN</td>\n",
       "      <td>8316</td>\n",
       "    </tr>\n",
       "    <tr>\n",
       "      <th>1</th>\n",
       "      <td>1.0</td>\n",
       "      <td>865</td>\n",
       "    </tr>\n",
       "    <tr>\n",
       "      <th>2</th>\n",
       "      <td>4.0</td>\n",
       "      <td>799</td>\n",
       "    </tr>\n",
       "    <tr>\n",
       "      <th>3</th>\n",
       "      <td>2.0</td>\n",
       "      <td>710</td>\n",
       "    </tr>\n",
       "    <tr>\n",
       "      <th>4</th>\n",
       "      <td>3.0</td>\n",
       "      <td>568</td>\n",
       "    </tr>\n",
       "    <tr>\n",
       "      <th>5</th>\n",
       "      <td>5.0</td>\n",
       "      <td>57</td>\n",
       "    </tr>\n",
       "  </tbody>\n",
       "</table>\n",
       "</div>"
      ],
      "text/plain": [
       "   tobacco_smoking_history     n\n",
       "0                      NaN  8316\n",
       "1                      1.0   865\n",
       "2                      4.0   799\n",
       "3                      2.0   710\n",
       "4                      3.0   568\n",
       "5                      5.0    57"
      ]
     },
     "execution_count": 8,
     "metadata": {
      "tags": []
     },
     "output_type": "execute_result"
    }
   ],
   "source": [
    "%%bigquery --project isb-cgc-02-0001\n",
    "SELECT tobacco_smoking_history,\n",
    "COUNT(*) AS n\n",
    "FROM `isb-cgc.TCGA_bioclin_v0.Clinical`\n",
    "GROUP BY tobacco_smoking_history\n",
    "ORDER BY n DESC"
   ]
  },
  {
   "cell_type": "markdown",
   "metadata": {
    "colab_type": "text",
    "id": "WW68khu1VCr0"
   },
   "source": [
    "But if we want to loop over *all* fields and get a sense of which fields might provide us with useful criteria for specifying a cohort, we'll want to automate that.  We'll put a threshold on the minimum number of patients that we expect information for, and the maximum number of unique values (since fields such as the \"ParticipantBarcode\" will be unique for every patient and, although we will need that field later, it's probably not useful for defining a cohort)."
   ]
  },
  {
   "cell_type": "markdown",
   "metadata": {
    "colab_type": "text",
    "id": "q4tK5sIO5DZy"
   },
   "source": [
    "#### Find Interesting Fields"
   ]
  },
  {
   "cell_type": "code",
   "execution_count": 0,
   "metadata": {
    "cellView": "code",
    "colab": {
     "base_uri": "https://localhost:8080/",
     "height": 309
    },
    "colab_type": "code",
    "id": "ThNJemi6VCr1",
    "outputId": "91a03da8-7530-4966-dadf-b04cd08b559e"
   },
   "outputs": [
    {
     "name": "stdout",
     "output_type": "stream",
     "text": [
      " The Clinical table describes a total of 11315 patients. \n",
      "     > project_short_name has 11315 values with 33 unique (TCGA-BRCA occurs 1098 times)\n",
      "     > project_name has 11315 values with 33 unique (Breast Invasive Carcinoma occurs 1098 times)\n",
      "     > disease_code has 11315 values with 33 unique (BRCA occurs 1098 times)\n",
      "     > gender has 11160 values with 2 unique (FEMALE occurs 5815 times)\n",
      "     > vital_status has 11156 values with 2 unique (Alive occurs 7534 times)\n",
      "     > race has 9835 values with 5 unique (WHITE occurs 8186 times)\n",
      "     > age_at_diagnosis has 11109.0 values (mean=59.1, sigma=14.42) \n",
      "     > days_to_birth has 11041.0 values (mean=-21762.93, sigma=5266.39) \n",
      "     > days_to_last_known_alive has 11102.0 values (mean=1037.33, sigma=1040.86) \n",
      "     > year_of_initial_pathologic_diagnosis has 11030.0 values (mean=2008.03, sigma=4.32) \n",
      "     > person_neoplasm_cancer_status has 10236 values with 2 unique (TUMOR FREE occurs 6507 times)\n",
      "     > batch_number has 11160.0 values (mean=203.23, sigma=134.56) \n",
      " \n",
      " Found 12 potentially interesting features: \n",
      "    ['project_short_name', 'project_name', 'disease_code', 'gender', 'vital_status', 'race', 'age_at_diagnosis', 'days_to_birth', 'days_to_last_known_alive', 'year_of_initial_pathologic_diagnosis', 'person_neoplasm_cancer_status', 'batch_number']\n"
     ]
    }
   ],
   "source": [
    "# Get the number of Tables\n",
    "numPatients = table.num_rows\n",
    "# Print the total number of patients\n",
    "print(\" The {} table describes a total of {} patients. \".format(table.table_id, numPatients))\n",
    "\n",
    "# let's set a threshold for the minimum number of values that a field should have,\n",
    "# the maximum number of unique values, and either the highest cancer type or\n",
    "# the mean and sigma of the row.\n",
    "minNumPatients = int(numPatients*0.80)\n",
    "maxNumValues = 50\n",
    "\n",
    "# Create a variable to be filled in by the for loop with the number\n",
    "# interesting features\n",
    "numInteresting = 0\n",
    "# Create a list to hold the results from the loop below\n",
    "iList = []\n",
    "\n",
    "# Loop over the fields and find the number of values with the number of unique\n",
    "# values and the \n",
    "for iField in range(len(fieldNames)):\n",
    "  aField = fieldNames[iField]\n",
    "  aType = fieldTypes[iField]\n",
    "  qString = \"SELECT {} FROM `isb-cgc.TCGA_bioclin_v0.Clinical`\".format(aField)\n",
    "  df = client.query(qString).result().to_dataframe()\n",
    "  summary = df[str(aField)].describe()\n",
    "  if ( aType == \"STRING\" ):\n",
    "    topFrac = float(summary['freq'])/float(summary['count'])\n",
    "    if ( summary['count'] >= minNumPatients ):\n",
    "      if ( summary['unique'] <= maxNumValues and summary['unique'] > 1 ):\n",
    "        if ( topFrac < 0.90 ):\n",
    "          numInteresting += 1\n",
    "          iList += [aField]\n",
    "          print(\"     > {} has {} values with {} unique ({} occurs {} times)\".format(aField, summary['count'], summary['unique'], summary['top'], round(summary['freq'],2)))\n",
    "  else:\n",
    "    if ( summary['count'] >= minNumPatients ):\n",
    "      if ( summary['std'] > 0.1 ):\n",
    "        numInteresting += 1\n",
    "        iList += [aField]\n",
    "        print(\"     > {} has {} values (mean={}, sigma={}) \".format(aField, summary['count'], round(summary['mean'], 2), round(summary['std'], 2)))\n",
    "\n",
    "print(\" \")\n",
    "print(\" Found {} potentially interesting features: \".format(numInteresting))\n",
    "print(\"   \", iList)"
   ]
  },
  {
   "cell_type": "markdown",
   "metadata": {
    "colab_type": "text",
    "id": "vsDPK0wbVCr4"
   },
   "source": [
    "The above helps us narrow down on which fields are likely to be the most useful, but if you have a specific interest, for example in menopause or HPV status, you can still look at those in more detail very easily: "
   ]
  },
  {
   "cell_type": "code",
   "execution_count": 0,
   "metadata": {
    "colab": {
     "base_uri": "https://localhost:8080/",
     "height": 173
    },
    "colab_type": "code",
    "id": "ZxEuBUA_VCr5",
    "outputId": "5db653d6-1957-46b5-d48a-9bd3cf85d8bf"
   },
   "outputs": [
    {
     "data": {
      "text/html": [
       "<div>\n",
       "<style scoped>\n",
       "    .dataframe tbody tr th:only-of-type {\n",
       "        vertical-align: middle;\n",
       "    }\n",
       "\n",
       "    .dataframe tbody tr th {\n",
       "        vertical-align: top;\n",
       "    }\n",
       "\n",
       "    .dataframe thead th {\n",
       "        text-align: right;\n",
       "    }\n",
       "</style>\n",
       "<table border=\"1\" class=\"dataframe\">\n",
       "  <thead>\n",
       "    <tr style=\"text-align: right;\">\n",
       "      <th></th>\n",
       "      <th>menopause_status</th>\n",
       "      <th>n</th>\n",
       "    </tr>\n",
       "  </thead>\n",
       "  <tbody>\n",
       "    <tr>\n",
       "      <th>0</th>\n",
       "      <td>Post (prior bilateral ovariectomy OR &gt;12 mo si...</td>\n",
       "      <td>1291</td>\n",
       "    </tr>\n",
       "    <tr>\n",
       "      <th>1</th>\n",
       "      <td>Pre (&lt;6 months since LMP AND no prior bilatera...</td>\n",
       "      <td>389</td>\n",
       "    </tr>\n",
       "    <tr>\n",
       "      <th>2</th>\n",
       "      <td>Peri (6-12 months since last menstrual period)</td>\n",
       "      <td>82</td>\n",
       "    </tr>\n",
       "    <tr>\n",
       "      <th>3</th>\n",
       "      <td>Indeterminate (neither Pre or Postmenopausal)</td>\n",
       "      <td>54</td>\n",
       "    </tr>\n",
       "  </tbody>\n",
       "</table>\n",
       "</div>"
      ],
      "text/plain": [
       "                                    menopause_status     n\n",
       "0  Post (prior bilateral ovariectomy OR >12 mo si...  1291\n",
       "1  Pre (<6 months since LMP AND no prior bilatera...   389\n",
       "2     Peri (6-12 months since last menstrual period)    82\n",
       "3      Indeterminate (neither Pre or Postmenopausal)    54"
      ]
     },
     "execution_count": 10,
     "metadata": {
      "tags": []
     },
     "output_type": "execute_result"
    }
   ],
   "source": [
    "%%bigquery --project isb-cgc-02-0001\n",
    "SELECT menopause_status, COUNT(*) AS n\n",
    "FROM `isb-cgc.TCGA_bioclin_v0.Clinical`\n",
    "WHERE menopause_status IS NOT NULL\n",
    "GROUP BY menopause_status\n",
    "ORDER BY n DESC"
   ]
  },
  {
   "cell_type": "markdown",
   "metadata": {
    "colab_type": "text",
    "id": "E3gRdYwaVCr8"
   },
   "source": [
    "We might wonder which specific tumor types have menopause information:"
   ]
  },
  {
   "cell_type": "code",
   "execution_count": 0,
   "metadata": {
    "colab": {
     "base_uri": "https://localhost:8080/",
     "height": 173
    },
    "colab_type": "code",
    "id": "2fO9uxVzVCr9",
    "outputId": "c11640d2-dfcd-4afd-f2ae-f18e65e99e91"
   },
   "outputs": [
    {
     "data": {
      "text/html": [
       "<div>\n",
       "<style scoped>\n",
       "    .dataframe tbody tr th:only-of-type {\n",
       "        vertical-align: middle;\n",
       "    }\n",
       "\n",
       "    .dataframe tbody tr th {\n",
       "        vertical-align: top;\n",
       "    }\n",
       "\n",
       "    .dataframe thead th {\n",
       "        text-align: right;\n",
       "    }\n",
       "</style>\n",
       "<table border=\"1\" class=\"dataframe\">\n",
       "  <thead>\n",
       "    <tr style=\"text-align: right;\">\n",
       "      <th></th>\n",
       "      <th>project_short_name</th>\n",
       "      <th>n</th>\n",
       "    </tr>\n",
       "  </thead>\n",
       "  <tbody>\n",
       "    <tr>\n",
       "      <th>0</th>\n",
       "      <td>TCGA-BRCA</td>\n",
       "      <td>1007</td>\n",
       "    </tr>\n",
       "    <tr>\n",
       "      <th>1</th>\n",
       "      <td>TCGA-UCEC</td>\n",
       "      <td>517</td>\n",
       "    </tr>\n",
       "    <tr>\n",
       "      <th>2</th>\n",
       "      <td>TCGA-CESC</td>\n",
       "      <td>237</td>\n",
       "    </tr>\n",
       "    <tr>\n",
       "      <th>3</th>\n",
       "      <td>TCGA-UCS</td>\n",
       "      <td>55</td>\n",
       "    </tr>\n",
       "  </tbody>\n",
       "</table>\n",
       "</div>"
      ],
      "text/plain": [
       "  project_short_name     n\n",
       "0          TCGA-BRCA  1007\n",
       "1          TCGA-UCEC   517\n",
       "2          TCGA-CESC   237\n",
       "3           TCGA-UCS    55"
      ]
     },
     "execution_count": 11,
     "metadata": {
      "tags": []
     },
     "output_type": "execute_result"
    }
   ],
   "source": [
    "%%bigquery --project isb-cgc-02-0001\n",
    "SELECT project_short_name, COUNT(*) AS n\n",
    "FROM `isb-cgc.TCGA_bioclin_v0.Clinical`\n",
    "WHERE menopause_status IS NOT NULL\n",
    "GROUP BY project_short_name\n",
    "ORDER BY n DESC"
   ]
  },
  {
   "cell_type": "code",
   "execution_count": 0,
   "metadata": {
    "colab": {
     "base_uri": "https://localhost:8080/",
     "height": 204
    },
    "colab_type": "code",
    "id": "L9QCMBJLVCsA",
    "outputId": "775d9b91-8d2c-4cdf-cb33-e0efa35c2619"
   },
   "outputs": [
    {
     "data": {
      "text/html": [
       "<div>\n",
       "<style scoped>\n",
       "    .dataframe tbody tr th:only-of-type {\n",
       "        vertical-align: middle;\n",
       "    }\n",
       "\n",
       "    .dataframe tbody tr th {\n",
       "        vertical-align: top;\n",
       "    }\n",
       "\n",
       "    .dataframe thead th {\n",
       "        text-align: right;\n",
       "    }\n",
       "</style>\n",
       "<table border=\"1\" class=\"dataframe\">\n",
       "  <thead>\n",
       "    <tr style=\"text-align: right;\">\n",
       "      <th></th>\n",
       "      <th>hpv_status</th>\n",
       "      <th>hpv_calls</th>\n",
       "      <th>n</th>\n",
       "    </tr>\n",
       "  </thead>\n",
       "  <tbody>\n",
       "    <tr>\n",
       "      <th>0</th>\n",
       "      <td>Negative</td>\n",
       "      <td>None</td>\n",
       "      <td>664</td>\n",
       "    </tr>\n",
       "    <tr>\n",
       "      <th>1</th>\n",
       "      <td>Positive</td>\n",
       "      <td>HPV16</td>\n",
       "      <td>238</td>\n",
       "    </tr>\n",
       "    <tr>\n",
       "      <th>2</th>\n",
       "      <td>Positive</td>\n",
       "      <td>HPV18</td>\n",
       "      <td>41</td>\n",
       "    </tr>\n",
       "    <tr>\n",
       "      <th>3</th>\n",
       "      <td>Positive</td>\n",
       "      <td>HPV33</td>\n",
       "      <td>25</td>\n",
       "    </tr>\n",
       "    <tr>\n",
       "      <th>4</th>\n",
       "      <td>Positive</td>\n",
       "      <td>HPV45</td>\n",
       "      <td>24</td>\n",
       "    </tr>\n",
       "  </tbody>\n",
       "</table>\n",
       "</div>"
      ],
      "text/plain": [
       "  hpv_status hpv_calls    n\n",
       "0   Negative      None  664\n",
       "1   Positive     HPV16  238\n",
       "2   Positive     HPV18   41\n",
       "3   Positive     HPV33   25\n",
       "4   Positive     HPV45   24"
      ]
     },
     "execution_count": 12,
     "metadata": {
      "tags": []
     },
     "output_type": "execute_result"
    }
   ],
   "source": [
    "%%bigquery --project isb-cgc-02-0001 \n",
    "SELECT hpv_status, hpv_calls, COUNT(*) AS n\n",
    "FROM `isb-cgc.TCGA_bioclin_v0.Clinical`\n",
    "WHERE hpv_status IS NOT NULL\n",
    "GROUP BY hpv_status, hpv_calls\n",
    "HAVING n > 20\n",
    "ORDER BY n DESC"
   ]
  },
  {
   "cell_type": "markdown",
   "metadata": {
    "colab_type": "text",
    "id": "StOsLNYmVCsC"
   },
   "source": [
    "## TCGA Annotations\n",
    "\n",
    "An additional factor to consider, when creating a cohort is that there may be additional information that might lead one to exclude a particular patient from a cohort.  In certain instances, patients have been redacted or excluded from analyses for reasons such as prior treatment, etc, but since different researchers may have different criteria for using or excluding certain patients or certain samples from their analyses, an overview of the annoations can be found [here](https://docs.gdc.cancer.gov/Encyclopedia/pages/Annotations_TCGA/).  These annotations have also been uploaded into a BigQuery table and can be used in conjuction with the other BigQuery tables."
   ]
  },
  {
   "cell_type": "markdown",
   "metadata": {
    "colab_type": "text",
    "id": "6a9snKq1VCsD"
   },
   "source": [
    "# Create a Cohort from Two Tables\n",
    "\n",
    "Now that we have a better idea of what types of information is available in the Clinical data table, let's create a cohort consisting of female breast-cancer patients, diagnosed at the age of 50 or younger."
   ]
  },
  {
   "cell_type": "markdown",
   "metadata": {
    "colab_type": "text",
    "id": "gWdNmzevVCsD"
   },
   "source": [
    "In this next code cell, we define several queries with a **`WITH`** clause which allows us to use them in a final query. We will then save the query to a [Pandas DataFrame](https://pandas.pydata.org/) to allow it to be analyzed later with a named data frame.\n",
    "* the first query, called **`select_on_annotations`**, finds all patients in the Annotations table which have either been 'redacted' or had 'unacceptable prior treatment';  \n",
    "* the second query, **`select_on_clinical`** selects all female breast-cancer patients who were diagnosed at age 50 or younger, while also pulling out a few additional fields that might be of interest;  and\n",
    "* the final query joins these two together and returns just those patients that meet the clinical-criteria and do **not** meet the exclusion-criteria."
   ]
  },
  {
   "cell_type": "markdown",
   "metadata": {
    "colab_type": "text",
    "id": "VMCUMONH5KWk"
   },
   "source": [
    "#### Create a Query for a Cohort from Two Tables"
   ]
  },
  {
   "cell_type": "code",
   "execution_count": 0,
   "metadata": {
    "cellView": "code",
    "colab": {},
    "colab_type": "code",
    "id": "FpzdD3laPrE-"
   },
   "outputs": [],
   "source": [
    "# First use the BigQuery Magic Command (%%bigquery) then name the dataframe\n",
    "# (early_onset_breast_canver), and finallly include your project ID\n",
    "# (--project project ID).\n",
    "%%bigquery early_onset_breast_cancer --project isb-cgc-02-0001\n",
    "WITH\n",
    "  select_on_annotations AS (\n",
    "  SELECT\n",
    "    case_barcode,\n",
    "    category AS categoryName,\n",
    "    classification AS classificationName\n",
    "  FROM\n",
    "    `isb-cgc.TCGA_bioclin_v0.Annotations`\n",
    "  WHERE\n",
    "    ( entity_type=\"Patient\"\n",
    "      AND (category=\"History of unacceptable prior treatment related to a prior/other malignancy\"\n",
    "        OR classification=\"Redaction\" ) )\n",
    "  GROUP BY\n",
    "    case_barcode,\n",
    "    categoryName,\n",
    "    classificationName\n",
    "),\n",
    "--\n",
    "select_on_clinical AS (\n",
    "  SELECT\n",
    "    case_barcode,\n",
    "    vital_status,\n",
    "    days_to_last_known_alive,\n",
    "    ethnicity,\n",
    "    histological_type,\n",
    "    menopause_status,\n",
    "    race\n",
    "  FROM\n",
    "    `isb-cgc.TCGA_bioclin_v0.Clinical`\n",
    "  WHERE\n",
    "    ( disease_code = \"BRCA\"\n",
    "      AND age_at_diagnosis<=50\n",
    "      AND gender=\"FEMALE\" )\n",
    ")\n",
    "--\n",
    "SELECT\n",
    "  case_barcode\n",
    "FROM (\n",
    "  SELECT\n",
    "    a.categoryName,\n",
    "    a.classificationName,\n",
    "    c.case_barcode\n",
    "  FROM select_on_annotations AS a\n",
    "  FULL JOIN select_on_clinical AS c\n",
    "  ON\n",
    "    a.case_barcode = c.case_barcode\n",
    "  WHERE\n",
    "    a.case_barcode IS NOT NULL\n",
    "    OR c.case_barcode IS NOT NULL\n",
    "  ORDER BY\n",
    "    a.classificationName,\n",
    "    a.categoryName,\n",
    "    c.case_barcode\n",
    ")\n",
    "WHERE\n",
    "  categoryName IS NULL\n",
    "  AND classificationName IS NULL\n",
    "  AND case_barcode IS NOT NULL\n",
    "ORDER BY\n",
    "  case_barcode"
   ]
  },
  {
   "cell_type": "code",
   "execution_count": 0,
   "metadata": {
    "colab": {
     "base_uri": "https://localhost:8080/",
     "height": 204
    },
    "colab_type": "code",
    "id": "ymX0w7RwkFAU",
    "outputId": "09746f72-732b-4659-a269-8686bf6aed96"
   },
   "outputs": [
    {
     "data": {
      "text/html": [
       "<div>\n",
       "<style scoped>\n",
       "    .dataframe tbody tr th:only-of-type {\n",
       "        vertical-align: middle;\n",
       "    }\n",
       "\n",
       "    .dataframe tbody tr th {\n",
       "        vertical-align: top;\n",
       "    }\n",
       "\n",
       "    .dataframe thead th {\n",
       "        text-align: right;\n",
       "    }\n",
       "</style>\n",
       "<table border=\"1\" class=\"dataframe\">\n",
       "  <thead>\n",
       "    <tr style=\"text-align: right;\">\n",
       "      <th></th>\n",
       "      <th>case_barcode</th>\n",
       "    </tr>\n",
       "  </thead>\n",
       "  <tbody>\n",
       "    <tr>\n",
       "      <th>0</th>\n",
       "      <td>TCGA-3C-AALI</td>\n",
       "    </tr>\n",
       "    <tr>\n",
       "      <th>1</th>\n",
       "      <td>TCGA-4H-AAAK</td>\n",
       "    </tr>\n",
       "    <tr>\n",
       "      <th>2</th>\n",
       "      <td>TCGA-5L-AAT0</td>\n",
       "    </tr>\n",
       "    <tr>\n",
       "      <th>3</th>\n",
       "      <td>TCGA-A1-A0SH</td>\n",
       "    </tr>\n",
       "    <tr>\n",
       "      <th>4</th>\n",
       "      <td>TCGA-A1-A0SJ</td>\n",
       "    </tr>\n",
       "  </tbody>\n",
       "</table>\n",
       "</div>"
      ],
      "text/plain": [
       "   case_barcode\n",
       "0  TCGA-3C-AALI\n",
       "1  TCGA-4H-AAAK\n",
       "2  TCGA-5L-AAT0\n",
       "3  TCGA-A1-A0SH\n",
       "4  TCGA-A1-A0SJ"
      ]
     },
     "execution_count": 14,
     "metadata": {
      "tags": []
     },
     "output_type": "execute_result"
    }
   ],
   "source": [
    "early_onset_breast_cancer.head()"
   ]
  },
  {
   "cell_type": "markdown",
   "metadata": {
    "colab_type": "text",
    "id": "8YZWApgkVCsT"
   },
   "source": [
    "### Useful Tricks\n",
    "Before we leave off, here are a few useful tricks for working with BigQuery:\n",
    "* If you want to see how much data and which tables are going to be touched by this data, you can use the \"dry run\" option.\n",
    "* You can then build a query as a variable and put the results into a dataframe instead of "
   ]
  },
  {
   "cell_type": "code",
   "execution_count": 0,
   "metadata": {
    "colab": {},
    "colab_type": "code",
    "id": "CEIn37yqVCsc"
   },
   "outputs": [],
   "source": [
    "# Create a variable with the query as a string\n",
    "breast_cancer_query = \"\"\"\n",
    "WITH\n",
    "  select_on_annotations AS (\n",
    "  SELECT\n",
    "    case_barcode,\n",
    "    category AS categoryName,\n",
    "    classification AS classificationName\n",
    "  FROM\n",
    "    `isb-cgc.TCGA_bioclin_v0.Annotations`\n",
    "  WHERE\n",
    "    ( entity_type=\"Patient\"\n",
    "      AND (category=\"History of unacceptable prior treatment related to a prior/other malignancy\"\n",
    "        OR classification=\"Redaction\" ) )\n",
    "  GROUP BY\n",
    "    case_barcode,\n",
    "    categoryName,\n",
    "    classificationName\n",
    "),\n",
    "--\n",
    "select_on_clinical AS (\n",
    "  SELECT\n",
    "    case_barcode,\n",
    "    vital_status,\n",
    "    days_to_last_known_alive,\n",
    "    ethnicity,\n",
    "    histological_type,\n",
    "    menopause_status,\n",
    "    race\n",
    "  FROM\n",
    "    `isb-cgc.TCGA_bioclin_v0.Clinical`\n",
    "  WHERE\n",
    "    ( disease_code = \"BRCA\"\n",
    "      AND age_at_diagnosis<=50\n",
    "      AND gender=\"FEMALE\" )\n",
    ")\n",
    "--\n",
    "SELECT\n",
    "  case_barcode\n",
    "FROM (\n",
    "  SELECT\n",
    "    a.categoryName,\n",
    "    a.classificationName,\n",
    "    c.case_barcode\n",
    "  FROM select_on_annotations AS a\n",
    "  FULL JOIN select_on_clinical AS c\n",
    "  ON\n",
    "    a.case_barcode = c.case_barcode\n",
    "  WHERE\n",
    "    a.case_barcode IS NOT NULL\n",
    "    OR c.case_barcode IS NOT NULL\n",
    "  ORDER BY\n",
    "    a.classificationName,\n",
    "    a.categoryName,\n",
    "    c.case_barcode\n",
    ")\n",
    "WHERE\n",
    "  categoryName IS NULL\n",
    "  AND classificationName IS NULL\n",
    "  AND case_barcode IS NOT NULL\n",
    "ORDER BY\n",
    "  case_barcode\n",
    "\"\"\""
   ]
  },
  {
   "cell_type": "markdown",
   "metadata": {
    "colab_type": "text",
    "id": "jzOshUb8SbxT"
   },
   "source": [
    "Since this is a large query, we might want to check the number of bytes that will be processed. We can use a dry run to see how many bytes wil be processed with the query without actually doing a query."
   ]
  },
  {
   "cell_type": "code",
   "execution_count": 0,
   "metadata": {
    "colab": {
     "base_uri": "https://localhost:8080/",
     "height": 34
    },
    "colab_type": "code",
    "id": "GMg01x8M06yF",
    "outputId": "208cbd7c-9caf-451c-ede3-8e8336789dee"
   },
   "outputs": [
    {
     "name": "stdout",
     "output_type": "stream",
     "text": [
      "This query will process 788.043 Kilobytes.\n"
     ]
    }
   ],
   "source": [
    "job_config = bigquery.QueryJobConfig()\n",
    "job_config.dry_run = True\n",
    "job_config.use_query_cache = False\n",
    "query_job = client.query(\n",
    "    (breast_cancer_query),\n",
    "    # Location must match that of the dataset(s) referenced in the query.\n",
    "    location=\"US\",\n",
    "    job_config=job_config,\n",
    ")  # API request\n",
    "\n",
    "# A dry run query completes immediately.\n",
    "assert query_job.state == \"DONE\"\n",
    "assert query_job.dry_run\n",
    "\n",
    "print(\"This query will process {} Kilobytes.\".format(query_job.total_bytes_processed*0.001))"
   ]
  },
  {
   "cell_type": "markdown",
   "metadata": {
    "colab_type": "text",
    "id": "5SJIh9QTawBa"
   },
   "source": [
    "For more information on price estimation, please see the [Estimating storage and query costs](https://cloud.google.com/bigquery/docs/estimate-costs) and [BigQuery best practices: Controlling costs](https://cloud.google.com/bigquery/docs/best-practices-costs) pages.\n",
    "\n",
    "Below we can then use the same variable with the query to then run the query and put the result into a Pandas Dataframe for later analysis."
   ]
  },
  {
   "cell_type": "code",
   "execution_count": 0,
   "metadata": {
    "colab": {
     "base_uri": "https://localhost:8080/",
     "height": 204
    },
    "colab_type": "code",
    "id": "J4angHKtWrce",
    "outputId": "c6486d04-1f47-4096-f498-1d29f6448431"
   },
   "outputs": [
    {
     "data": {
      "text/html": [
       "<div>\n",
       "<style scoped>\n",
       "    .dataframe tbody tr th:only-of-type {\n",
       "        vertical-align: middle;\n",
       "    }\n",
       "\n",
       "    .dataframe tbody tr th {\n",
       "        vertical-align: top;\n",
       "    }\n",
       "\n",
       "    .dataframe thead th {\n",
       "        text-align: right;\n",
       "    }\n",
       "</style>\n",
       "<table border=\"1\" class=\"dataframe\">\n",
       "  <thead>\n",
       "    <tr style=\"text-align: right;\">\n",
       "      <th></th>\n",
       "      <th>case_barcode</th>\n",
       "    </tr>\n",
       "  </thead>\n",
       "  <tbody>\n",
       "    <tr>\n",
       "      <th>0</th>\n",
       "      <td>TCGA-3C-AALI</td>\n",
       "    </tr>\n",
       "    <tr>\n",
       "      <th>1</th>\n",
       "      <td>TCGA-4H-AAAK</td>\n",
       "    </tr>\n",
       "    <tr>\n",
       "      <th>2</th>\n",
       "      <td>TCGA-5L-AAT0</td>\n",
       "    </tr>\n",
       "    <tr>\n",
       "      <th>3</th>\n",
       "      <td>TCGA-A1-A0SH</td>\n",
       "    </tr>\n",
       "    <tr>\n",
       "      <th>4</th>\n",
       "      <td>TCGA-A1-A0SJ</td>\n",
       "    </tr>\n",
       "  </tbody>\n",
       "</table>\n",
       "</div>"
      ],
      "text/plain": [
       "   case_barcode\n",
       "0  TCGA-3C-AALI\n",
       "1  TCGA-4H-AAAK\n",
       "2  TCGA-5L-AAT0\n",
       "3  TCGA-A1-A0SH\n",
       "4  TCGA-A1-A0SJ"
      ]
     },
     "execution_count": 17,
     "metadata": {
      "tags": []
     },
     "output_type": "execute_result"
    }
   ],
   "source": [
    "query = client.query(breast_cancer_query)\n",
    "breast_cancer_query_results = query.result().to_dataframe()\n",
    "breast_cancer_query_results.head(5)"
   ]
  }
 ],
 "metadata": {
  "colab": {
   "collapsed_sections": [],
   "name": "How_to_create_cohorts.ipynb",
   "provenance": [],
   "version": "0.3.2"
  },
  "kernelspec": {
   "display_name": "Python 3",
   "language": "python",
   "name": "python3"
  },
  "language_info": {
   "codemirror_mode": {
    "name": "ipython",
    "version": 3
   },
   "file_extension": ".py",
   "mimetype": "text/x-python",
   "name": "python",
   "nbconvert_exporter": "python",
   "pygments_lexer": "ipython3",
   "version": "3.6.9"
  }
 },
 "nbformat": 4,
 "nbformat_minor": 1
}
