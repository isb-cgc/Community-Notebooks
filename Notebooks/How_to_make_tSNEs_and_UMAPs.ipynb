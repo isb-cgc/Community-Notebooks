{
 "cells": [
  {
   "cell_type": "markdown",
   "metadata": {
    "colab_type": "text",
    "id": "_Pj1aDLeeqof"
   },
   "source": [
    "# ISB-CGC Community Notebooks\n",
    "Check out more notebooks at our [Community Notebooks Repository](https://github.com/isb-cgc/Community-Notebooks)!\n",
    "\n"
   ]
  },
  {
   "cell_type": "markdown",
   "metadata": {
    "colab_type": "text",
    "id": "CIivGB6Veqy6"
   },
   "source": [
    "```\n",
    "Title:   How to make t-SNE and UMAP plots \n",
    "Author:  David L Gibbs\n",
    "Created: 2019-10-15\n",
    "Purpose: Demonstrate how to perform dimension reduction with PCA, t-SNE, and UMAP, and create visualizations.\n",
    "Notes:\n",
    "```"
   ]
  },
  {
   "cell_type": "markdown",
   "metadata": {
    "colab_type": "text",
    "id": "tHZyDmniQNHn"
   },
   "source": [
    "In this notebook we will cover how to apply dimension reduction to a matrix using PCA, t-SNE, and UMAP techniques.\n",
    "\n",
    "These methods are commonly used in single cell RNA-seq analysis, but can be applied to any type of data. Here we will be using TCGA gene expression data from two studies, KIRC (kidney cancer) and MESO (skin cancer).\n",
    "\n",
    "The final result is a set of vectors that approximate the a low dimensional representation of the data, and some plots showing the low dimensional representation. In single cell RNA-seq, this is the now classic cluster of cell types plot, where each cluster is a type of cells.\n",
    "\n",
    "In this work, we'll see if the two tissue types separate into clusters."
   ]
  },
  {
   "cell_type": "markdown",
   "metadata": {
    "colab_type": "text",
    "id": "Wm5fT5IBSAdx"
   },
   "source": [
    "# Auth"
   ]
  },
  {
   "cell_type": "code",
   "execution_count": null,
   "metadata": {
    "colab": {
     "base_uri": "https://localhost:8080/",
     "height": 258
    },
    "colab_type": "code",
    "id": "G8YUY7P2SOlS",
    "outputId": "724e3b1b-58c8-4ab7-f340-40007bc4aca9"
   },
   "outputs": [],
   "source": [
    "# first we'll log in, in order to access a project bucket.\n",
    "\n",
    "!gcloud auth login\n",
    "\n",
    "# in order to authenticate and get a credentials token use the following:\n",
    "# !gcloud auth application-default login"
   ]
  },
  {
   "cell_type": "markdown",
   "metadata": {
    "colab_type": "text",
    "id": "1iSD59Z5eTba"
   },
   "source": [
    "\n",
    "---\n"
   ]
  },
  {
   "cell_type": "markdown",
   "metadata": {
    "colab_type": "text",
    "id": "duawtph3-k6C"
   },
   "source": [
    "# Software install"
   ]
  },
  {
   "cell_type": "markdown",
   "metadata": {
    "colab_type": "text",
    "id": "RQs_zH78eiLL"
   },
   "source": [
    "First we need to install scanpy, the python library that streamlines these types of analysis.\n",
    "\n",
    "The documentation on scanpy can be found at: \n",
    "https://icb-scanpy.readthedocs-hosted.com/en/stable/index.html"
   ]
  },
  {
   "cell_type": "code",
   "execution_count": null,
   "metadata": {
    "colab": {
     "base_uri": "https://localhost:8080/",
     "height": 816
    },
    "colab_type": "code",
    "id": "ULklCEN4eeq1",
    "outputId": "b96328d8-2635-4646-fcdf-9405cc36de89"
   },
   "outputs": [],
   "source": [
    "!pip3 install scanpy\n",
    "\n",
    "#!pip3 install leiden  # for clustering"
   ]
  },
  {
   "cell_type": "markdown",
   "metadata": {
    "colab_type": "text",
    "id": "xnUP-wgoeTsF"
   },
   "source": [
    "Now that we have our software installed, we can import the libraries and read in some data"
   ]
  },
  {
   "cell_type": "code",
   "execution_count": null,
   "metadata": {
    "colab": {},
    "colab_type": "code",
    "id": "hLiNsOYdez6Q"
   },
   "outputs": [],
   "source": [
    "import scanpy as sc\n",
    "import pandas as pd\n"
   ]
  },
  {
   "cell_type": "markdown",
   "metadata": {
    "colab_type": "text",
    "id": "D1hM4YOy-c8y"
   },
   "source": [
    "# Reading in data"
   ]
  },
  {
   "cell_type": "markdown",
   "metadata": {
    "colab_type": "text",
    "id": "PHXSv2h2e4bI"
   },
   "source": [
    "I have some data already stored in a bucket.. we'll copy that over, and read it into scanpy making what's called an 'adata' object."
   ]
  },
  {
   "cell_type": "code",
   "execution_count": null,
   "metadata": {
    "colab": {
     "base_uri": "https://localhost:8080/",
     "height": 102
    },
    "colab_type": "code",
    "id": "yXuQN2fOfBhI",
    "outputId": "1ec94310-de0d-43ac-c82e-56f8953ded0b"
   },
   "outputs": [
    {
     "name": "stdout",
     "output_type": "stream",
     "text": [
      "Copying gs://tcga_expr_data_bucket/data_labels.tsv...\n",
      "Copying gs://tcga_expr_data_bucket/tcga_expr_data.tsv...\n",
      "Copying gs://tcga_expr_data_bucket/tcga_expr_data_no_header.tsv...\n",
      "/ [3/3 files][  1.1 MiB/  1.1 MiB] 100% Done                                    \n",
      "Operation completed over 3 objects/1.1 MiB.                                      \n"
     ]
    }
   ],
   "source": [
    "!gsutil -m cp gs://tcga_expr_data_bucket/* ."
   ]
  },
  {
   "cell_type": "code",
   "execution_count": null,
   "metadata": {
    "colab": {
     "base_uri": "https://localhost:8080/",
     "height": 187
    },
    "colab_type": "code",
    "id": "PkV2G8JWtYwr",
    "outputId": "d9b26869-adaa-4187-f0e5-564292da540c"
   },
   "outputs": [
    {
     "name": "stdout",
     "output_type": "stream",
     "text": [
      "ID\tStudy\n",
      "fe8b28e6.e019.475a.bfd7.d5880a6967fe\tMESO\n",
      "e0848b76.e86a.4564.a5ae.f3daee48224d\tMESO\n",
      "X3d627ad5.9b51.4caf.aa2c.645a184e7f30\tMESO\n",
      "da195984.1a09.46d9.93c3.544cc93ae437\tMESO\n",
      "c635ded2.c7a2.4d60.b9a1.c2d933e89b1c\tMESO\n",
      "X9af6ff5c.fc37.4bf8.be98.af08fd41f8c9\tMESO\n",
      "X03117c7b.8e3b.4f78.bf72.641902abd90c\tMESO\n",
      "X8112112b.b75b.4dab.8185.1074f5d4bd0d\tMESO\n",
      "ab84c983.7fa3.4b44.9ed3.12654fb366a4\tMESO\n"
     ]
    }
   ],
   "source": [
    "!head data_labels.tsv"
   ]
  },
  {
   "cell_type": "code",
   "execution_count": null,
   "metadata": {
    "colab": {},
    "colab_type": "code",
    "id": "YUbFXCkofxHe"
   },
   "outputs": [],
   "source": [
    "# scanpy is expecting the matrix to have samples (or cells) in rows and genes in columns\n",
    "# also the expectation is that the first column will be sample IDs, and that gene names\n",
    "# will be supplied separately.\n",
    "\n",
    "adata = sc.read_csv('tcga_expr_data_no_header.tsv',  delimiter='\\t', first_column_names=True )\n",
    "\n",
    "# if you were reading the output of cellranger, there's a separate genes file that's read in.\n",
    "# adata = sc.read_mtx( 'cellranger directory' )"
   ]
  },
  {
   "cell_type": "code",
   "execution_count": null,
   "metadata": {
    "colab": {},
    "colab_type": "code",
    "id": "H-G4xJJUi57z"
   },
   "outputs": [],
   "source": [
    "# to make the IDs the table index\n",
    "labels = pd.read_csv('data_labels.tsv', delimiter='\\t',  index_col=0)"
   ]
  },
  {
   "cell_type": "code",
   "execution_count": null,
   "metadata": {
    "colab": {
     "base_uri": "https://localhost:8080/",
     "height": 235
    },
    "colab_type": "code",
    "id": "-du0g05vdJE1",
    "outputId": "b5d7e186-be8f-4fd8-8207-9b85bb2ba01a"
   },
   "outputs": [
    {
     "data": {
      "text/html": [
       "<div>\n",
       "<style scoped>\n",
       "    .dataframe tbody tr th:only-of-type {\n",
       "        vertical-align: middle;\n",
       "    }\n",
       "\n",
       "    .dataframe tbody tr th {\n",
       "        vertical-align: top;\n",
       "    }\n",
       "\n",
       "    .dataframe thead th {\n",
       "        text-align: right;\n",
       "    }\n",
       "</style>\n",
       "<table border=\"1\" class=\"dataframe\">\n",
       "  <thead>\n",
       "    <tr style=\"text-align: right;\">\n",
       "      <th></th>\n",
       "      <th>Study</th>\n",
       "    </tr>\n",
       "    <tr>\n",
       "      <th>ID</th>\n",
       "      <th></th>\n",
       "    </tr>\n",
       "  </thead>\n",
       "  <tbody>\n",
       "    <tr>\n",
       "      <th>fe8b28e6.e019.475a.bfd7.d5880a6967fe</th>\n",
       "      <td>MESO</td>\n",
       "    </tr>\n",
       "    <tr>\n",
       "      <th>e0848b76.e86a.4564.a5ae.f3daee48224d</th>\n",
       "      <td>MESO</td>\n",
       "    </tr>\n",
       "    <tr>\n",
       "      <th>X3d627ad5.9b51.4caf.aa2c.645a184e7f30</th>\n",
       "      <td>MESO</td>\n",
       "    </tr>\n",
       "    <tr>\n",
       "      <th>da195984.1a09.46d9.93c3.544cc93ae437</th>\n",
       "      <td>MESO</td>\n",
       "    </tr>\n",
       "    <tr>\n",
       "      <th>c635ded2.c7a2.4d60.b9a1.c2d933e89b1c</th>\n",
       "      <td>MESO</td>\n",
       "    </tr>\n",
       "  </tbody>\n",
       "</table>\n",
       "</div>"
      ],
      "text/plain": [
       "                                      Study\n",
       "ID                                         \n",
       "fe8b28e6.e019.475a.bfd7.d5880a6967fe   MESO\n",
       "e0848b76.e86a.4564.a5ae.f3daee48224d   MESO\n",
       "X3d627ad5.9b51.4caf.aa2c.645a184e7f30  MESO\n",
       "da195984.1a09.46d9.93c3.544cc93ae437   MESO\n",
       "c635ded2.c7a2.4d60.b9a1.c2d933e89b1c   MESO"
      ]
     },
     "execution_count": 91,
     "metadata": {
      "tags": []
     },
     "output_type": "execute_result"
    }
   ],
   "source": [
    "labels[0:5]\n"
   ]
  },
  {
   "cell_type": "code",
   "execution_count": null,
   "metadata": {
    "colab": {
     "base_uri": "https://localhost:8080/",
     "height": 187
    },
    "colab_type": "code",
    "id": "_fuyKV9we3vB",
    "outputId": "1e7da90f-d294-4fc4-ce05-d1c2a968954b"
   },
   "outputs": [
    {
     "data": {
      "text/html": [
       "<div>\n",
       "<style scoped>\n",
       "    .dataframe tbody tr th:only-of-type {\n",
       "        vertical-align: middle;\n",
       "    }\n",
       "\n",
       "    .dataframe tbody tr th {\n",
       "        vertical-align: top;\n",
       "    }\n",
       "\n",
       "    .dataframe thead th {\n",
       "        text-align: right;\n",
       "    }\n",
       "</style>\n",
       "<table border=\"1\" class=\"dataframe\">\n",
       "  <thead>\n",
       "    <tr style=\"text-align: right;\">\n",
       "      <th></th>\n",
       "    </tr>\n",
       "  </thead>\n",
       "  <tbody>\n",
       "    <tr>\n",
       "      <th>fe8b28e6.e019.475a.bfd7.d5880a6967fe</th>\n",
       "    </tr>\n",
       "    <tr>\n",
       "      <th>e0848b76.e86a.4564.a5ae.f3daee48224d</th>\n",
       "    </tr>\n",
       "    <tr>\n",
       "      <th>X3d627ad5.9b51.4caf.aa2c.645a184e7f30</th>\n",
       "    </tr>\n",
       "    <tr>\n",
       "      <th>da195984.1a09.46d9.93c3.544cc93ae437</th>\n",
       "    </tr>\n",
       "    <tr>\n",
       "      <th>c635ded2.c7a2.4d60.b9a1.c2d933e89b1c</th>\n",
       "    </tr>\n",
       "  </tbody>\n",
       "</table>\n",
       "</div>"
      ],
      "text/plain": [
       "Empty DataFrame\n",
       "Columns: []\n",
       "Index: [fe8b28e6.e019.475a.bfd7.d5880a6967fe, e0848b76.e86a.4564.a5ae.f3daee48224d, X3d627ad5.9b51.4caf.aa2c.645a184e7f30, da195984.1a09.46d9.93c3.544cc93ae437, c635ded2.c7a2.4d60.b9a1.c2d933e89b1c]"
      ]
     },
     "execution_count": 113,
     "metadata": {
      "tags": []
     },
     "output_type": "execute_result"
    }
   ],
   "source": [
    "adata.obs[0:5]"
   ]
  },
  {
   "cell_type": "code",
   "execution_count": null,
   "metadata": {
    "colab": {},
    "colab_type": "code",
    "id": "jFzp_gmJjG2K"
   },
   "outputs": [],
   "source": [
    "# then here we can annotate the var table.\n",
    "adata.obs['Study'] = labels"
   ]
  },
  {
   "cell_type": "code",
   "execution_count": null,
   "metadata": {
    "colab": {},
    "colab_type": "code",
    "id": "Ve-VSIUUf_gi"
   },
   "outputs": [],
   "source": [
    "# and make sure we don't have duplicate gene names\n",
    "adata.var_names_make_unique()"
   ]
  },
  {
   "cell_type": "code",
   "execution_count": null,
   "metadata": {
    "colab": {
     "base_uri": "https://localhost:8080/",
     "height": 34
    },
    "colab_type": "code",
    "id": "qGRskUGtp5HD",
    "outputId": "a4b0445a-3910-441b-d619-1937efcc9fc4"
   },
   "outputs": [
    {
     "data": {
      "text/plain": [
       "AnnData object with n_obs × n_vars = 178 × 400 "
      ]
     },
     "execution_count": 114,
     "metadata": {
      "tags": []
     },
     "output_type": "execute_result"
    }
   ],
   "source": [
    "adata"
   ]
  },
  {
   "cell_type": "code",
   "execution_count": null,
   "metadata": {
    "colab": {
     "base_uri": "https://localhost:8080/",
     "height": 204
    },
    "colab_type": "code",
    "id": "OuHfenshgAZb",
    "outputId": "25af53ab-ca40-42f7-b0c3-c50e691a02b9"
   },
   "outputs": [
    {
     "data": {
      "text/html": [
       "<div>\n",
       "<style scoped>\n",
       "    .dataframe tbody tr th:only-of-type {\n",
       "        vertical-align: middle;\n",
       "    }\n",
       "\n",
       "    .dataframe tbody tr th {\n",
       "        vertical-align: top;\n",
       "    }\n",
       "\n",
       "    .dataframe thead th {\n",
       "        text-align: right;\n",
       "    }\n",
       "</style>\n",
       "<table border=\"1\" class=\"dataframe\">\n",
       "  <thead>\n",
       "    <tr style=\"text-align: right;\">\n",
       "      <th></th>\n",
       "      <th>Study</th>\n",
       "    </tr>\n",
       "  </thead>\n",
       "  <tbody>\n",
       "    <tr>\n",
       "      <th>fe8b28e6.e019.475a.bfd7.d5880a6967fe</th>\n",
       "      <td>MESO</td>\n",
       "    </tr>\n",
       "    <tr>\n",
       "      <th>e0848b76.e86a.4564.a5ae.f3daee48224d</th>\n",
       "      <td>MESO</td>\n",
       "    </tr>\n",
       "    <tr>\n",
       "      <th>X3d627ad5.9b51.4caf.aa2c.645a184e7f30</th>\n",
       "      <td>MESO</td>\n",
       "    </tr>\n",
       "    <tr>\n",
       "      <th>da195984.1a09.46d9.93c3.544cc93ae437</th>\n",
       "      <td>MESO</td>\n",
       "    </tr>\n",
       "    <tr>\n",
       "      <th>c635ded2.c7a2.4d60.b9a1.c2d933e89b1c</th>\n",
       "      <td>MESO</td>\n",
       "    </tr>\n",
       "  </tbody>\n",
       "</table>\n",
       "</div>"
      ],
      "text/plain": [
       "                                      Study\n",
       "fe8b28e6.e019.475a.bfd7.d5880a6967fe   MESO\n",
       "e0848b76.e86a.4564.a5ae.f3daee48224d   MESO\n",
       "X3d627ad5.9b51.4caf.aa2c.645a184e7f30  MESO\n",
       "da195984.1a09.46d9.93c3.544cc93ae437   MESO\n",
       "c635ded2.c7a2.4d60.b9a1.c2d933e89b1c   MESO"
      ]
     },
     "execution_count": 117,
     "metadata": {
      "tags": []
     },
     "output_type": "execute_result"
    }
   ],
   "source": [
    "adata.obs[0:5]"
   ]
  },
  {
   "cell_type": "markdown",
   "metadata": {
    "colab_type": "text",
    "id": "ldC4tGOb-QR-"
   },
   "source": [
    "# Computing dimension reductions"
   ]
  },
  {
   "cell_type": "code",
   "execution_count": null,
   "metadata": {
    "colab": {},
    "colab_type": "code",
    "id": "FDTTbGw9etyB"
   },
   "outputs": [],
   "source": [
    "# First we'll run PCA, computing 21 components.\n",
    "sc.tl.pca(adata, n_comps=21)"
   ]
  },
  {
   "cell_type": "code",
   "execution_count": null,
   "metadata": {
    "colab": {},
    "colab_type": "code",
    "id": "gtmwmhLggJE7"
   },
   "outputs": [],
   "source": [
    "# Then we'll build the neighbor graph\n",
    "sc.pp.neighbors(adata)"
   ]
  },
  {
   "cell_type": "code",
   "execution_count": null,
   "metadata": {
    "colab": {
     "base_uri": "https://localhost:8080/",
     "height": 54
    },
    "colab_type": "code",
    "id": "WeN3ztDXhbtD",
    "outputId": "e1aec3a7-7291-45df-d0cb-fd14ef581345"
   },
   "outputs": [
    {
     "name": "stdout",
     "output_type": "stream",
     "text": [
      "WARNING: Consider installing the package MulticoreTSNE (https://github.com/DmitryUlyanov/Multicore-TSNE). Even for n_jobs=1 this speeds up the computation considerably and might yield better converged results.\n"
     ]
    }
   ],
   "source": [
    "# Here's t-SNE\n",
    "sc.tl.tsne(adata, n_pcs=4, perplexity=30, early_exaggeration=12, learning_rate=1000)"
   ]
  },
  {
   "cell_type": "code",
   "execution_count": null,
   "metadata": {
    "colab": {},
    "colab_type": "code",
    "id": "CYD6qgsB-EI5"
   },
   "outputs": [],
   "source": [
    "# and here's UMAP\n",
    "sc.tl.umap(adata)"
   ]
  },
  {
   "cell_type": "markdown",
   "metadata": {
    "colab_type": "text",
    "id": "YobdArEM-AR5"
   },
   "source": [
    "# Making plots"
   ]
  },
  {
   "cell_type": "code",
   "execution_count": null,
   "metadata": {
    "colab": {
     "base_uri": "https://localhost:8080/",
     "height": 295
    },
    "colab_type": "code",
    "id": "pLvyANAx-Gy5",
    "outputId": "606f990b-b396-41c4-de66-1678aa67c462"
   },
   "outputs": [
    {
     "name": "stdout",
     "output_type": "stream",
     "text": [
      "WARNING: saving figure to file figures/pca_tcga.png\n"
     ]
    },
    {
     "data": {
      "image/png": "[encoded data removed]",
      "text/plain": [
       "<Figure size 432x288 with 1 Axes>"
      ]
     },
     "metadata": {
      "tags": []
     },
     "output_type": "display_data"
    }
   ],
   "source": [
    "# giving seaborn the save parameter, saves a file along with displaying it here.\n",
    "sc.pl.pca(adata, color='Study', save='_tcga.png')"
   ]
  },
  {
   "cell_type": "code",
   "execution_count": null,
   "metadata": {
    "colab": {
     "base_uri": "https://localhost:8080/",
     "height": 295
    },
    "colab_type": "code",
    "id": "4MdYs9KfibkP",
    "outputId": "f53b7408-7d32-44b8-eae8-d9fa33e632c6"
   },
   "outputs": [
    {
     "name": "stdout",
     "output_type": "stream",
     "text": [
      "WARNING: saving figure to file figures/tsne_tcga.png\n"
     ]
    },
    {
     "data": {
      "image/png": "[encoded data removed]",
      "text/plain": [
       "<Figure size 432x288 with 1 Axes>"
      ]
     },
     "metadata": {
      "tags": []
     },
     "output_type": "display_data"
    }
   ],
   "source": [
    "sc.pl.tsne(adata, color='Study', save='_tcga.png')"
   ]
  },
  {
   "cell_type": "code",
   "execution_count": null,
   "metadata": {
    "colab": {
     "base_uri": "https://localhost:8080/",
     "height": 295
    },
    "colab_type": "code",
    "id": "C2oXFC8GrcPC",
    "outputId": "5c6985de-fa1e-4c1f-e40d-8818cf6eee74"
   },
   "outputs": [
    {
     "name": "stdout",
     "output_type": "stream",
     "text": [
      "WARNING: saving figure to file figures/umap_tcga.png\n"
     ]
    },
    {
     "data": {
      "image/png": "[encoded data removed]",
      "text/plain": [
       "<Figure size 432x288 with 1 Axes>"
      ]
     },
     "metadata": {
      "tags": []
     },
     "output_type": "display_data"
    }
   ],
   "source": [
    "sc.pl.umap(adata, color='Study', save='_tcga.png')"
   ]
  },
  {
   "cell_type": "markdown",
   "metadata": {
    "colab_type": "text",
    "id": "3jJyaQ4HihgQ"
   },
   "source": [
    "# Wrapping up and writing results and figures  back to our bucket."
   ]
  },
  {
   "cell_type": "code",
   "execution_count": null,
   "metadata": {
    "colab": {},
    "colab_type": "code",
    "id": "IEoPYXKw8wdg"
   },
   "outputs": [],
   "source": [
    "sc.write(filename='tcga.h5ad', adata=adata)\n",
    "\n",
    "# if we wanted to continue the analysis we would read in the data as:\n",
    "# adata = sc.read('tcga.h5ad')\n"
   ]
  },
  {
   "cell_type": "code",
   "execution_count": null,
   "metadata": {
    "colab": {},
    "colab_type": "code",
    "id": "zls3egVB82ev"
   },
   "outputs": [],
   "source": [
    "!gsutil cp tcga.h5ad umap_tcga.png tsne_tcga.png gs://my-project/scanpy_adatas"
   ]
  }
 ],
 "metadata": {
  "colab": {
   "collapsed_sections": [],
   "name": "TCGA UMAP",
   "provenance": []
  },
  "kernelspec": {
   "display_name": "Python 3",
   "language": "python",
   "name": "python3"
  },
  "language_info": {
   "codemirror_mode": {
    "name": "ipython",
    "version": 3
   },
   "file_extension": ".py",
   "mimetype": "text/x-python",
   "name": "python",
   "nbconvert_exporter": "python",
   "pygments_lexer": "ipython3",
   "version": "3.7.3"
  }
 },
 "nbformat": 4,
 "nbformat_minor": 4
}
