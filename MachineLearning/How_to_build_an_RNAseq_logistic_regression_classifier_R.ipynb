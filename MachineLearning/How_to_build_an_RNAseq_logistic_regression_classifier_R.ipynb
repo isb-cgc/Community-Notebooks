{
  "nbformat": 4,
  "nbformat_minor": 0,
  "metadata": {
    "colab": {
      "name": "How_to_build_an_RNAseq_logistic_regression_classifier_R.ipynb",
      "provenance": [],
      "authorship_tag": "ABX9TyNLPB7/CX0Y2TklFt5LHk1R",
      "include_colab_link": true
    },
    "kernelspec": {
      "name": "ir",
      "display_name": "R"
    },
    "language_info": {
      "name": "R"
    }
  },
  "cells": [
    {
      "cell_type": "markdown",
      "metadata": {
        "id": "view-in-github",
        "colab_type": "text"
      },
      "source": [
        "<a href=\"https://colab.research.google.com/github/isb-cgc/Community-Notebooks/blob/master/MachineLearning/How_to_build_an_RNAseq_logistic_regression_classifier_R.ipynb\" target=\"_parent\"><img src=\"https://colab.research.google.com/assets/colab-badge.svg\" alt=\"Open In Colab\"/></a>"
      ]
    },
    {
      "cell_type": "markdown",
      "metadata": {
        "id": "-a-XwF2XfDSE"
      },
      "source": [
        "# How to build an RNA-seq logistic regression classifier in R\n",
        "Check out other notebooks at our [Community Notebooks Repository](https://github.com/isb-cgc/Community-Notebooks)!\n",
        "\n",
        "- **Title:** How to build an RNA-seq logistic regression classifier in R\n",
        "- **Author:** John Phan\n",
        "- **Created:** 2021-07-07\n",
        "- **Purpose:** Demonstrate a basic machine learning method to predict a cancer endpoint using gene expression data.\n",
        "- **URL:** https://github.com/isb-cgc/Community-Notebooks/blob/master/MachineLearning/How_to_build_an_RNAseq_logistic_regression_classifier_R.ipynb\n",
        "- **Note:** This example is based on the work published by [Bosquet et al.](https://molecular-cancer.biomedcentral.com/articles/10.1186/s12943-016-0548-9)\n",
        "\n",
        "This notebook demonstrates how to build a basic machine learning model to predict ovarian cancer treatment outcome. Ovarian cancer gene expression data is pulled from a BigQuery table and formatted using Pandas. The data is then split into training and testing sets to build and test a logistic regression classifier using the R SuperML library. \n"
      ]
    },
    {
      "cell_type": "markdown",
      "metadata": {
        "id": "Xs1wPDK8fPft"
      },
      "source": [
        "## Import Dependencies"
      ]
    },
    {
      "cell_type": "code",
      "metadata": {
        "id": "uLO2so7YeCIT"
      },
      "source": [
        "# BigQuery library\n",
        "if (!require(bigrquery)) {\n",
        "  print('Installing bigrquery package')\n",
        "  install.packages('bigrquery')\n",
        "  if (!require(bigrquery)) {\n",
        "    print('Cannot install bigrquery package')\n",
        "  }\n",
        "}\n",
        "\n",
        "# Tidyr library\n",
        "if (!require(tidyr)) {\n",
        "  print('Installing tidyr package')\n",
        "  install.packages('tidyr')\n",
        "  if (!require(tidyr)) {\n",
        "    print('Cannot install tidyr package')\n",
        "  }\n",
        "}\n",
        "\n",
        "# Caret library for machine learning\n",
        "if (!require(caret)) {\n",
        "  print('Installing caret package')\n",
        "  install.packages('caret')\n",
        "  if (!require(caret)) {\n",
        "    print('Cannot install caret package')\n",
        "  }\n",
        "}\n",
        "\n",
        "# SuperML library for machine learning\n",
        "if (!require(superml)) {\n",
        "  print('Installing superml package')\n",
        "  install.packages('superml')\n",
        "  if (!require(superml)) {\n",
        "    print('Cannot install superml package')\n",
        "  }\n",
        "}\n",
        "\n",
        "# glmnet library for generalized linear models\n",
        "if (!require(glmnet)) {\n",
        "  print('Installing glmnet package')\n",
        "  install.packages('glmnet')\n",
        "  if (!require(glmnet)) {\n",
        "    print('Cannot install glmnet package')\n",
        "  }\n",
        "}\n",
        "\n",
        "# pROC library for calculating AUC\n",
        "if (!require(pROC)) {\n",
        "  print('Installing pROC package')\n",
        "  install.packages('pROC')\n",
        "  if (!require(pROC)) {\n",
        "    print('Cannot install pROC package')\n",
        "  }\n",
        "}"
      ],
      "execution_count": null,
      "outputs": []
    },
    {
      "cell_type": "markdown",
      "metadata": {
        "id": "Dtg1ZI9YiB-U"
      },
      "source": [
        "## Authenticate to Access BigQuery\n",
        "\n",
        "Before using BigQuery, we need to get authorization for access to BigQuery and the Google Cloud. For more information see ['Quick Start Guide to ISB-CGC'](https://isb-cancer-genomics-cloud.readthedocs.io/en/latest/sections/HowToGetStartedonISB-CGC.html). R notebooks that use the BigRQuery library need the following work-around to authenticate. See the following link: https://gist.github.com/jobdiogenes/235620928c84e604c6e56211ccf681f0"
      ]
    },
    {
      "cell_type": "code",
      "metadata": {
        "id": "hMiBLLIQiFK0"
      },
      "source": [
        "# NOTE: this cell is only required if you're using Google Colab\n",
        "if (!require('R.utils')) {\n",
        "    print('Installing R.utils package')\n",
        "    install.packages(\"R.utils\")\n",
        "    if (!require('R.utils')) {\n",
        "        print('Cannot install R.utils package')\n",
        "    }\n",
        "}\n",
        "\n",
        "if (!require('httr')) {\n",
        "    print('Installing httr package')\n",
        "    install.pckages('httr')\n",
        "    if (!require('httr')) {\n",
        "        print('Cannot install httr package')\n",
        "    }\n",
        "}\n",
        "\n",
        "my_check <- function() {return(TRUE)}\n",
        "reassignInPackage(\"is_interactive\", pkgName = \"httr\", my_check) \n",
        "options(rlang_interactive=TRUE)"
      ],
      "execution_count": null,
      "outputs": []
    },
    {
      "cell_type": "code",
      "metadata": {
        "id": "TpegJjvDiOUX"
      },
      "source": [
        "# Now authenticate to BQ. Be sure to select the BigQuery scope!\n",
        "bq_auth(use_oob = TRUE, cache = TRUE)"
      ],
      "execution_count": null,
      "outputs": []
    },
    {
      "cell_type": "markdown",
      "metadata": {
        "id": "jIaqve5khiSK"
      },
      "source": [
        "## Parameters"
      ]
    },
    {
      "cell_type": "code",
      "metadata": {
        "id": "XtYTGJIzhkn2"
      },
      "source": [
        "# set the google project that will be billed for this notebook's computations\n",
        "google_project <- 'google-project'\n",
        "\n",
        "# in this example, we'll be using the Ovarian cancer TCGA dataset\n",
        "cancer_type <- 'TCGA-OV'\n",
        "\n",
        "# gene expression data will be pulled from this BigQuery project\n",
        "bq_project <- 'isb-cgc-bq'"
      ],
      "execution_count": null,
      "outputs": []
    },
    {
      "cell_type": "markdown",
      "metadata": {
        "id": "cfX5Ght7ht-L"
      },
      "source": [
        "## Get Gene Expression Data from BigQuery Table\n",
        "\n",
        "Pull RNA-seq gene expression data from the TCGA RNA-seq BigQuery table and join it with the clinical data table to create a labeled data frame. In this example, we will label the samples based on therapy outcome. \"Complete Remission/Response\" will be labeled as \"1\" while all other therapy outcomes will be labeled as \"0\". This prepares the data for binary classification. \n",
        "\n",
        "Prediction modeling with RNA-seq data typically requires a feature selection step to reduce the dimensionality of the data before training a classifier. However, to simplify this example, we will use a pre-identified set of 33 genes (Bosquet et al. identified 34 genes, but PRSS2 and its aliases are not available in the hg38 RNA-seq data). \n"
      ]
    },
    {
      "cell_type": "code",
      "metadata": {
        "colab": {
          "base_uri": "https://localhost:8080/"
        },
        "id": "37Kqwy2thxQw",
        "outputId": "c39a4f86-f246-471d-9abf-50539388d7ec"
      },
      "source": [
        "# Build query to retrieve gene expression data\n",
        "ge_query <- sprintf(\"\n",
        "  SELECT\n",
        "    ge.case_barcode AS sample,\n",
        "    labels.response_label AS label,\n",
        "    ge.gene_name AS gene_name,\n",
        "    -- Multiple samples may exist per case, take the max value\n",
        "    MAX(LOG(ge.fpkm_uq_unstranded+1)) AS gene_expression\n",
        "  FROM `%s.TCGA_versioned.RNAseq_hg38_gdc_r35` AS ge\n",
        "  INNER JOIN (\n",
        "    SELECT\n",
        "      *\n",
        "    FROM (\n",
        "      SELECT\n",
        "        case_barcode,\n",
        "        primary_therapy_outcome_success,\n",
        "        CASE\n",
        "          -- Complete Reponse    --> label as 1\n",
        "          -- All other responses --> label as 0\n",
        "          WHEN primary_therapy_outcome_success = 'Complete Remission/Response' THEN 1\n",
        "          WHEN (primary_therapy_outcome_success IN (\n",
        "            'Partial Remission/Response','Progressive Disease','Stable Disease'\n",
        "          )) THEN 0\n",
        "        END AS response_label\n",
        "        FROM `%s.TCGA_versioned.clinical_gdc_2019_06`\n",
        "        WHERE\n",
        "          project_short_name = '%s'\n",
        "          AND primary_therapy_outcome_success IS NOT NULL\n",
        "    )\n",
        "  ) labels\n",
        "  ON labels.case_barcode = ge.case_barcode\n",
        "  WHERE gene_name IN ( -- 33 Gene signature, leave out PRSS2 (aka TRYP2)\n",
        "    'RHOT1','MYO7A','ZBTB10','MATK','ST18','RPS23','GCNT1','DROSHA','NUAK1','CCPG1',\n",
        "    'PDGFD','KLRAP1','MTAP','RNF13','THBS1','MLX','FAP','TIMP3','PRSS1','SLC7A11',\n",
        "    'OLFML3','RPS20','MCM5','POLE','STEAP4','LRRC8D','WBP1L','ENTPD5','SYNE1','DPT',\n",
        "    'COPZ2','TRIO','PDPR'\n",
        "  )\n",
        "  GROUP BY sample, label, gene_name\n",
        "\", bq_project, bq_project, cancer_type)\n",
        "\n",
        "# Run the query\n",
        "ge_table <- bq_project_query(google_project, ge_query, quiet = TRUE)\n",
        "\n",
        "# Download the query result\n",
        "ge_data <- bq_table_download(ge_table, quiet = TRUE)\n",
        "\n",
        "# Show the dataframe\n",
        "str(ge_data)"
      ],
      "execution_count": null,
      "outputs": [
        {
          "output_type": "stream",
          "name": "stdout",
          "text": [
            "tibble [8,712 × 4] (S3: tbl_df/tbl/data.frame)\n",
            " $ sample         : chr [1:8712] \"TCGA-24-1423\" \"TCGA-24-1563\" \"TCGA-25-1326\" \"TCGA-24-2036\" ...\n",
            " $ label          : int [1:8712] 1 1 0 1 1 1 1 1 0 1 ...\n",
            " $ gene_name      : chr [1:8712] \"POLE\" \"TRIO\" \"PDGFD\" \"POLE\" ...\n",
            " $ gene_expression: num [1:8712] 10.3 11.5 11.5 12 10.4 ...\n"
          ]
        }
      ]
    },
    {
      "cell_type": "markdown",
      "metadata": {
        "id": "0LTS_R8ViepV"
      },
      "source": [
        "## Reshape the Data\n",
        "\n",
        "The data pulled from BigQuery is formatted such that each row corresponds to a sample/gene combination. However, to use the data with scikit-learn, it is more convenient to reshape the data such that each row corresponds to a sample and each column corresponds to a gene. We'll use tidyr spread() function to pivot the data.\n"
      ]
    },
    {
      "cell_type": "code",
      "metadata": {
        "colab": {
          "base_uri": "https://localhost:8080/"
        },
        "id": "eldhMXBpihVA",
        "outputId": "65bbf79f-f6d0-4466-ca8e-cc048ef8b909"
      },
      "source": [
        "# Pivot the data frame with spread()\n",
        "ge_data_pivot <- spread(ge_data, key = \"gene_name\", value = \"gene_expression\")\n",
        "\n",
        "# Display pivoted data frame\n",
        "str(ge_data_pivot)"
      ],
      "execution_count": null,
      "outputs": [
        {
          "output_type": "stream",
          "name": "stdout",
          "text": [
            "tibble [264 × 35] (S3: tbl_df/tbl/data.frame)\n",
            " $ sample : chr [1:264] \"TCGA-04-1331\" \"TCGA-04-1341\" \"TCGA-04-1343\" \"TCGA-04-1347\" ...\n",
            " $ label  : int [1:264] 1 1 0 1 0 0 0 0 1 1 ...\n",
            " $ CCPG1  : num [1:264] 10.5 10.6 10.9 10.7 10.2 ...\n",
            " $ COPZ2  : num [1:264] 11.1 12 12.6 11.1 10.4 ...\n",
            " $ DPT    : num [1:264] 10.01 10.22 11.12 9.65 6.81 ...\n",
            " $ DROSHA : num [1:264] 12.3 12.5 11.8 12.2 12.4 ...\n",
            " $ ENTPD5 : num [1:264] 10.78 10.35 10.41 9.97 11.52 ...\n",
            " $ FAP    : num [1:264] 10.28 9.94 10.75 9.04 0 ...\n",
            " $ GCNT1  : num [1:264] 12.59 9.11 9.79 10.76 10.62 ...\n",
            " $ KLRAP1 : num [1:264] 11.37 10.55 9.74 10.46 9.82 ...\n",
            " $ LRRC8D : num [1:264] 12.6 12.1 12.3 13 12.3 ...\n",
            " $ MATK   : num [1:264] 8.5 10.12 11.18 7.92 8.17 ...\n",
            " $ MCM5   : num [1:264] 12.7 12.3 12.6 12.6 11.8 ...\n",
            " $ MLX    : num [1:264] 11.8 12.9 12.2 12.5 11.7 ...\n",
            " $ MTAP   : num [1:264] 11.2 10.4 10.3 10.6 10.6 ...\n",
            " $ MYO7A  : num [1:264] 8.26 11.44 9.63 8.87 9.13 ...\n",
            " $ NUAK1  : num [1:264] 11.3 10.8 11.3 10.4 9.4 ...\n",
            " $ OLFML3 : num [1:264] 12.9 12.5 13.3 14.1 11.9 ...\n",
            " $ PDGFD  : num [1:264] 11.12 9.65 11.58 11.29 9.98 ...\n",
            " $ PDPR   : num [1:264] 11.4 10.9 11.2 11.8 11.5 ...\n",
            " $ POLE   : num [1:264] 11.9 11 11 11.2 10.5 ...\n",
            " $ PRSS1  : num [1:264] 12.4 12.4 11.8 12.5 11.7 ...\n",
            " $ RHOT1  : num [1:264] 11.3 11.4 11.2 11.8 11.7 ...\n",
            " $ RNF13  : num [1:264] 12.5 12 12.2 12.5 12.3 ...\n",
            " $ RPS20  : num [1:264] 16 17.7 16.9 17.6 17.7 ...\n",
            " $ RPS23  : num [1:264] 13.8 16.1 16.2 15.8 16.2 ...\n",
            " $ SLC7A11: num [1:264] 10.51 8.73 10.39 8.32 11.48 ...\n",
            " $ ST18   : num [1:264] 5.03 0 6.02 4.84 5.02 ...\n",
            " $ STEAP4 : num [1:264] 9.41 8.16 10.09 7.72 5.26 ...\n",
            " $ SYNE1  : num [1:264] 9.05 8.48 8.86 8.53 7.52 ...\n",
            " $ THBS1  : num [1:264] 12.3 12.4 13.1 12.3 11 ...\n",
            " $ TIMP3  : num [1:264] 10.27 9.22 11.06 10.37 10.15 ...\n",
            " $ TRIO   : num [1:264] 11.8 11.5 11.3 11.3 11.5 ...\n",
            " $ WBP1L  : num [1:264] 12.7 12.7 13.1 13.1 13.6 ...\n",
            " $ ZBTB10 : num [1:264] 11.9 11.7 11.5 11.1 12.6 ...\n"
          ]
        }
      ]
    },
    {
      "cell_type": "markdown",
      "metadata": {
        "id": "oYgr_mK8itet"
      },
      "source": [
        "## Prepare the Data for Prediction Modeling\n",
        "\n",
        "Prepare the data by splitting it into training and testing sets, and scaling the data. It is important that prediction models are tested on samples that are independent from the training samples in order to accurately estimate performance. \n"
      ]
    },
    {
      "cell_type": "code",
      "metadata": {
        "id": "GKc4PGyMiuhe"
      },
      "source": [
        "# remove the sample names column from the data frame\n",
        "ge_data_pivot_nosample <- subset(ge_data_pivot, select=-c(sample))\n",
        "\n",
        "# use the caret createDataPartition function to create a balanced split of the data into train and test sets\n",
        "set.seed(10)\n",
        "train_rows = createDataPartition(ge_data_pivot_nosample$label, p=0.5, list=FALSE, times=1)\n",
        "train_data <- ge_data_pivot_nosample[train_rows,]\n",
        "test_data <- ge_data_pivot_nosample[-train_rows,]\n",
        "\n",
        "# move labels to their own variables\n",
        "train_y <- train_data$label\n",
        "test_y <- test_data$label\n",
        "\n",
        "# use caret's preProcess function to scale the data to 0 mean and unit variance\n",
        "pre_proc_vals <- preProcess(subset(train_data, select=-c(label)), method=c('center', 'scale'))\n",
        "train_x <- predict(pre_proc_vals, subset(train_data, select=-c(label)))\n",
        "test_x <- predict(pre_proc_vals, subset(test_data, select=-c(label)))\n",
        "\n",
        "# recombine the data and labels\n",
        "train_data <- train_x\n",
        "train_data$label <- train_y\n",
        "test_data <- test_x\n",
        "test_data$label <- test_y"
      ],
      "execution_count": null,
      "outputs": []
    },
    {
      "cell_type": "markdown",
      "metadata": {
        "id": "_8ZGWd-Zi4nv"
      },
      "source": [
        "## Train and Test the Prediction Model\n",
        "\n",
        "We use a simple logistic regression classifier implemented in the \"SuperML\" R package. SuperML was designed to be very similar to the Python scikit-learn package for machine learning. More information about the SuperML can be found [here](https://rdrr.io/cran/superml/f/vignettes/introduction.Rmd). After training the classifier using the \"fit\" function, we use the \"predict\" function to predict a decision value for each sample in the test dataset. Because the dataset may not be balanced in terms of the number of samples in each class, we use AUC, or Area Under the ROC curve, to assess prediction performance. The decision values are used to calculate the AUC, with higher AUC values indicating better prediction performance. An AUC of 1 indicates perfect prediction. More information about accuracy, AUC, and other classification performance metrics can be found in the [Google Machine Learning crash course](https://developers.google.com/machine-learning/crash-course/classification/video-lecture). Read about AUC [here](https://developers.google.com/machine-learning/crash-course/classification/roc-and-auc).  "
      ]
    },
    {
      "cell_type": "code",
      "metadata": {
        "colab": {
          "base_uri": "https://localhost:8080/",
          "height": 1000
        },
        "id": "TeMLZJ4Ki8uO",
        "outputId": "8d3ebfa5-f5e3-432c-bc7a-577f12e2525f"
      },
      "source": [
        "# Create an instance of the model using the superml Linear Model trainer and \n",
        "# the binomial family for logistic regression classification\n",
        "model <- LMTrainer$new(family = 'binomial')\n",
        "\n",
        "# Fit the model with the training data\n",
        "model$fit(X=train_data, y='label')\n",
        "summary(model$model)\n",
        "\n",
        "# Predict samples in the test data\n",
        "predictions <- model$predict(df=test_data)\n",
        "\n",
        "# Evaluate performance using AUC\n",
        "auc_value <- auc(test_data$label, predictions)\n",
        "print(sprintf('Prediction Performance (AUC): %s', auc_value))"
      ],
      "execution_count": null,
      "outputs": [
        {
          "output_type": "display_data",
          "data": {
            "text/plain": [
              "\n",
              "Call:\n",
              "stats::glm(formula = f, family = self$family, data = X, weights = self$weights)\n",
              "\n",
              "Deviance Residuals: \n",
              "    Min       1Q   Median       3Q      Max  \n",
              "-2.4077  -0.8051   0.3323   0.7529   1.7680  \n",
              "\n",
              "Coefficients:\n",
              "            Estimate Std. Error z value Pr(>|z|)    \n",
              "(Intercept)  1.37915    0.29223   4.719 2.37e-06 ***\n",
              "CCPG1       -0.10863    0.40005  -0.272   0.7860    \n",
              "COPZ2        0.22430    0.56831   0.395   0.6931    \n",
              "DPT         -0.34782    0.51897  -0.670   0.5027    \n",
              "DROSHA       0.12363    0.36257   0.341   0.7331    \n",
              "ENTPD5       0.26706    0.34229   0.780   0.4353    \n",
              "FAP          0.17426    0.64122   0.272   0.7858    \n",
              "GCNT1        0.27284    0.32335   0.844   0.3988    \n",
              "KLRAP1      -0.01840    0.33708  -0.055   0.9565    \n",
              "LRRC8D       0.49565    0.30413   1.630   0.1032    \n",
              "MATK        -0.38799    0.33643  -1.153   0.2488    \n",
              "MCM5        -0.16778    0.36915  -0.455   0.6495    \n",
              "MLX          0.71550    0.45484   1.573   0.1157    \n",
              "MTAP         0.15597    0.28732   0.543   0.5872    \n",
              "MYO7A        0.04331    0.33216   0.130   0.8963    \n",
              "NUAK1       -0.42736    0.39572  -1.080   0.2802    \n",
              "OLFML3      -0.10515    0.39579  -0.266   0.7905    \n",
              "PDGFD        0.07814    0.38581   0.203   0.8395    \n",
              "PDPR         0.47315    0.35067   1.349   0.1772    \n",
              "POLE         0.73512    0.47320   1.553   0.1203    \n",
              "PRSS1       -0.26930    0.30626  -0.879   0.3792    \n",
              "RHOT1       -0.64278    0.34833  -1.845   0.0650 .  \n",
              "RNF13        0.64850    0.36796   1.762   0.0780 .  \n",
              "RPS20        1.00543    0.48870   2.057   0.0397 *  \n",
              "RPS23       -0.10848    0.42856  -0.253   0.8002    \n",
              "SLC7A11      0.36360    0.29058   1.251   0.2108    \n",
              "ST18        -0.41047    0.34837  -1.178   0.2387    \n",
              "STEAP4      -0.06865    0.30454  -0.225   0.8217    \n",
              "SYNE1       -0.01625    0.38984  -0.042   0.9668    \n",
              "THBS1        0.64406    0.54842   1.174   0.2402    \n",
              "TIMP3       -0.18786    0.47919  -0.392   0.6950    \n",
              "TRIO         0.30284    0.39266   0.771   0.4406    \n",
              "WBP1L       -0.51022    0.33678  -1.515   0.1298    \n",
              "ZBTB10       0.24819    0.31424   0.790   0.4296    \n",
              "---\n",
              "Signif. codes:  0 ‘***’ 0.001 ‘**’ 0.01 ‘*’ 0.05 ‘.’ 0.1 ‘ ’ 1\n",
              "\n",
              "(Dispersion parameter for binomial family taken to be 1)\n",
              "\n",
              "    Null deviance: 160.24  on 131  degrees of freedom\n",
              "Residual deviance: 119.14  on  98  degrees of freedom\n",
              "AIC: 187.14\n",
              "\n",
              "Number of Fisher Scoring iterations: 5\n"
            ]
          },
          "metadata": {}
        },
        {
          "output_type": "stream",
          "name": "stderr",
          "text": [
            "Setting levels: control = 0, case = 1\n",
            "\n",
            "Setting direction: controls < cases\n",
            "\n"
          ]
        },
        {
          "output_type": "stream",
          "name": "stdout",
          "text": [
            "[1] \"Prediction Performance (AUC): 0.713391739674593\"\n"
          ]
        }
      ]
    },
    {
      "cell_type": "markdown",
      "metadata": {
        "id": "3hBZn6lFlbMV"
      },
      "source": [
        "## Evaluate Prediction Performance\n",
        "\n",
        "The prediction performance AUC of 0.71 is within the performance range (0.7 to 0.8) of the models developed by Bosquet et al. Note that if the \"random_state\" value is changed in the train/test split step, prediction performance will vary. Thus, a better method for assessing performance would be to generate multiple permutations of train/test datasets, calculate prediction performance for each permutation, and report the mean and standard deviation of AUC.\n"
      ]
    },
    {
      "cell_type": "code",
      "metadata": {
        "id": "82LJMPQVkj6W"
      },
      "source": [
        "num_iters <- 100\n",
        "auc_vals <- c()\n",
        "\n",
        "for (i in 1:num_iters) {\n",
        "  # use the caret createDataPartition function to create a balanced split of the data into train and test sets\n",
        "  train_rows = createDataPartition(ge_data_pivot_nosample$label, p=0.5, list=FALSE, times=1)\n",
        "  train_data <- ge_data_pivot_nosample[train_rows,]\n",
        "  test_data <- ge_data_pivot_nosample[-train_rows,]\n",
        "\n",
        "  # move labels to their own variables\n",
        "  train_y <- train_data$label\n",
        "  test_y <- test_data$label\n",
        "\n",
        "  # use caret's preProcess function to scale the data to 0 mean and unit variance\n",
        "  pre_proc_vals <- preProcess(subset(train_data, select=-c(label)), method=c('center', 'scale'))\n",
        "  train_x <- predict(pre_proc_vals, subset(train_data, select=-c(label)))\n",
        "  test_x <- predict(pre_proc_vals, subset(test_data, select=-c(label)))\n",
        "\n",
        "  # recombine the data and labels\n",
        "  train_data <- train_x\n",
        "  train_data$label <- train_y\n",
        "  test_data <- test_x\n",
        "  test_data$label <- test_y\n",
        "\n",
        "  # Create an instance of the model using the superml Linear Model trainer and \n",
        "  # the binomial family for logistic regression classification\n",
        "  model <- LMTrainer$new(family = 'binomial')\n",
        "\n",
        "  # Fit the model with the training data\n",
        "  model$fit(X=train_data, y='label')\n",
        "\n",
        "  # Predict samples in the test data\n",
        "  predictions <- model$predict(df=test_data)\n",
        "\n",
        "  # Evaluate performance using AUC\n",
        "  auc_val <- auc(test_data$label, predictions)\n",
        "  auc_vals[i] <- auc_val\n",
        "}\n",
        "\n",
        "print(sprintf('AUC Mean: %s', mean(auc_vals)))\n",
        "print(sprintf('AUC Standard Deviation: %s', sd(auc_vals)))"
      ],
      "execution_count": null,
      "outputs": []
    },
    {
      "cell_type": "markdown",
      "metadata": {
        "id": "JxV9vK-BmMog"
      },
      "source": [
        "## Visualize and Interpret Results\n",
        "\n",
        "We can use data visualization to help interpret the classifier's performance. Although our initial prediction result was 0.71, the average prediction result over several random permutations of the data is actually below 0.7, with a range spanning approximately 0.6 to 0.7. An AUC of 0.7 can be interpreted as a 70% chance that the classifier's prediction (i.e., \"Complete Remission/Response\" or not) is correct. "
      ]
    },
    {
      "cell_type": "code",
      "metadata": {
        "colab": {
          "base_uri": "https://localhost:8080/",
          "height": 437
        },
        "id": "U99DUlIGmQKt",
        "outputId": "ee636ea6-65b6-42d0-c800-49a866b7e442"
      },
      "source": [
        "# use a boxplot to visualize the AUC results\n",
        "boxplot(auc_vals, ylab='Logistic Regression', xlab='AUC', horizontal=TRUE, ylim=c(0, 1))"
      ],
      "execution_count": null,
      "outputs": [
        {
          "output_type": "display_data",
          "data": {
            "image/png": "[encoded data removed]",
            "text/plain": [
              "plot without title"
            ]
          },
          "metadata": {
            "image/png": {
              "width": 420,
              "height": 420
            }
          }
        }
      ]
    },
    {
      "cell_type": "markdown",
      "metadata": {
        "id": "1J3LqC21mWWJ"
      },
      "source": [
        "## Next Steps\n",
        "\n",
        "The model trained and stored in the \"model\" variable can now be used to predict therapeutic outcome of future RNA-seq ovarian cancer samples. If the model has been trained to generalize well to the problem of predicting Ovarian cancer therapeutic outcome, we would expect that future predictions would yield up to a 70% probability of being correct. However, an inherent problem with estimating machine learning performance is its dependence on the data. Thus, if future RNA-seq samples differ from the training data (e.g., different biological population, different sequencing method or instrument, or different data normalization method), we cannot make any assumptions about the model's prediction of those samples. In addition, if the testing data in our original assessment is different from the training data, then our performance estimation of 0.7 AUC may not be reliable. See [Zhang et al.](https://academic.oup.com/nargab/article/2/3/lqaa078/5909519) for more information about RNA-seq batch effects. \n",
        "\n",
        "As an example, suppose that we have a future sample to predict:"
      ]
    },
    {
      "cell_type": "code",
      "metadata": {
        "colab": {
          "base_uri": "https://localhost:8080/"
        },
        "id": "pt4X0LWgmZvh",
        "outputId": "b4254dfa-7ef6-43f9-9d60-61e4ddd3d478"
      },
      "source": [
        "# For this example, we'll just take a single sample out of our previous test\n",
        "# dataset. However, in practical applications, the future sample usually comes\n",
        "# from new, independent datasets. \n",
        "future_sample = test_data[10,]\n",
        "\n",
        "# Predict the therapeutic outcome of the future sample using the \"predict\" \n",
        "# function, which will give us a label of either 0 or 1\n",
        "sample_prediction <- model$predict(df=future_sample)\n",
        "\n",
        "# The predict function actually returns a decision value, which needs to be\n",
        "# thresholded to obtain a prediction label. In this case the threshold is 0.5 and\n",
        "# decision values >0.5 are labeled \"1\" while decision values <=0.5 are \n",
        "# labeled \"0\".\n",
        "prediction_label <- if (sample_prediction > 0.5) 1 else 0\n",
        "print(sprintf(\"Decision value: %s\", sample_prediction))\n",
        "print(sprintf(\"Prediction label: %s\", prediction_label))"
      ],
      "execution_count": null,
      "outputs": [
        {
          "output_type": "stream",
          "name": "stdout",
          "text": [
            "[1] \"Decision value: 0.578681841679563\"\n",
            "[1] \"Prediction label: 1\"\n"
          ]
        }
      ]
    },
    {
      "cell_type": "markdown",
      "metadata": {
        "id": "H3uxItsPmk5p"
      },
      "source": [
        "A predicted label of \"1\" means that this future sample is predicted to have \"Complete Remission/Response\", while a predicted label of \"0\" means that this future sample is predicted to have \"No Response\" to therapy. This prediction process can be repeated for any number of future samples."
      ]
    }
  ]
}
