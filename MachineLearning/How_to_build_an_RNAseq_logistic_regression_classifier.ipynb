{
  "nbformat": 4,
  "nbformat_minor": 0,
  "metadata": {
    "colab": {
      "name": "How_to_build_an_RNAseq_logistic_regression_classifier.ipynb",
      "provenance": [],
      "include_colab_link": true
    },
    "kernelspec": {
      "name": "python3",
      "display_name": "Python 3"
    },
    "language_info": {
      "name": "python"
    }
  },
  "cells": [
    {
      "cell_type": "markdown",
      "metadata": {
        "id": "view-in-github",
        "colab_type": "text"
      },
      "source": [
        "<a href=\"https://colab.research.google.com/github/isb-cgc/Community-Notebooks/blob/master/MachineLearning/How_to_build_an_RNAseq_logistic_regression_classifier.ipynb\" target=\"_parent\"><img src=\"https://colab.research.google.com/assets/colab-badge.svg\" alt=\"Open In Colab\"/></a>"
      ]
    },
    {
      "cell_type": "markdown",
      "metadata": {
        "id": "mHZQUz-Ccg6Q"
      },
      "source": [
        "# How to build an RNA-seq logistic regression classifier\n",
        "Check out other notebooks at our [Community Notebooks Repository](https://github.com/isb-cgc/Community-Notebooks)!\n",
        "\n",
        "- **Title:** How to build an RNA-seq logistic regression classifier\n",
        "- **Author:** John Phan\n",
        "- **Created:** 2021-07-07\n",
        "- **Purpose:** Demonstrate a basic machine learning method to predict a cancer endpoint using gene expression data.\n",
        "- **URL:** https://github.com/isb-cgc/Community-Notebooks/blob/master/MachineLearning/How_to_build_an_RNAseq_logistic_regression_classifier.ipynb\n",
        "- **Note:** This example is based on the work published by [Bosquet et al.](https://molecular-cancer.biomedcentral.com/articles/10.1186/s12943-016-0548-9)\n",
        "\n",
        "\n",
        "This notebook demonstrates how to build a basic machine learning model to predict ovarian cancer treatment outcome. Ovarian cancer gene expression data is pulled from a BigQuery table and formatted using Pandas. The data is then split into training and testing sets to build and test a logistic regression classifier using scikit-learn. "
      ]
    },
    {
      "cell_type": "markdown",
      "metadata": {
        "id": "Xt7xj7pagtVv"
      },
      "source": [
        "## Import Dependencies"
      ]
    },
    {
      "cell_type": "code",
      "metadata": {
        "id": "LNlADvO-gken"
      },
      "source": [
        "# GCP libraries\n",
        "from google.cloud import bigquery\n",
        "from google.colab import auth\n",
        "\n",
        "# Pandas\n",
        "import pandas as pd\n",
        "\n",
        "# Machine learning\n",
        "from sklearn.preprocessing import StandardScaler\n",
        "from sklearn.linear_model import LogisticRegression\n",
        "from sklearn import metrics\n",
        "\n",
        "# Visualization\n",
        "import seaborn as sns\n"
      ],
      "execution_count": null,
      "outputs": []
    },
    {
      "cell_type": "markdown",
      "metadata": {
        "id": "fwhlgg-NndUl"
      },
      "source": [
        "## Authenticate\n",
        "\n",
        "Before using BigQuery, we need to get authorization for access to BigQuery and the Google Cloud. For more information see ['Quick Start Guide to ISB-CGC'](https://isb-cancer-genomics-cloud.readthedocs.io/en/latest/sections/HowToGetStartedonISB-CGC.html). Alternative authentication methods can be found [here](https://googleapis.dev/python/google-api-core/latest/auth.html)."
      ]
    },
    {
      "cell_type": "code",
      "metadata": {
        "id": "M6BEFHj2dd5a"
      },
      "source": [
        "# if you're using Google Colab, authenticate to gcloud with the following\n",
        "auth.authenticate_user()\n",
        "\n",
        "# alternatively, use the gcloud SDK\n",
        "#!gcloud auth application-default login"
      ],
      "execution_count": null,
      "outputs": []
    },
    {
      "cell_type": "markdown",
      "metadata": {
        "id": "RWuECMsRptWJ"
      },
      "source": [
        "## Parameters\n",
        "\n",
        "Customize the following parameters based on your notebook, execution environment, or project."
      ]
    },
    {
      "cell_type": "code",
      "metadata": {
        "id": "veP6gPatu2iW"
      },
      "source": [
        "# set the google project that will be billed for this notebook's computations\n",
        "google_project = 'google-project'\n",
        "\n",
        "# in this example, we'll be using the Ovarian cancer TCGA dataset\n",
        "cancer_type = 'TCGA-OV'\n",
        "\n",
        "# gene expression data will be pulled from this BigQuery project\n",
        "bq_project = 'isb-cgc-bq'"
      ],
      "execution_count": null,
      "outputs": []
    },
    {
      "cell_type": "markdown",
      "metadata": {
        "id": "F6zTODbDq3g9"
      },
      "source": [
        "## BigQuery Client\n",
        "\n",
        "Create the BigQuery client"
      ]
    },
    {
      "cell_type": "code",
      "metadata": {
        "id": "HNkfSXedwzbC"
      },
      "source": [
        "# Create a client to access the data within BigQuery\n",
        "client = bigquery.Client(google_project)"
      ],
      "execution_count": null,
      "outputs": []
    },
    {
      "cell_type": "markdown",
      "metadata": {
        "id": "i4jPuJnUYkju"
      },
      "source": [
        "## Get Gene Expression Data from Big Query Table\n",
        "\n",
        "Pull RNA-seq gene expression data from the TCGA RNA-seq BigQuery table and join it with the clinical data table to create a labeled data frame. In this example, we will label the samples based on therapy outcome. \"Complete Remission/Response\" will be labeled as \"1\" while all other therapy outcomes will be labeled as \"0\". This prepares the data for binary classification. \n",
        "\n",
        "Prediction modeling with RNA-seq data typically requires a feature selection step to reduce the dimensionality of the data before training a classifier. However, to simplify this example, we will use a pre-identified set of 33 genes (Bosquet et al. identified 34 genes, but PRSS2 and its aliases are not available in the hg38 RNA-seq data). "
      ]
    },
    {
      "cell_type": "code",
      "metadata": {
        "id": "WYKK8nT7Rzpa",
        "colab": {
          "base_uri": "https://localhost:8080/"
        },
        "outputId": "b95b058f-3d5d-4c91-cfdd-6a08175f6958"
      },
      "source": [
        "ge_data = client.query((\"\"\"\n",
        "  SELECT\n",
        "    ge.case_barcode AS sample,\n",
        "    labels.response_label AS label,\n",
        "    ge.gene_name AS gene_name,\n",
        "    -- Multiple samples may exist per case, take the max value\n",
        "    MAX(LOG(ge.fpkm_uq_unstranded+1)) AS gene_expression\n",
        "  FROM `{bq_project}.TCGA_versioned.RNAseq_hg38_gdc_r35` AS ge\n",
        "  INNER JOIN (\n",
        "    SELECT\n",
        "      *\n",
        "    FROM (\n",
        "      SELECT\n",
        "        case_barcode,\n",
        "        primary_therapy_outcome_success,\n",
        "        CASE\n",
        "          -- Complete Reponse    --> label as 1\n",
        "          -- All other responses --> label as 0\n",
        "          WHEN primary_therapy_outcome_success = 'Complete Remission/Response' THEN 1\n",
        "          WHEN (primary_therapy_outcome_success IN (\n",
        "            'Partial Remission/Response','Progressive Disease','Stable Disease'\n",
        "          )) THEN 0\n",
        "        END AS response_label\n",
        "        FROM `{bq_project}.TCGA_versioned.clinical_gdc_2019_06`\n",
        "        WHERE\n",
        "          project_short_name = '{cancer_type}'\n",
        "          AND primary_therapy_outcome_success IS NOT NULL\n",
        "    )\n",
        "  ) labels\n",
        "  ON labels.case_barcode = ge.case_barcode\n",
        "  WHERE gene_name IN ( -- 33 Gene signature, leave out PRSS2 (aka TRYP2)\n",
        "    'RHOT1','MYO7A','ZBTB10','MATK','ST18','RPS23','GCNT1','DROSHA','NUAK1','CCPG1',\n",
        "    'PDGFD','KLRAP1','MTAP','RNF13','THBS1','MLX','FAP','TIMP3','PRSS1','SLC7A11',\n",
        "    'OLFML3','RPS20','MCM5','POLE','STEAP4','LRRC8D','WBP1L','ENTPD5','SYNE1','DPT',\n",
        "    'COPZ2','TRIO','PDPR'\n",
        "  )\n",
        "  GROUP BY sample, label, gene_name\n",
        "\"\"\").format(bq_project=bq_project, cancer_type=cancer_type)).result().to_dataframe()\n",
        "\n",
        "print(ge_data.info())"
      ],
      "execution_count": null,
      "outputs": [
        {
          "output_type": "stream",
          "text": [
            "<class 'pandas.core.frame.DataFrame'>\n",
            "RangeIndex: 8712 entries, 0 to 8711\n",
            "Data columns (total 4 columns):\n",
            " #   Column           Non-Null Count  Dtype  \n",
            "---  ------           --------------  -----  \n",
            " 0   sample           8712 non-null   object \n",
            " 1   label            8712 non-null   int64  \n",
            " 2   gene_name        8712 non-null   object \n",
            " 3   gene_expression  8712 non-null   float64\n",
            "dtypes: float64(1), int64(1), object(2)\n",
            "memory usage: 272.4+ KB\n",
            "None\n"
          ],
          "name": "stdout"
        }
      ]
    },
    {
      "cell_type": "markdown",
      "metadata": {
        "id": "addOpIFRs8qA"
      },
      "source": [
        "## Reshape the Data\n",
        "\n",
        "The data pulled from BigQuery is formatted such that each row corresponds to a sample/gene combination. However, to use the data with scikit-learn, it is more convenient to reshape the data such that each row corresponds to a sample and each column corresponds to a gene. We'll use Pandas to pivot the data."
      ]
    },
    {
      "cell_type": "code",
      "metadata": {
        "id": "osUyrjFEm8Ji",
        "colab": {
          "base_uri": "https://localhost:8080/"
        },
        "outputId": "7d8269f4-c06c-4fe0-bbfb-91309d47b47c"
      },
      "source": [
        "ge_data_pivot = ge_data.pivot(index=('sample', 'label'), columns='gene_name', values='gene_expression').reset_index(level=['sample','label'])\n",
        "print(ge_data_pivot.info())"
      ],
      "execution_count": null,
      "outputs": [
        {
          "output_type": "stream",
          "text": [
            "<class 'pandas.core.frame.DataFrame'>\n",
            "RangeIndex: 264 entries, 0 to 263\n",
            "Data columns (total 35 columns):\n",
            " #   Column   Non-Null Count  Dtype  \n",
            "---  ------   --------------  -----  \n",
            " 0   sample   264 non-null    object \n",
            " 1   label    264 non-null    int64  \n",
            " 2   CCPG1    264 non-null    float64\n",
            " 3   COPZ2    264 non-null    float64\n",
            " 4   DPT      264 non-null    float64\n",
            " 5   DROSHA   264 non-null    float64\n",
            " 6   ENTPD5   264 non-null    float64\n",
            " 7   FAP      264 non-null    float64\n",
            " 8   GCNT1    264 non-null    float64\n",
            " 9   KLRAP1   264 non-null    float64\n",
            " 10  LRRC8D   264 non-null    float64\n",
            " 11  MATK     264 non-null    float64\n",
            " 12  MCM5     264 non-null    float64\n",
            " 13  MLX      264 non-null    float64\n",
            " 14  MTAP     264 non-null    float64\n",
            " 15  MYO7A    264 non-null    float64\n",
            " 16  NUAK1    264 non-null    float64\n",
            " 17  OLFML3   264 non-null    float64\n",
            " 18  PDGFD    264 non-null    float64\n",
            " 19  PDPR     264 non-null    float64\n",
            " 20  POLE     264 non-null    float64\n",
            " 21  PRSS1    264 non-null    float64\n",
            " 22  RHOT1    264 non-null    float64\n",
            " 23  RNF13    264 non-null    float64\n",
            " 24  RPS20    264 non-null    float64\n",
            " 25  RPS23    264 non-null    float64\n",
            " 26  SLC7A11  264 non-null    float64\n",
            " 27  ST18     264 non-null    float64\n",
            " 28  STEAP4   264 non-null    float64\n",
            " 29  SYNE1    264 non-null    float64\n",
            " 30  THBS1    264 non-null    float64\n",
            " 31  TIMP3    264 non-null    float64\n",
            " 32  TRIO     264 non-null    float64\n",
            " 33  WBP1L    264 non-null    float64\n",
            " 34  ZBTB10   264 non-null    float64\n",
            "dtypes: float64(33), int64(1), object(1)\n",
            "memory usage: 72.3+ KB\n",
            "None\n"
          ],
          "name": "stdout"
        }
      ]
    },
    {
      "cell_type": "markdown",
      "metadata": {
        "id": "SQ1bf9Civ98z"
      },
      "source": [
        "## Prepare the Data for Prediction Modeling\n",
        "\n",
        "Prepare the data by splitting it into training and testing sets, and scaling the data. It is important that prediction models are tested on samples that are independent from the training samples in order to accurately estimate performance. "
      ]
    },
    {
      "cell_type": "code",
      "metadata": {
        "id": "VF90HWh_SM5e",
        "colab": {
          "base_uri": "https://localhost:8080/"
        },
        "outputId": "51199f5a-373b-4956-ad94-380d848bd136"
      },
      "source": [
        "# remove the sample names column from the data frame\n",
        "ge_data_pivot_nosample = ge_data_pivot.drop(labels='sample',axis=1)\n",
        "\n",
        "# split data into train and test sets, 50% in train and 50% in test. \n",
        "# The \"random_state\" variable can be used to reproduce the split\n",
        "train_data = ge_data_pivot_nosample.sample(frac=0.5, random_state=1).sort_index()\n",
        "\n",
        "# the test data is what remains after removing the train data\n",
        "test_data = ge_data_pivot_nosample.drop(train_data.index)\n",
        "\n",
        "# move labels to their own variables\n",
        "train_y = train_data.pop('label')\n",
        "test_y = test_data.pop('label')\n",
        "\n",
        "# using scikit-learn, scale the data to 0 mean and unit variance. This is\n",
        "# required for some machine learning methods.\n",
        "scaler = StandardScaler()\n",
        "\n",
        "# store the scaled data, and the scaler, in the dict\n",
        "train_x = scaler.fit_transform(train_data)\n",
        "test_x = scaler.transform(test_data)\n",
        "\n",
        "# print stats of train and test dataset\n",
        "print('Train Data: ')\n",
        "print(\"\\tComplete Remission/Response: \", sum(train_y==1))\n",
        "print(\"\\tOther Response: \", sum(train_y==0))\n",
        "\n",
        "print('Test Data: ')\n",
        "print(\"\\tComplete Remission/Response: \", sum(test_y==1))\n",
        "print(\"\\tOther Response: \", sum(test_y==0))\n"
      ],
      "execution_count": null,
      "outputs": [
        {
          "output_type": "stream",
          "text": [
            "Train Data: \n",
            "\tComplete Remission/Response:  87\n",
            "\tOther Response:  45\n",
            "Test Data: \n",
            "\tComplete Remission/Response:  91\n",
            "\tOther Response:  41\n"
          ],
          "name": "stdout"
        }
      ]
    },
    {
      "cell_type": "markdown",
      "metadata": {
        "id": "5OFmgBYi_h4m"
      },
      "source": [
        "## Train and Test the Prediction Model\n",
        "\n",
        "We use a simple logistic regression classifier implemented by scikit-learn. More information about the classifier can be found [here](https://scikit-learn.org/stable/modules/generated/sklearn.linear_model.LogisticRegression.html). After training the classifier using the \"fit\" function, we use the \"decision_function\" to predict a decision value for each sample in the test dataset. Because the dataset is not balanced in terms of the number of samples in each class, we use AUC, or Area Under the ROC curve, to assess prediction performance. The decision values are used to calculate the AUC, with higher AUC values indicating better prediction performance. An AUC of 1 indicates perfect prediction. More information about accuracy, AUC, and other classification performance metrics can be found in the [Google Machine Learning crash course](https://developers.google.com/machine-learning/crash-course/classification/video-lecture). Read about AUC [here](https://developers.google.com/machine-learning/crash-course/classification/roc-and-auc).  "
      ]
    },
    {
      "cell_type": "code",
      "metadata": {
        "id": "y7mw7rfeLaIk",
        "colab": {
          "base_uri": "https://localhost:8080/"
        },
        "outputId": "6be3e613-5abf-4105-8d4d-6facfbffee57"
      },
      "source": [
        "# train a logistic regression model\n",
        "lr = LogisticRegression(max_iter=1000, solver='liblinear', C=0.1)\n",
        "lr.fit(train_x, train_y)\n",
        "\n",
        "# predict samples in the test set\n",
        "pred = lr.decision_function(test_x)\n",
        "\n",
        "# calculate the ROC curve and AUC in order to gauge prediction performance\n",
        "fpr, tpr, thresholds = metrics.roc_curve(test_y, pred)\n",
        "auc = metrics.auc(fpr, tpr)\n",
        "\n",
        "print('Prediction Performance (AUC):', auc)"
      ],
      "execution_count": null,
      "outputs": [
        {
          "output_type": "stream",
          "text": [
            "Prediction Performance (AUC): 0.7424283034039132\n"
          ],
          "name": "stdout"
        }
      ]
    },
    {
      "cell_type": "markdown",
      "metadata": {
        "id": "yGVrAVEsb5jg"
      },
      "source": [
        "## Evaluate Prediction Performance\n",
        "\n",
        "The prediction performance AUC of 0.74 is within the performance range (0.7 to 0.8) of the models developed by [Bosquet et al.](https://molecular-cancer.biomedcentral.com/articles/10.1186/s12943-016-0548-9). Note that if the \"random_state\" value is changed in the train/test split step, prediction performance will vary. Thus, a better method for assessing performance would be to generate multiple permutations of train/test datasets, calculate prediction performance for each permutation, and report the mean and standard deviation of AUC. "
      ]
    },
    {
      "cell_type": "code",
      "metadata": {
        "colab": {
          "base_uri": "https://localhost:8080/"
        },
        "id": "oPMHPxv8gkUl",
        "outputId": "40d01ce4-7798-4182-c1c9-a7bda2f462f6"
      },
      "source": [
        "num_iters = 10\n",
        "auc_vals = []\n",
        "\n",
        "for i in range(num_iters):\n",
        "  # randomly split data into train and test sets, 50% in train and 50% in test. \n",
        "  train_data = ge_data_pivot_nosample.sample(frac=0.5).sort_index()\n",
        "\n",
        "  # the test data is what remains after removing the train data\n",
        "  test_data = ge_data_pivot_nosample.drop(train_data.index)\n",
        "\n",
        "  # move labels to their own variables\n",
        "  train_y = train_data.pop('label')\n",
        "  test_y = test_data.pop('label')\n",
        "\n",
        "  # the data must be scaled every time a new train/test split is created\n",
        "  scaler = StandardScaler()\n",
        "  train_x = scaler.fit_transform(train_data)\n",
        "  test_x = scaler.transform(test_data)\n",
        "\n",
        "  # train a logistic regression model\n",
        "  lr = LogisticRegression(max_iter=1000, solver='liblinear', C=0.1)\n",
        "  lr.fit(train_x, train_y)\n",
        "\n",
        "  # predict samples in the test set\n",
        "  pred = lr.decision_function(test_x)\n",
        "\n",
        "  # calculate the ROC curve and AUC in order to gauge prediction performance\n",
        "  fpr, tpr, thresholds = metrics.roc_curve(test_y, pred)\n",
        "  auc_vals.append(metrics.auc(fpr, tpr))\n",
        "\n",
        "print('AUC Values:', auc_vals)\n",
        "print('AUC Mean:', pd.Series(auc_vals).mean())\n",
        "print('AUC Standard Deviation:', pd.Series(auc_vals).std())"
      ],
      "execution_count": null,
      "outputs": [
        {
          "output_type": "stream",
          "text": [
            "AUC Values: [0.5830687830687831, 0.6725894956885289, 0.7157608695652175, 0.6549544994944388, 0.6643073811931244, 0.7284802043422732, 0.7270731707317073, 0.7248497517637836, 0.7078373015873016, 0.6372598584428715]\n",
            "AUC Mean: 0.6816181315878029\n",
            "AUC Standard Deviation: 0.04802327788951103\n"
          ],
          "name": "stdout"
        }
      ]
    },
    {
      "cell_type": "markdown",
      "metadata": {
        "id": "3E9KiLtyoZ4I"
      },
      "source": [
        "## Visualize and Interpret Results\n",
        "\n",
        "We can use data visualization to help interpret the classifier's performance. Although our initial prediction result was 0.74, the average prediction result over several random permutations of the data is actually below 0.7, with a range spanning approximately 0.6 to 0.7. An AUC of 0.7 can be interpreted as a 70% chance that the classifier's prediction (i.e., \"Complete Remission/Response\" or not) is correct. "
      ]
    },
    {
      "cell_type": "code",
      "metadata": {
        "colab": {
          "base_uri": "https://localhost:8080/",
          "height": 353
        },
        "id": "MP2CArbvlIyn",
        "outputId": "692dfbd8-19fa-48f0-8e0f-5d6c24507721"
      },
      "source": [
        "# use seaborn to generate a box plot of AUC results\n",
        "sns.set_theme(style='ticks', palette='pastel')\n",
        "ax = sns.boxplot(x=auc_vals)\n",
        "ax = sns.swarmplot(x=auc_vals, color=\"0\")\n",
        "ax.set(xlim=(0,1), ylim=(-1,1),xlabel='AUC',ylabel='Logistic Regression')"
      ],
      "execution_count": null,
      "outputs": [
        {
          "output_type": "execute_result",
          "data": {
            "text/plain": [
              "[(-1.0, 1.0),\n",
              " Text(0, 0.5, 'Logistic Regression'),\n",
              " (0.0, 1.0),\n",
              " Text(0.5, 0, 'AUC')]"
            ]
          },
          "metadata": {
            "tags": []
          },
          "execution_count": 18
        },
        {
          "output_type": "display_data",
          "data": {
            "image/png": "[encoded data removed]",
            "text/plain": [
              "<Figure size 432x288 with 1 Axes>"
            ]
          },
          "metadata": {
            "tags": []
          }
        }
      ]
    },
    {
      "cell_type": "markdown",
      "metadata": {
        "id": "F6aF-YIDL-Ms"
      },
      "source": [
        "## Next Steps\n",
        "\n",
        "The model trained and stored in the \"lr\" variable can now be used to predict therapeutic outcome of future RNA-seq ovarian cancer samples. If the model \"lr\" has been trained to generalize well to the problem of predicting Ovarian cancer therapeutic outcome, we would expect that future predictions would yield a 70% probability of being correct. However, an inherent problem with estimating machine learning performance is its dependence on the data. Thus, if future RNA-seq samples differ from the training data (e.g., different biological population, different sequencing method or instrument, or different data normalization method), we cannot make any assumptions about the \"lr\" model's prediction of those samples. In addition, if the testing data in our original assessment is different from the training data, then our performance estimation of 0.7 AUC may not be reliable. See [Zhang et al.](https://academic.oup.com/nargab/article/2/3/lqaa078/5909519) for more information about RNA-seq batch effects. \n",
        "\n",
        "As an example, suppose that we have a future sample to predict:"
      ]
    },
    {
      "cell_type": "code",
      "metadata": {
        "colab": {
          "base_uri": "https://localhost:8080/"
        },
        "id": "h9_-e5tUSssW",
        "outputId": "b1f91d6b-0aa1-47ef-e03f-db4101255361"
      },
      "source": [
        "# For this example, we'll just take a single sample out of our previous test\n",
        "# dataset. However, in practical applications, the future sample usually comes\n",
        "# from new, independent datasets. \n",
        "\n",
        "# Use double brackets to maintain the matrix shape\n",
        "future_sample = test_x[[5]]\n",
        "\n",
        "# Predict the therapeutic outcome of the future sample using the \"predict\" \n",
        "# function, which will give us a label of either 0 or 1\n",
        "sample_prediction = lr.predict(future_sample)\n",
        "\n",
        "print(\"Prediction label: \", sample_prediction)"
      ],
      "execution_count": null,
      "outputs": [
        {
          "output_type": "stream",
          "text": [
            "Prediction label:  [1]\n"
          ],
          "name": "stdout"
        }
      ]
    },
    {
      "cell_type": "markdown",
      "metadata": {
        "id": "dP7miYFPW8u3"
      },
      "source": [
        "We can see that the predicted label is \"1\" meaning that this future sample is predicted to have \"Complete Remission/Response\". This prediction process can be repeated for any number of future samples."
      ]
    }
  ]
}
