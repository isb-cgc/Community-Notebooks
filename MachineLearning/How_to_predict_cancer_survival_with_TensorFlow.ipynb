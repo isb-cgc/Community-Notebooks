{
  "nbformat": 4,
  "nbformat_minor": 0,
  "metadata": {
    "colab": {
      "name": "How_to_predict_cancer_survival_with_TensorFlow.ipynb",
      "provenance": [],
      "toc_visible": true,
      "authorship_tag": "ABX9TyOhmp9aBmAh5VQrKuIKPWZr",
      "include_colab_link": true
    },
    "kernelspec": {
      "name": "python3",
      "display_name": "Python 3"
    },
    "language_info": {
      "name": "python"
    }
  },
  "cells": [
    {
      "cell_type": "markdown",
      "metadata": {
        "id": "view-in-github",
        "colab_type": "text"
      },
      "source": [
        "<a href=\"https://colab.research.google.com/github/isb-cgc/Community-Notebooks/blob/master/MachineLearning/How_to_predict_cancer_survival_with_TensorFlow.ipynb\" target=\"_parent\"><img src=\"https://colab.research.google.com/assets/colab-badge.svg\" alt=\"Open In Colab\"/></a>"
      ]
    },
    {
      "cell_type": "markdown",
      "source": [
        "# How to Predict Cancer Survival Time with TensorFlow\n",
        "\n",
        "Check out other notebooks at our [Community Notebooks Repository](https://github.com/isb-cgc/Community-Notebooks)!\n",
        "\n",
        "- **Title:** How to predict cancer survival time with TensorFlow\n",
        "- **Author:** John Phan\n",
        "- **Created:** 2022-01-22\n",
        "- **Purpose:** Demonstrate use of regression in TensorFlow to predict cancer patient survival time \n",
        "- **URL:** https://github.com/isb-cgc/Community-Notebooks/blob/master/Notebooks/How_to_predict_cancer_survival_time_with_TensorFlow.ipynb\n",
        "\n",
        "This notebook demonstrates how to predict the survival time in months for cancer patients using  regression in TensorFlow with a deep neural network (DNN). Refer to this TensorFlow example for more information: https://www.tensorflow.org/tutorials/keras/regression\n",
        "\n",
        "This example uses a kidney cancer study that identified a 15 gene predictive signature. The study is available here: https://www.ncbi.nlm.nih.gov/pmc/articles/PMC6113007/ \n",
        "\n",
        "The total BigQuery cost for running this notebook is <$0.10. No additional costs are incurred if using Colab. However, if running this code on a VM with GPUs, additional hourly VM costs may be incurred. "
      ],
      "metadata": {
        "id": "NyFc0zBwcg4M"
      }
    },
    {
      "cell_type": "markdown",
      "source": [
        "## Import Dependencies"
      ],
      "metadata": {
        "id": "JfLanOI9dKSl"
      }
    },
    {
      "cell_type": "code",
      "source": [
        "# GCP Libraries\n",
        "from google.cloud import bigquery\n",
        "from google.colab import auth\n",
        "\n",
        "# Data Analytics\n",
        "import numpy as np\n",
        "import pandas as pd\n",
        "import tensorflow as tf\n",
        "from tensorflow import keras\n",
        "from tensorflow.keras import layers\n",
        "\n",
        "# Visualization\n",
        "import matplotlib.pyplot as plt\n",
        "import matplotlib\n",
        "import seaborn as sns"
      ],
      "metadata": {
        "id": "jIgfvAKAdMq4"
      },
      "execution_count": 89,
      "outputs": []
    },
    {
      "cell_type": "markdown",
      "source": [
        "## Authenticate\n",
        "\n",
        "Before using BigQuery, we need to get authorization for access to BigQuery and the Google Cloud. For more information see ['Quick Start Guide to ISB-CGC'](https://isb-cancer-genomics-cloud.readthedocs.io/en/latest/sections/HowToGetStartedonISB-CGC.html). Alternative authentication methods can be found [here](https://googleapis.dev/python/google-api-core/latest/auth.html)."
      ],
      "metadata": {
        "id": "js__i9JFdUvO"
      }
    },
    {
      "cell_type": "code",
      "source": [
        "# if you're using Google Colab, authenticate to gcloud with the following\n",
        "auth.authenticate_user()\n",
        "\n",
        "# alternatively, use the gcloud SDK\n",
        "#!gcloud auth application-default login"
      ],
      "metadata": {
        "id": "Twtr3uoZdZ7t"
      },
      "execution_count": 90,
      "outputs": []
    },
    {
      "cell_type": "markdown",
      "source": [
        "## Parameters\n",
        "\n",
        "Customize the following parameters based on your notebook, execution environment, or project. BigQuery ML must create and store classification models, so be sure that you have write access to the locations stored in the \"bq_dataset\" and \"bq_project\" variables."
      ],
      "metadata": {
        "id": "6DbWn-J7ddCO"
      }
    },
    {
      "cell_type": "code",
      "source": [
        "# set the google project that will be billed for this notebook's computations\n",
        "google_project = 'google-project' ## CHANGE ME\n",
        "\n",
        "# in this example, we'll be using the Ovarian cancer TCGA dataset\n",
        "cancer_type = 'TCGA-KIRC'\n",
        "\n",
        "# 14 genes used for prediction model, taken from Li et al.\n",
        "# Note: one gene (ZIC2) was omitted from the original set of 15 genes due to \n",
        "# missing values in some TCGA samples. \n",
        "genes = [\n",
        "  'CCDC137', 'KL', 'FBXO3', 'CDC7', 'IL20RB', 'CDCA3', 'ANAPC5',\n",
        "  'OTOF', 'POFUT2', 'ATP13A1', 'MC1R', 'BRD9', 'ARFGAP1', 'COL7A1'\n",
        "]\n",
        "\n",
        "# clinical data table\n",
        "clinical_table = 'isb-cgc-bq.TCGA_versioned.clinical_gdc_r29'\n",
        "\n",
        "# RNA seq data table\n",
        "rnaseq_table = 'isb-cgc-bq.TCGA_versioned.RNAseq_hg38_gdc_r28'\n"
      ],
      "metadata": {
        "id": "s1lPYIPhdd29"
      },
      "execution_count": 91,
      "outputs": []
    },
    {
      "cell_type": "markdown",
      "source": [
        "## BigQuery Client\n",
        "\n",
        "Create the BigQuery client."
      ],
      "metadata": {
        "id": "vK3Gmfv6dgL_"
      }
    },
    {
      "cell_type": "code",
      "source": [
        "# Create a client to access the data within BigQuery\n",
        "client = bigquery.Client(google_project)"
      ],
      "metadata": {
        "id": "vanz3H-vdism"
      },
      "execution_count": 92,
      "outputs": []
    },
    {
      "cell_type": "markdown",
      "source": [
        "## Extract Gene Expression Data from BigQuery\n",
        "\n",
        "Pull RNA-seq gene expression data from the TCGA RNA-seq BigQuery table, join it with clinical labels, and pivot the table so that it can be used with TensorFlow. In this example, we will label each sample with the patient's survival time. This prepares the data for regression. \n",
        "\n",
        "Prediction modeling with RNA-seq data typically requires a feature selection step to reduce the dimensionality of the data before training a regression model. However, to simplify this example, we will use a pre-identified set of 14 genes from the study by Li et al. (https://www.ncbi.nlm.nih.gov/pmc/articles/PMC6113007/). Note that one gene was omitted due to missing values.\n",
        "\n",
        "This query also randomly splits the dataset into \"training\" and \"testing\" sets with roughly equal sample sizes using the \"FARM_FINGERPRINT\" hash function in BigQuery. \"FARM_FINGERPRINT\" generates an integer from the input string. More information can be found [here](https://cloud.google.com/bigquery/docs/reference/standard-sql/hash_functions)."
      ],
      "metadata": {
        "id": "SFJaQOPRdksH"
      }
    },
    {
      "cell_type": "code",
      "source": [
        "# construct and display the query\n",
        "data_query = (\"\"\"\n",
        "  SELECT * FROM (\n",
        "    SELECT\n",
        "      labels.submitter_id AS sample,\n",
        "      labels.data_partition AS data_partition,\n",
        "      MAX(labels.survival) AS survival,\n",
        "      ge.gene_name AS gene_name,\n",
        "      -- Multiple samples may exist per case, take the max value\n",
        "      MAX(LOG(ge.HTSeq__FPKM_UQ+1)) AS gene_expression\n",
        "    FROM `{rnaseq_table}` AS ge\n",
        "    INNER JOIN (\n",
        "      SELECT\n",
        "        *\n",
        "      FROM (\n",
        "        SELECT\n",
        "          submitter_id,\n",
        "          demo__days_to_death AS survival,\n",
        "          CASE \n",
        "            WHEN MOD(ABS(FARM_FINGERPRINT(case_id)), 10) < 5 THEN 'training'\n",
        "            WHEN MOD(ABS(FARM_FINGERPRINT(case_id)), 10) >= 5 THEN 'testing'\n",
        "          END AS data_partition\n",
        "          FROM `{clinical_table}`\n",
        "          WHERE\n",
        "            proj__project_id = '{cancer_type}'\n",
        "            AND demo__days_to_death IS NOT NULL\n",
        "          ORDER BY demo__days_to_death DESC\n",
        "      )\n",
        "    ) labels\n",
        "    ON labels.submitter_id = ge.case_barcode\n",
        "    WHERE gene_name IN ({genes})\n",
        "    GROUP BY sample, data_partition, gene_name\n",
        "  )\n",
        "  PIVOT (\n",
        "    MAX(gene_expression) FOR gene_name IN ({genes})\n",
        "  )\n",
        "\"\"\").format(\n",
        "  rnaseq_table=rnaseq_table,\n",
        "  clinical_table=clinical_table,\n",
        "  cancer_type=cancer_type,\n",
        "  genes=''.join([\"'\",\"','\".join(genes),\"'\"])\n",
        ")\n",
        "\n",
        "print(data_query)"
      ],
      "metadata": {
        "id": "dDaCJKAtIh7P",
        "colab": {
          "base_uri": "https://localhost:8080/"
        },
        "outputId": "9088c343-6deb-4219-bf1c-c4427a288238"
      },
      "execution_count": 93,
      "outputs": [
        {
          "output_type": "stream",
          "name": "stdout",
          "text": [
            "\n",
            "  SELECT * FROM (\n",
            "    SELECT\n",
            "      labels.submitter_id AS sample,\n",
            "      labels.data_partition AS data_partition,\n",
            "      MAX(labels.survival) AS survival,\n",
            "      ge.gene_name AS gene_name,\n",
            "      -- Multiple samples may exist per case, take the max value\n",
            "      MAX(LOG(ge.HTSeq__FPKM_UQ+1)) AS gene_expression\n",
            "    FROM `isb-cgc-bq.TCGA_versioned.RNAseq_hg38_gdc_r28` AS ge\n",
            "    INNER JOIN (\n",
            "      SELECT\n",
            "        *\n",
            "      FROM (\n",
            "        SELECT\n",
            "          submitter_id,\n",
            "          demo__days_to_death AS survival,\n",
            "          CASE \n",
            "            WHEN MOD(ABS(FARM_FINGERPRINT(case_id)), 10) < 5 THEN 'training'\n",
            "            WHEN MOD(ABS(FARM_FINGERPRINT(case_id)), 10) >= 5 THEN 'testing'\n",
            "          END AS data_partition\n",
            "          FROM `isb-cgc-bq.TCGA_versioned.clinical_gdc_r29`\n",
            "          WHERE\n",
            "            proj__project_id = 'TCGA-KIRC'\n",
            "            AND demo__days_to_death IS NOT NULL\n",
            "          ORDER BY demo__days_to_death DESC\n",
            "      )\n",
            "    ) labels\n",
            "    ON labels.submitter_id = ge.case_barcode\n",
            "    WHERE gene_name IN ('CCDC137','KL','FBXO3','CDC7','IL20RB','CDCA3','ANAPC5','OTOF','POFUT2','ATP13A1','MC1R','BRD9','ARFGAP1','COL7A1')\n",
            "    GROUP BY sample, data_partition, gene_name\n",
            "  )\n",
            "  PIVOT (\n",
            "    MAX(gene_expression) FOR gene_name IN ('CCDC137','KL','FBXO3','CDC7','IL20RB','CDCA3','ANAPC5','OTOF','POFUT2','ATP13A1','MC1R','BRD9','ARFGAP1','COL7A1')\n",
            "  )\n",
            "\n"
          ]
        }
      ]
    },
    {
      "cell_type": "code",
      "source": [
        "# this query processes 20 GB and costs approximately $0.10\n",
        "data = client.query(data_query).result().to_dataframe()"
      ],
      "metadata": {
        "id": "y6Ecs0nUcnK0"
      },
      "execution_count": 94,
      "outputs": []
    },
    {
      "cell_type": "markdown",
      "source": [
        "Let's take a look at this subset table. The data has been pivoted such that each of the 14 genes is available as a column that can be \"SELECTED\" in a query. In addition, the \"survival\" and \"data_partition\" columns simplify data handling for model training and evaluation."
      ],
      "metadata": {
        "id": "R1kzKTheG5t6"
      }
    },
    {
      "cell_type": "code",
      "source": [
        "data"
      ],
      "metadata": {
        "colab": {
          "base_uri": "https://localhost:8080/",
          "height": 835
        },
        "id": "kQCB2wR5YDnk",
        "outputId": "d573fb75-847d-4858-873d-4ae6d2a1e835"
      },
      "execution_count": 95,
      "outputs": [
        {
          "output_type": "execute_result",
          "data": {
            "text/html": [
              "\n",
              "  <div id=\"df-e74157e8-7734-4617-bcd1-20c7cf72dc8e\">\n",
              "    <div class=\"colab-df-container\">\n",
              "      <div>\n",
              "<style scoped>\n",
              "    .dataframe tbody tr th:only-of-type {\n",
              "        vertical-align: middle;\n",
              "    }\n",
              "\n",
              "    .dataframe tbody tr th {\n",
              "        vertical-align: top;\n",
              "    }\n",
              "\n",
              "    .dataframe thead th {\n",
              "        text-align: right;\n",
              "    }\n",
              "</style>\n",
              "<table border=\"1\" class=\"dataframe\">\n",
              "  <thead>\n",
              "    <tr style=\"text-align: right;\">\n",
              "      <th></th>\n",
              "      <th>sample</th>\n",
              "      <th>data_partition</th>\n",
              "      <th>survival</th>\n",
              "      <th>CCDC137</th>\n",
              "      <th>KL</th>\n",
              "      <th>FBXO3</th>\n",
              "      <th>CDC7</th>\n",
              "      <th>IL20RB</th>\n",
              "      <th>CDCA3</th>\n",
              "      <th>ANAPC5</th>\n",
              "      <th>OTOF</th>\n",
              "      <th>POFUT2</th>\n",
              "      <th>ATP13A1</th>\n",
              "      <th>MC1R</th>\n",
              "      <th>BRD9</th>\n",
              "      <th>ARFGAP1</th>\n",
              "      <th>COL7A1</th>\n",
              "    </tr>\n",
              "  </thead>\n",
              "  <tbody>\n",
              "    <tr>\n",
              "      <th>0</th>\n",
              "      <td>TCGA-AK-3455</td>\n",
              "      <td>testing</td>\n",
              "      <td>683</td>\n",
              "      <td>11.821745</td>\n",
              "      <td>13.326113</td>\n",
              "      <td>12.403776</td>\n",
              "      <td>10.051252</td>\n",
              "      <td>9.664453</td>\n",
              "      <td>8.837780</td>\n",
              "      <td>12.342919</td>\n",
              "      <td>7.430097</td>\n",
              "      <td>11.807020</td>\n",
              "      <td>11.962827</td>\n",
              "      <td>9.586711</td>\n",
              "      <td>11.047651</td>\n",
              "      <td>12.158947</td>\n",
              "      <td>7.850365</td>\n",
              "    </tr>\n",
              "    <tr>\n",
              "      <th>1</th>\n",
              "      <td>TCGA-CJ-5677</td>\n",
              "      <td>testing</td>\n",
              "      <td>782</td>\n",
              "      <td>12.245250</td>\n",
              "      <td>14.661966</td>\n",
              "      <td>11.863863</td>\n",
              "      <td>10.401224</td>\n",
              "      <td>14.178713</td>\n",
              "      <td>10.559196</td>\n",
              "      <td>12.131710</td>\n",
              "      <td>6.828847</td>\n",
              "      <td>12.402746</td>\n",
              "      <td>12.648536</td>\n",
              "      <td>9.065563</td>\n",
              "      <td>11.283452</td>\n",
              "      <td>12.619064</td>\n",
              "      <td>9.696658</td>\n",
              "    </tr>\n",
              "    <tr>\n",
              "      <th>2</th>\n",
              "      <td>TCGA-DV-A4VX</td>\n",
              "      <td>testing</td>\n",
              "      <td>1626</td>\n",
              "      <td>12.368437</td>\n",
              "      <td>11.986560</td>\n",
              "      <td>11.983827</td>\n",
              "      <td>10.512078</td>\n",
              "      <td>13.427324</td>\n",
              "      <td>11.058579</td>\n",
              "      <td>12.688938</td>\n",
              "      <td>6.816680</td>\n",
              "      <td>11.550429</td>\n",
              "      <td>12.268609</td>\n",
              "      <td>9.578228</td>\n",
              "      <td>11.749996</td>\n",
              "      <td>12.733932</td>\n",
              "      <td>8.760610</td>\n",
              "    </tr>\n",
              "    <tr>\n",
              "      <th>3</th>\n",
              "      <td>TCGA-B0-5092</td>\n",
              "      <td>testing</td>\n",
              "      <td>459</td>\n",
              "      <td>12.291751</td>\n",
              "      <td>12.360812</td>\n",
              "      <td>11.323301</td>\n",
              "      <td>10.510342</td>\n",
              "      <td>12.524597</td>\n",
              "      <td>10.636912</td>\n",
              "      <td>12.541131</td>\n",
              "      <td>7.987389</td>\n",
              "      <td>12.396105</td>\n",
              "      <td>12.569231</td>\n",
              "      <td>10.690693</td>\n",
              "      <td>11.435689</td>\n",
              "      <td>12.858521</td>\n",
              "      <td>11.239858</td>\n",
              "    </tr>\n",
              "    <tr>\n",
              "      <th>4</th>\n",
              "      <td>TCGA-BP-4798</td>\n",
              "      <td>training</td>\n",
              "      <td>334</td>\n",
              "      <td>11.894763</td>\n",
              "      <td>12.266688</td>\n",
              "      <td>10.957281</td>\n",
              "      <td>10.743430</td>\n",
              "      <td>13.067092</td>\n",
              "      <td>10.055239</td>\n",
              "      <td>12.410996</td>\n",
              "      <td>8.925046</td>\n",
              "      <td>12.185975</td>\n",
              "      <td>12.541821</td>\n",
              "      <td>9.386611</td>\n",
              "      <td>11.431957</td>\n",
              "      <td>12.596742</td>\n",
              "      <td>8.229138</td>\n",
              "    </tr>\n",
              "    <tr>\n",
              "      <th>...</th>\n",
              "      <td>...</td>\n",
              "      <td>...</td>\n",
              "      <td>...</td>\n",
              "      <td>...</td>\n",
              "      <td>...</td>\n",
              "      <td>...</td>\n",
              "      <td>...</td>\n",
              "      <td>...</td>\n",
              "      <td>...</td>\n",
              "      <td>...</td>\n",
              "      <td>...</td>\n",
              "      <td>...</td>\n",
              "      <td>...</td>\n",
              "      <td>...</td>\n",
              "      <td>...</td>\n",
              "      <td>...</td>\n",
              "      <td>...</td>\n",
              "    </tr>\n",
              "    <tr>\n",
              "      <th>166</th>\n",
              "      <td>TCGA-BP-4787</td>\n",
              "      <td>testing</td>\n",
              "      <td>480</td>\n",
              "      <td>11.985341</td>\n",
              "      <td>12.365776</td>\n",
              "      <td>11.278517</td>\n",
              "      <td>10.058439</td>\n",
              "      <td>14.617341</td>\n",
              "      <td>9.623050</td>\n",
              "      <td>12.372742</td>\n",
              "      <td>5.190399</td>\n",
              "      <td>11.887072</td>\n",
              "      <td>12.536167</td>\n",
              "      <td>10.177528</td>\n",
              "      <td>11.442994</td>\n",
              "      <td>12.803234</td>\n",
              "      <td>8.709844</td>\n",
              "    </tr>\n",
              "    <tr>\n",
              "      <th>167</th>\n",
              "      <td>TCGA-BP-4981</td>\n",
              "      <td>training</td>\n",
              "      <td>1097</td>\n",
              "      <td>12.528847</td>\n",
              "      <td>12.059698</td>\n",
              "      <td>11.629544</td>\n",
              "      <td>10.011731</td>\n",
              "      <td>10.198068</td>\n",
              "      <td>8.942412</td>\n",
              "      <td>12.227246</td>\n",
              "      <td>6.952234</td>\n",
              "      <td>12.444176</td>\n",
              "      <td>12.536982</td>\n",
              "      <td>11.617060</td>\n",
              "      <td>11.507760</td>\n",
              "      <td>12.729785</td>\n",
              "      <td>9.102123</td>\n",
              "    </tr>\n",
              "    <tr>\n",
              "      <th>168</th>\n",
              "      <td>TCGA-B0-4700</td>\n",
              "      <td>testing</td>\n",
              "      <td>1980</td>\n",
              "      <td>12.395055</td>\n",
              "      <td>14.261705</td>\n",
              "      <td>11.795183</td>\n",
              "      <td>10.962550</td>\n",
              "      <td>13.231652</td>\n",
              "      <td>10.748777</td>\n",
              "      <td>12.358914</td>\n",
              "      <td>8.220847</td>\n",
              "      <td>12.130186</td>\n",
              "      <td>12.272660</td>\n",
              "      <td>9.830711</td>\n",
              "      <td>11.464391</td>\n",
              "      <td>13.113979</td>\n",
              "      <td>10.010658</td>\n",
              "    </tr>\n",
              "    <tr>\n",
              "      <th>169</th>\n",
              "      <td>TCGA-B0-4821</td>\n",
              "      <td>testing</td>\n",
              "      <td>1230</td>\n",
              "      <td>12.597532</td>\n",
              "      <td>10.115534</td>\n",
              "      <td>11.314814</td>\n",
              "      <td>11.334176</td>\n",
              "      <td>13.522059</td>\n",
              "      <td>11.837168</td>\n",
              "      <td>12.514082</td>\n",
              "      <td>7.623032</td>\n",
              "      <td>12.827489</td>\n",
              "      <td>12.772952</td>\n",
              "      <td>11.058194</td>\n",
              "      <td>12.363918</td>\n",
              "      <td>14.283928</td>\n",
              "      <td>12.686951</td>\n",
              "    </tr>\n",
              "    <tr>\n",
              "      <th>170</th>\n",
              "      <td>TCGA-A3-3352</td>\n",
              "      <td>testing</td>\n",
              "      <td>561</td>\n",
              "      <td>11.764430</td>\n",
              "      <td>12.798392</td>\n",
              "      <td>12.070361</td>\n",
              "      <td>9.832688</td>\n",
              "      <td>9.925623</td>\n",
              "      <td>9.182692</td>\n",
              "      <td>12.136022</td>\n",
              "      <td>7.049953</td>\n",
              "      <td>11.862051</td>\n",
              "      <td>11.839659</td>\n",
              "      <td>9.683669</td>\n",
              "      <td>11.241628</td>\n",
              "      <td>12.096493</td>\n",
              "      <td>8.982249</td>\n",
              "    </tr>\n",
              "  </tbody>\n",
              "</table>\n",
              "<p>171 rows × 17 columns</p>\n",
              "</div>\n",
              "      <button class=\"colab-df-convert\" onclick=\"convertToInteractive('df-e74157e8-7734-4617-bcd1-20c7cf72dc8e')\"\n",
              "              title=\"Convert this dataframe to an interactive table.\"\n",
              "              style=\"display:none;\">\n",
              "        \n",
              "  <svg xmlns=\"http://www.w3.org/2000/svg\" height=\"24px\"viewBox=\"0 0 24 24\"\n",
              "       width=\"24px\">\n",
              "    <path d=\"M0 0h24v24H0V0z\" fill=\"none\"/>\n",
              "    <path d=\"M18.56 5.44l.94 2.06.94-2.06 2.06-.94-2.06-.94-.94-2.06-.94 2.06-2.06.94zm-11 1L8.5 8.5l.94-2.06 2.06-.94-2.06-.94L8.5 2.5l-.94 2.06-2.06.94zm10 10l.94 2.06.94-2.06 2.06-.94-2.06-.94-.94-2.06-.94 2.06-2.06.94z\"/><path d=\"M17.41 7.96l-1.37-1.37c-.4-.4-.92-.59-1.43-.59-.52 0-1.04.2-1.43.59L10.3 9.45l-7.72 7.72c-.78.78-.78 2.05 0 2.83L4 21.41c.39.39.9.59 1.41.59.51 0 1.02-.2 1.41-.59l7.78-7.78 2.81-2.81c.8-.78.8-2.07 0-2.86zM5.41 20L4 18.59l7.72-7.72 1.47 1.35L5.41 20z\"/>\n",
              "  </svg>\n",
              "      </button>\n",
              "      \n",
              "  <style>\n",
              "    .colab-df-container {\n",
              "      display:flex;\n",
              "      flex-wrap:wrap;\n",
              "      gap: 12px;\n",
              "    }\n",
              "\n",
              "    .colab-df-convert {\n",
              "      background-color: #E8F0FE;\n",
              "      border: none;\n",
              "      border-radius: 50%;\n",
              "      cursor: pointer;\n",
              "      display: none;\n",
              "      fill: #1967D2;\n",
              "      height: 32px;\n",
              "      padding: 0 0 0 0;\n",
              "      width: 32px;\n",
              "    }\n",
              "\n",
              "    .colab-df-convert:hover {\n",
              "      background-color: #E2EBFA;\n",
              "      box-shadow: 0px 1px 2px rgba(60, 64, 67, 0.3), 0px 1px 3px 1px rgba(60, 64, 67, 0.15);\n",
              "      fill: #174EA6;\n",
              "    }\n",
              "\n",
              "    [theme=dark] .colab-df-convert {\n",
              "      background-color: #3B4455;\n",
              "      fill: #D2E3FC;\n",
              "    }\n",
              "\n",
              "    [theme=dark] .colab-df-convert:hover {\n",
              "      background-color: #434B5C;\n",
              "      box-shadow: 0px 1px 3px 1px rgba(0, 0, 0, 0.15);\n",
              "      filter: drop-shadow(0px 1px 2px rgba(0, 0, 0, 0.3));\n",
              "      fill: #FFFFFF;\n",
              "    }\n",
              "  </style>\n",
              "\n",
              "      <script>\n",
              "        const buttonEl =\n",
              "          document.querySelector('#df-e74157e8-7734-4617-bcd1-20c7cf72dc8e button.colab-df-convert');\n",
              "        buttonEl.style.display =\n",
              "          google.colab.kernel.accessAllowed ? 'block' : 'none';\n",
              "\n",
              "        async function convertToInteractive(key) {\n",
              "          const element = document.querySelector('#df-e74157e8-7734-4617-bcd1-20c7cf72dc8e');\n",
              "          const dataTable =\n",
              "            await google.colab.kernel.invokeFunction('convertToInteractive',\n",
              "                                                     [key], {});\n",
              "          if (!dataTable) return;\n",
              "\n",
              "          const docLinkHtml = 'Like what you see? Visit the ' +\n",
              "            '<a target=\"_blank\" href=https://colab.research.google.com/notebooks/data_table.ipynb>data table notebook</a>'\n",
              "            + ' to learn more about interactive tables.';\n",
              "          element.innerHTML = '';\n",
              "          dataTable['output_type'] = 'display_data';\n",
              "          await google.colab.output.renderOutput(dataTable, element);\n",
              "          const docLink = document.createElement('div');\n",
              "          docLink.innerHTML = docLinkHtml;\n",
              "          element.appendChild(docLink);\n",
              "        }\n",
              "      </script>\n",
              "    </div>\n",
              "  </div>\n",
              "  "
            ],
            "text/plain": [
              "           sample data_partition  survival  ...       BRD9    ARFGAP1     COL7A1\n",
              "0    TCGA-AK-3455        testing       683  ...  11.047651  12.158947   7.850365\n",
              "1    TCGA-CJ-5677        testing       782  ...  11.283452  12.619064   9.696658\n",
              "2    TCGA-DV-A4VX        testing      1626  ...  11.749996  12.733932   8.760610\n",
              "3    TCGA-B0-5092        testing       459  ...  11.435689  12.858521  11.239858\n",
              "4    TCGA-BP-4798       training       334  ...  11.431957  12.596742   8.229138\n",
              "..            ...            ...       ...  ...        ...        ...        ...\n",
              "166  TCGA-BP-4787        testing       480  ...  11.442994  12.803234   8.709844\n",
              "167  TCGA-BP-4981       training      1097  ...  11.507760  12.729785   9.102123\n",
              "168  TCGA-B0-4700        testing      1980  ...  11.464391  13.113979  10.010658\n",
              "169  TCGA-B0-4821        testing      1230  ...  12.363918  14.283928  12.686951\n",
              "170  TCGA-A3-3352        testing       561  ...  11.241628  12.096493   8.982249\n",
              "\n",
              "[171 rows x 17 columns]"
            ]
          },
          "metadata": {},
          "execution_count": 95
        }
      ]
    },
    {
      "cell_type": "markdown",
      "source": [
        "## Split the Data into Training and Testing Sets\n",
        "\n",
        "Partition the data in order to train and test the regression model. "
      ],
      "metadata": {
        "id": "ffp5GErIenGP"
      }
    },
    {
      "cell_type": "code",
      "source": [
        "train_x = data[data['data_partition']=='training'][genes]\n",
        "train_y = data[data['data_partition']=='training'][['survival']]\n",
        "test_x = data[data['data_partition']=='testing'][genes]\n",
        "test_y = data[data['data_partition']=='testing'][['survival']]"
      ],
      "metadata": {
        "id": "R2gFE_y8abqr"
      },
      "execution_count": 96,
      "outputs": []
    },
    {
      "cell_type": "markdown",
      "source": [
        "## Normalize the Data\n",
        "\n",
        "The data must first be normalized such that it is mean centered and scaled to unit variance. "
      ],
      "metadata": {
        "id": "WljaIYl-GaWN"
      }
    },
    {
      "cell_type": "code",
      "source": [
        "# normalize the data using a TensorFlow Normalization\n",
        "normalizer = tf.keras.layers.Normalization(axis=-1)\n",
        "normalizer.adapt(np.array(train_x))"
      ],
      "metadata": {
        "id": "2JF0tRiQkcJb"
      },
      "execution_count": 97,
      "outputs": []
    },
    {
      "cell_type": "markdown",
      "source": [
        "## Build a Regression Model using a Deep Neural Network\n",
        "\n",
        "We use TensorFlow to build a three-layer deep neural network (DNN). "
      ],
      "metadata": {
        "id": "mqqIIVWCWLta"
      }
    },
    {
      "cell_type": "code",
      "source": [
        "dnn_model = keras.Sequential([\n",
        "    normalizer,\n",
        "    layers.Dense(64, activation='relu'),\n",
        "    layers.Dense(64, activation='relu'),\n",
        "    layers.Dense(1)\n",
        "])\n",
        "\n",
        "dnn_model.compile(\n",
        "    loss='mean_absolute_error',\n",
        "    optimizer=tf.keras.optimizers.Adam(0.001)\n",
        ")"
      ],
      "metadata": {
        "id": "ao948UE2mr-n"
      },
      "execution_count": 98,
      "outputs": []
    },
    {
      "cell_type": "code",
      "source": [
        "# display a summary of the model\n",
        "dnn_model.summary()"
      ],
      "metadata": {
        "colab": {
          "base_uri": "https://localhost:8080/"
        },
        "id": "j1E0ENifTD2t",
        "outputId": "39da9c7c-c989-4d90-9eca-ade14704b018"
      },
      "execution_count": 99,
      "outputs": [
        {
          "output_type": "stream",
          "name": "stdout",
          "text": [
            "Model: \"sequential_5\"\n",
            "_________________________________________________________________\n",
            " Layer (type)                Output Shape              Param #   \n",
            "=================================================================\n",
            " normalization_2 (Normalizat  (None, 14)               29        \n",
            " ion)                                                            \n",
            "                                                                 \n",
            " dense_13 (Dense)            (None, 64)                960       \n",
            "                                                                 \n",
            " dense_14 (Dense)            (None, 64)                4160      \n",
            "                                                                 \n",
            " dense_15 (Dense)            (None, 1)                 65        \n",
            "                                                                 \n",
            "=================================================================\n",
            "Total params: 5,214\n",
            "Trainable params: 5,185\n",
            "Non-trainable params: 29\n",
            "_________________________________________________________________\n"
          ]
        }
      ]
    },
    {
      "cell_type": "markdown",
      "source": [
        "## Train the Regression Model\n",
        "\n",
        "Using the \"fit\" TensorFlow method, we train the regression model over 1000 epochs and plot the loss, or error, of the model as a function of the epochs. "
      ],
      "metadata": {
        "id": "EUb1glfTWvun"
      }
    },
    {
      "cell_type": "code",
      "source": [
        "# train the model and note how long it takes\n",
        "%%time\n",
        "history = dnn_model.fit(train_x, train_y, epochs=1000, verbose=0, validation_split=0.2)"
      ],
      "metadata": {
        "colab": {
          "base_uri": "https://localhost:8080/"
        },
        "id": "I4rWJfG1pPaf",
        "outputId": "cd2e57e0-49b2-4671-8c2b-f241d7f6582c"
      },
      "execution_count": 100,
      "outputs": [
        {
          "output_type": "stream",
          "name": "stdout",
          "text": [
            "CPU times: user 28.6 s, sys: 1.37 s, total: 30 s\n",
            "Wall time: 27.9 s\n"
          ]
        }
      ]
    },
    {
      "cell_type": "code",
      "source": [
        "# plot loss of the model as it is trained\n",
        "plt.plot(history.history['loss'], label='loss')\n",
        "plt.plot(history.history['val_loss'], label='val_loss')\n",
        "plt.ylim([0, 1000])\n",
        "plt.xlabel('Epoch')\n",
        "plt.ylabel('Error')\n",
        "plt.legend()\n",
        "plt.grid(True)"
      ],
      "metadata": {
        "colab": {
          "base_uri": "https://localhost:8080/",
          "height": 289
        },
        "id": "ZgHN7Er-pYhG",
        "outputId": "fd14633f-967a-496d-fd9b-4b0e31149a87"
      },
      "execution_count": 101,
      "outputs": [
        {
          "output_type": "display_data",
          "data": {
            "image/png": "[encoded data removed]",
            "text/plain": [
              "<Figure size 432x288 with 1 Axes>"
            ]
          },
          "metadata": {}
        }
      ]
    },
    {
      "cell_type": "markdown",
      "source": [
        "## Predict Survival Time for Both Training and Testing Sets\n",
        "\n",
        "With the TensorFlow \"predict\" method, we can predict the survival time for each training and testing sample using the trained model. "
      ],
      "metadata": {
        "id": "8As3vcqBXnKi"
      }
    },
    {
      "cell_type": "code",
      "source": [
        "train_predict = dnn_model.predict(train_x)\n",
        "test_predict = dnn_model.predict(test_x)"
      ],
      "metadata": {
        "id": "MC4gJxPvptiX"
      },
      "execution_count": 102,
      "outputs": []
    },
    {
      "cell_type": "markdown",
      "source": [
        "## Visualize the Regression Model\n",
        "\n",
        "Combine results into a single data frame in order to visualize the model."
      ],
      "metadata": {
        "id": "jQZeSOf9X246"
      }
    },
    {
      "cell_type": "code",
      "source": [
        "# create combined and labeled dataframes for plotting\n",
        "train_plot = pd.DataFrame(np.concatenate((np.reshape(train_y.to_numpy(), (len(train_predict),1)), train_predict), axis=1))\n",
        "train_plot.rename(columns={0: 'survival', 1:'predicted_survival'}, inplace=True)\n",
        "train_plot['group'] = 'training'\n",
        "\n",
        "test_plot = pd.DataFrame(np.concatenate((np.reshape(test_y.to_numpy(), (len(test_predict),1)), test_predict), axis=1))\n",
        "test_plot.rename(columns={0: 'survival', 1:'predicted_survival'}, inplace=True)\n",
        "test_plot['group'] = 'testing'\n",
        "\n",
        "combined = pd.concat([train_plot, test_plot])\n",
        "\n",
        "# display the combined data frame\n",
        "combined"
      ],
      "metadata": {
        "colab": {
          "base_uri": "https://localhost:8080/",
          "height": 424
        },
        "id": "NIkPOZwAwe07",
        "outputId": "5d64afd6-1131-4b01-b1f0-0290d34e17e7"
      },
      "execution_count": 103,
      "outputs": [
        {
          "output_type": "execute_result",
          "data": {
            "text/html": [
              "\n",
              "  <div id=\"df-1f884a54-2df3-4da1-ad32-bc07920884de\">\n",
              "    <div class=\"colab-df-container\">\n",
              "      <div>\n",
              "<style scoped>\n",
              "    .dataframe tbody tr th:only-of-type {\n",
              "        vertical-align: middle;\n",
              "    }\n",
              "\n",
              "    .dataframe tbody tr th {\n",
              "        vertical-align: top;\n",
              "    }\n",
              "\n",
              "    .dataframe thead th {\n",
              "        text-align: right;\n",
              "    }\n",
              "</style>\n",
              "<table border=\"1\" class=\"dataframe\">\n",
              "  <thead>\n",
              "    <tr style=\"text-align: right;\">\n",
              "      <th></th>\n",
              "      <th>survival</th>\n",
              "      <th>predicted_survival</th>\n",
              "      <th>group</th>\n",
              "    </tr>\n",
              "  </thead>\n",
              "  <tbody>\n",
              "    <tr>\n",
              "      <th>0</th>\n",
              "      <td>334.0</td>\n",
              "      <td>413.154358</td>\n",
              "      <td>training</td>\n",
              "    </tr>\n",
              "    <tr>\n",
              "      <th>1</th>\n",
              "      <td>245.0</td>\n",
              "      <td>316.698364</td>\n",
              "      <td>training</td>\n",
              "    </tr>\n",
              "    <tr>\n",
              "      <th>2</th>\n",
              "      <td>202.0</td>\n",
              "      <td>211.786469</td>\n",
              "      <td>training</td>\n",
              "    </tr>\n",
              "    <tr>\n",
              "      <th>3</th>\n",
              "      <td>222.0</td>\n",
              "      <td>335.101532</td>\n",
              "      <td>training</td>\n",
              "    </tr>\n",
              "    <tr>\n",
              "      <th>4</th>\n",
              "      <td>1912.0</td>\n",
              "      <td>781.327087</td>\n",
              "      <td>training</td>\n",
              "    </tr>\n",
              "    <tr>\n",
              "      <th>...</th>\n",
              "      <td>...</td>\n",
              "      <td>...</td>\n",
              "      <td>...</td>\n",
              "    </tr>\n",
              "    <tr>\n",
              "      <th>82</th>\n",
              "      <td>1075.0</td>\n",
              "      <td>950.602295</td>\n",
              "      <td>testing</td>\n",
              "    </tr>\n",
              "    <tr>\n",
              "      <th>83</th>\n",
              "      <td>480.0</td>\n",
              "      <td>1402.730591</td>\n",
              "      <td>testing</td>\n",
              "    </tr>\n",
              "    <tr>\n",
              "      <th>84</th>\n",
              "      <td>1980.0</td>\n",
              "      <td>230.009171</td>\n",
              "      <td>testing</td>\n",
              "    </tr>\n",
              "    <tr>\n",
              "      <th>85</th>\n",
              "      <td>1230.0</td>\n",
              "      <td>1369.197388</td>\n",
              "      <td>testing</td>\n",
              "    </tr>\n",
              "    <tr>\n",
              "      <th>86</th>\n",
              "      <td>561.0</td>\n",
              "      <td>964.962341</td>\n",
              "      <td>testing</td>\n",
              "    </tr>\n",
              "  </tbody>\n",
              "</table>\n",
              "<p>171 rows × 3 columns</p>\n",
              "</div>\n",
              "      <button class=\"colab-df-convert\" onclick=\"convertToInteractive('df-1f884a54-2df3-4da1-ad32-bc07920884de')\"\n",
              "              title=\"Convert this dataframe to an interactive table.\"\n",
              "              style=\"display:none;\">\n",
              "        \n",
              "  <svg xmlns=\"http://www.w3.org/2000/svg\" height=\"24px\"viewBox=\"0 0 24 24\"\n",
              "       width=\"24px\">\n",
              "    <path d=\"M0 0h24v24H0V0z\" fill=\"none\"/>\n",
              "    <path d=\"M18.56 5.44l.94 2.06.94-2.06 2.06-.94-2.06-.94-.94-2.06-.94 2.06-2.06.94zm-11 1L8.5 8.5l.94-2.06 2.06-.94-2.06-.94L8.5 2.5l-.94 2.06-2.06.94zm10 10l.94 2.06.94-2.06 2.06-.94-2.06-.94-.94-2.06-.94 2.06-2.06.94z\"/><path d=\"M17.41 7.96l-1.37-1.37c-.4-.4-.92-.59-1.43-.59-.52 0-1.04.2-1.43.59L10.3 9.45l-7.72 7.72c-.78.78-.78 2.05 0 2.83L4 21.41c.39.39.9.59 1.41.59.51 0 1.02-.2 1.41-.59l7.78-7.78 2.81-2.81c.8-.78.8-2.07 0-2.86zM5.41 20L4 18.59l7.72-7.72 1.47 1.35L5.41 20z\"/>\n",
              "  </svg>\n",
              "      </button>\n",
              "      \n",
              "  <style>\n",
              "    .colab-df-container {\n",
              "      display:flex;\n",
              "      flex-wrap:wrap;\n",
              "      gap: 12px;\n",
              "    }\n",
              "\n",
              "    .colab-df-convert {\n",
              "      background-color: #E8F0FE;\n",
              "      border: none;\n",
              "      border-radius: 50%;\n",
              "      cursor: pointer;\n",
              "      display: none;\n",
              "      fill: #1967D2;\n",
              "      height: 32px;\n",
              "      padding: 0 0 0 0;\n",
              "      width: 32px;\n",
              "    }\n",
              "\n",
              "    .colab-df-convert:hover {\n",
              "      background-color: #E2EBFA;\n",
              "      box-shadow: 0px 1px 2px rgba(60, 64, 67, 0.3), 0px 1px 3px 1px rgba(60, 64, 67, 0.15);\n",
              "      fill: #174EA6;\n",
              "    }\n",
              "\n",
              "    [theme=dark] .colab-df-convert {\n",
              "      background-color: #3B4455;\n",
              "      fill: #D2E3FC;\n",
              "    }\n",
              "\n",
              "    [theme=dark] .colab-df-convert:hover {\n",
              "      background-color: #434B5C;\n",
              "      box-shadow: 0px 1px 3px 1px rgba(0, 0, 0, 0.15);\n",
              "      filter: drop-shadow(0px 1px 2px rgba(0, 0, 0, 0.3));\n",
              "      fill: #FFFFFF;\n",
              "    }\n",
              "  </style>\n",
              "\n",
              "      <script>\n",
              "        const buttonEl =\n",
              "          document.querySelector('#df-1f884a54-2df3-4da1-ad32-bc07920884de button.colab-df-convert');\n",
              "        buttonEl.style.display =\n",
              "          google.colab.kernel.accessAllowed ? 'block' : 'none';\n",
              "\n",
              "        async function convertToInteractive(key) {\n",
              "          const element = document.querySelector('#df-1f884a54-2df3-4da1-ad32-bc07920884de');\n",
              "          const dataTable =\n",
              "            await google.colab.kernel.invokeFunction('convertToInteractive',\n",
              "                                                     [key], {});\n",
              "          if (!dataTable) return;\n",
              "\n",
              "          const docLinkHtml = 'Like what you see? Visit the ' +\n",
              "            '<a target=\"_blank\" href=https://colab.research.google.com/notebooks/data_table.ipynb>data table notebook</a>'\n",
              "            + ' to learn more about interactive tables.';\n",
              "          element.innerHTML = '';\n",
              "          dataTable['output_type'] = 'display_data';\n",
              "          await google.colab.output.renderOutput(dataTable, element);\n",
              "          const docLink = document.createElement('div');\n",
              "          docLink.innerHTML = docLinkHtml;\n",
              "          element.appendChild(docLink);\n",
              "        }\n",
              "      </script>\n",
              "    </div>\n",
              "  </div>\n",
              "  "
            ],
            "text/plain": [
              "    survival  predicted_survival     group\n",
              "0      334.0          413.154358  training\n",
              "1      245.0          316.698364  training\n",
              "2      202.0          211.786469  training\n",
              "3      222.0          335.101532  training\n",
              "4     1912.0          781.327087  training\n",
              "..       ...                 ...       ...\n",
              "82    1075.0          950.602295   testing\n",
              "83     480.0         1402.730591   testing\n",
              "84    1980.0          230.009171   testing\n",
              "85    1230.0         1369.197388   testing\n",
              "86     561.0          964.962341   testing\n",
              "\n",
              "[171 rows x 3 columns]"
            ]
          },
          "metadata": {},
          "execution_count": 103
        }
      ]
    },
    {
      "cell_type": "code",
      "source": [
        "# use seaborn to generate a scatter plot of regression results\n",
        "sns.set_theme(style='ticks', palette='pastel')\n",
        "ax = sns.lmplot(data=combined, hue='group', x='survival', y='predicted_survival', height=6, aspect=1)\n",
        "ax.set(xlim=(0,4000), ylim=(0,4000),xlabel='Survival',ylabel='Predicted Survival')"
      ],
      "metadata": {
        "id": "Z6k8ZPKWuMHU",
        "colab": {
          "base_uri": "https://localhost:8080/",
          "height": 458
        },
        "outputId": "4c1664e4-b63a-4872-abb7-30b9e5847de6"
      },
      "execution_count": 104,
      "outputs": [
        {
          "output_type": "execute_result",
          "data": {
            "text/plain": [
              "<seaborn.axisgrid.FacetGrid at 0x7fd9a7df76d0>"
            ]
          },
          "metadata": {},
          "execution_count": 104
        },
        {
          "output_type": "display_data",
          "data": {
            "image/png": "[encoded data removed]",
            "text/plain": [
              "<Figure size 514.6x432 with 1 Axes>"
            ]
          },
          "metadata": {}
        }
      ]
    },
    {
      "cell_type": "markdown",
      "source": [
        "# Conclusion\n",
        "\n",
        "Although there is somewhat of a positive correlation between predicted survival time and actual survival time, the relationship is weak and the model's error remains high even after training for hundreds of epochs. Note that even for the training samples (orange points) the model does not predict survival well, suggesting that it is underfitting. \n",
        "\n",
        "This example used a pre-selected set of 14 genes from a previous study. However, performing additional feature selection or increasing the feature size (e.g., increase to 30+ features) may improve model performance. DNN parameters (i.e., number of layers, number of neurons for each layer, etc.) may also be tuned to improve model performance. \n",
        "\n",
        "Despite the poor prediction performance, this notebook serves to demonstrate how to construct a regression model using TensorFlow. "
      ],
      "metadata": {
        "id": "g1sg3dNMISWV"
      }
    }
  ]
}
