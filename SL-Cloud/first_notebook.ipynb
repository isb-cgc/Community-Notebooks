{
 "cells": [
  {
   "cell_type": "markdown",
   "metadata": {},
   "source": [
    "## First notebook\n",
    "```\n",
    "Title:   First notebook\n",
    "Author:  Bahar Tercan\n",
    "Created: 02-09-2022\n",
    "Purpose: Retrieve data succesfully from BigQuery tables \n",
    "Notes: Runs in MyBinder \n",
    "```"
   ]
  },
  {
   "cell_type": "code",
   "execution_count": null,
   "metadata": {},
   "outputs": [],
   "source": [
    "# this code block only needs to be run once after loading\n",
    "#Please don't run it if you are runnig the notebook in MyBinder\n",
    "!pip3 install google.cloud\n",
    "!pip3 install pandas"
   ]
  },
  {
   "cell_type": "code",
   "execution_count": null,
   "metadata": {},
   "outputs": [],
   "source": [
    "# To be able to execute queries we need to import the BQ python library \n",
    "from google.cloud import bigquery\n",
    "import pandas as pd"
   ]
  },
  {
   "cell_type": "markdown",
   "metadata": {},
   "source": [
    "## Google Authentication\n",
    "The first step is to authorize access to BigQuery and the Google Cloud. For more information see ['Quick Start Guide to ISB-CGC'](https://isb-cancer-genomics-cloud.readthedocs.io/en/latest/sections/HowToGetStartedonISB-CGC.html) and alternative authentication methods can be found [here](https://googleapis.dev/python/google-api-core/latest/auth.html).\n",
    "\n",
    "Moreover you need to [create a google cloud](https://cloud.google.com/resource-manager/docs/creating-managing-projects#console) project to be able to run BigQuery queries."
   ]
  },
  {
   "cell_type": "code",
   "execution_count": null,
   "metadata": {},
   "outputs": [],
   "source": [
    "#Please make sure that you have installed Cloud SDK.\n",
    "#See support from https://cloud.google.com/sdk/docs/install\n",
    "#Please don't run this code block if you are runnig the notebook in MyBinder\n",
    "\n",
    "!gcloud auth application-default login"
   ]
  },
  {
   "cell_type": "code",
   "execution_count": null,
   "metadata": {},
   "outputs": [],
   "source": [
    "\n",
    "project_id='syntheticlethality' #please replace syntheticlethality with your own projectid\n",
    "client = bigquery.Client(project_id)\n",
    "#client = bigquery.Client(credentials=credentials, project=credentials.project_id)"
   ]
  },
  {
   "cell_type": "code",
   "execution_count": null,
   "metadata": {},
   "outputs": [],
   "source": [
    "# Retrieve BRCA1 gene effect score of the first data entry for gene BRCA1 from CRISPR dataset\n",
    "crispr_query=\"\"\"\n",
    "SELECT * FROM \n",
    "`isb-cgc-bq.DEPMAP.Achilles_gene_effect_DepMapPublic_current`\n",
    "WHERE Hugo_Symbol='BRCA1'\n",
    "LIMIT 10\n",
    "\"\"\"\n",
    "brca1_gene_effect=client.query(crispr_query).result().to_dataframe()\n",
    "brca1_gene_effect"
   ]
  },
  {
   "cell_type": "code",
   "execution_count": null,
   "metadata": {},
   "outputs": [],
   "source": [
    "# Retrieve the first 10 records for BRCA1 gene expression from pancancer atlas dataset\n",
    "pancancer_atlas_query=\"\"\"\n",
    "SELECT * FROM\n",
    "`pancancer-atlas.Filtered.EBpp_AdjustPANCAN_IlluminaHiSeq_RNASeqV2_genExp_filtered` \n",
    "WHERE Symbol='BRCA1'\n",
    "LIMIT 10\n",
    "\"\"\"\n",
    "brca1_gene_exp=client.query(pancancer_atlas_query).result().to_dataframe()\n",
    "brca1_gene_exp"
   ]
  },
  {
   "cell_type": "code",
   "execution_count": null,
   "metadata": {},
   "outputs": [],
   "source": []
  }
 ],
 "metadata": {
  "kernelspec": {
   "display_name": "Python 3 (ipykernel)",
   "language": "python",
   "name": "python3"
  },
  "language_info": {
   "codemirror_mode": {
    "name": "ipython",
    "version": 3
   },
   "file_extension": ".py",
   "mimetype": "text/x-python",
   "name": "python",
   "nbconvert_exporter": "python",
   "pygments_lexer": "ipython3",
   "version": "3.9.1"
  }
 },
 "nbformat": 4,
 "nbformat_minor": 4
}
