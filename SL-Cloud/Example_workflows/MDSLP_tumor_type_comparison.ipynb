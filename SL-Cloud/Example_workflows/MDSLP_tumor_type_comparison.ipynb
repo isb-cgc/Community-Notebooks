{
 "cells": [
  {
   "cell_type": "markdown",
   "id": "d468201b",
   "metadata": {},
   "source": [
    "### Title: Mutation dependent synthetic lethyal pipeline -- tumor type comparison\n",
    "<font color='blue'> Author:</font>  Guangrong Qin<br/>\n",
    "\n",
    "<font color='blue'> Contact:</font>  gqin@systemsbiology.org<br/>\n",
    "\n",
    "<font color='blue'> Description:</font> This notebook is used to answer which gene knockout or gene knockdown  show sensitivity to certain gene mutation or the mutation of a group of genes in different tumor types <br/>\n",
    "\n",
    "<font color='blue'>Citations:</font> The functional screening data and omics data for cell lines is from the Depmap and CCLE project from the Broad institute (DepMap Public 20Q3). To use this jupyter notebook and the data which are used in the jupyter notebook, Please cite the following papers<br/>\n",
    "\n",
    "Bahar Tercan, Guangrong Qin, Taek-Kyun Kim, Boris Aguilar, Christopher J. Kemp, Nyasha Chambwe, Ilya Shmulevich. SL-Cloud: A Computational Resource to Support Synthetic Lethal Interaction Discovery. BioRxiv 2021.09.18.459450; doi: https://doi.org/10.1101/2021.09.18.459450\n",
    "\n",
    "For this DepMap release:\n",
    "DepMap, Broad (2020): DepMap 20Q3 Public. figshare. Dataset doi:10.6084/m9.figshare.11791698.v2.\n",
    "\n",
    "For CRISPR datasets:\n",
    "Robin M. Meyers, Jordan G. Bryan, James M. McFarland, Barbara A. Weir, ... David E. Root, William C. Hahn, Aviad Tsherniak. Computational correction of copy number effect improves specificity of CRISPR-Cas9 essentiality screens in cancer cells. Nature Genetics 2017 October 49:1779–1784. doi:10.1038/ng.3984. PMID: 29083409\n",
    "\n",
    "Dempster, J. M., Rossen, J., Kazachkova, M., Pan, J., Kugener, G., Root, D. E., & Tsherniak, A. (2019). Extracting Biological Insights from the Project Achilles Genome-Scale CRISPR Screens in Cancer Cell Lines. BioRxiv, 720243.\n",
    "\n",
    "For omics datasets:\n",
    "Mahmoud Ghandi, Franklin W. Huang, Judit Jané-Valbuena, Gregory V. Kryukov, ... Todd R. Golub, Levi A. Garraway & William R. Sellers. 2019. Next-generation characterization of the Cancer Cell Line Encyclopedia. Nature 569, 503–508 (2019).PMID: 31068700\n"
   ]
  },
  {
   "cell_type": "code",
   "execution_count": null,
   "id": "88451607",
   "metadata": {},
   "outputs": [],
   "source": [
    "#Check the required libraries\n",
    "try:\n",
    "    from google.cloud import bigquery\n",
    "    print(\"module 'google-cloud-bigquery' is installed\")\n",
    "except ModuleNotFoundError:\n",
    "    !pip install google-cloud-bigquery\n",
    "    from google.cloud import bigquery\n",
    "\n",
    "try:\n",
    "    import ipywidgets as widgets\n",
    "    print(\"module 'ipywidgets' is installed\")\n",
    "except ModuleNotFoundError:\n",
    "    !pip install ipywidgets\n",
    "    import ipywidgets as widgets\n",
    "\n",
    "try:\n",
    "    import pyarrow\n",
    "    print(\"module 'pyarrow' is installed\")\n",
    "except ModuleNotFoundError:\n",
    "    !pip install pyarrow\n",
    "    import pyarrow\n",
    "\n",
    "try:\n",
    "    import pandas as pd\n",
    "    print(\"module 'pandas' is installed\")\n",
    "except ModuleNotFoundError:\n",
    "    !pip install pandas\n",
    "    import pandas as pd\n",
    "\n",
    "try:\n",
    "    import numpy as np\n",
    "    print(\"module 'numpy' is installed\")\n",
    "except ModuleNotFoundError:\n",
    "    !pip install numpy\n",
    "    import numpy as np\n",
    "\n",
    "try:\n",
    "    from scipy import stats    \n",
    "    print(\"module 'scipy' is installed\")\n",
    "except ModuleNotFoundError:\n",
    "    !pip install scipy\n",
    "    from scipy import stats    \n",
    "\n",
    "try:\n",
    "    import statsmodels.stats.multitest as multi   \n",
    "    print(\"module 'statsmodels' is installed\")\n",
    "except ModuleNotFoundError:\n",
    "    !pip install statsmodels\n",
    "    import statsmodels.stats.multitest as multi\n",
    "\n",
    "try:\n",
    "    import seaborn as sns\n",
    "    print(\"module 'seaborn' is installed\")\n",
    "except ModuleNotFoundError:\n",
    "    !pip install seaborn\n",
    "    import seaborn as sns\n",
    "    \n",
    "\n",
    "try:\n",
    "    import matplotlib.pyplot as plt\n",
    "    print(\"module 'matplotlib' is installed\")\n",
    "except ModuleNotFoundError:\n",
    "    !pip install matplotlib\n",
    "    import matplotlib.pyplot as plt\n",
    "\n",
    "!pip install -i https://test.pypi.org/simple/ MDSLP==0.4\n",
    "from MDSLP import MDSLP\n",
    "\n",
    "        "
   ]
  },
  {
   "cell_type": "code",
   "execution_count": null,
   "id": "2c6dba2e",
   "metadata": {},
   "outputs": [],
   "source": [
    "!gcloud auth application-default login"
   ]
  },
  {
   "cell_type": "markdown",
   "id": "6c22ce07",
   "metadata": {},
   "source": [
    "#### Set user input 1:\n",
    "###### 1, Data_source: a list of strings. Two options are allowed: \"shRNA\" or/and \"Crispr\"\n",
    "###### 2, Mutated genes to be interested. It can be a list of genes or one single gene in a list format. \n"
   ]
  },
  {
   "cell_type": "code",
   "execution_count": null,
   "id": "4891151c",
   "metadata": {},
   "outputs": [],
   "source": [
    "# Users need to a google cloud project to query the data in the BigQuery tables. \n",
    "project_id='syntheticlethality' #users need to have their own google project to query the datasets on ISB-CGC\n",
    "client = bigquery.Client(project_id)\n",
    "Data_source = [\"shRNA\",\"Crispr\"] # Whether shRNA or Crispr datasets should be used. (\"shRNA\" or \"Crispr\", datatype: string)\n",
    "Gene_mut = ['ARID1A'] # data type: list of genes being mutated. (gene symbol, datatype:string)\n",
    "Gene_kd = \"ARID1B\"  # data type: the gene being knockdown or knock off. (gene symbol, datatype: string)"
   ]
  },
  {
   "cell_type": "markdown",
   "id": "0f89da15",
   "metadata": {},
   "source": [
    "#### Set user input 2:\n",
    "###### Tumor types being considered. Users can select one or multiple tumor types for analysis. \n"
   ]
  },
  {
   "cell_type": "code",
   "execution_count": null,
   "id": "b4d1e30e",
   "metadata": {},
   "outputs": [],
   "source": [
    "#### Selection of tumor types for comparison\n",
    "query = ''' \n",
    "SELECT DepMap_ID, primary_disease,TCGA_subtype\n",
    "FROM `syntheticlethality.DepMap_public_20Q3.sample_info_Depmap_withTCGA_labels` \n",
    "'''\n",
    "sample_info = client.query(query).result().to_dataframe()\n",
    "\n",
    "pancancer_cls = sample_info.loc[~sample_info['primary_disease'].isin(['Non-Cancerous','Unknown','Engineered','Immortalized'])]\n",
    "pancancer_cls = pancancer_cls.loc[~(pancancer_cls['primary_disease'].isna())]\n",
    "\n",
    "TCGA_list = [x for x in list(set(pancancer_cls['primary_disease'])) if x == x]\n",
    "\n",
    "Not_none_values = filter(None.__ne__, TCGA_list)\n",
    "TCGA_list = list(Not_none_values)\n",
    "\n",
    "tumor_type = widgets.SelectMultiple(\n",
    "    options=['pancancer'] + TCGA_list  ,\n",
    "    value=[],\n",
    "    description='Tumor type',\n",
    "    disabled=False\n",
    ")\n",
    "display(tumor_type)"
   ]
  },
  {
   "cell_type": "markdown",
   "id": "a1b86c67",
   "metadata": {},
   "source": [
    "#### Get mutation data from CCLE, CRISPR gene knockout effects from Depmap and shRNA gene knockdown gene dependency data from demeter2 v6. Depmap version 20Q3 is used for the following analysis\n"
   ]
  },
  {
   "cell_type": "code",
   "execution_count": null,
   "id": "384c202d",
   "metadata": {},
   "outputs": [],
   "source": [
    "# ID mapping between the CCLE annotation and input gene symbols\n",
    "id_mapping, Gene_list_matched = MDSLP.GeneSymbol_standardization(Gene_mut,project_id)\n",
    "\n",
    "#Get mutation data from CCLE, CRISPR gene knockout effects from Depmap and shRNA gene knockdown gene dependency data from demeter2 v6. Depmap version 20Q3 is used for the following analysis\n",
    "Mut_mat = MDSLP.get_ccle_mutation_data(project_id) # Get mutation table for the ccle cell lines (version: Depmap 20Q3)\n",
    "Demeter_data = MDSLP.get_demeter_shRNA_data(project_id) # Get shRNA-based gene knockdown effects from the Depmap project (Demeter2)\n",
    "Depmap_matrix = MDSLP.get_depmap_crispr_data(project_id) #Get the CRISPR-based gene knockout effects from the Depmap project (version: Depmap 20Q3) "
   ]
  },
  {
   "cell_type": "markdown",
   "id": "5f25d5bf",
   "metadata": {},
   "source": [
    "#### Test whether two genes are SL pairs in different tumor types using shRNA dataset or/and Crispr dataset. "
   ]
  },
  {
   "cell_type": "code",
   "execution_count": null,
   "id": "303028a3",
   "metadata": {},
   "outputs": [],
   "source": [
    "#Test whether two genes are SL pairs in different tumor types using the shRNA dataset\n",
    "pan_cancer_result =  pd.DataFrame()\n",
    "for tumor in list(tumor_type.value):\n",
    "    print(tumor)\n",
    "    if \"shRNA\" in Data_source:\n",
    "        result_shRNA = MDSLP.Mutational_based_SL_pipeline([tumor], Gene_list_matched, Mut_mat, Demeter_data, \"shRNA\",project_id)\n",
    "        if result_shRNA.shape[0] > 0:\n",
    "            result_shRNA_ARID1B = result_shRNA.loc[result_shRNA['Gene_kd_symbol'] ==Gene_kd] #Genes being knockdown\n",
    "            pan_cancer_result = pd.concat([pan_cancer_result, result_shRNA_ARID1B])\n",
    "            \n",
    "pan_cancer_result['source']=['MDSLP-shRNA']*pan_cancer_result.shape[0]\n",
    "\n",
    "\n",
    "#Test whether two genes are SL pairs in different tumor types using the CRISPR dataset\n",
    "pan_cancer_result_crispr =  pd.DataFrame()\n",
    "for tumor in list(tumor_type.value):\n",
    "    print(tumor)\n",
    "    if  \"Crispr\" in Data_source:\n",
    "        result_crispr = MDSLP.Mutational_based_SL_pipeline([tumor], Gene_list_matched, Mut_mat, Depmap_matrix, \"Crispr\",project_id)\n",
    "        if result_crispr.shape[0] > 0:\n",
    "            result_crispr_ARID1B = result_crispr.loc[result_crispr['Gene_kd_symbol'] ==Gene_kd] #Genes being knockout\n",
    "            pan_cancer_result_crispr = pd.concat([pan_cancer_result_crispr, result_crispr_ARID1B])\n",
    "            \n",
    "pan_cancer_result_crispr['source']=['MDSLP-CRISPR']*pan_cancer_result_crispr.shape[0]\n",
    "\n",
    "#Merge two results\n",
    "result = pd.concat([pan_cancer_result_crispr,pan_cancer_result])\n",
    "result['-log(FDR)'] = -1 *np.log(result['FDR_all_exp'])\n"
   ]
  },
  {
   "cell_type": "code",
   "execution_count": null,
   "id": "2381e7a4",
   "metadata": {},
   "outputs": [],
   "source": [
    "#result.to_csv(\"tumor_specific_analysis_ARID1A_ARID1B.csv\") output to a file"
   ]
  },
  {
   "cell_type": "markdown",
   "id": "c8a5708b",
   "metadata": {},
   "source": [
    "#### visualization of results"
   ]
  },
  {
   "cell_type": "code",
   "execution_count": null,
   "id": "807b6abf",
   "metadata": {},
   "outputs": [],
   "source": [
    "#Plot the results of the gene pairs in different tumor types. Effect size is shown in the figure below.\n",
    "\n",
    "import seaborn as sns\n",
    "import matplotlib.pyplot as plt\n",
    "plt.figure(figsize = [4,4], dpi = 300)\n",
    "\n",
    "clrs = []\n",
    "for x in range(0,int(result.shape[0]/2)):\n",
    "    clrs.append('#5477b4')\n",
    "    clrs.append('#dc895a')\n",
    "\n",
    "ax = sns.barplot(x=\"ES\", y=\"Tumor_type\", hue=\"source\",data=result,\n",
    "                 orient = 'h', \n",
    "                 palette = clrs)\n",
    "\n",
    "plt.setp(ax.get_legend().get_texts(), fontsize='8') # for legend text\n",
    "ax.set_xlabel('Effect size (Mut - WT)', fontsize=14)\n",
    "ax.set_ylabel('', fontsize=0)\n",
    "ax.set(xlim=(-2, 0))\n",
    "plt.legend(loc='lower left')\n"
   ]
  },
  {
   "cell_type": "code",
   "execution_count": null,
   "id": "6d970a2a",
   "metadata": {},
   "outputs": [],
   "source": [
    "#Plot the results of the gene pairs in different tumor types. negative log-transformed FDR is shown in the figure below.\n",
    "clrs = []\n",
    "for x in range(0,int(result.shape[0]/2)):\n",
    "    clrs.append('#5477b4')\n",
    "    clrs.append('#dc895a')\n",
    "    \n",
    "plt.figure(figsize = [4,4], dpi = 300)\n",
    "ax1 = sns.barplot(x=\"-log(FDR)\", y=\"Tumor_type\", hue=\"source\",\n",
    "                  data=result,\n",
    "                  orient = 'h' ,\n",
    "                 \n",
    "                  palette = clrs)\n",
    "plt.setp(ax1.get_legend().get_texts(), fontsize='8') # for legend text\n",
    "ax1.set_xlabel('Statistical Significance', fontsize=14) #-1 * log (FDR)\n",
    "ax1.set_ylabel('', fontsize=0) #ignore the y axis label\n",
    "plt.legend(loc='lower right')\n",
    "\n",
    "plt.plot([1.301029996, 1.301029996], [0, int(result.shape[0]/2)], 'k-', lw=0.5) # Plot the significance threshold 1.301029996 = -log(0.05)\n"
   ]
  },
  {
   "cell_type": "code",
   "execution_count": null,
   "id": "640da432",
   "metadata": {},
   "outputs": [],
   "source": [
    "## End analysis"
   ]
  }
 ],
 "metadata": {
  "kernelspec": {
   "display_name": "Python 3 (ipykernel)",
   "language": "python",
   "name": "python3"
  },
  "language_info": {
   "codemirror_mode": {
    "name": "ipython",
    "version": 3
   },
   "file_extension": ".py",
   "mimetype": "text/x-python",
   "name": "python",
   "nbconvert_exporter": "python",
   "pygments_lexer": "ipython3",
   "version": "3.10.0"
  }
 },
 "nbformat": 4,
 "nbformat_minor": 5
}
