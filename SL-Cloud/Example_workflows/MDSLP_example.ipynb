{
 "cells": [
  {
   "cell_type": "markdown",
   "id": "married-trinidad",
   "metadata": {},
   "source": [
    "### Mutation dependent synthetic lethal pipeline\n",
    "```\n",
    "Title:       Mutation dependent synthetic lethal pipeline\n",
    "Author:      Guangrong Qin\n",
    "Contact:     gqin@systemsbiology.org\n",
    "Created:     \n",
    "Description: This notebook is used to answer which gene knockouts or knockdowns are likely to show sensitivity to mutations in specified genes.  \n",
    "```\n",
    "Citations: The functional screening data and omics data for cell lines is from the Depmap and CCLE project from the Broad institute (DepMap Public 20Q3). To use this jupyter notebook and the data which are used in the jupyter notebook, Please cite the following papers<br/>\n",
    "\n",
    "Bahar Tercan, Guangrong Qin, Taek-Kyun Kim, Boris Aguilar, Christopher J. Kemp, Nyasha Chambwe, Ilya Shmulevich. SL-Cloud: A Computational Resource to Support Synthetic Lethal Interaction Discovery. BioRxiv 2021.09.18.459450; doi: https://doi.org/10.1101/2021.09.18.459450\n",
    "\n",
    "For this DepMap release:\n",
    "DepMap, Broad (2020): DepMap 20Q3 Public. figshare. Dataset doi:10.6084/m9.figshare.11791698.v2.\n",
    "\n",
    "For CRISPR datasets:\n",
    "Robin M. Meyers, Jordan G. Bryan, James M. McFarland, Barbara A. Weir, ... David E. Root, William C. Hahn, Aviad Tsherniak. Computational correction of copy number effect improves specificity of CRISPR-Cas9 essentiality screens in cancer cells. Nature Genetics 2017 October 49:1779–1784. doi:10.1038/ng.3984. PMID: 29083409\n",
    "\n",
    "Dempster, J. M., Rossen, J., Kazachkova, M., Pan, J., Kugener, G., Root, D. E., & Tsherniak, A. (2019). Extracting Biological Insights from the Project Achilles Genome-Scale CRISPR Screens in Cancer Cell Lines. BioRxiv, 720243.\n",
    "\n",
    "For omics datasets:\n",
    "Mahmoud Ghandi, Franklin W. Huang, Judit Jané-Valbuena, Gregory V. Kryukov, ... Todd R. Golub, Levi A. Garraway & William R. Sellers. 2019. Next-generation characterization of the Cancer Cell Line Encyclopedia. Nature 569, 503–508 (2019).PMID: 31068700\n"
   ]
  },
  {
   "cell_type": "code",
   "execution_count": null,
   "id": "55de3f61",
   "metadata": {},
   "outputs": [],
   "source": [
    "#Check the required libraries\n",
    "try:\n",
    "    from google.cloud import bigquery\n",
    "    print(\"module 'google-cloud-bigquery' is installed\")\n",
    "except ModuleNotFoundError:\n",
    "    !pip install google-cloud-bigquery\n",
    "    from google.cloud import bigquery\n",
    "\n",
    "try:\n",
    "    import ipywidgets as widgets\n",
    "    print(\"module 'ipywidgets' is installed\")\n",
    "except ModuleNotFoundError:\n",
    "    !pip install ipywidgets\n",
    "    import ipywidgets as widgets\n",
    "\n",
    "try:\n",
    "    import pyarrow\n",
    "    print(\"module 'pyarrow' is installed\")\n",
    "except ModuleNotFoundError:\n",
    "    !pip install pyarrow\n",
    "    import pyarrow\n",
    "\n",
    "try:\n",
    "    import pandas as pd\n",
    "    print(\"module 'pandas' is installed\")\n",
    "except ModuleNotFoundError:\n",
    "    !pip install pandas\n",
    "    import pandas as pd\n",
    "\n",
    "try:\n",
    "    import numpy as np\n",
    "    print(\"module 'numpy' is installed\")\n",
    "except ModuleNotFoundError:\n",
    "    !pip install numpy\n",
    "    import numpy as np\n",
    "\n",
    "try:\n",
    "    from scipy import stats    \n",
    "    print(\"module 'scipy' is installed\")\n",
    "except ModuleNotFoundError:\n",
    "    !pip install scipy\n",
    "    from scipy import stats    \n",
    "\n",
    "try:\n",
    "    import statsmodels.stats.multitest as multi   \n",
    "    print(\"module 'statsmodels' is installed\")\n",
    "except ModuleNotFoundError:\n",
    "    !pip install statsmodels\n",
    "    import statsmodels.stats.multitest as multi\n",
    "\n",
    "!pip install -i https://test.pypi.org/simple/ MDSLP==0.4\n",
    "from MDSLP import MDSLP\n"
   ]
  },
  {
   "cell_type": "code",
   "execution_count": null,
   "id": "a092723e",
   "metadata": {},
   "outputs": [],
   "source": [
    "# users need to run the following commend in their local machine or through the notebook.\n",
    "# Make sure to install the google cloud in the local environment. For more detail of gcloud installation, please see support from https://cloud.google.com/sdk/docs/install\n",
    "\n",
    "!gcloud auth application-default login"
   ]
  },
  {
   "cell_type": "code",
   "execution_count": null,
   "id": "527f016d",
   "metadata": {},
   "outputs": [],
   "source": [
    "%load_ext google.cloud.bigquery"
   ]
  },
  {
   "cell_type": "markdown",
   "id": "463ef8ac",
   "metadata": {},
   "source": [
    "#### Set user input 1:\n",
    "###### 1. Data_source: the desired data source, either \"shRNA\" or \"Crispr\". datatype: string\n",
    "###### 2. Mutated genes to be investigated: A list of either a single gene or multiple genes. datatype: list \n"
   ]
  },
  {
   "cell_type": "code",
   "execution_count": null,
   "id": "interpreted-lewis",
   "metadata": {},
   "outputs": [],
   "source": [
    "# Users need to authenticate with their google cloud project to query the data in the BigQuery tables. \n",
    "project_id='syntheticlethality' # replace this id with the user google project\n",
    "client = bigquery.Client(project_id)\n",
    "\n",
    "# User input; The natural language question we ask here is which gene show a synthetic lethal interaction with the target gene.\n",
    "Data_source = \"shRNA\" # only two options are avaiable, \"shRNA\" or \"Crispr\", datatype: string\n",
    "\n",
    "Gene_list = ['BRCA2'] # data type: list of gene symbols\n"
   ]
  },
  {
   "cell_type": "markdown",
   "id": "04b454d7",
   "metadata": {},
   "source": [
    "#### Set user input 2:\n",
    "###### Tumor types being considered. Users can select one or multiple tumor types for analysis. \n"
   ]
  },
  {
   "cell_type": "code",
   "execution_count": null,
   "id": "34b41692",
   "metadata": {},
   "outputs": [],
   "source": [
    "query = ''' \n",
    "SELECT DepMap_ID, primary_disease,TCGA_subtype\n",
    "FROM `syntheticlethality.DepMap_public_20Q3.sample_info_Depmap_withTCGA_labels` \n",
    "'''\n",
    "sample_info = client.query(query).result().to_dataframe()\n",
    "\n",
    "pancancer_cls = sample_info.loc[~sample_info['primary_disease'].isin(['Non-Cancerous','Unknown','Engineered','Immortalized'])]\n",
    "pancancer_cls = pancancer_cls.loc[~(pancancer_cls['primary_disease'].isna())]\n",
    "\n",
    "TCGA_list = [x for x in list(set(pancancer_cls['primary_disease'])) if x == x]\n",
    "\n",
    "Not_none_values = filter(None.__ne__, TCGA_list)\n",
    "TCGA_list = list(Not_none_values)\n",
    "\n",
    "tumor_type = widgets.SelectMultiple(\n",
    "    options=['pancancer'] + TCGA_list  ,\n",
    "    value=[],\n",
    "    description='Tumor type',\n",
    "    disabled=False\n",
    ")\n",
    "display(tumor_type)"
   ]
  },
  {
   "cell_type": "markdown",
   "id": "pregnant-material",
   "metadata": {},
   "source": [
    "#### Get mutation data from CCLE, CRISPR gene knockout effects from Depmap and shRNA gene knockdown gene dependency data from demeter2 v6. Depmap version 20Q3 is used for the following analysis"
   ]
  },
  {
   "cell_type": "code",
   "execution_count": null,
   "id": "unique-jacob",
   "metadata": {},
   "outputs": [],
   "source": [
    "# Query data resources for further analysis\n",
    "client = bigquery.Client(project_id)\n",
    "\n",
    "# ID mapping between the CCLE annotation and input gene symbols\n",
    "id_mapping, Gene_list_matched = MDSLP.GeneSymbol_standardization(Gene_list, project_id)\n",
    "\n",
    "# get the mutation data, shRNA data or Crispr dataset\n",
    "Mut_mat = MDSLP.get_ccle_mutation_data(project_id) # Get mutation table for the ccle cell lines (version: Depmap 20Q3)\n",
    "\n",
    "if Data_source == \"shRNA\" :\n",
    "    Demeter_data = MDSLP.get_demeter_shRNA_data(project_id) # Get shRNA-based gene knockdown effects from the Depmap project (Demeter2)\n",
    "elif Data_source == \"Crispr\": \n",
    "    Depmap_matrix = MDSLP.get_depmap_crispr_data(project_id) # Get the CRISPR-based gene knockout effects from the Depmap project (version: Depmap 20Q3)\n",
    "else:\n",
    "    print(\"Data_source has only two options: shRNA or Crispr\")\n"
   ]
  },
  {
   "cell_type": "markdown",
   "id": "cef59eb5",
   "metadata": {},
   "source": [
    "##### \n",
    "You are expecting to see the message above as follows:\n",
    "Unnamed: 0 <br/>\n",
    "AZ521_STOMACH<br/>\n",
    "GISTT1_GASTROINTESTINAL_TRACT<br/>\n",
    "MB157_BREAST<br/>\n",
    "SW527_BREAST<br/>\n",
    "<br/>\n",
    "It means these cell lines are not included in the analysis as they show mismatched annotations from different datasets.\n"
   ]
  },
  {
   "cell_type": "markdown",
   "id": "written-winter",
   "metadata": {},
   "source": [
    "#### Select shRNA dataset or Crispr dataset to infer synthetic lethality pairs for mutated genes! "
   ]
  },
  {
   "cell_type": "code",
   "execution_count": null,
   "id": "normal-quality",
   "metadata": {},
   "outputs": [],
   "source": [
    "if Data_source == \"shRNA\":\n",
    "    result = MDSLP.Mutational_based_SL_pipeline(list(tumor_type.value), Gene_list_matched, Mut_mat, Demeter_data, Data_source,project_id)\n",
    "    if result.shape[0] > 0:\n",
    "        result_sig = result.loc[result['FDR_all_exp'] < 0.05]\n",
    "        result_sig = result_sig.loc[result_sig['ES']<0] # ES < 0 represents SL pairs\n",
    "    else:\n",
    "        result_sig = pd.DataFrame()\n",
    "        \n",
    "elif  Data_source == \"Crispr\":\n",
    "    result = MDSLP.Mutational_based_SL_pipeline(list(tumor_type.value), Gene_list_matched, Mut_mat, Depmap_matrix, Data_source,project_id)\n",
    "    if result.shape[0] > 0:\n",
    "        result_sig = result.loc[result['FDR_all_exp'] < 0.05]\n",
    "        result_sig = result_sig.loc[result_sig['ES'] < 0]  # ES < 0 represents SL pairs\n",
    "    else:\n",
    "        result_sig = pd.DataFrame()\n",
    "\n",
    "else:\n",
    "    print(\"Data source type does not exist.\")"
   ]
  },
  {
   "cell_type": "code",
   "execution_count": null,
   "id": "8033ed99",
   "metadata": {},
   "outputs": [],
   "source": [
    "result_sig.sort_values(by = ['FDR_all_exp'])"
   ]
  },
  {
   "cell_type": "code",
   "execution_count": null,
   "id": "textile-demographic",
   "metadata": {},
   "outputs": [],
   "source": [
    "result_sig.to_csv(\"result_sig.csv\")"
   ]
  },
  {
   "cell_type": "markdown",
   "id": "resident-edwards",
   "metadata": {},
   "source": [
    "###### Result interpretation \n",
    "result_sig table contains the synthetic lethal gene pairs predicted from this pipeline.<br/>\n",
    "###### table annotation:\n",
    "Gene_mut: mutated genes;<br/>\n",
    "Gene_kd: gene knockdown or knock out <br/>\n",
    "Mutated_samples: Number of mutated cell lines in the selected tumor type<br/>\n",
    "pvalue: p-value result from t-test<br/>\n",
    "ES: effect size of gene effects between the mutated group and wild type group<br/>\n",
    "FDR_all_exp: FDR for p-value for all analysis<br/>\n",
    "FDR_by_gene: FDR for p-value by one gene mutation<br/>\n",
    "Tumor_type: tumor types in analysis"
   ]
  }
 ],
 "metadata": {
  "kernelspec": {
   "display_name": "Python 3 (ipykernel)",
   "language": "python",
   "name": "python3"
  },
  "language_info": {
   "codemirror_mode": {
    "name": "ipython",
    "version": 3
   },
   "file_extension": ".py",
   "mimetype": "text/x-python",
   "name": "python",
   "nbconvert_exporter": "python",
   "pygments_lexer": "ipython3",
   "version": "3.10.0"
  }
 },
 "nbformat": 4,
 "nbformat_minor": 5
}
