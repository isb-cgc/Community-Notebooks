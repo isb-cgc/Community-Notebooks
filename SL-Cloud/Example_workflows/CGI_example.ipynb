{
 "cells": [
  {
   "cell_type": "markdown",
   "metadata": {},
   "source": [
    "## Conservation-based Synthetic Lethal Pair Search \n",
    "```\n",
    "Title:  Conservation-based Synthetic Lethal Pair Search  \n",
    "Authors: Taek-Kyun Kim  \n",
    "Created: 02-07-2022   \n",
    "Purpose: Retrive Synthetic Lethal Partners of The Genes in the Given List  Using Yeast Screen and Human-yeast Homology Information \n",
    "Notes: Runs in MyBinder\n",
    "```"
   ]
  },
  {
   "cell_type": "markdown",
   "metadata": {},
   "source": [
    "## Introduction\n",
    "\n",
    "### Rationale\n",
    "\n",
    "### Use-cases:\n",
    "* Prioritize human candidate synthetic lethal interactions based on prior evidence of interaction in yeast SL screens\n",
    "* _de novo_ discovery of SL interactions\n",
    "\n",
    "### Approach\n",
    "This notebook re-implements the approach outlined in Srivas et al. (2016)\n",
    "\n",
    "### Usage:\n",
    "Add genes of interest to \"inputGenes\" variable, then run the next step.\n",
    "\n",
    "### Workflow Overview\n",
    "\n",
    "### Datasets\n",
    "#### Yeast Synthetic Lethal Interactions\n",
    "Constanzo et al. (2016)\n",
    "#### Human to Yeast Ortholog Mapping\n",
    "How the Human to Yeast Ortholog Mapping data has been downloaded and saved into Bigquery tables can be found in the accompanying notebook (Mapping human to yeast orthologs)\n",
    "\n",
    "### References\n",
    "* Costanzo M, VanderSluis B, Koch EN, Baryshnikova A, Pons C, Tan G, Wang W, Usaj M, Hanchard J, Lee SD, Pelechano V, Styles EB, Billmann M, van Leeuwen J, van Dyk N, Lin ZY, Kuzmin E, Nelson J, Piotrowski JS, Srikumar T, Bahr S, Chen Y, Deshpande R, Kurat CF, Li SC, Li Z, Usaj MM, Okada H, Pascoe N, San Luis BJ, Sharifpoor S, Shuteriqi E, Simpkins SW, Snider J, Suresh HG, Tan Y, Zhu H, Malod-Dognin N, Janjic V, Przulj N, Troyanskaya OG, Stagljar I, Xia T, Ohya Y, Gingras AC, Raught B, Boutros M, Steinmetz LM, Moore CL, Rosebrock AP, Caudy AA, Myers CL, Andrews B, Boone C. **A global genetic interaction network maps a wiring diagram of cellular function.** Science. 2016 Sep 23;353(6306). pii: aaf1420. PubMed PMID: 27708008; PubMed Central PMCID: PMC5661885.\n",
    "* Srivas R, Shen JP, Yang CC, Sun SM, Li J, Gross AM, Jensen J, Licon K, Bojorquez-Gomez A, Klepper K, Huang J, Pekin D, Xu JL, Yeerna H, Sivaganesh V, Kollenstart L, van Attikum H, Aza-Blanc P, Sobol RW, Ideker T. **A Network of Conserved Synthetic Lethal Interactions for Exploration of Precision Cancer Therapy**. Mol Cell. 2016 Aug 4;63(3):514-25. doi:10.1016/j.molcel.2016.06.022.Epub 2016 Jul 21. PubMed PMID: 27453043; PubMed Central PMCID: PMC5209245. "
   ]
  },
  {
   "cell_type": "markdown",
   "metadata": {},
   "source": [
    "## Preamble\n",
    "This section describes how to setup the analysis environment, including google cloud platform authentication and import of all the necessary python libraries."
   ]
  },
  {
   "cell_type": "markdown",
   "metadata": {},
   "source": [
    "### Setup Analysis Environment"
   ]
  },
  {
   "cell_type": "code",
   "execution_count": null,
   "metadata": {},
   "outputs": [],
   "source": [
    "#This code block installs the dependencies, please run it only once, the first time you run this notebook\n",
    "#Please don't run it if you are running the notebook in MyBinder\n",
    "\n",
    "!pip3 install google-cloud-bigquery\n",
    "!pip3 install matplotlib\n",
    "!pip3 install plotly\n",
    "!pip3 install scipy\n",
    "!pip3 install statsmodels\n",
    "!pip3 install ipywidgets"
   ]
  },
  {
   "cell_type": "code",
   "execution_count": 1,
   "metadata": {},
   "outputs": [],
   "source": [
    "# import modules\n",
    "from google.cloud import bigquery\n",
    "import sys\n",
    "import matplotlib.pyplot as plt\n",
    "import pandas as pd\n",
    "import scipy\n",
    "from scipy import stats \n",
    "import numpy as np\n",
    "import json\n",
    "import statsmodels.stats.multitest as multi\n",
    "import matplotlib.pyplot as plt\n",
    "import math\n",
    "import ipywidgets as widgets\n",
    "import plotly\n",
    "import plotly.express as px\n",
    "import pyarrow\n"
   ]
  },
  {
   "cell_type": "markdown",
   "metadata": {},
   "source": [
    "## Google Authentication\n",
    "Running the BigQuery cells in this notebook requires a Google Cloud Project, instructions for creating a project can be found in the [Google Documentation](https://cloud.google.com/resource-manager/docs/creating-managing-projects#console). The instance needs to be authorized to bill the project for queries.\n", 
    "For more information on getting started in the cloud see ['Quick Start Guide to ISB-CGC'](https://isb-cancer-genomics-cloud.readthedocs.io/en/latest/sections/HowToGetStartedonISB-CGC.html) and alternative authentication methods can be found in the [Google Documentation](https://googleapis.dev/python/google-api-core/latest/auth.html)."
  ]
  },
  {
   "cell_type": "code",
   "execution_count": null,
   "metadata": {
    "scrolled": true
   },
   "outputs": [],
   "source": [
    "#Please don't run this code block if you are running the notebook in MyBinder\n",
    "#Users need to run the following command in their local machine or throught the notebook.\n",
    "#Make sure to install the google cloud in the local envirionment. For more detail of gcloud installation, please see support from https://cloud.google.com/sdk/docs/install\n",
    "\n",
    "!gcloud auth application-default login"
   ]
  },
  {
   "cell_type": "code",
   "execution_count": 3,
   "metadata": {},
   "outputs": [
    {
     "name": "stderr",
     "output_type": "stream",
     "text": [
      "/usr/local/lib/python3.9/site-packages/google/auth/_default.py:79: UserWarning: Your application has authenticated using end user credentials from Google Cloud SDK without a quota project. You might receive a \"quota exceeded\" or \"API not enabled\" error. We recommend you rerun `gcloud auth application-default login` and make sure a quota project is added. Or you can use service accounts instead. For more information about service accounts, see https://cloud.google.com/docs/authentication/\n",
      "  warnings.warn(_CLOUD_SDK_CREDENTIALS_WARNING)\n"
     ]
    }
   ],
   "source": [
    "# Replace syntheticlethality with your project ID\n",
    "project_id='syntheticlethality'\n",
    "client = bigquery.Client(project_id) "
   ]
  },
  {
   "cell_type": "code",
   "execution_count": 4,
   "metadata": {},
   "outputs": [],
   "source": [
    "%load_ext google.cloud.bigquery"
   ]
  },
  {
   "cell_type": "code",
   "execution_count": null,
   "metadata": {},
   "outputs": [],
   "source": [
    "# a list for input genes \n",
    "inputGenes = [\"DDX3X\",\"DICER1\",\"DROSHA\",\"TNFRSF14\",\"TRAF7\",\"TSC1\",'POLG',\n",
    "              \"FBXO11\",\"PRDM1\",\"RFWD3\",\"AMER1\",\"LZTR1\",\"ATP2B3\"]\n",
    "inputGenes = [\"'\"+x+\"'\" for x in inputGenes]\n",
    "inputGenes = ','.join(inputGenes)\n",
    "inputGenes"
   ]
  },
  {
   "cell_type": "markdown",
   "metadata": {},
   "source": [
    "## Map Yeast Orthologs & Get SL insteractions"
   ]
  },
  {
   "cell_type": "markdown",
   "metadata": {},
   "source": [
    "In order to infer genetic interactions, the colony growth of double mutant strains is compared to that of single mutant strains as a measure of organismal fitness due to gene essentiality\n.",
    "If the cell viability of a double mutant colony is higher or lower than that of two single mutants than positive or negative genetic interactions are inferred using a quantitative fitness metric or generic interaction score\n.",
    "Synthetic lethal interactions are defined as the genetic interactions with low negative scores (< -0.35) at the extreme end of the interaction score distribution. Leveraging this dataset, we mapped yeast to human genes using yeast-human orthology information to identify presumed conserved human synthetic lethal pairs. The configurable parameters are listed as follows."
   ]
  },
  {
   "cell_type": "markdown",
   "metadata": {},
   "source": [
    "Find the synthetic lethal partners of the genes in the given list.\n",
    "\n",
    "**Parameters**\n",
    "\n",
    "**cutoff_algorithmMatchNo** is the desired minimum matching threshold required for a yeast-human gene comparison to be considered an ortholog.\n",
    "\n",
    "**cutoff_score** The desired cutoff of the quantitative fitness metric. The default setting is (< 0.35) corresponding to the left tail of the distribution(<-0.35).\n",
    "\n",
    "**cutoff_p** the desired significance threshold, the default value is p < 0.05.\n"
   ]
  },
  {
   "cell_type": "code",
   "execution_count": 6,
   "metadata": {},
   "outputs": [],
   "source": [
    "sql = '''\n",
    "WITH\n",
    "--- Retrieve YeastSymbols mapped to HumanSymbols for the input genes\n",
    "INPUT_H2Y AS (\n",
    "  SELECT YeastSymbol\n",
    "    FROM `isb-cgc-bq.annotations_versioned.Human2Yeast_mapping_Alliance_for_Genome_Resources_R3_0_1`\n",
    "    \n",
    "   WHERE HumanSymbol IN (__INPUTGENES__) AND\n",
    "         AlgorithmsMatch >= __ALGORITHMCUTOFF__\n",
    "),\n",
    "\n",
    "--- Identify protein-protein interactions using the YeastSymbols (left match)\n",
    "Yeast_ITX1 AS (\n",
    "  SELECT UPPER(Query_allele_name)       AS Interactor1, \n",
    "         UPPER(Array_allele_name)       AS Interactor2,\n",
    "         Genetic_interaction_score_____ AS Interaction_score,\n",
    "         P_value\n",
    "    FROM `isb-cgc-bq.supplementary_tables.Constanzo_etal_Science_2016_SGA_Genetic_Interactions`\n",
    "   WHERE (Genetic_interaction_score_____ < __SCORECUTOFF__ AND P_value < __PvalueCUTOFF__) AND\n",
    "         (UPPER(Query_allele_name) IN (SELECT YeastSymbol FROM INPUT_H2Y))\n",
    "   \n",
    "),\n",
    "\n",
    "--- Identify protein-protein interactions using the YeastSymbols (right match)\n",
    "Yeast_ITX2 AS (\n",
    "  SELECT UPPER(Array_allele_name)       AS Interactor1, \n",
    "         UPPER(Query_allele_name)       AS Interactor2,\n",
    "         Genetic_interaction_score_____ AS Interaction_score,\n",
    "         P_value\n",
    "    FROM `isb-cgc-bq.supplementary_tables.Constanzo_etal_Science_2016_SGA_Genetic_Interactions`\n",
    "   WHERE (Genetic_interaction_score_____ < __SCORECUTOFF__ AND P_value < __PvalueCUTOFF__) AND\n",
    "         (UPPER(Array_allele_name) IN (SELECT YeastSymbol FROM INPUT_H2Y))\n",
    "   \n",
    "),\n",
    "\n",
    "--- Union interaction tables\n",
    "Union_ITX AS (\n",
    "  SELECT * FROM Yeast_ITX1\n",
    "   UNION ALL\n",
    "  SELECT * FROM Yeast_ITX2\n",
    ")\n",
    "\n",
    "--- Convert YeastSymbols to HumanSymbols in the protein-protein interations\n",
    "SELECT DISTINCT \n",
    "       GINFO1.EntrezID        AS EntrezID_Input,\n",
    "       H2Y1.HumanSymbol       AS Gene_Input,\n",
    "---       Add if you want to know what yeast genes are involved\n",
    "---       YITX.Interactor1       AS Gene_Input_Yeast,\n",
    "       GINFO2.EntrezID        AS EntrezID_SL_Candidate,\n",
    "       H2Y2.HumanSymbol       AS Gene_SL_Candidate,\n",
    "---       Add if you want to know what yeast genes are involved\n",
    "---       YITX.Interactor2       AS Gene_SL_Candidate_Yeast,\n",
    "       YITX.Interaction_score AS Interaction_score,\n",
    "       YITX.P_value           AS P_value\n",
    "       \n",
    "  FROM Union_ITX AS YITX\n",
    "       LEFT JOIN `isb-cgc-bq.annotations_versioned.Human2Yeast_mapping_Alliance_for_Genome_Resources_R3_0_1`                      AS H2Y1   ON YITX.Interactor1 = H2Y1.YeastSymbol\n",
    "       LEFT JOIN `isb-cgc-bq.annotations_versioned.Human2Yeast_mapping_Alliance_for_Genome_Resources_R3_0_1`                      AS H2Y2   ON YITX.Interactor2 = H2Y2.YeastSymbol\n",
    "       LEFT JOIN `isb-cgc-bq.synthetic_lethality.gene_info_human_HGNC_NCBI_2020_07` AS GINFO1 ON H2Y1.HumanID = GINFO1.HGNCID\n",
    "       LEFT JOIN  `isb-cgc-bq.synthetic_lethality.gene_info_human_HGNC_NCBI_2020_07` AS GINFO2 ON H2Y2.HumanID = GINFO2.HGNCID\n",
    "       \n",
    " WHERE (H2Y1.HumanSymbol IS NOT NULL AND YITX.Interactor1 IS NOT NULL) AND\n",
    "       (H2Y2.HumanSymbol IS NOT NULL AND YITX.Interactor2 IS NOT NULL)\n",
    "\n",
    "'''\n",
    "# select the thresholds to be used\n",
    "cutoff_algorithmMatchNo = \"3\"\n",
    "cutoff_score = \"-0.35\"\n",
    "cutoff_p = \"0.01\"\n",
    "\n",
    "sql = sql.replace(\"__INPUTGENES__\", inputGenes)\n",
    "sql = sql.replace(\"__ALGORITHMCUTOFF__\", cutoff_algorithmMatchNo)\n",
    "sql = sql.replace(\"__SCORECUTOFF__\", cutoff_score)\n",
    "sql = sql.replace(\"__PvalueCUTOFF__\", cutoff_p)\n",
    "\n",
    "res = client.query(sql).to_dataframe()\n",
    "\n"
   ]
  },
  {
   "cell_type": "markdown",
   "metadata": {},
   "source": [
    "## Get Yeast SL Interactions"
   ]
  },
  {
   "cell_type": "code",
   "execution_count": 7,
   "metadata": {
    "scrolled": true
   },
   "outputs": [
    {
     "data": {
      "text/html": [
       "<div>\n",
       "<style scoped>\n",
       "    .dataframe tbody tr th:only-of-type {\n",
       "        vertical-align: middle;\n",
       "    }\n",
       "\n",
       "    .dataframe tbody tr th {\n",
       "        vertical-align: top;\n",
       "    }\n",
       "\n",
       "    .dataframe thead th {\n",
       "        text-align: right;\n",
       "    }\n",
       "</style>\n",
       "<table border=\"1\" class=\"dataframe\">\n",
       "  <thead>\n",
       "    <tr style=\"text-align: right;\">\n",
       "      <th></th>\n",
       "      <th>EntrezID_Input</th>\n",
       "      <th>Gene_Input</th>\n",
       "      <th>EntrezID_SL_Candidate</th>\n",
       "      <th>Gene_SL_Candidate</th>\n",
       "      <th>Interaction_score</th>\n",
       "      <th>P_value</th>\n",
       "    </tr>\n",
       "  </thead>\n",
       "  <tbody>\n",
       "    <tr>\n",
       "      <th>0</th>\n",
       "      <td>54514</td>\n",
       "      <td>DDX4</td>\n",
       "      <td>4117</td>\n",
       "      <td>MAK</td>\n",
       "      <td>-0.432</td>\n",
       "      <td>0.005777</td>\n",
       "    </tr>\n",
       "    <tr>\n",
       "      <th>1</th>\n",
       "      <td>54514</td>\n",
       "      <td>DDX4</td>\n",
       "      <td>22858</td>\n",
       "      <td>CILK1</td>\n",
       "      <td>-0.432</td>\n",
       "      <td>0.005777</td>\n",
       "    </tr>\n",
       "    <tr>\n",
       "      <th>2</th>\n",
       "      <td>8653</td>\n",
       "      <td>DDX3Y</td>\n",
       "      <td>4117</td>\n",
       "      <td>MAK</td>\n",
       "      <td>-0.432</td>\n",
       "      <td>0.005777</td>\n",
       "    </tr>\n",
       "    <tr>\n",
       "      <th>3</th>\n",
       "      <td>8653</td>\n",
       "      <td>DDX3Y</td>\n",
       "      <td>22858</td>\n",
       "      <td>CILK1</td>\n",
       "      <td>-0.432</td>\n",
       "      <td>0.005777</td>\n",
       "    </tr>\n",
       "    <tr>\n",
       "      <th>4</th>\n",
       "      <td>1654</td>\n",
       "      <td>DDX3X</td>\n",
       "      <td>4117</td>\n",
       "      <td>MAK</td>\n",
       "      <td>-0.432</td>\n",
       "      <td>0.005777</td>\n",
       "    </tr>\n",
       "    <tr>\n",
       "      <th>5</th>\n",
       "      <td>1654</td>\n",
       "      <td>DDX3X</td>\n",
       "      <td>22858</td>\n",
       "      <td>CILK1</td>\n",
       "      <td>-0.432</td>\n",
       "      <td>0.005777</td>\n",
       "    </tr>\n",
       "  </tbody>\n",
       "</table>\n",
       "</div>"
      ],
      "text/plain": [
       "   EntrezID_Input Gene_Input  EntrezID_SL_Candidate Gene_SL_Candidate  \\\n",
       "0           54514       DDX4                   4117               MAK   \n",
       "1           54514       DDX4                  22858             CILK1   \n",
       "2            8653      DDX3Y                   4117               MAK   \n",
       "3            8653      DDX3Y                  22858             CILK1   \n",
       "4            1654      DDX3X                   4117               MAK   \n",
       "5            1654      DDX3X                  22858             CILK1   \n",
       "\n",
       "   Interaction_score   P_value  \n",
       "0             -0.432  0.005777  \n",
       "1             -0.432  0.005777  \n",
       "2             -0.432  0.005777  \n",
       "3             -0.432  0.005777  \n",
       "4             -0.432  0.005777  \n",
       "5             -0.432  0.005777  "
      ]
     },
     "execution_count": 7,
     "metadata": {},
     "output_type": "execute_result"
    }
   ],
   "source": [
    "# List the SL partner genes for the input genes\n",
    "res\n"
   ]
  },
  {
   "cell_type": "markdown",
   "metadata": {},
   "source": [
    "**Gene_Input**  The user's input gene list whose synthetic lethal partner(s) are seeked. \n\n",
    "**EntrezID_Input** shows the Entrez ids of the genes in the user's input gene list \n\n",
    "**EntrezID_SL_Candidate and Gene_SL_Candidate** are the Entrez ids and gene symbols for the inferred synthetic lethal partners. \n\n",
    "**Interaction_score and P_value**  the estimate of interaction strength between input gene and its SL partner in the isb-cgc-bq.supplementary_tables.Constanzo_etal_Science_2016_SGA_Genetic_Interactions table. \n\n"
     ]
    },
  {
   "cell_type": "markdown",
   "metadata": {},
   "source": [
    "The results can be saved to a csv file."
   ]
  },
  {
   "cell_type": "code",
   "execution_count": null,
   "metadata": {},
   "outputs": [],
   "source": [
    "res.to_csv(path_or_buf='conserved_SL_output.csv', index=False)\n"
   ]
  }
 ],
 "metadata": {
  "kernelspec": {
   "display_name": "Python 3 (ipykernel)",
   "language": "python",
   "name": "python3"
  },
  "language_info": {
   "codemirror_mode": {
    "name": "ipython",
    "version": 3
   },
   "file_extension": ".py",
   "mimetype": "text/x-python",
   "name": "python",
   "nbconvert_exporter": "python",
   "pygments_lexer": "ipython3",
   "version": "3.9.1"
  }
 },
 "nbformat": 4,
 "nbformat_minor": 4
}
