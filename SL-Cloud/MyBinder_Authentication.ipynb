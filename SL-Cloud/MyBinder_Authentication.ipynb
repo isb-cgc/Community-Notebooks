{
 "cells": [
  {
   "cell_type": "markdown",
   "metadata": {
    "tags": []
   },
   "source": [
    "# Setting up SL-Cloud in MyBinder\n",
    "\n",
    "In order to use SL-Cloud in MyBinder you need to complete the followin **4** steps: \n",
    "\n",
    "## Step 1: Specify your Google project ID\n",
    "\n",
    "A Google Cloud Project (GCP) is required to make use of all of the data, tools, and Google Cloud functionality used by SL-Cloud. Details of how to setup a GPC can be found [Here!](https://isb-cancer-genomics-cloud.readthedocs.io/en/latest/sections/HowToGetStartedonISB-CGC.html?highlight=Google%20project#google-cloud-project-setup-and-data-access)"
   ]
  },
  {
   "cell_type": "code",
   "execution_count": 3,
   "metadata": {},
   "outputs": [],
   "source": [
    "project_id='my-google-project' #please replace my-google-project with your own projectid"
   ]
  },
  {
   "cell_type": "markdown",
   "metadata": {},
   "source": [
    "## Step 2: Google Authentication\n",
    "\n",
    "The cell below will generate a link to get a verification code. You may need to enter the verification code **twice**."
   ]
  },
  {
   "cell_type": "code",
   "execution_count": 4,
   "metadata": {},
   "outputs": [],
   "source": [
    "import sys,threading,subprocess\n",
    "\n",
    "proc=subprocess.Popen(['../google-cloud-sdk/bin/gcloud','auth','application-default','login'],stdout=subprocess.PIPE,stdin=subprocess.PIPE,stderr=subprocess.STDOUT)\n",
    "pout=proc.stdout\n",
    "pin=proc.stdin\n",
    "\n",
    "def outLoop():\n",
    "    running=True\n",
    "    while(running):\n",
    "        line=pout.readline().decode(sys.stdout.encoding)\n",
    "        print(line,end='')\n",
    "        running='\\n' in line\n",
    "    print('Finished')\n",
    "\n",
    "threading.Thread(target=outLoop).start()\n",
    "\n",
    "while(proc.poll() is None):\n",
    "    inp=bytearray(input('Enter verification code: ')+'\\n',sys.stdin.encoding)\n",
    "    if(proc.poll() is None):\n",
    "        pin.write(inp)\n",
    "        pin.flush()"
   ]
  },
  {
   "cell_type": "markdown",
   "metadata": {},
   "source": [
    "For more information see ['Quick Start Guide to ISB-CGC'](https://isb-cancer-genomics-cloud.readthedocs.io/en/latest/sections/HowToGetStartedonISB-CGC.html). Alternative authentication methods can be found [here](https://googleapis.dev/python/google-api-core/latest/auth.html)."
   ]
  },
  {
   "cell_type": "markdown",
   "metadata": {},
   "source": [
    "## Step 3: Testing BigQuery\n",
    "Click on the File Brownser (Folder icon) in the left panel and then open the notebook **first_notebook.ipynb**.If authentication was successful, the notebook will run without errors."
   ]
  },
  {
   "cell_type": "markdown",
   "metadata": {},
   "source": [
    "## Step 4: Open SL-Cloud workflows\n",
    "In the File Browser click in the folder Example_workflows to access and run the use cases provided by the SL-Cloud framework."
   ]
  },
  {
   "cell_type": "code",
   "execution_count": null,
   "metadata": {},
   "outputs": [],
   "source": []
  }
 ],
 "metadata": {
  "kernelspec": {
   "display_name": "Python 3 (ipykernel)",
   "language": "python",
   "name": "python3"
  },
  "language_info": {
   "codemirror_mode": {
    "name": "ipython",
    "version": 3
   },
   "file_extension": ".py",
   "mimetype": "text/x-python",
   "name": "python",
   "nbconvert_exporter": "python",
   "pygments_lexer": "ipython3",
   "version": "3.8.12"
  }
 },
 "nbformat": 4,
 "nbformat_minor": 4
}
