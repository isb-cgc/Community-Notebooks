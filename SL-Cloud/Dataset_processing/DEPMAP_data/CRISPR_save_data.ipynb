{
 "cells": [
  {
   "cell_type": "markdown",
   "metadata": {},
   "source": [
    "## Saving DEPMAP20Q3 datasets in BigQuery Tables \n",
    "```\n",
    "Title:   How to save DEPMAP20Q3 datasets in BigQuery Tables\n",
    "Author:  Bahar Tercan\n",
    "Created: 02-08-2022\n",
    "Purpose: To download data from DEPMAP20Q3 project into BigQuery Tables \n",
    "Notes: MyBinder may restart kernel because of long runtime of this notebook, we recommend only local run for this notebook \n",
    "```"
   ]
  },
  {
   "cell_type": "markdown",
   "metadata": {},
   "source": [
    "This notebook provides code for saving DepMap_public_20Q3 data in bigquery tables.\n",
    "Users don't need to run this pipeline to get the data, this pipeline shows how we saved the data in bigquery tables.\n",
    "\n",
    "Please contact Bahar Tercan, btercan@systemsbiology.org, if you have further questions for this notebook.\n"
   ]
  },
  {
   "cell_type": "markdown",
   "metadata": {},
   "source": [
    "Installing and importing the required libraries "
   ]
  },
  {
   "cell_type": "code",
   "execution_count": null,
   "metadata": {},
   "outputs": [],
   "source": [
    "# Please don't run this code block if you are running the notebook in MyBinder\n",
    "# This code block installs the dependencies, please uncomment and run it only once, the first time you run this notebook on your computer\n",
    "# (If you have already run this block for the shRNA_save_data pipeline, you do not need to run)\n",
    "#!pip3 install numpy\n",
    "#!pip3 install pandas\n",
    "#!pip3 install google.cloud\n",
    "#!pip3 install pandas_gbq\n",
    "#!pip3 install importlib"
   ]
  },
  {
   "cell_type": "code",
   "execution_count": null,
   "metadata": {},
   "outputs": [],
   "source": [
    "import numpy as np\n",
    "import sys\n",
    "sys.path.append('../../Scripts/')\n",
    "import importlib\n",
    "import BIGQUERY_operations\n",
    "importlib.reload(BIGQUERY_operations)\n",
    "from BIGQUERY_operations import *\n",
    "import DEPMAP_data_preprocessing\n",
    "importlib.reload(DEPMAP_data_preprocessing)\n",
    "from DEPMAP_data_preprocessing import *\n"
   ]
  },
  {
   "cell_type": "markdown",
   "metadata": {},
   "source": [
    "## Google Authentication\n",
    "The first step is to authorize access to BigQuery and the Google Cloud. For more information see ['Quick Start Guide to ISB-CGC'](https://isb-cancer-genomics-cloud.readthedocs.io/en/latest/sections/HowToGetStartedonISB-CGC.html) and alternative authentication methods can be found [here](https://googleapis.dev/python/google-api-core/latest/auth.html).\n",
    "\n",
    "Moreover you need to [create a google cloud](https://cloud.google.com/resource-manager/docs/creating-managing-projects#console) project to be able to run BigQuery queries."
   ]
  },
  {
   "cell_type": "code",
   "execution_count": null,
   "metadata": {},
   "outputs": [],
   "source": [
    "#Please don't run this code block if you are running the notebook in MyBinder\n",
    "!gcloud auth application-default login"
   ]
  },
  {
   "cell_type": "code",
   "execution_count": null,
   "metadata": {},
   "outputs": [],
   "source": [
    "from google.cloud import bigquery"
   ]
  },
  {
   "cell_type": "code",
   "execution_count": null,
   "metadata": {},
   "outputs": [],
   "source": [
    "# configure project info and bigquery client\n",
    "# please replace syntheticlethality with your own project_id\n",
    "\n",
    "\n",
    "project_id='syntheticlethality'\n",
    "\n",
    "# construct a BigQuery client object.\n",
    "client = bigquery.Client(project_id)"
   ]
  },
  {
   "cell_type": "markdown",
   "metadata": {},
   "source": [
    "Defining dataset name and dataset description"
   ]
  },
  {
   "cell_type": "code",
   "execution_count": null,
   "metadata": {},
   "outputs": [],
   "source": [
    "dataset_name='DepMap_public_20Q3_backup'\n",
    "dataset_description=\"\"\"  \n",
    "This DepMap release contains data from CRISPR knockout \n",
    "screens from project Achilles, as well as genomic characterization data from the CCLE project.\n",
    "\n",
    "References:\n",
    "Dempster, J.M., Rossen, J., Kazachkova, M., Pan, J., Kugener, G., Root, D.E., and Tsherniak, A. (2019). Extracting Biological Insights from the Project Achilles Genome-Scale CRISPR Screens in Cancer Cell Lines.\n",
    "\n",
    "Meyers, R.M., Bryan, J.G., McFarland, J.M., Weir, B.A., Sizemore, A.E., Xu, H., Dharia, N.V., Montgomery, P.G., Cowley, G.S., Pantel, S., et al. (2017). Computational correction of copy number effect improves specificity of CRISPR-Cas9 essentiality screens in cancer cells. Nat. Genet. 49, 1779–1784.\n",
    "\n",
    "Ghandi, M., Huang, F.W., Jané-Valbuena, J., Kryukov, G.V., Lo, C.C., McDonald, E.R., 3rd, Barretina, J., Gelfand, E.T., Bielski, C.M., Li, H., et al. (2019). Next-generation characterization of the Cancer Cell Line Encyclopedia. Nature 569, 503–508\n",
    "\n",
    "\"\"\"\n",
    "\n",
    "CreateDataSet(client, dataset_name, project_id, dataset_description)"
   ]
  },
  {
   "cell_type": "markdown",
   "metadata": {},
   "source": [
    "Download the DEPMAP20Q3 datasets from DEPMAP portal"
   ]
  },
  {
   "cell_type": "code",
   "execution_count": null,
   "metadata": {},
   "outputs": [],
   "source": [
    "#CCLE_mutation_data.csv file\n",
    "mutation_data=pd.read_csv(\"https://ndownloader.figshare.com/files/24613355\", sep=\"\\t\") \n",
    "#https://ndownloader.figshare.com/files/24613355\n",
    "\n",
    "#sample_info.csv file\n",
    "sample_info=pd.read_csv(\"https://ndownloader.figshare.com/files/24613394\",  sep=\",\")\n",
    "#https://ndownloader.figshare.com/files/24613394\n",
    "\n",
    "#WES_SNP_CN_data.csv file\n",
    "cn_data=pd.read_csv(\"https://ndownloader.figshare.com/files/24613352\", index_col=0)\n",
    "#https://ndownloader.figshare.com/files/24613352\n",
    "\n",
    "#CCLE_expression.csv\n",
    "gene_exp_data=pd.read_csv(\"https://ndownloader.figshare.com/files/24613325\", index_col=0)\n",
    "#https://ndownloader.figshare.com/files/24613325\n",
    "\n",
    "#D2_Achilles_gene_effect.csv file\n",
    "achilles_gene_effect=pd.read_csv(\"https://ndownloader.figshare.com/files/24613292\", index_col=0)\n",
    "#https://ndownloader.figshare.com/files/24613292\n"
   ]
  },
  {
   "cell_type": "markdown",
   "metadata": {},
   "source": [
    "Read the manually created annotations for columns of tables"
   ]
  },
  {
   "cell_type": "code",
   "execution_count": null,
   "metadata": {},
   "outputs": [],
   "source": [
    "# get annotations from the excel file \n",
    "depmap_annotations=pd.ExcelFile(\"../Depmap20Q3_annotation.xlsx\")"
   ]
  },
  {
   "cell_type": "code",
   "execution_count": null,
   "metadata": {},
   "outputs": [],
   "source": [
    "mutation_annotation=depmap_annotations.parse('CCLE_Mutations')\n",
    "sample_annotation=depmap_annotations.parse('Sample_Info')\n",
    "achilles_gene_effect_annotation=depmap_annotations.parse('Achilles_Gene_Effect')\n",
    "CCLE_expression_annotation=depmap_annotations.parse('CCLE_Gene_Expression')\n",
    "cnv_annotations=depmap_annotations.parse('CCLE_Copy_Number')"
   ]
  },
  {
   "cell_type": "markdown",
   "metadata": {},
   "source": [
    "Create the BigQuery dataset in the google cloud project"
   ]
  },
  {
   "cell_type": "code",
   "execution_count": null,
   "metadata": {},
   "outputs": [],
   "source": [
    "dataset_name='DepMap_public_20Q3_backup'\n",
    "dataset_description=\"\"\"  \n",
    "This DepMap release contains data from CRISPR knockout \n",
    "screens from project Achilles, as well as genomic characterization data from the CCLE project.\n",
    "\n",
    "References:\n",
    "Dempster, J.M., Rossen, J., Kazachkova, M., Pan, J., Kugener, G., Root, D.E., and Tsherniak, A. (2019). Extracting Biological Insights from the Project Achilles Genome-Scale CRISPR Screens in Cancer Cell Lines.\n",
    "\n",
    "Meyers, R.M., Bryan, J.G., McFarland, J.M., Weir, B.A., Sizemore, A.E., Xu, H., Dharia, N.V., Montgomery, P.G., Cowley, G.S., Pantel, S., et al. (2017). Computational correction of copy number effect improves specificity of CRISPR-Cas9 essentiality screens in cancer cells. Nat. Genet. 49, 1779–1784.\n",
    "\n",
    "Ghandi, M., Huang, F.W., Jané-Valbuena, J., Kryukov, G.V., Lo, C.C., McDonald, E.R., 3rd, Barretina, J., Gelfand, E.T., Bielski, C.M., Li, H., et al. (2019). Next-generation characterization of the Cancer Cell Line Encyclopedia. Nature 569, 503–508\n",
    "\n",
    "\"\"\"\n",
    "\n",
    "CreateDataSet(client, dataset_name, project_id, dataset_description)"
   ]
  },
  {
   "cell_type": "markdown",
   "metadata": {},
   "source": [
    "Save mutation data into BigQuery table "
   ]
  },
  {
   "cell_type": "code",
   "execution_count": null,
   "metadata": {},
   "outputs": [],
   "source": [
    "mutation_table_name='CCLE_mutation'\n",
    "mutation_table_desc='''Pipeline: Mutations MAF of gene mutations. Original file: CCLE_mutations.csv\n",
    "Download link: https://ndownloader.figshare.com/files/24613355.'''\n",
    "\n",
    "mutation_dict=mutation_annotation.to_dict('records')\n",
    "mutation_table=CreateTable(client, mutation_data, dataset_name, mutation_table_name, project_id,  mutation_table_desc, mutation_dict)"
   ]
  },
  {
   "cell_type": "markdown",
   "metadata": {},
   "source": [
    "Save sample info data into BigQuery table "
   ]
  },
  {
   "cell_type": "code",
   "execution_count": null,
   "metadata": {},
   "outputs": [],
   "source": [
    "sample_info_table_name=\"sample_info\"\n",
    "sample_info_table_desc='''Cell line information definitions. Original file:sample_info.csv \n",
    "Download link: https://ndownloader.figshare.com/files/24613394'''\n",
    "\n",
    "sample_dict=sample_annotation.to_dict('records')\n",
    "CreateTable(client, sample_info, dataset_name, sample_info_table_name, project_id, sample_info_table_desc, sample_dict)"
   ]
  },
  {
   "cell_type": "markdown",
   "metadata": {},
   "source": [
    "Save copy number data into BigQuery table "
   ]
  },
  {
   "cell_type": "code",
   "execution_count": null,
   "metadata": {},
   "outputs": [],
   "source": [
    "cn_table_desc='''Pipeline: Copy number Gene level copy number data, log2 transformed with a pseudo count of 1.\n",
    "This is generated by mapping genes onto the segment level calls. \n",
    "Original file: WES_SNP_CN_data.csv Download link: https://ndownloader.figshare.com/files/24613352.'''\n",
    "\n",
    "cnv_long_format=CRISPRPreprocess(cn_data, 'CNA')\n",
    "cnv_long_format['Entrez_ID']=pd.to_numeric(cnv_long_format['Entrez_ID'])\n",
    "cnv_table_name=\"CCLE_gene_cn\"\n",
    "cnv_dict=cnv_annotations.to_dict('records')\n",
    "CreateTable(client, cnv_long_format, dataset_name, cnv_table_name, project_id, cn_table_desc, cnv_dict)"
   ]
  },
  {
   "cell_type": "markdown",
   "metadata": {},
   "source": [
    "Save gene expression data into BigQuery table "
   ]
  },
  {
   "cell_type": "code",
   "execution_count": null,
   "metadata": {},
   "outputs": [],
   "source": [
    "CCLE_expression_table_desc='''\n",
    "Pipeline: Expression Random TPM gene expression data for just protein coding genes using RSEM. \n",
    "Log2 transformed, using a pseudo-count of 1. Original file: CCLE_expression.csv \n",
    "Download link: https://ndownloader.figshare.com/files/24613325'''\n",
    "\n",
    "CCLE_expression_long_format=CRISPRPreprocess(gene_exp_data, 'TPM')\n",
    "CCLE_expression_long_format['Entrez_ID']=pd.to_numeric(CCLE_expression_long_format['Entrez_ID'])\n",
    "CCLE_expression_table_name=\"CCLE_gene_expression\"\n",
    "CCLE_expression_dict=CCLE_expression_annotation.to_dict('records')\n",
    "CreateTable(client, CCLE_expression_long_format, dataset_name, CCLE_expression_table_name, project_id, CCLE_expression_table_desc, CCLE_expression_dict)\n",
    "\n",
    "\n"
   ]
  },
  {
   "cell_type": "markdown",
   "metadata": {},
   "source": [
    "Save gene effect data into BigQuery table "
   ]
  },
  {
   "cell_type": "code",
   "execution_count": null,
   "metadata": {},
   "outputs": [],
   "source": [
    "achilles_gene_effect_table_desc='''Pipeline: Achilles_Post-CERES_ CERES data with principle components strongly related to known batch effects removed, then shifted and scaled per cell line so the median nonessential KO effect is 0 and the median essential KO effect is -1.\n",
    "Original file: Achilles_gene_effect.csv \n",
    "Download link: https://ndownloader.figshare.com/files/24613352\n",
    "'''\n",
    "achilles_gene_effect_long_format=CRISPRPreprocess(achilles_gene_effect, 'Gene_Effect')\n",
    "achilles_gene_effect_long_format['Entrez_ID']=pd.to_numeric(achilles_gene_effect_long_format['Entrez_ID'])\n",
    "achilles_gene_effect_table_name=\"Achilles_gene_effect\"\n",
    "achilles_gene_effect_dict=achilles_gene_effect_annotation.to_dict('records')\n",
    "CreateTable(client, achilles_gene_effect_long_format, dataset_name, achilles_gene_effect_table_name, project_id, achilles_gene_effect_table_desc, achilles_gene_effect_dict)\n",
    "\n"
   ]
  },
  {
   "cell_type": "code",
   "execution_count": null,
   "metadata": {},
   "outputs": [],
   "source": []
  }
 ],
 "metadata": {
  "kernelspec": {
   "display_name": "Python 3 (ipykernel)",
   "language": "python",
   "name": "python3"
  },
  "language_info": {
   "codemirror_mode": {
    "name": "ipython",
    "version": 3
   },
   "file_extension": ".py",
   "mimetype": "text/x-python",
   "name": "python",
   "nbconvert_exporter": "python",
   "pygments_lexer": "ipython3",
   "version": "3.9.1"
  }
 },
 "nbformat": 4,
 "nbformat_minor": 4
}
