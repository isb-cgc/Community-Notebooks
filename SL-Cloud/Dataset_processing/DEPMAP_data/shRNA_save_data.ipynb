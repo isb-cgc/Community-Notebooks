{
 "cells": [
  {
   "cell_type": "markdown",
   "metadata": {},
   "source": [
    "## Saving DEMETER2v6 datasets in BigQuery Tables \n",
    "```\n",
    "Title:   How to save DEMETER2v6 datasets in BigQuery Tables\n",
    "Author:  Bahar Tercan\n",
    "Created: 02-08-2022\n",
    "Purpose: To download data from DEMETER2v6 project into BigQuery Tables \n",
    "Notes: MyBinder may restart kernel because of long runtime of this notebook, we recommend only local run for this notebook\n",
    "```"
   ]
  },
  {
   "cell_type": "markdown",
   "metadata": {},
   "source": [
    "This notebook provides code for saving DEMETER2 version 6 data in BigQuery tables. \n",
    "Users don't need to run this pipeline to get the data, this pipeline shows how we saved the data in bigquery tables.\n",
    "\n",
    "Please contact Bahar Tercan, btercan@systemsbiology.org, if you have further questions for this notebook."
   ]
  },
  {
   "cell_type": "markdown",
   "metadata": {},
   "source": [
    "Installing and importing the required libraries "
   ]
  },
  {
   "cell_type": "code",
   "execution_count": null,
   "metadata": {},
   "outputs": [],
   "source": [
    "#Please don't run this code block if you are running the notebook in MyBinder\n",
    "#This code block installs the dependencies, please uncomment the commands and run it only once, the first time you run this notebook on your computer\n",
    "#(If you have already run this block for the CRISPR_save_data pipeline, you do not need to run)\n",
    "#!pip3 install numpy\n",
    "#!pip3 install pandas\n",
    "#!pip3 install google.cloud\n",
    "#!pip3 install pandas_gbq\n",
    "#!pip3 install importlib\n",
    "#!pip3 install openpyxl"
   ]
  },
  {
   "cell_type": "code",
   "execution_count": null,
   "metadata": {},
   "outputs": [],
   "source": [
    "import pandas as pd\n",
    "from google.cloud import bigquery\n",
    "import sys\n",
    "sys.path.append('../../Scripts/')\n",
    "import importlib\n",
    "import BIGQUERY_operations\n",
    "importlib.reload(BIGQUERY_operations)\n",
    "from BIGQUERY_operations import *\n",
    "import DEPMAP_data_preprocessing\n",
    "importlib.reload(DEPMAP_data_preprocessing)\n",
    "from DEPMAP_data_preprocessing import *"
   ]
  },
  {
   "cell_type": "markdown",
   "metadata": {},
   "source": [
    "## Google Authentication\n",
    "The first step is to authorize access to BigQuery and the Google Cloud. For more information see ['Quick Start Guide to ISB-CGC'](https://isb-cancer-genomics-cloud.readthedocs.io/en/latest/sections/HowToGetStartedonISB-CGC.html) and alternative authentication methods can be found [here](https://googleapis.dev/python/google-api-core/latest/auth.html).\n",
    "\n",
    "Moreover you need to [create a google cloud](https://cloud.google.com/resource-manager/docs/creating-managing-projects#console) project to be able to run BigQuery queries."
   ]
  },
  {
   "cell_type": "code",
   "execution_count": null,
   "metadata": {},
   "outputs": [],
   "source": [
    "#Please don't run this code block if you are running the notebook in MyBinder\n",
    "!gcloud auth application-default login"
   ]
  },
  {
   "cell_type": "code",
   "execution_count": null,
   "metadata": {},
   "outputs": [],
   "source": [
    "# configure project info and bigquery client\n",
    "# please replace syntheticlethality with your own project_id\n",
    "\n",
    "project_id='syntheticlethality'\n",
    "\n",
    "# construct a BigQuery client object.\n",
    "client = bigquery.Client(project_id)"
   ]
  },
  {
   "cell_type": "markdown",
   "metadata": {},
   "source": [
    "Defining dataset name and dataset description"
   ]
  },
  {
   "cell_type": "code",
   "execution_count": null,
   "metadata": {},
   "outputs": [],
   "source": [
    "dataset_name='DEMETER2_v6_backup'\n",
    "dataset_description=\"\"\" Cancer cell line genetic dependencies estimated using the DEMETER2 model. \n",
    "    DEMETER2 is applied to three large-scale RNAi screening datasets: \n",
    "    the Broad Institute Project Achilles, Novartis Project DRIVE, and the Marcotte et al. breast cell line dataset.\n",
    "    The model is also applied togenerate a combined dataset of gene dependencies covering a total of 712 unique cancer cell lines.\n",
    "    For version history, see the description in the figshare\n",
    "    (https://figshare.com/articles/DEMETER2_data/6025238/6).\n",
    "    For more information visit https://depmap.org/R2-D2/.\n",
    "    Reference: McFarland, J.M., Ho, Z.V., Kugener, G., Dempster, J.M., Montgomery, P.G., Bryan, J.G., Krill-Burger, J.M., Green, T.M., Vazquez, F., Boehm, J.S., et al. (2018).\n",
    "    Improved estimation of cancer dependencies from large-scale RNAi screens using model-based normalization and data integration. Nat. Commun. 9, 4610 \"\"\""
   ]
  },
  {
   "cell_type": "markdown",
   "metadata": {},
   "source": [
    "Download the DEMETER2v6 datasets from DEPMAP portal"
   ]
  },
  {
   "cell_type": "code",
   "execution_count": null,
   "metadata": {},
   "outputs": [],
   "source": [
    "#CCLE_mutation_data.csv file\n",
    "mutation_data=pd.read_csv(\"https://ndownloader.figshare.com/files/13110674\") \n",
    "\n",
    "#sample_info.csv file\n",
    "sample_info=pd.read_csv(\"https://ndownloader.figshare.com/files/11489717\")\n",
    "\n",
    "#WES_SNP_CN_data.csv file\n",
    "cn_data=pd.read_csv(\"https://ndownloader.figshare.com/files/11489726\", index_col=0)\n",
    "\n",
    "#RNAseq_lRPKM_data.csv file \n",
    "gene_exp_data=pd.read_csv(\"https://ndownloader.figshare.com/files/13110677\", index_col=0)\n",
    "\n",
    "#D2_combined_gene_dep_scores.csv\n",
    "combined_gene_dep_scores=pd.read_csv(\"https://ndownloader.figshare.com/files/13515395\", index_col=0)"
   ]
  },
  {
   "cell_type": "markdown",
   "metadata": {},
   "source": [
    "Read the manually created annotations for columns of tables"
   ]
  },
  {
   "cell_type": "code",
   "execution_count": null,
   "metadata": {},
   "outputs": [],
   "source": [
    "# get annotations from the excel file \n",
    "demeter6_annotations=pd.ExcelFile(\"../DEMETER2_Data_V6_annotation.xlsx\")"
   ]
  },
  {
   "cell_type": "code",
   "execution_count": null,
   "metadata": {},
   "outputs": [],
   "source": [
    "mutation_annotation=demeter6_annotations.parse('CCLE_Mutation')\n",
    "sample_annotation=demeter6_annotations.parse('Sample_Info')\n",
    "gene_dep_scores_annotation=demeter6_annotations.parse('D2_combined_gene_dep_scores')\n",
    "RNAseq_IRPKM_annotation=demeter6_annotations.parse('RNAseq_IRPKM_data')\n",
    "cnv_annotations=demeter6_annotations.parse('WES_SNP_CN_data')"
   ]
  },
  {
   "cell_type": "markdown",
   "metadata": {},
   "source": [
    "Create the BigQuery dataset in the google cloud project"
   ]
  },
  {
   "cell_type": "code",
   "execution_count": null,
   "metadata": {},
   "outputs": [],
   "source": [
    "dataset_name='DEMETER2_V6_backup'\n",
    "dataset_description=''' Cancer cell line genetic dependencies estimated using the DEMETER2 model. \n",
    "    DEMETER2 is applied to three large-scale RNAi screening datasets: \n",
    "    the Broad Institute Project Achilles, Novartis Project DRIVE, and the Marcotte et al. breast cell line dataset.\n",
    "    The model is also applied togenerate a combined dataset of gene dependencies covering a total of 712 unique cancer cell lines.\n",
    "    For version history, see the description in the figshare\n",
    "    (https://figshare.com/articles/DEMETER2_data/6025238/6).\n",
    "    For more information visit https://depmap.org/R2-D2/.\n",
    "    Reference: McFarland, J.M., Ho, Z.V., Kugener, G., Dempster, J.M., Montgomery, P.G., Bryan, J.G.,\n",
    "    Krill-Burger, J.M., Green, T.M., Vazquez, F., Boehm, J.S., et al. (2018). Improved estimation of \n",
    "    cancer dependencies from large-scale RNAi screens using model-based normalization and data integration.\n",
    "    Nat. Commun. 9, 4610\n",
    "    '''\n",
    "   \n",
    "CreateDataSet(client, dataset_name, project_id, dataset_description)"
   ]
  },
  {
   "cell_type": "markdown",
   "metadata": {},
   "source": [
    "Save mutation data into BigQuery table "
   ]
  },
  {
   "cell_type": "code",
   "execution_count": null,
   "metadata": {
    "scrolled": true
   },
   "outputs": [],
   "source": [
    "# Save mutation data into bigquery table\n",
    "mutation_table_name='CCLE_mutation'\n",
    "mutation_table_desc='''Mutation data taken from the file CCLE_DepMap_18Q1_maf_20180207.txt. \n",
    "Original file: CCLE_mutation_data.csv\n",
    "Download link: https://ndownloader.figshare.com/files/13110674'''\n",
    "\n",
    "mutation_dict=mutation_annotation.to_dict('records')\n",
    "mutation_table=CreateTable(client, mutation_data, dataset_name, mutation_table_name, project_id,  mutation_table_desc, mutation_dict)"
   ]
  },
  {
   "cell_type": "markdown",
   "metadata": {},
   "source": [
    "Save sample info data into BigQuery table "
   ]
  },
  {
   "cell_type": "code",
   "execution_count": null,
   "metadata": {},
   "outputs": [],
   "source": [
    "sample_info_table_name=\"sample_info\"\n",
    "sample_info_table_desc='''Table of meta data per cell line. Original file: sample_info.csv \n",
    "Download link: https://ndownloader.figshare.com/files/11489717 '''\n",
    "\n",
    "sample_dict=sample_annotation.to_dict('records')\n",
    "CreateTable(client, sample_info, dataset_name, sample_info_table_name, project_id, sample_info_table_desc, sample_dict)"
   ]
  },
  {
   "cell_type": "markdown",
   "metadata": {},
   "source": [
    "Save copy number data into BigQuery table "
   ]
  },
  {
   "cell_type": "code",
   "execution_count": null,
   "metadata": {},
   "outputs": [],
   "source": [
    "cn_table_desc='''Gene-level copy number data per cell line, derived from CCLE \n",
    "whole-exome sequencing data, along with CCLE SNP array data. Used for feature-dependency association analysis presented in the DEMETER2 manuscript.\n",
    "Original file: WES_SNP_CN_data.csv \n",
    "Download link: https://ndownloader.figshare.com/files/11489726'''\n",
    "\n",
    "cnv_long_format=shRNAPreprocess(cn_data, 'CNA')\n",
    "cnv_table_name=\"WES_snp_cn\"\n",
    "cnv_dict=cnv_annotations.to_dict('records')\n",
    "CreateTable(client, cnv_long_format, dataset_name, cnv_table_name, project_id,cn_table_desc, cnv_dict)"
   ]
  },
  {
   "cell_type": "markdown",
   "metadata": {},
   "source": [
    "Save gene expression data into BigQuery table "
   ]
  },
  {
   "cell_type": "code",
   "execution_count": null,
   "metadata": {},
   "outputs": [],
   "source": [
    "RNAseq_IRPKM_table_desc='''log10(RPKM + 0.001) for protein-coding genes, \n",
    "derived from the file CCLE_DepMap_18Q1_RNAseq_RPKM_20180214.gct. \n",
    "Original file: RNAseq_lRPKM_data.csv Download link: https://ndownloader.figshare.com/files/13110677\n",
    "'''\n",
    "\n",
    "RNAseq_IRPKM_long_format=shRNAPreprocess(gene_exp_data, 'RPKM')\n",
    "RNAseq_IRPKM_table_name=\"RNAseq_IRPKM\"\n",
    "RNAseq_IRPKM_dict=RNAseq_IRPKM_annotation.to_dict('records')\n",
    "CreateTable(client, RNAseq_IRPKM_long_format, dataset_name, RNAseq_IRPKM_table_name, project_id, RNAseq_IRPKM_table_desc, RNAseq_IRPKM_dict)"
   ]
  },
  {
   "cell_type": "markdown",
   "metadata": {},
   "source": [
    "Save gene dependency scores data into BigQuery table "
   ]
  },
  {
   "cell_type": "code",
   "execution_count": null,
   "metadata": {},
   "outputs": [],
   "source": [
    "gene_dep_scores_table_desc='''Estimated gene dependency for each cell line and gene\n",
    "(posterior mean estimates). Original file: D2_combined_gene_dep_scores.csv \n",
    "Download link: https://ndownloader.figshare.com/files/13515395\n",
    "'''\n",
    "gene_dep_scores_long_format=shRNAPreprocess(combined_gene_dep_scores, 'Combined_Gene_Dep_Score')\n",
    "gene_dep_scores_table_name=\"D2_combined_gene_dep_score\"\n",
    "gene_dep_scores_dict=gene_dep_scores_annotation.to_dict('records')\n",
    "CreateTable(client, gene_dep_scores_long_format, dataset_name, gene_dep_scores_table_name, project_id, gene_dep_scores_table_desc, gene_dep_scores_dict)"
   ]
  },
  {
   "cell_type": "code",
   "execution_count": null,
   "metadata": {},
   "outputs": [],
   "source": []
  }
 ],
 "metadata": {
  "kernelspec": {
   "display_name": "Python 3 (ipykernel)",
   "language": "python",
   "name": "python3"
  },
  "language_info": {
   "codemirror_mode": {
    "name": "ipython",
    "version": 3
   },
   "file_extension": ".py",
   "mimetype": "text/x-python",
   "name": "python",
   "nbconvert_exporter": "python",
   "pygments_lexer": "ipython3",
   "version": "3.9.1"
  }
 },
 "nbformat": 4,
 "nbformat_minor": 4
}
