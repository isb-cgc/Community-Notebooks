{
 "cells": [
  {
   "cell_type": "markdown",
   "metadata": {},
   "source": [
    "# Setup for Conservation-Based Synthetic Lethal Discovery Pipeline\n",
    "```\n",
    "Title:   Saving Yeast-Human Orthology Information into Bigquery Tables \n",
    "Author:  Taek-Kyun Kim\n",
    "Created: 02-08-2022\n",
    "Purpose: Download the yeast -human ortholog mapping information and save in bigquery tables\n",
    "Notes: Runs in Mybinder   \n",
    "```\n",
    "\n",
    "This notebook outlines our approach to pre-processing publicly-available datasets to facillitate the discovery of synthetic lethal interactions conserved between human and yeast speicies. The wrangled data are uploaded to bigquery to facillitate .sql-based querying (see notebook conservedSL.ipynb in the Pipelines folder)."
   ]
  },
  {
   "cell_type": "code",
   "execution_count": null,
   "metadata": {},
   "outputs": [],
   "source": [
    "# If you are running this notebook in MyBinder, please don't run this code block\n",
    "# This code block installs the dependencies, please uncomment the commands and run it only once, the first time you run this notebook on your computer\n",
    "\n",
    "#!pip3 install pandas\n",
    "#!pip3 install google.cloud\n",
    "#!pip3 install pyarrow"
   ]
  },
  {
   "cell_type": "code",
   "execution_count": null,
   "metadata": {},
   "outputs": [],
   "source": [
    "# load required modules\n",
    "import pandas as pd"
   ]
  },
  {
   "cell_type": "markdown",
   "metadata": {},
   "source": [
    "### Reference Dataset for Ortholog Mapping\n",
    "\n",
    "Our source for human to yeast ortholog mapping is the [Alliance of Genome Resources (AGR)](https://www.alliancegenome.org) - Release 3.0.1. \n",
    "Full download is found by navigating from the home page to Data -> Downloads -> Orthology. We are using the 'Alliance combined orthology data' found on the [downloads](https://www.alliancegenome.org/downloads#orthology) page. "
   ]
  },
  {
   "cell_type": "markdown",
   "metadata": {},
   "source": [
    "#### Option 1: pre-download combined orthology data"
   ]
  },
  {
   "cell_type": "code",
   "execution_count": null,
   "metadata": {},
   "outputs": [],
   "source": [
    "# local file path to download location\n",
    "# AGR_ORTHOLOGS = 'ORTHOLOGY-ALLIANCE_COMBINED_4.tsv' "
   ]
  },
  {
   "cell_type": "markdown",
   "metadata": {},
   "source": [
    "#### Option 2: web-based download of combined orthology data"
   ]
  },
  {
   "cell_type": "code",
   "execution_count": null,
   "metadata": {},
   "outputs": [],
   "source": [
    "# url to file download\n",
    "AGR_ORTHOLOGS = 'http://download.alliancegenome.org/3.0.1/ORTHOLOGY-ALLIANCE/COMBINED/ORTHOLOGY-ALLIANCE_COMBINED_4.tsv'"
   ]
  },
  {
   "cell_type": "code",
   "execution_count": null,
   "metadata": {
    "scrolled": true
   },
   "outputs": [],
   "source": [
    "ortholog_table = pd.read_csv(AGR_ORTHOLOGS, sep='\\t', comment='#')\n",
    "ortholog_table.head()"
   ]
  },
  {
   "cell_type": "markdown",
   "metadata": {},
   "source": [
    "#### Data Cleaning"
   ]
  },
  {
   "cell_type": "code",
   "execution_count": null,
   "metadata": {},
   "outputs": [],
   "source": [
    "# data cleaning - remove identifier names within each field\n",
    "# e..g HGNC:28697 --> 28697\n",
    "headers = ortholog_table.columns.values\n",
    "cols_to_clean = headers[['ID' in s for s in headers]]"
   ]
  },
  {
   "cell_type": "code",
   "execution_count": null,
   "metadata": {},
   "outputs": [],
   "source": [
    "def remove_column_annotation(gene_info):\n",
    "    \"\"\" Clean up identifier columns\n",
    "    Remove the exact source info and keep true identifiers \n",
    "    e.g. remove 'MGI:' and keep mouse gene identifier\n",
    "    \"\"\"\n",
    "    return(gene_info.str.split(':').str[-1])"
   ]
  },
  {
   "cell_type": "code",
   "execution_count": null,
   "metadata": {},
   "outputs": [],
   "source": [
    "df = ortholog_table.apply(lambda x: remove_column_annotation(x) if x.name in cols_to_clean else x)\n",
    "df"
   ]
  },
  {
   "cell_type": "code",
   "execution_count": null,
   "metadata": {},
   "outputs": [],
   "source": [
    "# add column: Algorithm Match Percentage - the % of algorithms that agree on the ortholog mapping \n",
    "df[\"AlgorithmsMatchPerc\"] = df[\"AlgorithmsMatch\"]/df[\"OutOfAlgorithms\"] \n",
    "df"
   ]
  },
  {
   "cell_type": "markdown",
   "metadata": {},
   "source": [
    "### Data Filtering\n",
    "Keep ortholog mapping information for relevant species for our purposes"
   ]
  },
  {
   "cell_type": "code",
   "execution_count": null,
   "metadata": {},
   "outputs": [],
   "source": [
    "# create human to yeast mapping table\n",
    "human2yeast = df.loc[(df['Gene1SpeciesName'] == 'Homo sapiens') & (df['Gene2SpeciesName'] == 'Saccharomyces cerevisiae')]\n",
    "human2yeast = human2yeast.rename(columns={'Gene1ID': 'HumanID', 'Gene1Symbol': 'HumanSymbol',\n",
    "                                'Gene2ID': 'YeastID', 'Gene2Symbol': 'YeastSymbol',})\n",
    "\n",
    "human2yeast = human2yeast.filter(items=['HumanID', 'HumanSymbol', 'YeastID', 'YeastSymbol',\n",
    "                'Algorithms', 'AlgorithmsMatch', 'OutOfAlgorithms', 'AlgorithmsMatchPerc',\n",
    "                          'IsBestScore', 'IsBestRevScore',])\n",
    "human2yeast.head()"
   ]
  },
  {
   "cell_type": "code",
   "execution_count": null,
   "metadata": {},
   "outputs": [],
   "source": [
    "human2yeast.infer_objects()\n",
    "human2yeast['HumanID']=human2yeast['HumanID'].astype(str).astype(int)"
   ]
  },
  {
   "cell_type": "code",
   "execution_count": null,
   "metadata": {},
   "outputs": [],
   "source": [
    "human2yeast.dtypes"
   ]
  },
  {
   "cell_type": "code",
   "execution_count": null,
   "metadata": {},
   "outputs": [],
   "source": [
    "# create yeast to human mapping table\n",
    "yeast2human = df.loc[(df['Gene1SpeciesName'] == 'Saccharomyces cerevisiae') & (df['Gene2SpeciesName'] == 'Homo sapiens')]\n",
    "yeast2human = yeast2human.rename(columns={'Gene1ID': 'YeastID', 'Gene1Symbol': 'HumanSymbol',\n",
    "                                'Gene2ID': 'HumanID', 'Gene2Symbol': 'YeastSymbol',})\n",
    "yeast2human = yeast2human.filter(items= ['YeastID', 'YeastSymbol','HumanID', 'HumanSymbol',\n",
    "                         'Algorithms', 'AlgorithmsMatch', 'OutOfAlgorithms', 'AlgorithmsMatchPerc',\n",
    "                            'IsBestScore', 'IsBestRevScore'])\n",
    "yeast2human.head()"
   ]
  },
  {
   "cell_type": "code",
   "execution_count": null,
   "metadata": {},
   "outputs": [],
   "source": [
    "yeast2human['HumanID']=yeast2human['HumanID'].astype(str).astype(int)"
   ]
  },
  {
   "cell_type": "code",
   "execution_count": null,
   "metadata": {},
   "outputs": [],
   "source": [
    "# write ortholog mapping tables to file\n",
    "yeast2human.to_csv(path_or_buf='yeast2human_alliance_v4.csv', index=False)\n",
    "human2yeast.to_csv(path_or_buf='human2yeast_alliance_v4.csv', index=False)"
   ]
  },
  {
   "cell_type": "markdown",
   "metadata": {},
   "source": [
    "### Create BigQuery Dataset and Upload Data\n"
   ]
  },
  {
   "cell_type": "markdown",
   "metadata": {},
   "source": [
    "## Google Authentication\n",
    "The first step is to authorize access to BigQuery and the Google Cloud. For more information see ['Quick Start Guide to ISB-CGC'](https://isb-cancer-genomics-cloud.readthedocs.io/en/latest/sections/HowToGetStartedonISB-CGC.html) and alternative authentication methods can be found [here](https://googleapis.dev/python/google-api-core/latest/auth.html).\n",
    "\n",
    "Moreover you need to [create a google cloud](https://cloud.google.com/resource-manager/docs/creating-managing-projects#console) project to be able to run BigQuery queries."
   ]
  },
  {
   "cell_type": "code",
   "execution_count": null,
   "metadata": {},
   "outputs": [],
   "source": [
    "# If you are running this notebook in MyBinder, please don't run this code block\n",
    "# google cloud authentication\n",
    "!gcloud auth application-default login"
   ]
  },
  {
   "cell_type": "code",
   "execution_count": null,
   "metadata": {},
   "outputs": [],
   "source": [
    "# pip install pyarrow\n",
    "from google.cloud import bigquery"
   ]
  },
  {
   "cell_type": "code",
   "execution_count": null,
   "metadata": {},
   "outputs": [],
   "source": [
    "# configure project info and bigquery client\n",
    "project='syntheticlethality'\n",
    "\n",
    "# construct a BigQuery client object.\n",
    "client = bigquery.Client(project) # Replace XXXXXXXX with your project ID"
   ]
  },
  {
   "cell_type": "markdown",
   "metadata": {},
   "source": [
    "#### Create a bigquery dataset within your project \n"
   ]
  },
  {
   "cell_type": "code",
   "execution_count": null,
   "metadata": {},
   "outputs": [],
   "source": [
    "# if it does not already exist\n",
    "dataset_name='Orthology_backup'\n",
    "dataset_id = bigquery.Dataset(project +'.'+ dataset_name)\n",
    "try:\n",
    "    client.get_dataset(dataset_id)\n",
    "    print(\"Dataset: {} already exists\".format(project, dataset_name))\n",
    "except:\n",
    "    # construct a full Dataset object to send to the API.\n",
    "    dataset = bigquery.Dataset(dataset_id)\n",
    "    \n",
    "    # send the dataset to the API for creation.\n",
    "    dataset = client.create_dataset(dataset_id)  # Make an API request.\n",
    "    print(\"Created dataset: {}.{}\".format(project_id,  dataset_id))"
   ]
  },
  {
   "cell_type": "markdown",
   "metadata": {},
   "source": [
    "#### Configure upload job - Yeast2Human Table\n"
   ]
  },
  {
   "cell_type": "code",
   "execution_count": null,
   "metadata": {},
   "outputs": [],
   "source": [
    "yeast2human.columns.values"
   ]
  },
  {
   "cell_type": "code",
   "execution_count": null,
   "metadata": {},
   "outputs": [],
   "source": [
    "print(yeast2human.dtypes) "
   ]
  },
  {
   "cell_type": "code",
   "execution_count": null,
   "metadata": {},
   "outputs": [],
   "source": [
    "table_description = '''\n",
    "Mapping conserved genes from yeast (Saccharomyces cerevisiae) to human (Homo sapiens) derived from Integrated orthology inferences created using the Drosophila RNAi Screening Center(DRSC) Integrative Ortholog Prediction Tool (DIOPT) \n",
    "at Harvard Medical School see more information at: https://www.flyrnai.org/diopt. \n",
    "\n",
    "Table downloaded from the Alliance for Genome Resources. Release 3.0.1\"\n",
    "https://www.alliancegenome.org/downloads#orthology\n",
    "'''"
   ]
  },
  {
   "cell_type": "code",
   "execution_count": null,
   "metadata": {},
   "outputs": [],
   "source": [
    "job_config = bigquery.LoadJobConfig(\n",
    "   destination_table_description=table_description,\n",
    "    \n",
    "    # specify table schema\n",
    "    schema=[\n",
    "        bigquery.SchemaField(name=\"YeastID\", field_type=bigquery.enums.SqlTypeNames.STRING, \n",
    "                             description='Saccharomyces Genome Database (SGD) gene identifier'),\n",
    "        bigquery.SchemaField(name=\"YeastSymbol\", field_type=bigquery.enums.SqlTypeNames.STRING, \n",
    "                             description=\"Yeast official gene symbol\"),\n",
    "        bigquery.SchemaField(name=\"HumanID\", field_type=bigquery.enums.SqlTypeNames.INTEGER, \n",
    "                             description='HGNC gene identifier'),\n",
    "        bigquery.SchemaField(name=\"HumanSymbol\", field_type=bigquery.enums.SqlTypeNames.STRING, \n",
    "                             description='HGNC gene symbol'),\n",
    "       bigquery.SchemaField(name=\"Algorithms\", field_type=bigquery.enums.SqlTypeNames.STRING, \n",
    "                          description='The orthology methods that make the orthology association for the species'),\n",
    "        bigquery.SchemaField(name=\"AlgorithmsMatch\", field_type=bigquery.enums.SqlTypeNames.INTEGER, \n",
    "                             description='The number of orthology methods that make the orthology association for the species'),\n",
    "        bigquery.SchemaField(name=\"OutOfAlgorithms\", field_type=bigquery.enums.SqlTypeNames.INTEGER, \n",
    "                             description='The toal number of orthology methods that could make the orthology association for the species'),\n",
    "        bigquery.SchemaField(name=\"AlgorithmsMatchPerc\", field_type=bigquery.enums.SqlTypeNames.FLOAT, \n",
    "                             description='The proportion of orthology methods that make the orthology association for the species'),\n",
    "        bigquery.SchemaField(name=\"IsBestScore\", field_type=bigquery.enums.SqlTypeNames.STRING, \n",
    "                             description='Within the species, whether this gene is called the ortholog of the input gene by the highest number of algorithms'),\n",
    "        bigquery.SchemaField(name=\"IsBestRevScore\", field_type=bigquery.enums.SqlTypeNames.STRING, \n",
    "                             description='Within the species of the input gene, whether the input gene is called the ortholog of the gene by the highest number of algorithms'), \n",
    "    ],\n",
    "    \n",
    "    write_disposition=\"WRITE_TRUNCATE\" #replaces the table with the loaded data\n",
    ")\n"
   ]
  },
  {
   "cell_type": "code",
   "execution_count": null,
   "metadata": {},
   "outputs": [],
   "source": [
    "# create table name\n",
    "table_name = 'YEAST2HUMAN'\n",
    "table_id = \"{}.{}.{}\".format(project,  dataset_name, table_name)"
   ]
  },
  {
   "cell_type": "markdown",
   "metadata": {},
   "source": [
    "#### Load tables to bigquery"
   ]
  },
  {
   "cell_type": "code",
   "execution_count": null,
   "metadata": {},
   "outputs": [],
   "source": [
    "job = client.load_table_from_dataframe(yeast2human, table_id, job_config=job_config)"
   ]
  },
  {
   "cell_type": "code",
   "execution_count": null,
   "metadata": {},
   "outputs": [],
   "source": [
    "job.result()  # Wait for the job to complete.\n"
   ]
  },
  {
   "cell_type": "code",
   "execution_count": null,
   "metadata": {},
   "outputs": [],
   "source": [
    "table = client.get_table(table_id)  # Make an API request.\n",
    "print(\n",
    "    \"Loaded {} rows and {} columns to {}\".format(\n",
    "        table.num_rows, len(table.schema), table_id\n",
    "    )\n",
    ")"
   ]
  },
  {
   "cell_type": "markdown",
   "metadata": {},
   "source": [
    "#### Configure upload job - Human2Yeast Table"
   ]
  },
  {
   "cell_type": "code",
   "execution_count": null,
   "metadata": {},
   "outputs": [],
   "source": [
    "table_description = '''\n",
    "Mapping conserved genes from human (Homo sapiens) to yeast (Saccharomyces cerevisiae) to  derived from Integrated orthology inferences created using the Drosophila RNAi Screening Center(DRSC) Integrative Ortholog Prediction Tool (DIOPT) \n",
    "at Harvard Medical School see more information at: https://www.flyrnai.org/diopt. \n",
    "\n",
    "Table downloaded from the Alliance for Genome Resources. Release 3.0.1\"\n",
    "https://www.alliancegenome.org/downloads#orthology\n",
    "'''"
   ]
  },
  {
   "cell_type": "code",
   "execution_count": null,
   "metadata": {},
   "outputs": [],
   "source": [
    "human2yeast.columns.values"
   ]
  },
  {
   "cell_type": "code",
   "execution_count": null,
   "metadata": {},
   "outputs": [],
   "source": [
    "# configure upload\n",
    "job_config = bigquery.LoadJobConfig(\n",
    "   destination_table_description=table_description,\n",
    "    \n",
    "    # specify table schema\n",
    "    schema=[\n",
    "        bigquery.SchemaField(name=\"HumanID\", field_type=bigquery.enums.SqlTypeNames.INTEGER, \n",
    "                             description='HGNC gene identifier'),\n",
    "        bigquery.SchemaField(name=\"HumanSymbol\", field_type=bigquery.enums.SqlTypeNames.STRING, \n",
    "                             description='HGNC gene symbol'),\n",
    "               bigquery.SchemaField(name=\"YeastID\", field_type=bigquery.enums.SqlTypeNames.STRING, \n",
    "                             description='Saccharomyces Genome Database (SGD) gene identifier'),\n",
    "        bigquery.SchemaField(name=\"YeastSymbol\", field_type=bigquery.enums.SqlTypeNames.STRING, \n",
    "                             description=\"Yeast official gene symbol\"),\n",
    "       bigquery.SchemaField(name=\"Algorithms\", field_type=bigquery.enums.SqlTypeNames.STRING, \n",
    "                          description='The orthology methods that make the orthology association for the species'),\n",
    "        bigquery.SchemaField(name=\"AlgorithmsMatch\", field_type=bigquery.enums.SqlTypeNames.INTEGER, \n",
    "                             description='The number of orthology methods that make the orthology association for the species'),\n",
    "        bigquery.SchemaField(name=\"OutOfAlgorithms\", field_type=bigquery.enums.SqlTypeNames.INTEGER, \n",
    "                             description='The toal number of orthology methods that could make the orthology association for the species'),\n",
    "        bigquery.SchemaField(name=\"AlgorithmsMatchPerc\", field_type=bigquery.enums.SqlTypeNames.FLOAT, \n",
    "                             description='The proportion of orthology methods that make the orthology association for the species'),\n",
    "        bigquery.SchemaField(name=\"IsBestScore\", field_type=bigquery.enums.SqlTypeNames.STRING, \n",
    "                             description='Within the species, whether this gene is called the ortholog of the input gene by the highest number of algorithms'),\n",
    "        bigquery.SchemaField(name=\"IsBestRevScore\", field_type=bigquery.enums.SqlTypeNames.STRING, \n",
    "                             description='Within the species of the input gene, whether the input gene is called the ortholog of the gene by the highest number of algorithms'), \n",
    "    ],\n",
    "    \n",
    "    write_disposition=\"WRITE_TRUNCATE\" #replaces the table with the loaded data\n",
    ")\n"
   ]
  },
  {
   "cell_type": "code",
   "execution_count": null,
   "metadata": {},
   "outputs": [],
   "source": [
    "# create table name\n",
    "table_name = 'HUMAN2YEAST'\n",
    "table_id = \"{}.{}.{}\".format(project,  dataset_name, table_name)"
   ]
  },
  {
   "cell_type": "code",
   "execution_count": null,
   "metadata": {},
   "outputs": [],
   "source": [
    "job = client.load_table_from_dataframe(human2yeast, table_id, job_config=job_config)"
   ]
  },
  {
   "cell_type": "code",
   "execution_count": null,
   "metadata": {},
   "outputs": [],
   "source": [
    "job.result()"
   ]
  },
  {
   "cell_type": "code",
   "execution_count": null,
   "metadata": {},
   "outputs": [],
   "source": [
    "table = client.get_table(table_id)  # Make an API request.\n",
    "print(\n",
    "    \"Loaded {} rows and {} columns to {}\".format(\n",
    "        table.num_rows, len(table.schema), table_id\n",
    "    )\n",
    ")"
   ]
  }
 ],
 "metadata": {
  "kernelspec": {
   "display_name": "Python 3 (ipykernel)",
   "language": "python",
   "name": "python3"
  },
  "language_info": {
   "codemirror_mode": {
    "name": "ipython",
    "version": 3
   },
   "file_extension": ".py",
   "mimetype": "text/x-python",
   "name": "python",
   "nbconvert_exporter": "python",
   "pygments_lexer": "ipython3",
   "version": "3.9.1"
  }
 },
 "nbformat": 4,
 "nbformat_minor": 4
}
