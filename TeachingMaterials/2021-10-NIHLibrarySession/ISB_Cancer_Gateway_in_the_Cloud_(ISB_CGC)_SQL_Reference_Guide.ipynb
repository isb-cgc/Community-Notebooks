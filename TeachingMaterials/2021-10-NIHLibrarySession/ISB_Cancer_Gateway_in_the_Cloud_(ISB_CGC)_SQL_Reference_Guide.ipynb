{
  "nbformat": 4,
  "nbformat_minor": 0,
  "metadata": {
    "colab": {
      "name": "ISB_Cancer_Gateway_in_the_Cloud_(ISB_CGC)_SQL_Reference_Guide.ipynb",
      "provenance": [],
      "collapsed_sections": []
    },
    "kernelspec": {
      "name": "python3",
      "display_name": "Python 3"
    },
    "language_info": {
      "name": "python"
    }
  },
  "cells": [
    {
      "cell_type": "markdown",
      "metadata": {
        "id": "view-in-github",
        "colab_type": "text"
      },
      "source": [
        "<a href=\"https://colab.research.google.com/github/isb-cgc/Community-Notebooks/blob/master/TeachingMaterials/2021-10-NIHLibrarySession/ISB_Cancer_Gateway_in_the_Cloud_(ISB_CGC)_SQL_Reference_Guide.ipynb\" target=\"_parent\"><img src=\"https://colab.research.google.com/assets/colab-badge.svg\" alt=\"Open In Colab\"/></a>"
      ]
    },
    {
      "cell_type": "markdown",
      "metadata": {
        "id": "b7R3JWl35Oz5"
      },
      "source": [
        "# ISB Cancer Gateway in the Cloud (ISB-CGC) SQL Reference Guide \n"
      ]
    },
    {
      "cell_type": "markdown",
      "metadata": {
        "id": "C7QaPA3DWsQj"
      },
      "source": [
        "This guide is intended as a quick refresher to SQL to help users understand and follow the hands-on portion of our Cloud Computing training session.\n",
        "\n",
        "In this notebook, we will use SQLite3 a small self-contained package to create a database and practice querying. To learn more about SQLite3 please visit [Here ](https://www.sqlite.org/index.html )\n",
        "\n",
        "\n",
        "\n"
      ]
    },
    {
      "cell_type": "markdown",
      "metadata": {
        "id": "offRCX5NcP78"
      },
      "source": [
        "### What is SQL?\n",
        "\n",
        "SQL or Structured Query Language, is a language to talk to databases. SQL provides a method to inquire about the contents of a database in a predictable and consistent syntax to receive useful results. It allows you to select specific data and to build complex reports. Today, SQL is a universal language of data. We use SQL to retrieve data from ISB-CGC BigQuery tables directly in Google BigQuery console.\n",
        "\n"
      ]
    },
    {
      "cell_type": "markdown",
      "metadata": {
        "id": "NWSLL0U-od12"
      },
      "source": [
        "## Notebook Setup\n",
        "\n",
        "### Import Dependencies"
      ]
    },
    {
      "cell_type": "code",
      "metadata": {
        "id": "p-zGZYIUnTK5"
      },
      "source": [
        "import sqlite3"
      ],
      "execution_count": 1,
      "outputs": []
    },
    {
      "cell_type": "markdown",
      "metadata": {
        "id": "oX8Jx5UAomdy"
      },
      "source": [
        "### Initialize Database and Connect"
      ]
    },
    {
      "cell_type": "code",
      "metadata": {
        "id": "h59MviKYoqKw"
      },
      "source": [
        "conn = sqlite3.connect('proteins.db')\n",
        "cur = conn.cursor()\n",
        "conn.row_factory = sqlite3.Row"
      ],
      "execution_count": 2,
      "outputs": []
    },
    {
      "cell_type": "markdown",
      "metadata": {
        "id": "wYMZsHCRQmMb"
      },
      "source": [
        "### How do I create a table in SQL?\n",
        "\n",
        "Databases contain tables, which can be visualized as a spreadsheet. There's a series of rows (called records in a database) and columns. The intersection of a row and a column is called a field.\n",
        "\n",
        "You can create a table with the CREATE query. It's useful to combine this with the IF NOT EXISTS statement, which prevents SQLite from clobbering an existing table.\n",
        "\n",
        "In this example, We will create a table called proteins containing two columns ID and Name. \n",
        "\n",
        "There are five data types (also referred to as storage classes) in SQL:\n",
        "\n",
        "TEXT: a text string\n",
        "\n",
        "INTEGER: a whole number\n",
        "\n",
        "REAL: a floating point (unlimited decimal places) number\n",
        "\n",
        "BLOB: binary data (for instance, a .jpeg or .webp image)\n",
        "\n",
        "NULL: a null value\n",
        "\n",
        "In our example, We will use the data type TEXT for ID and Name. Similarly, we will also create another table called properties which will contain the ID and location and their data types. \n",
        "\n",
        "To prevent a record from being created without data in a specified field, you can add the NOT NULL directive.\n",
        "\n",
        "The SQL to create this field is: name TEXT NOT NULL\n"
      ]
    },
    {
      "cell_type": "code",
      "metadata": {
        "colab": {
          "base_uri": "https://localhost:8080/"
        },
        "id": "C2u8m5iuo5OO",
        "outputId": "bb4d1994-3ea3-4ac6-93e0-fa0f724427b8"
      },
      "source": [
        "# Create proteins table\n",
        "query = \"\"\"\n",
        "  DROP TABLE IF EXISTS proteins\n",
        "\"\"\"\n",
        "cur.execute(query)\n",
        "\n",
        "query = \"\"\"\n",
        "  CREATE TABLE proteins (\n",
        "    id TEXT,\n",
        "    name TEXT\n",
        "  )\n",
        "\"\"\"\n",
        "cur.execute(query)\n",
        "\n",
        "# Create properties table\n",
        "query = \"\"\"\n",
        "  DROP TABLE IF EXISTS properties\n",
        "\"\"\"\n",
        "query = \"\"\"\n",
        "  CREATE TABLE properties (\n",
        "    id TEXT,\n",
        "    location TEXT\n",
        "  )\n",
        "\"\"\"\n",
        "cur.execute(query)"
      ],
      "execution_count": 3,
      "outputs": [
        {
          "output_type": "execute_result",
          "data": {
            "text/plain": [
              "<sqlite3.Cursor at 0x7f4211bbbf10>"
            ]
          },
          "metadata": {},
          "execution_count": 3
        }
      ]
    },
    {
      "cell_type": "markdown",
      "metadata": {
        "id": "eDiawdisT7BT"
      },
      "source": [
        "### How do I add data to a table?\n",
        "\n",
        "You can populate your new tables with some sample data by using the INSERT SQL keyword.\n",
        "\n",
        "You can add as many columns as you want to add to the table. If you want to add values in all columns of a table, then there is no need to specify column names, you can use the VALUES keyword to only insert values as shown below.\n",
        "\n",
        "The VALUES keyword expects a list in parentheses but can take multiple lists separated by commas. \n",
        " \n",
        "\n"
      ]
    },
    {
      "cell_type": "code",
      "metadata": {
        "colab": {
          "base_uri": "https://localhost:8080/"
        },
        "id": "Mmm_pk8GqK15",
        "outputId": "683f753f-a224-4b4a-e689-08d738acdcc1"
      },
      "source": [
        "# Insert into proteins table\n",
        "cur.execute(\"INSERT INTO proteins VALUES ('P26939', 'TLNI')\")\n",
        "cur.execute(\"INSERT INTO proteins VALUES ('Q99PL5', 'PRBP')\")\n",
        "#cur.execute(\"INSERT INTO proteins VALUES ('Q6PB66', 'PGBM')\")\n",
        "#cur.execute(\"INSERT INTO proteins VALUES ('P11275', 'PPPE')\")\n",
        "#cur.execute(\"INSERT INTO proteins VALUES ('P26935', 'TLNP')\")\n",
        "cur.execute(\"INSERT INTO proteins VALUES ('PPR8PP', 'BRCC')\")\n",
        "cur.execute(\"INSERT INTO proteins VALUES ('QQ9PL6', 'TN11')\")\n",
        "cur.execute(\"INSERT INTO proteins VALUES ('QQPB66', 'TNNP')\")\n",
        "cur.execute(\"INSERT INTO proteins VALUES ('P11275', 'TINH')\")\n",
        "cur.execute(\"INSERT INTO proteins VALUES ('P36969', 'PPQL')\")\n",
        "\n",
        "# Insert into properties table\n",
        "cur.execute(\"INSERT INTO properties VALUES ('P26939', 'cytoskeleton')\")\n",
        "cur.execute(\"INSERT INTO properties VALUES ('Q99PL5', 'cytosol')\")\n",
        "cur.execute(\"INSERT INTO properties VALUES ('Q6PB66', 'nucleus')\")\n",
        "cur.execute(\"INSERT INTO properties VALUES ('P11275', 'plasma')\")\n",
        "cur.execute(\"INSERT INTO properties VALUES ('P26935', 'plasma')\")\n",
        "cur.execute(\"INSERT INTO properties VALUES ('PPR8PP', 'cytoskeleton')\")\n",
        "cur.execute(\"INSERT INTO properties VALUES ('QQ9PL6', 'cytosol')\")\n",
        "#cur.execute(\"INSERT INTO properties VALUES ('QQPB66', 'nucleus')\")\n",
        "#cur.execute(\"INSERT INTO properties VALUES ('P11275', 'plasma')\")\n",
        "cur.execute(\"INSERT INTO properties VALUES ('P36969', 'plasma')\")"
      ],
      "execution_count": 4,
      "outputs": [
        {
          "output_type": "execute_result",
          "data": {
            "text/plain": [
              "<sqlite3.Cursor at 0x7f4211bbbf10>"
            ]
          },
          "metadata": {},
          "execution_count": 4
        }
      ]
    },
    {
      "cell_type": "markdown",
      "metadata": {
        "id": "j9V0Mjl3gjyn"
      },
      "source": [
        "### How do I select/fetch data in SQL? \n",
        "\n",
        "SELECT queries are used to fetch data from a database. We will use SELECT keyword for fetching table data in SQL. \n",
        "\n",
        "The syntax for retrieving/fetching data using SELECT keyword is:\n",
        "\n",
        ">SELECT column1, column2, column3, ... FROM table_name;\n",
        "\n",
        "To select all data:\n",
        "\n",
        ">SELECT * FROM table_name;\n",
        "\n",
        "To select only distinct values (no duplicate records):\n",
        ">SELECT DISTINCT column1, column2, column3, ... FROM table_name;\n",
        "\n",
        "A simple SELECT example would be this query below, which will return all the columns and rows from the table.\n",
        "\n",
        "Example:\n",
        "\n",
        "SELECT * FROM `isb-cgc-bq.TCGA_versioned.clinical_gdc_r24`LIMIT 1000\n",
        "\n",
        "The asterisk (*) means that we want to grab all the columns, without excluding anything. Since SQL databases usually consist of more than one table, the FROM keyword is required to specify which table we want to look in. \n",
        "\n",
        "LIMIT keyword can be used to specify how many lines we would like to fetch. \n",
        "\n",
        "Remember: The order of clauses matters in SQL. SQL uses the following order of precedence: FROM, SELECT, LIMIT.\n",
        "\n",
        "\n",
        "\n"
      ]
    },
    {
      "cell_type": "markdown",
      "metadata": {
        "id": "YjxjjbsM9WEa"
      },
      "source": [
        "SELECT Example:"
      ]
    },
    {
      "cell_type": "code",
      "metadata": {
        "colab": {
          "base_uri": "https://localhost:8080/"
        },
        "id": "ty2P0biiqrFr",
        "outputId": "de936e9a-260a-4632-a838-f485e1c0bf0a"
      },
      "source": [
        "cur.execute(\"SELECT * FROM proteins\")\n",
        "print(cur.fetchall())"
      ],
      "execution_count": 5,
      "outputs": [
        {
          "output_type": "stream",
          "name": "stdout",
          "text": [
            "[('P26939', 'TLNI'), ('Q99PL5', 'PRBP'), ('PPR8PP', 'BRCC'), ('QQ9PL6', 'TN11'), ('QQPB66', 'TNNP'), ('P11275', 'TINH'), ('P36969', 'PPQL')]\n"
          ]
        }
      ]
    },
    {
      "cell_type": "code",
      "metadata": {
        "colab": {
          "base_uri": "https://localhost:8080/"
        },
        "id": "a64CGeNYXw_1",
        "outputId": "68d2a4d5-4caf-4486-c15b-0e38587c4c33"
      },
      "source": [
        "cur.execute(\"SELECT id FROM proteins LIMIT 2\")\n",
        "print(cur.fetchall())"
      ],
      "execution_count": 6,
      "outputs": [
        {
          "output_type": "stream",
          "name": "stdout",
          "text": [
            "[('P26939',), ('Q99PL5',)]\n"
          ]
        }
      ]
    },
    {
      "cell_type": "markdown",
      "metadata": {
        "id": "6AEDLLQOHFLU"
      },
      "source": [
        "###How do I filter/retrieve data in SQL based on a condition? \n",
        "\n",
        "WHERE keyword allows us to filter data in SQL depending on a condition. \n",
        "\n",
        "The syntax for WHERE clause is:\n",
        "\n",
        ">SELECT column1, column2, column3, ... FROM table_name WHERE condition;\n",
        "\n",
        "In the example below, we can select how many mutations have been observed in KRAS. \n",
        "\n",
        "WHERE Example:\n",
        "\n",
        "SELECT COUNT(DISTINCT(sample_barcode_tumor)) AS numSamples\n",
        "FROM `isb-cgc-bq.TCGA_versioned.somatic_mutation_hg38_gdc_r10`\n",
        "WHERE Hugo_Symbol=\"KRAS\"\n"
      ]
    },
    {
      "cell_type": "markdown",
      "metadata": {
        "id": "yWmhXQ2K_lml"
      },
      "source": [
        "SELECT Example combined with WHERE Clause "
      ]
    },
    {
      "cell_type": "code",
      "metadata": {
        "colab": {
          "base_uri": "https://localhost:8080/"
        },
        "id": "qMkY-tyoPVgt",
        "outputId": "df3c2e5f-dfdf-41cc-d33c-f01bc5147948"
      },
      "source": [
        "cur.execute(\"SELECT * FROM properties WHERE location='cytoskeleton'\")\n",
        "print(cur.fetchall())"
      ],
      "execution_count": 7,
      "outputs": [
        {
          "output_type": "stream",
          "name": "stdout",
          "text": [
            "[('P26939', 'cytoskeleton'), ('PPR8PP', 'cytoskeleton')]\n"
          ]
        }
      ]
    },
    {
      "cell_type": "code",
      "metadata": {
        "colab": {
          "base_uri": "https://localhost:8080/"
        },
        "id": "2CGVTZ7tN8Fh",
        "outputId": "4bf9dec4-2d0b-4682-ed74-7adfb583c384"
      },
      "source": [
        "cur.execute(\"SELECT id FROM properties WHERE location='plasma'\")\n",
        "print(cur.fetchall())"
      ],
      "execution_count": 8,
      "outputs": [
        {
          "output_type": "stream",
          "name": "stdout",
          "text": [
            "[('P11275',), ('P26935',), ('P36969',)]\n"
          ]
        }
      ]
    },
    {
      "cell_type": "markdown",
      "metadata": {
        "id": "JrChrv7tOw-W"
      },
      "source": [
        "In the above example, we have used the ‘=’ operator. You can use other operators such as ‘>’, ‘<‘, ‘>=’, ‘<=’, IN, LIKE, and ‘BETWEEN’ depending upon your condition."
      ]
    },
    {
      "cell_type": "markdown",
      "metadata": {
        "id": "7HexCOUGUWsp"
      },
      "source": [
        "###How do I group data in SQL based on a condition? \n",
        "\n",
        "GROUP BY and ORDER BY clause allows us to filter data depending on a condition.\n",
        "\n",
        "GROUP BY in SQL is used to arrange similar data into a group. The GROUP BY clause follows the WHERE clause and comes before the ORDER BY clause.\n",
        "\n",
        "ORDER BY clause is used to sort the data in the ascending or descending order.\n",
        "\n",
        "Syntax:\n",
        "\n",
        ">SELECT column1, column 2…\n",
        "\n",
        ">FROM table_name\n",
        "\n",
        ">WHERE [condition]\n",
        "\n",
        ">GROUP BY column1, column2\n",
        "\n",
        ">ORDER BY column1, column2;\n",
        "\n",
        "In the example below, you can use the query to group the data in the proteins table, group it based on column name and order it in ASC order. \n",
        "\n",
        "\n"
      ]
    },
    {
      "cell_type": "markdown",
      "metadata": {
        "id": "YXQSnm0F_7cA"
      },
      "source": [
        "GROUP BY combined with ORDER BY Example:"
      ]
    },
    {
      "cell_type": "code",
      "metadata": {
        "colab": {
          "base_uri": "https://localhost:8080/"
        },
        "id": "NMjBTo5QZzKJ",
        "outputId": "d9d2cd68-7e25-495a-b6af-bbe353fb8d3f"
      },
      "source": [
        "cur.execute(\"SELECT * FROM proteins WHERE name='BRCC' GROUP BY id ORDER BY name ASC\")\n",
        "print(cur.fetchall())"
      ],
      "execution_count": 9,
      "outputs": [
        {
          "output_type": "stream",
          "name": "stdout",
          "text": [
            "[('PPR8PP', 'BRCC')]\n"
          ]
        }
      ]
    },
    {
      "cell_type": "markdown",
      "metadata": {
        "id": "GvDAfuXGHVL-"
      },
      "source": [
        "###How do I query from more than one table?\n",
        "\n",
        "In more complex databases, most of the time there are several tables connected to each other in some way and linking the tables logically allows us to use the information stored in both tables at the same time.\n",
        "\n",
        "JOINS are used for fetching information from more than one table. A JOIN is a means for combining fields from two tables by using values common to each. These common variables are referred to as keys. \n",
        "\n",
        "The commonly used types of joins are:"
      ]
    },
    {
      "cell_type": "markdown",
      "metadata": {
        "id": "oKnjDUK6Zosh"
      },
      "source": [
        "INNER JOIN \n",
        "\n",
        "The most important and frequently used of the joins is the INNER JOIN. They are also referred to as an EQUIJOIN.\n",
        "\n",
        "The INNER JOIN matches each row in one table with every row in other tables and allows you to query rows that contain columns from both tables.INNER JOIN returns rows that have matching values in both tables.\n",
        "\n",
        "The INNER JOIN is an optional clause of the SELECT statement. It appears immediately after the FROM clause. \n",
        "\n",
        "The basic syntax of the INNER JOIN is as follows:\n",
        "\n",
        ">SELECT table1.column1, table2.column2...\n",
        "FROM table1\n",
        "INNER JOIN table2\n",
        "ON table1.common_field = table2.common_field;"
      ]
    },
    {
      "cell_type": "markdown",
      "metadata": {
        "id": "6isFeMmBBHWL"
      },
      "source": [
        "INNER JOIN Example:"
      ]
    },
    {
      "cell_type": "code",
      "metadata": {
        "colab": {
          "base_uri": "https://localhost:8080/"
        },
        "id": "C9w26so-mShS",
        "outputId": "d8c3cd4f-a666-4634-a94a-722b51754a75"
      },
      "source": [
        "cur.execute(\"SELECT proteins.name,properties.location FROM proteins INNER JOIN properties ON proteins.id = properties.id\")\n",
        "print(cur.fetchall())"
      ],
      "execution_count": 10,
      "outputs": [
        {
          "output_type": "stream",
          "name": "stdout",
          "text": [
            "[('TLNI', 'cytoskeleton'), ('PRBP', 'cytosol'), ('BRCC', 'cytoskeleton'), ('TN11', 'cytosol'), ('TINH', 'plasma'), ('PPQL', 'plasma')]\n"
          ]
        }
      ]
    },
    {
      "cell_type": "markdown",
      "metadata": {
        "id": "KXlbpXcEJwgf"
      },
      "source": [
        "INNER JOIN combined with GROUP BY Clause Example:"
      ]
    },
    {
      "cell_type": "code",
      "metadata": {
        "colab": {
          "base_uri": "https://localhost:8080/"
        },
        "id": "jvsP7dU-JVTi",
        "outputId": "321d8871-520c-482b-e37c-e246d7d1fb90"
      },
      "source": [
        "cur.execute(\"SELECT proteins.name,properties.location FROM proteins INNER JOIN properties ON proteins.id = properties.id GROUP BY proteins.id;\")\n",
        "print(cur.fetchall())"
      ],
      "execution_count": 11,
      "outputs": [
        {
          "output_type": "stream",
          "name": "stdout",
          "text": [
            "[('TINH', 'plasma'), ('TLNI', 'cytoskeleton'), ('PPQL', 'plasma'), ('BRCC', 'cytoskeleton'), ('PRBP', 'cytosol'), ('TN11', 'cytosol')]\n"
          ]
        }
      ]
    },
    {
      "cell_type": "markdown",
      "metadata": {
        "id": "a-caLr0TZv-d"
      },
      "source": [
        "LEFT JOIN \n",
        "\n",
        "The LEFT JOIN returns all rows from the left table, even if there are no matches in the right table. This means that if the ON clause matches 0 (zero) records in the right table; the join will still return a row in the result, but with NULL in each column from the right table.\n",
        "\n",
        "LEFT JOIN keeps observations that are present in the left (first) table, dropping those that are only present in the other.\n",
        "\n",
        "The basic syntax of a LEFT JOIN is as follows:\n",
        "\n",
        ">SELECT table1.column1, table2.column2...\n",
        "FROM table1\n",
        "LEFT JOIN table2\n",
        "ON table1.common_field = table2.common_field;\n",
        "\n",
        "Here, the given condition could be any given expression based on your requirement.\n"
      ]
    },
    {
      "cell_type": "markdown",
      "metadata": {
        "id": "Q6qPj4deB6hb"
      },
      "source": [
        "LEFT JOIN Example:"
      ]
    },
    {
      "cell_type": "code",
      "metadata": {
        "colab": {
          "base_uri": "https://localhost:8080/"
        },
        "id": "ObFmlWo4UMx8",
        "outputId": "300eafbf-5ac8-4399-ea8f-f1794dcb4052"
      },
      "source": [
        "cur.execute(\"SELECT proteins.name,properties.location FROM proteins LEFT JOIN properties ON proteins.id = properties.id\")\n",
        "print(cur.fetchall())"
      ],
      "execution_count": 12,
      "outputs": [
        {
          "output_type": "stream",
          "name": "stdout",
          "text": [
            "[('TLNI', 'cytoskeleton'), ('PRBP', 'cytosol'), ('BRCC', 'cytoskeleton'), ('TN11', 'cytosol'), ('TNNP', None), ('TINH', 'plasma'), ('PPQL', 'plasma')]\n"
          ]
        }
      ]
    },
    {
      "cell_type": "markdown",
      "metadata": {
        "id": "2ygBr_DpZyam"
      },
      "source": [
        "RIGHT JOINS\n",
        "\n",
        "The RIGHT JOIN returns all rows from the right table, even if there are no matches in the left table. This means that if the ON clause matches 0 (zero) records in the left table; the join will still return a row in the result, but with NULL in each column from the left table.\n",
        "\n",
        "RIGHT JOIN keeps observations that are present in the right (second) table, dropping those that are only present in the other.\n",
        "\n",
        "The basic syntax of a RIGHT JOIN is as follow:\n",
        "\n",
        ">SELECT table1.column1, table2.column2...\n",
        "FROM table1\n",
        "RIGHT JOIN table2\n",
        "ON table1.common_field = table2.common_field;\n",
        "\n",
        "RIGHT JOIN Example:\n",
        "\n",
        ">cur.execute(\"SELECT proteins.name,properties.location FROM proteins RIGHT JOIN properties ON proteins.id = properties.id\")\n",
        "print(cur.fetchall())\n",
        "\n",
        "Output: \n",
        "\n",
        ">[('TLN1', 'cytoskeleton'), ('PRBP', 'cytosol'), ('PGBM', 'nucleus')('TINH', 'plasma') ('none', 'plasma')('none', 'cytoskeleton'), ('TN11', 'cytosol'), ('PPQL', 'plasma')]\n"
      ]
    },
    {
      "cell_type": "markdown",
      "metadata": {
        "id": "Zsu0HhnJZRM_"
      },
      "source": [
        "FULL JOINS \n",
        "\n",
        "Full joins are used to join two tables into a single one containing all variables using KEYS (id is the key in this example) to match variables across both tables. In short a FUll JOIN keeps all observations.\n",
        "\n",
        "The SQL FULL JOIN combines the results of both left and right outer joins.\n",
        "\n",
        "The joined table will contain all records from both the tables and fill in NULLs for missing matches on either side.\n",
        "\n",
        "The basic syntax of a FULL JOIN is as follows:\n",
        "\n",
        ">SELECT table1.column1, table2.column2...\n",
        "FROM table1\n",
        "FULL JOIN table2\n",
        "ON table1.common_field = table2.common_field;\n",
        "\n",
        "FULL JOIN Example:\n",
        "\n",
        ">cur.execute(\"SELECT proteins.name,properties.location FROM proteins FULL JOIN properties ON proteins.id = properties.id\")\n",
        "print(cur.fetchall())\n",
        "\n",
        "Output:\n",
        "\n",
        ">[('TLNI', 'cytoskeleton'), ('PRBP', 'cytosol'), ('BRCC', 'cytoskeleton'), ('TN11', 'cytosol'), ('TNNP', None), ('TINH', 'plasma'), ('PPQL', 'plasma')[('TLN1', 'cytoskeleton'), ('PRBP', 'cytosol'), ('PGBM', 'nucleus')('TINH', 'plasma') ('none', 'plasma')('none', 'cytoskeleton'), ('TN11', 'cytosol'), ('PPQL', 'plasma')]]\n"
      ]
    },
    {
      "cell_type": "markdown",
      "metadata": {
        "id": "S4cNX7dNZz8L"
      },
      "source": [
        "SUMMARY\n",
        "\n",
        "The concepts and syntax learnt in this notebook are considered standard SQL and will be implemented in the hands on practice session using ISB-CGC BQ table data in Google Cloud."
      ]
    }
  ]
}
