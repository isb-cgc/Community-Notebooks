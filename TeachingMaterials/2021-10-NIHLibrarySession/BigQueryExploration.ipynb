{
  "nbformat": 4,
  "nbformat_minor": 5,
  "metadata": {
    "environment": {
      "name": "r-cpu.4-0.m79",
      "type": "gcloud",
      "uri": "gcr.io/deeplearning-platform-release/r-cpu.4-0:m79"
    },
    "kernelspec": {
      "name": "python3",
      "display_name": "Python 3"
    },
    "colab": {
      "name": "BigQueryExploration2.ipynb",
      "provenance": [],
      "collapsed_sections": []
    },
    "language_info": {
      "name": "python"
    }
  },
  "cells": [
    {
      "cell_type": "markdown",
      "metadata": {
        "id": "zRvNi7N95HUz"
      },
      "source": [
        "# BigQuery Exploration"
      ],
      "id": "zRvNi7N95HUz"
    },
    {
      "cell_type": "code",
      "metadata": {
        "id": "TiQ98HsMKSPi",
        "colab": {
          "base_uri": "https://localhost:8080/"
        },
        "outputId": "2ff039ec-f6b9-4df5-cfbe-604240ecd4a8"
      },
      "source": [
        "from google.colab import auth\n",
        "from google.cloud import bigquery\n",
        "%load_ext rpy2.ipython\n",
        "\n",
        "project='isb-cgc-outreach'\n",
        "auth.authenticate_user()\n",
        "client = bigquery.Client(project=project)\n",
        "print('Authenticated')"
      ],
      "id": "TiQ98HsMKSPi",
      "execution_count": 1,
      "outputs": [
        {
          "output_type": "stream",
          "name": "stdout",
          "text": [
            "Authenticated\n"
          ]
        }
      ]
    },
    {
      "cell_type": "code",
      "metadata": {
        "id": "lxnheyZ0M5v6"
      },
      "source": [
        "%%R\n",
        "install.packages('bigrquery')\n",
        "install.packages('repr')"
      ],
      "id": "lxnheyZ0M5v6",
      "execution_count": null,
      "outputs": []
    },
    {
      "cell_type": "code",
      "metadata": {
        "id": "T7HqOYLQntUB"
      },
      "source": [
        "%%R\n",
        "project <- '<your_google_project>'\n",
        "library(bigrquery)\n",
        "library(repr)"
      ],
      "id": "T7HqOYLQntUB",
      "execution_count": 5,
      "outputs": []
    },
    {
      "cell_type": "markdown",
      "metadata": {
        "id": "_7KytyN4qjtv"
      },
      "source": [
        "## SQL queries\n",
        "SQL queries are fundamentally very similar to subsetting R data frames, where the syntax of subsetting an R data frame is as follows:\n",
        "\n",
        "> *dataframe*[ ,*column* ][ *conditional* ]\n",
        "\n",
        "The equivalent operation in SQL would look like this:\n",
        "\n",
        "> SELECT *column* FROM *table* WHERE *conditional*\n",
        "\n"
      ],
      "id": "_7KytyN4qjtv"
    },
    {
      "cell_type": "markdown",
      "metadata": {
        "id": "31792d6d"
      },
      "source": [
        "## Clinical and cohort queries\n",
        "In this section we want to showcase how researchers can find clinical information of GDC cases. How can you quickly construct a cohort. As an example, how old are the patients for each case in a given project?\n",
        "\n",
        "Tables used: *isb-cgc-bq.TCGA.clinical_gdc_current*"
      ],
      "id": "31792d6d"
    },
    {
      "cell_type": "code",
      "metadata": {
        "id": "9VS-nJnHsEsn",
        "colab": {
          "base_uri": "https://localhost:8080/"
        },
        "outputId": "90a857ab-5c67-41fe-b1be-17b4cac8848e"
      },
      "source": [
        "%%R\n",
        "# Our first query is to retrieve the columns present\n",
        "column_sql <- \"SELECT \n",
        "    column_name \n",
        "FROM isb-cgc-bq.TCGA.INFORMATION_SCHEMA.COLUMNS \n",
        "WHERE table_name = 'clinical_gdc_current'\"\n",
        "\n",
        "column_query <- bq_project_query(project, query=column_sql)\n",
        "case_df <- as.vector(unlist(bq_table_download(column_query)))\n",
        "paste(case_df, collapse=', ')"
      ],
      "id": "9VS-nJnHsEsn",
      "execution_count": 6,
      "outputs": [
        {
          "output_type": "stream",
          "name": "stderr",
          "text": [
            "R[write to console]: Complete\n",
            "\n",
            "R[write to console]: Billed: 10.49 MB\n",
            "\n",
            "R[write to console]: Downloading first chunk of data.\n",
            "\n",
            "R[write to console]: First chunk includes all requested rows.\n",
            "\n"
          ]
        },
        {
          "output_type": "stream",
          "name": "stdout",
          "text": [
            "[1] \"submitter_id, case_id, diag__treat__count, primary_site, disease_type, proj__name, proj__project_id, demo__demographic_id, demo__gender, demo__race, demo__ethnicity, demo__vital_status, demo__days_to_birth, demo__year_of_birth, demo__age_at_index, demo__year_of_death, demo__days_to_death, demo__state, demo__created_datetime, demo__updated_datetime, diag__diagnosis_id, diag__ajcc_clinical_n, diag__masaoka_stage, diag__ajcc_clinical_m, diag__primary_diagnosis, diag__primary_gleason_grade, diag__year_of_diagnosis, diag__figo_stage, diag__progression_or_recurrence, diag__ajcc_pathologic_m, diag__site_of_resection_or_biopsy, diag__ajcc_staging_system_edition, diag__icd_10_code, diag__age_at_diagnosis, diag__ajcc_clinical_t, diag__days_to_last_follow_up, diag__ajcc_pathologic_stage, diag__tumor_grade, diag__last_known_disease_status, diag__ann_arbor_extranodal_involvement, diag__ajcc_clinical_stage, diag__secondary_gleason_grade, diag__synchronous_malignancy, diag__morphology, diag__ajcc_pathologic_t, diag__igcccg_stage, diag__classification_of_tumor, diag__ann_arbor_clinical_stage, diag__ann_arbor_b_symptoms, diag__tumor_stage, diag__prior_treatment, diag__ajcc_pathologic_n, diag__tissue_or_organ_of_origin, diag__prior_malignancy, diag__state, diag__created_datetime, diag__updated_datetime, exp__exposure_id, exp__height, exp__weight, exp__bmi, exp__years_smoked, exp__pack_years_smoked, exp__cigarettes_per_day, exp__alcohol_history, exp__state, exp__created_datetime, exp__updated_datetime, state, updated_datetime\"\n"
          ]
        }
      ]
    },
    {
      "cell_type": "code",
      "metadata": {
        "id": "00408325",
        "colab": {
          "base_uri": "https://localhost:8080/"
        },
        "outputId": "99c6d871-e6b8-48b1-e32d-a057ef537c83"
      },
      "source": [
        "%%R\n",
        "# our second query retrieves the ages of all TCGA-BRCA cases\n",
        "case_sql <- \"SELECT\n",
        "  submitter_id,\n",
        "  demo__age_at_index,\n",
        "  demo__vital_status,\n",
        "FROM `isb-cgc-bq.TCGA.clinical_gdc_current`\n",
        "WHERE proj__project_id = 'TCGA-BRCA'\n",
        "\"\n",
        "case_query <- bq_project_query(project, query=case_sql)\n",
        "case_df <- as.data.frame(bq_table_download(case_query))\n",
        "head(case_df)\n",
        "\n",
        "# Try substituting alternate or adding columns such as:\n",
        "#   demo__vital_status\n",
        "#   demo__race\n",
        "# Find all the unique values that are in a column by querying only for:\n",
        "#   distinct demo__race\n",
        "# Try subseting the results by use of the where clause:\n",
        "#   proj__project_id = 'TCGA-BRCA'\n",
        "#   demo__age_at_index <= 70 AND demo__age_at_index >= 40"
      ],
      "id": "00408325",
      "execution_count": 7,
      "outputs": [
        {
          "output_type": "stream",
          "name": "stderr",
          "text": [
            "R[write to console]: Complete\n",
            "\n",
            "R[write to console]: Billed: 10.49 MB\n",
            "\n",
            "R[write to console]: Downloading first chunk of data.\n",
            "\n",
            "R[write to console]: First chunk includes all requested rows.\n",
            "\n"
          ]
        },
        {
          "output_type": "stream",
          "name": "stdout",
          "text": [
            "  submitter_id demo__age_at_index demo__vital_status\n",
            "1 TCGA-A8-A07E                 81              Alive\n",
            "2 TCGA-A8-A099                 76              Alive\n",
            "3 TCGA-A8-A09A                 40              Alive\n",
            "4 TCGA-A8-A09C                 69              Alive\n",
            "5 TCGA-B6-A0I8                 46               Dead\n",
            "6 TCGA-B6-A0RE                 61              Alive\n"
          ]
        }
      ]
    },
    {
      "cell_type": "code",
      "metadata": {
        "id": "2025d3b5",
        "colab": {
          "base_uri": "https://localhost:8080/",
          "height": 497
        },
        "outputId": "abd3b479-1994-4aca-997a-71e8a9199320"
      },
      "source": [
        "%%R\n",
        "# since we have the data in R we can directly generate visuals\n",
        "options(repr.plot.width=7, repr.plot.height=5.5)\n",
        "case_num <- length(unique(case_df[,2]))\n",
        "hist(case_df[,2], breaks=case_num/2, main='age at index', xlab='age (years)')"
      ],
      "id": "2025d3b5",
      "execution_count": 8,
      "outputs": [
        {
          "output_type": "display_data",
          "data": {
            "image/png": "[encoded data removed]"
          },
          "metadata": {}
        }
      ]
    },
    {
      "cell_type": "code",
      "metadata": {
        "id": "c28f3bd4",
        "colab": {
          "base_uri": "https://localhost:8080/",
          "height": 497
        },
        "outputId": "66d58c2f-0561-4144-e720-62745c78a339"
      },
      "source": [
        "%%R\n",
        "# including separating by vital status\n",
        "hist(case_df[case_df[,3] == 'Alive',2], \n",
        "     breaks=case_num/2, xlim=c(25,90), \n",
        "     col='steelblue1', main='', xlab='age (years)')\n",
        "hist(case_df[case_df[,3] == 'Dead',2], \n",
        "     breaks=case_num/2, add=1, col='orange')\n",
        "legend('topright', bty='n', legend=c('Alive', 'Dead'), fill=c('steelblue1', 'orange'))"
      ],
      "id": "c28f3bd4",
      "execution_count": 9,
      "outputs": [
        {
          "output_type": "display_data",
          "data": {
            "image/png": "[encoded data removed]"
          },
          "metadata": {}
        }
      ]
    },
    {
      "cell_type": "markdown",
      "metadata": {
        "id": "9e1e6dff"
      },
      "source": [
        "## Gene expression\n",
        "Another common question researchers encounter is, given a gene of interest what is the expression pattern in cancers? Using the GDC expression tables it's possible to retrieve huge amounts of information and do high level comparisons quickly.\n",
        "\n",
        "Tables used: *isb-cgc-bq.TCGA.RNAseq_hg38_gdc_current*"
      ],
      "id": "9e1e6dff"
    },
    {
      "cell_type": "code",
      "metadata": {
        "id": "d324caa8",
        "colab": {
          "base_uri": "https://localhost:8080/"
        },
        "outputId": "d07f7f69-6546-4652-e4e2-1f5dc33be5a9"
      },
      "source": [
        "%%R\n",
        "# a query to retrieve FPKM_UQ values for one specific gene (CCNB1)\n",
        "expr_sql <- \"SELECT\n",
        "  case_barcode,\n",
        "  aliquot_barcode,\n",
        "  sample_type_name,\n",
        "  HTSeq__FPKM_UQ\n",
        "FROM `isb-cgc-bq.TCGA.RNAseq_hg38_gdc_current`\n",
        "WHERE project_short_name = 'TCGA-BRCA'\n",
        "  AND gene_name = 'BRCA1' #'CCNB1'\"\n",
        "\n",
        "expr_query <- bq_project_query(project, query=expr_sql)\n",
        "expr_df <- bq_table_download(expr_query)\n",
        "head(expr_df)\n",
        "\n",
        "# try changing the project_short_name to 'TCGA-LUAD'\n",
        "# or substitute HTSeq__FPKM_UQ to retrieve other measures\n",
        "#    HTSeq__counts\n",
        "#    HTSeq__FPKM\n",
        "# change the gene name\n",
        "#    BRCA1\n",
        "#    BRCA2\n",
        "#    FOXA1"
      ],
      "id": "d324caa8",
      "execution_count": 10,
      "outputs": [
        {
          "output_type": "stream",
          "name": "stderr",
          "text": [
            "R[write to console]: Complete\n",
            "\n",
            "R[write to console]: Billed: 59.85 GB\n",
            "\n",
            "R[write to console]: Downloading first chunk of data.\n",
            "\n",
            "R[write to console]: First chunk includes all requested rows.\n",
            "\n"
          ]
        },
        {
          "output_type": "stream",
          "name": "stdout",
          "text": [
            "# A tibble: 6 × 4\n",
            "  case_barcode aliquot_barcode              sample_type_name    HTSeq__FPKM_UQ\n",
            "  <chr>        <chr>                        <chr>                        <dbl>\n",
            "1 TCGA-BH-A0DX TCGA-BH-A0DX-01A-11R-A115-07 Primary Tumor               25734.\n",
            "2 TCGA-E2-A10C TCGA-E2-A10C-01A-21R-A10J-07 Primary Tumor               49893.\n",
            "3 TCGA-BH-A0DO TCGA-BH-A0DO-11A-22R-A12D-07 Solid Tissue Normal         26668.\n",
            "4 TCGA-AR-A24X TCGA-AR-A24X-01A-11R-A169-07 Primary Tumor               65655.\n",
            "5 TCGA-E2-A572 TCGA-E2-A572-01A-13R-A31O-07 Primary Tumor               18924.\n",
            "6 TCGA-BH-A0BQ TCGA-BH-A0BQ-11A-33R-A115-07 Solid Tissue Normal         35066.\n"
          ]
        }
      ]
    },
    {
      "cell_type": "code",
      "metadata": {
        "id": "48080216",
        "colab": {
          "base_uri": "https://localhost:8080/",
          "height": 497
        },
        "outputId": "cc7127e6-ccef-4565-8a85-437f2a959473"
      },
      "source": [
        "%%R\n",
        "options(repr.plot.width=5, repr.plot.height=6)\n",
        "tumor <- unlist(expr_df[expr_df[,3] == 'Primary Tumor',4])\n",
        "normal <- unlist(expr_df[expr_df[,3] == 'Solid Tissue Normal',4])\n",
        "metastatic <- unlist(expr_df[expr_df[,3] == 'Metastatic',4])\n",
        "\n",
        "boxplot(list(normal, tumor, metastatic), names=c('normal', 'tumor', 'metastatic'), main='CCNB1 expression', ylab='upper-quartile fpkm')"
      ],
      "id": "48080216",
      "execution_count": 11,
      "outputs": [
        {
          "output_type": "display_data",
          "data": {
            "image/png": "[encoded data removed]"
          },
          "metadata": {}
        }
      ]
    },
    {
      "cell_type": "markdown",
      "metadata": {
        "id": "7962dcc3"
      },
      "source": [
        "As the size of the data of interest increases, calculating statistics on a local machine may become prohibitive. One of the benefits of BigQuery is that it scales compute power to the demands of the query. We can functions built into BQ to generate summary statistics."
      ],
      "id": "7962dcc3"
    },
    {
      "cell_type": "code",
      "metadata": {
        "id": "9b238642",
        "colab": {
          "base_uri": "https://localhost:8080/"
        },
        "outputId": "5fca9757-79ab-4185-9804-bf2ee83a283b"
      },
      "source": [
        "%%R\n",
        "# This query will calculate averages, standard deviations, maximums, and minimums\n",
        "summ_sql <- \"SELECT\n",
        "  project_short_name,\n",
        "  sample_type_name,\n",
        "  count( distinct aliquot_barcode ) count_aliq,\n",
        "  avg(HTSeq__FPKM_UQ) avg_fpkm,\n",
        "  stddev(HTSeq__FPKM_UQ) sdv_fpkm,\n",
        "  max(HTSeq__FPKM_UQ) max_fpkm,\n",
        "  min(HTSeq__FPKM_UQ) min_fpkm\n",
        "FROM `isb-cgc-bq.TCGA.RNAseq_hg38_gdc_current`\n",
        "WHERE gene_name = 'CCNB1'\n",
        "GROUP BY project_short_name, sample_type_name\n",
        "\"\n",
        "\n",
        "summ_query <- bq_project_query(project, query=summ_sql)\n",
        "summ_df <- bq_table_download(summ_query)\n",
        "head(summ_df)\n",
        "\n",
        "# Other functions such as count and distinct can add useful information\n",
        "#    count( distinct aliquot_barcode )\n",
        "# Retrieve results for all genes or for all projects by\n",
        "# removing gene_name from the WHERE clause \n",
        "# and adding it to SELECT and GROUP BY"
      ],
      "id": "9b238642",
      "execution_count": 12,
      "outputs": [
        {
          "output_type": "stream",
          "name": "stderr",
          "text": [
            "R[write to console]: Complete\n",
            "\n",
            "R[write to console]: Billed: 50.46 GB\n",
            "\n",
            "R[write to console]: Downloading first chunk of data.\n",
            "\n",
            "R[write to console]: First chunk includes all requested rows.\n",
            "\n"
          ]
        },
        {
          "output_type": "stream",
          "name": "stdout",
          "text": [
            "# A tibble: 6 × 7\n",
            "  project_short_name sample_type_name    count_aliq avg_fpkm sdv_fpkm max_fpkm\n",
            "  <chr>              <chr>                    <int>    <dbl>    <dbl>    <dbl>\n",
            "1 TCGA-BRCA          Primary Tumor             1102  487856.  330627. 2367487.\n",
            "2 TCGA-SARC          Primary Tumor              259  545409.  416261. 2207545.\n",
            "3 TCGA-THCA          Solid Tissue Normal         58  134963.   66662.  546708.\n",
            "4 TCGA-BLCA          Primary Tumor              414  733647.  482419. 3520079.\n",
            "5 TCGA-HNSC          Primary Tumor              500  875407.  482961. 3501559.\n",
            "6 TCGA-PCPG          Primary Tumor              178   75713.   35387.  296912.\n",
            "# … with 1 more variable: min_fpkm <dbl>\n"
          ]
        }
      ]
    },
    {
      "cell_type": "code",
      "metadata": {
        "id": "VFvnDjkbLpkw",
        "colab": {
          "base_uri": "https://localhost:8080/"
        },
        "outputId": "6406a5b9-66e7-4a77-ca48-01aed4d3ad4a"
      },
      "source": [
        "%%R\n",
        "# summ_sql <- \"SELECT\n",
        "#  sample_type_name,\n",
        "#  project_short_name,\n",
        "#  avg(HTSeq__FPKM_UQ) avg_fpkm,\n",
        "#  stddev(HTSeq__FPKM_UQ) sdv_fpkm,\n",
        "#  max(HTSeq__FPKM_UQ) max_fpkm,\n",
        "#  min(HTSeq__FPKM_UQ) min_fpkm\n",
        "#FROM `isb-cgc-bq.TCGA.RNAseq_hg38_gdc_current`\n",
        "#WHERE gene_name = 'CCNB1'\n",
        "#GROUP BY project_short_name,sample_type_name\""
      ],
      "id": "VFvnDjkbLpkw",
      "execution_count": 13,
      "outputs": [
        {
          "output_type": "stream",
          "name": "stdout",
          "text": [
            "NULL\n"
          ]
        }
      ]
    },
    {
      "cell_type": "markdown",
      "metadata": {
        "id": "851f4dfe"
      },
      "source": [
        "## Genome annotation\n",
        "If we need annotation information about a gene it's possible to quickly retrieve Gencode annotation from ISB-CGC hosted BigQuery tables.\n",
        "\n",
        "Table: *isb-cgc-bq.GENCODE_versioned.annotation_gtf_hg38_v22*"
      ],
      "id": "851f4dfe"
    },
    {
      "cell_type": "code",
      "metadata": {
        "id": "19c20855",
        "colab": {
          "base_uri": "https://localhost:8080/"
        },
        "outputId": "9a24bf80-ca4e-4e87-9cdd-e3962270ce9f"
      },
      "source": [
        "%%R\n",
        "annot_sql <- \"SELECT * \n",
        "FROM `isb-cgc-bq.GENCODE_versioned.annotation_gtf_hg38_v22`\n",
        "WHERE gene_name = 'CCNB1' \n",
        "  AND transcript_name = 'CCNB1-001'\"\n",
        "\n",
        "annot_query <- bq_project_query(project, query=annot_sql)\n",
        "annot_df <- bq_table_download(annot_query)\n",
        "annot_df"
      ],
      "id": "19c20855",
      "execution_count": 14,
      "outputs": [
        {
          "output_type": "stream",
          "name": "stderr",
          "text": [
            "R[write to console]: Complete\n",
            "\n",
            "R[write to console]: Billed: 947.91 MB\n",
            "\n",
            "R[write to console]: Downloading first chunk of data.\n",
            "\n",
            "R[write to console]: First chunk includes all requested rows.\n",
            "\n"
          ]
        },
        {
          "output_type": "stream",
          "name": "stdout",
          "text": [
            "# A tibble: 23 × 32\n",
            "   seq_name source feature        start      end frame strand gene_name gene_id \n",
            "   <chr>    <chr>  <chr>          <int>    <int> <chr> <chr>  <chr>     <chr>   \n",
            " 1 chr5     HAVANA CDS         69171270 69171452 .     +      CCNB1     ENSG000…\n",
            " 2 chr5     HAVANA CDS         69167908 69168078 .     +      CCNB1     ENSG000…\n",
            " 3 chr5     HAVANA CDS         69167263 69167283 .     +      CCNB1     ENSG000…\n",
            " 4 chr5     HAVANA start_codon 69167263 69167265 .     +      CCNB1     ENSG000…\n",
            " 5 chr5     HAVANA exon        69174877 69175113 .     +      CCNB1     ENSG000…\n",
            " 6 chr5     HAVANA UTR         69167010 69167262 .     +      CCNB1     ENSG000…\n",
            " 7 chr5     HAVANA exon        69168173 69168343 .     +      CCNB1     ENSG000…\n",
            " 8 chr5     HAVANA stop_codon  69177629 69177631 .     +      CCNB1     ENSG000…\n",
            " 9 chr5     HAVANA exon        69177524 69178245 .     +      CCNB1     ENSG000…\n",
            "10 chr5     HAVANA CDS         69177239 69177349 .     +      CCNB1     ENSG000…\n",
            "# … with 13 more rows, and 23 more variables: gene_id_v <chr>, gene_type <chr>,\n",
            "#   gene_status <chr>, transcript_name <chr>, transcript_id <chr>,\n",
            "#   transcript_id_v <chr>, transcript_status <chr>, transcript_type <chr>,\n",
            "#   transcript_support_level <int>, exon_number <int>, exon_id <chr>,\n",
            "#   exon_id_v <chr>, ccds_id <chr>, ccds_id_v <chr>, protein_id <chr>,\n",
            "#   protein_id_v <chr>, havana_gene <chr>, havana_gene_v <chr>,\n",
            "#   havana_transcript <chr>, havana_transcript_v <chr>, level <int>, …\n"
          ]
        }
      ]
    },
    {
      "cell_type": "markdown",
      "metadata": {
        "id": "67b485f2"
      },
      "source": [
        "## Mutation data\n",
        "You may encounter a mutation and wonder if it's represented in other cancer data. Given the gene annotation data from above we can query the somatic mutation table for mutations within a gene.\n",
        "\n",
        "Table: *isb-cgc-bq.TCGA.somatic_mutation_hg38_gdc_current*"
      ],
      "id": "67b485f2"
    },
    {
      "cell_type": "code",
      "metadata": {
        "id": "5771c69e",
        "colab": {
          "base_uri": "https://localhost:8080/"
        },
        "outputId": "71c2e4ee-1a53-404d-ec89-f9cb4dfbeea1"
      },
      "source": [
        "%%R\n",
        "# this query retrieves all mutations falling between the start codon and the stop codon of our gene.\n",
        "mut_sql <- \"SELECT case_barcode, \n",
        "    Chromosome, \n",
        "    Start_Position, \n",
        "    End_Position, \n",
        "    Reference_Allele, \n",
        "    Tumor_Seq_Allele1, \n",
        "    Tumor_Seq_Allele2\n",
        "FROM `isb-cgc-bq.TCGA.somatic_mutation_hg38_gdc_current`\n",
        "WHERE Chromosome = 'chr5'\n",
        "    AND Start_Position >= 69167263\n",
        "    AND End_Position <= 69177631\"\n",
        "\n",
        "mut_query <- bq_project_query(project, query=mut_sql)\n",
        "mut_df <- bq_table_download(mut_query)\n",
        "head(mut_df)\n",
        "nrow(mut_df)"
      ],
      "id": "5771c69e",
      "execution_count": 15,
      "outputs": [
        {
          "output_type": "stream",
          "name": "stderr",
          "text": [
            "R[write to console]: Complete\n",
            "\n",
            "R[write to console]: Billed: 164.63 MB\n",
            "\n",
            "R[write to console]: Downloading first chunk of data.\n",
            "\n",
            "R[write to console]: First chunk includes all requested rows.\n",
            "\n"
          ]
        },
        {
          "output_type": "stream",
          "name": "stdout",
          "text": [
            "[1] 68\n"
          ]
        }
      ]
    },
    {
      "cell_type": "code",
      "metadata": {
        "id": "dac2c8d9",
        "colab": {
          "base_uri": "https://localhost:8080/",
          "height": 497
        },
        "outputId": "fe9851d7-8493-45e8-a7d2-24a2a179ebeb"
      },
      "source": [
        "%%R\n",
        "# we can plot the positions and number of mutations on the chromosome\n",
        "options(repr.plot.width=15, repr.plot.height=4)\n",
        "mut_count <- table(mut_df[,3])\n",
        "max_count <- max(mut_count)\n",
        "plot(NA, xlim=c(min(mut_df[,3])-1000, max(mut_df[,3])+1000), ylim=c(-0.3,max_count), \n",
        "     yaxt='n', bty='n', main='', xlab='Chr5 position', ylab='occurance count')\n",
        "jnk <- apply(annot_df[annot_df$feature == 'exon',], 1, function(row){\n",
        "    rect(row[4], -0.2, row[5], -0.1, col='green')\n",
        "})\n",
        "axis(2, at=seq(0,3,1))\n",
        "jnk <- sapply(1:length(mut_count), function(ix){\n",
        "    x <- as.numeric(names(mut_count)[ix])\n",
        "    segments(x, 0, x, mut_count[ix])\n",
        "    })"
      ],
      "id": "dac2c8d9",
      "execution_count": 17,
      "outputs": [
        {
          "output_type": "display_data",
          "data": {
            "image/png": "[encoded data removed]"
          },
          "metadata": {}
        }
      ]
    },
    {
      "cell_type": "code",
      "metadata": {
        "id": "c71f3de9",
        "colab": {
          "base_uri": "https://localhost:8080/"
        },
        "outputId": "cd69163d-8d52-404f-e874-f77bdd7cb4c1"
      },
      "source": [
        "%%R\n",
        "sql <- \"SELECT\n",
        "    case_barcode, \n",
        "    Chromosome, \n",
        "    Start_Position, \n",
        "    End_Position, \n",
        "    Reference_Allele, \n",
        "    Tumor_Seq_Allele1, \n",
        "    Tumor_Seq_Allele2\n",
        "FROM `isb-cgc-bq.TCGA.somatic_mutation_hg38_gdc_current`\n",
        "WHERE \n",
        "    Chromosome = 'chr5'\n",
        "    AND ( (Start_Position < 69067135 and Start_Position > 69167135)\n",
        "        or (End_Position > 69177358 and End_Position < 69277358) )\"\n",
        "\n",
        "query <- bq_project_query(project, query=sql)\n",
        "df <- bq_table_download(query)\n",
        "head(df)"
      ],
      "id": "c71f3de9",
      "execution_count": 18,
      "outputs": [
        {
          "output_type": "stream",
          "name": "stderr",
          "text": [
            "R[write to console]: Complete\n",
            "\n",
            "R[write to console]: Billed: 164.63 MB\n",
            "\n",
            "R[write to console]: Downloading first chunk of data.\n",
            "\n",
            "R[write to console]: First chunk includes all requested rows.\n",
            "\n"
          ]
        },
        {
          "output_type": "stream",
          "name": "stdout",
          "text": [
            "# A tibble: 6 × 7\n",
            "  case_barcode Chromosome Start_Position End_Position Reference_Allele\n",
            "  <chr>        <chr>               <int>        <int> <chr>           \n",
            "1 TCGA-EY-A1GI chr5             69277338     69277338 A               \n",
            "2 TCGA-FW-A3R5 chr5             69209874     69209874 C               \n",
            "3 TCGA-DU-6392 chr5             69217801     69217801 G               \n",
            "4 TCGA-LD-A74U chr5             69189588     69189588 C               \n",
            "5 TCGA-BS-A0UF chr5             69255625     69255625 G               \n",
            "6 TCGA-64-5779 chr5             69226349     69226349 A               \n",
            "# … with 2 more variables: Tumor_Seq_Allele1 <chr>, Tumor_Seq_Allele2 <chr>\n"
          ]
        }
      ]
    },
    {
      "cell_type": "markdown",
      "metadata": {
        "id": "a07269ab"
      },
      "source": [
        "## Table joins\n",
        "Many use cases for researchers require combined data from multiple of the tables we worked with in the previous examples. How do we join these data using BigQuery?\n",
        "\n",
        "Tables:\n",
        "*   *isb-cgc-bq.TCGA.clinical_gdc_current*\n",
        "*   *isb-cgc-bq.TCGA.somatic_mutation_hg38_gdc_current*"
      ],
      "id": "a07269ab"
    },
    {
      "cell_type": "code",
      "metadata": {
        "id": "ba2fbeaf",
        "colab": {
          "base_uri": "https://localhost:8080/"
        },
        "outputId": "c6837725-9ed3-41a5-c312-5894c8cde566"
      },
      "source": [
        "%%R\n",
        "sql <- \"SELECT\n",
        "    mut.case_barcode,\n",
        "    mut.Chromosome, \n",
        "    mut.Start_Position, \n",
        "    mut.End_Position, \n",
        "    mut.Reference_Allele, \n",
        "    mut.Tumor_Seq_Allele1, \n",
        "    mut.Tumor_Seq_Allele2, \n",
        "    clin.demo__vital_status \n",
        "FROM `isb-cgc-bq.TCGA.clinical_gdc_current` clin\n",
        "JOIN `isb-cgc-bq.TCGA.somatic_mutation_hg38_gdc_current` mut \n",
        "    ON clin.submitter_id = mut.case_barcode\n",
        "WHERE mut.project_short_name = 'TCGA-BRCA'\"\n",
        "\n",
        "query <- bq_project_query(project, query=sql)\n",
        "df <- bq_table_download(query)\n",
        "head(df)"
      ],
      "id": "ba2fbeaf",
      "execution_count": 19,
      "outputs": [
        {
          "output_type": "stream",
          "name": "stderr",
          "text": [
            "R[write to console]: Complete\n",
            "\n",
            "R[write to console]: Billed: 204.47 MB\n",
            "\n",
            "R[write to console]: Downloading first chunk of data.\n",
            "\n",
            "R[write to console]: First chunk includes all requested rows.\n",
            "\n"
          ]
        },
        {
          "output_type": "stream",
          "name": "stdout",
          "text": [
            "# A tibble: 6 × 8\n",
            "  case_barcode Chromosome Start_Position End_Position Reference_Allele\n",
            "  <chr>        <chr>               <int>        <int> <chr>           \n",
            "1 TCGA-AN-A0G0 chr2             96240496     96240498 CTC             \n",
            "2 TCGA-C8-A1HJ chr16             2386226      2386240 CATCGGCATCGCCCT \n",
            "3 TCGA-D8-A1JN chr11             1097353      1097359 ATCGACA         \n",
            "4 TCGA-E2-A573 chr10           118052167    118052173 AGTAAGA         \n",
            "5 TCGA-HN-A2NL chr7            108884555    108884559 CATTG           \n",
            "6 TCGA-3C-AALI chr8             18223133     18223135 AAA             \n",
            "# … with 3 more variables: Tumor_Seq_Allele1 <chr>, Tumor_Seq_Allele2 <chr>,\n",
            "#   demo__vital_status <chr>\n"
          ]
        }
      ]
    },
    {
      "cell_type": "code",
      "metadata": {
        "id": "603bb27b",
        "colab": {
          "base_uri": "https://localhost:8080/",
          "height": 497
        },
        "outputId": "19e97d53-afbd-4c4f-ed62-c3cdbeb68e5e"
      },
      "source": [
        "%%R\n",
        "options(repr.plot.width=5, repr.plot.height=6)\n",
        "muts_alive <- as.vector(table(df[df['demo__vital_status'] == 'Alive','case_barcode']))\n",
        "muts_dead <- as.vector(table(df[df['demo__vital_status'] == 'Dead','case_barcode']))\n",
        "boxplot(muts_alive, muts_dead, ylim=c(0,1000), \n",
        "  names=c('Alive', 'Dead'), ylab='mutations')"
      ],
      "id": "603bb27b",
      "execution_count": 20,
      "outputs": [
        {
          "output_type": "display_data",
          "data": {
            "image/png": "[encoded data removed]"
          },
          "metadata": {}
        }
      ]
    }
  ]
}