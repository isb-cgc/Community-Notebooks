{
  "nbformat": 4,
  "nbformat_minor": 0,
  "metadata": {
    "colab": {
      "name": "BigQuerySurvival.ipynb",
      "provenance": [],
      "collapsed_sections": [],
      "include_colab_link": true
    },
    "kernelspec": {
      "name": "ir",
      "display_name": "R"
    },
    "language_info": {
      "name": "R"
    }
  },
  "cells": [
    {
      "cell_type": "markdown",
      "metadata": {
        "id": "view-in-github",
        "colab_type": "text"
      },
      "source": [
        "<a href=\"https://colab.research.google.com/github/isb-cgc/Community-Notebooks/blob/master/TeachingMaterials/2021-10-NIHLibrarySession/BigQuerySurvival.ipynb\" target=\"_parent\"><img src=\"https://colab.research.google.com/assets/colab-badge.svg\" alt=\"Open In Colab\"/></a>"
      ]
    },
    {
      "cell_type": "markdown",
      "metadata": {
        "id": "ZvlcmLOgLklQ"
      },
      "source": [
        "# Survival Analysis and BigQuery\n",
        "\n",
        "This notebook demonstrates how to use BigQuery to gather data to use in Survival analysis. We will be using mutation of the BRCA gene to predict the survival between mutation of BRCA and normal."
      ]
    },
    {
      "cell_type": "markdown",
      "metadata": {
        "id": "2y6OW7WnOsGy"
      },
      "source": [
        "## Load Libraries and Authorize with BigQuery"
      ]
    },
    {
      "cell_type": "markdown",
      "metadata": {
        "id": "HM4wfR4cJAyL"
      },
      "source": [
        "### Packages\n",
        "\n",
        "| Package | Description |\n",
        "| :--- | :--- |\n",
        "| [bigrquery](https://bigrquery.r-dbi.org/) | The bigrquery package makes it easy to work with data stored in Google BigQuery by allowing you to query BigQuery tables and retrieve metadata about your projects, datasets, tables, and jobs. |\n",
        "| [tidyverse](https://www.tidyverse.org/packages/) | A compilation package including ggplot2, dplyr, tibble, and stringr. |\n",
        "| [survival](https://cran.r-project.org/web/packages/survival/index.html) | Contains the core survival analysis routines, including definition of Surv objects, Kaplan-Meier and Aalen-Johansen (multi-state) curves, Cox models, and parametric accelerated failure time models. |\n",
        "| [ggfortify](https://cran.r-project.org/web/packages/ggfortify/index.html) | Unified plotting tools for statistics commonly used, such as GLM, time series, PCA families, clustering, and survival analysis. The package offers a single plotting interface for these analysis results and plots in a unified style using 'ggplot2'. |"
      ]
    },
    {
      "cell_type": "code",
      "metadata": {
        "id": "yecImToI97Ws"
      },
      "source": [
        "#Load Libraries\n",
        "if (!require(bigrquery)) {\n",
        "  print('Installing bigrquery package')\n",
        "  install.packages('bigrquery')\n",
        "  if (!require(bigrquery)) {\n",
        "    print('Cannot install bigrquery package')\n",
        "  }\n",
        "}\n",
        "\n",
        "if (!require(tidyverse)) {\n",
        "  print('Installing tidyverse package')\n",
        "  install.packages('tidyverse')\n",
        "  if (!require(tidyverse)) {\n",
        "    print('Cannot install tidyverse package')\n",
        "  }\n",
        "}\n",
        "\n",
        "if (!require(survival)) {\n",
        "  print('Installing survival package')\n",
        "  install.packages('survival')\n",
        "  if (!require(survival)) {\n",
        "    print('Cannot install survival package')\n",
        "  }\n",
        "}\n",
        "\n",
        "if (!require(ggfortify)) {\n",
        "  print('Installing ggfortify package')\n",
        "  install.packages('ggfortify')\n",
        "  if (!require(ggfortify)) {\n",
        "    print('Cannot install ggfortify package')\n",
        "  }\n",
        "}"
      ],
      "execution_count": null,
      "outputs": []
    },
    {
      "cell_type": "markdown",
      "metadata": {
        "id": "z4i-kzUiZpbH"
      },
      "source": [
        "## Authenticate to Access BigQuery\n",
        "Before using BigQuery, we need to get authorization for access to BigQuery and the Google Cloud. For more information see 'Quick Start Guide to ISB-CGC'. R notebooks that use the BigRQuery library need the following work-around to authenticate. See the following link: https://gist.github.com/jobdiogenes/235620928c84e604c6e56211ccf681f0"
      ]
    },
    {
      "cell_type": "code",
      "metadata": {
        "id": "6-bHuF3uZwJr"
      },
      "source": [
        "# NOTE: this cell is only required if you're using Google Colab\n",
        "if (!require('R.utils')) {\n",
        "    print('Installing R.utils package')\n",
        "    install.packages(\"R.utils\")\n",
        "    if (!require('R.utils')) {\n",
        "        print('Cannot install R.utils package')\n",
        "    }\n",
        "}\n",
        "\n",
        "if (!require('httr')) {\n",
        "    print('Installing httr package')\n",
        "    install.pckages('httr')\n",
        "    if (!require('httr')) {\n",
        "        print('Cannot install httr package')\n",
        "    }\n",
        "}\n",
        "\n",
        "my_check <- function() {return(TRUE)}\n",
        "reassignInPackage(\"is_interactive\", pkgName = \"httr\", my_check) \n",
        "options(rlang_interactive=TRUE)"
      ],
      "execution_count": null,
      "outputs": []
    },
    {
      "cell_type": "code",
      "metadata": {
        "id": "AOLXPmbuZw8O"
      },
      "source": [
        "# Now authenticate to BQ. Be sure to select the BigQuery scope!\n",
        "bq_auth(use_oob = TRUE, cache = TRUE)"
      ],
      "execution_count": null,
      "outputs": []
    },
    {
      "cell_type": "code",
      "metadata": {
        "id": "MKPM_tWLaG-a"
      },
      "source": [
        "# Set your Google Project\n",
        "project = 'your-project here' # Update to your Google Project"
      ],
      "execution_count": null,
      "outputs": []
    },
    {
      "cell_type": "markdown",
      "metadata": {
        "id": "yKiSpyJqbvgs"
      },
      "source": [
        "# Gather Data"
      ]
    },
    {
      "cell_type": "markdown",
      "metadata": {
        "id": "DVYYuQje95uq"
      },
      "source": [
        "## Technical terms\n",
        "\n",
        "| Name | Description |\n",
        "| :--- | :--- |\n",
        "| isb-cgc-bq | Google project name of ISB-CGC |\n",
        "| TCGA.somatic_mutation_hg38_gdc_current | BigQuery dataset and table containing TCGA somatic mutation data |\n",
        "| TCGA.clinical_gdc_current | BigQuery dataset and table containing TCGA clinical data |\n",
        "| project_short_name | The column name with the project name abbreviation |\n",
        "| Hugo_Symbol| The HUGO symbol for the gene |\n",
        "| demo__vital_status | The column with the survival state of the patient |\n",
        "| demo__days_to_death | The column with the number of days between the date used for index and the date from the patient's death |\n",
        "| diag__days_to_last_follow_up | The column with the days between the initial diagnosis and the last follow with the patient |"
      ]
    },
    {
      "cell_type": "markdown",
      "metadata": {
        "id": "5Dpj31tLL1qz"
      },
      "source": [
        "## Retrieve Patient BRCA Mutation Status from BigQuery\n",
        "The first component of our data set is the status of the ERBB2 mutation for the patient. \n",
        "\n",
        "Table: *isb-cgc-bq.TCGA.somatic_mutation_hg38_gdc_current*"
      ]
    },
    {
      "cell_type": "code",
      "metadata": {
        "id": "EB32sfBRL0e0"
      },
      "source": [
        "cohort_query <- \"WITH t AS (\n",
        "            SELECT case_id, Hugo_Symbol\n",
        "            FROM `isb-cgc-bq.TCGA.somatic_mutation_hg38_gdc_current`\n",
        "            WHERE\n",
        "              project_short_name = 'TCGA-BRCA')\n",
        "            SELECT DISTINCT case_id,\n",
        "              CASE\n",
        "                WHEN Hugo_Symbol = 'ERBB2' THEN 'ERBB2'\n",
        "                ELSE 'none'\n",
        "              END\n",
        "              AS gene_status\n",
        "            FROM t\n",
        "            ORDER BY gene_status\"\n",
        "# Run the query\n",
        "cohort <- bq_project_query(project, cohort_query, quiet = TRUE) \n",
        "# Create a dataframe with the results from the query\n",
        "cohort <- bq_table_download(cohort, quiet = TRUE)\n",
        "# Show the dataframe\n",
        "summary(cohort)"
      ],
      "execution_count": null,
      "outputs": []
    },
    {
      "cell_type": "markdown",
      "metadata": {
        "id": "rkkCXRfhiKzt"
      },
      "source": [
        "## Retrieve Clinical Data From BigQuery\n",
        "\n",
        "The other important component of our data set is the patient's vital status and either days to death or days to last follow up.\n",
        "\n",
        "Table: *isb-cgc-bq.TCGA.clinical_gdc_current*"
      ]
    },
    {
      "cell_type": "code",
      "metadata": {
        "id": "xtDkuTUqiS9K"
      },
      "source": [
        "survival_query <- str_c(\"\n",
        "  SELECT \n",
        "    case_id,\n",
        "    submitter_id,\n",
        "    demo__vital_status,\n",
        "    demo__days_to_death,\n",
        "    diag__days_to_last_follow_up\n",
        "  FROM `isb-cgc-bq.TCGA.clinical_gdc_current`\n",
        "  WHERE\n",
        "    case_id IN ('\", str_c(cohort$case_id, collapse = \"', '\"),\"') AND\n",
        "    demo__vital_status IS NOT NULL\")\n",
        "\n",
        "survival_request <- bq_project_query(project, survival_query)\n",
        "survival_data <- bq_table_download(survival_request)\n",
        "survival <- left_join(survival_data, cohort, key = \"case_id\")\n",
        "head(survival)"
      ],
      "execution_count": null,
      "outputs": []
    },
    {
      "cell_type": "markdown",
      "metadata": {
        "id": "_kekkxuXiiMg"
      },
      "source": [
        "# Clean Data\n",
        "\n",
        "We want to make sure that the data is cleaned of duplicates, empty cells, missing data, and create one column for days to death and days to last follow up."
      ]
    },
    {
      "cell_type": "code",
      "metadata": {
        "id": "tX0CwYAwikZD"
      },
      "source": [
        "# Add a column for status at the end\n",
        "survival$days_to_event <- survival$demo__days_to_death\n",
        "\n",
        "# Fill in NAs for alive cases with days to last follow-up\n",
        "for (row in 1:nrow( survival)) {\n",
        "  if (survival$demo__vital_status[row] == 'Alive' && is.na(survival$days_to_event[row])){\n",
        "    survival$days_to_event[row] <- survival$diag__days_to_last_follow_up[row]\n",
        "  }\n",
        "}\n",
        "\n",
        "# Remove duplicates in the gene status column keeping the mutation\n",
        "\n",
        "survival <- arrange(survival, gene_status)\n",
        "survival <- survival[!duplicated(survival$case_id),]\n",
        "\n",
        "# Filter out cases marked as dead but have no data for days to death and negative days\n",
        "survival <- filter(survival, !(demo__vital_status==\"Dead\"&days_to_event==\"NA\")&days_to_event>=1)\n",
        "\n",
        "# Convert the vital status to numbers\n",
        "survival$vital_status <- ifelse(survival$demo__vital_status=='Alive', 0, 1)\n",
        "\n",
        "head(survival)"
      ],
      "execution_count": null,
      "outputs": []
    },
    {
      "cell_type": "markdown",
      "metadata": {
        "id": "5xIZZJ5KiniF"
      },
      "source": [
        "# Analyze Data\n",
        "\n",
        "Finally, we can create the survival analysis and plot the results."
      ]
    },
    {
      "cell_type": "code",
      "metadata": {
        "id": "8TmrM-CLBlQk"
      },
      "source": [
        "# create a survival curve plot\n",
        "autoplot(survfit(Surv(days_to_event, vital_status) ~ gene_status, data = survival)) +\n",
        "  labs(title = \"Survival Curve\",\n",
        "       y = \"Percent Survival\", \n",
        "       x = \"Days\") +\n",
        "  theme(legend.title=element_blank())"
      ],
      "execution_count": null,
      "outputs": []
    },
    {
      "cell_type": "code",
      "metadata": {
        "id": "a9aaLHJqBigy"
      },
      "source": [
        "# Analyze the differences between groups with a Log-Rank Test\n",
        "survdiff(Surv(days_to_event, vital_status) ~ gene_status, data = survival)"
      ],
      "execution_count": null,
      "outputs": []
    },
    {
      "cell_type": "markdown",
      "metadata": {
        "id": "YP2eXvTFNE1m"
      },
      "source": [
        "## Conclusion\n",
        "\n",
        "The log-rank test in `survdiff` indicates that there is a significant difference between the curves and that there is a difference in outcome based on the mutation of the ERBB2 gene."
      ]
    },
    {
      "cell_type": "markdown",
      "metadata": {
        "id": "YmtSFsK7hTSC"
      },
      "source": [
        "# Follow-up Exercises\n",
        "\n",
        "Practice your BigQuery skills by trying to solve the following exercises on your own. Come to our offices hours to see the solutions."
      ]
    },
    {
      "cell_type": "markdown",
      "metadata": {
        "id": "ics93JI7991H"
      },
      "source": [
        "We have seen that the ERBB2 gene has an effect on the survival outcome of a patient but do other common genes in Breast Cancer have a similar effect?\n",
        "\n",
        "- Does a mutation in the gene BRCA1 affect survival outcomes?\n",
        "- How about BRCA2?\n",
        "\n",
        "Does a mutation in the ERBB2 gene have an effect on the survival outcome for other cancers besides Breast Cancer?\n",
        "- Does a mutation in ERBB2 affect survival outcomes in Ovarian Cancer?"
      ]
    },
    {
      "cell_type": "markdown",
      "metadata": {
        "id": "spA82OzwhU17"
      },
      "source": [
        "## Additional Reading\n",
        "\n",
        "### ERBB2 and Breast Cancer\n",
        "\n",
        "Kurozumi, S., Alsaleem, M., Monteiro, C.J. et al. Targetable ERBB2 mutation status is an independent marker of adverse prognosis in estrogen receptor positive, ERBB2 non-amplified primary lobular breast carcinoma: a retrospective in silico analysis of public datasets. Breast Cancer Res 22, 85 (2020). https://doi.org/10.1186/s13058-020-01324-4\n",
        "\n",
        "\n",
        "Ping, Zheng et al. “ERBB2 mutation is associated with a worse prognosis in patients with CDH1 altered invasive lobular cancer of the breast.” Oncotarget vol. 7,49 (2016): 80655-80663. https://doi:10.18632/oncotarget.13019\n",
        "\n",
        "\n",
        "Griffith, Obi L et al. “The prognostic effects of somatic mutations in ER-positive breast cancer.” Nature communications vol. 9,1 3476. 4 Sep. 2018, doi:10.1038/s41467-018-05914-x\n",
        "\n",
        "\n",
        "### Survival Analysis\n",
        "\n",
        "Rich, Jason T et al. “A practical guide to understanding Kaplan-Meier curves.” Otolaryngology--head and neck surgery : official journal of American Academy of Otolaryngology-Head and Neck Surgery vol. 143,3 (2010): 331-6. [doi:10.1016/j.otohns.2010.05.007](doi:10.1016/j.otohns.2010.05.007)"
      ]
    },
    {
      "cell_type": "markdown",
      "metadata": {
        "id": "SmB9FzoG98RP"
      },
      "source": [
        "# Contact US\n",
        "Please contact us to learn more about BigQuery, to discuss cost considerations when working with BigQuery projects, or to discuss any projects you feel may benefit from the ISB-CGC Platform.\n",
        "\n",
        "* Email us: feedback@isb-cgc.org\n",
        "* Check out our website: https://isb-cgc.org\n",
        "* Visit our [office hours](https://isb-cancer-genomics-cloud.readthedocs.io/en/latest/sections/office_hours.html)"
      ]
    }
  ]
}
